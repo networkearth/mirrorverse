{
 "cells": [
  {
   "cell_type": "code",
   "execution_count": 1,
   "metadata": {},
   "outputs": [],
   "source": [
    "import pandas as pd\n",
    "import numpy as np\n",
    "import plotly.express as px\n",
    "from plotly.subplots import make_subplots\n",
    "import plotly.graph_objects as go\n",
    "import os\n",
    "import h3\n",
    "import itertools\n",
    "from tqdm import tqdm\n",
    "from multiprocessing import Pool\n",
    "from scipy.stats import norm\n",
    "from collections import defaultdict\n",
    "from sklearn.cluster import AgglomerativeClustering\n",
    "\n",
    "from mirrorverse.warehouse.utils import get_engine\n",
    "from mirrorverse.chinook.states import spatial_key_to_index\n",
    "\n",
    "pd.options.mode.chained_assignment = None\n",
    "\n",
    "os.environ[\"DATABASE_URL\"] = \"sqlite:////workspaces/mirrorverse/mirrorverse.db\""
   ]
  },
  {
   "cell_type": "markdown",
   "metadata": {},
   "source": [
    "# Load the Data"
   ]
  },
  {
   "cell_type": "code",
   "execution_count": 2,
   "metadata": {},
   "outputs": [
    {
     "name": "stdout",
     "output_type": "stream",
     "text": [
      "2024-05-19 10:39:52,902 INFO sqlalchemy.engine.Engine BEGIN (implicit)\n",
      "2024-05-19 10:39:52,902 INFO sqlalchemy.engine.Engine PRAGMA main.table_info(\"\n",
      "select \n",
      "    tag_key,\n",
      "    date_key,\n",
      "    depth,\n",
      "    epoch\n",
      "from \n",
      "    tag_depths\n",
      "\")\n",
      "2024-05-19 10:39:52,903 INFO sqlalchemy.engine.Engine [raw sql] ()\n",
      "2024-05-19 10:39:52,904 INFO sqlalchemy.engine.Engine PRAGMA temp.table_info(\"\n",
      "select \n",
      "    tag_key,\n",
      "    date_key,\n",
      "    depth,\n",
      "    epoch\n",
      "from \n",
      "    tag_depths\n",
      "\")\n",
      "2024-05-19 10:39:52,905 INFO sqlalchemy.engine.Engine [raw sql] ()\n",
      "2024-05-19 10:39:52,906 INFO sqlalchemy.engine.Engine \n",
      "select \n",
      "    tag_key,\n",
      "    date_key,\n",
      "    depth,\n",
      "    epoch\n",
      "from \n",
      "    tag_depths\n",
      "\n",
      "2024-05-19 10:39:52,907 INFO sqlalchemy.engine.Engine [raw sql] ()\n",
      "2024-05-19 10:39:55,785 INFO sqlalchemy.engine.Engine ROLLBACK\n",
      "(1033662, 4)\n"
     ]
    },
    {
     "data": {
      "text/html": [
       "<div>\n",
       "<style scoped>\n",
       "    .dataframe tbody tr th:only-of-type {\n",
       "        vertical-align: middle;\n",
       "    }\n",
       "\n",
       "    .dataframe tbody tr th {\n",
       "        vertical-align: top;\n",
       "    }\n",
       "\n",
       "    .dataframe thead th {\n",
       "        text-align: right;\n",
       "    }\n",
       "</style>\n",
       "<table border=\"1\" class=\"dataframe\">\n",
       "  <thead>\n",
       "    <tr style=\"text-align: right;\">\n",
       "      <th></th>\n",
       "      <th>tag_key</th>\n",
       "      <th>date_key</th>\n",
       "      <th>depth</th>\n",
       "      <th>epoch</th>\n",
       "    </tr>\n",
       "  </thead>\n",
       "  <tbody>\n",
       "    <tr>\n",
       "      <th>0</th>\n",
       "      <td>129843</td>\n",
       "      <td>1387411200</td>\n",
       "      <td>83.4</td>\n",
       "      <td>1387411200</td>\n",
       "    </tr>\n",
       "    <tr>\n",
       "      <th>1</th>\n",
       "      <td>129843</td>\n",
       "      <td>1387411200</td>\n",
       "      <td>80.7</td>\n",
       "      <td>1387412100</td>\n",
       "    </tr>\n",
       "    <tr>\n",
       "      <th>2</th>\n",
       "      <td>129843</td>\n",
       "      <td>1387411200</td>\n",
       "      <td>91.5</td>\n",
       "      <td>1387413000</td>\n",
       "    </tr>\n",
       "    <tr>\n",
       "      <th>3</th>\n",
       "      <td>129843</td>\n",
       "      <td>1387411200</td>\n",
       "      <td>91.5</td>\n",
       "      <td>1387413900</td>\n",
       "    </tr>\n",
       "    <tr>\n",
       "      <th>4</th>\n",
       "      <td>129843</td>\n",
       "      <td>1387411200</td>\n",
       "      <td>88.8</td>\n",
       "      <td>1387414800</td>\n",
       "    </tr>\n",
       "  </tbody>\n",
       "</table>\n",
       "</div>"
      ],
      "text/plain": [
       "  tag_key    date_key  depth       epoch\n",
       "0  129843  1387411200   83.4  1387411200\n",
       "1  129843  1387411200   80.7  1387412100\n",
       "2  129843  1387411200   91.5  1387413000\n",
       "3  129843  1387411200   91.5  1387413900\n",
       "4  129843  1387411200   88.8  1387414800"
      ]
     },
     "execution_count": 2,
     "metadata": {},
     "output_type": "execute_result"
    }
   ],
   "source": [
    "sql = '''\n",
    "select \n",
    "    tag_key,\n",
    "    date_key,\n",
    "    depth,\n",
    "    epoch\n",
    "from \n",
    "    tag_depths\n",
    "'''\n",
    "depth = pd.read_sql(sql, get_engine())\n",
    "depth = depth[~np.isnan(depth['depth'])]\n",
    "print(depth.shape)\n",
    "depth.head()"
   ]
  },
  {
   "cell_type": "code",
   "execution_count": 3,
   "metadata": {},
   "outputs": [
    {
     "data": {
      "text/html": [
       "<div>\n",
       "<style scoped>\n",
       "    .dataframe tbody tr th:only-of-type {\n",
       "        vertical-align: middle;\n",
       "    }\n",
       "\n",
       "    .dataframe tbody tr th {\n",
       "        vertical-align: top;\n",
       "    }\n",
       "\n",
       "    .dataframe thead th {\n",
       "        text-align: right;\n",
       "    }\n",
       "</style>\n",
       "<table border=\"1\" class=\"dataframe\">\n",
       "  <thead>\n",
       "    <tr style=\"text-align: right;\">\n",
       "      <th></th>\n",
       "      <th>tag_key</th>\n",
       "      <th>date_key</th>\n",
       "      <th>depth</th>\n",
       "      <th>epoch</th>\n",
       "      <th>depth_class</th>\n",
       "    </tr>\n",
       "  </thead>\n",
       "  <tbody>\n",
       "    <tr>\n",
       "      <th>0</th>\n",
       "      <td>129843</td>\n",
       "      <td>1387411200</td>\n",
       "      <td>83.4</td>\n",
       "      <td>1387411200</td>\n",
       "      <td>100</td>\n",
       "    </tr>\n",
       "    <tr>\n",
       "      <th>1</th>\n",
       "      <td>129843</td>\n",
       "      <td>1387411200</td>\n",
       "      <td>80.7</td>\n",
       "      <td>1387412100</td>\n",
       "      <td>100</td>\n",
       "    </tr>\n",
       "    <tr>\n",
       "      <th>2</th>\n",
       "      <td>129843</td>\n",
       "      <td>1387411200</td>\n",
       "      <td>91.5</td>\n",
       "      <td>1387413000</td>\n",
       "      <td>100</td>\n",
       "    </tr>\n",
       "    <tr>\n",
       "      <th>3</th>\n",
       "      <td>129843</td>\n",
       "      <td>1387411200</td>\n",
       "      <td>91.5</td>\n",
       "      <td>1387413900</td>\n",
       "      <td>100</td>\n",
       "    </tr>\n",
       "    <tr>\n",
       "      <th>4</th>\n",
       "      <td>129843</td>\n",
       "      <td>1387411200</td>\n",
       "      <td>88.8</td>\n",
       "      <td>1387414800</td>\n",
       "      <td>100</td>\n",
       "    </tr>\n",
       "  </tbody>\n",
       "</table>\n",
       "</div>"
      ],
      "text/plain": [
       "  tag_key    date_key  depth       epoch  depth_class\n",
       "0  129843  1387411200   83.4  1387411200          100\n",
       "1  129843  1387411200   80.7  1387412100          100\n",
       "2  129843  1387411200   91.5  1387413000          100\n",
       "3  129843  1387411200   91.5  1387413900          100\n",
       "4  129843  1387411200   88.8  1387414800          100"
      ]
     },
     "execution_count": 3,
     "metadata": {},
     "output_type": "execute_result"
    }
   ],
   "source": [
    "def select_a_class(depth, depth_classes):\n",
    "    sd = depth * 0.08 / 1.96 # ~two standard deviations gives our 95% confidence interval\n",
    "    if sd == 0:\n",
    "        division = np.zeros(len(depth_classes))\n",
    "        division[0] = 1\n",
    "    else:\n",
    "        # we're going to assume the depth classes are sorted\n",
    "        z = (depth_classes - depth) / sd\n",
    "        division = norm.cdf(z)\n",
    "        division[1:] = division[1:] - division[:-1]\n",
    "    # if there aren't quite enough depth classes the \n",
    "    # probabilities may not sum to 1, so we'll normalize\n",
    "    division = division / division.sum()\n",
    "    #if len(division[np.isnan(division)]) != 0:\n",
    "    #    return np.nan\n",
    "    return np.random.choice(depth_classes, p=division)\n",
    "\n",
    "min_size = 0.01\n",
    "depth_classes = np.array([25, 50, 75, 100, 150, 200, 250, 300, 400, 500])\n",
    "\n",
    "depth['depth_class'] = depth['depth'].apply(lambda x: select_a_class(x, depth_classes))\n",
    "depth.head()"
   ]
  },
  {
   "cell_type": "code",
   "execution_count": 4,
   "metadata": {},
   "outputs": [
    {
     "name": "stdout",
     "output_type": "stream",
     "text": [
      "(1033662, 5)\n",
      "(103366, 5)\n"
     ]
    }
   ],
   "source": [
    "print(depth.shape)\n",
    "depth = depth.sample(int(depth.shape[0] / len(depth_classes)), replace=True)\n",
    "print(depth.shape)"
   ]
  },
  {
   "cell_type": "markdown",
   "metadata": {},
   "source": [
    "# Add Context"
   ]
  },
  {
   "cell_type": "code",
   "execution_count": 5,
   "metadata": {},
   "outputs": [
    {
     "name": "stdout",
     "output_type": "stream",
     "text": [
      "2024-05-19 10:40:49,308 INFO sqlalchemy.engine.Engine BEGIN (implicit)\n",
      "2024-05-19 10:40:49,309 INFO sqlalchemy.engine.Engine \n",
      "select \n",
      "    tt.*,\n",
      "    h.home_region,\n",
      "    e.elevation\n",
      "from \n",
      "    tag_tracks tt \n",
      "    left join home_regions h\n",
      "        on tt.tag_key = h.tag_key\n",
      "    left join elevation e \n",
      "        on tt.h3_level_4_key = e.h3_level_4_key\n",
      "\n",
      "2024-05-19 10:40:49,309 INFO sqlalchemy.engine.Engine [raw sql] ()\n",
      "2024-05-19 10:40:49,339 INFO sqlalchemy.engine.Engine ROLLBACK\n",
      "  tag_key    date_key   longitude   latitude      h3_level_4_key home_region  \\\n",
      "0  129843  1387411200 -166.922615  54.131760  595087630329184255        None   \n",
      "1  129843  1387497600 -166.884086  54.258072  595087595969445887        None   \n",
      "2  129843  1387584000 -166.910525  54.312433  595087595969445887        None   \n",
      "3  129843  1387670400 -166.817057  54.358280  595087595969445887        None   \n",
      "4  129843  1387756800 -166.676901  54.389694  595087595969445887        None   \n",
      "\n",
      "    elevation  \n",
      "0 -184.870688  \n",
      "1 -790.973118  \n",
      "2 -790.973118  \n",
      "3 -790.973118  \n",
      "4 -790.973118  \n"
     ]
    },
    {
     "data": {
      "text/html": [
       "<div>\n",
       "<style scoped>\n",
       "    .dataframe tbody tr th:only-of-type {\n",
       "        vertical-align: middle;\n",
       "    }\n",
       "\n",
       "    .dataframe tbody tr th {\n",
       "        vertical-align: top;\n",
       "    }\n",
       "\n",
       "    .dataframe thead th {\n",
       "        text-align: right;\n",
       "    }\n",
       "</style>\n",
       "<table border=\"1\" class=\"dataframe\">\n",
       "  <thead>\n",
       "    <tr style=\"text-align: right;\">\n",
       "      <th></th>\n",
       "      <th>tag_key</th>\n",
       "      <th>date_key</th>\n",
       "      <th>longitude</th>\n",
       "      <th>latitude</th>\n",
       "      <th>h3_level_4_key</th>\n",
       "      <th>home_region</th>\n",
       "      <th>elevation</th>\n",
       "    </tr>\n",
       "  </thead>\n",
       "  <tbody>\n",
       "    <tr>\n",
       "      <th>0</th>\n",
       "      <td>129843</td>\n",
       "      <td>1387411200</td>\n",
       "      <td>-166.922615</td>\n",
       "      <td>54.131760</td>\n",
       "      <td>595087630329184255</td>\n",
       "      <td>None</td>\n",
       "      <td>-184.870688</td>\n",
       "    </tr>\n",
       "    <tr>\n",
       "      <th>1</th>\n",
       "      <td>129843</td>\n",
       "      <td>1387497600</td>\n",
       "      <td>-166.884086</td>\n",
       "      <td>54.258072</td>\n",
       "      <td>595087595969445887</td>\n",
       "      <td>None</td>\n",
       "      <td>-790.973118</td>\n",
       "    </tr>\n",
       "    <tr>\n",
       "      <th>2</th>\n",
       "      <td>129843</td>\n",
       "      <td>1387584000</td>\n",
       "      <td>-166.910525</td>\n",
       "      <td>54.312433</td>\n",
       "      <td>595087595969445887</td>\n",
       "      <td>None</td>\n",
       "      <td>-790.973118</td>\n",
       "    </tr>\n",
       "    <tr>\n",
       "      <th>3</th>\n",
       "      <td>129843</td>\n",
       "      <td>1387670400</td>\n",
       "      <td>-166.817057</td>\n",
       "      <td>54.358280</td>\n",
       "      <td>595087595969445887</td>\n",
       "      <td>None</td>\n",
       "      <td>-790.973118</td>\n",
       "    </tr>\n",
       "    <tr>\n",
       "      <th>4</th>\n",
       "      <td>129843</td>\n",
       "      <td>1387756800</td>\n",
       "      <td>-166.676901</td>\n",
       "      <td>54.389694</td>\n",
       "      <td>595087595969445887</td>\n",
       "      <td>None</td>\n",
       "      <td>-790.973118</td>\n",
       "    </tr>\n",
       "  </tbody>\n",
       "</table>\n",
       "</div>"
      ],
      "text/plain": [
       "  tag_key    date_key   longitude   latitude      h3_level_4_key home_region  \\\n",
       "0  129843  1387411200 -166.922615  54.131760  595087630329184255        None   \n",
       "1  129843  1387497600 -166.884086  54.258072  595087595969445887        None   \n",
       "2  129843  1387584000 -166.910525  54.312433  595087595969445887        None   \n",
       "3  129843  1387670400 -166.817057  54.358280  595087595969445887        None   \n",
       "4  129843  1387756800 -166.676901  54.389694  595087595969445887        None   \n",
       "\n",
       "    elevation  \n",
       "0 -184.870688  \n",
       "1 -790.973118  \n",
       "2 -790.973118  \n",
       "3 -790.973118  \n",
       "4 -790.973118  "
      ]
     },
     "execution_count": 5,
     "metadata": {},
     "output_type": "execute_result"
    }
   ],
   "source": [
    "sql = '''\n",
    "select \n",
    "    tt.*,\n",
    "    h.home_region,\n",
    "    e.elevation\n",
    "from \n",
    "    tag_tracks tt \n",
    "    left join home_regions h\n",
    "        on tt.tag_key = h.tag_key\n",
    "    left join elevation e \n",
    "        on tt.h3_level_4_key = e.h3_level_4_key\n",
    "'''\n",
    "tt = pd.read_sql_query(\n",
    "    sql,\n",
    "    get_engine()\n",
    ")\n",
    "print(tt.head())\n",
    "tt.head()"
   ]
  },
  {
   "cell_type": "code",
   "execution_count": 6,
   "metadata": {},
   "outputs": [
    {
     "data": {
      "text/html": [
       "<div>\n",
       "<style scoped>\n",
       "    .dataframe tbody tr th:only-of-type {\n",
       "        vertical-align: middle;\n",
       "    }\n",
       "\n",
       "    .dataframe tbody tr th {\n",
       "        vertical-align: top;\n",
       "    }\n",
       "\n",
       "    .dataframe thead th {\n",
       "        text-align: right;\n",
       "    }\n",
       "</style>\n",
       "<table border=\"1\" class=\"dataframe\">\n",
       "  <thead>\n",
       "    <tr style=\"text-align: right;\">\n",
       "      <th></th>\n",
       "      <th>tag_key</th>\n",
       "      <th>date_key</th>\n",
       "      <th>depth</th>\n",
       "      <th>epoch</th>\n",
       "      <th>depth_class</th>\n",
       "      <th>longitude</th>\n",
       "      <th>latitude</th>\n",
       "      <th>home_region</th>\n",
       "      <th>elevation</th>\n",
       "    </tr>\n",
       "  </thead>\n",
       "  <tbody>\n",
       "    <tr>\n",
       "      <th>0</th>\n",
       "      <td>202588</td>\n",
       "      <td>1598486400</td>\n",
       "      <td>28.5</td>\n",
       "      <td>1598542800</td>\n",
       "      <td>50</td>\n",
       "      <td>-157.875</td>\n",
       "      <td>56.1</td>\n",
       "      <td>None</td>\n",
       "      <td>-108.727546</td>\n",
       "    </tr>\n",
       "    <tr>\n",
       "      <th>1</th>\n",
       "      <td>202588</td>\n",
       "      <td>1598486400</td>\n",
       "      <td>10.0</td>\n",
       "      <td>1598533200</td>\n",
       "      <td>25</td>\n",
       "      <td>-157.875</td>\n",
       "      <td>56.1</td>\n",
       "      <td>None</td>\n",
       "      <td>-108.727546</td>\n",
       "    </tr>\n",
       "    <tr>\n",
       "      <th>2</th>\n",
       "      <td>202588</td>\n",
       "      <td>1598486400</td>\n",
       "      <td>12.5</td>\n",
       "      <td>1598531400</td>\n",
       "      <td>25</td>\n",
       "      <td>-157.875</td>\n",
       "      <td>56.1</td>\n",
       "      <td>None</td>\n",
       "      <td>-108.727546</td>\n",
       "    </tr>\n",
       "    <tr>\n",
       "      <th>3</th>\n",
       "      <td>202588</td>\n",
       "      <td>1598486400</td>\n",
       "      <td>28.5</td>\n",
       "      <td>1598542200</td>\n",
       "      <td>50</td>\n",
       "      <td>-157.875</td>\n",
       "      <td>56.1</td>\n",
       "      <td>None</td>\n",
       "      <td>-108.727546</td>\n",
       "    </tr>\n",
       "    <tr>\n",
       "      <th>4</th>\n",
       "      <td>202588</td>\n",
       "      <td>1598486400</td>\n",
       "      <td>25.5</td>\n",
       "      <td>1598496000</td>\n",
       "      <td>50</td>\n",
       "      <td>-157.875</td>\n",
       "      <td>56.1</td>\n",
       "      <td>None</td>\n",
       "      <td>-108.727546</td>\n",
       "    </tr>\n",
       "  </tbody>\n",
       "</table>\n",
       "</div>"
      ],
      "text/plain": [
       "  tag_key    date_key  depth       epoch  depth_class  longitude  latitude  \\\n",
       "0  202588  1598486400   28.5  1598542800           50   -157.875      56.1   \n",
       "1  202588  1598486400   10.0  1598533200           25   -157.875      56.1   \n",
       "2  202588  1598486400   12.5  1598531400           25   -157.875      56.1   \n",
       "3  202588  1598486400   28.5  1598542200           50   -157.875      56.1   \n",
       "4  202588  1598486400   25.5  1598496000           50   -157.875      56.1   \n",
       "\n",
       "  home_region   elevation  \n",
       "0        None -108.727546  \n",
       "1        None -108.727546  \n",
       "2        None -108.727546  \n",
       "3        None -108.727546  \n",
       "4        None -108.727546  "
      ]
     },
     "execution_count": 6,
     "metadata": {},
     "output_type": "execute_result"
    }
   ],
   "source": [
    "depth = depth.merge(tt[['tag_key', 'date_key', 'longitude', 'latitude', 'home_region', 'elevation']])\n",
    "depth.head()"
   ]
  },
  {
   "cell_type": "code",
   "execution_count": 7,
   "metadata": {},
   "outputs": [
    {
     "data": {
      "text/html": [
       "<div>\n",
       "<style scoped>\n",
       "    .dataframe tbody tr th:only-of-type {\n",
       "        vertical-align: middle;\n",
       "    }\n",
       "\n",
       "    .dataframe tbody tr th {\n",
       "        vertical-align: top;\n",
       "    }\n",
       "\n",
       "    .dataframe thead th {\n",
       "        text-align: right;\n",
       "    }\n",
       "</style>\n",
       "<table border=\"1\" class=\"dataframe\">\n",
       "  <thead>\n",
       "    <tr style=\"text-align: right;\">\n",
       "      <th></th>\n",
       "      <th>tag_key</th>\n",
       "      <th>date_key</th>\n",
       "      <th>depth</th>\n",
       "      <th>epoch</th>\n",
       "      <th>depth_class</th>\n",
       "      <th>longitude</th>\n",
       "      <th>latitude</th>\n",
       "      <th>home_region</th>\n",
       "      <th>elevation</th>\n",
       "      <th>datetime</th>\n",
       "      <th>date</th>\n",
       "      <th>sunrise</th>\n",
       "      <th>sunset</th>\n",
       "      <th>hour</th>\n",
       "      <th>daytime</th>\n",
       "    </tr>\n",
       "  </thead>\n",
       "  <tbody>\n",
       "    <tr>\n",
       "      <th>0</th>\n",
       "      <td>202588</td>\n",
       "      <td>1598486400</td>\n",
       "      <td>28.5</td>\n",
       "      <td>1598542800</td>\n",
       "      <td>50</td>\n",
       "      <td>-157.875</td>\n",
       "      <td>56.1</td>\n",
       "      <td>None</td>\n",
       "      <td>-108.727546</td>\n",
       "      <td>2020-08-27 15:40:00+00:00</td>\n",
       "      <td>2020-08-27</td>\n",
       "      <td>15</td>\n",
       "      <td>5</td>\n",
       "      <td>15</td>\n",
       "      <td>False</td>\n",
       "    </tr>\n",
       "    <tr>\n",
       "      <th>1</th>\n",
       "      <td>202588</td>\n",
       "      <td>1598486400</td>\n",
       "      <td>10.0</td>\n",
       "      <td>1598533200</td>\n",
       "      <td>25</td>\n",
       "      <td>-157.875</td>\n",
       "      <td>56.1</td>\n",
       "      <td>None</td>\n",
       "      <td>-108.727546</td>\n",
       "      <td>2020-08-27 13:00:00+00:00</td>\n",
       "      <td>2020-08-27</td>\n",
       "      <td>15</td>\n",
       "      <td>5</td>\n",
       "      <td>13</td>\n",
       "      <td>False</td>\n",
       "    </tr>\n",
       "    <tr>\n",
       "      <th>2</th>\n",
       "      <td>202588</td>\n",
       "      <td>1598486400</td>\n",
       "      <td>12.5</td>\n",
       "      <td>1598531400</td>\n",
       "      <td>25</td>\n",
       "      <td>-157.875</td>\n",
       "      <td>56.1</td>\n",
       "      <td>None</td>\n",
       "      <td>-108.727546</td>\n",
       "      <td>2020-08-27 12:30:00+00:00</td>\n",
       "      <td>2020-08-27</td>\n",
       "      <td>15</td>\n",
       "      <td>5</td>\n",
       "      <td>12</td>\n",
       "      <td>False</td>\n",
       "    </tr>\n",
       "    <tr>\n",
       "      <th>3</th>\n",
       "      <td>202588</td>\n",
       "      <td>1598486400</td>\n",
       "      <td>28.5</td>\n",
       "      <td>1598542200</td>\n",
       "      <td>50</td>\n",
       "      <td>-157.875</td>\n",
       "      <td>56.1</td>\n",
       "      <td>None</td>\n",
       "      <td>-108.727546</td>\n",
       "      <td>2020-08-27 15:30:00+00:00</td>\n",
       "      <td>2020-08-27</td>\n",
       "      <td>15</td>\n",
       "      <td>5</td>\n",
       "      <td>15</td>\n",
       "      <td>False</td>\n",
       "    </tr>\n",
       "    <tr>\n",
       "      <th>4</th>\n",
       "      <td>202588</td>\n",
       "      <td>1598486400</td>\n",
       "      <td>25.5</td>\n",
       "      <td>1598496000</td>\n",
       "      <td>50</td>\n",
       "      <td>-157.875</td>\n",
       "      <td>56.1</td>\n",
       "      <td>None</td>\n",
       "      <td>-108.727546</td>\n",
       "      <td>2020-08-27 02:40:00+00:00</td>\n",
       "      <td>2020-08-27</td>\n",
       "      <td>15</td>\n",
       "      <td>5</td>\n",
       "      <td>2</td>\n",
       "      <td>True</td>\n",
       "    </tr>\n",
       "  </tbody>\n",
       "</table>\n",
       "</div>"
      ],
      "text/plain": [
       "  tag_key    date_key  depth       epoch  depth_class  longitude  latitude  \\\n",
       "0  202588  1598486400   28.5  1598542800           50   -157.875      56.1   \n",
       "1  202588  1598486400   10.0  1598533200           25   -157.875      56.1   \n",
       "2  202588  1598486400   12.5  1598531400           25   -157.875      56.1   \n",
       "3  202588  1598486400   28.5  1598542200           50   -157.875      56.1   \n",
       "4  202588  1598486400   25.5  1598496000           50   -157.875      56.1   \n",
       "\n",
       "  home_region   elevation                  datetime        date  sunrise  \\\n",
       "0        None -108.727546 2020-08-27 15:40:00+00:00  2020-08-27       15   \n",
       "1        None -108.727546 2020-08-27 13:00:00+00:00  2020-08-27       15   \n",
       "2        None -108.727546 2020-08-27 12:30:00+00:00  2020-08-27       15   \n",
       "3        None -108.727546 2020-08-27 15:30:00+00:00  2020-08-27       15   \n",
       "4        None -108.727546 2020-08-27 02:40:00+00:00  2020-08-27       15   \n",
       "\n",
       "   sunset  hour  daytime  \n",
       "0       5    15    False  \n",
       "1       5    13    False  \n",
       "2       5    12    False  \n",
       "3       5    15    False  \n",
       "4       5     2     True  "
      ]
     },
     "execution_count": 7,
     "metadata": {},
     "output_type": "execute_result"
    }
   ],
   "source": [
    "from suntimes import SunTimes\n",
    "\n",
    "def get_sunrise(lat, lon, date):\n",
    "    return SunTimes(longitude=lon, latitude=lat, altitude=0).risewhere(date, 'UTC').hour\n",
    "\n",
    "def get_sunset(lat, lon, date):\n",
    "    return SunTimes(longitude=lon, latitude=lat, altitude=0).setwhere(date, 'UTC').hour\n",
    "\n",
    "depth['datetime'] = pd.to_datetime(depth['epoch'], utc=True, unit='s')\n",
    "depth['date'] = depth['datetime'].dt.date\n",
    "depth = depth[np.abs(depth['longitude']) <= 180]\n",
    "depth['sunrise'] = depth.apply(\n",
    "    lambda r: get_sunrise(r['latitude'], r['longitude'], r['date']), axis=1\n",
    ")\n",
    "depth['sunset'] = depth.apply(\n",
    "    lambda r: get_sunset(r['latitude'], r['longitude'], r['date']), axis=1\n",
    ")\n",
    "\n",
    "\n",
    "depth['hour'] = depth['datetime'].dt.hour\n",
    "\n",
    "depth['daytime'] = (depth['hour'] < depth['sunset']) | (depth['hour'] > depth['sunrise'])\n",
    "depth.head()"
   ]
  },
  {
   "cell_type": "markdown",
   "metadata": {},
   "source": [
    "# Build Into Choices"
   ]
  },
  {
   "cell_type": "code",
   "execution_count": 8,
   "metadata": {},
   "outputs": [
    {
     "data": {
      "text/html": [
       "<div>\n",
       "<style scoped>\n",
       "    .dataframe tbody tr th:only-of-type {\n",
       "        vertical-align: middle;\n",
       "    }\n",
       "\n",
       "    .dataframe tbody tr th {\n",
       "        vertical-align: top;\n",
       "    }\n",
       "\n",
       "    .dataframe thead th {\n",
       "        text-align: right;\n",
       "    }\n",
       "</style>\n",
       "<table border=\"1\" class=\"dataframe\">\n",
       "  <thead>\n",
       "    <tr style=\"text-align: right;\">\n",
       "      <th></th>\n",
       "      <th>_decision</th>\n",
       "      <th>_identifier</th>\n",
       "      <th>date_key</th>\n",
       "      <th>depth</th>\n",
       "      <th>epoch</th>\n",
       "      <th>selected_class</th>\n",
       "      <th>longitude</th>\n",
       "      <th>latitude</th>\n",
       "      <th>home_region</th>\n",
       "      <th>elevation</th>\n",
       "      <th>datetime</th>\n",
       "      <th>date</th>\n",
       "      <th>sunrise</th>\n",
       "      <th>sunset</th>\n",
       "      <th>hour</th>\n",
       "      <th>daytime</th>\n",
       "    </tr>\n",
       "  </thead>\n",
       "  <tbody>\n",
       "    <tr>\n",
       "      <th>0</th>\n",
       "      <td>0</td>\n",
       "      <td>142189</td>\n",
       "      <td>1445126400</td>\n",
       "      <td>52.4</td>\n",
       "      <td>1445202000</td>\n",
       "      <td>75</td>\n",
       "      <td>-178.483268</td>\n",
       "      <td>62.070841</td>\n",
       "      <td>None</td>\n",
       "      <td>-118.744569</td>\n",
       "      <td>2015-10-18 21:00:00+00:00</td>\n",
       "      <td>2015-10-18</td>\n",
       "      <td>18</td>\n",
       "      <td>4</td>\n",
       "      <td>21</td>\n",
       "      <td>True</td>\n",
       "    </tr>\n",
       "    <tr>\n",
       "      <th>1</th>\n",
       "      <td>1</td>\n",
       "      <td>202595</td>\n",
       "      <td>1609200000</td>\n",
       "      <td>5.0</td>\n",
       "      <td>1609249800</td>\n",
       "      <td>25</td>\n",
       "      <td>-161.300000</td>\n",
       "      <td>55.175000</td>\n",
       "      <td>None</td>\n",
       "      <td>8.765975</td>\n",
       "      <td>2020-12-29 13:50:00+00:00</td>\n",
       "      <td>2020-12-29</td>\n",
       "      <td>19</td>\n",
       "      <td>2</td>\n",
       "      <td>13</td>\n",
       "      <td>False</td>\n",
       "    </tr>\n",
       "    <tr>\n",
       "      <th>2</th>\n",
       "      <td>2</td>\n",
       "      <td>172907</td>\n",
       "      <td>1511568000</td>\n",
       "      <td>39.0</td>\n",
       "      <td>1511586900</td>\n",
       "      <td>50</td>\n",
       "      <td>-165.950000</td>\n",
       "      <td>54.975000</td>\n",
       "      <td>None</td>\n",
       "      <td>-174.075908</td>\n",
       "      <td>2017-11-25 05:15:00+00:00</td>\n",
       "      <td>2017-11-25</td>\n",
       "      <td>18</td>\n",
       "      <td>2</td>\n",
       "      <td>5</td>\n",
       "      <td>False</td>\n",
       "    </tr>\n",
       "    <tr>\n",
       "      <th>3</th>\n",
       "      <td>3</td>\n",
       "      <td>205403</td>\n",
       "      <td>1603670400</td>\n",
       "      <td>130.5</td>\n",
       "      <td>1603736400</td>\n",
       "      <td>150</td>\n",
       "      <td>-149.300000</td>\n",
       "      <td>59.050000</td>\n",
       "      <td>SEAK</td>\n",
       "      <td>-162.064552</td>\n",
       "      <td>2020-10-26 18:20:00+00:00</td>\n",
       "      <td>2020-10-26</td>\n",
       "      <td>17</td>\n",
       "      <td>2</td>\n",
       "      <td>18</td>\n",
       "      <td>True</td>\n",
       "    </tr>\n",
       "    <tr>\n",
       "      <th>4</th>\n",
       "      <td>4</td>\n",
       "      <td>142189</td>\n",
       "      <td>1449273600</td>\n",
       "      <td>5.4</td>\n",
       "      <td>1449297000</td>\n",
       "      <td>25</td>\n",
       "      <td>-178.597373</td>\n",
       "      <td>58.857363</td>\n",
       "      <td>None</td>\n",
       "      <td>-3308.116451</td>\n",
       "      <td>2015-12-05 06:30:00+00:00</td>\n",
       "      <td>2015-12-05</td>\n",
       "      <td>20</td>\n",
       "      <td>3</td>\n",
       "      <td>6</td>\n",
       "      <td>False</td>\n",
       "    </tr>\n",
       "  </tbody>\n",
       "</table>\n",
       "</div>"
      ],
      "text/plain": [
       "   _decision _identifier    date_key  depth       epoch  selected_class  \\\n",
       "0          0      142189  1445126400   52.4  1445202000              75   \n",
       "1          1      202595  1609200000    5.0  1609249800              25   \n",
       "2          2      172907  1511568000   39.0  1511586900              50   \n",
       "3          3      205403  1603670400  130.5  1603736400             150   \n",
       "4          4      142189  1449273600    5.4  1449297000              25   \n",
       "\n",
       "    longitude   latitude home_region    elevation                  datetime  \\\n",
       "0 -178.483268  62.070841        None  -118.744569 2015-10-18 21:00:00+00:00   \n",
       "1 -161.300000  55.175000        None     8.765975 2020-12-29 13:50:00+00:00   \n",
       "2 -165.950000  54.975000        None  -174.075908 2017-11-25 05:15:00+00:00   \n",
       "3 -149.300000  59.050000        SEAK  -162.064552 2020-10-26 18:20:00+00:00   \n",
       "4 -178.597373  58.857363        None -3308.116451 2015-12-05 06:30:00+00:00   \n",
       "\n",
       "         date  sunrise  sunset  hour  daytime  \n",
       "0  2015-10-18       18       4    21     True  \n",
       "1  2020-12-29       19       2    13    False  \n",
       "2  2017-11-25       18       2     5    False  \n",
       "3  2020-10-26       17       2    18     True  \n",
       "4  2015-12-05       20       3     6    False  "
      ]
     },
     "execution_count": 8,
     "metadata": {},
     "output_type": "execute_result"
    }
   ],
   "source": [
    "choices = depth.copy().sample(10000 * 2)\n",
    "choices = (\n",
    "    choices.reset_index(drop=True).reset_index().rename(\n",
    "        {'index': '_decision', 'depth_class': 'selected_class', 'tag_key': '_identifier'}, \n",
    "        axis=1\n",
    "    )\n",
    ")\n",
    "choices.head()"
   ]
  },
  {
   "cell_type": "code",
   "execution_count": 9,
   "metadata": {},
   "outputs": [
    {
     "name": "stdout",
     "output_type": "stream",
     "text": [
      "(200000, 2)\n"
     ]
    },
    {
     "data": {
      "text/html": [
       "<div>\n",
       "<style scoped>\n",
       "    .dataframe tbody tr th:only-of-type {\n",
       "        vertical-align: middle;\n",
       "    }\n",
       "\n",
       "    .dataframe tbody tr th {\n",
       "        vertical-align: top;\n",
       "    }\n",
       "\n",
       "    .dataframe thead th {\n",
       "        text-align: right;\n",
       "    }\n",
       "</style>\n",
       "<table border=\"1\" class=\"dataframe\">\n",
       "  <thead>\n",
       "    <tr style=\"text-align: right;\">\n",
       "      <th></th>\n",
       "      <th>_decision</th>\n",
       "      <th>depth_class</th>\n",
       "    </tr>\n",
       "  </thead>\n",
       "  <tbody>\n",
       "    <tr>\n",
       "      <th>0</th>\n",
       "      <td>0</td>\n",
       "      <td>25</td>\n",
       "    </tr>\n",
       "    <tr>\n",
       "      <th>1</th>\n",
       "      <td>0</td>\n",
       "      <td>50</td>\n",
       "    </tr>\n",
       "    <tr>\n",
       "      <th>2</th>\n",
       "      <td>0</td>\n",
       "      <td>75</td>\n",
       "    </tr>\n",
       "    <tr>\n",
       "      <th>3</th>\n",
       "      <td>0</td>\n",
       "      <td>100</td>\n",
       "    </tr>\n",
       "    <tr>\n",
       "      <th>4</th>\n",
       "      <td>0</td>\n",
       "      <td>150</td>\n",
       "    </tr>\n",
       "  </tbody>\n",
       "</table>\n",
       "</div>"
      ],
      "text/plain": [
       "   _decision  depth_class\n",
       "0          0           25\n",
       "1          0           50\n",
       "2          0           75\n",
       "3          0          100\n",
       "4          0          150"
      ]
     },
     "execution_count": 9,
     "metadata": {},
     "output_type": "execute_result"
    }
   ],
   "source": [
    "all_choices = choices[['_decision']].merge(pd.DataFrame({'depth_class': depth_classes}), how='cross')\n",
    "print(all_choices.shape)\n",
    "all_choices.head()"
   ]
  },
  {
   "cell_type": "code",
   "execution_count": 10,
   "metadata": {},
   "outputs": [
    {
     "name": "stdout",
     "output_type": "stream",
     "text": [
      "(200000, 17)\n"
     ]
    },
    {
     "data": {
      "text/html": [
       "<div>\n",
       "<style scoped>\n",
       "    .dataframe tbody tr th:only-of-type {\n",
       "        vertical-align: middle;\n",
       "    }\n",
       "\n",
       "    .dataframe tbody tr th {\n",
       "        vertical-align: top;\n",
       "    }\n",
       "\n",
       "    .dataframe thead th {\n",
       "        text-align: right;\n",
       "    }\n",
       "</style>\n",
       "<table border=\"1\" class=\"dataframe\">\n",
       "  <thead>\n",
       "    <tr style=\"text-align: right;\">\n",
       "      <th></th>\n",
       "      <th>_decision</th>\n",
       "      <th>_identifier</th>\n",
       "      <th>date_key</th>\n",
       "      <th>depth</th>\n",
       "      <th>epoch</th>\n",
       "      <th>longitude</th>\n",
       "      <th>latitude</th>\n",
       "      <th>home_region</th>\n",
       "      <th>elevation</th>\n",
       "      <th>datetime</th>\n",
       "      <th>date</th>\n",
       "      <th>sunrise</th>\n",
       "      <th>sunset</th>\n",
       "      <th>hour</th>\n",
       "      <th>daytime</th>\n",
       "      <th>depth_class</th>\n",
       "      <th>selected</th>\n",
       "    </tr>\n",
       "  </thead>\n",
       "  <tbody>\n",
       "    <tr>\n",
       "      <th>0</th>\n",
       "      <td>0</td>\n",
       "      <td>142189</td>\n",
       "      <td>1445126400</td>\n",
       "      <td>52.4</td>\n",
       "      <td>1445202000</td>\n",
       "      <td>-178.483268</td>\n",
       "      <td>62.070841</td>\n",
       "      <td>None</td>\n",
       "      <td>-118.744569</td>\n",
       "      <td>2015-10-18 21:00:00+00:00</td>\n",
       "      <td>2015-10-18</td>\n",
       "      <td>18</td>\n",
       "      <td>4</td>\n",
       "      <td>21</td>\n",
       "      <td>True</td>\n",
       "      <td>25</td>\n",
       "      <td>False</td>\n",
       "    </tr>\n",
       "    <tr>\n",
       "      <th>1</th>\n",
       "      <td>0</td>\n",
       "      <td>142189</td>\n",
       "      <td>1445126400</td>\n",
       "      <td>52.4</td>\n",
       "      <td>1445202000</td>\n",
       "      <td>-178.483268</td>\n",
       "      <td>62.070841</td>\n",
       "      <td>None</td>\n",
       "      <td>-118.744569</td>\n",
       "      <td>2015-10-18 21:00:00+00:00</td>\n",
       "      <td>2015-10-18</td>\n",
       "      <td>18</td>\n",
       "      <td>4</td>\n",
       "      <td>21</td>\n",
       "      <td>True</td>\n",
       "      <td>50</td>\n",
       "      <td>False</td>\n",
       "    </tr>\n",
       "    <tr>\n",
       "      <th>2</th>\n",
       "      <td>0</td>\n",
       "      <td>142189</td>\n",
       "      <td>1445126400</td>\n",
       "      <td>52.4</td>\n",
       "      <td>1445202000</td>\n",
       "      <td>-178.483268</td>\n",
       "      <td>62.070841</td>\n",
       "      <td>None</td>\n",
       "      <td>-118.744569</td>\n",
       "      <td>2015-10-18 21:00:00+00:00</td>\n",
       "      <td>2015-10-18</td>\n",
       "      <td>18</td>\n",
       "      <td>4</td>\n",
       "      <td>21</td>\n",
       "      <td>True</td>\n",
       "      <td>75</td>\n",
       "      <td>True</td>\n",
       "    </tr>\n",
       "    <tr>\n",
       "      <th>3</th>\n",
       "      <td>0</td>\n",
       "      <td>142189</td>\n",
       "      <td>1445126400</td>\n",
       "      <td>52.4</td>\n",
       "      <td>1445202000</td>\n",
       "      <td>-178.483268</td>\n",
       "      <td>62.070841</td>\n",
       "      <td>None</td>\n",
       "      <td>-118.744569</td>\n",
       "      <td>2015-10-18 21:00:00+00:00</td>\n",
       "      <td>2015-10-18</td>\n",
       "      <td>18</td>\n",
       "      <td>4</td>\n",
       "      <td>21</td>\n",
       "      <td>True</td>\n",
       "      <td>100</td>\n",
       "      <td>False</td>\n",
       "    </tr>\n",
       "    <tr>\n",
       "      <th>4</th>\n",
       "      <td>0</td>\n",
       "      <td>142189</td>\n",
       "      <td>1445126400</td>\n",
       "      <td>52.4</td>\n",
       "      <td>1445202000</td>\n",
       "      <td>-178.483268</td>\n",
       "      <td>62.070841</td>\n",
       "      <td>None</td>\n",
       "      <td>-118.744569</td>\n",
       "      <td>2015-10-18 21:00:00+00:00</td>\n",
       "      <td>2015-10-18</td>\n",
       "      <td>18</td>\n",
       "      <td>4</td>\n",
       "      <td>21</td>\n",
       "      <td>True</td>\n",
       "      <td>150</td>\n",
       "      <td>False</td>\n",
       "    </tr>\n",
       "  </tbody>\n",
       "</table>\n",
       "</div>"
      ],
      "text/plain": [
       "   _decision _identifier    date_key  depth       epoch   longitude  \\\n",
       "0          0      142189  1445126400   52.4  1445202000 -178.483268   \n",
       "1          0      142189  1445126400   52.4  1445202000 -178.483268   \n",
       "2          0      142189  1445126400   52.4  1445202000 -178.483268   \n",
       "3          0      142189  1445126400   52.4  1445202000 -178.483268   \n",
       "4          0      142189  1445126400   52.4  1445202000 -178.483268   \n",
       "\n",
       "    latitude home_region   elevation                  datetime        date  \\\n",
       "0  62.070841        None -118.744569 2015-10-18 21:00:00+00:00  2015-10-18   \n",
       "1  62.070841        None -118.744569 2015-10-18 21:00:00+00:00  2015-10-18   \n",
       "2  62.070841        None -118.744569 2015-10-18 21:00:00+00:00  2015-10-18   \n",
       "3  62.070841        None -118.744569 2015-10-18 21:00:00+00:00  2015-10-18   \n",
       "4  62.070841        None -118.744569 2015-10-18 21:00:00+00:00  2015-10-18   \n",
       "\n",
       "   sunrise  sunset  hour  daytime  depth_class  selected  \n",
       "0       18       4    21     True           25     False  \n",
       "1       18       4    21     True           50     False  \n",
       "2       18       4    21     True           75      True  \n",
       "3       18       4    21     True          100     False  \n",
       "4       18       4    21     True          150     False  "
      ]
     },
     "execution_count": 10,
     "metadata": {},
     "output_type": "execute_result"
    }
   ],
   "source": [
    "choices = choices.merge(all_choices, how='outer', on='_decision')\n",
    "choices['selected'] = choices['depth_class'] == choices['selected_class']\n",
    "del choices['selected_class']\n",
    "print(choices.shape)\n",
    "choices.head()"
   ]
  },
  {
   "cell_type": "markdown",
   "metadata": {},
   "source": [
    "# Build the Features"
   ]
  },
  {
   "cell_type": "code",
   "execution_count": 93,
   "metadata": {},
   "outputs": [
    {
     "data": {
      "text/html": [
       "<div>\n",
       "<style scoped>\n",
       "    .dataframe tbody tr th:only-of-type {\n",
       "        vertical-align: middle;\n",
       "    }\n",
       "\n",
       "    .dataframe tbody tr th {\n",
       "        vertical-align: top;\n",
       "    }\n",
       "\n",
       "    .dataframe thead th {\n",
       "        text-align: right;\n",
       "    }\n",
       "</style>\n",
       "<table border=\"1\" class=\"dataframe\">\n",
       "  <thead>\n",
       "    <tr style=\"text-align: right;\">\n",
       "      <th></th>\n",
       "      <th>selected</th>\n",
       "      <th>_decision</th>\n",
       "      <th>_identifier</th>\n",
       "      <th>depth_class</th>\n",
       "      <th>latitude</th>\n",
       "      <th>sunrise</th>\n",
       "      <th>interval</th>\n",
       "      <th>daytime</th>\n",
       "    </tr>\n",
       "  </thead>\n",
       "  <tbody>\n",
       "    <tr>\n",
       "      <th>0</th>\n",
       "      <td>False</td>\n",
       "      <td>0</td>\n",
       "      <td>142189</td>\n",
       "      <td>25</td>\n",
       "      <td>62.070841</td>\n",
       "      <td>18</td>\n",
       "      <td>10</td>\n",
       "      <td>1.0</td>\n",
       "    </tr>\n",
       "    <tr>\n",
       "      <th>1</th>\n",
       "      <td>False</td>\n",
       "      <td>0</td>\n",
       "      <td>142189</td>\n",
       "      <td>50</td>\n",
       "      <td>62.070841</td>\n",
       "      <td>18</td>\n",
       "      <td>10</td>\n",
       "      <td>1.0</td>\n",
       "    </tr>\n",
       "    <tr>\n",
       "      <th>2</th>\n",
       "      <td>True</td>\n",
       "      <td>0</td>\n",
       "      <td>142189</td>\n",
       "      <td>75</td>\n",
       "      <td>62.070841</td>\n",
       "      <td>18</td>\n",
       "      <td>10</td>\n",
       "      <td>1.0</td>\n",
       "    </tr>\n",
       "    <tr>\n",
       "      <th>3</th>\n",
       "      <td>False</td>\n",
       "      <td>0</td>\n",
       "      <td>142189</td>\n",
       "      <td>100</td>\n",
       "      <td>62.070841</td>\n",
       "      <td>18</td>\n",
       "      <td>10</td>\n",
       "      <td>1.0</td>\n",
       "    </tr>\n",
       "    <tr>\n",
       "      <th>4</th>\n",
       "      <td>False</td>\n",
       "      <td>0</td>\n",
       "      <td>142189</td>\n",
       "      <td>150</td>\n",
       "      <td>62.070841</td>\n",
       "      <td>18</td>\n",
       "      <td>10</td>\n",
       "      <td>1.0</td>\n",
       "    </tr>\n",
       "  </tbody>\n",
       "</table>\n",
       "</div>"
      ],
      "text/plain": [
       "   selected  _decision _identifier  depth_class   latitude  sunrise  interval  \\\n",
       "0     False          0      142189           25  62.070841       18        10   \n",
       "1     False          0      142189           50  62.070841       18        10   \n",
       "2      True          0      142189           75  62.070841       18        10   \n",
       "3     False          0      142189          100  62.070841       18        10   \n",
       "4     False          0      142189          150  62.070841       18        10   \n",
       "\n",
       "   daytime  \n",
       "0      1.0  \n",
       "1      1.0  \n",
       "2      1.0  \n",
       "3      1.0  \n",
       "4      1.0  "
      ]
     },
     "execution_count": 93,
     "metadata": {},
     "output_type": "execute_result"
    }
   ],
   "source": [
    "model_data = choices.copy()\n",
    "model_data['month'] = model_data['datetime'].dt.month\n",
    "model_data['interval'] = 24 - model_data['sunrise'] + model_data['sunset']\n",
    "model_data['daytime'] = model_data['daytime'].astype(float)\n",
    "features = ['depth_class', 'latitude', 'sunrise', 'interval', 'daytime']#, 'sunrise', 'sunset', 'elevation', 'hour', 'month']\n",
    "model_data = model_data[['selected', '_decision', '_identifier'] + features]\n",
    "model_data.head()"
   ]
  },
  {
   "cell_type": "code",
   "execution_count": 94,
   "metadata": {},
   "outputs": [
    {
     "name": "stdout",
     "output_type": "stream",
     "text": [
      "88 23\n"
     ]
    }
   ],
   "source": [
    "ids = model_data['_identifier'].unique()\n",
    "train_ids = np.random.choice(ids, int(0.8 * len(ids)), replace=False)\n",
    "test_ids = np.array(list(set(ids) - set(train_ids)))\n",
    "print(\n",
    "    len(train_ids),\n",
    "    len(test_ids)\n",
    ")"
   ]
  },
  {
   "cell_type": "code",
   "execution_count": 95,
   "metadata": {},
   "outputs": [
    {
     "data": {
      "text/html": [
       "<div>\n",
       "<style scoped>\n",
       "    .dataframe tbody tr th:only-of-type {\n",
       "        vertical-align: middle;\n",
       "    }\n",
       "\n",
       "    .dataframe tbody tr th {\n",
       "        vertical-align: top;\n",
       "    }\n",
       "\n",
       "    .dataframe thead th {\n",
       "        text-align: right;\n",
       "    }\n",
       "</style>\n",
       "<table border=\"1\" class=\"dataframe\">\n",
       "  <thead>\n",
       "    <tr style=\"text-align: right;\">\n",
       "      <th></th>\n",
       "      <th>_identifier</th>\n",
       "      <th>fold</th>\n",
       "    </tr>\n",
       "  </thead>\n",
       "  <tbody>\n",
       "    <tr>\n",
       "      <th>0</th>\n",
       "      <td>172905</td>\n",
       "      <td>0</td>\n",
       "    </tr>\n",
       "    <tr>\n",
       "      <th>1</th>\n",
       "      <td>205417</td>\n",
       "      <td>1</td>\n",
       "    </tr>\n",
       "    <tr>\n",
       "      <th>2</th>\n",
       "      <td>202585</td>\n",
       "      <td>2</td>\n",
       "    </tr>\n",
       "    <tr>\n",
       "      <th>3</th>\n",
       "      <td>229229</td>\n",
       "      <td>3</td>\n",
       "    </tr>\n",
       "    <tr>\n",
       "      <th>4</th>\n",
       "      <td>172913</td>\n",
       "      <td>0</td>\n",
       "    </tr>\n",
       "  </tbody>\n",
       "</table>\n",
       "</div>"
      ],
      "text/plain": [
       "  _identifier  fold\n",
       "0      172905     0\n",
       "1      205417     1\n",
       "2      202585     2\n",
       "3      229229     3\n",
       "4      172913     0"
      ]
     },
     "execution_count": 95,
     "metadata": {},
     "output_type": "execute_result"
    }
   ],
   "source": [
    "folds = 4\n",
    "rows = []\n",
    "np.random.shuffle(train_ids)\n",
    "for i, _identifier in enumerate(train_ids):\n",
    "    rows.append({\n",
    "        '_identifier': _identifier,\n",
    "        'fold': i % folds\n",
    "    })\n",
    "folds_assignment = pd.DataFrame(rows)\n",
    "folds_assignment.head()"
   ]
  },
  {
   "cell_type": "code",
   "execution_count": 96,
   "metadata": {},
   "outputs": [],
   "source": [
    "train = model_data[model_data['_identifier'].isin(train_ids)]\n",
    "\n",
    "train = train.merge(folds_assignment)\n",
    "fold = np.array(train['fold'])"
   ]
  },
  {
   "cell_type": "code",
   "execution_count": 107,
   "metadata": {},
   "outputs": [],
   "source": [
    "from collections import defaultdict\n",
    "\n",
    "import numpy as np\n",
    "from tqdm import tqdm\n",
    "\n",
    "\n",
    "def get_proposed_utility(dataframe, learning_rate=None):\n",
    "    \"\"\"\n",
    "    Inputs:\n",
    "    - dataframe (pd.DataFrame): a dataframe with columns \"utility\",\n",
    "        \"selected\", and \"_decision\"\n",
    "    - learning_rate (float): maximum abs score\n",
    "\n",
    "    Returns a pd.DataFrame with proposed utility values\n",
    "    \"\"\"\n",
    "    dataframe[\"sum_utility\"] = dataframe.groupby(\"_decision\")[\"utility\"].transform(\n",
    "        \"sum\"\n",
    "    )\n",
    "    dataframe[\"probability\"] = dataframe[\"utility\"] / dataframe[\"sum_utility\"]\n",
    "    dataframe[\"score\"] = dataframe[\"selected\"] - dataframe[\"probability\"]\n",
    "    if learning_rate:\n",
    "        factor = np.abs(learning_rate / dataframe[\"score\"].min())\n",
    "        dataframe[\"score\"] = dataframe[\"score\"] * factor\n",
    "    dataframe[\"proposed\"] = dataframe[\"utility\"] * (1 + dataframe[\"score\"])\n",
    "    return dataframe\n",
    "\n",
    "def get_central_likelihood(dataframe):\n",
    "    return np.exp(np.mean(np.log(dataframe[dataframe['selected']]['probability'])))\n",
    "\n",
    "def train_utility_model(\n",
    "    model, dataframe, dataframe_test, feature_columns, N=1, learning_rate=None\n",
    "):\n",
    "    \"\"\"\n",
    "    Inputs:\n",
    "    - model: a model object with a \"fit\" method and a \"predict\" method\n",
    "    - dataframe (pd.DataFrame): a dataframe with both feature columns\n",
    "        and \"selected\" and \"_decision\" columns\n",
    "    - feature_columns (list): a list of column names to use as features\n",
    "    - N (int): the number of iterations to train the model\n",
    "    - learning_rate (float): maximum abs score\n",
    "\n",
    "    Returns a trained model\n",
    "    \"\"\"\n",
    "    assert \"selected\" not in feature_columns\n",
    "    assert \"_decision\" not in feature_columns\n",
    "\n",
    "    folds = set(dataframe['fold'].unique())\n",
    "    fold_sets = []\n",
    "    for fold in folds:\n",
    "        fold_sets.append(\n",
    "            (fold, folds - set([fold]))\n",
    "        )\n",
    "\n",
    "    diagnostics = []\n",
    "    dataframe[\"proposed\"] = 1.0\n",
    "    for i in tqdm(range(N)):\n",
    "        for fold, fold_set in fold_sets:\n",
    "            train = dataframe[dataframe['fold'].isin(fold_set)]\n",
    "\n",
    "            model.fit(train[features], train[\"proposed\"])\n",
    "\n",
    "            dataframe['utility'] = model.predict(dataframe[features])\n",
    "            dataframe_test['utility'] = model.predict(dataframe_test[features])\n",
    "            dataframe = get_proposed_utility(dataframe, learning_rate=learning_rate)\n",
    "            dataframe_test = get_proposed_utility(dataframe_test, learning_rate=learning_rate)\n",
    "            diagnostics.append({\n",
    "                \"iteration\": i,\n",
    "                \"fold\": fold,\n",
    "                \"case\": \"validate\",\n",
    "                \"central_likelihood\": get_central_likelihood(dataframe[dataframe['fold'] == fold])\n",
    "            })\n",
    "            diagnostics.append({\n",
    "                \"iteration\": i,\n",
    "                \"fold\": fold,\n",
    "                \"case\": \"train\",\n",
    "                \"central_likelihood\": get_central_likelihood(dataframe[dataframe['fold'].isin(fold_set)])\n",
    "            })\n",
    "            diagnostics.append({\n",
    "                \"iteration\": i,\n",
    "                \"fold\": fold,\n",
    "                \"case\": \"test\",\n",
    "                \"central_likelihood\": get_central_likelihood(dataframe_test)\n",
    "            })\n",
    "\n",
    "    model.fit(dataframe[features], dataframe['proposed'])\n",
    "    dataframe = get_proposed_utility(dataframe, learning_rate=learning_rate)\n",
    "\n",
    "    return model, pd.DataFrame(diagnostics)\n",
    "   "
   ]
  },
  {
   "cell_type": "code",
   "execution_count": 110,
   "metadata": {},
   "outputs": [
    {
     "name": "stderr",
     "output_type": "stream",
     "text": [
      "100%|██████████| 10/10 [00:32<00:00,  3.29s/it]\n",
      "100%|██████████| 10/10 [00:14<00:00,  1.48s/it]\n",
      "100%|██████████| 10/10 [00:19<00:00,  1.96s/it]\n",
      "100%|██████████| 10/10 [00:27<00:00,  2.78s/it]\n",
      "100%|██████████| 10/10 [00:17<00:00,  1.70s/it]\n"
     ]
    }
   ],
   "source": [
    "from sklearn.ensemble import RandomForestRegressor\n",
    "\n",
    "def grid_search(\n",
    "        param_grids, M, model_class, dataframe, dataframe_test, feature_columns, N=1, learning_rate=None, max_attempts = 100\n",
    "):\n",
    "    param_sets = []\n",
    "    attempts = 0\n",
    "    while len(param_sets) < M:\n",
    "        assert attempts < max_attempts\n",
    "\n",
    "        param_set = {}\n",
    "        for param, grid in param_grids.items():\n",
    "            param_set[param] = np.random.choice(grid)\n",
    "        if param_set in param_sets:\n",
    "            attempts += 1\n",
    "        else:\n",
    "            attempts = 0\n",
    "            param_sets.append(param_set)\n",
    "\n",
    "    diagnostics_dfs = []\n",
    "    for i, param_set in enumerate(param_sets):\n",
    "        model = model_class(**param_set)\n",
    "        model, diagnostics_df = train_utility_model(\n",
    "            model, dataframe, dataframe_test, feature_columns, N, learning_rate\n",
    "        )\n",
    "        for param, val in param_set.items():\n",
    "            diagnostics_df[param] = val\n",
    "        diagnostics_df['_param_set'] = i\n",
    "        diagnostics_dfs.append(diagnostics_df)\n",
    "\n",
    "    return param_sets, pd.concat(diagnostics_dfs)\n",
    "\n",
    "test = model_data[model_data['_identifier'].isin(test_ids)]\n",
    "\n",
    "param_sets, diagnostics = grid_search(\n",
    "    {\n",
    "        # basic settings\n",
    "        \"bootstrap\": [True],\n",
    "        \"n_jobs\": [(os.cpu_count() - 2)],\n",
    "        \"max_samples\": [int(train.shape[0] / 2)],\n",
    "        # hyper parameters\n",
    "        \"n_estimators\": [25, 50],\n",
    "        \"min_weight_fraction_leaf\": [1e-04, 2e-04, 1e-05, 2e-05, 1e-06],\n",
    "        \"max_features\": [1, 2, 3]\n",
    "    },\n",
    "    5,\n",
    "    RandomForestRegressor,\n",
    "    train,\n",
    "    test,\n",
    "    features,\n",
    "    10,\n",
    "    learning_rate=31 / 32,\n",
    ")"
   ]
  },
  {
   "cell_type": "code",
   "execution_count": 115,
   "metadata": {},
   "outputs": [
    {
     "data": {
      "text/html": [
       "<div>\n",
       "<style scoped>\n",
       "    .dataframe tbody tr th:only-of-type {\n",
       "        vertical-align: middle;\n",
       "    }\n",
       "\n",
       "    .dataframe tbody tr th {\n",
       "        vertical-align: top;\n",
       "    }\n",
       "\n",
       "    .dataframe thead th {\n",
       "        text-align: right;\n",
       "    }\n",
       "</style>\n",
       "<table border=\"1\" class=\"dataframe\">\n",
       "  <thead>\n",
       "    <tr style=\"text-align: right;\">\n",
       "      <th></th>\n",
       "      <th></th>\n",
       "      <th>central_likelihood</th>\n",
       "    </tr>\n",
       "    <tr>\n",
       "      <th>case</th>\n",
       "      <th>_param_set</th>\n",
       "      <th></th>\n",
       "    </tr>\n",
       "  </thead>\n",
       "  <tbody>\n",
       "    <tr>\n",
       "      <th rowspan=\"5\" valign=\"top\">test</th>\n",
       "      <th>0</th>\n",
       "      <td>0.182514</td>\n",
       "    </tr>\n",
       "    <tr>\n",
       "      <th>1</th>\n",
       "      <td>0.212031</td>\n",
       "    </tr>\n",
       "    <tr>\n",
       "      <th>2</th>\n",
       "      <td>0.206254</td>\n",
       "    </tr>\n",
       "    <tr>\n",
       "      <th>3</th>\n",
       "      <td>0.212564</td>\n",
       "    </tr>\n",
       "    <tr>\n",
       "      <th>4</th>\n",
       "      <td>0.184795</td>\n",
       "    </tr>\n",
       "    <tr>\n",
       "      <th rowspan=\"5\" valign=\"top\">train</th>\n",
       "      <th>0</th>\n",
       "      <td>0.368649</td>\n",
       "    </tr>\n",
       "    <tr>\n",
       "      <th>1</th>\n",
       "      <td>0.311175</td>\n",
       "    </tr>\n",
       "    <tr>\n",
       "      <th>2</th>\n",
       "      <td>0.289529</td>\n",
       "    </tr>\n",
       "    <tr>\n",
       "      <th>3</th>\n",
       "      <td>0.311671</td>\n",
       "    </tr>\n",
       "    <tr>\n",
       "      <th>4</th>\n",
       "      <td>0.369065</td>\n",
       "    </tr>\n",
       "    <tr>\n",
       "      <th rowspan=\"5\" valign=\"top\">validate</th>\n",
       "      <th>0</th>\n",
       "      <td>0.282637</td>\n",
       "    </tr>\n",
       "    <tr>\n",
       "      <th>1</th>\n",
       "      <td>0.274737</td>\n",
       "    </tr>\n",
       "    <tr>\n",
       "      <th>2</th>\n",
       "      <td>0.257182</td>\n",
       "    </tr>\n",
       "    <tr>\n",
       "      <th>3</th>\n",
       "      <td>0.275850</td>\n",
       "    </tr>\n",
       "    <tr>\n",
       "      <th>4</th>\n",
       "      <td>0.282987</td>\n",
       "    </tr>\n",
       "  </tbody>\n",
       "</table>\n",
       "</div>"
      ],
      "text/plain": [
       "                     central_likelihood\n",
       "case     _param_set                    \n",
       "test     0                     0.182514\n",
       "         1                     0.212031\n",
       "         2                     0.206254\n",
       "         3                     0.212564\n",
       "         4                     0.184795\n",
       "train    0                     0.368649\n",
       "         1                     0.311175\n",
       "         2                     0.289529\n",
       "         3                     0.311671\n",
       "         4                     0.369065\n",
       "validate 0                     0.282637\n",
       "         1                     0.274737\n",
       "         2                     0.257182\n",
       "         3                     0.275850\n",
       "         4                     0.282987"
      ]
     },
     "execution_count": 115,
     "metadata": {},
     "output_type": "execute_result"
    }
   ],
   "source": [
    "summary = diagnostics[diagnostics['iteration'] == 9].groupby(['case', '_param_set'])[['central_likelihood']].mean()\n",
    "summary"
   ]
  },
  {
   "cell_type": "code",
   "execution_count": 100,
   "metadata": {},
   "outputs": [
    {
     "data": {
      "text/plain": [
       "{'bootstrap': True,\n",
       " 'n_jobs': 6,\n",
       " 'max_samples': 72860,\n",
       " 'n_estimators': 25,\n",
       " 'min_weight_fraction_leaf': 1e-05,\n",
       " 'max_features': 2}"
      ]
     },
     "execution_count": 100,
     "metadata": {},
     "output_type": "execute_result"
    }
   ],
   "source": [
    "df = summary.reset_index()\n",
    "params = param_sets[df[df['case'] == 'validate'].sort_values('central_likelihood', ascending=False)['_param_set'].values[0]]\n",
    "params"
   ]
  },
  {
   "cell_type": "code",
   "execution_count": 108,
   "metadata": {},
   "outputs": [
    {
     "name": "stderr",
     "output_type": "stream",
     "text": [
      "100%|██████████| 10/10 [00:16<00:00,  1.63s/it]\n"
     ]
    }
   ],
   "source": [
    "model = RandomForestRegressor(**params)\n",
    "\n",
    "model, diagnostics_results = train_utility_model(\n",
    "    model,\n",
    "    train,\n",
    "    test,\n",
    "    features,\n",
    "    10,\n",
    "    learning_rate=31 / 32,\n",
    ")"
   ]
  },
  {
   "cell_type": "code",
   "execution_count": 109,
   "metadata": {},
   "outputs": [
    {
     "data": {
      "application/vnd.plotly.v1+json": {
       "config": {
        "plotlyServerURL": "https://plot.ly"
       },
       "data": [
        {
         "hovertemplate": "case=test<br>iteration=%{x}<br>central_likelihood=%{y}<extra></extra>",
         "legendgroup": "test",
         "line": {
          "color": "#636efa",
          "dash": "solid"
         },
         "marker": {
          "symbol": "circle"
         },
         "mode": "lines",
         "name": "test",
         "orientation": "v",
         "showlegend": true,
         "type": "scatter",
         "x": [
          0,
          1,
          2,
          3,
          4,
          5,
          6,
          7,
          8,
          9
         ],
         "xaxis": "x",
         "y": [
          0.11287561169741514,
          0.16792595369605579,
          0.17765299926059142,
          0.18159813329632138,
          0.1819637086975079,
          0.183869211753135,
          0.1834943110694716,
          0.1832975842202465,
          0.18275358447893322,
          0.18339022418963508
         ],
         "yaxis": "y"
        },
        {
         "hovertemplate": "case=train<br>iteration=%{x}<br>central_likelihood=%{y}<extra></extra>",
         "legendgroup": "train",
         "line": {
          "color": "#EF553B",
          "dash": "solid"
         },
         "marker": {
          "symbol": "circle"
         },
         "mode": "lines",
         "name": "train",
         "orientation": "v",
         "showlegend": true,
         "type": "scatter",
         "x": [
          0,
          1,
          2,
          3,
          4,
          5,
          6,
          7,
          8,
          9
         ],
         "xaxis": "x",
         "y": [
          0.30974441029961775,
          0.3484751591139647,
          0.3601476427045501,
          0.3648600138529298,
          0.36727448486472447,
          0.36811345283084895,
          0.3685596633098388,
          0.3689465175447624,
          0.3686935949661831,
          0.36843025076502967
         ],
         "yaxis": "y"
        },
        {
         "hovertemplate": "case=validate<br>iteration=%{x}<br>central_likelihood=%{y}<extra></extra>",
         "legendgroup": "validate",
         "line": {
          "color": "#00cc96",
          "dash": "solid"
         },
         "marker": {
          "symbol": "circle"
         },
         "mode": "lines",
         "name": "validate",
         "orientation": "v",
         "showlegend": true,
         "type": "scatter",
         "x": [
          0,
          1,
          2,
          3,
          4,
          5,
          6,
          7,
          8,
          9
         ],
         "xaxis": "x",
         "y": [
          0.20053913708404345,
          0.2766268185065627,
          0.2801528261318772,
          0.28212119720801776,
          0.2824179767573722,
          0.28278877756376825,
          0.28295714431722396,
          0.28314891445805007,
          0.28284683506315517,
          0.2821009444755852
         ],
         "yaxis": "y"
        }
       ],
       "layout": {
        "legend": {
         "title": {
          "text": "case"
         },
         "tracegroupgap": 0
        },
        "margin": {
         "t": 60
        },
        "template": {
         "data": {
          "bar": [
           {
            "error_x": {
             "color": "#2a3f5f"
            },
            "error_y": {
             "color": "#2a3f5f"
            },
            "marker": {
             "line": {
              "color": "#E5ECF6",
              "width": 0.5
             },
             "pattern": {
              "fillmode": "overlay",
              "size": 10,
              "solidity": 0.2
             }
            },
            "type": "bar"
           }
          ],
          "barpolar": [
           {
            "marker": {
             "line": {
              "color": "#E5ECF6",
              "width": 0.5
             },
             "pattern": {
              "fillmode": "overlay",
              "size": 10,
              "solidity": 0.2
             }
            },
            "type": "barpolar"
           }
          ],
          "carpet": [
           {
            "aaxis": {
             "endlinecolor": "#2a3f5f",
             "gridcolor": "white",
             "linecolor": "white",
             "minorgridcolor": "white",
             "startlinecolor": "#2a3f5f"
            },
            "baxis": {
             "endlinecolor": "#2a3f5f",
             "gridcolor": "white",
             "linecolor": "white",
             "minorgridcolor": "white",
             "startlinecolor": "#2a3f5f"
            },
            "type": "carpet"
           }
          ],
          "choropleth": [
           {
            "colorbar": {
             "outlinewidth": 0,
             "ticks": ""
            },
            "type": "choropleth"
           }
          ],
          "contour": [
           {
            "colorbar": {
             "outlinewidth": 0,
             "ticks": ""
            },
            "colorscale": [
             [
              0,
              "#0d0887"
             ],
             [
              0.1111111111111111,
              "#46039f"
             ],
             [
              0.2222222222222222,
              "#7201a8"
             ],
             [
              0.3333333333333333,
              "#9c179e"
             ],
             [
              0.4444444444444444,
              "#bd3786"
             ],
             [
              0.5555555555555556,
              "#d8576b"
             ],
             [
              0.6666666666666666,
              "#ed7953"
             ],
             [
              0.7777777777777778,
              "#fb9f3a"
             ],
             [
              0.8888888888888888,
              "#fdca26"
             ],
             [
              1,
              "#f0f921"
             ]
            ],
            "type": "contour"
           }
          ],
          "contourcarpet": [
           {
            "colorbar": {
             "outlinewidth": 0,
             "ticks": ""
            },
            "type": "contourcarpet"
           }
          ],
          "heatmap": [
           {
            "colorbar": {
             "outlinewidth": 0,
             "ticks": ""
            },
            "colorscale": [
             [
              0,
              "#0d0887"
             ],
             [
              0.1111111111111111,
              "#46039f"
             ],
             [
              0.2222222222222222,
              "#7201a8"
             ],
             [
              0.3333333333333333,
              "#9c179e"
             ],
             [
              0.4444444444444444,
              "#bd3786"
             ],
             [
              0.5555555555555556,
              "#d8576b"
             ],
             [
              0.6666666666666666,
              "#ed7953"
             ],
             [
              0.7777777777777778,
              "#fb9f3a"
             ],
             [
              0.8888888888888888,
              "#fdca26"
             ],
             [
              1,
              "#f0f921"
             ]
            ],
            "type": "heatmap"
           }
          ],
          "heatmapgl": [
           {
            "colorbar": {
             "outlinewidth": 0,
             "ticks": ""
            },
            "colorscale": [
             [
              0,
              "#0d0887"
             ],
             [
              0.1111111111111111,
              "#46039f"
             ],
             [
              0.2222222222222222,
              "#7201a8"
             ],
             [
              0.3333333333333333,
              "#9c179e"
             ],
             [
              0.4444444444444444,
              "#bd3786"
             ],
             [
              0.5555555555555556,
              "#d8576b"
             ],
             [
              0.6666666666666666,
              "#ed7953"
             ],
             [
              0.7777777777777778,
              "#fb9f3a"
             ],
             [
              0.8888888888888888,
              "#fdca26"
             ],
             [
              1,
              "#f0f921"
             ]
            ],
            "type": "heatmapgl"
           }
          ],
          "histogram": [
           {
            "marker": {
             "pattern": {
              "fillmode": "overlay",
              "size": 10,
              "solidity": 0.2
             }
            },
            "type": "histogram"
           }
          ],
          "histogram2d": [
           {
            "colorbar": {
             "outlinewidth": 0,
             "ticks": ""
            },
            "colorscale": [
             [
              0,
              "#0d0887"
             ],
             [
              0.1111111111111111,
              "#46039f"
             ],
             [
              0.2222222222222222,
              "#7201a8"
             ],
             [
              0.3333333333333333,
              "#9c179e"
             ],
             [
              0.4444444444444444,
              "#bd3786"
             ],
             [
              0.5555555555555556,
              "#d8576b"
             ],
             [
              0.6666666666666666,
              "#ed7953"
             ],
             [
              0.7777777777777778,
              "#fb9f3a"
             ],
             [
              0.8888888888888888,
              "#fdca26"
             ],
             [
              1,
              "#f0f921"
             ]
            ],
            "type": "histogram2d"
           }
          ],
          "histogram2dcontour": [
           {
            "colorbar": {
             "outlinewidth": 0,
             "ticks": ""
            },
            "colorscale": [
             [
              0,
              "#0d0887"
             ],
             [
              0.1111111111111111,
              "#46039f"
             ],
             [
              0.2222222222222222,
              "#7201a8"
             ],
             [
              0.3333333333333333,
              "#9c179e"
             ],
             [
              0.4444444444444444,
              "#bd3786"
             ],
             [
              0.5555555555555556,
              "#d8576b"
             ],
             [
              0.6666666666666666,
              "#ed7953"
             ],
             [
              0.7777777777777778,
              "#fb9f3a"
             ],
             [
              0.8888888888888888,
              "#fdca26"
             ],
             [
              1,
              "#f0f921"
             ]
            ],
            "type": "histogram2dcontour"
           }
          ],
          "mesh3d": [
           {
            "colorbar": {
             "outlinewidth": 0,
             "ticks": ""
            },
            "type": "mesh3d"
           }
          ],
          "parcoords": [
           {
            "line": {
             "colorbar": {
              "outlinewidth": 0,
              "ticks": ""
             }
            },
            "type": "parcoords"
           }
          ],
          "pie": [
           {
            "automargin": true,
            "type": "pie"
           }
          ],
          "scatter": [
           {
            "fillpattern": {
             "fillmode": "overlay",
             "size": 10,
             "solidity": 0.2
            },
            "type": "scatter"
           }
          ],
          "scatter3d": [
           {
            "line": {
             "colorbar": {
              "outlinewidth": 0,
              "ticks": ""
             }
            },
            "marker": {
             "colorbar": {
              "outlinewidth": 0,
              "ticks": ""
             }
            },
            "type": "scatter3d"
           }
          ],
          "scattercarpet": [
           {
            "marker": {
             "colorbar": {
              "outlinewidth": 0,
              "ticks": ""
             }
            },
            "type": "scattercarpet"
           }
          ],
          "scattergeo": [
           {
            "marker": {
             "colorbar": {
              "outlinewidth": 0,
              "ticks": ""
             }
            },
            "type": "scattergeo"
           }
          ],
          "scattergl": [
           {
            "marker": {
             "colorbar": {
              "outlinewidth": 0,
              "ticks": ""
             }
            },
            "type": "scattergl"
           }
          ],
          "scattermapbox": [
           {
            "marker": {
             "colorbar": {
              "outlinewidth": 0,
              "ticks": ""
             }
            },
            "type": "scattermapbox"
           }
          ],
          "scatterpolar": [
           {
            "marker": {
             "colorbar": {
              "outlinewidth": 0,
              "ticks": ""
             }
            },
            "type": "scatterpolar"
           }
          ],
          "scatterpolargl": [
           {
            "marker": {
             "colorbar": {
              "outlinewidth": 0,
              "ticks": ""
             }
            },
            "type": "scatterpolargl"
           }
          ],
          "scatterternary": [
           {
            "marker": {
             "colorbar": {
              "outlinewidth": 0,
              "ticks": ""
             }
            },
            "type": "scatterternary"
           }
          ],
          "surface": [
           {
            "colorbar": {
             "outlinewidth": 0,
             "ticks": ""
            },
            "colorscale": [
             [
              0,
              "#0d0887"
             ],
             [
              0.1111111111111111,
              "#46039f"
             ],
             [
              0.2222222222222222,
              "#7201a8"
             ],
             [
              0.3333333333333333,
              "#9c179e"
             ],
             [
              0.4444444444444444,
              "#bd3786"
             ],
             [
              0.5555555555555556,
              "#d8576b"
             ],
             [
              0.6666666666666666,
              "#ed7953"
             ],
             [
              0.7777777777777778,
              "#fb9f3a"
             ],
             [
              0.8888888888888888,
              "#fdca26"
             ],
             [
              1,
              "#f0f921"
             ]
            ],
            "type": "surface"
           }
          ],
          "table": [
           {
            "cells": {
             "fill": {
              "color": "#EBF0F8"
             },
             "line": {
              "color": "white"
             }
            },
            "header": {
             "fill": {
              "color": "#C8D4E3"
             },
             "line": {
              "color": "white"
             }
            },
            "type": "table"
           }
          ]
         },
         "layout": {
          "annotationdefaults": {
           "arrowcolor": "#2a3f5f",
           "arrowhead": 0,
           "arrowwidth": 1
          },
          "autotypenumbers": "strict",
          "coloraxis": {
           "colorbar": {
            "outlinewidth": 0,
            "ticks": ""
           }
          },
          "colorscale": {
           "diverging": [
            [
             0,
             "#8e0152"
            ],
            [
             0.1,
             "#c51b7d"
            ],
            [
             0.2,
             "#de77ae"
            ],
            [
             0.3,
             "#f1b6da"
            ],
            [
             0.4,
             "#fde0ef"
            ],
            [
             0.5,
             "#f7f7f7"
            ],
            [
             0.6,
             "#e6f5d0"
            ],
            [
             0.7,
             "#b8e186"
            ],
            [
             0.8,
             "#7fbc41"
            ],
            [
             0.9,
             "#4d9221"
            ],
            [
             1,
             "#276419"
            ]
           ],
           "sequential": [
            [
             0,
             "#0d0887"
            ],
            [
             0.1111111111111111,
             "#46039f"
            ],
            [
             0.2222222222222222,
             "#7201a8"
            ],
            [
             0.3333333333333333,
             "#9c179e"
            ],
            [
             0.4444444444444444,
             "#bd3786"
            ],
            [
             0.5555555555555556,
             "#d8576b"
            ],
            [
             0.6666666666666666,
             "#ed7953"
            ],
            [
             0.7777777777777778,
             "#fb9f3a"
            ],
            [
             0.8888888888888888,
             "#fdca26"
            ],
            [
             1,
             "#f0f921"
            ]
           ],
           "sequentialminus": [
            [
             0,
             "#0d0887"
            ],
            [
             0.1111111111111111,
             "#46039f"
            ],
            [
             0.2222222222222222,
             "#7201a8"
            ],
            [
             0.3333333333333333,
             "#9c179e"
            ],
            [
             0.4444444444444444,
             "#bd3786"
            ],
            [
             0.5555555555555556,
             "#d8576b"
            ],
            [
             0.6666666666666666,
             "#ed7953"
            ],
            [
             0.7777777777777778,
             "#fb9f3a"
            ],
            [
             0.8888888888888888,
             "#fdca26"
            ],
            [
             1,
             "#f0f921"
            ]
           ]
          },
          "colorway": [
           "#636efa",
           "#EF553B",
           "#00cc96",
           "#ab63fa",
           "#FFA15A",
           "#19d3f3",
           "#FF6692",
           "#B6E880",
           "#FF97FF",
           "#FECB52"
          ],
          "font": {
           "color": "#2a3f5f"
          },
          "geo": {
           "bgcolor": "white",
           "lakecolor": "white",
           "landcolor": "#E5ECF6",
           "showlakes": true,
           "showland": true,
           "subunitcolor": "white"
          },
          "hoverlabel": {
           "align": "left"
          },
          "hovermode": "closest",
          "mapbox": {
           "style": "light"
          },
          "paper_bgcolor": "white",
          "plot_bgcolor": "#E5ECF6",
          "polar": {
           "angularaxis": {
            "gridcolor": "white",
            "linecolor": "white",
            "ticks": ""
           },
           "bgcolor": "#E5ECF6",
           "radialaxis": {
            "gridcolor": "white",
            "linecolor": "white",
            "ticks": ""
           }
          },
          "scene": {
           "xaxis": {
            "backgroundcolor": "#E5ECF6",
            "gridcolor": "white",
            "gridwidth": 2,
            "linecolor": "white",
            "showbackground": true,
            "ticks": "",
            "zerolinecolor": "white"
           },
           "yaxis": {
            "backgroundcolor": "#E5ECF6",
            "gridcolor": "white",
            "gridwidth": 2,
            "linecolor": "white",
            "showbackground": true,
            "ticks": "",
            "zerolinecolor": "white"
           },
           "zaxis": {
            "backgroundcolor": "#E5ECF6",
            "gridcolor": "white",
            "gridwidth": 2,
            "linecolor": "white",
            "showbackground": true,
            "ticks": "",
            "zerolinecolor": "white"
           }
          },
          "shapedefaults": {
           "line": {
            "color": "#2a3f5f"
           }
          },
          "ternary": {
           "aaxis": {
            "gridcolor": "white",
            "linecolor": "white",
            "ticks": ""
           },
           "baxis": {
            "gridcolor": "white",
            "linecolor": "white",
            "ticks": ""
           },
           "bgcolor": "#E5ECF6",
           "caxis": {
            "gridcolor": "white",
            "linecolor": "white",
            "ticks": ""
           }
          },
          "title": {
           "x": 0.05
          },
          "xaxis": {
           "automargin": true,
           "gridcolor": "white",
           "linecolor": "white",
           "ticks": "",
           "title": {
            "standoff": 15
           },
           "zerolinecolor": "white",
           "zerolinewidth": 2
          },
          "yaxis": {
           "automargin": true,
           "gridcolor": "white",
           "linecolor": "white",
           "ticks": "",
           "title": {
            "standoff": 15
           },
           "zerolinecolor": "white",
           "zerolinewidth": 2
          }
         }
        },
        "xaxis": {
         "anchor": "y",
         "domain": [
          0,
          1
         ],
         "title": {
          "text": "iteration"
         }
        },
        "yaxis": {
         "anchor": "x",
         "domain": [
          0,
          1
         ],
         "title": {
          "text": "central_likelihood"
         }
        }
       }
      },
      "text/html": [
       "<div>                            <div id=\"8a99b6a3-debf-4df3-a495-751d30cde689\" class=\"plotly-graph-div\" style=\"height:525px; width:100%;\"></div>            <script type=\"text/javascript\">                require([\"plotly\"], function(Plotly) {                    window.PLOTLYENV=window.PLOTLYENV || {};                                    if (document.getElementById(\"8a99b6a3-debf-4df3-a495-751d30cde689\")) {                    Plotly.newPlot(                        \"8a99b6a3-debf-4df3-a495-751d30cde689\",                        [{\"hovertemplate\":\"case=test\\u003cbr\\u003eiteration=%{x}\\u003cbr\\u003ecentral_likelihood=%{y}\\u003cextra\\u003e\\u003c\\u002fextra\\u003e\",\"legendgroup\":\"test\",\"line\":{\"color\":\"#636efa\",\"dash\":\"solid\"},\"marker\":{\"symbol\":\"circle\"},\"mode\":\"lines\",\"name\":\"test\",\"orientation\":\"v\",\"showlegend\":true,\"x\":[0,1,2,3,4,5,6,7,8,9],\"xaxis\":\"x\",\"y\":[0.11287561169741514,0.16792595369605579,0.17765299926059142,0.18159813329632138,0.1819637086975079,0.183869211753135,0.1834943110694716,0.1832975842202465,0.18275358447893322,0.18339022418963508],\"yaxis\":\"y\",\"type\":\"scatter\"},{\"hovertemplate\":\"case=train\\u003cbr\\u003eiteration=%{x}\\u003cbr\\u003ecentral_likelihood=%{y}\\u003cextra\\u003e\\u003c\\u002fextra\\u003e\",\"legendgroup\":\"train\",\"line\":{\"color\":\"#EF553B\",\"dash\":\"solid\"},\"marker\":{\"symbol\":\"circle\"},\"mode\":\"lines\",\"name\":\"train\",\"orientation\":\"v\",\"showlegend\":true,\"x\":[0,1,2,3,4,5,6,7,8,9],\"xaxis\":\"x\",\"y\":[0.30974441029961775,0.3484751591139647,0.3601476427045501,0.3648600138529298,0.36727448486472447,0.36811345283084895,0.3685596633098388,0.3689465175447624,0.3686935949661831,0.36843025076502967],\"yaxis\":\"y\",\"type\":\"scatter\"},{\"hovertemplate\":\"case=validate\\u003cbr\\u003eiteration=%{x}\\u003cbr\\u003ecentral_likelihood=%{y}\\u003cextra\\u003e\\u003c\\u002fextra\\u003e\",\"legendgroup\":\"validate\",\"line\":{\"color\":\"#00cc96\",\"dash\":\"solid\"},\"marker\":{\"symbol\":\"circle\"},\"mode\":\"lines\",\"name\":\"validate\",\"orientation\":\"v\",\"showlegend\":true,\"x\":[0,1,2,3,4,5,6,7,8,9],\"xaxis\":\"x\",\"y\":[0.20053913708404345,0.2766268185065627,0.2801528261318772,0.28212119720801776,0.2824179767573722,0.28278877756376825,0.28295714431722396,0.28314891445805007,0.28284683506315517,0.2821009444755852],\"yaxis\":\"y\",\"type\":\"scatter\"}],                        {\"template\":{\"data\":{\"histogram2dcontour\":[{\"type\":\"histogram2dcontour\",\"colorbar\":{\"outlinewidth\":0,\"ticks\":\"\"},\"colorscale\":[[0.0,\"#0d0887\"],[0.1111111111111111,\"#46039f\"],[0.2222222222222222,\"#7201a8\"],[0.3333333333333333,\"#9c179e\"],[0.4444444444444444,\"#bd3786\"],[0.5555555555555556,\"#d8576b\"],[0.6666666666666666,\"#ed7953\"],[0.7777777777777778,\"#fb9f3a\"],[0.8888888888888888,\"#fdca26\"],[1.0,\"#f0f921\"]]}],\"choropleth\":[{\"type\":\"choropleth\",\"colorbar\":{\"outlinewidth\":0,\"ticks\":\"\"}}],\"histogram2d\":[{\"type\":\"histogram2d\",\"colorbar\":{\"outlinewidth\":0,\"ticks\":\"\"},\"colorscale\":[[0.0,\"#0d0887\"],[0.1111111111111111,\"#46039f\"],[0.2222222222222222,\"#7201a8\"],[0.3333333333333333,\"#9c179e\"],[0.4444444444444444,\"#bd3786\"],[0.5555555555555556,\"#d8576b\"],[0.6666666666666666,\"#ed7953\"],[0.7777777777777778,\"#fb9f3a\"],[0.8888888888888888,\"#fdca26\"],[1.0,\"#f0f921\"]]}],\"heatmap\":[{\"type\":\"heatmap\",\"colorbar\":{\"outlinewidth\":0,\"ticks\":\"\"},\"colorscale\":[[0.0,\"#0d0887\"],[0.1111111111111111,\"#46039f\"],[0.2222222222222222,\"#7201a8\"],[0.3333333333333333,\"#9c179e\"],[0.4444444444444444,\"#bd3786\"],[0.5555555555555556,\"#d8576b\"],[0.6666666666666666,\"#ed7953\"],[0.7777777777777778,\"#fb9f3a\"],[0.8888888888888888,\"#fdca26\"],[1.0,\"#f0f921\"]]}],\"heatmapgl\":[{\"type\":\"heatmapgl\",\"colorbar\":{\"outlinewidth\":0,\"ticks\":\"\"},\"colorscale\":[[0.0,\"#0d0887\"],[0.1111111111111111,\"#46039f\"],[0.2222222222222222,\"#7201a8\"],[0.3333333333333333,\"#9c179e\"],[0.4444444444444444,\"#bd3786\"],[0.5555555555555556,\"#d8576b\"],[0.6666666666666666,\"#ed7953\"],[0.7777777777777778,\"#fb9f3a\"],[0.8888888888888888,\"#fdca26\"],[1.0,\"#f0f921\"]]}],\"contourcarpet\":[{\"type\":\"contourcarpet\",\"colorbar\":{\"outlinewidth\":0,\"ticks\":\"\"}}],\"contour\":[{\"type\":\"contour\",\"colorbar\":{\"outlinewidth\":0,\"ticks\":\"\"},\"colorscale\":[[0.0,\"#0d0887\"],[0.1111111111111111,\"#46039f\"],[0.2222222222222222,\"#7201a8\"],[0.3333333333333333,\"#9c179e\"],[0.4444444444444444,\"#bd3786\"],[0.5555555555555556,\"#d8576b\"],[0.6666666666666666,\"#ed7953\"],[0.7777777777777778,\"#fb9f3a\"],[0.8888888888888888,\"#fdca26\"],[1.0,\"#f0f921\"]]}],\"surface\":[{\"type\":\"surface\",\"colorbar\":{\"outlinewidth\":0,\"ticks\":\"\"},\"colorscale\":[[0.0,\"#0d0887\"],[0.1111111111111111,\"#46039f\"],[0.2222222222222222,\"#7201a8\"],[0.3333333333333333,\"#9c179e\"],[0.4444444444444444,\"#bd3786\"],[0.5555555555555556,\"#d8576b\"],[0.6666666666666666,\"#ed7953\"],[0.7777777777777778,\"#fb9f3a\"],[0.8888888888888888,\"#fdca26\"],[1.0,\"#f0f921\"]]}],\"mesh3d\":[{\"type\":\"mesh3d\",\"colorbar\":{\"outlinewidth\":0,\"ticks\":\"\"}}],\"scatter\":[{\"fillpattern\":{\"fillmode\":\"overlay\",\"size\":10,\"solidity\":0.2},\"type\":\"scatter\"}],\"parcoords\":[{\"type\":\"parcoords\",\"line\":{\"colorbar\":{\"outlinewidth\":0,\"ticks\":\"\"}}}],\"scatterpolargl\":[{\"type\":\"scatterpolargl\",\"marker\":{\"colorbar\":{\"outlinewidth\":0,\"ticks\":\"\"}}}],\"bar\":[{\"error_x\":{\"color\":\"#2a3f5f\"},\"error_y\":{\"color\":\"#2a3f5f\"},\"marker\":{\"line\":{\"color\":\"#E5ECF6\",\"width\":0.5},\"pattern\":{\"fillmode\":\"overlay\",\"size\":10,\"solidity\":0.2}},\"type\":\"bar\"}],\"scattergeo\":[{\"type\":\"scattergeo\",\"marker\":{\"colorbar\":{\"outlinewidth\":0,\"ticks\":\"\"}}}],\"scatterpolar\":[{\"type\":\"scatterpolar\",\"marker\":{\"colorbar\":{\"outlinewidth\":0,\"ticks\":\"\"}}}],\"histogram\":[{\"marker\":{\"pattern\":{\"fillmode\":\"overlay\",\"size\":10,\"solidity\":0.2}},\"type\":\"histogram\"}],\"scattergl\":[{\"type\":\"scattergl\",\"marker\":{\"colorbar\":{\"outlinewidth\":0,\"ticks\":\"\"}}}],\"scatter3d\":[{\"type\":\"scatter3d\",\"line\":{\"colorbar\":{\"outlinewidth\":0,\"ticks\":\"\"}},\"marker\":{\"colorbar\":{\"outlinewidth\":0,\"ticks\":\"\"}}}],\"scattermapbox\":[{\"type\":\"scattermapbox\",\"marker\":{\"colorbar\":{\"outlinewidth\":0,\"ticks\":\"\"}}}],\"scatterternary\":[{\"type\":\"scatterternary\",\"marker\":{\"colorbar\":{\"outlinewidth\":0,\"ticks\":\"\"}}}],\"scattercarpet\":[{\"type\":\"scattercarpet\",\"marker\":{\"colorbar\":{\"outlinewidth\":0,\"ticks\":\"\"}}}],\"carpet\":[{\"aaxis\":{\"endlinecolor\":\"#2a3f5f\",\"gridcolor\":\"white\",\"linecolor\":\"white\",\"minorgridcolor\":\"white\",\"startlinecolor\":\"#2a3f5f\"},\"baxis\":{\"endlinecolor\":\"#2a3f5f\",\"gridcolor\":\"white\",\"linecolor\":\"white\",\"minorgridcolor\":\"white\",\"startlinecolor\":\"#2a3f5f\"},\"type\":\"carpet\"}],\"table\":[{\"cells\":{\"fill\":{\"color\":\"#EBF0F8\"},\"line\":{\"color\":\"white\"}},\"header\":{\"fill\":{\"color\":\"#C8D4E3\"},\"line\":{\"color\":\"white\"}},\"type\":\"table\"}],\"barpolar\":[{\"marker\":{\"line\":{\"color\":\"#E5ECF6\",\"width\":0.5},\"pattern\":{\"fillmode\":\"overlay\",\"size\":10,\"solidity\":0.2}},\"type\":\"barpolar\"}],\"pie\":[{\"automargin\":true,\"type\":\"pie\"}]},\"layout\":{\"autotypenumbers\":\"strict\",\"colorway\":[\"#636efa\",\"#EF553B\",\"#00cc96\",\"#ab63fa\",\"#FFA15A\",\"#19d3f3\",\"#FF6692\",\"#B6E880\",\"#FF97FF\",\"#FECB52\"],\"font\":{\"color\":\"#2a3f5f\"},\"hovermode\":\"closest\",\"hoverlabel\":{\"align\":\"left\"},\"paper_bgcolor\":\"white\",\"plot_bgcolor\":\"#E5ECF6\",\"polar\":{\"bgcolor\":\"#E5ECF6\",\"angularaxis\":{\"gridcolor\":\"white\",\"linecolor\":\"white\",\"ticks\":\"\"},\"radialaxis\":{\"gridcolor\":\"white\",\"linecolor\":\"white\",\"ticks\":\"\"}},\"ternary\":{\"bgcolor\":\"#E5ECF6\",\"aaxis\":{\"gridcolor\":\"white\",\"linecolor\":\"white\",\"ticks\":\"\"},\"baxis\":{\"gridcolor\":\"white\",\"linecolor\":\"white\",\"ticks\":\"\"},\"caxis\":{\"gridcolor\":\"white\",\"linecolor\":\"white\",\"ticks\":\"\"}},\"coloraxis\":{\"colorbar\":{\"outlinewidth\":0,\"ticks\":\"\"}},\"colorscale\":{\"sequential\":[[0.0,\"#0d0887\"],[0.1111111111111111,\"#46039f\"],[0.2222222222222222,\"#7201a8\"],[0.3333333333333333,\"#9c179e\"],[0.4444444444444444,\"#bd3786\"],[0.5555555555555556,\"#d8576b\"],[0.6666666666666666,\"#ed7953\"],[0.7777777777777778,\"#fb9f3a\"],[0.8888888888888888,\"#fdca26\"],[1.0,\"#f0f921\"]],\"sequentialminus\":[[0.0,\"#0d0887\"],[0.1111111111111111,\"#46039f\"],[0.2222222222222222,\"#7201a8\"],[0.3333333333333333,\"#9c179e\"],[0.4444444444444444,\"#bd3786\"],[0.5555555555555556,\"#d8576b\"],[0.6666666666666666,\"#ed7953\"],[0.7777777777777778,\"#fb9f3a\"],[0.8888888888888888,\"#fdca26\"],[1.0,\"#f0f921\"]],\"diverging\":[[0,\"#8e0152\"],[0.1,\"#c51b7d\"],[0.2,\"#de77ae\"],[0.3,\"#f1b6da\"],[0.4,\"#fde0ef\"],[0.5,\"#f7f7f7\"],[0.6,\"#e6f5d0\"],[0.7,\"#b8e186\"],[0.8,\"#7fbc41\"],[0.9,\"#4d9221\"],[1,\"#276419\"]]},\"xaxis\":{\"gridcolor\":\"white\",\"linecolor\":\"white\",\"ticks\":\"\",\"title\":{\"standoff\":15},\"zerolinecolor\":\"white\",\"automargin\":true,\"zerolinewidth\":2},\"yaxis\":{\"gridcolor\":\"white\",\"linecolor\":\"white\",\"ticks\":\"\",\"title\":{\"standoff\":15},\"zerolinecolor\":\"white\",\"automargin\":true,\"zerolinewidth\":2},\"scene\":{\"xaxis\":{\"backgroundcolor\":\"#E5ECF6\",\"gridcolor\":\"white\",\"linecolor\":\"white\",\"showbackground\":true,\"ticks\":\"\",\"zerolinecolor\":\"white\",\"gridwidth\":2},\"yaxis\":{\"backgroundcolor\":\"#E5ECF6\",\"gridcolor\":\"white\",\"linecolor\":\"white\",\"showbackground\":true,\"ticks\":\"\",\"zerolinecolor\":\"white\",\"gridwidth\":2},\"zaxis\":{\"backgroundcolor\":\"#E5ECF6\",\"gridcolor\":\"white\",\"linecolor\":\"white\",\"showbackground\":true,\"ticks\":\"\",\"zerolinecolor\":\"white\",\"gridwidth\":2}},\"shapedefaults\":{\"line\":{\"color\":\"#2a3f5f\"}},\"annotationdefaults\":{\"arrowcolor\":\"#2a3f5f\",\"arrowhead\":0,\"arrowwidth\":1},\"geo\":{\"bgcolor\":\"white\",\"landcolor\":\"#E5ECF6\",\"subunitcolor\":\"white\",\"showland\":true,\"showlakes\":true,\"lakecolor\":\"white\"},\"title\":{\"x\":0.05},\"mapbox\":{\"style\":\"light\"}}},\"xaxis\":{\"anchor\":\"y\",\"domain\":[0.0,1.0],\"title\":{\"text\":\"iteration\"}},\"yaxis\":{\"anchor\":\"x\",\"domain\":[0.0,1.0],\"title\":{\"text\":\"central_likelihood\"}},\"legend\":{\"title\":{\"text\":\"case\"},\"tracegroupgap\":0},\"margin\":{\"t\":60}},                        {\"responsive\": true}                    ).then(function(){\n",
       "                            \n",
       "var gd = document.getElementById('8a99b6a3-debf-4df3-a495-751d30cde689');\n",
       "var x = new MutationObserver(function (mutations, observer) {{\n",
       "        var display = window.getComputedStyle(gd).display;\n",
       "        if (!display || display === 'none') {{\n",
       "            console.log([gd, 'removed!']);\n",
       "            Plotly.purge(gd);\n",
       "            observer.disconnect();\n",
       "        }}\n",
       "}});\n",
       "\n",
       "// Listen for the removal of the full notebook cells\n",
       "var notebookContainer = gd.closest('#notebook-container');\n",
       "if (notebookContainer) {{\n",
       "    x.observe(notebookContainer, {childList: true});\n",
       "}}\n",
       "\n",
       "// Listen for the clearing of the current output cell\n",
       "var outputEl = gd.closest('.output');\n",
       "if (outputEl) {{\n",
       "    x.observe(outputEl, {childList: true});\n",
       "}}\n",
       "\n",
       "                        })                };                });            </script>        </div>"
      ]
     },
     "metadata": {},
     "output_type": "display_data"
    }
   ],
   "source": [
    "px.line(\n",
    "    diagnostics_results.groupby(['iteration', 'case']).mean().reset_index(),\n",
    "    x='iteration', y='central_likelihood', color='case'\n",
    ")"
   ]
  },
  {
   "cell_type": "code",
   "execution_count": 103,
   "metadata": {},
   "outputs": [
    {
     "name": "stdout",
     "output_type": "stream",
     "text": [
      "0.3695769923149888\n"
     ]
    },
    {
     "data": {
      "text/html": [
       "<div>\n",
       "<style scoped>\n",
       "    .dataframe tbody tr th:only-of-type {\n",
       "        vertical-align: middle;\n",
       "    }\n",
       "\n",
       "    .dataframe tbody tr th {\n",
       "        vertical-align: top;\n",
       "    }\n",
       "\n",
       "    .dataframe thead th {\n",
       "        text-align: right;\n",
       "    }\n",
       "</style>\n",
       "<table border=\"1\" class=\"dataframe\">\n",
       "  <thead>\n",
       "    <tr style=\"text-align: right;\">\n",
       "      <th></th>\n",
       "      <th>selected</th>\n",
       "      <th>_decision</th>\n",
       "      <th>_identifier</th>\n",
       "      <th>depth_class</th>\n",
       "      <th>latitude</th>\n",
       "      <th>sunrise</th>\n",
       "      <th>interval</th>\n",
       "      <th>daytime</th>\n",
       "      <th>fold</th>\n",
       "      <th>proposed</th>\n",
       "      <th>utility</th>\n",
       "      <th>sum_utility</th>\n",
       "      <th>probability</th>\n",
       "      <th>score</th>\n",
       "    </tr>\n",
       "  </thead>\n",
       "  <tbody>\n",
       "    <tr>\n",
       "      <th>0</th>\n",
       "      <td>False</td>\n",
       "      <td>0</td>\n",
       "      <td>142189</td>\n",
       "      <td>25</td>\n",
       "      <td>62.070841</td>\n",
       "      <td>18</td>\n",
       "      <td>10</td>\n",
       "      <td>1.0</td>\n",
       "      <td>3</td>\n",
       "      <td>3.588816</td>\n",
       "      <td>4.501899</td>\n",
       "      <td>22.196341</td>\n",
       "      <td>0.202822</td>\n",
       "      <td>-0.202822</td>\n",
       "    </tr>\n",
       "    <tr>\n",
       "      <th>1</th>\n",
       "      <td>False</td>\n",
       "      <td>0</td>\n",
       "      <td>142189</td>\n",
       "      <td>50</td>\n",
       "      <td>62.070841</td>\n",
       "      <td>18</td>\n",
       "      <td>10</td>\n",
       "      <td>1.0</td>\n",
       "      <td>3</td>\n",
       "      <td>2.815283</td>\n",
       "      <td>3.308407</td>\n",
       "      <td>22.196341</td>\n",
       "      <td>0.149052</td>\n",
       "      <td>-0.149052</td>\n",
       "    </tr>\n",
       "    <tr>\n",
       "      <th>2</th>\n",
       "      <td>True</td>\n",
       "      <td>0</td>\n",
       "      <td>142189</td>\n",
       "      <td>75</td>\n",
       "      <td>62.070841</td>\n",
       "      <td>18</td>\n",
       "      <td>10</td>\n",
       "      <td>1.0</td>\n",
       "      <td>3</td>\n",
       "      <td>7.180502</td>\n",
       "      <td>3.939926</td>\n",
       "      <td>22.196341</td>\n",
       "      <td>0.177503</td>\n",
       "      <td>0.822497</td>\n",
       "    </tr>\n",
       "    <tr>\n",
       "      <th>3</th>\n",
       "      <td>False</td>\n",
       "      <td>0</td>\n",
       "      <td>142189</td>\n",
       "      <td>100</td>\n",
       "      <td>62.070841</td>\n",
       "      <td>18</td>\n",
       "      <td>10</td>\n",
       "      <td>1.0</td>\n",
       "      <td>3</td>\n",
       "      <td>2.864680</td>\n",
       "      <td>3.379105</td>\n",
       "      <td>22.196341</td>\n",
       "      <td>0.152237</td>\n",
       "      <td>-0.152237</td>\n",
       "    </tr>\n",
       "    <tr>\n",
       "      <th>4</th>\n",
       "      <td>False</td>\n",
       "      <td>0</td>\n",
       "      <td>142189</td>\n",
       "      <td>150</td>\n",
       "      <td>62.070841</td>\n",
       "      <td>18</td>\n",
       "      <td>10</td>\n",
       "      <td>1.0</td>\n",
       "      <td>3</td>\n",
       "      <td>3.190884</td>\n",
       "      <td>3.863294</td>\n",
       "      <td>22.196341</td>\n",
       "      <td>0.174051</td>\n",
       "      <td>-0.174051</td>\n",
       "    </tr>\n",
       "  </tbody>\n",
       "</table>\n",
       "</div>"
      ],
      "text/plain": [
       "   selected  _decision _identifier  depth_class   latitude  sunrise  interval  \\\n",
       "0     False          0      142189           25  62.070841       18        10   \n",
       "1     False          0      142189           50  62.070841       18        10   \n",
       "2      True          0      142189           75  62.070841       18        10   \n",
       "3     False          0      142189          100  62.070841       18        10   \n",
       "4     False          0      142189          150  62.070841       18        10   \n",
       "\n",
       "   daytime  fold  proposed   utility  sum_utility  probability     score  \n",
       "0      1.0     3  3.588816  4.501899    22.196341     0.202822 -0.202822  \n",
       "1      1.0     3  2.815283  3.308407    22.196341     0.149052 -0.149052  \n",
       "2      1.0     3  7.180502  3.939926    22.196341     0.177503  0.822497  \n",
       "3      1.0     3  2.864680  3.379105    22.196341     0.152237 -0.152237  \n",
       "4      1.0     3  3.190884  3.863294    22.196341     0.174051 -0.174051  "
      ]
     },
     "execution_count": 103,
     "metadata": {},
     "output_type": "execute_result"
    }
   ],
   "source": [
    "train[\"utility\"] = model.predict(train[features])\n",
    "train = get_proposed_utility(train)\n",
    "print(get_central_likelihood(train))\n",
    "train.head()"
   ]
  },
  {
   "cell_type": "code",
   "execution_count": 104,
   "metadata": {},
   "outputs": [
    {
     "name": "stdout",
     "output_type": "stream",
     "text": [
      "0.18477711835589997\n"
     ]
    },
    {
     "data": {
      "text/html": [
       "<div>\n",
       "<style scoped>\n",
       "    .dataframe tbody tr th:only-of-type {\n",
       "        vertical-align: middle;\n",
       "    }\n",
       "\n",
       "    .dataframe tbody tr th {\n",
       "        vertical-align: top;\n",
       "    }\n",
       "\n",
       "    .dataframe thead th {\n",
       "        text-align: right;\n",
       "    }\n",
       "</style>\n",
       "<table border=\"1\" class=\"dataframe\">\n",
       "  <thead>\n",
       "    <tr style=\"text-align: right;\">\n",
       "      <th></th>\n",
       "      <th>selected</th>\n",
       "      <th>_decision</th>\n",
       "      <th>_identifier</th>\n",
       "      <th>depth_class</th>\n",
       "      <th>latitude</th>\n",
       "      <th>sunrise</th>\n",
       "      <th>interval</th>\n",
       "      <th>daytime</th>\n",
       "      <th>utility</th>\n",
       "      <th>sum_utility</th>\n",
       "      <th>probability</th>\n",
       "      <th>score</th>\n",
       "      <th>proposed</th>\n",
       "    </tr>\n",
       "  </thead>\n",
       "  <tbody>\n",
       "    <tr>\n",
       "      <th>10</th>\n",
       "      <td>True</td>\n",
       "      <td>1</td>\n",
       "      <td>202595</td>\n",
       "      <td>25</td>\n",
       "      <td>55.175</td>\n",
       "      <td>19</td>\n",
       "      <td>7</td>\n",
       "      <td>0.0</td>\n",
       "      <td>6.241106</td>\n",
       "      <td>32.329635</td>\n",
       "      <td>0.193046</td>\n",
       "      <td>0.806954</td>\n",
       "      <td>11.277392</td>\n",
       "    </tr>\n",
       "    <tr>\n",
       "      <th>11</th>\n",
       "      <td>False</td>\n",
       "      <td>1</td>\n",
       "      <td>202595</td>\n",
       "      <td>50</td>\n",
       "      <td>55.175</td>\n",
       "      <td>19</td>\n",
       "      <td>7</td>\n",
       "      <td>0.0</td>\n",
       "      <td>2.170235</td>\n",
       "      <td>32.329635</td>\n",
       "      <td>0.067128</td>\n",
       "      <td>-0.067128</td>\n",
       "      <td>2.024550</td>\n",
       "    </tr>\n",
       "    <tr>\n",
       "      <th>12</th>\n",
       "      <td>False</td>\n",
       "      <td>1</td>\n",
       "      <td>202595</td>\n",
       "      <td>75</td>\n",
       "      <td>55.175</td>\n",
       "      <td>19</td>\n",
       "      <td>7</td>\n",
       "      <td>0.0</td>\n",
       "      <td>6.246415</td>\n",
       "      <td>32.329635</td>\n",
       "      <td>0.193210</td>\n",
       "      <td>-0.193210</td>\n",
       "      <td>5.039544</td>\n",
       "    </tr>\n",
       "    <tr>\n",
       "      <th>13</th>\n",
       "      <td>False</td>\n",
       "      <td>1</td>\n",
       "      <td>202595</td>\n",
       "      <td>100</td>\n",
       "      <td>55.175</td>\n",
       "      <td>19</td>\n",
       "      <td>7</td>\n",
       "      <td>0.0</td>\n",
       "      <td>8.671135</td>\n",
       "      <td>32.329635</td>\n",
       "      <td>0.268210</td>\n",
       "      <td>-0.268210</td>\n",
       "      <td>6.345449</td>\n",
       "    </tr>\n",
       "    <tr>\n",
       "      <th>14</th>\n",
       "      <td>False</td>\n",
       "      <td>1</td>\n",
       "      <td>202595</td>\n",
       "      <td>150</td>\n",
       "      <td>55.175</td>\n",
       "      <td>19</td>\n",
       "      <td>7</td>\n",
       "      <td>0.0</td>\n",
       "      <td>7.430874</td>\n",
       "      <td>32.329635</td>\n",
       "      <td>0.229847</td>\n",
       "      <td>-0.229847</td>\n",
       "      <td>5.722909</td>\n",
       "    </tr>\n",
       "  </tbody>\n",
       "</table>\n",
       "</div>"
      ],
      "text/plain": [
       "    selected  _decision _identifier  depth_class  latitude  sunrise  interval  \\\n",
       "10      True          1      202595           25    55.175       19         7   \n",
       "11     False          1      202595           50    55.175       19         7   \n",
       "12     False          1      202595           75    55.175       19         7   \n",
       "13     False          1      202595          100    55.175       19         7   \n",
       "14     False          1      202595          150    55.175       19         7   \n",
       "\n",
       "    daytime   utility  sum_utility  probability     score   proposed  \n",
       "10      0.0  6.241106    32.329635     0.193046  0.806954  11.277392  \n",
       "11      0.0  2.170235    32.329635     0.067128 -0.067128   2.024550  \n",
       "12      0.0  6.246415    32.329635     0.193210 -0.193210   5.039544  \n",
       "13      0.0  8.671135    32.329635     0.268210 -0.268210   6.345449  \n",
       "14      0.0  7.430874    32.329635     0.229847 -0.229847   5.722909  "
      ]
     },
     "execution_count": 104,
     "metadata": {},
     "output_type": "execute_result"
    }
   ],
   "source": [
    "test[\"utility\"] = model.predict(test[features])\n",
    "test = get_proposed_utility(test)\n",
    "print(get_central_likelihood(test))\n",
    "test.head()"
   ]
  },
  {
   "cell_type": "code",
   "execution_count": 105,
   "metadata": {},
   "outputs": [
    {
     "data": {
      "text/html": [
       "<div>\n",
       "<style scoped>\n",
       "    .dataframe tbody tr th:only-of-type {\n",
       "        vertical-align: middle;\n",
       "    }\n",
       "\n",
       "    .dataframe tbody tr th {\n",
       "        vertical-align: top;\n",
       "    }\n",
       "\n",
       "    .dataframe thead th {\n",
       "        text-align: right;\n",
       "    }\n",
       "</style>\n",
       "<table border=\"1\" class=\"dataframe\">\n",
       "  <thead>\n",
       "    <tr style=\"text-align: right;\">\n",
       "      <th></th>\n",
       "      <th>probability</th>\n",
       "      <th>selected</th>\n",
       "    </tr>\n",
       "    <tr>\n",
       "      <th>depth_class</th>\n",
       "      <th></th>\n",
       "      <th></th>\n",
       "    </tr>\n",
       "  </thead>\n",
       "  <tbody>\n",
       "    <tr>\n",
       "      <th>25</th>\n",
       "      <td>0.498590</td>\n",
       "      <td>0.508784</td>\n",
       "    </tr>\n",
       "    <tr>\n",
       "      <th>50</th>\n",
       "      <td>0.162544</td>\n",
       "      <td>0.164837</td>\n",
       "    </tr>\n",
       "    <tr>\n",
       "      <th>75</th>\n",
       "      <td>0.110992</td>\n",
       "      <td>0.108976</td>\n",
       "    </tr>\n",
       "    <tr>\n",
       "      <th>100</th>\n",
       "      <td>0.089766</td>\n",
       "      <td>0.086399</td>\n",
       "    </tr>\n",
       "    <tr>\n",
       "      <th>150</th>\n",
       "      <td>0.092691</td>\n",
       "      <td>0.094153</td>\n",
       "    </tr>\n",
       "    <tr>\n",
       "      <th>200</th>\n",
       "      <td>0.029328</td>\n",
       "      <td>0.029577</td>\n",
       "    </tr>\n",
       "    <tr>\n",
       "      <th>250</th>\n",
       "      <td>0.006126</td>\n",
       "      <td>0.003980</td>\n",
       "    </tr>\n",
       "    <tr>\n",
       "      <th>300</th>\n",
       "      <td>0.003880</td>\n",
       "      <td>0.002539</td>\n",
       "    </tr>\n",
       "    <tr>\n",
       "      <th>400</th>\n",
       "      <td>0.003088</td>\n",
       "      <td>0.000755</td>\n",
       "    </tr>\n",
       "    <tr>\n",
       "      <th>500</th>\n",
       "      <td>0.002995</td>\n",
       "      <td>0.000000</td>\n",
       "    </tr>\n",
       "  </tbody>\n",
       "</table>\n",
       "</div>"
      ],
      "text/plain": [
       "             probability  selected\n",
       "depth_class                       \n",
       "25              0.498590  0.508784\n",
       "50              0.162544  0.164837\n",
       "75              0.110992  0.108976\n",
       "100             0.089766  0.086399\n",
       "150             0.092691  0.094153\n",
       "200             0.029328  0.029577\n",
       "250             0.006126  0.003980\n",
       "300             0.003880  0.002539\n",
       "400             0.003088  0.000755\n",
       "500             0.002995  0.000000"
      ]
     },
     "execution_count": 105,
     "metadata": {},
     "output_type": "execute_result"
    }
   ],
   "source": [
    "train.groupby('depth_class')[['probability', 'selected']].mean()"
   ]
  },
  {
   "cell_type": "code",
   "execution_count": 106,
   "metadata": {},
   "outputs": [
    {
     "data": {
      "text/html": [
       "<div>\n",
       "<style scoped>\n",
       "    .dataframe tbody tr th:only-of-type {\n",
       "        vertical-align: middle;\n",
       "    }\n",
       "\n",
       "    .dataframe tbody tr th {\n",
       "        vertical-align: top;\n",
       "    }\n",
       "\n",
       "    .dataframe thead th {\n",
       "        text-align: right;\n",
       "    }\n",
       "</style>\n",
       "<table border=\"1\" class=\"dataframe\">\n",
       "  <thead>\n",
       "    <tr style=\"text-align: right;\">\n",
       "      <th></th>\n",
       "      <th>probability</th>\n",
       "      <th>selected</th>\n",
       "    </tr>\n",
       "    <tr>\n",
       "      <th>depth_class</th>\n",
       "      <th></th>\n",
       "      <th></th>\n",
       "    </tr>\n",
       "  </thead>\n",
       "  <tbody>\n",
       "    <tr>\n",
       "      <th>25</th>\n",
       "      <td>0.464721</td>\n",
       "      <td>0.484709</td>\n",
       "    </tr>\n",
       "    <tr>\n",
       "      <th>50</th>\n",
       "      <td>0.188315</td>\n",
       "      <td>0.162122</td>\n",
       "    </tr>\n",
       "    <tr>\n",
       "      <th>75</th>\n",
       "      <td>0.115874</td>\n",
       "      <td>0.120302</td>\n",
       "    </tr>\n",
       "    <tr>\n",
       "      <th>100</th>\n",
       "      <td>0.087272</td>\n",
       "      <td>0.087878</td>\n",
       "    </tr>\n",
       "    <tr>\n",
       "      <th>150</th>\n",
       "      <td>0.098372</td>\n",
       "      <td>0.089352</td>\n",
       "    </tr>\n",
       "    <tr>\n",
       "      <th>200</th>\n",
       "      <td>0.030569</td>\n",
       "      <td>0.041452</td>\n",
       "    </tr>\n",
       "    <tr>\n",
       "      <th>250</th>\n",
       "      <td>0.005485</td>\n",
       "      <td>0.012896</td>\n",
       "    </tr>\n",
       "    <tr>\n",
       "      <th>300</th>\n",
       "      <td>0.003486</td>\n",
       "      <td>0.001290</td>\n",
       "    </tr>\n",
       "    <tr>\n",
       "      <th>400</th>\n",
       "      <td>0.002981</td>\n",
       "      <td>0.000000</td>\n",
       "    </tr>\n",
       "    <tr>\n",
       "      <th>500</th>\n",
       "      <td>0.002923</td>\n",
       "      <td>0.000000</td>\n",
       "    </tr>\n",
       "  </tbody>\n",
       "</table>\n",
       "</div>"
      ],
      "text/plain": [
       "             probability  selected\n",
       "depth_class                       \n",
       "25              0.464721  0.484709\n",
       "50              0.188315  0.162122\n",
       "75              0.115874  0.120302\n",
       "100             0.087272  0.087878\n",
       "150             0.098372  0.089352\n",
       "200             0.030569  0.041452\n",
       "250             0.005485  0.012896\n",
       "300             0.003486  0.001290\n",
       "400             0.002981  0.000000\n",
       "500             0.002923  0.000000"
      ]
     },
     "execution_count": 106,
     "metadata": {},
     "output_type": "execute_result"
    }
   ],
   "source": [
    "test.groupby('depth_class')[['probability', 'selected']].mean()"
   ]
  },
  {
   "cell_type": "code",
   "execution_count": null,
   "metadata": {},
   "outputs": [],
   "source": []
  }
 ],
 "metadata": {
  "kernelspec": {
   "display_name": "Python 3",
   "language": "python",
   "name": "python3"
  },
  "language_info": {
   "codemirror_mode": {
    "name": "ipython",
    "version": 3
   },
   "file_extension": ".py",
   "mimetype": "text/x-python",
   "name": "python",
   "nbconvert_exporter": "python",
   "pygments_lexer": "ipython3",
   "version": "3.10.12"
  }
 },
 "nbformat": 4,
 "nbformat_minor": 2
}
