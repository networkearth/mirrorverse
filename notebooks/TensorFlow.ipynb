{
 "cells": [
  {
   "cell_type": "code",
   "execution_count": null,
   "metadata": {},
   "outputs": [],
   "source": [
    "from pyspark.sql import SparkSession\n",
    "\n",
    "spark = (SparkSession.builder\n",
    "    .master(\"local\")\n",
    "    .appName(\"SQLite JDBC\")\n",
    "    .config(\n",
    "        \"spark.jars\",\n",
    "        \"/workspaces/mirrorverse/sqlite-jdbc-3.34.0.jar\")\n",
    "    .config(\n",
    "        \"spark.driver.extraClassPath\",\n",
    "        \"/workspaces/mirrorverse/sqlite-jdbc-3.34.0.jar\")\n",
    "    .getOrCreate())\n",
    "\n",
    "ps_conn = \"jdbc:sqlite:/workspaces/mirrorverse/mirrorverse.db\""
   ]
  },
  {
   "cell_type": "code",
   "execution_count": 1,
   "metadata": {},
   "outputs": [],
   "source": [
    "from mirrorverse.models.chinook_depth.spark import build_training_data\n",
    "\n",
    "depth_classes = [25, 50, 75, 100, 150, 200, 250, 300, 400, 500]\n",
    "features = [\"depth_class\", \"month\", \"daytime\", \"period_progress\", \"elevation\"]\n",
    "train_dir = \"train\"\n",
    "test_dir = \"test\""
   ]
  },
  {
   "cell_type": "code",
   "execution_count": null,
   "metadata": {},
   "outputs": [],
   "source": [
    "build_training_data(\n",
    "    spark,\n",
    "    ps_conn,\n",
    "    depth_classes=depth_classes,\n",
    "    features=features,\n",
    "    train_dir=train_dir,\n",
    "    test_dir=test_dir,\n",
    "    split=0.8,\n",
    "    overwrite=True,\n",
    ")"
   ]
  },
  {
   "cell_type": "code",
   "execution_count": null,
   "metadata": {},
   "outputs": [],
   "source": [
    "from mirrorverse.models.chinook_depth.keras import load_data, build_model\n",
    "from tensorflow.keras.layers import Dense\n",
    "\n",
    "N = len(depth_classes)\n",
    "train = load_data(train_dir, N, features, batch_size=1000, shuffle_buffer_size=10000)\n",
    "test = load_data(test_dir, N, features, batch_size=1000, shuffle_buffer_size=10000)\n",
    "\n",
    "layers = [\n",
    "    Dense(32, activation='relu'),\n",
    "    Dense(16, activation='relu'),\n",
    "    Dense(8, activation='relu')\n",
    "]\n",
    "\n",
    "model, layers = build_model(N, features, layers)\n",
    "model.fit(train, validation_data=test, epochs=10)"
   ]
  },
  {
   "cell_type": "code",
   "execution_count": 3,
   "metadata": {},
   "outputs": [],
   "source": [
    "model.save(\"chinook_depth_model.keras\")"
   ]
  },
  {
   "cell_type": "code",
   "execution_count": 4,
   "metadata": {},
   "outputs": [],
   "source": [
    "from tensorflow.keras.models import load_model\n",
    "new_model = load_model(\"chinook_depth_model.keras\")"
   ]
  },
  {
   "cell_type": "markdown",
   "metadata": {},
   "source": [
    "## Notes\n",
    "\n",
    "```bash\n",
    "apt-get update\n",
    "apt install default-jre\n",
    "\n",
    "curl -O https://repo1.maven.org/maven2/org/xerial/sqlite-jdbc/3.34.0/sqlite-jdbc-3.34.0.jar\n",
    "\n",
    "\n",
    "Needed conda to get h5py installed correctly\n",
    "\n",
    "mkdir -p ~/miniconda3\n",
    "wget https://repo.anaconda.com/miniconda/Miniconda3-latest-Linux-aarch64.sh -O ~/miniconda3/miniconda.sh\n",
    "bash ~/miniconda3/miniconda.sh -b -u -p ~/miniconda3\n",
    "rm -rf ~/miniconda3/miniconda.sh\n",
    "\n",
    "~/miniconda3/bin/conda init bash\n",
    "```"
   ]
  },
  {
   "cell_type": "code",
   "execution_count": null,
   "metadata": {},
   "outputs": [],
   "source": []
  }
 ],
 "metadata": {
  "kernelspec": {
   "display_name": "Python 3",
   "language": "python",
   "name": "python3"
  },
  "language_info": {
   "codemirror_mode": {
    "name": "ipython",
    "version": 3
   },
   "file_extension": ".py",
   "mimetype": "text/x-python",
   "name": "python",
   "nbconvert_exporter": "python",
   "pygments_lexer": "ipython3",
   "version": "3.9.19"
  }
 },
 "nbformat": 4,
 "nbformat_minor": 2
}
