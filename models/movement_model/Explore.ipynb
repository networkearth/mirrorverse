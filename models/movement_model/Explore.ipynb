{
 "cells": [
  {
   "cell_type": "code",
   "execution_count": 1,
   "metadata": {},
   "outputs": [],
   "source": [
    "import os\n",
    "import random\n",
    "\n",
    "import pandas as pd\n",
    "import haven.db as db \n",
    "from mirrorverse.plotting import plot_h3_slider, plot_h3_animation\n",
    "\n",
    "os.environ['HAVEN_DATABASE'] = 'haven'\n",
    "os.environ['AWS_PROFILE'] = 'admin'"
   ]
  },
  {
   "cell_type": "code",
   "execution_count": 2,
   "metadata": {},
   "outputs": [],
   "source": [
    "sql = '''\n",
    "with neighbors as (\n",
    "    select \n",
    "        *,\n",
    "        row_number() over () as _choice\n",
    "    from \n",
    "        movement_model_neighbors\n",
    "    where\n",
    "        max_km = 100\n",
    ")\n",
    "select \n",
    "    n.current_h3_index,\n",
    "    n.selected_h3_index,\n",
    "    n.neighbor_h3_index,\n",
    "    n.date,\n",
    "    n._individual,\n",
    "    n._decision,\n",
    "    n._choice,\n",
    "    n.tag_key,\n",
    "    p.mixed_layer_thickness,\n",
    "    p.salinity,\n",
    "    p.temperature,\n",
    "    p.velocity_east,\n",
    "    p.velocity_north,\n",
    "    c.chlorophyll,\n",
    "    c.nitrate,\n",
    "    c.phosphate,\n",
    "    c.silicate,\n",
    "    c.oxygen,\n",
    "    c.net_primary_production\n",
    "from \n",
    "    neighbors n \n",
    "    inner join copernicus_physics p \n",
    "        on p.depth_bin = 25 \n",
    "        and p.region = 'chinook_study'\n",
    "        and n.neighbor_h3_index = p.h3_index \n",
    "        and n.date = p.date \n",
    "    inner join copernicus_biochemistry c\n",
    "        on c.depth_bin = 25 \n",
    "        and c.region = 'chinook_study'\n",
    "        and n.neighbor_h3_index = c.h3_index \n",
    "        and n.date = c.date \n",
    "'''\n",
    "\n",
    "cached_file_path = 'cached.snappy.parquet'\n",
    "if os.path.exists(cached_file_path):\n",
    "    data = pd.read_parquet(cached_file_path)\n",
    "else:\n",
    "    data = db.read_data(sql)\n",
    "data.to_parquet(cached_file_path)"
   ]
  },
  {
   "cell_type": "code",
   "execution_count": 3,
   "metadata": {},
   "outputs": [],
   "source": [
    "def set_line_color(row):\n",
    "    if row['neighbor_h3_index'] == row['current_h3_index']:\n",
    "        return \"orange\"\n",
    "    elif row['neighbor_h3_index'] == row['selected_h3_index']:\n",
    "        return \"purple\"\n",
    "    else:\n",
    "        return \"black\"\n",
    "    \n",
    "data['color'] = data.apply(set_line_color, axis=1)"
   ]
  },
  {
   "cell_type": "code",
   "execution_count": null,
   "metadata": {},
   "outputs": [],
   "source": [
    "LOCALES = {\n",
    "    \"aleutians\": [\n",
    "        1, 2, 13, 16, 17, 18, 20,\n",
    "        21, 27, 31, 34, 35, 37,\n",
    "        41, 60, 62, 64, 68, 72,\n",
    "        73, 75, 76, 80, 83, 86, 92,\n",
    "        95, 97, 99, 103, 104,\n",
    "    ],\n",
    "    \"sitka\": [\n",
    "        3, 7, 9, 11, 24, 26, 30,\n",
    "        39, 40, 48, 50, 52, 58,\n",
    "        71, 74, 82, 87, 94, 96,\n",
    "        100, 106, 109,\n",
    "    ],\n",
    "    \"cook\": [\n",
    "        4, 14, 15, 43, 51, 55,\n",
    "        57, 59, 63, 66, 70, 84,\n",
    "        90, 93, 98, 101, 102,\n",
    "        105, 108,\n",
    "    ],\n",
    "    \"ebs\": [\n",
    "        5, 10, 19, 23, 46, 54,\n",
    "    ],\n",
    "    \"other\": [\n",
    "        6, 29, 44, \n",
    "    ],\n",
    "    \"kodiak\": [\n",
    "        8, 12, 22, 28, 32, 38, 42,\n",
    "        45, 47, 56, 65, 69, 78, 91,\n",
    "\n",
    "    ],\n",
    "    \"glacier\": [\n",
    "        25, 33, 36, 49, 53, 61,\n",
    "        67, 77, 79, 81, 85, 88,\n",
    "        89, 107, 110, 111,\n",
    "    ]\n",
    "}\n",
    "\n",
    "def reverse_dict(d):\n",
    "    result = {}\n",
    "    for key, values in d.items():\n",
    "        for value in values:\n",
    "            result[value] = key \n",
    "    return result\n",
    "\n",
    "reversed_locales = reverse_dict(LOCALES)\n",
    "classifications = data[['_individual', 'tag_key']]\n",
    "classifications['locale'] = classifications['_individual'].apply(lambda i: reversed_locales[i])\n",
    "data['locale'] = data['_individual'].apply(lambda i: reversed_locales[i])\n",
    "classifications.to_csv('classifications.csv', index=False)\n",
    "classifications.head()"
   ]
  },
  {
   "cell_type": "code",
   "execution_count": null,
   "metadata": {},
   "outputs": [],
   "source": [
    "data.columns"
   ]
  },
  {
   "cell_type": "markdown",
   "metadata": {},
   "source": [
    "## Locales"
   ]
  },
  {
   "cell_type": "code",
   "execution_count": null,
   "metadata": {},
   "outputs": [],
   "source": [
    "data['mod_date'] = data['date'].apply(lambda d: '-'.join(['2020'] + list(d.split('-')[1:])))\n",
    "data['_time'] = pd.to_datetime(data['mod_date'])\n",
    "data['_month'] = data['_time'].dt.month\n",
    "value_col = \"_individual\"\n",
    "fig = plot_h3_animation(\n",
    "    data[(data['color'].isin(['orange']))], \n",
    "    value_col=value_col,\n",
    "    h3_col='neighbor_h3_index',\n",
    "    slider_col='_time',\n",
    "    line_color_col='color',\n",
    "    bold_colors=['orange', 'purple'],\n",
    "    zoom=3, \n",
    "    center={\"lat\": 55, \"lon\": -165},\n",
    "    duration=200\n",
    ")\n",
    "fig.show()"
   ]
  },
  {
   "cell_type": "code",
   "execution_count": 7,
   "metadata": {},
   "outputs": [],
   "source": [
    "fig.write_html('common_time.html')"
   ]
  },
  {
   "cell_type": "markdown",
   "metadata": {},
   "source": [
    "## Mixed Layer Madness"
   ]
  },
  {
   "cell_type": "code",
   "execution_count": null,
   "metadata": {},
   "outputs": [],
   "source": [
    "value_col = 'mixed_layer_thickness'\n",
    "fig = plot_h3_animation(\n",
    "    data[data['locale'] == 'glacier'].drop_duplicates(['color', 'neighbor_h3_index', 'date']), \n",
    "    value_col=value_col,\n",
    "    h3_col='neighbor_h3_index',\n",
    "    slider_col='date',\n",
    "    line_color_col='color',\n",
    "    bold_colors=['orange', 'purple'],\n",
    "    zoom=4, \n",
    "    center={\"lat\": 55, \"lon\": -140},\n",
    "    duration=200,\n",
    "    zmax=20\n",
    ")\n",
    "fig.show()"
   ]
  },
  {
   "cell_type": "code",
   "execution_count": 8,
   "metadata": {},
   "outputs": [],
   "source": [
    "fig.write_html('glacier_mixed_layer.html')"
   ]
  },
  {
   "cell_type": "markdown",
   "metadata": {},
   "source": [
    "## Perhaps Following Net Primary Productivity When Mixing isn't Happening?"
   ]
  },
  {
   "cell_type": "code",
   "execution_count": null,
   "metadata": {},
   "outputs": [],
   "source": [
    "value_col = 'net_primary_production'\n",
    "data['year'] = pd.to_datetime(data['date']).dt.year\n",
    "fig = plot_h3_animation(\n",
    "    data[(data['locale'] == 'aleutians') & (data['year'] > 2019)].drop_duplicates(['color', 'neighbor_h3_index', 'date']), \n",
    "    value_col=value_col,\n",
    "    h3_col='neighbor_h3_index',\n",
    "    slider_col='date',\n",
    "    line_color_col='color',\n",
    "    bold_colors=['orange', 'purple'],\n",
    "    zoom=4, \n",
    "    center={\"lat\": 55, \"lon\": -165},\n",
    "    duration=200,\n",
    "    #zmin=10,\n",
    "    zmax=20\n",
    ")\n",
    "fig.show()"
   ]
  },
  {
   "cell_type": "code",
   "execution_count": null,
   "metadata": {},
   "outputs": [],
   "source": [
    "value_col = 'net_primary_production'\n",
    "fig = plot_h3_animation(\n",
    "    data[data['locale'] == 'glacier'].drop_duplicates(['color', 'neighbor_h3_index', 'date']), \n",
    "    value_col=value_col,\n",
    "    h3_col='neighbor_h3_index',\n",
    "    slider_col='date',\n",
    "    line_color_col='color',\n",
    "    bold_colors=['orange', 'purple'],\n",
    "    zoom=4, \n",
    "    center={\"lat\": 55, \"lon\": -140},\n",
    "    duration=200,\n",
    "    zmax=20\n",
    ")\n",
    "fig.show()"
   ]
  },
  {
   "cell_type": "code",
   "execution_count": null,
   "metadata": {},
   "outputs": [],
   "source": [
    "value_col = 'net_primary_production'\n",
    "fig = plot_h3_animation(\n",
    "    data[data['locale'] == 'sitka'].drop_duplicates(['color', 'neighbor_h3_index', 'date']), \n",
    "    value_col=value_col,\n",
    "    h3_col='neighbor_h3_index',\n",
    "    slider_col='date',\n",
    "    line_color_col='color',\n",
    "    bold_colors=['orange', 'purple'],\n",
    "    zoom=4, \n",
    "    center={\"lat\": 55, \"lon\": -140},\n",
    "    duration=200,\n",
    "    zmax=20\n",
    ")\n",
    "fig.show()"
   ]
  },
  {
   "cell_type": "markdown",
   "metadata": {},
   "source": [
    "## What's Going on in Kodiak/Cook?"
   ]
  },
  {
   "cell_type": "code",
   "execution_count": null,
   "metadata": {},
   "outputs": [],
   "source": [
    "value_col = 'mixed_layer_thickness'\n",
    "fig = plot_h3_animation(\n",
    "    data[data['locale'] == 'kodiak'].drop_duplicates(['color', 'neighbor_h3_index', 'date']), \n",
    "    value_col=value_col,\n",
    "    h3_col='neighbor_h3_index',\n",
    "    slider_col='date',\n",
    "    line_color_col='color',\n",
    "    bold_colors=['orange', 'purple'],\n",
    "    zoom=4, \n",
    "    center={\"lat\": 55, \"lon\": -140},\n",
    "    duration=200,\n",
    "    zmax=20\n",
    ")\n",
    "fig.show()"
   ]
  },
  {
   "cell_type": "code",
   "execution_count": null,
   "metadata": {},
   "outputs": [],
   "source": []
  }
 ],
 "metadata": {
  "kernelspec": {
   "display_name": "base",
   "language": "python",
   "name": "python3"
  },
  "language_info": {
   "codemirror_mode": {
    "name": "ipython",
    "version": 3
   },
   "file_extension": ".py",
   "mimetype": "text/x-python",
   "name": "python",
   "nbconvert_exporter": "python",
   "pygments_lexer": "ipython3",
   "version": "3.12.2"
  }
 },
 "nbformat": 4,
 "nbformat_minor": 2
}
