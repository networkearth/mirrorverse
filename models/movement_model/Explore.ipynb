{
 "cells": [
  {
   "cell_type": "code",
   "execution_count": 1,
   "metadata": {},
   "outputs": [],
   "source": [
    "import os\n",
    "import random\n",
    "\n",
    "import pandas as pd\n",
    "import haven.db as db \n",
    "from mirrorverse.plotting import plot_h3_slider, plot_h3_animation\n",
    "\n",
    "os.environ['HAVEN_DATABASE'] = 'haven'\n",
    "os.environ['AWS_PROFILE'] = 'admin'"
   ]
  },
  {
   "cell_type": "code",
   "execution_count": 2,
   "metadata": {},
   "outputs": [],
   "source": [
    "sql = '''\n",
    "with neighbors as (\n",
    "    select \n",
    "        *,\n",
    "        row_number() over () as _choice\n",
    "    from \n",
    "        movement_model_neighbors\n",
    "    where\n",
    "        max_km = 100\n",
    ")\n",
    "select \n",
    "    n.current_h3_index,\n",
    "    n.selected_h3_index,\n",
    "    n.neighbor_h3_index,\n",
    "    n.date,\n",
    "    n._individual,\n",
    "    n._decision,\n",
    "    n._choice,\n",
    "    n.tag_key,\n",
    "    p.mixed_layer_thickness,\n",
    "    p.salinity,\n",
    "    p.temperature,\n",
    "    p.velocity_east,\n",
    "    p.velocity_north,\n",
    "    c.chlorophyll,\n",
    "    c.nitrate,\n",
    "    c.phosphate,\n",
    "    c.silicate,\n",
    "    c.oxygen,\n",
    "    c.net_primary_production\n",
    "from \n",
    "    neighbors n \n",
    "    inner join copernicus_physics p \n",
    "        on p.depth_bin = 25 \n",
    "        and p.region = 'chinook_study'\n",
    "        and n.neighbor_h3_index = p.h3_index \n",
    "        and n.date = p.date \n",
    "    inner join copernicus_biochemistry c\n",
    "        on c.depth_bin = 25 \n",
    "        and c.region = 'chinook_study'\n",
    "        and n.neighbor_h3_index = c.h3_index \n",
    "        and n.date = c.date \n",
    "'''\n",
    "\n",
    "cached_file_path = 'cached.snappy.parquet'\n",
    "if os.path.exists(cached_file_path):\n",
    "    data = pd.read_parquet(cached_file_path)\n",
    "else:\n",
    "    data = db.read_data(sql)\n",
    "data.to_parquet(cached_file_path)"
   ]
  },
  {
   "cell_type": "code",
   "execution_count": 3,
   "metadata": {},
   "outputs": [],
   "source": [
    "def set_line_color(row):\n",
    "    if row['neighbor_h3_index'] == row['current_h3_index']:\n",
    "        return \"orange\"\n",
    "    elif row['neighbor_h3_index'] == row['selected_h3_index']:\n",
    "        return \"purple\"\n",
    "    else:\n",
    "        return \"black\"\n",
    "    \n",
    "data['color'] = data.apply(set_line_color, axis=1)"
   ]
  },
  {
   "cell_type": "code",
   "execution_count": null,
   "metadata": {},
   "outputs": [],
   "source": [
    "data.columns"
   ]
  },
  {
   "cell_type": "code",
   "execution_count": null,
   "metadata": {},
   "outputs": [],
   "source": [
    "individual_key = random.randint(data['_individual'].min(), data['_individual'].max())\n",
    "print(individual_key)"
   ]
  },
  {
   "cell_type": "code",
   "execution_count": null,
   "metadata": {},
   "outputs": [],
   "source": [
    "value_col = 'temperature'\n",
    "individual = data[data['_individual'] == individual_key]\n",
    "fig = plot_h3_animation(\n",
    "    individual, \n",
    "    value_col=value_col,\n",
    "    h3_col='neighbor_h3_index',\n",
    "    slider_col='date',\n",
    "    line_color_col='color',\n",
    "    bold_colors=['orange', 'purple'],\n",
    "    zoom=3, \n",
    "    center={\"lat\": 55, \"lon\": -165}\n",
    ")\n",
    "fig.show()"
   ]
  },
  {
   "cell_type": "code",
   "execution_count": 14,
   "metadata": {},
   "outputs": [],
   "source": [
    "fig.write_html(f\"{value_col}_{individual_key}.html\")"
   ]
  },
  {
   "cell_type": "code",
   "execution_count": null,
   "metadata": {},
   "outputs": [],
   "source": []
  }
 ],
 "metadata": {
  "kernelspec": {
   "display_name": "base",
   "language": "python",
   "name": "python3"
  },
  "language_info": {
   "codemirror_mode": {
    "name": "ipython",
    "version": 3
   },
   "file_extension": ".py",
   "mimetype": "text/x-python",
   "name": "python",
   "nbconvert_exporter": "python",
   "pygments_lexer": "ipython3",
   "version": "3.12.2"
  }
 },
 "nbformat": 4,
 "nbformat_minor": 2
}
