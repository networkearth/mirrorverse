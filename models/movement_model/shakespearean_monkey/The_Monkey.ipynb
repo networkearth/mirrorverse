{
 "cells": [
  {
   "cell_type": "code",
   "execution_count": 1,
   "metadata": {},
   "outputs": [],
   "source": [
    "import os\n",
    "\n",
    "import h3\n",
    "import numpy as np\n",
    "\n",
    "from mirrorverse.utils import read_data_w_cache, find_neighbors\n",
    "\n",
    "os.environ['HAVEN_DATABASE'] = 'haven'\n",
    "os.environ['AWS_PROFILE'] = 'admin'"
   ]
  },
  {
   "cell_type": "code",
   "execution_count": 2,
   "metadata": {},
   "outputs": [],
   "source": [
    "sql = f'select tag_key, longitude, latitude from mgietzmann_tag_tracks_test'\n",
    "data = read_data_w_cache(sql)"
   ]
  },
  {
   "cell_type": "code",
   "execution_count": 3,
   "metadata": {},
   "outputs": [
    {
     "data": {
      "text/html": [
       "<div>\n",
       "<style scoped>\n",
       "    .dataframe tbody tr th:only-of-type {\n",
       "        vertical-align: middle;\n",
       "    }\n",
       "\n",
       "    .dataframe tbody tr th {\n",
       "        vertical-align: top;\n",
       "    }\n",
       "\n",
       "    .dataframe thead th {\n",
       "        text-align: right;\n",
       "    }\n",
       "</style>\n",
       "<table border=\"1\" class=\"dataframe\">\n",
       "  <thead>\n",
       "    <tr style=\"text-align: right;\">\n",
       "      <th></th>\n",
       "      <th>tag_key</th>\n",
       "      <th>longitude</th>\n",
       "      <th>latitude</th>\n",
       "      <th>h3_index</th>\n",
       "    </tr>\n",
       "  </thead>\n",
       "  <tbody>\n",
       "    <tr>\n",
       "      <th>0</th>\n",
       "      <td>159002b</td>\n",
       "      <td>-151.15</td>\n",
       "      <td>59.675</td>\n",
       "      <td>840c51dffffffff</td>\n",
       "    </tr>\n",
       "    <tr>\n",
       "      <th>1</th>\n",
       "      <td>159002b</td>\n",
       "      <td>-152.25</td>\n",
       "      <td>59.625</td>\n",
       "      <td>840c503ffffffff</td>\n",
       "    </tr>\n",
       "    <tr>\n",
       "      <th>2</th>\n",
       "      <td>159002b</td>\n",
       "      <td>-152.45</td>\n",
       "      <td>59.625</td>\n",
       "      <td>840c503ffffffff</td>\n",
       "    </tr>\n",
       "    <tr>\n",
       "      <th>3</th>\n",
       "      <td>159002b</td>\n",
       "      <td>-152.35</td>\n",
       "      <td>59.625</td>\n",
       "      <td>840c503ffffffff</td>\n",
       "    </tr>\n",
       "    <tr>\n",
       "      <th>4</th>\n",
       "      <td>159002b</td>\n",
       "      <td>-152.30</td>\n",
       "      <td>59.625</td>\n",
       "      <td>840c503ffffffff</td>\n",
       "    </tr>\n",
       "  </tbody>\n",
       "</table>\n",
       "</div>"
      ],
      "text/plain": [
       "   tag_key  longitude  latitude         h3_index\n",
       "0  159002b    -151.15    59.675  840c51dffffffff\n",
       "1  159002b    -152.25    59.625  840c503ffffffff\n",
       "2  159002b    -152.45    59.625  840c503ffffffff\n",
       "3  159002b    -152.35    59.625  840c503ffffffff\n",
       "4  159002b    -152.30    59.625  840c503ffffffff"
      ]
     },
     "execution_count": 3,
     "metadata": {},
     "output_type": "execute_result"
    }
   ],
   "source": [
    "data['h3_index'] = data.apply(lambda r: h3.geo_to_h3(r['latitude'], r['longitude'], 4), axis=1)\n",
    "data.head()"
   ]
  },
  {
   "cell_type": "code",
   "execution_count": 4,
   "metadata": {},
   "outputs": [
    {
     "data": {
      "text/html": [
       "<div>\n",
       "<style scoped>\n",
       "    .dataframe tbody tr th:only-of-type {\n",
       "        vertical-align: middle;\n",
       "    }\n",
       "\n",
       "    .dataframe tbody tr th {\n",
       "        vertical-align: top;\n",
       "    }\n",
       "\n",
       "    .dataframe thead th {\n",
       "        text-align: right;\n",
       "    }\n",
       "</style>\n",
       "<table border=\"1\" class=\"dataframe\">\n",
       "  <thead>\n",
       "    <tr style=\"text-align: right;\">\n",
       "      <th></th>\n",
       "      <th>tag_key</th>\n",
       "      <th>longitude</th>\n",
       "      <th>latitude</th>\n",
       "      <th>h3_index</th>\n",
       "      <th>neighbors</th>\n",
       "    </tr>\n",
       "  </thead>\n",
       "  <tbody>\n",
       "    <tr>\n",
       "      <th>0</th>\n",
       "      <td>159002b</td>\n",
       "      <td>-151.15</td>\n",
       "      <td>59.675</td>\n",
       "      <td>840c51dffffffff</td>\n",
       "      <td>19</td>\n",
       "    </tr>\n",
       "    <tr>\n",
       "      <th>1</th>\n",
       "      <td>159002b</td>\n",
       "      <td>-152.25</td>\n",
       "      <td>59.625</td>\n",
       "      <td>840c503ffffffff</td>\n",
       "      <td>19</td>\n",
       "    </tr>\n",
       "    <tr>\n",
       "      <th>2</th>\n",
       "      <td>159002b</td>\n",
       "      <td>-152.45</td>\n",
       "      <td>59.625</td>\n",
       "      <td>840c503ffffffff</td>\n",
       "      <td>19</td>\n",
       "    </tr>\n",
       "    <tr>\n",
       "      <th>3</th>\n",
       "      <td>159002b</td>\n",
       "      <td>-152.35</td>\n",
       "      <td>59.625</td>\n",
       "      <td>840c503ffffffff</td>\n",
       "      <td>19</td>\n",
       "    </tr>\n",
       "    <tr>\n",
       "      <th>4</th>\n",
       "      <td>159002b</td>\n",
       "      <td>-152.30</td>\n",
       "      <td>59.625</td>\n",
       "      <td>840c503ffffffff</td>\n",
       "      <td>19</td>\n",
       "    </tr>\n",
       "  </tbody>\n",
       "</table>\n",
       "</div>"
      ],
      "text/plain": [
       "   tag_key  longitude  latitude         h3_index  neighbors\n",
       "0  159002b    -151.15    59.675  840c51dffffffff         19\n",
       "1  159002b    -152.25    59.625  840c503ffffffff         19\n",
       "2  159002b    -152.45    59.625  840c503ffffffff         19\n",
       "3  159002b    -152.35    59.625  840c503ffffffff         19\n",
       "4  159002b    -152.30    59.625  840c503ffffffff         19"
      ]
     },
     "execution_count": 4,
     "metadata": {},
     "output_type": "execute_result"
    }
   ],
   "source": [
    "data['neighbors'] = data['h3_index'].apply(lambda i: len(find_neighbors(100, i)))\n",
    "data.head()"
   ]
  },
  {
   "cell_type": "code",
   "execution_count": 5,
   "metadata": {},
   "outputs": [
    {
     "data": {
      "text/html": [
       "<div>\n",
       "<style scoped>\n",
       "    .dataframe tbody tr th:only-of-type {\n",
       "        vertical-align: middle;\n",
       "    }\n",
       "\n",
       "    .dataframe tbody tr th {\n",
       "        vertical-align: top;\n",
       "    }\n",
       "\n",
       "    .dataframe thead th {\n",
       "        text-align: right;\n",
       "    }\n",
       "</style>\n",
       "<table border=\"1\" class=\"dataframe\">\n",
       "  <thead>\n",
       "    <tr style=\"text-align: right;\">\n",
       "      <th></th>\n",
       "      <th>tag_key</th>\n",
       "      <th>longitude</th>\n",
       "      <th>latitude</th>\n",
       "      <th>h3_index</th>\n",
       "      <th>neighbors</th>\n",
       "      <th>ll</th>\n",
       "    </tr>\n",
       "  </thead>\n",
       "  <tbody>\n",
       "    <tr>\n",
       "      <th>0</th>\n",
       "      <td>159002b</td>\n",
       "      <td>-151.15</td>\n",
       "      <td>59.675</td>\n",
       "      <td>840c51dffffffff</td>\n",
       "      <td>19</td>\n",
       "      <td>-2.944439</td>\n",
       "    </tr>\n",
       "    <tr>\n",
       "      <th>1</th>\n",
       "      <td>159002b</td>\n",
       "      <td>-152.25</td>\n",
       "      <td>59.625</td>\n",
       "      <td>840c503ffffffff</td>\n",
       "      <td>19</td>\n",
       "      <td>-2.944439</td>\n",
       "    </tr>\n",
       "    <tr>\n",
       "      <th>2</th>\n",
       "      <td>159002b</td>\n",
       "      <td>-152.45</td>\n",
       "      <td>59.625</td>\n",
       "      <td>840c503ffffffff</td>\n",
       "      <td>19</td>\n",
       "      <td>-2.944439</td>\n",
       "    </tr>\n",
       "    <tr>\n",
       "      <th>3</th>\n",
       "      <td>159002b</td>\n",
       "      <td>-152.35</td>\n",
       "      <td>59.625</td>\n",
       "      <td>840c503ffffffff</td>\n",
       "      <td>19</td>\n",
       "      <td>-2.944439</td>\n",
       "    </tr>\n",
       "    <tr>\n",
       "      <th>4</th>\n",
       "      <td>159002b</td>\n",
       "      <td>-152.30</td>\n",
       "      <td>59.625</td>\n",
       "      <td>840c503ffffffff</td>\n",
       "      <td>19</td>\n",
       "      <td>-2.944439</td>\n",
       "    </tr>\n",
       "  </tbody>\n",
       "</table>\n",
       "</div>"
      ],
      "text/plain": [
       "   tag_key  longitude  latitude         h3_index  neighbors        ll\n",
       "0  159002b    -151.15    59.675  840c51dffffffff         19 -2.944439\n",
       "1  159002b    -152.25    59.625  840c503ffffffff         19 -2.944439\n",
       "2  159002b    -152.45    59.625  840c503ffffffff         19 -2.944439\n",
       "3  159002b    -152.35    59.625  840c503ffffffff         19 -2.944439\n",
       "4  159002b    -152.30    59.625  840c503ffffffff         19 -2.944439"
      ]
     },
     "execution_count": 5,
     "metadata": {},
     "output_type": "execute_result"
    }
   ],
   "source": [
    "data['ll'] = np.log(1 / data['neighbors'])\n",
    "data.head()"
   ]
  },
  {
   "cell_type": "code",
   "execution_count": 6,
   "metadata": {},
   "outputs": [
    {
     "data": {
      "text/plain": [
       "0.05203887455732783"
      ]
     },
     "execution_count": 6,
     "metadata": {},
     "output_type": "execute_result"
    }
   ],
   "source": [
    "np.exp(data.groupby('tag_key')['ll'].mean().reset_index()['ll'].mean())"
   ]
  },
  {
   "cell_type": "code",
   "execution_count": null,
   "metadata": {},
   "outputs": [],
   "source": []
  }
 ],
 "metadata": {
  "kernelspec": {
   "display_name": "base",
   "language": "python",
   "name": "python3"
  },
  "language_info": {
   "codemirror_mode": {
    "name": "ipython",
    "version": 3
   },
   "file_extension": ".py",
   "mimetype": "text/x-python",
   "name": "python",
   "nbconvert_exporter": "python",
   "pygments_lexer": "ipython3",
   "version": "3.12.4"
  }
 },
 "nbformat": 4,
 "nbformat_minor": 2
}
