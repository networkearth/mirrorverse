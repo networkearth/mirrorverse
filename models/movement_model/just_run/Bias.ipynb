{
 "cells": [
  {
   "cell_type": "code",
   "execution_count": null,
   "metadata": {},
   "outputs": [],
   "source": [
    "import numpy as np\n",
    "import pandas as pd\n",
    "import plotly.express as px"
   ]
  },
  {
   "cell_type": "code",
   "execution_count": null,
   "metadata": {},
   "outputs": [],
   "source": [
    "def simulation(M, N, probs, x_walls, y_walls, x_init, y_init, delta):\n",
    "    min_x, max_x = min(x_walls), max(x_walls)\n",
    "    min_y, max_y = min(y_walls), max(y_walls)\n",
    "\n",
    "    x = np.random.random(M) * (max(x_init) - min(x_init)) + min(x_init)\n",
    "    y = np.random.random(M) * (max(y_init) - min(y_init)) + min(y_init)\n",
    "    \n",
    "    x[x < min_x] = min_x \n",
    "    x[x > max_x] = max_x\n",
    "    y[y < min_y] = min_y\n",
    "    y[y > max_y] = max_y\n",
    "\n",
    "    df = pd.DataFrame({'x': x, 'y': y, 'i': range(M)})\n",
    "    df['t'] = 0\n",
    "    dfs = [df]\n",
    "\n",
    "    for t in range(1, N + 1):\n",
    "        moves = np.random.choice([0, 1, 2, 3], size=M, p=probs)\n",
    "        x[moves == 0] += delta\n",
    "        x[moves == 1] -= delta\n",
    "        y[moves == 2] += delta\n",
    "        y[moves == 3] -= delta\n",
    "\n",
    "        x[x < min_x] = min_x \n",
    "        x[x > max_x] = max_x\n",
    "        y[y < min_y] = min_y\n",
    "        y[y > max_y] = max_y\n",
    "\n",
    "        df = pd.DataFrame({'x': x, 'y': y, 'i': range(M)})\n",
    "        df['t'] = t\n",
    "        dfs.append(df)\n",
    "\n",
    "\n",
    "    return pd.concat(dfs)\n",
    "\n",
    "p = 0.22\n",
    "print(1 - (p * 3))\n",
    "df = simulation(100, 1000, [1 - (p * 3), p, p, p], [-float('inf'), float('inf')], [-5, 5], [0, 1], [0, 1], 0.1)\n",
    "fig = px.scatter(df, x='x', y='y', color='i', animation_frame='t')\n",
    "fig.update_layout(\n",
    "    updatemenus=[{\n",
    "        'type': 'buttons',\n",
    "        'showactive': False,\n",
    "        'buttons': [{\n",
    "            'label': 'Play',\n",
    "            'method': 'animate',\n",
    "            'args': [None, {\n",
    "                'frame': {'duration': 50, 'redraw': True},  # Adjust duration here\n",
    "                'fromcurrent': True,\n",
    "                'transition': {'duration': 0}\n",
    "            }]\n",
    "        }, {\n",
    "            'label': 'Pause',\n",
    "            'method': 'animate',\n",
    "            'args': [[None], {'frame': {'duration': 0, 'redraw': False}}]\n",
    "        }]\n",
    "    }]\n",
    ")\n",
    "fig.show()"
   ]
  },
  {
   "cell_type": "code",
   "execution_count": null,
   "metadata": {},
   "outputs": [],
   "source": [
    "np.random.choice([1, 2, 3, 4], size=10, p=[0.1, 0.1, 0.1, 0.7])"
   ]
  },
  {
   "cell_type": "code",
   "execution_count": null,
   "metadata": {},
   "outputs": [],
   "source": [
    "x = np.arange(10)\n",
    "x[x > 5] += 1\n",
    "x"
   ]
  },
  {
   "cell_type": "code",
   "execution_count": null,
   "metadata": {},
   "outputs": [],
   "source": []
  }
 ],
 "metadata": {
  "kernelspec": {
   "display_name": "base",
   "language": "python",
   "name": "python3"
  },
  "language_info": {
   "codemirror_mode": {
    "name": "ipython",
    "version": 3
   },
   "file_extension": ".py",
   "mimetype": "text/x-python",
   "name": "python",
   "nbconvert_exporter": "python",
   "pygments_lexer": "ipython3",
   "version": "3.12.4"
  }
 },
 "nbformat": 4,
 "nbformat_minor": 2
}
