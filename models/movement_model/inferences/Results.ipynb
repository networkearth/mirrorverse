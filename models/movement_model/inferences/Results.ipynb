{
 "cells": [
  {
   "cell_type": "code",
   "execution_count": 174,
   "metadata": {},
   "outputs": [],
   "source": [
    "import os\n",
    "import plotly.express as px\n",
    "import numpy as np\n",
    "import h3\n",
    "import matplotlib.pyplot as plt\n",
    "from matplotlib.colors import Normalize\n",
    "import cartopy.crs as ccrs\n",
    "\n",
    "os.environ['HAVEN_DATABASE'] = 'haven'\n",
    "os.environ['AWS_PROFILE'] = 'admin'\n",
    "\n",
    "from mirrorverse.utils import read_data_w_cache"
   ]
  },
  {
   "cell_type": "code",
   "execution_count": 175,
   "metadata": {},
   "outputs": [],
   "source": [
    "cmap = plt.cm.RdBu\n",
    "extents_map = {\n",
    "    0: [-167, -153, 52, 58],\n",
    "    1: [-172, -150, 50, 58],\n",
    "    2: [-155, -140, 55, 62],\n",
    "    3: [-155, -144, 57, 62],\n",
    "    4: [-148, -130, 52, 62],\n",
    "    5: [-137, -130, 51, 58],\n",
    "}\n",
    "\n",
    "def catch_region_map(tag_key):\n",
    "    for i, _id in enumerate(['172', '202', '159', '205', '210', '229', '142']):\n",
    "        if tag_key.startswith(_id):\n",
    "            return i\n",
    "    return -1\n",
    "\n",
    "def setup(ax, extent):\n",
    "    ax.set_extent(extent, crs=ccrs.PlateCarree())\n",
    "    ax.coastlines()\n",
    "\n",
    "def quiver(ax, df, col):\n",
    "    the_max = max(df[col].max(), -df[col].min())\n",
    "    norm = Normalize(vmin=-the_max, vmax=the_max)\n",
    "\n",
    "    return ax.quiver(\n",
    "        df['x'], df['y'], df['u'], df['v'], df[col],\n",
    "        transform=ccrs.PlateCarree(), \n",
    "        cmap=cmap, norm=norm,  \n",
    "        width=0.005,\n",
    "        scale=12,\n",
    "        linestyle=[':']\n",
    "    )\n",
    "\n",
    "def plot_it(df, val, stretch=[0,0,0,0]):\n",
    "    catch_region = df['catch_region'].values[0]\n",
    "    extent = extents_map[catch_region]\n",
    "\n",
    "\n",
    "    extent = [e + s for e,s in zip(extent, stretch)]\n",
    "\n",
    "    fig, axes = plt.subplots(figsize=(10, 5), ncols=1, nrows=1, subplot_kw={'projection': ccrs.PlateCarree()})\n",
    "    setup(axes, extent)\n",
    "    q = quiver(axes, df, val)\n",
    "    cbar_axes = fig.add_axes([0.12, 0.89, 0.35, 0.02])\n",
    "    fig.colorbar(q, cax=cbar_axes, orientation='horizontal')\n",
    "\n",
    "    fig.subplots_adjust(hspace=0.1, wspace=0.1)\n",
    "    fig.subplots_adjust(top=0.8)\n",
    "    return fig\n",
    "\n",
    "def prep_models(new, old):\n",
    "    new = new[new['_selected']]\n",
    "    old = old[old['_selected']]\n",
    "\n",
    "    new['origin_lat'] = new['origin_h3_index'].apply(lambda h: h3.h3_to_geo(h)[0])\n",
    "    new['origin_lon'] = new['origin_h3_index'].apply(lambda h: h3.h3_to_geo(h)[1])\n",
    "    new['next_lat'] = new['next_h3_index'].apply(lambda h: h3.h3_to_geo(h)[0])\n",
    "    new['next_lon'] = new['next_h3_index'].apply(lambda h: h3.h3_to_geo(h)[1])\n",
    "\n",
    "    new['x'] = new['origin_lon']\n",
    "    new['y'] = new['origin_lat']\n",
    "    new['u'] = new['next_lon'] - new['origin_lon']\n",
    "    new['v'] = new['next_lat'] - new['origin_lat']\n",
    "\n",
    "    new['catch_region'] = new['tag_key'].apply(catch_region_map)\n",
    "\n",
    "    new = new[[\n",
    "        'tag_key', '_decision', '_train', 'log_likelihood',\n",
    "        'x', 'y', 'u', 'v', 'catch_region', 'time'\n",
    "    ]]\n",
    "    old = old[[\n",
    "        'tag_key', '_decision', '_train', 'log_likelihood'\n",
    "    ]]\n",
    "    df = new.merge(\n",
    "        old, on=['_train', '_decision', 'tag_key'], \n",
    "        suffixes=('_new', '_old'), how='inner'\n",
    "    )\n",
    "    df['new - old'] = df['log_likelihood_new'] - df['log_likelihood_old']\n",
    "    return df"
   ]
  },
  {
   "cell_type": "code",
   "execution_count": 177,
   "metadata": {},
   "outputs": [],
   "source": [
    "v1 = read_data_w_cache(\n",
    "    \"select * from movement_model_inference_m6_a1_v5 where run_id = '9b1d4ef26b4a7c90c682eee8390b9495932e3129cda6dcd1c7907341460c0a37'\"\n",
    ")\n",
    "v1['log_likelihood'] = np.log(v1['probability'])\n",
    "\n",
    "v2 = read_data_w_cache(\n",
    "    \"select * from movement_model_inference_m6_a1_v6 where run_id = '986d5ab0bee4dd2dee27120fab138ac28f82d69266821ff153c2d4c33308d54e'\"\n",
    ")\n",
    "v2['log_likelihood'] = np.log(v2['probability'])\n",
    "\n",
    "v3 = read_data_w_cache(\n",
    "    \"select * from movement_model_inference_m6_a2_v5 where run_id = '4e7e3c752e83a5121ae226a255039d8b1494a8532b726fad875a884e8b41cd93'\"\n",
    ")\n",
    "v3['log_likelihood'] = np.log(v3['probability'])\n",
    "\n",
    "\n",
    "v4 = read_data_w_cache(\n",
    "    \"select * from movement_model_inference_m6_a2_v6 where run_id = '105688304ba63a2343eefa82762780a34db30735bdc36338008698ae2325f174'\"\n",
    ")\n",
    "v4['log_likelihood'] = np.log(v4['probability'])\n",
    "\n",
    "v5 = read_data_w_cache(\n",
    "    \"select * from movement_model_inference_m8_a3_v1\"\n",
    ")\n",
    "v5['log_likelihood'] = np.log(v5['probability'])\n",
    "\n",
    "v0 = v2.copy()\n",
    "v0['odds'] = 1.0\n",
    "v0['sum_odds'] = v0.groupby(['_individual', '_decision'])['odds'].transform('sum')\n",
    "v0['probability'] = v0['odds'] / v0['sum_odds']\n",
    "v0['log_likelihood'] = np.log(v0['probability'])"
   ]
  },
  {
   "cell_type": "code",
   "execution_count": 178,
   "metadata": {},
   "outputs": [],
   "source": [
    "def compare_models(new, old, color, agg):\n",
    "    df = old[old['_selected']][['_train', 'tag_key', '_decision', 'log_likelihood', color]].merge(\n",
    "        new[new['_selected']][['_train', 'tag_key', '_decision', 'log_likelihood']],\n",
    "        on=['_train', 'tag_key', '_decision'], how='inner', suffixes=('_old','_new')\n",
    "    )\n",
    "    df['new - old'] = df['log_likelihood_new'] - df['log_likelihood_old']\n",
    "    df = df.groupby(['_train', 'tag_key', color])['new - old'].agg(agg).reset_index()\n",
    "    return px.bar(\n",
    "        df.sort_values('tag_key'),\n",
    "        x='tag_key', y='new - old', color=color,\n",
    "        facet_row='_train'\n",
    "    )"
   ]
  },
  {
   "cell_type": "code",
   "execution_count": null,
   "metadata": {},
   "outputs": [],
   "source": [
    "new, old = v5, v0\n",
    "\n",
    "_filter = new.groupby(['_individual'])['_decision'].nunique().reset_index()\n",
    "_filter = _filter[_filter['_decision'] >= 10]\n",
    "_filter = _filter[['_individual']]\n",
    "\n",
    "new = new.merge(_filter)\n",
    "old = old.merge(_filter)\n",
    "\n",
    "months = list(range(13))\n",
    "new['month'] = new['time'].dt.month\n",
    "new = new[new['month'].isin(months)]\n",
    "\n",
    "old['month'] = old['time'].dt.month\n",
    "old = old[old['month'].isin(months)]\n",
    "\n",
    "sel = prep_models(new, old)"
   ]
  },
  {
   "cell_type": "code",
   "execution_count": null,
   "metadata": {},
   "outputs": [],
   "source": [
    "new[new['_selected'] & ~new['_train']].groupby(['_individual'])['log_likelihood'].mean().reset_index()['log_likelihood'].mean()"
   ]
  },
  {
   "cell_type": "code",
   "execution_count": null,
   "metadata": {},
   "outputs": [],
   "source": [
    "new[new['_selected'] & ~new['_train']]['log_likelihood'].mean()"
   ]
  },
  {
   "cell_type": "code",
   "execution_count": null,
   "metadata": {},
   "outputs": [],
   "source": [
    "old[old['_selected'] & ~old['_train']].groupby(['_individual'])['log_likelihood'].mean().reset_index()['log_likelihood'].mean()"
   ]
  },
  {
   "cell_type": "code",
   "execution_count": null,
   "metadata": {},
   "outputs": [],
   "source": [
    "old[old['_selected'] & ~old['_train']]['log_likelihood'].mean()"
   ]
  },
  {
   "cell_type": "code",
   "execution_count": null,
   "metadata": {},
   "outputs": [],
   "source": [
    "np.exp(-1.59+ 1.7422378714788238)"
   ]
  },
  {
   "cell_type": "code",
   "execution_count": null,
   "metadata": {},
   "outputs": [],
   "source": [
    "compare_models(new, old, 'normed_fl', np.mean).show()"
   ]
  },
  {
   "cell_type": "code",
   "execution_count": null,
   "metadata": {},
   "outputs": [],
   "source": [
    "# left lon, right lon, bottom lat, top lat\n",
    "tag_key = '229206'\n",
    "stretch = [-5,5,-1,3]\n",
    "df = sel[(sel['tag_key'] == tag_key)]\n",
    "plot_it(df, 'new - old', stretch).show()"
   ]
  },
  {
   "cell_type": "code",
   "execution_count": null,
   "metadata": {},
   "outputs": [],
   "source": [
    "v2[v2['_selected'] & (v2['tag_key'] == tag_key)][['time', 'region']].sort_values('time')"
   ]
  },
  {
   "cell_type": "code",
   "execution_count": null,
   "metadata": {},
   "outputs": [],
   "source": [
    "v1['month'] = v1['time'].dt.month\n",
    "px.scatter(\n",
    "    v1[v1['_selected'] & ~v1['_train']].groupby('month')['log_likelihood'].agg(['mean', 'count']).reset_index(),\n",
    "    x='month', y='mean', size='count'\n",
    ")"
   ]
  },
  {
   "cell_type": "code",
   "execution_count": null,
   "metadata": {},
   "outputs": [],
   "source": [
    "v4['month'] = v4['time'].dt.month\n",
    "px.scatter(\n",
    "    v4[v4['_selected'] & ~v4['_train']].groupby('month')['log_likelihood'].agg(['mean', 'count']).reset_index(),\n",
    "    x='month', y='mean', size='count'\n",
    ")"
   ]
  },
  {
   "cell_type": "code",
   "execution_count": null,
   "metadata": {},
   "outputs": [],
   "source": [
    "v3['month'] = v3['time'].dt.month\n",
    "px.scatter(\n",
    "    v3[v3['_selected'] & ~v3['_train']].groupby('month')['log_likelihood'].agg(['mean', 'count']).reset_index(),\n",
    "    x='month', y='mean', size='count'\n",
    ")"
   ]
  },
  {
   "cell_type": "code",
   "execution_count": null,
   "metadata": {},
   "outputs": [],
   "source": [
    "np.exp(-1.8)"
   ]
  },
  {
   "cell_type": "code",
   "execution_count": null,
   "metadata": {},
   "outputs": [],
   "source": [
    "np.exp(-1.3)"
   ]
  },
  {
   "cell_type": "code",
   "execution_count": null,
   "metadata": {},
   "outputs": [],
   "source": []
  }
 ],
 "metadata": {
  "kernelspec": {
   "display_name": "base",
   "language": "python",
   "name": "python3"
  },
  "language_info": {
   "codemirror_mode": {
    "name": "ipython",
    "version": 3
   },
   "file_extension": ".py",
   "mimetype": "text/x-python",
   "name": "python",
   "nbconvert_exporter": "python",
   "pygments_lexer": "ipython3",
   "version": "3.12.4"
  }
 },
 "nbformat": 4,
 "nbformat_minor": 2
}
