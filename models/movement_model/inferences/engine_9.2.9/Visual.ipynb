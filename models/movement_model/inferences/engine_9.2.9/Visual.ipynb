{
 "cells": [
  {
   "cell_type": "code",
   "execution_count": 26,
   "metadata": {},
   "outputs": [],
   "source": [
    "import os\n",
    "import h3\n",
    "import numpy as np\n",
    "import pandas as pd\n",
    "import plotly.express as px\n",
    "from datetime import timedelta\n",
    "from tqdm import tqdm\n",
    "\n",
    "os.environ['HAVEN_DATABASE'] = 'haven'\n",
    "os.environ['AWS_PROFILE'] = 'admin'\n",
    "\n",
    "from mirrorverse.utils import read_data_w_cache"
   ]
  },
  {
   "cell_type": "code",
   "execution_count": null,
   "metadata": {},
   "outputs": [],
   "source": [
    "data = read_data_w_cache(\n",
    "    'select * from movement_model_simulation_m9_a2_v9_r3'\n",
    ")\n",
    "data[\"lat\"] = data[\"h3_index\"].apply(lambda x: h3.h3_to_geo(str(x))[0])\n",
    "data[\"lon\"] = data[\"h3_index\"].apply(lambda x: h3.h3_to_geo(str(x))[1])\n",
    "print(data.shape)\n",
    "data.head()"
   ]
  },
  {
   "cell_type": "code",
   "execution_count": 18,
   "metadata": {},
   "outputs": [],
   "source": [
    "df = data.sort_values(\"time\")\n",
    "df['log_quanta'] = np.log(df['_quanta'] + 0.001) / np.log(10)\n",
    "\n",
    "\n",
    "# Create the animated heatmap\n",
    "fig = px.scatter_mapbox(\n",
    "    df,\n",
    "    lat=\"lat\",\n",
    "    lon=\"lon\",\n",
    "    color=\"log_quanta\",\n",
    "    animation_frame=\"time\",\n",
    "    #radius=10,  # Adjust for smoothing\n",
    "    center={\"lat\": 51, \"lon\": 176},\n",
    "    zoom=2,\n",
    "    mapbox_style=\"carto-positron\",  # Alternative: \"carto-positron\"\n",
    "    title=\"Heatmap Animation of log(_quanta) Over Time\",\n",
    "    height=600,\n",
    "    range_color=[-1, 2],#df['log_quanta'].max()],\n",
    "    color_continuous_scale=\"plasma\"\n",
    ")\n",
    "\n",
    "\n",
    "\n",
    "# Show the figure\n",
    "fig.show()"
   ]
  },
  {
   "cell_type": "code",
   "execution_count": 20,
   "metadata": {},
   "outputs": [],
   "source": [
    "df['log_quanta'].max()"
   ]
  },
  {
   "cell_type": "code",
   "execution_count": 21,
   "metadata": {},
   "outputs": [],
   "source": [
    "10 ** 2.8"
   ]
  },
  {
   "cell_type": "markdown",
   "metadata": {},
   "source": [
    "# Version 2"
   ]
  },
  {
   "cell_type": "code",
   "execution_count": null,
   "metadata": {},
   "outputs": [],
   "source": [
    "diffusion = read_data_w_cache(\n",
    "    'select * from movement_model_diffusion_m9_a2_v9_t3'\n",
    ")\n",
    "diffusion = diffusion[[c for c in diffusion.columns if c != 'time']]\n",
    "print(diffusion.shape)\n",
    "diffusion.head()"
   ]
  },
  {
   "cell_type": "code",
   "execution_count": null,
   "metadata": {},
   "outputs": [],
   "source": [
    "df = diffusion[diffusion['date'] == diffusion['date'].min()][['h3_index', 'date']].drop_duplicates()\n",
    "\n",
    "df[\"lat\"] = df[\"h3_index\"].apply(lambda x: h3.h3_to_geo(str(x))[0])\n",
    "df[\"lon\"] = df[\"h3_index\"].apply(lambda x: h3.h3_to_geo(str(x))[1])\n",
    "df = df[(df['lon'] > -178) & (df['lon'] < -157) & (df['lat'] > 55)]\n",
    "del df['lat']\n",
    "del df['lon']\n",
    "\n",
    "df['_quanta'] = 10\n",
    "df\n",
    "\n",
    "dfs = []\n",
    "dfs.append(df)\n",
    "\n",
    "for _ in tqdm(list(range(31))):\n",
    "    df_next = (\n",
    "        df.rename({'h3_index': 'origin_h3_index'}, axis=1).merge(diffusion, on=['origin_h3_index', 'date'])\n",
    "    )\n",
    "    df_next['_quanta'] = df_next['_quanta'] * df_next['probability']\n",
    "    df_next = df_next.groupby(['h3_index', 'date'])[['_quanta']].sum().reset_index()\n",
    "    df_next['date'] = df_next['date'] + timedelta(days=1)\n",
    "    df = df_next\n",
    "    dfs.append(df)\n",
    "\n",
    "df = pd.concat(dfs)\n",
    "print(df.shape)\n",
    "df.head()"
   ]
  },
  {
   "cell_type": "code",
   "execution_count": null,
   "metadata": {},
   "outputs": [],
   "source": [
    "df[\"lat\"] = df[\"h3_index\"].apply(lambda x: h3.h3_to_geo(str(x))[0])\n",
    "df[\"lon\"] = df[\"h3_index\"].apply(lambda x: h3.h3_to_geo(str(x))[1])\n",
    "df = df.sort_values(\"date\")\n",
    "df['log_quanta'] = np.log(df['_quanta'] + 0.001) / np.log(10)\n",
    "\n",
    "\n",
    "# Create the animated heatmap\n",
    "fig = px.scatter_mapbox(\n",
    "    df,\n",
    "    lat=\"lat\",\n",
    "    lon=\"lon\",\n",
    "    color=\"log_quanta\",\n",
    "    animation_frame=\"date\",\n",
    "    #radius=10,  # Adjust for smoothing\n",
    "    center={\"lat\": 51, \"lon\": 176},\n",
    "    zoom=2,\n",
    "    mapbox_style=\"carto-positron\",  # Alternative: \"carto-positron\"\n",
    "    title=\"Heatmap Animation of log(_quanta) Over Time\",\n",
    "    height=600,\n",
    "    range_color=[-1, 2],#df['log_quanta'].max()],\n",
    "    color_continuous_scale=\"plasma\"\n",
    ")\n",
    "\n",
    "\n",
    "\n",
    "# Show the figure\n",
    "fig.show()"
   ]
  },
  {
   "cell_type": "code",
   "execution_count": null,
   "metadata": {},
   "outputs": [],
   "source": []
  }
 ],
 "metadata": {
  "kernelspec": {
   "display_name": "base",
   "language": "python",
   "name": "python3"
  },
  "language_info": {
   "codemirror_mode": {
    "name": "ipython",
    "version": 3
   },
   "file_extension": ".py",
   "mimetype": "text/x-python",
   "name": "python",
   "nbconvert_exporter": "python",
   "pygments_lexer": "ipython3",
   "version": "3.12.4"
  }
 },
 "nbformat": 4,
 "nbformat_minor": 2
}
