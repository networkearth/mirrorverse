{
 "cells": [
  {
   "cell_type": "code",
   "execution_count": null,
   "id": "78458fc6",
   "metadata": {},
   "outputs": [],
   "source": [
    "import os\n",
    "\n",
    "os.environ['AWS_PROFILE'] = 'admin'\n",
    "os.environ['HAVEN_DATABASE'] = 'haven'\n",
    "\n",
    "from mirrorverse.utils import read_data_w_cache\n",
    "\n",
    "import numpy as np"
   ]
  },
  {
   "cell_type": "code",
   "execution_count": null,
   "id": "3de1e692",
   "metadata": {},
   "outputs": [],
   "source": [
    "sql1 = '''\n",
    "select * from movement_model_inference_10_1_1 where run_id = '1a3a6a2a897b810b9d50ec306b1e211979a05def2e7b10b7240c9fdca8c410c9'\n",
    "'''\n",
    "\n",
    "sql2 = '''\n",
    "select * from movement_model_inference_10_1_2 where run_id = 'f509c72818a716514763d2bad4ad4b20bedf5ac5bf0e5d4a6e79ac9456fd8af0'\n",
    "'''\n",
    "\n",
    "sql3 = '''\n",
    "select * from movement_model_inference_10_1_3 where run_id = 'ef05b957fd20684af87e0435e816b9141ad9a7160eb834bead1778dcbc83693f'\n",
    "'''\n",
    "\n",
    "sql4 = '''\n",
    "select * from movement_model_inference_10_1_4 where run_id = '5ef29500bcc61f80f43209feccbd8f7ae0c244f9bc2aea0a1d529ad1d6e0c06c'\n",
    "'''\n",
    "\n",
    "sql7 = '''\n",
    "select * from movement_model_inference_10_1_7 where run_id = '87e2447a56e06fc633f2c00711f28003f3f9bd8c6f1ac93415196469340afc74'\n",
    "'''\n",
    "\n",
    "sql10 = '''\n",
    "select * from movement_model_inference_10_1_10 where run_id = '45b83fdb5db9d362861aca3ed79213b6058e66234e49237cbf99a534dcd085c9'\n",
    "'''\n",
    "\n",
    "data = read_data_w_cache(sql1)"
   ]
  },
  {
   "cell_type": "code",
   "execution_count": null,
   "id": "d47e9501",
   "metadata": {},
   "outputs": [],
   "source": [
    "data[data['_selected'] & (data['probability'] == 0)]"
   ]
  },
  {
   "cell_type": "code",
   "execution_count": null,
   "id": "13f5632f",
   "metadata": {},
   "outputs": [],
   "source": [
    "np.log(data[data['_selected'] & ~data['_train'] & (data['probability'] > 0)]['probability']).mean()"
   ]
  },
  {
   "cell_type": "code",
   "execution_count": null,
   "id": "94941ce4",
   "metadata": {},
   "outputs": [],
   "source": [
    "data[data['distance'] == 0]['_selected'].mean()"
   ]
  },
  {
   "cell_type": "code",
   "execution_count": null,
   "id": "5de95937",
   "metadata": {},
   "outputs": [],
   "source": [
    "data[data['distance'] == 0]['probability'].mean()"
   ]
  },
  {
   "cell_type": "code",
   "execution_count": null,
   "id": "7e8b34fe",
   "metadata": {},
   "outputs": [],
   "source": []
  }
 ],
 "metadata": {
  "kernelspec": {
   "display_name": "base",
   "language": "python",
   "name": "python3"
  },
  "language_info": {
   "codemirror_mode": {
    "name": "ipython",
    "version": 3
   },
   "file_extension": ".py",
   "mimetype": "text/x-python",
   "name": "python",
   "nbconvert_exporter": "python",
   "pygments_lexer": "ipython3",
   "version": "3.12.4"
  }
 },
 "nbformat": 4,
 "nbformat_minor": 5
}
