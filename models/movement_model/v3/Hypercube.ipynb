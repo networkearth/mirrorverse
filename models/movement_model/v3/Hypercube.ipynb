{
 "cells": [
  {
   "cell_type": "code",
   "execution_count": 1,
   "metadata": {},
   "outputs": [],
   "source": [
    "import os\n",
    "\n",
    "import numpy as np\n",
    "import pandas as pd\n",
    "import haven.db as db\n",
    "\n",
    "os.environ['AWS_PROFILE'] = 'admin'\n",
    "os.environ['HAVEN_DATABASE'] = 'haven'"
   ]
  },
  {
   "cell_type": "code",
   "execution_count": null,
   "metadata": {},
   "outputs": [],
   "source": [
    "features = {\n",
    "    \"normed_log_mlt\": (-1.0, 1.5, 0.15),\n",
    "    \"normed_log_npp\": (-4.0, 3.0, 0.4), \n",
    "    \"normed_distance\": (0.0, 1.0, 0.05),\n",
    "    \"water_heading\": (-np.pi, np.pi, 0.3),\n",
    "    \"movement_heading\": (-np.pi, np.pi, 0.3)\n",
    "}\n",
    "dataframes = {\n",
    "    col: pd.DataFrame({col: np.arange(lower, upper + step, step)})\n",
    "    for col, (lower, upper, step) in features.items()\n",
    "}\n",
    "product = 1.0\n",
    "for col, dataframe in dataframes.items():\n",
    "    print(col, dataframe.shape[0])\n",
    "    product *= dataframe.shape[0]\n",
    "print(\n",
    "    \"Final Size Will Be:\", product\n",
    ")"
   ]
  },
  {
   "cell_type": "code",
   "execution_count": null,
   "metadata": {},
   "outputs": [],
   "source": [
    "cols = list(dataframes.keys())\n",
    "result = dataframes[cols[0]]\n",
    "for col in cols[1:]:\n",
    "    result = result.merge(\n",
    "        dataframes[col], how='cross'\n",
    "    )\n",
    "result = result.reset_index(drop=True).reset_index().rename(columns={'index': '_individual'})\n",
    "result['_decision'] = result['_individual']\n",
    "result['_choice'] = result['_individual']\n",
    "result['_train'] = False\n",
    "result"
   ]
  },
  {
   "cell_type": "code",
   "execution_count": 4,
   "metadata": {},
   "outputs": [],
   "source": [
    "db.write_data(\n",
    "    result, 'movement_model_hypercube_v3', ['_train']\n",
    ")"
   ]
  },
  {
   "cell_type": "code",
   "execution_count": null,
   "metadata": {},
   "outputs": [],
   "source": []
  }
 ],
 "metadata": {
  "kernelspec": {
   "display_name": "base",
   "language": "python",
   "name": "python3"
  },
  "language_info": {
   "codemirror_mode": {
    "name": "ipython",
    "version": 3
   },
   "file_extension": ".py",
   "mimetype": "text/x-python",
   "name": "python",
   "nbconvert_exporter": "python",
   "pygments_lexer": "ipython3",
   "version": "3.12.2"
  }
 },
 "nbformat": 4,
 "nbformat_minor": 2
}
