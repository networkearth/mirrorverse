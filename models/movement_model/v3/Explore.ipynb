{
 "cells": [
  {
   "cell_type": "code",
   "execution_count": 1,
   "metadata": {},
   "outputs": [],
   "source": [
    "import os\n",
    "import random\n",
    "\n",
    "import h3\n",
    "import numpy as np\n",
    "import pandas as pd\n",
    "import haven.db as db \n",
    "import geopy.distance\n",
    "import plotly.express as px\n",
    "from mirrorverse.plotting import plot_h3_slider, plot_h3_animation\n",
    "\n",
    "os.environ['HAVEN_DATABASE'] = 'haven'\n",
    "os.environ['AWS_PROFILE'] = 'admin'"
   ]
  },
  {
   "cell_type": "code",
   "execution_count": null,
   "metadata": {},
   "outputs": [],
   "source": [
    "sql = '''\n",
    "select  \n",
    "    i._individual,\n",
    "    i._decision,\n",
    "    i._choice,\n",
    "    f._selected,\n",
    "    i._train,\n",
    "    i.log_odds,\n",
    "    i.odds,\n",
    "    i.probability,\n",
    "    f.h3_index,\n",
    "    f.date,\n",
    "    f.net_primary_production,\n",
    "    f.mixed_layer_thickness,\n",
    "    f.distance,\n",
    "    f.water_heading,\n",
    "    f.movement_heading\n",
    "from \n",
    "    movement_model_inference_v3_s1 i \n",
    "    inner join movement_model_features_v3 f \n",
    "        on i._individual = f._individual\n",
    "        and i._decision = f._decision\n",
    "        and i._choice = f._choice\n",
    "'''\n",
    "data = db.read_data(sql)\n",
    "print(data.shape)\n",
    "data.head()"
   ]
  },
  {
   "cell_type": "code",
   "execution_count": 3,
   "metadata": {},
   "outputs": [],
   "source": [
    "def set_line_color(row):\n",
    "    if row['distance'] == 0:\n",
    "        return \"orange\"\n",
    "    elif row['_selected']:\n",
    "        return \"purple\"\n",
    "    else:\n",
    "        return \"black\"\n",
    "    \n",
    "data['color'] = data.apply(set_line_color, axis=1)"
   ]
  },
  {
   "cell_type": "code",
   "execution_count": null,
   "metadata": {},
   "outputs": [],
   "source": [
    "glacier = [\n",
    "    25, 33, 36, 49, 53, 61,\n",
    "    67, 77, 79, 81, 85, 88,\n",
    "    89, 107, 110, 111,\n",
    "]\n",
    "\n",
    "individual = glacier[4]\n",
    "value_col = 'probability'#'mixed_layer_thickness'\n",
    "fig = plot_h3_slider(\n",
    "    data[data['_individual'] == individual], \n",
    "    value_col=value_col,\n",
    "    h3_col='h3_index',\n",
    "    slider_col='date',\n",
    "    line_color_col='color',\n",
    "    bold_colors=['orange', 'purple'],\n",
    "    zoom=4, \n",
    "    center={\"lat\": 57, \"lon\": -140},\n",
    "    zmax=0.25\n",
    ")\n",
    "fig.show()"
   ]
  },
  {
   "cell_type": "code",
   "execution_count": null,
   "metadata": {},
   "outputs": [],
   "source": [
    "value_col = 'mixed_layer_thickness'\n",
    "fig = plot_h3_slider(\n",
    "    data[data['_individual'] == individual], \n",
    "    value_col=value_col,\n",
    "    h3_col='h3_index',\n",
    "    slider_col='date',\n",
    "    line_color_col='color',\n",
    "    bold_colors=['orange', 'purple'],\n",
    "    zoom=4, \n",
    "    center={\"lat\": 57, \"lon\": -140},\n",
    ")\n",
    "fig.show()"
   ]
  },
  {
   "cell_type": "code",
   "execution_count": null,
   "metadata": {},
   "outputs": [],
   "source": []
  }
 ],
 "metadata": {
  "kernelspec": {
   "display_name": "base",
   "language": "python",
   "name": "python3"
  },
  "language_info": {
   "codemirror_mode": {
    "name": "ipython",
    "version": 3
   },
   "file_extension": ".py",
   "mimetype": "text/x-python",
   "name": "python",
   "nbconvert_exporter": "python",
   "pygments_lexer": "ipython3",
   "version": "3.12.2"
  }
 },
 "nbformat": 4,
 "nbformat_minor": 2
}
