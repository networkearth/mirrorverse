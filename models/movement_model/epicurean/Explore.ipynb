{
 "cells": [
  {
   "cell_type": "code",
   "execution_count": null,
   "metadata": {},
   "outputs": [],
   "source": [
    "import os\n",
    "import random\n",
    "\n",
    "import h3\n",
    "import numpy as np\n",
    "import pandas as pd\n",
    "import geopy.distance\n",
    "import plotly.express as px\n",
    "from mirrorverse.plotting import plot_h3_slider, plot_h3_animation\n",
    "from mirrorverse.utils import read_data_w_cache\n",
    "\n",
    "os.environ['HAVEN_DATABASE'] = 'haven'\n",
    "os.environ['AWS_PROFILE'] = 'admin'"
   ]
  },
  {
   "cell_type": "code",
   "execution_count": null,
   "metadata": {},
   "outputs": [],
   "source": [
    "sql = '''\n",
    "select  \n",
    "    i._individual,\n",
    "    i._decision,\n",
    "    i._choice,\n",
    "    f._selected,\n",
    "    i._train,\n",
    "    i.log_odds,\n",
    "    i.odds,\n",
    "    i.probability,\n",
    "    f.h3_index,\n",
    "    f.time,\n",
    "    f.net_primary_production,\n",
    "    f.mixed_layer_thickness,\n",
    "    f.distance,\n",
    "    f.water_heading,\n",
    "    f.movement_heading\n",
    "from \n",
    "    movement_model_inference_m2_a1 i \n",
    "    inner join movement_model_features_m2_a1 f \n",
    "        on i._individual = f._individual\n",
    "        and i._decision = f._decision\n",
    "        and i._choice = f._choice\n",
    "'''\n",
    "data = read_data_w_cache(sql)\n",
    "data['date'] = data['time'].dt.strftime(\"%Y-%m-%d\")\n",
    "print(data.shape)\n",
    "data.head()"
   ]
  },
  {
   "cell_type": "code",
   "execution_count": null,
   "metadata": {},
   "outputs": [],
   "source": [
    "sql = '''\n",
    "select  \n",
    "    _individual,\n",
    "    -avg(ln(probability)) as score\n",
    "from \n",
    "    movement_model_inference_m2_a1\n",
    "where \n",
    "    _selected\n",
    "group by \n",
    "    1\n",
    "'''\n",
    "rankings = read_data_w_cache(sql).sort_values('score', ascending=False)\n",
    "print(rankings.shape)\n",
    "rankings"
   ]
  },
  {
   "cell_type": "code",
   "execution_count": null,
   "metadata": {},
   "outputs": [],
   "source": [
    "def set_line_color(row):\n",
    "    if row['distance'] == 0:\n",
    "        return \"orange\"\n",
    "    elif row['_selected']:\n",
    "        return \"purple\"\n",
    "    else:\n",
    "        return \"black\"\n",
    "    \n",
    "data['color'] = data.apply(set_line_color, axis=1)"
   ]
  },
  {
   "cell_type": "code",
   "execution_count": null,
   "metadata": {},
   "outputs": [],
   "source": [
    "def add_common_time(data):\n",
    "    data['mod_date'] = data['date'].apply(lambda d: '-'.join(['2020'] + list(d.split('-')[1:])))\n",
    "    data['_time'] = pd.to_datetime(data['mod_date'])\n",
    "    return data\n",
    "\n",
    "poor_fits = add_common_time(\n",
    "    data[data['color'] == 'orange'].merge(\n",
    "        rankings[rankings['score'] >= rankings['score'].quantile(0.75)]\n",
    "    )\n",
    ").groupby(['h3_index', '_time'])[['_individual']].mean().reset_index()\n",
    "poor_fits['color'] = 'orange'\n",
    "good_fits = add_common_time(\n",
    "    data[data['color'] == 'orange'].merge(\n",
    "        rankings[rankings['score'] <= rankings['score'].quantile(0.25)]\n",
    "    )\n",
    ").groupby(['h3_index', '_time'])[['_individual']].mean().reset_index()\n",
    "good_fits['color'] = 'purple'\n",
    "overall = pd.concat([poor_fits, good_fits])\n",
    "plot_h3_animation(\n",
    "    overall, \n",
    "    value_col='_individual',\n",
    "    h3_col='h3_index',\n",
    "    slider_col='_time',\n",
    "    line_color_col='color',\n",
    "    bold_colors=['orange', 'purple'],\n",
    "    zoom=3, \n",
    "    center={\"lat\": 55, \"lon\": -165},\n",
    "    duration=200\n",
    ")"
   ]
  },
  {
   "cell_type": "code",
   "execution_count": null,
   "metadata": {},
   "outputs": [],
   "source": []
  }
 ],
 "metadata": {
  "kernelspec": {
   "display_name": "base",
   "language": "python",
   "name": "python3"
  },
  "language_info": {
   "codemirror_mode": {
    "name": "ipython",
    "version": 3
   },
   "file_extension": ".py",
   "mimetype": "text/x-python",
   "name": "python",
   "nbconvert_exporter": "python",
   "pygments_lexer": "ipython3",
   "version": "3.12.4"
  }
 },
 "nbformat": 4,
 "nbformat_minor": 2
}
