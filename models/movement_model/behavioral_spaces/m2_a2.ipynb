{
 "cells": [
  {
   "cell_type": "code",
   "execution_count": 6,
   "metadata": {},
   "outputs": [],
   "source": [
    "import os\n",
    "import random\n",
    "import math\n",
    "\n",
    "import numpy as np\n",
    "import haven.db as db \n",
    "import plotly.express as px\n",
    "\n",
    "from mirrorverse.utils import read_data_w_cache\n",
    "\n",
    "os.environ['HAVEN_DATABASE'] = 'haven'\n",
    "os.environ['AWS_PROFILE'] = 'admin'"
   ]
  },
  {
   "cell_type": "code",
   "execution_count": null,
   "metadata": {},
   "outputs": [],
   "source": [
    "TEST = True\n",
    "\n",
    "table = 'movement_model_raw_features_m2_a2' if not TEST else 'movement_model_raw_features_m2_a2_test'\n",
    "data = read_data_w_cache(\n",
    "    f'select * from {table}'\n",
    ")\n",
    "data = data[data['_selected'].isin([True, False])]\n",
    "data.head()"
   ]
  },
  {
   "cell_type": "code",
   "execution_count": null,
   "metadata": {},
   "outputs": [],
   "source": [
    "df = data.merge(\n",
    "    data[['_individual']].drop_duplicates().reset_index(drop=True).reset_index(),\n",
    "    on='_individual'\n",
    ")\n",
    "del df['_individual']\n",
    "df = df.rename({'index': '_individual'}, axis=1)\n",
    "df.head()"
   ]
  },
  {
   "cell_type": "code",
   "execution_count": null,
   "metadata": {},
   "outputs": [],
   "source": [
    "df.groupby('_train').size()"
   ]
  },
  {
   "cell_type": "code",
   "execution_count": null,
   "metadata": {},
   "outputs": [],
   "source": [
    "df['normed_distance'] = df['distance'] / 100\n",
    "px.histogram(df['normed_distance'])"
   ]
  },
  {
   "cell_type": "code",
   "execution_count": null,
   "metadata": {},
   "outputs": [],
   "source": [
    "df['normed_log_mlt'] = np.log(df['mixed_layer_thickness'] + 0.001)\n",
    "print(df['normed_log_mlt'].mean())\n",
    "df['normed_log_mlt'] = df['normed_log_mlt'] - 3.068049438368808\n",
    "px.histogram(df['normed_log_mlt'])"
   ]
  },
  {
   "cell_type": "code",
   "execution_count": null,
   "metadata": {},
   "outputs": [],
   "source": [
    "df['normed_log_npp'] = np.log(df['net_primary_production'] + 0.001)\n",
    "print(df['normed_log_npp'].mean())\n",
    "df['normed_log_npp'] = df['normed_log_npp'] - 1.9856236\n",
    "px.histogram(df['normed_log_npp'])"
   ]
  },
  {
   "cell_type": "code",
   "execution_count": 20,
   "metadata": {},
   "outputs": [],
   "source": [
    "table = 'movement_model_features_m2_a2' if not TEST else 'movement_model_features_m2_a2_test'\n",
    "\n",
    "db.write_data(\n",
    "    df, table, ['tag_key']\n",
    ")"
   ]
  },
  {
   "cell_type": "code",
   "execution_count": null,
   "metadata": {},
   "outputs": [],
   "source": []
  }
 ],
 "metadata": {
  "kernelspec": {
   "display_name": "base",
   "language": "python",
   "name": "python3"
  },
  "language_info": {
   "codemirror_mode": {
    "name": "ipython",
    "version": 3
   },
   "file_extension": ".py",
   "mimetype": "text/x-python",
   "name": "python",
   "nbconvert_exporter": "python",
   "pygments_lexer": "ipython3",
   "version": "3.12.4"
  }
 },
 "nbformat": 4,
 "nbformat_minor": 2
}
