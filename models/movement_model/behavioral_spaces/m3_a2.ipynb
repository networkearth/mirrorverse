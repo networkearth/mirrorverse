{
 "cells": [
  {
   "cell_type": "code",
   "execution_count": 2,
   "metadata": {},
   "outputs": [],
   "source": [
    "import os\n",
    "import random\n",
    "import math\n",
    "\n",
    "import numpy as np\n",
    "import pandas as pd\n",
    "import haven.db as db \n",
    "import plotly.express as px\n",
    "\n",
    "from mirrorverse.utils import read_data_w_cache\n",
    "\n",
    "os.environ['HAVEN_DATABASE'] = 'haven'\n",
    "os.environ['AWS_PROFILE'] = 'admin'"
   ]
  },
  {
   "cell_type": "code",
   "execution_count": null,
   "metadata": {},
   "outputs": [],
   "source": [
    "TEST = True\n",
    "\n",
    "table = 'movement_model_raw_features_m2_a2' if not TEST else 'movement_model_raw_features_m2_a2_test'\n",
    "data = read_data_w_cache(\n",
    "    f'select * from {table}'\n",
    ")\n",
    "data = data[data['_selected'].isin([True, False])]\n",
    "data.head()"
   ]
  },
  {
   "cell_type": "code",
   "execution_count": null,
   "metadata": {},
   "outputs": [],
   "source": [
    "df = data.merge(\n",
    "    data[['_individual']].drop_duplicates().reset_index(drop=True).reset_index(),\n",
    "    on='_individual'\n",
    ")\n",
    "del df['_individual']\n",
    "df = df.rename({'index': '_individual'}, axis=1)\n",
    "df.head()"
   ]
  },
  {
   "cell_type": "code",
   "execution_count": null,
   "metadata": {},
   "outputs": [],
   "source": [
    "df.groupby('_train').size()"
   ]
  },
  {
   "cell_type": "code",
   "execution_count": null,
   "metadata": {},
   "outputs": [],
   "source": [
    "df['normed_distance'] = df['distance'] / 100\n",
    "px.histogram(df['normed_distance'])"
   ]
  },
  {
   "cell_type": "code",
   "execution_count": null,
   "metadata": {},
   "outputs": [],
   "source": [
    "df['normed_log_mlt'] = np.log(df['mixed_layer_thickness'] + 0.001)\n",
    "print(df['normed_log_mlt'].mean())\n",
    "df['normed_log_mlt'] = df['normed_log_mlt'] - 3.068049438368808\n",
    "px.histogram(df['normed_log_mlt'])"
   ]
  },
  {
   "cell_type": "code",
   "execution_count": null,
   "metadata": {},
   "outputs": [],
   "source": [
    "df['normed_log_npp'] = np.log(df['net_primary_production'] + 0.001)\n",
    "print(df['normed_log_npp'].mean())\n",
    "df['normed_log_npp'] = df['normed_log_npp'] - 1.9856236\n",
    "px.histogram(df['normed_log_npp'])"
   ]
  },
  {
   "cell_type": "markdown",
   "metadata": {},
   "source": [
    "# Add Additional Features"
   ]
  },
  {
   "cell_type": "code",
   "execution_count": null,
   "metadata": {},
   "outputs": [],
   "source": [
    "sizes = read_data_w_cache('select tag_key, fork_length_cm from mgietzmann_tags')\n",
    "sizes.head()"
   ]
  },
  {
   "cell_type": "code",
   "execution_count": null,
   "metadata": {},
   "outputs": [],
   "source": [
    "print(sizes['fork_length_cm'].mean())\n",
    "print(sizes['fork_length_cm'].std())\n",
    "sizes['normalized_fork_length'] = (sizes['fork_length_cm'] - sizes['fork_length_cm'].mean()) / sizes['fork_length_cm'].std()\n",
    "px.histogram(sizes['normalized_fork_length'])"
   ]
  },
  {
   "cell_type": "code",
   "execution_count": null,
   "metadata": {},
   "outputs": [],
   "source": [
    "regions = read_data_w_cache('select tag_key, region from mgietzmann_tag_regions')\n",
    "regions.head()"
   ]
  },
  {
   "cell_type": "code",
   "execution_count": null,
   "metadata": {},
   "outputs": [],
   "source": [
    "regions['region'].unique()"
   ]
  },
  {
   "cell_type": "code",
   "execution_count": null,
   "metadata": {},
   "outputs": [],
   "source": [
    "locs = pd.DataFrame([\n",
    "    {\n",
    "        'region': 'WA/OR',\n",
    "        'home_lat': 46.0,\n",
    "        'home_lon': -125.0\n",
    "    },\n",
    "    {\n",
    "        'region': 'SEAK',\n",
    "        'home_lat': 53.0,\n",
    "        'home_lon': -130.0\n",
    "    },\n",
    "    {\n",
    "        'region': 'BC',\n",
    "        'home_lat': 57.0,\n",
    "        'home_lon': -136.0\n",
    "    },\n",
    "])\n",
    "regions = regions[['tag_key', 'region']].merge(locs, how='outer')\n",
    "regions['home_lat'] = regions['home_lat'].fillna(360.0)\n",
    "regions['home_lon'] = regions['home_lon'].fillna(360.0)\n",
    "regions['normed_home_lat'] = regions['home_lat'] / 90.0\n",
    "regions['normed_home_lon'] = regions['home_lon'] / 180\n",
    "regions.head()"
   ]
  },
  {
   "cell_type": "code",
   "execution_count": null,
   "metadata": {},
   "outputs": [],
   "source": [
    "print(data.shape)\n",
    "df = df.merge(regions).merge(sizes)\n",
    "print(data.shape)"
   ]
  },
  {
   "cell_type": "code",
   "execution_count": null,
   "metadata": {},
   "outputs": [],
   "source": [
    "def month_to_radians(x):\n",
    "    return (x-1)/11 * 2 * np.pi\n",
    "\n",
    "df['cos_time'] = df['time'].dt.month.apply(lambda m: np.cos(month_to_radians(m)))\n",
    "df['sin_time'] = df['time'].dt.month.apply(lambda m: np.sin(month_to_radians(m)))\n",
    "df.head()"
   ]
  },
  {
   "cell_type": "markdown",
   "metadata": {},
   "source": [
    "# Write Data"
   ]
  },
  {
   "cell_type": "code",
   "execution_count": 30,
   "metadata": {},
   "outputs": [],
   "source": [
    "table = 'movement_model_features_m3_a2' if not TEST else 'movement_model_features_m3_a2_test'\n",
    "\n",
    "db.write_data(\n",
    "    df, table, ['tag_key']\n",
    ")"
   ]
  },
  {
   "cell_type": "code",
   "execution_count": null,
   "metadata": {},
   "outputs": [],
   "source": []
  }
 ],
 "metadata": {
  "kernelspec": {
   "display_name": "base",
   "language": "python",
   "name": "python3"
  },
  "language_info": {
   "codemirror_mode": {
    "name": "ipython",
    "version": 3
   },
   "file_extension": ".py",
   "mimetype": "text/x-python",
   "name": "python",
   "nbconvert_exporter": "python",
   "pygments_lexer": "ipython3",
   "version": "3.12.4"
  }
 },
 "nbformat": 4,
 "nbformat_minor": 2
}
