{
 "cells": [
  {
   "cell_type": "code",
   "execution_count": null,
   "id": "b50b63e5",
   "metadata": {},
   "outputs": [],
   "source": [
    "import os\n",
    "\n",
    "os.environ['AWS_PROFILE'] = 'admin'\n",
    "os.environ['HAVEN_DATABASE'] = 'haven'\n",
    "\n",
    "from mirrorverse.utils import read_data_w_cache\n",
    "\n",
    "from haven.db import write_data\n",
    "\n",
    "import pandas as pd\n",
    "import numpy as np\n",
    "from datetime import datetime\n",
    "import plotly.express as px\n",
    "import h3"
   ]
  },
  {
   "cell_type": "code",
   "execution_count": null,
   "id": "180102e8",
   "metadata": {},
   "outputs": [],
   "source": [
    "sql = '''\n",
    "select \n",
    "    f.*,\n",
    "    o.parallel_to_shelf,\n",
    "    o.toward_coast,\n",
    "    o.toward_shelf,\n",
    "    cos(o.angle) as cos_angle,\n",
    "    sin(o.angle) as sin_angle,\n",
    "    o.angle,\n",
    "    c.coast_distance,\n",
    "    c.shelf_distance,\n",
    "    cos(s.season_radians) as cos_season_radians,\n",
    "    sin(s.season_radians) as sin_season_radians,\n",
    "    s.season_radians\n",
    "from \n",
    "    movement_model_features_m9_a2 f\n",
    "    inner join options_w_angles o \n",
    "        on f.origin_h3_index = o.h3_index\n",
    "        and f.h3_index = o.neighbor \n",
    "    inner join coastal_info c\n",
    "        on f.origin_h3_index = c.h3_index\n",
    "    inner join season_radians s\n",
    "        on to_unixtime(f.time) = s.epoch\n",
    "'''\n",
    "data = read_data_w_cache(sql)\n",
    "print(data.shape)\n",
    "data.head()"
   ]
  },
  {
   "cell_type": "code",
   "execution_count": null,
   "id": "94a170f0",
   "metadata": {},
   "outputs": [],
   "source": [
    "df = data[(data['_individual'] == 10) & (data['_decision'] == 10)]\n",
    "df['lat'] = df['h3_index'].apply(lambda x: h3.h3_to_geo(x)[0])\n",
    "df['lon'] = df['h3_index'].apply(lambda x: h3.h3_to_geo(x)[1])\n",
    "\n",
    "px.scatter_geo(\n",
    "    df,\n",
    "    lat='lat',\n",
    "    lon='lon',\n",
    "    color='toward_shelf',\n",
    ").show()"
   ]
  },
  {
   "cell_type": "code",
   "execution_count": null,
   "id": "3d0daf4d",
   "metadata": {},
   "outputs": [],
   "source": [
    "write_data(\n",
    "    data, 'movement_model_features_10', ['_train']\n",
    ")"
   ]
  },
  {
   "cell_type": "code",
   "execution_count": null,
   "id": "12dabe06",
   "metadata": {},
   "outputs": [],
   "source": [
    "data.columns"
   ]
  },
  {
   "cell_type": "code",
   "execution_count": null,
   "id": "a2ca4dd5",
   "metadata": {},
   "outputs": [],
   "source": []
  }
 ],
 "metadata": {
  "kernelspec": {
   "display_name": "base",
   "language": "python",
   "name": "python3"
  },
  "language_info": {
   "codemirror_mode": {
    "name": "ipython",
    "version": 3
   },
   "file_extension": ".py",
   "mimetype": "text/x-python",
   "name": "python",
   "nbconvert_exporter": "python",
   "pygments_lexer": "ipython3",
   "version": "3.12.4"
  }
 },
 "nbformat": 4,
 "nbformat_minor": 5
}
