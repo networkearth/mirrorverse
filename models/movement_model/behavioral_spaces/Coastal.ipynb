{
 "cells": [
  {
   "cell_type": "code",
   "execution_count": null,
   "id": "5ba8dfca",
   "metadata": {},
   "outputs": [],
   "source": [
    "import os\n",
    "\n",
    "os.environ['AWS_PROFILE'] = 'admin'\n",
    "os.environ['HAVEN_DATABASE'] = 'haven'\n",
    "\n",
    "from mirrorverse.utils import read_data_w_cache, find_neighbors\n",
    "\n",
    "from haven.db import write_data\n",
    "\n",
    "import h3\n",
    "import plotly.express as px\n",
    "from tqdm import tqdm\n",
    "from collections import defaultdict\n",
    "import pandas as pd\n",
    "import numpy as np\n",
    "import geopy.distance"
   ]
  },
  {
   "cell_type": "code",
   "execution_count": null,
   "id": "428fc008",
   "metadata": {},
   "outputs": [],
   "source": [
    "sql = ''' \n",
    "select \n",
    "    round(lat, 1) as lat,\n",
    "    round(lon, 1) as lon,\n",
    "    avg(elevation) as elevation\n",
    "from \n",
    "    elevation_uploads\n",
    "group by \n",
    "    1, 2\n",
    "'''\n",
    "data = read_data_w_cache(sql)\n",
    "print(data.shape)\n",
    "data.head()"
   ]
  },
  {
   "cell_type": "code",
   "execution_count": null,
   "id": "5a29d902",
   "metadata": {},
   "outputs": [],
   "source": [
    "px.scatter_geo(\n",
    "    data[data['elevation'] > 0].sample(10000), lat='lat', lon='lon',\n",
    "    color='elevation',\n",
    ")"
   ]
  },
  {
   "cell_type": "code",
   "execution_count": null,
   "id": "e467e25f",
   "metadata": {},
   "outputs": [],
   "source": [
    "water = defaultdict(list)\n",
    "land = []\n",
    "for _, row in tqdm(data.iterrows()):\n",
    "    lat, lon, elevation = row['lat'], row['lon'], row['elevation']\n",
    "    if elevation < 0:\n",
    "        water[lat].append(lon)\n",
    "    if elevation >= 0:\n",
    "        land.append((lat, lon))"
   ]
  },
  {
   "cell_type": "code",
   "execution_count": null,
   "id": "dbf9e261",
   "metadata": {},
   "outputs": [],
   "source": [
    "coastal = []\n",
    "increment = 0.1\n",
    "for lat, lon in tqdm(land):\n",
    "    is_coastal = False\n",
    "    for look_lat in [lat - increment, lat, lat + increment]:\n",
    "        for look_lon in [lon - increment, lon, lon + increment]:\n",
    "            if look_lon in water[look_lat]:\n",
    "                is_coastal = True\n",
    "                break\n",
    "        if is_coastal:\n",
    "            break\n",
    "    if is_coastal:\n",
    "        coastal.append((lat, lon))\n",
    "\n",
    "coastal_df = pd.DataFrame(coastal, columns=['lat', 'lon'])\n",
    "print(coastal_df.shape)\n",
    "coastal_df.head()"
   ]
  },
  {
   "cell_type": "code",
   "execution_count": null,
   "id": "985bb998",
   "metadata": {},
   "outputs": [],
   "source": [
    "px.scatter_geo(\n",
    "    coastal_df, lat='lat', lon='lon',\n",
    ")"
   ]
  },
  {
   "cell_type": "code",
   "execution_count": null,
   "id": "b7d4b263",
   "metadata": {},
   "outputs": [],
   "source": [
    "px.scatter_geo(\n",
    "    data[data['elevation'] < -2000].sample(10000), lat='lat', lon='lon',\n",
    "    color='elevation',\n",
    ")"
   ]
  },
  {
   "cell_type": "code",
   "execution_count": null,
   "id": "c0d5bcc6",
   "metadata": {},
   "outputs": [],
   "source": [
    "basin = defaultdict(list)\n",
    "coast = []\n",
    "for _, row in tqdm(data.iterrows()):\n",
    "    lat, lon, elevation = row['lat'], row['lon'], row['elevation']\n",
    "    if elevation < -2000:\n",
    "        basin[lat].append(lon)\n",
    "    if 0 > elevation >= -2000:\n",
    "        coast.append((lat, lon))"
   ]
  },
  {
   "cell_type": "code",
   "execution_count": null,
   "id": "5ae1ed32",
   "metadata": {},
   "outputs": [],
   "source": [
    "drop = []\n",
    "increment = 0.1\n",
    "for lat, lon in tqdm(coast):\n",
    "    is_drop = False\n",
    "    for look_lat in [lat - increment, lat, lat + increment]:\n",
    "        for look_lon in [lon - increment, lon, lon + increment]:\n",
    "            if look_lon in basin[look_lat]:\n",
    "                is_drop = True\n",
    "                break\n",
    "        if is_drop:\n",
    "            break\n",
    "    if is_drop:\n",
    "        drop.append((lat, lon))\n",
    "\n",
    "drop_df = pd.DataFrame(drop, columns=['lat', 'lon'])\n",
    "print(drop_df.shape)\n",
    "drop_df.head()"
   ]
  },
  {
   "cell_type": "code",
   "execution_count": null,
   "id": "d0e4cf01",
   "metadata": {},
   "outputs": [],
   "source": [
    "px.scatter_geo(\n",
    "    drop_df, lat='lat', lon='lon',\n",
    ")"
   ]
  },
  {
   "cell_type": "code",
   "execution_count": null,
   "id": "1e324cbc",
   "metadata": {},
   "outputs": [],
   "source": [
    "coastal_df['case'] = 'coastline'\n",
    "drop_df['case'] = 'dropoff'\n",
    "boundaries = pd.concat([coastal_df, drop_df])\n",
    "px.scatter_geo(\n",
    "    boundaries, lat='lat', lon='lon',\n",
    "    color='case',\n",
    ")"
   ]
  },
  {
   "cell_type": "code",
   "execution_count": null,
   "id": "a70179bf",
   "metadata": {},
   "outputs": [],
   "source": [
    "neighbors = {}\n",
    "allowed = {}\n",
    "to_close = {}\n",
    "\n",
    "NUM_NEIGHBORS = 5\n",
    "MAX_DISTANCE = 2\n",
    "MIN_DISTANCE = 0.5\n",
    "\n",
    "points = [\n",
    "    [lat, lon] for lat, lon in zip(drop_df['lat'], drop_df['lon'])\n",
    "]\n",
    "for lat, lon in tqdm(points):\n",
    "    drop_df['distance'] = ((drop_df['lat'] - lat) ** 2 + (drop_df['lon'] - lon) ** 2) ** 0.5\n",
    "    df = drop_df[drop_df['distance'] > 0].sort_values('distance', ascending=True)\n",
    "    neighbors[(lat, lon)] = {(lat_n, lon_n) for (lat_n, lon_n) in df[df['distance'] <= MAX_DISTANCE][['lat', 'lon']].head(NUM_NEIGHBORS).values.tolist()}\n",
    "    allowed[(lat, lon)] = {(lat_n, lon_n) for (lat_n, lon_n) in df[df['distance'] <= MAX_DISTANCE][['lat', 'lon']].values.tolist()}\n",
    "    to_close[(lat, lon)] = {(lat_n, lon_n) for (lat_n, lon_n) in df[df['distance'] <= MIN_DISTANCE][['lat', 'lon']].values.tolist()}"
   ]
  },
  {
   "cell_type": "code",
   "execution_count": null,
   "id": "b739a12b",
   "metadata": {},
   "outputs": [],
   "source": [
    "expanded_neighbors = {}\n",
    "for (lat, lon), neighbor_set in tqdm(neighbors.items()):\n",
    "    allowed_set = allowed[(lat, lon)]\n",
    "\n",
    "    expanded_neighbors_set = {e for e in neighbor_set}\n",
    "\n",
    "    while neighbor_set:\n",
    "        next_level = set()\n",
    "        for lat_n, lon_n in neighbor_set:\n",
    "            new = neighbors[(lat_n, lon_n)]\n",
    "            for lat_n2, lon_n2 in new:\n",
    "                if (lat_n2, lon_n2) not in expanded_neighbors_set and (lat_n2, lon_n2) in allowed_set:\n",
    "                    expanded_neighbors_set.add((lat_n2, lon_n2))\n",
    "                    next_level.add((lat_n2, lon_n2))\n",
    "        neighbor_set = next_level\n",
    "    \n",
    "    expanded_neighbors[(lat, lon)] = expanded_neighbors_set"
   ]
  },
  {
   "cell_type": "code",
   "execution_count": null,
   "id": "c0ef0568",
   "metadata": {},
   "outputs": [],
   "source": [
    "rows = []\n",
    "for i, ((lat, lon), neighbor_set) in tqdm(enumerate(expanded_neighbors.items())):\n",
    "    neighbor_set -= to_close[(lat, lon)]\n",
    "    for lat_n, lon_n in neighbor_set:\n",
    "        rows.append((i, lat, lon, lat_n, lon_n))\n",
    "df = pd.DataFrame(rows, columns=['i', 'lat', 'lon', 'lat_n', 'lon_n'])\n",
    "df['distance'] = ((df['lat_n'] - df['lat']) ** 2 + (df['lon_n'] - df['lon']) ** 2) ** 0.5\n",
    "df['lat_diff'] = df['lat'] - df['lat_n']\n",
    "df['lon_diff'] = df['lon'] - df['lon_n']\n",
    "df.loc[df['lon_diff'] < 0, 'lat_diff'] = -df['lat_diff']\n",
    "df.loc[df['lon_diff'] < 0, 'lon_diff'] = -df['lon_diff']\n",
    "df['lat_diff'] = df['lat_diff'] / df['distance']\n",
    "df['lon_diff'] = df['lon_diff'] / df['distance']\n",
    "df['angle'] = np.arctan2(df['lat_diff'], df['lon_diff'])\n",
    "df = df.groupby(['lat', 'lon'])['angle'].mean().reset_index()\n",
    "shelf_angle = df"
   ]
  },
  {
   "cell_type": "code",
   "execution_count": null,
   "id": "f332333b",
   "metadata": {},
   "outputs": [],
   "source": [
    "df[['lat', 'lon']].drop_duplicates().shape"
   ]
  },
  {
   "cell_type": "code",
   "execution_count": null,
   "id": "718e496b",
   "metadata": {},
   "outputs": [],
   "source": [
    "px.scatter_geo(\n",
    "    shelf_angle, lat='lat', lon='lon',\n",
    "    color='angle',\n",
    ")"
   ]
  },
  {
   "cell_type": "code",
   "execution_count": null,
   "id": "2848e57d",
   "metadata": {},
   "outputs": [],
   "source": [
    "sql = '''\n",
    "select \n",
    "    *\n",
    "from \n",
    "    mean_elevation_by_h3\n",
    "where \n",
    "    h3_resolution = 4\n",
    "'''\n",
    "h3_data = read_data_w_cache(sql)\n",
    "print(h3_data.shape)\n",
    "h3_data.head()"
   ]
  },
  {
   "cell_type": "code",
   "execution_count": null,
   "id": "b828473c",
   "metadata": {},
   "outputs": [],
   "source": [
    "if os.path.exists('doubles.csv'):\n",
    "    doubles = pd.read_csv('doubles.csv')\n",
    "else:\n",
    "    doubles = []\n",
    "    for h3_index in tqdm(list(h3_data['h3_index'])):\n",
    "        neighbors = find_neighbors(100, h3_index)\n",
    "        for neighbor in neighbors:\n",
    "            if neighbor in h3_data['h3_index'].values:\n",
    "                doubles.append((h3_index, neighbor))\n",
    "    doubles = pd.DataFrame(doubles, columns=['h3_index', 'neighbor'])\n",
    "    doubles.to_csv('doubles.csv', index=False)"
   ]
  },
  {
   "cell_type": "code",
   "execution_count": null,
   "id": "c38aebc4",
   "metadata": {},
   "outputs": [],
   "source": [
    "coast_match = []\n",
    "df = coastal_df.copy()\n",
    "for h3_index in tqdm(list(h3_data['h3_index'])):\n",
    "    lat, lon = h3.h3_to_geo(h3_index)\n",
    "    df['lat_h3'] = lat\n",
    "    df['lon_h3'] = lon if lon > 0 else lon + 360\n",
    "    df['distance'] = ((df['lat_h3'] - df['lat']) ** 2 + (df['lon_h3'] - df['lon']) ** 2) ** 0.5\n",
    "    x = df.sort_values('distance', ascending=True).head(1)\n",
    "    coast_match.append((h3_index, x['lat'].values[0], x['lon'].values[0], x['distance'].values[0]))\n",
    "coast_match = pd.DataFrame(coast_match, columns=['h3_index', 'lat', 'lon', 'distance'])\n",
    "print(coast_match.shape)\n",
    "coast_match.head()"
   ]
  },
  {
   "cell_type": "code",
   "execution_count": null,
   "id": "b6a788e1",
   "metadata": {},
   "outputs": [],
   "source": [
    "shelf_match = []\n",
    "df = shelf_angle.copy()\n",
    "for h3_index in tqdm(list(h3_data['h3_index'])):\n",
    "    lat, lon = h3.h3_to_geo(h3_index)\n",
    "    df['lat_h3'] = lat\n",
    "    df['lon_h3'] = lon if lon > 0 else lon + 360\n",
    "    df['distance'] = ((df['lat_h3'] - df['lat']) ** 2 + (df['lon_h3'] - df['lon']) ** 2) ** 0.5\n",
    "    x = df.sort_values('distance', ascending=True).head(1)\n",
    "    shelf_match.append((h3_index, x['lat'].values[0], x['lon'].values[0], x['distance'].values[0]))\n",
    "shelf_match = pd.DataFrame(shelf_match, columns=['h3_index', 'lat', 'lon', 'distance'])\n",
    "print(shelf_match.shape)\n",
    "shelf_match.head()"
   ]
  },
  {
   "cell_type": "code",
   "execution_count": null,
   "id": "12625d9e",
   "metadata": {},
   "outputs": [],
   "source": [
    "df = shelf_match.copy()\n",
    "df['lat_h3'] = df.apply(lambda x: h3.h3_to_geo(x['h3_index'])[0], axis=1)\n",
    "df['lon_h3'] = df.apply(lambda x: h3.h3_to_geo(x['h3_index'])[1], axis=1)\n",
    "px.scatter_geo(\n",
    "    df.sample(10000), lat='lat_h3', lon='lon_h3',\n",
    "    color='distance', range_color=[0, 2.0],\n",
    ")"
   ]
  },
  {
   "cell_type": "code",
   "execution_count": null,
   "id": "73204806",
   "metadata": {},
   "outputs": [],
   "source": [
    "shelf_match.merge(shelf_angle, on=['lat', 'lon'], how='inner')"
   ]
  },
  {
   "cell_type": "code",
   "execution_count": null,
   "id": "14595c29",
   "metadata": {},
   "outputs": [],
   "source": [
    "cdf = coast_match.rename(columns={'distance': 'coast_distance', 'lat': 'coast_lat', 'lon': 'coast_lon'})\n",
    "sdf = (\n",
    "    shelf_match\n",
    "    .merge(shelf_angle, on=['lat', 'lon'], how='inner')\n",
    "    .rename(columns={'distance': 'shelf_distance', 'lat': 'shelf_lat', 'lon': 'shelf_lon'})\n",
    ")\n",
    "merged = pd.merge(cdf, sdf, on='h3_index')\n",
    "merged['lat'] = merged.apply(lambda x: h3.h3_to_geo(x['h3_index'])[0], axis=1)\n",
    "merged['lon'] = merged.apply(lambda x: h3.h3_to_geo(x['h3_index'])[1], axis=1)\n",
    "merged.loc[merged['lon'] < 0, 'lon'] += 360\n",
    "merged.rename(columns={'angle': 'shelf_angle'}, inplace=True)\n",
    "\n",
    "\n",
    "merged['to_coast_angle'] = np.arctan2(\n",
    "    merged['coast_lat'] - merged['lat'],\n",
    "    merged['coast_lon'] - merged['lon'],\n",
    ")\n",
    "merged['to_shelf_angle'] = np.arctan2(\n",
    "    merged['shelf_lat'] - merged['lat'],\n",
    "    merged['shelf_lon'] - merged['lon'],\n",
    ")\n",
    "\n",
    "merged['coast_distance'] = merged.apply(\n",
    "    lambda r: geopy.distance.geodesic((r['lat'], r['lon']), (r['coast_lat'], r['coast_lon'])).km, axis=1\n",
    ")\n",
    "merged['shelf_distance'] = merged.apply(\n",
    "    lambda r: geopy.distance.geodesic((r['lat'], r['lon']), (r['shelf_lat'], r['shelf_lon'])).km, axis=1\n",
    ")\n",
    "\n",
    "print(merged.shape)\n",
    "merged.head()"
   ]
  },
  {
   "cell_type": "code",
   "execution_count": null,
   "id": "db25e246",
   "metadata": {},
   "outputs": [],
   "source": [
    "doubles['angle'] = np.arctan2(\n",
    "    doubles['neighbor'].apply(lambda x: h3.h3_to_geo(x)[0]) - doubles['h3_index'].apply(lambda x: h3.h3_to_geo(x)[0]),\n",
    "    doubles['neighbor'].apply(lambda x: h3.h3_to_geo(x)[1]) - doubles['h3_index'].apply(lambda x: h3.h3_to_geo(x)[1])\n",
    ")\n",
    "doubles['distance'] = doubles.apply(\n",
    "    lambda r: geopy.distance.geodesic(\n",
    "        h3.h3_to_geo(r['h3_index']),\n",
    "        h3.h3_to_geo(r['neighbor'])\n",
    "    ).km, axis=1\n",
    ")\n",
    "doubles"
   ]
  },
  {
   "cell_type": "code",
   "execution_count": null,
   "id": "e228ee6f",
   "metadata": {},
   "outputs": [],
   "source": [
    "df = doubles.merge(merged[['h3_index', 'to_coast_angle', 'to_shelf_angle', 'shelf_angle']], on='h3_index', how='inner')\n",
    "df['parallel_to_shelf'] = df.apply(\n",
    "    lambda r: np.abs(\n",
    "        np.cos(r['shelf_angle']) * np.cos(r['angle']) + np.sin(r['shelf_angle']) * np.sin(r['angle'])\n",
    "    ),\n",
    "    axis=1\n",
    ")\n",
    "df['toward_coast'] = df.apply(\n",
    "    lambda r: (\n",
    "        np.cos(r['to_coast_angle']) * np.cos(r['angle']) + np.sin(r['to_coast_angle']) * np.sin(r['angle'])\n",
    "    ),\n",
    "    axis=1\n",
    ")\n",
    "df['toward_shelf'] = df.apply(\n",
    "    lambda r: (\n",
    "        np.cos(r['to_shelf_angle']) * np.cos(r['angle']) + np.sin(r['to_shelf_angle']) * np.sin(r['angle'])\n",
    "    ),\n",
    "    axis=1\n",
    ")\n",
    "df"
   ]
  },
  {
   "cell_type": "code",
   "execution_count": null,
   "id": "8aee36f2",
   "metadata": {},
   "outputs": [],
   "source": [
    "h3_index = df['h3_index'].sample(1).values[0]\n",
    "\n",
    "#h3_index = '841391bffffffff'\n",
    "print(h3_index)\n",
    "\n",
    "sdf = df[df['h3_index'] == h3_index]\n",
    "sdf['lat'] = sdf.apply(lambda x: h3.h3_to_geo(x['neighbor'])[0], axis=1)\n",
    "sdf['lon'] = sdf.apply(lambda x: h3.h3_to_geo(x['neighbor'])[1], axis=1)\n",
    "px.scatter_geo(\n",
    "    sdf, lat='lat', lon='lon',\n",
    "    color='toward_shelf'\n",
    ")"
   ]
  },
  {
   "cell_type": "code",
   "execution_count": null,
   "id": "b737b7a5",
   "metadata": {},
   "outputs": [],
   "source": [
    "shelf_match[shelf_match['h3_index'] == h3_index]"
   ]
  },
  {
   "cell_type": "code",
   "execution_count": null,
   "id": "e9b0bc0c",
   "metadata": {},
   "outputs": [],
   "source": [
    "df['resolution'] = 4\n",
    "\n",
    "write_data(\n",
    "    df, 'options_w_angles', ['resolution']\n",
    ")"
   ]
  },
  {
   "cell_type": "code",
   "execution_count": null,
   "id": "d16d7292",
   "metadata": {},
   "outputs": [],
   "source": [
    "merged['resolution'] = 4\n",
    "\n",
    "write_data(\n",
    "    merged, 'coastal_info', ['resolution']\n",
    ")"
   ]
  },
  {
   "cell_type": "code",
   "execution_count": null,
   "id": "d92f8638",
   "metadata": {},
   "outputs": [],
   "source": []
  }
 ],
 "metadata": {
  "kernelspec": {
   "display_name": "base",
   "language": "python",
   "name": "python3"
  },
  "language_info": {
   "codemirror_mode": {
    "name": "ipython",
    "version": 3
   },
   "file_extension": ".py",
   "mimetype": "text/x-python",
   "name": "python",
   "nbconvert_exporter": "python",
   "pygments_lexer": "ipython3",
   "version": "3.12.4"
  }
 },
 "nbformat": 4,
 "nbformat_minor": 5
}
