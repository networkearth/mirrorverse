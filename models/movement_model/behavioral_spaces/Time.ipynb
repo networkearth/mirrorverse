{
 "cells": [
  {
   "cell_type": "code",
   "execution_count": null,
   "id": "78be42ac",
   "metadata": {},
   "outputs": [],
   "source": [
    "import os\n",
    "\n",
    "os.environ['AWS_PROFILE'] = 'admin'\n",
    "os.environ['HAVEN_DATABASE'] = 'haven'\n",
    "\n",
    "from mirrorverse.utils import read_data_w_cache\n",
    "\n",
    "from haven.db import write_data\n",
    "\n",
    "import pandas as pd\n",
    "import numpy as np\n",
    "from datetime import datetime\n",
    "import plotly.express as px"
   ]
  },
  {
   "cell_type": "code",
   "execution_count": null,
   "id": "38d7047e",
   "metadata": {},
   "outputs": [],
   "source": [
    "sql = '''\n",
    "select\n",
    "    *\n",
    "from \n",
    "    mgietzmann_tag_tracks_test\n",
    "'''\n",
    "\n",
    "data = read_data_w_cache(sql)\n",
    "data['date'] = pd.to_datetime(data['epoch'], unit='s')\n",
    "data.head()"
   ]
  },
  {
   "cell_type": "code",
   "execution_count": null,
   "id": "1a9189f4",
   "metadata": {},
   "outputs": [],
   "source": [
    "epochs = np.arange(0, (2027 - 1970) * 365 * 24 * 3600, 24 * 3600)\n",
    "df = pd.DataFrame({'epoch': epochs})\n",
    "df['date'] = pd.to_datetime(df['epoch'], unit='s')\n",
    "df['year'] = df['date'].apply(lambda x: datetime(x.year, 1, 1).timestamp())\n",
    "df['next_year'] = df['date'].apply(lambda x: datetime(x.year + 1, 1, 1).timestamp())\n",
    "df['season_radians'] = (df['epoch'] - df['year']) / (df['next_year'] - df['year']) * 2 * np.pi\n",
    "df = df[['epoch', 'date', 'season_radians']]\n",
    "print(df.shape)\n",
    "df.head()"
   ]
  },
  {
   "cell_type": "code",
   "execution_count": null,
   "id": "3e69a034",
   "metadata": {},
   "outputs": [],
   "source": [
    "df['version'] = 1\n",
    "\n",
    "write_data(\n",
    "    df, 'season_radians', ['version']\n",
    ")"
   ]
  },
  {
   "cell_type": "code",
   "execution_count": null,
   "id": "cb31d4ce",
   "metadata": {},
   "outputs": [],
   "source": []
  }
 ],
 "metadata": {
  "kernelspec": {
   "display_name": "base",
   "language": "python",
   "name": "python3"
  },
  "language_info": {
   "codemirror_mode": {
    "name": "ipython",
    "version": 3
   },
   "file_extension": ".py",
   "mimetype": "text/x-python",
   "name": "python",
   "nbconvert_exporter": "python",
   "pygments_lexer": "ipython3",
   "version": "3.12.4"
  }
 },
 "nbformat": 4,
 "nbformat_minor": 5
}
