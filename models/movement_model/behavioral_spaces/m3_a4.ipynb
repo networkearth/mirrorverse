{
 "cells": [
  {
   "cell_type": "code",
   "execution_count": 35,
   "metadata": {},
   "outputs": [],
   "source": [
    "import os\n",
    "\n",
    "import numpy as np\n",
    "import pandas as pd\n",
    "import plotly.express as px\n",
    "import haven.db as db\n",
    "\n",
    "from mirrorverse.utils import read_data_w_cache\n",
    "\n",
    "os.environ['HAVEN_DATABASE'] = 'haven'\n",
    "os.environ['AWS_PROFILE'] = 'admin'"
   ]
  },
  {
   "cell_type": "code",
   "execution_count": null,
   "metadata": {},
   "outputs": [],
   "source": [
    "train = read_data_w_cache(\n",
    "    'select * from movement_model_features_m3_a2'\n",
    ")\n",
    "train.head()"
   ]
  },
  {
   "cell_type": "code",
   "execution_count": null,
   "metadata": {},
   "outputs": [],
   "source": [
    "test = read_data_w_cache(\n",
    "    'select * from movement_model_features_m3_a2_test'\n",
    ")\n",
    "test.head()"
   ]
  },
  {
   "cell_type": "code",
   "execution_count": null,
   "metadata": {},
   "outputs": [],
   "source": [
    "train['_individual'].max()"
   ]
  },
  {
   "cell_type": "code",
   "execution_count": null,
   "metadata": {},
   "outputs": [],
   "source": [
    "test['_individual'].min()"
   ]
  },
  {
   "cell_type": "code",
   "execution_count": 12,
   "metadata": {},
   "outputs": [],
   "source": [
    "test['_individual'] = test['_individual'] + 91"
   ]
  },
  {
   "cell_type": "code",
   "execution_count": 13,
   "metadata": {},
   "outputs": [],
   "source": [
    "data = pd.concat([train, test])"
   ]
  },
  {
   "cell_type": "code",
   "execution_count": null,
   "metadata": {},
   "outputs": [],
   "source": [
    "data['binned_normed_distance'] = round(data['normed_distance'] * 10)/10\n",
    "print(sorted(data['binned_normed_distance'].unique()))"
   ]
  },
  {
   "cell_type": "code",
   "execution_count": null,
   "metadata": {},
   "outputs": [],
   "source": [
    "data['binned_movement_heading'] = round(data['movement_heading'] / (np.pi/8)) * (np.pi/8)\n",
    "print(sorted(data['binned_movement_heading'].unique()))"
   ]
  },
  {
   "cell_type": "code",
   "execution_count": null,
   "metadata": {},
   "outputs": [],
   "source": [
    "df = data.groupby(['binned_normed_distance', 'binned_movement_heading']).size().reset_index()\n",
    "df['size'] = np.log(df[0])\n",
    "px.scatter(df, x='binned_normed_distance', y='binned_movement_heading', size='size')"
   ]
  },
  {
   "cell_type": "code",
   "execution_count": null,
   "metadata": {},
   "outputs": [],
   "source": [
    "data[['_train', '_individual']].drop_duplicates().groupby('_train').size()"
   ]
  },
  {
   "cell_type": "code",
   "execution_count": 37,
   "metadata": {},
   "outputs": [],
   "source": [
    "db.write_data(\n",
    "    data, 'movement_model_features_m3_a4', ['tag_key']\n",
    ")"
   ]
  },
  {
   "cell_type": "code",
   "execution_count": null,
   "metadata": {},
   "outputs": [],
   "source": []
  }
 ],
 "metadata": {
  "kernelspec": {
   "display_name": "base",
   "language": "python",
   "name": "python3"
  },
  "language_info": {
   "codemirror_mode": {
    "name": "ipython",
    "version": 3
   },
   "file_extension": ".py",
   "mimetype": "text/x-python",
   "name": "python",
   "nbconvert_exporter": "python",
   "pygments_lexer": "ipython3",
   "version": "3.12.4"
  }
 },
 "nbformat": 4,
 "nbformat_minor": 2
}
