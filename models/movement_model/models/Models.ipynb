{
 "cells": [
  {
   "cell_type": "code",
   "execution_count": null,
   "metadata": {},
   "outputs": [],
   "source": [
    "import os\n",
    "import plotly.express as px\n",
    "import numpy as np\n",
    "import boto3\n",
    "import json\n",
    "import pandas as pd\n",
    "\n",
    "os.environ['HAVEN_DATABASE'] = 'haven'\n",
    "os.environ['AWS_PROFILE'] = 'admin'\n",
    "\n",
    "from mirrorverse.utils import read_data_w_cache"
   ]
  },
  {
   "cell_type": "code",
   "execution_count": null,
   "metadata": {},
   "outputs": [],
   "source": [
    "data = read_data_w_cache(\n",
    "    'select * from movement_model_experiment_10_1_10'\n",
    ")\n",
    "print(data.shape)\n",
    "data.head()"
   ]
  },
  {
   "cell_type": "code",
   "execution_count": null,
   "metadata": {},
   "outputs": [],
   "source": [
    "bri, loss, epoch = data.sort_values('val_loss', ascending=True)[['run_id', 'val_loss', 'epoch']].values[0]\n",
    "bri, loss, epoch"
   ]
  },
  {
   "cell_type": "code",
   "execution_count": null,
   "metadata": {},
   "outputs": [],
   "source": [
    "px.line(data.sort_values(['run_id', 'epoch']), x='epoch', y='train_loss', color='run_id')"
   ]
  },
  {
   "cell_type": "code",
   "execution_count": null,
   "metadata": {},
   "outputs": [],
   "source": [
    "px.line(data.sort_values(['run_id', 'epoch']), x='epoch', y='val_loss', color='run_id')"
   ]
  },
  {
   "cell_type": "code",
   "execution_count": null,
   "metadata": {},
   "outputs": [],
   "source": [
    "s3_client = boto3.client('s3')\n",
    "bucket = 'mimic-log-odds-models'\n",
    "prefix = 'movement-model-10-1-2'\n",
    "\n",
    "response = s3_client.list_objects_v2(Bucket=bucket, Prefix=prefix)\n",
    "\n",
    "configs = {}\n",
    "if 'Contents' in response:\n",
    "    for obj in response['Contents']:\n",
    "        if obj['Key'].endswith('config.json'):\n",
    "            config = json.loads(s3_client.get_object(Bucket=bucket, Key=obj['Key'])['Body'].read().decode('utf-8'))\n",
    "            if 'model' in config:\n",
    "                configs[config['run_id']] = config['model']\n",
    "else:\n",
    "    print(\"No objects found.\")"
   ]
  },
  {
   "cell_type": "code",
   "execution_count": null,
   "metadata": {},
   "outputs": [],
   "source": [
    "configs[bri]"
   ]
  },
  {
   "cell_type": "code",
   "execution_count": null,
   "metadata": {},
   "outputs": [],
   "source": [
    "cid = data[data['run_id'].str.startswith('c6a')]['run_id'].unique()[0]\n",
    "print(cid)"
   ]
  },
  {
   "cell_type": "code",
   "execution_count": null,
   "metadata": {},
   "outputs": [],
   "source": [
    "configs[cid]"
   ]
  },
  {
   "cell_type": "code",
   "execution_count": null,
   "metadata": {},
   "outputs": [],
   "source": [
    "nris = []\n",
    "for run_id, config in configs.items():\n",
    "    if config['dropout'] > 0:\n",
    "        nris.append(run_id)"
   ]
  },
  {
   "cell_type": "code",
   "execution_count": null,
   "metadata": {},
   "outputs": [],
   "source": [
    "rows = []\n",
    "for run_id, config in configs.items():\n",
    "    row = {\n",
    "        key: value\n",
    "        for key, value in config.items()\n",
    "        if key not in ['optimizer_kwargs', 'layers']\n",
    "    }\n",
    "    row['run_id'] = run_id\n",
    "    rows.append(row)\n",
    "cdf = pd.DataFrame(rows).merge(\n",
    "    data[data['epoch'] == 250], on='run_id', how='inner'\n",
    ")\n",
    "cdf"
   ]
  },
  {
   "cell_type": "code",
   "execution_count": null,
   "metadata": {},
   "outputs": [],
   "source": [
    "cdf[cdf['batch_size'] == 7500].sort_values('val_loss', ascending=True)['run_id'].values[0]"
   ]
  },
  {
   "cell_type": "code",
   "execution_count": null,
   "metadata": {},
   "outputs": [],
   "source": [
    "cdf.groupby(['learning_rate'])['val_loss'].median()"
   ]
  },
  {
   "cell_type": "code",
   "execution_count": null,
   "metadata": {},
   "outputs": [],
   "source": [
    "cdf[(cdf['layer_size'] == 16) & (cdf['num_layers'] == 3) & (cdf['dropout'] == 1)]['val_loss'].describe()"
   ]
  },
  {
   "cell_type": "code",
   "execution_count": null,
   "metadata": {},
   "outputs": [],
   "source": [
    "px.scatter(\n",
    "    cdf[cdf['dropout'] == 1], x='layer_size', y='num_layers', color='val_loss'\n",
    ")"
   ]
  },
  {
   "cell_type": "code",
   "execution_count": null,
   "metadata": {},
   "outputs": [],
   "source": [
    "px.scatter(\n",
    "    cdf[cdf['dropout'] == 1], x='layer_size', y='num_layers', color='val_loss'\n",
    ")"
   ]
  },
  {
   "cell_type": "code",
   "execution_count": null,
   "metadata": {},
   "outputs": [],
   "source": [
    "cdf['diff'] = cdf['val_loss'] - cdf['train_loss']"
   ]
  },
  {
   "cell_type": "code",
   "execution_count": null,
   "metadata": {},
   "outputs": [],
   "source": [
    "px.scatter(\n",
    "    cdf[cdf['layer_size'] == 32], x='dropout', y='num_layers', color='diff'\n",
    ")"
   ]
  },
  {
   "cell_type": "code",
   "execution_count": null,
   "metadata": {},
   "outputs": [],
   "source": [
    "px.scatter(\n",
    "    cdf[cdf['layer_size'] == 32], x='num_layers', y='diff'\n",
    ")"
   ]
  },
  {
   "cell_type": "code",
   "execution_count": null,
   "metadata": {},
   "outputs": [],
   "source": [
    "px.scatter(\n",
    "    cdf[cdf['layer_size'] == 16], x='batch_size', y='val_loss'\n",
    ")"
   ]
  },
  {
   "cell_type": "code",
   "execution_count": null,
   "metadata": {},
   "outputs": [],
   "source": [
    "df  =(\n",
    "    cdf[(cdf['num_layers'] == 4) & (cdf['layer_size'] == 24)]\n",
    "    .groupby(['dropout', 'learning_rate', 'batch_size'])\n",
    "    [['val_loss', 'train_loss']].mean().reset_index()\n",
    ")\n",
    "df = df[df['learning_rate'] == 0.001]\n",
    "tdf = df.copy().rename({'train_loss': 'loss'}, axis=1)\n",
    "vdf = df.copy().rename({'val_loss': 'loss'}, axis=1)\n",
    "tdf['case'] = 'train'\n",
    "vdf['case'] = 'val'\n",
    "\n",
    "df = pd.concat([\n",
    "    tdf[['case', 'loss', 'dropout']],\n",
    "    vdf[['case', 'loss', 'dropout']],\n",
    "])\n",
    "px.scatter(\n",
    "    df, x='dropout', y='loss', color='case'\n",
    ")"
   ]
  },
  {
   "cell_type": "code",
   "execution_count": null,
   "metadata": {},
   "outputs": [],
   "source": []
  },
  {
   "cell_type": "code",
   "execution_count": null,
   "metadata": {},
   "outputs": [],
   "source": [
    "data = read_data_w_cache(\n",
    "    \"select * from movement_model_inference_m9_a2_v9 where run_id = '985acb97fdf84aaef5f7076a7c63bf93a7c6ee6703e71e7ffbf4b24743a0a773'\"\n",
    ")\n",
    "data['ll'] = np.log(data['probability'])\n",
    "print(data.shape)\n",
    "data.head()"
   ]
  },
  {
   "cell_type": "code",
   "execution_count": null,
   "metadata": {},
   "outputs": [],
   "source": [
    "data[~data['_train'] & data['_selected']].groupby(['_individual'])[['ll']].mean().reset_index()[['ll']].mean()"
   ]
  },
  {
   "cell_type": "code",
   "execution_count": null,
   "metadata": {},
   "outputs": [],
   "source": [
    "move = data[data['stay_put'] == 0]\n",
    "move['sum_odds'] = move.groupby(['_individual', '_decision'])['odds'].transform('sum')\n",
    "move['probability'] = move['odds'] / move['sum_odds']\n",
    "move['ll'] = np.log(move['probability'])"
   ]
  },
  {
   "cell_type": "code",
   "execution_count": null,
   "metadata": {},
   "outputs": [],
   "source": [
    "move[~move['_train'] & move['_selected']].groupby(['_individual'])[['ll']].mean().reset_index()[['ll']].mean()"
   ]
  },
  {
   "cell_type": "code",
   "execution_count": null,
   "metadata": {},
   "outputs": [],
   "source": [
    "np.exp(-1.59+1.74)"
   ]
  },
  {
   "cell_type": "code",
   "execution_count": null,
   "metadata": {},
   "outputs": [],
   "source": [
    "np.log(1/7)"
   ]
  },
  {
   "cell_type": "code",
   "execution_count": null,
   "metadata": {},
   "outputs": [],
   "source": [
    "np.exp(1.95 - 1.12)"
   ]
  },
  {
   "cell_type": "code",
   "execution_count": null,
   "metadata": {},
   "outputs": [],
   "source": []
  }
 ],
 "metadata": {
  "kernelspec": {
   "display_name": "base",
   "language": "python",
   "name": "python3"
  },
  "language_info": {
   "codemirror_mode": {
    "name": "ipython",
    "version": 3
   },
   "file_extension": ".py",
   "mimetype": "text/x-python",
   "name": "python",
   "nbconvert_exporter": "python",
   "pygments_lexer": "ipython3",
   "version": "3.12.4"
  }
 },
 "nbformat": 4,
 "nbformat_minor": 2
}
