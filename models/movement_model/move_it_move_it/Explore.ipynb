{
 "cells": [
  {
   "cell_type": "code",
   "execution_count": 1,
   "metadata": {},
   "outputs": [],
   "source": [
    "import os\n",
    "import random\n",
    "\n",
    "import h3\n",
    "import numpy as np\n",
    "import pandas as pd\n",
    "import geopy.distance\n",
    "import plotly.express as px\n",
    "from mirrorverse.plotting import plot_h3_slider, plot_h3_animation\n",
    "from mirrorverse.utils import read_data_w_cache\n",
    "\n",
    "os.environ['HAVEN_DATABASE'] = 'haven'\n",
    "os.environ['AWS_PROFILE'] = 'admin'"
   ]
  },
  {
   "cell_type": "code",
   "execution_count": 17,
   "metadata": {},
   "outputs": [
    {
     "name": "stdout",
     "output_type": "stream",
     "text": [
      "(107979, 16)\n"
     ]
    },
    {
     "data": {
      "text/html": [
       "<div>\n",
       "<style scoped>\n",
       "    .dataframe tbody tr th:only-of-type {\n",
       "        vertical-align: middle;\n",
       "    }\n",
       "\n",
       "    .dataframe tbody tr th {\n",
       "        vertical-align: top;\n",
       "    }\n",
       "\n",
       "    .dataframe thead th {\n",
       "        text-align: right;\n",
       "    }\n",
       "</style>\n",
       "<table border=\"1\" class=\"dataframe\">\n",
       "  <thead>\n",
       "    <tr style=\"text-align: right;\">\n",
       "      <th></th>\n",
       "      <th>_individual</th>\n",
       "      <th>_decision</th>\n",
       "      <th>_choice</th>\n",
       "      <th>_selected</th>\n",
       "      <th>_train</th>\n",
       "      <th>log_odds</th>\n",
       "      <th>odds</th>\n",
       "      <th>probability</th>\n",
       "      <th>h3_index</th>\n",
       "      <th>time</th>\n",
       "      <th>net_primary_production</th>\n",
       "      <th>mixed_layer_thickness</th>\n",
       "      <th>distance</th>\n",
       "      <th>water_heading</th>\n",
       "      <th>movement_heading</th>\n",
       "      <th>date</th>\n",
       "    </tr>\n",
       "  </thead>\n",
       "  <tbody>\n",
       "    <tr>\n",
       "      <th>0</th>\n",
       "      <td>9</td>\n",
       "      <td>3</td>\n",
       "      <td>17</td>\n",
       "      <td>False</td>\n",
       "      <td>True</td>\n",
       "      <td>-3.547141</td>\n",
       "      <td>0.028807</td>\n",
       "      <td>0.002647</td>\n",
       "      <td>840c5e9ffffffff</td>\n",
       "      <td>2016-03-16</td>\n",
       "      <td>8.865529</td>\n",
       "      <td>61.364006</td>\n",
       "      <td>70.411743</td>\n",
       "      <td>-2.682873</td>\n",
       "      <td>-0.249076</td>\n",
       "      <td>2016-03-16</td>\n",
       "    </tr>\n",
       "    <tr>\n",
       "      <th>1</th>\n",
       "      <td>9</td>\n",
       "      <td>1</td>\n",
       "      <td>4</td>\n",
       "      <td>False</td>\n",
       "      <td>True</td>\n",
       "      <td>-5.871097</td>\n",
       "      <td>0.002820</td>\n",
       "      <td>0.000277</td>\n",
       "      <td>840c513ffffffff</td>\n",
       "      <td>2016-03-14</td>\n",
       "      <td>9.651540</td>\n",
       "      <td>92.691001</td>\n",
       "      <td>86.289017</td>\n",
       "      <td>3.062147</td>\n",
       "      <td>0.029534</td>\n",
       "      <td>2016-03-14</td>\n",
       "    </tr>\n",
       "    <tr>\n",
       "      <th>2</th>\n",
       "      <td>9</td>\n",
       "      <td>18</td>\n",
       "      <td>15</td>\n",
       "      <td>False</td>\n",
       "      <td>True</td>\n",
       "      <td>-4.253474</td>\n",
       "      <td>0.014215</td>\n",
       "      <td>0.000995</td>\n",
       "      <td>840c5e1ffffffff</td>\n",
       "      <td>2016-03-31</td>\n",
       "      <td>12.275617</td>\n",
       "      <td>59.560320</td>\n",
       "      <td>76.360962</td>\n",
       "      <td>-3.137232</td>\n",
       "      <td>-2.849830</td>\n",
       "      <td>2016-03-31</td>\n",
       "    </tr>\n",
       "    <tr>\n",
       "      <th>3</th>\n",
       "      <td>9</td>\n",
       "      <td>8</td>\n",
       "      <td>14</td>\n",
       "      <td>False</td>\n",
       "      <td>True</td>\n",
       "      <td>0.049067</td>\n",
       "      <td>1.050291</td>\n",
       "      <td>0.081337</td>\n",
       "      <td>840c5edffffffff</td>\n",
       "      <td>2016-03-21</td>\n",
       "      <td>3.670062</td>\n",
       "      <td>110.400713</td>\n",
       "      <td>43.181267</td>\n",
       "      <td>2.842356</td>\n",
       "      <td>0.036477</td>\n",
       "      <td>2016-03-21</td>\n",
       "    </tr>\n",
       "    <tr>\n",
       "      <th>4</th>\n",
       "      <td>9</td>\n",
       "      <td>25</td>\n",
       "      <td>1</td>\n",
       "      <td>False</td>\n",
       "      <td>True</td>\n",
       "      <td>-6.649404</td>\n",
       "      <td>0.001295</td>\n",
       "      <td>0.000070</td>\n",
       "      <td>840c421ffffffff</td>\n",
       "      <td>2016-04-07</td>\n",
       "      <td>22.758621</td>\n",
       "      <td>35.179520</td>\n",
       "      <td>86.323982</td>\n",
       "      <td>-2.950686</td>\n",
       "      <td>0.642132</td>\n",
       "      <td>2016-04-07</td>\n",
       "    </tr>\n",
       "  </tbody>\n",
       "</table>\n",
       "</div>"
      ],
      "text/plain": [
       "   _individual  _decision  _choice  _selected  _train  log_odds      odds  \\\n",
       "0            9          3       17      False    True -3.547141  0.028807   \n",
       "1            9          1        4      False    True -5.871097  0.002820   \n",
       "2            9         18       15      False    True -4.253474  0.014215   \n",
       "3            9          8       14      False    True  0.049067  1.050291   \n",
       "4            9         25        1      False    True -6.649404  0.001295   \n",
       "\n",
       "   probability         h3_index       time  net_primary_production  \\\n",
       "0     0.002647  840c5e9ffffffff 2016-03-16                8.865529   \n",
       "1     0.000277  840c513ffffffff 2016-03-14                9.651540   \n",
       "2     0.000995  840c5e1ffffffff 2016-03-31               12.275617   \n",
       "3     0.081337  840c5edffffffff 2016-03-21                3.670062   \n",
       "4     0.000070  840c421ffffffff 2016-04-07               22.758621   \n",
       "\n",
       "   mixed_layer_thickness   distance  water_heading  movement_heading  \\\n",
       "0              61.364006  70.411743      -2.682873         -0.249076   \n",
       "1              92.691001  86.289017       3.062147          0.029534   \n",
       "2              59.560320  76.360962      -3.137232         -2.849830   \n",
       "3             110.400713  43.181267       2.842356          0.036477   \n",
       "4              35.179520  86.323982      -2.950686          0.642132   \n",
       "\n",
       "         date  \n",
       "0  2016-03-16  \n",
       "1  2016-03-14  \n",
       "2  2016-03-31  \n",
       "3  2016-03-21  \n",
       "4  2016-04-07  "
      ]
     },
     "execution_count": 17,
     "metadata": {},
     "output_type": "execute_result"
    }
   ],
   "source": [
    "sql = '''\n",
    "select  \n",
    "    i._individual,\n",
    "    i._decision,\n",
    "    i._choice,\n",
    "    f._selected,\n",
    "    i._train,\n",
    "    i.log_odds,\n",
    "    i.odds,\n",
    "    i.probability,\n",
    "    f.h3_index,\n",
    "    f.time,\n",
    "    f.net_primary_production,\n",
    "    f.mixed_layer_thickness,\n",
    "    f.distance,\n",
    "    f.water_heading,\n",
    "    f.movement_heading\n",
    "from \n",
    "    movement_model_inference_m3_a18 i \n",
    "    inner join movement_model_features_m3_a1 f \n",
    "        on i._individual = f._individual\n",
    "        and i._decision = f._decision\n",
    "        and i._choice = f._choice\n",
    "'''\n",
    "data = read_data_w_cache(sql)\n",
    "data['date'] = data['time'].dt.strftime(\"%Y-%m-%d\")\n",
    "print(data.shape)\n",
    "data.head()"
   ]
  },
  {
   "cell_type": "code",
   "execution_count": 18,
   "metadata": {},
   "outputs": [
    {
     "name": "stdout",
     "output_type": "stream",
     "text": [
      "(91, 2)\n"
     ]
    },
    {
     "data": {
      "text/html": [
       "<div>\n",
       "<style scoped>\n",
       "    .dataframe tbody tr th:only-of-type {\n",
       "        vertical-align: middle;\n",
       "    }\n",
       "\n",
       "    .dataframe tbody tr th {\n",
       "        vertical-align: top;\n",
       "    }\n",
       "\n",
       "    .dataframe thead th {\n",
       "        text-align: right;\n",
       "    }\n",
       "</style>\n",
       "<table border=\"1\" class=\"dataframe\">\n",
       "  <thead>\n",
       "    <tr style=\"text-align: right;\">\n",
       "      <th></th>\n",
       "      <th>_individual</th>\n",
       "      <th>score</th>\n",
       "    </tr>\n",
       "  </thead>\n",
       "  <tbody>\n",
       "    <tr>\n",
       "      <th>53</th>\n",
       "      <td>31</td>\n",
       "      <td>0.780472</td>\n",
       "    </tr>\n",
       "    <tr>\n",
       "      <th>22</th>\n",
       "      <td>26</td>\n",
       "      <td>0.767747</td>\n",
       "    </tr>\n",
       "    <tr>\n",
       "      <th>86</th>\n",
       "      <td>49</td>\n",
       "      <td>0.696936</td>\n",
       "    </tr>\n",
       "    <tr>\n",
       "      <th>13</th>\n",
       "      <td>60</td>\n",
       "      <td>0.679356</td>\n",
       "    </tr>\n",
       "    <tr>\n",
       "      <th>58</th>\n",
       "      <td>2</td>\n",
       "      <td>0.678087</td>\n",
       "    </tr>\n",
       "    <tr>\n",
       "      <th>...</th>\n",
       "      <td>...</td>\n",
       "      <td>...</td>\n",
       "    </tr>\n",
       "    <tr>\n",
       "      <th>71</th>\n",
       "      <td>1</td>\n",
       "      <td>0.273151</td>\n",
       "    </tr>\n",
       "    <tr>\n",
       "      <th>49</th>\n",
       "      <td>73</td>\n",
       "      <td>0.261222</td>\n",
       "    </tr>\n",
       "    <tr>\n",
       "      <th>68</th>\n",
       "      <td>24</td>\n",
       "      <td>0.255349</td>\n",
       "    </tr>\n",
       "    <tr>\n",
       "      <th>32</th>\n",
       "      <td>90</td>\n",
       "      <td>0.255274</td>\n",
       "    </tr>\n",
       "    <tr>\n",
       "      <th>61</th>\n",
       "      <td>22</td>\n",
       "      <td>0.148190</td>\n",
       "    </tr>\n",
       "  </tbody>\n",
       "</table>\n",
       "<p>91 rows × 2 columns</p>\n",
       "</div>"
      ],
      "text/plain": [
       "    _individual     score\n",
       "53           31  0.780472\n",
       "22           26  0.767747\n",
       "86           49  0.696936\n",
       "13           60  0.679356\n",
       "58            2  0.678087\n",
       "..          ...       ...\n",
       "71            1  0.273151\n",
       "49           73  0.261222\n",
       "68           24  0.255349\n",
       "32           90  0.255274\n",
       "61           22  0.148190\n",
       "\n",
       "[91 rows x 2 columns]"
      ]
     },
     "execution_count": 18,
     "metadata": {},
     "output_type": "execute_result"
    }
   ],
   "source": [
    "sql = '''\n",
    "select  \n",
    "    _individual,\n",
    "    avg(probability) as score\n",
    "from \n",
    "    movement_model_inference_m3_a18\n",
    "where \n",
    "    _selected\n",
    "group by \n",
    "    1\n",
    "'''\n",
    "rankings = read_data_w_cache(sql).sort_values('score', ascending=False)\n",
    "print(rankings.shape)\n",
    "rankings"
   ]
  },
  {
   "cell_type": "code",
   "execution_count": 19,
   "metadata": {},
   "outputs": [],
   "source": [
    "def set_line_color(row):\n",
    "    if row['distance'] == 0:\n",
    "        return \"orange\"\n",
    "    elif row['_selected']:\n",
    "        return \"purple\"\n",
    "    else:\n",
    "        return \"black\"\n",
    "    \n",
    "data['color'] = data.apply(set_line_color, axis=1)"
   ]
  },
  {
   "cell_type": "code",
   "execution_count": null,
   "metadata": {},
   "outputs": [],
   "source": [
    "def add_common_time(data):\n",
    "    data['mod_date'] = data['date'].apply(lambda d: '-'.join(['2020'] + list(d.split('-')[1:])))\n",
    "    data['_time'] = pd.to_datetime(data['mod_date'])\n",
    "    return data\n",
    "\n",
    "poor_fits = add_common_time(\n",
    "    data[data['color'] == 'orange'].merge(\n",
    "        rankings[rankings['score'] >= rankings['score'].quantile(0.75)]\n",
    "    )\n",
    ").groupby(['h3_index', '_time'])[['_individual']].mean().reset_index()\n",
    "poor_fits['color'] = 'orange'\n",
    "good_fits = add_common_time(\n",
    "    data[data['color'] == 'orange'].merge(\n",
    "        rankings[rankings['score'] <= rankings['score'].quantile(0.25)]\n",
    "    )\n",
    ").groupby(['h3_index', '_time'])[['_individual']].mean().reset_index()\n",
    "good_fits['color'] = 'purple'\n",
    "overall = pd.concat([poor_fits, good_fits])\n",
    "plot_h3_animation(\n",
    "    overall, \n",
    "    value_col='_individual',\n",
    "    h3_col='h3_index',\n",
    "    slider_col='_time',\n",
    "    line_color_col='color',\n",
    "    bold_colors=['orange', 'purple'],\n",
    "    zoom=3, \n",
    "    center={\"lat\": 55, \"lon\": -165},\n",
    "    duration=200\n",
    ")"
   ]
  },
  {
   "cell_type": "code",
   "execution_count": 6,
   "metadata": {},
   "outputs": [
    {
     "data": {
      "text/html": [
       "<div>\n",
       "<style scoped>\n",
       "    .dataframe tbody tr th:only-of-type {\n",
       "        vertical-align: middle;\n",
       "    }\n",
       "\n",
       "    .dataframe tbody tr th {\n",
       "        vertical-align: top;\n",
       "    }\n",
       "\n",
       "    .dataframe thead th {\n",
       "        text-align: right;\n",
       "    }\n",
       "</style>\n",
       "<table border=\"1\" class=\"dataframe\">\n",
       "  <thead>\n",
       "    <tr style=\"text-align: right;\">\n",
       "      <th></th>\n",
       "      <th>_individual</th>\n",
       "      <th>_decision</th>\n",
       "      <th>_choice</th>\n",
       "      <th>_selected</th>\n",
       "      <th>_train</th>\n",
       "      <th>log_odds</th>\n",
       "      <th>odds</th>\n",
       "      <th>probability</th>\n",
       "      <th>h3_index</th>\n",
       "      <th>time</th>\n",
       "      <th>net_primary_production</th>\n",
       "      <th>mixed_layer_thickness</th>\n",
       "      <th>distance</th>\n",
       "      <th>water_heading</th>\n",
       "      <th>movement_heading</th>\n",
       "      <th>date</th>\n",
       "      <th>color</th>\n",
       "      <th>moved</th>\n",
       "    </tr>\n",
       "  </thead>\n",
       "  <tbody>\n",
       "    <tr>\n",
       "      <th>95427</th>\n",
       "      <td>0</td>\n",
       "      <td>1</td>\n",
       "      <td>17</td>\n",
       "      <td>True</td>\n",
       "      <td>True</td>\n",
       "      <td>6.393696</td>\n",
       "      <td>598.063171</td>\n",
       "      <td>0.700043</td>\n",
       "      <td>840cce9ffffffff</td>\n",
       "      <td>2020-08-04</td>\n",
       "      <td>4.212408</td>\n",
       "      <td>9.668819</td>\n",
       "      <td>0.000000</td>\n",
       "      <td>-2.467472</td>\n",
       "      <td>0.000000</td>\n",
       "      <td>2020-08-04</td>\n",
       "      <td>orange</td>\n",
       "      <td>False</td>\n",
       "    </tr>\n",
       "    <tr>\n",
       "      <th>82248</th>\n",
       "      <td>0</td>\n",
       "      <td>2</td>\n",
       "      <td>17</td>\n",
       "      <td>True</td>\n",
       "      <td>True</td>\n",
       "      <td>6.393696</td>\n",
       "      <td>598.063171</td>\n",
       "      <td>0.700043</td>\n",
       "      <td>840cce9ffffffff</td>\n",
       "      <td>2020-08-05</td>\n",
       "      <td>3.944570</td>\n",
       "      <td>9.668819</td>\n",
       "      <td>0.000000</td>\n",
       "      <td>-2.817833</td>\n",
       "      <td>0.000000</td>\n",
       "      <td>2020-08-05</td>\n",
       "      <td>orange</td>\n",
       "      <td>False</td>\n",
       "    </tr>\n",
       "    <tr>\n",
       "      <th>82048</th>\n",
       "      <td>0</td>\n",
       "      <td>3</td>\n",
       "      <td>18</td>\n",
       "      <td>True</td>\n",
       "      <td>True</td>\n",
       "      <td>4.394710</td>\n",
       "      <td>81.021103</td>\n",
       "      <td>0.094837</td>\n",
       "      <td>840ccebffffffff</td>\n",
       "      <td>2020-08-06</td>\n",
       "      <td>5.164183</td>\n",
       "      <td>10.518363</td>\n",
       "      <td>38.880829</td>\n",
       "      <td>-1.138572</td>\n",
       "      <td>-0.606672</td>\n",
       "      <td>2020-08-06</td>\n",
       "      <td>purple</td>\n",
       "      <td>True</td>\n",
       "    </tr>\n",
       "    <tr>\n",
       "      <th>82200</th>\n",
       "      <td>0</td>\n",
       "      <td>4</td>\n",
       "      <td>18</td>\n",
       "      <td>True</td>\n",
       "      <td>True</td>\n",
       "      <td>6.393696</td>\n",
       "      <td>598.063171</td>\n",
       "      <td>0.632331</td>\n",
       "      <td>840ccebffffffff</td>\n",
       "      <td>2020-08-07</td>\n",
       "      <td>7.052177</td>\n",
       "      <td>10.518363</td>\n",
       "      <td>0.000000</td>\n",
       "      <td>-2.099981</td>\n",
       "      <td>0.000000</td>\n",
       "      <td>2020-08-07</td>\n",
       "      <td>orange</td>\n",
       "      <td>False</td>\n",
       "    </tr>\n",
       "    <tr>\n",
       "      <th>95739</th>\n",
       "      <td>0</td>\n",
       "      <td>5</td>\n",
       "      <td>18</td>\n",
       "      <td>True</td>\n",
       "      <td>True</td>\n",
       "      <td>6.393696</td>\n",
       "      <td>598.063171</td>\n",
       "      <td>0.632331</td>\n",
       "      <td>840ccebffffffff</td>\n",
       "      <td>2020-08-08</td>\n",
       "      <td>6.843750</td>\n",
       "      <td>10.518363</td>\n",
       "      <td>0.000000</td>\n",
       "      <td>-2.678993</td>\n",
       "      <td>0.000000</td>\n",
       "      <td>2020-08-08</td>\n",
       "      <td>orange</td>\n",
       "      <td>False</td>\n",
       "    </tr>\n",
       "  </tbody>\n",
       "</table>\n",
       "</div>"
      ],
      "text/plain": [
       "       _individual  _decision  _choice  _selected  _train  log_odds  \\\n",
       "95427            0          1       17       True    True  6.393696   \n",
       "82248            0          2       17       True    True  6.393696   \n",
       "82048            0          3       18       True    True  4.394710   \n",
       "82200            0          4       18       True    True  6.393696   \n",
       "95739            0          5       18       True    True  6.393696   \n",
       "\n",
       "             odds  probability         h3_index       time  \\\n",
       "95427  598.063171     0.700043  840cce9ffffffff 2020-08-04   \n",
       "82248  598.063171     0.700043  840cce9ffffffff 2020-08-05   \n",
       "82048   81.021103     0.094837  840ccebffffffff 2020-08-06   \n",
       "82200  598.063171     0.632331  840ccebffffffff 2020-08-07   \n",
       "95739  598.063171     0.632331  840ccebffffffff 2020-08-08   \n",
       "\n",
       "       net_primary_production  mixed_layer_thickness   distance  \\\n",
       "95427                4.212408               9.668819   0.000000   \n",
       "82248                3.944570               9.668819   0.000000   \n",
       "82048                5.164183              10.518363  38.880829   \n",
       "82200                7.052177              10.518363   0.000000   \n",
       "95739                6.843750              10.518363   0.000000   \n",
       "\n",
       "       water_heading  movement_heading        date   color  moved  \n",
       "95427      -2.467472          0.000000  2020-08-04  orange  False  \n",
       "82248      -2.817833          0.000000  2020-08-05  orange  False  \n",
       "82048      -1.138572         -0.606672  2020-08-06  purple   True  \n",
       "82200      -2.099981          0.000000  2020-08-07  orange  False  \n",
       "95739      -2.678993          0.000000  2020-08-08  orange  False  "
      ]
     },
     "execution_count": 6,
     "metadata": {},
     "output_type": "execute_result"
    }
   ],
   "source": [
    "selected = data[data['_selected']]\n",
    "selected = selected.sort_values(['_individual', 'time'])\n",
    "selected['moved'] = selected['distance'] > 0\n",
    "selected.head()"
   ]
  },
  {
   "cell_type": "code",
   "execution_count": 20,
   "metadata": {},
   "outputs": [
    {
     "data": {
      "application/vnd.plotly.v1+json": {
       "config": {
        "plotlyServerURL": "https://plot.ly"
       },
       "data": [
        {
         "hovertemplate": "score=%{x}<br>moved=%{y}<extra></extra>",
         "legendgroup": "",
         "marker": {
          "color": "#636efa",
          "symbol": "circle"
         },
         "mode": "markers",
         "name": "",
         "orientation": "v",
         "showlegend": false,
         "type": "scatter",
         "x": [
          0.5864415764808655,
          0.27315106987953186,
          0.6780871748924255,
          0.5314649343490601,
          0.5498180985450745,
          0.5694049596786499,
          0.36307787895202637,
          0.4387233555316925,
          0.5032743811607361,
          0.5656840205192566,
          0.539426863193512,
          0.6560823321342468,
          0.5396572947502136,
          0.4861409664154053,
          0.41908180713653564,
          0.5749320387840271,
          0.5295910835266113,
          0.32373368740081787,
          0.417371928691864,
          0.4946361184120178,
          0.6471340656280518,
          0.5874755382537842,
          0.1481897532939911,
          0.5866050124168396,
          0.25534871220588684,
          0.5889998078346252,
          0.7677470445632935,
          0.4442860782146454,
          0.5669187307357788,
          0.5194626450538635,
          0.4582606256008148,
          0.7804716229438782,
          0.47346192598342896,
          0.5571315884590149,
          0.5196725130081177,
          0.6465756297111511,
          0.5664047598838806,
          0.4872667193412781,
          0.394439697265625,
          0.5241082310676575,
          0.49823451042175293,
          0.5615768432617188,
          0.5658444166183472,
          0.4695681929588318,
          0.6520369052886963,
          0.580155611038208,
          0.5121369957923889,
          0.6741935014724731,
          0.5635999441146851,
          0.6969358325004578,
          0.5747448205947876,
          0.382039874792099,
          0.47615736722946167,
          0.4231473505496979,
          0.44320616126060486,
          0.623533308506012,
          0.570525586605072,
          0.5113779902458191,
          0.5527104139328003,
          0.6241612434387207,
          0.6793555021286011,
          0.5923365950584412,
          0.4552321434020996,
          0.4710089862346649,
          0.5264571309089661,
          0.3052101731300354,
          0.3997367024421692,
          0.4996390640735626,
          0.3090868592262268,
          0.3432876467704773,
          0.3257846236228943,
          0.32818639278411865,
          0.5465244054794312,
          0.2612215578556061,
          0.3650977611541748,
          0.34177520871162415,
          0.5550963282585144,
          0.33832722902297974,
          0.28199514746665955,
          0.5268092155456543,
          0.40075334906578064,
          0.46931761503219604,
          0.385846883058548,
          0.4292087256908417,
          0.5003162026405334,
          0.3679268956184387,
          0.3536703884601593,
          0.4850236177444458,
          0.3106749951839447,
          0.38403117656707764,
          0.2552744150161743
         ],
         "xaxis": "x",
         "y": [
          0.2689075630252101,
          0.6551724137931034,
          0.1875,
          0.31666666666666665,
          0.23529411764705882,
          0.25,
          0.5254237288135594,
          0.2833333333333333,
          0.2876712328767123,
          0.1891891891891892,
          0.2879581151832461,
          0.20270270270270271,
          0.22007722007722008,
          0.39285714285714285,
          0.36666666666666664,
          0.21428571428571427,
          0.2619047619047619,
          0.6071428571428571,
          0.4418604651162791,
          0.3225806451612903,
          0.16666666666666666,
          0.2,
          0.8666666666666667,
          0.2641509433962264,
          0.7419354838709677,
          0.2857142857142857,
          0.19230769230769232,
          0.46956521739130436,
          0.17582417582417584,
          0.36666666666666664,
          0.4,
          0.07692307692307693,
          0.42,
          0.3170731707317073,
          0.38461538461538464,
          0.22077922077922077,
          0.3055555555555556,
          0.3333333333333333,
          0.48,
          0.3793103448275862,
          0.3684210526315789,
          0.2653061224489796,
          0.3283582089552239,
          0.4308510638297872,
          0.17307692307692307,
          0.15384615384615385,
          0.4074074074074074,
          0.16417910447761194,
          0.2,
          0.17105263157894737,
          0.2857142857142857,
          0.5280898876404494,
          0.2755102040816326,
          0.3584905660377358,
          0.44776119402985076,
          0.2857142857142857,
          0.28,
          0.2727272727272727,
          0.27472527472527475,
          0.21818181818181817,
          0.09375,
          0.2857142857142857,
          0.3424657534246575,
          0.38461538461538464,
          0.2619047619047619,
          0.5714285714285714,
          0.34615384615384615,
          0.3409090909090909,
          0.6309523809523809,
          0.5081967213114754,
          0.6052631578947368,
          0.4888888888888889,
          0.2037037037037037,
          0.5333333333333333,
          0.5185185185185185,
          0.35714285714285715,
          0.1694915254237288,
          0.5,
          0.6338028169014085,
          0.20833333333333334,
          0.48148148148148145,
          0.3103448275862069,
          0.5,
          0.33962264150943394,
          0.20689655172413793,
          0.4,
          0.4838709677419355,
          0.2857142857142857,
          0.6,
          0.4426229508196721,
          0.6956521739130435
         ],
         "yaxis": "y"
        }
       ],
       "layout": {
        "legend": {
         "tracegroupgap": 0
        },
        "margin": {
         "t": 60
        },
        "template": {
         "data": {
          "bar": [
           {
            "error_x": {
             "color": "#2a3f5f"
            },
            "error_y": {
             "color": "#2a3f5f"
            },
            "marker": {
             "line": {
              "color": "#E5ECF6",
              "width": 0.5
             },
             "pattern": {
              "fillmode": "overlay",
              "size": 10,
              "solidity": 0.2
             }
            },
            "type": "bar"
           }
          ],
          "barpolar": [
           {
            "marker": {
             "line": {
              "color": "#E5ECF6",
              "width": 0.5
             },
             "pattern": {
              "fillmode": "overlay",
              "size": 10,
              "solidity": 0.2
             }
            },
            "type": "barpolar"
           }
          ],
          "carpet": [
           {
            "aaxis": {
             "endlinecolor": "#2a3f5f",
             "gridcolor": "white",
             "linecolor": "white",
             "minorgridcolor": "white",
             "startlinecolor": "#2a3f5f"
            },
            "baxis": {
             "endlinecolor": "#2a3f5f",
             "gridcolor": "white",
             "linecolor": "white",
             "minorgridcolor": "white",
             "startlinecolor": "#2a3f5f"
            },
            "type": "carpet"
           }
          ],
          "choropleth": [
           {
            "colorbar": {
             "outlinewidth": 0,
             "ticks": ""
            },
            "type": "choropleth"
           }
          ],
          "contour": [
           {
            "colorbar": {
             "outlinewidth": 0,
             "ticks": ""
            },
            "colorscale": [
             [
              0,
              "#0d0887"
             ],
             [
              0.1111111111111111,
              "#46039f"
             ],
             [
              0.2222222222222222,
              "#7201a8"
             ],
             [
              0.3333333333333333,
              "#9c179e"
             ],
             [
              0.4444444444444444,
              "#bd3786"
             ],
             [
              0.5555555555555556,
              "#d8576b"
             ],
             [
              0.6666666666666666,
              "#ed7953"
             ],
             [
              0.7777777777777778,
              "#fb9f3a"
             ],
             [
              0.8888888888888888,
              "#fdca26"
             ],
             [
              1,
              "#f0f921"
             ]
            ],
            "type": "contour"
           }
          ],
          "contourcarpet": [
           {
            "colorbar": {
             "outlinewidth": 0,
             "ticks": ""
            },
            "type": "contourcarpet"
           }
          ],
          "heatmap": [
           {
            "colorbar": {
             "outlinewidth": 0,
             "ticks": ""
            },
            "colorscale": [
             [
              0,
              "#0d0887"
             ],
             [
              0.1111111111111111,
              "#46039f"
             ],
             [
              0.2222222222222222,
              "#7201a8"
             ],
             [
              0.3333333333333333,
              "#9c179e"
             ],
             [
              0.4444444444444444,
              "#bd3786"
             ],
             [
              0.5555555555555556,
              "#d8576b"
             ],
             [
              0.6666666666666666,
              "#ed7953"
             ],
             [
              0.7777777777777778,
              "#fb9f3a"
             ],
             [
              0.8888888888888888,
              "#fdca26"
             ],
             [
              1,
              "#f0f921"
             ]
            ],
            "type": "heatmap"
           }
          ],
          "heatmapgl": [
           {
            "colorbar": {
             "outlinewidth": 0,
             "ticks": ""
            },
            "colorscale": [
             [
              0,
              "#0d0887"
             ],
             [
              0.1111111111111111,
              "#46039f"
             ],
             [
              0.2222222222222222,
              "#7201a8"
             ],
             [
              0.3333333333333333,
              "#9c179e"
             ],
             [
              0.4444444444444444,
              "#bd3786"
             ],
             [
              0.5555555555555556,
              "#d8576b"
             ],
             [
              0.6666666666666666,
              "#ed7953"
             ],
             [
              0.7777777777777778,
              "#fb9f3a"
             ],
             [
              0.8888888888888888,
              "#fdca26"
             ],
             [
              1,
              "#f0f921"
             ]
            ],
            "type": "heatmapgl"
           }
          ],
          "histogram": [
           {
            "marker": {
             "pattern": {
              "fillmode": "overlay",
              "size": 10,
              "solidity": 0.2
             }
            },
            "type": "histogram"
           }
          ],
          "histogram2d": [
           {
            "colorbar": {
             "outlinewidth": 0,
             "ticks": ""
            },
            "colorscale": [
             [
              0,
              "#0d0887"
             ],
             [
              0.1111111111111111,
              "#46039f"
             ],
             [
              0.2222222222222222,
              "#7201a8"
             ],
             [
              0.3333333333333333,
              "#9c179e"
             ],
             [
              0.4444444444444444,
              "#bd3786"
             ],
             [
              0.5555555555555556,
              "#d8576b"
             ],
             [
              0.6666666666666666,
              "#ed7953"
             ],
             [
              0.7777777777777778,
              "#fb9f3a"
             ],
             [
              0.8888888888888888,
              "#fdca26"
             ],
             [
              1,
              "#f0f921"
             ]
            ],
            "type": "histogram2d"
           }
          ],
          "histogram2dcontour": [
           {
            "colorbar": {
             "outlinewidth": 0,
             "ticks": ""
            },
            "colorscale": [
             [
              0,
              "#0d0887"
             ],
             [
              0.1111111111111111,
              "#46039f"
             ],
             [
              0.2222222222222222,
              "#7201a8"
             ],
             [
              0.3333333333333333,
              "#9c179e"
             ],
             [
              0.4444444444444444,
              "#bd3786"
             ],
             [
              0.5555555555555556,
              "#d8576b"
             ],
             [
              0.6666666666666666,
              "#ed7953"
             ],
             [
              0.7777777777777778,
              "#fb9f3a"
             ],
             [
              0.8888888888888888,
              "#fdca26"
             ],
             [
              1,
              "#f0f921"
             ]
            ],
            "type": "histogram2dcontour"
           }
          ],
          "mesh3d": [
           {
            "colorbar": {
             "outlinewidth": 0,
             "ticks": ""
            },
            "type": "mesh3d"
           }
          ],
          "parcoords": [
           {
            "line": {
             "colorbar": {
              "outlinewidth": 0,
              "ticks": ""
             }
            },
            "type": "parcoords"
           }
          ],
          "pie": [
           {
            "automargin": true,
            "type": "pie"
           }
          ],
          "scatter": [
           {
            "fillpattern": {
             "fillmode": "overlay",
             "size": 10,
             "solidity": 0.2
            },
            "type": "scatter"
           }
          ],
          "scatter3d": [
           {
            "line": {
             "colorbar": {
              "outlinewidth": 0,
              "ticks": ""
             }
            },
            "marker": {
             "colorbar": {
              "outlinewidth": 0,
              "ticks": ""
             }
            },
            "type": "scatter3d"
           }
          ],
          "scattercarpet": [
           {
            "marker": {
             "colorbar": {
              "outlinewidth": 0,
              "ticks": ""
             }
            },
            "type": "scattercarpet"
           }
          ],
          "scattergeo": [
           {
            "marker": {
             "colorbar": {
              "outlinewidth": 0,
              "ticks": ""
             }
            },
            "type": "scattergeo"
           }
          ],
          "scattergl": [
           {
            "marker": {
             "colorbar": {
              "outlinewidth": 0,
              "ticks": ""
             }
            },
            "type": "scattergl"
           }
          ],
          "scattermapbox": [
           {
            "marker": {
             "colorbar": {
              "outlinewidth": 0,
              "ticks": ""
             }
            },
            "type": "scattermapbox"
           }
          ],
          "scatterpolar": [
           {
            "marker": {
             "colorbar": {
              "outlinewidth": 0,
              "ticks": ""
             }
            },
            "type": "scatterpolar"
           }
          ],
          "scatterpolargl": [
           {
            "marker": {
             "colorbar": {
              "outlinewidth": 0,
              "ticks": ""
             }
            },
            "type": "scatterpolargl"
           }
          ],
          "scatterternary": [
           {
            "marker": {
             "colorbar": {
              "outlinewidth": 0,
              "ticks": ""
             }
            },
            "type": "scatterternary"
           }
          ],
          "surface": [
           {
            "colorbar": {
             "outlinewidth": 0,
             "ticks": ""
            },
            "colorscale": [
             [
              0,
              "#0d0887"
             ],
             [
              0.1111111111111111,
              "#46039f"
             ],
             [
              0.2222222222222222,
              "#7201a8"
             ],
             [
              0.3333333333333333,
              "#9c179e"
             ],
             [
              0.4444444444444444,
              "#bd3786"
             ],
             [
              0.5555555555555556,
              "#d8576b"
             ],
             [
              0.6666666666666666,
              "#ed7953"
             ],
             [
              0.7777777777777778,
              "#fb9f3a"
             ],
             [
              0.8888888888888888,
              "#fdca26"
             ],
             [
              1,
              "#f0f921"
             ]
            ],
            "type": "surface"
           }
          ],
          "table": [
           {
            "cells": {
             "fill": {
              "color": "#EBF0F8"
             },
             "line": {
              "color": "white"
             }
            },
            "header": {
             "fill": {
              "color": "#C8D4E3"
             },
             "line": {
              "color": "white"
             }
            },
            "type": "table"
           }
          ]
         },
         "layout": {
          "annotationdefaults": {
           "arrowcolor": "#2a3f5f",
           "arrowhead": 0,
           "arrowwidth": 1
          },
          "autotypenumbers": "strict",
          "coloraxis": {
           "colorbar": {
            "outlinewidth": 0,
            "ticks": ""
           }
          },
          "colorscale": {
           "diverging": [
            [
             0,
             "#8e0152"
            ],
            [
             0.1,
             "#c51b7d"
            ],
            [
             0.2,
             "#de77ae"
            ],
            [
             0.3,
             "#f1b6da"
            ],
            [
             0.4,
             "#fde0ef"
            ],
            [
             0.5,
             "#f7f7f7"
            ],
            [
             0.6,
             "#e6f5d0"
            ],
            [
             0.7,
             "#b8e186"
            ],
            [
             0.8,
             "#7fbc41"
            ],
            [
             0.9,
             "#4d9221"
            ],
            [
             1,
             "#276419"
            ]
           ],
           "sequential": [
            [
             0,
             "#0d0887"
            ],
            [
             0.1111111111111111,
             "#46039f"
            ],
            [
             0.2222222222222222,
             "#7201a8"
            ],
            [
             0.3333333333333333,
             "#9c179e"
            ],
            [
             0.4444444444444444,
             "#bd3786"
            ],
            [
             0.5555555555555556,
             "#d8576b"
            ],
            [
             0.6666666666666666,
             "#ed7953"
            ],
            [
             0.7777777777777778,
             "#fb9f3a"
            ],
            [
             0.8888888888888888,
             "#fdca26"
            ],
            [
             1,
             "#f0f921"
            ]
           ],
           "sequentialminus": [
            [
             0,
             "#0d0887"
            ],
            [
             0.1111111111111111,
             "#46039f"
            ],
            [
             0.2222222222222222,
             "#7201a8"
            ],
            [
             0.3333333333333333,
             "#9c179e"
            ],
            [
             0.4444444444444444,
             "#bd3786"
            ],
            [
             0.5555555555555556,
             "#d8576b"
            ],
            [
             0.6666666666666666,
             "#ed7953"
            ],
            [
             0.7777777777777778,
             "#fb9f3a"
            ],
            [
             0.8888888888888888,
             "#fdca26"
            ],
            [
             1,
             "#f0f921"
            ]
           ]
          },
          "colorway": [
           "#636efa",
           "#EF553B",
           "#00cc96",
           "#ab63fa",
           "#FFA15A",
           "#19d3f3",
           "#FF6692",
           "#B6E880",
           "#FF97FF",
           "#FECB52"
          ],
          "font": {
           "color": "#2a3f5f"
          },
          "geo": {
           "bgcolor": "white",
           "lakecolor": "white",
           "landcolor": "#E5ECF6",
           "showlakes": true,
           "showland": true,
           "subunitcolor": "white"
          },
          "hoverlabel": {
           "align": "left"
          },
          "hovermode": "closest",
          "mapbox": {
           "style": "light"
          },
          "paper_bgcolor": "white",
          "plot_bgcolor": "#E5ECF6",
          "polar": {
           "angularaxis": {
            "gridcolor": "white",
            "linecolor": "white",
            "ticks": ""
           },
           "bgcolor": "#E5ECF6",
           "radialaxis": {
            "gridcolor": "white",
            "linecolor": "white",
            "ticks": ""
           }
          },
          "scene": {
           "xaxis": {
            "backgroundcolor": "#E5ECF6",
            "gridcolor": "white",
            "gridwidth": 2,
            "linecolor": "white",
            "showbackground": true,
            "ticks": "",
            "zerolinecolor": "white"
           },
           "yaxis": {
            "backgroundcolor": "#E5ECF6",
            "gridcolor": "white",
            "gridwidth": 2,
            "linecolor": "white",
            "showbackground": true,
            "ticks": "",
            "zerolinecolor": "white"
           },
           "zaxis": {
            "backgroundcolor": "#E5ECF6",
            "gridcolor": "white",
            "gridwidth": 2,
            "linecolor": "white",
            "showbackground": true,
            "ticks": "",
            "zerolinecolor": "white"
           }
          },
          "shapedefaults": {
           "line": {
            "color": "#2a3f5f"
           }
          },
          "ternary": {
           "aaxis": {
            "gridcolor": "white",
            "linecolor": "white",
            "ticks": ""
           },
           "baxis": {
            "gridcolor": "white",
            "linecolor": "white",
            "ticks": ""
           },
           "bgcolor": "#E5ECF6",
           "caxis": {
            "gridcolor": "white",
            "linecolor": "white",
            "ticks": ""
           }
          },
          "title": {
           "x": 0.05
          },
          "xaxis": {
           "automargin": true,
           "gridcolor": "white",
           "linecolor": "white",
           "ticks": "",
           "title": {
            "standoff": 15
           },
           "zerolinecolor": "white",
           "zerolinewidth": 2
          },
          "yaxis": {
           "automargin": true,
           "gridcolor": "white",
           "linecolor": "white",
           "ticks": "",
           "title": {
            "standoff": 15
           },
           "zerolinecolor": "white",
           "zerolinewidth": 2
          }
         }
        },
        "xaxis": {
         "anchor": "y",
         "domain": [
          0,
          1
         ],
         "title": {
          "text": "score"
         }
        },
        "yaxis": {
         "anchor": "x",
         "domain": [
          0,
          1
         ],
         "title": {
          "text": "moved"
         }
        }
       }
      },
      "text/html": [
       "<div>                            <div id=\"5727c281-2cbe-4853-86ae-8652f7219c4b\" class=\"plotly-graph-div\" style=\"height:525px; width:100%;\"></div>            <script type=\"text/javascript\">                require([\"plotly\"], function(Plotly) {                    window.PLOTLYENV=window.PLOTLYENV || {};                                    if (document.getElementById(\"5727c281-2cbe-4853-86ae-8652f7219c4b\")) {                    Plotly.newPlot(                        \"5727c281-2cbe-4853-86ae-8652f7219c4b\",                        [{\"hovertemplate\":\"score=%{x}\\u003cbr\\u003emoved=%{y}\\u003cextra\\u003e\\u003c\\u002fextra\\u003e\",\"legendgroup\":\"\",\"marker\":{\"color\":\"#636efa\",\"symbol\":\"circle\"},\"mode\":\"markers\",\"name\":\"\",\"orientation\":\"v\",\"showlegend\":false,\"x\":[0.5864415764808655,0.27315106987953186,0.6780871748924255,0.5314649343490601,0.5498180985450745,0.5694049596786499,0.36307787895202637,0.4387233555316925,0.5032743811607361,0.5656840205192566,0.539426863193512,0.6560823321342468,0.5396572947502136,0.4861409664154053,0.41908180713653564,0.5749320387840271,0.5295910835266113,0.32373368740081787,0.417371928691864,0.4946361184120178,0.6471340656280518,0.5874755382537842,0.1481897532939911,0.5866050124168396,0.25534871220588684,0.5889998078346252,0.7677470445632935,0.4442860782146454,0.5669187307357788,0.5194626450538635,0.4582606256008148,0.7804716229438782,0.47346192598342896,0.5571315884590149,0.5196725130081177,0.6465756297111511,0.5664047598838806,0.4872667193412781,0.394439697265625,0.5241082310676575,0.49823451042175293,0.5615768432617188,0.5658444166183472,0.4695681929588318,0.6520369052886963,0.580155611038208,0.5121369957923889,0.6741935014724731,0.5635999441146851,0.6969358325004578,0.5747448205947876,0.382039874792099,0.47615736722946167,0.4231473505496979,0.44320616126060486,0.623533308506012,0.570525586605072,0.5113779902458191,0.5527104139328003,0.6241612434387207,0.6793555021286011,0.5923365950584412,0.4552321434020996,0.4710089862346649,0.5264571309089661,0.3052101731300354,0.3997367024421692,0.4996390640735626,0.3090868592262268,0.3432876467704773,0.3257846236228943,0.32818639278411865,0.5465244054794312,0.2612215578556061,0.3650977611541748,0.34177520871162415,0.5550963282585144,0.33832722902297974,0.28199514746665955,0.5268092155456543,0.40075334906578064,0.46931761503219604,0.385846883058548,0.4292087256908417,0.5003162026405334,0.3679268956184387,0.3536703884601593,0.4850236177444458,0.3106749951839447,0.38403117656707764,0.2552744150161743],\"xaxis\":\"x\",\"y\":[0.2689075630252101,0.6551724137931034,0.1875,0.31666666666666665,0.23529411764705882,0.25,0.5254237288135594,0.2833333333333333,0.2876712328767123,0.1891891891891892,0.2879581151832461,0.20270270270270271,0.22007722007722008,0.39285714285714285,0.36666666666666664,0.21428571428571427,0.2619047619047619,0.6071428571428571,0.4418604651162791,0.3225806451612903,0.16666666666666666,0.2,0.8666666666666667,0.2641509433962264,0.7419354838709677,0.2857142857142857,0.19230769230769232,0.46956521739130436,0.17582417582417584,0.36666666666666664,0.4,0.07692307692307693,0.42,0.3170731707317073,0.38461538461538464,0.22077922077922077,0.3055555555555556,0.3333333333333333,0.48,0.3793103448275862,0.3684210526315789,0.2653061224489796,0.3283582089552239,0.4308510638297872,0.17307692307692307,0.15384615384615385,0.4074074074074074,0.16417910447761194,0.2,0.17105263157894737,0.2857142857142857,0.5280898876404494,0.2755102040816326,0.3584905660377358,0.44776119402985076,0.2857142857142857,0.28,0.2727272727272727,0.27472527472527475,0.21818181818181817,0.09375,0.2857142857142857,0.3424657534246575,0.38461538461538464,0.2619047619047619,0.5714285714285714,0.34615384615384615,0.3409090909090909,0.6309523809523809,0.5081967213114754,0.6052631578947368,0.4888888888888889,0.2037037037037037,0.5333333333333333,0.5185185185185185,0.35714285714285715,0.1694915254237288,0.5,0.6338028169014085,0.20833333333333334,0.48148148148148145,0.3103448275862069,0.5,0.33962264150943394,0.20689655172413793,0.4,0.4838709677419355,0.2857142857142857,0.6,0.4426229508196721,0.6956521739130435],\"yaxis\":\"y\",\"type\":\"scatter\"}],                        {\"template\":{\"data\":{\"histogram2dcontour\":[{\"type\":\"histogram2dcontour\",\"colorbar\":{\"outlinewidth\":0,\"ticks\":\"\"},\"colorscale\":[[0.0,\"#0d0887\"],[0.1111111111111111,\"#46039f\"],[0.2222222222222222,\"#7201a8\"],[0.3333333333333333,\"#9c179e\"],[0.4444444444444444,\"#bd3786\"],[0.5555555555555556,\"#d8576b\"],[0.6666666666666666,\"#ed7953\"],[0.7777777777777778,\"#fb9f3a\"],[0.8888888888888888,\"#fdca26\"],[1.0,\"#f0f921\"]]}],\"choropleth\":[{\"type\":\"choropleth\",\"colorbar\":{\"outlinewidth\":0,\"ticks\":\"\"}}],\"histogram2d\":[{\"type\":\"histogram2d\",\"colorbar\":{\"outlinewidth\":0,\"ticks\":\"\"},\"colorscale\":[[0.0,\"#0d0887\"],[0.1111111111111111,\"#46039f\"],[0.2222222222222222,\"#7201a8\"],[0.3333333333333333,\"#9c179e\"],[0.4444444444444444,\"#bd3786\"],[0.5555555555555556,\"#d8576b\"],[0.6666666666666666,\"#ed7953\"],[0.7777777777777778,\"#fb9f3a\"],[0.8888888888888888,\"#fdca26\"],[1.0,\"#f0f921\"]]}],\"heatmap\":[{\"type\":\"heatmap\",\"colorbar\":{\"outlinewidth\":0,\"ticks\":\"\"},\"colorscale\":[[0.0,\"#0d0887\"],[0.1111111111111111,\"#46039f\"],[0.2222222222222222,\"#7201a8\"],[0.3333333333333333,\"#9c179e\"],[0.4444444444444444,\"#bd3786\"],[0.5555555555555556,\"#d8576b\"],[0.6666666666666666,\"#ed7953\"],[0.7777777777777778,\"#fb9f3a\"],[0.8888888888888888,\"#fdca26\"],[1.0,\"#f0f921\"]]}],\"heatmapgl\":[{\"type\":\"heatmapgl\",\"colorbar\":{\"outlinewidth\":0,\"ticks\":\"\"},\"colorscale\":[[0.0,\"#0d0887\"],[0.1111111111111111,\"#46039f\"],[0.2222222222222222,\"#7201a8\"],[0.3333333333333333,\"#9c179e\"],[0.4444444444444444,\"#bd3786\"],[0.5555555555555556,\"#d8576b\"],[0.6666666666666666,\"#ed7953\"],[0.7777777777777778,\"#fb9f3a\"],[0.8888888888888888,\"#fdca26\"],[1.0,\"#f0f921\"]]}],\"contourcarpet\":[{\"type\":\"contourcarpet\",\"colorbar\":{\"outlinewidth\":0,\"ticks\":\"\"}}],\"contour\":[{\"type\":\"contour\",\"colorbar\":{\"outlinewidth\":0,\"ticks\":\"\"},\"colorscale\":[[0.0,\"#0d0887\"],[0.1111111111111111,\"#46039f\"],[0.2222222222222222,\"#7201a8\"],[0.3333333333333333,\"#9c179e\"],[0.4444444444444444,\"#bd3786\"],[0.5555555555555556,\"#d8576b\"],[0.6666666666666666,\"#ed7953\"],[0.7777777777777778,\"#fb9f3a\"],[0.8888888888888888,\"#fdca26\"],[1.0,\"#f0f921\"]]}],\"surface\":[{\"type\":\"surface\",\"colorbar\":{\"outlinewidth\":0,\"ticks\":\"\"},\"colorscale\":[[0.0,\"#0d0887\"],[0.1111111111111111,\"#46039f\"],[0.2222222222222222,\"#7201a8\"],[0.3333333333333333,\"#9c179e\"],[0.4444444444444444,\"#bd3786\"],[0.5555555555555556,\"#d8576b\"],[0.6666666666666666,\"#ed7953\"],[0.7777777777777778,\"#fb9f3a\"],[0.8888888888888888,\"#fdca26\"],[1.0,\"#f0f921\"]]}],\"mesh3d\":[{\"type\":\"mesh3d\",\"colorbar\":{\"outlinewidth\":0,\"ticks\":\"\"}}],\"scatter\":[{\"fillpattern\":{\"fillmode\":\"overlay\",\"size\":10,\"solidity\":0.2},\"type\":\"scatter\"}],\"parcoords\":[{\"type\":\"parcoords\",\"line\":{\"colorbar\":{\"outlinewidth\":0,\"ticks\":\"\"}}}],\"scatterpolargl\":[{\"type\":\"scatterpolargl\",\"marker\":{\"colorbar\":{\"outlinewidth\":0,\"ticks\":\"\"}}}],\"bar\":[{\"error_x\":{\"color\":\"#2a3f5f\"},\"error_y\":{\"color\":\"#2a3f5f\"},\"marker\":{\"line\":{\"color\":\"#E5ECF6\",\"width\":0.5},\"pattern\":{\"fillmode\":\"overlay\",\"size\":10,\"solidity\":0.2}},\"type\":\"bar\"}],\"scattergeo\":[{\"type\":\"scattergeo\",\"marker\":{\"colorbar\":{\"outlinewidth\":0,\"ticks\":\"\"}}}],\"scatterpolar\":[{\"type\":\"scatterpolar\",\"marker\":{\"colorbar\":{\"outlinewidth\":0,\"ticks\":\"\"}}}],\"histogram\":[{\"marker\":{\"pattern\":{\"fillmode\":\"overlay\",\"size\":10,\"solidity\":0.2}},\"type\":\"histogram\"}],\"scattergl\":[{\"type\":\"scattergl\",\"marker\":{\"colorbar\":{\"outlinewidth\":0,\"ticks\":\"\"}}}],\"scatter3d\":[{\"type\":\"scatter3d\",\"line\":{\"colorbar\":{\"outlinewidth\":0,\"ticks\":\"\"}},\"marker\":{\"colorbar\":{\"outlinewidth\":0,\"ticks\":\"\"}}}],\"scattermapbox\":[{\"type\":\"scattermapbox\",\"marker\":{\"colorbar\":{\"outlinewidth\":0,\"ticks\":\"\"}}}],\"scatterternary\":[{\"type\":\"scatterternary\",\"marker\":{\"colorbar\":{\"outlinewidth\":0,\"ticks\":\"\"}}}],\"scattercarpet\":[{\"type\":\"scattercarpet\",\"marker\":{\"colorbar\":{\"outlinewidth\":0,\"ticks\":\"\"}}}],\"carpet\":[{\"aaxis\":{\"endlinecolor\":\"#2a3f5f\",\"gridcolor\":\"white\",\"linecolor\":\"white\",\"minorgridcolor\":\"white\",\"startlinecolor\":\"#2a3f5f\"},\"baxis\":{\"endlinecolor\":\"#2a3f5f\",\"gridcolor\":\"white\",\"linecolor\":\"white\",\"minorgridcolor\":\"white\",\"startlinecolor\":\"#2a3f5f\"},\"type\":\"carpet\"}],\"table\":[{\"cells\":{\"fill\":{\"color\":\"#EBF0F8\"},\"line\":{\"color\":\"white\"}},\"header\":{\"fill\":{\"color\":\"#C8D4E3\"},\"line\":{\"color\":\"white\"}},\"type\":\"table\"}],\"barpolar\":[{\"marker\":{\"line\":{\"color\":\"#E5ECF6\",\"width\":0.5},\"pattern\":{\"fillmode\":\"overlay\",\"size\":10,\"solidity\":0.2}},\"type\":\"barpolar\"}],\"pie\":[{\"automargin\":true,\"type\":\"pie\"}]},\"layout\":{\"autotypenumbers\":\"strict\",\"colorway\":[\"#636efa\",\"#EF553B\",\"#00cc96\",\"#ab63fa\",\"#FFA15A\",\"#19d3f3\",\"#FF6692\",\"#B6E880\",\"#FF97FF\",\"#FECB52\"],\"font\":{\"color\":\"#2a3f5f\"},\"hovermode\":\"closest\",\"hoverlabel\":{\"align\":\"left\"},\"paper_bgcolor\":\"white\",\"plot_bgcolor\":\"#E5ECF6\",\"polar\":{\"bgcolor\":\"#E5ECF6\",\"angularaxis\":{\"gridcolor\":\"white\",\"linecolor\":\"white\",\"ticks\":\"\"},\"radialaxis\":{\"gridcolor\":\"white\",\"linecolor\":\"white\",\"ticks\":\"\"}},\"ternary\":{\"bgcolor\":\"#E5ECF6\",\"aaxis\":{\"gridcolor\":\"white\",\"linecolor\":\"white\",\"ticks\":\"\"},\"baxis\":{\"gridcolor\":\"white\",\"linecolor\":\"white\",\"ticks\":\"\"},\"caxis\":{\"gridcolor\":\"white\",\"linecolor\":\"white\",\"ticks\":\"\"}},\"coloraxis\":{\"colorbar\":{\"outlinewidth\":0,\"ticks\":\"\"}},\"colorscale\":{\"sequential\":[[0.0,\"#0d0887\"],[0.1111111111111111,\"#46039f\"],[0.2222222222222222,\"#7201a8\"],[0.3333333333333333,\"#9c179e\"],[0.4444444444444444,\"#bd3786\"],[0.5555555555555556,\"#d8576b\"],[0.6666666666666666,\"#ed7953\"],[0.7777777777777778,\"#fb9f3a\"],[0.8888888888888888,\"#fdca26\"],[1.0,\"#f0f921\"]],\"sequentialminus\":[[0.0,\"#0d0887\"],[0.1111111111111111,\"#46039f\"],[0.2222222222222222,\"#7201a8\"],[0.3333333333333333,\"#9c179e\"],[0.4444444444444444,\"#bd3786\"],[0.5555555555555556,\"#d8576b\"],[0.6666666666666666,\"#ed7953\"],[0.7777777777777778,\"#fb9f3a\"],[0.8888888888888888,\"#fdca26\"],[1.0,\"#f0f921\"]],\"diverging\":[[0,\"#8e0152\"],[0.1,\"#c51b7d\"],[0.2,\"#de77ae\"],[0.3,\"#f1b6da\"],[0.4,\"#fde0ef\"],[0.5,\"#f7f7f7\"],[0.6,\"#e6f5d0\"],[0.7,\"#b8e186\"],[0.8,\"#7fbc41\"],[0.9,\"#4d9221\"],[1,\"#276419\"]]},\"xaxis\":{\"gridcolor\":\"white\",\"linecolor\":\"white\",\"ticks\":\"\",\"title\":{\"standoff\":15},\"zerolinecolor\":\"white\",\"automargin\":true,\"zerolinewidth\":2},\"yaxis\":{\"gridcolor\":\"white\",\"linecolor\":\"white\",\"ticks\":\"\",\"title\":{\"standoff\":15},\"zerolinecolor\":\"white\",\"automargin\":true,\"zerolinewidth\":2},\"scene\":{\"xaxis\":{\"backgroundcolor\":\"#E5ECF6\",\"gridcolor\":\"white\",\"linecolor\":\"white\",\"showbackground\":true,\"ticks\":\"\",\"zerolinecolor\":\"white\",\"gridwidth\":2},\"yaxis\":{\"backgroundcolor\":\"#E5ECF6\",\"gridcolor\":\"white\",\"linecolor\":\"white\",\"showbackground\":true,\"ticks\":\"\",\"zerolinecolor\":\"white\",\"gridwidth\":2},\"zaxis\":{\"backgroundcolor\":\"#E5ECF6\",\"gridcolor\":\"white\",\"linecolor\":\"white\",\"showbackground\":true,\"ticks\":\"\",\"zerolinecolor\":\"white\",\"gridwidth\":2}},\"shapedefaults\":{\"line\":{\"color\":\"#2a3f5f\"}},\"annotationdefaults\":{\"arrowcolor\":\"#2a3f5f\",\"arrowhead\":0,\"arrowwidth\":1},\"geo\":{\"bgcolor\":\"white\",\"landcolor\":\"#E5ECF6\",\"subunitcolor\":\"white\",\"showland\":true,\"showlakes\":true,\"lakecolor\":\"white\"},\"title\":{\"x\":0.05},\"mapbox\":{\"style\":\"light\"}}},\"xaxis\":{\"anchor\":\"y\",\"domain\":[0.0,1.0],\"title\":{\"text\":\"score\"}},\"yaxis\":{\"anchor\":\"x\",\"domain\":[0.0,1.0],\"title\":{\"text\":\"moved\"}},\"legend\":{\"tracegroupgap\":0},\"margin\":{\"t\":60}},                        {\"responsive\": true}                    ).then(function(){\n",
       "                            \n",
       "var gd = document.getElementById('5727c281-2cbe-4853-86ae-8652f7219c4b');\n",
       "var x = new MutationObserver(function (mutations, observer) {{\n",
       "        var display = window.getComputedStyle(gd).display;\n",
       "        if (!display || display === 'none') {{\n",
       "            console.log([gd, 'removed!']);\n",
       "            Plotly.purge(gd);\n",
       "            observer.disconnect();\n",
       "        }}\n",
       "}});\n",
       "\n",
       "// Listen for the removal of the full notebook cells\n",
       "var notebookContainer = gd.closest('#notebook-container');\n",
       "if (notebookContainer) {{\n",
       "    x.observe(notebookContainer, {childList: true});\n",
       "}}\n",
       "\n",
       "// Listen for the clearing of the current output cell\n",
       "var outputEl = gd.closest('.output');\n",
       "if (outputEl) {{\n",
       "    x.observe(outputEl, {childList: true});\n",
       "}}\n",
       "\n",
       "                        })                };                });            </script>        </div>"
      ]
     },
     "metadata": {},
     "output_type": "display_data"
    }
   ],
   "source": [
    "df = selected.groupby('_individual')['moved'].mean().reset_index().merge(rankings)\n",
    "px.scatter(\n",
    "    df, x='score', y='moved'\n",
    ")"
   ]
  },
  {
   "cell_type": "code",
   "execution_count": 21,
   "metadata": {},
   "outputs": [
    {
     "name": "stderr",
     "output_type": "stream",
     "text": [
      "/tmp/ipykernel_40261/1357900860.py:3: SettingWithCopyWarning:\n",
      "\n",
      "\n",
      "A value is trying to be set on a copy of a slice from a DataFrame.\n",
      "Try using .loc[row_indexer,col_indexer] = value instead\n",
      "\n",
      "See the caveats in the documentation: https://pandas.pydata.org/pandas-docs/stable/user_guide/indexing.html#returning-a-view-versus-a-copy\n",
      "\n"
     ]
    },
    {
     "data": {
      "application/vnd.plotly.v1+json": {
       "config": {
        "plotlyServerURL": "https://plot.ly"
       },
       "data": [
        {
         "hovertemplate": "prob_moved=%{x}<br>moved=%{y}<extra></extra>",
         "legendgroup": "",
         "marker": {
          "color": "#636efa",
          "symbol": "circle"
         },
         "mode": "markers",
         "name": "",
         "orientation": "v",
         "showlegend": false,
         "type": "scatter",
         "x": [
          0.20991021394729614,
          0.27645641565322876,
          0.1737275868654251,
          0.25853511691093445,
          0.2882589101791382,
          0.2847456634044647,
          0.34332746267318726,
          0.4086400866508484,
          0.31828418374061584,
          0.3374152183532715,
          0.26438823342323303,
          0.1950429379940033,
          0.31682050228118896,
          0.22061088681221008,
          0.3710865080356598,
          0.27665990591049194,
          0.29982274770736694,
          0.2581116855144501,
          0.391281396150589,
          0.28125742077827454,
          0.2361207902431488,
          0.2799685001373291,
          0.2987014353275299,
          0.22542054951190948,
          0.3978781998157501,
          0.1904839128255844,
          0.0537753701210022,
          0.2130560427904129,
          0.3186766505241394,
          0.19471168518066406,
          0.26135775446891785,
          0.15722452104091644,
          0.20830923318862915,
          0.2037503868341446,
          0.18112780153751373,
          0.1826668083667755,
          0.20276273787021637,
          0.29664361476898193,
          0.2726316750049591,
          0.17675313353538513,
          0.2970588207244873,
          0.25181668996810913,
          0.17014555633068085,
          0.2389240711927414,
          0.221100315451622,
          0.32349729537963867,
          0.1647437959909439,
          0.20032408833503723,
          0.3084668219089508,
          0.16451023519039154,
          0.22317779064178467,
          0.31666579842567444,
          0.38794857263565063,
          0.4045879542827606,
          0.23950311541557312,
          0.1597980111837387,
          0.23340345919132233,
          0.31681570410728455,
          0.29351869225502014,
          0.21523843705654144,
          0.25647541880607605,
          0.18611082434654236,
          0.36745089292526245,
          0.28727853298187256,
          0.3070293366909027,
          0.47943252325057983,
          0.4217979609966278,
          0.3176076114177704,
          0.36937761306762695,
          0.4044702649116516,
          0.4888792037963867,
          0.44137701392173767,
          0.33923038840293884,
          0.5361860990524292,
          0.3915371298789978,
          0.5189406871795654,
          0.35848933458328247,
          0.43579092621803284,
          0.39336538314819336,
          0.3858816623687744,
          0.36634498834609985,
          0.34337905049324036,
          0.30884063243865967,
          0.4009353816509247,
          0.3889147639274597,
          0.45593422651290894,
          0.4239756464958191,
          0.36746466159820557,
          0.4247756898403168,
          0.38486459851264954,
          0.39143434166908264
         ],
         "xaxis": "x",
         "y": [
          0.2689075630252101,
          0.6551724137931034,
          0.1875,
          0.31666666666666665,
          0.23529411764705882,
          0.25,
          0.5254237288135594,
          0.2833333333333333,
          0.2876712328767123,
          0.1891891891891892,
          0.2879581151832461,
          0.20270270270270271,
          0.22007722007722008,
          0.39285714285714285,
          0.36666666666666664,
          0.21428571428571427,
          0.2619047619047619,
          0.6071428571428571,
          0.4418604651162791,
          0.3225806451612903,
          0.16666666666666666,
          0.2,
          0.8666666666666667,
          0.2641509433962264,
          0.7419354838709677,
          0.2857142857142857,
          0.19230769230769232,
          0.46956521739130436,
          0.17582417582417584,
          0.36666666666666664,
          0.4,
          0.07692307692307693,
          0.42,
          0.3170731707317073,
          0.38461538461538464,
          0.22077922077922077,
          0.3055555555555556,
          0.3333333333333333,
          0.48,
          0.3793103448275862,
          0.3684210526315789,
          0.2653061224489796,
          0.3283582089552239,
          0.4308510638297872,
          0.17307692307692307,
          0.15384615384615385,
          0.4074074074074074,
          0.16417910447761194,
          0.2,
          0.17105263157894737,
          0.2857142857142857,
          0.5280898876404494,
          0.2755102040816326,
          0.3584905660377358,
          0.44776119402985076,
          0.2857142857142857,
          0.28,
          0.2727272727272727,
          0.27472527472527475,
          0.21818181818181817,
          0.09375,
          0.2857142857142857,
          0.3424657534246575,
          0.38461538461538464,
          0.2619047619047619,
          0.5714285714285714,
          0.34615384615384615,
          0.3409090909090909,
          0.6309523809523809,
          0.5081967213114754,
          0.6052631578947368,
          0.4888888888888889,
          0.2037037037037037,
          0.5333333333333333,
          0.5185185185185185,
          0.35714285714285715,
          0.1694915254237288,
          0.5,
          0.6338028169014085,
          0.20833333333333334,
          0.48148148148148145,
          0.3103448275862069,
          0.5,
          0.33962264150943394,
          0.20689655172413793,
          0.4,
          0.4838709677419355,
          0.2857142857142857,
          0.6,
          0.4426229508196721,
          0.6956521739130435
         ],
         "yaxis": "y"
        }
       ],
       "layout": {
        "legend": {
         "tracegroupgap": 0
        },
        "margin": {
         "t": 60
        },
        "template": {
         "data": {
          "bar": [
           {
            "error_x": {
             "color": "#2a3f5f"
            },
            "error_y": {
             "color": "#2a3f5f"
            },
            "marker": {
             "line": {
              "color": "#E5ECF6",
              "width": 0.5
             },
             "pattern": {
              "fillmode": "overlay",
              "size": 10,
              "solidity": 0.2
             }
            },
            "type": "bar"
           }
          ],
          "barpolar": [
           {
            "marker": {
             "line": {
              "color": "#E5ECF6",
              "width": 0.5
             },
             "pattern": {
              "fillmode": "overlay",
              "size": 10,
              "solidity": 0.2
             }
            },
            "type": "barpolar"
           }
          ],
          "carpet": [
           {
            "aaxis": {
             "endlinecolor": "#2a3f5f",
             "gridcolor": "white",
             "linecolor": "white",
             "minorgridcolor": "white",
             "startlinecolor": "#2a3f5f"
            },
            "baxis": {
             "endlinecolor": "#2a3f5f",
             "gridcolor": "white",
             "linecolor": "white",
             "minorgridcolor": "white",
             "startlinecolor": "#2a3f5f"
            },
            "type": "carpet"
           }
          ],
          "choropleth": [
           {
            "colorbar": {
             "outlinewidth": 0,
             "ticks": ""
            },
            "type": "choropleth"
           }
          ],
          "contour": [
           {
            "colorbar": {
             "outlinewidth": 0,
             "ticks": ""
            },
            "colorscale": [
             [
              0,
              "#0d0887"
             ],
             [
              0.1111111111111111,
              "#46039f"
             ],
             [
              0.2222222222222222,
              "#7201a8"
             ],
             [
              0.3333333333333333,
              "#9c179e"
             ],
             [
              0.4444444444444444,
              "#bd3786"
             ],
             [
              0.5555555555555556,
              "#d8576b"
             ],
             [
              0.6666666666666666,
              "#ed7953"
             ],
             [
              0.7777777777777778,
              "#fb9f3a"
             ],
             [
              0.8888888888888888,
              "#fdca26"
             ],
             [
              1,
              "#f0f921"
             ]
            ],
            "type": "contour"
           }
          ],
          "contourcarpet": [
           {
            "colorbar": {
             "outlinewidth": 0,
             "ticks": ""
            },
            "type": "contourcarpet"
           }
          ],
          "heatmap": [
           {
            "colorbar": {
             "outlinewidth": 0,
             "ticks": ""
            },
            "colorscale": [
             [
              0,
              "#0d0887"
             ],
             [
              0.1111111111111111,
              "#46039f"
             ],
             [
              0.2222222222222222,
              "#7201a8"
             ],
             [
              0.3333333333333333,
              "#9c179e"
             ],
             [
              0.4444444444444444,
              "#bd3786"
             ],
             [
              0.5555555555555556,
              "#d8576b"
             ],
             [
              0.6666666666666666,
              "#ed7953"
             ],
             [
              0.7777777777777778,
              "#fb9f3a"
             ],
             [
              0.8888888888888888,
              "#fdca26"
             ],
             [
              1,
              "#f0f921"
             ]
            ],
            "type": "heatmap"
           }
          ],
          "heatmapgl": [
           {
            "colorbar": {
             "outlinewidth": 0,
             "ticks": ""
            },
            "colorscale": [
             [
              0,
              "#0d0887"
             ],
             [
              0.1111111111111111,
              "#46039f"
             ],
             [
              0.2222222222222222,
              "#7201a8"
             ],
             [
              0.3333333333333333,
              "#9c179e"
             ],
             [
              0.4444444444444444,
              "#bd3786"
             ],
             [
              0.5555555555555556,
              "#d8576b"
             ],
             [
              0.6666666666666666,
              "#ed7953"
             ],
             [
              0.7777777777777778,
              "#fb9f3a"
             ],
             [
              0.8888888888888888,
              "#fdca26"
             ],
             [
              1,
              "#f0f921"
             ]
            ],
            "type": "heatmapgl"
           }
          ],
          "histogram": [
           {
            "marker": {
             "pattern": {
              "fillmode": "overlay",
              "size": 10,
              "solidity": 0.2
             }
            },
            "type": "histogram"
           }
          ],
          "histogram2d": [
           {
            "colorbar": {
             "outlinewidth": 0,
             "ticks": ""
            },
            "colorscale": [
             [
              0,
              "#0d0887"
             ],
             [
              0.1111111111111111,
              "#46039f"
             ],
             [
              0.2222222222222222,
              "#7201a8"
             ],
             [
              0.3333333333333333,
              "#9c179e"
             ],
             [
              0.4444444444444444,
              "#bd3786"
             ],
             [
              0.5555555555555556,
              "#d8576b"
             ],
             [
              0.6666666666666666,
              "#ed7953"
             ],
             [
              0.7777777777777778,
              "#fb9f3a"
             ],
             [
              0.8888888888888888,
              "#fdca26"
             ],
             [
              1,
              "#f0f921"
             ]
            ],
            "type": "histogram2d"
           }
          ],
          "histogram2dcontour": [
           {
            "colorbar": {
             "outlinewidth": 0,
             "ticks": ""
            },
            "colorscale": [
             [
              0,
              "#0d0887"
             ],
             [
              0.1111111111111111,
              "#46039f"
             ],
             [
              0.2222222222222222,
              "#7201a8"
             ],
             [
              0.3333333333333333,
              "#9c179e"
             ],
             [
              0.4444444444444444,
              "#bd3786"
             ],
             [
              0.5555555555555556,
              "#d8576b"
             ],
             [
              0.6666666666666666,
              "#ed7953"
             ],
             [
              0.7777777777777778,
              "#fb9f3a"
             ],
             [
              0.8888888888888888,
              "#fdca26"
             ],
             [
              1,
              "#f0f921"
             ]
            ],
            "type": "histogram2dcontour"
           }
          ],
          "mesh3d": [
           {
            "colorbar": {
             "outlinewidth": 0,
             "ticks": ""
            },
            "type": "mesh3d"
           }
          ],
          "parcoords": [
           {
            "line": {
             "colorbar": {
              "outlinewidth": 0,
              "ticks": ""
             }
            },
            "type": "parcoords"
           }
          ],
          "pie": [
           {
            "automargin": true,
            "type": "pie"
           }
          ],
          "scatter": [
           {
            "fillpattern": {
             "fillmode": "overlay",
             "size": 10,
             "solidity": 0.2
            },
            "type": "scatter"
           }
          ],
          "scatter3d": [
           {
            "line": {
             "colorbar": {
              "outlinewidth": 0,
              "ticks": ""
             }
            },
            "marker": {
             "colorbar": {
              "outlinewidth": 0,
              "ticks": ""
             }
            },
            "type": "scatter3d"
           }
          ],
          "scattercarpet": [
           {
            "marker": {
             "colorbar": {
              "outlinewidth": 0,
              "ticks": ""
             }
            },
            "type": "scattercarpet"
           }
          ],
          "scattergeo": [
           {
            "marker": {
             "colorbar": {
              "outlinewidth": 0,
              "ticks": ""
             }
            },
            "type": "scattergeo"
           }
          ],
          "scattergl": [
           {
            "marker": {
             "colorbar": {
              "outlinewidth": 0,
              "ticks": ""
             }
            },
            "type": "scattergl"
           }
          ],
          "scattermapbox": [
           {
            "marker": {
             "colorbar": {
              "outlinewidth": 0,
              "ticks": ""
             }
            },
            "type": "scattermapbox"
           }
          ],
          "scatterpolar": [
           {
            "marker": {
             "colorbar": {
              "outlinewidth": 0,
              "ticks": ""
             }
            },
            "type": "scatterpolar"
           }
          ],
          "scatterpolargl": [
           {
            "marker": {
             "colorbar": {
              "outlinewidth": 0,
              "ticks": ""
             }
            },
            "type": "scatterpolargl"
           }
          ],
          "scatterternary": [
           {
            "marker": {
             "colorbar": {
              "outlinewidth": 0,
              "ticks": ""
             }
            },
            "type": "scatterternary"
           }
          ],
          "surface": [
           {
            "colorbar": {
             "outlinewidth": 0,
             "ticks": ""
            },
            "colorscale": [
             [
              0,
              "#0d0887"
             ],
             [
              0.1111111111111111,
              "#46039f"
             ],
             [
              0.2222222222222222,
              "#7201a8"
             ],
             [
              0.3333333333333333,
              "#9c179e"
             ],
             [
              0.4444444444444444,
              "#bd3786"
             ],
             [
              0.5555555555555556,
              "#d8576b"
             ],
             [
              0.6666666666666666,
              "#ed7953"
             ],
             [
              0.7777777777777778,
              "#fb9f3a"
             ],
             [
              0.8888888888888888,
              "#fdca26"
             ],
             [
              1,
              "#f0f921"
             ]
            ],
            "type": "surface"
           }
          ],
          "table": [
           {
            "cells": {
             "fill": {
              "color": "#EBF0F8"
             },
             "line": {
              "color": "white"
             }
            },
            "header": {
             "fill": {
              "color": "#C8D4E3"
             },
             "line": {
              "color": "white"
             }
            },
            "type": "table"
           }
          ]
         },
         "layout": {
          "annotationdefaults": {
           "arrowcolor": "#2a3f5f",
           "arrowhead": 0,
           "arrowwidth": 1
          },
          "autotypenumbers": "strict",
          "coloraxis": {
           "colorbar": {
            "outlinewidth": 0,
            "ticks": ""
           }
          },
          "colorscale": {
           "diverging": [
            [
             0,
             "#8e0152"
            ],
            [
             0.1,
             "#c51b7d"
            ],
            [
             0.2,
             "#de77ae"
            ],
            [
             0.3,
             "#f1b6da"
            ],
            [
             0.4,
             "#fde0ef"
            ],
            [
             0.5,
             "#f7f7f7"
            ],
            [
             0.6,
             "#e6f5d0"
            ],
            [
             0.7,
             "#b8e186"
            ],
            [
             0.8,
             "#7fbc41"
            ],
            [
             0.9,
             "#4d9221"
            ],
            [
             1,
             "#276419"
            ]
           ],
           "sequential": [
            [
             0,
             "#0d0887"
            ],
            [
             0.1111111111111111,
             "#46039f"
            ],
            [
             0.2222222222222222,
             "#7201a8"
            ],
            [
             0.3333333333333333,
             "#9c179e"
            ],
            [
             0.4444444444444444,
             "#bd3786"
            ],
            [
             0.5555555555555556,
             "#d8576b"
            ],
            [
             0.6666666666666666,
             "#ed7953"
            ],
            [
             0.7777777777777778,
             "#fb9f3a"
            ],
            [
             0.8888888888888888,
             "#fdca26"
            ],
            [
             1,
             "#f0f921"
            ]
           ],
           "sequentialminus": [
            [
             0,
             "#0d0887"
            ],
            [
             0.1111111111111111,
             "#46039f"
            ],
            [
             0.2222222222222222,
             "#7201a8"
            ],
            [
             0.3333333333333333,
             "#9c179e"
            ],
            [
             0.4444444444444444,
             "#bd3786"
            ],
            [
             0.5555555555555556,
             "#d8576b"
            ],
            [
             0.6666666666666666,
             "#ed7953"
            ],
            [
             0.7777777777777778,
             "#fb9f3a"
            ],
            [
             0.8888888888888888,
             "#fdca26"
            ],
            [
             1,
             "#f0f921"
            ]
           ]
          },
          "colorway": [
           "#636efa",
           "#EF553B",
           "#00cc96",
           "#ab63fa",
           "#FFA15A",
           "#19d3f3",
           "#FF6692",
           "#B6E880",
           "#FF97FF",
           "#FECB52"
          ],
          "font": {
           "color": "#2a3f5f"
          },
          "geo": {
           "bgcolor": "white",
           "lakecolor": "white",
           "landcolor": "#E5ECF6",
           "showlakes": true,
           "showland": true,
           "subunitcolor": "white"
          },
          "hoverlabel": {
           "align": "left"
          },
          "hovermode": "closest",
          "mapbox": {
           "style": "light"
          },
          "paper_bgcolor": "white",
          "plot_bgcolor": "#E5ECF6",
          "polar": {
           "angularaxis": {
            "gridcolor": "white",
            "linecolor": "white",
            "ticks": ""
           },
           "bgcolor": "#E5ECF6",
           "radialaxis": {
            "gridcolor": "white",
            "linecolor": "white",
            "ticks": ""
           }
          },
          "scene": {
           "xaxis": {
            "backgroundcolor": "#E5ECF6",
            "gridcolor": "white",
            "gridwidth": 2,
            "linecolor": "white",
            "showbackground": true,
            "ticks": "",
            "zerolinecolor": "white"
           },
           "yaxis": {
            "backgroundcolor": "#E5ECF6",
            "gridcolor": "white",
            "gridwidth": 2,
            "linecolor": "white",
            "showbackground": true,
            "ticks": "",
            "zerolinecolor": "white"
           },
           "zaxis": {
            "backgroundcolor": "#E5ECF6",
            "gridcolor": "white",
            "gridwidth": 2,
            "linecolor": "white",
            "showbackground": true,
            "ticks": "",
            "zerolinecolor": "white"
           }
          },
          "shapedefaults": {
           "line": {
            "color": "#2a3f5f"
           }
          },
          "ternary": {
           "aaxis": {
            "gridcolor": "white",
            "linecolor": "white",
            "ticks": ""
           },
           "baxis": {
            "gridcolor": "white",
            "linecolor": "white",
            "ticks": ""
           },
           "bgcolor": "#E5ECF6",
           "caxis": {
            "gridcolor": "white",
            "linecolor": "white",
            "ticks": ""
           }
          },
          "title": {
           "x": 0.05
          },
          "xaxis": {
           "automargin": true,
           "gridcolor": "white",
           "linecolor": "white",
           "ticks": "",
           "title": {
            "standoff": 15
           },
           "zerolinecolor": "white",
           "zerolinewidth": 2
          },
          "yaxis": {
           "automargin": true,
           "gridcolor": "white",
           "linecolor": "white",
           "ticks": "",
           "title": {
            "standoff": 15
           },
           "zerolinecolor": "white",
           "zerolinewidth": 2
          }
         }
        },
        "xaxis": {
         "anchor": "y",
         "domain": [
          0,
          1
         ],
         "title": {
          "text": "prob_moved"
         }
        },
        "yaxis": {
         "anchor": "x",
         "domain": [
          0,
          1
         ],
         "title": {
          "text": "moved"
         }
        }
       }
      },
      "text/html": [
       "<div>                            <div id=\"747aaf6c-8002-4a58-9590-30d744ad0a73\" class=\"plotly-graph-div\" style=\"height:525px; width:100%;\"></div>            <script type=\"text/javascript\">                require([\"plotly\"], function(Plotly) {                    window.PLOTLYENV=window.PLOTLYENV || {};                                    if (document.getElementById(\"747aaf6c-8002-4a58-9590-30d744ad0a73\")) {                    Plotly.newPlot(                        \"747aaf6c-8002-4a58-9590-30d744ad0a73\",                        [{\"hovertemplate\":\"prob_moved=%{x}\\u003cbr\\u003emoved=%{y}\\u003cextra\\u003e\\u003c\\u002fextra\\u003e\",\"legendgroup\":\"\",\"marker\":{\"color\":\"#636efa\",\"symbol\":\"circle\"},\"mode\":\"markers\",\"name\":\"\",\"orientation\":\"v\",\"showlegend\":false,\"x\":[0.20991021394729614,0.27645641565322876,0.1737275868654251,0.25853511691093445,0.2882589101791382,0.2847456634044647,0.34332746267318726,0.4086400866508484,0.31828418374061584,0.3374152183532715,0.26438823342323303,0.1950429379940033,0.31682050228118896,0.22061088681221008,0.3710865080356598,0.27665990591049194,0.29982274770736694,0.2581116855144501,0.391281396150589,0.28125742077827454,0.2361207902431488,0.2799685001373291,0.2987014353275299,0.22542054951190948,0.3978781998157501,0.1904839128255844,0.0537753701210022,0.2130560427904129,0.3186766505241394,0.19471168518066406,0.26135775446891785,0.15722452104091644,0.20830923318862915,0.2037503868341446,0.18112780153751373,0.1826668083667755,0.20276273787021637,0.29664361476898193,0.2726316750049591,0.17675313353538513,0.2970588207244873,0.25181668996810913,0.17014555633068085,0.2389240711927414,0.221100315451622,0.32349729537963867,0.1647437959909439,0.20032408833503723,0.3084668219089508,0.16451023519039154,0.22317779064178467,0.31666579842567444,0.38794857263565063,0.4045879542827606,0.23950311541557312,0.1597980111837387,0.23340345919132233,0.31681570410728455,0.29351869225502014,0.21523843705654144,0.25647541880607605,0.18611082434654236,0.36745089292526245,0.28727853298187256,0.3070293366909027,0.47943252325057983,0.4217979609966278,0.3176076114177704,0.36937761306762695,0.4044702649116516,0.4888792037963867,0.44137701392173767,0.33923038840293884,0.5361860990524292,0.3915371298789978,0.5189406871795654,0.35848933458328247,0.43579092621803284,0.39336538314819336,0.3858816623687744,0.36634498834609985,0.34337905049324036,0.30884063243865967,0.4009353816509247,0.3889147639274597,0.45593422651290894,0.4239756464958191,0.36746466159820557,0.4247756898403168,0.38486459851264954,0.39143434166908264],\"xaxis\":\"x\",\"y\":[0.2689075630252101,0.6551724137931034,0.1875,0.31666666666666665,0.23529411764705882,0.25,0.5254237288135594,0.2833333333333333,0.2876712328767123,0.1891891891891892,0.2879581151832461,0.20270270270270271,0.22007722007722008,0.39285714285714285,0.36666666666666664,0.21428571428571427,0.2619047619047619,0.6071428571428571,0.4418604651162791,0.3225806451612903,0.16666666666666666,0.2,0.8666666666666667,0.2641509433962264,0.7419354838709677,0.2857142857142857,0.19230769230769232,0.46956521739130436,0.17582417582417584,0.36666666666666664,0.4,0.07692307692307693,0.42,0.3170731707317073,0.38461538461538464,0.22077922077922077,0.3055555555555556,0.3333333333333333,0.48,0.3793103448275862,0.3684210526315789,0.2653061224489796,0.3283582089552239,0.4308510638297872,0.17307692307692307,0.15384615384615385,0.4074074074074074,0.16417910447761194,0.2,0.17105263157894737,0.2857142857142857,0.5280898876404494,0.2755102040816326,0.3584905660377358,0.44776119402985076,0.2857142857142857,0.28,0.2727272727272727,0.27472527472527475,0.21818181818181817,0.09375,0.2857142857142857,0.3424657534246575,0.38461538461538464,0.2619047619047619,0.5714285714285714,0.34615384615384615,0.3409090909090909,0.6309523809523809,0.5081967213114754,0.6052631578947368,0.4888888888888889,0.2037037037037037,0.5333333333333333,0.5185185185185185,0.35714285714285715,0.1694915254237288,0.5,0.6338028169014085,0.20833333333333334,0.48148148148148145,0.3103448275862069,0.5,0.33962264150943394,0.20689655172413793,0.4,0.4838709677419355,0.2857142857142857,0.6,0.4426229508196721,0.6956521739130435],\"yaxis\":\"y\",\"type\":\"scatter\"}],                        {\"template\":{\"data\":{\"histogram2dcontour\":[{\"type\":\"histogram2dcontour\",\"colorbar\":{\"outlinewidth\":0,\"ticks\":\"\"},\"colorscale\":[[0.0,\"#0d0887\"],[0.1111111111111111,\"#46039f\"],[0.2222222222222222,\"#7201a8\"],[0.3333333333333333,\"#9c179e\"],[0.4444444444444444,\"#bd3786\"],[0.5555555555555556,\"#d8576b\"],[0.6666666666666666,\"#ed7953\"],[0.7777777777777778,\"#fb9f3a\"],[0.8888888888888888,\"#fdca26\"],[1.0,\"#f0f921\"]]}],\"choropleth\":[{\"type\":\"choropleth\",\"colorbar\":{\"outlinewidth\":0,\"ticks\":\"\"}}],\"histogram2d\":[{\"type\":\"histogram2d\",\"colorbar\":{\"outlinewidth\":0,\"ticks\":\"\"},\"colorscale\":[[0.0,\"#0d0887\"],[0.1111111111111111,\"#46039f\"],[0.2222222222222222,\"#7201a8\"],[0.3333333333333333,\"#9c179e\"],[0.4444444444444444,\"#bd3786\"],[0.5555555555555556,\"#d8576b\"],[0.6666666666666666,\"#ed7953\"],[0.7777777777777778,\"#fb9f3a\"],[0.8888888888888888,\"#fdca26\"],[1.0,\"#f0f921\"]]}],\"heatmap\":[{\"type\":\"heatmap\",\"colorbar\":{\"outlinewidth\":0,\"ticks\":\"\"},\"colorscale\":[[0.0,\"#0d0887\"],[0.1111111111111111,\"#46039f\"],[0.2222222222222222,\"#7201a8\"],[0.3333333333333333,\"#9c179e\"],[0.4444444444444444,\"#bd3786\"],[0.5555555555555556,\"#d8576b\"],[0.6666666666666666,\"#ed7953\"],[0.7777777777777778,\"#fb9f3a\"],[0.8888888888888888,\"#fdca26\"],[1.0,\"#f0f921\"]]}],\"heatmapgl\":[{\"type\":\"heatmapgl\",\"colorbar\":{\"outlinewidth\":0,\"ticks\":\"\"},\"colorscale\":[[0.0,\"#0d0887\"],[0.1111111111111111,\"#46039f\"],[0.2222222222222222,\"#7201a8\"],[0.3333333333333333,\"#9c179e\"],[0.4444444444444444,\"#bd3786\"],[0.5555555555555556,\"#d8576b\"],[0.6666666666666666,\"#ed7953\"],[0.7777777777777778,\"#fb9f3a\"],[0.8888888888888888,\"#fdca26\"],[1.0,\"#f0f921\"]]}],\"contourcarpet\":[{\"type\":\"contourcarpet\",\"colorbar\":{\"outlinewidth\":0,\"ticks\":\"\"}}],\"contour\":[{\"type\":\"contour\",\"colorbar\":{\"outlinewidth\":0,\"ticks\":\"\"},\"colorscale\":[[0.0,\"#0d0887\"],[0.1111111111111111,\"#46039f\"],[0.2222222222222222,\"#7201a8\"],[0.3333333333333333,\"#9c179e\"],[0.4444444444444444,\"#bd3786\"],[0.5555555555555556,\"#d8576b\"],[0.6666666666666666,\"#ed7953\"],[0.7777777777777778,\"#fb9f3a\"],[0.8888888888888888,\"#fdca26\"],[1.0,\"#f0f921\"]]}],\"surface\":[{\"type\":\"surface\",\"colorbar\":{\"outlinewidth\":0,\"ticks\":\"\"},\"colorscale\":[[0.0,\"#0d0887\"],[0.1111111111111111,\"#46039f\"],[0.2222222222222222,\"#7201a8\"],[0.3333333333333333,\"#9c179e\"],[0.4444444444444444,\"#bd3786\"],[0.5555555555555556,\"#d8576b\"],[0.6666666666666666,\"#ed7953\"],[0.7777777777777778,\"#fb9f3a\"],[0.8888888888888888,\"#fdca26\"],[1.0,\"#f0f921\"]]}],\"mesh3d\":[{\"type\":\"mesh3d\",\"colorbar\":{\"outlinewidth\":0,\"ticks\":\"\"}}],\"scatter\":[{\"fillpattern\":{\"fillmode\":\"overlay\",\"size\":10,\"solidity\":0.2},\"type\":\"scatter\"}],\"parcoords\":[{\"type\":\"parcoords\",\"line\":{\"colorbar\":{\"outlinewidth\":0,\"ticks\":\"\"}}}],\"scatterpolargl\":[{\"type\":\"scatterpolargl\",\"marker\":{\"colorbar\":{\"outlinewidth\":0,\"ticks\":\"\"}}}],\"bar\":[{\"error_x\":{\"color\":\"#2a3f5f\"},\"error_y\":{\"color\":\"#2a3f5f\"},\"marker\":{\"line\":{\"color\":\"#E5ECF6\",\"width\":0.5},\"pattern\":{\"fillmode\":\"overlay\",\"size\":10,\"solidity\":0.2}},\"type\":\"bar\"}],\"scattergeo\":[{\"type\":\"scattergeo\",\"marker\":{\"colorbar\":{\"outlinewidth\":0,\"ticks\":\"\"}}}],\"scatterpolar\":[{\"type\":\"scatterpolar\",\"marker\":{\"colorbar\":{\"outlinewidth\":0,\"ticks\":\"\"}}}],\"histogram\":[{\"marker\":{\"pattern\":{\"fillmode\":\"overlay\",\"size\":10,\"solidity\":0.2}},\"type\":\"histogram\"}],\"scattergl\":[{\"type\":\"scattergl\",\"marker\":{\"colorbar\":{\"outlinewidth\":0,\"ticks\":\"\"}}}],\"scatter3d\":[{\"type\":\"scatter3d\",\"line\":{\"colorbar\":{\"outlinewidth\":0,\"ticks\":\"\"}},\"marker\":{\"colorbar\":{\"outlinewidth\":0,\"ticks\":\"\"}}}],\"scattermapbox\":[{\"type\":\"scattermapbox\",\"marker\":{\"colorbar\":{\"outlinewidth\":0,\"ticks\":\"\"}}}],\"scatterternary\":[{\"type\":\"scatterternary\",\"marker\":{\"colorbar\":{\"outlinewidth\":0,\"ticks\":\"\"}}}],\"scattercarpet\":[{\"type\":\"scattercarpet\",\"marker\":{\"colorbar\":{\"outlinewidth\":0,\"ticks\":\"\"}}}],\"carpet\":[{\"aaxis\":{\"endlinecolor\":\"#2a3f5f\",\"gridcolor\":\"white\",\"linecolor\":\"white\",\"minorgridcolor\":\"white\",\"startlinecolor\":\"#2a3f5f\"},\"baxis\":{\"endlinecolor\":\"#2a3f5f\",\"gridcolor\":\"white\",\"linecolor\":\"white\",\"minorgridcolor\":\"white\",\"startlinecolor\":\"#2a3f5f\"},\"type\":\"carpet\"}],\"table\":[{\"cells\":{\"fill\":{\"color\":\"#EBF0F8\"},\"line\":{\"color\":\"white\"}},\"header\":{\"fill\":{\"color\":\"#C8D4E3\"},\"line\":{\"color\":\"white\"}},\"type\":\"table\"}],\"barpolar\":[{\"marker\":{\"line\":{\"color\":\"#E5ECF6\",\"width\":0.5},\"pattern\":{\"fillmode\":\"overlay\",\"size\":10,\"solidity\":0.2}},\"type\":\"barpolar\"}],\"pie\":[{\"automargin\":true,\"type\":\"pie\"}]},\"layout\":{\"autotypenumbers\":\"strict\",\"colorway\":[\"#636efa\",\"#EF553B\",\"#00cc96\",\"#ab63fa\",\"#FFA15A\",\"#19d3f3\",\"#FF6692\",\"#B6E880\",\"#FF97FF\",\"#FECB52\"],\"font\":{\"color\":\"#2a3f5f\"},\"hovermode\":\"closest\",\"hoverlabel\":{\"align\":\"left\"},\"paper_bgcolor\":\"white\",\"plot_bgcolor\":\"#E5ECF6\",\"polar\":{\"bgcolor\":\"#E5ECF6\",\"angularaxis\":{\"gridcolor\":\"white\",\"linecolor\":\"white\",\"ticks\":\"\"},\"radialaxis\":{\"gridcolor\":\"white\",\"linecolor\":\"white\",\"ticks\":\"\"}},\"ternary\":{\"bgcolor\":\"#E5ECF6\",\"aaxis\":{\"gridcolor\":\"white\",\"linecolor\":\"white\",\"ticks\":\"\"},\"baxis\":{\"gridcolor\":\"white\",\"linecolor\":\"white\",\"ticks\":\"\"},\"caxis\":{\"gridcolor\":\"white\",\"linecolor\":\"white\",\"ticks\":\"\"}},\"coloraxis\":{\"colorbar\":{\"outlinewidth\":0,\"ticks\":\"\"}},\"colorscale\":{\"sequential\":[[0.0,\"#0d0887\"],[0.1111111111111111,\"#46039f\"],[0.2222222222222222,\"#7201a8\"],[0.3333333333333333,\"#9c179e\"],[0.4444444444444444,\"#bd3786\"],[0.5555555555555556,\"#d8576b\"],[0.6666666666666666,\"#ed7953\"],[0.7777777777777778,\"#fb9f3a\"],[0.8888888888888888,\"#fdca26\"],[1.0,\"#f0f921\"]],\"sequentialminus\":[[0.0,\"#0d0887\"],[0.1111111111111111,\"#46039f\"],[0.2222222222222222,\"#7201a8\"],[0.3333333333333333,\"#9c179e\"],[0.4444444444444444,\"#bd3786\"],[0.5555555555555556,\"#d8576b\"],[0.6666666666666666,\"#ed7953\"],[0.7777777777777778,\"#fb9f3a\"],[0.8888888888888888,\"#fdca26\"],[1.0,\"#f0f921\"]],\"diverging\":[[0,\"#8e0152\"],[0.1,\"#c51b7d\"],[0.2,\"#de77ae\"],[0.3,\"#f1b6da\"],[0.4,\"#fde0ef\"],[0.5,\"#f7f7f7\"],[0.6,\"#e6f5d0\"],[0.7,\"#b8e186\"],[0.8,\"#7fbc41\"],[0.9,\"#4d9221\"],[1,\"#276419\"]]},\"xaxis\":{\"gridcolor\":\"white\",\"linecolor\":\"white\",\"ticks\":\"\",\"title\":{\"standoff\":15},\"zerolinecolor\":\"white\",\"automargin\":true,\"zerolinewidth\":2},\"yaxis\":{\"gridcolor\":\"white\",\"linecolor\":\"white\",\"ticks\":\"\",\"title\":{\"standoff\":15},\"zerolinecolor\":\"white\",\"automargin\":true,\"zerolinewidth\":2},\"scene\":{\"xaxis\":{\"backgroundcolor\":\"#E5ECF6\",\"gridcolor\":\"white\",\"linecolor\":\"white\",\"showbackground\":true,\"ticks\":\"\",\"zerolinecolor\":\"white\",\"gridwidth\":2},\"yaxis\":{\"backgroundcolor\":\"#E5ECF6\",\"gridcolor\":\"white\",\"linecolor\":\"white\",\"showbackground\":true,\"ticks\":\"\",\"zerolinecolor\":\"white\",\"gridwidth\":2},\"zaxis\":{\"backgroundcolor\":\"#E5ECF6\",\"gridcolor\":\"white\",\"linecolor\":\"white\",\"showbackground\":true,\"ticks\":\"\",\"zerolinecolor\":\"white\",\"gridwidth\":2}},\"shapedefaults\":{\"line\":{\"color\":\"#2a3f5f\"}},\"annotationdefaults\":{\"arrowcolor\":\"#2a3f5f\",\"arrowhead\":0,\"arrowwidth\":1},\"geo\":{\"bgcolor\":\"white\",\"landcolor\":\"#E5ECF6\",\"subunitcolor\":\"white\",\"showland\":true,\"showlakes\":true,\"lakecolor\":\"white\"},\"title\":{\"x\":0.05},\"mapbox\":{\"style\":\"light\"}}},\"xaxis\":{\"anchor\":\"y\",\"domain\":[0.0,1.0],\"title\":{\"text\":\"prob_moved\"}},\"yaxis\":{\"anchor\":\"x\",\"domain\":[0.0,1.0],\"title\":{\"text\":\"moved\"}},\"legend\":{\"tracegroupgap\":0},\"margin\":{\"t\":60}},                        {\"responsive\": true}                    ).then(function(){\n",
       "                            \n",
       "var gd = document.getElementById('747aaf6c-8002-4a58-9590-30d744ad0a73');\n",
       "var x = new MutationObserver(function (mutations, observer) {{\n",
       "        var display = window.getComputedStyle(gd).display;\n",
       "        if (!display || display === 'none') {{\n",
       "            console.log([gd, 'removed!']);\n",
       "            Plotly.purge(gd);\n",
       "            observer.disconnect();\n",
       "        }}\n",
       "}});\n",
       "\n",
       "// Listen for the removal of the full notebook cells\n",
       "var notebookContainer = gd.closest('#notebook-container');\n",
       "if (notebookContainer) {{\n",
       "    x.observe(notebookContainer, {childList: true});\n",
       "}}\n",
       "\n",
       "// Listen for the clearing of the current output cell\n",
       "var outputEl = gd.closest('.output');\n",
       "if (outputEl) {{\n",
       "    x.observe(outputEl, {childList: true});\n",
       "}}\n",
       "\n",
       "                        })                };                });            </script>        </div>"
      ]
     },
     "metadata": {},
     "output_type": "display_data"
    }
   ],
   "source": [
    "moved = selected.groupby('_individual')['moved'].mean().reset_index()\n",
    "prob = data[data['distance'] == 0]\n",
    "prob['prob_moved'] = 1 - prob['probability']\n",
    "prob_moved = prob.groupby('_individual')['prob_moved'].mean().reset_index()\n",
    "df = moved.merge(prob_moved)\n",
    "px.scatter(df, x='prob_moved', y='moved')"
   ]
  },
  {
   "cell_type": "code",
   "execution_count": 22,
   "metadata": {},
   "outputs": [
    {
     "data": {
      "text/html": [
       "<div>\n",
       "<style scoped>\n",
       "    .dataframe tbody tr th:only-of-type {\n",
       "        vertical-align: middle;\n",
       "    }\n",
       "\n",
       "    .dataframe tbody tr th {\n",
       "        vertical-align: top;\n",
       "    }\n",
       "\n",
       "    .dataframe thead th {\n",
       "        text-align: right;\n",
       "    }\n",
       "</style>\n",
       "<table border=\"1\" class=\"dataframe\">\n",
       "  <thead>\n",
       "    <tr style=\"text-align: right;\">\n",
       "      <th></th>\n",
       "      <th>_individual</th>\n",
       "      <th>moved</th>\n",
       "      <th>prob_moved</th>\n",
       "    </tr>\n",
       "  </thead>\n",
       "  <tbody>\n",
       "    <tr>\n",
       "      <th>_individual</th>\n",
       "      <td>1.000000</td>\n",
       "      <td>0.210721</td>\n",
       "      <td>0.504829</td>\n",
       "    </tr>\n",
       "    <tr>\n",
       "      <th>moved</th>\n",
       "      <td>0.210721</td>\n",
       "      <td>1.000000</td>\n",
       "      <td>0.420872</td>\n",
       "    </tr>\n",
       "    <tr>\n",
       "      <th>prob_moved</th>\n",
       "      <td>0.504829</td>\n",
       "      <td>0.420872</td>\n",
       "      <td>1.000000</td>\n",
       "    </tr>\n",
       "  </tbody>\n",
       "</table>\n",
       "</div>"
      ],
      "text/plain": [
       "             _individual     moved  prob_moved\n",
       "_individual     1.000000  0.210721    0.504829\n",
       "moved           0.210721  1.000000    0.420872\n",
       "prob_moved      0.504829  0.420872    1.000000"
      ]
     },
     "execution_count": 22,
     "metadata": {},
     "output_type": "execute_result"
    }
   ],
   "source": [
    "df.corr()"
   ]
  },
  {
   "cell_type": "markdown",
   "metadata": {},
   "source": [
    "Why the movement? \n",
    "\n",
    "- Size?\n",
    "- Location of Origin?\n",
    "- Time of Year?\n",
    "\n",
    "Some combination of the above?"
   ]
  },
  {
   "cell_type": "code",
   "execution_count": null,
   "metadata": {},
   "outputs": [],
   "source": [
    "sizes = read_data_w_cache('select tag_key, fork_length_cm from mgietzmann_tags')\n",
    "key = read_data_w_cache('select distinct _individual, tag_key from movement_model_features_m2_a1')\n",
    "sizes = key.merge(sizes)[['_individual', 'fork_length_cm']]\n",
    "sizes.head()"
   ]
  },
  {
   "cell_type": "code",
   "execution_count": null,
   "metadata": {},
   "outputs": [],
   "source": [
    "df = selected.groupby('_individual')['moved'].mean().reset_index().merge(rankings).merge(sizes)\n",
    "px.scatter(df, x='fork_length_cm', y='moved')"
   ]
  },
  {
   "cell_type": "code",
   "execution_count": null,
   "metadata": {},
   "outputs": [],
   "source": [
    "regions = read_data_w_cache('select tag_key, region from mgietzmann_tag_regions')\n",
    "regions = key.merge(regions)[['_individual', 'region']].fillna('NaN')\n",
    "regions.head()"
   ]
  },
  {
   "cell_type": "code",
   "execution_count": null,
   "metadata": {},
   "outputs": [],
   "source": [
    "df = selected.groupby('_individual')['moved'].mean().reset_index().merge(rankings).merge(regions)\n",
    "px.violin(df, x='region', y='moved')"
   ]
  },
  {
   "cell_type": "code",
   "execution_count": null,
   "metadata": {},
   "outputs": [],
   "source": [
    "selected['month'] = selected['time'].dt.month\n",
    "df = selected.groupby(['_individual', 'month'])['moved'].mean().reset_index()\n",
    "px.violin(df, x='month', y='moved')"
   ]
  },
  {
   "cell_type": "markdown",
   "metadata": {},
   "source": [
    "I think we should include:\n",
    "\n",
    "- Fork Length\n",
    "- Temperature\n",
    "- Time of Year\n",
    "- Region\n",
    "\n",
    "And see what this gets us. "
   ]
  },
  {
   "cell_type": "code",
   "execution_count": null,
   "metadata": {},
   "outputs": [],
   "source": []
  }
 ],
 "metadata": {
  "kernelspec": {
   "display_name": "base",
   "language": "python",
   "name": "python3"
  },
  "language_info": {
   "codemirror_mode": {
    "name": "ipython",
    "version": 3
   },
   "file_extension": ".py",
   "mimetype": "text/x-python",
   "name": "python",
   "nbconvert_exporter": "python",
   "pygments_lexer": "ipython3",
   "version": "3.12.4"
  }
 },
 "nbformat": 4,
 "nbformat_minor": 2
}
