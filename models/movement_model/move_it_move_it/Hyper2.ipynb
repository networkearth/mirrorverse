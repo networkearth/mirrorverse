{
 "cells": [
  {
   "cell_type": "code",
   "execution_count": 60,
   "metadata": {},
   "outputs": [],
   "source": [
    "%matplotlib inline\n",
    "\n",
    "import os \n",
    "import json \n",
    "\n",
    "import boto3\n",
    "import plotly.express as px\n",
    "import seaborn as sns\n",
    "import matplotlib.pyplot as plt\n",
    "import pandas as pd\n",
    "import numpy as np\n",
    "\n",
    "from mirrorverse.utils import read_data_w_cache\n",
    "\n",
    "os.environ['HAVEN_DATABASE'] = 'haven'\n",
    "os.environ['AWS_PROFILE'] = 'admin'\n",
    "\n",
    "COLOR_PALETTE = ['#648FFF', '#785EF0', '#DC267F', '#FE6100', '#FFB000']"
   ]
  },
  {
   "cell_type": "code",
   "execution_count": 67,
   "metadata": {},
   "outputs": [
    {
     "data": {
      "text/html": [
       "<div>\n",
       "<style scoped>\n",
       "    .dataframe tbody tr th:only-of-type {\n",
       "        vertical-align: middle;\n",
       "    }\n",
       "\n",
       "    .dataframe tbody tr th {\n",
       "        vertical-align: top;\n",
       "    }\n",
       "\n",
       "    .dataframe thead th {\n",
       "        text-align: right;\n",
       "    }\n",
       "</style>\n",
       "<table border=\"1\" class=\"dataframe\">\n",
       "  <thead>\n",
       "    <tr style=\"text-align: right;\">\n",
       "      <th></th>\n",
       "      <th>run_id</th>\n",
       "      <th>loss</th>\n",
       "      <th>val_loss</th>\n",
       "      <th>train_loss</th>\n",
       "      <th>epoch</th>\n",
       "      <th>num_layers</th>\n",
       "      <th>neurons</th>\n",
       "      <th>dropout</th>\n",
       "      <th>learning_rate</th>\n",
       "    </tr>\n",
       "  </thead>\n",
       "  <tbody>\n",
       "    <tr>\n",
       "      <th>0</th>\n",
       "      <td>1aa0eaa4a1915ceacce96f275d442e29a81b390f65df08...</td>\n",
       "      <td>0.617224</td>\n",
       "      <td>0.582149</td>\n",
       "      <td>0.576533</td>\n",
       "      <td>1</td>\n",
       "      <td>3</td>\n",
       "      <td>24</td>\n",
       "      <td>0.0</td>\n",
       "      <td>0.0005</td>\n",
       "    </tr>\n",
       "    <tr>\n",
       "      <th>1</th>\n",
       "      <td>1aa0eaa4a1915ceacce96f275d442e29a81b390f65df08...</td>\n",
       "      <td>0.535804</td>\n",
       "      <td>0.494070</td>\n",
       "      <td>0.487063</td>\n",
       "      <td>2</td>\n",
       "      <td>3</td>\n",
       "      <td>24</td>\n",
       "      <td>0.0</td>\n",
       "      <td>0.0005</td>\n",
       "    </tr>\n",
       "    <tr>\n",
       "      <th>2</th>\n",
       "      <td>1aa0eaa4a1915ceacce96f275d442e29a81b390f65df08...</td>\n",
       "      <td>0.440890</td>\n",
       "      <td>0.400777</td>\n",
       "      <td>0.393606</td>\n",
       "      <td>3</td>\n",
       "      <td>3</td>\n",
       "      <td>24</td>\n",
       "      <td>0.0</td>\n",
       "      <td>0.0005</td>\n",
       "    </tr>\n",
       "    <tr>\n",
       "      <th>3</th>\n",
       "      <td>1aa0eaa4a1915ceacce96f275d442e29a81b390f65df08...</td>\n",
       "      <td>0.359286</td>\n",
       "      <td>0.331911</td>\n",
       "      <td>0.325293</td>\n",
       "      <td>4</td>\n",
       "      <td>3</td>\n",
       "      <td>24</td>\n",
       "      <td>0.0</td>\n",
       "      <td>0.0005</td>\n",
       "    </tr>\n",
       "    <tr>\n",
       "      <th>4</th>\n",
       "      <td>1aa0eaa4a1915ceacce96f275d442e29a81b390f65df08...</td>\n",
       "      <td>0.301966</td>\n",
       "      <td>0.283729</td>\n",
       "      <td>0.278332</td>\n",
       "      <td>5</td>\n",
       "      <td>3</td>\n",
       "      <td>24</td>\n",
       "      <td>0.0</td>\n",
       "      <td>0.0005</td>\n",
       "    </tr>\n",
       "  </tbody>\n",
       "</table>\n",
       "</div>"
      ],
      "text/plain": [
       "                                              run_id      loss  val_loss  \\\n",
       "0  1aa0eaa4a1915ceacce96f275d442e29a81b390f65df08...  0.617224  0.582149   \n",
       "1  1aa0eaa4a1915ceacce96f275d442e29a81b390f65df08...  0.535804  0.494070   \n",
       "2  1aa0eaa4a1915ceacce96f275d442e29a81b390f65df08...  0.440890  0.400777   \n",
       "3  1aa0eaa4a1915ceacce96f275d442e29a81b390f65df08...  0.359286  0.331911   \n",
       "4  1aa0eaa4a1915ceacce96f275d442e29a81b390f65df08...  0.301966  0.283729   \n",
       "\n",
       "   train_loss  epoch  num_layers  neurons  dropout  learning_rate  \n",
       "0    0.576533      1           3       24      0.0         0.0005  \n",
       "1    0.487063      2           3       24      0.0         0.0005  \n",
       "2    0.393606      3           3       24      0.0         0.0005  \n",
       "3    0.325293      4           3       24      0.0         0.0005  \n",
       "4    0.278332      5           3       24      0.0         0.0005  "
      ]
     },
     "execution_count": 67,
     "metadata": {},
     "output_type": "execute_result"
    }
   ],
   "source": [
    "s3_client = boto3.client('s3')\n",
    "bucket = 'mimic-log-odds-models'\n",
    "version = 7\n",
    "prefix = f'movement-model-m3-a4-v{version}'\n",
    "\n",
    "response = s3_client.list_objects_v2(Bucket=bucket, Prefix=prefix)\n",
    "\n",
    "configs = {}\n",
    "if 'Contents' in response:\n",
    "    for obj in response['Contents']:\n",
    "        if obj['Key'].endswith('config.json'):\n",
    "            config = json.loads(s3_client.get_object(Bucket=bucket, Key=obj['Key'])['Body'].read().decode('utf-8'))\n",
    "            if 'model' in config:\n",
    "                configs[config['run_id']] = config['model']\n",
    "else:\n",
    "    print(\"No objects found.\")\n",
    "\n",
    "rows = []\n",
    "for run_id, config in configs.items():\n",
    "    if 'num_layers' in config:\n",
    "        rows.append({\n",
    "            'run_id': run_id,\n",
    "            'num_layers': config['num_layers'],\n",
    "            'neurons': int(config['layers'][0][1:]),\n",
    "            'dropout': 0.0 if not config['layers'][1].startswith('Dropout') else float(config['layers'][1][-1])/10,\n",
    "            'learning_rate': config['optimizer_kwargs']['learning_rate']\n",
    "        })\n",
    "\n",
    "configs_data = pd.DataFrame(rows)\n",
    "\n",
    "results = (\n",
    "    read_data_w_cache(f'select * from movement_model_experiment_m3_a4_v{version}')\n",
    "    .sort_values(['run_id', 'epoch'], ascending=True)\n",
    ")\n",
    "results = results[['run_id', 'loss', 'val_loss', 'train_loss', 'epoch']].merge(configs_data)\n",
    "results.head()"
   ]
  },
  {
   "cell_type": "code",
   "execution_count": 68,
   "metadata": {},
   "outputs": [
    {
     "data": {
      "text/html": [
       "<div>\n",
       "<style scoped>\n",
       "    .dataframe tbody tr th:only-of-type {\n",
       "        vertical-align: middle;\n",
       "    }\n",
       "\n",
       "    .dataframe tbody tr th {\n",
       "        vertical-align: top;\n",
       "    }\n",
       "\n",
       "    .dataframe thead th {\n",
       "        text-align: right;\n",
       "    }\n",
       "</style>\n",
       "<table border=\"1\" class=\"dataframe\">\n",
       "  <thead>\n",
       "    <tr style=\"text-align: right;\">\n",
       "      <th></th>\n",
       "      <th>run_id</th>\n",
       "      <th>val_loss</th>\n",
       "      <th>train_loss</th>\n",
       "      <th>loss</th>\n",
       "      <th>epoch</th>\n",
       "      <th>neurons</th>\n",
       "      <th>dropout</th>\n",
       "      <th>num_layers</th>\n",
       "      <th>learning_rate</th>\n",
       "    </tr>\n",
       "  </thead>\n",
       "  <tbody>\n",
       "    <tr>\n",
       "      <th>2</th>\n",
       "      <td>49ee9ca7158e7620df5cc726ab286e7f5069184aeb9579...</td>\n",
       "      <td>0.146438</td>\n",
       "      <td>0.147221</td>\n",
       "      <td>0.147675</td>\n",
       "      <td>100</td>\n",
       "      <td>24</td>\n",
       "      <td>0.0</td>\n",
       "      <td>3</td>\n",
       "      <td>0.0005</td>\n",
       "    </tr>\n",
       "    <tr>\n",
       "      <th>15</th>\n",
       "      <td>d1168ada822f9ef7a21d41564cfa5c2711ddfd6e958731...</td>\n",
       "      <td>0.146463</td>\n",
       "      <td>0.144543</td>\n",
       "      <td>0.145188</td>\n",
       "      <td>100</td>\n",
       "      <td>24</td>\n",
       "      <td>0.0</td>\n",
       "      <td>4</td>\n",
       "      <td>0.0005</td>\n",
       "    </tr>\n",
       "    <tr>\n",
       "      <th>1</th>\n",
       "      <td>1c58cfa7ceac02b9ae8081123c9a992f25ba22396f6325...</td>\n",
       "      <td>0.146603</td>\n",
       "      <td>0.144998</td>\n",
       "      <td>0.145684</td>\n",
       "      <td>100</td>\n",
       "      <td>24</td>\n",
       "      <td>0.0</td>\n",
       "      <td>4</td>\n",
       "      <td>0.0005</td>\n",
       "    </tr>\n",
       "    <tr>\n",
       "      <th>3</th>\n",
       "      <td>5b6f3c5b7285e321c9664c70209ded0da4216c16c8f2ca...</td>\n",
       "      <td>0.146746</td>\n",
       "      <td>0.147589</td>\n",
       "      <td>0.147961</td>\n",
       "      <td>100</td>\n",
       "      <td>32</td>\n",
       "      <td>0.0</td>\n",
       "      <td>3</td>\n",
       "      <td>0.0005</td>\n",
       "    </tr>\n",
       "    <tr>\n",
       "      <th>18</th>\n",
       "      <td>f22d0a4346d3d2ea07507749f086cc792d54439be99228...</td>\n",
       "      <td>0.146836</td>\n",
       "      <td>0.147958</td>\n",
       "      <td>0.148443</td>\n",
       "      <td>100</td>\n",
       "      <td>24</td>\n",
       "      <td>0.0</td>\n",
       "      <td>4</td>\n",
       "      <td>0.0005</td>\n",
       "    </tr>\n",
       "  </tbody>\n",
       "</table>\n",
       "</div>"
      ],
      "text/plain": [
       "                                               run_id  val_loss  train_loss  \\\n",
       "2   49ee9ca7158e7620df5cc726ab286e7f5069184aeb9579...  0.146438    0.147221   \n",
       "15  d1168ada822f9ef7a21d41564cfa5c2711ddfd6e958731...  0.146463    0.144543   \n",
       "1   1c58cfa7ceac02b9ae8081123c9a992f25ba22396f6325...  0.146603    0.144998   \n",
       "3   5b6f3c5b7285e321c9664c70209ded0da4216c16c8f2ca...  0.146746    0.147589   \n",
       "18  f22d0a4346d3d2ea07507749f086cc792d54439be99228...  0.146836    0.147958   \n",
       "\n",
       "        loss  epoch  neurons  dropout  num_layers  learning_rate  \n",
       "2   0.147675    100       24      0.0           3         0.0005  \n",
       "15  0.145188    100       24      0.0           4         0.0005  \n",
       "1   0.145684    100       24      0.0           4         0.0005  \n",
       "3   0.147961    100       32      0.0           3         0.0005  \n",
       "18  0.148443    100       24      0.0           4         0.0005  "
      ]
     },
     "execution_count": 68,
     "metadata": {},
     "output_type": "execute_result"
    }
   ],
   "source": [
    "final = results.groupby('run_id')[['val_loss', 'train_loss', 'loss', 'epoch', 'neurons', 'dropout', 'num_layers', 'learning_rate']].last().reset_index().sort_values('val_loss', ascending=True)\n",
    "final.head()"
   ]
  },
  {
   "cell_type": "code",
   "execution_count": 69,
   "metadata": {},
   "outputs": [
    {
     "data": {
      "text/plain": [
       "'49ee9ca7158e7620df5cc726ab286e7f5069184aeb9579da8694ebd91d43b3ec'"
      ]
     },
     "execution_count": 69,
     "metadata": {},
     "output_type": "execute_result"
    }
   ],
   "source": [
    "x = final.sort_values('val_loss', ascending=True)['run_id'].values[0]\n",
    "x"
   ]
  },
  {
   "cell_type": "code",
   "execution_count": 56,
   "metadata": {},
   "outputs": [
    {
     "data": {
      "application/vnd.plotly.v1+json": {
       "config": {
        "plotlyServerURL": "https://plot.ly"
       },
       "data": [
        {
         "hovertemplate": "train_loss=%{x}<br>val_loss=%{y}<extra></extra>",
         "legendgroup": "",
         "marker": {
          "color": "#636efa",
          "symbol": "circle"
         },
         "mode": "markers",
         "name": "",
         "orientation": "v",
         "showlegend": false,
         "type": "scatter",
         "x": [
          0.15241947770118713,
          0.15165016055107117,
          0.148356094956398,
          0.15066350996494293,
          0.15147210657596588,
          0.1539844572544098,
          0.15230748057365417,
          0.14801254868507385,
          0.14842146635055542,
          0.15176667273044586,
          0.1544431447982788,
          0.14998720586299896,
          0.14599183201789856,
          0.15161526203155518,
          0.1483917385339737,
          0.15052828192710876,
          0.15350033342838287,
          0.14905542135238647,
          0.14814817905426025,
          0.14965760707855225,
          0.14667482674121857,
          0.1546785980463028,
          0.1473904848098755,
          0.1528891772031784,
          0.15068504214286804,
          0.15165092051029205,
          0.15227298438549042,
          0.15352776646614075,
          0.15682487189769745,
          0.15434618294239044,
          0.15259169042110443,
          0.15396350622177124,
          0.15197204053401947,
          0.15284962952136993,
          0.149501770734787,
          0.1553037017583847,
          0.15114685893058777,
          0.1516869068145752,
          0.14989744126796722,
          0.14733849465847015,
          0.1557745635509491,
          0.15043173730373383,
          0.14321964979171753,
          0.14850273728370667,
          0.15469396114349365,
          0.15383045375347137,
          0.15170086920261383,
          0.15529873967170715,
          0.15459230542182922,
          0.15711823105812073,
          0.15339070558547974,
          0.14715352654457092,
          0.15245231986045837,
          0.1449415236711502,
          0.1486181616783142,
          0.14763979613780975,
          0.1469842940568924,
          0.1544211208820343,
          0.15160028636455536,
          0.15191218256950378,
          0.15387694537639618,
          0.15187564492225647,
          0.15252810716629028,
          0.1459975391626358,
          0.1496632695198059,
          0.15100067853927612,
          0.15397992730140686,
          0.14683319628238678,
          0.14778608083724976,
          0.15071164071559906,
          0.15567375719547272,
          0.15602487325668335,
          0.15592996776103973,
          0.15428616106510162,
          0.1552395224571228,
          0.15561604499816895,
          0.14334696531295776,
          0.156612366437912,
          0.15606601536273956,
          0.14593388140201569,
          0.15661317110061646,
          0.14266233146190643,
          0.15318992733955383,
          0.1608504056930542,
          0.14643360674381256,
          0.1594817340373993
         ],
         "xaxis": "x",
         "y": [
          0.14574451744556427,
          0.14575891196727753,
          0.14590488374233246,
          0.14612846076488495,
          0.1462264358997345,
          0.14623595774173737,
          0.14632700383663177,
          0.14650437235832214,
          0.14669878780841827,
          0.14670924842357635,
          0.14676429331302643,
          0.1468139886856079,
          0.14683352410793304,
          0.14683927595615387,
          0.14684469997882843,
          0.14698998630046844,
          0.14705677330493927,
          0.1470607966184616,
          0.14717791974544525,
          0.14720608294010162,
          0.14728902280330658,
          0.1473565697669983,
          0.1473868191242218,
          0.1474546641111374,
          0.1474660336971283,
          0.14750242233276367,
          0.14755725860595703,
          0.14755763113498688,
          0.14756102859973907,
          0.14756156504154205,
          0.14764250814914703,
          0.14765305817127228,
          0.14765575528144836,
          0.1476588398218155,
          0.14775744080543518,
          0.14775794744491577,
          0.1477927416563034,
          0.14779794216156006,
          0.14781373739242554,
          0.14785006642341614,
          0.1478826105594635,
          0.1478894054889679,
          0.14792633056640625,
          0.1479312926530838,
          0.14799834787845612,
          0.1480131894350052,
          0.14821818470954895,
          0.14827097952365875,
          0.14835700392723083,
          0.14837801456451416,
          0.14839030802249908,
          0.14840629696846008,
          0.14849893748760223,
          0.14850306510925293,
          0.1485409289598465,
          0.1485830396413803,
          0.14859658479690552,
          0.14863377809524536,
          0.14878690242767334,
          0.1488494575023651,
          0.1488541215658188,
          0.14885887503623962,
          0.14909148216247559,
          0.14912866055965424,
          0.14912915229797363,
          0.1492420881986618,
          0.14928026497364044,
          0.1493247002363205,
          0.14935369789600372,
          0.1494320183992386,
          0.14967632293701172,
          0.1499585658311844,
          0.15039952099323273,
          0.15047131478786469,
          0.1504773497581482,
          0.1505192220211029,
          0.15066194534301758,
          0.15072982013225555,
          0.1508529931306839,
          0.15140098333358765,
          0.15166422724723816,
          0.1521853506565094,
          0.15245559811592102,
          0.1533188819885254,
          0.15378114581108093,
          0.15426495671272278
         ],
         "yaxis": "y"
        }
       ],
       "layout": {
        "legend": {
         "tracegroupgap": 0
        },
        "margin": {
         "t": 60
        },
        "template": {
         "data": {
          "bar": [
           {
            "error_x": {
             "color": "#2a3f5f"
            },
            "error_y": {
             "color": "#2a3f5f"
            },
            "marker": {
             "line": {
              "color": "#E5ECF6",
              "width": 0.5
             },
             "pattern": {
              "fillmode": "overlay",
              "size": 10,
              "solidity": 0.2
             }
            },
            "type": "bar"
           }
          ],
          "barpolar": [
           {
            "marker": {
             "line": {
              "color": "#E5ECF6",
              "width": 0.5
             },
             "pattern": {
              "fillmode": "overlay",
              "size": 10,
              "solidity": 0.2
             }
            },
            "type": "barpolar"
           }
          ],
          "carpet": [
           {
            "aaxis": {
             "endlinecolor": "#2a3f5f",
             "gridcolor": "white",
             "linecolor": "white",
             "minorgridcolor": "white",
             "startlinecolor": "#2a3f5f"
            },
            "baxis": {
             "endlinecolor": "#2a3f5f",
             "gridcolor": "white",
             "linecolor": "white",
             "minorgridcolor": "white",
             "startlinecolor": "#2a3f5f"
            },
            "type": "carpet"
           }
          ],
          "choropleth": [
           {
            "colorbar": {
             "outlinewidth": 0,
             "ticks": ""
            },
            "type": "choropleth"
           }
          ],
          "contour": [
           {
            "colorbar": {
             "outlinewidth": 0,
             "ticks": ""
            },
            "colorscale": [
             [
              0,
              "#0d0887"
             ],
             [
              0.1111111111111111,
              "#46039f"
             ],
             [
              0.2222222222222222,
              "#7201a8"
             ],
             [
              0.3333333333333333,
              "#9c179e"
             ],
             [
              0.4444444444444444,
              "#bd3786"
             ],
             [
              0.5555555555555556,
              "#d8576b"
             ],
             [
              0.6666666666666666,
              "#ed7953"
             ],
             [
              0.7777777777777778,
              "#fb9f3a"
             ],
             [
              0.8888888888888888,
              "#fdca26"
             ],
             [
              1,
              "#f0f921"
             ]
            ],
            "type": "contour"
           }
          ],
          "contourcarpet": [
           {
            "colorbar": {
             "outlinewidth": 0,
             "ticks": ""
            },
            "type": "contourcarpet"
           }
          ],
          "heatmap": [
           {
            "colorbar": {
             "outlinewidth": 0,
             "ticks": ""
            },
            "colorscale": [
             [
              0,
              "#0d0887"
             ],
             [
              0.1111111111111111,
              "#46039f"
             ],
             [
              0.2222222222222222,
              "#7201a8"
             ],
             [
              0.3333333333333333,
              "#9c179e"
             ],
             [
              0.4444444444444444,
              "#bd3786"
             ],
             [
              0.5555555555555556,
              "#d8576b"
             ],
             [
              0.6666666666666666,
              "#ed7953"
             ],
             [
              0.7777777777777778,
              "#fb9f3a"
             ],
             [
              0.8888888888888888,
              "#fdca26"
             ],
             [
              1,
              "#f0f921"
             ]
            ],
            "type": "heatmap"
           }
          ],
          "heatmapgl": [
           {
            "colorbar": {
             "outlinewidth": 0,
             "ticks": ""
            },
            "colorscale": [
             [
              0,
              "#0d0887"
             ],
             [
              0.1111111111111111,
              "#46039f"
             ],
             [
              0.2222222222222222,
              "#7201a8"
             ],
             [
              0.3333333333333333,
              "#9c179e"
             ],
             [
              0.4444444444444444,
              "#bd3786"
             ],
             [
              0.5555555555555556,
              "#d8576b"
             ],
             [
              0.6666666666666666,
              "#ed7953"
             ],
             [
              0.7777777777777778,
              "#fb9f3a"
             ],
             [
              0.8888888888888888,
              "#fdca26"
             ],
             [
              1,
              "#f0f921"
             ]
            ],
            "type": "heatmapgl"
           }
          ],
          "histogram": [
           {
            "marker": {
             "pattern": {
              "fillmode": "overlay",
              "size": 10,
              "solidity": 0.2
             }
            },
            "type": "histogram"
           }
          ],
          "histogram2d": [
           {
            "colorbar": {
             "outlinewidth": 0,
             "ticks": ""
            },
            "colorscale": [
             [
              0,
              "#0d0887"
             ],
             [
              0.1111111111111111,
              "#46039f"
             ],
             [
              0.2222222222222222,
              "#7201a8"
             ],
             [
              0.3333333333333333,
              "#9c179e"
             ],
             [
              0.4444444444444444,
              "#bd3786"
             ],
             [
              0.5555555555555556,
              "#d8576b"
             ],
             [
              0.6666666666666666,
              "#ed7953"
             ],
             [
              0.7777777777777778,
              "#fb9f3a"
             ],
             [
              0.8888888888888888,
              "#fdca26"
             ],
             [
              1,
              "#f0f921"
             ]
            ],
            "type": "histogram2d"
           }
          ],
          "histogram2dcontour": [
           {
            "colorbar": {
             "outlinewidth": 0,
             "ticks": ""
            },
            "colorscale": [
             [
              0,
              "#0d0887"
             ],
             [
              0.1111111111111111,
              "#46039f"
             ],
             [
              0.2222222222222222,
              "#7201a8"
             ],
             [
              0.3333333333333333,
              "#9c179e"
             ],
             [
              0.4444444444444444,
              "#bd3786"
             ],
             [
              0.5555555555555556,
              "#d8576b"
             ],
             [
              0.6666666666666666,
              "#ed7953"
             ],
             [
              0.7777777777777778,
              "#fb9f3a"
             ],
             [
              0.8888888888888888,
              "#fdca26"
             ],
             [
              1,
              "#f0f921"
             ]
            ],
            "type": "histogram2dcontour"
           }
          ],
          "mesh3d": [
           {
            "colorbar": {
             "outlinewidth": 0,
             "ticks": ""
            },
            "type": "mesh3d"
           }
          ],
          "parcoords": [
           {
            "line": {
             "colorbar": {
              "outlinewidth": 0,
              "ticks": ""
             }
            },
            "type": "parcoords"
           }
          ],
          "pie": [
           {
            "automargin": true,
            "type": "pie"
           }
          ],
          "scatter": [
           {
            "fillpattern": {
             "fillmode": "overlay",
             "size": 10,
             "solidity": 0.2
            },
            "type": "scatter"
           }
          ],
          "scatter3d": [
           {
            "line": {
             "colorbar": {
              "outlinewidth": 0,
              "ticks": ""
             }
            },
            "marker": {
             "colorbar": {
              "outlinewidth": 0,
              "ticks": ""
             }
            },
            "type": "scatter3d"
           }
          ],
          "scattercarpet": [
           {
            "marker": {
             "colorbar": {
              "outlinewidth": 0,
              "ticks": ""
             }
            },
            "type": "scattercarpet"
           }
          ],
          "scattergeo": [
           {
            "marker": {
             "colorbar": {
              "outlinewidth": 0,
              "ticks": ""
             }
            },
            "type": "scattergeo"
           }
          ],
          "scattergl": [
           {
            "marker": {
             "colorbar": {
              "outlinewidth": 0,
              "ticks": ""
             }
            },
            "type": "scattergl"
           }
          ],
          "scattermapbox": [
           {
            "marker": {
             "colorbar": {
              "outlinewidth": 0,
              "ticks": ""
             }
            },
            "type": "scattermapbox"
           }
          ],
          "scatterpolar": [
           {
            "marker": {
             "colorbar": {
              "outlinewidth": 0,
              "ticks": ""
             }
            },
            "type": "scatterpolar"
           }
          ],
          "scatterpolargl": [
           {
            "marker": {
             "colorbar": {
              "outlinewidth": 0,
              "ticks": ""
             }
            },
            "type": "scatterpolargl"
           }
          ],
          "scatterternary": [
           {
            "marker": {
             "colorbar": {
              "outlinewidth": 0,
              "ticks": ""
             }
            },
            "type": "scatterternary"
           }
          ],
          "surface": [
           {
            "colorbar": {
             "outlinewidth": 0,
             "ticks": ""
            },
            "colorscale": [
             [
              0,
              "#0d0887"
             ],
             [
              0.1111111111111111,
              "#46039f"
             ],
             [
              0.2222222222222222,
              "#7201a8"
             ],
             [
              0.3333333333333333,
              "#9c179e"
             ],
             [
              0.4444444444444444,
              "#bd3786"
             ],
             [
              0.5555555555555556,
              "#d8576b"
             ],
             [
              0.6666666666666666,
              "#ed7953"
             ],
             [
              0.7777777777777778,
              "#fb9f3a"
             ],
             [
              0.8888888888888888,
              "#fdca26"
             ],
             [
              1,
              "#f0f921"
             ]
            ],
            "type": "surface"
           }
          ],
          "table": [
           {
            "cells": {
             "fill": {
              "color": "#EBF0F8"
             },
             "line": {
              "color": "white"
             }
            },
            "header": {
             "fill": {
              "color": "#C8D4E3"
             },
             "line": {
              "color": "white"
             }
            },
            "type": "table"
           }
          ]
         },
         "layout": {
          "annotationdefaults": {
           "arrowcolor": "#2a3f5f",
           "arrowhead": 0,
           "arrowwidth": 1
          },
          "autotypenumbers": "strict",
          "coloraxis": {
           "colorbar": {
            "outlinewidth": 0,
            "ticks": ""
           }
          },
          "colorscale": {
           "diverging": [
            [
             0,
             "#8e0152"
            ],
            [
             0.1,
             "#c51b7d"
            ],
            [
             0.2,
             "#de77ae"
            ],
            [
             0.3,
             "#f1b6da"
            ],
            [
             0.4,
             "#fde0ef"
            ],
            [
             0.5,
             "#f7f7f7"
            ],
            [
             0.6,
             "#e6f5d0"
            ],
            [
             0.7,
             "#b8e186"
            ],
            [
             0.8,
             "#7fbc41"
            ],
            [
             0.9,
             "#4d9221"
            ],
            [
             1,
             "#276419"
            ]
           ],
           "sequential": [
            [
             0,
             "#0d0887"
            ],
            [
             0.1111111111111111,
             "#46039f"
            ],
            [
             0.2222222222222222,
             "#7201a8"
            ],
            [
             0.3333333333333333,
             "#9c179e"
            ],
            [
             0.4444444444444444,
             "#bd3786"
            ],
            [
             0.5555555555555556,
             "#d8576b"
            ],
            [
             0.6666666666666666,
             "#ed7953"
            ],
            [
             0.7777777777777778,
             "#fb9f3a"
            ],
            [
             0.8888888888888888,
             "#fdca26"
            ],
            [
             1,
             "#f0f921"
            ]
           ],
           "sequentialminus": [
            [
             0,
             "#0d0887"
            ],
            [
             0.1111111111111111,
             "#46039f"
            ],
            [
             0.2222222222222222,
             "#7201a8"
            ],
            [
             0.3333333333333333,
             "#9c179e"
            ],
            [
             0.4444444444444444,
             "#bd3786"
            ],
            [
             0.5555555555555556,
             "#d8576b"
            ],
            [
             0.6666666666666666,
             "#ed7953"
            ],
            [
             0.7777777777777778,
             "#fb9f3a"
            ],
            [
             0.8888888888888888,
             "#fdca26"
            ],
            [
             1,
             "#f0f921"
            ]
           ]
          },
          "colorway": [
           "#636efa",
           "#EF553B",
           "#00cc96",
           "#ab63fa",
           "#FFA15A",
           "#19d3f3",
           "#FF6692",
           "#B6E880",
           "#FF97FF",
           "#FECB52"
          ],
          "font": {
           "color": "#2a3f5f"
          },
          "geo": {
           "bgcolor": "white",
           "lakecolor": "white",
           "landcolor": "#E5ECF6",
           "showlakes": true,
           "showland": true,
           "subunitcolor": "white"
          },
          "hoverlabel": {
           "align": "left"
          },
          "hovermode": "closest",
          "mapbox": {
           "style": "light"
          },
          "paper_bgcolor": "white",
          "plot_bgcolor": "#E5ECF6",
          "polar": {
           "angularaxis": {
            "gridcolor": "white",
            "linecolor": "white",
            "ticks": ""
           },
           "bgcolor": "#E5ECF6",
           "radialaxis": {
            "gridcolor": "white",
            "linecolor": "white",
            "ticks": ""
           }
          },
          "scene": {
           "xaxis": {
            "backgroundcolor": "#E5ECF6",
            "gridcolor": "white",
            "gridwidth": 2,
            "linecolor": "white",
            "showbackground": true,
            "ticks": "",
            "zerolinecolor": "white"
           },
           "yaxis": {
            "backgroundcolor": "#E5ECF6",
            "gridcolor": "white",
            "gridwidth": 2,
            "linecolor": "white",
            "showbackground": true,
            "ticks": "",
            "zerolinecolor": "white"
           },
           "zaxis": {
            "backgroundcolor": "#E5ECF6",
            "gridcolor": "white",
            "gridwidth": 2,
            "linecolor": "white",
            "showbackground": true,
            "ticks": "",
            "zerolinecolor": "white"
           }
          },
          "shapedefaults": {
           "line": {
            "color": "#2a3f5f"
           }
          },
          "ternary": {
           "aaxis": {
            "gridcolor": "white",
            "linecolor": "white",
            "ticks": ""
           },
           "baxis": {
            "gridcolor": "white",
            "linecolor": "white",
            "ticks": ""
           },
           "bgcolor": "#E5ECF6",
           "caxis": {
            "gridcolor": "white",
            "linecolor": "white",
            "ticks": ""
           }
          },
          "title": {
           "x": 0.05
          },
          "xaxis": {
           "automargin": true,
           "gridcolor": "white",
           "linecolor": "white",
           "ticks": "",
           "title": {
            "standoff": 15
           },
           "zerolinecolor": "white",
           "zerolinewidth": 2
          },
          "yaxis": {
           "automargin": true,
           "gridcolor": "white",
           "linecolor": "white",
           "ticks": "",
           "title": {
            "standoff": 15
           },
           "zerolinecolor": "white",
           "zerolinewidth": 2
          }
         }
        },
        "xaxis": {
         "anchor": "y",
         "domain": [
          0,
          1
         ],
         "title": {
          "text": "train_loss"
         }
        },
        "yaxis": {
         "anchor": "x",
         "domain": [
          0,
          1
         ],
         "title": {
          "text": "val_loss"
         }
        }
       }
      },
      "text/html": [
       "<div>                            <div id=\"bdd9df2f-9e27-478b-8cbe-fb5483a85cfb\" class=\"plotly-graph-div\" style=\"height:525px; width:100%;\"></div>            <script type=\"text/javascript\">                require([\"plotly\"], function(Plotly) {                    window.PLOTLYENV=window.PLOTLYENV || {};                                    if (document.getElementById(\"bdd9df2f-9e27-478b-8cbe-fb5483a85cfb\")) {                    Plotly.newPlot(                        \"bdd9df2f-9e27-478b-8cbe-fb5483a85cfb\",                        [{\"hovertemplate\":\"train_loss=%{x}\\u003cbr\\u003eval_loss=%{y}\\u003cextra\\u003e\\u003c\\u002fextra\\u003e\",\"legendgroup\":\"\",\"marker\":{\"color\":\"#636efa\",\"symbol\":\"circle\"},\"mode\":\"markers\",\"name\":\"\",\"orientation\":\"v\",\"showlegend\":false,\"x\":[0.15241947770118713,0.15165016055107117,0.148356094956398,0.15066350996494293,0.15147210657596588,0.1539844572544098,0.15230748057365417,0.14801254868507385,0.14842146635055542,0.15176667273044586,0.1544431447982788,0.14998720586299896,0.14599183201789856,0.15161526203155518,0.1483917385339737,0.15052828192710876,0.15350033342838287,0.14905542135238647,0.14814817905426025,0.14965760707855225,0.14667482674121857,0.1546785980463028,0.1473904848098755,0.1528891772031784,0.15068504214286804,0.15165092051029205,0.15227298438549042,0.15352776646614075,0.15682487189769745,0.15434618294239044,0.15259169042110443,0.15396350622177124,0.15197204053401947,0.15284962952136993,0.149501770734787,0.1553037017583847,0.15114685893058777,0.1516869068145752,0.14989744126796722,0.14733849465847015,0.1557745635509491,0.15043173730373383,0.14321964979171753,0.14850273728370667,0.15469396114349365,0.15383045375347137,0.15170086920261383,0.15529873967170715,0.15459230542182922,0.15711823105812073,0.15339070558547974,0.14715352654457092,0.15245231986045837,0.1449415236711502,0.1486181616783142,0.14763979613780975,0.1469842940568924,0.1544211208820343,0.15160028636455536,0.15191218256950378,0.15387694537639618,0.15187564492225647,0.15252810716629028,0.1459975391626358,0.1496632695198059,0.15100067853927612,0.15397992730140686,0.14683319628238678,0.14778608083724976,0.15071164071559906,0.15567375719547272,0.15602487325668335,0.15592996776103973,0.15428616106510162,0.1552395224571228,0.15561604499816895,0.14334696531295776,0.156612366437912,0.15606601536273956,0.14593388140201569,0.15661317110061646,0.14266233146190643,0.15318992733955383,0.1608504056930542,0.14643360674381256,0.1594817340373993],\"xaxis\":\"x\",\"y\":[0.14574451744556427,0.14575891196727753,0.14590488374233246,0.14612846076488495,0.1462264358997345,0.14623595774173737,0.14632700383663177,0.14650437235832214,0.14669878780841827,0.14670924842357635,0.14676429331302643,0.1468139886856079,0.14683352410793304,0.14683927595615387,0.14684469997882843,0.14698998630046844,0.14705677330493927,0.1470607966184616,0.14717791974544525,0.14720608294010162,0.14728902280330658,0.1473565697669983,0.1473868191242218,0.1474546641111374,0.1474660336971283,0.14750242233276367,0.14755725860595703,0.14755763113498688,0.14756102859973907,0.14756156504154205,0.14764250814914703,0.14765305817127228,0.14765575528144836,0.1476588398218155,0.14775744080543518,0.14775794744491577,0.1477927416563034,0.14779794216156006,0.14781373739242554,0.14785006642341614,0.1478826105594635,0.1478894054889679,0.14792633056640625,0.1479312926530838,0.14799834787845612,0.1480131894350052,0.14821818470954895,0.14827097952365875,0.14835700392723083,0.14837801456451416,0.14839030802249908,0.14840629696846008,0.14849893748760223,0.14850306510925293,0.1485409289598465,0.1485830396413803,0.14859658479690552,0.14863377809524536,0.14878690242767334,0.1488494575023651,0.1488541215658188,0.14885887503623962,0.14909148216247559,0.14912866055965424,0.14912915229797363,0.1492420881986618,0.14928026497364044,0.1493247002363205,0.14935369789600372,0.1494320183992386,0.14967632293701172,0.1499585658311844,0.15039952099323273,0.15047131478786469,0.1504773497581482,0.1505192220211029,0.15066194534301758,0.15072982013225555,0.1508529931306839,0.15140098333358765,0.15166422724723816,0.1521853506565094,0.15245559811592102,0.1533188819885254,0.15378114581108093,0.15426495671272278],\"yaxis\":\"y\",\"type\":\"scatter\"}],                        {\"template\":{\"data\":{\"histogram2dcontour\":[{\"type\":\"histogram2dcontour\",\"colorbar\":{\"outlinewidth\":0,\"ticks\":\"\"},\"colorscale\":[[0.0,\"#0d0887\"],[0.1111111111111111,\"#46039f\"],[0.2222222222222222,\"#7201a8\"],[0.3333333333333333,\"#9c179e\"],[0.4444444444444444,\"#bd3786\"],[0.5555555555555556,\"#d8576b\"],[0.6666666666666666,\"#ed7953\"],[0.7777777777777778,\"#fb9f3a\"],[0.8888888888888888,\"#fdca26\"],[1.0,\"#f0f921\"]]}],\"choropleth\":[{\"type\":\"choropleth\",\"colorbar\":{\"outlinewidth\":0,\"ticks\":\"\"}}],\"histogram2d\":[{\"type\":\"histogram2d\",\"colorbar\":{\"outlinewidth\":0,\"ticks\":\"\"},\"colorscale\":[[0.0,\"#0d0887\"],[0.1111111111111111,\"#46039f\"],[0.2222222222222222,\"#7201a8\"],[0.3333333333333333,\"#9c179e\"],[0.4444444444444444,\"#bd3786\"],[0.5555555555555556,\"#d8576b\"],[0.6666666666666666,\"#ed7953\"],[0.7777777777777778,\"#fb9f3a\"],[0.8888888888888888,\"#fdca26\"],[1.0,\"#f0f921\"]]}],\"heatmap\":[{\"type\":\"heatmap\",\"colorbar\":{\"outlinewidth\":0,\"ticks\":\"\"},\"colorscale\":[[0.0,\"#0d0887\"],[0.1111111111111111,\"#46039f\"],[0.2222222222222222,\"#7201a8\"],[0.3333333333333333,\"#9c179e\"],[0.4444444444444444,\"#bd3786\"],[0.5555555555555556,\"#d8576b\"],[0.6666666666666666,\"#ed7953\"],[0.7777777777777778,\"#fb9f3a\"],[0.8888888888888888,\"#fdca26\"],[1.0,\"#f0f921\"]]}],\"heatmapgl\":[{\"type\":\"heatmapgl\",\"colorbar\":{\"outlinewidth\":0,\"ticks\":\"\"},\"colorscale\":[[0.0,\"#0d0887\"],[0.1111111111111111,\"#46039f\"],[0.2222222222222222,\"#7201a8\"],[0.3333333333333333,\"#9c179e\"],[0.4444444444444444,\"#bd3786\"],[0.5555555555555556,\"#d8576b\"],[0.6666666666666666,\"#ed7953\"],[0.7777777777777778,\"#fb9f3a\"],[0.8888888888888888,\"#fdca26\"],[1.0,\"#f0f921\"]]}],\"contourcarpet\":[{\"type\":\"contourcarpet\",\"colorbar\":{\"outlinewidth\":0,\"ticks\":\"\"}}],\"contour\":[{\"type\":\"contour\",\"colorbar\":{\"outlinewidth\":0,\"ticks\":\"\"},\"colorscale\":[[0.0,\"#0d0887\"],[0.1111111111111111,\"#46039f\"],[0.2222222222222222,\"#7201a8\"],[0.3333333333333333,\"#9c179e\"],[0.4444444444444444,\"#bd3786\"],[0.5555555555555556,\"#d8576b\"],[0.6666666666666666,\"#ed7953\"],[0.7777777777777778,\"#fb9f3a\"],[0.8888888888888888,\"#fdca26\"],[1.0,\"#f0f921\"]]}],\"surface\":[{\"type\":\"surface\",\"colorbar\":{\"outlinewidth\":0,\"ticks\":\"\"},\"colorscale\":[[0.0,\"#0d0887\"],[0.1111111111111111,\"#46039f\"],[0.2222222222222222,\"#7201a8\"],[0.3333333333333333,\"#9c179e\"],[0.4444444444444444,\"#bd3786\"],[0.5555555555555556,\"#d8576b\"],[0.6666666666666666,\"#ed7953\"],[0.7777777777777778,\"#fb9f3a\"],[0.8888888888888888,\"#fdca26\"],[1.0,\"#f0f921\"]]}],\"mesh3d\":[{\"type\":\"mesh3d\",\"colorbar\":{\"outlinewidth\":0,\"ticks\":\"\"}}],\"scatter\":[{\"fillpattern\":{\"fillmode\":\"overlay\",\"size\":10,\"solidity\":0.2},\"type\":\"scatter\"}],\"parcoords\":[{\"type\":\"parcoords\",\"line\":{\"colorbar\":{\"outlinewidth\":0,\"ticks\":\"\"}}}],\"scatterpolargl\":[{\"type\":\"scatterpolargl\",\"marker\":{\"colorbar\":{\"outlinewidth\":0,\"ticks\":\"\"}}}],\"bar\":[{\"error_x\":{\"color\":\"#2a3f5f\"},\"error_y\":{\"color\":\"#2a3f5f\"},\"marker\":{\"line\":{\"color\":\"#E5ECF6\",\"width\":0.5},\"pattern\":{\"fillmode\":\"overlay\",\"size\":10,\"solidity\":0.2}},\"type\":\"bar\"}],\"scattergeo\":[{\"type\":\"scattergeo\",\"marker\":{\"colorbar\":{\"outlinewidth\":0,\"ticks\":\"\"}}}],\"scatterpolar\":[{\"type\":\"scatterpolar\",\"marker\":{\"colorbar\":{\"outlinewidth\":0,\"ticks\":\"\"}}}],\"histogram\":[{\"marker\":{\"pattern\":{\"fillmode\":\"overlay\",\"size\":10,\"solidity\":0.2}},\"type\":\"histogram\"}],\"scattergl\":[{\"type\":\"scattergl\",\"marker\":{\"colorbar\":{\"outlinewidth\":0,\"ticks\":\"\"}}}],\"scatter3d\":[{\"type\":\"scatter3d\",\"line\":{\"colorbar\":{\"outlinewidth\":0,\"ticks\":\"\"}},\"marker\":{\"colorbar\":{\"outlinewidth\":0,\"ticks\":\"\"}}}],\"scattermapbox\":[{\"type\":\"scattermapbox\",\"marker\":{\"colorbar\":{\"outlinewidth\":0,\"ticks\":\"\"}}}],\"scatterternary\":[{\"type\":\"scatterternary\",\"marker\":{\"colorbar\":{\"outlinewidth\":0,\"ticks\":\"\"}}}],\"scattercarpet\":[{\"type\":\"scattercarpet\",\"marker\":{\"colorbar\":{\"outlinewidth\":0,\"ticks\":\"\"}}}],\"carpet\":[{\"aaxis\":{\"endlinecolor\":\"#2a3f5f\",\"gridcolor\":\"white\",\"linecolor\":\"white\",\"minorgridcolor\":\"white\",\"startlinecolor\":\"#2a3f5f\"},\"baxis\":{\"endlinecolor\":\"#2a3f5f\",\"gridcolor\":\"white\",\"linecolor\":\"white\",\"minorgridcolor\":\"white\",\"startlinecolor\":\"#2a3f5f\"},\"type\":\"carpet\"}],\"table\":[{\"cells\":{\"fill\":{\"color\":\"#EBF0F8\"},\"line\":{\"color\":\"white\"}},\"header\":{\"fill\":{\"color\":\"#C8D4E3\"},\"line\":{\"color\":\"white\"}},\"type\":\"table\"}],\"barpolar\":[{\"marker\":{\"line\":{\"color\":\"#E5ECF6\",\"width\":0.5},\"pattern\":{\"fillmode\":\"overlay\",\"size\":10,\"solidity\":0.2}},\"type\":\"barpolar\"}],\"pie\":[{\"automargin\":true,\"type\":\"pie\"}]},\"layout\":{\"autotypenumbers\":\"strict\",\"colorway\":[\"#636efa\",\"#EF553B\",\"#00cc96\",\"#ab63fa\",\"#FFA15A\",\"#19d3f3\",\"#FF6692\",\"#B6E880\",\"#FF97FF\",\"#FECB52\"],\"font\":{\"color\":\"#2a3f5f\"},\"hovermode\":\"closest\",\"hoverlabel\":{\"align\":\"left\"},\"paper_bgcolor\":\"white\",\"plot_bgcolor\":\"#E5ECF6\",\"polar\":{\"bgcolor\":\"#E5ECF6\",\"angularaxis\":{\"gridcolor\":\"white\",\"linecolor\":\"white\",\"ticks\":\"\"},\"radialaxis\":{\"gridcolor\":\"white\",\"linecolor\":\"white\",\"ticks\":\"\"}},\"ternary\":{\"bgcolor\":\"#E5ECF6\",\"aaxis\":{\"gridcolor\":\"white\",\"linecolor\":\"white\",\"ticks\":\"\"},\"baxis\":{\"gridcolor\":\"white\",\"linecolor\":\"white\",\"ticks\":\"\"},\"caxis\":{\"gridcolor\":\"white\",\"linecolor\":\"white\",\"ticks\":\"\"}},\"coloraxis\":{\"colorbar\":{\"outlinewidth\":0,\"ticks\":\"\"}},\"colorscale\":{\"sequential\":[[0.0,\"#0d0887\"],[0.1111111111111111,\"#46039f\"],[0.2222222222222222,\"#7201a8\"],[0.3333333333333333,\"#9c179e\"],[0.4444444444444444,\"#bd3786\"],[0.5555555555555556,\"#d8576b\"],[0.6666666666666666,\"#ed7953\"],[0.7777777777777778,\"#fb9f3a\"],[0.8888888888888888,\"#fdca26\"],[1.0,\"#f0f921\"]],\"sequentialminus\":[[0.0,\"#0d0887\"],[0.1111111111111111,\"#46039f\"],[0.2222222222222222,\"#7201a8\"],[0.3333333333333333,\"#9c179e\"],[0.4444444444444444,\"#bd3786\"],[0.5555555555555556,\"#d8576b\"],[0.6666666666666666,\"#ed7953\"],[0.7777777777777778,\"#fb9f3a\"],[0.8888888888888888,\"#fdca26\"],[1.0,\"#f0f921\"]],\"diverging\":[[0,\"#8e0152\"],[0.1,\"#c51b7d\"],[0.2,\"#de77ae\"],[0.3,\"#f1b6da\"],[0.4,\"#fde0ef\"],[0.5,\"#f7f7f7\"],[0.6,\"#e6f5d0\"],[0.7,\"#b8e186\"],[0.8,\"#7fbc41\"],[0.9,\"#4d9221\"],[1,\"#276419\"]]},\"xaxis\":{\"gridcolor\":\"white\",\"linecolor\":\"white\",\"ticks\":\"\",\"title\":{\"standoff\":15},\"zerolinecolor\":\"white\",\"automargin\":true,\"zerolinewidth\":2},\"yaxis\":{\"gridcolor\":\"white\",\"linecolor\":\"white\",\"ticks\":\"\",\"title\":{\"standoff\":15},\"zerolinecolor\":\"white\",\"automargin\":true,\"zerolinewidth\":2},\"scene\":{\"xaxis\":{\"backgroundcolor\":\"#E5ECF6\",\"gridcolor\":\"white\",\"linecolor\":\"white\",\"showbackground\":true,\"ticks\":\"\",\"zerolinecolor\":\"white\",\"gridwidth\":2},\"yaxis\":{\"backgroundcolor\":\"#E5ECF6\",\"gridcolor\":\"white\",\"linecolor\":\"white\",\"showbackground\":true,\"ticks\":\"\",\"zerolinecolor\":\"white\",\"gridwidth\":2},\"zaxis\":{\"backgroundcolor\":\"#E5ECF6\",\"gridcolor\":\"white\",\"linecolor\":\"white\",\"showbackground\":true,\"ticks\":\"\",\"zerolinecolor\":\"white\",\"gridwidth\":2}},\"shapedefaults\":{\"line\":{\"color\":\"#2a3f5f\"}},\"annotationdefaults\":{\"arrowcolor\":\"#2a3f5f\",\"arrowhead\":0,\"arrowwidth\":1},\"geo\":{\"bgcolor\":\"white\",\"landcolor\":\"#E5ECF6\",\"subunitcolor\":\"white\",\"showland\":true,\"showlakes\":true,\"lakecolor\":\"white\"},\"title\":{\"x\":0.05},\"mapbox\":{\"style\":\"light\"}}},\"xaxis\":{\"anchor\":\"y\",\"domain\":[0.0,1.0],\"title\":{\"text\":\"train_loss\"}},\"yaxis\":{\"anchor\":\"x\",\"domain\":[0.0,1.0],\"title\":{\"text\":\"val_loss\"}},\"legend\":{\"tracegroupgap\":0},\"margin\":{\"t\":60}},                        {\"responsive\": true}                    ).then(function(){\n",
       "                            \n",
       "var gd = document.getElementById('bdd9df2f-9e27-478b-8cbe-fb5483a85cfb');\n",
       "var x = new MutationObserver(function (mutations, observer) {{\n",
       "        var display = window.getComputedStyle(gd).display;\n",
       "        if (!display || display === 'none') {{\n",
       "            console.log([gd, 'removed!']);\n",
       "            Plotly.purge(gd);\n",
       "            observer.disconnect();\n",
       "        }}\n",
       "}});\n",
       "\n",
       "// Listen for the removal of the full notebook cells\n",
       "var notebookContainer = gd.closest('#notebook-container');\n",
       "if (notebookContainer) {{\n",
       "    x.observe(notebookContainer, {childList: true});\n",
       "}}\n",
       "\n",
       "// Listen for the clearing of the current output cell\n",
       "var outputEl = gd.closest('.output');\n",
       "if (outputEl) {{\n",
       "    x.observe(outputEl, {childList: true});\n",
       "}}\n",
       "\n",
       "                        })                };                });            </script>        </div>"
      ]
     },
     "metadata": {},
     "output_type": "display_data"
    }
   ],
   "source": [
    "px.scatter(final, x='train_loss', y='val_loss')"
   ]
  },
  {
   "cell_type": "code",
   "execution_count": 58,
   "metadata": {},
   "outputs": [
    {
     "data": {
      "application/vnd.plotly.v1+json": {
       "config": {
        "plotlyServerURL": "https://plot.ly"
       },
       "data": [
        {
         "hovertemplate": "case=val<br>epoch=%{x}<br>loss=%{y}<extra></extra>",
         "legendgroup": "val",
         "line": {
          "color": "#636efa",
          "dash": "solid"
         },
         "marker": {
          "symbol": "circle"
         },
         "mode": "lines",
         "name": "val",
         "orientation": "v",
         "showlegend": true,
         "type": "scatter",
         "x": [
          1,
          2,
          3,
          4,
          5,
          6,
          7,
          8,
          9,
          10,
          11,
          12,
          13,
          14,
          15,
          16,
          17,
          18,
          19,
          20,
          21,
          22,
          23,
          24,
          25,
          26,
          27,
          28,
          29,
          30,
          31,
          32,
          33,
          34,
          35,
          36,
          37,
          38,
          39,
          40,
          41,
          42,
          43,
          44,
          45,
          46,
          47,
          48,
          49,
          50
         ],
         "xaxis": "x",
         "y": [
          0.5784345865249634,
          0.4726373851299286,
          0.38145384192466736,
          0.31079214811325073,
          0.2581290900707245,
          0.22219620645046234,
          0.20123080909252167,
          0.1883353739976883,
          0.17833253741264343,
          0.17115069925785065,
          0.16578245162963867,
          0.16170695424079895,
          0.15871720016002655,
          0.15651054680347443,
          0.15463075041770935,
          0.15315896272659302,
          0.15195724368095398,
          0.15089258551597595,
          0.15005962550640106,
          0.14934265613555908,
          0.14889347553253174,
          0.14852102100849152,
          0.1482180804014206,
          0.14800068736076355,
          0.14776575565338135,
          0.14759208261966705,
          0.14740951359272003,
          0.14731936156749725,
          0.14717623591423035,
          0.14703276753425598,
          0.14698836207389832,
          0.14681805670261383,
          0.14668485522270203,
          0.14660774171352386,
          0.14662326872348785,
          0.14647355675697327,
          0.14643114805221558,
          0.1462937444448471,
          0.1461758017539978,
          0.14605377614498138,
          0.14601001143455505,
          0.14597895741462708,
          0.14602084457874298,
          0.14596343040466309,
          0.14592373371124268,
          0.14585384726524353,
          0.14583712816238403,
          0.14585678279399872,
          0.1458362191915512,
          0.14574451744556427
         ],
         "yaxis": "y"
        },
        {
         "hovertemplate": "case=train<br>epoch=%{x}<br>loss=%{y}<extra></extra>",
         "legendgroup": "train",
         "line": {
          "color": "#EF553B",
          "dash": "solid"
         },
         "marker": {
          "symbol": "circle"
         },
         "mode": "lines",
         "name": "train",
         "orientation": "v",
         "showlegend": true,
         "type": "scatter",
         "x": [
          1,
          2,
          3,
          4,
          5,
          6,
          7,
          8,
          9,
          10,
          11,
          12,
          13,
          14,
          15,
          16,
          17,
          18,
          19,
          20,
          21,
          22,
          23,
          24,
          25,
          26,
          27,
          28,
          29,
          30,
          31,
          32,
          33,
          34,
          35,
          36,
          37,
          38,
          39,
          40,
          41,
          42,
          43,
          44,
          45,
          46,
          47,
          48,
          49,
          50
         ],
         "xaxis": "x",
         "y": [
          0.5680941939353943,
          0.4580411911010742,
          0.3656022548675537,
          0.2963060140609741,
          0.24662360548973083,
          0.21537697315216064,
          0.19850647449493408,
          0.18820036947727203,
          0.18015532195568085,
          0.17395494878292084,
          0.16954351961612701,
          0.16614645719528198,
          0.16385133564472198,
          0.16209906339645386,
          0.16068622469902039,
          0.15961842238903046,
          0.1587325483560562,
          0.15800277888774872,
          0.15740109980106354,
          0.1567995399236679,
          0.15638543665409088,
          0.15599004924297333,
          0.1556936353445053,
          0.1554291546344757,
          0.15515853464603424,
          0.1549755334854126,
          0.1547688990831375,
          0.1546182483434677,
          0.154420405626297,
          0.15431949496269226,
          0.1542096585035324,
          0.15400730073451996,
          0.1537870466709137,
          0.15363535284996033,
          0.15364131331443787,
          0.15350471436977386,
          0.15345412492752075,
          0.15332932770252228,
          0.15323682129383087,
          0.15308499336242676,
          0.15305228531360626,
          0.1530112773180008,
          0.1529778093099594,
          0.15283867716789246,
          0.1527840942144394,
          0.15266536176204681,
          0.15261808037757874,
          0.15259084105491638,
          0.15256212651729584,
          0.15241947770118713
         ],
         "yaxis": "y"
        }
       ],
       "layout": {
        "legend": {
         "title": {
          "text": "case"
         },
         "tracegroupgap": 0
        },
        "margin": {
         "t": 60
        },
        "template": {
         "data": {
          "bar": [
           {
            "error_x": {
             "color": "#2a3f5f"
            },
            "error_y": {
             "color": "#2a3f5f"
            },
            "marker": {
             "line": {
              "color": "#E5ECF6",
              "width": 0.5
             },
             "pattern": {
              "fillmode": "overlay",
              "size": 10,
              "solidity": 0.2
             }
            },
            "type": "bar"
           }
          ],
          "barpolar": [
           {
            "marker": {
             "line": {
              "color": "#E5ECF6",
              "width": 0.5
             },
             "pattern": {
              "fillmode": "overlay",
              "size": 10,
              "solidity": 0.2
             }
            },
            "type": "barpolar"
           }
          ],
          "carpet": [
           {
            "aaxis": {
             "endlinecolor": "#2a3f5f",
             "gridcolor": "white",
             "linecolor": "white",
             "minorgridcolor": "white",
             "startlinecolor": "#2a3f5f"
            },
            "baxis": {
             "endlinecolor": "#2a3f5f",
             "gridcolor": "white",
             "linecolor": "white",
             "minorgridcolor": "white",
             "startlinecolor": "#2a3f5f"
            },
            "type": "carpet"
           }
          ],
          "choropleth": [
           {
            "colorbar": {
             "outlinewidth": 0,
             "ticks": ""
            },
            "type": "choropleth"
           }
          ],
          "contour": [
           {
            "colorbar": {
             "outlinewidth": 0,
             "ticks": ""
            },
            "colorscale": [
             [
              0,
              "#0d0887"
             ],
             [
              0.1111111111111111,
              "#46039f"
             ],
             [
              0.2222222222222222,
              "#7201a8"
             ],
             [
              0.3333333333333333,
              "#9c179e"
             ],
             [
              0.4444444444444444,
              "#bd3786"
             ],
             [
              0.5555555555555556,
              "#d8576b"
             ],
             [
              0.6666666666666666,
              "#ed7953"
             ],
             [
              0.7777777777777778,
              "#fb9f3a"
             ],
             [
              0.8888888888888888,
              "#fdca26"
             ],
             [
              1,
              "#f0f921"
             ]
            ],
            "type": "contour"
           }
          ],
          "contourcarpet": [
           {
            "colorbar": {
             "outlinewidth": 0,
             "ticks": ""
            },
            "type": "contourcarpet"
           }
          ],
          "heatmap": [
           {
            "colorbar": {
             "outlinewidth": 0,
             "ticks": ""
            },
            "colorscale": [
             [
              0,
              "#0d0887"
             ],
             [
              0.1111111111111111,
              "#46039f"
             ],
             [
              0.2222222222222222,
              "#7201a8"
             ],
             [
              0.3333333333333333,
              "#9c179e"
             ],
             [
              0.4444444444444444,
              "#bd3786"
             ],
             [
              0.5555555555555556,
              "#d8576b"
             ],
             [
              0.6666666666666666,
              "#ed7953"
             ],
             [
              0.7777777777777778,
              "#fb9f3a"
             ],
             [
              0.8888888888888888,
              "#fdca26"
             ],
             [
              1,
              "#f0f921"
             ]
            ],
            "type": "heatmap"
           }
          ],
          "heatmapgl": [
           {
            "colorbar": {
             "outlinewidth": 0,
             "ticks": ""
            },
            "colorscale": [
             [
              0,
              "#0d0887"
             ],
             [
              0.1111111111111111,
              "#46039f"
             ],
             [
              0.2222222222222222,
              "#7201a8"
             ],
             [
              0.3333333333333333,
              "#9c179e"
             ],
             [
              0.4444444444444444,
              "#bd3786"
             ],
             [
              0.5555555555555556,
              "#d8576b"
             ],
             [
              0.6666666666666666,
              "#ed7953"
             ],
             [
              0.7777777777777778,
              "#fb9f3a"
             ],
             [
              0.8888888888888888,
              "#fdca26"
             ],
             [
              1,
              "#f0f921"
             ]
            ],
            "type": "heatmapgl"
           }
          ],
          "histogram": [
           {
            "marker": {
             "pattern": {
              "fillmode": "overlay",
              "size": 10,
              "solidity": 0.2
             }
            },
            "type": "histogram"
           }
          ],
          "histogram2d": [
           {
            "colorbar": {
             "outlinewidth": 0,
             "ticks": ""
            },
            "colorscale": [
             [
              0,
              "#0d0887"
             ],
             [
              0.1111111111111111,
              "#46039f"
             ],
             [
              0.2222222222222222,
              "#7201a8"
             ],
             [
              0.3333333333333333,
              "#9c179e"
             ],
             [
              0.4444444444444444,
              "#bd3786"
             ],
             [
              0.5555555555555556,
              "#d8576b"
             ],
             [
              0.6666666666666666,
              "#ed7953"
             ],
             [
              0.7777777777777778,
              "#fb9f3a"
             ],
             [
              0.8888888888888888,
              "#fdca26"
             ],
             [
              1,
              "#f0f921"
             ]
            ],
            "type": "histogram2d"
           }
          ],
          "histogram2dcontour": [
           {
            "colorbar": {
             "outlinewidth": 0,
             "ticks": ""
            },
            "colorscale": [
             [
              0,
              "#0d0887"
             ],
             [
              0.1111111111111111,
              "#46039f"
             ],
             [
              0.2222222222222222,
              "#7201a8"
             ],
             [
              0.3333333333333333,
              "#9c179e"
             ],
             [
              0.4444444444444444,
              "#bd3786"
             ],
             [
              0.5555555555555556,
              "#d8576b"
             ],
             [
              0.6666666666666666,
              "#ed7953"
             ],
             [
              0.7777777777777778,
              "#fb9f3a"
             ],
             [
              0.8888888888888888,
              "#fdca26"
             ],
             [
              1,
              "#f0f921"
             ]
            ],
            "type": "histogram2dcontour"
           }
          ],
          "mesh3d": [
           {
            "colorbar": {
             "outlinewidth": 0,
             "ticks": ""
            },
            "type": "mesh3d"
           }
          ],
          "parcoords": [
           {
            "line": {
             "colorbar": {
              "outlinewidth": 0,
              "ticks": ""
             }
            },
            "type": "parcoords"
           }
          ],
          "pie": [
           {
            "automargin": true,
            "type": "pie"
           }
          ],
          "scatter": [
           {
            "fillpattern": {
             "fillmode": "overlay",
             "size": 10,
             "solidity": 0.2
            },
            "type": "scatter"
           }
          ],
          "scatter3d": [
           {
            "line": {
             "colorbar": {
              "outlinewidth": 0,
              "ticks": ""
             }
            },
            "marker": {
             "colorbar": {
              "outlinewidth": 0,
              "ticks": ""
             }
            },
            "type": "scatter3d"
           }
          ],
          "scattercarpet": [
           {
            "marker": {
             "colorbar": {
              "outlinewidth": 0,
              "ticks": ""
             }
            },
            "type": "scattercarpet"
           }
          ],
          "scattergeo": [
           {
            "marker": {
             "colorbar": {
              "outlinewidth": 0,
              "ticks": ""
             }
            },
            "type": "scattergeo"
           }
          ],
          "scattergl": [
           {
            "marker": {
             "colorbar": {
              "outlinewidth": 0,
              "ticks": ""
             }
            },
            "type": "scattergl"
           }
          ],
          "scattermapbox": [
           {
            "marker": {
             "colorbar": {
              "outlinewidth": 0,
              "ticks": ""
             }
            },
            "type": "scattermapbox"
           }
          ],
          "scatterpolar": [
           {
            "marker": {
             "colorbar": {
              "outlinewidth": 0,
              "ticks": ""
             }
            },
            "type": "scatterpolar"
           }
          ],
          "scatterpolargl": [
           {
            "marker": {
             "colorbar": {
              "outlinewidth": 0,
              "ticks": ""
             }
            },
            "type": "scatterpolargl"
           }
          ],
          "scatterternary": [
           {
            "marker": {
             "colorbar": {
              "outlinewidth": 0,
              "ticks": ""
             }
            },
            "type": "scatterternary"
           }
          ],
          "surface": [
           {
            "colorbar": {
             "outlinewidth": 0,
             "ticks": ""
            },
            "colorscale": [
             [
              0,
              "#0d0887"
             ],
             [
              0.1111111111111111,
              "#46039f"
             ],
             [
              0.2222222222222222,
              "#7201a8"
             ],
             [
              0.3333333333333333,
              "#9c179e"
             ],
             [
              0.4444444444444444,
              "#bd3786"
             ],
             [
              0.5555555555555556,
              "#d8576b"
             ],
             [
              0.6666666666666666,
              "#ed7953"
             ],
             [
              0.7777777777777778,
              "#fb9f3a"
             ],
             [
              0.8888888888888888,
              "#fdca26"
             ],
             [
              1,
              "#f0f921"
             ]
            ],
            "type": "surface"
           }
          ],
          "table": [
           {
            "cells": {
             "fill": {
              "color": "#EBF0F8"
             },
             "line": {
              "color": "white"
             }
            },
            "header": {
             "fill": {
              "color": "#C8D4E3"
             },
             "line": {
              "color": "white"
             }
            },
            "type": "table"
           }
          ]
         },
         "layout": {
          "annotationdefaults": {
           "arrowcolor": "#2a3f5f",
           "arrowhead": 0,
           "arrowwidth": 1
          },
          "autotypenumbers": "strict",
          "coloraxis": {
           "colorbar": {
            "outlinewidth": 0,
            "ticks": ""
           }
          },
          "colorscale": {
           "diverging": [
            [
             0,
             "#8e0152"
            ],
            [
             0.1,
             "#c51b7d"
            ],
            [
             0.2,
             "#de77ae"
            ],
            [
             0.3,
             "#f1b6da"
            ],
            [
             0.4,
             "#fde0ef"
            ],
            [
             0.5,
             "#f7f7f7"
            ],
            [
             0.6,
             "#e6f5d0"
            ],
            [
             0.7,
             "#b8e186"
            ],
            [
             0.8,
             "#7fbc41"
            ],
            [
             0.9,
             "#4d9221"
            ],
            [
             1,
             "#276419"
            ]
           ],
           "sequential": [
            [
             0,
             "#0d0887"
            ],
            [
             0.1111111111111111,
             "#46039f"
            ],
            [
             0.2222222222222222,
             "#7201a8"
            ],
            [
             0.3333333333333333,
             "#9c179e"
            ],
            [
             0.4444444444444444,
             "#bd3786"
            ],
            [
             0.5555555555555556,
             "#d8576b"
            ],
            [
             0.6666666666666666,
             "#ed7953"
            ],
            [
             0.7777777777777778,
             "#fb9f3a"
            ],
            [
             0.8888888888888888,
             "#fdca26"
            ],
            [
             1,
             "#f0f921"
            ]
           ],
           "sequentialminus": [
            [
             0,
             "#0d0887"
            ],
            [
             0.1111111111111111,
             "#46039f"
            ],
            [
             0.2222222222222222,
             "#7201a8"
            ],
            [
             0.3333333333333333,
             "#9c179e"
            ],
            [
             0.4444444444444444,
             "#bd3786"
            ],
            [
             0.5555555555555556,
             "#d8576b"
            ],
            [
             0.6666666666666666,
             "#ed7953"
            ],
            [
             0.7777777777777778,
             "#fb9f3a"
            ],
            [
             0.8888888888888888,
             "#fdca26"
            ],
            [
             1,
             "#f0f921"
            ]
           ]
          },
          "colorway": [
           "#636efa",
           "#EF553B",
           "#00cc96",
           "#ab63fa",
           "#FFA15A",
           "#19d3f3",
           "#FF6692",
           "#B6E880",
           "#FF97FF",
           "#FECB52"
          ],
          "font": {
           "color": "#2a3f5f"
          },
          "geo": {
           "bgcolor": "white",
           "lakecolor": "white",
           "landcolor": "#E5ECF6",
           "showlakes": true,
           "showland": true,
           "subunitcolor": "white"
          },
          "hoverlabel": {
           "align": "left"
          },
          "hovermode": "closest",
          "mapbox": {
           "style": "light"
          },
          "paper_bgcolor": "white",
          "plot_bgcolor": "#E5ECF6",
          "polar": {
           "angularaxis": {
            "gridcolor": "white",
            "linecolor": "white",
            "ticks": ""
           },
           "bgcolor": "#E5ECF6",
           "radialaxis": {
            "gridcolor": "white",
            "linecolor": "white",
            "ticks": ""
           }
          },
          "scene": {
           "xaxis": {
            "backgroundcolor": "#E5ECF6",
            "gridcolor": "white",
            "gridwidth": 2,
            "linecolor": "white",
            "showbackground": true,
            "ticks": "",
            "zerolinecolor": "white"
           },
           "yaxis": {
            "backgroundcolor": "#E5ECF6",
            "gridcolor": "white",
            "gridwidth": 2,
            "linecolor": "white",
            "showbackground": true,
            "ticks": "",
            "zerolinecolor": "white"
           },
           "zaxis": {
            "backgroundcolor": "#E5ECF6",
            "gridcolor": "white",
            "gridwidth": 2,
            "linecolor": "white",
            "showbackground": true,
            "ticks": "",
            "zerolinecolor": "white"
           }
          },
          "shapedefaults": {
           "line": {
            "color": "#2a3f5f"
           }
          },
          "ternary": {
           "aaxis": {
            "gridcolor": "white",
            "linecolor": "white",
            "ticks": ""
           },
           "baxis": {
            "gridcolor": "white",
            "linecolor": "white",
            "ticks": ""
           },
           "bgcolor": "#E5ECF6",
           "caxis": {
            "gridcolor": "white",
            "linecolor": "white",
            "ticks": ""
           }
          },
          "title": {
           "x": 0.05
          },
          "xaxis": {
           "automargin": true,
           "gridcolor": "white",
           "linecolor": "white",
           "ticks": "",
           "title": {
            "standoff": 15
           },
           "zerolinecolor": "white",
           "zerolinewidth": 2
          },
          "yaxis": {
           "automargin": true,
           "gridcolor": "white",
           "linecolor": "white",
           "ticks": "",
           "title": {
            "standoff": 15
           },
           "zerolinecolor": "white",
           "zerolinewidth": 2
          }
         }
        },
        "xaxis": {
         "anchor": "y",
         "domain": [
          0,
          1
         ],
         "title": {
          "text": "epoch"
         }
        },
        "yaxis": {
         "anchor": "x",
         "domain": [
          0,
          1
         ],
         "title": {
          "text": "loss"
         }
        }
       }
      },
      "text/html": [
       "<div>                            <div id=\"a3a876ba-bc67-447f-b9a5-2040c0c0f961\" class=\"plotly-graph-div\" style=\"height:525px; width:100%;\"></div>            <script type=\"text/javascript\">                require([\"plotly\"], function(Plotly) {                    window.PLOTLYENV=window.PLOTLYENV || {};                                    if (document.getElementById(\"a3a876ba-bc67-447f-b9a5-2040c0c0f961\")) {                    Plotly.newPlot(                        \"a3a876ba-bc67-447f-b9a5-2040c0c0f961\",                        [{\"hovertemplate\":\"case=val\\u003cbr\\u003eepoch=%{x}\\u003cbr\\u003eloss=%{y}\\u003cextra\\u003e\\u003c\\u002fextra\\u003e\",\"legendgroup\":\"val\",\"line\":{\"color\":\"#636efa\",\"dash\":\"solid\"},\"marker\":{\"symbol\":\"circle\"},\"mode\":\"lines\",\"name\":\"val\",\"orientation\":\"v\",\"showlegend\":true,\"x\":[1,2,3,4,5,6,7,8,9,10,11,12,13,14,15,16,17,18,19,20,21,22,23,24,25,26,27,28,29,30,31,32,33,34,35,36,37,38,39,40,41,42,43,44,45,46,47,48,49,50],\"xaxis\":\"x\",\"y\":[0.5784345865249634,0.4726373851299286,0.38145384192466736,0.31079214811325073,0.2581290900707245,0.22219620645046234,0.20123080909252167,0.1883353739976883,0.17833253741264343,0.17115069925785065,0.16578245162963867,0.16170695424079895,0.15871720016002655,0.15651054680347443,0.15463075041770935,0.15315896272659302,0.15195724368095398,0.15089258551597595,0.15005962550640106,0.14934265613555908,0.14889347553253174,0.14852102100849152,0.1482180804014206,0.14800068736076355,0.14776575565338135,0.14759208261966705,0.14740951359272003,0.14731936156749725,0.14717623591423035,0.14703276753425598,0.14698836207389832,0.14681805670261383,0.14668485522270203,0.14660774171352386,0.14662326872348785,0.14647355675697327,0.14643114805221558,0.1462937444448471,0.1461758017539978,0.14605377614498138,0.14601001143455505,0.14597895741462708,0.14602084457874298,0.14596343040466309,0.14592373371124268,0.14585384726524353,0.14583712816238403,0.14585678279399872,0.1458362191915512,0.14574451744556427],\"yaxis\":\"y\",\"type\":\"scatter\"},{\"hovertemplate\":\"case=train\\u003cbr\\u003eepoch=%{x}\\u003cbr\\u003eloss=%{y}\\u003cextra\\u003e\\u003c\\u002fextra\\u003e\",\"legendgroup\":\"train\",\"line\":{\"color\":\"#EF553B\",\"dash\":\"solid\"},\"marker\":{\"symbol\":\"circle\"},\"mode\":\"lines\",\"name\":\"train\",\"orientation\":\"v\",\"showlegend\":true,\"x\":[1,2,3,4,5,6,7,8,9,10,11,12,13,14,15,16,17,18,19,20,21,22,23,24,25,26,27,28,29,30,31,32,33,34,35,36,37,38,39,40,41,42,43,44,45,46,47,48,49,50],\"xaxis\":\"x\",\"y\":[0.5680941939353943,0.4580411911010742,0.3656022548675537,0.2963060140609741,0.24662360548973083,0.21537697315216064,0.19850647449493408,0.18820036947727203,0.18015532195568085,0.17395494878292084,0.16954351961612701,0.16614645719528198,0.16385133564472198,0.16209906339645386,0.16068622469902039,0.15961842238903046,0.1587325483560562,0.15800277888774872,0.15740109980106354,0.1567995399236679,0.15638543665409088,0.15599004924297333,0.1556936353445053,0.1554291546344757,0.15515853464603424,0.1549755334854126,0.1547688990831375,0.1546182483434677,0.154420405626297,0.15431949496269226,0.1542096585035324,0.15400730073451996,0.1537870466709137,0.15363535284996033,0.15364131331443787,0.15350471436977386,0.15345412492752075,0.15332932770252228,0.15323682129383087,0.15308499336242676,0.15305228531360626,0.1530112773180008,0.1529778093099594,0.15283867716789246,0.1527840942144394,0.15266536176204681,0.15261808037757874,0.15259084105491638,0.15256212651729584,0.15241947770118713],\"yaxis\":\"y\",\"type\":\"scatter\"}],                        {\"template\":{\"data\":{\"histogram2dcontour\":[{\"type\":\"histogram2dcontour\",\"colorbar\":{\"outlinewidth\":0,\"ticks\":\"\"},\"colorscale\":[[0.0,\"#0d0887\"],[0.1111111111111111,\"#46039f\"],[0.2222222222222222,\"#7201a8\"],[0.3333333333333333,\"#9c179e\"],[0.4444444444444444,\"#bd3786\"],[0.5555555555555556,\"#d8576b\"],[0.6666666666666666,\"#ed7953\"],[0.7777777777777778,\"#fb9f3a\"],[0.8888888888888888,\"#fdca26\"],[1.0,\"#f0f921\"]]}],\"choropleth\":[{\"type\":\"choropleth\",\"colorbar\":{\"outlinewidth\":0,\"ticks\":\"\"}}],\"histogram2d\":[{\"type\":\"histogram2d\",\"colorbar\":{\"outlinewidth\":0,\"ticks\":\"\"},\"colorscale\":[[0.0,\"#0d0887\"],[0.1111111111111111,\"#46039f\"],[0.2222222222222222,\"#7201a8\"],[0.3333333333333333,\"#9c179e\"],[0.4444444444444444,\"#bd3786\"],[0.5555555555555556,\"#d8576b\"],[0.6666666666666666,\"#ed7953\"],[0.7777777777777778,\"#fb9f3a\"],[0.8888888888888888,\"#fdca26\"],[1.0,\"#f0f921\"]]}],\"heatmap\":[{\"type\":\"heatmap\",\"colorbar\":{\"outlinewidth\":0,\"ticks\":\"\"},\"colorscale\":[[0.0,\"#0d0887\"],[0.1111111111111111,\"#46039f\"],[0.2222222222222222,\"#7201a8\"],[0.3333333333333333,\"#9c179e\"],[0.4444444444444444,\"#bd3786\"],[0.5555555555555556,\"#d8576b\"],[0.6666666666666666,\"#ed7953\"],[0.7777777777777778,\"#fb9f3a\"],[0.8888888888888888,\"#fdca26\"],[1.0,\"#f0f921\"]]}],\"heatmapgl\":[{\"type\":\"heatmapgl\",\"colorbar\":{\"outlinewidth\":0,\"ticks\":\"\"},\"colorscale\":[[0.0,\"#0d0887\"],[0.1111111111111111,\"#46039f\"],[0.2222222222222222,\"#7201a8\"],[0.3333333333333333,\"#9c179e\"],[0.4444444444444444,\"#bd3786\"],[0.5555555555555556,\"#d8576b\"],[0.6666666666666666,\"#ed7953\"],[0.7777777777777778,\"#fb9f3a\"],[0.8888888888888888,\"#fdca26\"],[1.0,\"#f0f921\"]]}],\"contourcarpet\":[{\"type\":\"contourcarpet\",\"colorbar\":{\"outlinewidth\":0,\"ticks\":\"\"}}],\"contour\":[{\"type\":\"contour\",\"colorbar\":{\"outlinewidth\":0,\"ticks\":\"\"},\"colorscale\":[[0.0,\"#0d0887\"],[0.1111111111111111,\"#46039f\"],[0.2222222222222222,\"#7201a8\"],[0.3333333333333333,\"#9c179e\"],[0.4444444444444444,\"#bd3786\"],[0.5555555555555556,\"#d8576b\"],[0.6666666666666666,\"#ed7953\"],[0.7777777777777778,\"#fb9f3a\"],[0.8888888888888888,\"#fdca26\"],[1.0,\"#f0f921\"]]}],\"surface\":[{\"type\":\"surface\",\"colorbar\":{\"outlinewidth\":0,\"ticks\":\"\"},\"colorscale\":[[0.0,\"#0d0887\"],[0.1111111111111111,\"#46039f\"],[0.2222222222222222,\"#7201a8\"],[0.3333333333333333,\"#9c179e\"],[0.4444444444444444,\"#bd3786\"],[0.5555555555555556,\"#d8576b\"],[0.6666666666666666,\"#ed7953\"],[0.7777777777777778,\"#fb9f3a\"],[0.8888888888888888,\"#fdca26\"],[1.0,\"#f0f921\"]]}],\"mesh3d\":[{\"type\":\"mesh3d\",\"colorbar\":{\"outlinewidth\":0,\"ticks\":\"\"}}],\"scatter\":[{\"fillpattern\":{\"fillmode\":\"overlay\",\"size\":10,\"solidity\":0.2},\"type\":\"scatter\"}],\"parcoords\":[{\"type\":\"parcoords\",\"line\":{\"colorbar\":{\"outlinewidth\":0,\"ticks\":\"\"}}}],\"scatterpolargl\":[{\"type\":\"scatterpolargl\",\"marker\":{\"colorbar\":{\"outlinewidth\":0,\"ticks\":\"\"}}}],\"bar\":[{\"error_x\":{\"color\":\"#2a3f5f\"},\"error_y\":{\"color\":\"#2a3f5f\"},\"marker\":{\"line\":{\"color\":\"#E5ECF6\",\"width\":0.5},\"pattern\":{\"fillmode\":\"overlay\",\"size\":10,\"solidity\":0.2}},\"type\":\"bar\"}],\"scattergeo\":[{\"type\":\"scattergeo\",\"marker\":{\"colorbar\":{\"outlinewidth\":0,\"ticks\":\"\"}}}],\"scatterpolar\":[{\"type\":\"scatterpolar\",\"marker\":{\"colorbar\":{\"outlinewidth\":0,\"ticks\":\"\"}}}],\"histogram\":[{\"marker\":{\"pattern\":{\"fillmode\":\"overlay\",\"size\":10,\"solidity\":0.2}},\"type\":\"histogram\"}],\"scattergl\":[{\"type\":\"scattergl\",\"marker\":{\"colorbar\":{\"outlinewidth\":0,\"ticks\":\"\"}}}],\"scatter3d\":[{\"type\":\"scatter3d\",\"line\":{\"colorbar\":{\"outlinewidth\":0,\"ticks\":\"\"}},\"marker\":{\"colorbar\":{\"outlinewidth\":0,\"ticks\":\"\"}}}],\"scattermapbox\":[{\"type\":\"scattermapbox\",\"marker\":{\"colorbar\":{\"outlinewidth\":0,\"ticks\":\"\"}}}],\"scatterternary\":[{\"type\":\"scatterternary\",\"marker\":{\"colorbar\":{\"outlinewidth\":0,\"ticks\":\"\"}}}],\"scattercarpet\":[{\"type\":\"scattercarpet\",\"marker\":{\"colorbar\":{\"outlinewidth\":0,\"ticks\":\"\"}}}],\"carpet\":[{\"aaxis\":{\"endlinecolor\":\"#2a3f5f\",\"gridcolor\":\"white\",\"linecolor\":\"white\",\"minorgridcolor\":\"white\",\"startlinecolor\":\"#2a3f5f\"},\"baxis\":{\"endlinecolor\":\"#2a3f5f\",\"gridcolor\":\"white\",\"linecolor\":\"white\",\"minorgridcolor\":\"white\",\"startlinecolor\":\"#2a3f5f\"},\"type\":\"carpet\"}],\"table\":[{\"cells\":{\"fill\":{\"color\":\"#EBF0F8\"},\"line\":{\"color\":\"white\"}},\"header\":{\"fill\":{\"color\":\"#C8D4E3\"},\"line\":{\"color\":\"white\"}},\"type\":\"table\"}],\"barpolar\":[{\"marker\":{\"line\":{\"color\":\"#E5ECF6\",\"width\":0.5},\"pattern\":{\"fillmode\":\"overlay\",\"size\":10,\"solidity\":0.2}},\"type\":\"barpolar\"}],\"pie\":[{\"automargin\":true,\"type\":\"pie\"}]},\"layout\":{\"autotypenumbers\":\"strict\",\"colorway\":[\"#636efa\",\"#EF553B\",\"#00cc96\",\"#ab63fa\",\"#FFA15A\",\"#19d3f3\",\"#FF6692\",\"#B6E880\",\"#FF97FF\",\"#FECB52\"],\"font\":{\"color\":\"#2a3f5f\"},\"hovermode\":\"closest\",\"hoverlabel\":{\"align\":\"left\"},\"paper_bgcolor\":\"white\",\"plot_bgcolor\":\"#E5ECF6\",\"polar\":{\"bgcolor\":\"#E5ECF6\",\"angularaxis\":{\"gridcolor\":\"white\",\"linecolor\":\"white\",\"ticks\":\"\"},\"radialaxis\":{\"gridcolor\":\"white\",\"linecolor\":\"white\",\"ticks\":\"\"}},\"ternary\":{\"bgcolor\":\"#E5ECF6\",\"aaxis\":{\"gridcolor\":\"white\",\"linecolor\":\"white\",\"ticks\":\"\"},\"baxis\":{\"gridcolor\":\"white\",\"linecolor\":\"white\",\"ticks\":\"\"},\"caxis\":{\"gridcolor\":\"white\",\"linecolor\":\"white\",\"ticks\":\"\"}},\"coloraxis\":{\"colorbar\":{\"outlinewidth\":0,\"ticks\":\"\"}},\"colorscale\":{\"sequential\":[[0.0,\"#0d0887\"],[0.1111111111111111,\"#46039f\"],[0.2222222222222222,\"#7201a8\"],[0.3333333333333333,\"#9c179e\"],[0.4444444444444444,\"#bd3786\"],[0.5555555555555556,\"#d8576b\"],[0.6666666666666666,\"#ed7953\"],[0.7777777777777778,\"#fb9f3a\"],[0.8888888888888888,\"#fdca26\"],[1.0,\"#f0f921\"]],\"sequentialminus\":[[0.0,\"#0d0887\"],[0.1111111111111111,\"#46039f\"],[0.2222222222222222,\"#7201a8\"],[0.3333333333333333,\"#9c179e\"],[0.4444444444444444,\"#bd3786\"],[0.5555555555555556,\"#d8576b\"],[0.6666666666666666,\"#ed7953\"],[0.7777777777777778,\"#fb9f3a\"],[0.8888888888888888,\"#fdca26\"],[1.0,\"#f0f921\"]],\"diverging\":[[0,\"#8e0152\"],[0.1,\"#c51b7d\"],[0.2,\"#de77ae\"],[0.3,\"#f1b6da\"],[0.4,\"#fde0ef\"],[0.5,\"#f7f7f7\"],[0.6,\"#e6f5d0\"],[0.7,\"#b8e186\"],[0.8,\"#7fbc41\"],[0.9,\"#4d9221\"],[1,\"#276419\"]]},\"xaxis\":{\"gridcolor\":\"white\",\"linecolor\":\"white\",\"ticks\":\"\",\"title\":{\"standoff\":15},\"zerolinecolor\":\"white\",\"automargin\":true,\"zerolinewidth\":2},\"yaxis\":{\"gridcolor\":\"white\",\"linecolor\":\"white\",\"ticks\":\"\",\"title\":{\"standoff\":15},\"zerolinecolor\":\"white\",\"automargin\":true,\"zerolinewidth\":2},\"scene\":{\"xaxis\":{\"backgroundcolor\":\"#E5ECF6\",\"gridcolor\":\"white\",\"linecolor\":\"white\",\"showbackground\":true,\"ticks\":\"\",\"zerolinecolor\":\"white\",\"gridwidth\":2},\"yaxis\":{\"backgroundcolor\":\"#E5ECF6\",\"gridcolor\":\"white\",\"linecolor\":\"white\",\"showbackground\":true,\"ticks\":\"\",\"zerolinecolor\":\"white\",\"gridwidth\":2},\"zaxis\":{\"backgroundcolor\":\"#E5ECF6\",\"gridcolor\":\"white\",\"linecolor\":\"white\",\"showbackground\":true,\"ticks\":\"\",\"zerolinecolor\":\"white\",\"gridwidth\":2}},\"shapedefaults\":{\"line\":{\"color\":\"#2a3f5f\"}},\"annotationdefaults\":{\"arrowcolor\":\"#2a3f5f\",\"arrowhead\":0,\"arrowwidth\":1},\"geo\":{\"bgcolor\":\"white\",\"landcolor\":\"#E5ECF6\",\"subunitcolor\":\"white\",\"showland\":true,\"showlakes\":true,\"lakecolor\":\"white\"},\"title\":{\"x\":0.05},\"mapbox\":{\"style\":\"light\"}}},\"xaxis\":{\"anchor\":\"y\",\"domain\":[0.0,1.0],\"title\":{\"text\":\"epoch\"}},\"yaxis\":{\"anchor\":\"x\",\"domain\":[0.0,1.0],\"title\":{\"text\":\"loss\"}},\"legend\":{\"title\":{\"text\":\"case\"},\"tracegroupgap\":0},\"margin\":{\"t\":60}},                        {\"responsive\": true}                    ).then(function(){\n",
       "                            \n",
       "var gd = document.getElementById('a3a876ba-bc67-447f-b9a5-2040c0c0f961');\n",
       "var x = new MutationObserver(function (mutations, observer) {{\n",
       "        var display = window.getComputedStyle(gd).display;\n",
       "        if (!display || display === 'none') {{\n",
       "            console.log([gd, 'removed!']);\n",
       "            Plotly.purge(gd);\n",
       "            observer.disconnect();\n",
       "        }}\n",
       "}});\n",
       "\n",
       "// Listen for the removal of the full notebook cells\n",
       "var notebookContainer = gd.closest('#notebook-container');\n",
       "if (notebookContainer) {{\n",
       "    x.observe(notebookContainer, {childList: true});\n",
       "}}\n",
       "\n",
       "// Listen for the clearing of the current output cell\n",
       "var outputEl = gd.closest('.output');\n",
       "if (outputEl) {{\n",
       "    x.observe(outputEl, {childList: true});\n",
       "}}\n",
       "\n",
       "                        })                };                });            </script>        </div>"
      ]
     },
     "metadata": {},
     "output_type": "display_data"
    }
   ],
   "source": [
    "x = final.sort_values('val_loss', ascending=True)['run_id'].values[0]\n",
    "subset = results[results['run_id'] == x]\n",
    "val = subset[['epoch', 'val_loss']].rename({'val_loss': 'loss'}, axis=1)\n",
    "train = subset[['epoch', 'train_loss']].rename({'train_loss': 'loss'}, axis=1)\n",
    "val['case'] = 'val'\n",
    "train['case'] = 'train'\n",
    "px.line(pd.concat([val, train]), x='epoch', y='loss', color='case')"
   ]
  },
  {
   "cell_type": "code",
   "execution_count": 36,
   "metadata": {},
   "outputs": [
    {
     "data": {
      "application/vnd.plotly.v1+json": {
       "config": {
        "plotlyServerURL": "https://plot.ly"
       },
       "data": [
        {
         "hovertemplate": "learning_rate=%{x}<br>val_loss=%{y}<extra></extra>",
         "legendgroup": "",
         "marker": {
          "color": "#636efa",
          "symbol": "circle"
         },
         "mode": "markers",
         "name": "",
         "orientation": "v",
         "showlegend": false,
         "type": "scatter",
         "x": [
          0.0005,
          0.0005,
          0.001,
          0.001,
          0.001,
          0.0005,
          0.002,
          0.002,
          0.001,
          0.0005,
          0.0005,
          0.001,
          0.002,
          0.001,
          0.002,
          0.001,
          0.002,
          0.0005,
          0.001,
          0.0005,
          0.002,
          0.0005,
          0.002,
          0.001,
          0.0005,
          0.002,
          0.001,
          0.001,
          0.002,
          0.001,
          0.001,
          0.001,
          0.001,
          0.002,
          0.001,
          0.002,
          0.0005,
          0.002,
          0.002,
          0.002,
          0.0005,
          0.0005,
          0.0005,
          0.0005,
          0.002,
          0.0005,
          0.001,
          0.002,
          0.001,
          0.002,
          0.0005,
          0.0005,
          0.002,
          0.0005
         ],
         "xaxis": "x",
         "y": [
          0.14575891196727753,
          0.14590488374233246,
          0.14612846076488495,
          0.1462264358997345,
          0.14650437235832214,
          0.14669878780841827,
          0.14670924842357635,
          0.1468139886856079,
          0.14683352410793304,
          0.14683927595615387,
          0.14684469997882843,
          0.14698998630046844,
          0.1470607966184616,
          0.14717791974544525,
          0.14728902280330658,
          0.1473868191242218,
          0.1474660336971283,
          0.14755763113498688,
          0.14765305817127228,
          0.14765575528144836,
          0.14775744080543518,
          0.14775794744491577,
          0.1477927416563034,
          0.14779794216156006,
          0.14781373739242554,
          0.14785006642341614,
          0.14792633056640625,
          0.1479312926530838,
          0.14840629696846008,
          0.14849893748760223,
          0.14850306510925293,
          0.1485409289598465,
          0.14859658479690552,
          0.1488494575023651,
          0.14885887503623962,
          0.14912866055965424,
          0.1492420881986618,
          0.1493247002363205,
          0.14935369789600372,
          0.1494320183992386,
          0.14967632293701172,
          0.1499585658311844,
          0.15039952099323273,
          0.15047131478786469,
          0.15066194534301758,
          0.15072982013225555,
          0.1508529931306839,
          0.15140098333358765,
          0.15166422724723816,
          0.1521853506565094,
          0.15245559811592102,
          0.1533188819885254,
          0.15378114581108093,
          0.15426495671272278
         ],
         "yaxis": "y"
        }
       ],
       "layout": {
        "legend": {
         "tracegroupgap": 0
        },
        "margin": {
         "t": 60
        },
        "template": {
         "data": {
          "bar": [
           {
            "error_x": {
             "color": "#2a3f5f"
            },
            "error_y": {
             "color": "#2a3f5f"
            },
            "marker": {
             "line": {
              "color": "#E5ECF6",
              "width": 0.5
             },
             "pattern": {
              "fillmode": "overlay",
              "size": 10,
              "solidity": 0.2
             }
            },
            "type": "bar"
           }
          ],
          "barpolar": [
           {
            "marker": {
             "line": {
              "color": "#E5ECF6",
              "width": 0.5
             },
             "pattern": {
              "fillmode": "overlay",
              "size": 10,
              "solidity": 0.2
             }
            },
            "type": "barpolar"
           }
          ],
          "carpet": [
           {
            "aaxis": {
             "endlinecolor": "#2a3f5f",
             "gridcolor": "white",
             "linecolor": "white",
             "minorgridcolor": "white",
             "startlinecolor": "#2a3f5f"
            },
            "baxis": {
             "endlinecolor": "#2a3f5f",
             "gridcolor": "white",
             "linecolor": "white",
             "minorgridcolor": "white",
             "startlinecolor": "#2a3f5f"
            },
            "type": "carpet"
           }
          ],
          "choropleth": [
           {
            "colorbar": {
             "outlinewidth": 0,
             "ticks": ""
            },
            "type": "choropleth"
           }
          ],
          "contour": [
           {
            "colorbar": {
             "outlinewidth": 0,
             "ticks": ""
            },
            "colorscale": [
             [
              0,
              "#0d0887"
             ],
             [
              0.1111111111111111,
              "#46039f"
             ],
             [
              0.2222222222222222,
              "#7201a8"
             ],
             [
              0.3333333333333333,
              "#9c179e"
             ],
             [
              0.4444444444444444,
              "#bd3786"
             ],
             [
              0.5555555555555556,
              "#d8576b"
             ],
             [
              0.6666666666666666,
              "#ed7953"
             ],
             [
              0.7777777777777778,
              "#fb9f3a"
             ],
             [
              0.8888888888888888,
              "#fdca26"
             ],
             [
              1,
              "#f0f921"
             ]
            ],
            "type": "contour"
           }
          ],
          "contourcarpet": [
           {
            "colorbar": {
             "outlinewidth": 0,
             "ticks": ""
            },
            "type": "contourcarpet"
           }
          ],
          "heatmap": [
           {
            "colorbar": {
             "outlinewidth": 0,
             "ticks": ""
            },
            "colorscale": [
             [
              0,
              "#0d0887"
             ],
             [
              0.1111111111111111,
              "#46039f"
             ],
             [
              0.2222222222222222,
              "#7201a8"
             ],
             [
              0.3333333333333333,
              "#9c179e"
             ],
             [
              0.4444444444444444,
              "#bd3786"
             ],
             [
              0.5555555555555556,
              "#d8576b"
             ],
             [
              0.6666666666666666,
              "#ed7953"
             ],
             [
              0.7777777777777778,
              "#fb9f3a"
             ],
             [
              0.8888888888888888,
              "#fdca26"
             ],
             [
              1,
              "#f0f921"
             ]
            ],
            "type": "heatmap"
           }
          ],
          "heatmapgl": [
           {
            "colorbar": {
             "outlinewidth": 0,
             "ticks": ""
            },
            "colorscale": [
             [
              0,
              "#0d0887"
             ],
             [
              0.1111111111111111,
              "#46039f"
             ],
             [
              0.2222222222222222,
              "#7201a8"
             ],
             [
              0.3333333333333333,
              "#9c179e"
             ],
             [
              0.4444444444444444,
              "#bd3786"
             ],
             [
              0.5555555555555556,
              "#d8576b"
             ],
             [
              0.6666666666666666,
              "#ed7953"
             ],
             [
              0.7777777777777778,
              "#fb9f3a"
             ],
             [
              0.8888888888888888,
              "#fdca26"
             ],
             [
              1,
              "#f0f921"
             ]
            ],
            "type": "heatmapgl"
           }
          ],
          "histogram": [
           {
            "marker": {
             "pattern": {
              "fillmode": "overlay",
              "size": 10,
              "solidity": 0.2
             }
            },
            "type": "histogram"
           }
          ],
          "histogram2d": [
           {
            "colorbar": {
             "outlinewidth": 0,
             "ticks": ""
            },
            "colorscale": [
             [
              0,
              "#0d0887"
             ],
             [
              0.1111111111111111,
              "#46039f"
             ],
             [
              0.2222222222222222,
              "#7201a8"
             ],
             [
              0.3333333333333333,
              "#9c179e"
             ],
             [
              0.4444444444444444,
              "#bd3786"
             ],
             [
              0.5555555555555556,
              "#d8576b"
             ],
             [
              0.6666666666666666,
              "#ed7953"
             ],
             [
              0.7777777777777778,
              "#fb9f3a"
             ],
             [
              0.8888888888888888,
              "#fdca26"
             ],
             [
              1,
              "#f0f921"
             ]
            ],
            "type": "histogram2d"
           }
          ],
          "histogram2dcontour": [
           {
            "colorbar": {
             "outlinewidth": 0,
             "ticks": ""
            },
            "colorscale": [
             [
              0,
              "#0d0887"
             ],
             [
              0.1111111111111111,
              "#46039f"
             ],
             [
              0.2222222222222222,
              "#7201a8"
             ],
             [
              0.3333333333333333,
              "#9c179e"
             ],
             [
              0.4444444444444444,
              "#bd3786"
             ],
             [
              0.5555555555555556,
              "#d8576b"
             ],
             [
              0.6666666666666666,
              "#ed7953"
             ],
             [
              0.7777777777777778,
              "#fb9f3a"
             ],
             [
              0.8888888888888888,
              "#fdca26"
             ],
             [
              1,
              "#f0f921"
             ]
            ],
            "type": "histogram2dcontour"
           }
          ],
          "mesh3d": [
           {
            "colorbar": {
             "outlinewidth": 0,
             "ticks": ""
            },
            "type": "mesh3d"
           }
          ],
          "parcoords": [
           {
            "line": {
             "colorbar": {
              "outlinewidth": 0,
              "ticks": ""
             }
            },
            "type": "parcoords"
           }
          ],
          "pie": [
           {
            "automargin": true,
            "type": "pie"
           }
          ],
          "scatter": [
           {
            "fillpattern": {
             "fillmode": "overlay",
             "size": 10,
             "solidity": 0.2
            },
            "type": "scatter"
           }
          ],
          "scatter3d": [
           {
            "line": {
             "colorbar": {
              "outlinewidth": 0,
              "ticks": ""
             }
            },
            "marker": {
             "colorbar": {
              "outlinewidth": 0,
              "ticks": ""
             }
            },
            "type": "scatter3d"
           }
          ],
          "scattercarpet": [
           {
            "marker": {
             "colorbar": {
              "outlinewidth": 0,
              "ticks": ""
             }
            },
            "type": "scattercarpet"
           }
          ],
          "scattergeo": [
           {
            "marker": {
             "colorbar": {
              "outlinewidth": 0,
              "ticks": ""
             }
            },
            "type": "scattergeo"
           }
          ],
          "scattergl": [
           {
            "marker": {
             "colorbar": {
              "outlinewidth": 0,
              "ticks": ""
             }
            },
            "type": "scattergl"
           }
          ],
          "scattermapbox": [
           {
            "marker": {
             "colorbar": {
              "outlinewidth": 0,
              "ticks": ""
             }
            },
            "type": "scattermapbox"
           }
          ],
          "scatterpolar": [
           {
            "marker": {
             "colorbar": {
              "outlinewidth": 0,
              "ticks": ""
             }
            },
            "type": "scatterpolar"
           }
          ],
          "scatterpolargl": [
           {
            "marker": {
             "colorbar": {
              "outlinewidth": 0,
              "ticks": ""
             }
            },
            "type": "scatterpolargl"
           }
          ],
          "scatterternary": [
           {
            "marker": {
             "colorbar": {
              "outlinewidth": 0,
              "ticks": ""
             }
            },
            "type": "scatterternary"
           }
          ],
          "surface": [
           {
            "colorbar": {
             "outlinewidth": 0,
             "ticks": ""
            },
            "colorscale": [
             [
              0,
              "#0d0887"
             ],
             [
              0.1111111111111111,
              "#46039f"
             ],
             [
              0.2222222222222222,
              "#7201a8"
             ],
             [
              0.3333333333333333,
              "#9c179e"
             ],
             [
              0.4444444444444444,
              "#bd3786"
             ],
             [
              0.5555555555555556,
              "#d8576b"
             ],
             [
              0.6666666666666666,
              "#ed7953"
             ],
             [
              0.7777777777777778,
              "#fb9f3a"
             ],
             [
              0.8888888888888888,
              "#fdca26"
             ],
             [
              1,
              "#f0f921"
             ]
            ],
            "type": "surface"
           }
          ],
          "table": [
           {
            "cells": {
             "fill": {
              "color": "#EBF0F8"
             },
             "line": {
              "color": "white"
             }
            },
            "header": {
             "fill": {
              "color": "#C8D4E3"
             },
             "line": {
              "color": "white"
             }
            },
            "type": "table"
           }
          ]
         },
         "layout": {
          "annotationdefaults": {
           "arrowcolor": "#2a3f5f",
           "arrowhead": 0,
           "arrowwidth": 1
          },
          "autotypenumbers": "strict",
          "coloraxis": {
           "colorbar": {
            "outlinewidth": 0,
            "ticks": ""
           }
          },
          "colorscale": {
           "diverging": [
            [
             0,
             "#8e0152"
            ],
            [
             0.1,
             "#c51b7d"
            ],
            [
             0.2,
             "#de77ae"
            ],
            [
             0.3,
             "#f1b6da"
            ],
            [
             0.4,
             "#fde0ef"
            ],
            [
             0.5,
             "#f7f7f7"
            ],
            [
             0.6,
             "#e6f5d0"
            ],
            [
             0.7,
             "#b8e186"
            ],
            [
             0.8,
             "#7fbc41"
            ],
            [
             0.9,
             "#4d9221"
            ],
            [
             1,
             "#276419"
            ]
           ],
           "sequential": [
            [
             0,
             "#0d0887"
            ],
            [
             0.1111111111111111,
             "#46039f"
            ],
            [
             0.2222222222222222,
             "#7201a8"
            ],
            [
             0.3333333333333333,
             "#9c179e"
            ],
            [
             0.4444444444444444,
             "#bd3786"
            ],
            [
             0.5555555555555556,
             "#d8576b"
            ],
            [
             0.6666666666666666,
             "#ed7953"
            ],
            [
             0.7777777777777778,
             "#fb9f3a"
            ],
            [
             0.8888888888888888,
             "#fdca26"
            ],
            [
             1,
             "#f0f921"
            ]
           ],
           "sequentialminus": [
            [
             0,
             "#0d0887"
            ],
            [
             0.1111111111111111,
             "#46039f"
            ],
            [
             0.2222222222222222,
             "#7201a8"
            ],
            [
             0.3333333333333333,
             "#9c179e"
            ],
            [
             0.4444444444444444,
             "#bd3786"
            ],
            [
             0.5555555555555556,
             "#d8576b"
            ],
            [
             0.6666666666666666,
             "#ed7953"
            ],
            [
             0.7777777777777778,
             "#fb9f3a"
            ],
            [
             0.8888888888888888,
             "#fdca26"
            ],
            [
             1,
             "#f0f921"
            ]
           ]
          },
          "colorway": [
           "#636efa",
           "#EF553B",
           "#00cc96",
           "#ab63fa",
           "#FFA15A",
           "#19d3f3",
           "#FF6692",
           "#B6E880",
           "#FF97FF",
           "#FECB52"
          ],
          "font": {
           "color": "#2a3f5f"
          },
          "geo": {
           "bgcolor": "white",
           "lakecolor": "white",
           "landcolor": "#E5ECF6",
           "showlakes": true,
           "showland": true,
           "subunitcolor": "white"
          },
          "hoverlabel": {
           "align": "left"
          },
          "hovermode": "closest",
          "mapbox": {
           "style": "light"
          },
          "paper_bgcolor": "white",
          "plot_bgcolor": "#E5ECF6",
          "polar": {
           "angularaxis": {
            "gridcolor": "white",
            "linecolor": "white",
            "ticks": ""
           },
           "bgcolor": "#E5ECF6",
           "radialaxis": {
            "gridcolor": "white",
            "linecolor": "white",
            "ticks": ""
           }
          },
          "scene": {
           "xaxis": {
            "backgroundcolor": "#E5ECF6",
            "gridcolor": "white",
            "gridwidth": 2,
            "linecolor": "white",
            "showbackground": true,
            "ticks": "",
            "zerolinecolor": "white"
           },
           "yaxis": {
            "backgroundcolor": "#E5ECF6",
            "gridcolor": "white",
            "gridwidth": 2,
            "linecolor": "white",
            "showbackground": true,
            "ticks": "",
            "zerolinecolor": "white"
           },
           "zaxis": {
            "backgroundcolor": "#E5ECF6",
            "gridcolor": "white",
            "gridwidth": 2,
            "linecolor": "white",
            "showbackground": true,
            "ticks": "",
            "zerolinecolor": "white"
           }
          },
          "shapedefaults": {
           "line": {
            "color": "#2a3f5f"
           }
          },
          "ternary": {
           "aaxis": {
            "gridcolor": "white",
            "linecolor": "white",
            "ticks": ""
           },
           "baxis": {
            "gridcolor": "white",
            "linecolor": "white",
            "ticks": ""
           },
           "bgcolor": "#E5ECF6",
           "caxis": {
            "gridcolor": "white",
            "linecolor": "white",
            "ticks": ""
           }
          },
          "title": {
           "x": 0.05
          },
          "xaxis": {
           "automargin": true,
           "gridcolor": "white",
           "linecolor": "white",
           "ticks": "",
           "title": {
            "standoff": 15
           },
           "zerolinecolor": "white",
           "zerolinewidth": 2
          },
          "yaxis": {
           "automargin": true,
           "gridcolor": "white",
           "linecolor": "white",
           "ticks": "",
           "title": {
            "standoff": 15
           },
           "zerolinecolor": "white",
           "zerolinewidth": 2
          }
         }
        },
        "xaxis": {
         "anchor": "y",
         "domain": [
          0,
          1
         ],
         "title": {
          "text": "learning_rate"
         }
        },
        "yaxis": {
         "anchor": "x",
         "domain": [
          0,
          1
         ],
         "title": {
          "text": "val_loss"
         }
        }
       }
      },
      "text/html": [
       "<div>                            <div id=\"5c5a8c61-b930-407a-af21-8eb5f49bf8dc\" class=\"plotly-graph-div\" style=\"height:525px; width:100%;\"></div>            <script type=\"text/javascript\">                require([\"plotly\"], function(Plotly) {                    window.PLOTLYENV=window.PLOTLYENV || {};                                    if (document.getElementById(\"5c5a8c61-b930-407a-af21-8eb5f49bf8dc\")) {                    Plotly.newPlot(                        \"5c5a8c61-b930-407a-af21-8eb5f49bf8dc\",                        [{\"hovertemplate\":\"learning_rate=%{x}\\u003cbr\\u003eval_loss=%{y}\\u003cextra\\u003e\\u003c\\u002fextra\\u003e\",\"legendgroup\":\"\",\"marker\":{\"color\":\"#636efa\",\"symbol\":\"circle\"},\"mode\":\"markers\",\"name\":\"\",\"orientation\":\"v\",\"showlegend\":false,\"x\":[0.0005,0.0005,0.001,0.001,0.001,0.0005,0.002,0.002,0.001,0.0005,0.0005,0.001,0.002,0.001,0.002,0.001,0.002,0.0005,0.001,0.0005,0.002,0.0005,0.002,0.001,0.0005,0.002,0.001,0.001,0.002,0.001,0.001,0.001,0.001,0.002,0.001,0.002,0.0005,0.002,0.002,0.002,0.0005,0.0005,0.0005,0.0005,0.002,0.0005,0.001,0.002,0.001,0.002,0.0005,0.0005,0.002,0.0005],\"xaxis\":\"x\",\"y\":[0.14575891196727753,0.14590488374233246,0.14612846076488495,0.1462264358997345,0.14650437235832214,0.14669878780841827,0.14670924842357635,0.1468139886856079,0.14683352410793304,0.14683927595615387,0.14684469997882843,0.14698998630046844,0.1470607966184616,0.14717791974544525,0.14728902280330658,0.1473868191242218,0.1474660336971283,0.14755763113498688,0.14765305817127228,0.14765575528144836,0.14775744080543518,0.14775794744491577,0.1477927416563034,0.14779794216156006,0.14781373739242554,0.14785006642341614,0.14792633056640625,0.1479312926530838,0.14840629696846008,0.14849893748760223,0.14850306510925293,0.1485409289598465,0.14859658479690552,0.1488494575023651,0.14885887503623962,0.14912866055965424,0.1492420881986618,0.1493247002363205,0.14935369789600372,0.1494320183992386,0.14967632293701172,0.1499585658311844,0.15039952099323273,0.15047131478786469,0.15066194534301758,0.15072982013225555,0.1508529931306839,0.15140098333358765,0.15166422724723816,0.1521853506565094,0.15245559811592102,0.1533188819885254,0.15378114581108093,0.15426495671272278],\"yaxis\":\"y\",\"type\":\"scatter\"}],                        {\"template\":{\"data\":{\"histogram2dcontour\":[{\"type\":\"histogram2dcontour\",\"colorbar\":{\"outlinewidth\":0,\"ticks\":\"\"},\"colorscale\":[[0.0,\"#0d0887\"],[0.1111111111111111,\"#46039f\"],[0.2222222222222222,\"#7201a8\"],[0.3333333333333333,\"#9c179e\"],[0.4444444444444444,\"#bd3786\"],[0.5555555555555556,\"#d8576b\"],[0.6666666666666666,\"#ed7953\"],[0.7777777777777778,\"#fb9f3a\"],[0.8888888888888888,\"#fdca26\"],[1.0,\"#f0f921\"]]}],\"choropleth\":[{\"type\":\"choropleth\",\"colorbar\":{\"outlinewidth\":0,\"ticks\":\"\"}}],\"histogram2d\":[{\"type\":\"histogram2d\",\"colorbar\":{\"outlinewidth\":0,\"ticks\":\"\"},\"colorscale\":[[0.0,\"#0d0887\"],[0.1111111111111111,\"#46039f\"],[0.2222222222222222,\"#7201a8\"],[0.3333333333333333,\"#9c179e\"],[0.4444444444444444,\"#bd3786\"],[0.5555555555555556,\"#d8576b\"],[0.6666666666666666,\"#ed7953\"],[0.7777777777777778,\"#fb9f3a\"],[0.8888888888888888,\"#fdca26\"],[1.0,\"#f0f921\"]]}],\"heatmap\":[{\"type\":\"heatmap\",\"colorbar\":{\"outlinewidth\":0,\"ticks\":\"\"},\"colorscale\":[[0.0,\"#0d0887\"],[0.1111111111111111,\"#46039f\"],[0.2222222222222222,\"#7201a8\"],[0.3333333333333333,\"#9c179e\"],[0.4444444444444444,\"#bd3786\"],[0.5555555555555556,\"#d8576b\"],[0.6666666666666666,\"#ed7953\"],[0.7777777777777778,\"#fb9f3a\"],[0.8888888888888888,\"#fdca26\"],[1.0,\"#f0f921\"]]}],\"heatmapgl\":[{\"type\":\"heatmapgl\",\"colorbar\":{\"outlinewidth\":0,\"ticks\":\"\"},\"colorscale\":[[0.0,\"#0d0887\"],[0.1111111111111111,\"#46039f\"],[0.2222222222222222,\"#7201a8\"],[0.3333333333333333,\"#9c179e\"],[0.4444444444444444,\"#bd3786\"],[0.5555555555555556,\"#d8576b\"],[0.6666666666666666,\"#ed7953\"],[0.7777777777777778,\"#fb9f3a\"],[0.8888888888888888,\"#fdca26\"],[1.0,\"#f0f921\"]]}],\"contourcarpet\":[{\"type\":\"contourcarpet\",\"colorbar\":{\"outlinewidth\":0,\"ticks\":\"\"}}],\"contour\":[{\"type\":\"contour\",\"colorbar\":{\"outlinewidth\":0,\"ticks\":\"\"},\"colorscale\":[[0.0,\"#0d0887\"],[0.1111111111111111,\"#46039f\"],[0.2222222222222222,\"#7201a8\"],[0.3333333333333333,\"#9c179e\"],[0.4444444444444444,\"#bd3786\"],[0.5555555555555556,\"#d8576b\"],[0.6666666666666666,\"#ed7953\"],[0.7777777777777778,\"#fb9f3a\"],[0.8888888888888888,\"#fdca26\"],[1.0,\"#f0f921\"]]}],\"surface\":[{\"type\":\"surface\",\"colorbar\":{\"outlinewidth\":0,\"ticks\":\"\"},\"colorscale\":[[0.0,\"#0d0887\"],[0.1111111111111111,\"#46039f\"],[0.2222222222222222,\"#7201a8\"],[0.3333333333333333,\"#9c179e\"],[0.4444444444444444,\"#bd3786\"],[0.5555555555555556,\"#d8576b\"],[0.6666666666666666,\"#ed7953\"],[0.7777777777777778,\"#fb9f3a\"],[0.8888888888888888,\"#fdca26\"],[1.0,\"#f0f921\"]]}],\"mesh3d\":[{\"type\":\"mesh3d\",\"colorbar\":{\"outlinewidth\":0,\"ticks\":\"\"}}],\"scatter\":[{\"fillpattern\":{\"fillmode\":\"overlay\",\"size\":10,\"solidity\":0.2},\"type\":\"scatter\"}],\"parcoords\":[{\"type\":\"parcoords\",\"line\":{\"colorbar\":{\"outlinewidth\":0,\"ticks\":\"\"}}}],\"scatterpolargl\":[{\"type\":\"scatterpolargl\",\"marker\":{\"colorbar\":{\"outlinewidth\":0,\"ticks\":\"\"}}}],\"bar\":[{\"error_x\":{\"color\":\"#2a3f5f\"},\"error_y\":{\"color\":\"#2a3f5f\"},\"marker\":{\"line\":{\"color\":\"#E5ECF6\",\"width\":0.5},\"pattern\":{\"fillmode\":\"overlay\",\"size\":10,\"solidity\":0.2}},\"type\":\"bar\"}],\"scattergeo\":[{\"type\":\"scattergeo\",\"marker\":{\"colorbar\":{\"outlinewidth\":0,\"ticks\":\"\"}}}],\"scatterpolar\":[{\"type\":\"scatterpolar\",\"marker\":{\"colorbar\":{\"outlinewidth\":0,\"ticks\":\"\"}}}],\"histogram\":[{\"marker\":{\"pattern\":{\"fillmode\":\"overlay\",\"size\":10,\"solidity\":0.2}},\"type\":\"histogram\"}],\"scattergl\":[{\"type\":\"scattergl\",\"marker\":{\"colorbar\":{\"outlinewidth\":0,\"ticks\":\"\"}}}],\"scatter3d\":[{\"type\":\"scatter3d\",\"line\":{\"colorbar\":{\"outlinewidth\":0,\"ticks\":\"\"}},\"marker\":{\"colorbar\":{\"outlinewidth\":0,\"ticks\":\"\"}}}],\"scattermapbox\":[{\"type\":\"scattermapbox\",\"marker\":{\"colorbar\":{\"outlinewidth\":0,\"ticks\":\"\"}}}],\"scatterternary\":[{\"type\":\"scatterternary\",\"marker\":{\"colorbar\":{\"outlinewidth\":0,\"ticks\":\"\"}}}],\"scattercarpet\":[{\"type\":\"scattercarpet\",\"marker\":{\"colorbar\":{\"outlinewidth\":0,\"ticks\":\"\"}}}],\"carpet\":[{\"aaxis\":{\"endlinecolor\":\"#2a3f5f\",\"gridcolor\":\"white\",\"linecolor\":\"white\",\"minorgridcolor\":\"white\",\"startlinecolor\":\"#2a3f5f\"},\"baxis\":{\"endlinecolor\":\"#2a3f5f\",\"gridcolor\":\"white\",\"linecolor\":\"white\",\"minorgridcolor\":\"white\",\"startlinecolor\":\"#2a3f5f\"},\"type\":\"carpet\"}],\"table\":[{\"cells\":{\"fill\":{\"color\":\"#EBF0F8\"},\"line\":{\"color\":\"white\"}},\"header\":{\"fill\":{\"color\":\"#C8D4E3\"},\"line\":{\"color\":\"white\"}},\"type\":\"table\"}],\"barpolar\":[{\"marker\":{\"line\":{\"color\":\"#E5ECF6\",\"width\":0.5},\"pattern\":{\"fillmode\":\"overlay\",\"size\":10,\"solidity\":0.2}},\"type\":\"barpolar\"}],\"pie\":[{\"automargin\":true,\"type\":\"pie\"}]},\"layout\":{\"autotypenumbers\":\"strict\",\"colorway\":[\"#636efa\",\"#EF553B\",\"#00cc96\",\"#ab63fa\",\"#FFA15A\",\"#19d3f3\",\"#FF6692\",\"#B6E880\",\"#FF97FF\",\"#FECB52\"],\"font\":{\"color\":\"#2a3f5f\"},\"hovermode\":\"closest\",\"hoverlabel\":{\"align\":\"left\"},\"paper_bgcolor\":\"white\",\"plot_bgcolor\":\"#E5ECF6\",\"polar\":{\"bgcolor\":\"#E5ECF6\",\"angularaxis\":{\"gridcolor\":\"white\",\"linecolor\":\"white\",\"ticks\":\"\"},\"radialaxis\":{\"gridcolor\":\"white\",\"linecolor\":\"white\",\"ticks\":\"\"}},\"ternary\":{\"bgcolor\":\"#E5ECF6\",\"aaxis\":{\"gridcolor\":\"white\",\"linecolor\":\"white\",\"ticks\":\"\"},\"baxis\":{\"gridcolor\":\"white\",\"linecolor\":\"white\",\"ticks\":\"\"},\"caxis\":{\"gridcolor\":\"white\",\"linecolor\":\"white\",\"ticks\":\"\"}},\"coloraxis\":{\"colorbar\":{\"outlinewidth\":0,\"ticks\":\"\"}},\"colorscale\":{\"sequential\":[[0.0,\"#0d0887\"],[0.1111111111111111,\"#46039f\"],[0.2222222222222222,\"#7201a8\"],[0.3333333333333333,\"#9c179e\"],[0.4444444444444444,\"#bd3786\"],[0.5555555555555556,\"#d8576b\"],[0.6666666666666666,\"#ed7953\"],[0.7777777777777778,\"#fb9f3a\"],[0.8888888888888888,\"#fdca26\"],[1.0,\"#f0f921\"]],\"sequentialminus\":[[0.0,\"#0d0887\"],[0.1111111111111111,\"#46039f\"],[0.2222222222222222,\"#7201a8\"],[0.3333333333333333,\"#9c179e\"],[0.4444444444444444,\"#bd3786\"],[0.5555555555555556,\"#d8576b\"],[0.6666666666666666,\"#ed7953\"],[0.7777777777777778,\"#fb9f3a\"],[0.8888888888888888,\"#fdca26\"],[1.0,\"#f0f921\"]],\"diverging\":[[0,\"#8e0152\"],[0.1,\"#c51b7d\"],[0.2,\"#de77ae\"],[0.3,\"#f1b6da\"],[0.4,\"#fde0ef\"],[0.5,\"#f7f7f7\"],[0.6,\"#e6f5d0\"],[0.7,\"#b8e186\"],[0.8,\"#7fbc41\"],[0.9,\"#4d9221\"],[1,\"#276419\"]]},\"xaxis\":{\"gridcolor\":\"white\",\"linecolor\":\"white\",\"ticks\":\"\",\"title\":{\"standoff\":15},\"zerolinecolor\":\"white\",\"automargin\":true,\"zerolinewidth\":2},\"yaxis\":{\"gridcolor\":\"white\",\"linecolor\":\"white\",\"ticks\":\"\",\"title\":{\"standoff\":15},\"zerolinecolor\":\"white\",\"automargin\":true,\"zerolinewidth\":2},\"scene\":{\"xaxis\":{\"backgroundcolor\":\"#E5ECF6\",\"gridcolor\":\"white\",\"linecolor\":\"white\",\"showbackground\":true,\"ticks\":\"\",\"zerolinecolor\":\"white\",\"gridwidth\":2},\"yaxis\":{\"backgroundcolor\":\"#E5ECF6\",\"gridcolor\":\"white\",\"linecolor\":\"white\",\"showbackground\":true,\"ticks\":\"\",\"zerolinecolor\":\"white\",\"gridwidth\":2},\"zaxis\":{\"backgroundcolor\":\"#E5ECF6\",\"gridcolor\":\"white\",\"linecolor\":\"white\",\"showbackground\":true,\"ticks\":\"\",\"zerolinecolor\":\"white\",\"gridwidth\":2}},\"shapedefaults\":{\"line\":{\"color\":\"#2a3f5f\"}},\"annotationdefaults\":{\"arrowcolor\":\"#2a3f5f\",\"arrowhead\":0,\"arrowwidth\":1},\"geo\":{\"bgcolor\":\"white\",\"landcolor\":\"#E5ECF6\",\"subunitcolor\":\"white\",\"showland\":true,\"showlakes\":true,\"lakecolor\":\"white\"},\"title\":{\"x\":0.05},\"mapbox\":{\"style\":\"light\"}}},\"xaxis\":{\"anchor\":\"y\",\"domain\":[0.0,1.0],\"title\":{\"text\":\"learning_rate\"}},\"yaxis\":{\"anchor\":\"x\",\"domain\":[0.0,1.0],\"title\":{\"text\":\"val_loss\"}},\"legend\":{\"tracegroupgap\":0},\"margin\":{\"t\":60}},                        {\"responsive\": true}                    ).then(function(){\n",
       "                            \n",
       "var gd = document.getElementById('5c5a8c61-b930-407a-af21-8eb5f49bf8dc');\n",
       "var x = new MutationObserver(function (mutations, observer) {{\n",
       "        var display = window.getComputedStyle(gd).display;\n",
       "        if (!display || display === 'none') {{\n",
       "            console.log([gd, 'removed!']);\n",
       "            Plotly.purge(gd);\n",
       "            observer.disconnect();\n",
       "        }}\n",
       "}});\n",
       "\n",
       "// Listen for the removal of the full notebook cells\n",
       "var notebookContainer = gd.closest('#notebook-container');\n",
       "if (notebookContainer) {{\n",
       "    x.observe(notebookContainer, {childList: true});\n",
       "}}\n",
       "\n",
       "// Listen for the clearing of the current output cell\n",
       "var outputEl = gd.closest('.output');\n",
       "if (outputEl) {{\n",
       "    x.observe(outputEl, {childList: true});\n",
       "}}\n",
       "\n",
       "                        })                };                });            </script>        </div>"
      ]
     },
     "metadata": {},
     "output_type": "display_data"
    }
   ],
   "source": [
    "px.scatter(final, x='learning_rate', y='val_loss')"
   ]
  },
  {
   "cell_type": "code",
   "execution_count": 21,
   "metadata": {},
   "outputs": [
    {
     "data": {
      "text/html": [
       "<div>\n",
       "<style scoped>\n",
       "    .dataframe tbody tr th:only-of-type {\n",
       "        vertical-align: middle;\n",
       "    }\n",
       "\n",
       "    .dataframe tbody tr th {\n",
       "        vertical-align: top;\n",
       "    }\n",
       "\n",
       "    .dataframe thead th {\n",
       "        text-align: right;\n",
       "    }\n",
       "</style>\n",
       "<table border=\"1\" class=\"dataframe\">\n",
       "  <thead>\n",
       "    <tr style=\"text-align: right;\">\n",
       "      <th></th>\n",
       "      <th>val_loss</th>\n",
       "      <th>neurons</th>\n",
       "      <th>num_layers</th>\n",
       "    </tr>\n",
       "    <tr>\n",
       "      <th>run_id</th>\n",
       "      <th></th>\n",
       "      <th></th>\n",
       "      <th></th>\n",
       "    </tr>\n",
       "  </thead>\n",
       "  <tbody>\n",
       "    <tr>\n",
       "      <th>df367dfbf91812f56661b8bbd7baeafd736a7eb34532d57882105296530d0bda</th>\n",
       "      <td>0.145759</td>\n",
       "      <td>24</td>\n",
       "      <td>3</td>\n",
       "    </tr>\n",
       "    <tr>\n",
       "      <th>893d6e332bf40e4248340cb63f59c4aeaf2959c2efa711c0289f7d889761aaba</th>\n",
       "      <td>0.145801</td>\n",
       "      <td>24</td>\n",
       "      <td>4</td>\n",
       "    </tr>\n",
       "    <tr>\n",
       "      <th>f64f30f7229e8ce0585f42b2dd819143b83ce84b022b2ff99e4469af6820c695</th>\n",
       "      <td>0.146128</td>\n",
       "      <td>32</td>\n",
       "      <td>2</td>\n",
       "    </tr>\n",
       "    <tr>\n",
       "      <th>f53cf9f2e88d5eb323a3c5588cf4f9e9283c2f78fb0b45da13e1eff463718042</th>\n",
       "      <td>0.146212</td>\n",
       "      <td>24</td>\n",
       "      <td>4</td>\n",
       "    </tr>\n",
       "    <tr>\n",
       "      <th>dba93e11aa2c03f2d1fd48e215da9f354c665d2c0ecd8df06f63142388b8250a</th>\n",
       "      <td>0.146226</td>\n",
       "      <td>16</td>\n",
       "      <td>3</td>\n",
       "    </tr>\n",
       "    <tr>\n",
       "      <th>2b70b971566e8cfc934fd9ef2ca15b25a84e446fad4151f953cac948b6a6d14b</th>\n",
       "      <td>0.146297</td>\n",
       "      <td>32</td>\n",
       "      <td>3</td>\n",
       "    </tr>\n",
       "    <tr>\n",
       "      <th>0860e23fc2410790a51395ea76e9207c3f3c4c2f1d5c65aac8e6f294d3f81433</th>\n",
       "      <td>0.146473</td>\n",
       "      <td>24</td>\n",
       "      <td>3</td>\n",
       "    </tr>\n",
       "    <tr>\n",
       "      <th>d4d280ab098e1c1ab8df05de9c8766a0c86b15813b409cf16889e4b3e15ddba5</th>\n",
       "      <td>0.146585</td>\n",
       "      <td>16</td>\n",
       "      <td>2</td>\n",
       "    </tr>\n",
       "    <tr>\n",
       "      <th>20c46e4f8826d62d4aa4fb8678d07bf41defddb798fad61ce49a8fad7e801dbc</th>\n",
       "      <td>0.146601</td>\n",
       "      <td>32</td>\n",
       "      <td>2</td>\n",
       "    </tr>\n",
       "    <tr>\n",
       "      <th>c98bb56a7d5c4ce058e26c97889da98188b2551a65afe407371388cd3c5fd166</th>\n",
       "      <td>0.146674</td>\n",
       "      <td>32</td>\n",
       "      <td>4</td>\n",
       "    </tr>\n",
       "    <tr>\n",
       "      <th>e9c35a9537d77bf7eab1eb128a8dbbc1a8d8f0a0a24314434038dd6aa16a5098</th>\n",
       "      <td>0.146699</td>\n",
       "      <td>32</td>\n",
       "      <td>4</td>\n",
       "    </tr>\n",
       "    <tr>\n",
       "      <th>432a7fb4664c2db73e9bc5ee4c4f93cb7a271e595d3605c48583f94a27f0d99c</th>\n",
       "      <td>0.146724</td>\n",
       "      <td>16</td>\n",
       "      <td>3</td>\n",
       "    </tr>\n",
       "    <tr>\n",
       "      <th>f32a5d0d7a9ce7f1077de942af447b3c56e8336f77e7e73a8e4b59af962fb794</th>\n",
       "      <td>0.146839</td>\n",
       "      <td>32</td>\n",
       "      <td>3</td>\n",
       "    </tr>\n",
       "    <tr>\n",
       "      <th>cd007960b52081a2670b1928ddbae3eeb380d17804af18f0910e69897e645856</th>\n",
       "      <td>0.146839</td>\n",
       "      <td>24</td>\n",
       "      <td>3</td>\n",
       "    </tr>\n",
       "    <tr>\n",
       "      <th>a878cfee09b4f9bfdfc9a3680931e2ea2aad281d1a624c8f58f7ad08b11d45b3</th>\n",
       "      <td>0.146845</td>\n",
       "      <td>32</td>\n",
       "      <td>4</td>\n",
       "    </tr>\n",
       "    <tr>\n",
       "      <th>dbff8884b0cbe376b0d5cb7971224747f4b412c6e4b7ea80a23380e84b86a843</th>\n",
       "      <td>0.146846</td>\n",
       "      <td>24</td>\n",
       "      <td>3</td>\n",
       "    </tr>\n",
       "    <tr>\n",
       "      <th>a3b176fe6d9f9bc984a62cc433f2bc0dd759209f670237b526d118f390e30c00</th>\n",
       "      <td>0.146948</td>\n",
       "      <td>32</td>\n",
       "      <td>4</td>\n",
       "    </tr>\n",
       "    <tr>\n",
       "      <th>9df5a1128fbda864335b57035b6e38e29189bc98b743bdc2be838dc345c564b9</th>\n",
       "      <td>0.146990</td>\n",
       "      <td>16</td>\n",
       "      <td>3</td>\n",
       "    </tr>\n",
       "    <tr>\n",
       "      <th>fd1626d914435a87a1168b29e3019369d52458816351a922984933a05acc6e20</th>\n",
       "      <td>0.147133</td>\n",
       "      <td>16</td>\n",
       "      <td>4</td>\n",
       "    </tr>\n",
       "    <tr>\n",
       "      <th>10f0f1b2d781ce679cf85020b529d44cfd70521e14aa0c07e17cdd5537df4fc0</th>\n",
       "      <td>0.147228</td>\n",
       "      <td>32</td>\n",
       "      <td>4</td>\n",
       "    </tr>\n",
       "    <tr>\n",
       "      <th>2407f20a346fbe10bea06811d44013d06162193940a130d5ef6619c69142bac4</th>\n",
       "      <td>0.147335</td>\n",
       "      <td>24</td>\n",
       "      <td>2</td>\n",
       "    </tr>\n",
       "    <tr>\n",
       "      <th>fa8533d76d43613932413b9c61b6fe040d8ee400eab7e899da93624db9cb6f20</th>\n",
       "      <td>0.147369</td>\n",
       "      <td>32</td>\n",
       "      <td>2</td>\n",
       "    </tr>\n",
       "    <tr>\n",
       "      <th>7c4027778a9bbc09063e04687d1d82dff535bf58d7a4dfac254381d602d67302</th>\n",
       "      <td>0.147387</td>\n",
       "      <td>32</td>\n",
       "      <td>3</td>\n",
       "    </tr>\n",
       "    <tr>\n",
       "      <th>79096389985691f9dc17b8ed461e56cf19bd68d59e0e728570649f9f77c63366</th>\n",
       "      <td>0.147470</td>\n",
       "      <td>32</td>\n",
       "      <td>4</td>\n",
       "    </tr>\n",
       "    <tr>\n",
       "      <th>69c4aecc14a93c605c0fa9a6b03b99654979d21f4a8742b5af685965ee5015c9</th>\n",
       "      <td>0.147543</td>\n",
       "      <td>24</td>\n",
       "      <td>4</td>\n",
       "    </tr>\n",
       "    <tr>\n",
       "      <th>ed0c483f780af1c908d3f1ed812f9015eefd39036872b5235e545ea1d747be40</th>\n",
       "      <td>0.147558</td>\n",
       "      <td>24</td>\n",
       "      <td>3</td>\n",
       "    </tr>\n",
       "    <tr>\n",
       "      <th>1392dd1baeb9c39029026cc0c988b0cd689169b6c62c9a4b1191d57799d6e5dd</th>\n",
       "      <td>0.147653</td>\n",
       "      <td>24</td>\n",
       "      <td>2</td>\n",
       "    </tr>\n",
       "    <tr>\n",
       "      <th>31a352700b7c0d030e034be35831909cdd7c3854275d043c319ddf730b149521</th>\n",
       "      <td>0.147656</td>\n",
       "      <td>16</td>\n",
       "      <td>4</td>\n",
       "    </tr>\n",
       "    <tr>\n",
       "      <th>59552ddf6c871c3d1381d5a646d27b0c076afd3f52f3e10467dcc1d2a58b7718</th>\n",
       "      <td>0.147666</td>\n",
       "      <td>16</td>\n",
       "      <td>4</td>\n",
       "    </tr>\n",
       "    <tr>\n",
       "      <th>fff4277fce45e0a012f734210ad3dea0aeede5ed7c6c8a04cd464792c4f9dcb8</th>\n",
       "      <td>0.147709</td>\n",
       "      <td>24</td>\n",
       "      <td>4</td>\n",
       "    </tr>\n",
       "    <tr>\n",
       "      <th>7ab519b10a44fd2408eb03300a49a2819334c0b2287c3a2cb68693f4c59ef22e</th>\n",
       "      <td>0.147758</td>\n",
       "      <td>16</td>\n",
       "      <td>3</td>\n",
       "    </tr>\n",
       "    <tr>\n",
       "      <th>c4235a0fea34324059105cfd2fd74ee3d21613c139c0ff41b9e64e8e082c144b</th>\n",
       "      <td>0.147784</td>\n",
       "      <td>32</td>\n",
       "      <td>3</td>\n",
       "    </tr>\n",
       "    <tr>\n",
       "      <th>7a9a97125b9240e79065850c2591ec1840324bd58ea4319d6efac6eddfebfb0a</th>\n",
       "      <td>0.147785</td>\n",
       "      <td>24</td>\n",
       "      <td>2</td>\n",
       "    </tr>\n",
       "    <tr>\n",
       "      <th>c34e72608a47a7649514c2f5f542b21dd20e39a3986142f9a26714b8afa4f996</th>\n",
       "      <td>0.147798</td>\n",
       "      <td>32</td>\n",
       "      <td>2</td>\n",
       "    </tr>\n",
       "    <tr>\n",
       "      <th>418caef3278e872ccd45ca6ebe14bb303105704dc02b41f4d732cf0ff42feb6e</th>\n",
       "      <td>0.147959</td>\n",
       "      <td>16</td>\n",
       "      <td>4</td>\n",
       "    </tr>\n",
       "    <tr>\n",
       "      <th>37ade5fd88900948163301ffe039782a7de48f45551c47c6be06998577911dbc</th>\n",
       "      <td>0.148015</td>\n",
       "      <td>24</td>\n",
       "      <td>4</td>\n",
       "    </tr>\n",
       "    <tr>\n",
       "      <th>cf4847226f22d6d23dfa7e8136ee334667ea96edba72a019f04afacee757a734</th>\n",
       "      <td>0.148499</td>\n",
       "      <td>16</td>\n",
       "      <td>4</td>\n",
       "    </tr>\n",
       "    <tr>\n",
       "      <th>d7ac0beabfda56630f04adb5f27ab3972ba45a0f1d3af59ac2624f67757058bb</th>\n",
       "      <td>0.148541</td>\n",
       "      <td>24</td>\n",
       "      <td>3</td>\n",
       "    </tr>\n",
       "    <tr>\n",
       "      <th>8e887d834c4c9e76c07dc730c2fcf78829871c2d238a926b035756b517e58b62</th>\n",
       "      <td>0.148655</td>\n",
       "      <td>16</td>\n",
       "      <td>2</td>\n",
       "    </tr>\n",
       "    <tr>\n",
       "      <th>5f606ba2fcaee7260cb4089aee8da07d12717d65e4e8c84046604c45ae31d8e5</th>\n",
       "      <td>0.148712</td>\n",
       "      <td>32</td>\n",
       "      <td>3</td>\n",
       "    </tr>\n",
       "    <tr>\n",
       "      <th>0d64ae50d2789e997bd7906351c59207a619edd9a6c17d261a738c9a65fcffc2</th>\n",
       "      <td>0.148771</td>\n",
       "      <td>16</td>\n",
       "      <td>3</td>\n",
       "    </tr>\n",
       "    <tr>\n",
       "      <th>ebccb3a9746a7d4c46dc8d6624d3e9de55d02dab4f0df29f55301545cdd58f4d</th>\n",
       "      <td>0.148772</td>\n",
       "      <td>24</td>\n",
       "      <td>4</td>\n",
       "    </tr>\n",
       "    <tr>\n",
       "      <th>c3b186d21e4bd68a381fa6f261fbba2cbe5aa58ccdc03fa80a6b87408d4ce283</th>\n",
       "      <td>0.148859</td>\n",
       "      <td>24</td>\n",
       "      <td>2</td>\n",
       "    </tr>\n",
       "    <tr>\n",
       "      <th>54da8f55e06d7cac48c4fadccbca189b0aa823ecb98b4108dc22b0fdb28536f5</th>\n",
       "      <td>0.149242</td>\n",
       "      <td>32</td>\n",
       "      <td>3</td>\n",
       "    </tr>\n",
       "    <tr>\n",
       "      <th>e4da2b67a299c29cd3606a59b8b69e3b14db2ebcd46f2a8d12b566a0bec12b45</th>\n",
       "      <td>0.149676</td>\n",
       "      <td>32</td>\n",
       "      <td>2</td>\n",
       "    </tr>\n",
       "    <tr>\n",
       "      <th>590b40d3fb9908cff09c57029fa86e15b4252bbba08ed3fe47907df3722865eb</th>\n",
       "      <td>0.149959</td>\n",
       "      <td>24</td>\n",
       "      <td>2</td>\n",
       "    </tr>\n",
       "    <tr>\n",
       "      <th>1d4a70849dc98ed1e88eb87ad47ef66ca2a38287eff54c57ebcb75024e02d721</th>\n",
       "      <td>0.150400</td>\n",
       "      <td>32</td>\n",
       "      <td>2</td>\n",
       "    </tr>\n",
       "    <tr>\n",
       "      <th>0b647088050ab5442ee81427405a85aa2dc81d65ac597a97c83578117c2a102b</th>\n",
       "      <td>0.150471</td>\n",
       "      <td>16</td>\n",
       "      <td>3</td>\n",
       "    </tr>\n",
       "    <tr>\n",
       "      <th>d62f6e9294d15e5b935f47a4ca2768b485db4ee6b25b61956cc665e52192861c</th>\n",
       "      <td>0.150730</td>\n",
       "      <td>24</td>\n",
       "      <td>2</td>\n",
       "    </tr>\n",
       "    <tr>\n",
       "      <th>276a3b76c477347b07ce4653097f3ca6b4456b678fdadf9365bc132eaa221a9f</th>\n",
       "      <td>0.150853</td>\n",
       "      <td>16</td>\n",
       "      <td>2</td>\n",
       "    </tr>\n",
       "    <tr>\n",
       "      <th>325cb831ff23cbd5322e0e9e186c9b89c5bfdfc2c79f572627e1ace35450b1c7</th>\n",
       "      <td>0.151664</td>\n",
       "      <td>16</td>\n",
       "      <td>2</td>\n",
       "    </tr>\n",
       "    <tr>\n",
       "      <th>1ac2ed9ebd0860549538a0c8f6e879b11de8f8ac8e6d49eae2dd9dbb1b1c30b0</th>\n",
       "      <td>0.152456</td>\n",
       "      <td>16</td>\n",
       "      <td>4</td>\n",
       "    </tr>\n",
       "    <tr>\n",
       "      <th>3fce1ed78cb1b248efa877f2c3ee45e3a8f5fb41f458285c60433e3c0ed486c2</th>\n",
       "      <td>0.153319</td>\n",
       "      <td>16</td>\n",
       "      <td>2</td>\n",
       "    </tr>\n",
       "    <tr>\n",
       "      <th>f9bb64141a95795b76f57efad4e5f52c953755469c7ed8b89c454ca8d175979f</th>\n",
       "      <td>0.154265</td>\n",
       "      <td>16</td>\n",
       "      <td>2</td>\n",
       "    </tr>\n",
       "  </tbody>\n",
       "</table>\n",
       "</div>"
      ],
      "text/plain": [
       "                                                    val_loss  neurons  \\\n",
       "run_id                                                                  \n",
       "df367dfbf91812f56661b8bbd7baeafd736a7eb34532d57...  0.145759       24   \n",
       "893d6e332bf40e4248340cb63f59c4aeaf2959c2efa711c...  0.145801       24   \n",
       "f64f30f7229e8ce0585f42b2dd819143b83ce84b022b2ff...  0.146128       32   \n",
       "f53cf9f2e88d5eb323a3c5588cf4f9e9283c2f78fb0b45d...  0.146212       24   \n",
       "dba93e11aa2c03f2d1fd48e215da9f354c665d2c0ecd8df...  0.146226       16   \n",
       "2b70b971566e8cfc934fd9ef2ca15b25a84e446fad4151f...  0.146297       32   \n",
       "0860e23fc2410790a51395ea76e9207c3f3c4c2f1d5c65a...  0.146473       24   \n",
       "d4d280ab098e1c1ab8df05de9c8766a0c86b15813b409cf...  0.146585       16   \n",
       "20c46e4f8826d62d4aa4fb8678d07bf41defddb798fad61...  0.146601       32   \n",
       "c98bb56a7d5c4ce058e26c97889da98188b2551a65afe40...  0.146674       32   \n",
       "e9c35a9537d77bf7eab1eb128a8dbbc1a8d8f0a0a243144...  0.146699       32   \n",
       "432a7fb4664c2db73e9bc5ee4c4f93cb7a271e595d3605c...  0.146724       16   \n",
       "f32a5d0d7a9ce7f1077de942af447b3c56e8336f77e7e73...  0.146839       32   \n",
       "cd007960b52081a2670b1928ddbae3eeb380d17804af18f...  0.146839       24   \n",
       "a878cfee09b4f9bfdfc9a3680931e2ea2aad281d1a624c8...  0.146845       32   \n",
       "dbff8884b0cbe376b0d5cb7971224747f4b412c6e4b7ea8...  0.146846       24   \n",
       "a3b176fe6d9f9bc984a62cc433f2bc0dd759209f670237b...  0.146948       32   \n",
       "9df5a1128fbda864335b57035b6e38e29189bc98b743bdc...  0.146990       16   \n",
       "fd1626d914435a87a1168b29e3019369d52458816351a92...  0.147133       16   \n",
       "10f0f1b2d781ce679cf85020b529d44cfd70521e14aa0c0...  0.147228       32   \n",
       "2407f20a346fbe10bea06811d44013d06162193940a130d...  0.147335       24   \n",
       "fa8533d76d43613932413b9c61b6fe040d8ee400eab7e89...  0.147369       32   \n",
       "7c4027778a9bbc09063e04687d1d82dff535bf58d7a4dfa...  0.147387       32   \n",
       "79096389985691f9dc17b8ed461e56cf19bd68d59e0e728...  0.147470       32   \n",
       "69c4aecc14a93c605c0fa9a6b03b99654979d21f4a8742b...  0.147543       24   \n",
       "ed0c483f780af1c908d3f1ed812f9015eefd39036872b52...  0.147558       24   \n",
       "1392dd1baeb9c39029026cc0c988b0cd689169b6c62c9a4...  0.147653       24   \n",
       "31a352700b7c0d030e034be35831909cdd7c3854275d043...  0.147656       16   \n",
       "59552ddf6c871c3d1381d5a646d27b0c076afd3f52f3e10...  0.147666       16   \n",
       "fff4277fce45e0a012f734210ad3dea0aeede5ed7c6c8a0...  0.147709       24   \n",
       "7ab519b10a44fd2408eb03300a49a2819334c0b2287c3a2...  0.147758       16   \n",
       "c4235a0fea34324059105cfd2fd74ee3d21613c139c0ff4...  0.147784       32   \n",
       "7a9a97125b9240e79065850c2591ec1840324bd58ea4319...  0.147785       24   \n",
       "c34e72608a47a7649514c2f5f542b21dd20e39a3986142f...  0.147798       32   \n",
       "418caef3278e872ccd45ca6ebe14bb303105704dc02b41f...  0.147959       16   \n",
       "37ade5fd88900948163301ffe039782a7de48f45551c47c...  0.148015       24   \n",
       "cf4847226f22d6d23dfa7e8136ee334667ea96edba72a01...  0.148499       16   \n",
       "d7ac0beabfda56630f04adb5f27ab3972ba45a0f1d3af59...  0.148541       24   \n",
       "8e887d834c4c9e76c07dc730c2fcf78829871c2d238a926...  0.148655       16   \n",
       "5f606ba2fcaee7260cb4089aee8da07d12717d65e4e8c84...  0.148712       32   \n",
       "0d64ae50d2789e997bd7906351c59207a619edd9a6c17d2...  0.148771       16   \n",
       "ebccb3a9746a7d4c46dc8d6624d3e9de55d02dab4f0df29...  0.148772       24   \n",
       "c3b186d21e4bd68a381fa6f261fbba2cbe5aa58ccdc03fa...  0.148859       24   \n",
       "54da8f55e06d7cac48c4fadccbca189b0aa823ecb98b410...  0.149242       32   \n",
       "e4da2b67a299c29cd3606a59b8b69e3b14db2ebcd46f2a8...  0.149676       32   \n",
       "590b40d3fb9908cff09c57029fa86e15b4252bbba08ed3f...  0.149959       24   \n",
       "1d4a70849dc98ed1e88eb87ad47ef66ca2a38287eff54c5...  0.150400       32   \n",
       "0b647088050ab5442ee81427405a85aa2dc81d65ac597a9...  0.150471       16   \n",
       "d62f6e9294d15e5b935f47a4ca2768b485db4ee6b25b619...  0.150730       24   \n",
       "276a3b76c477347b07ce4653097f3ca6b4456b678fdadf9...  0.150853       16   \n",
       "325cb831ff23cbd5322e0e9e186c9b89c5bfdfc2c79f572...  0.151664       16   \n",
       "1ac2ed9ebd0860549538a0c8f6e879b11de8f8ac8e6d49e...  0.152456       16   \n",
       "3fce1ed78cb1b248efa877f2c3ee45e3a8f5fb41f458285...  0.153319       16   \n",
       "f9bb64141a95795b76f57efad4e5f52c953755469c7ed8b...  0.154265       16   \n",
       "\n",
       "                                                    num_layers  \n",
       "run_id                                                          \n",
       "df367dfbf91812f56661b8bbd7baeafd736a7eb34532d57...           3  \n",
       "893d6e332bf40e4248340cb63f59c4aeaf2959c2efa711c...           4  \n",
       "f64f30f7229e8ce0585f42b2dd819143b83ce84b022b2ff...           2  \n",
       "f53cf9f2e88d5eb323a3c5588cf4f9e9283c2f78fb0b45d...           4  \n",
       "dba93e11aa2c03f2d1fd48e215da9f354c665d2c0ecd8df...           3  \n",
       "2b70b971566e8cfc934fd9ef2ca15b25a84e446fad4151f...           3  \n",
       "0860e23fc2410790a51395ea76e9207c3f3c4c2f1d5c65a...           3  \n",
       "d4d280ab098e1c1ab8df05de9c8766a0c86b15813b409cf...           2  \n",
       "20c46e4f8826d62d4aa4fb8678d07bf41defddb798fad61...           2  \n",
       "c98bb56a7d5c4ce058e26c97889da98188b2551a65afe40...           4  \n",
       "e9c35a9537d77bf7eab1eb128a8dbbc1a8d8f0a0a243144...           4  \n",
       "432a7fb4664c2db73e9bc5ee4c4f93cb7a271e595d3605c...           3  \n",
       "f32a5d0d7a9ce7f1077de942af447b3c56e8336f77e7e73...           3  \n",
       "cd007960b52081a2670b1928ddbae3eeb380d17804af18f...           3  \n",
       "a878cfee09b4f9bfdfc9a3680931e2ea2aad281d1a624c8...           4  \n",
       "dbff8884b0cbe376b0d5cb7971224747f4b412c6e4b7ea8...           3  \n",
       "a3b176fe6d9f9bc984a62cc433f2bc0dd759209f670237b...           4  \n",
       "9df5a1128fbda864335b57035b6e38e29189bc98b743bdc...           3  \n",
       "fd1626d914435a87a1168b29e3019369d52458816351a92...           4  \n",
       "10f0f1b2d781ce679cf85020b529d44cfd70521e14aa0c0...           4  \n",
       "2407f20a346fbe10bea06811d44013d06162193940a130d...           2  \n",
       "fa8533d76d43613932413b9c61b6fe040d8ee400eab7e89...           2  \n",
       "7c4027778a9bbc09063e04687d1d82dff535bf58d7a4dfa...           3  \n",
       "79096389985691f9dc17b8ed461e56cf19bd68d59e0e728...           4  \n",
       "69c4aecc14a93c605c0fa9a6b03b99654979d21f4a8742b...           4  \n",
       "ed0c483f780af1c908d3f1ed812f9015eefd39036872b52...           3  \n",
       "1392dd1baeb9c39029026cc0c988b0cd689169b6c62c9a4...           2  \n",
       "31a352700b7c0d030e034be35831909cdd7c3854275d043...           4  \n",
       "59552ddf6c871c3d1381d5a646d27b0c076afd3f52f3e10...           4  \n",
       "fff4277fce45e0a012f734210ad3dea0aeede5ed7c6c8a0...           4  \n",
       "7ab519b10a44fd2408eb03300a49a2819334c0b2287c3a2...           3  \n",
       "c4235a0fea34324059105cfd2fd74ee3d21613c139c0ff4...           3  \n",
       "7a9a97125b9240e79065850c2591ec1840324bd58ea4319...           2  \n",
       "c34e72608a47a7649514c2f5f542b21dd20e39a3986142f...           2  \n",
       "418caef3278e872ccd45ca6ebe14bb303105704dc02b41f...           4  \n",
       "37ade5fd88900948163301ffe039782a7de48f45551c47c...           4  \n",
       "cf4847226f22d6d23dfa7e8136ee334667ea96edba72a01...           4  \n",
       "d7ac0beabfda56630f04adb5f27ab3972ba45a0f1d3af59...           3  \n",
       "8e887d834c4c9e76c07dc730c2fcf78829871c2d238a926...           2  \n",
       "5f606ba2fcaee7260cb4089aee8da07d12717d65e4e8c84...           3  \n",
       "0d64ae50d2789e997bd7906351c59207a619edd9a6c17d2...           3  \n",
       "ebccb3a9746a7d4c46dc8d6624d3e9de55d02dab4f0df29...           4  \n",
       "c3b186d21e4bd68a381fa6f261fbba2cbe5aa58ccdc03fa...           2  \n",
       "54da8f55e06d7cac48c4fadccbca189b0aa823ecb98b410...           3  \n",
       "e4da2b67a299c29cd3606a59b8b69e3b14db2ebcd46f2a8...           2  \n",
       "590b40d3fb9908cff09c57029fa86e15b4252bbba08ed3f...           2  \n",
       "1d4a70849dc98ed1e88eb87ad47ef66ca2a38287eff54c5...           2  \n",
       "0b647088050ab5442ee81427405a85aa2dc81d65ac597a9...           3  \n",
       "d62f6e9294d15e5b935f47a4ca2768b485db4ee6b25b619...           2  \n",
       "276a3b76c477347b07ce4653097f3ca6b4456b678fdadf9...           2  \n",
       "325cb831ff23cbd5322e0e9e186c9b89c5bfdfc2c79f572...           2  \n",
       "1ac2ed9ebd0860549538a0c8f6e879b11de8f8ac8e6d49e...           4  \n",
       "3fce1ed78cb1b248efa877f2c3ee45e3a8f5fb41f458285...           2  \n",
       "f9bb64141a95795b76f57efad4e5f52c953755469c7ed8b...           2  "
      ]
     },
     "execution_count": 21,
     "metadata": {},
     "output_type": "execute_result"
    }
   ],
   "source": [
    "results.groupby('run_id')[['val_loss', 'neurons', 'num_layers']].min().sort_values('val_loss')"
   ]
  },
  {
   "cell_type": "code",
   "execution_count": 18,
   "metadata": {},
   "outputs": [
    {
     "data": {
      "text/html": [
       "<div>\n",
       "<style scoped>\n",
       "    .dataframe tbody tr th:only-of-type {\n",
       "        vertical-align: middle;\n",
       "    }\n",
       "\n",
       "    .dataframe tbody tr th {\n",
       "        vertical-align: top;\n",
       "    }\n",
       "\n",
       "    .dataframe thead th {\n",
       "        text-align: right;\n",
       "    }\n",
       "</style>\n",
       "<table border=\"1\" class=\"dataframe\">\n",
       "  <thead>\n",
       "    <tr style=\"text-align: right;\">\n",
       "      <th></th>\n",
       "      <th>run_id</th>\n",
       "      <th>loss</th>\n",
       "      <th>val_loss</th>\n",
       "      <th>train_loss</th>\n",
       "      <th>epoch</th>\n",
       "      <th>num_layers</th>\n",
       "      <th>neurons</th>\n",
       "      <th>dropout</th>\n",
       "      <th>learning_rate</th>\n",
       "    </tr>\n",
       "  </thead>\n",
       "  <tbody>\n",
       "    <tr>\n",
       "      <th>1700</th>\n",
       "      <td>c98bb56a7d5c4ce058e26c97889da98188b2551a65afe4...</td>\n",
       "      <td>0.424944</td>\n",
       "      <td>0.273521</td>\n",
       "      <td>0.263701</td>\n",
       "      <td>1</td>\n",
       "      <td>4</td>\n",
       "      <td>32</td>\n",
       "      <td>0.0</td>\n",
       "      <td>0.002</td>\n",
       "    </tr>\n",
       "    <tr>\n",
       "      <th>1701</th>\n",
       "      <td>c98bb56a7d5c4ce058e26c97889da98188b2551a65afe4...</td>\n",
       "      <td>0.198154</td>\n",
       "      <td>0.167105</td>\n",
       "      <td>0.172960</td>\n",
       "      <td>2</td>\n",
       "      <td>4</td>\n",
       "      <td>32</td>\n",
       "      <td>0.0</td>\n",
       "      <td>0.002</td>\n",
       "    </tr>\n",
       "    <tr>\n",
       "      <th>1702</th>\n",
       "      <td>c98bb56a7d5c4ce058e26c97889da98188b2551a65afe4...</td>\n",
       "      <td>0.169635</td>\n",
       "      <td>0.158877</td>\n",
       "      <td>0.163846</td>\n",
       "      <td>3</td>\n",
       "      <td>4</td>\n",
       "      <td>32</td>\n",
       "      <td>0.0</td>\n",
       "      <td>0.002</td>\n",
       "    </tr>\n",
       "    <tr>\n",
       "      <th>1703</th>\n",
       "      <td>c98bb56a7d5c4ce058e26c97889da98188b2551a65afe4...</td>\n",
       "      <td>0.162709</td>\n",
       "      <td>0.152768</td>\n",
       "      <td>0.159165</td>\n",
       "      <td>4</td>\n",
       "      <td>4</td>\n",
       "      <td>32</td>\n",
       "      <td>0.0</td>\n",
       "      <td>0.002</td>\n",
       "    </tr>\n",
       "    <tr>\n",
       "      <th>1704</th>\n",
       "      <td>c98bb56a7d5c4ce058e26c97889da98188b2551a65afe4...</td>\n",
       "      <td>0.159066</td>\n",
       "      <td>0.150203</td>\n",
       "      <td>0.156651</td>\n",
       "      <td>5</td>\n",
       "      <td>4</td>\n",
       "      <td>32</td>\n",
       "      <td>0.0</td>\n",
       "      <td>0.002</td>\n",
       "    </tr>\n",
       "    <tr>\n",
       "      <th>1705</th>\n",
       "      <td>c98bb56a7d5c4ce058e26c97889da98188b2551a65afe4...</td>\n",
       "      <td>0.156991</td>\n",
       "      <td>0.148731</td>\n",
       "      <td>0.154978</td>\n",
       "      <td>6</td>\n",
       "      <td>4</td>\n",
       "      <td>32</td>\n",
       "      <td>0.0</td>\n",
       "      <td>0.002</td>\n",
       "    </tr>\n",
       "    <tr>\n",
       "      <th>1706</th>\n",
       "      <td>c98bb56a7d5c4ce058e26c97889da98188b2551a65afe4...</td>\n",
       "      <td>0.156373</td>\n",
       "      <td>0.148199</td>\n",
       "      <td>0.154078</td>\n",
       "      <td>7</td>\n",
       "      <td>4</td>\n",
       "      <td>32</td>\n",
       "      <td>0.0</td>\n",
       "      <td>0.002</td>\n",
       "    </tr>\n",
       "    <tr>\n",
       "      <th>1707</th>\n",
       "      <td>c98bb56a7d5c4ce058e26c97889da98188b2551a65afe4...</td>\n",
       "      <td>0.155366</td>\n",
       "      <td>0.147683</td>\n",
       "      <td>0.153226</td>\n",
       "      <td>8</td>\n",
       "      <td>4</td>\n",
       "      <td>32</td>\n",
       "      <td>0.0</td>\n",
       "      <td>0.002</td>\n",
       "    </tr>\n",
       "    <tr>\n",
       "      <th>1708</th>\n",
       "      <td>c98bb56a7d5c4ce058e26c97889da98188b2551a65afe4...</td>\n",
       "      <td>0.154513</td>\n",
       "      <td>0.147297</td>\n",
       "      <td>0.152853</td>\n",
       "      <td>9</td>\n",
       "      <td>4</td>\n",
       "      <td>32</td>\n",
       "      <td>0.0</td>\n",
       "      <td>0.002</td>\n",
       "    </tr>\n",
       "    <tr>\n",
       "      <th>1709</th>\n",
       "      <td>c98bb56a7d5c4ce058e26c97889da98188b2551a65afe4...</td>\n",
       "      <td>0.154201</td>\n",
       "      <td>0.147178</td>\n",
       "      <td>0.152040</td>\n",
       "      <td>10</td>\n",
       "      <td>4</td>\n",
       "      <td>32</td>\n",
       "      <td>0.0</td>\n",
       "      <td>0.002</td>\n",
       "    </tr>\n",
       "    <tr>\n",
       "      <th>1710</th>\n",
       "      <td>c98bb56a7d5c4ce058e26c97889da98188b2551a65afe4...</td>\n",
       "      <td>0.153279</td>\n",
       "      <td>0.146720</td>\n",
       "      <td>0.151316</td>\n",
       "      <td>11</td>\n",
       "      <td>4</td>\n",
       "      <td>32</td>\n",
       "      <td>0.0</td>\n",
       "      <td>0.002</td>\n",
       "    </tr>\n",
       "    <tr>\n",
       "      <th>1711</th>\n",
       "      <td>c98bb56a7d5c4ce058e26c97889da98188b2551a65afe4...</td>\n",
       "      <td>0.153132</td>\n",
       "      <td>0.146682</td>\n",
       "      <td>0.151365</td>\n",
       "      <td>12</td>\n",
       "      <td>4</td>\n",
       "      <td>32</td>\n",
       "      <td>0.0</td>\n",
       "      <td>0.002</td>\n",
       "    </tr>\n",
       "    <tr>\n",
       "      <th>1712</th>\n",
       "      <td>c98bb56a7d5c4ce058e26c97889da98188b2551a65afe4...</td>\n",
       "      <td>0.152922</td>\n",
       "      <td>0.146891</td>\n",
       "      <td>0.150914</td>\n",
       "      <td>13</td>\n",
       "      <td>4</td>\n",
       "      <td>32</td>\n",
       "      <td>0.0</td>\n",
       "      <td>0.002</td>\n",
       "    </tr>\n",
       "    <tr>\n",
       "      <th>1713</th>\n",
       "      <td>c98bb56a7d5c4ce058e26c97889da98188b2551a65afe4...</td>\n",
       "      <td>0.152186</td>\n",
       "      <td>0.146674</td>\n",
       "      <td>0.150385</td>\n",
       "      <td>14</td>\n",
       "      <td>4</td>\n",
       "      <td>32</td>\n",
       "      <td>0.0</td>\n",
       "      <td>0.002</td>\n",
       "    </tr>\n",
       "    <tr>\n",
       "      <th>1714</th>\n",
       "      <td>c98bb56a7d5c4ce058e26c97889da98188b2551a65afe4...</td>\n",
       "      <td>0.151862</td>\n",
       "      <td>0.147177</td>\n",
       "      <td>0.150416</td>\n",
       "      <td>15</td>\n",
       "      <td>4</td>\n",
       "      <td>32</td>\n",
       "      <td>0.0</td>\n",
       "      <td>0.002</td>\n",
       "    </tr>\n",
       "    <tr>\n",
       "      <th>1715</th>\n",
       "      <td>c98bb56a7d5c4ce058e26c97889da98188b2551a65afe4...</td>\n",
       "      <td>0.151606</td>\n",
       "      <td>0.148277</td>\n",
       "      <td>0.151185</td>\n",
       "      <td>16</td>\n",
       "      <td>4</td>\n",
       "      <td>32</td>\n",
       "      <td>0.0</td>\n",
       "      <td>0.002</td>\n",
       "    </tr>\n",
       "    <tr>\n",
       "      <th>1716</th>\n",
       "      <td>c98bb56a7d5c4ce058e26c97889da98188b2551a65afe4...</td>\n",
       "      <td>0.151363</td>\n",
       "      <td>0.148061</td>\n",
       "      <td>0.150647</td>\n",
       "      <td>17</td>\n",
       "      <td>4</td>\n",
       "      <td>32</td>\n",
       "      <td>0.0</td>\n",
       "      <td>0.002</td>\n",
       "    </tr>\n",
       "    <tr>\n",
       "      <th>1717</th>\n",
       "      <td>c98bb56a7d5c4ce058e26c97889da98188b2551a65afe4...</td>\n",
       "      <td>0.151185</td>\n",
       "      <td>0.147388</td>\n",
       "      <td>0.149850</td>\n",
       "      <td>18</td>\n",
       "      <td>4</td>\n",
       "      <td>32</td>\n",
       "      <td>0.0</td>\n",
       "      <td>0.002</td>\n",
       "    </tr>\n",
       "    <tr>\n",
       "      <th>1718</th>\n",
       "      <td>c98bb56a7d5c4ce058e26c97889da98188b2551a65afe4...</td>\n",
       "      <td>0.150835</td>\n",
       "      <td>0.147271</td>\n",
       "      <td>0.149159</td>\n",
       "      <td>19</td>\n",
       "      <td>4</td>\n",
       "      <td>32</td>\n",
       "      <td>0.0</td>\n",
       "      <td>0.002</td>\n",
       "    </tr>\n",
       "    <tr>\n",
       "      <th>1719</th>\n",
       "      <td>c98bb56a7d5c4ce058e26c97889da98188b2551a65afe4...</td>\n",
       "      <td>0.150166</td>\n",
       "      <td>0.147732</td>\n",
       "      <td>0.149285</td>\n",
       "      <td>20</td>\n",
       "      <td>4</td>\n",
       "      <td>32</td>\n",
       "      <td>0.0</td>\n",
       "      <td>0.002</td>\n",
       "    </tr>\n",
       "    <tr>\n",
       "      <th>1720</th>\n",
       "      <td>c98bb56a7d5c4ce058e26c97889da98188b2551a65afe4...</td>\n",
       "      <td>0.150265</td>\n",
       "      <td>0.147817</td>\n",
       "      <td>0.149403</td>\n",
       "      <td>21</td>\n",
       "      <td>4</td>\n",
       "      <td>32</td>\n",
       "      <td>0.0</td>\n",
       "      <td>0.002</td>\n",
       "    </tr>\n",
       "    <tr>\n",
       "      <th>1721</th>\n",
       "      <td>c98bb56a7d5c4ce058e26c97889da98188b2551a65afe4...</td>\n",
       "      <td>0.150163</td>\n",
       "      <td>0.147122</td>\n",
       "      <td>0.148323</td>\n",
       "      <td>22</td>\n",
       "      <td>4</td>\n",
       "      <td>32</td>\n",
       "      <td>0.0</td>\n",
       "      <td>0.002</td>\n",
       "    </tr>\n",
       "    <tr>\n",
       "      <th>1722</th>\n",
       "      <td>c98bb56a7d5c4ce058e26c97889da98188b2551a65afe4...</td>\n",
       "      <td>0.149560</td>\n",
       "      <td>0.147565</td>\n",
       "      <td>0.148000</td>\n",
       "      <td>23</td>\n",
       "      <td>4</td>\n",
       "      <td>32</td>\n",
       "      <td>0.0</td>\n",
       "      <td>0.002</td>\n",
       "    </tr>\n",
       "    <tr>\n",
       "      <th>1723</th>\n",
       "      <td>c98bb56a7d5c4ce058e26c97889da98188b2551a65afe4...</td>\n",
       "      <td>0.149259</td>\n",
       "      <td>0.147753</td>\n",
       "      <td>0.147874</td>\n",
       "      <td>24</td>\n",
       "      <td>4</td>\n",
       "      <td>32</td>\n",
       "      <td>0.0</td>\n",
       "      <td>0.002</td>\n",
       "    </tr>\n",
       "    <tr>\n",
       "      <th>1724</th>\n",
       "      <td>c98bb56a7d5c4ce058e26c97889da98188b2551a65afe4...</td>\n",
       "      <td>0.148829</td>\n",
       "      <td>0.148570</td>\n",
       "      <td>0.148133</td>\n",
       "      <td>25</td>\n",
       "      <td>4</td>\n",
       "      <td>32</td>\n",
       "      <td>0.0</td>\n",
       "      <td>0.002</td>\n",
       "    </tr>\n",
       "    <tr>\n",
       "      <th>1725</th>\n",
       "      <td>c98bb56a7d5c4ce058e26c97889da98188b2551a65afe4...</td>\n",
       "      <td>0.148729</td>\n",
       "      <td>0.148643</td>\n",
       "      <td>0.147848</td>\n",
       "      <td>26</td>\n",
       "      <td>4</td>\n",
       "      <td>32</td>\n",
       "      <td>0.0</td>\n",
       "      <td>0.002</td>\n",
       "    </tr>\n",
       "    <tr>\n",
       "      <th>1726</th>\n",
       "      <td>c98bb56a7d5c4ce058e26c97889da98188b2551a65afe4...</td>\n",
       "      <td>0.148796</td>\n",
       "      <td>0.148855</td>\n",
       "      <td>0.147717</td>\n",
       "      <td>27</td>\n",
       "      <td>4</td>\n",
       "      <td>32</td>\n",
       "      <td>0.0</td>\n",
       "      <td>0.002</td>\n",
       "    </tr>\n",
       "    <tr>\n",
       "      <th>1727</th>\n",
       "      <td>c98bb56a7d5c4ce058e26c97889da98188b2551a65afe4...</td>\n",
       "      <td>0.148414</td>\n",
       "      <td>0.148409</td>\n",
       "      <td>0.146974</td>\n",
       "      <td>28</td>\n",
       "      <td>4</td>\n",
       "      <td>32</td>\n",
       "      <td>0.0</td>\n",
       "      <td>0.002</td>\n",
       "    </tr>\n",
       "    <tr>\n",
       "      <th>1728</th>\n",
       "      <td>c98bb56a7d5c4ce058e26c97889da98188b2551a65afe4...</td>\n",
       "      <td>0.148207</td>\n",
       "      <td>0.148546</td>\n",
       "      <td>0.146745</td>\n",
       "      <td>29</td>\n",
       "      <td>4</td>\n",
       "      <td>32</td>\n",
       "      <td>0.0</td>\n",
       "      <td>0.002</td>\n",
       "    </tr>\n",
       "    <tr>\n",
       "      <th>1729</th>\n",
       "      <td>c98bb56a7d5c4ce058e26c97889da98188b2551a65afe4...</td>\n",
       "      <td>0.147783</td>\n",
       "      <td>0.149210</td>\n",
       "      <td>0.146907</td>\n",
       "      <td>30</td>\n",
       "      <td>4</td>\n",
       "      <td>32</td>\n",
       "      <td>0.0</td>\n",
       "      <td>0.002</td>\n",
       "    </tr>\n",
       "    <tr>\n",
       "      <th>1730</th>\n",
       "      <td>c98bb56a7d5c4ce058e26c97889da98188b2551a65afe4...</td>\n",
       "      <td>0.147778</td>\n",
       "      <td>0.149252</td>\n",
       "      <td>0.146658</td>\n",
       "      <td>31</td>\n",
       "      <td>4</td>\n",
       "      <td>32</td>\n",
       "      <td>0.0</td>\n",
       "      <td>0.002</td>\n",
       "    </tr>\n",
       "    <tr>\n",
       "      <th>1731</th>\n",
       "      <td>c98bb56a7d5c4ce058e26c97889da98188b2551a65afe4...</td>\n",
       "      <td>0.147320</td>\n",
       "      <td>0.149521</td>\n",
       "      <td>0.146447</td>\n",
       "      <td>32</td>\n",
       "      <td>4</td>\n",
       "      <td>32</td>\n",
       "      <td>0.0</td>\n",
       "      <td>0.002</td>\n",
       "    </tr>\n",
       "    <tr>\n",
       "      <th>1732</th>\n",
       "      <td>c98bb56a7d5c4ce058e26c97889da98188b2551a65afe4...</td>\n",
       "      <td>0.146919</td>\n",
       "      <td>0.148862</td>\n",
       "      <td>0.145796</td>\n",
       "      <td>33</td>\n",
       "      <td>4</td>\n",
       "      <td>32</td>\n",
       "      <td>0.0</td>\n",
       "      <td>0.002</td>\n",
       "    </tr>\n",
       "    <tr>\n",
       "      <th>1733</th>\n",
       "      <td>c98bb56a7d5c4ce058e26c97889da98188b2551a65afe4...</td>\n",
       "      <td>0.146664</td>\n",
       "      <td>0.148904</td>\n",
       "      <td>0.145414</td>\n",
       "      <td>34</td>\n",
       "      <td>4</td>\n",
       "      <td>32</td>\n",
       "      <td>0.0</td>\n",
       "      <td>0.002</td>\n",
       "    </tr>\n",
       "    <tr>\n",
       "      <th>1734</th>\n",
       "      <td>c98bb56a7d5c4ce058e26c97889da98188b2551a65afe4...</td>\n",
       "      <td>0.146404</td>\n",
       "      <td>0.149166</td>\n",
       "      <td>0.145305</td>\n",
       "      <td>35</td>\n",
       "      <td>4</td>\n",
       "      <td>32</td>\n",
       "      <td>0.0</td>\n",
       "      <td>0.002</td>\n",
       "    </tr>\n",
       "    <tr>\n",
       "      <th>1735</th>\n",
       "      <td>c98bb56a7d5c4ce058e26c97889da98188b2551a65afe4...</td>\n",
       "      <td>0.146226</td>\n",
       "      <td>0.149270</td>\n",
       "      <td>0.145009</td>\n",
       "      <td>36</td>\n",
       "      <td>4</td>\n",
       "      <td>32</td>\n",
       "      <td>0.0</td>\n",
       "      <td>0.002</td>\n",
       "    </tr>\n",
       "    <tr>\n",
       "      <th>1736</th>\n",
       "      <td>c98bb56a7d5c4ce058e26c97889da98188b2551a65afe4...</td>\n",
       "      <td>0.145920</td>\n",
       "      <td>0.149248</td>\n",
       "      <td>0.144998</td>\n",
       "      <td>37</td>\n",
       "      <td>4</td>\n",
       "      <td>32</td>\n",
       "      <td>0.0</td>\n",
       "      <td>0.002</td>\n",
       "    </tr>\n",
       "    <tr>\n",
       "      <th>1737</th>\n",
       "      <td>c98bb56a7d5c4ce058e26c97889da98188b2551a65afe4...</td>\n",
       "      <td>0.145920</td>\n",
       "      <td>0.149381</td>\n",
       "      <td>0.144539</td>\n",
       "      <td>38</td>\n",
       "      <td>4</td>\n",
       "      <td>32</td>\n",
       "      <td>0.0</td>\n",
       "      <td>0.002</td>\n",
       "    </tr>\n",
       "    <tr>\n",
       "      <th>1738</th>\n",
       "      <td>c98bb56a7d5c4ce058e26c97889da98188b2551a65afe4...</td>\n",
       "      <td>0.145356</td>\n",
       "      <td>0.149386</td>\n",
       "      <td>0.143920</td>\n",
       "      <td>39</td>\n",
       "      <td>4</td>\n",
       "      <td>32</td>\n",
       "      <td>0.0</td>\n",
       "      <td>0.002</td>\n",
       "    </tr>\n",
       "    <tr>\n",
       "      <th>1739</th>\n",
       "      <td>c98bb56a7d5c4ce058e26c97889da98188b2551a65afe4...</td>\n",
       "      <td>0.145150</td>\n",
       "      <td>0.149081</td>\n",
       "      <td>0.143264</td>\n",
       "      <td>40</td>\n",
       "      <td>4</td>\n",
       "      <td>32</td>\n",
       "      <td>0.0</td>\n",
       "      <td>0.002</td>\n",
       "    </tr>\n",
       "    <tr>\n",
       "      <th>1740</th>\n",
       "      <td>c98bb56a7d5c4ce058e26c97889da98188b2551a65afe4...</td>\n",
       "      <td>0.144572</td>\n",
       "      <td>0.149511</td>\n",
       "      <td>0.143221</td>\n",
       "      <td>41</td>\n",
       "      <td>4</td>\n",
       "      <td>32</td>\n",
       "      <td>0.0</td>\n",
       "      <td>0.002</td>\n",
       "    </tr>\n",
       "    <tr>\n",
       "      <th>1741</th>\n",
       "      <td>c98bb56a7d5c4ce058e26c97889da98188b2551a65afe4...</td>\n",
       "      <td>0.144522</td>\n",
       "      <td>0.149960</td>\n",
       "      <td>0.143172</td>\n",
       "      <td>42</td>\n",
       "      <td>4</td>\n",
       "      <td>32</td>\n",
       "      <td>0.0</td>\n",
       "      <td>0.002</td>\n",
       "    </tr>\n",
       "    <tr>\n",
       "      <th>1742</th>\n",
       "      <td>c98bb56a7d5c4ce058e26c97889da98188b2551a65afe4...</td>\n",
       "      <td>0.144399</td>\n",
       "      <td>0.149966</td>\n",
       "      <td>0.142910</td>\n",
       "      <td>43</td>\n",
       "      <td>4</td>\n",
       "      <td>32</td>\n",
       "      <td>0.0</td>\n",
       "      <td>0.002</td>\n",
       "    </tr>\n",
       "    <tr>\n",
       "      <th>1743</th>\n",
       "      <td>c98bb56a7d5c4ce058e26c97889da98188b2551a65afe4...</td>\n",
       "      <td>0.144332</td>\n",
       "      <td>0.150294</td>\n",
       "      <td>0.143218</td>\n",
       "      <td>44</td>\n",
       "      <td>4</td>\n",
       "      <td>32</td>\n",
       "      <td>0.0</td>\n",
       "      <td>0.002</td>\n",
       "    </tr>\n",
       "    <tr>\n",
       "      <th>1744</th>\n",
       "      <td>c98bb56a7d5c4ce058e26c97889da98188b2551a65afe4...</td>\n",
       "      <td>0.144162</td>\n",
       "      <td>0.151646</td>\n",
       "      <td>0.143643</td>\n",
       "      <td>45</td>\n",
       "      <td>4</td>\n",
       "      <td>32</td>\n",
       "      <td>0.0</td>\n",
       "      <td>0.002</td>\n",
       "    </tr>\n",
       "    <tr>\n",
       "      <th>1745</th>\n",
       "      <td>c98bb56a7d5c4ce058e26c97889da98188b2551a65afe4...</td>\n",
       "      <td>0.144195</td>\n",
       "      <td>0.151097</td>\n",
       "      <td>0.142439</td>\n",
       "      <td>46</td>\n",
       "      <td>4</td>\n",
       "      <td>32</td>\n",
       "      <td>0.0</td>\n",
       "      <td>0.002</td>\n",
       "    </tr>\n",
       "    <tr>\n",
       "      <th>1746</th>\n",
       "      <td>c98bb56a7d5c4ce058e26c97889da98188b2551a65afe4...</td>\n",
       "      <td>0.143253</td>\n",
       "      <td>0.150777</td>\n",
       "      <td>0.142127</td>\n",
       "      <td>47</td>\n",
       "      <td>4</td>\n",
       "      <td>32</td>\n",
       "      <td>0.0</td>\n",
       "      <td>0.002</td>\n",
       "    </tr>\n",
       "    <tr>\n",
       "      <th>1747</th>\n",
       "      <td>c98bb56a7d5c4ce058e26c97889da98188b2551a65afe4...</td>\n",
       "      <td>0.143433</td>\n",
       "      <td>0.152265</td>\n",
       "      <td>0.143347</td>\n",
       "      <td>48</td>\n",
       "      <td>4</td>\n",
       "      <td>32</td>\n",
       "      <td>0.0</td>\n",
       "      <td>0.002</td>\n",
       "    </tr>\n",
       "    <tr>\n",
       "      <th>1748</th>\n",
       "      <td>c98bb56a7d5c4ce058e26c97889da98188b2551a65afe4...</td>\n",
       "      <td>0.143615</td>\n",
       "      <td>0.152470</td>\n",
       "      <td>0.143395</td>\n",
       "      <td>49</td>\n",
       "      <td>4</td>\n",
       "      <td>32</td>\n",
       "      <td>0.0</td>\n",
       "      <td>0.002</td>\n",
       "    </tr>\n",
       "    <tr>\n",
       "      <th>1749</th>\n",
       "      <td>c98bb56a7d5c4ce058e26c97889da98188b2551a65afe4...</td>\n",
       "      <td>0.143888</td>\n",
       "      <td>0.152185</td>\n",
       "      <td>0.142662</td>\n",
       "      <td>50</td>\n",
       "      <td>4</td>\n",
       "      <td>32</td>\n",
       "      <td>0.0</td>\n",
       "      <td>0.002</td>\n",
       "    </tr>\n",
       "  </tbody>\n",
       "</table>\n",
       "</div>"
      ],
      "text/plain": [
       "                                                 run_id      loss  val_loss  \\\n",
       "1700  c98bb56a7d5c4ce058e26c97889da98188b2551a65afe4...  0.424944  0.273521   \n",
       "1701  c98bb56a7d5c4ce058e26c97889da98188b2551a65afe4...  0.198154  0.167105   \n",
       "1702  c98bb56a7d5c4ce058e26c97889da98188b2551a65afe4...  0.169635  0.158877   \n",
       "1703  c98bb56a7d5c4ce058e26c97889da98188b2551a65afe4...  0.162709  0.152768   \n",
       "1704  c98bb56a7d5c4ce058e26c97889da98188b2551a65afe4...  0.159066  0.150203   \n",
       "1705  c98bb56a7d5c4ce058e26c97889da98188b2551a65afe4...  0.156991  0.148731   \n",
       "1706  c98bb56a7d5c4ce058e26c97889da98188b2551a65afe4...  0.156373  0.148199   \n",
       "1707  c98bb56a7d5c4ce058e26c97889da98188b2551a65afe4...  0.155366  0.147683   \n",
       "1708  c98bb56a7d5c4ce058e26c97889da98188b2551a65afe4...  0.154513  0.147297   \n",
       "1709  c98bb56a7d5c4ce058e26c97889da98188b2551a65afe4...  0.154201  0.147178   \n",
       "1710  c98bb56a7d5c4ce058e26c97889da98188b2551a65afe4...  0.153279  0.146720   \n",
       "1711  c98bb56a7d5c4ce058e26c97889da98188b2551a65afe4...  0.153132  0.146682   \n",
       "1712  c98bb56a7d5c4ce058e26c97889da98188b2551a65afe4...  0.152922  0.146891   \n",
       "1713  c98bb56a7d5c4ce058e26c97889da98188b2551a65afe4...  0.152186  0.146674   \n",
       "1714  c98bb56a7d5c4ce058e26c97889da98188b2551a65afe4...  0.151862  0.147177   \n",
       "1715  c98bb56a7d5c4ce058e26c97889da98188b2551a65afe4...  0.151606  0.148277   \n",
       "1716  c98bb56a7d5c4ce058e26c97889da98188b2551a65afe4...  0.151363  0.148061   \n",
       "1717  c98bb56a7d5c4ce058e26c97889da98188b2551a65afe4...  0.151185  0.147388   \n",
       "1718  c98bb56a7d5c4ce058e26c97889da98188b2551a65afe4...  0.150835  0.147271   \n",
       "1719  c98bb56a7d5c4ce058e26c97889da98188b2551a65afe4...  0.150166  0.147732   \n",
       "1720  c98bb56a7d5c4ce058e26c97889da98188b2551a65afe4...  0.150265  0.147817   \n",
       "1721  c98bb56a7d5c4ce058e26c97889da98188b2551a65afe4...  0.150163  0.147122   \n",
       "1722  c98bb56a7d5c4ce058e26c97889da98188b2551a65afe4...  0.149560  0.147565   \n",
       "1723  c98bb56a7d5c4ce058e26c97889da98188b2551a65afe4...  0.149259  0.147753   \n",
       "1724  c98bb56a7d5c4ce058e26c97889da98188b2551a65afe4...  0.148829  0.148570   \n",
       "1725  c98bb56a7d5c4ce058e26c97889da98188b2551a65afe4...  0.148729  0.148643   \n",
       "1726  c98bb56a7d5c4ce058e26c97889da98188b2551a65afe4...  0.148796  0.148855   \n",
       "1727  c98bb56a7d5c4ce058e26c97889da98188b2551a65afe4...  0.148414  0.148409   \n",
       "1728  c98bb56a7d5c4ce058e26c97889da98188b2551a65afe4...  0.148207  0.148546   \n",
       "1729  c98bb56a7d5c4ce058e26c97889da98188b2551a65afe4...  0.147783  0.149210   \n",
       "1730  c98bb56a7d5c4ce058e26c97889da98188b2551a65afe4...  0.147778  0.149252   \n",
       "1731  c98bb56a7d5c4ce058e26c97889da98188b2551a65afe4...  0.147320  0.149521   \n",
       "1732  c98bb56a7d5c4ce058e26c97889da98188b2551a65afe4...  0.146919  0.148862   \n",
       "1733  c98bb56a7d5c4ce058e26c97889da98188b2551a65afe4...  0.146664  0.148904   \n",
       "1734  c98bb56a7d5c4ce058e26c97889da98188b2551a65afe4...  0.146404  0.149166   \n",
       "1735  c98bb56a7d5c4ce058e26c97889da98188b2551a65afe4...  0.146226  0.149270   \n",
       "1736  c98bb56a7d5c4ce058e26c97889da98188b2551a65afe4...  0.145920  0.149248   \n",
       "1737  c98bb56a7d5c4ce058e26c97889da98188b2551a65afe4...  0.145920  0.149381   \n",
       "1738  c98bb56a7d5c4ce058e26c97889da98188b2551a65afe4...  0.145356  0.149386   \n",
       "1739  c98bb56a7d5c4ce058e26c97889da98188b2551a65afe4...  0.145150  0.149081   \n",
       "1740  c98bb56a7d5c4ce058e26c97889da98188b2551a65afe4...  0.144572  0.149511   \n",
       "1741  c98bb56a7d5c4ce058e26c97889da98188b2551a65afe4...  0.144522  0.149960   \n",
       "1742  c98bb56a7d5c4ce058e26c97889da98188b2551a65afe4...  0.144399  0.149966   \n",
       "1743  c98bb56a7d5c4ce058e26c97889da98188b2551a65afe4...  0.144332  0.150294   \n",
       "1744  c98bb56a7d5c4ce058e26c97889da98188b2551a65afe4...  0.144162  0.151646   \n",
       "1745  c98bb56a7d5c4ce058e26c97889da98188b2551a65afe4...  0.144195  0.151097   \n",
       "1746  c98bb56a7d5c4ce058e26c97889da98188b2551a65afe4...  0.143253  0.150777   \n",
       "1747  c98bb56a7d5c4ce058e26c97889da98188b2551a65afe4...  0.143433  0.152265   \n",
       "1748  c98bb56a7d5c4ce058e26c97889da98188b2551a65afe4...  0.143615  0.152470   \n",
       "1749  c98bb56a7d5c4ce058e26c97889da98188b2551a65afe4...  0.143888  0.152185   \n",
       "\n",
       "      train_loss  epoch  num_layers  neurons  dropout  learning_rate  \n",
       "1700    0.263701      1           4       32      0.0          0.002  \n",
       "1701    0.172960      2           4       32      0.0          0.002  \n",
       "1702    0.163846      3           4       32      0.0          0.002  \n",
       "1703    0.159165      4           4       32      0.0          0.002  \n",
       "1704    0.156651      5           4       32      0.0          0.002  \n",
       "1705    0.154978      6           4       32      0.0          0.002  \n",
       "1706    0.154078      7           4       32      0.0          0.002  \n",
       "1707    0.153226      8           4       32      0.0          0.002  \n",
       "1708    0.152853      9           4       32      0.0          0.002  \n",
       "1709    0.152040     10           4       32      0.0          0.002  \n",
       "1710    0.151316     11           4       32      0.0          0.002  \n",
       "1711    0.151365     12           4       32      0.0          0.002  \n",
       "1712    0.150914     13           4       32      0.0          0.002  \n",
       "1713    0.150385     14           4       32      0.0          0.002  \n",
       "1714    0.150416     15           4       32      0.0          0.002  \n",
       "1715    0.151185     16           4       32      0.0          0.002  \n",
       "1716    0.150647     17           4       32      0.0          0.002  \n",
       "1717    0.149850     18           4       32      0.0          0.002  \n",
       "1718    0.149159     19           4       32      0.0          0.002  \n",
       "1719    0.149285     20           4       32      0.0          0.002  \n",
       "1720    0.149403     21           4       32      0.0          0.002  \n",
       "1721    0.148323     22           4       32      0.0          0.002  \n",
       "1722    0.148000     23           4       32      0.0          0.002  \n",
       "1723    0.147874     24           4       32      0.0          0.002  \n",
       "1724    0.148133     25           4       32      0.0          0.002  \n",
       "1725    0.147848     26           4       32      0.0          0.002  \n",
       "1726    0.147717     27           4       32      0.0          0.002  \n",
       "1727    0.146974     28           4       32      0.0          0.002  \n",
       "1728    0.146745     29           4       32      0.0          0.002  \n",
       "1729    0.146907     30           4       32      0.0          0.002  \n",
       "1730    0.146658     31           4       32      0.0          0.002  \n",
       "1731    0.146447     32           4       32      0.0          0.002  \n",
       "1732    0.145796     33           4       32      0.0          0.002  \n",
       "1733    0.145414     34           4       32      0.0          0.002  \n",
       "1734    0.145305     35           4       32      0.0          0.002  \n",
       "1735    0.145009     36           4       32      0.0          0.002  \n",
       "1736    0.144998     37           4       32      0.0          0.002  \n",
       "1737    0.144539     38           4       32      0.0          0.002  \n",
       "1738    0.143920     39           4       32      0.0          0.002  \n",
       "1739    0.143264     40           4       32      0.0          0.002  \n",
       "1740    0.143221     41           4       32      0.0          0.002  \n",
       "1741    0.143172     42           4       32      0.0          0.002  \n",
       "1742    0.142910     43           4       32      0.0          0.002  \n",
       "1743    0.143218     44           4       32      0.0          0.002  \n",
       "1744    0.143643     45           4       32      0.0          0.002  \n",
       "1745    0.142439     46           4       32      0.0          0.002  \n",
       "1746    0.142127     47           4       32      0.0          0.002  \n",
       "1747    0.143347     48           4       32      0.0          0.002  \n",
       "1748    0.143395     49           4       32      0.0          0.002  \n",
       "1749    0.142662     50           4       32      0.0          0.002  "
      ]
     },
     "execution_count": 18,
     "metadata": {},
     "output_type": "execute_result"
    }
   ],
   "source": [
    "results[results['run_id'] == 'c98bb56a7d5c4ce058e26c97889da98188b2551a65afe407371388cd3c5fd166']"
   ]
  },
  {
   "cell_type": "code",
   "execution_count": 59,
   "metadata": {},
   "outputs": [
    {
     "data": {
      "text/html": [
       "<div>\n",
       "<style scoped>\n",
       "    .dataframe tbody tr th:only-of-type {\n",
       "        vertical-align: middle;\n",
       "    }\n",
       "\n",
       "    .dataframe tbody tr th {\n",
       "        vertical-align: top;\n",
       "    }\n",
       "\n",
       "    .dataframe thead th {\n",
       "        text-align: right;\n",
       "    }\n",
       "</style>\n",
       "<table border=\"1\" class=\"dataframe\">\n",
       "  <thead>\n",
       "    <tr style=\"text-align: right;\">\n",
       "      <th></th>\n",
       "      <th></th>\n",
       "      <th></th>\n",
       "      <th></th>\n",
       "      <th>min</th>\n",
       "      <th>max</th>\n",
       "    </tr>\n",
       "    <tr>\n",
       "      <th>neurons</th>\n",
       "      <th>learning_rate</th>\n",
       "      <th>num_layers</th>\n",
       "      <th>dropout</th>\n",
       "      <th></th>\n",
       "      <th></th>\n",
       "    </tr>\n",
       "  </thead>\n",
       "  <tbody>\n",
       "    <tr>\n",
       "      <th rowspan=\"9\" valign=\"top\">16</th>\n",
       "      <th rowspan=\"3\" valign=\"top\">0.0005</th>\n",
       "      <th>2</th>\n",
       "      <th>0.0</th>\n",
       "      <td>0.153319</td>\n",
       "      <td>0.154265</td>\n",
       "    </tr>\n",
       "    <tr>\n",
       "      <th>3</th>\n",
       "      <th>0.0</th>\n",
       "      <td>0.147758</td>\n",
       "      <td>0.150471</td>\n",
       "    </tr>\n",
       "    <tr>\n",
       "      <th>4</th>\n",
       "      <th>0.0</th>\n",
       "      <td>0.147656</td>\n",
       "      <td>0.152456</td>\n",
       "    </tr>\n",
       "    <tr>\n",
       "      <th rowspan=\"3\" valign=\"top\">0.0010</th>\n",
       "      <th>2</th>\n",
       "      <th>0.0</th>\n",
       "      <td>0.150853</td>\n",
       "      <td>0.151664</td>\n",
       "    </tr>\n",
       "    <tr>\n",
       "      <th>3</th>\n",
       "      <th>0.0</th>\n",
       "      <td>0.146226</td>\n",
       "      <td>0.146990</td>\n",
       "    </tr>\n",
       "    <tr>\n",
       "      <th>4</th>\n",
       "      <th>0.0</th>\n",
       "      <td>0.147178</td>\n",
       "      <td>0.148499</td>\n",
       "    </tr>\n",
       "    <tr>\n",
       "      <th rowspan=\"3\" valign=\"top\">0.0020</th>\n",
       "      <th>2</th>\n",
       "      <th>0.0</th>\n",
       "      <td>0.146709</td>\n",
       "      <td>0.148849</td>\n",
       "    </tr>\n",
       "    <tr>\n",
       "      <th>3</th>\n",
       "      <th>0.0</th>\n",
       "      <td>0.147061</td>\n",
       "      <td>0.149432</td>\n",
       "    </tr>\n",
       "    <tr>\n",
       "      <th>4</th>\n",
       "      <th>0.0</th>\n",
       "      <td>0.148406</td>\n",
       "      <td>0.149354</td>\n",
       "    </tr>\n",
       "    <tr>\n",
       "      <th rowspan=\"17\" valign=\"top\">24</th>\n",
       "      <th rowspan=\"7\" valign=\"top\">0.0005</th>\n",
       "      <th>2</th>\n",
       "      <th>0.0</th>\n",
       "      <td>0.149959</td>\n",
       "      <td>0.150730</td>\n",
       "    </tr>\n",
       "    <tr>\n",
       "      <th rowspan=\"3\" valign=\"top\">3</th>\n",
       "      <th>0.0</th>\n",
       "      <td>0.145759</td>\n",
       "      <td>0.147558</td>\n",
       "    </tr>\n",
       "    <tr>\n",
       "      <th>0.1</th>\n",
       "      <td>0.147998</td>\n",
       "      <td>0.148357</td>\n",
       "    </tr>\n",
       "    <tr>\n",
       "      <th>0.2</th>\n",
       "      <td>0.147561</td>\n",
       "      <td>0.148378</td>\n",
       "    </tr>\n",
       "    <tr>\n",
       "      <th rowspan=\"3\" valign=\"top\">4</th>\n",
       "      <th>0.0</th>\n",
       "      <td>0.145905</td>\n",
       "      <td>0.147814</td>\n",
       "    </tr>\n",
       "    <tr>\n",
       "      <th>0.1</th>\n",
       "      <td>0.148854</td>\n",
       "      <td>0.149280</td>\n",
       "    </tr>\n",
       "    <tr>\n",
       "      <th>0.2</th>\n",
       "      <td>0.146764</td>\n",
       "      <td>0.150519</td>\n",
       "    </tr>\n",
       "    <tr>\n",
       "      <th rowspan=\"7\" valign=\"top\">0.0010</th>\n",
       "      <th>2</th>\n",
       "      <th>0.0</th>\n",
       "      <td>0.147653</td>\n",
       "      <td>0.148859</td>\n",
       "    </tr>\n",
       "    <tr>\n",
       "      <th rowspan=\"3\" valign=\"top\">3</th>\n",
       "      <th>0.0</th>\n",
       "      <td>0.146504</td>\n",
       "      <td>0.148541</td>\n",
       "    </tr>\n",
       "    <tr>\n",
       "      <th>0.1</th>\n",
       "      <td>0.146327</td>\n",
       "      <td>0.147659</td>\n",
       "    </tr>\n",
       "    <tr>\n",
       "      <th>0.2</th>\n",
       "      <td>0.147562</td>\n",
       "      <td>0.148013</td>\n",
       "    </tr>\n",
       "    <tr>\n",
       "      <th rowspan=\"3\" valign=\"top\">4</th>\n",
       "      <th>0.0</th>\n",
       "      <td>0.146834</td>\n",
       "      <td>0.147931</td>\n",
       "    </tr>\n",
       "    <tr>\n",
       "      <th>0.1</th>\n",
       "      <td>0.147502</td>\n",
       "      <td>0.147557</td>\n",
       "    </tr>\n",
       "    <tr>\n",
       "      <th>0.2</th>\n",
       "      <td>0.148390</td>\n",
       "      <td>0.150477</td>\n",
       "    </tr>\n",
       "    <tr>\n",
       "      <th rowspan=\"3\" valign=\"top\">0.0020</th>\n",
       "      <th>2</th>\n",
       "      <th>0.0</th>\n",
       "      <td>0.147466</td>\n",
       "      <td>0.147793</td>\n",
       "    </tr>\n",
       "    <tr>\n",
       "      <th>3</th>\n",
       "      <th>0.0</th>\n",
       "      <td>0.147289</td>\n",
       "      <td>0.147850</td>\n",
       "    </tr>\n",
       "    <tr>\n",
       "      <th>4</th>\n",
       "      <th>0.0</th>\n",
       "      <td>0.149325</td>\n",
       "      <td>0.153781</td>\n",
       "    </tr>\n",
       "    <tr>\n",
       "      <th rowspan=\"17\" valign=\"top\">32</th>\n",
       "      <th rowspan=\"7\" valign=\"top\">0.0005</th>\n",
       "      <th>2</th>\n",
       "      <th>0.0</th>\n",
       "      <td>0.149676</td>\n",
       "      <td>0.150400</td>\n",
       "    </tr>\n",
       "    <tr>\n",
       "      <th rowspan=\"3\" valign=\"top\">3</th>\n",
       "      <th>0.0</th>\n",
       "      <td>0.146839</td>\n",
       "      <td>0.149242</td>\n",
       "    </tr>\n",
       "    <tr>\n",
       "      <th>0.1</th>\n",
       "      <td>0.145745</td>\n",
       "      <td>0.147643</td>\n",
       "    </tr>\n",
       "    <tr>\n",
       "      <th>0.2</th>\n",
       "      <td>0.147357</td>\n",
       "      <td>0.147883</td>\n",
       "    </tr>\n",
       "    <tr>\n",
       "      <th rowspan=\"3\" valign=\"top\">4</th>\n",
       "      <th>0.0</th>\n",
       "      <td>0.146699</td>\n",
       "      <td>0.146845</td>\n",
       "    </tr>\n",
       "    <tr>\n",
       "      <th>0.1</th>\n",
       "      <td>0.147057</td>\n",
       "      <td>0.149091</td>\n",
       "    </tr>\n",
       "    <tr>\n",
       "      <th>0.2</th>\n",
       "      <td>0.148271</td>\n",
       "      <td>0.148634</td>\n",
       "    </tr>\n",
       "    <tr>\n",
       "      <th rowspan=\"7\" valign=\"top\">0.0010</th>\n",
       "      <th>2</th>\n",
       "      <th>0.0</th>\n",
       "      <td>0.146128</td>\n",
       "      <td>0.147798</td>\n",
       "    </tr>\n",
       "    <tr>\n",
       "      <th rowspan=\"3\" valign=\"top\">3</th>\n",
       "      <th>0.0</th>\n",
       "      <td>0.147387</td>\n",
       "      <td>0.148597</td>\n",
       "    </tr>\n",
       "    <tr>\n",
       "      <th>0.1</th>\n",
       "      <td>0.147206</td>\n",
       "      <td>0.147889</td>\n",
       "    </tr>\n",
       "    <tr>\n",
       "      <th>0.2</th>\n",
       "      <td>0.146236</td>\n",
       "      <td>0.147455</td>\n",
       "    </tr>\n",
       "    <tr>\n",
       "      <th rowspan=\"3\" valign=\"top\">4</th>\n",
       "      <th>0.0</th>\n",
       "      <td>0.147926</td>\n",
       "      <td>0.148503</td>\n",
       "    </tr>\n",
       "    <tr>\n",
       "      <th>0.1</th>\n",
       "      <td>0.148583</td>\n",
       "      <td>0.149129</td>\n",
       "    </tr>\n",
       "    <tr>\n",
       "      <th>0.2</th>\n",
       "      <td>0.148218</td>\n",
       "      <td>0.148787</td>\n",
       "    </tr>\n",
       "    <tr>\n",
       "      <th rowspan=\"3\" valign=\"top\">0.0020</th>\n",
       "      <th>2</th>\n",
       "      <th>0.0</th>\n",
       "      <td>0.146814</td>\n",
       "      <td>0.147757</td>\n",
       "    </tr>\n",
       "    <tr>\n",
       "      <th>3</th>\n",
       "      <th>0.0</th>\n",
       "      <td>0.149129</td>\n",
       "      <td>0.151401</td>\n",
       "    </tr>\n",
       "    <tr>\n",
       "      <th>4</th>\n",
       "      <th>0.0</th>\n",
       "      <td>0.150662</td>\n",
       "      <td>0.152185</td>\n",
       "    </tr>\n",
       "  </tbody>\n",
       "</table>\n",
       "</div>"
      ],
      "text/plain": [
       "                                               min       max\n",
       "neurons learning_rate num_layers dropout                    \n",
       "16      0.0005        2          0.0      0.153319  0.154265\n",
       "                      3          0.0      0.147758  0.150471\n",
       "                      4          0.0      0.147656  0.152456\n",
       "        0.0010        2          0.0      0.150853  0.151664\n",
       "                      3          0.0      0.146226  0.146990\n",
       "                      4          0.0      0.147178  0.148499\n",
       "        0.0020        2          0.0      0.146709  0.148849\n",
       "                      3          0.0      0.147061  0.149432\n",
       "                      4          0.0      0.148406  0.149354\n",
       "24      0.0005        2          0.0      0.149959  0.150730\n",
       "                      3          0.0      0.145759  0.147558\n",
       "                                 0.1      0.147998  0.148357\n",
       "                                 0.2      0.147561  0.148378\n",
       "                      4          0.0      0.145905  0.147814\n",
       "                                 0.1      0.148854  0.149280\n",
       "                                 0.2      0.146764  0.150519\n",
       "        0.0010        2          0.0      0.147653  0.148859\n",
       "                      3          0.0      0.146504  0.148541\n",
       "                                 0.1      0.146327  0.147659\n",
       "                                 0.2      0.147562  0.148013\n",
       "                      4          0.0      0.146834  0.147931\n",
       "                                 0.1      0.147502  0.147557\n",
       "                                 0.2      0.148390  0.150477\n",
       "        0.0020        2          0.0      0.147466  0.147793\n",
       "                      3          0.0      0.147289  0.147850\n",
       "                      4          0.0      0.149325  0.153781\n",
       "32      0.0005        2          0.0      0.149676  0.150400\n",
       "                      3          0.0      0.146839  0.149242\n",
       "                                 0.1      0.145745  0.147643\n",
       "                                 0.2      0.147357  0.147883\n",
       "                      4          0.0      0.146699  0.146845\n",
       "                                 0.1      0.147057  0.149091\n",
       "                                 0.2      0.148271  0.148634\n",
       "        0.0010        2          0.0      0.146128  0.147798\n",
       "                      3          0.0      0.147387  0.148597\n",
       "                                 0.1      0.147206  0.147889\n",
       "                                 0.2      0.146236  0.147455\n",
       "                      4          0.0      0.147926  0.148503\n",
       "                                 0.1      0.148583  0.149129\n",
       "                                 0.2      0.148218  0.148787\n",
       "        0.0020        2          0.0      0.146814  0.147757\n",
       "                      3          0.0      0.149129  0.151401\n",
       "                      4          0.0      0.150662  0.152185"
      ]
     },
     "execution_count": 59,
     "metadata": {},
     "output_type": "execute_result"
    }
   ],
   "source": [
    "final.groupby(['neurons', 'learning_rate', 'num_layers', 'dropout'])['val_loss'].agg(['min', 'max'])"
   ]
  },
  {
   "cell_type": "code",
   "execution_count": null,
   "metadata": {},
   "outputs": [],
   "source": []
  }
 ],
 "metadata": {
  "kernelspec": {
   "display_name": "base",
   "language": "python",
   "name": "python3"
  },
  "language_info": {
   "codemirror_mode": {
    "name": "ipython",
    "version": 3
   },
   "file_extension": ".py",
   "mimetype": "text/x-python",
   "name": "python",
   "nbconvert_exporter": "python",
   "pygments_lexer": "ipython3",
   "version": "3.12.4"
  }
 },
 "nbformat": 4,
 "nbformat_minor": 2
}
