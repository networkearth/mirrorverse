{
 "cells": [
  {
   "cell_type": "code",
   "execution_count": null,
   "metadata": {},
   "outputs": [],
   "source": [
    "%matplotlib inline\n",
    "\n",
    "import os \n",
    "import json \n",
    "\n",
    "import boto3\n",
    "import plotly.express as px\n",
    "import seaborn as sns\n",
    "import matplotlib.pyplot as plt\n",
    "import pandas as pd\n",
    "import numpy as np\n",
    "\n",
    "from mirrorverse.utils import read_data_w_cache\n",
    "\n",
    "os.environ['HAVEN_DATABASE'] = 'haven'\n",
    "os.environ['AWS_PROFILE'] = 'admin'\n",
    "\n",
    "COLOR_PALETTE = ['#648FFF', '#785EF0', '#DC267F', '#FE6100', '#FFB000']"
   ]
  },
  {
   "cell_type": "code",
   "execution_count": null,
   "metadata": {},
   "outputs": [],
   "source": [
    "s3_client = boto3.client('s3')\n",
    "bucket = 'mimic-log-odds-models'\n",
    "version = 7\n",
    "prefix = f'movement-model-m3-a4-v{version}'\n",
    "\n",
    "response = s3_client.list_objects_v2(Bucket=bucket, Prefix=prefix)\n",
    "\n",
    "configs = {}\n",
    "if 'Contents' in response:\n",
    "    for obj in response['Contents']:\n",
    "        if obj['Key'].endswith('config.json'):\n",
    "            config = json.loads(s3_client.get_object(Bucket=bucket, Key=obj['Key'])['Body'].read().decode('utf-8'))\n",
    "            if 'model' in config:\n",
    "                configs[config['run_id']] = config['model']\n",
    "else:\n",
    "    print(\"No objects found.\")\n",
    "\n",
    "rows = []\n",
    "for run_id, config in configs.items():\n",
    "    if 'num_layers' in config:\n",
    "        rows.append({\n",
    "            'run_id': run_id,\n",
    "            'num_layers': config['num_layers'],\n",
    "            'neurons': int(config['layers'][0][1:]),\n",
    "            'dropout': 0.0 if not config['layers'][1].startswith('Dropout') else float(config['layers'][1][-1])/10,\n",
    "            'learning_rate': config['optimizer_kwargs']['learning_rate']\n",
    "        })\n",
    "\n",
    "configs_data = pd.DataFrame(rows)\n",
    "\n",
    "results = (\n",
    "    read_data_w_cache(f'select * from movement_model_experiment_m3_a4_v{version}')\n",
    "    .sort_values(['run_id', 'epoch'], ascending=True)\n",
    ")\n",
    "results = results[['run_id', 'loss', 'val_loss', 'train_loss', 'epoch']].merge(configs_data)\n",
    "results.head()"
   ]
  },
  {
   "cell_type": "code",
   "execution_count": null,
   "metadata": {},
   "outputs": [],
   "source": [
    "final = results.groupby('run_id')[['val_loss', 'train_loss', 'loss', 'epoch', 'neurons', 'dropout', 'num_layers', 'learning_rate']].last().reset_index().sort_values('val_loss', ascending=True)\n",
    "final.head()"
   ]
  },
  {
   "cell_type": "code",
   "execution_count": null,
   "metadata": {},
   "outputs": [],
   "source": [
    "x = final.sort_values('val_loss', ascending=True)['run_id'].values[0]\n",
    "x"
   ]
  },
  {
   "cell_type": "code",
   "execution_count": null,
   "metadata": {},
   "outputs": [],
   "source": [
    "px.scatter(final, x='train_loss', y='val_loss')"
   ]
  },
  {
   "cell_type": "code",
   "execution_count": null,
   "metadata": {},
   "outputs": [],
   "source": [
    "x = final.sort_values('val_loss', ascending=True)['run_id'].values[0]\n",
    "subset = results[results['run_id'] == x]\n",
    "val = subset[['epoch', 'val_loss']].rename({'val_loss': 'loss'}, axis=1)\n",
    "train = subset[['epoch', 'train_loss']].rename({'train_loss': 'loss'}, axis=1)\n",
    "val['case'] = 'val'\n",
    "train['case'] = 'train'\n",
    "px.line(pd.concat([val, train]), x='epoch', y='loss', color='case')"
   ]
  },
  {
   "cell_type": "code",
   "execution_count": null,
   "metadata": {},
   "outputs": [],
   "source": [
    "px.scatter(final, x='learning_rate', y='val_loss')"
   ]
  },
  {
   "cell_type": "code",
   "execution_count": null,
   "metadata": {},
   "outputs": [],
   "source": [
    "results.groupby('run_id')[['val_loss', 'neurons', 'num_layers']].min().sort_values('val_loss')"
   ]
  },
  {
   "cell_type": "code",
   "execution_count": null,
   "metadata": {},
   "outputs": [],
   "source": [
    "results[results['run_id'] == 'c98bb56a7d5c4ce058e26c97889da98188b2551a65afe407371388cd3c5fd166']"
   ]
  },
  {
   "cell_type": "code",
   "execution_count": null,
   "metadata": {},
   "outputs": [],
   "source": [
    "final.groupby(['neurons', 'learning_rate', 'num_layers', 'dropout'])['val_loss'].agg(['min', 'max'])"
   ]
  },
  {
   "cell_type": "code",
   "execution_count": null,
   "metadata": {},
   "outputs": [],
   "source": []
  }
 ],
 "metadata": {
  "kernelspec": {
   "display_name": "base",
   "language": "python",
   "name": "python3"
  },
  "language_info": {
   "codemirror_mode": {
    "name": "ipython",
    "version": 3
   },
   "file_extension": ".py",
   "mimetype": "text/x-python",
   "name": "python",
   "nbconvert_exporter": "python",
   "pygments_lexer": "ipython3",
   "version": "3.12.4"
  }
 },
 "nbformat": 4,
 "nbformat_minor": 2
}
