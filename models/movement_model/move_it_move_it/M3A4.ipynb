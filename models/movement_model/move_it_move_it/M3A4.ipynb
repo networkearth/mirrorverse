{
 "cells": [
  {
   "cell_type": "code",
   "execution_count": 35,
   "metadata": {},
   "outputs": [],
   "source": [
    "import os\n",
    "\n",
    "import numpy as np\n",
    "import pandas as pd\n",
    "import plotly.express as px\n",
    "import haven.db as db\n",
    "\n",
    "from mirrorverse.utils import read_data_w_cache\n",
    "\n",
    "os.environ['HAVEN_DATABASE'] = 'haven'\n",
    "os.environ['AWS_PROFILE'] = 'admin'"
   ]
  },
  {
   "cell_type": "code",
   "execution_count": 8,
   "metadata": {},
   "outputs": [
    {
     "data": {
      "text/html": [
       "<div>\n",
       "<style scoped>\n",
       "    .dataframe tbody tr th:only-of-type {\n",
       "        vertical-align: middle;\n",
       "    }\n",
       "\n",
       "    .dataframe tbody tr th {\n",
       "        vertical-align: top;\n",
       "    }\n",
       "\n",
       "    .dataframe thead th {\n",
       "        text-align: right;\n",
       "    }\n",
       "</style>\n",
       "<table border=\"1\" class=\"dataframe\">\n",
       "  <thead>\n",
       "    <tr style=\"text-align: right;\">\n",
       "      <th></th>\n",
       "      <th>_decision</th>\n",
       "      <th>_choice</th>\n",
       "      <th>_selected</th>\n",
       "      <th>mixed_layer_thickness</th>\n",
       "      <th>net_primary_production</th>\n",
       "      <th>water_heading</th>\n",
       "      <th>movement_heading</th>\n",
       "      <th>distance</th>\n",
       "      <th>origin_h3_index</th>\n",
       "      <th>next_h3_index</th>\n",
       "      <th>...</th>\n",
       "      <th>region</th>\n",
       "      <th>home_lat</th>\n",
       "      <th>home_lon</th>\n",
       "      <th>normed_home_lat</th>\n",
       "      <th>normed_home_lon</th>\n",
       "      <th>fork_length_cm</th>\n",
       "      <th>normalized_fork_length</th>\n",
       "      <th>cos_time</th>\n",
       "      <th>sin_time</th>\n",
       "      <th>tag_key</th>\n",
       "    </tr>\n",
       "  </thead>\n",
       "  <tbody>\n",
       "    <tr>\n",
       "      <th>0</th>\n",
       "      <td>3</td>\n",
       "      <td>2</td>\n",
       "      <td>True</td>\n",
       "      <td>30.497318</td>\n",
       "      <td>14.465889</td>\n",
       "      <td>-2.608261</td>\n",
       "      <td>0.000000</td>\n",
       "      <td>0.000000</td>\n",
       "      <td>840c503ffffffff</td>\n",
       "      <td>840c503ffffffff</td>\n",
       "      <td>...</td>\n",
       "      <td>BC</td>\n",
       "      <td>57.0</td>\n",
       "      <td>-136.0</td>\n",
       "      <td>0.633333</td>\n",
       "      <td>-0.755556</td>\n",
       "      <td>81.0</td>\n",
       "      <td>0.777122</td>\n",
       "      <td>0.415415</td>\n",
       "      <td>0.909632</td>\n",
       "      <td>159012</td>\n",
       "    </tr>\n",
       "    <tr>\n",
       "      <th>1</th>\n",
       "      <td>5</td>\n",
       "      <td>9</td>\n",
       "      <td>False</td>\n",
       "      <td>39.001527</td>\n",
       "      <td>8.097725</td>\n",
       "      <td>1.131332</td>\n",
       "      <td>-0.701095</td>\n",
       "      <td>39.735291</td>\n",
       "      <td>840c503ffffffff</td>\n",
       "      <td>840c503ffffffff</td>\n",
       "      <td>...</td>\n",
       "      <td>BC</td>\n",
       "      <td>57.0</td>\n",
       "      <td>-136.0</td>\n",
       "      <td>0.633333</td>\n",
       "      <td>-0.755556</td>\n",
       "      <td>81.0</td>\n",
       "      <td>0.777122</td>\n",
       "      <td>0.415415</td>\n",
       "      <td>0.909632</td>\n",
       "      <td>159012</td>\n",
       "    </tr>\n",
       "    <tr>\n",
       "      <th>2</th>\n",
       "      <td>21</td>\n",
       "      <td>4</td>\n",
       "      <td>False</td>\n",
       "      <td>37.105423</td>\n",
       "      <td>23.591280</td>\n",
       "      <td>2.865548</td>\n",
       "      <td>0.686042</td>\n",
       "      <td>43.020737</td>\n",
       "      <td>840c5edffffffff</td>\n",
       "      <td>840c5edffffffff</td>\n",
       "      <td>...</td>\n",
       "      <td>BC</td>\n",
       "      <td>57.0</td>\n",
       "      <td>-136.0</td>\n",
       "      <td>0.633333</td>\n",
       "      <td>-0.755556</td>\n",
       "      <td>81.0</td>\n",
       "      <td>0.777122</td>\n",
       "      <td>-0.142315</td>\n",
       "      <td>0.989821</td>\n",
       "      <td>159012</td>\n",
       "    </tr>\n",
       "    <tr>\n",
       "      <th>3</th>\n",
       "      <td>4</td>\n",
       "      <td>18</td>\n",
       "      <td>False</td>\n",
       "      <td>9.453802</td>\n",
       "      <td>13.094096</td>\n",
       "      <td>-1.985158</td>\n",
       "      <td>0.674414</td>\n",
       "      <td>87.115089</td>\n",
       "      <td>840c503ffffffff</td>\n",
       "      <td>840c503ffffffff</td>\n",
       "      <td>...</td>\n",
       "      <td>BC</td>\n",
       "      <td>57.0</td>\n",
       "      <td>-136.0</td>\n",
       "      <td>0.633333</td>\n",
       "      <td>-0.755556</td>\n",
       "      <td>81.0</td>\n",
       "      <td>0.777122</td>\n",
       "      <td>0.415415</td>\n",
       "      <td>0.909632</td>\n",
       "      <td>159012</td>\n",
       "    </tr>\n",
       "    <tr>\n",
       "      <th>4</th>\n",
       "      <td>21</td>\n",
       "      <td>13</td>\n",
       "      <td>False</td>\n",
       "      <td>35.741338</td>\n",
       "      <td>27.489655</td>\n",
       "      <td>2.475744</td>\n",
       "      <td>-2.444469</td>\n",
       "      <td>42.879120</td>\n",
       "      <td>840c5edffffffff</td>\n",
       "      <td>840c5edffffffff</td>\n",
       "      <td>...</td>\n",
       "      <td>BC</td>\n",
       "      <td>57.0</td>\n",
       "      <td>-136.0</td>\n",
       "      <td>0.633333</td>\n",
       "      <td>-0.755556</td>\n",
       "      <td>81.0</td>\n",
       "      <td>0.777122</td>\n",
       "      <td>-0.142315</td>\n",
       "      <td>0.989821</td>\n",
       "      <td>159012</td>\n",
       "    </tr>\n",
       "  </tbody>\n",
       "</table>\n",
       "<p>5 rows × 27 columns</p>\n",
       "</div>"
      ],
      "text/plain": [
       "   _decision  _choice  _selected  mixed_layer_thickness  \\\n",
       "0          3        2       True              30.497318   \n",
       "1          5        9      False              39.001527   \n",
       "2         21        4      False              37.105423   \n",
       "3          4       18      False               9.453802   \n",
       "4         21       13      False              35.741338   \n",
       "\n",
       "   net_primary_production  water_heading  movement_heading   distance  \\\n",
       "0               14.465889      -2.608261          0.000000   0.000000   \n",
       "1                8.097725       1.131332         -0.701095  39.735291   \n",
       "2               23.591280       2.865548          0.686042  43.020737   \n",
       "3               13.094096      -1.985158          0.674414  87.115089   \n",
       "4               27.489655       2.475744         -2.444469  42.879120   \n",
       "\n",
       "   origin_h3_index    next_h3_index  ... region home_lat  home_lon  \\\n",
       "0  840c503ffffffff  840c503ffffffff  ...     BC     57.0    -136.0   \n",
       "1  840c503ffffffff  840c503ffffffff  ...     BC     57.0    -136.0   \n",
       "2  840c5edffffffff  840c5edffffffff  ...     BC     57.0    -136.0   \n",
       "3  840c503ffffffff  840c503ffffffff  ...     BC     57.0    -136.0   \n",
       "4  840c5edffffffff  840c5edffffffff  ...     BC     57.0    -136.0   \n",
       "\n",
       "   normed_home_lat  normed_home_lon  fork_length_cm  normalized_fork_length  \\\n",
       "0         0.633333        -0.755556            81.0                0.777122   \n",
       "1         0.633333        -0.755556            81.0                0.777122   \n",
       "2         0.633333        -0.755556            81.0                0.777122   \n",
       "3         0.633333        -0.755556            81.0                0.777122   \n",
       "4         0.633333        -0.755556            81.0                0.777122   \n",
       "\n",
       "   cos_time  sin_time  tag_key  \n",
       "0  0.415415  0.909632   159012  \n",
       "1  0.415415  0.909632   159012  \n",
       "2 -0.142315  0.989821   159012  \n",
       "3  0.415415  0.909632   159012  \n",
       "4 -0.142315  0.989821   159012  \n",
       "\n",
       "[5 rows x 27 columns]"
      ]
     },
     "execution_count": 8,
     "metadata": {},
     "output_type": "execute_result"
    }
   ],
   "source": [
    "train = read_data_w_cache(\n",
    "    'select * from movement_model_features_m3_a2'\n",
    ")\n",
    "train.head()"
   ]
  },
  {
   "cell_type": "code",
   "execution_count": 9,
   "metadata": {},
   "outputs": [
    {
     "data": {
      "text/html": [
       "<div>\n",
       "<style scoped>\n",
       "    .dataframe tbody tr th:only-of-type {\n",
       "        vertical-align: middle;\n",
       "    }\n",
       "\n",
       "    .dataframe tbody tr th {\n",
       "        vertical-align: top;\n",
       "    }\n",
       "\n",
       "    .dataframe thead th {\n",
       "        text-align: right;\n",
       "    }\n",
       "</style>\n",
       "<table border=\"1\" class=\"dataframe\">\n",
       "  <thead>\n",
       "    <tr style=\"text-align: right;\">\n",
       "      <th></th>\n",
       "      <th>_decision</th>\n",
       "      <th>_choice</th>\n",
       "      <th>_selected</th>\n",
       "      <th>mixed_layer_thickness</th>\n",
       "      <th>net_primary_production</th>\n",
       "      <th>water_heading</th>\n",
       "      <th>movement_heading</th>\n",
       "      <th>distance</th>\n",
       "      <th>origin_h3_index</th>\n",
       "      <th>next_h3_index</th>\n",
       "      <th>...</th>\n",
       "      <th>region</th>\n",
       "      <th>home_lat</th>\n",
       "      <th>home_lon</th>\n",
       "      <th>normed_home_lat</th>\n",
       "      <th>normed_home_lon</th>\n",
       "      <th>fork_length_cm</th>\n",
       "      <th>normalized_fork_length</th>\n",
       "      <th>cos_time</th>\n",
       "      <th>sin_time</th>\n",
       "      <th>tag_key</th>\n",
       "    </tr>\n",
       "  </thead>\n",
       "  <tbody>\n",
       "    <tr>\n",
       "      <th>0</th>\n",
       "      <td>17</td>\n",
       "      <td>1</td>\n",
       "      <td>False</td>\n",
       "      <td>14.880235</td>\n",
       "      <td>5.140197</td>\n",
       "      <td>-2.849403</td>\n",
       "      <td>0.716714</td>\n",
       "      <td>85.654060</td>\n",
       "      <td>840ced1ffffffff</td>\n",
       "      <td>840ced1ffffffff</td>\n",
       "      <td>...</td>\n",
       "      <td>WA/OR</td>\n",
       "      <td>46.0</td>\n",
       "      <td>-125.0</td>\n",
       "      <td>0.511111</td>\n",
       "      <td>-0.694444</td>\n",
       "      <td>66.0</td>\n",
       "      <td>-1.350667</td>\n",
       "      <td>0.415415</td>\n",
       "      <td>-9.096320e-01</td>\n",
       "      <td>205406</td>\n",
       "    </tr>\n",
       "    <tr>\n",
       "      <th>1</th>\n",
       "      <td>38</td>\n",
       "      <td>5</td>\n",
       "      <td>False</td>\n",
       "      <td>10.490738</td>\n",
       "      <td>6.375038</td>\n",
       "      <td>-2.515185</td>\n",
       "      <td>2.915748</td>\n",
       "      <td>70.676826</td>\n",
       "      <td>840ced7ffffffff</td>\n",
       "      <td>840ced7ffffffff</td>\n",
       "      <td>...</td>\n",
       "      <td>WA/OR</td>\n",
       "      <td>46.0</td>\n",
       "      <td>-125.0</td>\n",
       "      <td>0.511111</td>\n",
       "      <td>-0.694444</td>\n",
       "      <td>66.0</td>\n",
       "      <td>-1.350667</td>\n",
       "      <td>0.841254</td>\n",
       "      <td>-5.406408e-01</td>\n",
       "      <td>205406</td>\n",
       "    </tr>\n",
       "    <tr>\n",
       "      <th>2</th>\n",
       "      <td>52</td>\n",
       "      <td>17</td>\n",
       "      <td>False</td>\n",
       "      <td>26.421632</td>\n",
       "      <td>1.916896</td>\n",
       "      <td>-1.537231</td>\n",
       "      <td>0.352988</td>\n",
       "      <td>75.999084</td>\n",
       "      <td>840ceb5ffffffff</td>\n",
       "      <td>840cccbffffffff</td>\n",
       "      <td>...</td>\n",
       "      <td>WA/OR</td>\n",
       "      <td>46.0</td>\n",
       "      <td>-125.0</td>\n",
       "      <td>0.511111</td>\n",
       "      <td>-0.694444</td>\n",
       "      <td>66.0</td>\n",
       "      <td>-1.350667</td>\n",
       "      <td>1.000000</td>\n",
       "      <td>-2.449294e-16</td>\n",
       "      <td>205406</td>\n",
       "    </tr>\n",
       "    <tr>\n",
       "      <th>3</th>\n",
       "      <td>42</td>\n",
       "      <td>19</td>\n",
       "      <td>False</td>\n",
       "      <td>13.405025</td>\n",
       "      <td>1.620341</td>\n",
       "      <td>-2.321418</td>\n",
       "      <td>1.568281</td>\n",
       "      <td>69.583122</td>\n",
       "      <td>840ced7ffffffff</td>\n",
       "      <td>840ced7ffffffff</td>\n",
       "      <td>...</td>\n",
       "      <td>WA/OR</td>\n",
       "      <td>46.0</td>\n",
       "      <td>-125.0</td>\n",
       "      <td>0.511111</td>\n",
       "      <td>-0.694444</td>\n",
       "      <td>66.0</td>\n",
       "      <td>-1.350667</td>\n",
       "      <td>0.841254</td>\n",
       "      <td>-5.406408e-01</td>\n",
       "      <td>205406</td>\n",
       "    </tr>\n",
       "    <tr>\n",
       "      <th>4</th>\n",
       "      <td>26</td>\n",
       "      <td>1</td>\n",
       "      <td>False</td>\n",
       "      <td>24.803674</td>\n",
       "      <td>4.895049</td>\n",
       "      <td>-2.911566</td>\n",
       "      <td>0.716714</td>\n",
       "      <td>85.654060</td>\n",
       "      <td>840ced1ffffffff</td>\n",
       "      <td>840ced1ffffffff</td>\n",
       "      <td>...</td>\n",
       "      <td>WA/OR</td>\n",
       "      <td>46.0</td>\n",
       "      <td>-125.0</td>\n",
       "      <td>0.511111</td>\n",
       "      <td>-0.694444</td>\n",
       "      <td>66.0</td>\n",
       "      <td>-1.350667</td>\n",
       "      <td>0.841254</td>\n",
       "      <td>-5.406408e-01</td>\n",
       "      <td>205406</td>\n",
       "    </tr>\n",
       "  </tbody>\n",
       "</table>\n",
       "<p>5 rows × 27 columns</p>\n",
       "</div>"
      ],
      "text/plain": [
       "   _decision  _choice  _selected  mixed_layer_thickness  \\\n",
       "0         17        1      False              14.880235   \n",
       "1         38        5      False              10.490738   \n",
       "2         52       17      False              26.421632   \n",
       "3         42       19      False              13.405025   \n",
       "4         26        1      False              24.803674   \n",
       "\n",
       "   net_primary_production  water_heading  movement_heading   distance  \\\n",
       "0                5.140197      -2.849403          0.716714  85.654060   \n",
       "1                6.375038      -2.515185          2.915748  70.676826   \n",
       "2                1.916896      -1.537231          0.352988  75.999084   \n",
       "3                1.620341      -2.321418          1.568281  69.583122   \n",
       "4                4.895049      -2.911566          0.716714  85.654060   \n",
       "\n",
       "   origin_h3_index    next_h3_index  ... region home_lat  home_lon  \\\n",
       "0  840ced1ffffffff  840ced1ffffffff  ...  WA/OR     46.0    -125.0   \n",
       "1  840ced7ffffffff  840ced7ffffffff  ...  WA/OR     46.0    -125.0   \n",
       "2  840ceb5ffffffff  840cccbffffffff  ...  WA/OR     46.0    -125.0   \n",
       "3  840ced7ffffffff  840ced7ffffffff  ...  WA/OR     46.0    -125.0   \n",
       "4  840ced1ffffffff  840ced1ffffffff  ...  WA/OR     46.0    -125.0   \n",
       "\n",
       "   normed_home_lat  normed_home_lon  fork_length_cm  normalized_fork_length  \\\n",
       "0         0.511111        -0.694444            66.0               -1.350667   \n",
       "1         0.511111        -0.694444            66.0               -1.350667   \n",
       "2         0.511111        -0.694444            66.0               -1.350667   \n",
       "3         0.511111        -0.694444            66.0               -1.350667   \n",
       "4         0.511111        -0.694444            66.0               -1.350667   \n",
       "\n",
       "   cos_time      sin_time  tag_key  \n",
       "0  0.415415 -9.096320e-01   205406  \n",
       "1  0.841254 -5.406408e-01   205406  \n",
       "2  1.000000 -2.449294e-16   205406  \n",
       "3  0.841254 -5.406408e-01   205406  \n",
       "4  0.841254 -5.406408e-01   205406  \n",
       "\n",
       "[5 rows x 27 columns]"
      ]
     },
     "execution_count": 9,
     "metadata": {},
     "output_type": "execute_result"
    }
   ],
   "source": [
    "test = read_data_w_cache(\n",
    "    'select * from movement_model_features_m3_a2_test'\n",
    ")\n",
    "test.head()"
   ]
  },
  {
   "cell_type": "code",
   "execution_count": 10,
   "metadata": {},
   "outputs": [
    {
     "data": {
      "text/plain": [
       "90"
      ]
     },
     "execution_count": 10,
     "metadata": {},
     "output_type": "execute_result"
    }
   ],
   "source": [
    "train['_individual'].max()"
   ]
  },
  {
   "cell_type": "code",
   "execution_count": 11,
   "metadata": {},
   "outputs": [
    {
     "data": {
      "text/plain": [
       "0"
      ]
     },
     "execution_count": 11,
     "metadata": {},
     "output_type": "execute_result"
    }
   ],
   "source": [
    "test['_individual'].min()"
   ]
  },
  {
   "cell_type": "code",
   "execution_count": 12,
   "metadata": {},
   "outputs": [],
   "source": [
    "test['_individual'] = test['_individual'] + 91"
   ]
  },
  {
   "cell_type": "code",
   "execution_count": 13,
   "metadata": {},
   "outputs": [],
   "source": [
    "data = pd.concat([train, test])"
   ]
  },
  {
   "cell_type": "code",
   "execution_count": 17,
   "metadata": {},
   "outputs": [
    {
     "name": "stdout",
     "output_type": "stream",
     "text": [
      "[0.0, 0.3, 0.4, 0.5, 0.6, 0.7, 0.8, 0.9, 1.0]\n"
     ]
    }
   ],
   "source": [
    "data['binned_normed_distance'] = round(data['normed_distance'] * 10)/10\n",
    "print(sorted(data['binned_normed_distance'].unique()))"
   ]
  },
  {
   "cell_type": "code",
   "execution_count": 22,
   "metadata": {},
   "outputs": [
    {
     "name": "stdout",
     "output_type": "stream",
     "text": [
      "[-3.1415927, -2.7488937, -2.3561945, -1.9634955, -1.5707964, -1.1780972, -0.7853982, -0.3926991, 0.0, 0.3926991, 0.7853982, 1.1780972, 1.5707964, 1.9634955, 2.3561945, 2.7488937, 3.1415927]\n"
     ]
    }
   ],
   "source": [
    "data['binned_movement_heading'] = round(data['movement_heading'] / (np.pi/8)) * (np.pi/8)\n",
    "print(sorted(data['binned_movement_heading'].unique()))"
   ]
  },
  {
   "cell_type": "code",
   "execution_count": 30,
   "metadata": {},
   "outputs": [
    {
     "data": {
      "application/vnd.plotly.v1+json": {
       "config": {
        "plotlyServerURL": "https://plot.ly"
       },
       "data": [
        {
         "hovertemplate": "binned_normed_distance=%{x}<br>binned_movement_heading=%{y}<br>size=%{marker.size}<extra></extra>",
         "legendgroup": "",
         "marker": {
          "color": "#636efa",
          "size": [
           8.905037290767,
           3.295836866004329,
           0.6931471805599453,
           3.1780538303479458,
           1.791759469228055,
           8.100161446936607,
           8.228977643358313,
           7.807510042216193,
           7.0431599159883405,
           7.319202458767849,
           7.388946097618437,
           7.96311205897929,
           8.22389538017882,
           8.374938143835367,
           8.05356916913454,
           7.86940171257709,
           7.029972911706386,
           7.118826249062078,
           7.252762418053187,
           7.9617188159813645,
           8.199738960630786,
           6.953684210870537,
           2.4849066497880004,
           5.117993812416755,
           4.02535169073515,
           2.5649493574615367,
           4.912654885736052,
           3.1780538303479458,
           5.081404364984463,
           4.110873864173311,
           2.5649493574615367,
           5.017279836814924,
           2.302585092994046,
           3.7376696182833684,
           3.58351893845611,
           2.9444389791664403,
           1.0986122886681098,
           0.6931471805599453,
           4.564348191467836,
           3.7612001156935624,
           3.4965075614664802,
           1.791759469228055,
           0,
           1.791759469228055,
           4.31748811353631,
           7.1204443723924875,
           7.653020413804189,
           7.818832443803404,
           7.5251007461258,
           7.671360923190644,
           6.882437470997847,
           7.295735072749282,
           7.955074273262696,
           8.204124932574041,
           7.113956109566034,
           7.45876269238096,
           7.10085190894405,
           7.536363938404511,
           7.074116816197362,
           7.267525427828172,
           7.792761720816526,
           7.943427767876373,
           6.715383386334681,
           8.419359831067474,
           7.311886164077165,
           6.975413927455952,
           7.002155954403621,
           7.483806687665835,
           8.328692583545568,
           7.492760300922379,
           7.707512194600341,
           8.345217926676428,
           7.1204443723924875,
           7.003065458786462,
           6.710523109452428,
           7.090076835776092,
           8.017307507688582,
           7.77863014732581,
           7.3098814858247865,
           7.687538766201629,
           6.714170529909472,
           6.994849985833071,
           5.062595033026967,
           6.028278520230698,
           0.6931471805599453,
           7.57198844937744,
           7.79770203551669,
           6.240275845170769,
           7.157735484249907,
           5.2574953720277815,
           4.875197323201151,
           1.0986122886681098,
           0,
           7.257002707092073,
           3.8918202981106265,
           6.839476438228843,
           2.9444389791664403,
           6.375024819828097,
           4.663439094112067,
           3.8918202981106265,
           3.6109179126442243,
           5.860786223465865,
           5.594711379601839,
           3.295836866004329,
           5.135798437050262,
           1.6094379124341003,
           1.0986122886681098,
           0.6931471805599453,
           3.295836866004329,
           5.723585101952381,
           2.70805020110221
          ],
          "sizemode": "area",
          "sizeref": 0.0222625932269175,
          "symbol": "circle"
         },
         "mode": "markers",
         "name": "",
         "orientation": "v",
         "showlegend": false,
         "type": "scatter",
         "x": [
          0,
          0.30000001192092896,
          0.30000001192092896,
          0.30000001192092896,
          0.30000001192092896,
          0.4000000059604645,
          0.4000000059604645,
          0.4000000059604645,
          0.4000000059604645,
          0.4000000059604645,
          0.4000000059604645,
          0.4000000059604645,
          0.4000000059604645,
          0.4000000059604645,
          0.4000000059604645,
          0.4000000059604645,
          0.4000000059604645,
          0.4000000059604645,
          0.4000000059604645,
          0.4000000059604645,
          0.4000000059604645,
          0.4000000059604645,
          0.5,
          0.5,
          0.5,
          0.5,
          0.5,
          0.5,
          0.5,
          0.5,
          0.5,
          0.5,
          0.5,
          0.6000000238418579,
          0.6000000238418579,
          0.6000000238418579,
          0.6000000238418579,
          0.6000000238418579,
          0.6000000238418579,
          0.6000000238418579,
          0.6000000238418579,
          0.6000000238418579,
          0.6000000238418579,
          0.6000000238418579,
          0.6000000238418579,
          0.699999988079071,
          0.699999988079071,
          0.699999988079071,
          0.699999988079071,
          0.699999988079071,
          0.699999988079071,
          0.699999988079071,
          0.699999988079071,
          0.699999988079071,
          0.699999988079071,
          0.699999988079071,
          0.699999988079071,
          0.699999988079071,
          0.699999988079071,
          0.699999988079071,
          0.699999988079071,
          0.699999988079071,
          0.800000011920929,
          0.800000011920929,
          0.800000011920929,
          0.800000011920929,
          0.800000011920929,
          0.800000011920929,
          0.800000011920929,
          0.800000011920929,
          0.800000011920929,
          0.800000011920929,
          0.800000011920929,
          0.800000011920929,
          0.800000011920929,
          0.800000011920929,
          0.800000011920929,
          0.800000011920929,
          0.800000011920929,
          0.8999999761581421,
          0.8999999761581421,
          0.8999999761581421,
          0.8999999761581421,
          0.8999999761581421,
          0.8999999761581421,
          0.8999999761581421,
          0.8999999761581421,
          0.8999999761581421,
          0.8999999761581421,
          0.8999999761581421,
          0.8999999761581421,
          0.8999999761581421,
          0.8999999761581421,
          0.8999999761581421,
          0.8999999761581421,
          1,
          1,
          1,
          1,
          1,
          1,
          1,
          1,
          1,
          1,
          1,
          1,
          1,
          1,
          1,
          1
         ],
         "xaxis": "x",
         "y": [
          0,
          -3.1415927410125732,
          -0.7853981852531433,
          0,
          2.356194496154785,
          -3.1415927410125732,
          -2.7488937377929688,
          -2.356194496154785,
          -1.9634954929351807,
          -1.5707963705062866,
          -1.1780972480773926,
          -0.7853981852531433,
          -0.39269909262657166,
          0,
          0.39269909262657166,
          0.7853981852531433,
          1.1780972480773926,
          1.5707963705062866,
          1.9634954929351807,
          2.356194496154785,
          2.7488937377929688,
          3.1415927410125732,
          -3.1415927410125732,
          -2.7488937377929688,
          -1.9634954929351807,
          -1.5707963705062866,
          -0.39269909262657166,
          0,
          0.39269909262657166,
          1.1780972480773926,
          1.5707963705062866,
          2.7488937377929688,
          3.1415927410125732,
          -3.1415927410125732,
          -2.7488937377929688,
          -2.356194496154785,
          -1.9634954929351807,
          -1.5707963705062866,
          -0.39269909262657166,
          0,
          0.39269909262657166,
          1.1780972480773926,
          1.5707963705062866,
          2.356194496154785,
          2.7488937377929688,
          -3.1415927410125732,
          -2.7488937377929688,
          -2.356194496154785,
          -1.9634954929351807,
          -1.5707963705062866,
          -1.1780972480773926,
          -0.7853981852531433,
          -0.39269909262657166,
          0,
          0.39269909262657166,
          0.7853981852531433,
          1.1780972480773926,
          1.5707963705062866,
          1.9634954929351807,
          2.356194496154785,
          2.7488937377929688,
          3.1415927410125732,
          -3.1415927410125732,
          -2.7488937377929688,
          -2.356194496154785,
          -1.9634954929351807,
          -1.5707963705062866,
          -1.1780972480773926,
          -0.7853981852531433,
          -0.39269909262657166,
          0,
          0.39269909262657166,
          0.7853981852531433,
          1.1780972480773926,
          1.5707963705062866,
          1.9634954929351807,
          2.356194496154785,
          2.7488937377929688,
          3.1415927410125732,
          -3.1415927410125732,
          -2.7488937377929688,
          -2.356194496154785,
          -1.9634954929351807,
          -1.5707963705062866,
          -0.7853981852531433,
          -0.39269909262657166,
          0,
          0.39269909262657166,
          0.7853981852531433,
          1.1780972480773926,
          1.5707963705062866,
          1.9634954929351807,
          2.356194496154785,
          2.7488937377929688,
          3.1415927410125732,
          -3.1415927410125732,
          -2.7488937377929688,
          -2.356194496154785,
          -1.5707963705062866,
          -1.1780972480773926,
          -0.7853981852531433,
          -0.39269909262657166,
          0,
          0.39269909262657166,
          0.7853981852531433,
          1.1780972480773926,
          1.5707963705062866,
          1.9634954929351807,
          2.356194496154785,
          2.7488937377929688,
          3.1415927410125732
         ],
         "yaxis": "y"
        }
       ],
       "layout": {
        "legend": {
         "itemsizing": "constant",
         "tracegroupgap": 0
        },
        "margin": {
         "t": 60
        },
        "template": {
         "data": {
          "bar": [
           {
            "error_x": {
             "color": "#2a3f5f"
            },
            "error_y": {
             "color": "#2a3f5f"
            },
            "marker": {
             "line": {
              "color": "#E5ECF6",
              "width": 0.5
             },
             "pattern": {
              "fillmode": "overlay",
              "size": 10,
              "solidity": 0.2
             }
            },
            "type": "bar"
           }
          ],
          "barpolar": [
           {
            "marker": {
             "line": {
              "color": "#E5ECF6",
              "width": 0.5
             },
             "pattern": {
              "fillmode": "overlay",
              "size": 10,
              "solidity": 0.2
             }
            },
            "type": "barpolar"
           }
          ],
          "carpet": [
           {
            "aaxis": {
             "endlinecolor": "#2a3f5f",
             "gridcolor": "white",
             "linecolor": "white",
             "minorgridcolor": "white",
             "startlinecolor": "#2a3f5f"
            },
            "baxis": {
             "endlinecolor": "#2a3f5f",
             "gridcolor": "white",
             "linecolor": "white",
             "minorgridcolor": "white",
             "startlinecolor": "#2a3f5f"
            },
            "type": "carpet"
           }
          ],
          "choropleth": [
           {
            "colorbar": {
             "outlinewidth": 0,
             "ticks": ""
            },
            "type": "choropleth"
           }
          ],
          "contour": [
           {
            "colorbar": {
             "outlinewidth": 0,
             "ticks": ""
            },
            "colorscale": [
             [
              0,
              "#0d0887"
             ],
             [
              0.1111111111111111,
              "#46039f"
             ],
             [
              0.2222222222222222,
              "#7201a8"
             ],
             [
              0.3333333333333333,
              "#9c179e"
             ],
             [
              0.4444444444444444,
              "#bd3786"
             ],
             [
              0.5555555555555556,
              "#d8576b"
             ],
             [
              0.6666666666666666,
              "#ed7953"
             ],
             [
              0.7777777777777778,
              "#fb9f3a"
             ],
             [
              0.8888888888888888,
              "#fdca26"
             ],
             [
              1,
              "#f0f921"
             ]
            ],
            "type": "contour"
           }
          ],
          "contourcarpet": [
           {
            "colorbar": {
             "outlinewidth": 0,
             "ticks": ""
            },
            "type": "contourcarpet"
           }
          ],
          "heatmap": [
           {
            "colorbar": {
             "outlinewidth": 0,
             "ticks": ""
            },
            "colorscale": [
             [
              0,
              "#0d0887"
             ],
             [
              0.1111111111111111,
              "#46039f"
             ],
             [
              0.2222222222222222,
              "#7201a8"
             ],
             [
              0.3333333333333333,
              "#9c179e"
             ],
             [
              0.4444444444444444,
              "#bd3786"
             ],
             [
              0.5555555555555556,
              "#d8576b"
             ],
             [
              0.6666666666666666,
              "#ed7953"
             ],
             [
              0.7777777777777778,
              "#fb9f3a"
             ],
             [
              0.8888888888888888,
              "#fdca26"
             ],
             [
              1,
              "#f0f921"
             ]
            ],
            "type": "heatmap"
           }
          ],
          "heatmapgl": [
           {
            "colorbar": {
             "outlinewidth": 0,
             "ticks": ""
            },
            "colorscale": [
             [
              0,
              "#0d0887"
             ],
             [
              0.1111111111111111,
              "#46039f"
             ],
             [
              0.2222222222222222,
              "#7201a8"
             ],
             [
              0.3333333333333333,
              "#9c179e"
             ],
             [
              0.4444444444444444,
              "#bd3786"
             ],
             [
              0.5555555555555556,
              "#d8576b"
             ],
             [
              0.6666666666666666,
              "#ed7953"
             ],
             [
              0.7777777777777778,
              "#fb9f3a"
             ],
             [
              0.8888888888888888,
              "#fdca26"
             ],
             [
              1,
              "#f0f921"
             ]
            ],
            "type": "heatmapgl"
           }
          ],
          "histogram": [
           {
            "marker": {
             "pattern": {
              "fillmode": "overlay",
              "size": 10,
              "solidity": 0.2
             }
            },
            "type": "histogram"
           }
          ],
          "histogram2d": [
           {
            "colorbar": {
             "outlinewidth": 0,
             "ticks": ""
            },
            "colorscale": [
             [
              0,
              "#0d0887"
             ],
             [
              0.1111111111111111,
              "#46039f"
             ],
             [
              0.2222222222222222,
              "#7201a8"
             ],
             [
              0.3333333333333333,
              "#9c179e"
             ],
             [
              0.4444444444444444,
              "#bd3786"
             ],
             [
              0.5555555555555556,
              "#d8576b"
             ],
             [
              0.6666666666666666,
              "#ed7953"
             ],
             [
              0.7777777777777778,
              "#fb9f3a"
             ],
             [
              0.8888888888888888,
              "#fdca26"
             ],
             [
              1,
              "#f0f921"
             ]
            ],
            "type": "histogram2d"
           }
          ],
          "histogram2dcontour": [
           {
            "colorbar": {
             "outlinewidth": 0,
             "ticks": ""
            },
            "colorscale": [
             [
              0,
              "#0d0887"
             ],
             [
              0.1111111111111111,
              "#46039f"
             ],
             [
              0.2222222222222222,
              "#7201a8"
             ],
             [
              0.3333333333333333,
              "#9c179e"
             ],
             [
              0.4444444444444444,
              "#bd3786"
             ],
             [
              0.5555555555555556,
              "#d8576b"
             ],
             [
              0.6666666666666666,
              "#ed7953"
             ],
             [
              0.7777777777777778,
              "#fb9f3a"
             ],
             [
              0.8888888888888888,
              "#fdca26"
             ],
             [
              1,
              "#f0f921"
             ]
            ],
            "type": "histogram2dcontour"
           }
          ],
          "mesh3d": [
           {
            "colorbar": {
             "outlinewidth": 0,
             "ticks": ""
            },
            "type": "mesh3d"
           }
          ],
          "parcoords": [
           {
            "line": {
             "colorbar": {
              "outlinewidth": 0,
              "ticks": ""
             }
            },
            "type": "parcoords"
           }
          ],
          "pie": [
           {
            "automargin": true,
            "type": "pie"
           }
          ],
          "scatter": [
           {
            "fillpattern": {
             "fillmode": "overlay",
             "size": 10,
             "solidity": 0.2
            },
            "type": "scatter"
           }
          ],
          "scatter3d": [
           {
            "line": {
             "colorbar": {
              "outlinewidth": 0,
              "ticks": ""
             }
            },
            "marker": {
             "colorbar": {
              "outlinewidth": 0,
              "ticks": ""
             }
            },
            "type": "scatter3d"
           }
          ],
          "scattercarpet": [
           {
            "marker": {
             "colorbar": {
              "outlinewidth": 0,
              "ticks": ""
             }
            },
            "type": "scattercarpet"
           }
          ],
          "scattergeo": [
           {
            "marker": {
             "colorbar": {
              "outlinewidth": 0,
              "ticks": ""
             }
            },
            "type": "scattergeo"
           }
          ],
          "scattergl": [
           {
            "marker": {
             "colorbar": {
              "outlinewidth": 0,
              "ticks": ""
             }
            },
            "type": "scattergl"
           }
          ],
          "scattermapbox": [
           {
            "marker": {
             "colorbar": {
              "outlinewidth": 0,
              "ticks": ""
             }
            },
            "type": "scattermapbox"
           }
          ],
          "scatterpolar": [
           {
            "marker": {
             "colorbar": {
              "outlinewidth": 0,
              "ticks": ""
             }
            },
            "type": "scatterpolar"
           }
          ],
          "scatterpolargl": [
           {
            "marker": {
             "colorbar": {
              "outlinewidth": 0,
              "ticks": ""
             }
            },
            "type": "scatterpolargl"
           }
          ],
          "scatterternary": [
           {
            "marker": {
             "colorbar": {
              "outlinewidth": 0,
              "ticks": ""
             }
            },
            "type": "scatterternary"
           }
          ],
          "surface": [
           {
            "colorbar": {
             "outlinewidth": 0,
             "ticks": ""
            },
            "colorscale": [
             [
              0,
              "#0d0887"
             ],
             [
              0.1111111111111111,
              "#46039f"
             ],
             [
              0.2222222222222222,
              "#7201a8"
             ],
             [
              0.3333333333333333,
              "#9c179e"
             ],
             [
              0.4444444444444444,
              "#bd3786"
             ],
             [
              0.5555555555555556,
              "#d8576b"
             ],
             [
              0.6666666666666666,
              "#ed7953"
             ],
             [
              0.7777777777777778,
              "#fb9f3a"
             ],
             [
              0.8888888888888888,
              "#fdca26"
             ],
             [
              1,
              "#f0f921"
             ]
            ],
            "type": "surface"
           }
          ],
          "table": [
           {
            "cells": {
             "fill": {
              "color": "#EBF0F8"
             },
             "line": {
              "color": "white"
             }
            },
            "header": {
             "fill": {
              "color": "#C8D4E3"
             },
             "line": {
              "color": "white"
             }
            },
            "type": "table"
           }
          ]
         },
         "layout": {
          "annotationdefaults": {
           "arrowcolor": "#2a3f5f",
           "arrowhead": 0,
           "arrowwidth": 1
          },
          "autotypenumbers": "strict",
          "coloraxis": {
           "colorbar": {
            "outlinewidth": 0,
            "ticks": ""
           }
          },
          "colorscale": {
           "diverging": [
            [
             0,
             "#8e0152"
            ],
            [
             0.1,
             "#c51b7d"
            ],
            [
             0.2,
             "#de77ae"
            ],
            [
             0.3,
             "#f1b6da"
            ],
            [
             0.4,
             "#fde0ef"
            ],
            [
             0.5,
             "#f7f7f7"
            ],
            [
             0.6,
             "#e6f5d0"
            ],
            [
             0.7,
             "#b8e186"
            ],
            [
             0.8,
             "#7fbc41"
            ],
            [
             0.9,
             "#4d9221"
            ],
            [
             1,
             "#276419"
            ]
           ],
           "sequential": [
            [
             0,
             "#0d0887"
            ],
            [
             0.1111111111111111,
             "#46039f"
            ],
            [
             0.2222222222222222,
             "#7201a8"
            ],
            [
             0.3333333333333333,
             "#9c179e"
            ],
            [
             0.4444444444444444,
             "#bd3786"
            ],
            [
             0.5555555555555556,
             "#d8576b"
            ],
            [
             0.6666666666666666,
             "#ed7953"
            ],
            [
             0.7777777777777778,
             "#fb9f3a"
            ],
            [
             0.8888888888888888,
             "#fdca26"
            ],
            [
             1,
             "#f0f921"
            ]
           ],
           "sequentialminus": [
            [
             0,
             "#0d0887"
            ],
            [
             0.1111111111111111,
             "#46039f"
            ],
            [
             0.2222222222222222,
             "#7201a8"
            ],
            [
             0.3333333333333333,
             "#9c179e"
            ],
            [
             0.4444444444444444,
             "#bd3786"
            ],
            [
             0.5555555555555556,
             "#d8576b"
            ],
            [
             0.6666666666666666,
             "#ed7953"
            ],
            [
             0.7777777777777778,
             "#fb9f3a"
            ],
            [
             0.8888888888888888,
             "#fdca26"
            ],
            [
             1,
             "#f0f921"
            ]
           ]
          },
          "colorway": [
           "#636efa",
           "#EF553B",
           "#00cc96",
           "#ab63fa",
           "#FFA15A",
           "#19d3f3",
           "#FF6692",
           "#B6E880",
           "#FF97FF",
           "#FECB52"
          ],
          "font": {
           "color": "#2a3f5f"
          },
          "geo": {
           "bgcolor": "white",
           "lakecolor": "white",
           "landcolor": "#E5ECF6",
           "showlakes": true,
           "showland": true,
           "subunitcolor": "white"
          },
          "hoverlabel": {
           "align": "left"
          },
          "hovermode": "closest",
          "mapbox": {
           "style": "light"
          },
          "paper_bgcolor": "white",
          "plot_bgcolor": "#E5ECF6",
          "polar": {
           "angularaxis": {
            "gridcolor": "white",
            "linecolor": "white",
            "ticks": ""
           },
           "bgcolor": "#E5ECF6",
           "radialaxis": {
            "gridcolor": "white",
            "linecolor": "white",
            "ticks": ""
           }
          },
          "scene": {
           "xaxis": {
            "backgroundcolor": "#E5ECF6",
            "gridcolor": "white",
            "gridwidth": 2,
            "linecolor": "white",
            "showbackground": true,
            "ticks": "",
            "zerolinecolor": "white"
           },
           "yaxis": {
            "backgroundcolor": "#E5ECF6",
            "gridcolor": "white",
            "gridwidth": 2,
            "linecolor": "white",
            "showbackground": true,
            "ticks": "",
            "zerolinecolor": "white"
           },
           "zaxis": {
            "backgroundcolor": "#E5ECF6",
            "gridcolor": "white",
            "gridwidth": 2,
            "linecolor": "white",
            "showbackground": true,
            "ticks": "",
            "zerolinecolor": "white"
           }
          },
          "shapedefaults": {
           "line": {
            "color": "#2a3f5f"
           }
          },
          "ternary": {
           "aaxis": {
            "gridcolor": "white",
            "linecolor": "white",
            "ticks": ""
           },
           "baxis": {
            "gridcolor": "white",
            "linecolor": "white",
            "ticks": ""
           },
           "bgcolor": "#E5ECF6",
           "caxis": {
            "gridcolor": "white",
            "linecolor": "white",
            "ticks": ""
           }
          },
          "title": {
           "x": 0.05
          },
          "xaxis": {
           "automargin": true,
           "gridcolor": "white",
           "linecolor": "white",
           "ticks": "",
           "title": {
            "standoff": 15
           },
           "zerolinecolor": "white",
           "zerolinewidth": 2
          },
          "yaxis": {
           "automargin": true,
           "gridcolor": "white",
           "linecolor": "white",
           "ticks": "",
           "title": {
            "standoff": 15
           },
           "zerolinecolor": "white",
           "zerolinewidth": 2
          }
         }
        },
        "xaxis": {
         "anchor": "y",
         "domain": [
          0,
          1
         ],
         "title": {
          "text": "binned_normed_distance"
         }
        },
        "yaxis": {
         "anchor": "x",
         "domain": [
          0,
          1
         ],
         "title": {
          "text": "binned_movement_heading"
         }
        }
       }
      },
      "text/html": [
       "<div>                            <div id=\"9a9f3438-99cf-4833-af52-885fd9c7371e\" class=\"plotly-graph-div\" style=\"height:525px; width:100%;\"></div>            <script type=\"text/javascript\">                require([\"plotly\"], function(Plotly) {                    window.PLOTLYENV=window.PLOTLYENV || {};                                    if (document.getElementById(\"9a9f3438-99cf-4833-af52-885fd9c7371e\")) {                    Plotly.newPlot(                        \"9a9f3438-99cf-4833-af52-885fd9c7371e\",                        [{\"hovertemplate\":\"binned_normed_distance=%{x}\\u003cbr\\u003ebinned_movement_heading=%{y}\\u003cbr\\u003esize=%{marker.size}\\u003cextra\\u003e\\u003c\\u002fextra\\u003e\",\"legendgroup\":\"\",\"marker\":{\"color\":\"#636efa\",\"size\":[8.905037290767,3.295836866004329,0.6931471805599453,3.1780538303479458,1.791759469228055,8.100161446936607,8.228977643358313,7.807510042216193,7.0431599159883405,7.319202458767849,7.388946097618437,7.96311205897929,8.22389538017882,8.374938143835367,8.05356916913454,7.86940171257709,7.029972911706386,7.118826249062078,7.252762418053187,7.9617188159813645,8.199738960630786,6.953684210870537,2.4849066497880004,5.117993812416755,4.02535169073515,2.5649493574615367,4.912654885736052,3.1780538303479458,5.081404364984463,4.110873864173311,2.5649493574615367,5.017279836814924,2.302585092994046,3.7376696182833684,3.58351893845611,2.9444389791664403,1.0986122886681098,0.6931471805599453,4.564348191467836,3.7612001156935624,3.4965075614664802,1.791759469228055,0.0,1.791759469228055,4.31748811353631,7.1204443723924875,7.653020413804189,7.818832443803404,7.5251007461258,7.671360923190644,6.882437470997847,7.295735072749282,7.955074273262696,8.204124932574041,7.113956109566034,7.45876269238096,7.10085190894405,7.536363938404511,7.074116816197362,7.267525427828172,7.792761720816526,7.943427767876373,6.715383386334681,8.419359831067474,7.311886164077165,6.975413927455952,7.002155954403621,7.483806687665835,8.328692583545568,7.492760300922379,7.707512194600341,8.345217926676428,7.1204443723924875,7.003065458786462,6.710523109452428,7.090076835776092,8.017307507688582,7.77863014732581,7.3098814858247865,7.687538766201629,6.714170529909472,6.994849985833071,5.062595033026967,6.028278520230698,0.6931471805599453,7.57198844937744,7.79770203551669,6.240275845170769,7.157735484249907,5.2574953720277815,4.875197323201151,1.0986122886681098,0.0,7.257002707092073,3.8918202981106265,6.839476438228843,2.9444389791664403,6.375024819828097,4.663439094112067,3.8918202981106265,3.6109179126442243,5.860786223465865,5.594711379601839,3.295836866004329,5.135798437050262,1.6094379124341003,1.0986122886681098,0.6931471805599453,3.295836866004329,5.723585101952381,2.70805020110221],\"sizemode\":\"area\",\"sizeref\":0.0222625932269175,\"symbol\":\"circle\"},\"mode\":\"markers\",\"name\":\"\",\"orientation\":\"v\",\"showlegend\":false,\"x\":[0.0,0.30000001192092896,0.30000001192092896,0.30000001192092896,0.30000001192092896,0.4000000059604645,0.4000000059604645,0.4000000059604645,0.4000000059604645,0.4000000059604645,0.4000000059604645,0.4000000059604645,0.4000000059604645,0.4000000059604645,0.4000000059604645,0.4000000059604645,0.4000000059604645,0.4000000059604645,0.4000000059604645,0.4000000059604645,0.4000000059604645,0.4000000059604645,0.5,0.5,0.5,0.5,0.5,0.5,0.5,0.5,0.5,0.5,0.5,0.6000000238418579,0.6000000238418579,0.6000000238418579,0.6000000238418579,0.6000000238418579,0.6000000238418579,0.6000000238418579,0.6000000238418579,0.6000000238418579,0.6000000238418579,0.6000000238418579,0.6000000238418579,0.699999988079071,0.699999988079071,0.699999988079071,0.699999988079071,0.699999988079071,0.699999988079071,0.699999988079071,0.699999988079071,0.699999988079071,0.699999988079071,0.699999988079071,0.699999988079071,0.699999988079071,0.699999988079071,0.699999988079071,0.699999988079071,0.699999988079071,0.800000011920929,0.800000011920929,0.800000011920929,0.800000011920929,0.800000011920929,0.800000011920929,0.800000011920929,0.800000011920929,0.800000011920929,0.800000011920929,0.800000011920929,0.800000011920929,0.800000011920929,0.800000011920929,0.800000011920929,0.800000011920929,0.800000011920929,0.8999999761581421,0.8999999761581421,0.8999999761581421,0.8999999761581421,0.8999999761581421,0.8999999761581421,0.8999999761581421,0.8999999761581421,0.8999999761581421,0.8999999761581421,0.8999999761581421,0.8999999761581421,0.8999999761581421,0.8999999761581421,0.8999999761581421,0.8999999761581421,1.0,1.0,1.0,1.0,1.0,1.0,1.0,1.0,1.0,1.0,1.0,1.0,1.0,1.0,1.0,1.0],\"xaxis\":\"x\",\"y\":[0.0,-3.1415927410125732,-0.7853981852531433,0.0,2.356194496154785,-3.1415927410125732,-2.7488937377929688,-2.356194496154785,-1.9634954929351807,-1.5707963705062866,-1.1780972480773926,-0.7853981852531433,-0.39269909262657166,0.0,0.39269909262657166,0.7853981852531433,1.1780972480773926,1.5707963705062866,1.9634954929351807,2.356194496154785,2.7488937377929688,3.1415927410125732,-3.1415927410125732,-2.7488937377929688,-1.9634954929351807,-1.5707963705062866,-0.39269909262657166,0.0,0.39269909262657166,1.1780972480773926,1.5707963705062866,2.7488937377929688,3.1415927410125732,-3.1415927410125732,-2.7488937377929688,-2.356194496154785,-1.9634954929351807,-1.5707963705062866,-0.39269909262657166,0.0,0.39269909262657166,1.1780972480773926,1.5707963705062866,2.356194496154785,2.7488937377929688,-3.1415927410125732,-2.7488937377929688,-2.356194496154785,-1.9634954929351807,-1.5707963705062866,-1.1780972480773926,-0.7853981852531433,-0.39269909262657166,0.0,0.39269909262657166,0.7853981852531433,1.1780972480773926,1.5707963705062866,1.9634954929351807,2.356194496154785,2.7488937377929688,3.1415927410125732,-3.1415927410125732,-2.7488937377929688,-2.356194496154785,-1.9634954929351807,-1.5707963705062866,-1.1780972480773926,-0.7853981852531433,-0.39269909262657166,0.0,0.39269909262657166,0.7853981852531433,1.1780972480773926,1.5707963705062866,1.9634954929351807,2.356194496154785,2.7488937377929688,3.1415927410125732,-3.1415927410125732,-2.7488937377929688,-2.356194496154785,-1.9634954929351807,-1.5707963705062866,-0.7853981852531433,-0.39269909262657166,0.0,0.39269909262657166,0.7853981852531433,1.1780972480773926,1.5707963705062866,1.9634954929351807,2.356194496154785,2.7488937377929688,3.1415927410125732,-3.1415927410125732,-2.7488937377929688,-2.356194496154785,-1.5707963705062866,-1.1780972480773926,-0.7853981852531433,-0.39269909262657166,0.0,0.39269909262657166,0.7853981852531433,1.1780972480773926,1.5707963705062866,1.9634954929351807,2.356194496154785,2.7488937377929688,3.1415927410125732],\"yaxis\":\"y\",\"type\":\"scatter\"}],                        {\"template\":{\"data\":{\"histogram2dcontour\":[{\"type\":\"histogram2dcontour\",\"colorbar\":{\"outlinewidth\":0,\"ticks\":\"\"},\"colorscale\":[[0.0,\"#0d0887\"],[0.1111111111111111,\"#46039f\"],[0.2222222222222222,\"#7201a8\"],[0.3333333333333333,\"#9c179e\"],[0.4444444444444444,\"#bd3786\"],[0.5555555555555556,\"#d8576b\"],[0.6666666666666666,\"#ed7953\"],[0.7777777777777778,\"#fb9f3a\"],[0.8888888888888888,\"#fdca26\"],[1.0,\"#f0f921\"]]}],\"choropleth\":[{\"type\":\"choropleth\",\"colorbar\":{\"outlinewidth\":0,\"ticks\":\"\"}}],\"histogram2d\":[{\"type\":\"histogram2d\",\"colorbar\":{\"outlinewidth\":0,\"ticks\":\"\"},\"colorscale\":[[0.0,\"#0d0887\"],[0.1111111111111111,\"#46039f\"],[0.2222222222222222,\"#7201a8\"],[0.3333333333333333,\"#9c179e\"],[0.4444444444444444,\"#bd3786\"],[0.5555555555555556,\"#d8576b\"],[0.6666666666666666,\"#ed7953\"],[0.7777777777777778,\"#fb9f3a\"],[0.8888888888888888,\"#fdca26\"],[1.0,\"#f0f921\"]]}],\"heatmap\":[{\"type\":\"heatmap\",\"colorbar\":{\"outlinewidth\":0,\"ticks\":\"\"},\"colorscale\":[[0.0,\"#0d0887\"],[0.1111111111111111,\"#46039f\"],[0.2222222222222222,\"#7201a8\"],[0.3333333333333333,\"#9c179e\"],[0.4444444444444444,\"#bd3786\"],[0.5555555555555556,\"#d8576b\"],[0.6666666666666666,\"#ed7953\"],[0.7777777777777778,\"#fb9f3a\"],[0.8888888888888888,\"#fdca26\"],[1.0,\"#f0f921\"]]}],\"heatmapgl\":[{\"type\":\"heatmapgl\",\"colorbar\":{\"outlinewidth\":0,\"ticks\":\"\"},\"colorscale\":[[0.0,\"#0d0887\"],[0.1111111111111111,\"#46039f\"],[0.2222222222222222,\"#7201a8\"],[0.3333333333333333,\"#9c179e\"],[0.4444444444444444,\"#bd3786\"],[0.5555555555555556,\"#d8576b\"],[0.6666666666666666,\"#ed7953\"],[0.7777777777777778,\"#fb9f3a\"],[0.8888888888888888,\"#fdca26\"],[1.0,\"#f0f921\"]]}],\"contourcarpet\":[{\"type\":\"contourcarpet\",\"colorbar\":{\"outlinewidth\":0,\"ticks\":\"\"}}],\"contour\":[{\"type\":\"contour\",\"colorbar\":{\"outlinewidth\":0,\"ticks\":\"\"},\"colorscale\":[[0.0,\"#0d0887\"],[0.1111111111111111,\"#46039f\"],[0.2222222222222222,\"#7201a8\"],[0.3333333333333333,\"#9c179e\"],[0.4444444444444444,\"#bd3786\"],[0.5555555555555556,\"#d8576b\"],[0.6666666666666666,\"#ed7953\"],[0.7777777777777778,\"#fb9f3a\"],[0.8888888888888888,\"#fdca26\"],[1.0,\"#f0f921\"]]}],\"surface\":[{\"type\":\"surface\",\"colorbar\":{\"outlinewidth\":0,\"ticks\":\"\"},\"colorscale\":[[0.0,\"#0d0887\"],[0.1111111111111111,\"#46039f\"],[0.2222222222222222,\"#7201a8\"],[0.3333333333333333,\"#9c179e\"],[0.4444444444444444,\"#bd3786\"],[0.5555555555555556,\"#d8576b\"],[0.6666666666666666,\"#ed7953\"],[0.7777777777777778,\"#fb9f3a\"],[0.8888888888888888,\"#fdca26\"],[1.0,\"#f0f921\"]]}],\"mesh3d\":[{\"type\":\"mesh3d\",\"colorbar\":{\"outlinewidth\":0,\"ticks\":\"\"}}],\"scatter\":[{\"fillpattern\":{\"fillmode\":\"overlay\",\"size\":10,\"solidity\":0.2},\"type\":\"scatter\"}],\"parcoords\":[{\"type\":\"parcoords\",\"line\":{\"colorbar\":{\"outlinewidth\":0,\"ticks\":\"\"}}}],\"scatterpolargl\":[{\"type\":\"scatterpolargl\",\"marker\":{\"colorbar\":{\"outlinewidth\":0,\"ticks\":\"\"}}}],\"bar\":[{\"error_x\":{\"color\":\"#2a3f5f\"},\"error_y\":{\"color\":\"#2a3f5f\"},\"marker\":{\"line\":{\"color\":\"#E5ECF6\",\"width\":0.5},\"pattern\":{\"fillmode\":\"overlay\",\"size\":10,\"solidity\":0.2}},\"type\":\"bar\"}],\"scattergeo\":[{\"type\":\"scattergeo\",\"marker\":{\"colorbar\":{\"outlinewidth\":0,\"ticks\":\"\"}}}],\"scatterpolar\":[{\"type\":\"scatterpolar\",\"marker\":{\"colorbar\":{\"outlinewidth\":0,\"ticks\":\"\"}}}],\"histogram\":[{\"marker\":{\"pattern\":{\"fillmode\":\"overlay\",\"size\":10,\"solidity\":0.2}},\"type\":\"histogram\"}],\"scattergl\":[{\"type\":\"scattergl\",\"marker\":{\"colorbar\":{\"outlinewidth\":0,\"ticks\":\"\"}}}],\"scatter3d\":[{\"type\":\"scatter3d\",\"line\":{\"colorbar\":{\"outlinewidth\":0,\"ticks\":\"\"}},\"marker\":{\"colorbar\":{\"outlinewidth\":0,\"ticks\":\"\"}}}],\"scattermapbox\":[{\"type\":\"scattermapbox\",\"marker\":{\"colorbar\":{\"outlinewidth\":0,\"ticks\":\"\"}}}],\"scatterternary\":[{\"type\":\"scatterternary\",\"marker\":{\"colorbar\":{\"outlinewidth\":0,\"ticks\":\"\"}}}],\"scattercarpet\":[{\"type\":\"scattercarpet\",\"marker\":{\"colorbar\":{\"outlinewidth\":0,\"ticks\":\"\"}}}],\"carpet\":[{\"aaxis\":{\"endlinecolor\":\"#2a3f5f\",\"gridcolor\":\"white\",\"linecolor\":\"white\",\"minorgridcolor\":\"white\",\"startlinecolor\":\"#2a3f5f\"},\"baxis\":{\"endlinecolor\":\"#2a3f5f\",\"gridcolor\":\"white\",\"linecolor\":\"white\",\"minorgridcolor\":\"white\",\"startlinecolor\":\"#2a3f5f\"},\"type\":\"carpet\"}],\"table\":[{\"cells\":{\"fill\":{\"color\":\"#EBF0F8\"},\"line\":{\"color\":\"white\"}},\"header\":{\"fill\":{\"color\":\"#C8D4E3\"},\"line\":{\"color\":\"white\"}},\"type\":\"table\"}],\"barpolar\":[{\"marker\":{\"line\":{\"color\":\"#E5ECF6\",\"width\":0.5},\"pattern\":{\"fillmode\":\"overlay\",\"size\":10,\"solidity\":0.2}},\"type\":\"barpolar\"}],\"pie\":[{\"automargin\":true,\"type\":\"pie\"}]},\"layout\":{\"autotypenumbers\":\"strict\",\"colorway\":[\"#636efa\",\"#EF553B\",\"#00cc96\",\"#ab63fa\",\"#FFA15A\",\"#19d3f3\",\"#FF6692\",\"#B6E880\",\"#FF97FF\",\"#FECB52\"],\"font\":{\"color\":\"#2a3f5f\"},\"hovermode\":\"closest\",\"hoverlabel\":{\"align\":\"left\"},\"paper_bgcolor\":\"white\",\"plot_bgcolor\":\"#E5ECF6\",\"polar\":{\"bgcolor\":\"#E5ECF6\",\"angularaxis\":{\"gridcolor\":\"white\",\"linecolor\":\"white\",\"ticks\":\"\"},\"radialaxis\":{\"gridcolor\":\"white\",\"linecolor\":\"white\",\"ticks\":\"\"}},\"ternary\":{\"bgcolor\":\"#E5ECF6\",\"aaxis\":{\"gridcolor\":\"white\",\"linecolor\":\"white\",\"ticks\":\"\"},\"baxis\":{\"gridcolor\":\"white\",\"linecolor\":\"white\",\"ticks\":\"\"},\"caxis\":{\"gridcolor\":\"white\",\"linecolor\":\"white\",\"ticks\":\"\"}},\"coloraxis\":{\"colorbar\":{\"outlinewidth\":0,\"ticks\":\"\"}},\"colorscale\":{\"sequential\":[[0.0,\"#0d0887\"],[0.1111111111111111,\"#46039f\"],[0.2222222222222222,\"#7201a8\"],[0.3333333333333333,\"#9c179e\"],[0.4444444444444444,\"#bd3786\"],[0.5555555555555556,\"#d8576b\"],[0.6666666666666666,\"#ed7953\"],[0.7777777777777778,\"#fb9f3a\"],[0.8888888888888888,\"#fdca26\"],[1.0,\"#f0f921\"]],\"sequentialminus\":[[0.0,\"#0d0887\"],[0.1111111111111111,\"#46039f\"],[0.2222222222222222,\"#7201a8\"],[0.3333333333333333,\"#9c179e\"],[0.4444444444444444,\"#bd3786\"],[0.5555555555555556,\"#d8576b\"],[0.6666666666666666,\"#ed7953\"],[0.7777777777777778,\"#fb9f3a\"],[0.8888888888888888,\"#fdca26\"],[1.0,\"#f0f921\"]],\"diverging\":[[0,\"#8e0152\"],[0.1,\"#c51b7d\"],[0.2,\"#de77ae\"],[0.3,\"#f1b6da\"],[0.4,\"#fde0ef\"],[0.5,\"#f7f7f7\"],[0.6,\"#e6f5d0\"],[0.7,\"#b8e186\"],[0.8,\"#7fbc41\"],[0.9,\"#4d9221\"],[1,\"#276419\"]]},\"xaxis\":{\"gridcolor\":\"white\",\"linecolor\":\"white\",\"ticks\":\"\",\"title\":{\"standoff\":15},\"zerolinecolor\":\"white\",\"automargin\":true,\"zerolinewidth\":2},\"yaxis\":{\"gridcolor\":\"white\",\"linecolor\":\"white\",\"ticks\":\"\",\"title\":{\"standoff\":15},\"zerolinecolor\":\"white\",\"automargin\":true,\"zerolinewidth\":2},\"scene\":{\"xaxis\":{\"backgroundcolor\":\"#E5ECF6\",\"gridcolor\":\"white\",\"linecolor\":\"white\",\"showbackground\":true,\"ticks\":\"\",\"zerolinecolor\":\"white\",\"gridwidth\":2},\"yaxis\":{\"backgroundcolor\":\"#E5ECF6\",\"gridcolor\":\"white\",\"linecolor\":\"white\",\"showbackground\":true,\"ticks\":\"\",\"zerolinecolor\":\"white\",\"gridwidth\":2},\"zaxis\":{\"backgroundcolor\":\"#E5ECF6\",\"gridcolor\":\"white\",\"linecolor\":\"white\",\"showbackground\":true,\"ticks\":\"\",\"zerolinecolor\":\"white\",\"gridwidth\":2}},\"shapedefaults\":{\"line\":{\"color\":\"#2a3f5f\"}},\"annotationdefaults\":{\"arrowcolor\":\"#2a3f5f\",\"arrowhead\":0,\"arrowwidth\":1},\"geo\":{\"bgcolor\":\"white\",\"landcolor\":\"#E5ECF6\",\"subunitcolor\":\"white\",\"showland\":true,\"showlakes\":true,\"lakecolor\":\"white\"},\"title\":{\"x\":0.05},\"mapbox\":{\"style\":\"light\"}}},\"xaxis\":{\"anchor\":\"y\",\"domain\":[0.0,1.0],\"title\":{\"text\":\"binned_normed_distance\"}},\"yaxis\":{\"anchor\":\"x\",\"domain\":[0.0,1.0],\"title\":{\"text\":\"binned_movement_heading\"}},\"legend\":{\"tracegroupgap\":0,\"itemsizing\":\"constant\"},\"margin\":{\"t\":60}},                        {\"responsive\": true}                    ).then(function(){\n",
       "                            \n",
       "var gd = document.getElementById('9a9f3438-99cf-4833-af52-885fd9c7371e');\n",
       "var x = new MutationObserver(function (mutations, observer) {{\n",
       "        var display = window.getComputedStyle(gd).display;\n",
       "        if (!display || display === 'none') {{\n",
       "            console.log([gd, 'removed!']);\n",
       "            Plotly.purge(gd);\n",
       "            observer.disconnect();\n",
       "        }}\n",
       "}});\n",
       "\n",
       "// Listen for the removal of the full notebook cells\n",
       "var notebookContainer = gd.closest('#notebook-container');\n",
       "if (notebookContainer) {{\n",
       "    x.observe(notebookContainer, {childList: true});\n",
       "}}\n",
       "\n",
       "// Listen for the clearing of the current output cell\n",
       "var outputEl = gd.closest('.output');\n",
       "if (outputEl) {{\n",
       "    x.observe(outputEl, {childList: true});\n",
       "}}\n",
       "\n",
       "                        })                };                });            </script>        </div>"
      ]
     },
     "metadata": {},
     "output_type": "display_data"
    }
   ],
   "source": [
    "df = data.groupby(['binned_normed_distance', 'binned_movement_heading']).size().reset_index()\n",
    "df['size'] = np.log(df[0])\n",
    "px.scatter(df, x='binned_normed_distance', y='binned_movement_heading', size='size')"
   ]
  },
  {
   "cell_type": "code",
   "execution_count": 33,
   "metadata": {},
   "outputs": [
    {
     "data": {
      "text/plain": [
       "_train\n",
       "False    40\n",
       "True     71\n",
       "dtype: int64"
      ]
     },
     "execution_count": 33,
     "metadata": {},
     "output_type": "execute_result"
    }
   ],
   "source": [
    "data[['_train', '_individual']].drop_duplicates().groupby('_train').size()"
   ]
  },
  {
   "cell_type": "code",
   "execution_count": 37,
   "metadata": {},
   "outputs": [],
   "source": [
    "db.write_data(\n",
    "    data, 'movement_model_features_m3_a4', ['tag_key']\n",
    ")"
   ]
  },
  {
   "cell_type": "code",
   "execution_count": null,
   "metadata": {},
   "outputs": [],
   "source": []
  }
 ],
 "metadata": {
  "kernelspec": {
   "display_name": "base",
   "language": "python",
   "name": "python3"
  },
  "language_info": {
   "codemirror_mode": {
    "name": "ipython",
    "version": 3
   },
   "file_extension": ".py",
   "mimetype": "text/x-python",
   "name": "python",
   "nbconvert_exporter": "python",
   "pygments_lexer": "ipython3",
   "version": "3.12.4"
  }
 },
 "nbformat": 4,
 "nbformat_minor": 2
}
