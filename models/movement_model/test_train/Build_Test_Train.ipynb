{
 "cells": [
  {
   "cell_type": "code",
   "execution_count": 1,
   "metadata": {},
   "outputs": [],
   "source": [
    "import os\n",
    "import random\n",
    "\n",
    "import haven.db as db\n",
    "\n",
    "from mirrorverse.utils import read_data_w_cache\n",
    "\n",
    "os.environ['HAVEN_DATABASE'] = 'haven'\n",
    "os.environ['AWS_PROFILE'] = 'admin'"
   ]
  },
  {
   "cell_type": "code",
   "execution_count": 2,
   "metadata": {},
   "outputs": [],
   "source": [
    "tag_keys = sorted(list(read_data_w_cache('select distinct tag_key from mgietzmann_tag_tracks')['tag_key']))"
   ]
  },
  {
   "cell_type": "code",
   "execution_count": 3,
   "metadata": {},
   "outputs": [
    {
     "data": {
      "text/plain": [
       "111"
      ]
     },
     "execution_count": 3,
     "metadata": {},
     "output_type": "execute_result"
    }
   ],
   "source": [
    "len(tag_keys)"
   ]
  },
  {
   "cell_type": "code",
   "execution_count": 10,
   "metadata": {},
   "outputs": [
    {
     "name": "stdout",
     "output_type": "stream",
     "text": [
      "20 20 71\n"
     ]
    }
   ],
   "source": [
    "random.seed(42)\n",
    "test_cases = random.sample(tag_keys, 20)\n",
    "train_cases = [k for k in tag_keys if k not in test_cases]\n",
    "validation_cases = random.sample(train_cases, 20)\n",
    "train_cases = [k for k in train_cases if k not in validation_cases]\n",
    "print(len(test_cases), len(validation_cases), len(train_cases))"
   ]
  },
  {
   "cell_type": "code",
   "execution_count": 11,
   "metadata": {},
   "outputs": [
    {
     "data": {
      "text/plain": [
       "['210770',\n",
       " '159006',\n",
       " '142191',\n",
       " '229209',\n",
       " '172908',\n",
       " '172904',\n",
       " '159020',\n",
       " '159008b',\n",
       " '159005b',\n",
       " '210775',\n",
       " '205413',\n",
       " '159002b',\n",
       " '210763',\n",
       " '202599',\n",
       " '142194',\n",
       " '159019',\n",
       " '172901',\n",
       " '205406',\n",
       " '210765',\n",
       " '205417']"
      ]
     },
     "execution_count": 11,
     "metadata": {},
     "output_type": "execute_result"
    }
   ],
   "source": [
    "test_cases"
   ]
  },
  {
   "cell_type": "code",
   "execution_count": 12,
   "metadata": {},
   "outputs": [
    {
     "data": {
      "text/html": [
       "<div>\n",
       "<style scoped>\n",
       "    .dataframe tbody tr th:only-of-type {\n",
       "        vertical-align: middle;\n",
       "    }\n",
       "\n",
       "    .dataframe tbody tr th {\n",
       "        vertical-align: top;\n",
       "    }\n",
       "\n",
       "    .dataframe thead th {\n",
       "        text-align: right;\n",
       "    }\n",
       "</style>\n",
       "<table border=\"1\" class=\"dataframe\">\n",
       "  <thead>\n",
       "    <tr style=\"text-align: right;\">\n",
       "      <th></th>\n",
       "      <th>tag_key</th>\n",
       "      <th>epoch</th>\n",
       "      <th>longitude</th>\n",
       "      <th>latitude</th>\n",
       "      <th>upload_key</th>\n",
       "    </tr>\n",
       "  </thead>\n",
       "  <tbody>\n",
       "    <tr>\n",
       "      <th>0</th>\n",
       "      <td>129843</td>\n",
       "      <td>1387411200</td>\n",
       "      <td>-166.922615</td>\n",
       "      <td>54.131760</td>\n",
       "      <td>mgietzmann</td>\n",
       "    </tr>\n",
       "    <tr>\n",
       "      <th>1</th>\n",
       "      <td>129843</td>\n",
       "      <td>1387497600</td>\n",
       "      <td>-166.884086</td>\n",
       "      <td>54.258072</td>\n",
       "      <td>mgietzmann</td>\n",
       "    </tr>\n",
       "    <tr>\n",
       "      <th>2</th>\n",
       "      <td>129843</td>\n",
       "      <td>1387584000</td>\n",
       "      <td>-166.910525</td>\n",
       "      <td>54.312433</td>\n",
       "      <td>mgietzmann</td>\n",
       "    </tr>\n",
       "    <tr>\n",
       "      <th>3</th>\n",
       "      <td>129843</td>\n",
       "      <td>1387670400</td>\n",
       "      <td>-166.817057</td>\n",
       "      <td>54.358280</td>\n",
       "      <td>mgietzmann</td>\n",
       "    </tr>\n",
       "    <tr>\n",
       "      <th>4</th>\n",
       "      <td>129843</td>\n",
       "      <td>1387756800</td>\n",
       "      <td>-166.676901</td>\n",
       "      <td>54.389694</td>\n",
       "      <td>mgietzmann</td>\n",
       "    </tr>\n",
       "  </tbody>\n",
       "</table>\n",
       "</div>"
      ],
      "text/plain": [
       "  tag_key       epoch   longitude   latitude  upload_key\n",
       "0  129843  1387411200 -166.922615  54.131760  mgietzmann\n",
       "1  129843  1387497600 -166.884086  54.258072  mgietzmann\n",
       "2  129843  1387584000 -166.910525  54.312433  mgietzmann\n",
       "3  129843  1387670400 -166.817057  54.358280  mgietzmann\n",
       "4  129843  1387756800 -166.676901  54.389694  mgietzmann"
      ]
     },
     "execution_count": 12,
     "metadata": {},
     "output_type": "execute_result"
    }
   ],
   "source": [
    "data = read_data_w_cache(\n",
    "    'select * from mgietzmann_tag_tracks'\n",
    ")\n",
    "data.head()"
   ]
  },
  {
   "cell_type": "code",
   "execution_count": 13,
   "metadata": {},
   "outputs": [
    {
     "data": {
      "text/plain": [
       "_train\n",
       "False    2639\n",
       "True     4893\n",
       "dtype: int64"
      ]
     },
     "execution_count": 13,
     "metadata": {},
     "output_type": "execute_result"
    }
   ],
   "source": [
    "data['_train'] = False \n",
    "data.loc[data['tag_key'].isin(train_cases), '_train'] = True\n",
    "data.groupby('_train').size()"
   ]
  },
  {
   "cell_type": "code",
   "execution_count": 16,
   "metadata": {},
   "outputs": [],
   "source": [
    "db.write_data(\n",
    "    data[data['tag_key'].isin(test_cases)], 'mgietzmann_tag_tracks_test', ['upload_key']\n",
    ")\n",
    "db.write_data(\n",
    "    data[~data['tag_key'].isin(test_cases)], 'mgietzmann_tag_tracks_train', ['upload_key']\n",
    ")"
   ]
  },
  {
   "cell_type": "code",
   "execution_count": null,
   "metadata": {},
   "outputs": [],
   "source": []
  }
 ],
 "metadata": {
  "kernelspec": {
   "display_name": "base",
   "language": "python",
   "name": "python3"
  },
  "language_info": {
   "codemirror_mode": {
    "name": "ipython",
    "version": 3
   },
   "file_extension": ".py",
   "mimetype": "text/x-python",
   "name": "python",
   "nbconvert_exporter": "python",
   "pygments_lexer": "ipython3",
   "version": "3.12.4"
  }
 },
 "nbformat": 4,
 "nbformat_minor": 2
}
