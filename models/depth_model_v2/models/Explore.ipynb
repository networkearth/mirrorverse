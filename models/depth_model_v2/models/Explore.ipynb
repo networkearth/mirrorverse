{
 "cells": [
  {
   "cell_type": "code",
   "execution_count": 59,
   "metadata": {},
   "outputs": [],
   "source": [
    "import os\n",
    "os.environ['AWS_PROFILE'] = 'admin'\n",
    "os.environ['HAVEN_DATABASE'] = 'haven'\n",
    "\n",
    "import pandas as pd \n",
    "import numpy as np \n",
    "import plotly.express as px \n",
    "\n",
    "from mirrorverse.utils import read_data_w_cache"
   ]
  },
  {
   "cell_type": "code",
   "execution_count": null,
   "metadata": {},
   "outputs": [],
   "source": [
    "model = '3_3_3'\n",
    "data = read_data_w_cache(\n",
    "    f'select * from chinook_depth_inference_{model} where not _train'\n",
    ")\n",
    "print(data.shape)\n",
    "data.head()"
   ]
  },
  {
   "cell_type": "code",
   "execution_count": null,
   "metadata": {},
   "outputs": [],
   "source": [
    "data.groupby(['depth_bin'])[['_selected', 'probability']].mean()"
   ]
  },
  {
   "cell_type": "code",
   "execution_count": null,
   "metadata": {},
   "outputs": [],
   "source": [
    "data['log_likelihood'] = np.log(data['probability'])\n",
    "data[data['_selected'] & ~data['_train']].groupby(['_individual'])['log_likelihood'].mean().reset_index()['log_likelihood'].mean()"
   ]
  },
  {
   "cell_type": "code",
   "execution_count": null,
   "metadata": {},
   "outputs": [],
   "source": [
    "data['null_odds'] = 1.0\n",
    "data['sum_null_odds'] = data.groupby(['_individual', '_decision'])['null_odds'].transform('sum')\n",
    "data['null_probability'] = data['null_odds'] / data['sum_null_odds']\n",
    "data.groupby(['depth_bin'])[['_selected', 'probability', 'null_probability']].mean()"
   ]
  },
  {
   "cell_type": "code",
   "execution_count": null,
   "metadata": {},
   "outputs": [],
   "source": [
    "data['null_log_likelihood'] = np.log(data['null_probability'])\n",
    "data[data['_selected'] & ~data['_train']].groupby(['_individual'])['null_log_likelihood'].mean().reset_index()['null_log_likelihood'].mean()"
   ]
  },
  {
   "cell_type": "code",
   "execution_count": null,
   "metadata": {},
   "outputs": [],
   "source": [
    "data[data['_selected'] & ~data['_train']][['probability', 'null_probability']].mean()"
   ]
  },
  {
   "cell_type": "code",
   "execution_count": null,
   "metadata": {},
   "outputs": [],
   "source": [
    "color_discrete_map = {\n",
    "    0.1: \"#1b9e77\",  # Green\n",
    "    0.2: \"#d95f02\",  # Orange\n",
    "    0.3: \"#7570b3\",  # Purple\n",
    "    0.4: \"#e7298a\",  # Pink\n",
    "    0.5: \"#66a61e\",  # Olive Green\n",
    "    0.6: \"#e6ab02\",  # Yellow-Orange\n",
    "    0.7: \"#a6761d\",  # Brown\n",
    "    0.8: \"#666666\",  # Gray\n",
    "    0.9: \"#1f78b4\",  # Blue\n",
    "    1.0: \"#a6cee3\",  # Light Blue\n",
    "}\n",
    "\n",
    "data['orbit_radians'] = np.arctan2(data['sin_orbit'], data['cos_orbit'])\n",
    "data['binned_orbit_radians'] = round(data['orbit_radians'] * 10) / (10)\n",
    "df = data.groupby(['binned_orbit_radians', 'n_depth_bin'])['probability'].mean().reset_index()\n",
    "px.line(\n",
    "    df.sort_values('binned_orbit_radians'), x='binned_orbit_radians', y='probability', color='n_depth_bin', \n",
    "    color_discrete_map=color_discrete_map, title=f'model - {model}'\n",
    "\n",
    ")"
   ]
  },
  {
   "cell_type": "code",
   "execution_count": null,
   "metadata": {},
   "outputs": [],
   "source": [
    "data['binned_n_mixed_layer_thickness'] = round(data['n_mixed_layer_thickness'] * 10) / (10)\n",
    "df = data.groupby(['binned_n_mixed_layer_thickness', 'n_depth_bin'])['probability'].mean().reset_index()\n",
    "px.line(\n",
    "    df.sort_values('binned_n_mixed_layer_thickness'), x='binned_n_mixed_layer_thickness', y='probability', color='n_depth_bin', \n",
    "    color_discrete_map=color_discrete_map, title=f'model - {model}'\n",
    ")"
   ]
  },
  {
   "cell_type": "code",
   "execution_count": null,
   "metadata": {},
   "outputs": [],
   "source": [
    "data['binned_n_salinity'] = round(data['n_salinity'] * 10) / (10)\n",
    "df = data.groupby(['binned_n_salinity', 'n_depth_bin'])['probability'].mean().reset_index()\n",
    "px.line(\n",
    "    df.sort_values('binned_n_salinity'), x='binned_n_salinity', y='probability', color='n_depth_bin', \n",
    "    color_discrete_map=color_discrete_map, title=f'model - {model}'\n",
    ")"
   ]
  },
  {
   "cell_type": "code",
   "execution_count": null,
   "metadata": {},
   "outputs": [],
   "source": [
    "data['sun_radians'] = np.arctan2(data['sin_sun'], data['cos_sun'])\n",
    "data['binned_sun_radians'] = round(data['sun_radians'] * 10) / (10)\n",
    "df = data.groupby(['binned_sun_radians', 'n_depth_bin'])['probability'].mean().reset_index()\n",
    "px.line(\n",
    "    df.sort_values('binned_sun_radians'), x='binned_sun_radians', y='probability', color='n_depth_bin', \n",
    "    color_discrete_map=color_discrete_map, title=f'model - {model}'\n",
    "\n",
    ")"
   ]
  },
  {
   "cell_type": "code",
   "execution_count": null,
   "metadata": {},
   "outputs": [],
   "source": []
  }
 ],
 "metadata": {
  "kernelspec": {
   "display_name": "base",
   "language": "python",
   "name": "python3"
  },
  "language_info": {
   "codemirror_mode": {
    "name": "ipython",
    "version": 3
   },
   "file_extension": ".py",
   "mimetype": "text/x-python",
   "name": "python",
   "nbconvert_exporter": "python",
   "pygments_lexer": "ipython3",
   "version": "3.12.4"
  }
 },
 "nbformat": 4,
 "nbformat_minor": 2
}
