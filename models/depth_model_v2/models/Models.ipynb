{
 "cells": [
  {
   "cell_type": "code",
   "execution_count": null,
   "metadata": {},
   "outputs": [],
   "source": [
    "import os\n",
    "import plotly.express as px\n",
    "import numpy as np\n",
    "import boto3\n",
    "import json\n",
    "import pandas as pd\n",
    "\n",
    "os.environ['HAVEN_DATABASE'] = 'haven'\n",
    "os.environ['AWS_PROFILE'] = 'admin'\n",
    "\n",
    "from mirrorverse.utils import read_data_w_cache"
   ]
  },
  {
   "cell_type": "code",
   "execution_count": null,
   "metadata": {},
   "outputs": [],
   "source": [
    "data = read_data_w_cache(\n",
    "    'select * from chinook_depth_experiment_3_3_26'\n",
    ")\n",
    "print(data.shape)\n",
    "data.head()"
   ]
  },
  {
   "cell_type": "code",
   "execution_count": null,
   "metadata": {},
   "outputs": [],
   "source": [
    "bri = data[data['epoch'] == 75].sort_values('val_loss', ascending=True)['run_id'].values[0]\n",
    "bri"
   ]
  },
  {
   "cell_type": "code",
   "execution_count": null,
   "metadata": {},
   "outputs": [],
   "source": [
    "data[data['epoch'] == 75].sort_values('val_loss', ascending=True)['val_loss'].values[0]"
   ]
  },
  {
   "cell_type": "code",
   "execution_count": null,
   "metadata": {},
   "outputs": [],
   "source": [
    "px.line(data[data['epoch'] <= 75].sort_values(['run_id', 'epoch']), x='epoch', y='train_loss', color='run_id')"
   ]
  },
  {
   "cell_type": "code",
   "execution_count": null,
   "metadata": {},
   "outputs": [],
   "source": [
    "px.line(data[data['epoch'] <= 75].sort_values(['run_id', 'epoch']), x='epoch', y='val_loss', color='run_id')"
   ]
  },
  {
   "cell_type": "code",
   "execution_count": null,
   "metadata": {},
   "outputs": [],
   "source": [
    "s3_client = boto3.client('s3')\n",
    "bucket = 'mimic-log-odds-models'\n",
    "prefix = 'chinook-depth-3-1-18'\n",
    "\n",
    "response = s3_client.list_objects_v2(Bucket=bucket, Prefix=prefix)\n",
    "\n",
    "configs = {}\n",
    "if 'Contents' in response:\n",
    "    for obj in response['Contents']:\n",
    "        if obj['Key'].endswith('config.json'):\n",
    "            config = json.loads(s3_client.get_object(Bucket=bucket, Key=obj['Key'])['Body'].read().decode('utf-8'))\n",
    "            if 'model' in config:\n",
    "                configs[config['run_id']] = config['model']\n",
    "else:\n",
    "    print(\"No objects found.\")"
   ]
  },
  {
   "cell_type": "code",
   "execution_count": null,
   "metadata": {},
   "outputs": [],
   "source": [
    "configs[bri]"
   ]
  },
  {
   "cell_type": "code",
   "execution_count": null,
   "metadata": {},
   "outputs": [],
   "source": [
    "rows = []\n",
    "for run_id, config in configs.items():\n",
    "    row = {\n",
    "        key: value\n",
    "        for key, value in config.items()\n",
    "        if key not in ['optimizer_kwargs', 'layers']\n",
    "    }\n",
    "    row['run_id'] = run_id\n",
    "    rows.append(row)\n",
    "cdf = pd.DataFrame(rows).merge(\n",
    "    data[data['epoch'] == 75], on='run_id', how='inner'\n",
    ")\n",
    "cdf.head()"
   ]
  },
  {
   "cell_type": "code",
   "execution_count": null,
   "metadata": {},
   "outputs": [],
   "source": [
    "px.scatter(\n",
    "    cdf, x='layer_size', y='val_loss', color='num_layers',\n",
    "    facet_col='batch_size'\n",
    ")"
   ]
  },
  {
   "cell_type": "code",
   "execution_count": null,
   "metadata": {},
   "outputs": [],
   "source": [
    "sql = '''\n",
    "select \n",
    "    *\n",
    "from \n",
    "    mgietzmann_tag_depths\n",
    "'''\n",
    "\n",
    "data = read_data_w_cache(\n",
    "    sql\n",
    ")\n",
    "print(data.shape)\n",
    "data.head()"
   ]
  },
  {
   "cell_type": "code",
   "execution_count": null,
   "metadata": {},
   "outputs": [],
   "source": [
    "data['time'] = pd.to_datetime(data['epoch'], unit='s')\n",
    "data['depth'] = -data['depth']\n",
    "px.line(\n",
    "    data[data['tag_key'] == '129843'].sort_values('epoch'), x='time', y='depth'\n",
    ")"
   ]
  },
  {
   "cell_type": "code",
   "execution_count": null,
   "metadata": {},
   "outputs": [],
   "source": [
    "px.line(\n",
    "    data[data['tag_key'] == '129843'].sort_values('epoch'), x='time', y='depth'\n",
    ")"
   ]
  },
  {
   "cell_type": "code",
   "execution_count": null,
   "metadata": {},
   "outputs": [],
   "source": [
    "data['tag_key'].unique()"
   ]
  },
  {
   "cell_type": "code",
   "execution_count": null,
   "metadata": {},
   "outputs": [],
   "source": [
    "data[data['depth'] == data['depth'].min()]"
   ]
  },
  {
   "cell_type": "code",
   "execution_count": null,
   "metadata": {},
   "outputs": [],
   "source": []
  }
 ],
 "metadata": {
  "kernelspec": {
   "display_name": "base",
   "language": "python",
   "name": "python3"
  },
  "language_info": {
   "codemirror_mode": {
    "name": "ipython",
    "version": 3
   },
   "file_extension": ".py",
   "mimetype": "text/x-python",
   "name": "python",
   "nbconvert_exporter": "python",
   "pygments_lexer": "ipython3",
   "version": "3.12.4"
  }
 },
 "nbformat": 4,
 "nbformat_minor": 2
}
