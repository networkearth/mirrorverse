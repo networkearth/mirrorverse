{
 "cells": [
  {
   "cell_type": "code",
   "execution_count": 1,
   "metadata": {},
   "outputs": [],
   "source": [
    "import os\n",
    "os.environ['AWS_PROFILE'] = 'admin'\n",
    "os.environ['HAVEN_DATABASE'] = 'haven'\n",
    "\n",
    "import pandas as pd \n",
    "import numpy as np \n",
    "import plotly.express as px \n",
    "\n",
    "from mirrorverse.utils import read_data_w_cache"
   ]
  },
  {
   "cell_type": "code",
   "execution_count": 3,
   "metadata": {},
   "outputs": [
    {
     "name": "stdout",
     "output_type": "stream",
     "text": [
      "(351156, 38)\n"
     ]
    },
    {
     "data": {
      "text/html": [
       "<div>\n",
       "<style scoped>\n",
       "    .dataframe tbody tr th:only-of-type {\n",
       "        vertical-align: middle;\n",
       "    }\n",
       "\n",
       "    .dataframe tbody tr th {\n",
       "        vertical-align: top;\n",
       "    }\n",
       "\n",
       "    .dataframe thead th {\n",
       "        text-align: right;\n",
       "    }\n",
       "</style>\n",
       "<table border=\"1\" class=\"dataframe\">\n",
       "  <thead>\n",
       "    <tr style=\"text-align: right;\">\n",
       "      <th></th>\n",
       "      <th>_individual</th>\n",
       "      <th>_decision</th>\n",
       "      <th>_choice</th>\n",
       "      <th>_selected</th>\n",
       "      <th>tag_key</th>\n",
       "      <th>h3_index</th>\n",
       "      <th>time</th>\n",
       "      <th>depth_bin</th>\n",
       "      <th>n_depth_bin</th>\n",
       "      <th>cos_moon</th>\n",
       "      <th>...</th>\n",
       "      <th>mixed_layer_thickness</th>\n",
       "      <th>salinity</th>\n",
       "      <th>temperature</th>\n",
       "      <th>n_elevation</th>\n",
       "      <th>n_mixed_layer_thickness</th>\n",
       "      <th>n_salinity</th>\n",
       "      <th>n_temperature</th>\n",
       "      <th>velocity_east</th>\n",
       "      <th>velocity_north</th>\n",
       "      <th>_train</th>\n",
       "    </tr>\n",
       "  </thead>\n",
       "  <tbody>\n",
       "    <tr>\n",
       "      <th>2173892</th>\n",
       "      <td>110</td>\n",
       "      <td>516028</td>\n",
       "      <td>7</td>\n",
       "      <td>False</td>\n",
       "      <td>229232</td>\n",
       "      <td>841d201ffffffff</td>\n",
       "      <td>2022-07-09</td>\n",
       "      <td>250.0</td>\n",
       "      <td>0.7</td>\n",
       "      <td>-0.500874</td>\n",
       "      <td>...</td>\n",
       "      <td>10.528886</td>\n",
       "      <td>33.873093</td>\n",
       "      <td>5.461980</td>\n",
       "      <td>0.224250</td>\n",
       "      <td>0.062836</td>\n",
       "      <td>0.959928</td>\n",
       "      <td>0.356739</td>\n",
       "      <td>-0.105856</td>\n",
       "      <td>0.217379</td>\n",
       "      <td>False</td>\n",
       "    </tr>\n",
       "    <tr>\n",
       "      <th>294404</th>\n",
       "      <td>0</td>\n",
       "      <td>650</td>\n",
       "      <td>4</td>\n",
       "      <td>False</td>\n",
       "      <td>133395</td>\n",
       "      <td>840cd39ffffffff</td>\n",
       "      <td>2014-09-30</td>\n",
       "      <td>100.0</td>\n",
       "      <td>0.4</td>\n",
       "      <td>0.347145</td>\n",
       "      <td>...</td>\n",
       "      <td>22.444978</td>\n",
       "      <td>32.415374</td>\n",
       "      <td>4.608009</td>\n",
       "      <td>0.018722</td>\n",
       "      <td>0.343686</td>\n",
       "      <td>0.838154</td>\n",
       "      <td>0.304544</td>\n",
       "      <td>-0.081605</td>\n",
       "      <td>0.024452</td>\n",
       "      <td>True</td>\n",
       "    </tr>\n",
       "    <tr>\n",
       "      <th>246188</th>\n",
       "      <td>84</td>\n",
       "      <td>371229</td>\n",
       "      <td>1</td>\n",
       "      <td>True</td>\n",
       "      <td>210773</td>\n",
       "      <td>841d213ffffffff</td>\n",
       "      <td>2021-05-06</td>\n",
       "      <td>25.0</td>\n",
       "      <td>0.1</td>\n",
       "      <td>0.338223</td>\n",
       "      <td>...</td>\n",
       "      <td>10.920540</td>\n",
       "      <td>31.913687</td>\n",
       "      <td>7.687704</td>\n",
       "      <td>0.331611</td>\n",
       "      <td>0.076387</td>\n",
       "      <td>0.796245</td>\n",
       "      <td>0.492774</td>\n",
       "      <td>-0.144259</td>\n",
       "      <td>0.190138</td>\n",
       "      <td>False</td>\n",
       "    </tr>\n",
       "    <tr>\n",
       "      <th>1964709</th>\n",
       "      <td>41</td>\n",
       "      <td>155986</td>\n",
       "      <td>1</td>\n",
       "      <td>False</td>\n",
       "      <td>205411</td>\n",
       "      <td>840c5e7ffffffff</td>\n",
       "      <td>2020-10-20</td>\n",
       "      <td>25.0</td>\n",
       "      <td>0.1</td>\n",
       "      <td>0.776907</td>\n",
       "      <td>...</td>\n",
       "      <td>23.624597</td>\n",
       "      <td>31.733427</td>\n",
       "      <td>8.844833</td>\n",
       "      <td>0.006061</td>\n",
       "      <td>0.362691</td>\n",
       "      <td>0.781186</td>\n",
       "      <td>0.563498</td>\n",
       "      <td>-0.005508</td>\n",
       "      <td>-0.053753</td>\n",
       "      <td>True</td>\n",
       "    </tr>\n",
       "    <tr>\n",
       "      <th>1275092</th>\n",
       "      <td>97</td>\n",
       "      <td>454033</td>\n",
       "      <td>3</td>\n",
       "      <td>False</td>\n",
       "      <td>202588</td>\n",
       "      <td>840cc8dffffffff</td>\n",
       "      <td>2020-08-07</td>\n",
       "      <td>75.0</td>\n",
       "      <td>0.3</td>\n",
       "      <td>-0.851809</td>\n",
       "      <td>...</td>\n",
       "      <td>11.326305</td>\n",
       "      <td>32.044779</td>\n",
       "      <td>5.109658</td>\n",
       "      <td>0.024178</td>\n",
       "      <td>0.089923</td>\n",
       "      <td>0.807196</td>\n",
       "      <td>0.335205</td>\n",
       "      <td>-0.026807</td>\n",
       "      <td>0.003672</td>\n",
       "      <td>False</td>\n",
       "    </tr>\n",
       "  </tbody>\n",
       "</table>\n",
       "<p>5 rows × 38 columns</p>\n",
       "</div>"
      ],
      "text/plain": [
       "         _individual  _decision  _choice  _selected tag_key         h3_index  \\\n",
       "2173892          110     516028        7      False  229232  841d201ffffffff   \n",
       "294404             0        650        4      False  133395  840cd39ffffffff   \n",
       "246188            84     371229        1       True  210773  841d213ffffffff   \n",
       "1964709           41     155986        1      False  205411  840c5e7ffffffff   \n",
       "1275092           97     454033        3      False  202588  840cc8dffffffff   \n",
       "\n",
       "               time  depth_bin  n_depth_bin  cos_moon  ...  \\\n",
       "2173892  2022-07-09      250.0          0.7 -0.500874  ...   \n",
       "294404   2014-09-30      100.0          0.4  0.347145  ...   \n",
       "246188   2021-05-06       25.0          0.1  0.338223  ...   \n",
       "1964709  2020-10-20       25.0          0.1  0.776907  ...   \n",
       "1275092  2020-08-07       75.0          0.3 -0.851809  ...   \n",
       "\n",
       "         mixed_layer_thickness   salinity  temperature  n_elevation  \\\n",
       "2173892              10.528886  33.873093     5.461980     0.224250   \n",
       "294404               22.444978  32.415374     4.608009     0.018722   \n",
       "246188               10.920540  31.913687     7.687704     0.331611   \n",
       "1964709              23.624597  31.733427     8.844833     0.006061   \n",
       "1275092              11.326305  32.044779     5.109658     0.024178   \n",
       "\n",
       "         n_mixed_layer_thickness  n_salinity  n_temperature  velocity_east  \\\n",
       "2173892                 0.062836    0.959928       0.356739      -0.105856   \n",
       "294404                  0.343686    0.838154       0.304544      -0.081605   \n",
       "246188                  0.076387    0.796245       0.492774      -0.144259   \n",
       "1964709                 0.362691    0.781186       0.563498      -0.005508   \n",
       "1275092                 0.089923    0.807196       0.335205      -0.026807   \n",
       "\n",
       "         velocity_north  _train  \n",
       "2173892        0.217379   False  \n",
       "294404         0.024452    True  \n",
       "246188         0.190138   False  \n",
       "1964709       -0.053753    True  \n",
       "1275092        0.003672   False  \n",
       "\n",
       "[5 rows x 38 columns]"
      ]
     },
     "execution_count": 3,
     "metadata": {},
     "output_type": "execute_result"
    }
   ],
   "source": [
    "data = read_data_w_cache(\n",
    "    'select * from chinook_depth_features_3'\n",
    ").sample(351156)\n",
    "print(data.shape)\n",
    "data.head()"
   ]
  },
  {
   "cell_type": "code",
   "execution_count": 84,
   "metadata": {},
   "outputs": [
    {
     "data": {
      "application/vnd.plotly.v1+json": {
       "config": {
        "plotlyServerURL": "https://plot.ly"
       },
       "data": [
        {
         "hovertemplate": "n_depth_bin=0.1<br>_train=False<br>bin=%{x}<br>fraction=%{y}<extra></extra>",
         "legendgroup": "0.1",
         "line": {
          "color": "#1b9e77",
          "dash": "solid"
         },
         "marker": {
          "symbol": "circle"
         },
         "mode": "lines",
         "name": "0.1",
         "orientation": "v",
         "showlegend": true,
         "type": "scatter",
         "x": [
          0.1,
          0.15,
          0.2,
          0.25,
          0.3,
          0.35,
          0.4,
          0.45,
          0.5,
          0.55,
          0.6,
          0.65,
          0.7,
          0.75,
          0.8,
          0.85,
          0.9
         ],
         "xaxis": "x2",
         "y": [
          0.9487179487179487,
          0.8809523809523809,
          0.8780487804878049,
          0.44929797191887677,
          0.3903982136211388,
          0.3558961260110685,
          0.43233830845771143,
          0.37271853986551395,
          0.4159695817490494,
          0.4553846153846154,
          0.4106217616580311,
          0.5464071856287425,
          0.547945205479452,
          0.514246947082768,
          0.4312796208530806,
          0.38204592901878914,
          0.3261802575107296
         ],
         "yaxis": "y2"
        },
        {
         "hovertemplate": "n_depth_bin=0.1<br>_train=True<br>bin=%{x}<br>fraction=%{y}<extra></extra>",
         "legendgroup": "0.1",
         "line": {
          "color": "#1b9e77",
          "dash": "solid"
         },
         "marker": {
          "symbol": "circle"
         },
         "mode": "lines",
         "name": "0.1",
         "orientation": "v",
         "showlegend": false,
         "type": "scatter",
         "x": [
          0.1,
          0.15,
          0.2,
          0.25,
          0.3,
          0.35,
          0.4,
          0.45,
          0.5,
          0.55,
          0.6,
          0.65,
          0.7,
          0.75,
          0.8,
          0.85,
          0.9,
          0.95,
          1
         ],
         "xaxis": "x",
         "y": [
          1,
          0.8692307692307693,
          0.8010291595197255,
          0.5859296482412061,
          0.3937775713954028,
          0.36644474034620506,
          0.3565030455034038,
          0.39168721380767874,
          0.43352601156069365,
          0.5155228758169934,
          0.5069551777434312,
          0.7032069970845481,
          0.6319307904050334,
          0.6366572466693581,
          0.4349775784753363,
          0.3920171062009979,
          0.46099290780141844,
          0.3522727272727273,
          0.18181818181818182
         ],
         "yaxis": "y"
        },
        {
         "hovertemplate": "n_depth_bin=0.2<br>_train=False<br>bin=%{x}<br>fraction=%{y}<extra></extra>",
         "legendgroup": "0.2",
         "line": {
          "color": "#d95f02",
          "dash": "solid"
         },
         "marker": {
          "symbol": "circle"
         },
         "mode": "lines",
         "name": "0.2",
         "orientation": "v",
         "showlegend": true,
         "type": "scatter",
         "x": [
          0.1,
          0.15,
          0.2,
          0.25,
          0.3,
          0.35,
          0.4,
          0.45,
          0.5,
          0.55,
          0.6,
          0.65,
          0.7,
          0.75
         ],
         "xaxis": "x2",
         "y": [
          0.047619047619047616,
          0.08888888888888889,
          0.15384615384615385,
          0.11152976639035418,
          0.13979007633587787,
          0.11865357643758766,
          0.19330410522120367,
          0.18394160583941604,
          0.17301038062283736,
          0.21918908069048576,
          0.1935483870967742,
          0.31805157593123207,
          0.07692307692307693,
          0.4166666666666667
         ],
         "yaxis": "y2"
        },
        {
         "hovertemplate": "n_depth_bin=0.2<br>_train=True<br>bin=%{x}<br>fraction=%{y}<extra></extra>",
         "legendgroup": "0.2",
         "line": {
          "color": "#d95f02",
          "dash": "solid"
         },
         "marker": {
          "symbol": "circle"
         },
         "mode": "lines",
         "name": "0.2",
         "orientation": "v",
         "showlegend": false,
         "type": "scatter",
         "x": [
          0.1,
          0.15,
          0.2,
          0.25,
          0.3,
          0.35,
          0.4,
          0.45,
          0.5,
          0.55,
          0.6,
          0.65,
          0.7,
          0.75
         ],
         "xaxis": "x",
         "y": [
          0.037037037037037035,
          0.05405405405405406,
          0.15193370165745856,
          0.14471544715447154,
          0.17600896860986548,
          0.14932353432436946,
          0.17091346153846154,
          0.18209044624138965,
          0.16379546076018595,
          0.16707344131351232,
          0.16813509544787078,
          0.16951566951566951,
          0.17647058823529413,
          0.24324324324324326
         ],
         "yaxis": "y"
        },
        {
         "hovertemplate": "n_depth_bin=0.3<br>_train=False<br>bin=%{x}<br>fraction=%{y}<extra></extra>",
         "legendgroup": "0.3",
         "line": {
          "color": "#7570b3",
          "dash": "solid"
         },
         "marker": {
          "symbol": "circle"
         },
         "mode": "lines",
         "name": "0.3",
         "orientation": "v",
         "showlegend": true,
         "type": "scatter",
         "x": [
          0.2,
          0.25,
          0.3,
          0.35,
          0.4,
          0.45,
          0.5,
          0.55,
          0.6,
          0.65
         ],
         "xaxis": "x2",
         "y": [
          0.1111111111111111,
          0.0785276073619632,
          0.14059814369199036,
          0.13844580777096113,
          0.1573802541544477,
          0.12982359426681367,
          0.13581314878892733,
          0.08092485549132948,
          0.27586206896551724,
          0.4666666666666667
         ],
         "yaxis": "y2"
        },
        {
         "hovertemplate": "n_depth_bin=0.3<br>_train=True<br>bin=%{x}<br>fraction=%{y}<extra></extra>",
         "legendgroup": "0.3",
         "line": {
          "color": "#7570b3",
          "dash": "solid"
         },
         "marker": {
          "symbol": "circle"
         },
         "mode": "lines",
         "name": "0.3",
         "orientation": "v",
         "showlegend": false,
         "type": "scatter",
         "x": [
          0,
          0.05,
          0.1,
          0.15,
          0.2,
          0.25,
          0.3,
          0.35,
          0.4,
          0.45,
          0.5,
          0.55,
          0.6
         ],
         "xaxis": "x",
         "y": [
          1,
          0.2926829268292683,
          0.36879432624113473,
          0.21794871794871795,
          0.29260450160771706,
          0.07150153217568948,
          0.11861948955916474,
          0.13711997998248468,
          0.14408985070538283,
          0.1063063063063063,
          0.10249671484888305,
          0.15568862275449102,
          0
         ],
         "yaxis": "y"
        },
        {
         "hovertemplate": "n_depth_bin=0.4<br>_train=False<br>bin=%{x}<br>fraction=%{y}<extra></extra>",
         "legendgroup": "0.4",
         "line": {
          "color": "#e7298a",
          "dash": "solid"
         },
         "marker": {
          "symbol": "circle"
         },
         "mode": "lines",
         "name": "0.4",
         "orientation": "v",
         "showlegend": true,
         "type": "scatter",
         "x": [
          0.2,
          0.25,
          0.3,
          0.35,
          0.4,
          0.45,
          0.5
         ],
         "xaxis": "x2",
         "y": [
          0,
          0.1210762331838565,
          0.10729483282674772,
          0.16132671480144403,
          0.13445378151260504,
          0.10465768799102132,
          0.05934718100890208
         ],
         "yaxis": "y2"
        },
        {
         "hovertemplate": "n_depth_bin=0.4<br>_train=True<br>bin=%{x}<br>fraction=%{y}<extra></extra>",
         "legendgroup": "0.4",
         "line": {
          "color": "#e7298a",
          "dash": "solid"
         },
         "marker": {
          "symbol": "circle"
         },
         "mode": "lines",
         "name": "0.4",
         "orientation": "v",
         "showlegend": false,
         "type": "scatter",
         "x": [
          0,
          0.05,
          0.1,
          0.15,
          0.2,
          0.25,
          0.3,
          0.35,
          0.4,
          0.45,
          0.5,
          0.55
         ],
         "xaxis": "x",
         "y": [
          0,
          0,
          0,
          0,
          0.0625,
          0.03315881326352531,
          0.0607687959299039,
          0.12038461538461538,
          0.10690226394257317,
          0.08345793122196547,
          0.07421383647798742,
          0.0196078431372549
         ],
         "yaxis": "y"
        },
        {
         "hovertemplate": "n_depth_bin=0.5<br>_train=False<br>bin=%{x}<br>fraction=%{y}<extra></extra>",
         "legendgroup": "0.5",
         "line": {
          "color": "#66a61e",
          "dash": "solid"
         },
         "marker": {
          "symbol": "circle"
         },
         "mode": "lines",
         "name": "0.5",
         "orientation": "v",
         "showlegend": true,
         "type": "scatter",
         "x": [
          0.25,
          0.3,
          0.35,
          0.4,
          0.45,
          0.5
         ],
         "xaxis": "x2",
         "y": [
          0.17954545454545454,
          0.19675925925925927,
          0.10596198906534757,
          0.13908822287885184,
          0.13825448613376834,
          0
         ],
         "yaxis": "y2"
        },
        {
         "hovertemplate": "n_depth_bin=0.5<br>_train=True<br>bin=%{x}<br>fraction=%{y}<extra></extra>",
         "legendgroup": "0.5",
         "line": {
          "color": "#66a61e",
          "dash": "solid"
         },
         "marker": {
          "symbol": "circle"
         },
         "mode": "lines",
         "name": "0.5",
         "orientation": "v",
         "showlegend": false,
         "type": "scatter",
         "x": [
          0.1,
          0.15,
          0.2,
          0.25,
          0.3,
          0.35,
          0.4,
          0.45,
          0.5,
          0.55
         ],
         "xaxis": "x",
         "y": [
          0,
          0,
          0.14782608695652175,
          0.0364963503649635,
          0.11577608142493638,
          0.153441802252816,
          0.12293176534937782,
          0.1111777404653394,
          0.06529209621993128,
          0.125
         ],
         "yaxis": "y"
        },
        {
         "hovertemplate": "n_depth_bin=0.6<br>_train=False<br>bin=%{x}<br>fraction=%{y}<extra></extra>",
         "legendgroup": "0.6",
         "line": {
          "color": "#e6ab02",
          "dash": "solid"
         },
         "marker": {
          "symbol": "circle"
         },
         "mode": "lines",
         "name": "0.6",
         "orientation": "v",
         "showlegend": true,
         "type": "scatter",
         "x": [
          0.25,
          0.3,
          0.35,
          0.4,
          0.45,
          0.5
         ],
         "xaxis": "x2",
         "y": [
          0.059907834101382486,
          0.05139833711262283,
          0.03467799009200283,
          0.03730595893840761,
          0.07511737089201878,
          0
         ],
         "yaxis": "y2"
        },
        {
         "hovertemplate": "n_depth_bin=0.6<br>_train=True<br>bin=%{x}<br>fraction=%{y}<extra></extra>",
         "legendgroup": "0.6",
         "line": {
          "color": "#e6ab02",
          "dash": "solid"
         },
         "marker": {
          "symbol": "circle"
         },
         "mode": "lines",
         "name": "0.6",
         "orientation": "v",
         "showlegend": false,
         "type": "scatter",
         "x": [
          0.15,
          0.2,
          0.25,
          0.3,
          0.35,
          0.4,
          0.45,
          0.5
         ],
         "xaxis": "x",
         "y": [
          0,
          0.06060606060606061,
          0.007585335018963337,
          0.036207540126913025,
          0.06601987695220066,
          0.041662181074389064,
          0.09095647641386499,
          0.014285714285714285
         ],
         "yaxis": "y"
        },
        {
         "hovertemplate": "n_depth_bin=0.7<br>_train=False<br>bin=%{x}<br>fraction=%{y}<extra></extra>",
         "legendgroup": "0.7",
         "line": {
          "color": "#a6761d",
          "dash": "solid"
         },
         "marker": {
          "symbol": "circle"
         },
         "mode": "lines",
         "name": "0.7",
         "orientation": "v",
         "showlegend": true,
         "type": "scatter",
         "x": [
          0.25,
          0.3,
          0.35,
          0.4,
          0.45
         ],
         "xaxis": "x2",
         "y": [
          0.07091346153846154,
          0.013545546901456146,
          0.00034831069313827936,
          0.0012746972594008922,
          0
         ],
         "yaxis": "y2"
        },
        {
         "hovertemplate": "n_depth_bin=0.7<br>_train=True<br>bin=%{x}<br>fraction=%{y}<extra></extra>",
         "legendgroup": "0.7",
         "line": {
          "color": "#a6761d",
          "dash": "solid"
         },
         "marker": {
          "symbol": "circle"
         },
         "mode": "lines",
         "name": "0.7",
         "orientation": "v",
         "showlegend": false,
         "type": "scatter",
         "x": [
          0.25,
          0.3,
          0.35,
          0.4,
          0.45,
          0.5
         ],
         "xaxis": "x",
         "y": [
          0.0016652789342214821,
          0.012024048096192385,
          0.0070408761979268535,
          0.017618586640851887,
          0.031189083820662766,
          0
         ],
         "yaxis": "y"
        },
        {
         "hovertemplate": "n_depth_bin=0.8<br>_train=False<br>bin=%{x}<br>fraction=%{y}<extra></extra>",
         "legendgroup": "0.8",
         "line": {
          "color": "#666666",
          "dash": "solid"
         },
         "marker": {
          "symbol": "circle"
         },
         "mode": "lines",
         "name": "0.8",
         "orientation": "v",
         "showlegend": true,
         "type": "scatter",
         "x": [
          0.25,
          0.3,
          0.35,
          0.4,
          0.45
         ],
         "xaxis": "x2",
         "y": [
          0.07759882869692533,
          0.001836210062431142,
          0,
          0,
          0
         ],
         "yaxis": "y2"
        },
        {
         "hovertemplate": "n_depth_bin=0.8<br>_train=True<br>bin=%{x}<br>fraction=%{y}<extra></extra>",
         "legendgroup": "0.8",
         "line": {
          "color": "#666666",
          "dash": "solid"
         },
         "marker": {
          "symbol": "circle"
         },
         "mode": "lines",
         "name": "0.8",
         "orientation": "v",
         "showlegend": false,
         "type": "scatter",
         "x": [
          0.25,
          0.3,
          0.35,
          0.4,
          0.45,
          0.5
         ],
         "xaxis": "x",
         "y": [
          0.0005803830528148578,
          0.003954214360041623,
          0.0002955956251847473,
          0.0027129679869777536,
          0,
          0
         ],
         "yaxis": "y"
        },
        {
         "hovertemplate": "n_depth_bin=0.9<br>_train=False<br>bin=%{x}<br>fraction=%{y}<extra></extra>",
         "legendgroup": "0.9",
         "line": {
          "color": "#1f78b4",
          "dash": "solid"
         },
         "marker": {
          "symbol": "circle"
         },
         "mode": "lines",
         "name": "0.9",
         "orientation": "v",
         "showlegend": true,
         "type": "scatter",
         "x": [
          0.25,
          0.3,
          0.35,
          0.4
         ],
         "xaxis": "x2",
         "y": [
          0.02051877661633759,
          0,
          0,
          0
         ],
         "yaxis": "y2"
        },
        {
         "hovertemplate": "n_depth_bin=0.9<br>_train=True<br>bin=%{x}<br>fraction=%{y}<extra></extra>",
         "legendgroup": "0.9",
         "line": {
          "color": "#1f78b4",
          "dash": "solid"
         },
         "marker": {
          "symbol": "circle"
         },
         "mode": "lines",
         "name": "0.9",
         "orientation": "v",
         "showlegend": false,
         "type": "scatter",
         "x": [
          0.25,
          0.3,
          0.35,
          0.4,
          0.45
         ],
         "xaxis": "x",
         "y": [
          0.0013192612137203166,
          0.0001490757304710793,
          0,
          0,
          0
         ],
         "yaxis": "y"
        },
        {
         "hovertemplate": "n_depth_bin=1.0<br>_train=False<br>bin=%{x}<br>fraction=%{y}<extra></extra>",
         "legendgroup": "1.0",
         "line": {
          "color": "#a6cee3",
          "dash": "solid"
         },
         "marker": {
          "symbol": "circle"
         },
         "mode": "lines",
         "name": "1.0",
         "orientation": "v",
         "showlegend": true,
         "type": "scatter",
         "x": [
          0.25,
          0.3,
          0.35
         ],
         "xaxis": "x2",
         "y": [
          0,
          0,
          0
         ],
         "yaxis": "y2"
        },
        {
         "hovertemplate": "n_depth_bin=1.0<br>_train=True<br>bin=%{x}<br>fraction=%{y}<extra></extra>",
         "legendgroup": "1.0",
         "line": {
          "color": "#a6cee3",
          "dash": "solid"
         },
         "marker": {
          "symbol": "circle"
         },
         "mode": "lines",
         "name": "1.0",
         "orientation": "v",
         "showlegend": false,
         "type": "scatter",
         "x": [
          0.25,
          0.3,
          0.35,
          0.4
         ],
         "xaxis": "x",
         "y": [
          0,
          0,
          0,
          0
         ],
         "yaxis": "y"
        }
       ],
       "layout": {
        "annotations": [
         {
          "font": {},
          "showarrow": false,
          "text": "_train=True",
          "textangle": 90,
          "x": 0.98,
          "xanchor": "left",
          "xref": "paper",
          "y": 0.2425,
          "yanchor": "middle",
          "yref": "paper"
         },
         {
          "font": {},
          "showarrow": false,
          "text": "_train=False",
          "textangle": 90,
          "x": 0.98,
          "xanchor": "left",
          "xref": "paper",
          "y": 0.7575000000000001,
          "yanchor": "middle",
          "yref": "paper"
         }
        ],
        "legend": {
         "title": {
          "text": "n_depth_bin"
         },
         "tracegroupgap": 0
        },
        "margin": {
         "t": 60
        },
        "template": {
         "data": {
          "bar": [
           {
            "error_x": {
             "color": "#2a3f5f"
            },
            "error_y": {
             "color": "#2a3f5f"
            },
            "marker": {
             "line": {
              "color": "#E5ECF6",
              "width": 0.5
             },
             "pattern": {
              "fillmode": "overlay",
              "size": 10,
              "solidity": 0.2
             }
            },
            "type": "bar"
           }
          ],
          "barpolar": [
           {
            "marker": {
             "line": {
              "color": "#E5ECF6",
              "width": 0.5
             },
             "pattern": {
              "fillmode": "overlay",
              "size": 10,
              "solidity": 0.2
             }
            },
            "type": "barpolar"
           }
          ],
          "carpet": [
           {
            "aaxis": {
             "endlinecolor": "#2a3f5f",
             "gridcolor": "white",
             "linecolor": "white",
             "minorgridcolor": "white",
             "startlinecolor": "#2a3f5f"
            },
            "baxis": {
             "endlinecolor": "#2a3f5f",
             "gridcolor": "white",
             "linecolor": "white",
             "minorgridcolor": "white",
             "startlinecolor": "#2a3f5f"
            },
            "type": "carpet"
           }
          ],
          "choropleth": [
           {
            "colorbar": {
             "outlinewidth": 0,
             "ticks": ""
            },
            "type": "choropleth"
           }
          ],
          "contour": [
           {
            "colorbar": {
             "outlinewidth": 0,
             "ticks": ""
            },
            "colorscale": [
             [
              0,
              "#0d0887"
             ],
             [
              0.1111111111111111,
              "#46039f"
             ],
             [
              0.2222222222222222,
              "#7201a8"
             ],
             [
              0.3333333333333333,
              "#9c179e"
             ],
             [
              0.4444444444444444,
              "#bd3786"
             ],
             [
              0.5555555555555556,
              "#d8576b"
             ],
             [
              0.6666666666666666,
              "#ed7953"
             ],
             [
              0.7777777777777778,
              "#fb9f3a"
             ],
             [
              0.8888888888888888,
              "#fdca26"
             ],
             [
              1,
              "#f0f921"
             ]
            ],
            "type": "contour"
           }
          ],
          "contourcarpet": [
           {
            "colorbar": {
             "outlinewidth": 0,
             "ticks": ""
            },
            "type": "contourcarpet"
           }
          ],
          "heatmap": [
           {
            "colorbar": {
             "outlinewidth": 0,
             "ticks": ""
            },
            "colorscale": [
             [
              0,
              "#0d0887"
             ],
             [
              0.1111111111111111,
              "#46039f"
             ],
             [
              0.2222222222222222,
              "#7201a8"
             ],
             [
              0.3333333333333333,
              "#9c179e"
             ],
             [
              0.4444444444444444,
              "#bd3786"
             ],
             [
              0.5555555555555556,
              "#d8576b"
             ],
             [
              0.6666666666666666,
              "#ed7953"
             ],
             [
              0.7777777777777778,
              "#fb9f3a"
             ],
             [
              0.8888888888888888,
              "#fdca26"
             ],
             [
              1,
              "#f0f921"
             ]
            ],
            "type": "heatmap"
           }
          ],
          "heatmapgl": [
           {
            "colorbar": {
             "outlinewidth": 0,
             "ticks": ""
            },
            "colorscale": [
             [
              0,
              "#0d0887"
             ],
             [
              0.1111111111111111,
              "#46039f"
             ],
             [
              0.2222222222222222,
              "#7201a8"
             ],
             [
              0.3333333333333333,
              "#9c179e"
             ],
             [
              0.4444444444444444,
              "#bd3786"
             ],
             [
              0.5555555555555556,
              "#d8576b"
             ],
             [
              0.6666666666666666,
              "#ed7953"
             ],
             [
              0.7777777777777778,
              "#fb9f3a"
             ],
             [
              0.8888888888888888,
              "#fdca26"
             ],
             [
              1,
              "#f0f921"
             ]
            ],
            "type": "heatmapgl"
           }
          ],
          "histogram": [
           {
            "marker": {
             "pattern": {
              "fillmode": "overlay",
              "size": 10,
              "solidity": 0.2
             }
            },
            "type": "histogram"
           }
          ],
          "histogram2d": [
           {
            "colorbar": {
             "outlinewidth": 0,
             "ticks": ""
            },
            "colorscale": [
             [
              0,
              "#0d0887"
             ],
             [
              0.1111111111111111,
              "#46039f"
             ],
             [
              0.2222222222222222,
              "#7201a8"
             ],
             [
              0.3333333333333333,
              "#9c179e"
             ],
             [
              0.4444444444444444,
              "#bd3786"
             ],
             [
              0.5555555555555556,
              "#d8576b"
             ],
             [
              0.6666666666666666,
              "#ed7953"
             ],
             [
              0.7777777777777778,
              "#fb9f3a"
             ],
             [
              0.8888888888888888,
              "#fdca26"
             ],
             [
              1,
              "#f0f921"
             ]
            ],
            "type": "histogram2d"
           }
          ],
          "histogram2dcontour": [
           {
            "colorbar": {
             "outlinewidth": 0,
             "ticks": ""
            },
            "colorscale": [
             [
              0,
              "#0d0887"
             ],
             [
              0.1111111111111111,
              "#46039f"
             ],
             [
              0.2222222222222222,
              "#7201a8"
             ],
             [
              0.3333333333333333,
              "#9c179e"
             ],
             [
              0.4444444444444444,
              "#bd3786"
             ],
             [
              0.5555555555555556,
              "#d8576b"
             ],
             [
              0.6666666666666666,
              "#ed7953"
             ],
             [
              0.7777777777777778,
              "#fb9f3a"
             ],
             [
              0.8888888888888888,
              "#fdca26"
             ],
             [
              1,
              "#f0f921"
             ]
            ],
            "type": "histogram2dcontour"
           }
          ],
          "mesh3d": [
           {
            "colorbar": {
             "outlinewidth": 0,
             "ticks": ""
            },
            "type": "mesh3d"
           }
          ],
          "parcoords": [
           {
            "line": {
             "colorbar": {
              "outlinewidth": 0,
              "ticks": ""
             }
            },
            "type": "parcoords"
           }
          ],
          "pie": [
           {
            "automargin": true,
            "type": "pie"
           }
          ],
          "scatter": [
           {
            "fillpattern": {
             "fillmode": "overlay",
             "size": 10,
             "solidity": 0.2
            },
            "type": "scatter"
           }
          ],
          "scatter3d": [
           {
            "line": {
             "colorbar": {
              "outlinewidth": 0,
              "ticks": ""
             }
            },
            "marker": {
             "colorbar": {
              "outlinewidth": 0,
              "ticks": ""
             }
            },
            "type": "scatter3d"
           }
          ],
          "scattercarpet": [
           {
            "marker": {
             "colorbar": {
              "outlinewidth": 0,
              "ticks": ""
             }
            },
            "type": "scattercarpet"
           }
          ],
          "scattergeo": [
           {
            "marker": {
             "colorbar": {
              "outlinewidth": 0,
              "ticks": ""
             }
            },
            "type": "scattergeo"
           }
          ],
          "scattergl": [
           {
            "marker": {
             "colorbar": {
              "outlinewidth": 0,
              "ticks": ""
             }
            },
            "type": "scattergl"
           }
          ],
          "scattermapbox": [
           {
            "marker": {
             "colorbar": {
              "outlinewidth": 0,
              "ticks": ""
             }
            },
            "type": "scattermapbox"
           }
          ],
          "scatterpolar": [
           {
            "marker": {
             "colorbar": {
              "outlinewidth": 0,
              "ticks": ""
             }
            },
            "type": "scatterpolar"
           }
          ],
          "scatterpolargl": [
           {
            "marker": {
             "colorbar": {
              "outlinewidth": 0,
              "ticks": ""
             }
            },
            "type": "scatterpolargl"
           }
          ],
          "scatterternary": [
           {
            "marker": {
             "colorbar": {
              "outlinewidth": 0,
              "ticks": ""
             }
            },
            "type": "scatterternary"
           }
          ],
          "surface": [
           {
            "colorbar": {
             "outlinewidth": 0,
             "ticks": ""
            },
            "colorscale": [
             [
              0,
              "#0d0887"
             ],
             [
              0.1111111111111111,
              "#46039f"
             ],
             [
              0.2222222222222222,
              "#7201a8"
             ],
             [
              0.3333333333333333,
              "#9c179e"
             ],
             [
              0.4444444444444444,
              "#bd3786"
             ],
             [
              0.5555555555555556,
              "#d8576b"
             ],
             [
              0.6666666666666666,
              "#ed7953"
             ],
             [
              0.7777777777777778,
              "#fb9f3a"
             ],
             [
              0.8888888888888888,
              "#fdca26"
             ],
             [
              1,
              "#f0f921"
             ]
            ],
            "type": "surface"
           }
          ],
          "table": [
           {
            "cells": {
             "fill": {
              "color": "#EBF0F8"
             },
             "line": {
              "color": "white"
             }
            },
            "header": {
             "fill": {
              "color": "#C8D4E3"
             },
             "line": {
              "color": "white"
             }
            },
            "type": "table"
           }
          ]
         },
         "layout": {
          "annotationdefaults": {
           "arrowcolor": "#2a3f5f",
           "arrowhead": 0,
           "arrowwidth": 1
          },
          "autotypenumbers": "strict",
          "coloraxis": {
           "colorbar": {
            "outlinewidth": 0,
            "ticks": ""
           }
          },
          "colorscale": {
           "diverging": [
            [
             0,
             "#8e0152"
            ],
            [
             0.1,
             "#c51b7d"
            ],
            [
             0.2,
             "#de77ae"
            ],
            [
             0.3,
             "#f1b6da"
            ],
            [
             0.4,
             "#fde0ef"
            ],
            [
             0.5,
             "#f7f7f7"
            ],
            [
             0.6,
             "#e6f5d0"
            ],
            [
             0.7,
             "#b8e186"
            ],
            [
             0.8,
             "#7fbc41"
            ],
            [
             0.9,
             "#4d9221"
            ],
            [
             1,
             "#276419"
            ]
           ],
           "sequential": [
            [
             0,
             "#0d0887"
            ],
            [
             0.1111111111111111,
             "#46039f"
            ],
            [
             0.2222222222222222,
             "#7201a8"
            ],
            [
             0.3333333333333333,
             "#9c179e"
            ],
            [
             0.4444444444444444,
             "#bd3786"
            ],
            [
             0.5555555555555556,
             "#d8576b"
            ],
            [
             0.6666666666666666,
             "#ed7953"
            ],
            [
             0.7777777777777778,
             "#fb9f3a"
            ],
            [
             0.8888888888888888,
             "#fdca26"
            ],
            [
             1,
             "#f0f921"
            ]
           ],
           "sequentialminus": [
            [
             0,
             "#0d0887"
            ],
            [
             0.1111111111111111,
             "#46039f"
            ],
            [
             0.2222222222222222,
             "#7201a8"
            ],
            [
             0.3333333333333333,
             "#9c179e"
            ],
            [
             0.4444444444444444,
             "#bd3786"
            ],
            [
             0.5555555555555556,
             "#d8576b"
            ],
            [
             0.6666666666666666,
             "#ed7953"
            ],
            [
             0.7777777777777778,
             "#fb9f3a"
            ],
            [
             0.8888888888888888,
             "#fdca26"
            ],
            [
             1,
             "#f0f921"
            ]
           ]
          },
          "colorway": [
           "#636efa",
           "#EF553B",
           "#00cc96",
           "#ab63fa",
           "#FFA15A",
           "#19d3f3",
           "#FF6692",
           "#B6E880",
           "#FF97FF",
           "#FECB52"
          ],
          "font": {
           "color": "#2a3f5f"
          },
          "geo": {
           "bgcolor": "white",
           "lakecolor": "white",
           "landcolor": "#E5ECF6",
           "showlakes": true,
           "showland": true,
           "subunitcolor": "white"
          },
          "hoverlabel": {
           "align": "left"
          },
          "hovermode": "closest",
          "mapbox": {
           "style": "light"
          },
          "paper_bgcolor": "white",
          "plot_bgcolor": "#E5ECF6",
          "polar": {
           "angularaxis": {
            "gridcolor": "white",
            "linecolor": "white",
            "ticks": ""
           },
           "bgcolor": "#E5ECF6",
           "radialaxis": {
            "gridcolor": "white",
            "linecolor": "white",
            "ticks": ""
           }
          },
          "scene": {
           "xaxis": {
            "backgroundcolor": "#E5ECF6",
            "gridcolor": "white",
            "gridwidth": 2,
            "linecolor": "white",
            "showbackground": true,
            "ticks": "",
            "zerolinecolor": "white"
           },
           "yaxis": {
            "backgroundcolor": "#E5ECF6",
            "gridcolor": "white",
            "gridwidth": 2,
            "linecolor": "white",
            "showbackground": true,
            "ticks": "",
            "zerolinecolor": "white"
           },
           "zaxis": {
            "backgroundcolor": "#E5ECF6",
            "gridcolor": "white",
            "gridwidth": 2,
            "linecolor": "white",
            "showbackground": true,
            "ticks": "",
            "zerolinecolor": "white"
           }
          },
          "shapedefaults": {
           "line": {
            "color": "#2a3f5f"
           }
          },
          "ternary": {
           "aaxis": {
            "gridcolor": "white",
            "linecolor": "white",
            "ticks": ""
           },
           "baxis": {
            "gridcolor": "white",
            "linecolor": "white",
            "ticks": ""
           },
           "bgcolor": "#E5ECF6",
           "caxis": {
            "gridcolor": "white",
            "linecolor": "white",
            "ticks": ""
           }
          },
          "title": {
           "x": 0.05
          },
          "xaxis": {
           "automargin": true,
           "gridcolor": "white",
           "linecolor": "white",
           "ticks": "",
           "title": {
            "standoff": 15
           },
           "zerolinecolor": "white",
           "zerolinewidth": 2
          },
          "yaxis": {
           "automargin": true,
           "gridcolor": "white",
           "linecolor": "white",
           "ticks": "",
           "title": {
            "standoff": 15
           },
           "zerolinecolor": "white",
           "zerolinewidth": 2
          }
         }
        },
        "xaxis": {
         "anchor": "y",
         "domain": [
          0,
          0.98
         ],
         "title": {
          "text": "bin"
         }
        },
        "xaxis2": {
         "anchor": "y2",
         "domain": [
          0,
          0.98
         ],
         "matches": "x",
         "showticklabels": false
        },
        "yaxis": {
         "anchor": "x",
         "domain": [
          0,
          0.485
         ],
         "title": {
          "text": "fraction"
         }
        },
        "yaxis2": {
         "anchor": "x2",
         "domain": [
          0.515,
          1
         ],
         "matches": "y",
         "title": {
          "text": "fraction"
         }
        }
       }
      },
      "text/html": [
       "<div>                            <div id=\"ba4c9291-bb23-485f-8762-336ca15f36d0\" class=\"plotly-graph-div\" style=\"height:525px; width:100%;\"></div>            <script type=\"text/javascript\">                require([\"plotly\"], function(Plotly) {                    window.PLOTLYENV=window.PLOTLYENV || {};                                    if (document.getElementById(\"ba4c9291-bb23-485f-8762-336ca15f36d0\")) {                    Plotly.newPlot(                        \"ba4c9291-bb23-485f-8762-336ca15f36d0\",                        [{\"hovertemplate\":\"n_depth_bin=0.1\\u003cbr\\u003e_train=False\\u003cbr\\u003ebin=%{x}\\u003cbr\\u003efraction=%{y}\\u003cextra\\u003e\\u003c\\u002fextra\\u003e\",\"legendgroup\":\"0.1\",\"line\":{\"color\":\"#1b9e77\",\"dash\":\"solid\"},\"marker\":{\"symbol\":\"circle\"},\"mode\":\"lines\",\"name\":\"0.1\",\"orientation\":\"v\",\"showlegend\":true,\"x\":[0.1,0.15,0.2,0.25,0.3,0.35,0.4,0.45,0.5,0.55,0.6,0.65,0.7,0.75,0.8,0.85,0.9],\"xaxis\":\"x2\",\"y\":[0.9487179487179487,0.8809523809523809,0.8780487804878049,0.44929797191887677,0.3903982136211388,0.3558961260110685,0.43233830845771143,0.37271853986551395,0.4159695817490494,0.4553846153846154,0.4106217616580311,0.5464071856287425,0.547945205479452,0.514246947082768,0.4312796208530806,0.38204592901878914,0.3261802575107296],\"yaxis\":\"y2\",\"type\":\"scatter\"},{\"hovertemplate\":\"n_depth_bin=0.1\\u003cbr\\u003e_train=True\\u003cbr\\u003ebin=%{x}\\u003cbr\\u003efraction=%{y}\\u003cextra\\u003e\\u003c\\u002fextra\\u003e\",\"legendgroup\":\"0.1\",\"line\":{\"color\":\"#1b9e77\",\"dash\":\"solid\"},\"marker\":{\"symbol\":\"circle\"},\"mode\":\"lines\",\"name\":\"0.1\",\"orientation\":\"v\",\"showlegend\":false,\"x\":[0.1,0.15,0.2,0.25,0.3,0.35,0.4,0.45,0.5,0.55,0.6,0.65,0.7,0.75,0.8,0.85,0.9,0.95,1.0],\"xaxis\":\"x\",\"y\":[1.0,0.8692307692307693,0.8010291595197255,0.5859296482412061,0.3937775713954028,0.36644474034620506,0.3565030455034038,0.39168721380767874,0.43352601156069365,0.5155228758169934,0.5069551777434312,0.7032069970845481,0.6319307904050334,0.6366572466693581,0.4349775784753363,0.3920171062009979,0.46099290780141844,0.3522727272727273,0.18181818181818182],\"yaxis\":\"y\",\"type\":\"scatter\"},{\"hovertemplate\":\"n_depth_bin=0.2\\u003cbr\\u003e_train=False\\u003cbr\\u003ebin=%{x}\\u003cbr\\u003efraction=%{y}\\u003cextra\\u003e\\u003c\\u002fextra\\u003e\",\"legendgroup\":\"0.2\",\"line\":{\"color\":\"#d95f02\",\"dash\":\"solid\"},\"marker\":{\"symbol\":\"circle\"},\"mode\":\"lines\",\"name\":\"0.2\",\"orientation\":\"v\",\"showlegend\":true,\"x\":[0.1,0.15,0.2,0.25,0.3,0.35,0.4,0.45,0.5,0.55,0.6,0.65,0.7,0.75],\"xaxis\":\"x2\",\"y\":[0.047619047619047616,0.08888888888888889,0.15384615384615385,0.11152976639035418,0.13979007633587787,0.11865357643758766,0.19330410522120367,0.18394160583941604,0.17301038062283736,0.21918908069048576,0.1935483870967742,0.31805157593123207,0.07692307692307693,0.4166666666666667],\"yaxis\":\"y2\",\"type\":\"scatter\"},{\"hovertemplate\":\"n_depth_bin=0.2\\u003cbr\\u003e_train=True\\u003cbr\\u003ebin=%{x}\\u003cbr\\u003efraction=%{y}\\u003cextra\\u003e\\u003c\\u002fextra\\u003e\",\"legendgroup\":\"0.2\",\"line\":{\"color\":\"#d95f02\",\"dash\":\"solid\"},\"marker\":{\"symbol\":\"circle\"},\"mode\":\"lines\",\"name\":\"0.2\",\"orientation\":\"v\",\"showlegend\":false,\"x\":[0.1,0.15,0.2,0.25,0.3,0.35,0.4,0.45,0.5,0.55,0.6,0.65,0.7,0.75],\"xaxis\":\"x\",\"y\":[0.037037037037037035,0.05405405405405406,0.15193370165745856,0.14471544715447154,0.17600896860986548,0.14932353432436946,0.17091346153846154,0.18209044624138965,0.16379546076018595,0.16707344131351232,0.16813509544787078,0.16951566951566951,0.17647058823529413,0.24324324324324326],\"yaxis\":\"y\",\"type\":\"scatter\"},{\"hovertemplate\":\"n_depth_bin=0.3\\u003cbr\\u003e_train=False\\u003cbr\\u003ebin=%{x}\\u003cbr\\u003efraction=%{y}\\u003cextra\\u003e\\u003c\\u002fextra\\u003e\",\"legendgroup\":\"0.3\",\"line\":{\"color\":\"#7570b3\",\"dash\":\"solid\"},\"marker\":{\"symbol\":\"circle\"},\"mode\":\"lines\",\"name\":\"0.3\",\"orientation\":\"v\",\"showlegend\":true,\"x\":[0.2,0.25,0.3,0.35,0.4,0.45,0.5,0.55,0.6,0.65],\"xaxis\":\"x2\",\"y\":[0.1111111111111111,0.0785276073619632,0.14059814369199036,0.13844580777096113,0.1573802541544477,0.12982359426681367,0.13581314878892733,0.08092485549132948,0.27586206896551724,0.4666666666666667],\"yaxis\":\"y2\",\"type\":\"scatter\"},{\"hovertemplate\":\"n_depth_bin=0.3\\u003cbr\\u003e_train=True\\u003cbr\\u003ebin=%{x}\\u003cbr\\u003efraction=%{y}\\u003cextra\\u003e\\u003c\\u002fextra\\u003e\",\"legendgroup\":\"0.3\",\"line\":{\"color\":\"#7570b3\",\"dash\":\"solid\"},\"marker\":{\"symbol\":\"circle\"},\"mode\":\"lines\",\"name\":\"0.3\",\"orientation\":\"v\",\"showlegend\":false,\"x\":[0.0,0.05,0.1,0.15,0.2,0.25,0.3,0.35,0.4,0.45,0.5,0.55,0.6],\"xaxis\":\"x\",\"y\":[1.0,0.2926829268292683,0.36879432624113473,0.21794871794871795,0.29260450160771706,0.07150153217568948,0.11861948955916474,0.13711997998248468,0.14408985070538283,0.1063063063063063,0.10249671484888305,0.15568862275449102,0.0],\"yaxis\":\"y\",\"type\":\"scatter\"},{\"hovertemplate\":\"n_depth_bin=0.4\\u003cbr\\u003e_train=False\\u003cbr\\u003ebin=%{x}\\u003cbr\\u003efraction=%{y}\\u003cextra\\u003e\\u003c\\u002fextra\\u003e\",\"legendgroup\":\"0.4\",\"line\":{\"color\":\"#e7298a\",\"dash\":\"solid\"},\"marker\":{\"symbol\":\"circle\"},\"mode\":\"lines\",\"name\":\"0.4\",\"orientation\":\"v\",\"showlegend\":true,\"x\":[0.2,0.25,0.3,0.35,0.4,0.45,0.5],\"xaxis\":\"x2\",\"y\":[0.0,0.1210762331838565,0.10729483282674772,0.16132671480144403,0.13445378151260504,0.10465768799102132,0.05934718100890208],\"yaxis\":\"y2\",\"type\":\"scatter\"},{\"hovertemplate\":\"n_depth_bin=0.4\\u003cbr\\u003e_train=True\\u003cbr\\u003ebin=%{x}\\u003cbr\\u003efraction=%{y}\\u003cextra\\u003e\\u003c\\u002fextra\\u003e\",\"legendgroup\":\"0.4\",\"line\":{\"color\":\"#e7298a\",\"dash\":\"solid\"},\"marker\":{\"symbol\":\"circle\"},\"mode\":\"lines\",\"name\":\"0.4\",\"orientation\":\"v\",\"showlegend\":false,\"x\":[0.0,0.05,0.1,0.15,0.2,0.25,0.3,0.35,0.4,0.45,0.5,0.55],\"xaxis\":\"x\",\"y\":[0.0,0.0,0.0,0.0,0.0625,0.03315881326352531,0.0607687959299039,0.12038461538461538,0.10690226394257317,0.08345793122196547,0.07421383647798742,0.0196078431372549],\"yaxis\":\"y\",\"type\":\"scatter\"},{\"hovertemplate\":\"n_depth_bin=0.5\\u003cbr\\u003e_train=False\\u003cbr\\u003ebin=%{x}\\u003cbr\\u003efraction=%{y}\\u003cextra\\u003e\\u003c\\u002fextra\\u003e\",\"legendgroup\":\"0.5\",\"line\":{\"color\":\"#66a61e\",\"dash\":\"solid\"},\"marker\":{\"symbol\":\"circle\"},\"mode\":\"lines\",\"name\":\"0.5\",\"orientation\":\"v\",\"showlegend\":true,\"x\":[0.25,0.3,0.35,0.4,0.45,0.5],\"xaxis\":\"x2\",\"y\":[0.17954545454545454,0.19675925925925927,0.10596198906534757,0.13908822287885184,0.13825448613376834,0.0],\"yaxis\":\"y2\",\"type\":\"scatter\"},{\"hovertemplate\":\"n_depth_bin=0.5\\u003cbr\\u003e_train=True\\u003cbr\\u003ebin=%{x}\\u003cbr\\u003efraction=%{y}\\u003cextra\\u003e\\u003c\\u002fextra\\u003e\",\"legendgroup\":\"0.5\",\"line\":{\"color\":\"#66a61e\",\"dash\":\"solid\"},\"marker\":{\"symbol\":\"circle\"},\"mode\":\"lines\",\"name\":\"0.5\",\"orientation\":\"v\",\"showlegend\":false,\"x\":[0.1,0.15,0.2,0.25,0.3,0.35,0.4,0.45,0.5,0.55],\"xaxis\":\"x\",\"y\":[0.0,0.0,0.14782608695652175,0.0364963503649635,0.11577608142493638,0.153441802252816,0.12293176534937782,0.1111777404653394,0.06529209621993128,0.125],\"yaxis\":\"y\",\"type\":\"scatter\"},{\"hovertemplate\":\"n_depth_bin=0.6\\u003cbr\\u003e_train=False\\u003cbr\\u003ebin=%{x}\\u003cbr\\u003efraction=%{y}\\u003cextra\\u003e\\u003c\\u002fextra\\u003e\",\"legendgroup\":\"0.6\",\"line\":{\"color\":\"#e6ab02\",\"dash\":\"solid\"},\"marker\":{\"symbol\":\"circle\"},\"mode\":\"lines\",\"name\":\"0.6\",\"orientation\":\"v\",\"showlegend\":true,\"x\":[0.25,0.3,0.35,0.4,0.45,0.5],\"xaxis\":\"x2\",\"y\":[0.059907834101382486,0.05139833711262283,0.03467799009200283,0.03730595893840761,0.07511737089201878,0.0],\"yaxis\":\"y2\",\"type\":\"scatter\"},{\"hovertemplate\":\"n_depth_bin=0.6\\u003cbr\\u003e_train=True\\u003cbr\\u003ebin=%{x}\\u003cbr\\u003efraction=%{y}\\u003cextra\\u003e\\u003c\\u002fextra\\u003e\",\"legendgroup\":\"0.6\",\"line\":{\"color\":\"#e6ab02\",\"dash\":\"solid\"},\"marker\":{\"symbol\":\"circle\"},\"mode\":\"lines\",\"name\":\"0.6\",\"orientation\":\"v\",\"showlegend\":false,\"x\":[0.15,0.2,0.25,0.3,0.35,0.4,0.45,0.5],\"xaxis\":\"x\",\"y\":[0.0,0.06060606060606061,0.007585335018963337,0.036207540126913025,0.06601987695220066,0.041662181074389064,0.09095647641386499,0.014285714285714285],\"yaxis\":\"y\",\"type\":\"scatter\"},{\"hovertemplate\":\"n_depth_bin=0.7\\u003cbr\\u003e_train=False\\u003cbr\\u003ebin=%{x}\\u003cbr\\u003efraction=%{y}\\u003cextra\\u003e\\u003c\\u002fextra\\u003e\",\"legendgroup\":\"0.7\",\"line\":{\"color\":\"#a6761d\",\"dash\":\"solid\"},\"marker\":{\"symbol\":\"circle\"},\"mode\":\"lines\",\"name\":\"0.7\",\"orientation\":\"v\",\"showlegend\":true,\"x\":[0.25,0.3,0.35,0.4,0.45],\"xaxis\":\"x2\",\"y\":[0.07091346153846154,0.013545546901456146,0.00034831069313827936,0.0012746972594008922,0.0],\"yaxis\":\"y2\",\"type\":\"scatter\"},{\"hovertemplate\":\"n_depth_bin=0.7\\u003cbr\\u003e_train=True\\u003cbr\\u003ebin=%{x}\\u003cbr\\u003efraction=%{y}\\u003cextra\\u003e\\u003c\\u002fextra\\u003e\",\"legendgroup\":\"0.7\",\"line\":{\"color\":\"#a6761d\",\"dash\":\"solid\"},\"marker\":{\"symbol\":\"circle\"},\"mode\":\"lines\",\"name\":\"0.7\",\"orientation\":\"v\",\"showlegend\":false,\"x\":[0.25,0.3,0.35,0.4,0.45,0.5],\"xaxis\":\"x\",\"y\":[0.0016652789342214821,0.012024048096192385,0.0070408761979268535,0.017618586640851887,0.031189083820662766,0.0],\"yaxis\":\"y\",\"type\":\"scatter\"},{\"hovertemplate\":\"n_depth_bin=0.8\\u003cbr\\u003e_train=False\\u003cbr\\u003ebin=%{x}\\u003cbr\\u003efraction=%{y}\\u003cextra\\u003e\\u003c\\u002fextra\\u003e\",\"legendgroup\":\"0.8\",\"line\":{\"color\":\"#666666\",\"dash\":\"solid\"},\"marker\":{\"symbol\":\"circle\"},\"mode\":\"lines\",\"name\":\"0.8\",\"orientation\":\"v\",\"showlegend\":true,\"x\":[0.25,0.3,0.35,0.4,0.45],\"xaxis\":\"x2\",\"y\":[0.07759882869692533,0.001836210062431142,0.0,0.0,0.0],\"yaxis\":\"y2\",\"type\":\"scatter\"},{\"hovertemplate\":\"n_depth_bin=0.8\\u003cbr\\u003e_train=True\\u003cbr\\u003ebin=%{x}\\u003cbr\\u003efraction=%{y}\\u003cextra\\u003e\\u003c\\u002fextra\\u003e\",\"legendgroup\":\"0.8\",\"line\":{\"color\":\"#666666\",\"dash\":\"solid\"},\"marker\":{\"symbol\":\"circle\"},\"mode\":\"lines\",\"name\":\"0.8\",\"orientation\":\"v\",\"showlegend\":false,\"x\":[0.25,0.3,0.35,0.4,0.45,0.5],\"xaxis\":\"x\",\"y\":[0.0005803830528148578,0.003954214360041623,0.0002955956251847473,0.0027129679869777536,0.0,0.0],\"yaxis\":\"y\",\"type\":\"scatter\"},{\"hovertemplate\":\"n_depth_bin=0.9\\u003cbr\\u003e_train=False\\u003cbr\\u003ebin=%{x}\\u003cbr\\u003efraction=%{y}\\u003cextra\\u003e\\u003c\\u002fextra\\u003e\",\"legendgroup\":\"0.9\",\"line\":{\"color\":\"#1f78b4\",\"dash\":\"solid\"},\"marker\":{\"symbol\":\"circle\"},\"mode\":\"lines\",\"name\":\"0.9\",\"orientation\":\"v\",\"showlegend\":true,\"x\":[0.25,0.3,0.35,0.4],\"xaxis\":\"x2\",\"y\":[0.02051877661633759,0.0,0.0,0.0],\"yaxis\":\"y2\",\"type\":\"scatter\"},{\"hovertemplate\":\"n_depth_bin=0.9\\u003cbr\\u003e_train=True\\u003cbr\\u003ebin=%{x}\\u003cbr\\u003efraction=%{y}\\u003cextra\\u003e\\u003c\\u002fextra\\u003e\",\"legendgroup\":\"0.9\",\"line\":{\"color\":\"#1f78b4\",\"dash\":\"solid\"},\"marker\":{\"symbol\":\"circle\"},\"mode\":\"lines\",\"name\":\"0.9\",\"orientation\":\"v\",\"showlegend\":false,\"x\":[0.25,0.3,0.35,0.4,0.45],\"xaxis\":\"x\",\"y\":[0.0013192612137203166,0.0001490757304710793,0.0,0.0,0.0],\"yaxis\":\"y\",\"type\":\"scatter\"},{\"hovertemplate\":\"n_depth_bin=1.0\\u003cbr\\u003e_train=False\\u003cbr\\u003ebin=%{x}\\u003cbr\\u003efraction=%{y}\\u003cextra\\u003e\\u003c\\u002fextra\\u003e\",\"legendgroup\":\"1.0\",\"line\":{\"color\":\"#a6cee3\",\"dash\":\"solid\"},\"marker\":{\"symbol\":\"circle\"},\"mode\":\"lines\",\"name\":\"1.0\",\"orientation\":\"v\",\"showlegend\":true,\"x\":[0.25,0.3,0.35],\"xaxis\":\"x2\",\"y\":[0.0,0.0,0.0],\"yaxis\":\"y2\",\"type\":\"scatter\"},{\"hovertemplate\":\"n_depth_bin=1.0\\u003cbr\\u003e_train=True\\u003cbr\\u003ebin=%{x}\\u003cbr\\u003efraction=%{y}\\u003cextra\\u003e\\u003c\\u002fextra\\u003e\",\"legendgroup\":\"1.0\",\"line\":{\"color\":\"#a6cee3\",\"dash\":\"solid\"},\"marker\":{\"symbol\":\"circle\"},\"mode\":\"lines\",\"name\":\"1.0\",\"orientation\":\"v\",\"showlegend\":false,\"x\":[0.25,0.3,0.35,0.4],\"xaxis\":\"x\",\"y\":[0.0,0.0,0.0,0.0],\"yaxis\":\"y\",\"type\":\"scatter\"}],                        {\"template\":{\"data\":{\"histogram2dcontour\":[{\"type\":\"histogram2dcontour\",\"colorbar\":{\"outlinewidth\":0,\"ticks\":\"\"},\"colorscale\":[[0.0,\"#0d0887\"],[0.1111111111111111,\"#46039f\"],[0.2222222222222222,\"#7201a8\"],[0.3333333333333333,\"#9c179e\"],[0.4444444444444444,\"#bd3786\"],[0.5555555555555556,\"#d8576b\"],[0.6666666666666666,\"#ed7953\"],[0.7777777777777778,\"#fb9f3a\"],[0.8888888888888888,\"#fdca26\"],[1.0,\"#f0f921\"]]}],\"choropleth\":[{\"type\":\"choropleth\",\"colorbar\":{\"outlinewidth\":0,\"ticks\":\"\"}}],\"histogram2d\":[{\"type\":\"histogram2d\",\"colorbar\":{\"outlinewidth\":0,\"ticks\":\"\"},\"colorscale\":[[0.0,\"#0d0887\"],[0.1111111111111111,\"#46039f\"],[0.2222222222222222,\"#7201a8\"],[0.3333333333333333,\"#9c179e\"],[0.4444444444444444,\"#bd3786\"],[0.5555555555555556,\"#d8576b\"],[0.6666666666666666,\"#ed7953\"],[0.7777777777777778,\"#fb9f3a\"],[0.8888888888888888,\"#fdca26\"],[1.0,\"#f0f921\"]]}],\"heatmap\":[{\"type\":\"heatmap\",\"colorbar\":{\"outlinewidth\":0,\"ticks\":\"\"},\"colorscale\":[[0.0,\"#0d0887\"],[0.1111111111111111,\"#46039f\"],[0.2222222222222222,\"#7201a8\"],[0.3333333333333333,\"#9c179e\"],[0.4444444444444444,\"#bd3786\"],[0.5555555555555556,\"#d8576b\"],[0.6666666666666666,\"#ed7953\"],[0.7777777777777778,\"#fb9f3a\"],[0.8888888888888888,\"#fdca26\"],[1.0,\"#f0f921\"]]}],\"heatmapgl\":[{\"type\":\"heatmapgl\",\"colorbar\":{\"outlinewidth\":0,\"ticks\":\"\"},\"colorscale\":[[0.0,\"#0d0887\"],[0.1111111111111111,\"#46039f\"],[0.2222222222222222,\"#7201a8\"],[0.3333333333333333,\"#9c179e\"],[0.4444444444444444,\"#bd3786\"],[0.5555555555555556,\"#d8576b\"],[0.6666666666666666,\"#ed7953\"],[0.7777777777777778,\"#fb9f3a\"],[0.8888888888888888,\"#fdca26\"],[1.0,\"#f0f921\"]]}],\"contourcarpet\":[{\"type\":\"contourcarpet\",\"colorbar\":{\"outlinewidth\":0,\"ticks\":\"\"}}],\"contour\":[{\"type\":\"contour\",\"colorbar\":{\"outlinewidth\":0,\"ticks\":\"\"},\"colorscale\":[[0.0,\"#0d0887\"],[0.1111111111111111,\"#46039f\"],[0.2222222222222222,\"#7201a8\"],[0.3333333333333333,\"#9c179e\"],[0.4444444444444444,\"#bd3786\"],[0.5555555555555556,\"#d8576b\"],[0.6666666666666666,\"#ed7953\"],[0.7777777777777778,\"#fb9f3a\"],[0.8888888888888888,\"#fdca26\"],[1.0,\"#f0f921\"]]}],\"surface\":[{\"type\":\"surface\",\"colorbar\":{\"outlinewidth\":0,\"ticks\":\"\"},\"colorscale\":[[0.0,\"#0d0887\"],[0.1111111111111111,\"#46039f\"],[0.2222222222222222,\"#7201a8\"],[0.3333333333333333,\"#9c179e\"],[0.4444444444444444,\"#bd3786\"],[0.5555555555555556,\"#d8576b\"],[0.6666666666666666,\"#ed7953\"],[0.7777777777777778,\"#fb9f3a\"],[0.8888888888888888,\"#fdca26\"],[1.0,\"#f0f921\"]]}],\"mesh3d\":[{\"type\":\"mesh3d\",\"colorbar\":{\"outlinewidth\":0,\"ticks\":\"\"}}],\"scatter\":[{\"fillpattern\":{\"fillmode\":\"overlay\",\"size\":10,\"solidity\":0.2},\"type\":\"scatter\"}],\"parcoords\":[{\"type\":\"parcoords\",\"line\":{\"colorbar\":{\"outlinewidth\":0,\"ticks\":\"\"}}}],\"scatterpolargl\":[{\"type\":\"scatterpolargl\",\"marker\":{\"colorbar\":{\"outlinewidth\":0,\"ticks\":\"\"}}}],\"bar\":[{\"error_x\":{\"color\":\"#2a3f5f\"},\"error_y\":{\"color\":\"#2a3f5f\"},\"marker\":{\"line\":{\"color\":\"#E5ECF6\",\"width\":0.5},\"pattern\":{\"fillmode\":\"overlay\",\"size\":10,\"solidity\":0.2}},\"type\":\"bar\"}],\"scattergeo\":[{\"type\":\"scattergeo\",\"marker\":{\"colorbar\":{\"outlinewidth\":0,\"ticks\":\"\"}}}],\"scatterpolar\":[{\"type\":\"scatterpolar\",\"marker\":{\"colorbar\":{\"outlinewidth\":0,\"ticks\":\"\"}}}],\"histogram\":[{\"marker\":{\"pattern\":{\"fillmode\":\"overlay\",\"size\":10,\"solidity\":0.2}},\"type\":\"histogram\"}],\"scattergl\":[{\"type\":\"scattergl\",\"marker\":{\"colorbar\":{\"outlinewidth\":0,\"ticks\":\"\"}}}],\"scatter3d\":[{\"type\":\"scatter3d\",\"line\":{\"colorbar\":{\"outlinewidth\":0,\"ticks\":\"\"}},\"marker\":{\"colorbar\":{\"outlinewidth\":0,\"ticks\":\"\"}}}],\"scattermapbox\":[{\"type\":\"scattermapbox\",\"marker\":{\"colorbar\":{\"outlinewidth\":0,\"ticks\":\"\"}}}],\"scatterternary\":[{\"type\":\"scatterternary\",\"marker\":{\"colorbar\":{\"outlinewidth\":0,\"ticks\":\"\"}}}],\"scattercarpet\":[{\"type\":\"scattercarpet\",\"marker\":{\"colorbar\":{\"outlinewidth\":0,\"ticks\":\"\"}}}],\"carpet\":[{\"aaxis\":{\"endlinecolor\":\"#2a3f5f\",\"gridcolor\":\"white\",\"linecolor\":\"white\",\"minorgridcolor\":\"white\",\"startlinecolor\":\"#2a3f5f\"},\"baxis\":{\"endlinecolor\":\"#2a3f5f\",\"gridcolor\":\"white\",\"linecolor\":\"white\",\"minorgridcolor\":\"white\",\"startlinecolor\":\"#2a3f5f\"},\"type\":\"carpet\"}],\"table\":[{\"cells\":{\"fill\":{\"color\":\"#EBF0F8\"},\"line\":{\"color\":\"white\"}},\"header\":{\"fill\":{\"color\":\"#C8D4E3\"},\"line\":{\"color\":\"white\"}},\"type\":\"table\"}],\"barpolar\":[{\"marker\":{\"line\":{\"color\":\"#E5ECF6\",\"width\":0.5},\"pattern\":{\"fillmode\":\"overlay\",\"size\":10,\"solidity\":0.2}},\"type\":\"barpolar\"}],\"pie\":[{\"automargin\":true,\"type\":\"pie\"}]},\"layout\":{\"autotypenumbers\":\"strict\",\"colorway\":[\"#636efa\",\"#EF553B\",\"#00cc96\",\"#ab63fa\",\"#FFA15A\",\"#19d3f3\",\"#FF6692\",\"#B6E880\",\"#FF97FF\",\"#FECB52\"],\"font\":{\"color\":\"#2a3f5f\"},\"hovermode\":\"closest\",\"hoverlabel\":{\"align\":\"left\"},\"paper_bgcolor\":\"white\",\"plot_bgcolor\":\"#E5ECF6\",\"polar\":{\"bgcolor\":\"#E5ECF6\",\"angularaxis\":{\"gridcolor\":\"white\",\"linecolor\":\"white\",\"ticks\":\"\"},\"radialaxis\":{\"gridcolor\":\"white\",\"linecolor\":\"white\",\"ticks\":\"\"}},\"ternary\":{\"bgcolor\":\"#E5ECF6\",\"aaxis\":{\"gridcolor\":\"white\",\"linecolor\":\"white\",\"ticks\":\"\"},\"baxis\":{\"gridcolor\":\"white\",\"linecolor\":\"white\",\"ticks\":\"\"},\"caxis\":{\"gridcolor\":\"white\",\"linecolor\":\"white\",\"ticks\":\"\"}},\"coloraxis\":{\"colorbar\":{\"outlinewidth\":0,\"ticks\":\"\"}},\"colorscale\":{\"sequential\":[[0.0,\"#0d0887\"],[0.1111111111111111,\"#46039f\"],[0.2222222222222222,\"#7201a8\"],[0.3333333333333333,\"#9c179e\"],[0.4444444444444444,\"#bd3786\"],[0.5555555555555556,\"#d8576b\"],[0.6666666666666666,\"#ed7953\"],[0.7777777777777778,\"#fb9f3a\"],[0.8888888888888888,\"#fdca26\"],[1.0,\"#f0f921\"]],\"sequentialminus\":[[0.0,\"#0d0887\"],[0.1111111111111111,\"#46039f\"],[0.2222222222222222,\"#7201a8\"],[0.3333333333333333,\"#9c179e\"],[0.4444444444444444,\"#bd3786\"],[0.5555555555555556,\"#d8576b\"],[0.6666666666666666,\"#ed7953\"],[0.7777777777777778,\"#fb9f3a\"],[0.8888888888888888,\"#fdca26\"],[1.0,\"#f0f921\"]],\"diverging\":[[0,\"#8e0152\"],[0.1,\"#c51b7d\"],[0.2,\"#de77ae\"],[0.3,\"#f1b6da\"],[0.4,\"#fde0ef\"],[0.5,\"#f7f7f7\"],[0.6,\"#e6f5d0\"],[0.7,\"#b8e186\"],[0.8,\"#7fbc41\"],[0.9,\"#4d9221\"],[1,\"#276419\"]]},\"xaxis\":{\"gridcolor\":\"white\",\"linecolor\":\"white\",\"ticks\":\"\",\"title\":{\"standoff\":15},\"zerolinecolor\":\"white\",\"automargin\":true,\"zerolinewidth\":2},\"yaxis\":{\"gridcolor\":\"white\",\"linecolor\":\"white\",\"ticks\":\"\",\"title\":{\"standoff\":15},\"zerolinecolor\":\"white\",\"automargin\":true,\"zerolinewidth\":2},\"scene\":{\"xaxis\":{\"backgroundcolor\":\"#E5ECF6\",\"gridcolor\":\"white\",\"linecolor\":\"white\",\"showbackground\":true,\"ticks\":\"\",\"zerolinecolor\":\"white\",\"gridwidth\":2},\"yaxis\":{\"backgroundcolor\":\"#E5ECF6\",\"gridcolor\":\"white\",\"linecolor\":\"white\",\"showbackground\":true,\"ticks\":\"\",\"zerolinecolor\":\"white\",\"gridwidth\":2},\"zaxis\":{\"backgroundcolor\":\"#E5ECF6\",\"gridcolor\":\"white\",\"linecolor\":\"white\",\"showbackground\":true,\"ticks\":\"\",\"zerolinecolor\":\"white\",\"gridwidth\":2}},\"shapedefaults\":{\"line\":{\"color\":\"#2a3f5f\"}},\"annotationdefaults\":{\"arrowcolor\":\"#2a3f5f\",\"arrowhead\":0,\"arrowwidth\":1},\"geo\":{\"bgcolor\":\"white\",\"landcolor\":\"#E5ECF6\",\"subunitcolor\":\"white\",\"showland\":true,\"showlakes\":true,\"lakecolor\":\"white\"},\"title\":{\"x\":0.05},\"mapbox\":{\"style\":\"light\"}}},\"xaxis\":{\"anchor\":\"y\",\"domain\":[0.0,0.98],\"title\":{\"text\":\"bin\"}},\"yaxis\":{\"anchor\":\"x\",\"domain\":[0.0,0.485],\"title\":{\"text\":\"fraction\"}},\"xaxis2\":{\"anchor\":\"y2\",\"domain\":[0.0,0.98],\"matches\":\"x\",\"showticklabels\":false},\"yaxis2\":{\"anchor\":\"x2\",\"domain\":[0.515,1.0],\"matches\":\"y\",\"title\":{\"text\":\"fraction\"}},\"annotations\":[{\"font\":{},\"showarrow\":false,\"text\":\"_train=True\",\"textangle\":90,\"x\":0.98,\"xanchor\":\"left\",\"xref\":\"paper\",\"y\":0.2425,\"yanchor\":\"middle\",\"yref\":\"paper\"},{\"font\":{},\"showarrow\":false,\"text\":\"_train=False\",\"textangle\":90,\"x\":0.98,\"xanchor\":\"left\",\"xref\":\"paper\",\"y\":0.7575000000000001,\"yanchor\":\"middle\",\"yref\":\"paper\"}],\"legend\":{\"title\":{\"text\":\"n_depth_bin\"},\"tracegroupgap\":0},\"margin\":{\"t\":60}},                        {\"responsive\": true}                    ).then(function(){\n",
       "                            \n",
       "var gd = document.getElementById('ba4c9291-bb23-485f-8762-336ca15f36d0');\n",
       "var x = new MutationObserver(function (mutations, observer) {{\n",
       "        var display = window.getComputedStyle(gd).display;\n",
       "        if (!display || display === 'none') {{\n",
       "            console.log([gd, 'removed!']);\n",
       "            Plotly.purge(gd);\n",
       "            observer.disconnect();\n",
       "        }}\n",
       "}});\n",
       "\n",
       "// Listen for the removal of the full notebook cells\n",
       "var notebookContainer = gd.closest('#notebook-container');\n",
       "if (notebookContainer) {{\n",
       "    x.observe(notebookContainer, {childList: true});\n",
       "}}\n",
       "\n",
       "// Listen for the clearing of the current output cell\n",
       "var outputEl = gd.closest('.output');\n",
       "if (outputEl) {{\n",
       "    x.observe(outputEl, {childList: true});\n",
       "}}\n",
       "\n",
       "                        })                };                });            </script>        </div>"
      ]
     },
     "metadata": {},
     "output_type": "display_data"
    }
   ],
   "source": [
    "color_discrete_map = {\n",
    "    0.1: \"#1b9e77\",  # Green\n",
    "    0.2: \"#d95f02\",  # Orange\n",
    "    0.3: \"#7570b3\",  # Purple\n",
    "    0.4: \"#e7298a\",  # Pink\n",
    "    0.5: \"#66a61e\",  # Olive Green\n",
    "    0.6: \"#e6ab02\",  # Yellow-Orange\n",
    "    0.7: \"#a6761d\",  # Brown\n",
    "    0.8: \"#666666\",  # Gray\n",
    "    0.9: \"#1f78b4\",  # Blue\n",
    "    1.0: \"#a6cee3\",  # Light Blue\n",
    "}\n",
    "\n",
    "division = 20\n",
    "column = 'n_temperature'\n",
    "data['bin'] = round(data[column] * division) / division\n",
    "df = data.groupby(['_train', 'bin', 'n_depth_bin'])['_selected'].mean().reset_index().rename({'_selected': 'fraction'}, axis=1)\n",
    "px.line(\n",
    "    df, x='bin', y='fraction', color='n_depth_bin', facet_row='_train', color_discrete_map=color_discrete_map\n",
    ")"
   ]
  },
  {
   "cell_type": "code",
   "execution_count": 73,
   "metadata": {},
   "outputs": [
    {
     "name": "stderr",
     "output_type": "stream",
     "text": [
      "/tmp/ipykernel_33609/1807896708.py:2: SettingWithCopyWarning:\n",
      "\n",
      "\n",
      "A value is trying to be set on a copy of a slice from a DataFrame.\n",
      "Try using .loc[row_indexer,col_indexer] = value instead\n",
      "\n",
      "See the caveats in the documentation: https://pandas.pydata.org/pandas-docs/stable/user_guide/indexing.html#returning-a-view-versus-a-copy\n",
      "\n",
      "/tmp/ipykernel_33609/1807896708.py:3: SettingWithCopyWarning:\n",
      "\n",
      "\n",
      "A value is trying to be set on a copy of a slice from a DataFrame.\n",
      "Try using .loc[row_indexer,col_indexer] = value instead\n",
      "\n",
      "See the caveats in the documentation: https://pandas.pydata.org/pandas-docs/stable/user_guide/indexing.html#returning-a-view-versus-a-copy\n",
      "\n"
     ]
    },
    {
     "data": {
      "application/vnd.plotly.v1+json": {
       "config": {
        "plotlyServerURL": "https://plot.ly"
       },
       "data": [
        {
         "hovertemplate": "bin_c=%{x}<br>bin_s=%{y}<br>_selected=%{marker.color}<extra></extra>",
         "legendgroup": "",
         "marker": {
          "color": [
           0.4632522407170295,
           0.46123650637880276,
           0.4869074492099323,
           0.47044302975185137,
           0.4605574991535944,
           0.4627136198860694,
           0.43823845327604727,
           0.4427737881508079
          ],
          "coloraxis": "coloraxis",
          "symbol": "circle"
         },
         "mode": "markers",
         "name": "",
         "orientation": "v",
         "showlegend": false,
         "type": "scatter",
         "x": [
          -1,
          -1,
          -1,
          0,
          0,
          1,
          1,
          1
         ],
         "xaxis": "x",
         "y": [
          -1,
          0,
          1,
          -1,
          1,
          -1,
          0,
          1
         ],
         "yaxis": "y"
        }
       ],
       "layout": {
        "coloraxis": {
         "colorbar": {
          "title": {
           "text": "_selected"
          }
         },
         "colorscale": [
          [
           0,
           "#0d0887"
          ],
          [
           0.1111111111111111,
           "#46039f"
          ],
          [
           0.2222222222222222,
           "#7201a8"
          ],
          [
           0.3333333333333333,
           "#9c179e"
          ],
          [
           0.4444444444444444,
           "#bd3786"
          ],
          [
           0.5555555555555556,
           "#d8576b"
          ],
          [
           0.6666666666666666,
           "#ed7953"
          ],
          [
           0.7777777777777778,
           "#fb9f3a"
          ],
          [
           0.8888888888888888,
           "#fdca26"
          ],
          [
           1,
           "#f0f921"
          ]
         ]
        },
        "legend": {
         "tracegroupgap": 0
        },
        "margin": {
         "t": 60
        },
        "template": {
         "data": {
          "bar": [
           {
            "error_x": {
             "color": "#2a3f5f"
            },
            "error_y": {
             "color": "#2a3f5f"
            },
            "marker": {
             "line": {
              "color": "#E5ECF6",
              "width": 0.5
             },
             "pattern": {
              "fillmode": "overlay",
              "size": 10,
              "solidity": 0.2
             }
            },
            "type": "bar"
           }
          ],
          "barpolar": [
           {
            "marker": {
             "line": {
              "color": "#E5ECF6",
              "width": 0.5
             },
             "pattern": {
              "fillmode": "overlay",
              "size": 10,
              "solidity": 0.2
             }
            },
            "type": "barpolar"
           }
          ],
          "carpet": [
           {
            "aaxis": {
             "endlinecolor": "#2a3f5f",
             "gridcolor": "white",
             "linecolor": "white",
             "minorgridcolor": "white",
             "startlinecolor": "#2a3f5f"
            },
            "baxis": {
             "endlinecolor": "#2a3f5f",
             "gridcolor": "white",
             "linecolor": "white",
             "minorgridcolor": "white",
             "startlinecolor": "#2a3f5f"
            },
            "type": "carpet"
           }
          ],
          "choropleth": [
           {
            "colorbar": {
             "outlinewidth": 0,
             "ticks": ""
            },
            "type": "choropleth"
           }
          ],
          "contour": [
           {
            "colorbar": {
             "outlinewidth": 0,
             "ticks": ""
            },
            "colorscale": [
             [
              0,
              "#0d0887"
             ],
             [
              0.1111111111111111,
              "#46039f"
             ],
             [
              0.2222222222222222,
              "#7201a8"
             ],
             [
              0.3333333333333333,
              "#9c179e"
             ],
             [
              0.4444444444444444,
              "#bd3786"
             ],
             [
              0.5555555555555556,
              "#d8576b"
             ],
             [
              0.6666666666666666,
              "#ed7953"
             ],
             [
              0.7777777777777778,
              "#fb9f3a"
             ],
             [
              0.8888888888888888,
              "#fdca26"
             ],
             [
              1,
              "#f0f921"
             ]
            ],
            "type": "contour"
           }
          ],
          "contourcarpet": [
           {
            "colorbar": {
             "outlinewidth": 0,
             "ticks": ""
            },
            "type": "contourcarpet"
           }
          ],
          "heatmap": [
           {
            "colorbar": {
             "outlinewidth": 0,
             "ticks": ""
            },
            "colorscale": [
             [
              0,
              "#0d0887"
             ],
             [
              0.1111111111111111,
              "#46039f"
             ],
             [
              0.2222222222222222,
              "#7201a8"
             ],
             [
              0.3333333333333333,
              "#9c179e"
             ],
             [
              0.4444444444444444,
              "#bd3786"
             ],
             [
              0.5555555555555556,
              "#d8576b"
             ],
             [
              0.6666666666666666,
              "#ed7953"
             ],
             [
              0.7777777777777778,
              "#fb9f3a"
             ],
             [
              0.8888888888888888,
              "#fdca26"
             ],
             [
              1,
              "#f0f921"
             ]
            ],
            "type": "heatmap"
           }
          ],
          "heatmapgl": [
           {
            "colorbar": {
             "outlinewidth": 0,
             "ticks": ""
            },
            "colorscale": [
             [
              0,
              "#0d0887"
             ],
             [
              0.1111111111111111,
              "#46039f"
             ],
             [
              0.2222222222222222,
              "#7201a8"
             ],
             [
              0.3333333333333333,
              "#9c179e"
             ],
             [
              0.4444444444444444,
              "#bd3786"
             ],
             [
              0.5555555555555556,
              "#d8576b"
             ],
             [
              0.6666666666666666,
              "#ed7953"
             ],
             [
              0.7777777777777778,
              "#fb9f3a"
             ],
             [
              0.8888888888888888,
              "#fdca26"
             ],
             [
              1,
              "#f0f921"
             ]
            ],
            "type": "heatmapgl"
           }
          ],
          "histogram": [
           {
            "marker": {
             "pattern": {
              "fillmode": "overlay",
              "size": 10,
              "solidity": 0.2
             }
            },
            "type": "histogram"
           }
          ],
          "histogram2d": [
           {
            "colorbar": {
             "outlinewidth": 0,
             "ticks": ""
            },
            "colorscale": [
             [
              0,
              "#0d0887"
             ],
             [
              0.1111111111111111,
              "#46039f"
             ],
             [
              0.2222222222222222,
              "#7201a8"
             ],
             [
              0.3333333333333333,
              "#9c179e"
             ],
             [
              0.4444444444444444,
              "#bd3786"
             ],
             [
              0.5555555555555556,
              "#d8576b"
             ],
             [
              0.6666666666666666,
              "#ed7953"
             ],
             [
              0.7777777777777778,
              "#fb9f3a"
             ],
             [
              0.8888888888888888,
              "#fdca26"
             ],
             [
              1,
              "#f0f921"
             ]
            ],
            "type": "histogram2d"
           }
          ],
          "histogram2dcontour": [
           {
            "colorbar": {
             "outlinewidth": 0,
             "ticks": ""
            },
            "colorscale": [
             [
              0,
              "#0d0887"
             ],
             [
              0.1111111111111111,
              "#46039f"
             ],
             [
              0.2222222222222222,
              "#7201a8"
             ],
             [
              0.3333333333333333,
              "#9c179e"
             ],
             [
              0.4444444444444444,
              "#bd3786"
             ],
             [
              0.5555555555555556,
              "#d8576b"
             ],
             [
              0.6666666666666666,
              "#ed7953"
             ],
             [
              0.7777777777777778,
              "#fb9f3a"
             ],
             [
              0.8888888888888888,
              "#fdca26"
             ],
             [
              1,
              "#f0f921"
             ]
            ],
            "type": "histogram2dcontour"
           }
          ],
          "mesh3d": [
           {
            "colorbar": {
             "outlinewidth": 0,
             "ticks": ""
            },
            "type": "mesh3d"
           }
          ],
          "parcoords": [
           {
            "line": {
             "colorbar": {
              "outlinewidth": 0,
              "ticks": ""
             }
            },
            "type": "parcoords"
           }
          ],
          "pie": [
           {
            "automargin": true,
            "type": "pie"
           }
          ],
          "scatter": [
           {
            "fillpattern": {
             "fillmode": "overlay",
             "size": 10,
             "solidity": 0.2
            },
            "type": "scatter"
           }
          ],
          "scatter3d": [
           {
            "line": {
             "colorbar": {
              "outlinewidth": 0,
              "ticks": ""
             }
            },
            "marker": {
             "colorbar": {
              "outlinewidth": 0,
              "ticks": ""
             }
            },
            "type": "scatter3d"
           }
          ],
          "scattercarpet": [
           {
            "marker": {
             "colorbar": {
              "outlinewidth": 0,
              "ticks": ""
             }
            },
            "type": "scattercarpet"
           }
          ],
          "scattergeo": [
           {
            "marker": {
             "colorbar": {
              "outlinewidth": 0,
              "ticks": ""
             }
            },
            "type": "scattergeo"
           }
          ],
          "scattergl": [
           {
            "marker": {
             "colorbar": {
              "outlinewidth": 0,
              "ticks": ""
             }
            },
            "type": "scattergl"
           }
          ],
          "scattermapbox": [
           {
            "marker": {
             "colorbar": {
              "outlinewidth": 0,
              "ticks": ""
             }
            },
            "type": "scattermapbox"
           }
          ],
          "scatterpolar": [
           {
            "marker": {
             "colorbar": {
              "outlinewidth": 0,
              "ticks": ""
             }
            },
            "type": "scatterpolar"
           }
          ],
          "scatterpolargl": [
           {
            "marker": {
             "colorbar": {
              "outlinewidth": 0,
              "ticks": ""
             }
            },
            "type": "scatterpolargl"
           }
          ],
          "scatterternary": [
           {
            "marker": {
             "colorbar": {
              "outlinewidth": 0,
              "ticks": ""
             }
            },
            "type": "scatterternary"
           }
          ],
          "surface": [
           {
            "colorbar": {
             "outlinewidth": 0,
             "ticks": ""
            },
            "colorscale": [
             [
              0,
              "#0d0887"
             ],
             [
              0.1111111111111111,
              "#46039f"
             ],
             [
              0.2222222222222222,
              "#7201a8"
             ],
             [
              0.3333333333333333,
              "#9c179e"
             ],
             [
              0.4444444444444444,
              "#bd3786"
             ],
             [
              0.5555555555555556,
              "#d8576b"
             ],
             [
              0.6666666666666666,
              "#ed7953"
             ],
             [
              0.7777777777777778,
              "#fb9f3a"
             ],
             [
              0.8888888888888888,
              "#fdca26"
             ],
             [
              1,
              "#f0f921"
             ]
            ],
            "type": "surface"
           }
          ],
          "table": [
           {
            "cells": {
             "fill": {
              "color": "#EBF0F8"
             },
             "line": {
              "color": "white"
             }
            },
            "header": {
             "fill": {
              "color": "#C8D4E3"
             },
             "line": {
              "color": "white"
             }
            },
            "type": "table"
           }
          ]
         },
         "layout": {
          "annotationdefaults": {
           "arrowcolor": "#2a3f5f",
           "arrowhead": 0,
           "arrowwidth": 1
          },
          "autotypenumbers": "strict",
          "coloraxis": {
           "colorbar": {
            "outlinewidth": 0,
            "ticks": ""
           }
          },
          "colorscale": {
           "diverging": [
            [
             0,
             "#8e0152"
            ],
            [
             0.1,
             "#c51b7d"
            ],
            [
             0.2,
             "#de77ae"
            ],
            [
             0.3,
             "#f1b6da"
            ],
            [
             0.4,
             "#fde0ef"
            ],
            [
             0.5,
             "#f7f7f7"
            ],
            [
             0.6,
             "#e6f5d0"
            ],
            [
             0.7,
             "#b8e186"
            ],
            [
             0.8,
             "#7fbc41"
            ],
            [
             0.9,
             "#4d9221"
            ],
            [
             1,
             "#276419"
            ]
           ],
           "sequential": [
            [
             0,
             "#0d0887"
            ],
            [
             0.1111111111111111,
             "#46039f"
            ],
            [
             0.2222222222222222,
             "#7201a8"
            ],
            [
             0.3333333333333333,
             "#9c179e"
            ],
            [
             0.4444444444444444,
             "#bd3786"
            ],
            [
             0.5555555555555556,
             "#d8576b"
            ],
            [
             0.6666666666666666,
             "#ed7953"
            ],
            [
             0.7777777777777778,
             "#fb9f3a"
            ],
            [
             0.8888888888888888,
             "#fdca26"
            ],
            [
             1,
             "#f0f921"
            ]
           ],
           "sequentialminus": [
            [
             0,
             "#0d0887"
            ],
            [
             0.1111111111111111,
             "#46039f"
            ],
            [
             0.2222222222222222,
             "#7201a8"
            ],
            [
             0.3333333333333333,
             "#9c179e"
            ],
            [
             0.4444444444444444,
             "#bd3786"
            ],
            [
             0.5555555555555556,
             "#d8576b"
            ],
            [
             0.6666666666666666,
             "#ed7953"
            ],
            [
             0.7777777777777778,
             "#fb9f3a"
            ],
            [
             0.8888888888888888,
             "#fdca26"
            ],
            [
             1,
             "#f0f921"
            ]
           ]
          },
          "colorway": [
           "#636efa",
           "#EF553B",
           "#00cc96",
           "#ab63fa",
           "#FFA15A",
           "#19d3f3",
           "#FF6692",
           "#B6E880",
           "#FF97FF",
           "#FECB52"
          ],
          "font": {
           "color": "#2a3f5f"
          },
          "geo": {
           "bgcolor": "white",
           "lakecolor": "white",
           "landcolor": "#E5ECF6",
           "showlakes": true,
           "showland": true,
           "subunitcolor": "white"
          },
          "hoverlabel": {
           "align": "left"
          },
          "hovermode": "closest",
          "mapbox": {
           "style": "light"
          },
          "paper_bgcolor": "white",
          "plot_bgcolor": "#E5ECF6",
          "polar": {
           "angularaxis": {
            "gridcolor": "white",
            "linecolor": "white",
            "ticks": ""
           },
           "bgcolor": "#E5ECF6",
           "radialaxis": {
            "gridcolor": "white",
            "linecolor": "white",
            "ticks": ""
           }
          },
          "scene": {
           "xaxis": {
            "backgroundcolor": "#E5ECF6",
            "gridcolor": "white",
            "gridwidth": 2,
            "linecolor": "white",
            "showbackground": true,
            "ticks": "",
            "zerolinecolor": "white"
           },
           "yaxis": {
            "backgroundcolor": "#E5ECF6",
            "gridcolor": "white",
            "gridwidth": 2,
            "linecolor": "white",
            "showbackground": true,
            "ticks": "",
            "zerolinecolor": "white"
           },
           "zaxis": {
            "backgroundcolor": "#E5ECF6",
            "gridcolor": "white",
            "gridwidth": 2,
            "linecolor": "white",
            "showbackground": true,
            "ticks": "",
            "zerolinecolor": "white"
           }
          },
          "shapedefaults": {
           "line": {
            "color": "#2a3f5f"
           }
          },
          "ternary": {
           "aaxis": {
            "gridcolor": "white",
            "linecolor": "white",
            "ticks": ""
           },
           "baxis": {
            "gridcolor": "white",
            "linecolor": "white",
            "ticks": ""
           },
           "bgcolor": "#E5ECF6",
           "caxis": {
            "gridcolor": "white",
            "linecolor": "white",
            "ticks": ""
           }
          },
          "title": {
           "x": 0.05
          },
          "xaxis": {
           "automargin": true,
           "gridcolor": "white",
           "linecolor": "white",
           "ticks": "",
           "title": {
            "standoff": 15
           },
           "zerolinecolor": "white",
           "zerolinewidth": 2
          },
          "yaxis": {
           "automargin": true,
           "gridcolor": "white",
           "linecolor": "white",
           "ticks": "",
           "title": {
            "standoff": 15
           },
           "zerolinecolor": "white",
           "zerolinewidth": 2
          }
         }
        },
        "xaxis": {
         "anchor": "y",
         "domain": [
          0,
          1
         ],
         "title": {
          "text": "bin_c"
         }
        },
        "yaxis": {
         "anchor": "x",
         "domain": [
          0,
          1
         ],
         "title": {
          "text": "bin_s"
         }
        }
       }
      },
      "text/html": [
       "<div>                            <div id=\"11a09b29-43b8-4885-907c-15306fc39f4f\" class=\"plotly-graph-div\" style=\"height:525px; width:100%;\"></div>            <script type=\"text/javascript\">                require([\"plotly\"], function(Plotly) {                    window.PLOTLYENV=window.PLOTLYENV || {};                                    if (document.getElementById(\"11a09b29-43b8-4885-907c-15306fc39f4f\")) {                    Plotly.newPlot(                        \"11a09b29-43b8-4885-907c-15306fc39f4f\",                        [{\"hovertemplate\":\"bin_c=%{x}\\u003cbr\\u003ebin_s=%{y}\\u003cbr\\u003e_selected=%{marker.color}\\u003cextra\\u003e\\u003c\\u002fextra\\u003e\",\"legendgroup\":\"\",\"marker\":{\"color\":[0.4632522407170295,0.46123650637880276,0.4869074492099323,0.47044302975185137,0.4605574991535944,0.4627136198860694,0.43823845327604727,0.4427737881508079],\"coloraxis\":\"coloraxis\",\"symbol\":\"circle\"},\"mode\":\"markers\",\"name\":\"\",\"orientation\":\"v\",\"showlegend\":false,\"x\":[-1.0,-1.0,-1.0,0.0,0.0,1.0,1.0,1.0],\"xaxis\":\"x\",\"y\":[-1.0,-0.0,1.0,-1.0,1.0,-1.0,-0.0,1.0],\"yaxis\":\"y\",\"type\":\"scatter\"}],                        {\"template\":{\"data\":{\"histogram2dcontour\":[{\"type\":\"histogram2dcontour\",\"colorbar\":{\"outlinewidth\":0,\"ticks\":\"\"},\"colorscale\":[[0.0,\"#0d0887\"],[0.1111111111111111,\"#46039f\"],[0.2222222222222222,\"#7201a8\"],[0.3333333333333333,\"#9c179e\"],[0.4444444444444444,\"#bd3786\"],[0.5555555555555556,\"#d8576b\"],[0.6666666666666666,\"#ed7953\"],[0.7777777777777778,\"#fb9f3a\"],[0.8888888888888888,\"#fdca26\"],[1.0,\"#f0f921\"]]}],\"choropleth\":[{\"type\":\"choropleth\",\"colorbar\":{\"outlinewidth\":0,\"ticks\":\"\"}}],\"histogram2d\":[{\"type\":\"histogram2d\",\"colorbar\":{\"outlinewidth\":0,\"ticks\":\"\"},\"colorscale\":[[0.0,\"#0d0887\"],[0.1111111111111111,\"#46039f\"],[0.2222222222222222,\"#7201a8\"],[0.3333333333333333,\"#9c179e\"],[0.4444444444444444,\"#bd3786\"],[0.5555555555555556,\"#d8576b\"],[0.6666666666666666,\"#ed7953\"],[0.7777777777777778,\"#fb9f3a\"],[0.8888888888888888,\"#fdca26\"],[1.0,\"#f0f921\"]]}],\"heatmap\":[{\"type\":\"heatmap\",\"colorbar\":{\"outlinewidth\":0,\"ticks\":\"\"},\"colorscale\":[[0.0,\"#0d0887\"],[0.1111111111111111,\"#46039f\"],[0.2222222222222222,\"#7201a8\"],[0.3333333333333333,\"#9c179e\"],[0.4444444444444444,\"#bd3786\"],[0.5555555555555556,\"#d8576b\"],[0.6666666666666666,\"#ed7953\"],[0.7777777777777778,\"#fb9f3a\"],[0.8888888888888888,\"#fdca26\"],[1.0,\"#f0f921\"]]}],\"heatmapgl\":[{\"type\":\"heatmapgl\",\"colorbar\":{\"outlinewidth\":0,\"ticks\":\"\"},\"colorscale\":[[0.0,\"#0d0887\"],[0.1111111111111111,\"#46039f\"],[0.2222222222222222,\"#7201a8\"],[0.3333333333333333,\"#9c179e\"],[0.4444444444444444,\"#bd3786\"],[0.5555555555555556,\"#d8576b\"],[0.6666666666666666,\"#ed7953\"],[0.7777777777777778,\"#fb9f3a\"],[0.8888888888888888,\"#fdca26\"],[1.0,\"#f0f921\"]]}],\"contourcarpet\":[{\"type\":\"contourcarpet\",\"colorbar\":{\"outlinewidth\":0,\"ticks\":\"\"}}],\"contour\":[{\"type\":\"contour\",\"colorbar\":{\"outlinewidth\":0,\"ticks\":\"\"},\"colorscale\":[[0.0,\"#0d0887\"],[0.1111111111111111,\"#46039f\"],[0.2222222222222222,\"#7201a8\"],[0.3333333333333333,\"#9c179e\"],[0.4444444444444444,\"#bd3786\"],[0.5555555555555556,\"#d8576b\"],[0.6666666666666666,\"#ed7953\"],[0.7777777777777778,\"#fb9f3a\"],[0.8888888888888888,\"#fdca26\"],[1.0,\"#f0f921\"]]}],\"surface\":[{\"type\":\"surface\",\"colorbar\":{\"outlinewidth\":0,\"ticks\":\"\"},\"colorscale\":[[0.0,\"#0d0887\"],[0.1111111111111111,\"#46039f\"],[0.2222222222222222,\"#7201a8\"],[0.3333333333333333,\"#9c179e\"],[0.4444444444444444,\"#bd3786\"],[0.5555555555555556,\"#d8576b\"],[0.6666666666666666,\"#ed7953\"],[0.7777777777777778,\"#fb9f3a\"],[0.8888888888888888,\"#fdca26\"],[1.0,\"#f0f921\"]]}],\"mesh3d\":[{\"type\":\"mesh3d\",\"colorbar\":{\"outlinewidth\":0,\"ticks\":\"\"}}],\"scatter\":[{\"fillpattern\":{\"fillmode\":\"overlay\",\"size\":10,\"solidity\":0.2},\"type\":\"scatter\"}],\"parcoords\":[{\"type\":\"parcoords\",\"line\":{\"colorbar\":{\"outlinewidth\":0,\"ticks\":\"\"}}}],\"scatterpolargl\":[{\"type\":\"scatterpolargl\",\"marker\":{\"colorbar\":{\"outlinewidth\":0,\"ticks\":\"\"}}}],\"bar\":[{\"error_x\":{\"color\":\"#2a3f5f\"},\"error_y\":{\"color\":\"#2a3f5f\"},\"marker\":{\"line\":{\"color\":\"#E5ECF6\",\"width\":0.5},\"pattern\":{\"fillmode\":\"overlay\",\"size\":10,\"solidity\":0.2}},\"type\":\"bar\"}],\"scattergeo\":[{\"type\":\"scattergeo\",\"marker\":{\"colorbar\":{\"outlinewidth\":0,\"ticks\":\"\"}}}],\"scatterpolar\":[{\"type\":\"scatterpolar\",\"marker\":{\"colorbar\":{\"outlinewidth\":0,\"ticks\":\"\"}}}],\"histogram\":[{\"marker\":{\"pattern\":{\"fillmode\":\"overlay\",\"size\":10,\"solidity\":0.2}},\"type\":\"histogram\"}],\"scattergl\":[{\"type\":\"scattergl\",\"marker\":{\"colorbar\":{\"outlinewidth\":0,\"ticks\":\"\"}}}],\"scatter3d\":[{\"type\":\"scatter3d\",\"line\":{\"colorbar\":{\"outlinewidth\":0,\"ticks\":\"\"}},\"marker\":{\"colorbar\":{\"outlinewidth\":0,\"ticks\":\"\"}}}],\"scattermapbox\":[{\"type\":\"scattermapbox\",\"marker\":{\"colorbar\":{\"outlinewidth\":0,\"ticks\":\"\"}}}],\"scatterternary\":[{\"type\":\"scatterternary\",\"marker\":{\"colorbar\":{\"outlinewidth\":0,\"ticks\":\"\"}}}],\"scattercarpet\":[{\"type\":\"scattercarpet\",\"marker\":{\"colorbar\":{\"outlinewidth\":0,\"ticks\":\"\"}}}],\"carpet\":[{\"aaxis\":{\"endlinecolor\":\"#2a3f5f\",\"gridcolor\":\"white\",\"linecolor\":\"white\",\"minorgridcolor\":\"white\",\"startlinecolor\":\"#2a3f5f\"},\"baxis\":{\"endlinecolor\":\"#2a3f5f\",\"gridcolor\":\"white\",\"linecolor\":\"white\",\"minorgridcolor\":\"white\",\"startlinecolor\":\"#2a3f5f\"},\"type\":\"carpet\"}],\"table\":[{\"cells\":{\"fill\":{\"color\":\"#EBF0F8\"},\"line\":{\"color\":\"white\"}},\"header\":{\"fill\":{\"color\":\"#C8D4E3\"},\"line\":{\"color\":\"white\"}},\"type\":\"table\"}],\"barpolar\":[{\"marker\":{\"line\":{\"color\":\"#E5ECF6\",\"width\":0.5},\"pattern\":{\"fillmode\":\"overlay\",\"size\":10,\"solidity\":0.2}},\"type\":\"barpolar\"}],\"pie\":[{\"automargin\":true,\"type\":\"pie\"}]},\"layout\":{\"autotypenumbers\":\"strict\",\"colorway\":[\"#636efa\",\"#EF553B\",\"#00cc96\",\"#ab63fa\",\"#FFA15A\",\"#19d3f3\",\"#FF6692\",\"#B6E880\",\"#FF97FF\",\"#FECB52\"],\"font\":{\"color\":\"#2a3f5f\"},\"hovermode\":\"closest\",\"hoverlabel\":{\"align\":\"left\"},\"paper_bgcolor\":\"white\",\"plot_bgcolor\":\"#E5ECF6\",\"polar\":{\"bgcolor\":\"#E5ECF6\",\"angularaxis\":{\"gridcolor\":\"white\",\"linecolor\":\"white\",\"ticks\":\"\"},\"radialaxis\":{\"gridcolor\":\"white\",\"linecolor\":\"white\",\"ticks\":\"\"}},\"ternary\":{\"bgcolor\":\"#E5ECF6\",\"aaxis\":{\"gridcolor\":\"white\",\"linecolor\":\"white\",\"ticks\":\"\"},\"baxis\":{\"gridcolor\":\"white\",\"linecolor\":\"white\",\"ticks\":\"\"},\"caxis\":{\"gridcolor\":\"white\",\"linecolor\":\"white\",\"ticks\":\"\"}},\"coloraxis\":{\"colorbar\":{\"outlinewidth\":0,\"ticks\":\"\"}},\"colorscale\":{\"sequential\":[[0.0,\"#0d0887\"],[0.1111111111111111,\"#46039f\"],[0.2222222222222222,\"#7201a8\"],[0.3333333333333333,\"#9c179e\"],[0.4444444444444444,\"#bd3786\"],[0.5555555555555556,\"#d8576b\"],[0.6666666666666666,\"#ed7953\"],[0.7777777777777778,\"#fb9f3a\"],[0.8888888888888888,\"#fdca26\"],[1.0,\"#f0f921\"]],\"sequentialminus\":[[0.0,\"#0d0887\"],[0.1111111111111111,\"#46039f\"],[0.2222222222222222,\"#7201a8\"],[0.3333333333333333,\"#9c179e\"],[0.4444444444444444,\"#bd3786\"],[0.5555555555555556,\"#d8576b\"],[0.6666666666666666,\"#ed7953\"],[0.7777777777777778,\"#fb9f3a\"],[0.8888888888888888,\"#fdca26\"],[1.0,\"#f0f921\"]],\"diverging\":[[0,\"#8e0152\"],[0.1,\"#c51b7d\"],[0.2,\"#de77ae\"],[0.3,\"#f1b6da\"],[0.4,\"#fde0ef\"],[0.5,\"#f7f7f7\"],[0.6,\"#e6f5d0\"],[0.7,\"#b8e186\"],[0.8,\"#7fbc41\"],[0.9,\"#4d9221\"],[1,\"#276419\"]]},\"xaxis\":{\"gridcolor\":\"white\",\"linecolor\":\"white\",\"ticks\":\"\",\"title\":{\"standoff\":15},\"zerolinecolor\":\"white\",\"automargin\":true,\"zerolinewidth\":2},\"yaxis\":{\"gridcolor\":\"white\",\"linecolor\":\"white\",\"ticks\":\"\",\"title\":{\"standoff\":15},\"zerolinecolor\":\"white\",\"automargin\":true,\"zerolinewidth\":2},\"scene\":{\"xaxis\":{\"backgroundcolor\":\"#E5ECF6\",\"gridcolor\":\"white\",\"linecolor\":\"white\",\"showbackground\":true,\"ticks\":\"\",\"zerolinecolor\":\"white\",\"gridwidth\":2},\"yaxis\":{\"backgroundcolor\":\"#E5ECF6\",\"gridcolor\":\"white\",\"linecolor\":\"white\",\"showbackground\":true,\"ticks\":\"\",\"zerolinecolor\":\"white\",\"gridwidth\":2},\"zaxis\":{\"backgroundcolor\":\"#E5ECF6\",\"gridcolor\":\"white\",\"linecolor\":\"white\",\"showbackground\":true,\"ticks\":\"\",\"zerolinecolor\":\"white\",\"gridwidth\":2}},\"shapedefaults\":{\"line\":{\"color\":\"#2a3f5f\"}},\"annotationdefaults\":{\"arrowcolor\":\"#2a3f5f\",\"arrowhead\":0,\"arrowwidth\":1},\"geo\":{\"bgcolor\":\"white\",\"landcolor\":\"#E5ECF6\",\"subunitcolor\":\"white\",\"showland\":true,\"showlakes\":true,\"lakecolor\":\"white\"},\"title\":{\"x\":0.05},\"mapbox\":{\"style\":\"light\"}}},\"xaxis\":{\"anchor\":\"y\",\"domain\":[0.0,1.0],\"title\":{\"text\":\"bin_c\"}},\"yaxis\":{\"anchor\":\"x\",\"domain\":[0.0,1.0],\"title\":{\"text\":\"bin_s\"}},\"coloraxis\":{\"colorbar\":{\"title\":{\"text\":\"_selected\"}},\"colorscale\":[[0.0,\"#0d0887\"],[0.1111111111111111,\"#46039f\"],[0.2222222222222222,\"#7201a8\"],[0.3333333333333333,\"#9c179e\"],[0.4444444444444444,\"#bd3786\"],[0.5555555555555556,\"#d8576b\"],[0.6666666666666666,\"#ed7953\"],[0.7777777777777778,\"#fb9f3a\"],[0.8888888888888888,\"#fdca26\"],[1.0,\"#f0f921\"]]},\"legend\":{\"tracegroupgap\":0},\"margin\":{\"t\":60}},                        {\"responsive\": true}                    ).then(function(){\n",
       "                            \n",
       "var gd = document.getElementById('11a09b29-43b8-4885-907c-15306fc39f4f');\n",
       "var x = new MutationObserver(function (mutations, observer) {{\n",
       "        var display = window.getComputedStyle(gd).display;\n",
       "        if (!display || display === 'none') {{\n",
       "            console.log([gd, 'removed!']);\n",
       "            Plotly.purge(gd);\n",
       "            observer.disconnect();\n",
       "        }}\n",
       "}});\n",
       "\n",
       "// Listen for the removal of the full notebook cells\n",
       "var notebookContainer = gd.closest('#notebook-container');\n",
       "if (notebookContainer) {{\n",
       "    x.observe(notebookContainer, {childList: true});\n",
       "}}\n",
       "\n",
       "// Listen for the clearing of the current output cell\n",
       "var outputEl = gd.closest('.output');\n",
       "if (outputEl) {{\n",
       "    x.observe(outputEl, {childList: true});\n",
       "}}\n",
       "\n",
       "                        })                };                });            </script>        </div>"
      ]
     },
     "metadata": {},
     "output_type": "display_data"
    }
   ],
   "source": [
    "df = data[data['n_depth_bin'] == 0.1]\n",
    "df['bin_c'] = round(df['cos_sun'] * 1) / 1\n",
    "df['bin_s'] = round(df['sin_sun'] * 1) / 1 \n",
    "df = df.groupby(['bin_c', 'bin_s'])['_selected'].mean().reset_index()\n",
    "px.scatter(df, x='bin_c', y='bin_s', color='_selected')"
   ]
  },
  {
   "cell_type": "code",
   "execution_count": null,
   "metadata": {},
   "outputs": [],
   "source": [
    "[\n",
    "    \"n_depth_bin\",\n",
    "    \"cos_orbit\",\n",
    "    \"sin_orbit\",\n",
    "    \"cos_moon\",\n",
    "    \"sin_moon\",\n",
    "    \"n_mixed_layer_thickness\",\n",
    "    \"n_temperature\",\n",
    "    \"n_nitrate\",\n",
    "    \"n_silicate\",\n",
    "    \"n_salinity\"\n",
    "]"
   ]
  },
  {
   "cell_type": "code",
   "execution_count": 7,
   "metadata": {},
   "outputs": [
    {
     "name": "stdout",
     "output_type": "stream",
     "text": [
      "(521509, 20)\n"
     ]
    },
    {
     "data": {
      "text/html": [
       "<div>\n",
       "<style scoped>\n",
       "    .dataframe tbody tr th:only-of-type {\n",
       "        vertical-align: middle;\n",
       "    }\n",
       "\n",
       "    .dataframe tbody tr th {\n",
       "        vertical-align: top;\n",
       "    }\n",
       "\n",
       "    .dataframe thead th {\n",
       "        text-align: right;\n",
       "    }\n",
       "</style>\n",
       "<table border=\"1\" class=\"dataframe\">\n",
       "  <thead>\n",
       "    <tr style=\"text-align: right;\">\n",
       "      <th></th>\n",
       "      <th>_decision</th>\n",
       "      <th>tag_key</th>\n",
       "      <th>depth</th>\n",
       "      <th>epoch</th>\n",
       "      <th>depth_bin</th>\n",
       "      <th>_individual</th>\n",
       "      <th>time</th>\n",
       "      <th>h3_index</th>\n",
       "      <th>lat</th>\n",
       "      <th>lon</th>\n",
       "      <th>sun_radians</th>\n",
       "      <th>cos_sun</th>\n",
       "      <th>sin_sun</th>\n",
       "      <th>moon_radians</th>\n",
       "      <th>cos_moon</th>\n",
       "      <th>sin_moon</th>\n",
       "      <th>orbit_radians</th>\n",
       "      <th>cos_orbit</th>\n",
       "      <th>sin_orbit</th>\n",
       "      <th>_train</th>\n",
       "    </tr>\n",
       "  </thead>\n",
       "  <tbody>\n",
       "    <tr>\n",
       "      <th>0</th>\n",
       "      <td>318534</td>\n",
       "      <td>159014b</td>\n",
       "      <td>4.0</td>\n",
       "      <td>1494404100</td>\n",
       "      <td>25.0</td>\n",
       "      <td>73</td>\n",
       "      <td>2017-05-10</td>\n",
       "      <td>840c539ffffffff</td>\n",
       "      <td>59.431642</td>\n",
       "      <td>-152.605799</td>\n",
       "      <td>3.905571</td>\n",
       "      <td>-0.722090</td>\n",
       "      <td>-0.691800</td>\n",
       "      <td>2.89146</td>\n",
       "      <td>-0.968880</td>\n",
       "      <td>0.247533</td>\n",
       "      <td>2.237847</td>\n",
       "      <td>-0.618671</td>\n",
       "      <td>0.785650</td>\n",
       "      <td>False</td>\n",
       "    </tr>\n",
       "    <tr>\n",
       "      <th>1</th>\n",
       "      <td>318535</td>\n",
       "      <td>159014b</td>\n",
       "      <td>4.0</td>\n",
       "      <td>1494401400</td>\n",
       "      <td>25.0</td>\n",
       "      <td>73</td>\n",
       "      <td>2017-05-10</td>\n",
       "      <td>840c539ffffffff</td>\n",
       "      <td>59.431642</td>\n",
       "      <td>-152.605799</td>\n",
       "      <td>3.584272</td>\n",
       "      <td>-0.903607</td>\n",
       "      <td>-0.428362</td>\n",
       "      <td>2.89146</td>\n",
       "      <td>-0.968880</td>\n",
       "      <td>0.247533</td>\n",
       "      <td>2.237847</td>\n",
       "      <td>-0.618671</td>\n",
       "      <td>0.785650</td>\n",
       "      <td>False</td>\n",
       "    </tr>\n",
       "    <tr>\n",
       "      <th>2</th>\n",
       "      <td>318536</td>\n",
       "      <td>159014b</td>\n",
       "      <td>4.0</td>\n",
       "      <td>1494373500</td>\n",
       "      <td>25.0</td>\n",
       "      <td>73</td>\n",
       "      <td>2017-05-09</td>\n",
       "      <td>840c539ffffffff</td>\n",
       "      <td>59.431642</td>\n",
       "      <td>-152.605799</td>\n",
       "      <td>1.875483</td>\n",
       "      <td>-0.299995</td>\n",
       "      <td>0.953941</td>\n",
       "      <td>2.67710</td>\n",
       "      <td>-0.894049</td>\n",
       "      <td>0.447970</td>\n",
       "      <td>2.220633</td>\n",
       "      <td>-0.605056</td>\n",
       "      <td>0.796183</td>\n",
       "      <td>False</td>\n",
       "    </tr>\n",
       "    <tr>\n",
       "      <th>3</th>\n",
       "      <td>318565</td>\n",
       "      <td>159014b</td>\n",
       "      <td>5.5</td>\n",
       "      <td>1494562500</td>\n",
       "      <td>25.0</td>\n",
       "      <td>73</td>\n",
       "      <td>2017-05-12</td>\n",
       "      <td>840c539ffffffff</td>\n",
       "      <td>59.431642</td>\n",
       "      <td>-152.605799</td>\n",
       "      <td>2.711920</td>\n",
       "      <td>-0.909102</td>\n",
       "      <td>0.416573</td>\n",
       "      <td>3.32018</td>\n",
       "      <td>-0.984096</td>\n",
       "      <td>-0.177640</td>\n",
       "      <td>2.272275</td>\n",
       "      <td>-0.645348</td>\n",
       "      <td>0.763889</td>\n",
       "      <td>False</td>\n",
       "    </tr>\n",
       "    <tr>\n",
       "      <th>4</th>\n",
       "      <td>318566</td>\n",
       "      <td>159014b</td>\n",
       "      <td>4.0</td>\n",
       "      <td>1494435600</td>\n",
       "      <td>25.0</td>\n",
       "      <td>73</td>\n",
       "      <td>2017-05-10</td>\n",
       "      <td>840c539ffffffff</td>\n",
       "      <td>59.431642</td>\n",
       "      <td>-152.605799</td>\n",
       "      <td>0.603186</td>\n",
       "      <td>0.823533</td>\n",
       "      <td>0.567269</td>\n",
       "      <td>2.89146</td>\n",
       "      <td>-0.968880</td>\n",
       "      <td>0.247533</td>\n",
       "      <td>2.237847</td>\n",
       "      <td>-0.618671</td>\n",
       "      <td>0.785650</td>\n",
       "      <td>False</td>\n",
       "    </tr>\n",
       "  </tbody>\n",
       "</table>\n",
       "</div>"
      ],
      "text/plain": [
       "   _decision  tag_key  depth       epoch  depth_bin  _individual        time  \\\n",
       "0     318534  159014b    4.0  1494404100       25.0           73  2017-05-10   \n",
       "1     318535  159014b    4.0  1494401400       25.0           73  2017-05-10   \n",
       "2     318536  159014b    4.0  1494373500       25.0           73  2017-05-09   \n",
       "3     318565  159014b    5.5  1494562500       25.0           73  2017-05-12   \n",
       "4     318566  159014b    4.0  1494435600       25.0           73  2017-05-10   \n",
       "\n",
       "          h3_index        lat         lon  sun_radians   cos_sun   sin_sun  \\\n",
       "0  840c539ffffffff  59.431642 -152.605799     3.905571 -0.722090 -0.691800   \n",
       "1  840c539ffffffff  59.431642 -152.605799     3.584272 -0.903607 -0.428362   \n",
       "2  840c539ffffffff  59.431642 -152.605799     1.875483 -0.299995  0.953941   \n",
       "3  840c539ffffffff  59.431642 -152.605799     2.711920 -0.909102  0.416573   \n",
       "4  840c539ffffffff  59.431642 -152.605799     0.603186  0.823533  0.567269   \n",
       "\n",
       "   moon_radians  cos_moon  sin_moon  orbit_radians  cos_orbit  sin_orbit  \\\n",
       "0       2.89146 -0.968880  0.247533       2.237847  -0.618671   0.785650   \n",
       "1       2.89146 -0.968880  0.247533       2.237847  -0.618671   0.785650   \n",
       "2       2.67710 -0.894049  0.447970       2.220633  -0.605056   0.796183   \n",
       "3       3.32018 -0.984096 -0.177640       2.272275  -0.645348   0.763889   \n",
       "4       2.89146 -0.968880  0.247533       2.237847  -0.618671   0.785650   \n",
       "\n",
       "   _train  \n",
       "0   False  \n",
       "1   False  \n",
       "2   False  \n",
       "3   False  \n",
       "4   False  "
      ]
     },
     "execution_count": 7,
     "metadata": {},
     "output_type": "execute_result"
    }
   ],
   "source": [
    "data = read_data_w_cache(\n",
    "    'select * from chinook_depth_decisions_w_time'\n",
    ")\n",
    "print(data.shape)\n",
    "data.head()"
   ]
  },
  {
   "cell_type": "code",
   "execution_count": 13,
   "metadata": {},
   "outputs": [
    {
     "data": {
      "application/vnd.plotly.v1+json": {
       "config": {
        "plotlyServerURL": "https://plot.ly"
       },
       "data": [
        {
         "hovertemplate": "time=%{x}<br>depth=%{y}<br>sin_sun=%{marker.color}<extra></extra>",
         "legendgroup": "",
         "marker": {
          "color": [
           -0.7398768980844661,
           -0.6340402407178779,
           -0.6887960819615027,
           0.9575200193561055,
           -0.12419285093645326,
           0.8902776997267268,
           0.8768651566887664,
           0.8104761656938871,
           0.48798829016291784,
           0.31767583695859075,
           0.19763025487957436,
           0.4952066396071065,
           0.9050387017784066,
           0.7777541941878112,
           0.004177637653397728,
           -0.8159381766180447,
           -0.8535930890373461,
           -0.2661626065348239,
           -0.19956680138595276,
           0.06679263374512155,
           0.0667926337451217,
           0.9508000403744514,
           0.9917575330792614,
           -0.3757058731824675,
           -0.2649815021966616,
           -0.4650493297790178,
           -0.8445331500581903,
           -0.8039201586021187,
           0.7049648065944493,
           0.7465532216119628,
           0.15865331787996953,
           0.5583270669856946,
           0.6080859829251033,
           0.6555621472003484,
           0.9102481162354341,
           -0.962123875106462,
           -0.9999973082654672,
           -0.7658787048106845,
           -0.5006696433629029,
           0.9384684220497604,
           0.8808198887448735,
           0.9975669725055498,
           -0.9680348396237975,
           0.8404920765920895,
           0.9978377845535022,
           0.9835124405716417,
           -0.36455854493922224,
           -0.869367593421005,
           -0.9904001828731736,
           -0.9961087610952891,
           -0.9866005152159,
           -0.5437223939928595,
           -0.47874596959340626,
           0.19485460434091234,
           0.41398358613858927,
           0.46577048502929763,
           0.6982149708759341,
           0.94392867908688,
           0.961391133403258,
           0.9169797215105586,
           0.9832667439877215,
           0.8352935360436967,
           0.9922315116594806,
           0.7193999667505384,
           -0.5759015204579958,
           0.5877852522924731,
           0.9581153485383789,
           0.985261804064805,
           0.9936647156006623,
           0.48463809414335196,
           0.4323686928652698,
           0.3235277745677751,
           -0.8350372614533752,
           -0.9772180651842867,
           0.3346385818412217,
           0.442948123190008,
           0.8660254037844386,
           0.9587361483944168,
           0.9854812402070735,
           0.8295699868966037,
           0.795523342519948,
           -0.9903902853137702,
           -0.9169847890842521,
           0.8024607682751522,
           0.7290208869776046,
           0.3079407468151094,
           -0.9323071635517114,
           -0.9906091865693124,
           0.1689003553545588,
           0.2243589684280883,
           0.5828927523297099,
           0.6279027235298702,
           0.711758240489971,
           0.8201722545969559,
           0.8512083218260812,
           0.9472579621526104,
           0.9773831172079418,
           0.9920293895536577,
           0.9384684220497604,
           0.09720195351774365,
           -0.09915503644220425,
           -0.6037382680672975,
           0.41338680796450056,
           0.7669978067399342,
           0.5135466455862489,
           0.9174397974871563,
           0.18595625812545183,
           0.015268386791136889,
           -0.6767885115270305,
           -0.25676920331169767,
           0.20467457376946915,
           0.2603550402280207,
           0.4215608748458024,
           0.5224171939262632,
           0.5703582678116259,
           0.8456344491318318,
           0.9999544648469465,
           -0.4179603448867834,
           -0.48660447856685607,
           -0.8072027855852094,
           0.7461836858476856,
           0.8771826024025943,
           0.9947572788580948,
           0.5612408842213981,
           -0.6639932483858989,
           0.4842411404944925,
           -0.8295385430976988,
           -0.4200565873461463,
           -0.3459287569856592,
           -0.5851664708863733,
           -0.6487306841697578,
           -0.9983997222298825,
           -0.999706007408351,
           -0.9827686373065728,
           -0.9402035213562954,
           -0.40312342928797235,
           -0.9985232494095978,
           -0.9819598546640318,
           -0.9632988639828405,
           -0.8265302638939946,
           -0.9999104909216002,
           -0.7241885202318787,
           -0.31521348924925324,
           -0.23687921752073104,
           0.11274050393942144,
           0.24742619064206517,
           0.19442392154079813,
           0.08685492774986638,
           0.9798463676183886,
           0.9957341762950345,
           -0.2677121050063586,
           -0.21403902158845248,
           -0.049758201380672815,
           0.07558546357498837,
           0.18270782652706158,
           -0.46509333931264746,
           -0.6450624477906768,
           -0.5817070676301878,
           -0.21767314121336145,
           -0.9981937173931591,
           -0.9953277531063419,
           0.01123311054379871,
           0.12325260276007284,
           0.5420718659024951,
           0.8401541220144938,
           -0.24521653909301538,
           -0.7709162818670677,
           -0.8188159710183593,
           -0.8615994334083374,
           -0.9567488620406979,
           -0.9839833266128725,
           -0.7938878440319721,
           -0.5653921912399595,
           0.2781717887215952,
           -0.1530323732854325,
           -0.2309977042794881,
           -0.5894983338318396,
           -0.7099107723560533,
           -0.8944676665376853,
           -0.989406061629265,
           0.9876011534912789,
           0.994802532857004,
           0.9989254041527641,
           0.9732504058237692,
           0.9589688393005678,
           0.28686857034483243,
           -0.058837411966777275,
           -0.13870198640049605,
           0.3893304431657233,
           0.438515057823849,
           0.5778314877787621,
           0.9036073411080918,
           -0.8802013911801112,
           -0.918216106880274,
           -0.9492426435730339,
           -0.9894416385809445,
           -0.5495089780708067,
           -0.3960797660391577,
           -0.23061587074244044,
           -0.05814482891047541,
           0.01745240643728351,
           0.0697564737441253,
           0.17364817766693033,
           0.7547095802227719,
           0.7880107536067219,
           0.8191520442889918,
           -0.9930857334153371,
           -0.7415681356822447,
           -0.3840418443464011,
           0.1313856121332036,
           0.2336139470019683,
           0.348507259729804,
           -0.10040880672831971,
           -0.1881948707371607,
           -0.9189954389730464,
           -0.9503225501664436,
           -0.9741700470534903,
           -0.9235962677750899,
           -0.8413988947410387,
           -0.7327643668226271,
           -0.5279108355443944,
           -0.7273736415730486,
           -0.4013174694379304,
           -0.3281407158241842,
           -0.9595667596041526,
           0.8234515834155612,
           0.7919022459222751,
           0.7580826007928902,
           -0.4033171544008049,
           -0.4788013091754625,
           -0.5508969814521024,
           -0.11753739745783766,
           -0.03365356558779461,
           0.53763411055889,
           0.9992290362407229,
           0.9977004381804953,
           0.686720186994794,
           -0.8162609195496736,
           -0.5065102069747113,
           -0.3537919584341412,
           0.6684260349979635,
           0.7783373662060241,
           0.8683848977691785,
           0.9162235584102972,
           0.968335216647804,
           0.980261807626078,
           0.4078112630342889,
           0.5020365904835702,
           0.8428114378314234,
           0.8701141752722963,
           0.9173335459299022,
           0.9895455959670174,
           -0.9981688549130007,
           -0.9936891385877851,
           -0.8073195246799605,
           -0.020907579009300677,
           0.9833178500816673,
           0.9999128816724107,
           -0.8807899745135388,
           -0.9125036164765499,
           -0.9616713051497494,
           -0.19509032201612872,
           0.5786712961798057,
           0.6723008902613168,
           0.7562264854356404,
           0.985191885404473,
           -0.8684504647043093,
           0.7216234572867163,
           0.8327024925592224,
           0.8923481308641212,
           0.9140234022506346,
           0.8285986767636565,
           0.71742993372098,
           0.37860324125370354,
           -0.9354179608220345,
           -0.9589243950970401,
           -0.990199525716881,
           -0.9977982087825711,
           -0.9999728075346846,
           -0.9546364444462206,
           -0.9005112633768315,
           0.16398372780542952,
           0.22170147976370785,
           0.27865211657649214,
           0.38946715531077397,
           0.4948964345694776,
           0.5934820220673562,
           0.9839398740192412,
           0.9187331419530561,
           0.9713487260456302,
           0.91250361647655,
           0.6861290847527062,
           0.7303398639486692,
           0.8099980887297779,
           0.8153038224582491,
           0.5482258322062963,
           0.44027411459174776,
           0.3255246121270428,
           0.13634516768810281,
           0.6413754384077988,
           0.8453036632262353,
           -0.6159458478496378,
           -0.6692455495264413,
           -0.8087441477760515,
           -0.9131045181732521,
           -0.9392509703895967,
           -0.9608484720058413,
           -0.9787544194585434,
           0.7825587041164743,
           0.39726036663188163,
           0.3403133926949764,
           0.22280541513098404,
           0.036759380776787275,
           0.21882096324331146,
           0.6111737140978494,
           0.45724232330463865,
           0.4022822427221326,
           -0.9974977965944997,
           -0.9900037084217638,
           -0.9775552389476864,
           0.9355651444005965,
           0.29286742778810393,
           0.9403615300567678,
           0.8890518410736276,
           0.9619484448473536,
           0.9988618285054611,
           0.9565586068460036,
           -0.3468393600395524,
           -0.6148521285201924,
           -0.6736956436465572,
           -0.8502171357296141,
           -0.7071067811865477,
           -0.59027422690092,
           -0.45947043897934786,
           0.7828442946465186,
           0.8484499752507233,
           0.9030747323245326,
           0.9460115939806336,
           0.9629172873477994,
           0.9767048569857961,
           0.9873296559154696,
           0.7699359687995272,
           0.6510955107602051,
           0.46420933594806535,
           -0.8651615144793363,
           -0.9770216794644423,
           -0.643228030485259,
           -0.5819078594694584,
           0.4372785771547295,
           0.6709037462408814,
           0.8795209836486011,
           0.9050196548877667,
           0.9990596114160265,
           0.9447356759246124,
           0.993759172283535,
           0.8137027631482983,
           0.7419516704348478,
           0.8607817067898291,
           -0.8338706275593067,
           -0.8725565306973931,
           -0.9589837655846914,
           -0.9773856331199823,
           0.9978054847628905,
           -0.2931485412660516,
           -0.5647080821850865,
           -0.7849655912666934,
           -0.958256920187762,
           -0.950744377603579,
           -0.7690970428755676,
           -0.6055894203949632,
           0.8110463238745989,
           0.8434201399810591,
           0.9233267505276278,
           0.9756560339557572,
           0.9866759361769502,
           0.865388495387579,
           0.6460309064464778,
           0.5545779869588261,
           0.4558601524285165,
           -0.055979666432867586,
           -0.2072475821631544,
           -0.556892533027307,
           -0.4008362995512759,
           -0.10672253308311569,
           0.03434844747445744,
           0.47276381396764344,
           0.7791040359583045,
           0.5714512098278208,
           0.6916690746675351,
           0.8832343015053228,
           -0.9906234287599798,
           -0.8989993441398728,
           -0.5996612118590602,
           -0.3210234850972961,
           0.7379754777427555,
           0.23371842885989855,
           -0.14066834734730455,
           -0.9627027290491458,
           -0.916736075317848,
           -0.8872449932352409,
           -0.7293436170631412,
           -0.45724232330463843,
           -0.3315102161255597,
           -0.2661626065348231,
           0.12914542963103867,
           -0.0638842235014922,
           -0.5170371878872816,
           -0.6808100635783422,
           -0.7744568423695255,
           -0.5170371878872819,
           -0.39530317615589855,
           -0.06388422350149257,
           0.1909912540692145,
           0.2520873259775634,
           0.6392248470547393,
           0.9085331920019917,
           0.8497033571964727,
           0.7371995530751958,
           0.0745332829776549,
           -0.9983194906863304,
           0.3759725111191117,
           -0.9668293727277847,
           -0.9145432079505206,
           -0.8124868780056813,
           -0.762763200040219,
           -0.29720623145511266,
           0.014662684135245747,
           0.06959394514409521,
           -0.1914802461187007,
           -0.6850151328609488,
           -0.7412318533646589,
           -0.9152066679257155,
           -0.9445756718664958,
           -0.9849108406342386,
           -0.5146047439593949,
           -0.4441877022577452,
           0.06991976262998763,
           0.12489474721042303,
           0.9927432244968822,
           0.9773435513873604,
           0.9640614696397952,
           -0.9539600252143046,
           -0.9271397461620152,
           -0.8561500017419901,
           -0.7635794171378255,
           -0.07410115237754308,
           0.11472835954989344,
           0.22432859415941353,
           -0.4284483301829304,
           -0.4984775852212808,
           -0.7433799178201783,
           -0.8394353024745969,
           -0.9436343565216712,
           -0.9762798054838502,
           0.7725172272713589,
           0.9682110255638017,
           0.7613675365651669,
           0.7984372846033249,
           0.8640428026402155,
           0.9175190537332194,
           0.8600824594771908,
           0.7571488010846003,
           0.6752286680956306,
           -0.8733055708668925,
           -0.9068265445904837,
           -0.988032017031364,
           -0.9739815385503638,
           -0.9301018956828964,
           0.10569857141959299,
           0.5451323417249706,
           0.7255768236789827,
           0.8351284291564355,
           0.758758122692791,
           0.6775833749784778,
           -0.7905800124310048,
           0.9987165071710528,
           0.9999696151247165,
           0.9363913004764843,
           0.5579805804969398,
           0.6051742151937651,
           0.9923457466060636,
           0.937317947438786,
           -0.433883739117558,
           -0.6254590828375451,
           -0.6826332559745552,
           0.6793446492959594,
           0.9297154442254693,
           -0.5146901164094919,
           0.9937122098932426,
           -0.4392514426214375,
           -0.8476927066578946,
           -0.9900007600211735,
           0.8831818964886439,
           0.8528002164277206,
           0.8192171287239424,
           0.7005773345340011,
           0.4527160271879505,
           0.27816715583184226,
           0.33646911034266525,
           0.5618819386853606,
           0.510508016902179,
           0.3458314388150115,
           -1,
           -0.9602146853776896,
           -0.9380688268961659,
           0.910846486754214,
           0.8842275362319737,
           0.821394637582028,
           0.7854105487132186,
           0.8564626034499305,
           0.9552041291130191,
           -0.9910230813288713,
           -0.3335058873904131,
           0.016027847630173744,
           0.5286348772573076,
           0.7155558974107533,
           0.861312628232409,
           0.9731132802010821,
           -0.8299443639058236,
           0.004177637653397743,
           -0.9646355819083589,
           -0.730516053503444,
           0.8302741939659765,
           0.8578942282191055,
           0.8795170349534179,
           0.8255428275641211,
           0.6533159477969122,
           0.4374390153636379,
           -0.3696642994320148,
           -0.6011060327398497,
           -0.6695701612246576,
           -0.7901912728439315,
           -0.9539390757797442,
           -0.9903502353835811,
           -0.7246612842413173,
           -0.6607347382428576,
           -0.5916078094901441,
           0.14806576630728946,
           0.24962707557829159,
           0.07966893594921505,
           0.027736774800855665,
           -0.5401908123500585,
           -0.6795564060296297,
           -0.7978086277747382,
           -0.9906318006830656,
           -0.8912734585964853,
           -0.9788754085243305,
           0.8746197071393957,
           0.6427876096865393,
           0.6018150231520483,
           0.4694715627858908,
           0.8004476024336286,
           -0.3145447561516138,
           0.7344974726243554,
           0.051535027371882904,
           0.35312113553519653,
           -0.5120200636584707,
           -0.8335376920472097,
           -0.8824486116084631,
           0.9047685045228567,
           0.9255151952461158,
           0.9595809602833619,
           0.9996219667783766,
           0.40548572308292824,
           -0.25591122490071755,
           -0.42534359502495966,
           -0.5809479121098947,
           -0.34202014332566866,
           -0.1677181245479056,
           0.260471467948449,
           0.4518547484954028,
           0.6242539593567168,
           0.6635166531035681,
           0.9449326651753572,
           0.9919240173019428,
           0.9997105640403308,
           0.9968767493982831,
           0.9728095005757434,
           0.9438022138442629,
           -0.9503155477588795,
           -0.9186536247496518,
           -0.6569100441648371,
           -0.4331148476602171,
           -0.26554332154014354,
           0.25494355759556836,
           -0.8731206339016079,
           -0.8354878114129365,
           0.8571673007021123,
           0.9252398189258263,
           0.3390090863657046,
           0.021614779792638778,
           -0.6952770142303717,
           -0.5670138454736008,
           -0.42317515566429775,
           0.9728122550971641,
           0.9675476086576971,
           0.9344218962029855,
           -0.6983302619011121,
           -0.5023722012085095,
           -0.35401330582219215,
           -0.03289032528384109,
           0.3510840242820857,
           0.40143343528678366,
           0.45059721216634735,
           0.5895427557570483,
           0.6325533231952923,
           -0.07602052666366857,
           -0.39145369286196735,
           -0.7779434607220509,
           -0.869626151443985,
           -0.906944823048212,
           -0.9940973592230038,
           -0.9996307441774682,
           0.41920063765592513,
           0.3170246018889922,
           0.21101823935417682,
           -0.6110745206774623,
           -0.6829095820048069,
           0.766044443118978,
           0.08557500847883974,
           0.39583693561249844,
           0.8829475928589271,
           0.16423012795979286,
           0.0596373018408601,
           0.007020261113190573,
           -0.6289470040762253,
           -0.8968196199699207,
           0.9957914589008403,
           0.9542755078416455,
           0.7812022724419623,
           0.7108408542839144,
           0.6726207979048603,
           0.6325154822890662,
           0.3589171252129328,
           0.2582507334012754,
           0.9894034513846102,
           0.93627054378901,
           0.8407291332848036,
           0.7071067811865475,
           -0.577683400502318,
           -0.7644278192076245,
           0.4233338789659003,
           0.517337814177657,
           0.9926425220757603,
           0.9998980430094333,
           0.9956953358524774,
           0.9356961728150196,
           0.915471162919406,
           0.5819939511446257,
           0.4444219876936094,
           0.13878028460597636,
           -0.8478401919254095,
           0.538826269001014,
           -0.9999205364575328,
           0.9010871373062532,
           0.7023674394097973,
           0.31518215131893024,
           0.14832325359518753,
           -0.030545581747205234,
           -0.1822772458358429,
           -0.3297640851404723,
           -0.3536891704538428,
           0.07246408642046469,
           0.12942227339378962,
           0.2418807414206175,
           0.404177753100579,
           0.5060483970528293,
           0.9944141882519817,
           0.8729887697804845,
           0.775974995657324,
           0.7383228013577329,
           0.9713676085473397,
           0.9559521426716117,
           -0.5007276721883875,
           -0.7359036383122489,
           -0.904224970913085,
           -0.9339113358723471,
           0.9760082735846987,
           -0.9771224981957352,
           -0.7185998826257685,
           0.2510727938481863,
           0.3064559238993419,
           0.3608197921132695,
           0.5645297840206913,
           0.6111737140978493,
           -0.815195949841512,
           0.9999700625010443,
           0.9868690787947975,
           0.9923143657869283,
           -0.8829203240668029,
           -0.9454145263624475,
           -0.9847067305903355,
           -0.9998326426539069,
           -0.539440960075922,
           -0.4718288719730193,
           -0.32834003398254963,
           -0.2533450005043739,
           0.15292005157699837,
           0.2627351698375675,
           0.9564944561665195,
           0.9877766795496076,
           0.750335494032358,
           0.48742796134013094,
           -0.449141746482498,
           -0.7006733799556847,
           -0.7538978556764477,
           0.9716750497861443,
           -0.5523649729605058,
           -0.7285468091117902,
           0.5766803221148672,
           0.7071067811865475,
           0.816969893010442,
           0.997769590181818,
           0.8666532892440566,
           0.6071394561327799,
           0.3612416661871533,
           -0.9014495160922963,
           -0.9575485696270063,
           -0.8464290417467846,
           -0.802580832090995,
           0.732624190893826,
           -0.29356565061054385,
           0.9987354009829812,
           0.7720892250953373,
           0.8861039104717509,
           0.6607974450143325,
           0.8543738489628867,
           -0.9112284903881358,
           -0.9974977965944997,
           0.22929916109649032,
           0.28809909936523775,
           0.44906958586055035,
           0.39350796153727674,
           0.0978900887742209,
           0.2820888840256067,
           0.5064721940976017,
           0.7429625581434613,
           -0.9149867149888904,
           -0.940833602825411,
           -0.9906446913551172,
           -0.9977371042073115,
           0.20574904475565559,
           0.012433423642073177,
           0.25815175704848475,
           0.43281653837311423,
           0.5412745991100724,
           0.5924695826312434,
           0.9929315113049798,
           0.6878032086356349,
           0.9818811288813474,
           -0.5596630167191137,
           -0.7193039823197324,
           -0.8825357470274146,
           -0.9777924226850842,
           -0.9974143569807586,
           0.7315735101024068,
           0.8076503464625567,
           -0.9395104945406408,
           -0.40031002354349937,
           0.7339284482179917,
           0.6932965047028621,
           0.6503302039398645,
           0.9552988504655193,
           0.9709418174260521,
           -0.9352862995502246,
           -0.9064240946516147,
           0.914283781026497,
           0.9737934184638003,
           0.8939258210401873,
           0.8013418045941092,
           0.7647824360894471,
           0.6838606237376779,
           0.6397781795907173,
           -0.9967115007383507,
           -0.7922296449222118,
           0.26733286088436364,
           -0.05265478357120034,
           0.626617690870673,
           0.7941657617649315,
           0.829236698681195,
           0.9160272981578509,
           -0.7870101508314689,
           -0.9788717411368004,
           0.634679618447929,
           0.9733981245083351,
           0.8885902481570268,
           0.794247837884511,
           0.6306910259223211,
           0.5839711130730205,
           0.5352305863520994,
           0.9394671574629145,
           0.26615099291493516,
           0.3412381070035951,
           0.4940431541458137,
           -0.2744997270788776,
           -0.011832464569015828,
           0.09661976539023179,
           0.1991139240711855,
           0.18274692240685284,
           -0.9982699367944867,
           0.848048096156426,
           0.7193398003386511,
           0.5150380749100542,
           0.42261826174069944,
           0.374606593415912,
           -0.1449318593072471,
           -0.47460036974764114,
           -0.9730448705798238,
           -0.7844156649195754,
           0.7313537016191706,
           0.7986355100472927,
           0.8106848372427548,
           0.9536575621797546,
           0.5471036800874373,
           0.590637316860895,
           0.7470685261120219,
           0.8131464212981538,
           -0.3586441042386691,
           0.968758488803439,
           -0.7533423032710708,
           -0.6937363440483896,
           -0.40849123531374415,
           -0.24533843164892388,
           0.9271838545667874,
           0.8290375725550417,
           -0.9996635833974638,
           0.6278462744712829,
           -0.8349455555505444,
           -0.9992606434967874,
           -0.5052029804871162,
           0.006844375000074145,
           0.05814482891047573,
           0.10929209909502727,
           0.35804843734524594,
           0.5833466559487306,
           0.9605426280698589,
           0.9735998290654951,
           0.9840695670212302,
           0.9914822076578097,
           0.9834526782248092,
           -0.8368224488551899,
           -0.9521577899461732,
           -0.9756816788184258,
           -0.9991261616898764,
           -0.9988587110593807,
           -0.974355134363832,
           -0.9767738052300815,
           -0.4505606601919715,
           -0.2858584566418837,
           0.3420201433256687,
           0.39025387282305,
           0.48344878751626574,
           -0.880435276820678,
           0.5281595639941035,
           0.9268114258063277,
           0.304436886072878,
           0.2047726847998989,
           0.15405760304107707,
           -0.17822107713089427,
           -0.7217326681864202,
           0.7281637313969977,
           0.3934676735627463,
           -0.6447093214941721,
           0.6470126069706456,
           -0.059240627893714336,
           0.1243148367150137,
           0.14314331218565932,
           0.0882767638302156,
           0.033140863510700974,
           -0.0321061611652153,
           -0.11215441315263684,
           -0.6243860317117877,
           -0.8390104736583966,
           -0.8799425530677828,
           -0.9678603906392963,
           -0.9977630741271241,
           -0.7042627941085534,
           -0.37090951906247094,
           0.23353489364578833,
           0.9417196553727809,
           0.9845201593192934,
           0.9188156974092352,
           0.8953584004351242,
           0.8085791915996536,
           0.7744842230991991,
           -0.46615866867411204,
           -0.9767376315622203,
           -0.2191423160058456,
           -0.9949890347303045,
           -0.6287740441592304,
           0.059310487523916586,
           -0.30750505388116106,
           -0.4542265023211669,
           -0.5235145437237508,
           0.9999570087735733,
           -0.6882271136822207,
           -0.7071067811865477,
           -0.4470147733275384,
           -0.928701352738406,
           0.944219723099596,
           0.9740119169423335,
           0.9893070726241161,
           0.34611705707749296,
           0.24384583388407044,
           0.03212439702627736,
           -0.32497871937952266,
           -0.2443404061378939,
           0.7220896056998753,
           0.8793843078813829,
           0.28769791250482846,
           0.23554673666871576,
           0.1293354577522262,
           -0.2942517766480706,
           0.983957305504807,
           0.9921962368487802,
           0.8902650701733821,
           -0.9905739543432535,
           -0.9096319953545186,
           -0.5451661808966407,
           -0.47569794280025135,
           0.26442106825897294,
           0.3686698296323199,
           -0.8569050715706323,
           0.46846428080848607,
           -0.6026346363792565,
           0.16686457262305932,
           0.6736956436465574,
           -0.27598869198433534,
           -0.42964489148878665,
           -0.5717036192761967,
           0.5163118443403217,
           0.3836405002369632,
           0.9136927795398154,
           0.6477130020922278,
           -0.9944842799247307,
           -0.9556106154776379,
           -0.8957277329331482,
           -0.7080587299307279,
           -0.517781160097254,
           -0.3733294103000049,
           -0.13964741604404746,
           0.17865994786032086,
           0.2324650035060531,
           0.2855673610646906,
           -0.2695726994243303,
           -0.49147871170527996,
           -0.55973507949766,
           -0.7926740850626719,
           -0.9956171949702143,
           -0.2952422003508908,
           0.014731437363117253,
           -0.9997777298596181,
           -0.8797376979104873,
           0.16979119409952378,
           0.003709073731161601,
           -0.38207153291002555,
           -0.6517614047048681,
           -0.8309078537201882,
           -0.8124286002489032,
           0.8816479210603378,
           0.9065253786978755,
           0.9285975100502714,
           0.9477960108739739,
           0.9978941543239108,
           0.17948865024681854,
           -0.9747592229308398,
           -0.9307820164861198,
           -0.7832693014118446,
           0.5625986940447391,
           -0.6190939493098341,
           -0.1619728929674206,
           0.8526401643540923,
           0.5329033746173975,
           0.48641932424609086,
           -0.1323538542642223,
           -0.6333238030480467,
           -0.496803299426622,
           -0.3466359152026191,
           -0.18694665591700704,
           0.9419439507749514,
           0.9587940025453908,
           0.997504715435631,
           0.9998670626675846,
           0.9992763013493021,
           0.9892511491753123,
           0.9523911966923506,
           -0.9382383583511207,
           -0.665622554383425,
           -0.5356432159217889,
           -0.15697127831405552,
           0.003644530973094401,
           0.05827958293806162,
           -0.6729925851384387,
           0.5447909730935415,
           0.2996976861971094,
           0.14084742115768326,
           0.032605908210381125,
           -0.11488268657524414,
           -0.19609847393328453,
           -0.6371704852379583,
           0.49843014964771093,
           -0.2822218604533234,
           -0.7181996586895453,
           -0.5345800547238312,
           -0.7594049166547074,
           -0.27366299007208283,
           0.9383068897782667,
           0.983606672034461,
           0.9944952624480718,
           0.9244263844250579,
           0.8747944326908696,
           0.6604810865439237,
           0.616429901071258,
           0.36897620239925794,
           0.09148578018764902,
           -0.7309870494575179,
           -0.6186440034966889,
           -0.49189413793268344,
           -0.4240277870032357,
           -0.2812883928785423,
           -0.13199842829690875,
           0.5991268418647773,
           -0.9714501738479137,
           -0.9246015372051445,
           -0.8931711563266879,
           -0.8566329766239488,
           0.1379883351375902,
           -0.6506183002042422,
           0.5160082473451378,
           0.8996538690295979,
           0.8926470052546704,
           0.6886544844286903,
           0.6012898586384618,
           0.3511705964151972,
           0.2970124218230885,
           0.6557849014733148,
           -0.6609954919811077,
           -0.5264321628773562,
           0.6657401196974406,
           -0.3948245726381397,
           0.6991667395971304,
           0.8691106071276762,
           0.44445629314939417,
           0.2879323188785029,
           0.17876742065802453,
           0.0673490618372705,
           -0.06268617997044953,
           -0.21778612978749814,
           -0.36754125654374886,
           -0.7208309528264698,
           -0.6643256990718092,
           -0.17679320172437807,
           0.20815585925310356,
           0.971460226295582,
           0.995009891738877,
           0.9638624584816698,
           0.9260425209878053,
           0.8934758626830459,
           0.8370578948715075,
           0.8047843687912651,
           0.692968412546247,
           -0.7772002438022164,
           0.6222176551170777,
           -0.8236617585309745,
           0.27909975437050305,
           0.3329475723278254,
           0.3857301384597796,
           0.5360178401597995,
           0.7865120805596107,
           0.9276227536119478,
           -0.5170822611332812,
           -0.200589415783273,
           0.04117729286632718,
           0.2954048942022001,
           0.7010312988297994,
           -0.9209967883253849,
           -0.9913797734089995,
           -0.9905795666983234,
           -0.8796233208027847,
           -0.7807663842985779,
           -0.586818444637402,
           -0.3507356833735885,
           -0.08946934858090125,
           1.2246467991473532e-16,
           0.5409025139964562,
           0.102933093977541,
           0.9062270694177177,
           0.8536768185026081,
           0.7951906563549397,
           0.7627018591992017,
           0.6132074031604913,
           -0.8859841975009742,
           -0.9919207329688972,
           -0.9987357672703673,
           -0.7828843068329921,
           -0.5178245687990938,
           0.7684937215110776,
           0.4970333534489177,
           0.30966786576950717,
           0.21058885278552714,
           0.19158769099413528,
           0.7716836314414135,
           0.5898112774580783,
           0.5380823531633727,
           0.4284989977442779,
           0.37107474546945335,
           0.31219380749178627,
           0.1291454296310388,
           -0.13203510821628228,
           -0.3315102161255596,
           -0.45724232330463876,
           -0.9789627355823733,
           -0.941928033973277,
           -0.6290837847578746,
           -0.5744073560420052,
           -0.3953031761558982,
           -0.1995668013859524,
           -0.13203510821628192,
           -0.9980140428135332,
           0.6937965902938666,
           -0.6519615110608934,
           -0.07815910097584848,
           0.160151437037639,
           -0.4399657349820133,
           0.04491415340250428,
           0.9971423057258662,
           0.2994694952522436,
           -0.5594583690168968,
           -0.8552647073773018,
           -0.9316737771620319,
           -0.980290159664946,
           0.894978107979417,
           0.4555623646116323,
           0.3090169943749474,
           0.9957341762950345,
           0.8935735600081189,
           0.7437786201128002,
           -0.43170070354337864,
           0.9371178300504392,
           0.3744601415850639,
           0.471004914680635,
           0.9805261792257846,
           0.892621585177816,
           0.9532386317049385,
           0.9680482470453816,
           0.9800825610923934,
           0.9847387952546276,
           0.9604926400681311,
           -0.4857896361942355,
           0.6054668486691206,
           -0.1607030555294008,
           0.1120890498033166,
           -0.041170286735918125,
           -0.12906785124408549,
           -0.215960948064036,
           -0.3011733335979765,
           -0.46392155796331114,
           -0.6122560437268387,
           -0.9277704093539078,
           -0.9570470074882947,
           -0.9995673906231852,
           0.6819983600624985,
           0.5591929034707468,
           0.3255681544571567,
           0.27563735581699916,
           0.22495105434386498,
           0.12186934340514748,
           -0.6202354912682606,
           -0.6862416378687339,
           -0.7470250712409963,
           -0.802123192755044,
           0.90630778703665,
           0.2159160203324756,
           0.49173292464560375,
           -0.07486695649610642,
           0.5622009445823273
          ],
          "coloraxis": "coloraxis",
          "symbol": "circle"
         },
         "mode": "markers",
         "name": "",
         "showlegend": false,
         "type": "scattergl",
         "x": [
          "2016-03-31T12:45:00",
          "2016-03-31T13:15:00",
          "2016-03-31T13:00:00",
          "2016-03-29T21:00:00",
          "2016-03-29T15:15:00",
          "2016-03-29T20:15:00",
          "2016-03-24T20:15:00",
          "2016-03-24T19:45:00",
          "2016-03-24T18:00:00",
          "2016-03-24T17:15:00",
          "2016-03-24T16:45:00",
          "2016-03-24T02:30:00",
          "2016-03-24T20:30:00",
          "2016-03-24T01:00:00",
          "2016-03-23T04:30:00",
          "2016-03-23T08:00:00",
          "2016-03-23T08:15:00",
          "2016-03-23T15:00:00",
          "2016-03-23T15:15:00",
          "2016-03-23T16:15:00",
          "2016-03-23T04:15:00",
          "2016-03-24T21:00:00",
          "2016-03-24T21:45:00",
          "2016-03-25T06:00:00",
          "2016-03-29T14:45:00",
          "2016-03-29T14:00:00",
          "2016-03-29T08:15:00",
          "2016-03-29T08:00:00",
          "2016-03-28T01:30:00",
          "2016-03-28T01:15:00",
          "2016-03-26T16:30:00",
          "2016-03-26T02:15:00",
          "2016-03-26T02:00:00",
          "2016-03-26T01:45:00",
          "2016-03-26T00:00:00",
          "2016-03-25T11:15:00",
          "2016-03-25T10:15:00",
          "2016-03-25T07:45:00",
          "2016-03-25T06:30:00",
          "2016-03-29T20:45:00",
          "2016-03-24T00:15:00",
          "2016-04-07T22:30:00",
          "2016-04-08T11:00:00",
          "2016-04-03T19:45:00",
          "2016-04-03T22:30:00",
          "2016-04-03T23:00:00",
          "2016-04-04T06:15:00",
          "2016-04-04T08:30:00",
          "2016-04-04T09:45:00",
          "2016-04-04T10:30:00",
          "2016-04-04T10:45:00",
          "2016-04-04T13:30:00",
          "2016-04-04T13:45:00",
          "2016-04-04T16:15:00",
          "2016-04-04T17:15:00",
          "2016-04-04T17:30:00",
          "2016-04-04T18:45:00",
          "2016-04-04T20:45:00",
          "2016-04-04T21:00:00",
          "2016-04-05T00:00:00",
          "2016-04-02T23:00:00",
          "2016-04-05T00:45:00",
          "2016-04-02T22:45:00",
          "2016-04-02T01:30:00",
          "2016-03-31T13:30:00",
          "2016-03-31T18:15:00",
          "2016-03-31T21:00:00",
          "2016-03-31T21:30:00",
          "2016-03-31T21:45:00",
          "2016-04-01T02:45:00",
          "2016-04-01T03:00:00",
          "2016-04-01T03:30:00",
          "2016-04-01T08:15:00",
          "2016-04-01T09:30:00",
          "2016-04-01T17:00:00",
          "2016-04-01T17:30:00",
          "2016-04-01T20:00:00",
          "2016-04-01T21:00:00",
          "2016-04-01T21:30:00",
          "2016-04-02T00:45:00",
          "2016-04-02T01:00:00",
          "2016-04-02T09:45:00",
          "2016-04-08T11:30:00",
          "2016-04-05T01:00:00",
          "2016-04-05T01:30:00",
          "2016-04-07T03:45:00",
          "2016-04-07T09:00:00",
          "2016-04-07T09:45:00",
          "2016-04-07T16:00:00",
          "2016-04-07T16:15:00",
          "2016-04-07T18:00:00",
          "2016-04-07T18:15:00",
          "2016-04-07T18:45:00",
          "2016-04-07T19:30:00",
          "2016-04-07T19:45:00",
          "2016-04-07T20:45:00",
          "2016-04-07T21:15:00",
          "2016-04-07T22:45:00",
          "2016-04-07T23:45:00",
          "2016-04-08T04:45:00",
          "2016-04-08T05:30:00",
          "2016-04-08T07:15:00",
          "2016-04-07T03:15:00",
          "2016-04-05T01:15:00",
          "2016-04-07T02:45:00",
          "2016-04-07T00:00:00",
          "2016-04-05T04:15:00",
          "2016-04-05T05:00:00",
          "2016-04-05T07:30:00",
          "2016-04-05T14:30:00",
          "2016-04-05T16:15:00",
          "2016-04-05T16:30:00",
          "2016-04-05T17:15:00",
          "2016-04-05T17:45:00",
          "2016-04-05T18:00:00",
          "2016-04-05T19:45:00",
          "2016-04-05T22:15:00",
          "2016-04-06T06:30:00",
          "2016-04-06T06:45:00",
          "2016-04-06T12:15:00",
          "2016-04-06T19:00:00",
          "2016-04-06T20:00:00",
          "2016-04-06T21:45:00",
          "2016-04-07T02:30:00",
          "2016-04-04T13:00:00",
          "2016-03-23T18:00:00",
          "2016-04-04T08:15:00",
          "2016-04-11T13:45:00",
          "2016-04-11T14:00:00",
          "2016-04-12T07:15:00",
          "2016-04-12T07:30:00",
          "2016-04-12T10:00:00",
          "2016-04-12T10:15:00",
          "2016-04-12T10:45:00",
          "2016-04-12T11:15:00",
          "2016-04-12T13:45:00",
          "2016-04-13T10:00:00",
          "2016-04-13T10:45:00",
          "2016-04-13T11:00:00",
          "2016-04-13T12:00:00",
          "2016-04-11T10:15:00",
          "2016-04-13T12:30:00",
          "2016-04-13T14:00:00",
          "2016-04-13T14:15:00",
          "2016-04-13T15:30:00",
          "2016-04-14T04:15:00",
          "2016-04-14T04:30:00",
          "2016-04-14T05:00:00",
          "2016-04-14T21:15:00",
          "2016-04-14T21:45:00",
          "2016-04-15T06:15:00",
          "2016-04-15T14:15:00",
          "2016-04-15T14:45:00",
          "2016-04-15T15:15:00",
          "2016-04-15T15:45:00",
          "2016-04-13T13:30:00",
          "2016-04-11T07:30:00",
          "2016-04-11T07:15:00",
          "2016-04-11T06:00:00",
          "2016-04-08T10:00:00",
          "2016-04-08T10:30:00",
          "2016-04-08T15:15:00",
          "2016-04-08T15:45:00",
          "2016-04-08T17:45:00",
          "2016-04-09T00:45:00",
          "2016-04-09T06:00:00",
          "2016-04-09T08:00:00",
          "2016-04-09T08:15:00",
          "2016-04-09T08:30:00",
          "2016-04-09T09:15:00",
          "2016-04-09T10:45:00",
          "2016-04-09T12:15:00",
          "2016-04-09T13:15:00",
          "2016-04-10T04:00:00",
          "2016-04-10T05:45:00",
          "2016-04-10T06:00:00",
          "2016-04-10T07:15:00",
          "2016-04-10T07:45:00",
          "2016-04-10T08:45:00",
          "2016-04-10T09:45:00",
          "2016-04-10T21:30:00",
          "2016-04-10T21:45:00",
          "2016-04-10T22:00:00",
          "2016-04-10T23:15:00",
          "2016-04-10T23:30:00",
          "2016-04-11T04:00:00",
          "2016-04-11T05:30:00",
          "2016-04-11T05:45:00",
          "2016-04-15T16:45:00",
          "2016-04-15T17:00:00",
          "2016-04-15T17:45:00",
          "2016-04-16T00:15:00",
          "2016-04-20T08:45:00",
          "2016-04-20T09:00:00",
          "2016-04-20T09:15:00",
          "2016-04-20T09:45:00",
          "2016-04-20T13:00:00",
          "2016-04-20T13:30:00",
          "2016-04-20T14:00:00",
          "2016-04-20T14:30:00",
          "2016-04-20T14:45:00",
          "2016-04-20T15:00:00",
          "2016-04-20T15:30:00",
          "2016-04-20T18:45:00",
          "2016-04-20T19:00:00",
          "2016-04-20T19:15:00",
          "2016-04-21T10:30:00",
          "2016-04-21T12:15:00",
          "2016-04-21T13:30:00",
          "2016-04-21T15:15:00",
          "2016-04-21T15:45:00",
          "2016-04-22T04:00:00",
          "2016-04-22T06:00:00",
          "2016-04-22T06:15:00",
          "2016-04-22T09:00:00",
          "2016-04-22T09:15:00",
          "2016-04-22T09:30:00",
          "2016-04-22T11:15:00",
          "2016-04-22T11:45:00",
          "2016-04-22T12:15:00",
          "2016-04-22T13:00:00",
          "2016-04-20T08:00:00",
          "2016-04-08T06:30:00",
          "2016-04-19T13:45:00",
          "2016-04-19T11:00:00",
          "2016-04-16T01:00:00",
          "2016-04-16T01:15:00",
          "2016-04-16T01:30:00",
          "2016-04-16T06:45:00",
          "2016-04-16T07:00:00",
          "2016-04-16T07:15:00",
          "2016-04-16T14:30:00",
          "2016-04-16T14:45:00",
          "2016-04-16T17:30:00",
          "2016-04-16T22:00:00",
          "2016-04-16T22:30:00",
          "2016-04-17T02:00:00",
          "2016-04-17T12:00:00",
          "2016-04-17T13:15:00",
          "2016-04-17T13:45:00",
          "2016-04-17T18:15:00",
          "2016-04-17T19:00:00",
          "2016-04-17T19:45:00",
          "2016-04-17T20:15:00",
          "2016-04-17T21:00:00",
          "2016-04-17T21:15:00",
          "2016-04-18T16:45:00",
          "2016-04-18T17:15:00",
          "2016-04-18T19:30:00",
          "2016-04-18T19:45:00",
          "2016-04-18T20:15:00",
          "2016-04-18T21:30:00",
          "2016-04-19T10:00:00",
          "2016-04-19T10:30:00",
          "2016-04-19T12:00:00",
          "2016-04-08T05:15:00",
          "2016-04-07T23:00:00",
          "2016-04-07T22:15:00",
          "2016-03-29T08:30:00",
          "2016-03-29T08:45:00",
          "2016-03-29T09:15:00",
          "2016-03-29T15:00:00",
          "2016-03-29T18:15:00",
          "2016-03-29T18:45:00",
          "2016-03-29T19:15:00",
          "2016-03-29T21:30:00",
          "2016-03-31T12:00:00",
          "2016-03-31T19:00:00",
          "2016-03-31T19:45:00",
          "2016-03-31T20:15:00",
          "2016-04-01T00:00:00",
          "2016-04-01T00:45:00",
          "2016-04-01T01:30:00",
          "2016-04-01T03:15:00",
          "2016-04-01T09:00:00",
          "2016-04-01T09:15:00",
          "2016-04-01T09:45:00",
          "2016-04-01T10:00:00",
          "2016-04-01T10:15:00",
          "2016-04-01T11:15:00",
          "2016-04-01T11:45:00",
          "2016-04-01T16:15:00",
          "2016-04-01T16:30:00",
          "2016-04-01T16:45:00",
          "2016-04-01T17:15:00",
          "2016-04-01T17:45:00",
          "2016-04-01T18:15:00",
          "2016-03-28T21:30:00",
          "2016-04-01T20:30:00",
          "2016-03-28T21:15:00",
          "2016-03-28T20:30:00",
          "2016-03-23T19:00:00",
          "2016-03-23T19:15:00",
          "2016-03-23T19:45:00",
          "2016-03-24T00:45:00",
          "2016-03-24T02:15:00",
          "2016-03-24T02:45:00",
          "2016-03-24T03:15:00",
          "2016-03-24T16:30:00",
          "2016-03-24T18:45:00",
          "2016-03-24T20:00:00",
          "2016-03-25T07:00:00",
          "2016-03-25T07:15:00",
          "2016-03-25T08:00:00",
          "2016-03-25T08:45:00",
          "2016-03-25T09:00:00",
          "2016-03-25T09:15:00",
          "2016-03-25T11:00:00",
          "2016-03-26T01:00:00",
          "2016-03-26T03:00:00",
          "2016-03-26T03:15:00",
          "2016-03-26T03:45:00",
          "2016-03-26T16:00:00",
          "2016-03-26T16:45:00",
          "2016-03-27T02:00:00",
          "2016-03-27T02:45:00",
          "2016-03-27T03:00:00",
          "2016-03-27T10:00:00",
          "2016-03-27T10:45:00",
          "2016-03-27T11:00:00",
          "2016-03-28T20:45:00",
          "2016-04-22T16:00:00",
          "2016-04-01T20:45:00",
          "2016-04-02T00:15:00",
          "2016-04-05T21:00:00",
          "2016-04-05T22:00:00",
          "2016-04-05T23:30:00",
          "2016-04-06T06:15:00",
          "2016-04-06T07:15:00",
          "2016-04-06T07:30:00",
          "2016-04-06T12:00:00",
          "2016-04-06T12:45:00",
          "2016-04-06T13:15:00",
          "2016-04-06T13:45:00",
          "2016-04-06T19:15:00",
          "2016-04-06T19:45:00",
          "2016-04-06T20:15:00",
          "2016-04-06T20:45:00",
          "2016-04-06T21:00:00",
          "2016-04-06T21:15:00",
          "2016-04-06T21:30:00",
          "2016-04-07T01:15:00",
          "2016-04-07T02:00:00",
          "2016-04-07T03:00:00",
          "2016-04-07T08:30:00",
          "2016-04-07T09:30:00",
          "2016-04-07T13:00:00",
          "2016-04-07T13:15:00",
          "2016-04-07T17:15:00",
          "2016-04-07T18:30:00",
          "2016-04-07T20:00:00",
          "2016-04-07T20:15:00",
          "2016-04-07T22:00:00",
          "2016-04-05T20:45:00",
          "2016-04-01T21:45:00",
          "2016-04-05T19:30:00",
          "2016-04-05T19:00:00",
          "2016-04-02T00:30:00",
          "2016-04-02T08:15:00",
          "2016-04-02T08:30:00",
          "2016-04-02T09:15:00",
          "2016-04-02T09:30:00",
          "2016-04-02T22:30:00",
          "2016-04-04T06:00:00",
          "2016-04-04T07:00:00",
          "2016-04-04T08:00:00",
          "2016-04-04T09:15:00",
          "2016-04-04T11:15:00",
          "2016-04-04T12:30:00",
          "2016-04-04T13:15:00",
          "2016-04-04T19:30:00",
          "2016-04-04T19:45:00",
          "2016-04-04T20:30:00",
          "2016-04-04T21:15:00",
          "2016-04-04T21:30:00",
          "2016-04-05T00:30:00",
          "2016-04-05T02:00:00",
          "2016-04-05T02:30:00",
          "2016-04-05T03:00:00",
          "2016-04-05T05:15:00",
          "2016-04-05T05:45:00",
          "2016-04-05T07:00:00",
          "2016-04-05T14:00:00",
          "2016-04-05T15:00:00",
          "2016-04-05T15:30:00",
          "2016-04-05T17:30:00",
          "2016-04-05T19:15:00",
          "2016-04-22T17:30:00",
          "2016-04-22T18:15:00",
          "2016-04-23T00:30:00",
          "2016-04-09T09:45:00",
          "2016-04-09T08:45:00",
          "2016-04-09T07:15:00",
          "2016-04-09T06:15:00",
          "2016-04-09T01:30:00",
          "2016-04-08T16:15:00",
          "2016-04-08T14:45:00",
          "2016-03-23T09:15:00",
          "2016-03-23T08:45:00",
          "2016-03-23T08:30:00",
          "2016-03-23T07:30:00",
          "2016-03-23T06:15:00",
          "2016-03-23T05:45:00",
          "2016-03-23T05:30:00",
          "2016-03-23T04:00:00",
          "2016-03-23T04:45:00",
          "2016-03-23T06:30:00",
          "2016-03-23T07:15:00",
          "2016-03-23T07:45:00",
          "2016-03-23T14:00:00",
          "2016-03-23T14:30:00",
          "2016-03-23T15:45:00",
          "2016-03-23T16:45:00",
          "2016-03-23T17:00:00",
          "2016-03-23T18:45:00",
          "2016-03-24T00:00:00",
          "2016-03-24T00:30:00",
          "2016-03-24T01:15:00",
          "2016-03-24T16:15:00",
          "2016-04-09T10:00:00",
          "2016-03-24T17:30:00",
          "2016-04-09T11:00:00",
          "2016-04-09T11:30:00",
          "2016-04-12T08:15:00",
          "2016-04-12T08:00:00",
          "2016-04-12T06:15:00",
          "2016-04-12T05:15:00",
          "2016-04-12T05:00:00",
          "2016-04-11T14:30:00",
          "2016-04-11T12:45:00",
          "2016-04-11T12:30:00",
          "2016-04-11T11:30:00",
          "2016-04-11T11:15:00",
          "2016-04-11T10:45:00",
          "2016-04-11T07:00:00",
          "2016-04-11T06:45:00",
          "2016-04-11T05:00:00",
          "2016-04-11T04:45:00",
          "2016-04-10T22:45:00",
          "2016-04-10T21:15:00",
          "2016-04-10T21:00:00",
          "2016-04-10T09:15:00",
          "2016-04-10T09:00:00",
          "2016-04-10T08:30:00",
          "2016-04-10T08:00:00",
          "2016-04-10T05:30:00",
          "2016-04-10T04:45:00",
          "2016-04-10T04:15:00",
          "2016-04-09T13:45:00",
          "2016-04-09T13:30:00",
          "2016-04-09T12:30:00",
          "2016-04-09T12:00:00",
          "2016-04-09T11:15:00",
          "2016-04-12T09:30:00",
          "2016-03-24T19:30:00",
          "2016-03-24T21:15:00",
          "2016-03-31T19:15:00",
          "2016-03-31T19:30:00",
          "2016-03-31T20:00:00",
          "2016-03-31T20:30:00",
          "2016-04-01T00:30:00",
          "2016-04-01T01:15:00",
          "2016-04-01T01:45:00",
          "2016-04-01T08:30:00",
          "2016-04-01T08:45:00",
          "2016-04-01T10:45:00",
          "2016-04-01T11:00:00",
          "2016-04-01T11:30:00",
          "2016-04-01T16:00:00",
          "2016-04-01T18:00:00",
          "2016-04-01T19:00:00",
          "2016-04-01T19:45:00",
          "2016-04-02T01:15:00",
          "2016-04-02T01:45:00",
          "2016-04-02T08:00:00",
          "2016-04-02T22:00:00",
          "2016-04-02T22:15:00",
          "2016-04-02T23:45:00",
          "2016-04-03T18:00:00",
          "2016-04-03T18:15:00",
          "2016-04-03T22:45:00",
          "2016-04-03T23:45:00",
          "2016-04-04T06:30:00",
          "2016-04-04T07:15:00",
          "2016-04-04T07:30:00",
          "2016-03-31T18:45:00",
          "2016-03-24T20:45:00",
          "2016-03-31T13:45:00",
          "2016-03-29T21:45:00",
          "2016-03-25T06:15:00",
          "2016-03-25T08:15:00",
          "2016-03-25T09:45:00",
          "2016-03-26T00:15:00",
          "2016-03-26T00:30:00",
          "2016-03-26T00:45:00",
          "2016-03-26T01:30:00",
          "2016-03-26T02:45:00",
          "2016-03-26T17:00:00",
          "2016-03-26T17:15:00",
          "2016-03-27T02:15:00",
          "2016-03-27T02:30:00",
          "2016-03-27T03:15:00",
          "2016-03-27T10:15:00",
          "2016-03-27T11:15:00",
          "2016-03-27T11:30:00",
          "2016-03-28T00:00:00",
          "2016-03-28T00:15:00",
          "2016-03-28T00:45:00",
          "2016-03-28T01:00:00",
          "2016-03-28T20:00:00",
          "2016-03-28T21:00:00",
          "2016-03-29T09:45:00",
          "2016-03-29T14:30:00",
          "2016-03-29T15:45:00",
          "2016-03-29T18:00:00",
          "2016-03-29T19:00:00",
          "2016-03-29T20:00:00",
          "2016-03-29T21:15:00",
          "2016-03-31T12:15:00",
          "2016-03-23T16:00:00",
          "2016-04-12T11:00:00",
          "2016-04-12T12:30:00",
          "2016-04-23T01:00:00",
          "2016-04-23T00:45:00",
          "2016-04-22T19:45:00",
          "2016-04-22T19:15:00",
          "2016-04-22T18:00:00",
          "2016-04-22T16:45:00",
          "2016-04-22T13:30:00",
          "2016-04-22T12:45:00",
          "2016-04-22T12:30:00",
          "2016-04-22T12:00:00",
          "2016-04-22T11:00:00",
          "2016-04-22T09:45:00",
          "2016-04-22T08:00:00",
          "2016-04-22T07:45:00",
          "2016-04-22T07:30:00",
          "2016-04-22T05:00:00",
          "2016-04-22T04:30:00",
          "2016-04-21T15:00:00",
          "2016-04-21T14:45:00",
          "2016-04-21T13:00:00",
          "2016-04-21T12:30:00",
          "2016-04-21T12:00:00",
          "2016-03-23T09:45:00",
          "2016-04-21T11:30:00",
          "2016-04-21T10:45:00",
          "2016-04-20T19:45:00",
          "2016-04-20T18:00:00",
          "2016-04-20T17:45:00",
          "2016-04-20T17:00:00",
          "2016-04-23T01:15:00",
          "2016-04-20T13:45:00",
          "2016-04-23T01:45:00",
          "2016-04-23T05:30:00",
          "2016-04-23T04:00:00",
          "2016-04-23T07:15:00",
          "2016-04-23T08:30:00",
          "2016-04-23T11:30:00",
          "2016-04-23T20:00:00",
          "2016-04-23T20:15:00",
          "2016-04-23T20:45:00",
          "2016-04-23T22:00:00",
          "2016-04-24T03:45:00",
          "2016-04-24T06:30:00",
          "2016-04-24T07:00:00",
          "2016-04-24T07:30:00",
          "2016-04-24T06:45:00",
          "2016-04-24T06:15:00",
          "2016-04-24T04:30:00",
          "2016-04-24T03:30:00",
          "2016-04-24T02:30:00",
          "2016-04-24T02:15:00",
          "2016-04-23T23:45:00",
          "2016-04-23T22:45:00",
          "2016-04-23T22:15:00",
          "2016-04-23T21:45:00",
          "2016-04-23T21:00:00",
          "2016-04-23T20:30:00",
          "2016-04-23T09:15:00",
          "2016-04-23T09:00:00",
          "2016-04-23T07:45:00",
          "2016-04-23T07:00:00",
          "2016-04-23T06:30:00",
          "2016-04-23T04:30:00",
          "2016-04-12T11:45:00",
          "2016-04-20T08:30:00",
          "2016-04-20T00:45:00",
          "2016-04-16T00:00:00",
          "2016-04-15T16:30:00",
          "2016-04-15T15:00:00",
          "2016-04-15T07:45:00",
          "2016-04-15T07:15:00",
          "2016-04-15T06:45:00",
          "2016-04-14T23:15:00",
          "2016-04-14T21:00:00",
          "2016-04-14T20:30:00",
          "2016-04-14T07:45:00",
          "2016-04-14T07:00:00",
          "2016-04-14T06:30:00",
          "2016-04-14T05:30:00",
          "2016-04-14T03:45:00",
          "2016-04-14T03:30:00",
          "2016-04-14T03:15:00",
          "2016-04-14T02:30:00",
          "2016-04-14T02:15:00",
          "2016-04-13T14:45:00",
          "2016-04-13T13:45:00",
          "2016-04-13T12:15:00",
          "2016-04-13T11:45:00",
          "2016-04-13T11:30:00",
          "2016-04-13T10:30:00",
          "2016-04-13T10:15:00",
          "2016-04-12T17:00:00",
          "2016-04-12T16:30:00",
          "2016-04-12T16:00:00",
          "2016-04-12T13:00:00",
          "2016-04-16T07:45:00",
          "2016-04-20T01:30:00",
          "2016-04-16T15:15:00",
          "2016-04-16T16:45:00",
          "2016-04-20T00:30:00",
          "2016-04-19T15:30:00",
          "2016-04-19T15:00:00",
          "2016-04-19T14:45:00",
          "2016-04-19T12:45:00",
          "2016-04-19T11:30:00",
          "2016-04-18T21:45:00",
          "2016-04-18T20:45:00",
          "2016-04-18T19:00:00",
          "2016-04-18T18:30:00",
          "2016-04-18T18:15:00",
          "2016-04-18T18:00:00",
          "2016-04-18T16:30:00",
          "2016-04-18T16:00:00",
          "2016-04-17T21:30:00",
          "2016-04-17T20:30:00",
          "2016-04-17T19:30:00",
          "2016-04-17T18:30:00",
          "2016-04-17T13:00:00",
          "2016-04-17T12:15:00",
          "2016-04-17T03:30:00",
          "2016-04-17T03:00:00",
          "2016-04-16T22:45:00",
          "2016-04-16T22:15:00",
          "2016-04-16T21:45:00",
          "2016-04-16T20:30:00",
          "2016-04-16T20:15:00",
          "2016-04-16T17:45:00",
          "2016-04-16T17:00:00",
          "2016-04-16T15:30:00",
          "2016-04-21T11:45:00",
          "2016-03-31T18:00:00",
          "2016-04-04T10:15:00",
          "2016-04-05T20:15:00",
          "2016-04-05T18:45:00",
          "2016-04-05T16:45:00",
          "2016-04-05T16:00:00",
          "2016-04-05T15:15:00",
          "2016-04-05T14:45:00",
          "2016-04-05T14:15:00",
          "2016-04-05T06:15:00",
          "2016-04-05T04:45:00",
          "2016-04-05T04:30:00",
          "2016-04-05T04:00:00",
          "2016-04-05T03:15:00",
          "2016-04-05T02:45:00",
          "2016-04-04T21:45:00",
          "2016-04-04T20:00:00",
          "2016-04-04T19:15:00",
          "2016-04-04T19:00:00",
          "2016-04-03T23:15:00",
          "2016-04-03T23:30:00",
          "2016-04-04T06:45:00",
          "2016-04-04T07:45:00",
          "2016-04-04T08:45:00",
          "2016-04-04T09:00:00",
          "2016-04-05T21:15:00",
          "2016-04-04T09:30:00",
          "2016-04-04T12:45:00",
          "2016-04-04T16:30:00",
          "2016-04-04T16:45:00",
          "2016-04-04T17:00:00",
          "2016-04-04T18:00:00",
          "2016-04-04T18:15:00",
          "2016-04-04T12:15:00",
          "2016-04-03T22:15:00",
          "2016-04-05T21:30:00",
          "2016-04-05T22:45:00",
          "2016-04-08T11:45:00",
          "2016-04-08T11:15:00",
          "2016-04-08T10:45:00",
          "2016-04-08T10:15:00",
          "2016-04-08T07:00:00",
          "2016-04-08T06:45:00",
          "2016-04-08T06:15:00",
          "2016-04-08T06:00:00",
          "2016-04-08T04:30:00",
          "2016-04-08T04:00:00",
          "2016-04-07T23:30:00",
          "2016-04-07T21:30:00",
          "2016-04-07T19:00:00",
          "2016-04-07T17:30:00",
          "2016-04-07T13:45:00",
          "2016-04-07T12:45:00",
          "2016-04-07T12:30:00",
          "2016-04-05T23:15:00",
          "2016-04-06T07:00:00",
          "2016-04-06T07:45:00",
          "2016-04-06T18:00:00",
          "2016-04-06T18:45:00",
          "2016-04-06T19:30:00",
          "2016-04-05T22:30:00",
          "2016-04-07T00:30:00",
          "2016-04-07T02:15:00",
          "2016-04-07T03:30:00",
          "2016-04-07T08:45:00",
          "2016-04-07T09:15:00",
          "2016-04-07T12:00:00",
          "2016-04-07T12:15:00",
          "2016-04-07T01:30:00",
          "2016-04-08T14:15:00",
          "2016-04-03T22:00:00",
          "2016-04-03T19:15:00",
          "2016-03-28T20:15:00",
          "2016-03-28T01:45:00",
          "2016-03-28T00:30:00",
          "2016-03-27T11:45:00",
          "2016-03-27T10:30:00",
          "2016-03-27T03:45:00",
          "2016-03-27T03:30:00",
          "2016-03-26T17:45:00",
          "2016-03-26T17:30:00",
          "2016-03-26T16:15:00",
          "2016-03-26T03:30:00",
          "2016-03-26T02:30:00",
          "2016-03-26T01:15:00",
          "2016-03-25T11:45:00",
          "2016-03-25T11:30:00",
          "2016-03-25T10:45:00",
          "2016-03-25T10:30:00",
          "2016-03-24T03:45:00",
          "2016-03-24T16:00:00",
          "2016-03-24T17:00:00",
          "2016-03-24T17:45:00",
          "2016-03-24T18:15:00",
          "2016-03-24T18:30:00",
          "2016-03-28T21:45:00",
          "2016-03-24T19:00:00",
          "2016-03-24T21:30:00",
          "2016-03-25T06:45:00",
          "2016-03-25T07:30:00",
          "2016-03-25T08:30:00",
          "2016-03-25T09:30:00",
          "2016-03-25T10:00:00",
          "2016-03-24T19:15:00",
          "2016-04-03T19:30:00",
          "2016-03-29T09:00:00",
          "2016-03-29T14:15:00",
          "2016-04-03T19:00:00",
          "2016-04-03T18:45:00",
          "2016-04-03T18:30:00",
          "2016-04-02T23:30:00",
          "2016-04-02T23:15:00",
          "2016-04-02T09:00:00",
          "2016-04-02T08:45:00",
          "2016-04-02T00:00:00",
          "2016-04-01T21:15:00",
          "2016-04-01T20:15:00",
          "2016-04-01T19:30:00",
          "2016-04-01T19:15:00",
          "2016-04-01T18:45:00",
          "2016-04-01T18:30:00",
          "2016-04-01T10:30:00",
          "2016-04-01T08:00:00",
          "2016-04-01T03:45:00",
          "2016-03-29T15:30:00",
          "2016-03-29T18:30:00",
          "2016-03-29T19:30:00",
          "2016-03-29T19:45:00",
          "2016-03-29T20:30:00",
          "2016-03-31T12:30:00",
          "2016-03-29T09:30:00",
          "2016-03-31T18:30:00",
          "2016-03-31T21:15:00",
          "2016-04-01T00:15:00",
          "2016-04-01T01:00:00",
          "2016-04-01T02:00:00",
          "2016-04-01T02:15:00",
          "2016-04-01T02:30:00",
          "2016-03-31T20:45:00",
          "2016-03-24T03:30:00",
          "2016-04-08T16:45:00",
          "2016-04-08T17:30:00",
          "2016-04-22T06:30:00",
          "2016-04-22T05:45:00",
          "2016-04-22T05:15:00",
          "2016-04-22T04:45:00",
          "2016-04-21T15:30:00",
          "2016-04-21T10:00:00",
          "2016-04-20T19:30:00",
          "2016-04-20T18:30:00",
          "2016-04-20T17:15:00",
          "2016-04-20T16:45:00",
          "2016-04-20T16:30:00",
          "2016-04-20T14:15:00",
          "2016-04-20T13:15:00",
          "2016-04-20T09:30:00",
          "2016-04-20T08:15:00",
          "2016-04-20T01:45:00",
          "2016-04-20T01:15:00",
          "2016-04-17T19:15:00",
          "2016-04-17T20:45:00",
          "2016-04-18T17:30:00",
          "2016-04-18T17:45:00",
          "2016-04-18T18:45:00",
          "2016-04-18T19:15:00",
          "2016-04-22T06:45:00",
          "2016-04-18T21:00:00",
          "2016-04-19T12:15:00",
          "2016-04-19T12:30:00",
          "2016-04-19T13:30:00",
          "2016-04-19T14:00:00",
          "2016-04-20T00:00:00",
          "2016-04-20T01:00:00",
          "2016-04-19T10:15:00",
          "2016-04-17T18:00:00",
          "2016-04-22T08:30:00",
          "2016-04-22T10:15:00",
          "2016-04-24T07:15:00",
          "2016-04-24T05:45:00",
          "2016-04-24T05:30:00",
          "2016-04-24T05:15:00",
          "2016-04-24T04:00:00",
          "2016-04-24T02:45:00",
          "2016-04-23T23:30:00",
          "2016-04-23T23:15:00",
          "2016-04-23T23:00:00",
          "2016-04-23T21:30:00",
          "2016-04-23T21:15:00",
          "2016-04-23T11:45:00",
          "2016-04-23T11:00:00",
          "2016-04-23T10:45:00",
          "2016-04-23T10:15:00",
          "2016-04-23T10:00:00",
          "2016-04-23T09:30:00",
          "2016-04-22T10:45:00",
          "2016-04-22T13:15:00",
          "2016-04-22T13:45:00",
          "2016-04-22T16:15:00",
          "2016-04-22T16:30:00",
          "2016-04-22T17:00:00",
          "2016-04-22T08:45:00",
          "2016-04-22T17:15:00",
          "2016-04-23T00:00:00",
          "2016-04-23T04:15:00",
          "2016-04-23T04:45:00",
          "2016-04-23T05:00:00",
          "2016-04-23T06:15:00",
          "2016-04-23T08:00:00",
          "2016-04-22T18:30:00",
          "2016-04-08T17:00:00",
          "2016-04-17T12:45:00",
          "2016-04-17T02:15:00",
          "2016-04-12T05:30:00",
          "2016-04-12T04:45:00",
          "2016-04-11T15:45:00",
          "2016-04-11T15:30:00",
          "2016-04-11T15:15:00",
          "2016-04-11T15:00:00",
          "2016-04-11T14:45:00",
          "2016-04-11T13:00:00",
          "2016-04-11T12:00:00",
          "2016-04-11T11:45:00",
          "2016-04-11T11:00:00",
          "2016-04-11T10:00:00",
          "2016-04-11T07:45:00",
          "2016-04-11T06:30:00",
          "2016-04-11T04:15:00",
          "2016-04-10T23:45:00",
          "2016-04-10T23:00:00",
          "2016-04-09T00:00:00",
          "2016-04-09T00:15:00",
          "2016-04-09T01:00:00",
          "2016-04-09T01:15:00",
          "2016-04-09T06:45:00",
          "2016-04-09T09:30:00",
          "2016-04-12T06:00:00",
          "2016-04-09T10:30:00",
          "2016-04-09T13:00:00",
          "2016-04-10T05:00:00",
          "2016-04-10T06:15:00",
          "2016-04-10T06:45:00",
          "2016-04-10T07:00:00",
          "2016-04-10T22:15:00",
          "2016-04-09T12:45:00",
          "2016-04-17T12:30:00",
          "2016-04-12T06:45:00",
          "2016-04-12T09:00:00",
          "2016-04-16T23:45:00",
          "2016-04-16T23:15:00",
          "2016-04-16T21:30:00",
          "2016-04-16T16:30:00",
          "2016-04-16T16:00:00",
          "2016-04-16T15:00:00",
          "2016-04-16T06:30:00",
          "2016-04-16T06:15:00",
          "2016-04-16T01:45:00",
          "2016-04-16T00:30:00",
          "2016-04-15T16:15:00",
          "2016-04-15T16:00:00",
          "2016-04-15T15:30:00",
          "2016-04-15T14:00:00",
          "2016-04-14T23:00:00",
          "2016-04-14T22:45:00",
          "2016-04-14T20:00:00",
          "2016-04-12T09:45:00",
          "2016-04-12T11:30:00",
          "2016-04-12T13:15:00",
          "2016-04-12T13:30:00",
          "2016-04-12T16:15:00",
          "2016-04-12T16:45:00",
          "2016-04-12T08:30:00",
          "2016-04-12T17:15:00",
          "2016-04-13T13:00:00",
          "2016-04-13T15:45:00",
          "2016-04-14T02:00:00",
          "2016-04-14T06:15:00",
          "2016-04-14T06:45:00",
          "2016-04-14T07:15:00",
          "2016-04-12T17:30:00",
          "2016-03-24T03:00:00",
          "2016-04-14T20:15:00",
          "2016-03-24T01:45:00",
          "2016-04-12T10:30:00",
          "2016-04-12T09:15:00",
          "2016-04-12T08:45:00",
          "2016-04-12T07:45:00",
          "2016-04-12T07:00:00",
          "2016-04-12T06:30:00",
          "2016-04-12T05:45:00",
          "2016-04-12T04:30:00",
          "2016-04-12T04:15:00",
          "2016-04-12T04:00:00",
          "2016-04-11T14:15:00",
          "2016-04-11T13:30:00",
          "2016-04-11T13:15:00",
          "2016-04-11T12:15:00",
          "2016-04-11T10:30:00",
          "2016-04-11T06:15:00",
          "2016-04-11T05:15:00",
          "2016-04-09T10:15:00",
          "2016-04-09T11:45:00",
          "2016-04-10T04:30:00",
          "2016-04-10T05:15:00",
          "2016-04-10T06:30:00",
          "2016-04-10T07:30:00",
          "2016-04-12T12:00:00",
          "2016-04-10T08:15:00",
          "2016-04-10T20:00:00",
          "2016-04-10T20:15:00",
          "2016-04-10T20:30:00",
          "2016-04-10T20:45:00",
          "2016-04-10T22:30:00",
          "2016-04-11T04:30:00",
          "2016-04-10T09:30:00",
          "2016-04-09T09:00:00",
          "2016-04-12T12:15:00",
          "2016-04-12T17:45:00",
          "2016-04-16T07:30:00",
          "2016-04-16T06:00:00",
          "2016-04-16T00:45:00",
          "2016-04-15T17:30:00",
          "2016-04-15T17:15:00",
          "2016-04-15T14:30:00",
          "2016-04-15T07:30:00",
          "2016-04-15T07:00:00",
          "2016-04-15T06:30:00",
          "2016-04-15T06:00:00",
          "2016-04-14T23:45:00",
          "2016-04-14T23:30:00",
          "2016-04-14T22:30:00",
          "2016-04-14T22:15:00",
          "2016-04-14T22:00:00",
          "2016-04-14T21:30:00",
          "2016-04-14T20:45:00",
          "2016-04-13T11:15:00",
          "2016-04-13T12:45:00",
          "2016-04-13T13:15:00",
          "2016-04-13T14:30:00",
          "2016-04-13T15:00:00",
          "2016-04-13T15:15:00",
          "2016-04-12T12:45:00",
          "2016-04-14T02:45:00",
          "2016-04-14T04:00:00",
          "2016-04-14T04:45:00",
          "2016-04-14T05:15:00",
          "2016-04-14T05:45:00",
          "2016-04-14T06:00:00",
          "2016-04-14T07:30:00",
          "2016-04-14T03:00:00",
          "2016-04-16T14:00:00",
          "2016-04-09T07:45:00",
          "2016-04-09T07:00:00",
          "2016-04-06T12:30:00",
          "2016-04-06T06:00:00",
          "2016-04-05T23:45:00",
          "2016-04-05T23:00:00",
          "2016-04-05T21:45:00",
          "2016-04-05T20:30:00",
          "2016-04-05T20:00:00",
          "2016-04-05T18:30:00",
          "2016-04-05T18:15:00",
          "2016-04-05T17:00:00",
          "2016-04-05T15:45:00",
          "2016-04-05T07:45:00",
          "2016-04-05T07:15:00",
          "2016-04-05T06:45:00",
          "2016-04-05T06:30:00",
          "2016-04-05T06:00:00",
          "2016-04-05T05:30:00",
          "2016-03-24T02:00:00",
          "2016-04-04T11:00:00",
          "2016-04-04T11:30:00",
          "2016-04-04T11:45:00",
          "2016-04-04T12:00:00",
          "2016-04-04T16:00:00",
          "2016-04-06T13:00:00",
          "2016-04-04T17:45:00",
          "2016-04-04T20:15:00",
          "2016-04-05T00:15:00",
          "2016-04-05T01:45:00",
          "2016-04-05T02:15:00",
          "2016-04-05T03:30:00",
          "2016-04-05T03:45:00",
          "2016-04-04T18:30:00",
          "2016-04-09T07:30:00",
          "2016-04-06T13:30:00",
          "2016-04-06T18:30:00",
          "2016-04-09T06:30:00",
          "2016-04-09T01:45:00",
          "2016-04-09T00:30:00",
          "2016-04-08T17:15:00",
          "2016-04-08T16:30:00",
          "2016-04-08T16:00:00",
          "2016-04-08T15:30:00",
          "2016-04-08T15:00:00",
          "2016-04-08T14:30:00",
          "2016-04-08T14:00:00",
          "2016-04-08T07:45:00",
          "2016-04-08T07:30:00",
          "2016-04-08T05:45:00",
          "2016-04-08T04:15:00",
          "2016-04-07T23:15:00",
          "2016-04-07T21:45:00",
          "2016-04-07T21:00:00",
          "2016-04-06T20:30:00",
          "2016-04-07T00:15:00",
          "2016-04-07T00:45:00",
          "2016-04-07T01:00:00",
          "2016-04-07T01:45:00",
          "2016-04-07T08:00:00",
          "2016-04-06T18:15:00",
          "2016-04-07T08:15:00",
          "2016-04-07T16:30:00",
          "2016-04-07T16:45:00",
          "2016-04-07T17:00:00",
          "2016-04-07T17:45:00",
          "2016-04-07T19:15:00",
          "2016-04-07T20:30:00",
          "2016-04-07T13:30:00",
          "2016-04-16T14:15:00",
          "2016-04-08T05:00:00",
          "2016-04-16T16:15:00",
          "2016-04-24T02:00:00",
          "2016-04-23T11:15:00",
          "2016-04-23T10:30:00",
          "2016-04-23T09:45:00",
          "2016-04-23T08:45:00",
          "2016-04-23T08:15:00",
          "2016-04-23T07:30:00",
          "2016-04-23T06:45:00",
          "2016-04-23T06:00:00",
          "2016-04-23T05:45:00",
          "2016-04-24T03:00:00",
          "2016-04-23T05:15:00",
          "2016-04-23T00:15:00",
          "2016-04-22T19:30:00",
          "2016-04-22T19:00:00",
          "2016-04-22T18:45:00",
          "2016-04-22T17:45:00",
          "2016-04-22T11:30:00",
          "2016-04-22T10:30:00",
          "2016-04-22T10:00:00",
          "2016-04-22T08:15:00",
          "2016-04-22T07:15:00",
          "2016-04-23T01:30:00",
          "2016-04-24T03:15:00",
          "2016-04-24T04:15:00",
          "2016-04-24T04:45:00",
          "2016-04-16T15:45:00",
          "2016-03-23T19:30:00",
          "2016-03-23T18:30:00",
          "2016-03-23T18:15:00",
          "2016-03-23T17:45:00",
          "2016-03-23T17:30:00",
          "2016-03-23T17:15:00",
          "2016-03-23T16:30:00",
          "2016-03-23T15:30:00",
          "2016-03-23T14:45:00",
          "2016-03-23T14:15:00",
          "2016-03-23T09:30:00",
          "2016-03-23T09:00:00",
          "2016-03-23T07:00:00",
          "2016-03-23T06:45:00",
          "2016-03-23T06:00:00",
          "2016-03-23T05:15:00",
          "2016-03-23T05:00:00",
          "2016-04-04T10:00:00",
          "2016-03-24T01:30:00",
          "2016-04-24T07:45:00",
          "2016-04-24T06:00:00",
          "2016-04-24T05:00:00",
          "2016-04-22T07:00:00",
          "2016-04-22T05:30:00",
          "2016-04-23T22:30:00",
          "2016-04-22T04:15:00",
          "2016-04-19T13:00:00",
          "2016-04-19T11:45:00",
          "2016-04-19T11:15:00",
          "2016-04-19T10:45:00",
          "2016-04-18T20:00:00",
          "2016-04-18T17:00:00",
          "2016-04-18T16:15:00",
          "2016-04-17T21:45:00",
          "2016-04-17T20:00:00",
          "2016-04-17T18:45:00",
          "2016-04-17T13:30:00",
          "2016-04-18T20:30:00",
          "2016-04-17T03:45:00",
          "2016-04-17T03:15:00",
          "2016-04-18T21:15:00",
          "2016-04-16T20:00:00",
          "2016-04-16T20:45:00",
          "2016-04-16T21:00:00",
          "2016-04-16T21:15:00",
          "2016-04-16T23:00:00",
          "2016-04-16T23:30:00",
          "2016-04-19T13:15:00",
          "2016-04-17T02:30:00",
          "2016-04-19T14:15:00",
          "2016-04-19T15:15:00",
          "2016-04-21T14:30:00",
          "2016-04-21T14:15:00",
          "2016-04-21T14:00:00",
          "2016-04-21T13:45:00",
          "2016-04-21T13:15:00",
          "2016-04-21T12:45:00",
          "2016-04-21T11:15:00",
          "2016-04-21T11:00:00",
          "2016-04-21T10:15:00",
          "2016-04-20T18:15:00",
          "2016-04-20T17:30:00",
          "2016-04-20T16:15:00",
          "2016-04-20T16:00:00",
          "2016-04-20T15:45:00",
          "2016-04-20T15:15:00",
          "2016-04-20T12:45:00",
          "2016-04-20T12:30:00",
          "2016-04-20T12:15:00",
          "2016-04-20T12:00:00",
          "2016-04-20T00:15:00",
          "2016-04-19T15:45:00",
          "2016-04-16T17:15:00",
          "2016-04-19T14:30:00",
          "2016-04-17T02:45:00"
         ],
         "xaxis": "x",
         "y": [
          2.5,
          3.5,
          2.5,
          8,
          0.5,
          63,
          40,
          15,
          0.5,
          0.5,
          1.5,
          21,
          35.5,
          36,
          9.5,
          7,
          7,
          44.5,
          44.5,
          7.5,
          7.5,
          35.5,
          27.5,
          21,
          1,
          2.5,
          3.5,
          2.5,
          32,
          25.5,
          28,
          9,
          5.5,
          39.5,
          12.5,
          69.5,
          46.5,
          50.5,
          33.5,
          4,
          1.5,
          3,
          2,
          16,
          4.5,
          24,
          0.5,
          6,
          20,
          5,
          47,
          32,
          2.5,
          14.5,
          9,
          17.5,
          21.5,
          57.5,
          35.5,
          56.5,
          2,
          56.5,
          2,
          3,
          3.5,
          4,
          2.5,
          3.5,
          2.5,
          1.5,
          1.5,
          11,
          1,
          1.5,
          1,
          1,
          1,
          2.5,
          2.5,
          1.5,
          2,
          3.5,
          1.5,
          66.5,
          56.5,
          1.5,
          1.5,
          0.5,
          2,
          0.5,
          20,
          7,
          2.5,
          3.5,
          3.5,
          3,
          9,
          1.5,
          2,
          2,
          2,
          1,
          1,
          52,
          2,
          2,
          50,
          10,
          17,
          5,
          2.5,
          9.5,
          1.5,
          0.5,
          1,
          2,
          68.5,
          1.5,
          0.5,
          1,
          2,
          1.5,
          1.5,
          1.5,
          11,
          6.5,
          12.5,
          18,
          1,
          30,
          21,
          35,
          35,
          44,
          3.5,
          13.5,
          170,
          130,
          151.5,
          125,
          28.5,
          83,
          28,
          3.5,
          34.5,
          1,
          1,
          1,
          1.5,
          1.5,
          1,
          1,
          0.5,
          1,
          2.5,
          23.5,
          18.5,
          6,
          22,
          0.5,
          0.5,
          6,
          10,
          95.5,
          1.5,
          1.5,
          1.5,
          2,
          1.5,
          1.5,
          1.5,
          1,
          1.5,
          1.5,
          0.5,
          0.5,
          1,
          0.5,
          0.5,
          0.5,
          1.5,
          1.5,
          2,
          9.5,
          3,
          28,
          33,
          33,
          49,
          49,
          68.5,
          0.5,
          61.5,
          61.5,
          61.5,
          55.5,
          27,
          22,
          20,
          20,
          20,
          23.5,
          8,
          67,
          67,
          76,
          37,
          39.5,
          71,
          25.5,
          25.5,
          7.5,
          13,
          14.5,
          62,
          51.5,
          93,
          88,
          78,
          91.5,
          81.5,
          70,
          1.5,
          107.5,
          73.5,
          1,
          1.5,
          1,
          2,
          0.5,
          0.5,
          0.5,
          0.5,
          7,
          2.5,
          2,
          2,
          45,
          55.5,
          24,
          17.5,
          26.5,
          6,
          3.5,
          41,
          41,
          1,
          1,
          78.5,
          94,
          104,
          99,
          2,
          2,
          33.5,
          0.5,
          2,
          5.5,
          31,
          5,
          5,
          0.5,
          1.5,
          0.5,
          1.5,
          5.5,
          3.5,
          27,
          4,
          39,
          2.5,
          2.5,
          1.5,
          1.5,
          1,
          1.5,
          2,
          11,
          0.5,
          11,
          8.5,
          7,
          1,
          1,
          0.5,
          1.5,
          1.5,
          18,
          2.5,
          18,
          62.5,
          5,
          5,
          3.5,
          1.5,
          25,
          30,
          30,
          1.5,
          19.5,
          40,
          50.5,
          43,
          36,
          28.5,
          6,
          16,
          51,
          3.5,
          25.5,
          25.5,
          44.5,
          33.5,
          28,
          11,
          16,
          16,
          26,
          20.5,
          20.5,
          62.5,
          56.5,
          2,
          1.5,
          76.5,
          80,
          31.5,
          1,
          0.5,
          0.5,
          1.5,
          1,
          2,
          0.5,
          1.5,
          1.5,
          2,
          2,
          1.5,
          1.5,
          1.5,
          2,
          1.5,
          1.5,
          0.5,
          0.5,
          1,
          1,
          3,
          7,
          20.5,
          20.5,
          3,
          66,
          2,
          1.5,
          1.5,
          1.5,
          2.5,
          2.5,
          9,
          2.5,
          1,
          0.5,
          1,
          6,
          51,
          47,
          32,
          32,
          57.5,
          16.5,
          65,
          57.5,
          65,
          52,
          51.5,
          51.5,
          29,
          10,
          12.5,
          53,
          17.5,
          14,
          1.5,
          1.5,
          1.5,
          65.5,
          40,
          108,
          1.5,
          2,
          1.5,
          2,
          2.5,
          6,
          25.5,
          7,
          7,
          8.5,
          6.5,
          7.5,
          9.5,
          9.5,
          9.5,
          9.5,
          9.5,
          14.5,
          7.5,
          25.5,
          32,
          14.5,
          9,
          7.5,
          5,
          14.5,
          2,
          31,
          0.5,
          1.5,
          5,
          2,
          1,
          30.5,
          35.5,
          18.5,
          26,
          37.5,
          12,
          18,
          18,
          23.5,
          36,
          23.5,
          18.5,
          15.5,
          51,
          41,
          1.5,
          3.5,
          1.5,
          0.5,
          0.5,
          0.5,
          0.5,
          1,
          2,
          2,
          1,
          1.5,
          1,
          1,
          1.5,
          6.5,
          34.5,
          18.5,
          40.5,
          18.5,
          13.5,
          3.5,
          3.5,
          2.5,
          2,
          1.5,
          1,
          11,
          6.5,
          11,
          1,
          1.5,
          1.5,
          1.5,
          1.5,
          18,
          2.5,
          1.5,
          0.5,
          1.5,
          28.5,
          20,
          16,
          13,
          1,
          31,
          26,
          15.5,
          35.5,
          3.5,
          8,
          37,
          28.5,
          28.5,
          28,
          28,
          33.5,
          33.5,
          20.5,
          33.5,
          40,
          7,
          16,
          20,
          20.5,
          20.5,
          31,
          1,
          1,
          32,
          20.5,
          62.5,
          14.5,
          10,
          1.5,
          1,
          1.5,
          1.5,
          45,
          5.5,
          3.5,
          1.5,
          35,
          31.5,
          108,
          116.5,
          129.5,
          103,
          45.5,
          74,
          40.5,
          50.5,
          32.5,
          81.5,
          88,
          73,
          62,
          72,
          72,
          15.5,
          7.5,
          17.5,
          5.5,
          39.5,
          59.5,
          28,
          8.5,
          52,
          52,
          41.5,
          26.5,
          12,
          12,
          97,
          17.5,
          97,
          63.5,
          86,
          65,
          81.5,
          61,
          73.5,
          53.5,
          41,
          45,
          4,
          90,
          90,
          67,
          90,
          40.5,
          6,
          5.5,
          33.5,
          39.5,
          34.5,
          56,
          45,
          36,
          63.5,
          41,
          94,
          106,
          72,
          90,
          90,
          75.5,
          35,
          70,
          6,
          1,
          2,
          1,
          1,
          1,
          1.5,
          2.5,
          2,
          2,
          1.5,
          2,
          1.5,
          1,
          2,
          1,
          1,
          1,
          1,
          19.5,
          23.5,
          104,
          135,
          151.5,
          170,
          126.5,
          46,
          68,
          57,
          47,
          0.5,
          51.5,
          0.5,
          20,
          51.5,
          10,
          5.5,
          0.5,
          31,
          33.5,
          96,
          117.5,
          78.5,
          18,
          1.5,
          27.5,
          1,
          1,
          41,
          33,
          26.5,
          22,
          69,
          69,
          2,
          4,
          1,
          3,
          2.5,
          2.5,
          9.5,
          25.5,
          31.5,
          1,
          44.5,
          40.5,
          21.5,
          2,
          2,
          14.5,
          4,
          7.5,
          10,
          0.5,
          38,
          10,
          8,
          50,
          51.5,
          51.5,
          57.5,
          35.5,
          67.5,
          38.5,
          11,
          1.5,
          1,
          20.5,
          43,
          28.5,
          76.5,
          51,
          18,
          17.5,
          17.5,
          38.5,
          21.5,
          21.5,
          48,
          4.5,
          76.5,
          68.5,
          1.5,
          1,
          0.5,
          0.5,
          1.5,
          2,
          2.5,
          1,
          1.5,
          2,
          0.5,
          4.5,
          4.5,
          23.5,
          0.5,
          0.5,
          1,
          0.5,
          1,
          1,
          2,
          2,
          1.5,
          68.5,
          2,
          1.5,
          1,
          0.5,
          1.5,
          0.5,
          0.5,
          2,
          6,
          13,
          28.5,
          73.5,
          1,
          14.5,
          20.5,
          26,
          20,
          16,
          1.5,
          40,
          33.5,
          17.5,
          17.5,
          39.5,
          55,
          55,
          69.5,
          42.5,
          21,
          57.5,
          1.5,
          1.5,
          34.5,
          51.5,
          52,
          19.5,
          27.5,
          25.5,
          50.5,
          43,
          3,
          33,
          23.5,
          4.5,
          3.5,
          1.5,
          36,
          3,
          36,
          12,
          2,
          6.5,
          4.5,
          1.5,
          2.5,
          2,
          1.5,
          1.5,
          2,
          2,
          19,
          1.5,
          1.5,
          1,
          1.5,
          3,
          67.5,
          20.5,
          3,
          3.5,
          12,
          2.5,
          3,
          3,
          1.5,
          1.5,
          1.5,
          3.5,
          17,
          4,
          81.5,
          14.5,
          6,
          4,
          18.5,
          32,
          23.5,
          51,
          51,
          10,
          35,
          17.5,
          36,
          62,
          70,
          70,
          61.5,
          3.5,
          10,
          49.5,
          0.5,
          1,
          63,
          63,
          72,
          85,
          44,
          63,
          33.5,
          44,
          6,
          4.5,
          0.5,
          26.5,
          68.5,
          88,
          90,
          26,
          26,
          26,
          1,
          1,
          56,
          62.5,
          69,
          63.5,
          53.5,
          61,
          72.5,
          29,
          41.5,
          41.5,
          106,
          83.5,
          91.5,
          91.5,
          56.5,
          84,
          25,
          73,
          50,
          91,
          62,
          71.5,
          69,
          106,
          72.5,
          67,
          4,
          2.5,
          2.5,
          37.5,
          21,
          27,
          27,
          27,
          27,
          34,
          18,
          23.5,
          28.5,
          12.5,
          16,
          12,
          27,
          51,
          3,
          4.5,
          1.5,
          1.5,
          2,
          4,
          2,
          1,
          14,
          1.5,
          1,
          1,
          1.5,
          1,
          1,
          2,
          1.5,
          31,
          40.5,
          30.5,
          2,
          3,
          7.5,
          0.5,
          0.5,
          1,
          0.5,
          0.5,
          2,
          1,
          2,
          2,
          1,
          1,
          3.5,
          4,
          1.5,
          35.5,
          62,
          47,
          25.5,
          32.5,
          46,
          35.5,
          68,
          28.5,
          43,
          3.5,
          1.5,
          1.5,
          2,
          21,
          21,
          2,
          26,
          35,
          44,
          44,
          40.5,
          35.5,
          21,
          21,
          21,
          65.5,
          30.5,
          15.5,
          28.5,
          33.5,
          28.5,
          20,
          9.5,
          61.5,
          1.5,
          3.5,
          1.5,
          1.5,
          1,
          2.5,
          25.5,
          0.5,
          5.5,
          7,
          2.5,
          2.5,
          1.5,
          9,
          0.5,
          1,
          47,
          21,
          0.5,
          1,
          1,
          11,
          39.5,
          2.5,
          0.5,
          1.5,
          1.5,
          1.5,
          2.5,
          3.5,
          1,
          1,
          1,
          2,
          2,
          144.5,
          125,
          83,
          9.5,
          28,
          23.5,
          54,
          1,
          0.5,
          1,
          1,
          7.5,
          1,
          3,
          1,
          1.5,
          2.5,
          1,
          0.5,
          1,
          25.5,
          45.5,
          76.5,
          6.5,
          0.5,
          1,
          1,
          1.5,
          2.5,
          21,
          17,
          17,
          30.5,
          8.5,
          16,
          5.5,
          17.5,
          11,
          31.5,
          40,
          11,
          7.5,
          32,
          57.5,
          52,
          43.5,
          51.5,
          51.5,
          51.5,
          38.5,
          2,
          0.5,
          1.5,
          1,
          1.5,
          1.5,
          4,
          30.5,
          6,
          6,
          8,
          1,
          1.5,
          1,
          1,
          1.5,
          3,
          1.5,
          3,
          3,
          0.5,
          2.5,
          2,
          1.5,
          2,
          0.5,
          1.5,
          0.5,
          1,
          16,
          2,
          12.5,
          2.5,
          4.5,
          1,
          1,
          2,
          2,
          85.5,
          47.5,
          47.5,
          36.5,
          72.5,
          94,
          72,
          98,
          72,
          86,
          4,
          63.5,
          151,
          115.5,
          89.5,
          89.5,
          45.5,
          88,
          88,
          80,
          62,
          72,
          97,
          2.5,
          2,
          17,
          1,
          9.5,
          6.5,
          9.5,
          14,
          16.5,
          6.5,
          5,
          14.5,
          25.5,
          32,
          7,
          8.5,
          8.5,
          9.5,
          6.5,
          6.5,
          5.5,
          54,
          36,
          55.5,
          40.5,
          6,
          84.5,
          18.5,
          51.5,
          4,
          56,
          62.5,
          23.5,
          2,
          110.5,
          2.5,
          2,
          33,
          33,
          17.5,
          24,
          104,
          2.5,
          3.5,
          96,
          40,
          1.5,
          1.5,
          40,
          3,
          2,
          37,
          2,
          28.5,
          5.5,
          25.5,
          25.5,
          17.5,
          28,
          71,
          39.5,
          37,
          31,
          52,
          57.5,
          41.5,
          14,
          8.5,
          16,
          36,
          53.5,
          53.5,
          39,
          45.5,
          6,
          35,
          57,
          28.5,
          2
         ],
         "yaxis": "y"
        }
       ],
       "layout": {
        "coloraxis": {
         "colorbar": {
          "title": {
           "text": "sin_sun"
          }
         },
         "colorscale": [
          [
           0,
           "#0d0887"
          ],
          [
           0.1111111111111111,
           "#46039f"
          ],
          [
           0.2222222222222222,
           "#7201a8"
          ],
          [
           0.3333333333333333,
           "#9c179e"
          ],
          [
           0.4444444444444444,
           "#bd3786"
          ],
          [
           0.5555555555555556,
           "#d8576b"
          ],
          [
           0.6666666666666666,
           "#ed7953"
          ],
          [
           0.7777777777777778,
           "#fb9f3a"
          ],
          [
           0.8888888888888888,
           "#fdca26"
          ],
          [
           1,
           "#f0f921"
          ]
         ]
        },
        "legend": {
         "tracegroupgap": 0
        },
        "margin": {
         "t": 60
        },
        "template": {
         "data": {
          "bar": [
           {
            "error_x": {
             "color": "#2a3f5f"
            },
            "error_y": {
             "color": "#2a3f5f"
            },
            "marker": {
             "line": {
              "color": "#E5ECF6",
              "width": 0.5
             },
             "pattern": {
              "fillmode": "overlay",
              "size": 10,
              "solidity": 0.2
             }
            },
            "type": "bar"
           }
          ],
          "barpolar": [
           {
            "marker": {
             "line": {
              "color": "#E5ECF6",
              "width": 0.5
             },
             "pattern": {
              "fillmode": "overlay",
              "size": 10,
              "solidity": 0.2
             }
            },
            "type": "barpolar"
           }
          ],
          "carpet": [
           {
            "aaxis": {
             "endlinecolor": "#2a3f5f",
             "gridcolor": "white",
             "linecolor": "white",
             "minorgridcolor": "white",
             "startlinecolor": "#2a3f5f"
            },
            "baxis": {
             "endlinecolor": "#2a3f5f",
             "gridcolor": "white",
             "linecolor": "white",
             "minorgridcolor": "white",
             "startlinecolor": "#2a3f5f"
            },
            "type": "carpet"
           }
          ],
          "choropleth": [
           {
            "colorbar": {
             "outlinewidth": 0,
             "ticks": ""
            },
            "type": "choropleth"
           }
          ],
          "contour": [
           {
            "colorbar": {
             "outlinewidth": 0,
             "ticks": ""
            },
            "colorscale": [
             [
              0,
              "#0d0887"
             ],
             [
              0.1111111111111111,
              "#46039f"
             ],
             [
              0.2222222222222222,
              "#7201a8"
             ],
             [
              0.3333333333333333,
              "#9c179e"
             ],
             [
              0.4444444444444444,
              "#bd3786"
             ],
             [
              0.5555555555555556,
              "#d8576b"
             ],
             [
              0.6666666666666666,
              "#ed7953"
             ],
             [
              0.7777777777777778,
              "#fb9f3a"
             ],
             [
              0.8888888888888888,
              "#fdca26"
             ],
             [
              1,
              "#f0f921"
             ]
            ],
            "type": "contour"
           }
          ],
          "contourcarpet": [
           {
            "colorbar": {
             "outlinewidth": 0,
             "ticks": ""
            },
            "type": "contourcarpet"
           }
          ],
          "heatmap": [
           {
            "colorbar": {
             "outlinewidth": 0,
             "ticks": ""
            },
            "colorscale": [
             [
              0,
              "#0d0887"
             ],
             [
              0.1111111111111111,
              "#46039f"
             ],
             [
              0.2222222222222222,
              "#7201a8"
             ],
             [
              0.3333333333333333,
              "#9c179e"
             ],
             [
              0.4444444444444444,
              "#bd3786"
             ],
             [
              0.5555555555555556,
              "#d8576b"
             ],
             [
              0.6666666666666666,
              "#ed7953"
             ],
             [
              0.7777777777777778,
              "#fb9f3a"
             ],
             [
              0.8888888888888888,
              "#fdca26"
             ],
             [
              1,
              "#f0f921"
             ]
            ],
            "type": "heatmap"
           }
          ],
          "heatmapgl": [
           {
            "colorbar": {
             "outlinewidth": 0,
             "ticks": ""
            },
            "colorscale": [
             [
              0,
              "#0d0887"
             ],
             [
              0.1111111111111111,
              "#46039f"
             ],
             [
              0.2222222222222222,
              "#7201a8"
             ],
             [
              0.3333333333333333,
              "#9c179e"
             ],
             [
              0.4444444444444444,
              "#bd3786"
             ],
             [
              0.5555555555555556,
              "#d8576b"
             ],
             [
              0.6666666666666666,
              "#ed7953"
             ],
             [
              0.7777777777777778,
              "#fb9f3a"
             ],
             [
              0.8888888888888888,
              "#fdca26"
             ],
             [
              1,
              "#f0f921"
             ]
            ],
            "type": "heatmapgl"
           }
          ],
          "histogram": [
           {
            "marker": {
             "pattern": {
              "fillmode": "overlay",
              "size": 10,
              "solidity": 0.2
             }
            },
            "type": "histogram"
           }
          ],
          "histogram2d": [
           {
            "colorbar": {
             "outlinewidth": 0,
             "ticks": ""
            },
            "colorscale": [
             [
              0,
              "#0d0887"
             ],
             [
              0.1111111111111111,
              "#46039f"
             ],
             [
              0.2222222222222222,
              "#7201a8"
             ],
             [
              0.3333333333333333,
              "#9c179e"
             ],
             [
              0.4444444444444444,
              "#bd3786"
             ],
             [
              0.5555555555555556,
              "#d8576b"
             ],
             [
              0.6666666666666666,
              "#ed7953"
             ],
             [
              0.7777777777777778,
              "#fb9f3a"
             ],
             [
              0.8888888888888888,
              "#fdca26"
             ],
             [
              1,
              "#f0f921"
             ]
            ],
            "type": "histogram2d"
           }
          ],
          "histogram2dcontour": [
           {
            "colorbar": {
             "outlinewidth": 0,
             "ticks": ""
            },
            "colorscale": [
             [
              0,
              "#0d0887"
             ],
             [
              0.1111111111111111,
              "#46039f"
             ],
             [
              0.2222222222222222,
              "#7201a8"
             ],
             [
              0.3333333333333333,
              "#9c179e"
             ],
             [
              0.4444444444444444,
              "#bd3786"
             ],
             [
              0.5555555555555556,
              "#d8576b"
             ],
             [
              0.6666666666666666,
              "#ed7953"
             ],
             [
              0.7777777777777778,
              "#fb9f3a"
             ],
             [
              0.8888888888888888,
              "#fdca26"
             ],
             [
              1,
              "#f0f921"
             ]
            ],
            "type": "histogram2dcontour"
           }
          ],
          "mesh3d": [
           {
            "colorbar": {
             "outlinewidth": 0,
             "ticks": ""
            },
            "type": "mesh3d"
           }
          ],
          "parcoords": [
           {
            "line": {
             "colorbar": {
              "outlinewidth": 0,
              "ticks": ""
             }
            },
            "type": "parcoords"
           }
          ],
          "pie": [
           {
            "automargin": true,
            "type": "pie"
           }
          ],
          "scatter": [
           {
            "fillpattern": {
             "fillmode": "overlay",
             "size": 10,
             "solidity": 0.2
            },
            "type": "scatter"
           }
          ],
          "scatter3d": [
           {
            "line": {
             "colorbar": {
              "outlinewidth": 0,
              "ticks": ""
             }
            },
            "marker": {
             "colorbar": {
              "outlinewidth": 0,
              "ticks": ""
             }
            },
            "type": "scatter3d"
           }
          ],
          "scattercarpet": [
           {
            "marker": {
             "colorbar": {
              "outlinewidth": 0,
              "ticks": ""
             }
            },
            "type": "scattercarpet"
           }
          ],
          "scattergeo": [
           {
            "marker": {
             "colorbar": {
              "outlinewidth": 0,
              "ticks": ""
             }
            },
            "type": "scattergeo"
           }
          ],
          "scattergl": [
           {
            "marker": {
             "colorbar": {
              "outlinewidth": 0,
              "ticks": ""
             }
            },
            "type": "scattergl"
           }
          ],
          "scattermapbox": [
           {
            "marker": {
             "colorbar": {
              "outlinewidth": 0,
              "ticks": ""
             }
            },
            "type": "scattermapbox"
           }
          ],
          "scatterpolar": [
           {
            "marker": {
             "colorbar": {
              "outlinewidth": 0,
              "ticks": ""
             }
            },
            "type": "scatterpolar"
           }
          ],
          "scatterpolargl": [
           {
            "marker": {
             "colorbar": {
              "outlinewidth": 0,
              "ticks": ""
             }
            },
            "type": "scatterpolargl"
           }
          ],
          "scatterternary": [
           {
            "marker": {
             "colorbar": {
              "outlinewidth": 0,
              "ticks": ""
             }
            },
            "type": "scatterternary"
           }
          ],
          "surface": [
           {
            "colorbar": {
             "outlinewidth": 0,
             "ticks": ""
            },
            "colorscale": [
             [
              0,
              "#0d0887"
             ],
             [
              0.1111111111111111,
              "#46039f"
             ],
             [
              0.2222222222222222,
              "#7201a8"
             ],
             [
              0.3333333333333333,
              "#9c179e"
             ],
             [
              0.4444444444444444,
              "#bd3786"
             ],
             [
              0.5555555555555556,
              "#d8576b"
             ],
             [
              0.6666666666666666,
              "#ed7953"
             ],
             [
              0.7777777777777778,
              "#fb9f3a"
             ],
             [
              0.8888888888888888,
              "#fdca26"
             ],
             [
              1,
              "#f0f921"
             ]
            ],
            "type": "surface"
           }
          ],
          "table": [
           {
            "cells": {
             "fill": {
              "color": "#EBF0F8"
             },
             "line": {
              "color": "white"
             }
            },
            "header": {
             "fill": {
              "color": "#C8D4E3"
             },
             "line": {
              "color": "white"
             }
            },
            "type": "table"
           }
          ]
         },
         "layout": {
          "annotationdefaults": {
           "arrowcolor": "#2a3f5f",
           "arrowhead": 0,
           "arrowwidth": 1
          },
          "autotypenumbers": "strict",
          "coloraxis": {
           "colorbar": {
            "outlinewidth": 0,
            "ticks": ""
           }
          },
          "colorscale": {
           "diverging": [
            [
             0,
             "#8e0152"
            ],
            [
             0.1,
             "#c51b7d"
            ],
            [
             0.2,
             "#de77ae"
            ],
            [
             0.3,
             "#f1b6da"
            ],
            [
             0.4,
             "#fde0ef"
            ],
            [
             0.5,
             "#f7f7f7"
            ],
            [
             0.6,
             "#e6f5d0"
            ],
            [
             0.7,
             "#b8e186"
            ],
            [
             0.8,
             "#7fbc41"
            ],
            [
             0.9,
             "#4d9221"
            ],
            [
             1,
             "#276419"
            ]
           ],
           "sequential": [
            [
             0,
             "#0d0887"
            ],
            [
             0.1111111111111111,
             "#46039f"
            ],
            [
             0.2222222222222222,
             "#7201a8"
            ],
            [
             0.3333333333333333,
             "#9c179e"
            ],
            [
             0.4444444444444444,
             "#bd3786"
            ],
            [
             0.5555555555555556,
             "#d8576b"
            ],
            [
             0.6666666666666666,
             "#ed7953"
            ],
            [
             0.7777777777777778,
             "#fb9f3a"
            ],
            [
             0.8888888888888888,
             "#fdca26"
            ],
            [
             1,
             "#f0f921"
            ]
           ],
           "sequentialminus": [
            [
             0,
             "#0d0887"
            ],
            [
             0.1111111111111111,
             "#46039f"
            ],
            [
             0.2222222222222222,
             "#7201a8"
            ],
            [
             0.3333333333333333,
             "#9c179e"
            ],
            [
             0.4444444444444444,
             "#bd3786"
            ],
            [
             0.5555555555555556,
             "#d8576b"
            ],
            [
             0.6666666666666666,
             "#ed7953"
            ],
            [
             0.7777777777777778,
             "#fb9f3a"
            ],
            [
             0.8888888888888888,
             "#fdca26"
            ],
            [
             1,
             "#f0f921"
            ]
           ]
          },
          "colorway": [
           "#636efa",
           "#EF553B",
           "#00cc96",
           "#ab63fa",
           "#FFA15A",
           "#19d3f3",
           "#FF6692",
           "#B6E880",
           "#FF97FF",
           "#FECB52"
          ],
          "font": {
           "color": "#2a3f5f"
          },
          "geo": {
           "bgcolor": "white",
           "lakecolor": "white",
           "landcolor": "#E5ECF6",
           "showlakes": true,
           "showland": true,
           "subunitcolor": "white"
          },
          "hoverlabel": {
           "align": "left"
          },
          "hovermode": "closest",
          "mapbox": {
           "style": "light"
          },
          "paper_bgcolor": "white",
          "plot_bgcolor": "#E5ECF6",
          "polar": {
           "angularaxis": {
            "gridcolor": "white",
            "linecolor": "white",
            "ticks": ""
           },
           "bgcolor": "#E5ECF6",
           "radialaxis": {
            "gridcolor": "white",
            "linecolor": "white",
            "ticks": ""
           }
          },
          "scene": {
           "xaxis": {
            "backgroundcolor": "#E5ECF6",
            "gridcolor": "white",
            "gridwidth": 2,
            "linecolor": "white",
            "showbackground": true,
            "ticks": "",
            "zerolinecolor": "white"
           },
           "yaxis": {
            "backgroundcolor": "#E5ECF6",
            "gridcolor": "white",
            "gridwidth": 2,
            "linecolor": "white",
            "showbackground": true,
            "ticks": "",
            "zerolinecolor": "white"
           },
           "zaxis": {
            "backgroundcolor": "#E5ECF6",
            "gridcolor": "white",
            "gridwidth": 2,
            "linecolor": "white",
            "showbackground": true,
            "ticks": "",
            "zerolinecolor": "white"
           }
          },
          "shapedefaults": {
           "line": {
            "color": "#2a3f5f"
           }
          },
          "ternary": {
           "aaxis": {
            "gridcolor": "white",
            "linecolor": "white",
            "ticks": ""
           },
           "baxis": {
            "gridcolor": "white",
            "linecolor": "white",
            "ticks": ""
           },
           "bgcolor": "#E5ECF6",
           "caxis": {
            "gridcolor": "white",
            "linecolor": "white",
            "ticks": ""
           }
          },
          "title": {
           "x": 0.05
          },
          "xaxis": {
           "automargin": true,
           "gridcolor": "white",
           "linecolor": "white",
           "ticks": "",
           "title": {
            "standoff": 15
           },
           "zerolinecolor": "white",
           "zerolinewidth": 2
          },
          "yaxis": {
           "automargin": true,
           "gridcolor": "white",
           "linecolor": "white",
           "ticks": "",
           "title": {
            "standoff": 15
           },
           "zerolinecolor": "white",
           "zerolinewidth": 2
          }
         }
        },
        "xaxis": {
         "anchor": "y",
         "domain": [
          0,
          1
         ],
         "title": {
          "text": "time"
         }
        },
        "yaxis": {
         "anchor": "x",
         "domain": [
          0,
          1
         ],
         "title": {
          "text": "depth"
         }
        }
       }
      },
      "text/html": [
       "<div>                            <div id=\"dc5319e2-3a89-46c4-9af8-9dc39bbdfdb7\" class=\"plotly-graph-div\" style=\"height:525px; width:100%;\"></div>            <script type=\"text/javascript\">                require([\"plotly\"], function(Plotly) {                    window.PLOTLYENV=window.PLOTLYENV || {};                                    if (document.getElementById(\"dc5319e2-3a89-46c4-9af8-9dc39bbdfdb7\")) {                    Plotly.newPlot(                        \"dc5319e2-3a89-46c4-9af8-9dc39bbdfdb7\",                        [{\"hovertemplate\":\"time=%{x}\\u003cbr\\u003edepth=%{y}\\u003cbr\\u003esin_sun=%{marker.color}\\u003cextra\\u003e\\u003c\\u002fextra\\u003e\",\"legendgroup\":\"\",\"marker\":{\"color\":[-0.7398768980844661,-0.6340402407178779,-0.6887960819615027,0.9575200193561055,-0.12419285093645326,0.8902776997267268,0.8768651566887664,0.8104761656938871,0.48798829016291784,0.31767583695859075,0.19763025487957436,0.4952066396071065,0.9050387017784066,0.7777541941878112,0.004177637653397728,-0.8159381766180447,-0.8535930890373461,-0.2661626065348239,-0.19956680138595276,0.06679263374512155,0.0667926337451217,0.9508000403744514,0.9917575330792614,-0.3757058731824675,-0.2649815021966616,-0.4650493297790178,-0.8445331500581903,-0.8039201586021187,0.7049648065944493,0.7465532216119628,0.15865331787996953,0.5583270669856946,0.6080859829251033,0.6555621472003484,0.9102481162354341,-0.962123875106462,-0.9999973082654672,-0.7658787048106845,-0.5006696433629029,0.9384684220497604,0.8808198887448735,0.9975669725055498,-0.9680348396237975,0.8404920765920895,0.9978377845535022,0.9835124405716417,-0.36455854493922224,-0.869367593421005,-0.9904001828731736,-0.9961087610952891,-0.9866005152159,-0.5437223939928595,-0.47874596959340626,0.19485460434091234,0.41398358613858927,0.46577048502929763,0.6982149708759341,0.94392867908688,0.961391133403258,0.9169797215105586,0.9832667439877215,0.8352935360436967,0.9922315116594806,0.7193999667505384,-0.5759015204579958,0.5877852522924731,0.9581153485383789,0.985261804064805,0.9936647156006623,0.48463809414335196,0.4323686928652698,0.3235277745677751,-0.8350372614533752,-0.9772180651842867,0.3346385818412217,0.442948123190008,0.8660254037844386,0.9587361483944168,0.9854812402070735,0.8295699868966037,0.795523342519948,-0.9903902853137702,-0.9169847890842521,0.8024607682751522,0.7290208869776046,0.3079407468151094,-0.9323071635517114,-0.9906091865693124,0.1689003553545588,0.2243589684280883,0.5828927523297099,0.6279027235298702,0.711758240489971,0.8201722545969559,0.8512083218260812,0.9472579621526104,0.9773831172079418,0.9920293895536577,0.9384684220497604,0.09720195351774365,-0.09915503644220425,-0.6037382680672975,0.41338680796450056,0.7669978067399342,0.5135466455862489,0.9174397974871563,0.18595625812545183,0.015268386791136889,-0.6767885115270305,-0.25676920331169767,0.20467457376946915,0.2603550402280207,0.4215608748458024,0.5224171939262632,0.5703582678116259,0.8456344491318318,0.9999544648469465,-0.4179603448867834,-0.48660447856685607,-0.8072027855852094,0.7461836858476856,0.8771826024025943,0.9947572788580948,0.5612408842213981,-0.6639932483858989,0.4842411404944925,-0.8295385430976988,-0.4200565873461463,-0.3459287569856592,-0.5851664708863733,-0.6487306841697578,-0.9983997222298825,-0.999706007408351,-0.9827686373065728,-0.9402035213562954,-0.40312342928797235,-0.9985232494095978,-0.9819598546640318,-0.9632988639828405,-0.8265302638939946,-0.9999104909216002,-0.7241885202318787,-0.31521348924925324,-0.23687921752073104,0.11274050393942144,0.24742619064206517,0.19442392154079813,0.08685492774986638,0.9798463676183886,0.9957341762950345,-0.2677121050063586,-0.21403902158845248,-0.049758201380672815,0.07558546357498837,0.18270782652706158,-0.46509333931264746,-0.6450624477906768,-0.5817070676301878,-0.21767314121336145,-0.9981937173931591,-0.9953277531063419,0.01123311054379871,0.12325260276007284,0.5420718659024951,0.8401541220144938,-0.24521653909301538,-0.7709162818670677,-0.8188159710183593,-0.8615994334083374,-0.9567488620406979,-0.9839833266128725,-0.7938878440319721,-0.5653921912399595,0.2781717887215952,-0.1530323732854325,-0.2309977042794881,-0.5894983338318396,-0.7099107723560533,-0.8944676665376853,-0.989406061629265,0.9876011534912789,0.994802532857004,0.9989254041527641,0.9732504058237692,0.9589688393005678,0.28686857034483243,-0.058837411966777275,-0.13870198640049605,0.3893304431657233,0.438515057823849,0.5778314877787621,0.9036073411080918,-0.8802013911801112,-0.918216106880274,-0.9492426435730339,-0.9894416385809445,-0.5495089780708067,-0.3960797660391577,-0.23061587074244044,-0.05814482891047541,0.01745240643728351,0.0697564737441253,0.17364817766693033,0.7547095802227719,0.7880107536067219,0.8191520442889918,-0.9930857334153371,-0.7415681356822447,-0.3840418443464011,0.1313856121332036,0.2336139470019683,0.348507259729804,-0.10040880672831971,-0.1881948707371607,-0.9189954389730464,-0.9503225501664436,-0.9741700470534903,-0.9235962677750899,-0.8413988947410387,-0.7327643668226271,-0.5279108355443944,-0.7273736415730486,-0.4013174694379304,-0.3281407158241842,-0.9595667596041526,0.8234515834155612,0.7919022459222751,0.7580826007928902,-0.4033171544008049,-0.4788013091754625,-0.5508969814521024,-0.11753739745783766,-0.03365356558779461,0.53763411055889,0.9992290362407229,0.9977004381804953,0.686720186994794,-0.8162609195496736,-0.5065102069747113,-0.3537919584341412,0.6684260349979635,0.7783373662060241,0.8683848977691785,0.9162235584102972,0.968335216647804,0.980261807626078,0.4078112630342889,0.5020365904835702,0.8428114378314234,0.8701141752722963,0.9173335459299022,0.9895455959670174,-0.9981688549130007,-0.9936891385877851,-0.8073195246799605,-0.020907579009300677,0.9833178500816673,0.9999128816724107,-0.8807899745135388,-0.9125036164765499,-0.9616713051497494,-0.19509032201612872,0.5786712961798057,0.6723008902613168,0.7562264854356404,0.985191885404473,-0.8684504647043093,0.7216234572867163,0.8327024925592224,0.8923481308641212,0.9140234022506346,0.8285986767636565,0.71742993372098,0.37860324125370354,-0.9354179608220345,-0.9589243950970401,-0.990199525716881,-0.9977982087825711,-0.9999728075346846,-0.9546364444462206,-0.9005112633768315,0.16398372780542952,0.22170147976370785,0.27865211657649214,0.38946715531077397,0.4948964345694776,0.5934820220673562,0.9839398740192412,0.9187331419530561,0.9713487260456302,0.91250361647655,0.6861290847527062,0.7303398639486692,0.8099980887297779,0.8153038224582491,0.5482258322062963,0.44027411459174776,0.3255246121270428,0.13634516768810281,0.6413754384077988,0.8453036632262353,-0.6159458478496378,-0.6692455495264413,-0.8087441477760515,-0.9131045181732521,-0.9392509703895967,-0.9608484720058413,-0.9787544194585434,0.7825587041164743,0.39726036663188163,0.3403133926949764,0.22280541513098404,0.036759380776787275,0.21882096324331146,0.6111737140978494,0.45724232330463865,0.4022822427221326,-0.9974977965944997,-0.9900037084217638,-0.9775552389476864,0.9355651444005965,0.29286742778810393,0.9403615300567678,0.8890518410736276,0.9619484448473536,0.9988618285054611,0.9565586068460036,-0.3468393600395524,-0.6148521285201924,-0.6736956436465572,-0.8502171357296141,-0.7071067811865477,-0.59027422690092,-0.45947043897934786,0.7828442946465186,0.8484499752507233,0.9030747323245326,0.9460115939806336,0.9629172873477994,0.9767048569857961,0.9873296559154696,0.7699359687995272,0.6510955107602051,0.46420933594806535,-0.8651615144793363,-0.9770216794644423,-0.643228030485259,-0.5819078594694584,0.4372785771547295,0.6709037462408814,0.8795209836486011,0.9050196548877667,0.9990596114160265,0.9447356759246124,0.993759172283535,0.8137027631482983,0.7419516704348478,0.8607817067898291,-0.8338706275593067,-0.8725565306973931,-0.9589837655846914,-0.9773856331199823,0.9978054847628905,-0.2931485412660516,-0.5647080821850865,-0.7849655912666934,-0.958256920187762,-0.950744377603579,-0.7690970428755676,-0.6055894203949632,0.8110463238745989,0.8434201399810591,0.9233267505276278,0.9756560339557572,0.9866759361769502,0.865388495387579,0.6460309064464778,0.5545779869588261,0.4558601524285165,-0.055979666432867586,-0.2072475821631544,-0.556892533027307,-0.4008362995512759,-0.10672253308311569,0.03434844747445744,0.47276381396764344,0.7791040359583045,0.5714512098278208,0.6916690746675351,0.8832343015053228,-0.9906234287599798,-0.8989993441398728,-0.5996612118590602,-0.3210234850972961,0.7379754777427555,0.23371842885989855,-0.14066834734730455,-0.9627027290491458,-0.916736075317848,-0.8872449932352409,-0.7293436170631412,-0.45724232330463843,-0.3315102161255597,-0.2661626065348231,0.12914542963103867,-0.0638842235014922,-0.5170371878872816,-0.6808100635783422,-0.7744568423695255,-0.5170371878872819,-0.39530317615589855,-0.06388422350149257,0.1909912540692145,0.2520873259775634,0.6392248470547393,0.9085331920019917,0.8497033571964727,0.7371995530751958,0.0745332829776549,-0.9983194906863304,0.3759725111191117,-0.9668293727277847,-0.9145432079505206,-0.8124868780056813,-0.762763200040219,-0.29720623145511266,0.014662684135245747,0.06959394514409521,-0.1914802461187007,-0.6850151328609488,-0.7412318533646589,-0.9152066679257155,-0.9445756718664958,-0.9849108406342386,-0.5146047439593949,-0.4441877022577452,0.06991976262998763,0.12489474721042303,0.9927432244968822,0.9773435513873604,0.9640614696397952,-0.9539600252143046,-0.9271397461620152,-0.8561500017419901,-0.7635794171378255,-0.07410115237754308,0.11472835954989344,0.22432859415941353,-0.4284483301829304,-0.4984775852212808,-0.7433799178201783,-0.8394353024745969,-0.9436343565216712,-0.9762798054838502,0.7725172272713589,0.9682110255638017,0.7613675365651669,0.7984372846033249,0.8640428026402155,0.9175190537332194,0.8600824594771908,0.7571488010846003,0.6752286680956306,-0.8733055708668925,-0.9068265445904837,-0.988032017031364,-0.9739815385503638,-0.9301018956828964,0.10569857141959299,0.5451323417249706,0.7255768236789827,0.8351284291564355,0.758758122692791,0.6775833749784778,-0.7905800124310048,0.9987165071710528,0.9999696151247165,0.9363913004764843,0.5579805804969398,0.6051742151937651,0.9923457466060636,0.937317947438786,-0.433883739117558,-0.6254590828375451,-0.6826332559745552,0.6793446492959594,0.9297154442254693,-0.5146901164094919,0.9937122098932426,-0.4392514426214375,-0.8476927066578946,-0.9900007600211735,0.8831818964886439,0.8528002164277206,0.8192171287239424,0.7005773345340011,0.4527160271879505,0.27816715583184226,0.33646911034266525,0.5618819386853606,0.510508016902179,0.3458314388150115,-1.0,-0.9602146853776896,-0.9380688268961659,0.910846486754214,0.8842275362319737,0.821394637582028,0.7854105487132186,0.8564626034499305,0.9552041291130191,-0.9910230813288713,-0.3335058873904131,0.016027847630173744,0.5286348772573076,0.7155558974107533,0.861312628232409,0.9731132802010821,-0.8299443639058236,0.004177637653397743,-0.9646355819083589,-0.730516053503444,0.8302741939659765,0.8578942282191055,0.8795170349534179,0.8255428275641211,0.6533159477969122,0.4374390153636379,-0.3696642994320148,-0.6011060327398497,-0.6695701612246576,-0.7901912728439315,-0.9539390757797442,-0.9903502353835811,-0.7246612842413173,-0.6607347382428576,-0.5916078094901441,0.14806576630728946,0.24962707557829159,0.07966893594921505,0.027736774800855665,-0.5401908123500585,-0.6795564060296297,-0.7978086277747382,-0.9906318006830656,-0.8912734585964853,-0.9788754085243305,0.8746197071393957,0.6427876096865393,0.6018150231520483,0.4694715627858908,0.8004476024336286,-0.3145447561516138,0.7344974726243554,0.051535027371882904,0.35312113553519653,-0.5120200636584707,-0.8335376920472097,-0.8824486116084631,0.9047685045228567,0.9255151952461158,0.9595809602833619,0.9996219667783766,0.40548572308292824,-0.25591122490071755,-0.42534359502495966,-0.5809479121098947,-0.34202014332566866,-0.1677181245479056,0.260471467948449,0.4518547484954028,0.6242539593567168,0.6635166531035681,0.9449326651753572,0.9919240173019428,0.9997105640403308,0.9968767493982831,0.9728095005757434,0.9438022138442629,-0.9503155477588795,-0.9186536247496518,-0.6569100441648371,-0.4331148476602171,-0.26554332154014354,0.25494355759556836,-0.8731206339016079,-0.8354878114129365,0.8571673007021123,0.9252398189258263,0.3390090863657046,0.021614779792638778,-0.6952770142303717,-0.5670138454736008,-0.42317515566429775,0.9728122550971641,0.9675476086576971,0.9344218962029855,-0.6983302619011121,-0.5023722012085095,-0.35401330582219215,-0.03289032528384109,0.3510840242820857,0.40143343528678366,0.45059721216634735,0.5895427557570483,0.6325533231952923,-0.07602052666366857,-0.39145369286196735,-0.7779434607220509,-0.869626151443985,-0.906944823048212,-0.9940973592230038,-0.9996307441774682,0.41920063765592513,0.3170246018889922,0.21101823935417682,-0.6110745206774623,-0.6829095820048069,0.766044443118978,0.08557500847883974,0.39583693561249844,0.8829475928589271,0.16423012795979286,0.0596373018408601,0.007020261113190573,-0.6289470040762253,-0.8968196199699207,0.9957914589008403,0.9542755078416455,0.7812022724419623,0.7108408542839144,0.6726207979048603,0.6325154822890662,0.3589171252129328,0.2582507334012754,0.9894034513846102,0.93627054378901,0.8407291332848036,0.7071067811865475,-0.577683400502318,-0.7644278192076245,0.4233338789659003,0.517337814177657,0.9926425220757603,0.9998980430094333,0.9956953358524774,0.9356961728150196,0.915471162919406,0.5819939511446257,0.4444219876936094,0.13878028460597636,-0.8478401919254095,0.538826269001014,-0.9999205364575328,0.9010871373062532,0.7023674394097973,0.31518215131893024,0.14832325359518753,-0.030545581747205234,-0.1822772458358429,-0.3297640851404723,-0.3536891704538428,0.07246408642046469,0.12942227339378962,0.2418807414206175,0.404177753100579,0.5060483970528293,0.9944141882519817,0.8729887697804845,0.775974995657324,0.7383228013577329,0.9713676085473397,0.9559521426716117,-0.5007276721883875,-0.7359036383122489,-0.904224970913085,-0.9339113358723471,0.9760082735846987,-0.9771224981957352,-0.7185998826257685,0.2510727938481863,0.3064559238993419,0.3608197921132695,0.5645297840206913,0.6111737140978493,-0.815195949841512,0.9999700625010443,0.9868690787947975,0.9923143657869283,-0.8829203240668029,-0.9454145263624475,-0.9847067305903355,-0.9998326426539069,-0.539440960075922,-0.4718288719730193,-0.32834003398254963,-0.2533450005043739,0.15292005157699837,0.2627351698375675,0.9564944561665195,0.9877766795496076,0.750335494032358,0.48742796134013094,-0.449141746482498,-0.7006733799556847,-0.7538978556764477,0.9716750497861443,-0.5523649729605058,-0.7285468091117902,0.5766803221148672,0.7071067811865475,0.816969893010442,0.997769590181818,0.8666532892440566,0.6071394561327799,0.3612416661871533,-0.9014495160922963,-0.9575485696270063,-0.8464290417467846,-0.802580832090995,0.732624190893826,-0.29356565061054385,0.9987354009829812,0.7720892250953373,0.8861039104717509,0.6607974450143325,0.8543738489628867,-0.9112284903881358,-0.9974977965944997,0.22929916109649032,0.28809909936523775,0.44906958586055035,0.39350796153727674,0.0978900887742209,0.2820888840256067,0.5064721940976017,0.7429625581434613,-0.9149867149888904,-0.940833602825411,-0.9906446913551172,-0.9977371042073115,0.20574904475565559,0.012433423642073177,0.25815175704848475,0.43281653837311423,0.5412745991100724,0.5924695826312434,0.9929315113049798,0.6878032086356349,0.9818811288813474,-0.5596630167191137,-0.7193039823197324,-0.8825357470274146,-0.9777924226850842,-0.9974143569807586,0.7315735101024068,0.8076503464625567,-0.9395104945406408,-0.40031002354349937,0.7339284482179917,0.6932965047028621,0.6503302039398645,0.9552988504655193,0.9709418174260521,-0.9352862995502246,-0.9064240946516147,0.914283781026497,0.9737934184638003,0.8939258210401873,0.8013418045941092,0.7647824360894471,0.6838606237376779,0.6397781795907173,-0.9967115007383507,-0.7922296449222118,0.26733286088436364,-0.05265478357120034,0.626617690870673,0.7941657617649315,0.829236698681195,0.9160272981578509,-0.7870101508314689,-0.9788717411368004,0.634679618447929,0.9733981245083351,0.8885902481570268,0.794247837884511,0.6306910259223211,0.5839711130730205,0.5352305863520994,0.9394671574629145,0.26615099291493516,0.3412381070035951,0.4940431541458137,-0.2744997270788776,-0.011832464569015828,0.09661976539023179,0.1991139240711855,0.18274692240685284,-0.9982699367944867,0.848048096156426,0.7193398003386511,0.5150380749100542,0.42261826174069944,0.374606593415912,-0.1449318593072471,-0.47460036974764114,-0.9730448705798238,-0.7844156649195754,0.7313537016191706,0.7986355100472927,0.8106848372427548,0.9536575621797546,0.5471036800874373,0.590637316860895,0.7470685261120219,0.8131464212981538,-0.3586441042386691,0.968758488803439,-0.7533423032710708,-0.6937363440483896,-0.40849123531374415,-0.24533843164892388,0.9271838545667874,0.8290375725550417,-0.9996635833974638,0.6278462744712829,-0.8349455555505444,-0.9992606434967874,-0.5052029804871162,0.006844375000074145,0.05814482891047573,0.10929209909502727,0.35804843734524594,0.5833466559487306,0.9605426280698589,0.9735998290654951,0.9840695670212302,0.9914822076578097,0.9834526782248092,-0.8368224488551899,-0.9521577899461732,-0.9756816788184258,-0.9991261616898764,-0.9988587110593807,-0.974355134363832,-0.9767738052300815,-0.4505606601919715,-0.2858584566418837,0.3420201433256687,0.39025387282305,0.48344878751626574,-0.880435276820678,0.5281595639941035,0.9268114258063277,0.304436886072878,0.2047726847998989,0.15405760304107707,-0.17822107713089427,-0.7217326681864202,0.7281637313969977,0.3934676735627463,-0.6447093214941721,0.6470126069706456,-0.059240627893714336,0.1243148367150137,0.14314331218565932,0.0882767638302156,0.033140863510700974,-0.0321061611652153,-0.11215441315263684,-0.6243860317117877,-0.8390104736583966,-0.8799425530677828,-0.9678603906392963,-0.9977630741271241,-0.7042627941085534,-0.37090951906247094,0.23353489364578833,0.9417196553727809,0.9845201593192934,0.9188156974092352,0.8953584004351242,0.8085791915996536,0.7744842230991991,-0.46615866867411204,-0.9767376315622203,-0.2191423160058456,-0.9949890347303045,-0.6287740441592304,0.059310487523916586,-0.30750505388116106,-0.4542265023211669,-0.5235145437237508,0.9999570087735733,-0.6882271136822207,-0.7071067811865477,-0.4470147733275384,-0.928701352738406,0.944219723099596,0.9740119169423335,0.9893070726241161,0.34611705707749296,0.24384583388407044,0.03212439702627736,-0.32497871937952266,-0.2443404061378939,0.7220896056998753,0.8793843078813829,0.28769791250482846,0.23554673666871576,0.1293354577522262,-0.2942517766480706,0.983957305504807,0.9921962368487802,0.8902650701733821,-0.9905739543432535,-0.9096319953545186,-0.5451661808966407,-0.47569794280025135,0.26442106825897294,0.3686698296323199,-0.8569050715706323,0.46846428080848607,-0.6026346363792565,0.16686457262305932,0.6736956436465574,-0.27598869198433534,-0.42964489148878665,-0.5717036192761967,0.5163118443403217,0.3836405002369632,0.9136927795398154,0.6477130020922278,-0.9944842799247307,-0.9556106154776379,-0.8957277329331482,-0.7080587299307279,-0.517781160097254,-0.3733294103000049,-0.13964741604404746,0.17865994786032086,0.2324650035060531,0.2855673610646906,-0.2695726994243303,-0.49147871170527996,-0.55973507949766,-0.7926740850626719,-0.9956171949702143,-0.2952422003508908,0.014731437363117253,-0.9997777298596181,-0.8797376979104873,0.16979119409952378,0.003709073731161601,-0.38207153291002555,-0.6517614047048681,-0.8309078537201882,-0.8124286002489032,0.8816479210603378,0.9065253786978755,0.9285975100502714,0.9477960108739739,0.9978941543239108,0.17948865024681854,-0.9747592229308398,-0.9307820164861198,-0.7832693014118446,0.5625986940447391,-0.6190939493098341,-0.1619728929674206,0.8526401643540923,0.5329033746173975,0.48641932424609086,-0.1323538542642223,-0.6333238030480467,-0.496803299426622,-0.3466359152026191,-0.18694665591700704,0.9419439507749514,0.9587940025453908,0.997504715435631,0.9998670626675846,0.9992763013493021,0.9892511491753123,0.9523911966923506,-0.9382383583511207,-0.665622554383425,-0.5356432159217889,-0.15697127831405552,0.003644530973094401,0.05827958293806162,-0.6729925851384387,0.5447909730935415,0.2996976861971094,0.14084742115768326,0.032605908210381125,-0.11488268657524414,-0.19609847393328453,-0.6371704852379583,0.49843014964771093,-0.2822218604533234,-0.7181996586895453,-0.5345800547238312,-0.7594049166547074,-0.27366299007208283,0.9383068897782667,0.983606672034461,0.9944952624480718,0.9244263844250579,0.8747944326908696,0.6604810865439237,0.616429901071258,0.36897620239925794,0.09148578018764902,-0.7309870494575179,-0.6186440034966889,-0.49189413793268344,-0.4240277870032357,-0.2812883928785423,-0.13199842829690875,0.5991268418647773,-0.9714501738479137,-0.9246015372051445,-0.8931711563266879,-0.8566329766239488,0.1379883351375902,-0.6506183002042422,0.5160082473451378,0.8996538690295979,0.8926470052546704,0.6886544844286903,0.6012898586384618,0.3511705964151972,0.2970124218230885,0.6557849014733148,-0.6609954919811077,-0.5264321628773562,0.6657401196974406,-0.3948245726381397,0.6991667395971304,0.8691106071276762,0.44445629314939417,0.2879323188785029,0.17876742065802453,0.0673490618372705,-0.06268617997044953,-0.21778612978749814,-0.36754125654374886,-0.7208309528264698,-0.6643256990718092,-0.17679320172437807,0.20815585925310356,0.971460226295582,0.995009891738877,0.9638624584816698,0.9260425209878053,0.8934758626830459,0.8370578948715075,0.8047843687912651,0.692968412546247,-0.7772002438022164,0.6222176551170777,-0.8236617585309745,0.27909975437050305,0.3329475723278254,0.3857301384597796,0.5360178401597995,0.7865120805596107,0.9276227536119478,-0.5170822611332812,-0.200589415783273,0.04117729286632718,0.2954048942022001,0.7010312988297994,-0.9209967883253849,-0.9913797734089995,-0.9905795666983234,-0.8796233208027847,-0.7807663842985779,-0.586818444637402,-0.3507356833735885,-0.08946934858090125,1.2246467991473532e-16,0.5409025139964562,0.102933093977541,0.9062270694177177,0.8536768185026081,0.7951906563549397,0.7627018591992017,0.6132074031604913,-0.8859841975009742,-0.9919207329688972,-0.9987357672703673,-0.7828843068329921,-0.5178245687990938,0.7684937215110776,0.4970333534489177,0.30966786576950717,0.21058885278552714,0.19158769099413528,0.7716836314414135,0.5898112774580783,0.5380823531633727,0.4284989977442779,0.37107474546945335,0.31219380749178627,0.1291454296310388,-0.13203510821628228,-0.3315102161255596,-0.45724232330463876,-0.9789627355823733,-0.941928033973277,-0.6290837847578746,-0.5744073560420052,-0.3953031761558982,-0.1995668013859524,-0.13203510821628192,-0.9980140428135332,0.6937965902938666,-0.6519615110608934,-0.07815910097584848,0.160151437037639,-0.4399657349820133,0.04491415340250428,0.9971423057258662,0.2994694952522436,-0.5594583690168968,-0.8552647073773018,-0.9316737771620319,-0.980290159664946,0.894978107979417,0.4555623646116323,0.3090169943749474,0.9957341762950345,0.8935735600081189,0.7437786201128002,-0.43170070354337864,0.9371178300504392,0.3744601415850639,0.471004914680635,0.9805261792257846,0.892621585177816,0.9532386317049385,0.9680482470453816,0.9800825610923934,0.9847387952546276,0.9604926400681311,-0.4857896361942355,0.6054668486691206,-0.1607030555294008,0.1120890498033166,-0.041170286735918125,-0.12906785124408549,-0.215960948064036,-0.3011733335979765,-0.46392155796331114,-0.6122560437268387,-0.9277704093539078,-0.9570470074882947,-0.9995673906231852,0.6819983600624985,0.5591929034707468,0.3255681544571567,0.27563735581699916,0.22495105434386498,0.12186934340514748,-0.6202354912682606,-0.6862416378687339,-0.7470250712409963,-0.802123192755044,0.90630778703665,0.2159160203324756,0.49173292464560375,-0.07486695649610642,0.5622009445823273],\"coloraxis\":\"coloraxis\",\"symbol\":\"circle\"},\"mode\":\"markers\",\"name\":\"\",\"showlegend\":false,\"x\":[\"2016-03-31T12:45:00\",\"2016-03-31T13:15:00\",\"2016-03-31T13:00:00\",\"2016-03-29T21:00:00\",\"2016-03-29T15:15:00\",\"2016-03-29T20:15:00\",\"2016-03-24T20:15:00\",\"2016-03-24T19:45:00\",\"2016-03-24T18:00:00\",\"2016-03-24T17:15:00\",\"2016-03-24T16:45:00\",\"2016-03-24T02:30:00\",\"2016-03-24T20:30:00\",\"2016-03-24T01:00:00\",\"2016-03-23T04:30:00\",\"2016-03-23T08:00:00\",\"2016-03-23T08:15:00\",\"2016-03-23T15:00:00\",\"2016-03-23T15:15:00\",\"2016-03-23T16:15:00\",\"2016-03-23T04:15:00\",\"2016-03-24T21:00:00\",\"2016-03-24T21:45:00\",\"2016-03-25T06:00:00\",\"2016-03-29T14:45:00\",\"2016-03-29T14:00:00\",\"2016-03-29T08:15:00\",\"2016-03-29T08:00:00\",\"2016-03-28T01:30:00\",\"2016-03-28T01:15:00\",\"2016-03-26T16:30:00\",\"2016-03-26T02:15:00\",\"2016-03-26T02:00:00\",\"2016-03-26T01:45:00\",\"2016-03-26T00:00:00\",\"2016-03-25T11:15:00\",\"2016-03-25T10:15:00\",\"2016-03-25T07:45:00\",\"2016-03-25T06:30:00\",\"2016-03-29T20:45:00\",\"2016-03-24T00:15:00\",\"2016-04-07T22:30:00\",\"2016-04-08T11:00:00\",\"2016-04-03T19:45:00\",\"2016-04-03T22:30:00\",\"2016-04-03T23:00:00\",\"2016-04-04T06:15:00\",\"2016-04-04T08:30:00\",\"2016-04-04T09:45:00\",\"2016-04-04T10:30:00\",\"2016-04-04T10:45:00\",\"2016-04-04T13:30:00\",\"2016-04-04T13:45:00\",\"2016-04-04T16:15:00\",\"2016-04-04T17:15:00\",\"2016-04-04T17:30:00\",\"2016-04-04T18:45:00\",\"2016-04-04T20:45:00\",\"2016-04-04T21:00:00\",\"2016-04-05T00:00:00\",\"2016-04-02T23:00:00\",\"2016-04-05T00:45:00\",\"2016-04-02T22:45:00\",\"2016-04-02T01:30:00\",\"2016-03-31T13:30:00\",\"2016-03-31T18:15:00\",\"2016-03-31T21:00:00\",\"2016-03-31T21:30:00\",\"2016-03-31T21:45:00\",\"2016-04-01T02:45:00\",\"2016-04-01T03:00:00\",\"2016-04-01T03:30:00\",\"2016-04-01T08:15:00\",\"2016-04-01T09:30:00\",\"2016-04-01T17:00:00\",\"2016-04-01T17:30:00\",\"2016-04-01T20:00:00\",\"2016-04-01T21:00:00\",\"2016-04-01T21:30:00\",\"2016-04-02T00:45:00\",\"2016-04-02T01:00:00\",\"2016-04-02T09:45:00\",\"2016-04-08T11:30:00\",\"2016-04-05T01:00:00\",\"2016-04-05T01:30:00\",\"2016-04-07T03:45:00\",\"2016-04-07T09:00:00\",\"2016-04-07T09:45:00\",\"2016-04-07T16:00:00\",\"2016-04-07T16:15:00\",\"2016-04-07T18:00:00\",\"2016-04-07T18:15:00\",\"2016-04-07T18:45:00\",\"2016-04-07T19:30:00\",\"2016-04-07T19:45:00\",\"2016-04-07T20:45:00\",\"2016-04-07T21:15:00\",\"2016-04-07T22:45:00\",\"2016-04-07T23:45:00\",\"2016-04-08T04:45:00\",\"2016-04-08T05:30:00\",\"2016-04-08T07:15:00\",\"2016-04-07T03:15:00\",\"2016-04-05T01:15:00\",\"2016-04-07T02:45:00\",\"2016-04-07T00:00:00\",\"2016-04-05T04:15:00\",\"2016-04-05T05:00:00\",\"2016-04-05T07:30:00\",\"2016-04-05T14:30:00\",\"2016-04-05T16:15:00\",\"2016-04-05T16:30:00\",\"2016-04-05T17:15:00\",\"2016-04-05T17:45:00\",\"2016-04-05T18:00:00\",\"2016-04-05T19:45:00\",\"2016-04-05T22:15:00\",\"2016-04-06T06:30:00\",\"2016-04-06T06:45:00\",\"2016-04-06T12:15:00\",\"2016-04-06T19:00:00\",\"2016-04-06T20:00:00\",\"2016-04-06T21:45:00\",\"2016-04-07T02:30:00\",\"2016-04-04T13:00:00\",\"2016-03-23T18:00:00\",\"2016-04-04T08:15:00\",\"2016-04-11T13:45:00\",\"2016-04-11T14:00:00\",\"2016-04-12T07:15:00\",\"2016-04-12T07:30:00\",\"2016-04-12T10:00:00\",\"2016-04-12T10:15:00\",\"2016-04-12T10:45:00\",\"2016-04-12T11:15:00\",\"2016-04-12T13:45:00\",\"2016-04-13T10:00:00\",\"2016-04-13T10:45:00\",\"2016-04-13T11:00:00\",\"2016-04-13T12:00:00\",\"2016-04-11T10:15:00\",\"2016-04-13T12:30:00\",\"2016-04-13T14:00:00\",\"2016-04-13T14:15:00\",\"2016-04-13T15:30:00\",\"2016-04-14T04:15:00\",\"2016-04-14T04:30:00\",\"2016-04-14T05:00:00\",\"2016-04-14T21:15:00\",\"2016-04-14T21:45:00\",\"2016-04-15T06:15:00\",\"2016-04-15T14:15:00\",\"2016-04-15T14:45:00\",\"2016-04-15T15:15:00\",\"2016-04-15T15:45:00\",\"2016-04-13T13:30:00\",\"2016-04-11T07:30:00\",\"2016-04-11T07:15:00\",\"2016-04-11T06:00:00\",\"2016-04-08T10:00:00\",\"2016-04-08T10:30:00\",\"2016-04-08T15:15:00\",\"2016-04-08T15:45:00\",\"2016-04-08T17:45:00\",\"2016-04-09T00:45:00\",\"2016-04-09T06:00:00\",\"2016-04-09T08:00:00\",\"2016-04-09T08:15:00\",\"2016-04-09T08:30:00\",\"2016-04-09T09:15:00\",\"2016-04-09T10:45:00\",\"2016-04-09T12:15:00\",\"2016-04-09T13:15:00\",\"2016-04-10T04:00:00\",\"2016-04-10T05:45:00\",\"2016-04-10T06:00:00\",\"2016-04-10T07:15:00\",\"2016-04-10T07:45:00\",\"2016-04-10T08:45:00\",\"2016-04-10T09:45:00\",\"2016-04-10T21:30:00\",\"2016-04-10T21:45:00\",\"2016-04-10T22:00:00\",\"2016-04-10T23:15:00\",\"2016-04-10T23:30:00\",\"2016-04-11T04:00:00\",\"2016-04-11T05:30:00\",\"2016-04-11T05:45:00\",\"2016-04-15T16:45:00\",\"2016-04-15T17:00:00\",\"2016-04-15T17:45:00\",\"2016-04-16T00:15:00\",\"2016-04-20T08:45:00\",\"2016-04-20T09:00:00\",\"2016-04-20T09:15:00\",\"2016-04-20T09:45:00\",\"2016-04-20T13:00:00\",\"2016-04-20T13:30:00\",\"2016-04-20T14:00:00\",\"2016-04-20T14:30:00\",\"2016-04-20T14:45:00\",\"2016-04-20T15:00:00\",\"2016-04-20T15:30:00\",\"2016-04-20T18:45:00\",\"2016-04-20T19:00:00\",\"2016-04-20T19:15:00\",\"2016-04-21T10:30:00\",\"2016-04-21T12:15:00\",\"2016-04-21T13:30:00\",\"2016-04-21T15:15:00\",\"2016-04-21T15:45:00\",\"2016-04-22T04:00:00\",\"2016-04-22T06:00:00\",\"2016-04-22T06:15:00\",\"2016-04-22T09:00:00\",\"2016-04-22T09:15:00\",\"2016-04-22T09:30:00\",\"2016-04-22T11:15:00\",\"2016-04-22T11:45:00\",\"2016-04-22T12:15:00\",\"2016-04-22T13:00:00\",\"2016-04-20T08:00:00\",\"2016-04-08T06:30:00\",\"2016-04-19T13:45:00\",\"2016-04-19T11:00:00\",\"2016-04-16T01:00:00\",\"2016-04-16T01:15:00\",\"2016-04-16T01:30:00\",\"2016-04-16T06:45:00\",\"2016-04-16T07:00:00\",\"2016-04-16T07:15:00\",\"2016-04-16T14:30:00\",\"2016-04-16T14:45:00\",\"2016-04-16T17:30:00\",\"2016-04-16T22:00:00\",\"2016-04-16T22:30:00\",\"2016-04-17T02:00:00\",\"2016-04-17T12:00:00\",\"2016-04-17T13:15:00\",\"2016-04-17T13:45:00\",\"2016-04-17T18:15:00\",\"2016-04-17T19:00:00\",\"2016-04-17T19:45:00\",\"2016-04-17T20:15:00\",\"2016-04-17T21:00:00\",\"2016-04-17T21:15:00\",\"2016-04-18T16:45:00\",\"2016-04-18T17:15:00\",\"2016-04-18T19:30:00\",\"2016-04-18T19:45:00\",\"2016-04-18T20:15:00\",\"2016-04-18T21:30:00\",\"2016-04-19T10:00:00\",\"2016-04-19T10:30:00\",\"2016-04-19T12:00:00\",\"2016-04-08T05:15:00\",\"2016-04-07T23:00:00\",\"2016-04-07T22:15:00\",\"2016-03-29T08:30:00\",\"2016-03-29T08:45:00\",\"2016-03-29T09:15:00\",\"2016-03-29T15:00:00\",\"2016-03-29T18:15:00\",\"2016-03-29T18:45:00\",\"2016-03-29T19:15:00\",\"2016-03-29T21:30:00\",\"2016-03-31T12:00:00\",\"2016-03-31T19:00:00\",\"2016-03-31T19:45:00\",\"2016-03-31T20:15:00\",\"2016-04-01T00:00:00\",\"2016-04-01T00:45:00\",\"2016-04-01T01:30:00\",\"2016-04-01T03:15:00\",\"2016-04-01T09:00:00\",\"2016-04-01T09:15:00\",\"2016-04-01T09:45:00\",\"2016-04-01T10:00:00\",\"2016-04-01T10:15:00\",\"2016-04-01T11:15:00\",\"2016-04-01T11:45:00\",\"2016-04-01T16:15:00\",\"2016-04-01T16:30:00\",\"2016-04-01T16:45:00\",\"2016-04-01T17:15:00\",\"2016-04-01T17:45:00\",\"2016-04-01T18:15:00\",\"2016-03-28T21:30:00\",\"2016-04-01T20:30:00\",\"2016-03-28T21:15:00\",\"2016-03-28T20:30:00\",\"2016-03-23T19:00:00\",\"2016-03-23T19:15:00\",\"2016-03-23T19:45:00\",\"2016-03-24T00:45:00\",\"2016-03-24T02:15:00\",\"2016-03-24T02:45:00\",\"2016-03-24T03:15:00\",\"2016-03-24T16:30:00\",\"2016-03-24T18:45:00\",\"2016-03-24T20:00:00\",\"2016-03-25T07:00:00\",\"2016-03-25T07:15:00\",\"2016-03-25T08:00:00\",\"2016-03-25T08:45:00\",\"2016-03-25T09:00:00\",\"2016-03-25T09:15:00\",\"2016-03-25T11:00:00\",\"2016-03-26T01:00:00\",\"2016-03-26T03:00:00\",\"2016-03-26T03:15:00\",\"2016-03-26T03:45:00\",\"2016-03-26T16:00:00\",\"2016-03-26T16:45:00\",\"2016-03-27T02:00:00\",\"2016-03-27T02:45:00\",\"2016-03-27T03:00:00\",\"2016-03-27T10:00:00\",\"2016-03-27T10:45:00\",\"2016-03-27T11:00:00\",\"2016-03-28T20:45:00\",\"2016-04-22T16:00:00\",\"2016-04-01T20:45:00\",\"2016-04-02T00:15:00\",\"2016-04-05T21:00:00\",\"2016-04-05T22:00:00\",\"2016-04-05T23:30:00\",\"2016-04-06T06:15:00\",\"2016-04-06T07:15:00\",\"2016-04-06T07:30:00\",\"2016-04-06T12:00:00\",\"2016-04-06T12:45:00\",\"2016-04-06T13:15:00\",\"2016-04-06T13:45:00\",\"2016-04-06T19:15:00\",\"2016-04-06T19:45:00\",\"2016-04-06T20:15:00\",\"2016-04-06T20:45:00\",\"2016-04-06T21:00:00\",\"2016-04-06T21:15:00\",\"2016-04-06T21:30:00\",\"2016-04-07T01:15:00\",\"2016-04-07T02:00:00\",\"2016-04-07T03:00:00\",\"2016-04-07T08:30:00\",\"2016-04-07T09:30:00\",\"2016-04-07T13:00:00\",\"2016-04-07T13:15:00\",\"2016-04-07T17:15:00\",\"2016-04-07T18:30:00\",\"2016-04-07T20:00:00\",\"2016-04-07T20:15:00\",\"2016-04-07T22:00:00\",\"2016-04-05T20:45:00\",\"2016-04-01T21:45:00\",\"2016-04-05T19:30:00\",\"2016-04-05T19:00:00\",\"2016-04-02T00:30:00\",\"2016-04-02T08:15:00\",\"2016-04-02T08:30:00\",\"2016-04-02T09:15:00\",\"2016-04-02T09:30:00\",\"2016-04-02T22:30:00\",\"2016-04-04T06:00:00\",\"2016-04-04T07:00:00\",\"2016-04-04T08:00:00\",\"2016-04-04T09:15:00\",\"2016-04-04T11:15:00\",\"2016-04-04T12:30:00\",\"2016-04-04T13:15:00\",\"2016-04-04T19:30:00\",\"2016-04-04T19:45:00\",\"2016-04-04T20:30:00\",\"2016-04-04T21:15:00\",\"2016-04-04T21:30:00\",\"2016-04-05T00:30:00\",\"2016-04-05T02:00:00\",\"2016-04-05T02:30:00\",\"2016-04-05T03:00:00\",\"2016-04-05T05:15:00\",\"2016-04-05T05:45:00\",\"2016-04-05T07:00:00\",\"2016-04-05T14:00:00\",\"2016-04-05T15:00:00\",\"2016-04-05T15:30:00\",\"2016-04-05T17:30:00\",\"2016-04-05T19:15:00\",\"2016-04-22T17:30:00\",\"2016-04-22T18:15:00\",\"2016-04-23T00:30:00\",\"2016-04-09T09:45:00\",\"2016-04-09T08:45:00\",\"2016-04-09T07:15:00\",\"2016-04-09T06:15:00\",\"2016-04-09T01:30:00\",\"2016-04-08T16:15:00\",\"2016-04-08T14:45:00\",\"2016-03-23T09:15:00\",\"2016-03-23T08:45:00\",\"2016-03-23T08:30:00\",\"2016-03-23T07:30:00\",\"2016-03-23T06:15:00\",\"2016-03-23T05:45:00\",\"2016-03-23T05:30:00\",\"2016-03-23T04:00:00\",\"2016-03-23T04:45:00\",\"2016-03-23T06:30:00\",\"2016-03-23T07:15:00\",\"2016-03-23T07:45:00\",\"2016-03-23T14:00:00\",\"2016-03-23T14:30:00\",\"2016-03-23T15:45:00\",\"2016-03-23T16:45:00\",\"2016-03-23T17:00:00\",\"2016-03-23T18:45:00\",\"2016-03-24T00:00:00\",\"2016-03-24T00:30:00\",\"2016-03-24T01:15:00\",\"2016-03-24T16:15:00\",\"2016-04-09T10:00:00\",\"2016-03-24T17:30:00\",\"2016-04-09T11:00:00\",\"2016-04-09T11:30:00\",\"2016-04-12T08:15:00\",\"2016-04-12T08:00:00\",\"2016-04-12T06:15:00\",\"2016-04-12T05:15:00\",\"2016-04-12T05:00:00\",\"2016-04-11T14:30:00\",\"2016-04-11T12:45:00\",\"2016-04-11T12:30:00\",\"2016-04-11T11:30:00\",\"2016-04-11T11:15:00\",\"2016-04-11T10:45:00\",\"2016-04-11T07:00:00\",\"2016-04-11T06:45:00\",\"2016-04-11T05:00:00\",\"2016-04-11T04:45:00\",\"2016-04-10T22:45:00\",\"2016-04-10T21:15:00\",\"2016-04-10T21:00:00\",\"2016-04-10T09:15:00\",\"2016-04-10T09:00:00\",\"2016-04-10T08:30:00\",\"2016-04-10T08:00:00\",\"2016-04-10T05:30:00\",\"2016-04-10T04:45:00\",\"2016-04-10T04:15:00\",\"2016-04-09T13:45:00\",\"2016-04-09T13:30:00\",\"2016-04-09T12:30:00\",\"2016-04-09T12:00:00\",\"2016-04-09T11:15:00\",\"2016-04-12T09:30:00\",\"2016-03-24T19:30:00\",\"2016-03-24T21:15:00\",\"2016-03-31T19:15:00\",\"2016-03-31T19:30:00\",\"2016-03-31T20:00:00\",\"2016-03-31T20:30:00\",\"2016-04-01T00:30:00\",\"2016-04-01T01:15:00\",\"2016-04-01T01:45:00\",\"2016-04-01T08:30:00\",\"2016-04-01T08:45:00\",\"2016-04-01T10:45:00\",\"2016-04-01T11:00:00\",\"2016-04-01T11:30:00\",\"2016-04-01T16:00:00\",\"2016-04-01T18:00:00\",\"2016-04-01T19:00:00\",\"2016-04-01T19:45:00\",\"2016-04-02T01:15:00\",\"2016-04-02T01:45:00\",\"2016-04-02T08:00:00\",\"2016-04-02T22:00:00\",\"2016-04-02T22:15:00\",\"2016-04-02T23:45:00\",\"2016-04-03T18:00:00\",\"2016-04-03T18:15:00\",\"2016-04-03T22:45:00\",\"2016-04-03T23:45:00\",\"2016-04-04T06:30:00\",\"2016-04-04T07:15:00\",\"2016-04-04T07:30:00\",\"2016-03-31T18:45:00\",\"2016-03-24T20:45:00\",\"2016-03-31T13:45:00\",\"2016-03-29T21:45:00\",\"2016-03-25T06:15:00\",\"2016-03-25T08:15:00\",\"2016-03-25T09:45:00\",\"2016-03-26T00:15:00\",\"2016-03-26T00:30:00\",\"2016-03-26T00:45:00\",\"2016-03-26T01:30:00\",\"2016-03-26T02:45:00\",\"2016-03-26T17:00:00\",\"2016-03-26T17:15:00\",\"2016-03-27T02:15:00\",\"2016-03-27T02:30:00\",\"2016-03-27T03:15:00\",\"2016-03-27T10:15:00\",\"2016-03-27T11:15:00\",\"2016-03-27T11:30:00\",\"2016-03-28T00:00:00\",\"2016-03-28T00:15:00\",\"2016-03-28T00:45:00\",\"2016-03-28T01:00:00\",\"2016-03-28T20:00:00\",\"2016-03-28T21:00:00\",\"2016-03-29T09:45:00\",\"2016-03-29T14:30:00\",\"2016-03-29T15:45:00\",\"2016-03-29T18:00:00\",\"2016-03-29T19:00:00\",\"2016-03-29T20:00:00\",\"2016-03-29T21:15:00\",\"2016-03-31T12:15:00\",\"2016-03-23T16:00:00\",\"2016-04-12T11:00:00\",\"2016-04-12T12:30:00\",\"2016-04-23T01:00:00\",\"2016-04-23T00:45:00\",\"2016-04-22T19:45:00\",\"2016-04-22T19:15:00\",\"2016-04-22T18:00:00\",\"2016-04-22T16:45:00\",\"2016-04-22T13:30:00\",\"2016-04-22T12:45:00\",\"2016-04-22T12:30:00\",\"2016-04-22T12:00:00\",\"2016-04-22T11:00:00\",\"2016-04-22T09:45:00\",\"2016-04-22T08:00:00\",\"2016-04-22T07:45:00\",\"2016-04-22T07:30:00\",\"2016-04-22T05:00:00\",\"2016-04-22T04:30:00\",\"2016-04-21T15:00:00\",\"2016-04-21T14:45:00\",\"2016-04-21T13:00:00\",\"2016-04-21T12:30:00\",\"2016-04-21T12:00:00\",\"2016-03-23T09:45:00\",\"2016-04-21T11:30:00\",\"2016-04-21T10:45:00\",\"2016-04-20T19:45:00\",\"2016-04-20T18:00:00\",\"2016-04-20T17:45:00\",\"2016-04-20T17:00:00\",\"2016-04-23T01:15:00\",\"2016-04-20T13:45:00\",\"2016-04-23T01:45:00\",\"2016-04-23T05:30:00\",\"2016-04-23T04:00:00\",\"2016-04-23T07:15:00\",\"2016-04-23T08:30:00\",\"2016-04-23T11:30:00\",\"2016-04-23T20:00:00\",\"2016-04-23T20:15:00\",\"2016-04-23T20:45:00\",\"2016-04-23T22:00:00\",\"2016-04-24T03:45:00\",\"2016-04-24T06:30:00\",\"2016-04-24T07:00:00\",\"2016-04-24T07:30:00\",\"2016-04-24T06:45:00\",\"2016-04-24T06:15:00\",\"2016-04-24T04:30:00\",\"2016-04-24T03:30:00\",\"2016-04-24T02:30:00\",\"2016-04-24T02:15:00\",\"2016-04-23T23:45:00\",\"2016-04-23T22:45:00\",\"2016-04-23T22:15:00\",\"2016-04-23T21:45:00\",\"2016-04-23T21:00:00\",\"2016-04-23T20:30:00\",\"2016-04-23T09:15:00\",\"2016-04-23T09:00:00\",\"2016-04-23T07:45:00\",\"2016-04-23T07:00:00\",\"2016-04-23T06:30:00\",\"2016-04-23T04:30:00\",\"2016-04-12T11:45:00\",\"2016-04-20T08:30:00\",\"2016-04-20T00:45:00\",\"2016-04-16T00:00:00\",\"2016-04-15T16:30:00\",\"2016-04-15T15:00:00\",\"2016-04-15T07:45:00\",\"2016-04-15T07:15:00\",\"2016-04-15T06:45:00\",\"2016-04-14T23:15:00\",\"2016-04-14T21:00:00\",\"2016-04-14T20:30:00\",\"2016-04-14T07:45:00\",\"2016-04-14T07:00:00\",\"2016-04-14T06:30:00\",\"2016-04-14T05:30:00\",\"2016-04-14T03:45:00\",\"2016-04-14T03:30:00\",\"2016-04-14T03:15:00\",\"2016-04-14T02:30:00\",\"2016-04-14T02:15:00\",\"2016-04-13T14:45:00\",\"2016-04-13T13:45:00\",\"2016-04-13T12:15:00\",\"2016-04-13T11:45:00\",\"2016-04-13T11:30:00\",\"2016-04-13T10:30:00\",\"2016-04-13T10:15:00\",\"2016-04-12T17:00:00\",\"2016-04-12T16:30:00\",\"2016-04-12T16:00:00\",\"2016-04-12T13:00:00\",\"2016-04-16T07:45:00\",\"2016-04-20T01:30:00\",\"2016-04-16T15:15:00\",\"2016-04-16T16:45:00\",\"2016-04-20T00:30:00\",\"2016-04-19T15:30:00\",\"2016-04-19T15:00:00\",\"2016-04-19T14:45:00\",\"2016-04-19T12:45:00\",\"2016-04-19T11:30:00\",\"2016-04-18T21:45:00\",\"2016-04-18T20:45:00\",\"2016-04-18T19:00:00\",\"2016-04-18T18:30:00\",\"2016-04-18T18:15:00\",\"2016-04-18T18:00:00\",\"2016-04-18T16:30:00\",\"2016-04-18T16:00:00\",\"2016-04-17T21:30:00\",\"2016-04-17T20:30:00\",\"2016-04-17T19:30:00\",\"2016-04-17T18:30:00\",\"2016-04-17T13:00:00\",\"2016-04-17T12:15:00\",\"2016-04-17T03:30:00\",\"2016-04-17T03:00:00\",\"2016-04-16T22:45:00\",\"2016-04-16T22:15:00\",\"2016-04-16T21:45:00\",\"2016-04-16T20:30:00\",\"2016-04-16T20:15:00\",\"2016-04-16T17:45:00\",\"2016-04-16T17:00:00\",\"2016-04-16T15:30:00\",\"2016-04-21T11:45:00\",\"2016-03-31T18:00:00\",\"2016-04-04T10:15:00\",\"2016-04-05T20:15:00\",\"2016-04-05T18:45:00\",\"2016-04-05T16:45:00\",\"2016-04-05T16:00:00\",\"2016-04-05T15:15:00\",\"2016-04-05T14:45:00\",\"2016-04-05T14:15:00\",\"2016-04-05T06:15:00\",\"2016-04-05T04:45:00\",\"2016-04-05T04:30:00\",\"2016-04-05T04:00:00\",\"2016-04-05T03:15:00\",\"2016-04-05T02:45:00\",\"2016-04-04T21:45:00\",\"2016-04-04T20:00:00\",\"2016-04-04T19:15:00\",\"2016-04-04T19:00:00\",\"2016-04-03T23:15:00\",\"2016-04-03T23:30:00\",\"2016-04-04T06:45:00\",\"2016-04-04T07:45:00\",\"2016-04-04T08:45:00\",\"2016-04-04T09:00:00\",\"2016-04-05T21:15:00\",\"2016-04-04T09:30:00\",\"2016-04-04T12:45:00\",\"2016-04-04T16:30:00\",\"2016-04-04T16:45:00\",\"2016-04-04T17:00:00\",\"2016-04-04T18:00:00\",\"2016-04-04T18:15:00\",\"2016-04-04T12:15:00\",\"2016-04-03T22:15:00\",\"2016-04-05T21:30:00\",\"2016-04-05T22:45:00\",\"2016-04-08T11:45:00\",\"2016-04-08T11:15:00\",\"2016-04-08T10:45:00\",\"2016-04-08T10:15:00\",\"2016-04-08T07:00:00\",\"2016-04-08T06:45:00\",\"2016-04-08T06:15:00\",\"2016-04-08T06:00:00\",\"2016-04-08T04:30:00\",\"2016-04-08T04:00:00\",\"2016-04-07T23:30:00\",\"2016-04-07T21:30:00\",\"2016-04-07T19:00:00\",\"2016-04-07T17:30:00\",\"2016-04-07T13:45:00\",\"2016-04-07T12:45:00\",\"2016-04-07T12:30:00\",\"2016-04-05T23:15:00\",\"2016-04-06T07:00:00\",\"2016-04-06T07:45:00\",\"2016-04-06T18:00:00\",\"2016-04-06T18:45:00\",\"2016-04-06T19:30:00\",\"2016-04-05T22:30:00\",\"2016-04-07T00:30:00\",\"2016-04-07T02:15:00\",\"2016-04-07T03:30:00\",\"2016-04-07T08:45:00\",\"2016-04-07T09:15:00\",\"2016-04-07T12:00:00\",\"2016-04-07T12:15:00\",\"2016-04-07T01:30:00\",\"2016-04-08T14:15:00\",\"2016-04-03T22:00:00\",\"2016-04-03T19:15:00\",\"2016-03-28T20:15:00\",\"2016-03-28T01:45:00\",\"2016-03-28T00:30:00\",\"2016-03-27T11:45:00\",\"2016-03-27T10:30:00\",\"2016-03-27T03:45:00\",\"2016-03-27T03:30:00\",\"2016-03-26T17:45:00\",\"2016-03-26T17:30:00\",\"2016-03-26T16:15:00\",\"2016-03-26T03:30:00\",\"2016-03-26T02:30:00\",\"2016-03-26T01:15:00\",\"2016-03-25T11:45:00\",\"2016-03-25T11:30:00\",\"2016-03-25T10:45:00\",\"2016-03-25T10:30:00\",\"2016-03-24T03:45:00\",\"2016-03-24T16:00:00\",\"2016-03-24T17:00:00\",\"2016-03-24T17:45:00\",\"2016-03-24T18:15:00\",\"2016-03-24T18:30:00\",\"2016-03-28T21:45:00\",\"2016-03-24T19:00:00\",\"2016-03-24T21:30:00\",\"2016-03-25T06:45:00\",\"2016-03-25T07:30:00\",\"2016-03-25T08:30:00\",\"2016-03-25T09:30:00\",\"2016-03-25T10:00:00\",\"2016-03-24T19:15:00\",\"2016-04-03T19:30:00\",\"2016-03-29T09:00:00\",\"2016-03-29T14:15:00\",\"2016-04-03T19:00:00\",\"2016-04-03T18:45:00\",\"2016-04-03T18:30:00\",\"2016-04-02T23:30:00\",\"2016-04-02T23:15:00\",\"2016-04-02T09:00:00\",\"2016-04-02T08:45:00\",\"2016-04-02T00:00:00\",\"2016-04-01T21:15:00\",\"2016-04-01T20:15:00\",\"2016-04-01T19:30:00\",\"2016-04-01T19:15:00\",\"2016-04-01T18:45:00\",\"2016-04-01T18:30:00\",\"2016-04-01T10:30:00\",\"2016-04-01T08:00:00\",\"2016-04-01T03:45:00\",\"2016-03-29T15:30:00\",\"2016-03-29T18:30:00\",\"2016-03-29T19:30:00\",\"2016-03-29T19:45:00\",\"2016-03-29T20:30:00\",\"2016-03-31T12:30:00\",\"2016-03-29T09:30:00\",\"2016-03-31T18:30:00\",\"2016-03-31T21:15:00\",\"2016-04-01T00:15:00\",\"2016-04-01T01:00:00\",\"2016-04-01T02:00:00\",\"2016-04-01T02:15:00\",\"2016-04-01T02:30:00\",\"2016-03-31T20:45:00\",\"2016-03-24T03:30:00\",\"2016-04-08T16:45:00\",\"2016-04-08T17:30:00\",\"2016-04-22T06:30:00\",\"2016-04-22T05:45:00\",\"2016-04-22T05:15:00\",\"2016-04-22T04:45:00\",\"2016-04-21T15:30:00\",\"2016-04-21T10:00:00\",\"2016-04-20T19:30:00\",\"2016-04-20T18:30:00\",\"2016-04-20T17:15:00\",\"2016-04-20T16:45:00\",\"2016-04-20T16:30:00\",\"2016-04-20T14:15:00\",\"2016-04-20T13:15:00\",\"2016-04-20T09:30:00\",\"2016-04-20T08:15:00\",\"2016-04-20T01:45:00\",\"2016-04-20T01:15:00\",\"2016-04-17T19:15:00\",\"2016-04-17T20:45:00\",\"2016-04-18T17:30:00\",\"2016-04-18T17:45:00\",\"2016-04-18T18:45:00\",\"2016-04-18T19:15:00\",\"2016-04-22T06:45:00\",\"2016-04-18T21:00:00\",\"2016-04-19T12:15:00\",\"2016-04-19T12:30:00\",\"2016-04-19T13:30:00\",\"2016-04-19T14:00:00\",\"2016-04-20T00:00:00\",\"2016-04-20T01:00:00\",\"2016-04-19T10:15:00\",\"2016-04-17T18:00:00\",\"2016-04-22T08:30:00\",\"2016-04-22T10:15:00\",\"2016-04-24T07:15:00\",\"2016-04-24T05:45:00\",\"2016-04-24T05:30:00\",\"2016-04-24T05:15:00\",\"2016-04-24T04:00:00\",\"2016-04-24T02:45:00\",\"2016-04-23T23:30:00\",\"2016-04-23T23:15:00\",\"2016-04-23T23:00:00\",\"2016-04-23T21:30:00\",\"2016-04-23T21:15:00\",\"2016-04-23T11:45:00\",\"2016-04-23T11:00:00\",\"2016-04-23T10:45:00\",\"2016-04-23T10:15:00\",\"2016-04-23T10:00:00\",\"2016-04-23T09:30:00\",\"2016-04-22T10:45:00\",\"2016-04-22T13:15:00\",\"2016-04-22T13:45:00\",\"2016-04-22T16:15:00\",\"2016-04-22T16:30:00\",\"2016-04-22T17:00:00\",\"2016-04-22T08:45:00\",\"2016-04-22T17:15:00\",\"2016-04-23T00:00:00\",\"2016-04-23T04:15:00\",\"2016-04-23T04:45:00\",\"2016-04-23T05:00:00\",\"2016-04-23T06:15:00\",\"2016-04-23T08:00:00\",\"2016-04-22T18:30:00\",\"2016-04-08T17:00:00\",\"2016-04-17T12:45:00\",\"2016-04-17T02:15:00\",\"2016-04-12T05:30:00\",\"2016-04-12T04:45:00\",\"2016-04-11T15:45:00\",\"2016-04-11T15:30:00\",\"2016-04-11T15:15:00\",\"2016-04-11T15:00:00\",\"2016-04-11T14:45:00\",\"2016-04-11T13:00:00\",\"2016-04-11T12:00:00\",\"2016-04-11T11:45:00\",\"2016-04-11T11:00:00\",\"2016-04-11T10:00:00\",\"2016-04-11T07:45:00\",\"2016-04-11T06:30:00\",\"2016-04-11T04:15:00\",\"2016-04-10T23:45:00\",\"2016-04-10T23:00:00\",\"2016-04-09T00:00:00\",\"2016-04-09T00:15:00\",\"2016-04-09T01:00:00\",\"2016-04-09T01:15:00\",\"2016-04-09T06:45:00\",\"2016-04-09T09:30:00\",\"2016-04-12T06:00:00\",\"2016-04-09T10:30:00\",\"2016-04-09T13:00:00\",\"2016-04-10T05:00:00\",\"2016-04-10T06:15:00\",\"2016-04-10T06:45:00\",\"2016-04-10T07:00:00\",\"2016-04-10T22:15:00\",\"2016-04-09T12:45:00\",\"2016-04-17T12:30:00\",\"2016-04-12T06:45:00\",\"2016-04-12T09:00:00\",\"2016-04-16T23:45:00\",\"2016-04-16T23:15:00\",\"2016-04-16T21:30:00\",\"2016-04-16T16:30:00\",\"2016-04-16T16:00:00\",\"2016-04-16T15:00:00\",\"2016-04-16T06:30:00\",\"2016-04-16T06:15:00\",\"2016-04-16T01:45:00\",\"2016-04-16T00:30:00\",\"2016-04-15T16:15:00\",\"2016-04-15T16:00:00\",\"2016-04-15T15:30:00\",\"2016-04-15T14:00:00\",\"2016-04-14T23:00:00\",\"2016-04-14T22:45:00\",\"2016-04-14T20:00:00\",\"2016-04-12T09:45:00\",\"2016-04-12T11:30:00\",\"2016-04-12T13:15:00\",\"2016-04-12T13:30:00\",\"2016-04-12T16:15:00\",\"2016-04-12T16:45:00\",\"2016-04-12T08:30:00\",\"2016-04-12T17:15:00\",\"2016-04-13T13:00:00\",\"2016-04-13T15:45:00\",\"2016-04-14T02:00:00\",\"2016-04-14T06:15:00\",\"2016-04-14T06:45:00\",\"2016-04-14T07:15:00\",\"2016-04-12T17:30:00\",\"2016-03-24T03:00:00\",\"2016-04-14T20:15:00\",\"2016-03-24T01:45:00\",\"2016-04-12T10:30:00\",\"2016-04-12T09:15:00\",\"2016-04-12T08:45:00\",\"2016-04-12T07:45:00\",\"2016-04-12T07:00:00\",\"2016-04-12T06:30:00\",\"2016-04-12T05:45:00\",\"2016-04-12T04:30:00\",\"2016-04-12T04:15:00\",\"2016-04-12T04:00:00\",\"2016-04-11T14:15:00\",\"2016-04-11T13:30:00\",\"2016-04-11T13:15:00\",\"2016-04-11T12:15:00\",\"2016-04-11T10:30:00\",\"2016-04-11T06:15:00\",\"2016-04-11T05:15:00\",\"2016-04-09T10:15:00\",\"2016-04-09T11:45:00\",\"2016-04-10T04:30:00\",\"2016-04-10T05:15:00\",\"2016-04-10T06:30:00\",\"2016-04-10T07:30:00\",\"2016-04-12T12:00:00\",\"2016-04-10T08:15:00\",\"2016-04-10T20:00:00\",\"2016-04-10T20:15:00\",\"2016-04-10T20:30:00\",\"2016-04-10T20:45:00\",\"2016-04-10T22:30:00\",\"2016-04-11T04:30:00\",\"2016-04-10T09:30:00\",\"2016-04-09T09:00:00\",\"2016-04-12T12:15:00\",\"2016-04-12T17:45:00\",\"2016-04-16T07:30:00\",\"2016-04-16T06:00:00\",\"2016-04-16T00:45:00\",\"2016-04-15T17:30:00\",\"2016-04-15T17:15:00\",\"2016-04-15T14:30:00\",\"2016-04-15T07:30:00\",\"2016-04-15T07:00:00\",\"2016-04-15T06:30:00\",\"2016-04-15T06:00:00\",\"2016-04-14T23:45:00\",\"2016-04-14T23:30:00\",\"2016-04-14T22:30:00\",\"2016-04-14T22:15:00\",\"2016-04-14T22:00:00\",\"2016-04-14T21:30:00\",\"2016-04-14T20:45:00\",\"2016-04-13T11:15:00\",\"2016-04-13T12:45:00\",\"2016-04-13T13:15:00\",\"2016-04-13T14:30:00\",\"2016-04-13T15:00:00\",\"2016-04-13T15:15:00\",\"2016-04-12T12:45:00\",\"2016-04-14T02:45:00\",\"2016-04-14T04:00:00\",\"2016-04-14T04:45:00\",\"2016-04-14T05:15:00\",\"2016-04-14T05:45:00\",\"2016-04-14T06:00:00\",\"2016-04-14T07:30:00\",\"2016-04-14T03:00:00\",\"2016-04-16T14:00:00\",\"2016-04-09T07:45:00\",\"2016-04-09T07:00:00\",\"2016-04-06T12:30:00\",\"2016-04-06T06:00:00\",\"2016-04-05T23:45:00\",\"2016-04-05T23:00:00\",\"2016-04-05T21:45:00\",\"2016-04-05T20:30:00\",\"2016-04-05T20:00:00\",\"2016-04-05T18:30:00\",\"2016-04-05T18:15:00\",\"2016-04-05T17:00:00\",\"2016-04-05T15:45:00\",\"2016-04-05T07:45:00\",\"2016-04-05T07:15:00\",\"2016-04-05T06:45:00\",\"2016-04-05T06:30:00\",\"2016-04-05T06:00:00\",\"2016-04-05T05:30:00\",\"2016-03-24T02:00:00\",\"2016-04-04T11:00:00\",\"2016-04-04T11:30:00\",\"2016-04-04T11:45:00\",\"2016-04-04T12:00:00\",\"2016-04-04T16:00:00\",\"2016-04-06T13:00:00\",\"2016-04-04T17:45:00\",\"2016-04-04T20:15:00\",\"2016-04-05T00:15:00\",\"2016-04-05T01:45:00\",\"2016-04-05T02:15:00\",\"2016-04-05T03:30:00\",\"2016-04-05T03:45:00\",\"2016-04-04T18:30:00\",\"2016-04-09T07:30:00\",\"2016-04-06T13:30:00\",\"2016-04-06T18:30:00\",\"2016-04-09T06:30:00\",\"2016-04-09T01:45:00\",\"2016-04-09T00:30:00\",\"2016-04-08T17:15:00\",\"2016-04-08T16:30:00\",\"2016-04-08T16:00:00\",\"2016-04-08T15:30:00\",\"2016-04-08T15:00:00\",\"2016-04-08T14:30:00\",\"2016-04-08T14:00:00\",\"2016-04-08T07:45:00\",\"2016-04-08T07:30:00\",\"2016-04-08T05:45:00\",\"2016-04-08T04:15:00\",\"2016-04-07T23:15:00\",\"2016-04-07T21:45:00\",\"2016-04-07T21:00:00\",\"2016-04-06T20:30:00\",\"2016-04-07T00:15:00\",\"2016-04-07T00:45:00\",\"2016-04-07T01:00:00\",\"2016-04-07T01:45:00\",\"2016-04-07T08:00:00\",\"2016-04-06T18:15:00\",\"2016-04-07T08:15:00\",\"2016-04-07T16:30:00\",\"2016-04-07T16:45:00\",\"2016-04-07T17:00:00\",\"2016-04-07T17:45:00\",\"2016-04-07T19:15:00\",\"2016-04-07T20:30:00\",\"2016-04-07T13:30:00\",\"2016-04-16T14:15:00\",\"2016-04-08T05:00:00\",\"2016-04-16T16:15:00\",\"2016-04-24T02:00:00\",\"2016-04-23T11:15:00\",\"2016-04-23T10:30:00\",\"2016-04-23T09:45:00\",\"2016-04-23T08:45:00\",\"2016-04-23T08:15:00\",\"2016-04-23T07:30:00\",\"2016-04-23T06:45:00\",\"2016-04-23T06:00:00\",\"2016-04-23T05:45:00\",\"2016-04-24T03:00:00\",\"2016-04-23T05:15:00\",\"2016-04-23T00:15:00\",\"2016-04-22T19:30:00\",\"2016-04-22T19:00:00\",\"2016-04-22T18:45:00\",\"2016-04-22T17:45:00\",\"2016-04-22T11:30:00\",\"2016-04-22T10:30:00\",\"2016-04-22T10:00:00\",\"2016-04-22T08:15:00\",\"2016-04-22T07:15:00\",\"2016-04-23T01:30:00\",\"2016-04-24T03:15:00\",\"2016-04-24T04:15:00\",\"2016-04-24T04:45:00\",\"2016-04-16T15:45:00\",\"2016-03-23T19:30:00\",\"2016-03-23T18:30:00\",\"2016-03-23T18:15:00\",\"2016-03-23T17:45:00\",\"2016-03-23T17:30:00\",\"2016-03-23T17:15:00\",\"2016-03-23T16:30:00\",\"2016-03-23T15:30:00\",\"2016-03-23T14:45:00\",\"2016-03-23T14:15:00\",\"2016-03-23T09:30:00\",\"2016-03-23T09:00:00\",\"2016-03-23T07:00:00\",\"2016-03-23T06:45:00\",\"2016-03-23T06:00:00\",\"2016-03-23T05:15:00\",\"2016-03-23T05:00:00\",\"2016-04-04T10:00:00\",\"2016-03-24T01:30:00\",\"2016-04-24T07:45:00\",\"2016-04-24T06:00:00\",\"2016-04-24T05:00:00\",\"2016-04-22T07:00:00\",\"2016-04-22T05:30:00\",\"2016-04-23T22:30:00\",\"2016-04-22T04:15:00\",\"2016-04-19T13:00:00\",\"2016-04-19T11:45:00\",\"2016-04-19T11:15:00\",\"2016-04-19T10:45:00\",\"2016-04-18T20:00:00\",\"2016-04-18T17:00:00\",\"2016-04-18T16:15:00\",\"2016-04-17T21:45:00\",\"2016-04-17T20:00:00\",\"2016-04-17T18:45:00\",\"2016-04-17T13:30:00\",\"2016-04-18T20:30:00\",\"2016-04-17T03:45:00\",\"2016-04-17T03:15:00\",\"2016-04-18T21:15:00\",\"2016-04-16T20:00:00\",\"2016-04-16T20:45:00\",\"2016-04-16T21:00:00\",\"2016-04-16T21:15:00\",\"2016-04-16T23:00:00\",\"2016-04-16T23:30:00\",\"2016-04-19T13:15:00\",\"2016-04-17T02:30:00\",\"2016-04-19T14:15:00\",\"2016-04-19T15:15:00\",\"2016-04-21T14:30:00\",\"2016-04-21T14:15:00\",\"2016-04-21T14:00:00\",\"2016-04-21T13:45:00\",\"2016-04-21T13:15:00\",\"2016-04-21T12:45:00\",\"2016-04-21T11:15:00\",\"2016-04-21T11:00:00\",\"2016-04-21T10:15:00\",\"2016-04-20T18:15:00\",\"2016-04-20T17:30:00\",\"2016-04-20T16:15:00\",\"2016-04-20T16:00:00\",\"2016-04-20T15:45:00\",\"2016-04-20T15:15:00\",\"2016-04-20T12:45:00\",\"2016-04-20T12:30:00\",\"2016-04-20T12:15:00\",\"2016-04-20T12:00:00\",\"2016-04-20T00:15:00\",\"2016-04-19T15:45:00\",\"2016-04-16T17:15:00\",\"2016-04-19T14:30:00\",\"2016-04-17T02:45:00\"],\"xaxis\":\"x\",\"y\":[2.5,3.5,2.5,8.0,0.5,63.0,40.0,15.0,0.5,0.5,1.5,21.0,35.5,36.0,9.5,7.0,7.0,44.5,44.5,7.5,7.5,35.5,27.5,21.0,1.0,2.5,3.5,2.5,32.0,25.5,28.0,9.0,5.5,39.5,12.5,69.5,46.5,50.5,33.5,4.0,1.5,3.0,2.0,16.0,4.5,24.0,0.5,6.0,20.0,5.0,47.0,32.0,2.5,14.5,9.0,17.5,21.5,57.5,35.5,56.5,2.0,56.5,2.0,3.0,3.5,4.0,2.5,3.5,2.5,1.5,1.5,11.0,1.0,1.5,1.0,1.0,1.0,2.5,2.5,1.5,2.0,3.5,1.5,66.5,56.5,1.5,1.5,0.5,2.0,0.5,20.0,7.0,2.5,3.5,3.5,3.0,9.0,1.5,2.0,2.0,2.0,1.0,1.0,52.0,2.0,2.0,50.0,10.0,17.0,5.0,2.5,9.5,1.5,0.5,1.0,2.0,68.5,1.5,0.5,1.0,2.0,1.5,1.5,1.5,11.0,6.5,12.5,18.0,1.0,30.0,21.0,35.0,35.0,44.0,3.5,13.5,170.0,130.0,151.5,125.0,28.5,83.0,28.0,3.5,34.5,1.0,1.0,1.0,1.5,1.5,1.0,1.0,0.5,1.0,2.5,23.5,18.5,6.0,22.0,0.5,0.5,6.0,10.0,95.5,1.5,1.5,1.5,2.0,1.5,1.5,1.5,1.0,1.5,1.5,0.5,0.5,1.0,0.5,0.5,0.5,1.5,1.5,2.0,9.5,3.0,28.0,33.0,33.0,49.0,49.0,68.5,0.5,61.5,61.5,61.5,55.5,27.0,22.0,20.0,20.0,20.0,23.5,8.0,67.0,67.0,76.0,37.0,39.5,71.0,25.5,25.5,7.5,13.0,14.5,62.0,51.5,93.0,88.0,78.0,91.5,81.5,70.0,1.5,107.5,73.5,1.0,1.5,1.0,2.0,0.5,0.5,0.5,0.5,7.0,2.5,2.0,2.0,45.0,55.5,24.0,17.5,26.5,6.0,3.5,41.0,41.0,1.0,1.0,78.5,94.0,104.0,99.0,2.0,2.0,33.5,0.5,2.0,5.5,31.0,5.0,5.0,0.5,1.5,0.5,1.5,5.5,3.5,27.0,4.0,39.0,2.5,2.5,1.5,1.5,1.0,1.5,2.0,11.0,0.5,11.0,8.5,7.0,1.0,1.0,0.5,1.5,1.5,18.0,2.5,18.0,62.5,5.0,5.0,3.5,1.5,25.0,30.0,30.0,1.5,19.5,40.0,50.5,43.0,36.0,28.5,6.0,16.0,51.0,3.5,25.5,25.5,44.5,33.5,28.0,11.0,16.0,16.0,26.0,20.5,20.5,62.5,56.5,2.0,1.5,76.5,80.0,31.5,1.0,0.5,0.5,1.5,1.0,2.0,0.5,1.5,1.5,2.0,2.0,1.5,1.5,1.5,2.0,1.5,1.5,0.5,0.5,1.0,1.0,3.0,7.0,20.5,20.5,3.0,66.0,2.0,1.5,1.5,1.5,2.5,2.5,9.0,2.5,1.0,0.5,1.0,6.0,51.0,47.0,32.0,32.0,57.5,16.5,65.0,57.5,65.0,52.0,51.5,51.5,29.0,10.0,12.5,53.0,17.5,14.0,1.5,1.5,1.5,65.5,40.0,108.0,1.5,2.0,1.5,2.0,2.5,6.0,25.5,7.0,7.0,8.5,6.5,7.5,9.5,9.5,9.5,9.5,9.5,14.5,7.5,25.5,32.0,14.5,9.0,7.5,5.0,14.5,2.0,31.0,0.5,1.5,5.0,2.0,1.0,30.5,35.5,18.5,26.0,37.5,12.0,18.0,18.0,23.5,36.0,23.5,18.5,15.5,51.0,41.0,1.5,3.5,1.5,0.5,0.5,0.5,0.5,1.0,2.0,2.0,1.0,1.5,1.0,1.0,1.5,6.5,34.5,18.5,40.5,18.5,13.5,3.5,3.5,2.5,2.0,1.5,1.0,11.0,6.5,11.0,1.0,1.5,1.5,1.5,1.5,18.0,2.5,1.5,0.5,1.5,28.5,20.0,16.0,13.0,1.0,31.0,26.0,15.5,35.5,3.5,8.0,37.0,28.5,28.5,28.0,28.0,33.5,33.5,20.5,33.5,40.0,7.0,16.0,20.0,20.5,20.5,31.0,1.0,1.0,32.0,20.5,62.5,14.5,10.0,1.5,1.0,1.5,1.5,45.0,5.5,3.5,1.5,35.0,31.5,108.0,116.5,129.5,103.0,45.5,74.0,40.5,50.5,32.5,81.5,88.0,73.0,62.0,72.0,72.0,15.5,7.5,17.5,5.5,39.5,59.5,28.0,8.5,52.0,52.0,41.5,26.5,12.0,12.0,97.0,17.5,97.0,63.5,86.0,65.0,81.5,61.0,73.5,53.5,41.0,45.0,4.0,90.0,90.0,67.0,90.0,40.5,6.0,5.5,33.5,39.5,34.5,56.0,45.0,36.0,63.5,41.0,94.0,106.0,72.0,90.0,90.0,75.5,35.0,70.0,6.0,1.0,2.0,1.0,1.0,1.0,1.5,2.5,2.0,2.0,1.5,2.0,1.5,1.0,2.0,1.0,1.0,1.0,1.0,19.5,23.5,104.0,135.0,151.5,170.0,126.5,46.0,68.0,57.0,47.0,0.5,51.5,0.5,20.0,51.5,10.0,5.5,0.5,31.0,33.5,96.0,117.5,78.5,18.0,1.5,27.5,1.0,1.0,41.0,33.0,26.5,22.0,69.0,69.0,2.0,4.0,1.0,3.0,2.5,2.5,9.5,25.5,31.5,1.0,44.5,40.5,21.5,2.0,2.0,14.5,4.0,7.5,10.0,0.5,38.0,10.0,8.0,50.0,51.5,51.5,57.5,35.5,67.5,38.5,11.0,1.5,1.0,20.5,43.0,28.5,76.5,51.0,18.0,17.5,17.5,38.5,21.5,21.5,48.0,4.5,76.5,68.5,1.5,1.0,0.5,0.5,1.5,2.0,2.5,1.0,1.5,2.0,0.5,4.5,4.5,23.5,0.5,0.5,1.0,0.5,1.0,1.0,2.0,2.0,1.5,68.5,2.0,1.5,1.0,0.5,1.5,0.5,0.5,2.0,6.0,13.0,28.5,73.5,1.0,14.5,20.5,26.0,20.0,16.0,1.5,40.0,33.5,17.5,17.5,39.5,55.0,55.0,69.5,42.5,21.0,57.5,1.5,1.5,34.5,51.5,52.0,19.5,27.5,25.5,50.5,43.0,3.0,33.0,23.5,4.5,3.5,1.5,36.0,3.0,36.0,12.0,2.0,6.5,4.5,1.5,2.5,2.0,1.5,1.5,2.0,2.0,19.0,1.5,1.5,1.0,1.5,3.0,67.5,20.5,3.0,3.5,12.0,2.5,3.0,3.0,1.5,1.5,1.5,3.5,17.0,4.0,81.5,14.5,6.0,4.0,18.5,32.0,23.5,51.0,51.0,10.0,35.0,17.5,36.0,62.0,70.0,70.0,61.5,3.5,10.0,49.5,0.5,1.0,63.0,63.0,72.0,85.0,44.0,63.0,33.5,44.0,6.0,4.5,0.5,26.5,68.5,88.0,90.0,26.0,26.0,26.0,1.0,1.0,56.0,62.5,69.0,63.5,53.5,61.0,72.5,29.0,41.5,41.5,106.0,83.5,91.5,91.5,56.5,84.0,25.0,73.0,50.0,91.0,62.0,71.5,69.0,106.0,72.5,67.0,4.0,2.5,2.5,37.5,21.0,27.0,27.0,27.0,27.0,34.0,18.0,23.5,28.5,12.5,16.0,12.0,27.0,51.0,3.0,4.5,1.5,1.5,2.0,4.0,2.0,1.0,14.0,1.5,1.0,1.0,1.5,1.0,1.0,2.0,1.5,31.0,40.5,30.5,2.0,3.0,7.5,0.5,0.5,1.0,0.5,0.5,2.0,1.0,2.0,2.0,1.0,1.0,3.5,4.0,1.5,35.5,62.0,47.0,25.5,32.5,46.0,35.5,68.0,28.5,43.0,3.5,1.5,1.5,2.0,21.0,21.0,2.0,26.0,35.0,44.0,44.0,40.5,35.5,21.0,21.0,21.0,65.5,30.5,15.5,28.5,33.5,28.5,20.0,9.5,61.5,1.5,3.5,1.5,1.5,1.0,2.5,25.5,0.5,5.5,7.0,2.5,2.5,1.5,9.0,0.5,1.0,47.0,21.0,0.5,1.0,1.0,11.0,39.5,2.5,0.5,1.5,1.5,1.5,2.5,3.5,1.0,1.0,1.0,2.0,2.0,144.5,125.0,83.0,9.5,28.0,23.5,54.0,1.0,0.5,1.0,1.0,7.5,1.0,3.0,1.0,1.5,2.5,1.0,0.5,1.0,25.5,45.5,76.5,6.5,0.5,1.0,1.0,1.5,2.5,21.0,17.0,17.0,30.5,8.5,16.0,5.5,17.5,11.0,31.5,40.0,11.0,7.5,32.0,57.5,52.0,43.5,51.5,51.5,51.5,38.5,2.0,0.5,1.5,1.0,1.5,1.5,4.0,30.5,6.0,6.0,8.0,1.0,1.5,1.0,1.0,1.5,3.0,1.5,3.0,3.0,0.5,2.5,2.0,1.5,2.0,0.5,1.5,0.5,1.0,16.0,2.0,12.5,2.5,4.5,1.0,1.0,2.0,2.0,85.5,47.5,47.5,36.5,72.5,94.0,72.0,98.0,72.0,86.0,4.0,63.5,151.0,115.5,89.5,89.5,45.5,88.0,88.0,80.0,62.0,72.0,97.0,2.5,2.0,17.0,1.0,9.5,6.5,9.5,14.0,16.5,6.5,5.0,14.5,25.5,32.0,7.0,8.5,8.5,9.5,6.5,6.5,5.5,54.0,36.0,55.5,40.5,6.0,84.5,18.5,51.5,4.0,56.0,62.5,23.5,2.0,110.5,2.5,2.0,33.0,33.0,17.5,24.0,104.0,2.5,3.5,96.0,40.0,1.5,1.5,40.0,3.0,2.0,37.0,2.0,28.5,5.5,25.5,25.5,17.5,28.0,71.0,39.5,37.0,31.0,52.0,57.5,41.5,14.0,8.5,16.0,36.0,53.5,53.5,39.0,45.5,6.0,35.0,57.0,28.5,2.0],\"yaxis\":\"y\",\"type\":\"scattergl\"}],                        {\"template\":{\"data\":{\"histogram2dcontour\":[{\"type\":\"histogram2dcontour\",\"colorbar\":{\"outlinewidth\":0,\"ticks\":\"\"},\"colorscale\":[[0.0,\"#0d0887\"],[0.1111111111111111,\"#46039f\"],[0.2222222222222222,\"#7201a8\"],[0.3333333333333333,\"#9c179e\"],[0.4444444444444444,\"#bd3786\"],[0.5555555555555556,\"#d8576b\"],[0.6666666666666666,\"#ed7953\"],[0.7777777777777778,\"#fb9f3a\"],[0.8888888888888888,\"#fdca26\"],[1.0,\"#f0f921\"]]}],\"choropleth\":[{\"type\":\"choropleth\",\"colorbar\":{\"outlinewidth\":0,\"ticks\":\"\"}}],\"histogram2d\":[{\"type\":\"histogram2d\",\"colorbar\":{\"outlinewidth\":0,\"ticks\":\"\"},\"colorscale\":[[0.0,\"#0d0887\"],[0.1111111111111111,\"#46039f\"],[0.2222222222222222,\"#7201a8\"],[0.3333333333333333,\"#9c179e\"],[0.4444444444444444,\"#bd3786\"],[0.5555555555555556,\"#d8576b\"],[0.6666666666666666,\"#ed7953\"],[0.7777777777777778,\"#fb9f3a\"],[0.8888888888888888,\"#fdca26\"],[1.0,\"#f0f921\"]]}],\"heatmap\":[{\"type\":\"heatmap\",\"colorbar\":{\"outlinewidth\":0,\"ticks\":\"\"},\"colorscale\":[[0.0,\"#0d0887\"],[0.1111111111111111,\"#46039f\"],[0.2222222222222222,\"#7201a8\"],[0.3333333333333333,\"#9c179e\"],[0.4444444444444444,\"#bd3786\"],[0.5555555555555556,\"#d8576b\"],[0.6666666666666666,\"#ed7953\"],[0.7777777777777778,\"#fb9f3a\"],[0.8888888888888888,\"#fdca26\"],[1.0,\"#f0f921\"]]}],\"heatmapgl\":[{\"type\":\"heatmapgl\",\"colorbar\":{\"outlinewidth\":0,\"ticks\":\"\"},\"colorscale\":[[0.0,\"#0d0887\"],[0.1111111111111111,\"#46039f\"],[0.2222222222222222,\"#7201a8\"],[0.3333333333333333,\"#9c179e\"],[0.4444444444444444,\"#bd3786\"],[0.5555555555555556,\"#d8576b\"],[0.6666666666666666,\"#ed7953\"],[0.7777777777777778,\"#fb9f3a\"],[0.8888888888888888,\"#fdca26\"],[1.0,\"#f0f921\"]]}],\"contourcarpet\":[{\"type\":\"contourcarpet\",\"colorbar\":{\"outlinewidth\":0,\"ticks\":\"\"}}],\"contour\":[{\"type\":\"contour\",\"colorbar\":{\"outlinewidth\":0,\"ticks\":\"\"},\"colorscale\":[[0.0,\"#0d0887\"],[0.1111111111111111,\"#46039f\"],[0.2222222222222222,\"#7201a8\"],[0.3333333333333333,\"#9c179e\"],[0.4444444444444444,\"#bd3786\"],[0.5555555555555556,\"#d8576b\"],[0.6666666666666666,\"#ed7953\"],[0.7777777777777778,\"#fb9f3a\"],[0.8888888888888888,\"#fdca26\"],[1.0,\"#f0f921\"]]}],\"surface\":[{\"type\":\"surface\",\"colorbar\":{\"outlinewidth\":0,\"ticks\":\"\"},\"colorscale\":[[0.0,\"#0d0887\"],[0.1111111111111111,\"#46039f\"],[0.2222222222222222,\"#7201a8\"],[0.3333333333333333,\"#9c179e\"],[0.4444444444444444,\"#bd3786\"],[0.5555555555555556,\"#d8576b\"],[0.6666666666666666,\"#ed7953\"],[0.7777777777777778,\"#fb9f3a\"],[0.8888888888888888,\"#fdca26\"],[1.0,\"#f0f921\"]]}],\"mesh3d\":[{\"type\":\"mesh3d\",\"colorbar\":{\"outlinewidth\":0,\"ticks\":\"\"}}],\"scatter\":[{\"fillpattern\":{\"fillmode\":\"overlay\",\"size\":10,\"solidity\":0.2},\"type\":\"scatter\"}],\"parcoords\":[{\"type\":\"parcoords\",\"line\":{\"colorbar\":{\"outlinewidth\":0,\"ticks\":\"\"}}}],\"scatterpolargl\":[{\"type\":\"scatterpolargl\",\"marker\":{\"colorbar\":{\"outlinewidth\":0,\"ticks\":\"\"}}}],\"bar\":[{\"error_x\":{\"color\":\"#2a3f5f\"},\"error_y\":{\"color\":\"#2a3f5f\"},\"marker\":{\"line\":{\"color\":\"#E5ECF6\",\"width\":0.5},\"pattern\":{\"fillmode\":\"overlay\",\"size\":10,\"solidity\":0.2}},\"type\":\"bar\"}],\"scattergeo\":[{\"type\":\"scattergeo\",\"marker\":{\"colorbar\":{\"outlinewidth\":0,\"ticks\":\"\"}}}],\"scatterpolar\":[{\"type\":\"scatterpolar\",\"marker\":{\"colorbar\":{\"outlinewidth\":0,\"ticks\":\"\"}}}],\"histogram\":[{\"marker\":{\"pattern\":{\"fillmode\":\"overlay\",\"size\":10,\"solidity\":0.2}},\"type\":\"histogram\"}],\"scattergl\":[{\"type\":\"scattergl\",\"marker\":{\"colorbar\":{\"outlinewidth\":0,\"ticks\":\"\"}}}],\"scatter3d\":[{\"type\":\"scatter3d\",\"line\":{\"colorbar\":{\"outlinewidth\":0,\"ticks\":\"\"}},\"marker\":{\"colorbar\":{\"outlinewidth\":0,\"ticks\":\"\"}}}],\"scattermapbox\":[{\"type\":\"scattermapbox\",\"marker\":{\"colorbar\":{\"outlinewidth\":0,\"ticks\":\"\"}}}],\"scatterternary\":[{\"type\":\"scatterternary\",\"marker\":{\"colorbar\":{\"outlinewidth\":0,\"ticks\":\"\"}}}],\"scattercarpet\":[{\"type\":\"scattercarpet\",\"marker\":{\"colorbar\":{\"outlinewidth\":0,\"ticks\":\"\"}}}],\"carpet\":[{\"aaxis\":{\"endlinecolor\":\"#2a3f5f\",\"gridcolor\":\"white\",\"linecolor\":\"white\",\"minorgridcolor\":\"white\",\"startlinecolor\":\"#2a3f5f\"},\"baxis\":{\"endlinecolor\":\"#2a3f5f\",\"gridcolor\":\"white\",\"linecolor\":\"white\",\"minorgridcolor\":\"white\",\"startlinecolor\":\"#2a3f5f\"},\"type\":\"carpet\"}],\"table\":[{\"cells\":{\"fill\":{\"color\":\"#EBF0F8\"},\"line\":{\"color\":\"white\"}},\"header\":{\"fill\":{\"color\":\"#C8D4E3\"},\"line\":{\"color\":\"white\"}},\"type\":\"table\"}],\"barpolar\":[{\"marker\":{\"line\":{\"color\":\"#E5ECF6\",\"width\":0.5},\"pattern\":{\"fillmode\":\"overlay\",\"size\":10,\"solidity\":0.2}},\"type\":\"barpolar\"}],\"pie\":[{\"automargin\":true,\"type\":\"pie\"}]},\"layout\":{\"autotypenumbers\":\"strict\",\"colorway\":[\"#636efa\",\"#EF553B\",\"#00cc96\",\"#ab63fa\",\"#FFA15A\",\"#19d3f3\",\"#FF6692\",\"#B6E880\",\"#FF97FF\",\"#FECB52\"],\"font\":{\"color\":\"#2a3f5f\"},\"hovermode\":\"closest\",\"hoverlabel\":{\"align\":\"left\"},\"paper_bgcolor\":\"white\",\"plot_bgcolor\":\"#E5ECF6\",\"polar\":{\"bgcolor\":\"#E5ECF6\",\"angularaxis\":{\"gridcolor\":\"white\",\"linecolor\":\"white\",\"ticks\":\"\"},\"radialaxis\":{\"gridcolor\":\"white\",\"linecolor\":\"white\",\"ticks\":\"\"}},\"ternary\":{\"bgcolor\":\"#E5ECF6\",\"aaxis\":{\"gridcolor\":\"white\",\"linecolor\":\"white\",\"ticks\":\"\"},\"baxis\":{\"gridcolor\":\"white\",\"linecolor\":\"white\",\"ticks\":\"\"},\"caxis\":{\"gridcolor\":\"white\",\"linecolor\":\"white\",\"ticks\":\"\"}},\"coloraxis\":{\"colorbar\":{\"outlinewidth\":0,\"ticks\":\"\"}},\"colorscale\":{\"sequential\":[[0.0,\"#0d0887\"],[0.1111111111111111,\"#46039f\"],[0.2222222222222222,\"#7201a8\"],[0.3333333333333333,\"#9c179e\"],[0.4444444444444444,\"#bd3786\"],[0.5555555555555556,\"#d8576b\"],[0.6666666666666666,\"#ed7953\"],[0.7777777777777778,\"#fb9f3a\"],[0.8888888888888888,\"#fdca26\"],[1.0,\"#f0f921\"]],\"sequentialminus\":[[0.0,\"#0d0887\"],[0.1111111111111111,\"#46039f\"],[0.2222222222222222,\"#7201a8\"],[0.3333333333333333,\"#9c179e\"],[0.4444444444444444,\"#bd3786\"],[0.5555555555555556,\"#d8576b\"],[0.6666666666666666,\"#ed7953\"],[0.7777777777777778,\"#fb9f3a\"],[0.8888888888888888,\"#fdca26\"],[1.0,\"#f0f921\"]],\"diverging\":[[0,\"#8e0152\"],[0.1,\"#c51b7d\"],[0.2,\"#de77ae\"],[0.3,\"#f1b6da\"],[0.4,\"#fde0ef\"],[0.5,\"#f7f7f7\"],[0.6,\"#e6f5d0\"],[0.7,\"#b8e186\"],[0.8,\"#7fbc41\"],[0.9,\"#4d9221\"],[1,\"#276419\"]]},\"xaxis\":{\"gridcolor\":\"white\",\"linecolor\":\"white\",\"ticks\":\"\",\"title\":{\"standoff\":15},\"zerolinecolor\":\"white\",\"automargin\":true,\"zerolinewidth\":2},\"yaxis\":{\"gridcolor\":\"white\",\"linecolor\":\"white\",\"ticks\":\"\",\"title\":{\"standoff\":15},\"zerolinecolor\":\"white\",\"automargin\":true,\"zerolinewidth\":2},\"scene\":{\"xaxis\":{\"backgroundcolor\":\"#E5ECF6\",\"gridcolor\":\"white\",\"linecolor\":\"white\",\"showbackground\":true,\"ticks\":\"\",\"zerolinecolor\":\"white\",\"gridwidth\":2},\"yaxis\":{\"backgroundcolor\":\"#E5ECF6\",\"gridcolor\":\"white\",\"linecolor\":\"white\",\"showbackground\":true,\"ticks\":\"\",\"zerolinecolor\":\"white\",\"gridwidth\":2},\"zaxis\":{\"backgroundcolor\":\"#E5ECF6\",\"gridcolor\":\"white\",\"linecolor\":\"white\",\"showbackground\":true,\"ticks\":\"\",\"zerolinecolor\":\"white\",\"gridwidth\":2}},\"shapedefaults\":{\"line\":{\"color\":\"#2a3f5f\"}},\"annotationdefaults\":{\"arrowcolor\":\"#2a3f5f\",\"arrowhead\":0,\"arrowwidth\":1},\"geo\":{\"bgcolor\":\"white\",\"landcolor\":\"#E5ECF6\",\"subunitcolor\":\"white\",\"showland\":true,\"showlakes\":true,\"lakecolor\":\"white\"},\"title\":{\"x\":0.05},\"mapbox\":{\"style\":\"light\"}}},\"xaxis\":{\"anchor\":\"y\",\"domain\":[0.0,1.0],\"title\":{\"text\":\"time\"}},\"yaxis\":{\"anchor\":\"x\",\"domain\":[0.0,1.0],\"title\":{\"text\":\"depth\"}},\"coloraxis\":{\"colorbar\":{\"title\":{\"text\":\"sin_sun\"}},\"colorscale\":[[0.0,\"#0d0887\"],[0.1111111111111111,\"#46039f\"],[0.2222222222222222,\"#7201a8\"],[0.3333333333333333,\"#9c179e\"],[0.4444444444444444,\"#bd3786\"],[0.5555555555555556,\"#d8576b\"],[0.6666666666666666,\"#ed7953\"],[0.7777777777777778,\"#fb9f3a\"],[0.8888888888888888,\"#fdca26\"],[1.0,\"#f0f921\"]]},\"legend\":{\"tracegroupgap\":0},\"margin\":{\"t\":60}},                        {\"responsive\": true}                    ).then(function(){\n",
       "                            \n",
       "var gd = document.getElementById('dc5319e2-3a89-46c4-9af8-9dc39bbdfdb7');\n",
       "var x = new MutationObserver(function (mutations, observer) {{\n",
       "        var display = window.getComputedStyle(gd).display;\n",
       "        if (!display || display === 'none') {{\n",
       "            console.log([gd, 'removed!']);\n",
       "            Plotly.purge(gd);\n",
       "            observer.disconnect();\n",
       "        }}\n",
       "}});\n",
       "\n",
       "// Listen for the removal of the full notebook cells\n",
       "var notebookContainer = gd.closest('#notebook-container');\n",
       "if (notebookContainer) {{\n",
       "    x.observe(notebookContainer, {childList: true});\n",
       "}}\n",
       "\n",
       "// Listen for the clearing of the current output cell\n",
       "var outputEl = gd.closest('.output');\n",
       "if (outputEl) {{\n",
       "    x.observe(outputEl, {childList: true});\n",
       "}}\n",
       "\n",
       "                        })                };                });            </script>        </div>"
      ]
     },
     "metadata": {},
     "output_type": "display_data"
    }
   ],
   "source": [
    "data['time'] = pd.to_datetime(data['epoch'], unit='s')\n",
    "px.scatter(\n",
    "    data[data['_individual'] == 20], x='time', y='depth', color='sin_sun'\n",
    ")"
   ]
  },
  {
   "cell_type": "code",
   "execution_count": null,
   "metadata": {},
   "outputs": [],
   "source": []
  }
 ],
 "metadata": {
  "kernelspec": {
   "display_name": "base",
   "language": "python",
   "name": "python3"
  },
  "language_info": {
   "codemirror_mode": {
    "name": "ipython",
    "version": 3
   },
   "file_extension": ".py",
   "mimetype": "text/x-python",
   "name": "python",
   "nbconvert_exporter": "python",
   "pygments_lexer": "ipython3",
   "version": "3.12.4"
  }
 },
 "nbformat": 4,
 "nbformat_minor": 2
}
