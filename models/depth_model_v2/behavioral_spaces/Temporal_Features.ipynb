{
 "cells": [
  {
   "cell_type": "code",
   "execution_count": null,
   "metadata": {},
   "outputs": [],
   "source": [
    "import os\n",
    "os.environ['AWS_PROFILE'] = 'admin'\n",
    "os.environ['HAVEN_DATABASE'] = 'haven'\n",
    "\n",
    "import numpy as np\n",
    "import pandas as pd\n",
    "from scipy.stats import norm\n",
    "from random import sample\n",
    "import h3\n",
    "from suntimes import SunTimes\n",
    "from datetime import datetime\n",
    "import ephem\n",
    "\n",
    "from mirrorverse.utils import read_data_w_cache\n",
    "from haven.db import write_data"
   ]
  },
  {
   "cell_type": "code",
   "execution_count": null,
   "metadata": {},
   "outputs": [],
   "source": [
    "data = read_data_w_cache(\n",
    "    'select * from chinook_depth_decisions'\n",
    ")\n",
    "print(data.shape)\n",
    "data.head()"
   ]
  },
  {
   "cell_type": "code",
   "execution_count": null,
   "metadata": {},
   "outputs": [],
   "source": [
    "data['lat'] = data['h3_index'].apply(lambda h: h3.h3_to_geo(h)[0])\n",
    "data['lon'] = data['h3_index'].apply(lambda h: h3.h3_to_geo(h)[1])\n",
    "data.head()"
   ]
  },
  {
   "cell_type": "code",
   "execution_count": null,
   "metadata": {},
   "outputs": [],
   "source": [
    "def sunset(row):\n",
    "    suntime = SunTimes(longitude=row['lon'], latitude=row['lat'], altitude=0)\n",
    "    return suntime.setwhere(row['time'], \"UTC\")\n",
    "\n",
    "def sunrise(row):\n",
    "    suntime = SunTimes(longitude=row['lon'], latitude=row['lat'], altitude=0)\n",
    "    return suntime.risewhere(row['time'], \"UTC\")\n",
    "\n",
    "data['sunrise'] = data.apply(sunrise, axis=1).dt.time\n",
    "data['sunset'] = data.apply(sunset, axis=1).dt.time\n",
    "data['time'] = pd.to_datetime(data['epoch'], unit='s').dt.time\n",
    "data.head()"
   ]
  },
  {
   "cell_type": "code",
   "execution_count": null,
   "metadata": {},
   "outputs": [],
   "source": [
    "def convert_sun_to_radians(row):\n",
    "    sunrise = datetime.combine(datetime.today(), row['sunrise'])\n",
    "    sunset = datetime.combine(datetime.today(), row['sunset'])\n",
    "    time = datetime.combine(datetime.today(), row['time'])\n",
    "\n",
    "    sun_is_up = False\n",
    "    percent_through = 0\n",
    "    if time >= sunrise and time < sunset:\n",
    "        sun_is_up = True\n",
    "        percent_through = (time - sunrise).total_seconds() / (sunset - sunrise).total_seconds()\n",
    "    elif time >= sunset and time < sunrise:\n",
    "        sun_is_up = False\n",
    "        percent_through = (time - sunset).total_seconds() / (sunrise - sunset).total_seconds()\n",
    "    elif sunrise > sunset:\n",
    "        sun_is_up = True\n",
    "        total_duration = 24 * 60 * 60 - (sunrise - sunset).total_seconds() \n",
    "        if time >= sunrise:\n",
    "            duration = (time - sunrise).total_seconds()\n",
    "        else:\n",
    "            duration = total_duration - (sunset - time).total_seconds()\n",
    "        percent_through = duration / total_duration\n",
    "    else:\n",
    "        sun_is_up = False\n",
    "        total_duration = 24 * 60 * 60 - (sunset - sunrise).total_seconds() \n",
    "        if time >= sunset:\n",
    "            duration = (time - sunset).total_seconds()\n",
    "        else:\n",
    "            duration = total_duration - (sunrise - time).total_seconds()\n",
    "        percent_through = duration / total_duration\n",
    "    \n",
    "    return percent_through * np.pi + (1 - sun_is_up) * np.pi\n",
    "\n",
    "\n",
    "data['sun_radians'] = data.apply(lambda r: convert_sun_to_radians(r), axis=1)\n",
    "data.head()"
   ]
  },
  {
   "cell_type": "code",
   "execution_count": null,
   "metadata": {},
   "outputs": [],
   "source": [
    "data['cos_sun'] = np.cos(data['sun_radians'])\n",
    "data['sin_sun'] = np.sin(data['sun_radians'])\n",
    "data.head()"
   ]
  },
  {
   "cell_type": "code",
   "execution_count": null,
   "metadata": {},
   "outputs": [],
   "source": [
    "def convert_moon_to_radians(date):\n",
    "    edate = ephem.Date(date)\n",
    "    nnm = ephem.next_new_moon(date)\n",
    "    pnm = ephem.previous_new_moon(date)\n",
    "    if nnm == edate or pnm == edate:\n",
    "        percent_through = 0\n",
    "    else:\n",
    "        percent_through = (edate - pnm) / (nnm - pnm)\n",
    "    return np.pi * 2 * percent_through\n",
    "\n",
    "\n",
    "data['time'] = pd.to_datetime(data['epoch'], unit='s').dt.date\n",
    "data['moon_radians'] = data['time'].apply(convert_moon_to_radians)\n",
    "data.head()"
   ]
  },
  {
   "cell_type": "code",
   "execution_count": null,
   "metadata": {},
   "outputs": [],
   "source": [
    "data['cos_moon'] = np.cos(data['moon_radians'])\n",
    "data['sin_moon'] = np.sin(data['moon_radians'])\n",
    "data.head()"
   ]
  },
  {
   "cell_type": "code",
   "execution_count": null,
   "metadata": {},
   "outputs": [],
   "source": [
    "from datetime import date\n",
    "\n",
    "def convert_orbit_to_radians(_date):\n",
    "    return _date.timetuple().tm_yday / date(_date.year, 12, 31).timetuple().tm_yday * np.pi * 2\n",
    "\n",
    "data['orbit_radians'] = data['time'].apply(convert_orbit_to_radians)\n",
    "data.head()"
   ]
  },
  {
   "cell_type": "code",
   "execution_count": null,
   "metadata": {},
   "outputs": [],
   "source": [
    "data['cos_orbit'] = np.cos(data['orbit_radians'])\n",
    "data['sin_orbit'] = np.sin(data['orbit_radians'])\n",
    "data.head()"
   ]
  },
  {
   "cell_type": "code",
   "execution_count": 11,
   "metadata": {},
   "outputs": [],
   "source": [
    "del data['sunrise']\n",
    "del data['sunset']"
   ]
  },
  {
   "cell_type": "code",
   "execution_count": 12,
   "metadata": {},
   "outputs": [],
   "source": [
    "write_data(\n",
    "    data, 'chinook_depth_decisions_w_time', ['_train']\n",
    ")"
   ]
  },
  {
   "cell_type": "code",
   "execution_count": null,
   "metadata": {},
   "outputs": [],
   "source": []
  }
 ],
 "metadata": {
  "kernelspec": {
   "display_name": "base",
   "language": "python",
   "name": "python3"
  },
  "language_info": {
   "codemirror_mode": {
    "name": "ipython",
    "version": 3
   },
   "file_extension": ".py",
   "mimetype": "text/x-python",
   "name": "python",
   "nbconvert_exporter": "python",
   "pygments_lexer": "ipython3",
   "version": "3.12.4"
  }
 },
 "nbformat": 4,
 "nbformat_minor": 2
}
