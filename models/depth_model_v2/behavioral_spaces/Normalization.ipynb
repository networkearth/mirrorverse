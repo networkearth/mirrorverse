{
 "cells": [
  {
   "cell_type": "code",
   "execution_count": 1,
   "metadata": {},
   "outputs": [],
   "source": [
    "import os\n",
    "os.environ['AWS_PROFILE'] = 'admin'\n",
    "os.environ['HAVEN_DATABASE'] = 'haven'\n",
    "\n",
    "import numpy as np\n",
    "import pandas as pd\n",
    "import plotly.express as px\n",
    "\n",
    "from mirrorverse.utils import read_data_w_cache"
   ]
  },
  {
   "cell_type": "code",
   "execution_count": null,
   "metadata": {},
   "outputs": [],
   "source": [
    "data = read_data_w_cache(\n",
    "    'select * from chinook_depth_raw_choices where _train'\n",
    ")\n",
    "print(data.shape)\n",
    "data.head()"
   ]
  },
  {
   "cell_type": "code",
   "execution_count": null,
   "metadata": {},
   "outputs": [],
   "source": [
    "list(sorted(data.columns))"
   ]
  },
  {
   "cell_type": "code",
   "execution_count": null,
   "metadata": {},
   "outputs": [],
   "source": [
    "TOL = 0.001\n",
    "NORMS = {'TOL': TOL}\n",
    "\n",
    "NORMS['log_chlorophyll_min'] = np.min(np.log(data['chlorophyll'] + TOL))\n",
    "NORMS['log_chlorophyll_max'] = np.max(np.log(data['chlorophyll'] + TOL))\n",
    "\n",
    "data['n_chlorophyll'] = (np.log(data['chlorophyll'] + TOL) - NORMS['log_chlorophyll_min']) / \\\n",
    "    (NORMS['log_chlorophyll_max'] - NORMS['log_chlorophyll_min'])\n",
    "px.histogram(data['n_chlorophyll'].sample(10000))"
   ]
  },
  {
   "cell_type": "code",
   "execution_count": null,
   "metadata": {},
   "outputs": [],
   "source": [
    "NORMS['log_npp_min'] = np.min(np.log(data['net_primary_production'] + TOL))\n",
    "NORMS['log_npp_max'] = np.max(np.log(data['net_primary_production'] + TOL))\n",
    "\n",
    "data['n_net_primary_production'] = (np.log(data['net_primary_production'] + TOL) - NORMS['log_npp_min']) / \\\n",
    "    (NORMS['log_npp_max'] - NORMS['log_npp_min'])\n",
    "px.histogram(data['n_net_primary_production'].sample(10000))"
   ]
  },
  {
   "cell_type": "code",
   "execution_count": null,
   "metadata": {},
   "outputs": [],
   "source": [
    "NORMS['nitrate_min'] = np.min(data['nitrate'])\n",
    "NORMS['nitrate_max'] = np.max(data['nitrate'])\n",
    "\n",
    "data['n_nitrate'] = (data['nitrate'] - NORMS['nitrate_min']) / (NORMS['nitrate_max'] - NORMS['nitrate_min'])\n",
    "px.histogram(data['n_nitrate'].sample(10000))"
   ]
  },
  {
   "cell_type": "code",
   "execution_count": null,
   "metadata": {},
   "outputs": [],
   "source": [
    "NORMS['oxygen_min'] = np.min(data['oxygen'])\n",
    "NORMS['oxygen_max'] = np.max(data['oxygen'])\n",
    "\n",
    "data['n_oxygen'] = (data['oxygen'] - NORMS['oxygen_min']) / (NORMS['oxygen_max'] - NORMS['oxygen_min'])\n",
    "px.histogram(data['n_oxygen'].sample(10000))"
   ]
  },
  {
   "cell_type": "code",
   "execution_count": null,
   "metadata": {},
   "outputs": [],
   "source": [
    "NORMS['phosphate_min'] = np.min(data['phosphate'])\n",
    "NORMS['phosphate_max'] = np.max(data['phosphate'])\n",
    "\n",
    "data['n_phosphate'] = (data['phosphate'] - NORMS['phosphate_min']) / (NORMS['phosphate_max'] - NORMS['phosphate_min'])\n",
    "px.histogram(data['n_phosphate'].sample(10000))"
   ]
  },
  {
   "cell_type": "code",
   "execution_count": null,
   "metadata": {},
   "outputs": [],
   "source": [
    "NORMS['silicate_min'] = np.min(data['silicate'])\n",
    "NORMS['silicate_max'] = np.max(data['silicate'])\n",
    "\n",
    "data['n_silicate'] = (data['silicate'] - NORMS['silicate_min']) / (NORMS['silicate_max'] - NORMS['silicate_min'])\n",
    "px.histogram(data['n_silicate'].sample(10000))"
   ]
  },
  {
   "cell_type": "code",
   "execution_count": null,
   "metadata": {},
   "outputs": [],
   "source": [
    "data['negative_elevation'] = -data['elevation']\n",
    "data.loc[data['negative_elevation'] < 0, 'negative_elevation'] = 0 \n",
    "\n",
    "NORMS['elevation_min'] = np.min(data['negative_elevation'])\n",
    "NORMS['elevation_max'] = np.max(data['negative_elevation'])\n",
    "\n",
    "data['n_elevation'] = (data['negative_elevation'] - NORMS['elevation_min']) / (NORMS['elevation_max'] - NORMS['elevation_min'])\n",
    "px.histogram(data['n_elevation'].sample(10000))"
   ]
  },
  {
   "cell_type": "code",
   "execution_count": null,
   "metadata": {},
   "outputs": [],
   "source": [
    "NORMS['log_mixed_layer_thickness_min'] = np.min(np.log(data['mixed_layer_thickness'] + TOL))\n",
    "NORMS['log_mixed_layer_thickness_max'] = np.max(np.log(data['mixed_layer_thickness'] + TOL))\n",
    "\n",
    "data['n_mixed_layer_thickness'] = (np.log(data['mixed_layer_thickness'] + TOL) - NORMS['log_mixed_layer_thickness_min']) / \\\n",
    "    (NORMS['log_mixed_layer_thickness_max'] - NORMS['log_mixed_layer_thickness_min'])\n",
    "px.histogram(data['n_mixed_layer_thickness'].sample(10000))"
   ]
  },
  {
   "cell_type": "code",
   "execution_count": null,
   "metadata": {},
   "outputs": [],
   "source": [
    "NORMS['salinity_min'] = np.min(data['salinity'])\n",
    "NORMS['salinity_max'] = np.max(data['salinity'])\n",
    "\n",
    "data['n_salinity'] = (data['salinity'] - NORMS['salinity_min']) / (NORMS['salinity_max'] - NORMS['salinity_min'])\n",
    "px.histogram(data['n_salinity'].sample(10000))"
   ]
  },
  {
   "cell_type": "code",
   "execution_count": null,
   "metadata": {},
   "outputs": [],
   "source": [
    "NORMS['temperature_min'] = np.min(data['temperature'])\n",
    "NORMS['temperature_max'] = np.max(data['temperature'])\n",
    "\n",
    "data['n_temperature'] = (data['temperature'] - NORMS['temperature_min']) / (NORMS['temperature_max'] - NORMS['temperature_min'])\n",
    "px.histogram(data['n_temperature'].sample(10000))"
   ]
  },
  {
   "cell_type": "code",
   "execution_count": null,
   "metadata": {},
   "outputs": [],
   "source": [
    "NORMS"
   ]
  },
  {
   "cell_type": "code",
   "execution_count": null,
   "metadata": {},
   "outputs": [],
   "source": [
    "data.groupby('_individual')['_decision'].nunique().describe()"
   ]
  },
  {
   "cell_type": "code",
   "execution_count": null,
   "metadata": {},
   "outputs": [],
   "source": []
  }
 ],
 "metadata": {
  "kernelspec": {
   "display_name": "base",
   "language": "python",
   "name": "python3"
  },
  "language_info": {
   "codemirror_mode": {
    "name": "ipython",
    "version": 3
   },
   "file_extension": ".py",
   "mimetype": "text/x-python",
   "name": "python",
   "nbconvert_exporter": "python",
   "pygments_lexer": "ipython3",
   "version": "3.12.4"
  }
 },
 "nbformat": 4,
 "nbformat_minor": 2
}
