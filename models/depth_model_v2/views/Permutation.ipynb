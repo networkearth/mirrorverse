{
 "cells": [
  {
   "cell_type": "code",
   "execution_count": 1,
   "id": "d42b0ca2",
   "metadata": {},
   "outputs": [],
   "source": [
    "import os \n",
    "os.environ['AWS_PROFILE'] = 'admin'\n",
    "os.environ['HAVEN_DATABASE'] = 'haven'\n",
    "\n",
    "import plotly.express as px\n",
    "import numpy as np\n",
    "import pandas as pd\n",
    "from collections import defaultdict\n",
    "from tqdm import tqdm\n",
    "from random import choice\n",
    "import h3\n",
    "\n",
    "from mirrorverse.utils import read_data_w_cache"
   ]
  },
  {
   "cell_type": "code",
   "execution_count": 2,
   "id": "145ea9ec",
   "metadata": {},
   "outputs": [
    {
     "name": "stdout",
     "output_type": "stream",
     "text": [
      "(1285984, 49)\n"
     ]
    },
    {
     "data": {
      "text/html": [
       "<div>\n",
       "<style scoped>\n",
       "    .dataframe tbody tr th:only-of-type {\n",
       "        vertical-align: middle;\n",
       "    }\n",
       "\n",
       "    .dataframe tbody tr th {\n",
       "        vertical-align: top;\n",
       "    }\n",
       "\n",
       "    .dataframe thead th {\n",
       "        text-align: right;\n",
       "    }\n",
       "</style>\n",
       "<table border=\"1\" class=\"dataframe\">\n",
       "  <thead>\n",
       "    <tr style=\"text-align: right;\">\n",
       "      <th></th>\n",
       "      <th>habitat</th>\n",
       "      <th>_individual</th>\n",
       "      <th>_decision</th>\n",
       "      <th>_choice</th>\n",
       "      <th>_selected</th>\n",
       "      <th>tag_key</th>\n",
       "      <th>h3_index</th>\n",
       "      <th>time</th>\n",
       "      <th>depth_bin</th>\n",
       "      <th>n_depth_bin</th>\n",
       "      <th>...</th>\n",
       "      <th>odds</th>\n",
       "      <th>probability</th>\n",
       "      <th>experiment_name</th>\n",
       "      <th>run_id</th>\n",
       "      <th>_train</th>\n",
       "      <th>_partition</th>\n",
       "      <th>month</th>\n",
       "      <th>max_depth_bin</th>\n",
       "      <th>radians</th>\n",
       "      <th>nll</th>\n",
       "    </tr>\n",
       "  </thead>\n",
       "  <tbody>\n",
       "    <tr>\n",
       "      <th>0</th>\n",
       "      <td>0.958996</td>\n",
       "      <td>73</td>\n",
       "      <td>320036</td>\n",
       "      <td>1</td>\n",
       "      <td>False</td>\n",
       "      <td>159014b</td>\n",
       "      <td>840c53bffffffff</td>\n",
       "      <td>2017-04-01</td>\n",
       "      <td>25.0</td>\n",
       "      <td>0.1</td>\n",
       "      <td>...</td>\n",
       "      <td>14.407755</td>\n",
       "      <td>0.633601</td>\n",
       "      <td>chinook-depth-3-5-1</td>\n",
       "      <td>a43c72eff441211221256194305afd6a9ceb5a277a01f3...</td>\n",
       "      <td>False</td>\n",
       "      <td>0</td>\n",
       "      <td>4</td>\n",
       "      <td>0.4</td>\n",
       "      <td>-0.171004</td>\n",
       "      <td>0.456336</td>\n",
       "    </tr>\n",
       "    <tr>\n",
       "      <th>1</th>\n",
       "      <td>0.958996</td>\n",
       "      <td>73</td>\n",
       "      <td>320036</td>\n",
       "      <td>2</td>\n",
       "      <td>False</td>\n",
       "      <td>159014b</td>\n",
       "      <td>840c53bffffffff</td>\n",
       "      <td>2017-04-01</td>\n",
       "      <td>50.0</td>\n",
       "      <td>0.2</td>\n",
       "      <td>...</td>\n",
       "      <td>4.129467</td>\n",
       "      <td>0.181599</td>\n",
       "      <td>chinook-depth-3-5-1</td>\n",
       "      <td>a43c72eff441211221256194305afd6a9ceb5a277a01f3...</td>\n",
       "      <td>False</td>\n",
       "      <td>0</td>\n",
       "      <td>4</td>\n",
       "      <td>0.4</td>\n",
       "      <td>-0.171004</td>\n",
       "      <td>1.705954</td>\n",
       "    </tr>\n",
       "    <tr>\n",
       "      <th>2</th>\n",
       "      <td>0.958996</td>\n",
       "      <td>73</td>\n",
       "      <td>320036</td>\n",
       "      <td>4</td>\n",
       "      <td>True</td>\n",
       "      <td>159014b</td>\n",
       "      <td>840c53bffffffff</td>\n",
       "      <td>2017-04-01</td>\n",
       "      <td>100.0</td>\n",
       "      <td>0.4</td>\n",
       "      <td>...</td>\n",
       "      <td>1.852618</td>\n",
       "      <td>0.081471</td>\n",
       "      <td>chinook-depth-3-5-1</td>\n",
       "      <td>a43c72eff441211221256194305afd6a9ceb5a277a01f3...</td>\n",
       "      <td>False</td>\n",
       "      <td>0</td>\n",
       "      <td>4</td>\n",
       "      <td>0.4</td>\n",
       "      <td>-0.171004</td>\n",
       "      <td>2.507502</td>\n",
       "    </tr>\n",
       "    <tr>\n",
       "      <th>3</th>\n",
       "      <td>0.958996</td>\n",
       "      <td>73</td>\n",
       "      <td>320036</td>\n",
       "      <td>3</td>\n",
       "      <td>False</td>\n",
       "      <td>159014b</td>\n",
       "      <td>840c53bffffffff</td>\n",
       "      <td>2017-04-01</td>\n",
       "      <td>75.0</td>\n",
       "      <td>0.3</td>\n",
       "      <td>...</td>\n",
       "      <td>2.349631</td>\n",
       "      <td>0.103328</td>\n",
       "      <td>chinook-depth-3-5-1</td>\n",
       "      <td>a43c72eff441211221256194305afd6a9ceb5a277a01f3...</td>\n",
       "      <td>False</td>\n",
       "      <td>0</td>\n",
       "      <td>4</td>\n",
       "      <td>0.4</td>\n",
       "      <td>-0.171004</td>\n",
       "      <td>2.269844</td>\n",
       "    </tr>\n",
       "    <tr>\n",
       "      <th>4</th>\n",
       "      <td>0.958996</td>\n",
       "      <td>73</td>\n",
       "      <td>320084</td>\n",
       "      <td>2</td>\n",
       "      <td>False</td>\n",
       "      <td>159014b</td>\n",
       "      <td>840c53bffffffff</td>\n",
       "      <td>2017-03-31</td>\n",
       "      <td>50.0</td>\n",
       "      <td>0.2</td>\n",
       "      <td>...</td>\n",
       "      <td>2.712356</td>\n",
       "      <td>0.144291</td>\n",
       "      <td>chinook-depth-3-5-1</td>\n",
       "      <td>a43c72eff441211221256194305afd6a9ceb5a277a01f3...</td>\n",
       "      <td>False</td>\n",
       "      <td>0</td>\n",
       "      <td>3</td>\n",
       "      <td>0.4</td>\n",
       "      <td>1.753263</td>\n",
       "      <td>1.935926</td>\n",
       "    </tr>\n",
       "  </tbody>\n",
       "</table>\n",
       "<p>5 rows × 49 columns</p>\n",
       "</div>"
      ],
      "text/plain": [
       "    habitat  _individual  _decision  _choice  _selected  tag_key  \\\n",
       "0  0.958996           73     320036        1      False  159014b   \n",
       "1  0.958996           73     320036        2      False  159014b   \n",
       "2  0.958996           73     320036        4       True  159014b   \n",
       "3  0.958996           73     320036        3      False  159014b   \n",
       "4  0.958996           73     320084        2      False  159014b   \n",
       "\n",
       "          h3_index        time  depth_bin  n_depth_bin  ...       odds  \\\n",
       "0  840c53bffffffff  2017-04-01       25.0          0.1  ...  14.407755   \n",
       "1  840c53bffffffff  2017-04-01       50.0          0.2  ...   4.129467   \n",
       "2  840c53bffffffff  2017-04-01      100.0          0.4  ...   1.852618   \n",
       "3  840c53bffffffff  2017-04-01       75.0          0.3  ...   2.349631   \n",
       "4  840c53bffffffff  2017-03-31       50.0          0.2  ...   2.712356   \n",
       "\n",
       "   probability      experiment_name  \\\n",
       "0     0.633601  chinook-depth-3-5-1   \n",
       "1     0.181599  chinook-depth-3-5-1   \n",
       "2     0.081471  chinook-depth-3-5-1   \n",
       "3     0.103328  chinook-depth-3-5-1   \n",
       "4     0.144291  chinook-depth-3-5-1   \n",
       "\n",
       "                                              run_id  _train  _partition  \\\n",
       "0  a43c72eff441211221256194305afd6a9ceb5a277a01f3...   False           0   \n",
       "1  a43c72eff441211221256194305afd6a9ceb5a277a01f3...   False           0   \n",
       "2  a43c72eff441211221256194305afd6a9ceb5a277a01f3...   False           0   \n",
       "3  a43c72eff441211221256194305afd6a9ceb5a277a01f3...   False           0   \n",
       "4  a43c72eff441211221256194305afd6a9ceb5a277a01f3...   False           0   \n",
       "\n",
       "   month  max_depth_bin   radians       nll  \n",
       "0      4            0.4 -0.171004  0.456336  \n",
       "1      4            0.4 -0.171004  1.705954  \n",
       "2      4            0.4 -0.171004  2.507502  \n",
       "3      4            0.4 -0.171004  2.269844  \n",
       "4      3            0.4  1.753263  1.935926  \n",
       "\n",
       "[5 rows x 49 columns]"
      ]
     },
     "execution_count": 2,
     "metadata": {},
     "output_type": "execute_result"
    }
   ],
   "source": [
    "model = '3_5_1'\n",
    "run_id = 'a43c72eff441211221256194305afd6a9ceb5a277a01f3853cf2716fa06725e8'\n",
    "#model = '3_1_4' #'3_1_18' #'3_5_1'\n",
    "#run_id = '00cf23b296999368ea18b82e33b8687c51e8c35e876afd325e26317cb69ea45b' #'dcdcf74abea8d96ff28901fcd9653fc783df9cdda20ed550adc8c2c38a11d896' #'a43c72eff441211221256194305afd6a9ceb5a277a01f3853cf2716fa06725e8' \n",
    "data = read_data_w_cache(\n",
    "    f\"select *, month(time) as month from chinook_depth_inference_{model} where run_id = '{run_id}' and not _train\"\n",
    ")\n",
    "data['max_depth_bin'] = data.groupby(['_individual', '_decision'])['n_depth_bin'].transform('max')\n",
    "data['radians'] = np.arctan2(data['sin_sun'], data['cos_sun'])\n",
    "data['nll'] = -np.log(data['probability'])\n",
    "print(data.shape)\n",
    "data.head()"
   ]
  },
  {
   "cell_type": "code",
   "execution_count": 3,
   "id": "8dc67222",
   "metadata": {},
   "outputs": [
    {
     "data": {
      "text/html": [
       "<div>\n",
       "<style scoped>\n",
       "    .dataframe tbody tr th:only-of-type {\n",
       "        vertical-align: middle;\n",
       "    }\n",
       "\n",
       "    .dataframe tbody tr th {\n",
       "        vertical-align: top;\n",
       "    }\n",
       "\n",
       "    .dataframe thead th {\n",
       "        text-align: right;\n",
       "    }\n",
       "</style>\n",
       "<table border=\"1\" class=\"dataframe\">\n",
       "  <thead>\n",
       "    <tr style=\"text-align: right;\">\n",
       "      <th></th>\n",
       "      <th>habitat</th>\n",
       "      <th>_individual</th>\n",
       "      <th>_decision</th>\n",
       "      <th>_choice</th>\n",
       "      <th>_selected</th>\n",
       "      <th>tag_key</th>\n",
       "      <th>h3_index</th>\n",
       "      <th>time</th>\n",
       "      <th>depth_bin</th>\n",
       "      <th>n_depth_bin</th>\n",
       "      <th>...</th>\n",
       "      <th>run_id</th>\n",
       "      <th>_train</th>\n",
       "      <th>_partition</th>\n",
       "      <th>month</th>\n",
       "      <th>max_depth_bin</th>\n",
       "      <th>radians</th>\n",
       "      <th>nll</th>\n",
       "      <th>key_radians</th>\n",
       "      <th>key_month</th>\n",
       "      <th>key_max_depth_bin</th>\n",
       "    </tr>\n",
       "  </thead>\n",
       "  <tbody>\n",
       "    <tr>\n",
       "      <th>0</th>\n",
       "      <td>0.958996</td>\n",
       "      <td>73</td>\n",
       "      <td>320036</td>\n",
       "      <td>1</td>\n",
       "      <td>False</td>\n",
       "      <td>159014b</td>\n",
       "      <td>840c53bffffffff</td>\n",
       "      <td>2017-04-01</td>\n",
       "      <td>25.0</td>\n",
       "      <td>0.1</td>\n",
       "      <td>...</td>\n",
       "      <td>a43c72eff441211221256194305afd6a9ceb5a277a01f3...</td>\n",
       "      <td>False</td>\n",
       "      <td>0</td>\n",
       "      <td>4</td>\n",
       "      <td>0.4</td>\n",
       "      <td>-0.171004</td>\n",
       "      <td>0.456336</td>\n",
       "      <td>0</td>\n",
       "      <td>4</td>\n",
       "      <td>4</td>\n",
       "    </tr>\n",
       "    <tr>\n",
       "      <th>1</th>\n",
       "      <td>0.958996</td>\n",
       "      <td>73</td>\n",
       "      <td>320036</td>\n",
       "      <td>2</td>\n",
       "      <td>False</td>\n",
       "      <td>159014b</td>\n",
       "      <td>840c53bffffffff</td>\n",
       "      <td>2017-04-01</td>\n",
       "      <td>50.0</td>\n",
       "      <td>0.2</td>\n",
       "      <td>...</td>\n",
       "      <td>a43c72eff441211221256194305afd6a9ceb5a277a01f3...</td>\n",
       "      <td>False</td>\n",
       "      <td>0</td>\n",
       "      <td>4</td>\n",
       "      <td>0.4</td>\n",
       "      <td>-0.171004</td>\n",
       "      <td>1.705954</td>\n",
       "      <td>0</td>\n",
       "      <td>4</td>\n",
       "      <td>4</td>\n",
       "    </tr>\n",
       "    <tr>\n",
       "      <th>2</th>\n",
       "      <td>0.958996</td>\n",
       "      <td>73</td>\n",
       "      <td>320036</td>\n",
       "      <td>4</td>\n",
       "      <td>True</td>\n",
       "      <td>159014b</td>\n",
       "      <td>840c53bffffffff</td>\n",
       "      <td>2017-04-01</td>\n",
       "      <td>100.0</td>\n",
       "      <td>0.4</td>\n",
       "      <td>...</td>\n",
       "      <td>a43c72eff441211221256194305afd6a9ceb5a277a01f3...</td>\n",
       "      <td>False</td>\n",
       "      <td>0</td>\n",
       "      <td>4</td>\n",
       "      <td>0.4</td>\n",
       "      <td>-0.171004</td>\n",
       "      <td>2.507502</td>\n",
       "      <td>0</td>\n",
       "      <td>4</td>\n",
       "      <td>4</td>\n",
       "    </tr>\n",
       "    <tr>\n",
       "      <th>3</th>\n",
       "      <td>0.958996</td>\n",
       "      <td>73</td>\n",
       "      <td>320036</td>\n",
       "      <td>3</td>\n",
       "      <td>False</td>\n",
       "      <td>159014b</td>\n",
       "      <td>840c53bffffffff</td>\n",
       "      <td>2017-04-01</td>\n",
       "      <td>75.0</td>\n",
       "      <td>0.3</td>\n",
       "      <td>...</td>\n",
       "      <td>a43c72eff441211221256194305afd6a9ceb5a277a01f3...</td>\n",
       "      <td>False</td>\n",
       "      <td>0</td>\n",
       "      <td>4</td>\n",
       "      <td>0.4</td>\n",
       "      <td>-0.171004</td>\n",
       "      <td>2.269844</td>\n",
       "      <td>0</td>\n",
       "      <td>4</td>\n",
       "      <td>4</td>\n",
       "    </tr>\n",
       "    <tr>\n",
       "      <th>4</th>\n",
       "      <td>0.958996</td>\n",
       "      <td>73</td>\n",
       "      <td>320084</td>\n",
       "      <td>2</td>\n",
       "      <td>False</td>\n",
       "      <td>159014b</td>\n",
       "      <td>840c53bffffffff</td>\n",
       "      <td>2017-03-31</td>\n",
       "      <td>50.0</td>\n",
       "      <td>0.2</td>\n",
       "      <td>...</td>\n",
       "      <td>a43c72eff441211221256194305afd6a9ceb5a277a01f3...</td>\n",
       "      <td>False</td>\n",
       "      <td>0</td>\n",
       "      <td>3</td>\n",
       "      <td>0.4</td>\n",
       "      <td>1.753263</td>\n",
       "      <td>1.935926</td>\n",
       "      <td>2</td>\n",
       "      <td>3</td>\n",
       "      <td>4</td>\n",
       "    </tr>\n",
       "  </tbody>\n",
       "</table>\n",
       "<p>5 rows × 52 columns</p>\n",
       "</div>"
      ],
      "text/plain": [
       "    habitat  _individual  _decision  _choice  _selected  tag_key  \\\n",
       "0  0.958996           73     320036        1      False  159014b   \n",
       "1  0.958996           73     320036        2      False  159014b   \n",
       "2  0.958996           73     320036        4       True  159014b   \n",
       "3  0.958996           73     320036        3      False  159014b   \n",
       "4  0.958996           73     320084        2      False  159014b   \n",
       "\n",
       "          h3_index        time  depth_bin  n_depth_bin  ...  \\\n",
       "0  840c53bffffffff  2017-04-01       25.0          0.1  ...   \n",
       "1  840c53bffffffff  2017-04-01       50.0          0.2  ...   \n",
       "2  840c53bffffffff  2017-04-01      100.0          0.4  ...   \n",
       "3  840c53bffffffff  2017-04-01       75.0          0.3  ...   \n",
       "4  840c53bffffffff  2017-03-31       50.0          0.2  ...   \n",
       "\n",
       "                                              run_id  _train  _partition  \\\n",
       "0  a43c72eff441211221256194305afd6a9ceb5a277a01f3...   False           0   \n",
       "1  a43c72eff441211221256194305afd6a9ceb5a277a01f3...   False           0   \n",
       "2  a43c72eff441211221256194305afd6a9ceb5a277a01f3...   False           0   \n",
       "3  a43c72eff441211221256194305afd6a9ceb5a277a01f3...   False           0   \n",
       "4  a43c72eff441211221256194305afd6a9ceb5a277a01f3...   False           0   \n",
       "\n",
       "   month  max_depth_bin   radians       nll  key_radians  key_month  \\\n",
       "0      4            0.4 -0.171004  0.456336            0          4   \n",
       "1      4            0.4 -0.171004  1.705954            0          4   \n",
       "2      4            0.4 -0.171004  2.507502            0          4   \n",
       "3      4            0.4 -0.171004  2.269844            0          4   \n",
       "4      3            0.4  1.753263  1.935926            2          3   \n",
       "\n",
       "   key_max_depth_bin  \n",
       "0                  4  \n",
       "1                  4  \n",
       "2                  4  \n",
       "3                  4  \n",
       "4                  4  \n",
       "\n",
       "[5 rows x 52 columns]"
      ]
     },
     "execution_count": 3,
     "metadata": {},
     "output_type": "execute_result"
    }
   ],
   "source": [
    "key_info = {\n",
    "    'radians': np.pi / 4,\n",
    "    'month': 1,\n",
    "    'max_depth_bin': 0.1,\n",
    "}\n",
    "key_cols = []\n",
    "for key, bound in key_info.items():\n",
    "    data[f'key_{key}'] = round(data[key] / bound).astype(int)\n",
    "    key_cols.append(f'key_{key}')\n",
    "data.head()"
   ]
  },
  {
   "cell_type": "code",
   "execution_count": 4,
   "id": "5c2610ae",
   "metadata": {},
   "outputs": [
    {
     "name": "stdout",
     "output_type": "stream",
     "text": [
      "(1285984, 48)\n"
     ]
    },
    {
     "data": {
      "text/html": [
       "<div>\n",
       "<style scoped>\n",
       "    .dataframe tbody tr th:only-of-type {\n",
       "        vertical-align: middle;\n",
       "    }\n",
       "\n",
       "    .dataframe tbody tr th {\n",
       "        vertical-align: top;\n",
       "    }\n",
       "\n",
       "    .dataframe thead th {\n",
       "        text-align: right;\n",
       "    }\n",
       "</style>\n",
       "<table border=\"1\" class=\"dataframe\">\n",
       "  <thead>\n",
       "    <tr style=\"text-align: right;\">\n",
       "      <th></th>\n",
       "      <th>_individual</th>\n",
       "      <th>_decision</th>\n",
       "      <th>_choice</th>\n",
       "      <th>_selected</th>\n",
       "      <th>tag_key</th>\n",
       "      <th>h3_index</th>\n",
       "      <th>time</th>\n",
       "      <th>depth_bin</th>\n",
       "      <th>n_depth_bin</th>\n",
       "      <th>cos_moon</th>\n",
       "      <th>...</th>\n",
       "      <th>odds</th>\n",
       "      <th>probability</th>\n",
       "      <th>experiment_name</th>\n",
       "      <th>run_id</th>\n",
       "      <th>_train</th>\n",
       "      <th>_partition</th>\n",
       "      <th>month</th>\n",
       "      <th>max_depth_bin</th>\n",
       "      <th>radians</th>\n",
       "      <th>nll</th>\n",
       "    </tr>\n",
       "  </thead>\n",
       "  <tbody>\n",
       "    <tr>\n",
       "      <th>0</th>\n",
       "      <td>73</td>\n",
       "      <td>318592</td>\n",
       "      <td>1</td>\n",
       "      <td>True</td>\n",
       "      <td>159014b</td>\n",
       "      <td>840c503ffffffff</td>\n",
       "      <td>2017-04-26</td>\n",
       "      <td>25.0</td>\n",
       "      <td>0.1</td>\n",
       "      <td>0.994033</td>\n",
       "      <td>...</td>\n",
       "      <td>0.021925</td>\n",
       "      <td>0.730627</td>\n",
       "      <td>chinook-depth-3-1-4</td>\n",
       "      <td>00cf23b296999368ea18b82e33b8687c51e8c35e876afd...</td>\n",
       "      <td>False</td>\n",
       "      <td>0</td>\n",
       "      <td>4</td>\n",
       "      <td>0.2</td>\n",
       "      <td>-0.594858</td>\n",
       "      <td>0.313852</td>\n",
       "    </tr>\n",
       "    <tr>\n",
       "      <th>1</th>\n",
       "      <td>73</td>\n",
       "      <td>318592</td>\n",
       "      <td>2</td>\n",
       "      <td>False</td>\n",
       "      <td>159014b</td>\n",
       "      <td>840c503ffffffff</td>\n",
       "      <td>2017-04-26</td>\n",
       "      <td>50.0</td>\n",
       "      <td>0.2</td>\n",
       "      <td>0.994033</td>\n",
       "      <td>...</td>\n",
       "      <td>0.008084</td>\n",
       "      <td>0.269373</td>\n",
       "      <td>chinook-depth-3-1-4</td>\n",
       "      <td>00cf23b296999368ea18b82e33b8687c51e8c35e876afd...</td>\n",
       "      <td>False</td>\n",
       "      <td>0</td>\n",
       "      <td>4</td>\n",
       "      <td>0.2</td>\n",
       "      <td>-0.594858</td>\n",
       "      <td>1.311659</td>\n",
       "    </tr>\n",
       "    <tr>\n",
       "      <th>2</th>\n",
       "      <td>73</td>\n",
       "      <td>318608</td>\n",
       "      <td>1</td>\n",
       "      <td>True</td>\n",
       "      <td>159014b</td>\n",
       "      <td>840c539ffffffff</td>\n",
       "      <td>2017-05-08</td>\n",
       "      <td>25.0</td>\n",
       "      <td>0.1</td>\n",
       "      <td>-0.778293</td>\n",
       "      <td>...</td>\n",
       "      <td>0.046759</td>\n",
       "      <td>0.726677</td>\n",
       "      <td>chinook-depth-3-1-4</td>\n",
       "      <td>00cf23b296999368ea18b82e33b8687c51e8c35e876afd...</td>\n",
       "      <td>False</td>\n",
       "      <td>0</td>\n",
       "      <td>5</td>\n",
       "      <td>0.3</td>\n",
       "      <td>1.117011</td>\n",
       "      <td>0.319274</td>\n",
       "    </tr>\n",
       "    <tr>\n",
       "      <th>3</th>\n",
       "      <td>73</td>\n",
       "      <td>318608</td>\n",
       "      <td>3</td>\n",
       "      <td>False</td>\n",
       "      <td>159014b</td>\n",
       "      <td>840c539ffffffff</td>\n",
       "      <td>2017-05-08</td>\n",
       "      <td>75.0</td>\n",
       "      <td>0.3</td>\n",
       "      <td>-0.778293</td>\n",
       "      <td>...</td>\n",
       "      <td>0.006830</td>\n",
       "      <td>0.106146</td>\n",
       "      <td>chinook-depth-3-1-4</td>\n",
       "      <td>00cf23b296999368ea18b82e33b8687c51e8c35e876afd...</td>\n",
       "      <td>False</td>\n",
       "      <td>0</td>\n",
       "      <td>5</td>\n",
       "      <td>0.3</td>\n",
       "      <td>1.117011</td>\n",
       "      <td>2.242940</td>\n",
       "    </tr>\n",
       "    <tr>\n",
       "      <th>4</th>\n",
       "      <td>73</td>\n",
       "      <td>318608</td>\n",
       "      <td>2</td>\n",
       "      <td>False</td>\n",
       "      <td>159014b</td>\n",
       "      <td>840c539ffffffff</td>\n",
       "      <td>2017-05-08</td>\n",
       "      <td>50.0</td>\n",
       "      <td>0.2</td>\n",
       "      <td>-0.778293</td>\n",
       "      <td>...</td>\n",
       "      <td>0.010757</td>\n",
       "      <td>0.167177</td>\n",
       "      <td>chinook-depth-3-1-4</td>\n",
       "      <td>00cf23b296999368ea18b82e33b8687c51e8c35e876afd...</td>\n",
       "      <td>False</td>\n",
       "      <td>0</td>\n",
       "      <td>5</td>\n",
       "      <td>0.3</td>\n",
       "      <td>1.117011</td>\n",
       "      <td>1.788700</td>\n",
       "    </tr>\n",
       "  </tbody>\n",
       "</table>\n",
       "<p>5 rows × 48 columns</p>\n",
       "</div>"
      ],
      "text/plain": [
       "   _individual  _decision  _choice  _selected  tag_key         h3_index  \\\n",
       "0           73     318592        1       True  159014b  840c503ffffffff   \n",
       "1           73     318592        2      False  159014b  840c503ffffffff   \n",
       "2           73     318608        1       True  159014b  840c539ffffffff   \n",
       "3           73     318608        3      False  159014b  840c539ffffffff   \n",
       "4           73     318608        2      False  159014b  840c539ffffffff   \n",
       "\n",
       "         time  depth_bin  n_depth_bin  cos_moon  ...      odds  probability  \\\n",
       "0  2017-04-26       25.0          0.1  0.994033  ...  0.021925     0.730627   \n",
       "1  2017-04-26       50.0          0.2  0.994033  ...  0.008084     0.269373   \n",
       "2  2017-05-08       25.0          0.1 -0.778293  ...  0.046759     0.726677   \n",
       "3  2017-05-08       75.0          0.3 -0.778293  ...  0.006830     0.106146   \n",
       "4  2017-05-08       50.0          0.2 -0.778293  ...  0.010757     0.167177   \n",
       "\n",
       "       experiment_name                                             run_id  \\\n",
       "0  chinook-depth-3-1-4  00cf23b296999368ea18b82e33b8687c51e8c35e876afd...   \n",
       "1  chinook-depth-3-1-4  00cf23b296999368ea18b82e33b8687c51e8c35e876afd...   \n",
       "2  chinook-depth-3-1-4  00cf23b296999368ea18b82e33b8687c51e8c35e876afd...   \n",
       "3  chinook-depth-3-1-4  00cf23b296999368ea18b82e33b8687c51e8c35e876afd...   \n",
       "4  chinook-depth-3-1-4  00cf23b296999368ea18b82e33b8687c51e8c35e876afd...   \n",
       "\n",
       "   _train  _partition  month  max_depth_bin   radians       nll  \n",
       "0   False           0      4            0.2 -0.594858  0.313852  \n",
       "1   False           0      4            0.2 -0.594858  1.311659  \n",
       "2   False           0      5            0.3  1.117011  0.319274  \n",
       "3   False           0      5            0.3  1.117011  2.242940  \n",
       "4   False           0      5            0.3  1.117011  1.788700  \n",
       "\n",
       "[5 rows x 48 columns]"
      ]
     },
     "execution_count": 4,
     "metadata": {},
     "output_type": "execute_result"
    }
   ],
   "source": [
    "model = '3_1_4'\n",
    "run_id = '00cf23b296999368ea18b82e33b8687c51e8c35e876afd325e26317cb69ea45b'\n",
    "#model = '3_1_3' #'3_1_4' #'3_1_18'\n",
    "#run_id = 'e875c3a83c56925e0537b30c6f64d3219ffcd41c2298490d69eec4c25899119c' #'00cf23b296999368ea18b82e33b8687c51e8c35e876afd325e26317cb69ea45b' #'dcdcf74abea8d96ff28901fcd9653fc783df9cdda20ed550adc8c2c38a11d896'\n",
    "compare = read_data_w_cache(\n",
    "    f\"select *, month(time) as month from chinook_depth_inference_{model} where run_id = '{run_id}' and not _train\"\n",
    ")\n",
    "compare['max_depth_bin'] = compare.groupby(['_individual', '_decision'])['n_depth_bin'].transform('max')\n",
    "compare['radians'] = np.arctan2(compare['sin_sun'], compare['cos_sun'])\n",
    "compare['nll'] = -np.log(compare['probability'])\n",
    "print(compare.shape)\n",
    "compare.head()"
   ]
  },
  {
   "cell_type": "code",
   "execution_count": 5,
   "id": "8fcb5352",
   "metadata": {},
   "outputs": [
    {
     "data": {
      "text/html": [
       "<div>\n",
       "<style scoped>\n",
       "    .dataframe tbody tr th:only-of-type {\n",
       "        vertical-align: middle;\n",
       "    }\n",
       "\n",
       "    .dataframe tbody tr th {\n",
       "        vertical-align: top;\n",
       "    }\n",
       "\n",
       "    .dataframe thead th {\n",
       "        text-align: right;\n",
       "    }\n",
       "</style>\n",
       "<table border=\"1\" class=\"dataframe\">\n",
       "  <thead>\n",
       "    <tr style=\"text-align: right;\">\n",
       "      <th></th>\n",
       "      <th>_individual</th>\n",
       "      <th>_decision</th>\n",
       "      <th>_choice</th>\n",
       "      <th>_selected</th>\n",
       "      <th>tag_key</th>\n",
       "      <th>h3_index</th>\n",
       "      <th>time</th>\n",
       "      <th>depth_bin</th>\n",
       "      <th>n_depth_bin</th>\n",
       "      <th>cos_moon</th>\n",
       "      <th>...</th>\n",
       "      <th>run_id</th>\n",
       "      <th>_train</th>\n",
       "      <th>_partition</th>\n",
       "      <th>month</th>\n",
       "      <th>max_depth_bin</th>\n",
       "      <th>radians</th>\n",
       "      <th>nll</th>\n",
       "      <th>key_radians</th>\n",
       "      <th>key_month</th>\n",
       "      <th>key_max_depth_bin</th>\n",
       "    </tr>\n",
       "  </thead>\n",
       "  <tbody>\n",
       "    <tr>\n",
       "      <th>0</th>\n",
       "      <td>73</td>\n",
       "      <td>318592</td>\n",
       "      <td>1</td>\n",
       "      <td>True</td>\n",
       "      <td>159014b</td>\n",
       "      <td>840c503ffffffff</td>\n",
       "      <td>2017-04-26</td>\n",
       "      <td>25.0</td>\n",
       "      <td>0.1</td>\n",
       "      <td>0.994033</td>\n",
       "      <td>...</td>\n",
       "      <td>00cf23b296999368ea18b82e33b8687c51e8c35e876afd...</td>\n",
       "      <td>False</td>\n",
       "      <td>0</td>\n",
       "      <td>4</td>\n",
       "      <td>0.2</td>\n",
       "      <td>-0.594858</td>\n",
       "      <td>0.313852</td>\n",
       "      <td>-1</td>\n",
       "      <td>4</td>\n",
       "      <td>2</td>\n",
       "    </tr>\n",
       "    <tr>\n",
       "      <th>1</th>\n",
       "      <td>73</td>\n",
       "      <td>318592</td>\n",
       "      <td>2</td>\n",
       "      <td>False</td>\n",
       "      <td>159014b</td>\n",
       "      <td>840c503ffffffff</td>\n",
       "      <td>2017-04-26</td>\n",
       "      <td>50.0</td>\n",
       "      <td>0.2</td>\n",
       "      <td>0.994033</td>\n",
       "      <td>...</td>\n",
       "      <td>00cf23b296999368ea18b82e33b8687c51e8c35e876afd...</td>\n",
       "      <td>False</td>\n",
       "      <td>0</td>\n",
       "      <td>4</td>\n",
       "      <td>0.2</td>\n",
       "      <td>-0.594858</td>\n",
       "      <td>1.311659</td>\n",
       "      <td>-1</td>\n",
       "      <td>4</td>\n",
       "      <td>2</td>\n",
       "    </tr>\n",
       "    <tr>\n",
       "      <th>2</th>\n",
       "      <td>73</td>\n",
       "      <td>318608</td>\n",
       "      <td>1</td>\n",
       "      <td>True</td>\n",
       "      <td>159014b</td>\n",
       "      <td>840c539ffffffff</td>\n",
       "      <td>2017-05-08</td>\n",
       "      <td>25.0</td>\n",
       "      <td>0.1</td>\n",
       "      <td>-0.778293</td>\n",
       "      <td>...</td>\n",
       "      <td>00cf23b296999368ea18b82e33b8687c51e8c35e876afd...</td>\n",
       "      <td>False</td>\n",
       "      <td>0</td>\n",
       "      <td>5</td>\n",
       "      <td>0.3</td>\n",
       "      <td>1.117011</td>\n",
       "      <td>0.319274</td>\n",
       "      <td>1</td>\n",
       "      <td>5</td>\n",
       "      <td>3</td>\n",
       "    </tr>\n",
       "    <tr>\n",
       "      <th>3</th>\n",
       "      <td>73</td>\n",
       "      <td>318608</td>\n",
       "      <td>3</td>\n",
       "      <td>False</td>\n",
       "      <td>159014b</td>\n",
       "      <td>840c539ffffffff</td>\n",
       "      <td>2017-05-08</td>\n",
       "      <td>75.0</td>\n",
       "      <td>0.3</td>\n",
       "      <td>-0.778293</td>\n",
       "      <td>...</td>\n",
       "      <td>00cf23b296999368ea18b82e33b8687c51e8c35e876afd...</td>\n",
       "      <td>False</td>\n",
       "      <td>0</td>\n",
       "      <td>5</td>\n",
       "      <td>0.3</td>\n",
       "      <td>1.117011</td>\n",
       "      <td>2.242940</td>\n",
       "      <td>1</td>\n",
       "      <td>5</td>\n",
       "      <td>3</td>\n",
       "    </tr>\n",
       "    <tr>\n",
       "      <th>4</th>\n",
       "      <td>73</td>\n",
       "      <td>318608</td>\n",
       "      <td>2</td>\n",
       "      <td>False</td>\n",
       "      <td>159014b</td>\n",
       "      <td>840c539ffffffff</td>\n",
       "      <td>2017-05-08</td>\n",
       "      <td>50.0</td>\n",
       "      <td>0.2</td>\n",
       "      <td>-0.778293</td>\n",
       "      <td>...</td>\n",
       "      <td>00cf23b296999368ea18b82e33b8687c51e8c35e876afd...</td>\n",
       "      <td>False</td>\n",
       "      <td>0</td>\n",
       "      <td>5</td>\n",
       "      <td>0.3</td>\n",
       "      <td>1.117011</td>\n",
       "      <td>1.788700</td>\n",
       "      <td>1</td>\n",
       "      <td>5</td>\n",
       "      <td>3</td>\n",
       "    </tr>\n",
       "  </tbody>\n",
       "</table>\n",
       "<p>5 rows × 51 columns</p>\n",
       "</div>"
      ],
      "text/plain": [
       "   _individual  _decision  _choice  _selected  tag_key         h3_index  \\\n",
       "0           73     318592        1       True  159014b  840c503ffffffff   \n",
       "1           73     318592        2      False  159014b  840c503ffffffff   \n",
       "2           73     318608        1       True  159014b  840c539ffffffff   \n",
       "3           73     318608        3      False  159014b  840c539ffffffff   \n",
       "4           73     318608        2      False  159014b  840c539ffffffff   \n",
       "\n",
       "         time  depth_bin  n_depth_bin  cos_moon  ...  \\\n",
       "0  2017-04-26       25.0          0.1  0.994033  ...   \n",
       "1  2017-04-26       50.0          0.2  0.994033  ...   \n",
       "2  2017-05-08       25.0          0.1 -0.778293  ...   \n",
       "3  2017-05-08       75.0          0.3 -0.778293  ...   \n",
       "4  2017-05-08       50.0          0.2 -0.778293  ...   \n",
       "\n",
       "                                              run_id  _train  _partition  \\\n",
       "0  00cf23b296999368ea18b82e33b8687c51e8c35e876afd...   False           0   \n",
       "1  00cf23b296999368ea18b82e33b8687c51e8c35e876afd...   False           0   \n",
       "2  00cf23b296999368ea18b82e33b8687c51e8c35e876afd...   False           0   \n",
       "3  00cf23b296999368ea18b82e33b8687c51e8c35e876afd...   False           0   \n",
       "4  00cf23b296999368ea18b82e33b8687c51e8c35e876afd...   False           0   \n",
       "\n",
       "   month  max_depth_bin   radians       nll  key_radians  key_month  \\\n",
       "0      4            0.2 -0.594858  0.313852           -1          4   \n",
       "1      4            0.2 -0.594858  1.311659           -1          4   \n",
       "2      5            0.3  1.117011  0.319274            1          5   \n",
       "3      5            0.3  1.117011  2.242940            1          5   \n",
       "4      5            0.3  1.117011  1.788700            1          5   \n",
       "\n",
       "   key_max_depth_bin  \n",
       "0                  2  \n",
       "1                  2  \n",
       "2                  3  \n",
       "3                  3  \n",
       "4                  3  \n",
       "\n",
       "[5 rows x 51 columns]"
      ]
     },
     "execution_count": 5,
     "metadata": {},
     "output_type": "execute_result"
    }
   ],
   "source": [
    "key_info = {\n",
    "    'radians': np.pi / 4,\n",
    "    'month': 1,\n",
    "    'max_depth_bin': 0.1,\n",
    "}\n",
    "key_cols = []\n",
    "for key, bound in key_info.items():\n",
    "    compare[f'key_{key}'] = round(compare[key] / bound).astype(int)\n",
    "    key_cols.append(f'key_{key}')\n",
    "compare.head()"
   ]
  },
  {
   "cell_type": "code",
   "execution_count": 6,
   "id": "832b8b49",
   "metadata": {},
   "outputs": [
    {
     "data": {
      "text/html": [
       "<div>\n",
       "<style scoped>\n",
       "    .dataframe tbody tr th:only-of-type {\n",
       "        vertical-align: middle;\n",
       "    }\n",
       "\n",
       "    .dataframe tbody tr th {\n",
       "        vertical-align: top;\n",
       "    }\n",
       "\n",
       "    .dataframe thead th {\n",
       "        text-align: right;\n",
       "    }\n",
       "</style>\n",
       "<table border=\"1\" class=\"dataframe\">\n",
       "  <thead>\n",
       "    <tr style=\"text-align: right;\">\n",
       "      <th></th>\n",
       "      <th>key_radians</th>\n",
       "      <th>key_month</th>\n",
       "      <th>key_max_depth_bin</th>\n",
       "      <th>nll_habitat</th>\n",
       "      <th>samples</th>\n",
       "      <th>nll</th>\n",
       "      <th>nll_diff</th>\n",
       "      <th>bin_proportion</th>\n",
       "      <th>proportion</th>\n",
       "    </tr>\n",
       "  </thead>\n",
       "  <tbody>\n",
       "    <tr>\n",
       "      <th>60</th>\n",
       "      <td>-4</td>\n",
       "      <td>8</td>\n",
       "      <td>9</td>\n",
       "      <td>2.726047</td>\n",
       "      <td>9</td>\n",
       "      <td>3.467427</td>\n",
       "      <td>0.741380</td>\n",
       "      <td>0.001196</td>\n",
       "      <td>0.000047</td>\n",
       "    </tr>\n",
       "    <tr>\n",
       "      <th>803</th>\n",
       "      <td>4</td>\n",
       "      <td>8</td>\n",
       "      <td>9</td>\n",
       "      <td>2.841084</td>\n",
       "      <td>15</td>\n",
       "      <td>3.506855</td>\n",
       "      <td>0.665771</td>\n",
       "      <td>0.002392</td>\n",
       "      <td>0.000125</td>\n",
       "    </tr>\n",
       "    <tr>\n",
       "      <th>165</th>\n",
       "      <td>-3</td>\n",
       "      <td>10</td>\n",
       "      <td>7</td>\n",
       "      <td>1.021592</td>\n",
       "      <td>152</td>\n",
       "      <td>1.448107</td>\n",
       "      <td>0.426516</td>\n",
       "      <td>0.003589</td>\n",
       "      <td>0.000914</td>\n",
       "    </tr>\n",
       "    <tr>\n",
       "      <th>710</th>\n",
       "      <td>3</td>\n",
       "      <td>8</td>\n",
       "      <td>9</td>\n",
       "      <td>3.038245</td>\n",
       "      <td>31</td>\n",
       "      <td>3.426933</td>\n",
       "      <td>0.388688</td>\n",
       "      <td>0.004785</td>\n",
       "      <td>0.001075</td>\n",
       "    </tr>\n",
       "    <tr>\n",
       "      <th>258</th>\n",
       "      <td>-2</td>\n",
       "      <td>10</td>\n",
       "      <td>7</td>\n",
       "      <td>1.213420</td>\n",
       "      <td>71</td>\n",
       "      <td>1.582152</td>\n",
       "      <td>0.368731</td>\n",
       "      <td>0.005981</td>\n",
       "      <td>0.001443</td>\n",
       "    </tr>\n",
       "  </tbody>\n",
       "</table>\n",
       "</div>"
      ],
      "text/plain": [
       "     key_radians  key_month  key_max_depth_bin  nll_habitat  samples  \\\n",
       "60            -4          8                  9     2.726047        9   \n",
       "803            4          8                  9     2.841084       15   \n",
       "165           -3         10                  7     1.021592      152   \n",
       "710            3          8                  9     3.038245       31   \n",
       "258           -2         10                  7     1.213420       71   \n",
       "\n",
       "          nll  nll_diff  bin_proportion  proportion  \n",
       "60   3.467427  0.741380        0.001196    0.000047  \n",
       "803  3.506855  0.665771        0.002392    0.000125  \n",
       "165  1.448107  0.426516        0.003589    0.000914  \n",
       "710  3.426933  0.388688        0.004785    0.001075  \n",
       "258  1.582152  0.368731        0.005981    0.001443  "
      ]
     },
     "execution_count": 6,
     "metadata": {},
     "output_type": "execute_result"
    }
   ],
   "source": [
    "bdf = data[data['_selected']].groupby(key_cols).agg({'nll': 'mean', '_choice': 'count'}).rename(columns={'_choice': 'samples'}).reset_index()\n",
    "cdf = compare[compare['_selected']].groupby(key_cols).agg({'nll': 'mean'}).reset_index()\n",
    "df = bdf.merge(cdf, on=key_cols, suffixes=('_habitat', ''))\n",
    "df['nll_diff'] = df['nll'] - df['nll_habitat']\n",
    "df = df.sort_values('nll_diff', ascending=False)\n",
    "df['bin_proportion'] = 1.0\n",
    "df['bin_proportion'] = df['bin_proportion'].cumsum() / df['bin_proportion'].sum()\n",
    "df['proportion'] = df['samples'].cumsum() / df['samples'].sum()\n",
    "df.head()"
   ]
  },
  {
   "cell_type": "code",
   "execution_count": 12,
   "id": "d09ae64f",
   "metadata": {},
   "outputs": [
    {
     "data": {
      "application/vnd.plotly.v1+json": {
       "config": {
        "plotlyServerURL": "https://plot.ly"
       },
       "data": [
        {
         "alignmentgroup": "True",
         "hovertemplate": "unique_individuals=%{x}<br>nll_diff=%{y}<extra></extra>",
         "legendgroup": "",
         "marker": {
          "color": "#636efa"
         },
         "name": "",
         "notched": false,
         "offsetgroup": "",
         "orientation": "v",
         "showlegend": false,
         "type": "box",
         "x": [
          1,
          1,
          1,
          1,
          1,
          1,
          1,
          1,
          1,
          1,
          2,
          1,
          1,
          1,
          1,
          1,
          8,
          4,
          1,
          3,
          1,
          1,
          4,
          1,
          1,
          1,
          1,
          1,
          1,
          1,
          3,
          1,
          2,
          1,
          4,
          1,
          1,
          4,
          8,
          1,
          1,
          3,
          2,
          2,
          3,
          2,
          3,
          1,
          4,
          3,
          2,
          2,
          3,
          3,
          2,
          3,
          3,
          2,
          4,
          2,
          1,
          4,
          8,
          3,
          2,
          3,
          4,
          1,
          2,
          2,
          2,
          2,
          2,
          3,
          1,
          2,
          1,
          3,
          2,
          2,
          3,
          1,
          2,
          9,
          1,
          9,
          9,
          4,
          3,
          2,
          1,
          2,
          2,
          5,
          1,
          1,
          7,
          2,
          4,
          9,
          2,
          3,
          2,
          7,
          1,
          6,
          2,
          1,
          5,
          2,
          3,
          4,
          2,
          1,
          2,
          4,
          3,
          1,
          4,
          2,
          1,
          2,
          2,
          1,
          8,
          2,
          1,
          2,
          2,
          1,
          4,
          1,
          1,
          1,
          2,
          3,
          1,
          1,
          4,
          2,
          6,
          6,
          2,
          1,
          7,
          3,
          3,
          4,
          4,
          3,
          3,
          6,
          2,
          2,
          4,
          8,
          4,
          8,
          1,
          1,
          3,
          3,
          1,
          3,
          2,
          2,
          2,
          7,
          1,
          7,
          3,
          3,
          3,
          3,
          3,
          3,
          3,
          2,
          3,
          2,
          1,
          1,
          4,
          3,
          7,
          1,
          4,
          3,
          7,
          3,
          5,
          1,
          2,
          1,
          2,
          3,
          6,
          3,
          2,
          2,
          3,
          1,
          1,
          2,
          7,
          4,
          2,
          2,
          2,
          4,
          2,
          2,
          4,
          1,
          1,
          3,
          3,
          1,
          3,
          3,
          2,
          9,
          3,
          4,
          3,
          4,
          2,
          5,
          1,
          2,
          4,
          5,
          2,
          4,
          6,
          2,
          3,
          2,
          7,
          2,
          4,
          3,
          2,
          3,
          2,
          4,
          8,
          6,
          3,
          2,
          4,
          4,
          4,
          4,
          3,
          4,
          10,
          4,
          4,
          1,
          2,
          2,
          4,
          1,
          6,
          2,
          3,
          2,
          2,
          3,
          6,
          3,
          7,
          7,
          3,
          2,
          2,
          4,
          4,
          7,
          7,
          6,
          2,
          3,
          3,
          2,
          2,
          6,
          2,
          5,
          4,
          6,
          5,
          7,
          9,
          4,
          1,
          4,
          6,
          3,
          2,
          2,
          2,
          1,
          3,
          4,
          4,
          1,
          5,
          2,
          2,
          3,
          1,
          3,
          1,
          2,
          2,
          5,
          1,
          6,
          3,
          4,
          3,
          4,
          6,
          6,
          3,
          4,
          1,
          2,
          2,
          2,
          2,
          1,
          6,
          3,
          3,
          6,
          10,
          6,
          4,
          4,
          10,
          5,
          1,
          5,
          6,
          7,
          8,
          5,
          7,
          4,
          2,
          1,
          4,
          4,
          4,
          2,
          3,
          3,
          2,
          5,
          9,
          7,
          3,
          1,
          5,
          4,
          3,
          4,
          5,
          8,
          6,
          4,
          8,
          6,
          1,
          5,
          6,
          8,
          8,
          7,
          2,
          5,
          2,
          7,
          1,
          2,
          3,
          10,
          8,
          4,
          2,
          5,
          6,
          3,
          4,
          8,
          4,
          2,
          5,
          1,
          1,
          10,
          1,
          7,
          5,
          5,
          6,
          2,
          4,
          1,
          8,
          1,
          3,
          2,
          8,
          5,
          3,
          3,
          2,
          6,
          3,
          1,
          5,
          7,
          8,
          7,
          3,
          3,
          1,
          4,
          1,
          3,
          3,
          10,
          4,
          5,
          7,
          3,
          2,
          5,
          3,
          4,
          4,
          1,
          4,
          3,
          4,
          3,
          2,
          4,
          2,
          2,
          4,
          8,
          6,
          1,
          3,
          5,
          6,
          6,
          3,
          3,
          3,
          3,
          2,
          2,
          4,
          3,
          4,
          2,
          2,
          2,
          4,
          1,
          7,
          4,
          2,
          7,
          3,
          6,
          4,
          4,
          3,
          8,
          1,
          7,
          4,
          1,
          4,
          1,
          6,
          3,
          9,
          4,
          3,
          2,
          7,
          8,
          5,
          5,
          3,
          1,
          7,
          3,
          4,
          1,
          1,
          7,
          1,
          7,
          4,
          4,
          7,
          2,
          3,
          3,
          4,
          4,
          8,
          2,
          5,
          6,
          7,
          6,
          3,
          2,
          6,
          2,
          4,
          10,
          5,
          3,
          5,
          7,
          6,
          3,
          7,
          2,
          5,
          7,
          4,
          2,
          7,
          5,
          7,
          1,
          8,
          3,
          3,
          2,
          1,
          2,
          3,
          3,
          4,
          5,
          3,
          7,
          3,
          1,
          2,
          3,
          8,
          8,
          3,
          6,
          3,
          4,
          3,
          7,
          1,
          4,
          2,
          3,
          4,
          7,
          7,
          7,
          2,
          4,
          6,
          5,
          3,
          8,
          6,
          3,
          3,
          2,
          2,
          1,
          2,
          7,
          8,
          8,
          4,
          2,
          4,
          2,
          2,
          4,
          5,
          2,
          7,
          2,
          6,
          4,
          3,
          2,
          4,
          5,
          5,
          3,
          3,
          4,
          4,
          8,
          1,
          5,
          3,
          7,
          6,
          2,
          3,
          7,
          7,
          2,
          5,
          5,
          7,
          2,
          3,
          1,
          1,
          1,
          1,
          3,
          2,
          2,
          1,
          3,
          1,
          1,
          2,
          2,
          3,
          5,
          4,
          9,
          7,
          3,
          3,
          2,
          3,
          1,
          6,
          6,
          3,
          2,
          1,
          8,
          1,
          3,
          7,
          4,
          6,
          5,
          2,
          6,
          8,
          3,
          3,
          7,
          3,
          3,
          3,
          2,
          3,
          4,
          2,
          2,
          2,
          3,
          7,
          4,
          4,
          4,
          5,
          5,
          2,
          2,
          1,
          6,
          1,
          4,
          3,
          1,
          2,
          3,
          2,
          2,
          4,
          1,
          4,
          8,
          2,
          3,
          1,
          2,
          1,
          3,
          7,
          3,
          3,
          3,
          5,
          3,
          4,
          4,
          1,
          3,
          2,
          3,
          2,
          3,
          4,
          1,
          3,
          4,
          1,
          1,
          1,
          3,
          3,
          3,
          4,
          6,
          1,
          2,
          1,
          3,
          1,
          1,
          3,
          1,
          7,
          1,
          3,
          3,
          4,
          3,
          1,
          2,
          3,
          3,
          1,
          1,
          1,
          3,
          1,
          3,
          5,
          1,
          3,
          5,
          4,
          2,
          1,
          4,
          3,
          2,
          1,
          3,
          2,
          5,
          2,
          3,
          1,
          1,
          1,
          2,
          1,
          2,
          1,
          2,
          4,
          5,
          1,
          2,
          1,
          3,
          1,
          1,
          3,
          1,
          1,
          1,
          1,
          1,
          3,
          1,
          1,
          2,
          1,
          1,
          4,
          2,
          1,
          1,
          4,
          2,
          3,
          3,
          1,
          3,
          3,
          1,
          1,
          1,
          1,
          2,
          1,
          1,
          1,
          3,
          1,
          1,
          1,
          1,
          1,
          1,
          1,
          1,
          1,
          1
         ],
         "x0": " ",
         "xaxis": "x",
         "y": [
          0.7413804531097412,
          0.6657705307006836,
          0.42651593685150146,
          0.388688325881958,
          0.3687314987182617,
          0.35921669006347656,
          0.3385181427001953,
          0.3303546905517578,
          0.302448034286499,
          0.3009148836135864,
          0.28272271156311035,
          0.26128196716308594,
          0.24593830108642578,
          0.24386656284332275,
          0.24323177337646484,
          0.22877097129821777,
          0.22668588161468506,
          0.21674227714538574,
          0.21503663063049316,
          0.21245038509368896,
          0.2107318639755249,
          0.20725131034851074,
          0.20245623588562012,
          0.188121497631073,
          0.18547701835632324,
          0.18195271492004395,
          0.17385876178741455,
          0.16939806938171387,
          0.16819632053375244,
          0.16393613815307617,
          0.1637791395187378,
          0.163659930229187,
          0.15809756517410278,
          0.15344417095184326,
          0.15342485904693604,
          0.14934039115905762,
          0.14616519212722778,
          0.14514315128326416,
          0.14489340782165527,
          0.14408910274505615,
          0.13945460319519043,
          0.13862252235412598,
          0.1383042335510254,
          0.13542234897613525,
          0.13414430618286133,
          0.13414430618286133,
          0.13325798511505127,
          0.13266539573669434,
          0.1322617530822754,
          0.13214623928070068,
          0.13109183311462402,
          0.1298307180404663,
          0.1273282766342163,
          0.12698698043823242,
          0.1262972354888916,
          0.12565839290618896,
          0.1251758337020874,
          0.1228410005569458,
          0.12131905555725098,
          0.12101423740386963,
          0.12073194980621338,
          0.12050855159759521,
          0.12044119834899902,
          0.11876273155212402,
          0.11870497465133667,
          0.11659383773803711,
          0.11477351188659668,
          0.11463296413421631,
          0.11440277099609375,
          0.113930344581604,
          0.11341440677642822,
          0.11208701133728027,
          0.11191153526306152,
          0.11177504062652588,
          0.11172080039978027,
          0.11106204986572266,
          0.10975295305252075,
          0.10906028747558594,
          0.10889244079589844,
          0.1082531213760376,
          0.10815227031707764,
          0.1067206859588623,
          0.1066659688949585,
          0.10638117790222168,
          0.10610449314117432,
          0.10527324676513672,
          0.10503184795379639,
          0.10463500022888184,
          0.10441052913665771,
          0.10117554664611816,
          0.10105931758880615,
          0.10092771053314209,
          0.10032832622528076,
          0.09913164377212524,
          0.09850358963012695,
          0.09849631786346436,
          0.09613919258117676,
          0.0951070785522461,
          0.09332501888275146,
          0.09292125701904297,
          0.09288966655731201,
          0.09115755558013916,
          0.09107911586761475,
          0.09001636505126953,
          0.08931601047515869,
          0.08914291858673096,
          0.08831918239593506,
          0.08806586265563965,
          0.0867462158203125,
          0.0867147445678711,
          0.08670651912689209,
          0.08612215518951416,
          0.08529365062713623,
          0.08506971597671509,
          0.08464217185974121,
          0.08396601676940918,
          0.0833355188369751,
          0.0830392837524414,
          0.08285057544708252,
          0.08270382881164551,
          0.08261716365814209,
          0.08161699771881104,
          0.08155786991119385,
          0.08051466941833496,
          0.08003199100494385,
          0.07868444919586182,
          0.07850897312164307,
          0.07825493812561035,
          0.07808220386505127,
          0.07795870304107666,
          0.07784736156463623,
          0.07703447341918945,
          0.0770074874162674,
          0.07699549198150635,
          0.07524704933166504,
          0.07467877864837646,
          0.07429563999176025,
          0.07365798950195312,
          0.0732010006904602,
          0.07304489612579346,
          0.0729759931564331,
          0.07253551483154297,
          0.0725129246711731,
          0.07233321666717529,
          0.07229351997375488,
          0.07135748863220215,
          0.0709218978881836,
          0.07035350799560547,
          0.07019734382629395,
          0.07008889317512512,
          0.06956923007965088,
          0.06810867786407471,
          0.06795024871826172,
          0.0666893720626831,
          0.0666840672492981,
          0.06644213199615479,
          0.06629139184951782,
          0.06598961353302002,
          0.06586837768554688,
          0.06581389904022217,
          0.06575965881347656,
          0.0655585527420044,
          0.06538069248199463,
          0.06478622555732727,
          0.06435787677764893,
          0.06391644477844238,
          0.06374895572662354,
          0.06337583065032959,
          0.06329771876335144,
          0.06325399875640869,
          0.06239175796508789,
          0.06216633319854736,
          0.061634182929992676,
          0.06069588661193848,
          0.0605851411819458,
          0.06033170223236084,
          0.06007790565490723,
          0.05949068069458008,
          0.058805108070373535,
          0.05855762958526611,
          0.05835127830505371,
          0.05827641487121582,
          0.05644190311431885,
          0.05592823028564453,
          0.05586373805999756,
          0.05585372447967529,
          0.055632829666137695,
          0.05559802055358887,
          0.05556070804595947,
          0.0552668571472168,
          0.05499759316444397,
          0.05484879016876221,
          0.05389714241027832,
          0.05387300252914429,
          0.05373871326446533,
          0.053012192249298096,
          0.052933067083358765,
          0.05280977487564087,
          0.052390992641448975,
          0.05193161964416504,
          0.05188775062561035,
          0.051514506340026855,
          0.05094552040100098,
          0.050559043884277344,
          0.050337910652160645,
          0.050223350524902344,
          0.05020260810852051,
          0.049828529357910156,
          0.04975748062133789,
          0.04972970485687256,
          0.04965949058532715,
          0.04940962791442871,
          0.0486828088760376,
          0.048622071743011475,
          0.048506975173950195,
          0.04779660701751709,
          0.04771709442138672,
          0.04758356511592865,
          0.047527194023132324,
          0.0471767783164978,
          0.04623579978942871,
          0.045440673828125,
          0.04517829418182373,
          0.045092225074768066,
          0.044928550720214844,
          0.04484748840332031,
          0.043559908866882324,
          0.04338347911834717,
          0.04335188865661621,
          0.04296845197677612,
          0.04296398162841797,
          0.04288959503173828,
          0.04268002510070801,
          0.042503952980041504,
          0.04250073432922363,
          0.04238271713256836,
          0.04234814643859863,
          0.042211055755615234,
          0.04183793067932129,
          0.040799498558044434,
          0.040418028831481934,
          0.04017066955566406,
          0.039899349212646484,
          0.0398411750793457,
          0.0395054817199707,
          0.039426445960998535,
          0.03941500186920166,
          0.03888440132141113,
          0.03877156972885132,
          0.03869044780731201,
          0.03854238986968994,
          0.038462162017822266,
          0.038332581520080566,
          0.038325488567352295,
          0.03831934928894043,
          0.03825783729553223,
          0.03756237030029297,
          0.03742307424545288,
          0.03716850280761719,
          0.03694814443588257,
          0.03610020875930786,
          0.03594529628753662,
          0.03583240509033203,
          0.03569436073303223,
          0.03561520576477051,
          0.03551661968231201,
          0.03538715839385986,
          0.03536975383758545,
          0.03530228137969971,
          0.035228610038757324,
          0.035187602043151855,
          0.03471720218658447,
          0.03431093692779541,
          0.03374028205871582,
          0.033598124980926514,
          0.03343474864959717,
          0.0333247184753418,
          0.03319507837295532,
          0.033034443855285645,
          0.032987236976623535,
          0.03280997276306152,
          0.03247272968292236,
          0.032263755798339844,
          0.032138705253601074,
          0.032034873962402344,
          0.03200069069862366,
          0.03195756673812866,
          0.03188180923461914,
          0.03163793683052063,
          0.03152689337730408,
          0.03145921230316162,
          0.030669689178466797,
          0.030562758445739746,
          0.030105233192443848,
          0.030057549476623535,
          0.030043601989746094,
          0.02982795238494873,
          0.029500603675842285,
          0.02919483184814453,
          0.029124736785888672,
          0.029111623764038086,
          0.028902649879455566,
          0.028455138206481934,
          0.028362274169921875,
          0.02834397554397583,
          0.02814769744873047,
          0.02780279517173767,
          0.027448952198028564,
          0.02739393711090088,
          0.02735888957977295,
          0.02726614475250244,
          0.026753902435302734,
          0.026477694511413574,
          0.02609860897064209,
          0.026053309440612793,
          0.0259552001953125,
          0.025629639625549316,
          0.025104880332946777,
          0.024983763694763184,
          0.024709105491638184,
          0.024689912796020508,
          0.024439513683319092,
          0.024374723434448242,
          0.024212390184402466,
          0.02403777837753296,
          0.024014949798583984,
          0.023475289344787598,
          0.023192644119262695,
          0.023146212100982666,
          0.02232074737548828,
          0.02206277847290039,
          0.021932125091552734,
          0.021633923053741455,
          0.021628856658935547,
          0.021093368530273438,
          0.021067380905151367,
          0.0210416316986084,
          0.020888447761535645,
          0.02086329460144043,
          0.02040576934814453,
          0.02006840705871582,
          0.020046591758728027,
          0.019342899322509766,
          0.01890656352043152,
          0.018895506858825684,
          0.018855690956115723,
          0.018776416778564453,
          0.01861417293548584,
          0.0184706449508667,
          0.01826763153076172,
          0.017808914184570312,
          0.017741918563842773,
          0.01758226752281189,
          0.017549753189086914,
          0.017271041870117188,
          0.01694384217262268,
          0.016941040754318237,
          0.016854405403137207,
          0.01634383201599121,
          0.016313791275024414,
          0.01606619358062744,
          0.01601231098175049,
          0.015970706939697266,
          0.015957236289978027,
          0.015955209732055664,
          0.01590755581855774,
          0.015621304512023926,
          0.015430986881256104,
          0.015238404273986816,
          0.015166997909545898,
          0.015070676803588867,
          0.015064239501953125,
          0.014997005462646484,
          0.014983654022216797,
          0.014812946319580078,
          0.01466822624206543,
          0.014647424221038818,
          0.014629006385803223,
          0.014397859573364258,
          0.014240026473999023,
          0.014085054397583008,
          0.014060616493225098,
          0.014038920402526855,
          0.013947725296020508,
          0.013904094696044922,
          0.013582468032836914,
          0.013429641723632812,
          0.013265788555145264,
          0.013247013092041016,
          0.013234615325927734,
          0.013188183307647705,
          0.013173222541809082,
          0.013111233711242676,
          0.012956857681274414,
          0.012879610061645508,
          0.012624144554138184,
          0.011993408203125,
          0.011844754219055176,
          0.011571645736694336,
          0.011363089084625244,
          0.011348843574523926,
          0.011261463165283203,
          0.010894402861595154,
          0.010886549949645996,
          0.010788261890411377,
          0.010736584663391113,
          0.010703980922698975,
          0.010483622550964355,
          0.010483384132385254,
          0.010475099086761475,
          0.010355859994888306,
          0.01030886173248291,
          0.01011800765991211,
          0.01006019115447998,
          0.009977072477340698,
          0.009950816631317139,
          0.009733796119689941,
          0.009731411933898926,
          0.009649872779846191,
          0.009551674127578735,
          0.009550213813781738,
          0.00940793752670288,
          0.00938272476196289,
          0.009295225143432617,
          0.008964776992797852,
          0.008864283561706543,
          0.008860468864440918,
          0.008854389190673828,
          0.008777976036071777,
          0.008711695671081543,
          0.008513689041137695,
          0.008215129375457764,
          0.007974982261657715,
          0.00791233777999878,
          0.007807493209838867,
          0.007700562477111816,
          0.007452487945556641,
          0.007383227348327637,
          0.007381319999694824,
          0.0073004961013793945,
          0.007192671298980713,
          0.007066845893859863,
          0.006948351860046387,
          0.006873011589050293,
          0.006694614887237549,
          0.006574511528015137,
          0.006484389305114746,
          0.00648188591003418,
          0.005879878997802734,
          0.00565415620803833,
          0.005286574363708496,
          0.005163431167602539,
          0.004869937896728516,
          0.00455138087272644,
          0.0042341649532318115,
          0.003577589988708496,
          0.00337374210357666,
          0.0033226609230041504,
          0.00324404239654541,
          0.0032044649124145508,
          0.003106415271759033,
          0.0029593706130981445,
          0.002808511257171631,
          0.0027529001235961914,
          0.002650141716003418,
          0.0024379491806030273,
          0.002377629280090332,
          0.0021414756774902344,
          0.0018821954727172852,
          0.0016101598739624023,
          0.0014862418174743652,
          0.0013751983642578125,
          0.0010221004486083984,
          0.0009941458702087402,
          0.0009558200836181641,
          0.0008773207664489746,
          0.0007789134979248047,
          0.0007785558700561523,
          0.00048828125,
          -0.000032067298889160156,
          -0.00025200843811035156,
          -0.0004354715347290039,
          -0.0006281137466430664,
          -0.0008821487426757812,
          -0.001047968864440918,
          -0.0011029243469238281,
          -0.0011060237884521484,
          -0.001116037368774414,
          -0.0011861920356750488,
          -0.001202702522277832,
          -0.0013130903244018555,
          -0.0013260841369628906,
          -0.001367807388305664,
          -0.0019211769104003906,
          -0.00225830078125,
          -0.002293020486831665,
          -0.002350926399230957,
          -0.0024648308753967285,
          -0.0027619600296020508,
          -0.002783656120300293,
          -0.002863645553588867,
          -0.002999424934387207,
          -0.0034888386726379395,
          -0.003680884838104248,
          -0.003773927688598633,
          -0.003936171531677246,
          -0.003940403461456299,
          -0.004437088966369629,
          -0.0046645402908325195,
          -0.004701197147369385,
          -0.004745066165924072,
          -0.004804134368896484,
          -0.004939436912536621,
          -0.0049484968185424805,
          -0.005324363708496094,
          -0.005344390869140625,
          -0.005444884300231934,
          -0.005699336528778076,
          -0.005706131458282471,
          -0.005730926990509033,
          -0.0060520172119140625,
          -0.00606006383895874,
          -0.006136178970336914,
          -0.006241440773010254,
          -0.006458401679992676,
          -0.006494760513305664,
          -0.006630301475524902,
          -0.007001042366027832,
          -0.0070493221282958984,
          -0.007069766521453857,
          -0.007288813591003418,
          -0.007355451583862305,
          -0.007441163063049316,
          -0.007515311241149902,
          -0.007770538330078125,
          -0.007924139499664307,
          -0.008503079414367676,
          -0.008614897727966309,
          -0.008706331253051758,
          -0.008720815181732178,
          -0.00880056619644165,
          -0.008871674537658691,
          -0.00932168960571289,
          -0.009342849254608154,
          -0.00939023494720459,
          -0.009579300880432129,
          -0.009628057479858398,
          -0.009656548500061035,
          -0.009659886360168457,
          -0.009766697883605957,
          -0.009868144989013672,
          -0.010152816772460938,
          -0.010588884353637695,
          -0.010902166366577148,
          -0.011159300804138184,
          -0.011193394660949707,
          -0.011195659637451172,
          -0.011207282543182373,
          -0.011394858360290527,
          -0.011547565460205078,
          -0.011611700057983398,
          -0.011623680591583252,
          -0.0117417573928833,
          -0.011774599552154541,
          -0.011924386024475098,
          -0.01206505298614502,
          -0.01219642162322998,
          -0.012365102767944336,
          -0.012580275535583496,
          -0.012778639793395996,
          -0.012830018997192383,
          -0.013295292854309082,
          -0.013307392597198486,
          -0.01370149850845337,
          -0.013734221458435059,
          -0.013773322105407715,
          -0.013827919960021973,
          -0.014000415802001953,
          -0.014150857925415039,
          -0.01421666145324707,
          -0.014248251914978027,
          -0.014467000961303711,
          -0.014541029930114746,
          -0.014722585678100586,
          -0.014914155006408691,
          -0.01511847972869873,
          -0.01580190658569336,
          -0.015823066234588623,
          -0.01584845781326294,
          -0.015981733798980713,
          -0.016624629497528076,
          -0.016666769981384277,
          -0.01669788360595703,
          -0.016759872436523438,
          -0.01700139045715332,
          -0.01700735092163086,
          -0.01710367202758789,
          -0.017625808715820312,
          -0.017907261848449707,
          -0.018113374710083008,
          -0.01814374327659607,
          -0.018503546714782715,
          -0.018595099449157715,
          -0.0186460018157959,
          -0.018761396408081055,
          -0.018851876258850098,
          -0.019229769706726074,
          -0.019374966621398926,
          -0.019436120986938477,
          -0.01982128620147705,
          -0.02004009485244751,
          -0.02005136013031006,
          -0.02017688751220703,
          -0.020461738109588623,
          -0.020644664764404297,
          -0.020693182945251465,
          -0.02078831195831299,
          -0.020884275436401367,
          -0.021099090576171875,
          -0.021548986434936523,
          -0.021617531776428223,
          -0.021899044513702393,
          -0.022337913513183594,
          -0.02273869514465332,
          -0.022975444793701172,
          -0.022991538047790527,
          -0.023032069206237793,
          -0.023200660943984985,
          -0.023257136344909668,
          -0.0233917236328125,
          -0.024099349975585938,
          -0.02430051565170288,
          -0.02433013916015625,
          -0.024345174431800842,
          -0.024462223052978516,
          -0.025103449821472168,
          -0.02529144287109375,
          -0.025291621685028076,
          -0.025340735912322998,
          -0.0254976749420166,
          -0.025587856769561768,
          -0.02584397792816162,
          -0.026423513889312744,
          -0.026513338088989258,
          -0.026636064052581787,
          -0.02678471803665161,
          -0.02682662010192871,
          -0.026962757110595703,
          -0.027109146118164062,
          -0.028474926948547363,
          -0.02853071689605713,
          -0.02855992317199707,
          -0.02872234582901001,
          -0.02887594699859619,
          -0.02929842472076416,
          -0.029340267181396484,
          -0.02937936782836914,
          -0.029644012451171875,
          -0.029892802238464355,
          -0.030049443244934082,
          -0.030255556106567383,
          -0.03030979633331299,
          -0.030364975333213806,
          -0.03043001890182495,
          -0.030666708946228027,
          -0.030700325965881348,
          -0.03086644411087036,
          -0.03126215934753418,
          -0.031316399574279785,
          -0.03135502338409424,
          -0.03211510181427002,
          -0.032134830951690674,
          -0.03271317481994629,
          -0.03284728527069092,
          -0.03296864032745361,
          -0.03354924917221069,
          -0.0337376594543457,
          -0.033880531787872314,
          -0.03405994176864624,
          -0.034130096435546875,
          -0.03428804874420166,
          -0.034769415855407715,
          -0.03595757484436035,
          -0.0375446081161499,
          -0.03757774829864502,
          -0.03778332471847534,
          -0.037874817848205566,
          -0.03859281539916992,
          -0.0390017032623291,
          -0.03928494453430176,
          -0.03957414627075195,
          -0.0405808687210083,
          -0.04120755195617676,
          -0.04201632738113403,
          -0.04249238967895508,
          -0.042561888694763184,
          -0.04309731721878052,
          -0.04487323760986328,
          -0.04583710432052612,
          -0.04604250192642212,
          -0.04648411273956299,
          -0.04648655652999878,
          -0.046688079833984375,
          -0.046799540519714355,
          -0.046810150146484375,
          -0.0476992130279541,
          -0.04771655797958374,
          -0.04831415414810181,
          -0.04918360710144043,
          -0.04946756362915039,
          -0.0495373010635376,
          -0.049892306327819824,
          -0.050072312355041504,
          -0.05149686336517334,
          -0.05194985866546631,
          -0.05224502086639404,
          -0.05252361297607422,
          -0.052935242652893066,
          -0.054082393646240234,
          -0.054905056953430176,
          -0.0553821325302124,
          -0.056598007678985596,
          -0.05695927143096924,
          -0.0578647255897522,
          -0.05793321132659912,
          -0.058229684829711914,
          -0.058307945728302,
          -0.05842137336730957,
          -0.05846381187438965,
          -0.06043565273284912,
          -0.06063830852508545,
          -0.060797929763793945,
          -0.062236785888671875,
          -0.06250989437103271,
          -0.06336134672164917,
          -0.06412458419799805,
          -0.06541764736175537,
          -0.06561410427093506,
          -0.06613361835479736,
          -0.0663912296295166,
          -0.06765997409820557,
          -0.06970870494842529,
          -0.07023000717163086,
          -0.0710153579711914,
          -0.07193171977996826,
          -0.07259547710418701,
          -0.07353931665420532,
          -0.07362735271453857,
          -0.07690560817718506,
          -0.07729864120483398,
          -0.07810860872268677,
          -0.07827293872833252,
          -0.07904088497161865,
          -0.07919847965240479,
          -0.07926911115646362,
          -0.08030128479003906,
          -0.08064866065979004,
          -0.08332633972167969,
          -0.08497512340545654,
          -0.08560115098953247,
          -0.08565819263458252,
          -0.08761417865753174,
          -0.08782601356506348,
          -0.0885697603225708,
          -0.08935058116912842,
          -0.08947896957397461,
          -0.09029930830001831,
          -0.09100341796875,
          -0.09164535999298096,
          -0.09262317419052124,
          -0.09266257286071777,
          -0.09514355659484863,
          -0.09563469886779785,
          -0.0957256555557251,
          -0.10038089752197266,
          -0.10114133358001709,
          -0.10390996932983398,
          -0.10438704490661621,
          -0.11019039154052734,
          -0.11179566383361816,
          -0.11802220344543457,
          -0.1226736307144165,
          -0.12474441528320312,
          -0.1277448534965515,
          -0.12882161140441895,
          -0.1297999620437622,
          -0.1326814889907837,
          -0.13410675525665283,
          -0.13691651821136475,
          -0.14048397541046143,
          -0.144181489944458,
          -0.14441585540771484,
          -0.144791841506958,
          -0.1492406129837036,
          -0.14962011575698853,
          -0.14996719360351562,
          -0.15076041221618652,
          -0.15470528602600098,
          -0.16120457649230957,
          -0.16675424575805664,
          -0.17502355575561523,
          -0.176033616065979,
          -0.1802760362625122,
          -0.18978846073150635,
          -0.19322586059570312,
          -0.2047652006149292,
          -0.2057567834854126,
          -0.20889687538146973,
          -0.21301579475402832,
          -0.21482807397842407,
          -0.22056615352630615,
          -0.24038183689117432,
          -0.24190568923950195,
          -0.2523818016052246,
          -0.2527158856391907,
          -0.26077771186828613,
          -0.26632702350616455,
          -0.28518033027648926,
          -0.2888221740722656,
          -0.2910267114639282,
          -0.2924734354019165,
          -0.2927623987197876,
          -0.2956423759460449,
          -0.3071509599685669,
          -0.3178584575653076,
          -0.331312894821167,
          -0.340242862701416,
          -0.38805389404296875,
          -0.4806954860687256,
          -0.4885749816894531,
          -0.5805916786193848,
          -0.6793174743652344,
          -0.7037787437438965,
          -0.727886438369751,
          -0.8485562801361084,
          -0.9228764772415161
         ],
         "y0": " ",
         "yaxis": "y"
        }
       ],
       "layout": {
        "boxmode": "group",
        "legend": {
         "tracegroupgap": 0
        },
        "margin": {
         "t": 60
        },
        "template": {
         "data": {
          "bar": [
           {
            "error_x": {
             "color": "#2a3f5f"
            },
            "error_y": {
             "color": "#2a3f5f"
            },
            "marker": {
             "line": {
              "color": "#E5ECF6",
              "width": 0.5
             },
             "pattern": {
              "fillmode": "overlay",
              "size": 10,
              "solidity": 0.2
             }
            },
            "type": "bar"
           }
          ],
          "barpolar": [
           {
            "marker": {
             "line": {
              "color": "#E5ECF6",
              "width": 0.5
             },
             "pattern": {
              "fillmode": "overlay",
              "size": 10,
              "solidity": 0.2
             }
            },
            "type": "barpolar"
           }
          ],
          "carpet": [
           {
            "aaxis": {
             "endlinecolor": "#2a3f5f",
             "gridcolor": "white",
             "linecolor": "white",
             "minorgridcolor": "white",
             "startlinecolor": "#2a3f5f"
            },
            "baxis": {
             "endlinecolor": "#2a3f5f",
             "gridcolor": "white",
             "linecolor": "white",
             "minorgridcolor": "white",
             "startlinecolor": "#2a3f5f"
            },
            "type": "carpet"
           }
          ],
          "choropleth": [
           {
            "colorbar": {
             "outlinewidth": 0,
             "ticks": ""
            },
            "type": "choropleth"
           }
          ],
          "contour": [
           {
            "colorbar": {
             "outlinewidth": 0,
             "ticks": ""
            },
            "colorscale": [
             [
              0,
              "#0d0887"
             ],
             [
              0.1111111111111111,
              "#46039f"
             ],
             [
              0.2222222222222222,
              "#7201a8"
             ],
             [
              0.3333333333333333,
              "#9c179e"
             ],
             [
              0.4444444444444444,
              "#bd3786"
             ],
             [
              0.5555555555555556,
              "#d8576b"
             ],
             [
              0.6666666666666666,
              "#ed7953"
             ],
             [
              0.7777777777777778,
              "#fb9f3a"
             ],
             [
              0.8888888888888888,
              "#fdca26"
             ],
             [
              1,
              "#f0f921"
             ]
            ],
            "type": "contour"
           }
          ],
          "contourcarpet": [
           {
            "colorbar": {
             "outlinewidth": 0,
             "ticks": ""
            },
            "type": "contourcarpet"
           }
          ],
          "heatmap": [
           {
            "colorbar": {
             "outlinewidth": 0,
             "ticks": ""
            },
            "colorscale": [
             [
              0,
              "#0d0887"
             ],
             [
              0.1111111111111111,
              "#46039f"
             ],
             [
              0.2222222222222222,
              "#7201a8"
             ],
             [
              0.3333333333333333,
              "#9c179e"
             ],
             [
              0.4444444444444444,
              "#bd3786"
             ],
             [
              0.5555555555555556,
              "#d8576b"
             ],
             [
              0.6666666666666666,
              "#ed7953"
             ],
             [
              0.7777777777777778,
              "#fb9f3a"
             ],
             [
              0.8888888888888888,
              "#fdca26"
             ],
             [
              1,
              "#f0f921"
             ]
            ],
            "type": "heatmap"
           }
          ],
          "heatmapgl": [
           {
            "colorbar": {
             "outlinewidth": 0,
             "ticks": ""
            },
            "colorscale": [
             [
              0,
              "#0d0887"
             ],
             [
              0.1111111111111111,
              "#46039f"
             ],
             [
              0.2222222222222222,
              "#7201a8"
             ],
             [
              0.3333333333333333,
              "#9c179e"
             ],
             [
              0.4444444444444444,
              "#bd3786"
             ],
             [
              0.5555555555555556,
              "#d8576b"
             ],
             [
              0.6666666666666666,
              "#ed7953"
             ],
             [
              0.7777777777777778,
              "#fb9f3a"
             ],
             [
              0.8888888888888888,
              "#fdca26"
             ],
             [
              1,
              "#f0f921"
             ]
            ],
            "type": "heatmapgl"
           }
          ],
          "histogram": [
           {
            "marker": {
             "pattern": {
              "fillmode": "overlay",
              "size": 10,
              "solidity": 0.2
             }
            },
            "type": "histogram"
           }
          ],
          "histogram2d": [
           {
            "colorbar": {
             "outlinewidth": 0,
             "ticks": ""
            },
            "colorscale": [
             [
              0,
              "#0d0887"
             ],
             [
              0.1111111111111111,
              "#46039f"
             ],
             [
              0.2222222222222222,
              "#7201a8"
             ],
             [
              0.3333333333333333,
              "#9c179e"
             ],
             [
              0.4444444444444444,
              "#bd3786"
             ],
             [
              0.5555555555555556,
              "#d8576b"
             ],
             [
              0.6666666666666666,
              "#ed7953"
             ],
             [
              0.7777777777777778,
              "#fb9f3a"
             ],
             [
              0.8888888888888888,
              "#fdca26"
             ],
             [
              1,
              "#f0f921"
             ]
            ],
            "type": "histogram2d"
           }
          ],
          "histogram2dcontour": [
           {
            "colorbar": {
             "outlinewidth": 0,
             "ticks": ""
            },
            "colorscale": [
             [
              0,
              "#0d0887"
             ],
             [
              0.1111111111111111,
              "#46039f"
             ],
             [
              0.2222222222222222,
              "#7201a8"
             ],
             [
              0.3333333333333333,
              "#9c179e"
             ],
             [
              0.4444444444444444,
              "#bd3786"
             ],
             [
              0.5555555555555556,
              "#d8576b"
             ],
             [
              0.6666666666666666,
              "#ed7953"
             ],
             [
              0.7777777777777778,
              "#fb9f3a"
             ],
             [
              0.8888888888888888,
              "#fdca26"
             ],
             [
              1,
              "#f0f921"
             ]
            ],
            "type": "histogram2dcontour"
           }
          ],
          "mesh3d": [
           {
            "colorbar": {
             "outlinewidth": 0,
             "ticks": ""
            },
            "type": "mesh3d"
           }
          ],
          "parcoords": [
           {
            "line": {
             "colorbar": {
              "outlinewidth": 0,
              "ticks": ""
             }
            },
            "type": "parcoords"
           }
          ],
          "pie": [
           {
            "automargin": true,
            "type": "pie"
           }
          ],
          "scatter": [
           {
            "fillpattern": {
             "fillmode": "overlay",
             "size": 10,
             "solidity": 0.2
            },
            "type": "scatter"
           }
          ],
          "scatter3d": [
           {
            "line": {
             "colorbar": {
              "outlinewidth": 0,
              "ticks": ""
             }
            },
            "marker": {
             "colorbar": {
              "outlinewidth": 0,
              "ticks": ""
             }
            },
            "type": "scatter3d"
           }
          ],
          "scattercarpet": [
           {
            "marker": {
             "colorbar": {
              "outlinewidth": 0,
              "ticks": ""
             }
            },
            "type": "scattercarpet"
           }
          ],
          "scattergeo": [
           {
            "marker": {
             "colorbar": {
              "outlinewidth": 0,
              "ticks": ""
             }
            },
            "type": "scattergeo"
           }
          ],
          "scattergl": [
           {
            "marker": {
             "colorbar": {
              "outlinewidth": 0,
              "ticks": ""
             }
            },
            "type": "scattergl"
           }
          ],
          "scattermapbox": [
           {
            "marker": {
             "colorbar": {
              "outlinewidth": 0,
              "ticks": ""
             }
            },
            "type": "scattermapbox"
           }
          ],
          "scatterpolar": [
           {
            "marker": {
             "colorbar": {
              "outlinewidth": 0,
              "ticks": ""
             }
            },
            "type": "scatterpolar"
           }
          ],
          "scatterpolargl": [
           {
            "marker": {
             "colorbar": {
              "outlinewidth": 0,
              "ticks": ""
             }
            },
            "type": "scatterpolargl"
           }
          ],
          "scatterternary": [
           {
            "marker": {
             "colorbar": {
              "outlinewidth": 0,
              "ticks": ""
             }
            },
            "type": "scatterternary"
           }
          ],
          "surface": [
           {
            "colorbar": {
             "outlinewidth": 0,
             "ticks": ""
            },
            "colorscale": [
             [
              0,
              "#0d0887"
             ],
             [
              0.1111111111111111,
              "#46039f"
             ],
             [
              0.2222222222222222,
              "#7201a8"
             ],
             [
              0.3333333333333333,
              "#9c179e"
             ],
             [
              0.4444444444444444,
              "#bd3786"
             ],
             [
              0.5555555555555556,
              "#d8576b"
             ],
             [
              0.6666666666666666,
              "#ed7953"
             ],
             [
              0.7777777777777778,
              "#fb9f3a"
             ],
             [
              0.8888888888888888,
              "#fdca26"
             ],
             [
              1,
              "#f0f921"
             ]
            ],
            "type": "surface"
           }
          ],
          "table": [
           {
            "cells": {
             "fill": {
              "color": "#EBF0F8"
             },
             "line": {
              "color": "white"
             }
            },
            "header": {
             "fill": {
              "color": "#C8D4E3"
             },
             "line": {
              "color": "white"
             }
            },
            "type": "table"
           }
          ]
         },
         "layout": {
          "annotationdefaults": {
           "arrowcolor": "#2a3f5f",
           "arrowhead": 0,
           "arrowwidth": 1
          },
          "autotypenumbers": "strict",
          "coloraxis": {
           "colorbar": {
            "outlinewidth": 0,
            "ticks": ""
           }
          },
          "colorscale": {
           "diverging": [
            [
             0,
             "#8e0152"
            ],
            [
             0.1,
             "#c51b7d"
            ],
            [
             0.2,
             "#de77ae"
            ],
            [
             0.3,
             "#f1b6da"
            ],
            [
             0.4,
             "#fde0ef"
            ],
            [
             0.5,
             "#f7f7f7"
            ],
            [
             0.6,
             "#e6f5d0"
            ],
            [
             0.7,
             "#b8e186"
            ],
            [
             0.8,
             "#7fbc41"
            ],
            [
             0.9,
             "#4d9221"
            ],
            [
             1,
             "#276419"
            ]
           ],
           "sequential": [
            [
             0,
             "#0d0887"
            ],
            [
             0.1111111111111111,
             "#46039f"
            ],
            [
             0.2222222222222222,
             "#7201a8"
            ],
            [
             0.3333333333333333,
             "#9c179e"
            ],
            [
             0.4444444444444444,
             "#bd3786"
            ],
            [
             0.5555555555555556,
             "#d8576b"
            ],
            [
             0.6666666666666666,
             "#ed7953"
            ],
            [
             0.7777777777777778,
             "#fb9f3a"
            ],
            [
             0.8888888888888888,
             "#fdca26"
            ],
            [
             1,
             "#f0f921"
            ]
           ],
           "sequentialminus": [
            [
             0,
             "#0d0887"
            ],
            [
             0.1111111111111111,
             "#46039f"
            ],
            [
             0.2222222222222222,
             "#7201a8"
            ],
            [
             0.3333333333333333,
             "#9c179e"
            ],
            [
             0.4444444444444444,
             "#bd3786"
            ],
            [
             0.5555555555555556,
             "#d8576b"
            ],
            [
             0.6666666666666666,
             "#ed7953"
            ],
            [
             0.7777777777777778,
             "#fb9f3a"
            ],
            [
             0.8888888888888888,
             "#fdca26"
            ],
            [
             1,
             "#f0f921"
            ]
           ]
          },
          "colorway": [
           "#636efa",
           "#EF553B",
           "#00cc96",
           "#ab63fa",
           "#FFA15A",
           "#19d3f3",
           "#FF6692",
           "#B6E880",
           "#FF97FF",
           "#FECB52"
          ],
          "font": {
           "color": "#2a3f5f"
          },
          "geo": {
           "bgcolor": "white",
           "lakecolor": "white",
           "landcolor": "#E5ECF6",
           "showlakes": true,
           "showland": true,
           "subunitcolor": "white"
          },
          "hoverlabel": {
           "align": "left"
          },
          "hovermode": "closest",
          "mapbox": {
           "style": "light"
          },
          "paper_bgcolor": "white",
          "plot_bgcolor": "#E5ECF6",
          "polar": {
           "angularaxis": {
            "gridcolor": "white",
            "linecolor": "white",
            "ticks": ""
           },
           "bgcolor": "#E5ECF6",
           "radialaxis": {
            "gridcolor": "white",
            "linecolor": "white",
            "ticks": ""
           }
          },
          "scene": {
           "xaxis": {
            "backgroundcolor": "#E5ECF6",
            "gridcolor": "white",
            "gridwidth": 2,
            "linecolor": "white",
            "showbackground": true,
            "ticks": "",
            "zerolinecolor": "white"
           },
           "yaxis": {
            "backgroundcolor": "#E5ECF6",
            "gridcolor": "white",
            "gridwidth": 2,
            "linecolor": "white",
            "showbackground": true,
            "ticks": "",
            "zerolinecolor": "white"
           },
           "zaxis": {
            "backgroundcolor": "#E5ECF6",
            "gridcolor": "white",
            "gridwidth": 2,
            "linecolor": "white",
            "showbackground": true,
            "ticks": "",
            "zerolinecolor": "white"
           }
          },
          "shapedefaults": {
           "line": {
            "color": "#2a3f5f"
           }
          },
          "ternary": {
           "aaxis": {
            "gridcolor": "white",
            "linecolor": "white",
            "ticks": ""
           },
           "baxis": {
            "gridcolor": "white",
            "linecolor": "white",
            "ticks": ""
           },
           "bgcolor": "#E5ECF6",
           "caxis": {
            "gridcolor": "white",
            "linecolor": "white",
            "ticks": ""
           }
          },
          "title": {
           "x": 0.05
          },
          "xaxis": {
           "automargin": true,
           "gridcolor": "white",
           "linecolor": "white",
           "ticks": "",
           "title": {
            "standoff": 15
           },
           "zerolinecolor": "white",
           "zerolinewidth": 2
          },
          "yaxis": {
           "automargin": true,
           "gridcolor": "white",
           "linecolor": "white",
           "ticks": "",
           "title": {
            "standoff": 15
           },
           "zerolinecolor": "white",
           "zerolinewidth": 2
          }
         }
        },
        "xaxis": {
         "anchor": "y",
         "domain": [
          0,
          1
         ],
         "title": {
          "text": "unique_individuals"
         }
        },
        "yaxis": {
         "anchor": "x",
         "domain": [
          0,
          1
         ],
         "title": {
          "text": "nll_diff"
         }
        }
       }
      },
      "text/html": [
       "<div>                            <div id=\"90db1b2e-d1e0-455c-836d-e704d025174e\" class=\"plotly-graph-div\" style=\"height:525px; width:100%;\"></div>            <script type=\"text/javascript\">                require([\"plotly\"], function(Plotly) {                    window.PLOTLYENV=window.PLOTLYENV || {};                                    if (document.getElementById(\"90db1b2e-d1e0-455c-836d-e704d025174e\")) {                    Plotly.newPlot(                        \"90db1b2e-d1e0-455c-836d-e704d025174e\",                        [{\"alignmentgroup\":\"True\",\"hovertemplate\":\"unique_individuals=%{x}\\u003cbr\\u003enll_diff=%{y}\\u003cextra\\u003e\\u003c\\u002fextra\\u003e\",\"legendgroup\":\"\",\"marker\":{\"color\":\"#636efa\"},\"name\":\"\",\"notched\":false,\"offsetgroup\":\"\",\"orientation\":\"v\",\"showlegend\":false,\"x\":[1,1,1,1,1,1,1,1,1,1,2,1,1,1,1,1,8,4,1,3,1,1,4,1,1,1,1,1,1,1,3,1,2,1,4,1,1,4,8,1,1,3,2,2,3,2,3,1,4,3,2,2,3,3,2,3,3,2,4,2,1,4,8,3,2,3,4,1,2,2,2,2,2,3,1,2,1,3,2,2,3,1,2,9,1,9,9,4,3,2,1,2,2,5,1,1,7,2,4,9,2,3,2,7,1,6,2,1,5,2,3,4,2,1,2,4,3,1,4,2,1,2,2,1,8,2,1,2,2,1,4,1,1,1,2,3,1,1,4,2,6,6,2,1,7,3,3,4,4,3,3,6,2,2,4,8,4,8,1,1,3,3,1,3,2,2,2,7,1,7,3,3,3,3,3,3,3,2,3,2,1,1,4,3,7,1,4,3,7,3,5,1,2,1,2,3,6,3,2,2,3,1,1,2,7,4,2,2,2,4,2,2,4,1,1,3,3,1,3,3,2,9,3,4,3,4,2,5,1,2,4,5,2,4,6,2,3,2,7,2,4,3,2,3,2,4,8,6,3,2,4,4,4,4,3,4,10,4,4,1,2,2,4,1,6,2,3,2,2,3,6,3,7,7,3,2,2,4,4,7,7,6,2,3,3,2,2,6,2,5,4,6,5,7,9,4,1,4,6,3,2,2,2,1,3,4,4,1,5,2,2,3,1,3,1,2,2,5,1,6,3,4,3,4,6,6,3,4,1,2,2,2,2,1,6,3,3,6,10,6,4,4,10,5,1,5,6,7,8,5,7,4,2,1,4,4,4,2,3,3,2,5,9,7,3,1,5,4,3,4,5,8,6,4,8,6,1,5,6,8,8,7,2,5,2,7,1,2,3,10,8,4,2,5,6,3,4,8,4,2,5,1,1,10,1,7,5,5,6,2,4,1,8,1,3,2,8,5,3,3,2,6,3,1,5,7,8,7,3,3,1,4,1,3,3,10,4,5,7,3,2,5,3,4,4,1,4,3,4,3,2,4,2,2,4,8,6,1,3,5,6,6,3,3,3,3,2,2,4,3,4,2,2,2,4,1,7,4,2,7,3,6,4,4,3,8,1,7,4,1,4,1,6,3,9,4,3,2,7,8,5,5,3,1,7,3,4,1,1,7,1,7,4,4,7,2,3,3,4,4,8,2,5,6,7,6,3,2,6,2,4,10,5,3,5,7,6,3,7,2,5,7,4,2,7,5,7,1,8,3,3,2,1,2,3,3,4,5,3,7,3,1,2,3,8,8,3,6,3,4,3,7,1,4,2,3,4,7,7,7,2,4,6,5,3,8,6,3,3,2,2,1,2,7,8,8,4,2,4,2,2,4,5,2,7,2,6,4,3,2,4,5,5,3,3,4,4,8,1,5,3,7,6,2,3,7,7,2,5,5,7,2,3,1,1,1,1,3,2,2,1,3,1,1,2,2,3,5,4,9,7,3,3,2,3,1,6,6,3,2,1,8,1,3,7,4,6,5,2,6,8,3,3,7,3,3,3,2,3,4,2,2,2,3,7,4,4,4,5,5,2,2,1,6,1,4,3,1,2,3,2,2,4,1,4,8,2,3,1,2,1,3,7,3,3,3,5,3,4,4,1,3,2,3,2,3,4,1,3,4,1,1,1,3,3,3,4,6,1,2,1,3,1,1,3,1,7,1,3,3,4,3,1,2,3,3,1,1,1,3,1,3,5,1,3,5,4,2,1,4,3,2,1,3,2,5,2,3,1,1,1,2,1,2,1,2,4,5,1,2,1,3,1,1,3,1,1,1,1,1,3,1,1,2,1,1,4,2,1,1,4,2,3,3,1,3,3,1,1,1,1,2,1,1,1,3,1,1,1,1,1,1,1,1,1,1],\"x0\":\" \",\"xaxis\":\"x\",\"y\":[0.7413804531097412,0.6657705307006836,0.42651593685150146,0.388688325881958,0.3687314987182617,0.35921669006347656,0.3385181427001953,0.3303546905517578,0.302448034286499,0.3009148836135864,0.28272271156311035,0.26128196716308594,0.24593830108642578,0.24386656284332275,0.24323177337646484,0.22877097129821777,0.22668588161468506,0.21674227714538574,0.21503663063049316,0.21245038509368896,0.2107318639755249,0.20725131034851074,0.20245623588562012,0.188121497631073,0.18547701835632324,0.18195271492004395,0.17385876178741455,0.16939806938171387,0.16819632053375244,0.16393613815307617,0.1637791395187378,0.163659930229187,0.15809756517410278,0.15344417095184326,0.15342485904693604,0.14934039115905762,0.14616519212722778,0.14514315128326416,0.14489340782165527,0.14408910274505615,0.13945460319519043,0.13862252235412598,0.1383042335510254,0.13542234897613525,0.13414430618286133,0.13414430618286133,0.13325798511505127,0.13266539573669434,0.1322617530822754,0.13214623928070068,0.13109183311462402,0.1298307180404663,0.1273282766342163,0.12698698043823242,0.1262972354888916,0.12565839290618896,0.1251758337020874,0.1228410005569458,0.12131905555725098,0.12101423740386963,0.12073194980621338,0.12050855159759521,0.12044119834899902,0.11876273155212402,0.11870497465133667,0.11659383773803711,0.11477351188659668,0.11463296413421631,0.11440277099609375,0.113930344581604,0.11341440677642822,0.11208701133728027,0.11191153526306152,0.11177504062652588,0.11172080039978027,0.11106204986572266,0.10975295305252075,0.10906028747558594,0.10889244079589844,0.1082531213760376,0.10815227031707764,0.1067206859588623,0.1066659688949585,0.10638117790222168,0.10610449314117432,0.10527324676513672,0.10503184795379639,0.10463500022888184,0.10441052913665771,0.10117554664611816,0.10105931758880615,0.10092771053314209,0.10032832622528076,0.09913164377212524,0.09850358963012695,0.09849631786346436,0.09613919258117676,0.0951070785522461,0.09332501888275146,0.09292125701904297,0.09288966655731201,0.09115755558013916,0.09107911586761475,0.09001636505126953,0.08931601047515869,0.08914291858673096,0.08831918239593506,0.08806586265563965,0.0867462158203125,0.0867147445678711,0.08670651912689209,0.08612215518951416,0.08529365062713623,0.08506971597671509,0.08464217185974121,0.08396601676940918,0.0833355188369751,0.0830392837524414,0.08285057544708252,0.08270382881164551,0.08261716365814209,0.08161699771881104,0.08155786991119385,0.08051466941833496,0.08003199100494385,0.07868444919586182,0.07850897312164307,0.07825493812561035,0.07808220386505127,0.07795870304107666,0.07784736156463623,0.07703447341918945,0.0770074874162674,0.07699549198150635,0.07524704933166504,0.07467877864837646,0.07429563999176025,0.07365798950195312,0.0732010006904602,0.07304489612579346,0.0729759931564331,0.07253551483154297,0.0725129246711731,0.07233321666717529,0.07229351997375488,0.07135748863220215,0.0709218978881836,0.07035350799560547,0.07019734382629395,0.07008889317512512,0.06956923007965088,0.06810867786407471,0.06795024871826172,0.0666893720626831,0.0666840672492981,0.06644213199615479,0.06629139184951782,0.06598961353302002,0.06586837768554688,0.06581389904022217,0.06575965881347656,0.0655585527420044,0.06538069248199463,0.06478622555732727,0.06435787677764893,0.06391644477844238,0.06374895572662354,0.06337583065032959,0.06329771876335144,0.06325399875640869,0.06239175796508789,0.06216633319854736,0.061634182929992676,0.06069588661193848,0.0605851411819458,0.06033170223236084,0.06007790565490723,0.05949068069458008,0.058805108070373535,0.05855762958526611,0.05835127830505371,0.05827641487121582,0.05644190311431885,0.05592823028564453,0.05586373805999756,0.05585372447967529,0.055632829666137695,0.05559802055358887,0.05556070804595947,0.0552668571472168,0.05499759316444397,0.05484879016876221,0.05389714241027832,0.05387300252914429,0.05373871326446533,0.053012192249298096,0.052933067083358765,0.05280977487564087,0.052390992641448975,0.05193161964416504,0.05188775062561035,0.051514506340026855,0.05094552040100098,0.050559043884277344,0.050337910652160645,0.050223350524902344,0.05020260810852051,0.049828529357910156,0.04975748062133789,0.04972970485687256,0.04965949058532715,0.04940962791442871,0.0486828088760376,0.048622071743011475,0.048506975173950195,0.04779660701751709,0.04771709442138672,0.04758356511592865,0.047527194023132324,0.0471767783164978,0.04623579978942871,0.045440673828125,0.04517829418182373,0.045092225074768066,0.044928550720214844,0.04484748840332031,0.043559908866882324,0.04338347911834717,0.04335188865661621,0.04296845197677612,0.04296398162841797,0.04288959503173828,0.04268002510070801,0.042503952980041504,0.04250073432922363,0.04238271713256836,0.04234814643859863,0.042211055755615234,0.04183793067932129,0.040799498558044434,0.040418028831481934,0.04017066955566406,0.039899349212646484,0.0398411750793457,0.0395054817199707,0.039426445960998535,0.03941500186920166,0.03888440132141113,0.03877156972885132,0.03869044780731201,0.03854238986968994,0.038462162017822266,0.038332581520080566,0.038325488567352295,0.03831934928894043,0.03825783729553223,0.03756237030029297,0.03742307424545288,0.03716850280761719,0.03694814443588257,0.03610020875930786,0.03594529628753662,0.03583240509033203,0.03569436073303223,0.03561520576477051,0.03551661968231201,0.03538715839385986,0.03536975383758545,0.03530228137969971,0.035228610038757324,0.035187602043151855,0.03471720218658447,0.03431093692779541,0.03374028205871582,0.033598124980926514,0.03343474864959717,0.0333247184753418,0.03319507837295532,0.033034443855285645,0.032987236976623535,0.03280997276306152,0.03247272968292236,0.032263755798339844,0.032138705253601074,0.032034873962402344,0.03200069069862366,0.03195756673812866,0.03188180923461914,0.03163793683052063,0.03152689337730408,0.03145921230316162,0.030669689178466797,0.030562758445739746,0.030105233192443848,0.030057549476623535,0.030043601989746094,0.02982795238494873,0.029500603675842285,0.02919483184814453,0.029124736785888672,0.029111623764038086,0.028902649879455566,0.028455138206481934,0.028362274169921875,0.02834397554397583,0.02814769744873047,0.02780279517173767,0.027448952198028564,0.02739393711090088,0.02735888957977295,0.02726614475250244,0.026753902435302734,0.026477694511413574,0.02609860897064209,0.026053309440612793,0.0259552001953125,0.025629639625549316,0.025104880332946777,0.024983763694763184,0.024709105491638184,0.024689912796020508,0.024439513683319092,0.024374723434448242,0.024212390184402466,0.02403777837753296,0.024014949798583984,0.023475289344787598,0.023192644119262695,0.023146212100982666,0.02232074737548828,0.02206277847290039,0.021932125091552734,0.021633923053741455,0.021628856658935547,0.021093368530273438,0.021067380905151367,0.0210416316986084,0.020888447761535645,0.02086329460144043,0.02040576934814453,0.02006840705871582,0.020046591758728027,0.019342899322509766,0.01890656352043152,0.018895506858825684,0.018855690956115723,0.018776416778564453,0.01861417293548584,0.0184706449508667,0.01826763153076172,0.017808914184570312,0.017741918563842773,0.01758226752281189,0.017549753189086914,0.017271041870117188,0.01694384217262268,0.016941040754318237,0.016854405403137207,0.01634383201599121,0.016313791275024414,0.01606619358062744,0.01601231098175049,0.015970706939697266,0.015957236289978027,0.015955209732055664,0.01590755581855774,0.015621304512023926,0.015430986881256104,0.015238404273986816,0.015166997909545898,0.015070676803588867,0.015064239501953125,0.014997005462646484,0.014983654022216797,0.014812946319580078,0.01466822624206543,0.014647424221038818,0.014629006385803223,0.014397859573364258,0.014240026473999023,0.014085054397583008,0.014060616493225098,0.014038920402526855,0.013947725296020508,0.013904094696044922,0.013582468032836914,0.013429641723632812,0.013265788555145264,0.013247013092041016,0.013234615325927734,0.013188183307647705,0.013173222541809082,0.013111233711242676,0.012956857681274414,0.012879610061645508,0.012624144554138184,0.011993408203125,0.011844754219055176,0.011571645736694336,0.011363089084625244,0.011348843574523926,0.011261463165283203,0.010894402861595154,0.010886549949645996,0.010788261890411377,0.010736584663391113,0.010703980922698975,0.010483622550964355,0.010483384132385254,0.010475099086761475,0.010355859994888306,0.01030886173248291,0.01011800765991211,0.01006019115447998,0.009977072477340698,0.009950816631317139,0.009733796119689941,0.009731411933898926,0.009649872779846191,0.009551674127578735,0.009550213813781738,0.00940793752670288,0.00938272476196289,0.009295225143432617,0.008964776992797852,0.008864283561706543,0.008860468864440918,0.008854389190673828,0.008777976036071777,0.008711695671081543,0.008513689041137695,0.008215129375457764,0.007974982261657715,0.00791233777999878,0.007807493209838867,0.007700562477111816,0.007452487945556641,0.007383227348327637,0.007381319999694824,0.0073004961013793945,0.007192671298980713,0.007066845893859863,0.006948351860046387,0.006873011589050293,0.006694614887237549,0.006574511528015137,0.006484389305114746,0.00648188591003418,0.005879878997802734,0.00565415620803833,0.005286574363708496,0.005163431167602539,0.004869937896728516,0.00455138087272644,0.0042341649532318115,0.003577589988708496,0.00337374210357666,0.0033226609230041504,0.00324404239654541,0.0032044649124145508,0.003106415271759033,0.0029593706130981445,0.002808511257171631,0.0027529001235961914,0.002650141716003418,0.0024379491806030273,0.002377629280090332,0.0021414756774902344,0.0018821954727172852,0.0016101598739624023,0.0014862418174743652,0.0013751983642578125,0.0010221004486083984,0.0009941458702087402,0.0009558200836181641,0.0008773207664489746,0.0007789134979248047,0.0007785558700561523,0.00048828125,-3.2067298889160156e-05,-0.00025200843811035156,-0.0004354715347290039,-0.0006281137466430664,-0.0008821487426757812,-0.001047968864440918,-0.0011029243469238281,-0.0011060237884521484,-0.001116037368774414,-0.0011861920356750488,-0.001202702522277832,-0.0013130903244018555,-0.0013260841369628906,-0.001367807388305664,-0.0019211769104003906,-0.00225830078125,-0.002293020486831665,-0.002350926399230957,-0.0024648308753967285,-0.0027619600296020508,-0.002783656120300293,-0.002863645553588867,-0.002999424934387207,-0.0034888386726379395,-0.003680884838104248,-0.003773927688598633,-0.003936171531677246,-0.003940403461456299,-0.004437088966369629,-0.0046645402908325195,-0.004701197147369385,-0.004745066165924072,-0.004804134368896484,-0.004939436912536621,-0.0049484968185424805,-0.005324363708496094,-0.005344390869140625,-0.005444884300231934,-0.005699336528778076,-0.005706131458282471,-0.005730926990509033,-0.0060520172119140625,-0.00606006383895874,-0.006136178970336914,-0.006241440773010254,-0.006458401679992676,-0.006494760513305664,-0.006630301475524902,-0.007001042366027832,-0.0070493221282958984,-0.007069766521453857,-0.007288813591003418,-0.007355451583862305,-0.007441163063049316,-0.007515311241149902,-0.007770538330078125,-0.007924139499664307,-0.008503079414367676,-0.008614897727966309,-0.008706331253051758,-0.008720815181732178,-0.00880056619644165,-0.008871674537658691,-0.00932168960571289,-0.009342849254608154,-0.00939023494720459,-0.009579300880432129,-0.009628057479858398,-0.009656548500061035,-0.009659886360168457,-0.009766697883605957,-0.009868144989013672,-0.010152816772460938,-0.010588884353637695,-0.010902166366577148,-0.011159300804138184,-0.011193394660949707,-0.011195659637451172,-0.011207282543182373,-0.011394858360290527,-0.011547565460205078,-0.011611700057983398,-0.011623680591583252,-0.0117417573928833,-0.011774599552154541,-0.011924386024475098,-0.01206505298614502,-0.01219642162322998,-0.012365102767944336,-0.012580275535583496,-0.012778639793395996,-0.012830018997192383,-0.013295292854309082,-0.013307392597198486,-0.01370149850845337,-0.013734221458435059,-0.013773322105407715,-0.013827919960021973,-0.014000415802001953,-0.014150857925415039,-0.01421666145324707,-0.014248251914978027,-0.014467000961303711,-0.014541029930114746,-0.014722585678100586,-0.014914155006408691,-0.01511847972869873,-0.01580190658569336,-0.015823066234588623,-0.01584845781326294,-0.015981733798980713,-0.016624629497528076,-0.016666769981384277,-0.01669788360595703,-0.016759872436523438,-0.01700139045715332,-0.01700735092163086,-0.01710367202758789,-0.017625808715820312,-0.017907261848449707,-0.018113374710083008,-0.01814374327659607,-0.018503546714782715,-0.018595099449157715,-0.0186460018157959,-0.018761396408081055,-0.018851876258850098,-0.019229769706726074,-0.019374966621398926,-0.019436120986938477,-0.01982128620147705,-0.02004009485244751,-0.02005136013031006,-0.02017688751220703,-0.020461738109588623,-0.020644664764404297,-0.020693182945251465,-0.02078831195831299,-0.020884275436401367,-0.021099090576171875,-0.021548986434936523,-0.021617531776428223,-0.021899044513702393,-0.022337913513183594,-0.02273869514465332,-0.022975444793701172,-0.022991538047790527,-0.023032069206237793,-0.023200660943984985,-0.023257136344909668,-0.0233917236328125,-0.024099349975585938,-0.02430051565170288,-0.02433013916015625,-0.024345174431800842,-0.024462223052978516,-0.025103449821472168,-0.02529144287109375,-0.025291621685028076,-0.025340735912322998,-0.0254976749420166,-0.025587856769561768,-0.02584397792816162,-0.026423513889312744,-0.026513338088989258,-0.026636064052581787,-0.02678471803665161,-0.02682662010192871,-0.026962757110595703,-0.027109146118164062,-0.028474926948547363,-0.02853071689605713,-0.02855992317199707,-0.02872234582901001,-0.02887594699859619,-0.02929842472076416,-0.029340267181396484,-0.02937936782836914,-0.029644012451171875,-0.029892802238464355,-0.030049443244934082,-0.030255556106567383,-0.03030979633331299,-0.030364975333213806,-0.03043001890182495,-0.030666708946228027,-0.030700325965881348,-0.03086644411087036,-0.03126215934753418,-0.031316399574279785,-0.03135502338409424,-0.03211510181427002,-0.032134830951690674,-0.03271317481994629,-0.03284728527069092,-0.03296864032745361,-0.03354924917221069,-0.0337376594543457,-0.033880531787872314,-0.03405994176864624,-0.034130096435546875,-0.03428804874420166,-0.034769415855407715,-0.03595757484436035,-0.0375446081161499,-0.03757774829864502,-0.03778332471847534,-0.037874817848205566,-0.03859281539916992,-0.0390017032623291,-0.03928494453430176,-0.03957414627075195,-0.0405808687210083,-0.04120755195617676,-0.04201632738113403,-0.04249238967895508,-0.042561888694763184,-0.04309731721878052,-0.04487323760986328,-0.04583710432052612,-0.04604250192642212,-0.04648411273956299,-0.04648655652999878,-0.046688079833984375,-0.046799540519714355,-0.046810150146484375,-0.0476992130279541,-0.04771655797958374,-0.04831415414810181,-0.04918360710144043,-0.04946756362915039,-0.0495373010635376,-0.049892306327819824,-0.050072312355041504,-0.05149686336517334,-0.05194985866546631,-0.05224502086639404,-0.05252361297607422,-0.052935242652893066,-0.054082393646240234,-0.054905056953430176,-0.0553821325302124,-0.056598007678985596,-0.05695927143096924,-0.0578647255897522,-0.05793321132659912,-0.058229684829711914,-0.058307945728302,-0.05842137336730957,-0.05846381187438965,-0.06043565273284912,-0.06063830852508545,-0.060797929763793945,-0.062236785888671875,-0.06250989437103271,-0.06336134672164917,-0.06412458419799805,-0.06541764736175537,-0.06561410427093506,-0.06613361835479736,-0.0663912296295166,-0.06765997409820557,-0.06970870494842529,-0.07023000717163086,-0.0710153579711914,-0.07193171977996826,-0.07259547710418701,-0.07353931665420532,-0.07362735271453857,-0.07690560817718506,-0.07729864120483398,-0.07810860872268677,-0.07827293872833252,-0.07904088497161865,-0.07919847965240479,-0.07926911115646362,-0.08030128479003906,-0.08064866065979004,-0.08332633972167969,-0.08497512340545654,-0.08560115098953247,-0.08565819263458252,-0.08761417865753174,-0.08782601356506348,-0.0885697603225708,-0.08935058116912842,-0.08947896957397461,-0.09029930830001831,-0.09100341796875,-0.09164535999298096,-0.09262317419052124,-0.09266257286071777,-0.09514355659484863,-0.09563469886779785,-0.0957256555557251,-0.10038089752197266,-0.10114133358001709,-0.10390996932983398,-0.10438704490661621,-0.11019039154052734,-0.11179566383361816,-0.11802220344543457,-0.1226736307144165,-0.12474441528320312,-0.1277448534965515,-0.12882161140441895,-0.1297999620437622,-0.1326814889907837,-0.13410675525665283,-0.13691651821136475,-0.14048397541046143,-0.144181489944458,-0.14441585540771484,-0.144791841506958,-0.1492406129837036,-0.14962011575698853,-0.14996719360351562,-0.15076041221618652,-0.15470528602600098,-0.16120457649230957,-0.16675424575805664,-0.17502355575561523,-0.176033616065979,-0.1802760362625122,-0.18978846073150635,-0.19322586059570312,-0.2047652006149292,-0.2057567834854126,-0.20889687538146973,-0.21301579475402832,-0.21482807397842407,-0.22056615352630615,-0.24038183689117432,-0.24190568923950195,-0.2523818016052246,-0.2527158856391907,-0.26077771186828613,-0.26632702350616455,-0.28518033027648926,-0.2888221740722656,-0.2910267114639282,-0.2924734354019165,-0.2927623987197876,-0.2956423759460449,-0.3071509599685669,-0.3178584575653076,-0.331312894821167,-0.340242862701416,-0.38805389404296875,-0.4806954860687256,-0.4885749816894531,-0.5805916786193848,-0.6793174743652344,-0.7037787437438965,-0.727886438369751,-0.8485562801361084,-0.9228764772415161],\"y0\":\" \",\"yaxis\":\"y\",\"type\":\"box\"}],                        {\"template\":{\"data\":{\"histogram2dcontour\":[{\"type\":\"histogram2dcontour\",\"colorbar\":{\"outlinewidth\":0,\"ticks\":\"\"},\"colorscale\":[[0.0,\"#0d0887\"],[0.1111111111111111,\"#46039f\"],[0.2222222222222222,\"#7201a8\"],[0.3333333333333333,\"#9c179e\"],[0.4444444444444444,\"#bd3786\"],[0.5555555555555556,\"#d8576b\"],[0.6666666666666666,\"#ed7953\"],[0.7777777777777778,\"#fb9f3a\"],[0.8888888888888888,\"#fdca26\"],[1.0,\"#f0f921\"]]}],\"choropleth\":[{\"type\":\"choropleth\",\"colorbar\":{\"outlinewidth\":0,\"ticks\":\"\"}}],\"histogram2d\":[{\"type\":\"histogram2d\",\"colorbar\":{\"outlinewidth\":0,\"ticks\":\"\"},\"colorscale\":[[0.0,\"#0d0887\"],[0.1111111111111111,\"#46039f\"],[0.2222222222222222,\"#7201a8\"],[0.3333333333333333,\"#9c179e\"],[0.4444444444444444,\"#bd3786\"],[0.5555555555555556,\"#d8576b\"],[0.6666666666666666,\"#ed7953\"],[0.7777777777777778,\"#fb9f3a\"],[0.8888888888888888,\"#fdca26\"],[1.0,\"#f0f921\"]]}],\"heatmap\":[{\"type\":\"heatmap\",\"colorbar\":{\"outlinewidth\":0,\"ticks\":\"\"},\"colorscale\":[[0.0,\"#0d0887\"],[0.1111111111111111,\"#46039f\"],[0.2222222222222222,\"#7201a8\"],[0.3333333333333333,\"#9c179e\"],[0.4444444444444444,\"#bd3786\"],[0.5555555555555556,\"#d8576b\"],[0.6666666666666666,\"#ed7953\"],[0.7777777777777778,\"#fb9f3a\"],[0.8888888888888888,\"#fdca26\"],[1.0,\"#f0f921\"]]}],\"heatmapgl\":[{\"type\":\"heatmapgl\",\"colorbar\":{\"outlinewidth\":0,\"ticks\":\"\"},\"colorscale\":[[0.0,\"#0d0887\"],[0.1111111111111111,\"#46039f\"],[0.2222222222222222,\"#7201a8\"],[0.3333333333333333,\"#9c179e\"],[0.4444444444444444,\"#bd3786\"],[0.5555555555555556,\"#d8576b\"],[0.6666666666666666,\"#ed7953\"],[0.7777777777777778,\"#fb9f3a\"],[0.8888888888888888,\"#fdca26\"],[1.0,\"#f0f921\"]]}],\"contourcarpet\":[{\"type\":\"contourcarpet\",\"colorbar\":{\"outlinewidth\":0,\"ticks\":\"\"}}],\"contour\":[{\"type\":\"contour\",\"colorbar\":{\"outlinewidth\":0,\"ticks\":\"\"},\"colorscale\":[[0.0,\"#0d0887\"],[0.1111111111111111,\"#46039f\"],[0.2222222222222222,\"#7201a8\"],[0.3333333333333333,\"#9c179e\"],[0.4444444444444444,\"#bd3786\"],[0.5555555555555556,\"#d8576b\"],[0.6666666666666666,\"#ed7953\"],[0.7777777777777778,\"#fb9f3a\"],[0.8888888888888888,\"#fdca26\"],[1.0,\"#f0f921\"]]}],\"surface\":[{\"type\":\"surface\",\"colorbar\":{\"outlinewidth\":0,\"ticks\":\"\"},\"colorscale\":[[0.0,\"#0d0887\"],[0.1111111111111111,\"#46039f\"],[0.2222222222222222,\"#7201a8\"],[0.3333333333333333,\"#9c179e\"],[0.4444444444444444,\"#bd3786\"],[0.5555555555555556,\"#d8576b\"],[0.6666666666666666,\"#ed7953\"],[0.7777777777777778,\"#fb9f3a\"],[0.8888888888888888,\"#fdca26\"],[1.0,\"#f0f921\"]]}],\"mesh3d\":[{\"type\":\"mesh3d\",\"colorbar\":{\"outlinewidth\":0,\"ticks\":\"\"}}],\"scatter\":[{\"fillpattern\":{\"fillmode\":\"overlay\",\"size\":10,\"solidity\":0.2},\"type\":\"scatter\"}],\"parcoords\":[{\"type\":\"parcoords\",\"line\":{\"colorbar\":{\"outlinewidth\":0,\"ticks\":\"\"}}}],\"scatterpolargl\":[{\"type\":\"scatterpolargl\",\"marker\":{\"colorbar\":{\"outlinewidth\":0,\"ticks\":\"\"}}}],\"bar\":[{\"error_x\":{\"color\":\"#2a3f5f\"},\"error_y\":{\"color\":\"#2a3f5f\"},\"marker\":{\"line\":{\"color\":\"#E5ECF6\",\"width\":0.5},\"pattern\":{\"fillmode\":\"overlay\",\"size\":10,\"solidity\":0.2}},\"type\":\"bar\"}],\"scattergeo\":[{\"type\":\"scattergeo\",\"marker\":{\"colorbar\":{\"outlinewidth\":0,\"ticks\":\"\"}}}],\"scatterpolar\":[{\"type\":\"scatterpolar\",\"marker\":{\"colorbar\":{\"outlinewidth\":0,\"ticks\":\"\"}}}],\"histogram\":[{\"marker\":{\"pattern\":{\"fillmode\":\"overlay\",\"size\":10,\"solidity\":0.2}},\"type\":\"histogram\"}],\"scattergl\":[{\"type\":\"scattergl\",\"marker\":{\"colorbar\":{\"outlinewidth\":0,\"ticks\":\"\"}}}],\"scatter3d\":[{\"type\":\"scatter3d\",\"line\":{\"colorbar\":{\"outlinewidth\":0,\"ticks\":\"\"}},\"marker\":{\"colorbar\":{\"outlinewidth\":0,\"ticks\":\"\"}}}],\"scattermapbox\":[{\"type\":\"scattermapbox\",\"marker\":{\"colorbar\":{\"outlinewidth\":0,\"ticks\":\"\"}}}],\"scatterternary\":[{\"type\":\"scatterternary\",\"marker\":{\"colorbar\":{\"outlinewidth\":0,\"ticks\":\"\"}}}],\"scattercarpet\":[{\"type\":\"scattercarpet\",\"marker\":{\"colorbar\":{\"outlinewidth\":0,\"ticks\":\"\"}}}],\"carpet\":[{\"aaxis\":{\"endlinecolor\":\"#2a3f5f\",\"gridcolor\":\"white\",\"linecolor\":\"white\",\"minorgridcolor\":\"white\",\"startlinecolor\":\"#2a3f5f\"},\"baxis\":{\"endlinecolor\":\"#2a3f5f\",\"gridcolor\":\"white\",\"linecolor\":\"white\",\"minorgridcolor\":\"white\",\"startlinecolor\":\"#2a3f5f\"},\"type\":\"carpet\"}],\"table\":[{\"cells\":{\"fill\":{\"color\":\"#EBF0F8\"},\"line\":{\"color\":\"white\"}},\"header\":{\"fill\":{\"color\":\"#C8D4E3\"},\"line\":{\"color\":\"white\"}},\"type\":\"table\"}],\"barpolar\":[{\"marker\":{\"line\":{\"color\":\"#E5ECF6\",\"width\":0.5},\"pattern\":{\"fillmode\":\"overlay\",\"size\":10,\"solidity\":0.2}},\"type\":\"barpolar\"}],\"pie\":[{\"automargin\":true,\"type\":\"pie\"}]},\"layout\":{\"autotypenumbers\":\"strict\",\"colorway\":[\"#636efa\",\"#EF553B\",\"#00cc96\",\"#ab63fa\",\"#FFA15A\",\"#19d3f3\",\"#FF6692\",\"#B6E880\",\"#FF97FF\",\"#FECB52\"],\"font\":{\"color\":\"#2a3f5f\"},\"hovermode\":\"closest\",\"hoverlabel\":{\"align\":\"left\"},\"paper_bgcolor\":\"white\",\"plot_bgcolor\":\"#E5ECF6\",\"polar\":{\"bgcolor\":\"#E5ECF6\",\"angularaxis\":{\"gridcolor\":\"white\",\"linecolor\":\"white\",\"ticks\":\"\"},\"radialaxis\":{\"gridcolor\":\"white\",\"linecolor\":\"white\",\"ticks\":\"\"}},\"ternary\":{\"bgcolor\":\"#E5ECF6\",\"aaxis\":{\"gridcolor\":\"white\",\"linecolor\":\"white\",\"ticks\":\"\"},\"baxis\":{\"gridcolor\":\"white\",\"linecolor\":\"white\",\"ticks\":\"\"},\"caxis\":{\"gridcolor\":\"white\",\"linecolor\":\"white\",\"ticks\":\"\"}},\"coloraxis\":{\"colorbar\":{\"outlinewidth\":0,\"ticks\":\"\"}},\"colorscale\":{\"sequential\":[[0.0,\"#0d0887\"],[0.1111111111111111,\"#46039f\"],[0.2222222222222222,\"#7201a8\"],[0.3333333333333333,\"#9c179e\"],[0.4444444444444444,\"#bd3786\"],[0.5555555555555556,\"#d8576b\"],[0.6666666666666666,\"#ed7953\"],[0.7777777777777778,\"#fb9f3a\"],[0.8888888888888888,\"#fdca26\"],[1.0,\"#f0f921\"]],\"sequentialminus\":[[0.0,\"#0d0887\"],[0.1111111111111111,\"#46039f\"],[0.2222222222222222,\"#7201a8\"],[0.3333333333333333,\"#9c179e\"],[0.4444444444444444,\"#bd3786\"],[0.5555555555555556,\"#d8576b\"],[0.6666666666666666,\"#ed7953\"],[0.7777777777777778,\"#fb9f3a\"],[0.8888888888888888,\"#fdca26\"],[1.0,\"#f0f921\"]],\"diverging\":[[0,\"#8e0152\"],[0.1,\"#c51b7d\"],[0.2,\"#de77ae\"],[0.3,\"#f1b6da\"],[0.4,\"#fde0ef\"],[0.5,\"#f7f7f7\"],[0.6,\"#e6f5d0\"],[0.7,\"#b8e186\"],[0.8,\"#7fbc41\"],[0.9,\"#4d9221\"],[1,\"#276419\"]]},\"xaxis\":{\"gridcolor\":\"white\",\"linecolor\":\"white\",\"ticks\":\"\",\"title\":{\"standoff\":15},\"zerolinecolor\":\"white\",\"automargin\":true,\"zerolinewidth\":2},\"yaxis\":{\"gridcolor\":\"white\",\"linecolor\":\"white\",\"ticks\":\"\",\"title\":{\"standoff\":15},\"zerolinecolor\":\"white\",\"automargin\":true,\"zerolinewidth\":2},\"scene\":{\"xaxis\":{\"backgroundcolor\":\"#E5ECF6\",\"gridcolor\":\"white\",\"linecolor\":\"white\",\"showbackground\":true,\"ticks\":\"\",\"zerolinecolor\":\"white\",\"gridwidth\":2},\"yaxis\":{\"backgroundcolor\":\"#E5ECF6\",\"gridcolor\":\"white\",\"linecolor\":\"white\",\"showbackground\":true,\"ticks\":\"\",\"zerolinecolor\":\"white\",\"gridwidth\":2},\"zaxis\":{\"backgroundcolor\":\"#E5ECF6\",\"gridcolor\":\"white\",\"linecolor\":\"white\",\"showbackground\":true,\"ticks\":\"\",\"zerolinecolor\":\"white\",\"gridwidth\":2}},\"shapedefaults\":{\"line\":{\"color\":\"#2a3f5f\"}},\"annotationdefaults\":{\"arrowcolor\":\"#2a3f5f\",\"arrowhead\":0,\"arrowwidth\":1},\"geo\":{\"bgcolor\":\"white\",\"landcolor\":\"#E5ECF6\",\"subunitcolor\":\"white\",\"showland\":true,\"showlakes\":true,\"lakecolor\":\"white\"},\"title\":{\"x\":0.05},\"mapbox\":{\"style\":\"light\"}}},\"xaxis\":{\"anchor\":\"y\",\"domain\":[0.0,1.0],\"title\":{\"text\":\"unique_individuals\"}},\"yaxis\":{\"anchor\":\"x\",\"domain\":[0.0,1.0],\"title\":{\"text\":\"nll_diff\"}},\"legend\":{\"tracegroupgap\":0},\"margin\":{\"t\":60},\"boxmode\":\"group\"},                        {\"responsive\": true}                    ).then(function(){\n",
       "                            \n",
       "var gd = document.getElementById('90db1b2e-d1e0-455c-836d-e704d025174e');\n",
       "var x = new MutationObserver(function (mutations, observer) {{\n",
       "        var display = window.getComputedStyle(gd).display;\n",
       "        if (!display || display === 'none') {{\n",
       "            console.log([gd, 'removed!']);\n",
       "            Plotly.purge(gd);\n",
       "            observer.disconnect();\n",
       "        }}\n",
       "}});\n",
       "\n",
       "// Listen for the removal of the full notebook cells\n",
       "var notebookContainer = gd.closest('#notebook-container');\n",
       "if (notebookContainer) {{\n",
       "    x.observe(notebookContainer, {childList: true});\n",
       "}}\n",
       "\n",
       "// Listen for the clearing of the current output cell\n",
       "var outputEl = gd.closest('.output');\n",
       "if (outputEl) {{\n",
       "    x.observe(outputEl, {childList: true});\n",
       "}}\n",
       "\n",
       "                        })                };                });            </script>        </div>"
      ]
     },
     "metadata": {},
     "output_type": "display_data"
    }
   ],
   "source": [
    "counts = data.groupby(key_cols)['_individual'].nunique().reset_index().rename(columns={'_individual': 'unique_individuals'})\n",
    "px.box(\n",
    "    df.merge(counts), x='unique_individuals', y='nll_diff'\n",
    ")"
   ]
  },
  {
   "cell_type": "code",
   "execution_count": 11,
   "id": "1c38155f",
   "metadata": {},
   "outputs": [
    {
     "data": {
      "application/vnd.plotly.v1+json": {
       "config": {
        "plotlyServerURL": "https://plot.ly"
       },
       "data": [
        {
         "hovertemplate": "nll_diff=%{x}<br>proportion=%{y}<extra></extra>",
         "legendgroup": "",
         "line": {
          "color": "#636efa",
          "dash": "solid"
         },
         "marker": {
          "symbol": "circle"
         },
         "mode": "lines",
         "name": "",
         "orientation": "v",
         "showlegend": false,
         "type": "scatter",
         "x": [
          0.11332273483276367,
          0.08438563346862793,
          0.06633543968200684,
          0.06221485137939453,
          0.05663299560546875,
          0.05537295341491699,
          0.05484604835510254,
          0.030191898345947266,
          0.03005838394165039,
          0.026519179344177246,
          0.024658799171447754,
          0.024199843406677246,
          0.023887038230895996,
          0.020992279052734375,
          0.020407557487487793,
          0.017357230186462402,
          0.014720797538757324,
          0.0037909746170043945,
          -0.006189823150634766,
          -0.009751200675964355,
          -0.013137221336364746,
          -0.018160581588745117,
          -0.02208852767944336,
          -0.02319478988647461
         ],
         "xaxis": "x",
         "y": [
          0.04817200728809248,
          0.07035812357573334,
          0.10335179580882772,
          0.13414450563996616,
          0.15805920796499223,
          0.16486973313330877,
          0.17378259267141813,
          0.2085930970759384,
          0.2202675415146151,
          0.253920464278484,
          0.27991154622799685,
          0.3194198595329184,
          0.35636903495066,
          0.41037047803449905,
          0.45981426784258966,
          0.4835576688485956,
          0.5155806336072424,
          0.5952046012572478,
          0.7274544104898699,
          0.7616264281598605,
          0.7769137731451441,
          0.8563404847308234,
          0.8825963050824582,
          0.8916752749905266
         ],
         "yaxis": "y"
        }
       ],
       "layout": {
        "legend": {
         "tracegroupgap": 0
        },
        "margin": {
         "t": 60
        },
        "template": {
         "data": {
          "bar": [
           {
            "error_x": {
             "color": "#2a3f5f"
            },
            "error_y": {
             "color": "#2a3f5f"
            },
            "marker": {
             "line": {
              "color": "#E5ECF6",
              "width": 0.5
             },
             "pattern": {
              "fillmode": "overlay",
              "size": 10,
              "solidity": 0.2
             }
            },
            "type": "bar"
           }
          ],
          "barpolar": [
           {
            "marker": {
             "line": {
              "color": "#E5ECF6",
              "width": 0.5
             },
             "pattern": {
              "fillmode": "overlay",
              "size": 10,
              "solidity": 0.2
             }
            },
            "type": "barpolar"
           }
          ],
          "carpet": [
           {
            "aaxis": {
             "endlinecolor": "#2a3f5f",
             "gridcolor": "white",
             "linecolor": "white",
             "minorgridcolor": "white",
             "startlinecolor": "#2a3f5f"
            },
            "baxis": {
             "endlinecolor": "#2a3f5f",
             "gridcolor": "white",
             "linecolor": "white",
             "minorgridcolor": "white",
             "startlinecolor": "#2a3f5f"
            },
            "type": "carpet"
           }
          ],
          "choropleth": [
           {
            "colorbar": {
             "outlinewidth": 0,
             "ticks": ""
            },
            "type": "choropleth"
           }
          ],
          "contour": [
           {
            "colorbar": {
             "outlinewidth": 0,
             "ticks": ""
            },
            "colorscale": [
             [
              0,
              "#0d0887"
             ],
             [
              0.1111111111111111,
              "#46039f"
             ],
             [
              0.2222222222222222,
              "#7201a8"
             ],
             [
              0.3333333333333333,
              "#9c179e"
             ],
             [
              0.4444444444444444,
              "#bd3786"
             ],
             [
              0.5555555555555556,
              "#d8576b"
             ],
             [
              0.6666666666666666,
              "#ed7953"
             ],
             [
              0.7777777777777778,
              "#fb9f3a"
             ],
             [
              0.8888888888888888,
              "#fdca26"
             ],
             [
              1,
              "#f0f921"
             ]
            ],
            "type": "contour"
           }
          ],
          "contourcarpet": [
           {
            "colorbar": {
             "outlinewidth": 0,
             "ticks": ""
            },
            "type": "contourcarpet"
           }
          ],
          "heatmap": [
           {
            "colorbar": {
             "outlinewidth": 0,
             "ticks": ""
            },
            "colorscale": [
             [
              0,
              "#0d0887"
             ],
             [
              0.1111111111111111,
              "#46039f"
             ],
             [
              0.2222222222222222,
              "#7201a8"
             ],
             [
              0.3333333333333333,
              "#9c179e"
             ],
             [
              0.4444444444444444,
              "#bd3786"
             ],
             [
              0.5555555555555556,
              "#d8576b"
             ],
             [
              0.6666666666666666,
              "#ed7953"
             ],
             [
              0.7777777777777778,
              "#fb9f3a"
             ],
             [
              0.8888888888888888,
              "#fdca26"
             ],
             [
              1,
              "#f0f921"
             ]
            ],
            "type": "heatmap"
           }
          ],
          "heatmapgl": [
           {
            "colorbar": {
             "outlinewidth": 0,
             "ticks": ""
            },
            "colorscale": [
             [
              0,
              "#0d0887"
             ],
             [
              0.1111111111111111,
              "#46039f"
             ],
             [
              0.2222222222222222,
              "#7201a8"
             ],
             [
              0.3333333333333333,
              "#9c179e"
             ],
             [
              0.4444444444444444,
              "#bd3786"
             ],
             [
              0.5555555555555556,
              "#d8576b"
             ],
             [
              0.6666666666666666,
              "#ed7953"
             ],
             [
              0.7777777777777778,
              "#fb9f3a"
             ],
             [
              0.8888888888888888,
              "#fdca26"
             ],
             [
              1,
              "#f0f921"
             ]
            ],
            "type": "heatmapgl"
           }
          ],
          "histogram": [
           {
            "marker": {
             "pattern": {
              "fillmode": "overlay",
              "size": 10,
              "solidity": 0.2
             }
            },
            "type": "histogram"
           }
          ],
          "histogram2d": [
           {
            "colorbar": {
             "outlinewidth": 0,
             "ticks": ""
            },
            "colorscale": [
             [
              0,
              "#0d0887"
             ],
             [
              0.1111111111111111,
              "#46039f"
             ],
             [
              0.2222222222222222,
              "#7201a8"
             ],
             [
              0.3333333333333333,
              "#9c179e"
             ],
             [
              0.4444444444444444,
              "#bd3786"
             ],
             [
              0.5555555555555556,
              "#d8576b"
             ],
             [
              0.6666666666666666,
              "#ed7953"
             ],
             [
              0.7777777777777778,
              "#fb9f3a"
             ],
             [
              0.8888888888888888,
              "#fdca26"
             ],
             [
              1,
              "#f0f921"
             ]
            ],
            "type": "histogram2d"
           }
          ],
          "histogram2dcontour": [
           {
            "colorbar": {
             "outlinewidth": 0,
             "ticks": ""
            },
            "colorscale": [
             [
              0,
              "#0d0887"
             ],
             [
              0.1111111111111111,
              "#46039f"
             ],
             [
              0.2222222222222222,
              "#7201a8"
             ],
             [
              0.3333333333333333,
              "#9c179e"
             ],
             [
              0.4444444444444444,
              "#bd3786"
             ],
             [
              0.5555555555555556,
              "#d8576b"
             ],
             [
              0.6666666666666666,
              "#ed7953"
             ],
             [
              0.7777777777777778,
              "#fb9f3a"
             ],
             [
              0.8888888888888888,
              "#fdca26"
             ],
             [
              1,
              "#f0f921"
             ]
            ],
            "type": "histogram2dcontour"
           }
          ],
          "mesh3d": [
           {
            "colorbar": {
             "outlinewidth": 0,
             "ticks": ""
            },
            "type": "mesh3d"
           }
          ],
          "parcoords": [
           {
            "line": {
             "colorbar": {
              "outlinewidth": 0,
              "ticks": ""
             }
            },
            "type": "parcoords"
           }
          ],
          "pie": [
           {
            "automargin": true,
            "type": "pie"
           }
          ],
          "scatter": [
           {
            "fillpattern": {
             "fillmode": "overlay",
             "size": 10,
             "solidity": 0.2
            },
            "type": "scatter"
           }
          ],
          "scatter3d": [
           {
            "line": {
             "colorbar": {
              "outlinewidth": 0,
              "ticks": ""
             }
            },
            "marker": {
             "colorbar": {
              "outlinewidth": 0,
              "ticks": ""
             }
            },
            "type": "scatter3d"
           }
          ],
          "scattercarpet": [
           {
            "marker": {
             "colorbar": {
              "outlinewidth": 0,
              "ticks": ""
             }
            },
            "type": "scattercarpet"
           }
          ],
          "scattergeo": [
           {
            "marker": {
             "colorbar": {
              "outlinewidth": 0,
              "ticks": ""
             }
            },
            "type": "scattergeo"
           }
          ],
          "scattergl": [
           {
            "marker": {
             "colorbar": {
              "outlinewidth": 0,
              "ticks": ""
             }
            },
            "type": "scattergl"
           }
          ],
          "scattermapbox": [
           {
            "marker": {
             "colorbar": {
              "outlinewidth": 0,
              "ticks": ""
             }
            },
            "type": "scattermapbox"
           }
          ],
          "scatterpolar": [
           {
            "marker": {
             "colorbar": {
              "outlinewidth": 0,
              "ticks": ""
             }
            },
            "type": "scatterpolar"
           }
          ],
          "scatterpolargl": [
           {
            "marker": {
             "colorbar": {
              "outlinewidth": 0,
              "ticks": ""
             }
            },
            "type": "scatterpolargl"
           }
          ],
          "scatterternary": [
           {
            "marker": {
             "colorbar": {
              "outlinewidth": 0,
              "ticks": ""
             }
            },
            "type": "scatterternary"
           }
          ],
          "surface": [
           {
            "colorbar": {
             "outlinewidth": 0,
             "ticks": ""
            },
            "colorscale": [
             [
              0,
              "#0d0887"
             ],
             [
              0.1111111111111111,
              "#46039f"
             ],
             [
              0.2222222222222222,
              "#7201a8"
             ],
             [
              0.3333333333333333,
              "#9c179e"
             ],
             [
              0.4444444444444444,
              "#bd3786"
             ],
             [
              0.5555555555555556,
              "#d8576b"
             ],
             [
              0.6666666666666666,
              "#ed7953"
             ],
             [
              0.7777777777777778,
              "#fb9f3a"
             ],
             [
              0.8888888888888888,
              "#fdca26"
             ],
             [
              1,
              "#f0f921"
             ]
            ],
            "type": "surface"
           }
          ],
          "table": [
           {
            "cells": {
             "fill": {
              "color": "#EBF0F8"
             },
             "line": {
              "color": "white"
             }
            },
            "header": {
             "fill": {
              "color": "#C8D4E3"
             },
             "line": {
              "color": "white"
             }
            },
            "type": "table"
           }
          ]
         },
         "layout": {
          "annotationdefaults": {
           "arrowcolor": "#2a3f5f",
           "arrowhead": 0,
           "arrowwidth": 1
          },
          "autotypenumbers": "strict",
          "coloraxis": {
           "colorbar": {
            "outlinewidth": 0,
            "ticks": ""
           }
          },
          "colorscale": {
           "diverging": [
            [
             0,
             "#8e0152"
            ],
            [
             0.1,
             "#c51b7d"
            ],
            [
             0.2,
             "#de77ae"
            ],
            [
             0.3,
             "#f1b6da"
            ],
            [
             0.4,
             "#fde0ef"
            ],
            [
             0.5,
             "#f7f7f7"
            ],
            [
             0.6,
             "#e6f5d0"
            ],
            [
             0.7,
             "#b8e186"
            ],
            [
             0.8,
             "#7fbc41"
            ],
            [
             0.9,
             "#4d9221"
            ],
            [
             1,
             "#276419"
            ]
           ],
           "sequential": [
            [
             0,
             "#0d0887"
            ],
            [
             0.1111111111111111,
             "#46039f"
            ],
            [
             0.2222222222222222,
             "#7201a8"
            ],
            [
             0.3333333333333333,
             "#9c179e"
            ],
            [
             0.4444444444444444,
             "#bd3786"
            ],
            [
             0.5555555555555556,
             "#d8576b"
            ],
            [
             0.6666666666666666,
             "#ed7953"
            ],
            [
             0.7777777777777778,
             "#fb9f3a"
            ],
            [
             0.8888888888888888,
             "#fdca26"
            ],
            [
             1,
             "#f0f921"
            ]
           ],
           "sequentialminus": [
            [
             0,
             "#0d0887"
            ],
            [
             0.1111111111111111,
             "#46039f"
            ],
            [
             0.2222222222222222,
             "#7201a8"
            ],
            [
             0.3333333333333333,
             "#9c179e"
            ],
            [
             0.4444444444444444,
             "#bd3786"
            ],
            [
             0.5555555555555556,
             "#d8576b"
            ],
            [
             0.6666666666666666,
             "#ed7953"
            ],
            [
             0.7777777777777778,
             "#fb9f3a"
            ],
            [
             0.8888888888888888,
             "#fdca26"
            ],
            [
             1,
             "#f0f921"
            ]
           ]
          },
          "colorway": [
           "#636efa",
           "#EF553B",
           "#00cc96",
           "#ab63fa",
           "#FFA15A",
           "#19d3f3",
           "#FF6692",
           "#B6E880",
           "#FF97FF",
           "#FECB52"
          ],
          "font": {
           "color": "#2a3f5f"
          },
          "geo": {
           "bgcolor": "white",
           "lakecolor": "white",
           "landcolor": "#E5ECF6",
           "showlakes": true,
           "showland": true,
           "subunitcolor": "white"
          },
          "hoverlabel": {
           "align": "left"
          },
          "hovermode": "closest",
          "mapbox": {
           "style": "light"
          },
          "paper_bgcolor": "white",
          "plot_bgcolor": "#E5ECF6",
          "polar": {
           "angularaxis": {
            "gridcolor": "white",
            "linecolor": "white",
            "ticks": ""
           },
           "bgcolor": "#E5ECF6",
           "radialaxis": {
            "gridcolor": "white",
            "linecolor": "white",
            "ticks": ""
           }
          },
          "scene": {
           "xaxis": {
            "backgroundcolor": "#E5ECF6",
            "gridcolor": "white",
            "gridwidth": 2,
            "linecolor": "white",
            "showbackground": true,
            "ticks": "",
            "zerolinecolor": "white"
           },
           "yaxis": {
            "backgroundcolor": "#E5ECF6",
            "gridcolor": "white",
            "gridwidth": 2,
            "linecolor": "white",
            "showbackground": true,
            "ticks": "",
            "zerolinecolor": "white"
           },
           "zaxis": {
            "backgroundcolor": "#E5ECF6",
            "gridcolor": "white",
            "gridwidth": 2,
            "linecolor": "white",
            "showbackground": true,
            "ticks": "",
            "zerolinecolor": "white"
           }
          },
          "shapedefaults": {
           "line": {
            "color": "#2a3f5f"
           }
          },
          "ternary": {
           "aaxis": {
            "gridcolor": "white",
            "linecolor": "white",
            "ticks": ""
           },
           "baxis": {
            "gridcolor": "white",
            "linecolor": "white",
            "ticks": ""
           },
           "bgcolor": "#E5ECF6",
           "caxis": {
            "gridcolor": "white",
            "linecolor": "white",
            "ticks": ""
           }
          },
          "title": {
           "x": 0.05
          },
          "xaxis": {
           "automargin": true,
           "gridcolor": "white",
           "linecolor": "white",
           "ticks": "",
           "title": {
            "standoff": 15
           },
           "zerolinecolor": "white",
           "zerolinewidth": 2
          },
          "yaxis": {
           "automargin": true,
           "gridcolor": "white",
           "linecolor": "white",
           "ticks": "",
           "title": {
            "standoff": 15
           },
           "zerolinecolor": "white",
           "zerolinewidth": 2
          }
         }
        },
        "xaxis": {
         "anchor": "y",
         "domain": [
          0,
          1
         ],
         "title": {
          "text": "nll_diff"
         }
        },
        "yaxis": {
         "anchor": "x",
         "domain": [
          0,
          1
         ],
         "title": {
          "text": "proportion"
         }
        }
       }
      },
      "text/html": [
       "<div>                            <div id=\"6b6eb9be-0914-4a9f-94a9-9d3ef11c9789\" class=\"plotly-graph-div\" style=\"height:525px; width:100%;\"></div>            <script type=\"text/javascript\">                require([\"plotly\"], function(Plotly) {                    window.PLOTLYENV=window.PLOTLYENV || {};                                    if (document.getElementById(\"6b6eb9be-0914-4a9f-94a9-9d3ef11c9789\")) {                    Plotly.newPlot(                        \"6b6eb9be-0914-4a9f-94a9-9d3ef11c9789\",                        [{\"hovertemplate\":\"nll_diff=%{x}\\u003cbr\\u003eproportion=%{y}\\u003cextra\\u003e\\u003c\\u002fextra\\u003e\",\"legendgroup\":\"\",\"line\":{\"color\":\"#636efa\",\"dash\":\"solid\"},\"marker\":{\"symbol\":\"circle\"},\"mode\":\"lines\",\"name\":\"\",\"orientation\":\"v\",\"showlegend\":false,\"x\":[0.11332273483276367,0.08438563346862793,0.06633543968200684,0.06221485137939453,0.05663299560546875,0.05537295341491699,0.05484604835510254,0.030191898345947266,0.03005838394165039,0.026519179344177246,0.024658799171447754,0.024199843406677246,0.023887038230895996,0.020992279052734375,0.020407557487487793,0.017357230186462402,0.014720797538757324,0.0037909746170043945,-0.006189823150634766,-0.009751200675964355,-0.013137221336364746,-0.018160581588745117,-0.02208852767944336,-0.02319478988647461],\"xaxis\":\"x\",\"y\":[0.04817200728809248,0.07035812357573334,0.10335179580882772,0.13414450563996616,0.15805920796499223,0.16486973313330877,0.17378259267141813,0.2085930970759384,0.2202675415146151,0.253920464278484,0.27991154622799685,0.3194198595329184,0.35636903495066,0.41037047803449905,0.45981426784258966,0.4835576688485956,0.5155806336072424,0.5952046012572478,0.7274544104898699,0.7616264281598605,0.7769137731451441,0.8563404847308234,0.8825963050824582,0.8916752749905266],\"yaxis\":\"y\",\"type\":\"scatter\"}],                        {\"template\":{\"data\":{\"histogram2dcontour\":[{\"type\":\"histogram2dcontour\",\"colorbar\":{\"outlinewidth\":0,\"ticks\":\"\"},\"colorscale\":[[0.0,\"#0d0887\"],[0.1111111111111111,\"#46039f\"],[0.2222222222222222,\"#7201a8\"],[0.3333333333333333,\"#9c179e\"],[0.4444444444444444,\"#bd3786\"],[0.5555555555555556,\"#d8576b\"],[0.6666666666666666,\"#ed7953\"],[0.7777777777777778,\"#fb9f3a\"],[0.8888888888888888,\"#fdca26\"],[1.0,\"#f0f921\"]]}],\"choropleth\":[{\"type\":\"choropleth\",\"colorbar\":{\"outlinewidth\":0,\"ticks\":\"\"}}],\"histogram2d\":[{\"type\":\"histogram2d\",\"colorbar\":{\"outlinewidth\":0,\"ticks\":\"\"},\"colorscale\":[[0.0,\"#0d0887\"],[0.1111111111111111,\"#46039f\"],[0.2222222222222222,\"#7201a8\"],[0.3333333333333333,\"#9c179e\"],[0.4444444444444444,\"#bd3786\"],[0.5555555555555556,\"#d8576b\"],[0.6666666666666666,\"#ed7953\"],[0.7777777777777778,\"#fb9f3a\"],[0.8888888888888888,\"#fdca26\"],[1.0,\"#f0f921\"]]}],\"heatmap\":[{\"type\":\"heatmap\",\"colorbar\":{\"outlinewidth\":0,\"ticks\":\"\"},\"colorscale\":[[0.0,\"#0d0887\"],[0.1111111111111111,\"#46039f\"],[0.2222222222222222,\"#7201a8\"],[0.3333333333333333,\"#9c179e\"],[0.4444444444444444,\"#bd3786\"],[0.5555555555555556,\"#d8576b\"],[0.6666666666666666,\"#ed7953\"],[0.7777777777777778,\"#fb9f3a\"],[0.8888888888888888,\"#fdca26\"],[1.0,\"#f0f921\"]]}],\"heatmapgl\":[{\"type\":\"heatmapgl\",\"colorbar\":{\"outlinewidth\":0,\"ticks\":\"\"},\"colorscale\":[[0.0,\"#0d0887\"],[0.1111111111111111,\"#46039f\"],[0.2222222222222222,\"#7201a8\"],[0.3333333333333333,\"#9c179e\"],[0.4444444444444444,\"#bd3786\"],[0.5555555555555556,\"#d8576b\"],[0.6666666666666666,\"#ed7953\"],[0.7777777777777778,\"#fb9f3a\"],[0.8888888888888888,\"#fdca26\"],[1.0,\"#f0f921\"]]}],\"contourcarpet\":[{\"type\":\"contourcarpet\",\"colorbar\":{\"outlinewidth\":0,\"ticks\":\"\"}}],\"contour\":[{\"type\":\"contour\",\"colorbar\":{\"outlinewidth\":0,\"ticks\":\"\"},\"colorscale\":[[0.0,\"#0d0887\"],[0.1111111111111111,\"#46039f\"],[0.2222222222222222,\"#7201a8\"],[0.3333333333333333,\"#9c179e\"],[0.4444444444444444,\"#bd3786\"],[0.5555555555555556,\"#d8576b\"],[0.6666666666666666,\"#ed7953\"],[0.7777777777777778,\"#fb9f3a\"],[0.8888888888888888,\"#fdca26\"],[1.0,\"#f0f921\"]]}],\"surface\":[{\"type\":\"surface\",\"colorbar\":{\"outlinewidth\":0,\"ticks\":\"\"},\"colorscale\":[[0.0,\"#0d0887\"],[0.1111111111111111,\"#46039f\"],[0.2222222222222222,\"#7201a8\"],[0.3333333333333333,\"#9c179e\"],[0.4444444444444444,\"#bd3786\"],[0.5555555555555556,\"#d8576b\"],[0.6666666666666666,\"#ed7953\"],[0.7777777777777778,\"#fb9f3a\"],[0.8888888888888888,\"#fdca26\"],[1.0,\"#f0f921\"]]}],\"mesh3d\":[{\"type\":\"mesh3d\",\"colorbar\":{\"outlinewidth\":0,\"ticks\":\"\"}}],\"scatter\":[{\"fillpattern\":{\"fillmode\":\"overlay\",\"size\":10,\"solidity\":0.2},\"type\":\"scatter\"}],\"parcoords\":[{\"type\":\"parcoords\",\"line\":{\"colorbar\":{\"outlinewidth\":0,\"ticks\":\"\"}}}],\"scatterpolargl\":[{\"type\":\"scatterpolargl\",\"marker\":{\"colorbar\":{\"outlinewidth\":0,\"ticks\":\"\"}}}],\"bar\":[{\"error_x\":{\"color\":\"#2a3f5f\"},\"error_y\":{\"color\":\"#2a3f5f\"},\"marker\":{\"line\":{\"color\":\"#E5ECF6\",\"width\":0.5},\"pattern\":{\"fillmode\":\"overlay\",\"size\":10,\"solidity\":0.2}},\"type\":\"bar\"}],\"scattergeo\":[{\"type\":\"scattergeo\",\"marker\":{\"colorbar\":{\"outlinewidth\":0,\"ticks\":\"\"}}}],\"scatterpolar\":[{\"type\":\"scatterpolar\",\"marker\":{\"colorbar\":{\"outlinewidth\":0,\"ticks\":\"\"}}}],\"histogram\":[{\"marker\":{\"pattern\":{\"fillmode\":\"overlay\",\"size\":10,\"solidity\":0.2}},\"type\":\"histogram\"}],\"scattergl\":[{\"type\":\"scattergl\",\"marker\":{\"colorbar\":{\"outlinewidth\":0,\"ticks\":\"\"}}}],\"scatter3d\":[{\"type\":\"scatter3d\",\"line\":{\"colorbar\":{\"outlinewidth\":0,\"ticks\":\"\"}},\"marker\":{\"colorbar\":{\"outlinewidth\":0,\"ticks\":\"\"}}}],\"scattermapbox\":[{\"type\":\"scattermapbox\",\"marker\":{\"colorbar\":{\"outlinewidth\":0,\"ticks\":\"\"}}}],\"scatterternary\":[{\"type\":\"scatterternary\",\"marker\":{\"colorbar\":{\"outlinewidth\":0,\"ticks\":\"\"}}}],\"scattercarpet\":[{\"type\":\"scattercarpet\",\"marker\":{\"colorbar\":{\"outlinewidth\":0,\"ticks\":\"\"}}}],\"carpet\":[{\"aaxis\":{\"endlinecolor\":\"#2a3f5f\",\"gridcolor\":\"white\",\"linecolor\":\"white\",\"minorgridcolor\":\"white\",\"startlinecolor\":\"#2a3f5f\"},\"baxis\":{\"endlinecolor\":\"#2a3f5f\",\"gridcolor\":\"white\",\"linecolor\":\"white\",\"minorgridcolor\":\"white\",\"startlinecolor\":\"#2a3f5f\"},\"type\":\"carpet\"}],\"table\":[{\"cells\":{\"fill\":{\"color\":\"#EBF0F8\"},\"line\":{\"color\":\"white\"}},\"header\":{\"fill\":{\"color\":\"#C8D4E3\"},\"line\":{\"color\":\"white\"}},\"type\":\"table\"}],\"barpolar\":[{\"marker\":{\"line\":{\"color\":\"#E5ECF6\",\"width\":0.5},\"pattern\":{\"fillmode\":\"overlay\",\"size\":10,\"solidity\":0.2}},\"type\":\"barpolar\"}],\"pie\":[{\"automargin\":true,\"type\":\"pie\"}]},\"layout\":{\"autotypenumbers\":\"strict\",\"colorway\":[\"#636efa\",\"#EF553B\",\"#00cc96\",\"#ab63fa\",\"#FFA15A\",\"#19d3f3\",\"#FF6692\",\"#B6E880\",\"#FF97FF\",\"#FECB52\"],\"font\":{\"color\":\"#2a3f5f\"},\"hovermode\":\"closest\",\"hoverlabel\":{\"align\":\"left\"},\"paper_bgcolor\":\"white\",\"plot_bgcolor\":\"#E5ECF6\",\"polar\":{\"bgcolor\":\"#E5ECF6\",\"angularaxis\":{\"gridcolor\":\"white\",\"linecolor\":\"white\",\"ticks\":\"\"},\"radialaxis\":{\"gridcolor\":\"white\",\"linecolor\":\"white\",\"ticks\":\"\"}},\"ternary\":{\"bgcolor\":\"#E5ECF6\",\"aaxis\":{\"gridcolor\":\"white\",\"linecolor\":\"white\",\"ticks\":\"\"},\"baxis\":{\"gridcolor\":\"white\",\"linecolor\":\"white\",\"ticks\":\"\"},\"caxis\":{\"gridcolor\":\"white\",\"linecolor\":\"white\",\"ticks\":\"\"}},\"coloraxis\":{\"colorbar\":{\"outlinewidth\":0,\"ticks\":\"\"}},\"colorscale\":{\"sequential\":[[0.0,\"#0d0887\"],[0.1111111111111111,\"#46039f\"],[0.2222222222222222,\"#7201a8\"],[0.3333333333333333,\"#9c179e\"],[0.4444444444444444,\"#bd3786\"],[0.5555555555555556,\"#d8576b\"],[0.6666666666666666,\"#ed7953\"],[0.7777777777777778,\"#fb9f3a\"],[0.8888888888888888,\"#fdca26\"],[1.0,\"#f0f921\"]],\"sequentialminus\":[[0.0,\"#0d0887\"],[0.1111111111111111,\"#46039f\"],[0.2222222222222222,\"#7201a8\"],[0.3333333333333333,\"#9c179e\"],[0.4444444444444444,\"#bd3786\"],[0.5555555555555556,\"#d8576b\"],[0.6666666666666666,\"#ed7953\"],[0.7777777777777778,\"#fb9f3a\"],[0.8888888888888888,\"#fdca26\"],[1.0,\"#f0f921\"]],\"diverging\":[[0,\"#8e0152\"],[0.1,\"#c51b7d\"],[0.2,\"#de77ae\"],[0.3,\"#f1b6da\"],[0.4,\"#fde0ef\"],[0.5,\"#f7f7f7\"],[0.6,\"#e6f5d0\"],[0.7,\"#b8e186\"],[0.8,\"#7fbc41\"],[0.9,\"#4d9221\"],[1,\"#276419\"]]},\"xaxis\":{\"gridcolor\":\"white\",\"linecolor\":\"white\",\"ticks\":\"\",\"title\":{\"standoff\":15},\"zerolinecolor\":\"white\",\"automargin\":true,\"zerolinewidth\":2},\"yaxis\":{\"gridcolor\":\"white\",\"linecolor\":\"white\",\"ticks\":\"\",\"title\":{\"standoff\":15},\"zerolinecolor\":\"white\",\"automargin\":true,\"zerolinewidth\":2},\"scene\":{\"xaxis\":{\"backgroundcolor\":\"#E5ECF6\",\"gridcolor\":\"white\",\"linecolor\":\"white\",\"showbackground\":true,\"ticks\":\"\",\"zerolinecolor\":\"white\",\"gridwidth\":2},\"yaxis\":{\"backgroundcolor\":\"#E5ECF6\",\"gridcolor\":\"white\",\"linecolor\":\"white\",\"showbackground\":true,\"ticks\":\"\",\"zerolinecolor\":\"white\",\"gridwidth\":2},\"zaxis\":{\"backgroundcolor\":\"#E5ECF6\",\"gridcolor\":\"white\",\"linecolor\":\"white\",\"showbackground\":true,\"ticks\":\"\",\"zerolinecolor\":\"white\",\"gridwidth\":2}},\"shapedefaults\":{\"line\":{\"color\":\"#2a3f5f\"}},\"annotationdefaults\":{\"arrowcolor\":\"#2a3f5f\",\"arrowhead\":0,\"arrowwidth\":1},\"geo\":{\"bgcolor\":\"white\",\"landcolor\":\"#E5ECF6\",\"subunitcolor\":\"white\",\"showland\":true,\"showlakes\":true,\"lakecolor\":\"white\"},\"title\":{\"x\":0.05},\"mapbox\":{\"style\":\"light\"}}},\"xaxis\":{\"anchor\":\"y\",\"domain\":[0.0,1.0],\"title\":{\"text\":\"nll_diff\"}},\"yaxis\":{\"anchor\":\"x\",\"domain\":[0.0,1.0],\"title\":{\"text\":\"proportion\"}},\"legend\":{\"tracegroupgap\":0},\"margin\":{\"t\":60}},                        {\"responsive\": true}                    ).then(function(){\n",
       "                            \n",
       "var gd = document.getElementById('6b6eb9be-0914-4a9f-94a9-9d3ef11c9789');\n",
       "var x = new MutationObserver(function (mutations, observer) {{\n",
       "        var display = window.getComputedStyle(gd).display;\n",
       "        if (!display || display === 'none') {{\n",
       "            console.log([gd, 'removed!']);\n",
       "            Plotly.purge(gd);\n",
       "            observer.disconnect();\n",
       "        }}\n",
       "}});\n",
       "\n",
       "// Listen for the removal of the full notebook cells\n",
       "var notebookContainer = gd.closest('#notebook-container');\n",
       "if (notebookContainer) {{\n",
       "    x.observe(notebookContainer, {childList: true});\n",
       "}}\n",
       "\n",
       "// Listen for the clearing of the current output cell\n",
       "var outputEl = gd.closest('.output');\n",
       "if (outputEl) {{\n",
       "    x.observe(outputEl, {childList: true});\n",
       "}}\n",
       "\n",
       "                        })                };                });            </script>        </div>"
      ]
     },
     "metadata": {},
     "output_type": "display_data"
    }
   ],
   "source": [
    "counts = data.groupby(key_cols)['_individual'].nunique().reset_index().rename(columns={'_individual': 'unique_individuals'})\n",
    "px.line(\n",
    "    df.merge(counts[counts['unique_individuals'] >= 5][key_cols]), x='nll_diff', y='proportion'\n",
    ")"
   ]
  },
  {
   "cell_type": "code",
   "execution_count": 8,
   "id": "988f8cf8",
   "metadata": {},
   "outputs": [
    {
     "data": {
      "application/vnd.plotly.v1+json": {
       "config": {
        "plotlyServerURL": "https://plot.ly"
       },
       "data": [
        {
         "hovertemplate": "nll_diff=%{x}<br>bin_proportion=%{y}<extra></extra>",
         "legendgroup": "",
         "line": {
          "color": "#636efa",
          "dash": "solid"
         },
         "marker": {
          "symbol": "circle"
         },
         "mode": "lines",
         "name": "",
         "orientation": "v",
         "showlegend": false,
         "type": "scatter",
         "x": [
          0.3700528144836426,
          0.2522430419921875,
          0.2360086441040039,
          0.1657719612121582,
          0.14300179481506348,
          0.1280515193939209,
          0.11965310573577881,
          0.11332273483276367,
          0.09163033962249756,
          0.0844426155090332,
          0.08438563346862793,
          0.06834125518798828,
          0.06650710105895996,
          0.06633543968200684,
          0.0662696361541748,
          0.06221485137939453,
          0.05663299560546875,
          0.05537295341491699,
          0.05484604835510254,
          0.05107271671295166,
          0.04613924026489258,
          0.04473978281021118,
          0.04420197010040283,
          0.038435280323028564,
          0.03752315044403076,
          0.030191898345947266,
          0.03005838394165039,
          0.028797805309295654,
          0.026519179344177246,
          0.025541245937347412,
          0.024658799171447754,
          0.024199843406677246,
          0.023887038230895996,
          0.022746682167053223,
          0.020992279052734375,
          0.020407557487487793,
          0.017357230186462402,
          0.01713019609451294,
          0.014720797538757324,
          0.013582468032836914,
          0.0134660005569458,
          0.012752830982208252,
          0.010593891143798828,
          0.009775519371032715,
          0.009032517671585083,
          0.009026587009429932,
          0.008511722087860107,
          0.006612539291381836,
          0.0046508461236953735,
          0.004184246063232422,
          0.0037909746170043945,
          0.003469228744506836,
          0.002020120620727539,
          0.0016118288040161133,
          0.0013300180435180664,
          0.00011971592903137207,
          -0.0009391903877258301,
          -0.002695918083190918,
          -0.002911210060119629,
          -0.003991067409515381,
          -0.004974722862243652,
          -0.006189823150634766,
          -0.008034348487854004,
          -0.008236050605773926,
          -0.008898019790649414,
          -0.009089946746826172,
          -0.009751200675964355,
          -0.009850084781646729,
          -0.012279152870178223,
          -0.012932300567626953,
          -0.013137221336364746,
          -0.014452457427978516,
          -0.015228033065795898,
          -0.016842365264892578,
          -0.016958236694335938,
          -0.018160581588745117,
          -0.021405458450317383,
          -0.02208852767944336,
          -0.02319478988647461,
          -0.0246121883392334,
          -0.027180790901184082,
          -0.027381420135498047,
          -0.030952930450439453,
          -0.031496405601501465,
          -0.035918474197387695,
          -0.03798842430114746,
          -0.039462924003601074,
          -0.045440733432769775,
          -0.04649972915649414,
          -0.06576013565063477,
          -0.07374143600463867,
          -0.1275724172592163,
          -0.19976437091827393,
          -0.23769640922546387
         ],
         "xaxis": "x",
         "y": [
          0.010638297872340425,
          0.02127659574468085,
          0.031914893617021274,
          0.0425531914893617,
          0.05319148936170213,
          0.06382978723404255,
          0.07446808510638298,
          0.0851063829787234,
          0.09574468085106383,
          0.10638297872340426,
          0.11702127659574468,
          0.1276595744680851,
          0.13829787234042554,
          0.14893617021276595,
          0.1595744680851064,
          0.1702127659574468,
          0.18085106382978725,
          0.19148936170212766,
          0.20212765957446807,
          0.2127659574468085,
          0.22340425531914893,
          0.23404255319148937,
          0.24468085106382978,
          0.2553191489361702,
          0.26595744680851063,
          0.2765957446808511,
          0.2872340425531915,
          0.2978723404255319,
          0.30851063829787234,
          0.3191489361702128,
          0.32978723404255317,
          0.3404255319148936,
          0.35106382978723405,
          0.3617021276595745,
          0.3723404255319149,
          0.3829787234042553,
          0.39361702127659576,
          0.40425531914893614,
          0.4148936170212766,
          0.425531914893617,
          0.43617021276595747,
          0.44680851063829785,
          0.4574468085106383,
          0.46808510638297873,
          0.4787234042553192,
          0.48936170212765956,
          0.5,
          0.5106382978723404,
          0.5212765957446809,
          0.5319148936170213,
          0.5425531914893617,
          0.5531914893617021,
          0.5638297872340425,
          0.574468085106383,
          0.5851063829787234,
          0.5957446808510638,
          0.6063829787234043,
          0.6170212765957447,
          0.6276595744680851,
          0.6382978723404256,
          0.648936170212766,
          0.6595744680851063,
          0.6702127659574468,
          0.6808510638297872,
          0.6914893617021277,
          0.7021276595744681,
          0.7127659574468085,
          0.723404255319149,
          0.7340425531914894,
          0.7446808510638298,
          0.7553191489361702,
          0.7659574468085106,
          0.776595744680851,
          0.7872340425531915,
          0.7978723404255319,
          0.8085106382978723,
          0.8191489361702128,
          0.8297872340425532,
          0.8404255319148937,
          0.851063829787234,
          0.8617021276595744,
          0.8723404255319149,
          0.8829787234042553,
          0.8936170212765957,
          0.9042553191489362,
          0.9148936170212766,
          0.925531914893617,
          0.9361702127659575,
          0.9468085106382979,
          0.9574468085106383,
          0.9680851063829787,
          0.9787234042553191,
          0.9893617021276596,
          1
         ],
         "yaxis": "y"
        }
       ],
       "layout": {
        "legend": {
         "tracegroupgap": 0
        },
        "margin": {
         "t": 60
        },
        "template": {
         "data": {
          "bar": [
           {
            "error_x": {
             "color": "#2a3f5f"
            },
            "error_y": {
             "color": "#2a3f5f"
            },
            "marker": {
             "line": {
              "color": "#E5ECF6",
              "width": 0.5
             },
             "pattern": {
              "fillmode": "overlay",
              "size": 10,
              "solidity": 0.2
             }
            },
            "type": "bar"
           }
          ],
          "barpolar": [
           {
            "marker": {
             "line": {
              "color": "#E5ECF6",
              "width": 0.5
             },
             "pattern": {
              "fillmode": "overlay",
              "size": 10,
              "solidity": 0.2
             }
            },
            "type": "barpolar"
           }
          ],
          "carpet": [
           {
            "aaxis": {
             "endlinecolor": "#2a3f5f",
             "gridcolor": "white",
             "linecolor": "white",
             "minorgridcolor": "white",
             "startlinecolor": "#2a3f5f"
            },
            "baxis": {
             "endlinecolor": "#2a3f5f",
             "gridcolor": "white",
             "linecolor": "white",
             "minorgridcolor": "white",
             "startlinecolor": "#2a3f5f"
            },
            "type": "carpet"
           }
          ],
          "choropleth": [
           {
            "colorbar": {
             "outlinewidth": 0,
             "ticks": ""
            },
            "type": "choropleth"
           }
          ],
          "contour": [
           {
            "colorbar": {
             "outlinewidth": 0,
             "ticks": ""
            },
            "colorscale": [
             [
              0,
              "#0d0887"
             ],
             [
              0.1111111111111111,
              "#46039f"
             ],
             [
              0.2222222222222222,
              "#7201a8"
             ],
             [
              0.3333333333333333,
              "#9c179e"
             ],
             [
              0.4444444444444444,
              "#bd3786"
             ],
             [
              0.5555555555555556,
              "#d8576b"
             ],
             [
              0.6666666666666666,
              "#ed7953"
             ],
             [
              0.7777777777777778,
              "#fb9f3a"
             ],
             [
              0.8888888888888888,
              "#fdca26"
             ],
             [
              1,
              "#f0f921"
             ]
            ],
            "type": "contour"
           }
          ],
          "contourcarpet": [
           {
            "colorbar": {
             "outlinewidth": 0,
             "ticks": ""
            },
            "type": "contourcarpet"
           }
          ],
          "heatmap": [
           {
            "colorbar": {
             "outlinewidth": 0,
             "ticks": ""
            },
            "colorscale": [
             [
              0,
              "#0d0887"
             ],
             [
              0.1111111111111111,
              "#46039f"
             ],
             [
              0.2222222222222222,
              "#7201a8"
             ],
             [
              0.3333333333333333,
              "#9c179e"
             ],
             [
              0.4444444444444444,
              "#bd3786"
             ],
             [
              0.5555555555555556,
              "#d8576b"
             ],
             [
              0.6666666666666666,
              "#ed7953"
             ],
             [
              0.7777777777777778,
              "#fb9f3a"
             ],
             [
              0.8888888888888888,
              "#fdca26"
             ],
             [
              1,
              "#f0f921"
             ]
            ],
            "type": "heatmap"
           }
          ],
          "heatmapgl": [
           {
            "colorbar": {
             "outlinewidth": 0,
             "ticks": ""
            },
            "colorscale": [
             [
              0,
              "#0d0887"
             ],
             [
              0.1111111111111111,
              "#46039f"
             ],
             [
              0.2222222222222222,
              "#7201a8"
             ],
             [
              0.3333333333333333,
              "#9c179e"
             ],
             [
              0.4444444444444444,
              "#bd3786"
             ],
             [
              0.5555555555555556,
              "#d8576b"
             ],
             [
              0.6666666666666666,
              "#ed7953"
             ],
             [
              0.7777777777777778,
              "#fb9f3a"
             ],
             [
              0.8888888888888888,
              "#fdca26"
             ],
             [
              1,
              "#f0f921"
             ]
            ],
            "type": "heatmapgl"
           }
          ],
          "histogram": [
           {
            "marker": {
             "pattern": {
              "fillmode": "overlay",
              "size": 10,
              "solidity": 0.2
             }
            },
            "type": "histogram"
           }
          ],
          "histogram2d": [
           {
            "colorbar": {
             "outlinewidth": 0,
             "ticks": ""
            },
            "colorscale": [
             [
              0,
              "#0d0887"
             ],
             [
              0.1111111111111111,
              "#46039f"
             ],
             [
              0.2222222222222222,
              "#7201a8"
             ],
             [
              0.3333333333333333,
              "#9c179e"
             ],
             [
              0.4444444444444444,
              "#bd3786"
             ],
             [
              0.5555555555555556,
              "#d8576b"
             ],
             [
              0.6666666666666666,
              "#ed7953"
             ],
             [
              0.7777777777777778,
              "#fb9f3a"
             ],
             [
              0.8888888888888888,
              "#fdca26"
             ],
             [
              1,
              "#f0f921"
             ]
            ],
            "type": "histogram2d"
           }
          ],
          "histogram2dcontour": [
           {
            "colorbar": {
             "outlinewidth": 0,
             "ticks": ""
            },
            "colorscale": [
             [
              0,
              "#0d0887"
             ],
             [
              0.1111111111111111,
              "#46039f"
             ],
             [
              0.2222222222222222,
              "#7201a8"
             ],
             [
              0.3333333333333333,
              "#9c179e"
             ],
             [
              0.4444444444444444,
              "#bd3786"
             ],
             [
              0.5555555555555556,
              "#d8576b"
             ],
             [
              0.6666666666666666,
              "#ed7953"
             ],
             [
              0.7777777777777778,
              "#fb9f3a"
             ],
             [
              0.8888888888888888,
              "#fdca26"
             ],
             [
              1,
              "#f0f921"
             ]
            ],
            "type": "histogram2dcontour"
           }
          ],
          "mesh3d": [
           {
            "colorbar": {
             "outlinewidth": 0,
             "ticks": ""
            },
            "type": "mesh3d"
           }
          ],
          "parcoords": [
           {
            "line": {
             "colorbar": {
              "outlinewidth": 0,
              "ticks": ""
             }
            },
            "type": "parcoords"
           }
          ],
          "pie": [
           {
            "automargin": true,
            "type": "pie"
           }
          ],
          "scatter": [
           {
            "fillpattern": {
             "fillmode": "overlay",
             "size": 10,
             "solidity": 0.2
            },
            "type": "scatter"
           }
          ],
          "scatter3d": [
           {
            "line": {
             "colorbar": {
              "outlinewidth": 0,
              "ticks": ""
             }
            },
            "marker": {
             "colorbar": {
              "outlinewidth": 0,
              "ticks": ""
             }
            },
            "type": "scatter3d"
           }
          ],
          "scattercarpet": [
           {
            "marker": {
             "colorbar": {
              "outlinewidth": 0,
              "ticks": ""
             }
            },
            "type": "scattercarpet"
           }
          ],
          "scattergeo": [
           {
            "marker": {
             "colorbar": {
              "outlinewidth": 0,
              "ticks": ""
             }
            },
            "type": "scattergeo"
           }
          ],
          "scattergl": [
           {
            "marker": {
             "colorbar": {
              "outlinewidth": 0,
              "ticks": ""
             }
            },
            "type": "scattergl"
           }
          ],
          "scattermapbox": [
           {
            "marker": {
             "colorbar": {
              "outlinewidth": 0,
              "ticks": ""
             }
            },
            "type": "scattermapbox"
           }
          ],
          "scatterpolar": [
           {
            "marker": {
             "colorbar": {
              "outlinewidth": 0,
              "ticks": ""
             }
            },
            "type": "scatterpolar"
           }
          ],
          "scatterpolargl": [
           {
            "marker": {
             "colorbar": {
              "outlinewidth": 0,
              "ticks": ""
             }
            },
            "type": "scatterpolargl"
           }
          ],
          "scatterternary": [
           {
            "marker": {
             "colorbar": {
              "outlinewidth": 0,
              "ticks": ""
             }
            },
            "type": "scatterternary"
           }
          ],
          "surface": [
           {
            "colorbar": {
             "outlinewidth": 0,
             "ticks": ""
            },
            "colorscale": [
             [
              0,
              "#0d0887"
             ],
             [
              0.1111111111111111,
              "#46039f"
             ],
             [
              0.2222222222222222,
              "#7201a8"
             ],
             [
              0.3333333333333333,
              "#9c179e"
             ],
             [
              0.4444444444444444,
              "#bd3786"
             ],
             [
              0.5555555555555556,
              "#d8576b"
             ],
             [
              0.6666666666666666,
              "#ed7953"
             ],
             [
              0.7777777777777778,
              "#fb9f3a"
             ],
             [
              0.8888888888888888,
              "#fdca26"
             ],
             [
              1,
              "#f0f921"
             ]
            ],
            "type": "surface"
           }
          ],
          "table": [
           {
            "cells": {
             "fill": {
              "color": "#EBF0F8"
             },
             "line": {
              "color": "white"
             }
            },
            "header": {
             "fill": {
              "color": "#C8D4E3"
             },
             "line": {
              "color": "white"
             }
            },
            "type": "table"
           }
          ]
         },
         "layout": {
          "annotationdefaults": {
           "arrowcolor": "#2a3f5f",
           "arrowhead": 0,
           "arrowwidth": 1
          },
          "autotypenumbers": "strict",
          "coloraxis": {
           "colorbar": {
            "outlinewidth": 0,
            "ticks": ""
           }
          },
          "colorscale": {
           "diverging": [
            [
             0,
             "#8e0152"
            ],
            [
             0.1,
             "#c51b7d"
            ],
            [
             0.2,
             "#de77ae"
            ],
            [
             0.3,
             "#f1b6da"
            ],
            [
             0.4,
             "#fde0ef"
            ],
            [
             0.5,
             "#f7f7f7"
            ],
            [
             0.6,
             "#e6f5d0"
            ],
            [
             0.7,
             "#b8e186"
            ],
            [
             0.8,
             "#7fbc41"
            ],
            [
             0.9,
             "#4d9221"
            ],
            [
             1,
             "#276419"
            ]
           ],
           "sequential": [
            [
             0,
             "#0d0887"
            ],
            [
             0.1111111111111111,
             "#46039f"
            ],
            [
             0.2222222222222222,
             "#7201a8"
            ],
            [
             0.3333333333333333,
             "#9c179e"
            ],
            [
             0.4444444444444444,
             "#bd3786"
            ],
            [
             0.5555555555555556,
             "#d8576b"
            ],
            [
             0.6666666666666666,
             "#ed7953"
            ],
            [
             0.7777777777777778,
             "#fb9f3a"
            ],
            [
             0.8888888888888888,
             "#fdca26"
            ],
            [
             1,
             "#f0f921"
            ]
           ],
           "sequentialminus": [
            [
             0,
             "#0d0887"
            ],
            [
             0.1111111111111111,
             "#46039f"
            ],
            [
             0.2222222222222222,
             "#7201a8"
            ],
            [
             0.3333333333333333,
             "#9c179e"
            ],
            [
             0.4444444444444444,
             "#bd3786"
            ],
            [
             0.5555555555555556,
             "#d8576b"
            ],
            [
             0.6666666666666666,
             "#ed7953"
            ],
            [
             0.7777777777777778,
             "#fb9f3a"
            ],
            [
             0.8888888888888888,
             "#fdca26"
            ],
            [
             1,
             "#f0f921"
            ]
           ]
          },
          "colorway": [
           "#636efa",
           "#EF553B",
           "#00cc96",
           "#ab63fa",
           "#FFA15A",
           "#19d3f3",
           "#FF6692",
           "#B6E880",
           "#FF97FF",
           "#FECB52"
          ],
          "font": {
           "color": "#2a3f5f"
          },
          "geo": {
           "bgcolor": "white",
           "lakecolor": "white",
           "landcolor": "#E5ECF6",
           "showlakes": true,
           "showland": true,
           "subunitcolor": "white"
          },
          "hoverlabel": {
           "align": "left"
          },
          "hovermode": "closest",
          "mapbox": {
           "style": "light"
          },
          "paper_bgcolor": "white",
          "plot_bgcolor": "#E5ECF6",
          "polar": {
           "angularaxis": {
            "gridcolor": "white",
            "linecolor": "white",
            "ticks": ""
           },
           "bgcolor": "#E5ECF6",
           "radialaxis": {
            "gridcolor": "white",
            "linecolor": "white",
            "ticks": ""
           }
          },
          "scene": {
           "xaxis": {
            "backgroundcolor": "#E5ECF6",
            "gridcolor": "white",
            "gridwidth": 2,
            "linecolor": "white",
            "showbackground": true,
            "ticks": "",
            "zerolinecolor": "white"
           },
           "yaxis": {
            "backgroundcolor": "#E5ECF6",
            "gridcolor": "white",
            "gridwidth": 2,
            "linecolor": "white",
            "showbackground": true,
            "ticks": "",
            "zerolinecolor": "white"
           },
           "zaxis": {
            "backgroundcolor": "#E5ECF6",
            "gridcolor": "white",
            "gridwidth": 2,
            "linecolor": "white",
            "showbackground": true,
            "ticks": "",
            "zerolinecolor": "white"
           }
          },
          "shapedefaults": {
           "line": {
            "color": "#2a3f5f"
           }
          },
          "ternary": {
           "aaxis": {
            "gridcolor": "white",
            "linecolor": "white",
            "ticks": ""
           },
           "baxis": {
            "gridcolor": "white",
            "linecolor": "white",
            "ticks": ""
           },
           "bgcolor": "#E5ECF6",
           "caxis": {
            "gridcolor": "white",
            "linecolor": "white",
            "ticks": ""
           }
          },
          "title": {
           "x": 0.05
          },
          "xaxis": {
           "automargin": true,
           "gridcolor": "white",
           "linecolor": "white",
           "ticks": "",
           "title": {
            "standoff": 15
           },
           "zerolinecolor": "white",
           "zerolinewidth": 2
          },
          "yaxis": {
           "automargin": true,
           "gridcolor": "white",
           "linecolor": "white",
           "ticks": "",
           "title": {
            "standoff": 15
           },
           "zerolinecolor": "white",
           "zerolinewidth": 2
          }
         }
        },
        "xaxis": {
         "anchor": "y",
         "domain": [
          0,
          1
         ],
         "title": {
          "text": "nll_diff"
         }
        },
        "yaxis": {
         "anchor": "x",
         "domain": [
          0,
          1
         ],
         "title": {
          "text": "bin_proportion"
         }
        }
       }
      },
      "text/html": [
       "<div>                            <div id=\"a5ce48fa-b92e-4ec7-b1b5-cc373481f1bd\" class=\"plotly-graph-div\" style=\"height:525px; width:100%;\"></div>            <script type=\"text/javascript\">                require([\"plotly\"], function(Plotly) {                    window.PLOTLYENV=window.PLOTLYENV || {};                                    if (document.getElementById(\"a5ce48fa-b92e-4ec7-b1b5-cc373481f1bd\")) {                    Plotly.newPlot(                        \"a5ce48fa-b92e-4ec7-b1b5-cc373481f1bd\",                        [{\"hovertemplate\":\"nll_diff=%{x}\\u003cbr\\u003ebin_proportion=%{y}\\u003cextra\\u003e\\u003c\\u002fextra\\u003e\",\"legendgroup\":\"\",\"line\":{\"color\":\"#636efa\",\"dash\":\"solid\"},\"marker\":{\"symbol\":\"circle\"},\"mode\":\"lines\",\"name\":\"\",\"orientation\":\"v\",\"showlegend\":false,\"x\":[0.3700528144836426,0.2522430419921875,0.2360086441040039,0.1657719612121582,0.14300179481506348,0.1280515193939209,0.11965310573577881,0.11332273483276367,0.09163033962249756,0.0844426155090332,0.08438563346862793,0.06834125518798828,0.06650710105895996,0.06633543968200684,0.0662696361541748,0.06221485137939453,0.05663299560546875,0.05537295341491699,0.05484604835510254,0.05107271671295166,0.04613924026489258,0.04473978281021118,0.04420197010040283,0.038435280323028564,0.03752315044403076,0.030191898345947266,0.03005838394165039,0.028797805309295654,0.026519179344177246,0.025541245937347412,0.024658799171447754,0.024199843406677246,0.023887038230895996,0.022746682167053223,0.020992279052734375,0.020407557487487793,0.017357230186462402,0.01713019609451294,0.014720797538757324,0.013582468032836914,0.0134660005569458,0.012752830982208252,0.010593891143798828,0.009775519371032715,0.009032517671585083,0.009026587009429932,0.008511722087860107,0.006612539291381836,0.0046508461236953735,0.004184246063232422,0.0037909746170043945,0.003469228744506836,0.002020120620727539,0.0016118288040161133,0.0013300180435180664,0.00011971592903137207,-0.0009391903877258301,-0.002695918083190918,-0.002911210060119629,-0.003991067409515381,-0.004974722862243652,-0.006189823150634766,-0.008034348487854004,-0.008236050605773926,-0.008898019790649414,-0.009089946746826172,-0.009751200675964355,-0.009850084781646729,-0.012279152870178223,-0.012932300567626953,-0.013137221336364746,-0.014452457427978516,-0.015228033065795898,-0.016842365264892578,-0.016958236694335938,-0.018160581588745117,-0.021405458450317383,-0.02208852767944336,-0.02319478988647461,-0.0246121883392334,-0.027180790901184082,-0.027381420135498047,-0.030952930450439453,-0.031496405601501465,-0.035918474197387695,-0.03798842430114746,-0.039462924003601074,-0.045440733432769775,-0.04649972915649414,-0.06576013565063477,-0.07374143600463867,-0.1275724172592163,-0.19976437091827393,-0.23769640922546387],\"xaxis\":\"x\",\"y\":[0.010638297872340425,0.02127659574468085,0.031914893617021274,0.0425531914893617,0.05319148936170213,0.06382978723404255,0.07446808510638298,0.0851063829787234,0.09574468085106383,0.10638297872340426,0.11702127659574468,0.1276595744680851,0.13829787234042554,0.14893617021276595,0.1595744680851064,0.1702127659574468,0.18085106382978725,0.19148936170212766,0.20212765957446807,0.2127659574468085,0.22340425531914893,0.23404255319148937,0.24468085106382978,0.2553191489361702,0.26595744680851063,0.2765957446808511,0.2872340425531915,0.2978723404255319,0.30851063829787234,0.3191489361702128,0.32978723404255317,0.3404255319148936,0.35106382978723405,0.3617021276595745,0.3723404255319149,0.3829787234042553,0.39361702127659576,0.40425531914893614,0.4148936170212766,0.425531914893617,0.43617021276595747,0.44680851063829785,0.4574468085106383,0.46808510638297873,0.4787234042553192,0.48936170212765956,0.5,0.5106382978723404,0.5212765957446809,0.5319148936170213,0.5425531914893617,0.5531914893617021,0.5638297872340425,0.574468085106383,0.5851063829787234,0.5957446808510638,0.6063829787234043,0.6170212765957447,0.6276595744680851,0.6382978723404256,0.648936170212766,0.6595744680851063,0.6702127659574468,0.6808510638297872,0.6914893617021277,0.7021276595744681,0.7127659574468085,0.723404255319149,0.7340425531914894,0.7446808510638298,0.7553191489361702,0.7659574468085106,0.776595744680851,0.7872340425531915,0.7978723404255319,0.8085106382978723,0.8191489361702128,0.8297872340425532,0.8404255319148937,0.851063829787234,0.8617021276595744,0.8723404255319149,0.8829787234042553,0.8936170212765957,0.9042553191489362,0.9148936170212766,0.925531914893617,0.9361702127659575,0.9468085106382979,0.9574468085106383,0.9680851063829787,0.9787234042553191,0.9893617021276596,1.0],\"yaxis\":\"y\",\"type\":\"scatter\"}],                        {\"template\":{\"data\":{\"histogram2dcontour\":[{\"type\":\"histogram2dcontour\",\"colorbar\":{\"outlinewidth\":0,\"ticks\":\"\"},\"colorscale\":[[0.0,\"#0d0887\"],[0.1111111111111111,\"#46039f\"],[0.2222222222222222,\"#7201a8\"],[0.3333333333333333,\"#9c179e\"],[0.4444444444444444,\"#bd3786\"],[0.5555555555555556,\"#d8576b\"],[0.6666666666666666,\"#ed7953\"],[0.7777777777777778,\"#fb9f3a\"],[0.8888888888888888,\"#fdca26\"],[1.0,\"#f0f921\"]]}],\"choropleth\":[{\"type\":\"choropleth\",\"colorbar\":{\"outlinewidth\":0,\"ticks\":\"\"}}],\"histogram2d\":[{\"type\":\"histogram2d\",\"colorbar\":{\"outlinewidth\":0,\"ticks\":\"\"},\"colorscale\":[[0.0,\"#0d0887\"],[0.1111111111111111,\"#46039f\"],[0.2222222222222222,\"#7201a8\"],[0.3333333333333333,\"#9c179e\"],[0.4444444444444444,\"#bd3786\"],[0.5555555555555556,\"#d8576b\"],[0.6666666666666666,\"#ed7953\"],[0.7777777777777778,\"#fb9f3a\"],[0.8888888888888888,\"#fdca26\"],[1.0,\"#f0f921\"]]}],\"heatmap\":[{\"type\":\"heatmap\",\"colorbar\":{\"outlinewidth\":0,\"ticks\":\"\"},\"colorscale\":[[0.0,\"#0d0887\"],[0.1111111111111111,\"#46039f\"],[0.2222222222222222,\"#7201a8\"],[0.3333333333333333,\"#9c179e\"],[0.4444444444444444,\"#bd3786\"],[0.5555555555555556,\"#d8576b\"],[0.6666666666666666,\"#ed7953\"],[0.7777777777777778,\"#fb9f3a\"],[0.8888888888888888,\"#fdca26\"],[1.0,\"#f0f921\"]]}],\"heatmapgl\":[{\"type\":\"heatmapgl\",\"colorbar\":{\"outlinewidth\":0,\"ticks\":\"\"},\"colorscale\":[[0.0,\"#0d0887\"],[0.1111111111111111,\"#46039f\"],[0.2222222222222222,\"#7201a8\"],[0.3333333333333333,\"#9c179e\"],[0.4444444444444444,\"#bd3786\"],[0.5555555555555556,\"#d8576b\"],[0.6666666666666666,\"#ed7953\"],[0.7777777777777778,\"#fb9f3a\"],[0.8888888888888888,\"#fdca26\"],[1.0,\"#f0f921\"]]}],\"contourcarpet\":[{\"type\":\"contourcarpet\",\"colorbar\":{\"outlinewidth\":0,\"ticks\":\"\"}}],\"contour\":[{\"type\":\"contour\",\"colorbar\":{\"outlinewidth\":0,\"ticks\":\"\"},\"colorscale\":[[0.0,\"#0d0887\"],[0.1111111111111111,\"#46039f\"],[0.2222222222222222,\"#7201a8\"],[0.3333333333333333,\"#9c179e\"],[0.4444444444444444,\"#bd3786\"],[0.5555555555555556,\"#d8576b\"],[0.6666666666666666,\"#ed7953\"],[0.7777777777777778,\"#fb9f3a\"],[0.8888888888888888,\"#fdca26\"],[1.0,\"#f0f921\"]]}],\"surface\":[{\"type\":\"surface\",\"colorbar\":{\"outlinewidth\":0,\"ticks\":\"\"},\"colorscale\":[[0.0,\"#0d0887\"],[0.1111111111111111,\"#46039f\"],[0.2222222222222222,\"#7201a8\"],[0.3333333333333333,\"#9c179e\"],[0.4444444444444444,\"#bd3786\"],[0.5555555555555556,\"#d8576b\"],[0.6666666666666666,\"#ed7953\"],[0.7777777777777778,\"#fb9f3a\"],[0.8888888888888888,\"#fdca26\"],[1.0,\"#f0f921\"]]}],\"mesh3d\":[{\"type\":\"mesh3d\",\"colorbar\":{\"outlinewidth\":0,\"ticks\":\"\"}}],\"scatter\":[{\"fillpattern\":{\"fillmode\":\"overlay\",\"size\":10,\"solidity\":0.2},\"type\":\"scatter\"}],\"parcoords\":[{\"type\":\"parcoords\",\"line\":{\"colorbar\":{\"outlinewidth\":0,\"ticks\":\"\"}}}],\"scatterpolargl\":[{\"type\":\"scatterpolargl\",\"marker\":{\"colorbar\":{\"outlinewidth\":0,\"ticks\":\"\"}}}],\"bar\":[{\"error_x\":{\"color\":\"#2a3f5f\"},\"error_y\":{\"color\":\"#2a3f5f\"},\"marker\":{\"line\":{\"color\":\"#E5ECF6\",\"width\":0.5},\"pattern\":{\"fillmode\":\"overlay\",\"size\":10,\"solidity\":0.2}},\"type\":\"bar\"}],\"scattergeo\":[{\"type\":\"scattergeo\",\"marker\":{\"colorbar\":{\"outlinewidth\":0,\"ticks\":\"\"}}}],\"scatterpolar\":[{\"type\":\"scatterpolar\",\"marker\":{\"colorbar\":{\"outlinewidth\":0,\"ticks\":\"\"}}}],\"histogram\":[{\"marker\":{\"pattern\":{\"fillmode\":\"overlay\",\"size\":10,\"solidity\":0.2}},\"type\":\"histogram\"}],\"scattergl\":[{\"type\":\"scattergl\",\"marker\":{\"colorbar\":{\"outlinewidth\":0,\"ticks\":\"\"}}}],\"scatter3d\":[{\"type\":\"scatter3d\",\"line\":{\"colorbar\":{\"outlinewidth\":0,\"ticks\":\"\"}},\"marker\":{\"colorbar\":{\"outlinewidth\":0,\"ticks\":\"\"}}}],\"scattermapbox\":[{\"type\":\"scattermapbox\",\"marker\":{\"colorbar\":{\"outlinewidth\":0,\"ticks\":\"\"}}}],\"scatterternary\":[{\"type\":\"scatterternary\",\"marker\":{\"colorbar\":{\"outlinewidth\":0,\"ticks\":\"\"}}}],\"scattercarpet\":[{\"type\":\"scattercarpet\",\"marker\":{\"colorbar\":{\"outlinewidth\":0,\"ticks\":\"\"}}}],\"carpet\":[{\"aaxis\":{\"endlinecolor\":\"#2a3f5f\",\"gridcolor\":\"white\",\"linecolor\":\"white\",\"minorgridcolor\":\"white\",\"startlinecolor\":\"#2a3f5f\"},\"baxis\":{\"endlinecolor\":\"#2a3f5f\",\"gridcolor\":\"white\",\"linecolor\":\"white\",\"minorgridcolor\":\"white\",\"startlinecolor\":\"#2a3f5f\"},\"type\":\"carpet\"}],\"table\":[{\"cells\":{\"fill\":{\"color\":\"#EBF0F8\"},\"line\":{\"color\":\"white\"}},\"header\":{\"fill\":{\"color\":\"#C8D4E3\"},\"line\":{\"color\":\"white\"}},\"type\":\"table\"}],\"barpolar\":[{\"marker\":{\"line\":{\"color\":\"#E5ECF6\",\"width\":0.5},\"pattern\":{\"fillmode\":\"overlay\",\"size\":10,\"solidity\":0.2}},\"type\":\"barpolar\"}],\"pie\":[{\"automargin\":true,\"type\":\"pie\"}]},\"layout\":{\"autotypenumbers\":\"strict\",\"colorway\":[\"#636efa\",\"#EF553B\",\"#00cc96\",\"#ab63fa\",\"#FFA15A\",\"#19d3f3\",\"#FF6692\",\"#B6E880\",\"#FF97FF\",\"#FECB52\"],\"font\":{\"color\":\"#2a3f5f\"},\"hovermode\":\"closest\",\"hoverlabel\":{\"align\":\"left\"},\"paper_bgcolor\":\"white\",\"plot_bgcolor\":\"#E5ECF6\",\"polar\":{\"bgcolor\":\"#E5ECF6\",\"angularaxis\":{\"gridcolor\":\"white\",\"linecolor\":\"white\",\"ticks\":\"\"},\"radialaxis\":{\"gridcolor\":\"white\",\"linecolor\":\"white\",\"ticks\":\"\"}},\"ternary\":{\"bgcolor\":\"#E5ECF6\",\"aaxis\":{\"gridcolor\":\"white\",\"linecolor\":\"white\",\"ticks\":\"\"},\"baxis\":{\"gridcolor\":\"white\",\"linecolor\":\"white\",\"ticks\":\"\"},\"caxis\":{\"gridcolor\":\"white\",\"linecolor\":\"white\",\"ticks\":\"\"}},\"coloraxis\":{\"colorbar\":{\"outlinewidth\":0,\"ticks\":\"\"}},\"colorscale\":{\"sequential\":[[0.0,\"#0d0887\"],[0.1111111111111111,\"#46039f\"],[0.2222222222222222,\"#7201a8\"],[0.3333333333333333,\"#9c179e\"],[0.4444444444444444,\"#bd3786\"],[0.5555555555555556,\"#d8576b\"],[0.6666666666666666,\"#ed7953\"],[0.7777777777777778,\"#fb9f3a\"],[0.8888888888888888,\"#fdca26\"],[1.0,\"#f0f921\"]],\"sequentialminus\":[[0.0,\"#0d0887\"],[0.1111111111111111,\"#46039f\"],[0.2222222222222222,\"#7201a8\"],[0.3333333333333333,\"#9c179e\"],[0.4444444444444444,\"#bd3786\"],[0.5555555555555556,\"#d8576b\"],[0.6666666666666666,\"#ed7953\"],[0.7777777777777778,\"#fb9f3a\"],[0.8888888888888888,\"#fdca26\"],[1.0,\"#f0f921\"]],\"diverging\":[[0,\"#8e0152\"],[0.1,\"#c51b7d\"],[0.2,\"#de77ae\"],[0.3,\"#f1b6da\"],[0.4,\"#fde0ef\"],[0.5,\"#f7f7f7\"],[0.6,\"#e6f5d0\"],[0.7,\"#b8e186\"],[0.8,\"#7fbc41\"],[0.9,\"#4d9221\"],[1,\"#276419\"]]},\"xaxis\":{\"gridcolor\":\"white\",\"linecolor\":\"white\",\"ticks\":\"\",\"title\":{\"standoff\":15},\"zerolinecolor\":\"white\",\"automargin\":true,\"zerolinewidth\":2},\"yaxis\":{\"gridcolor\":\"white\",\"linecolor\":\"white\",\"ticks\":\"\",\"title\":{\"standoff\":15},\"zerolinecolor\":\"white\",\"automargin\":true,\"zerolinewidth\":2},\"scene\":{\"xaxis\":{\"backgroundcolor\":\"#E5ECF6\",\"gridcolor\":\"white\",\"linecolor\":\"white\",\"showbackground\":true,\"ticks\":\"\",\"zerolinecolor\":\"white\",\"gridwidth\":2},\"yaxis\":{\"backgroundcolor\":\"#E5ECF6\",\"gridcolor\":\"white\",\"linecolor\":\"white\",\"showbackground\":true,\"ticks\":\"\",\"zerolinecolor\":\"white\",\"gridwidth\":2},\"zaxis\":{\"backgroundcolor\":\"#E5ECF6\",\"gridcolor\":\"white\",\"linecolor\":\"white\",\"showbackground\":true,\"ticks\":\"\",\"zerolinecolor\":\"white\",\"gridwidth\":2}},\"shapedefaults\":{\"line\":{\"color\":\"#2a3f5f\"}},\"annotationdefaults\":{\"arrowcolor\":\"#2a3f5f\",\"arrowhead\":0,\"arrowwidth\":1},\"geo\":{\"bgcolor\":\"white\",\"landcolor\":\"#E5ECF6\",\"subunitcolor\":\"white\",\"showland\":true,\"showlakes\":true,\"lakecolor\":\"white\"},\"title\":{\"x\":0.05},\"mapbox\":{\"style\":\"light\"}}},\"xaxis\":{\"anchor\":\"y\",\"domain\":[0.0,1.0],\"title\":{\"text\":\"nll_diff\"}},\"yaxis\":{\"anchor\":\"x\",\"domain\":[0.0,1.0],\"title\":{\"text\":\"bin_proportion\"}},\"legend\":{\"tracegroupgap\":0},\"margin\":{\"t\":60}},                        {\"responsive\": true}                    ).then(function(){\n",
       "                            \n",
       "var gd = document.getElementById('a5ce48fa-b92e-4ec7-b1b5-cc373481f1bd');\n",
       "var x = new MutationObserver(function (mutations, observer) {{\n",
       "        var display = window.getComputedStyle(gd).display;\n",
       "        if (!display || display === 'none') {{\n",
       "            console.log([gd, 'removed!']);\n",
       "            Plotly.purge(gd);\n",
       "            observer.disconnect();\n",
       "        }}\n",
       "}});\n",
       "\n",
       "// Listen for the removal of the full notebook cells\n",
       "var notebookContainer = gd.closest('#notebook-container');\n",
       "if (notebookContainer) {{\n",
       "    x.observe(notebookContainer, {childList: true});\n",
       "}}\n",
       "\n",
       "// Listen for the clearing of the current output cell\n",
       "var outputEl = gd.closest('.output');\n",
       "if (outputEl) {{\n",
       "    x.observe(outputEl, {childList: true});\n",
       "}}\n",
       "\n",
       "                        })                };                });            </script>        </div>"
      ]
     },
     "metadata": {},
     "output_type": "display_data"
    }
   ],
   "source": [
    "px.line(\n",
    "    df, x='nll_diff', y='bin_proportion'\n",
    ")"
   ]
  },
  {
   "cell_type": "code",
   "execution_count": 15,
   "id": "08d726f0",
   "metadata": {},
   "outputs": [],
   "source": [
    "counts = data.groupby(key_cols)['_individual'].nunique().reset_index().rename(columns={'_individual': 'unique_individuals'})\n",
    "data = data[[c for c in data.columns if c != 'unique_individuals']].merge(counts)\n",
    "compare = compare[[c for c in compare.columns if c != 'unique_individuals']].merge(counts)"
   ]
  },
  {
   "cell_type": "code",
   "execution_count": null,
   "id": "78236abd",
   "metadata": {},
   "outputs": [
    {
     "data": {
      "text/html": [
       "<div>\n",
       "<style scoped>\n",
       "    .dataframe tbody tr th:only-of-type {\n",
       "        vertical-align: middle;\n",
       "    }\n",
       "\n",
       "    .dataframe tbody tr th {\n",
       "        vertical-align: top;\n",
       "    }\n",
       "\n",
       "    .dataframe thead th {\n",
       "        text-align: right;\n",
       "    }\n",
       "</style>\n",
       "<table border=\"1\" class=\"dataframe\">\n",
       "  <thead>\n",
       "    <tr style=\"text-align: right;\">\n",
       "      <th></th>\n",
       "      <th>unique_individuals</th>\n",
       "      <th>nll_w_habitat</th>\n",
       "      <th>proportion</th>\n",
       "      <th>nll</th>\n",
       "    </tr>\n",
       "  </thead>\n",
       "  <tbody>\n",
       "    <tr>\n",
       "      <th>0</th>\n",
       "      <td>1</td>\n",
       "      <td>1.634324</td>\n",
       "      <td>0.03</td>\n",
       "      <td>1.632974</td>\n",
       "    </tr>\n",
       "    <tr>\n",
       "      <th>1</th>\n",
       "      <td>2</td>\n",
       "      <td>1.358455</td>\n",
       "      <td>0.09</td>\n",
       "      <td>1.390419</td>\n",
       "    </tr>\n",
       "    <tr>\n",
       "      <th>2</th>\n",
       "      <td>3</td>\n",
       "      <td>1.185446</td>\n",
       "      <td>0.17</td>\n",
       "      <td>1.186816</td>\n",
       "    </tr>\n",
       "    <tr>\n",
       "      <th>3</th>\n",
       "      <td>4</td>\n",
       "      <td>1.346740</td>\n",
       "      <td>0.17</td>\n",
       "      <td>1.379824</td>\n",
       "    </tr>\n",
       "    <tr>\n",
       "      <th>4</th>\n",
       "      <td>5</td>\n",
       "      <td>1.297012</td>\n",
       "      <td>0.06</td>\n",
       "      <td>1.293017</td>\n",
       "    </tr>\n",
       "    <tr>\n",
       "      <th>5</th>\n",
       "      <td>6</td>\n",
       "      <td>1.539854</td>\n",
       "      <td>0.12</td>\n",
       "      <td>1.549070</td>\n",
       "    </tr>\n",
       "    <tr>\n",
       "      <th>6</th>\n",
       "      <td>7</td>\n",
       "      <td>1.435231</td>\n",
       "      <td>0.16</td>\n",
       "      <td>1.443237</td>\n",
       "    </tr>\n",
       "    <tr>\n",
       "      <th>7</th>\n",
       "      <td>8</td>\n",
       "      <td>1.573355</td>\n",
       "      <td>0.12</td>\n",
       "      <td>1.601032</td>\n",
       "    </tr>\n",
       "    <tr>\n",
       "      <th>8</th>\n",
       "      <td>9</td>\n",
       "      <td>1.564556</td>\n",
       "      <td>0.04</td>\n",
       "      <td>1.627464</td>\n",
       "    </tr>\n",
       "    <tr>\n",
       "      <th>9</th>\n",
       "      <td>10</td>\n",
       "      <td>1.698459</td>\n",
       "      <td>0.04</td>\n",
       "      <td>1.713915</td>\n",
       "    </tr>\n",
       "  </tbody>\n",
       "</table>\n",
       "</div>"
      ],
      "text/plain": [
       "   unique_individuals  nll_w_habitat  proportion       nll\n",
       "0                   1       1.634324        0.03  1.632974\n",
       "1                   2       1.358455        0.09  1.390419\n",
       "2                   3       1.185446        0.17  1.186816\n",
       "3                   4       1.346740        0.17  1.379824\n",
       "4                   5       1.297012        0.06  1.293017\n",
       "5                   6       1.539854        0.12  1.549070\n",
       "6                   7       1.435231        0.16  1.443237\n",
       "7                   8       1.573355        0.12  1.601032\n",
       "8                   9       1.564556        0.04  1.627464\n",
       "9                  10       1.698459        0.04  1.713915"
      ]
     },
     "execution_count": 18,
     "metadata": {},
     "output_type": "execute_result"
    },
    {
     "ename": "",
     "evalue": "",
     "output_type": "error",
     "traceback": [
      "\u001b[1;31mThe Kernel crashed while executing code in the current cell or a previous cell. \n",
      "\u001b[1;31mPlease review the code in the cell(s) to identify a possible cause of the failure. \n",
      "\u001b[1;31mClick <a href='https://aka.ms/vscodeJupyterKernelCrash'>here</a> for more info. \n",
      "\u001b[1;31mView Jupyter <a href='command:jupyter.viewOutput'>log</a> for further details."
     ]
    }
   ],
   "source": [
    "bdf = data[data['_selected']].groupby('unique_individuals').agg({'nll': 'mean', '_choice': 'count'}).rename(columns={'_choice': 'proportion'})\n",
    "bdf['proportion'] = round(bdf['proportion'] / bdf['proportion'].sum(), 2)\n",
    "cdf = compare[compare['_selected']].groupby('unique_individuals')['nll'].mean().reset_index()\n",
    "bdf.merge(cdf, on='unique_individuals', suffixes=('_w_habitat', ''))"
   ]
  },
  {
   "cell_type": "code",
   "execution_count": 4,
   "id": "c592ea00",
   "metadata": {},
   "outputs": [
    {
     "name": "stderr",
     "output_type": "stream",
     "text": [
      "/tmp/ipykernel_69035/1204984729.py:7: DeprecationWarning: DataFrameGroupBy.apply operated on the grouping columns. This behavior is deprecated, and in a future version of pandas the grouping columns will be excluded from the operation. Either pass `include_groups=False` to exclude the groupings or explicitly select the grouping columns after groupby to silence this warning.\n",
      "  odf = data.groupby(['_individual', '_decision'] + key_cols).apply(get_likelihoods).reset_index().rename(columns={0: 'likelihoods'})\n"
     ]
    },
    {
     "data": {
      "text/html": [
       "<div>\n",
       "<style scoped>\n",
       "    .dataframe tbody tr th:only-of-type {\n",
       "        vertical-align: middle;\n",
       "    }\n",
       "\n",
       "    .dataframe tbody tr th {\n",
       "        vertical-align: top;\n",
       "    }\n",
       "\n",
       "    .dataframe thead th {\n",
       "        text-align: right;\n",
       "    }\n",
       "</style>\n",
       "<table border=\"1\" class=\"dataframe\">\n",
       "  <thead>\n",
       "    <tr style=\"text-align: right;\">\n",
       "      <th></th>\n",
       "      <th>_individual</th>\n",
       "      <th>_decision</th>\n",
       "      <th>key_radians</th>\n",
       "      <th>key_month</th>\n",
       "      <th>key_max_depth_bin</th>\n",
       "      <th>likelihoods</th>\n",
       "    </tr>\n",
       "  </thead>\n",
       "  <tbody>\n",
       "    <tr>\n",
       "      <th>0</th>\n",
       "      <td>73</td>\n",
       "      <td>318534</td>\n",
       "      <td>-3</td>\n",
       "      <td>5</td>\n",
       "      <td>3</td>\n",
       "      <td>{25.0: 0.702519953250885, 50.0: 0.191676750779...</td>\n",
       "    </tr>\n",
       "    <tr>\n",
       "      <th>1</th>\n",
       "      <td>73</td>\n",
       "      <td>318535</td>\n",
       "      <td>-3</td>\n",
       "      <td>5</td>\n",
       "      <td>3</td>\n",
       "      <td>{50.0: 0.17820896208286285, 75.0: 0.1004687473...</td>\n",
       "    </tr>\n",
       "    <tr>\n",
       "      <th>2</th>\n",
       "      <td>73</td>\n",
       "      <td>318536</td>\n",
       "      <td>2</td>\n",
       "      <td>5</td>\n",
       "      <td>3</td>\n",
       "      <td>{75.0: 0.07992267608642578, 50.0: 0.1683628708...</td>\n",
       "    </tr>\n",
       "    <tr>\n",
       "      <th>3</th>\n",
       "      <td>73</td>\n",
       "      <td>318537</td>\n",
       "      <td>-4</td>\n",
       "      <td>5</td>\n",
       "      <td>3</td>\n",
       "      <td>{25.0: 0.7258635759353638, 50.0: 0.17636090517...</td>\n",
       "    </tr>\n",
       "    <tr>\n",
       "      <th>4</th>\n",
       "      <td>73</td>\n",
       "      <td>318538</td>\n",
       "      <td>4</td>\n",
       "      <td>5</td>\n",
       "      <td>3</td>\n",
       "      <td>{50.0: 0.17890435457229614, 25.0: 0.7279314398...</td>\n",
       "    </tr>\n",
       "    <tr>\n",
       "      <th>...</th>\n",
       "      <td>...</td>\n",
       "      <td>...</td>\n",
       "      <td>...</td>\n",
       "      <td>...</td>\n",
       "      <td>...</td>\n",
       "      <td>...</td>\n",
       "    </tr>\n",
       "    <tr>\n",
       "      <th>192638</th>\n",
       "      <td>110</td>\n",
       "      <td>521549</td>\n",
       "      <td>-2</td>\n",
       "      <td>8</td>\n",
       "      <td>7</td>\n",
       "      <td>{50.0: 0.14208410680294037, 150.0: 0.014608704...</td>\n",
       "    </tr>\n",
       "    <tr>\n",
       "      <th>192639</th>\n",
       "      <td>110</td>\n",
       "      <td>521550</td>\n",
       "      <td>-2</td>\n",
       "      <td>8</td>\n",
       "      <td>7</td>\n",
       "      <td>{25.0: 0.7524167895317078, 50.0: 0.14140169322...</td>\n",
       "    </tr>\n",
       "    <tr>\n",
       "      <th>192640</th>\n",
       "      <td>110</td>\n",
       "      <td>521551</td>\n",
       "      <td>-2</td>\n",
       "      <td>8</td>\n",
       "      <td>7</td>\n",
       "      <td>{250.0: 0.0012347715673968196, 25.0: 0.7248201...</td>\n",
       "    </tr>\n",
       "    <tr>\n",
       "      <th>192641</th>\n",
       "      <td>110</td>\n",
       "      <td>521552</td>\n",
       "      <td>1</td>\n",
       "      <td>8</td>\n",
       "      <td>7</td>\n",
       "      <td>{150.0: 0.07553541660308838, 250.0: 0.00935001...</td>\n",
       "    </tr>\n",
       "    <tr>\n",
       "      <th>192642</th>\n",
       "      <td>110</td>\n",
       "      <td>521553</td>\n",
       "      <td>-4</td>\n",
       "      <td>8</td>\n",
       "      <td>5</td>\n",
       "      <td>{75.0: 0.12512627243995667, 100.0: 0.064629375...</td>\n",
       "    </tr>\n",
       "  </tbody>\n",
       "</table>\n",
       "<p>192643 rows × 6 columns</p>\n",
       "</div>"
      ],
      "text/plain": [
       "        _individual  _decision  key_radians  key_month  key_max_depth_bin  \\\n",
       "0                73     318534           -3          5                  3   \n",
       "1                73     318535           -3          5                  3   \n",
       "2                73     318536            2          5                  3   \n",
       "3                73     318537           -4          5                  3   \n",
       "4                73     318538            4          5                  3   \n",
       "...             ...        ...          ...        ...                ...   \n",
       "192638          110     521549           -2          8                  7   \n",
       "192639          110     521550           -2          8                  7   \n",
       "192640          110     521551           -2          8                  7   \n",
       "192641          110     521552            1          8                  7   \n",
       "192642          110     521553           -4          8                  5   \n",
       "\n",
       "                                              likelihoods  \n",
       "0       {25.0: 0.702519953250885, 50.0: 0.191676750779...  \n",
       "1       {50.0: 0.17820896208286285, 75.0: 0.1004687473...  \n",
       "2       {75.0: 0.07992267608642578, 50.0: 0.1683628708...  \n",
       "3       {25.0: 0.7258635759353638, 50.0: 0.17636090517...  \n",
       "4       {50.0: 0.17890435457229614, 25.0: 0.7279314398...  \n",
       "...                                                   ...  \n",
       "192638  {50.0: 0.14208410680294037, 150.0: 0.014608704...  \n",
       "192639  {25.0: 0.7524167895317078, 50.0: 0.14140169322...  \n",
       "192640  {250.0: 0.0012347715673968196, 25.0: 0.7248201...  \n",
       "192641  {150.0: 0.07553541660308838, 250.0: 0.00935001...  \n",
       "192642  {75.0: 0.12512627243995667, 100.0: 0.064629375...  \n",
       "\n",
       "[192643 rows x 6 columns]"
      ]
     },
     "execution_count": 4,
     "metadata": {},
     "output_type": "execute_result"
    }
   ],
   "source": [
    "def get_likelihoods(x):\n",
    "    likelihoods = {}\n",
    "    for _, row in x.iterrows():\n",
    "        likelihoods[row['depth_bin']] = row['probability']\n",
    "    return likelihoods\n",
    "\n",
    "odf = data.groupby(['_individual', '_decision'] + key_cols).apply(get_likelihoods).reset_index().rename(columns={0: 'likelihoods'})\n",
    "odf"
   ]
  },
  {
   "cell_type": "code",
   "execution_count": 5,
   "id": "ecd3d294",
   "metadata": {},
   "outputs": [
    {
     "name": "stderr",
     "output_type": "stream",
     "text": [
      "100%|██████████| 192643/192643 [00:04<00:00, 43289.24it/s]\n"
     ]
    }
   ],
   "source": [
    "likelihoods = defaultdict(list)\n",
    "for _, row in tqdm(odf.iterrows(), total=odf.shape[0]):\n",
    "    key = tuple(row[key] for key in key_cols)\n",
    "    likelihoods[key].append(row['likelihoods'])"
   ]
  },
  {
   "cell_type": "code",
   "execution_count": 6,
   "id": "57448a57",
   "metadata": {},
   "outputs": [
    {
     "name": "stdout",
     "output_type": "stream",
     "text": [
      "Permutation 0\n"
     ]
    },
    {
     "name": "stderr",
     "output_type": "stream",
     "text": [
      "100%|██████████| 192643/192643 [00:14<00:00, 13143.29it/s]\n"
     ]
    },
    {
     "name": "stdout",
     "output_type": "stream",
     "text": [
      "(1285984, 12)\n"
     ]
    },
    {
     "data": {
      "text/html": [
       "<div>\n",
       "<style scoped>\n",
       "    .dataframe tbody tr th:only-of-type {\n",
       "        vertical-align: middle;\n",
       "    }\n",
       "\n",
       "    .dataframe tbody tr th {\n",
       "        vertical-align: top;\n",
       "    }\n",
       "\n",
       "    .dataframe thead th {\n",
       "        text-align: right;\n",
       "    }\n",
       "</style>\n",
       "<table border=\"1\" class=\"dataframe\">\n",
       "  <thead>\n",
       "    <tr style=\"text-align: right;\">\n",
       "      <th></th>\n",
       "      <th>_individual</th>\n",
       "      <th>_decision</th>\n",
       "      <th>depth_bin</th>\n",
       "      <th>probability</th>\n",
       "      <th>key_radians</th>\n",
       "      <th>key_month</th>\n",
       "      <th>key_max_depth_bin</th>\n",
       "      <th>_selected</th>\n",
       "      <th>salinity</th>\n",
       "      <th>mixed_layer_thickness</th>\n",
       "      <th>nitrate</th>\n",
       "      <th>permutation</th>\n",
       "    </tr>\n",
       "  </thead>\n",
       "  <tbody>\n",
       "    <tr>\n",
       "      <th>0</th>\n",
       "      <td>73</td>\n",
       "      <td>320036</td>\n",
       "      <td>75.0</td>\n",
       "      <td>0.088068</td>\n",
       "      <td>0</td>\n",
       "      <td>4</td>\n",
       "      <td>4</td>\n",
       "      <td>False</td>\n",
       "      <td>32.047225</td>\n",
       "      <td>94.016088</td>\n",
       "      <td>6.757948</td>\n",
       "      <td>0</td>\n",
       "    </tr>\n",
       "    <tr>\n",
       "      <th>1</th>\n",
       "      <td>73</td>\n",
       "      <td>320036</td>\n",
       "      <td>25.0</td>\n",
       "      <td>0.691271</td>\n",
       "      <td>0</td>\n",
       "      <td>4</td>\n",
       "      <td>4</td>\n",
       "      <td>False</td>\n",
       "      <td>32.031617</td>\n",
       "      <td>88.726031</td>\n",
       "      <td>6.654285</td>\n",
       "      <td>0</td>\n",
       "    </tr>\n",
       "    <tr>\n",
       "      <th>2</th>\n",
       "      <td>73</td>\n",
       "      <td>320036</td>\n",
       "      <td>100.0</td>\n",
       "      <td>0.065896</td>\n",
       "      <td>0</td>\n",
       "      <td>4</td>\n",
       "      <td>4</td>\n",
       "      <td>True</td>\n",
       "      <td>32.052041</td>\n",
       "      <td>94.016088</td>\n",
       "      <td>6.746055</td>\n",
       "      <td>0</td>\n",
       "    </tr>\n",
       "    <tr>\n",
       "      <th>3</th>\n",
       "      <td>73</td>\n",
       "      <td>320036</td>\n",
       "      <td>50.0</td>\n",
       "      <td>0.154765</td>\n",
       "      <td>0</td>\n",
       "      <td>4</td>\n",
       "      <td>4</td>\n",
       "      <td>False</td>\n",
       "      <td>32.039954</td>\n",
       "      <td>91.048387</td>\n",
       "      <td>6.740292</td>\n",
       "      <td>0</td>\n",
       "    </tr>\n",
       "    <tr>\n",
       "      <th>4</th>\n",
       "      <td>73</td>\n",
       "      <td>320084</td>\n",
       "      <td>100.0</td>\n",
       "      <td>0.044027</td>\n",
       "      <td>2</td>\n",
       "      <td>3</td>\n",
       "      <td>4</td>\n",
       "      <td>False</td>\n",
       "      <td>32.030725</td>\n",
       "      <td>98.355439</td>\n",
       "      <td>6.741712</td>\n",
       "      <td>0</td>\n",
       "    </tr>\n",
       "  </tbody>\n",
       "</table>\n",
       "</div>"
      ],
      "text/plain": [
       "   _individual  _decision  depth_bin  probability  key_radians  key_month  \\\n",
       "0           73     320036       75.0     0.088068            0          4   \n",
       "1           73     320036       25.0     0.691271            0          4   \n",
       "2           73     320036      100.0     0.065896            0          4   \n",
       "3           73     320036       50.0     0.154765            0          4   \n",
       "4           73     320084      100.0     0.044027            2          3   \n",
       "\n",
       "   key_max_depth_bin  _selected   salinity  mixed_layer_thickness   nitrate  \\\n",
       "0                  4      False  32.047225              94.016088  6.757948   \n",
       "1                  4      False  32.031617              88.726031  6.654285   \n",
       "2                  4       True  32.052041              94.016088  6.746055   \n",
       "3                  4      False  32.039954              91.048387  6.740292   \n",
       "4                  4      False  32.030725              98.355439  6.741712   \n",
       "\n",
       "   permutation  \n",
       "0            0  \n",
       "1            0  \n",
       "2            0  \n",
       "3            0  \n",
       "4            0  "
      ]
     },
     "execution_count": 6,
     "metadata": {},
     "output_type": "execute_result"
    }
   ],
   "source": [
    "decisions = data[['_individual', '_decision'] + key_cols].drop_duplicates()\n",
    "permutations = []\n",
    "for i in range(1):\n",
    "    print(f\"Permutation {i}\")\n",
    "    rows = []\n",
    "    for _, row in tqdm(decisions.iterrows(), total=decisions.shape[0]):\n",
    "        key = tuple(row[key] for key in key_cols)\n",
    "        likelihood = choice(likelihoods[key])\n",
    "        for depth_bin, prob in likelihood.items():\n",
    "            rows.append({\n",
    "                '_individual': row['_individual'],\n",
    "                '_decision': row['_decision'],\n",
    "                'depth_bin': depth_bin,\n",
    "                'probability': prob,\n",
    "                **{key: row[key] for key in key_cols},\n",
    "            })\n",
    "    perm = pd.DataFrame(rows).merge(data[['_individual', '_decision', 'depth_bin', '_selected', 'salinity', 'mixed_layer_thickness', 'nitrate']], on=['_individual', '_decision', 'depth_bin'], how='inner')\n",
    "    perm['permutation'] = i\n",
    "    permutations.append(perm)\n",
    "perm = pd.concat(permutations, ignore_index=True)\n",
    "print(perm.shape)\n",
    "perm.head()"
   ]
  },
  {
   "cell_type": "code",
   "execution_count": 7,
   "id": "edee17c1",
   "metadata": {},
   "outputs": [
    {
     "data": {
      "text/plain": [
       "(1.428741812673331, 1.414138)"
      ]
     },
     "execution_count": 7,
     "metadata": {},
     "output_type": "execute_result"
    }
   ],
   "source": [
    "perm['nll'] = -np.log(perm['probability'])\n",
    "data['nll'] = -np.log(data['probability'])\n",
    "perm[perm['_selected']]['nll'].mean(), data[data['_selected']]['nll'].mean()"
   ]
  },
  {
   "cell_type": "code",
   "execution_count": 8,
   "id": "6f1a642f",
   "metadata": {},
   "outputs": [
    {
     "data": {
      "text/html": [
       "<div>\n",
       "<style scoped>\n",
       "    .dataframe tbody tr th:only-of-type {\n",
       "        vertical-align: middle;\n",
       "    }\n",
       "\n",
       "    .dataframe tbody tr th {\n",
       "        vertical-align: top;\n",
       "    }\n",
       "\n",
       "    .dataframe thead th {\n",
       "        text-align: right;\n",
       "    }\n",
       "</style>\n",
       "<table border=\"1\" class=\"dataframe\">\n",
       "  <thead>\n",
       "    <tr style=\"text-align: right;\">\n",
       "      <th></th>\n",
       "      <th>key_radians</th>\n",
       "      <th>key_month</th>\n",
       "      <th>key_max_depth_bin</th>\n",
       "      <th>nll_perm</th>\n",
       "      <th>nll_data</th>\n",
       "      <th>nll_diff</th>\n",
       "    </tr>\n",
       "  </thead>\n",
       "  <tbody>\n",
       "    <tr>\n",
       "      <th>425</th>\n",
       "      <td>0</td>\n",
       "      <td>7</td>\n",
       "      <td>9</td>\n",
       "      <td>2.560318</td>\n",
       "      <td>2.229744</td>\n",
       "      <td>0.330574</td>\n",
       "    </tr>\n",
       "    <tr>\n",
       "      <th>164</th>\n",
       "      <td>-3</td>\n",
       "      <td>10</td>\n",
       "      <td>6</td>\n",
       "      <td>1.747396</td>\n",
       "      <td>1.528741</td>\n",
       "      <td>0.218655</td>\n",
       "    </tr>\n",
       "    <tr>\n",
       "      <th>584</th>\n",
       "      <td>2</td>\n",
       "      <td>4</td>\n",
       "      <td>6</td>\n",
       "      <td>1.638764</td>\n",
       "      <td>1.423019</td>\n",
       "      <td>0.215744</td>\n",
       "    </tr>\n",
       "    <tr>\n",
       "      <th>492</th>\n",
       "      <td>1</td>\n",
       "      <td>4</td>\n",
       "      <td>6</td>\n",
       "      <td>1.589701</td>\n",
       "      <td>1.377871</td>\n",
       "      <td>0.211830</td>\n",
       "    </tr>\n",
       "    <tr>\n",
       "      <th>399</th>\n",
       "      <td>0</td>\n",
       "      <td>4</td>\n",
       "      <td>6</td>\n",
       "      <td>1.596595</td>\n",
       "      <td>1.385257</td>\n",
       "      <td>0.211338</td>\n",
       "    </tr>\n",
       "    <tr>\n",
       "      <th>...</th>\n",
       "      <td>...</td>\n",
       "      <td>...</td>\n",
       "      <td>...</td>\n",
       "      <td>...</td>\n",
       "      <td>...</td>\n",
       "      <td>...</td>\n",
       "    </tr>\n",
       "    <tr>\n",
       "      <th>15</th>\n",
       "      <td>-4</td>\n",
       "      <td>3</td>\n",
       "      <td>3</td>\n",
       "      <td>0.943617</td>\n",
       "      <td>1.029711</td>\n",
       "      <td>-0.086094</td>\n",
       "    </tr>\n",
       "    <tr>\n",
       "      <th>49</th>\n",
       "      <td>-4</td>\n",
       "      <td>7</td>\n",
       "      <td>6</td>\n",
       "      <td>1.643700</td>\n",
       "      <td>1.734859</td>\n",
       "      <td>-0.091159</td>\n",
       "    </tr>\n",
       "    <tr>\n",
       "      <th>795</th>\n",
       "      <td>4</td>\n",
       "      <td>7</td>\n",
       "      <td>9</td>\n",
       "      <td>2.590332</td>\n",
       "      <td>2.692478</td>\n",
       "      <td>-0.102146</td>\n",
       "    </tr>\n",
       "    <tr>\n",
       "      <th>758</th>\n",
       "      <td>4</td>\n",
       "      <td>3</td>\n",
       "      <td>3</td>\n",
       "      <td>0.856470</td>\n",
       "      <td>0.973017</td>\n",
       "      <td>-0.116546</td>\n",
       "    </tr>\n",
       "    <tr>\n",
       "      <th>820</th>\n",
       "      <td>4</td>\n",
       "      <td>11</td>\n",
       "      <td>4</td>\n",
       "      <td>1.444892</td>\n",
       "      <td>1.568320</td>\n",
       "      <td>-0.123428</td>\n",
       "    </tr>\n",
       "  </tbody>\n",
       "</table>\n",
       "<p>836 rows × 6 columns</p>\n",
       "</div>"
      ],
      "text/plain": [
       "     key_radians  key_month  key_max_depth_bin  nll_perm  nll_data  nll_diff\n",
       "425            0          7                  9  2.560318  2.229744  0.330574\n",
       "164           -3         10                  6  1.747396  1.528741  0.218655\n",
       "584            2          4                  6  1.638764  1.423019  0.215744\n",
       "492            1          4                  6  1.589701  1.377871  0.211830\n",
       "399            0          4                  6  1.596595  1.385257  0.211338\n",
       "..           ...        ...                ...       ...       ...       ...\n",
       "15            -4          3                  3  0.943617  1.029711 -0.086094\n",
       "49            -4          7                  6  1.643700  1.734859 -0.091159\n",
       "795            4          7                  9  2.590332  2.692478 -0.102146\n",
       "758            4          3                  3  0.856470  0.973017 -0.116546\n",
       "820            4         11                  4  1.444892  1.568320 -0.123428\n",
       "\n",
       "[836 rows x 6 columns]"
      ]
     },
     "execution_count": 8,
     "metadata": {},
     "output_type": "execute_result"
    }
   ],
   "source": [
    "pdf = perm[perm['_selected']].groupby(key_cols)['nll'].mean().reset_index()\n",
    "adf = data[data['_selected']].groupby(key_cols)['nll'].mean().reset_index()\n",
    "df = pdf.merge(adf, on=key_cols, how='inner', suffixes=('_perm', '_data'))\n",
    "df['nll_diff'] = df['nll_perm'] - df['nll_data']\n",
    "df.sort_values('nll_diff', ascending=False, inplace=True)\n",
    "df"
   ]
  },
  {
   "cell_type": "code",
   "execution_count": 35,
   "id": "a21ec296",
   "metadata": {},
   "outputs": [
    {
     "data": {
      "application/vnd.plotly.v1+json": {
       "config": {
        "plotlyServerURL": "https://plot.ly"
       },
       "data": [
        {
         "hovertemplate": "nll_diff=%{x}<br>bin_proportion=%{y}<extra></extra>",
         "legendgroup": "",
         "line": {
          "color": "#636efa",
          "dash": "solid"
         },
         "marker": {
          "symbol": "circle"
         },
         "mode": "lines",
         "name": "",
         "orientation": "v",
         "showlegend": false,
         "type": "scatter",
         "x": [
          0.33057384706080706,
          0.2186548848014025,
          0.21574447332922997,
          0.2118301390464441,
          0.2113379962394315,
          0.17104722840828823,
          0.16647409332124674,
          0.16554676309408412,
          0.16044529644238015,
          0.1582772410542428,
          0.14638799546838044,
          0.14397515416709816,
          0.141261222720942,
          0.12795096908301984,
          0.12253467104125426,
          0.12213549743893948,
          0.11055890163061854,
          0.0975976766429385,
          0.09165815834472957,
          0.08576926688157882,
          0.08564711826173443,
          0.0834071612905476,
          0.08109278933300157,
          0.07918031298969153,
          0.07902876959748562,
          0.07762130687370883,
          0.07482525213629199,
          0.07421626303881279,
          0.07246268758717767,
          0.07193400706599129,
          0.07186258457494699,
          0.0693957204888358,
          0.0680700006765449,
          0.06790106361645276,
          0.06740346948904463,
          0.06596170425741121,
          0.06577770295614638,
          0.06461919104794445,
          0.0646108545238524,
          0.06416040369476206,
          0.06370851366310659,
          0.06332349384356739,
          0.06293315950620892,
          0.06201481875411319,
          0.06200445227909945,
          0.061641262617244674,
          0.06147030428179323,
          0.05924047115085518,
          0.05893282697621305,
          0.058626158470775236,
          0.05852722847838243,
          0.05784259134360625,
          0.05556171034711843,
          0.05487984151127012,
          0.05482963593958967,
          0.054312755895233655,
          0.05347055354204944,
          0.05341838967907053,
          0.05332478570501564,
          0.052751833719932195,
          0.05274262482752334,
          0.05183939364547063,
          0.05173572988261799,
          0.05099768119565762,
          0.050510521852717094,
          0.050484225348313094,
          0.05031963469478562,
          0.05015592946722092,
          0.04987365682802847,
          0.04929245461581089,
          0.04856131858528112,
          0.048254127942229275,
          0.04815690336133671,
          0.04790974832462913,
          0.047894308242525385,
          0.046887763395551785,
          0.04684189352293644,
          0.04675922665832788,
          0.0467109844905047,
          0.04598381709484478,
          0.04588108769730148,
          0.04551266028834133,
          0.04511475931610498,
          0.04365614069288504,
          0.043566977629877934,
          0.0434969139823409,
          0.043412821584798866,
          0.04339683187392995,
          0.04332095625958443,
          0.043220964984235,
          0.04312420484774693,
          0.043090278297179485,
          0.04259674354920473,
          0.042251754444091016,
          0.04174057592016145,
          0.04133669030025855,
          0.04095828931089529,
          0.0409392916228517,
          0.04090021246768294,
          0.040879480298554816,
          0.04071597226745971,
          0.04051293391331279,
          0.040265124217554904,
          0.03931342450068054,
          0.03921373292176478,
          0.03841006619834564,
          0.03740143551970432,
          0.036998138250593726,
          0.03673158724443781,
          0.03666735915994379,
          0.03661227771849651,
          0.03649306957894205,
          0.03642172545069888,
          0.036330232223438674,
          0.036244917556671474,
          0.03588810724858593,
          0.035537761379345056,
          0.03530273277915841,
          0.03482942471064043,
          0.034737706745822994,
          0.03467795533452356,
          0.03456437211224417,
          0.03444254373352673,
          0.03410691939387278,
          0.03403483657959783,
          0.03368401225252726,
          0.03352460763794107,
          0.033200963778245995,
          0.03314189954928537,
          0.0330501269886283,
          0.03259297334053146,
          0.032576752234631856,
          0.03248639123890351,
          0.03247522366634392,
          0.03237052604466095,
          0.0323524266212869,
          0.032045531262546056,
          0.032045432888693215,
          0.031888056995500236,
          0.03185842773664249,
          0.031719121850265264,
          0.03152521861197455,
          0.03147106713465897,
          0.03130917040067205,
          0.03129032007813182,
          0.031116008079325352,
          0.030949210190826193,
          0.030902833048646716,
          0.03075352730162728,
          0.030631074627348598,
          0.03053084328737432,
          0.030299338408192877,
          0.03017003517365735,
          0.029855575534560863,
          0.029535472285042275,
          0.029160256669088724,
          0.0291425312886453,
          0.029108645734658545,
          0.029059116132831964,
          0.02900492787871034,
          0.02898295385759253,
          0.028626950447590227,
          0.028224393367850542,
          0.027609578663698953,
          0.02712063520660024,
          0.02703312058672669,
          0.026952623778519813,
          0.02689391771002858,
          0.026814733217999542,
          0.02665547954416292,
          0.02640923893048419,
          0.026290180865333523,
          0.026239886448716332,
          0.026152180698936878,
          0.02613599539707434,
          0.025873471073737386,
          0.025834862843780337,
          0.02551078555644204,
          0.02545024304667698,
          0.025191337626197408,
          0.02511612420025977,
          0.02491537380395359,
          0.02490708051779289,
          0.02440741605210134,
          0.024368011498236974,
          0.02367144209235894,
          0.02354629711455103,
          0.02341849798133966,
          0.022561846677096487,
          0.02246190929749936,
          0.022316002955938385,
          0.022251696569087542,
          0.021763365896083853,
          0.021654640436289396,
          0.021551996949032093,
          0.021060888802271638,
          0.021028410031791678,
          0.020577670267255987,
          0.020433063954643726,
          0.02004564882590487,
          0.019917083523693146,
          0.01981382635111406,
          0.019746917164598754,
          0.019689181281106638,
          0.018804293186550636,
          0.018548598900456126,
          0.018544608676860808,
          0.01852410553457373,
          0.018418829116032764,
          0.01817554884690531,
          0.018171692121209393,
          0.018128225098493544,
          0.01809292607323365,
          0.01759308809456861,
          0.01721605771586987,
          0.017214130872481803,
          0.017118332768329303,
          0.017108807229644807,
          0.017049717707292134,
          0.017028141913041694,
          0.016920553106002822,
          0.016761568188927822,
          0.016684789984467208,
          0.016619147384693167,
          0.01612761902205695,
          0.016036882994041823,
          0.015960283520751517,
          0.015939116780420592,
          0.01574379201759646,
          0.015661043328644375,
          0.01563820790519288,
          0.015626573067949012,
          0.015558898665795295,
          0.015512041198283866,
          0.015428595052885408,
          0.015231236973100915,
          0.015219509554738886,
          0.015082671448722884,
          0.01507124398331472,
          0.01503099489442511,
          0.01500607402542653,
          0.014854571586217613,
          0.014844519261975275,
          0.014748110847393248,
          0.014674369240015528,
          0.01465217154835119,
          0.014290834896094173,
          0.014289408735457143,
          0.014267567626720323,
          0.014230415326327073,
          0.014089261756881521,
          0.013888222613670342,
          0.013744564140950377,
          0.01340873465057979,
          0.013289311867704878,
          0.013264413992119195,
          0.013186964680086621,
          0.013128859904459222,
          0.0128143066347699,
          0.012748985659712386,
          0.012698880718360561,
          0.012676452270282912,
          0.012224469365289536,
          0.01216212224263602,
          0.012157409782306394,
          0.012102732851169029,
          0.012049418337475526,
          0.012021976306106463,
          0.012012551637456514,
          0.011860723603683176,
          0.011834431936162293,
          0.011801292582855227,
          0.011779638985362939,
          0.011744929346044763,
          0.011590178315130095,
          0.011587825665598683,
          0.011559777916718028,
          0.011485640248362294,
          0.011393864959637678,
          0.011382395935684908,
          0.011350676257797065,
          0.011274362548814643,
          0.011264207151749916,
          0.01111845149657209,
          0.011105902860533146,
          0.011057480394801145,
          0.010994695261179466,
          0.01086249169064013,
          0.01078749651478439,
          0.010750563511991995,
          0.010713753138891224,
          0.010627818358613261,
          0.01057460278737099,
          0.010527171027827631,
          0.010401178690824908,
          0.010268517470876537,
          0.010177512941804912,
          0.010166692353872131,
          0.010153228604616205,
          0.010138025366704273,
          0.010052079363446209,
          0.010043624248773364,
          0.010026489437949149,
          0.009769044705807417,
          0.009752162580480395,
          0.00959941720153823,
          0.009528875160818462,
          0.00952706740829845,
          0.009344608637628649,
          0.009333560163396148,
          0.009308821466855521,
          0.009120979877634383,
          0.009058551638822632,
          0.009047990891717594,
          0.00901797434614604,
          0.009006101559630997,
          0.008813193712385647,
          0.008643358266800627,
          0.008604932116164754,
          0.00852728855788154,
          0.008523162903960824,
          0.008518509857559753,
          0.008470342969424172,
          0.00844654990674476,
          0.008286727624659429,
          0.008261358120168039,
          0.008258292645310528,
          0.008088405785441677,
          0.008044159214140478,
          0.007963907596750808,
          0.007889593871368117,
          0.00780566372426561,
          0.007733691205144444,
          0.00770714454968302,
          0.007705411499492498,
          0.0076852911841620575,
          0.007547455081406418,
          0.007520632262425275,
          0.007491109921057504,
          0.007480632655170849,
          0.0074301774749869764,
          0.007403199052491871,
          0.007394660095636607,
          0.0073346166614756125,
          0.007329053424806942,
          0.007307440574266577,
          0.0072396203162456985,
          0.00722431521242739,
          0.007157235575922183,
          0.0071219823144961225,
          0.006940846375073306,
          0.006872780073707896,
          0.006832657808517162,
          0.006649203822374328,
          0.00663586596358301,
          0.00662400388505302,
          0.006513856432659226,
          0.006448199620709749,
          0.006448056959566628,
          0.0064426635976220226,
          0.006437606418145281,
          0.006416833749362416,
          0.006406415224249118,
          0.0063555441088956055,
          0.006337673267293731,
          0.006335521291910506,
          0.0063080256851764105,
          0.006217767770330618,
          0.0061951535425914805,
          0.006043451291512847,
          0.005950796055327556,
          0.005898197074844624,
          0.005835885520863893,
          0.005765984685887737,
          0.005760803442124041,
          0.0056933271444463696,
          0.005655165029682108,
          0.005613532098564411,
          0.005571817861190986,
          0.005569882867482834,
          0.005500424572486562,
          0.005420260724147585,
          0.005208186853205454,
          0.005206585535987851,
          0.005184652133193968,
          0.005145011323354209,
          0.0050585301343170075,
          0.005025333708439383,
          0.0049365480532050365,
          0.004893015608467,
          0.004891696399569545,
          0.00488332493469168,
          0.0048795847636997625,
          0.004821398104525532,
          0.004804443237283573,
          0.004730659284159278,
          0.0046458227910004535,
          0.004612980788368803,
          0.004593106239215938,
          0.004559673782886353,
          0.004526062476287063,
          0.004434199905296643,
          0.004328087593170493,
          0.0042878717851262405,
          0.004280077139457328,
          0.0042263250770211425,
          0.004147439706815748,
          0.004139972973676076,
          0.004135237310167739,
          0.004056554288460079,
          0.003927662401991272,
          0.0038726271538759294,
          0.003871047346889256,
          0.003836057887534494,
          0.003739428857472582,
          0.0037168962216357626,
          0.0037007090041503155,
          0.0036882630030307673,
          0.0036766610990146553,
          0.003659904236431144,
          0.003651010678673128,
          0.0036475180237585114,
          0.0036202027538692616,
          0.003606923469243961,
          0.0035398250049469837,
          0.0035007228569382542,
          0.0032657775061486483,
          0.0031311749437642478,
          0.003111899759668746,
          0.003062329071986669,
          0.0030546106999057576,
          0.0030352920859169075,
          0.0030004923621351764,
          0.002969428331656254,
          0.0028505778031053808,
          0.00283513117110884,
          0.002813285457651915,
          0.0027712281460394728,
          0.002730603273678578,
          0.0027076866971584845,
          0.0026813644174952245,
          0.002669953522672408,
          0.0026203990043399683,
          0.002605937058987484,
          0.002554374741661647,
          0.0024746946234890377,
          0.002389632565843569,
          0.002382951299679581,
          0.002312306768927186,
          0.0023012974827695265,
          0.0022221708001278206,
          0.002193311986068869,
          0.002189360749282887,
          0.0021831089907791146,
          0.0021731555283001636,
          0.0021640362154602966,
          0.0020970893398616353,
          0.0019730077657189593,
          0.0019563604850735272,
          0.0018647767192665476,
          0.0018189782731771187,
          0.0018164629713509073,
          0.001813834961496008,
          0.001638300113810942,
          0.0014992615514412,
          0.0013504411645002268,
          0.0013063068538707867,
          0.0012625767231999596,
          0.0011632629013123008,
          0.0011522115442919034,
          0.0011466168437805901,
          0.0010840871156632126,
          0.0010534435459551572,
          0.001041559579137985,
          0.001032847756745836,
          0.001011238868417752,
          0.001010611219642632,
          0.0009928943445165483,
          0.0009518067866580715,
          0.0009284025610687419,
          0.0009210951691757119,
          0.0008899632823327064,
          0.000852457688184538,
          0.0008235756109591374,
          0.0007980761338441944,
          0.0007840778752914446,
          0.0006911951935055782,
          0.0006517015965288309,
          0.0006206682344556125,
          0.0006175560036250083,
          0.0006143395171875898,
          0.0005340077120026265,
          0.0004851009492710112,
          0.0004820773400329159,
          0.0004578889669946129,
          0.00044426099194649904,
          0.00042874357594779866,
          0.00037753345843050123,
          0.00037460750871320947,
          0.00036548571904004845,
          0.00026837019283537655,
          0.00026528787688784305,
          0.00024525771609651414,
          0.00018963118588688488,
          0.00014984161419873132,
          0.00011141987789309304,
          0.00006456934059984043,
          0.000021939364356349245,
          9.029765801749079e-8,
          2.6913603567990663e-8,
          -1.1457792048474857e-8,
          -1.1591802295818354e-7,
          -0.000029168264207624084,
          -0.00003371254292949821,
          -0.0000870314471137501,
          -0.00010064794315789438,
          -0.00013143284819217005,
          -0.00020087451445238713,
          -0.00022267024663857882,
          -0.0002717221318826457,
          -0.00027557398914690445,
          -0.00033807992335627146,
          -0.00036585952428569435,
          -0.00051017980884005,
          -0.0005352597309362661,
          -0.0005491988103824008,
          -0.0005688811372629443,
          -0.0006279710721079912,
          -0.0006502235339784779,
          -0.0006848072829508389,
          -0.0007159634695497186,
          -0.0007615389386235738,
          -0.0007953653212344758,
          -0.00081537527445108,
          -0.0008568997625105768,
          -0.0008770426030046963,
          -0.0009575679688810235,
          -0.0009886646044421354,
          -0.0010026823536719576,
          -0.0010944198569433627,
          -0.001126975830484378,
          -0.0011542366739808463,
          -0.0011616538503032015,
          -0.0013357444969979981,
          -0.0013447230517236175,
          -0.0013566088024379308,
          -0.0013973148816371905,
          -0.001419152064703777,
          -0.0014746868405699498,
          -0.0015081794762105694,
          -0.0015472399254932157,
          -0.0015541795684599902,
          -0.001557946154462142,
          -0.001700951277737811,
          -0.0017353143555927097,
          -0.00189198695856585,
          -0.001909730117801045,
          -0.0019619846669949315,
          -0.001982790270087298,
          -0.0020082110907433393,
          -0.002010745421159532,
          -0.002013317656840985,
          -0.002019284088606188,
          -0.0021536013710415913,
          -0.0021658052810564765,
          -0.0021850811241801438,
          -0.0022167299124786766,
          -0.0022755299222041447,
          -0.002399991720212158,
          -0.002479673013421113,
          -0.0025258766700565483,
          -0.002581055672953747,
          -0.0027066661350305665,
          -0.0027149341752270573,
          -0.002742422023024549,
          -0.0027468261306202724,
          -0.0027698974908219043,
          -0.0028438350792793776,
          -0.002847933503505873,
          -0.002974680923945483,
          -0.0030304255741109287,
          -0.003076702730796743,
          -0.0030853573576392623,
          -0.0032492281135354517,
          -0.0032970465205031108,
          -0.0033217384491130986,
          -0.0033285262581610464,
          -0.003445169972473794,
          -0.0035180275629800306,
          -0.003683709640502464,
          -0.003697934677592829,
          -0.00370568307992325,
          -0.003734835012632942,
          -0.00373752366167579,
          -0.0037427755048597966,
          -0.003761136573733781,
          -0.0038191954871922285,
          -0.0038453397195536976,
          -0.003862403769195888,
          -0.00391362046568744,
          -0.004002444584742748,
          -0.004006972167770129,
          -0.004034428641747301,
          -0.004146592621896428,
          -0.004160008583819819,
          -0.004213388959257047,
          -0.00424543097132668,
          -0.0043896392136262286,
          -0.004459437924124843,
          -0.004548210254253338,
          -0.004549503744154415,
          -0.004569767368376221,
          -0.004608953308283814,
          -0.004640041715758603,
          -0.004733134917558668,
          -0.004776954394873134,
          -0.004785954950285554,
          -0.004944819323073668,
          -0.005212591392904864,
          -0.005218738785423116,
          -0.005248626905822951,
          -0.005275757408222725,
          -0.005292427021946988,
          -0.005408056907501013,
          -0.005505522207694069,
          -0.005537226928295169,
          -0.00565787636826709,
          -0.005702123484819133,
          -0.005712860458966906,
          -0.005860026767362525,
          -0.005953400608735393,
          -0.006041456247096733,
          -0.00612068502005525,
          -0.006291391122725587,
          -0.006291706076311021,
          -0.006341421237543887,
          -0.006442787377231696,
          -0.006576786164091797,
          -0.006693390713614411,
          -0.006696724381126673,
          -0.006738663703213854,
          -0.006774286029206378,
          -0.006831405814037184,
          -0.006852492998740467,
          -0.006934425638273289,
          -0.007059826720065887,
          -0.007099342896299432,
          -0.007193715827208846,
          -0.007226110862650348,
          -0.0073248899505437,
          -0.007335015513736498,
          -0.007399267386934527,
          -0.007479666437530064,
          -0.0075143241336317335,
          -0.007529555727620485,
          -0.007568043724601736,
          -0.007573782159420173,
          -0.00771886821571055,
          -0.007781467932242325,
          -0.007800050066984809,
          -0.007801167615233862,
          -0.007815246124622366,
          -0.007841005320152306,
          -0.007916082418182091,
          -0.00814299984818212,
          -0.008183708123399303,
          -0.008251496454322993,
          -0.00827208048440653,
          -0.008389806300465485,
          -0.008423873599663123,
          -0.008550318315643013,
          -0.008637090679531778,
          -0.008795453885980242,
          -0.008823462335553645,
          -0.008858717310535447,
          -0.008911878540642126,
          -0.008924407579383509,
          -0.009026750885018808,
          -0.009061110266034067,
          -0.009293981436885312,
          -0.009412132983708243,
          -0.009573497265698672,
          -0.009909099225278495,
          -0.009938850875788718,
          -0.009976454969636839,
          -0.01005258575711565,
          -0.010153987158893152,
          -0.010239079315498723,
          -0.010302682995916523,
          -0.010345944455489642,
          -0.010442151750598594,
          -0.010506452158357327,
          -0.01050992593335709,
          -0.010688388584728037,
          -0.010766473415016353,
          -0.010863959661017608,
          -0.010893822631131367,
          -0.010932947936283188,
          -0.010963555616523735,
          -0.011126177424332084,
          -0.011166852796583582,
          -0.011203100919905173,
          -0.011225388568754102,
          -0.011452458504750185,
          -0.011652854024277737,
          -0.011847518982081695,
          -0.01186570130678466,
          -0.011951126627860242,
          -0.01198956326211853,
          -0.01201992938154095,
          -0.01206682885603061,
          -0.012209229096356355,
          -0.012211490438211126,
          -0.012362645312351206,
          -0.012595706828904651,
          -0.012703485009415427,
          -0.012954766547293217,
          -0.012994641175148702,
          -0.013040341924844823,
          -0.01312138998105894,
          -0.013355494800789014,
          -0.013482570824590034,
          -0.013485339754236936,
          -0.0134934941648025,
          -0.013683586410204507,
          -0.013712354165565488,
          -0.013732853243134002,
          -0.014141446757367948,
          -0.01421783692486489,
          -0.014417102779670898,
          -0.014779706503567747,
          -0.014806680573740905,
          -0.015014209641837195,
          -0.015100698935354373,
          -0.015233219504491746,
          -0.015638428059619347,
          -0.01574893452756876,
          -0.016152143533565866,
          -0.016539466205386155,
          -0.017490947914444055,
          -0.017862441913373495,
          -0.017889749801205168,
          -0.018389066595270842,
          -0.01846376071333311,
          -0.018583462416521312,
          -0.018673552100111568,
          -0.01882748100179843,
          -0.018978288493172846,
          -0.019064510565318882,
          -0.01912584657142813,
          -0.019399803519558834,
          -0.019846792923162937,
          -0.020212797168174035,
          -0.020348181540771115,
          -0.020642216909786626,
          -0.02065364379166068,
          -0.020855886533468704,
          -0.020918843767586237,
          -0.02093145645283201,
          -0.021194074033649146,
          -0.021206634194302687,
          -0.02127306075482549,
          -0.02128054947770175,
          -0.021588945607865284,
          -0.021625398271817975,
          -0.021694351907713738,
          -0.021727749204925484,
          -0.021814115754482888,
          -0.022179670500911186,
          -0.022333898516031736,
          -0.022973421998538024,
          -0.023003217879325577,
          -0.02350217783333708,
          -0.02384404093398751,
          -0.023875666585097877,
          -0.02392197809831753,
          -0.024080683841731787,
          -0.024229112027690736,
          -0.02431889511338481,
          -0.024362358741277013,
          -0.024457698079846768,
          -0.025189471933321217,
          -0.025270145662850574,
          -0.025380184012907536,
          -0.025649149835560214,
          -0.025796737541841752,
          -0.025863661592452347,
          -0.027223153987315563,
          -0.028067197273543898,
          -0.028998289846393188,
          -0.029158250057342627,
          -0.03214938069090412,
          -0.03242640654079043,
          -0.033326163996427516,
          -0.03446433691106976,
          -0.0345147400597976,
          -0.03454606357116696,
          -0.03467924190476013,
          -0.034855035240320964,
          -0.03498239647246271,
          -0.03551820944210671,
          -0.03553142367342388,
          -0.036616491178842914,
          -0.03768928988636988,
          -0.038060067973053835,
          -0.03937271776200513,
          -0.039395072874583104,
          -0.03964715055367163,
          -0.03968778713044052,
          -0.04076119554135216,
          -0.041193556638901896,
          -0.04128312328998074,
          -0.041373934305100946,
          -0.04216296890493543,
          -0.04354598439834079,
          -0.04380495940579188,
          -0.04518448145052889,
          -0.0465169970356718,
          -0.04673792069660365,
          -0.04828458098528654,
          -0.04837444001751279,
          -0.048459116716856765,
          -0.04976174872828887,
          -0.05031188421089827,
          -0.05437876230367067,
          -0.0649649157622465,
          -0.06529212985134825,
          -0.06788090869620733,
          -0.06823485511633898,
          -0.07050059294399058,
          -0.07409521408722441,
          -0.08609390014495188,
          -0.09115892714390283,
          -0.10214578770324678,
          -0.11654649468913758,
          -0.12342760474342929
         ],
         "xaxis": "x",
         "y": [
          0.0011961722488038277,
          0.0023923444976076554,
          0.0035885167464114833,
          0.004784688995215311,
          0.005980861244019139,
          0.007177033492822967,
          0.008373205741626795,
          0.009569377990430622,
          0.01076555023923445,
          0.011961722488038277,
          0.013157894736842105,
          0.014354066985645933,
          0.01555023923444976,
          0.01674641148325359,
          0.017942583732057416,
          0.019138755980861243,
          0.02033492822966507,
          0.0215311004784689,
          0.022727272727272728,
          0.023923444976076555,
          0.025119617224880382,
          0.02631578947368421,
          0.02751196172248804,
          0.028708133971291867,
          0.029904306220095694,
          0.03110047846889952,
          0.03229665071770335,
          0.03349282296650718,
          0.034688995215311005,
          0.03588516746411483,
          0.03708133971291866,
          0.03827751196172249,
          0.039473684210526314,
          0.04066985645933014,
          0.041866028708133975,
          0.0430622009569378,
          0.04425837320574163,
          0.045454545454545456,
          0.04665071770334928,
          0.04784688995215311,
          0.04904306220095694,
          0.050239234449760764,
          0.05143540669856459,
          0.05263157894736842,
          0.05382775119617225,
          0.05502392344497608,
          0.056220095693779906,
          0.05741626794258373,
          0.05861244019138756,
          0.05980861244019139,
          0.061004784688995214,
          0.06220095693779904,
          0.06339712918660287,
          0.0645933014354067,
          0.06578947368421052,
          0.06698564593301436,
          0.06818181818181818,
          0.06937799043062201,
          0.07057416267942583,
          0.07177033492822966,
          0.0729665071770335,
          0.07416267942583732,
          0.07535885167464115,
          0.07655502392344497,
          0.07775119617224881,
          0.07894736842105263,
          0.08014354066985646,
          0.08133971291866028,
          0.08253588516746412,
          0.08373205741626795,
          0.08492822966507177,
          0.0861244019138756,
          0.08732057416267942,
          0.08851674641148326,
          0.08971291866028708,
          0.09090909090909091,
          0.09210526315789473,
          0.09330143540669857,
          0.09449760765550239,
          0.09569377990430622,
          0.09688995215311005,
          0.09808612440191387,
          0.09928229665071771,
          0.10047846889952153,
          0.10167464114832536,
          0.10287081339712918,
          0.10406698564593302,
          0.10526315789473684,
          0.10645933014354067,
          0.1076555023923445,
          0.10885167464114832,
          0.11004784688995216,
          0.11124401913875598,
          0.11244019138755981,
          0.11363636363636363,
          0.11483253588516747,
          0.11602870813397129,
          0.11722488038277512,
          0.11842105263157894,
          0.11961722488038277,
          0.12081339712918661,
          0.12200956937799043,
          0.12320574162679426,
          0.12440191387559808,
          0.1255980861244019,
          0.12679425837320574,
          0.12799043062200957,
          0.1291866028708134,
          0.1303827751196172,
          0.13157894736842105,
          0.13277511961722488,
          0.1339712918660287,
          0.13516746411483255,
          0.13636363636363635,
          0.1375598086124402,
          0.13875598086124402,
          0.13995215311004786,
          0.14114832535885166,
          0.1423444976076555,
          0.14354066985645933,
          0.14473684210526316,
          0.145933014354067,
          0.1471291866028708,
          0.14832535885167464,
          0.14952153110047847,
          0.1507177033492823,
          0.1519138755980861,
          0.15311004784688995,
          0.15430622009569378,
          0.15550239234449761,
          0.15669856459330145,
          0.15789473684210525,
          0.1590909090909091,
          0.16028708133971292,
          0.16148325358851676,
          0.16267942583732056,
          0.1638755980861244,
          0.16507177033492823,
          0.16626794258373206,
          0.1674641148325359,
          0.1686602870813397,
          0.16985645933014354,
          0.17105263157894737,
          0.1722488038277512,
          0.173444976076555,
          0.17464114832535885,
          0.17583732057416268,
          0.17703349282296652,
          0.17822966507177032,
          0.17942583732057416,
          0.180622009569378,
          0.18181818181818182,
          0.18301435406698566,
          0.18421052631578946,
          0.1854066985645933,
          0.18660287081339713,
          0.18779904306220097,
          0.18899521531100477,
          0.1901913875598086,
          0.19138755980861244,
          0.19258373205741627,
          0.1937799043062201,
          0.19497607655502391,
          0.19617224880382775,
          0.19736842105263158,
          0.19856459330143542,
          0.19976076555023922,
          0.20095693779904306,
          0.2021531100478469,
          0.20334928229665072,
          0.20454545454545456,
          0.20574162679425836,
          0.2069377990430622,
          0.20813397129186603,
          0.20933014354066987,
          0.21052631578947367,
          0.2117224880382775,
          0.21291866028708134,
          0.21411483253588517,
          0.215311004784689,
          0.21650717703349281,
          0.21770334928229665,
          0.21889952153110048,
          0.22009569377990432,
          0.22129186602870812,
          0.22248803827751196,
          0.2236842105263158,
          0.22488038277511962,
          0.22607655502392343,
          0.22727272727272727,
          0.2284688995215311,
          0.22966507177033493,
          0.23086124401913877,
          0.23205741626794257,
          0.2332535885167464,
          0.23444976076555024,
          0.23564593301435408,
          0.23684210526315788,
          0.23803827751196172,
          0.23923444976076555,
          0.24043062200956938,
          0.24162679425837322,
          0.24282296650717702,
          0.24401913875598086,
          0.2452153110047847,
          0.24641148325358853,
          0.24760765550239233,
          0.24880382775119617,
          0.25,
          0.2511961722488038,
          0.25239234449760767,
          0.2535885167464115,
          0.25478468899521534,
          0.25598086124401914,
          0.25717703349282295,
          0.2583732057416268,
          0.2595693779904306,
          0.2607655502392344,
          0.2619617224880383,
          0.2631578947368421,
          0.26435406698564595,
          0.26555023923444976,
          0.26674641148325356,
          0.2679425837320574,
          0.26913875598086123,
          0.2703349282296651,
          0.2715311004784689,
          0.2727272727272727,
          0.27392344497607657,
          0.2751196172248804,
          0.27631578947368424,
          0.27751196172248804,
          0.27870813397129185,
          0.2799043062200957,
          0.2811004784688995,
          0.2822966507177033,
          0.2834928229665072,
          0.284688995215311,
          0.28588516746411485,
          0.28708133971291866,
          0.28827751196172247,
          0.2894736842105263,
          0.29066985645933013,
          0.291866028708134,
          0.2930622009569378,
          0.2942583732057416,
          0.29545454545454547,
          0.2966507177033493,
          0.29784688995215314,
          0.29904306220095694,
          0.30023923444976075,
          0.3014354066985646,
          0.3026315789473684,
          0.3038277511961722,
          0.3050239234449761,
          0.3062200956937799,
          0.30741626794258375,
          0.30861244019138756,
          0.30980861244019137,
          0.31100478468899523,
          0.31220095693779903,
          0.3133971291866029,
          0.3145933014354067,
          0.3157894736842105,
          0.31698564593301437,
          0.3181818181818182,
          0.319377990430622,
          0.32057416267942584,
          0.32177033492822965,
          0.3229665071770335,
          0.3241626794258373,
          0.3253588516746411,
          0.326555023923445,
          0.3277511961722488,
          0.32894736842105265,
          0.33014354066985646,
          0.33133971291866027,
          0.33253588516746413,
          0.33373205741626794,
          0.3349282296650718,
          0.3361244019138756,
          0.3373205741626794,
          0.33851674641148327,
          0.3397129186602871,
          0.3409090909090909,
          0.34210526315789475,
          0.34330143540669855,
          0.3444976076555024,
          0.3456937799043062,
          0.34688995215311,
          0.3480861244019139,
          0.3492822966507177,
          0.35047846889952156,
          0.35167464114832536,
          0.35287081339712917,
          0.35406698564593303,
          0.35526315789473684,
          0.35645933014354064,
          0.3576555023923445,
          0.3588516746411483,
          0.36004784688995217,
          0.361244019138756,
          0.3624401913875598,
          0.36363636363636365,
          0.36483253588516745,
          0.3660287081339713,
          0.3672248803827751,
          0.3684210526315789,
          0.3696172248803828,
          0.3708133971291866,
          0.37200956937799046,
          0.37320574162679426,
          0.37440191387559807,
          0.37559808612440193,
          0.37679425837320574,
          0.37799043062200954,
          0.3791866028708134,
          0.3803827751196172,
          0.3815789473684211,
          0.3827751196172249,
          0.3839712918660287,
          0.38516746411483255,
          0.38636363636363635,
          0.3875598086124402,
          0.388755980861244,
          0.38995215311004783,
          0.3911483253588517,
          0.3923444976076555,
          0.39354066985645936,
          0.39473684210526316,
          0.39593301435406697,
          0.39712918660287083,
          0.39832535885167464,
          0.39952153110047844,
          0.4007177033492823,
          0.4019138755980861,
          0.40311004784689,
          0.4043062200956938,
          0.4055023923444976,
          0.40669856459330145,
          0.40789473684210525,
          0.4090909090909091,
          0.4102870813397129,
          0.41148325358851673,
          0.4126794258373206,
          0.4138755980861244,
          0.4150717703349282,
          0.41626794258373206,
          0.41746411483253587,
          0.41866028708133973,
          0.41985645933014354,
          0.42105263157894735,
          0.4222488038277512,
          0.423444976076555,
          0.4246411483253589,
          0.4258373205741627,
          0.4270334928229665,
          0.42822966507177035,
          0.42942583732057416,
          0.430622009569378,
          0.4318181818181818,
          0.43301435406698563,
          0.4342105263157895,
          0.4354066985645933,
          0.4366028708133971,
          0.43779904306220097,
          0.43899521531100477,
          0.44019138755980863,
          0.44138755980861244,
          0.44258373205741625,
          0.4437799043062201,
          0.4449760765550239,
          0.4461722488038278,
          0.4473684210526316,
          0.4485645933014354,
          0.44976076555023925,
          0.45095693779904306,
          0.45215311004784686,
          0.4533492822966507,
          0.45454545454545453,
          0.4557416267942584,
          0.4569377990430622,
          0.458133971291866,
          0.45933014354066987,
          0.4605263157894737,
          0.46172248803827753,
          0.46291866028708134,
          0.46411483253588515,
          0.465311004784689,
          0.4665071770334928,
          0.4677033492822967,
          0.4688995215311005,
          0.4700956937799043,
          0.47129186602870815,
          0.47248803827751196,
          0.47368421052631576,
          0.4748803827751196,
          0.47607655502392343,
          0.4772727272727273,
          0.4784688995215311,
          0.4796650717703349,
          0.48086124401913877,
          0.4820574162679426,
          0.48325358851674644,
          0.48444976076555024,
          0.48564593301435405,
          0.4868421052631579,
          0.4880382775119617,
          0.4892344497607656,
          0.4904306220095694,
          0.4916267942583732,
          0.49282296650717705,
          0.49401913875598086,
          0.49521531100478466,
          0.4964114832535885,
          0.49760765550239233,
          0.4988038277511962,
          0.5,
          0.5011961722488039,
          0.5023923444976076,
          0.5035885167464115,
          0.5047846889952153,
          0.5059808612440191,
          0.507177033492823,
          0.5083732057416268,
          0.5095693779904307,
          0.5107655502392344,
          0.5119617224880383,
          0.5131578947368421,
          0.5143540669856459,
          0.5155502392344498,
          0.5167464114832536,
          0.5179425837320574,
          0.5191387559808612,
          0.5203349282296651,
          0.5215311004784688,
          0.5227272727272727,
          0.5239234449760766,
          0.5251196172248804,
          0.5263157894736842,
          0.527511961722488,
          0.5287081339712919,
          0.5299043062200957,
          0.5311004784688995,
          0.5322966507177034,
          0.5334928229665071,
          0.534688995215311,
          0.5358851674641149,
          0.5370813397129187,
          0.5382775119617225,
          0.5394736842105263,
          0.5406698564593302,
          0.5418660287081339,
          0.5430622009569378,
          0.5442583732057417,
          0.5454545454545454,
          0.5466507177033493,
          0.5478468899521531,
          0.5490430622009569,
          0.5502392344497608,
          0.5514354066985646,
          0.5526315789473685,
          0.5538277511961722,
          0.5550239234449761,
          0.55622009569378,
          0.5574162679425837,
          0.5586124401913876,
          0.5598086124401914,
          0.5610047846889952,
          0.562200956937799,
          0.5633971291866029,
          0.5645933014354066,
          0.5657894736842105,
          0.5669856459330144,
          0.5681818181818182,
          0.569377990430622,
          0.5705741626794258,
          0.5717703349282297,
          0.5729665071770335,
          0.5741626794258373,
          0.5753588516746412,
          0.5765550239234449,
          0.5777511961722488,
          0.5789473684210527,
          0.5801435406698564,
          0.5813397129186603,
          0.5825358851674641,
          0.583732057416268,
          0.5849282296650717,
          0.5861244019138756,
          0.5873205741626795,
          0.5885167464114832,
          0.5897129186602871,
          0.5909090909090909,
          0.5921052631578947,
          0.5933014354066986,
          0.5944976076555024,
          0.5956937799043063,
          0.59688995215311,
          0.5980861244019139,
          0.5992822966507177,
          0.6004784688995215,
          0.6016746411483254,
          0.6028708133971292,
          0.604066985645933,
          0.6052631578947368,
          0.6064593301435407,
          0.6076555023923444,
          0.6088516746411483,
          0.6100478468899522,
          0.611244019138756,
          0.6124401913875598,
          0.6136363636363636,
          0.6148325358851675,
          0.6160287081339713,
          0.6172248803827751,
          0.618421052631579,
          0.6196172248803827,
          0.6208133971291866,
          0.6220095693779905,
          0.6232057416267942,
          0.6244019138755981,
          0.6255980861244019,
          0.6267942583732058,
          0.6279904306220095,
          0.6291866028708134,
          0.6303827751196173,
          0.631578947368421,
          0.6327751196172249,
          0.6339712918660287,
          0.6351674641148325,
          0.6363636363636364,
          0.6375598086124402,
          0.638755980861244,
          0.6399521531100478,
          0.6411483253588517,
          0.6423444976076556,
          0.6435406698564593,
          0.6447368421052632,
          0.645933014354067,
          0.6471291866028708,
          0.6483253588516746,
          0.6495215311004785,
          0.6507177033492823,
          0.6519138755980861,
          0.65311004784689,
          0.6543062200956937,
          0.6555023923444976,
          0.6566985645933014,
          0.6578947368421053,
          0.6590909090909091,
          0.6602870813397129,
          0.6614832535885168,
          0.6626794258373205,
          0.6638755980861244,
          0.6650717703349283,
          0.666267942583732,
          0.6674641148325359,
          0.6686602870813397,
          0.6698564593301436,
          0.6710526315789473,
          0.6722488038277512,
          0.6734449760765551,
          0.6746411483253588,
          0.6758373205741627,
          0.6770334928229665,
          0.6782296650717703,
          0.6794258373205742,
          0.680622009569378,
          0.6818181818181818,
          0.6830143540669856,
          0.6842105263157895,
          0.6854066985645934,
          0.6866028708133971,
          0.687799043062201,
          0.6889952153110048,
          0.6901913875598086,
          0.6913875598086124,
          0.6925837320574163,
          0.69377990430622,
          0.6949760765550239,
          0.6961722488038278,
          0.6973684210526315,
          0.6985645933014354,
          0.6997607655502392,
          0.7009569377990431,
          0.7021531100478469,
          0.7033492822966507,
          0.7045454545454546,
          0.7057416267942583,
          0.7069377990430622,
          0.7081339712918661,
          0.7093301435406698,
          0.7105263157894737,
          0.7117224880382775,
          0.7129186602870813,
          0.7141148325358851,
          0.715311004784689,
          0.7165071770334929,
          0.7177033492822966,
          0.7188995215311005,
          0.7200956937799043,
          0.7212918660287081,
          0.722488038277512,
          0.7236842105263158,
          0.7248803827751196,
          0.7260765550239234,
          0.7272727272727273,
          0.7284688995215312,
          0.7296650717703349,
          0.7308612440191388,
          0.7320574162679426,
          0.7332535885167464,
          0.7344497607655502,
          0.7356459330143541,
          0.7368421052631579,
          0.7380382775119617,
          0.7392344497607656,
          0.7404306220095693,
          0.7416267942583732,
          0.742822966507177,
          0.7440191387559809,
          0.7452153110047847,
          0.7464114832535885,
          0.7476076555023924,
          0.7488038277511961,
          0.75,
          0.7511961722488039,
          0.7523923444976076,
          0.7535885167464115,
          0.7547846889952153,
          0.7559808612440191,
          0.757177033492823,
          0.7583732057416268,
          0.7595693779904307,
          0.7607655502392344,
          0.7619617224880383,
          0.7631578947368421,
          0.7643540669856459,
          0.7655502392344498,
          0.7667464114832536,
          0.7679425837320574,
          0.7691387559808612,
          0.7703349282296651,
          0.7715311004784688,
          0.7727272727272727,
          0.7739234449760766,
          0.7751196172248804,
          0.7763157894736842,
          0.777511961722488,
          0.7787081339712919,
          0.7799043062200957,
          0.7811004784688995,
          0.7822966507177034,
          0.7834928229665071,
          0.784688995215311,
          0.7858851674641149,
          0.7870813397129187,
          0.7882775119617225,
          0.7894736842105263,
          0.7906698564593302,
          0.7918660287081339,
          0.7930622009569378,
          0.7942583732057417,
          0.7954545454545454,
          0.7966507177033493,
          0.7978468899521531,
          0.7990430622009569,
          0.8002392344497608,
          0.8014354066985646,
          0.8026315789473685,
          0.8038277511961722,
          0.8050239234449761,
          0.80622009569378,
          0.8074162679425837,
          0.8086124401913876,
          0.8098086124401914,
          0.8110047846889952,
          0.812200956937799,
          0.8133971291866029,
          0.8145933014354066,
          0.8157894736842105,
          0.8169856459330144,
          0.8181818181818182,
          0.819377990430622,
          0.8205741626794258,
          0.8217703349282297,
          0.8229665071770335,
          0.8241626794258373,
          0.8253588516746412,
          0.8265550239234449,
          0.8277511961722488,
          0.8289473684210527,
          0.8301435406698564,
          0.8313397129186603,
          0.8325358851674641,
          0.833732057416268,
          0.8349282296650717,
          0.8361244019138756,
          0.8373205741626795,
          0.8385167464114832,
          0.8397129186602871,
          0.8409090909090909,
          0.8421052631578947,
          0.8433014354066986,
          0.8444976076555024,
          0.8456937799043063,
          0.84688995215311,
          0.8480861244019139,
          0.8492822966507177,
          0.8504784688995215,
          0.8516746411483254,
          0.8528708133971292,
          0.854066985645933,
          0.8552631578947368,
          0.8564593301435407,
          0.8576555023923444,
          0.8588516746411483,
          0.8600478468899522,
          0.861244019138756,
          0.8624401913875598,
          0.8636363636363636,
          0.8648325358851675,
          0.8660287081339713,
          0.8672248803827751,
          0.868421052631579,
          0.8696172248803827,
          0.8708133971291866,
          0.8720095693779905,
          0.8732057416267942,
          0.8744019138755981,
          0.8755980861244019,
          0.8767942583732058,
          0.8779904306220095,
          0.8791866028708134,
          0.8803827751196173,
          0.881578947368421,
          0.8827751196172249,
          0.8839712918660287,
          0.8851674641148325,
          0.8863636363636364,
          0.8875598086124402,
          0.888755980861244,
          0.8899521531100478,
          0.8911483253588517,
          0.8923444976076556,
          0.8935406698564593,
          0.8947368421052632,
          0.895933014354067,
          0.8971291866028708,
          0.8983253588516746,
          0.8995215311004785,
          0.9007177033492823,
          0.9019138755980861,
          0.90311004784689,
          0.9043062200956937,
          0.9055023923444976,
          0.9066985645933014,
          0.9078947368421053,
          0.9090909090909091,
          0.9102870813397129,
          0.9114832535885168,
          0.9126794258373205,
          0.9138755980861244,
          0.9150717703349283,
          0.916267942583732,
          0.9174641148325359,
          0.9186602870813397,
          0.9198564593301436,
          0.9210526315789473,
          0.9222488038277512,
          0.9234449760765551,
          0.9246411483253588,
          0.9258373205741627,
          0.9270334928229665,
          0.9282296650717703,
          0.9294258373205742,
          0.930622009569378,
          0.9318181818181818,
          0.9330143540669856,
          0.9342105263157895,
          0.9354066985645934,
          0.9366028708133971,
          0.937799043062201,
          0.9389952153110048,
          0.9401913875598086,
          0.9413875598086124,
          0.9425837320574163,
          0.94377990430622,
          0.9449760765550239,
          0.9461722488038278,
          0.9473684210526315,
          0.9485645933014354,
          0.9497607655502392,
          0.9509569377990431,
          0.9521531100478469,
          0.9533492822966507,
          0.9545454545454546,
          0.9557416267942583,
          0.9569377990430622,
          0.9581339712918661,
          0.9593301435406698,
          0.9605263157894737,
          0.9617224880382775,
          0.9629186602870813,
          0.9641148325358851,
          0.965311004784689,
          0.9665071770334929,
          0.9677033492822966,
          0.9688995215311005,
          0.9700956937799043,
          0.9712918660287081,
          0.972488038277512,
          0.9736842105263158,
          0.9748803827751196,
          0.9760765550239234,
          0.9772727272727273,
          0.9784688995215312,
          0.9796650717703349,
          0.9808612440191388,
          0.9820574162679426,
          0.9832535885167464,
          0.9844497607655502,
          0.9856459330143541,
          0.9868421052631579,
          0.9880382775119617,
          0.9892344497607656,
          0.9904306220095693,
          0.9916267942583732,
          0.992822966507177,
          0.9940191387559809,
          0.9952153110047847,
          0.9964114832535885,
          0.9976076555023924,
          0.9988038277511961,
          1
         ],
         "yaxis": "y"
        }
       ],
       "layout": {
        "legend": {
         "tracegroupgap": 0
        },
        "margin": {
         "t": 60
        },
        "template": {
         "data": {
          "bar": [
           {
            "error_x": {
             "color": "#2a3f5f"
            },
            "error_y": {
             "color": "#2a3f5f"
            },
            "marker": {
             "line": {
              "color": "#E5ECF6",
              "width": 0.5
             },
             "pattern": {
              "fillmode": "overlay",
              "size": 10,
              "solidity": 0.2
             }
            },
            "type": "bar"
           }
          ],
          "barpolar": [
           {
            "marker": {
             "line": {
              "color": "#E5ECF6",
              "width": 0.5
             },
             "pattern": {
              "fillmode": "overlay",
              "size": 10,
              "solidity": 0.2
             }
            },
            "type": "barpolar"
           }
          ],
          "carpet": [
           {
            "aaxis": {
             "endlinecolor": "#2a3f5f",
             "gridcolor": "white",
             "linecolor": "white",
             "minorgridcolor": "white",
             "startlinecolor": "#2a3f5f"
            },
            "baxis": {
             "endlinecolor": "#2a3f5f",
             "gridcolor": "white",
             "linecolor": "white",
             "minorgridcolor": "white",
             "startlinecolor": "#2a3f5f"
            },
            "type": "carpet"
           }
          ],
          "choropleth": [
           {
            "colorbar": {
             "outlinewidth": 0,
             "ticks": ""
            },
            "type": "choropleth"
           }
          ],
          "contour": [
           {
            "colorbar": {
             "outlinewidth": 0,
             "ticks": ""
            },
            "colorscale": [
             [
              0,
              "#0d0887"
             ],
             [
              0.1111111111111111,
              "#46039f"
             ],
             [
              0.2222222222222222,
              "#7201a8"
             ],
             [
              0.3333333333333333,
              "#9c179e"
             ],
             [
              0.4444444444444444,
              "#bd3786"
             ],
             [
              0.5555555555555556,
              "#d8576b"
             ],
             [
              0.6666666666666666,
              "#ed7953"
             ],
             [
              0.7777777777777778,
              "#fb9f3a"
             ],
             [
              0.8888888888888888,
              "#fdca26"
             ],
             [
              1,
              "#f0f921"
             ]
            ],
            "type": "contour"
           }
          ],
          "contourcarpet": [
           {
            "colorbar": {
             "outlinewidth": 0,
             "ticks": ""
            },
            "type": "contourcarpet"
           }
          ],
          "heatmap": [
           {
            "colorbar": {
             "outlinewidth": 0,
             "ticks": ""
            },
            "colorscale": [
             [
              0,
              "#0d0887"
             ],
             [
              0.1111111111111111,
              "#46039f"
             ],
             [
              0.2222222222222222,
              "#7201a8"
             ],
             [
              0.3333333333333333,
              "#9c179e"
             ],
             [
              0.4444444444444444,
              "#bd3786"
             ],
             [
              0.5555555555555556,
              "#d8576b"
             ],
             [
              0.6666666666666666,
              "#ed7953"
             ],
             [
              0.7777777777777778,
              "#fb9f3a"
             ],
             [
              0.8888888888888888,
              "#fdca26"
             ],
             [
              1,
              "#f0f921"
             ]
            ],
            "type": "heatmap"
           }
          ],
          "heatmapgl": [
           {
            "colorbar": {
             "outlinewidth": 0,
             "ticks": ""
            },
            "colorscale": [
             [
              0,
              "#0d0887"
             ],
             [
              0.1111111111111111,
              "#46039f"
             ],
             [
              0.2222222222222222,
              "#7201a8"
             ],
             [
              0.3333333333333333,
              "#9c179e"
             ],
             [
              0.4444444444444444,
              "#bd3786"
             ],
             [
              0.5555555555555556,
              "#d8576b"
             ],
             [
              0.6666666666666666,
              "#ed7953"
             ],
             [
              0.7777777777777778,
              "#fb9f3a"
             ],
             [
              0.8888888888888888,
              "#fdca26"
             ],
             [
              1,
              "#f0f921"
             ]
            ],
            "type": "heatmapgl"
           }
          ],
          "histogram": [
           {
            "marker": {
             "pattern": {
              "fillmode": "overlay",
              "size": 10,
              "solidity": 0.2
             }
            },
            "type": "histogram"
           }
          ],
          "histogram2d": [
           {
            "colorbar": {
             "outlinewidth": 0,
             "ticks": ""
            },
            "colorscale": [
             [
              0,
              "#0d0887"
             ],
             [
              0.1111111111111111,
              "#46039f"
             ],
             [
              0.2222222222222222,
              "#7201a8"
             ],
             [
              0.3333333333333333,
              "#9c179e"
             ],
             [
              0.4444444444444444,
              "#bd3786"
             ],
             [
              0.5555555555555556,
              "#d8576b"
             ],
             [
              0.6666666666666666,
              "#ed7953"
             ],
             [
              0.7777777777777778,
              "#fb9f3a"
             ],
             [
              0.8888888888888888,
              "#fdca26"
             ],
             [
              1,
              "#f0f921"
             ]
            ],
            "type": "histogram2d"
           }
          ],
          "histogram2dcontour": [
           {
            "colorbar": {
             "outlinewidth": 0,
             "ticks": ""
            },
            "colorscale": [
             [
              0,
              "#0d0887"
             ],
             [
              0.1111111111111111,
              "#46039f"
             ],
             [
              0.2222222222222222,
              "#7201a8"
             ],
             [
              0.3333333333333333,
              "#9c179e"
             ],
             [
              0.4444444444444444,
              "#bd3786"
             ],
             [
              0.5555555555555556,
              "#d8576b"
             ],
             [
              0.6666666666666666,
              "#ed7953"
             ],
             [
              0.7777777777777778,
              "#fb9f3a"
             ],
             [
              0.8888888888888888,
              "#fdca26"
             ],
             [
              1,
              "#f0f921"
             ]
            ],
            "type": "histogram2dcontour"
           }
          ],
          "mesh3d": [
           {
            "colorbar": {
             "outlinewidth": 0,
             "ticks": ""
            },
            "type": "mesh3d"
           }
          ],
          "parcoords": [
           {
            "line": {
             "colorbar": {
              "outlinewidth": 0,
              "ticks": ""
             }
            },
            "type": "parcoords"
           }
          ],
          "pie": [
           {
            "automargin": true,
            "type": "pie"
           }
          ],
          "scatter": [
           {
            "fillpattern": {
             "fillmode": "overlay",
             "size": 10,
             "solidity": 0.2
            },
            "type": "scatter"
           }
          ],
          "scatter3d": [
           {
            "line": {
             "colorbar": {
              "outlinewidth": 0,
              "ticks": ""
             }
            },
            "marker": {
             "colorbar": {
              "outlinewidth": 0,
              "ticks": ""
             }
            },
            "type": "scatter3d"
           }
          ],
          "scattercarpet": [
           {
            "marker": {
             "colorbar": {
              "outlinewidth": 0,
              "ticks": ""
             }
            },
            "type": "scattercarpet"
           }
          ],
          "scattergeo": [
           {
            "marker": {
             "colorbar": {
              "outlinewidth": 0,
              "ticks": ""
             }
            },
            "type": "scattergeo"
           }
          ],
          "scattergl": [
           {
            "marker": {
             "colorbar": {
              "outlinewidth": 0,
              "ticks": ""
             }
            },
            "type": "scattergl"
           }
          ],
          "scattermapbox": [
           {
            "marker": {
             "colorbar": {
              "outlinewidth": 0,
              "ticks": ""
             }
            },
            "type": "scattermapbox"
           }
          ],
          "scatterpolar": [
           {
            "marker": {
             "colorbar": {
              "outlinewidth": 0,
              "ticks": ""
             }
            },
            "type": "scatterpolar"
           }
          ],
          "scatterpolargl": [
           {
            "marker": {
             "colorbar": {
              "outlinewidth": 0,
              "ticks": ""
             }
            },
            "type": "scatterpolargl"
           }
          ],
          "scatterternary": [
           {
            "marker": {
             "colorbar": {
              "outlinewidth": 0,
              "ticks": ""
             }
            },
            "type": "scatterternary"
           }
          ],
          "surface": [
           {
            "colorbar": {
             "outlinewidth": 0,
             "ticks": ""
            },
            "colorscale": [
             [
              0,
              "#0d0887"
             ],
             [
              0.1111111111111111,
              "#46039f"
             ],
             [
              0.2222222222222222,
              "#7201a8"
             ],
             [
              0.3333333333333333,
              "#9c179e"
             ],
             [
              0.4444444444444444,
              "#bd3786"
             ],
             [
              0.5555555555555556,
              "#d8576b"
             ],
             [
              0.6666666666666666,
              "#ed7953"
             ],
             [
              0.7777777777777778,
              "#fb9f3a"
             ],
             [
              0.8888888888888888,
              "#fdca26"
             ],
             [
              1,
              "#f0f921"
             ]
            ],
            "type": "surface"
           }
          ],
          "table": [
           {
            "cells": {
             "fill": {
              "color": "#EBF0F8"
             },
             "line": {
              "color": "white"
             }
            },
            "header": {
             "fill": {
              "color": "#C8D4E3"
             },
             "line": {
              "color": "white"
             }
            },
            "type": "table"
           }
          ]
         },
         "layout": {
          "annotationdefaults": {
           "arrowcolor": "#2a3f5f",
           "arrowhead": 0,
           "arrowwidth": 1
          },
          "autotypenumbers": "strict",
          "coloraxis": {
           "colorbar": {
            "outlinewidth": 0,
            "ticks": ""
           }
          },
          "colorscale": {
           "diverging": [
            [
             0,
             "#8e0152"
            ],
            [
             0.1,
             "#c51b7d"
            ],
            [
             0.2,
             "#de77ae"
            ],
            [
             0.3,
             "#f1b6da"
            ],
            [
             0.4,
             "#fde0ef"
            ],
            [
             0.5,
             "#f7f7f7"
            ],
            [
             0.6,
             "#e6f5d0"
            ],
            [
             0.7,
             "#b8e186"
            ],
            [
             0.8,
             "#7fbc41"
            ],
            [
             0.9,
             "#4d9221"
            ],
            [
             1,
             "#276419"
            ]
           ],
           "sequential": [
            [
             0,
             "#0d0887"
            ],
            [
             0.1111111111111111,
             "#46039f"
            ],
            [
             0.2222222222222222,
             "#7201a8"
            ],
            [
             0.3333333333333333,
             "#9c179e"
            ],
            [
             0.4444444444444444,
             "#bd3786"
            ],
            [
             0.5555555555555556,
             "#d8576b"
            ],
            [
             0.6666666666666666,
             "#ed7953"
            ],
            [
             0.7777777777777778,
             "#fb9f3a"
            ],
            [
             0.8888888888888888,
             "#fdca26"
            ],
            [
             1,
             "#f0f921"
            ]
           ],
           "sequentialminus": [
            [
             0,
             "#0d0887"
            ],
            [
             0.1111111111111111,
             "#46039f"
            ],
            [
             0.2222222222222222,
             "#7201a8"
            ],
            [
             0.3333333333333333,
             "#9c179e"
            ],
            [
             0.4444444444444444,
             "#bd3786"
            ],
            [
             0.5555555555555556,
             "#d8576b"
            ],
            [
             0.6666666666666666,
             "#ed7953"
            ],
            [
             0.7777777777777778,
             "#fb9f3a"
            ],
            [
             0.8888888888888888,
             "#fdca26"
            ],
            [
             1,
             "#f0f921"
            ]
           ]
          },
          "colorway": [
           "#636efa",
           "#EF553B",
           "#00cc96",
           "#ab63fa",
           "#FFA15A",
           "#19d3f3",
           "#FF6692",
           "#B6E880",
           "#FF97FF",
           "#FECB52"
          ],
          "font": {
           "color": "#2a3f5f"
          },
          "geo": {
           "bgcolor": "white",
           "lakecolor": "white",
           "landcolor": "#E5ECF6",
           "showlakes": true,
           "showland": true,
           "subunitcolor": "white"
          },
          "hoverlabel": {
           "align": "left"
          },
          "hovermode": "closest",
          "mapbox": {
           "style": "light"
          },
          "paper_bgcolor": "white",
          "plot_bgcolor": "#E5ECF6",
          "polar": {
           "angularaxis": {
            "gridcolor": "white",
            "linecolor": "white",
            "ticks": ""
           },
           "bgcolor": "#E5ECF6",
           "radialaxis": {
            "gridcolor": "white",
            "linecolor": "white",
            "ticks": ""
           }
          },
          "scene": {
           "xaxis": {
            "backgroundcolor": "#E5ECF6",
            "gridcolor": "white",
            "gridwidth": 2,
            "linecolor": "white",
            "showbackground": true,
            "ticks": "",
            "zerolinecolor": "white"
           },
           "yaxis": {
            "backgroundcolor": "#E5ECF6",
            "gridcolor": "white",
            "gridwidth": 2,
            "linecolor": "white",
            "showbackground": true,
            "ticks": "",
            "zerolinecolor": "white"
           },
           "zaxis": {
            "backgroundcolor": "#E5ECF6",
            "gridcolor": "white",
            "gridwidth": 2,
            "linecolor": "white",
            "showbackground": true,
            "ticks": "",
            "zerolinecolor": "white"
           }
          },
          "shapedefaults": {
           "line": {
            "color": "#2a3f5f"
           }
          },
          "ternary": {
           "aaxis": {
            "gridcolor": "white",
            "linecolor": "white",
            "ticks": ""
           },
           "baxis": {
            "gridcolor": "white",
            "linecolor": "white",
            "ticks": ""
           },
           "bgcolor": "#E5ECF6",
           "caxis": {
            "gridcolor": "white",
            "linecolor": "white",
            "ticks": ""
           }
          },
          "title": {
           "x": 0.05
          },
          "xaxis": {
           "automargin": true,
           "gridcolor": "white",
           "linecolor": "white",
           "ticks": "",
           "title": {
            "standoff": 15
           },
           "zerolinecolor": "white",
           "zerolinewidth": 2
          },
          "yaxis": {
           "automargin": true,
           "gridcolor": "white",
           "linecolor": "white",
           "ticks": "",
           "title": {
            "standoff": 15
           },
           "zerolinecolor": "white",
           "zerolinewidth": 2
          }
         }
        },
        "xaxis": {
         "anchor": "y",
         "domain": [
          0,
          1
         ],
         "title": {
          "text": "nll_diff"
         }
        },
        "yaxis": {
         "anchor": "x",
         "domain": [
          0,
          1
         ],
         "title": {
          "text": "bin_proportion"
         }
        }
       }
      },
      "text/html": [
       "<div>                            <div id=\"a504d4dd-babd-4d85-a6b9-520a1f22ff55\" class=\"plotly-graph-div\" style=\"height:525px; width:100%;\"></div>            <script type=\"text/javascript\">                require([\"plotly\"], function(Plotly) {                    window.PLOTLYENV=window.PLOTLYENV || {};                                    if (document.getElementById(\"a504d4dd-babd-4d85-a6b9-520a1f22ff55\")) {                    Plotly.newPlot(                        \"a504d4dd-babd-4d85-a6b9-520a1f22ff55\",                        [{\"hovertemplate\":\"nll_diff=%{x}\\u003cbr\\u003ebin_proportion=%{y}\\u003cextra\\u003e\\u003c\\u002fextra\\u003e\",\"legendgroup\":\"\",\"line\":{\"color\":\"#636efa\",\"dash\":\"solid\"},\"marker\":{\"symbol\":\"circle\"},\"mode\":\"lines\",\"name\":\"\",\"orientation\":\"v\",\"showlegend\":false,\"x\":[0.33057384706080706,0.2186548848014025,0.21574447332922997,0.2118301390464441,0.2113379962394315,0.17104722840828823,0.16647409332124674,0.16554676309408412,0.16044529644238015,0.1582772410542428,0.14638799546838044,0.14397515416709816,0.141261222720942,0.12795096908301984,0.12253467104125426,0.12213549743893948,0.11055890163061854,0.0975976766429385,0.09165815834472957,0.08576926688157882,0.08564711826173443,0.0834071612905476,0.08109278933300157,0.07918031298969153,0.07902876959748562,0.07762130687370883,0.07482525213629199,0.07421626303881279,0.07246268758717767,0.07193400706599129,0.07186258457494699,0.0693957204888358,0.0680700006765449,0.06790106361645276,0.06740346948904463,0.06596170425741121,0.06577770295614638,0.06461919104794445,0.0646108545238524,0.06416040369476206,0.06370851366310659,0.06332349384356739,0.06293315950620892,0.06201481875411319,0.06200445227909945,0.061641262617244674,0.06147030428179323,0.05924047115085518,0.05893282697621305,0.058626158470775236,0.05852722847838243,0.05784259134360625,0.05556171034711843,0.05487984151127012,0.05482963593958967,0.054312755895233655,0.05347055354204944,0.05341838967907053,0.05332478570501564,0.052751833719932195,0.05274262482752334,0.05183939364547063,0.05173572988261799,0.05099768119565762,0.050510521852717094,0.050484225348313094,0.05031963469478562,0.05015592946722092,0.04987365682802847,0.04929245461581089,0.04856131858528112,0.048254127942229275,0.04815690336133671,0.04790974832462913,0.047894308242525385,0.046887763395551785,0.04684189352293644,0.04675922665832788,0.0467109844905047,0.04598381709484478,0.04588108769730148,0.04551266028834133,0.04511475931610498,0.04365614069288504,0.043566977629877934,0.0434969139823409,0.043412821584798866,0.04339683187392995,0.04332095625958443,0.043220964984235,0.04312420484774693,0.043090278297179485,0.04259674354920473,0.042251754444091016,0.04174057592016145,0.04133669030025855,0.04095828931089529,0.0409392916228517,0.04090021246768294,0.040879480298554816,0.04071597226745971,0.04051293391331279,0.040265124217554904,0.03931342450068054,0.03921373292176478,0.03841006619834564,0.03740143551970432,0.036998138250593726,0.03673158724443781,0.03666735915994379,0.03661227771849651,0.03649306957894205,0.03642172545069888,0.036330232223438674,0.036244917556671474,0.03588810724858593,0.035537761379345056,0.03530273277915841,0.03482942471064043,0.034737706745822994,0.03467795533452356,0.03456437211224417,0.03444254373352673,0.03410691939387278,0.03403483657959783,0.03368401225252726,0.03352460763794107,0.033200963778245995,0.03314189954928537,0.0330501269886283,0.03259297334053146,0.032576752234631856,0.03248639123890351,0.03247522366634392,0.03237052604466095,0.0323524266212869,0.032045531262546056,0.032045432888693215,0.031888056995500236,0.03185842773664249,0.031719121850265264,0.03152521861197455,0.03147106713465897,0.03130917040067205,0.03129032007813182,0.031116008079325352,0.030949210190826193,0.030902833048646716,0.03075352730162728,0.030631074627348598,0.03053084328737432,0.030299338408192877,0.03017003517365735,0.029855575534560863,0.029535472285042275,0.029160256669088724,0.0291425312886453,0.029108645734658545,0.029059116132831964,0.02900492787871034,0.02898295385759253,0.028626950447590227,0.028224393367850542,0.027609578663698953,0.02712063520660024,0.02703312058672669,0.026952623778519813,0.02689391771002858,0.026814733217999542,0.02665547954416292,0.02640923893048419,0.026290180865333523,0.026239886448716332,0.026152180698936878,0.02613599539707434,0.025873471073737386,0.025834862843780337,0.02551078555644204,0.02545024304667698,0.025191337626197408,0.02511612420025977,0.02491537380395359,0.02490708051779289,0.02440741605210134,0.024368011498236974,0.02367144209235894,0.02354629711455103,0.02341849798133966,0.022561846677096487,0.02246190929749936,0.022316002955938385,0.022251696569087542,0.021763365896083853,0.021654640436289396,0.021551996949032093,0.021060888802271638,0.021028410031791678,0.020577670267255987,0.020433063954643726,0.02004564882590487,0.019917083523693146,0.01981382635111406,0.019746917164598754,0.019689181281106638,0.018804293186550636,0.018548598900456126,0.018544608676860808,0.01852410553457373,0.018418829116032764,0.01817554884690531,0.018171692121209393,0.018128225098493544,0.01809292607323365,0.01759308809456861,0.01721605771586987,0.017214130872481803,0.017118332768329303,0.017108807229644807,0.017049717707292134,0.017028141913041694,0.016920553106002822,0.016761568188927822,0.016684789984467208,0.016619147384693167,0.01612761902205695,0.016036882994041823,0.015960283520751517,0.015939116780420592,0.01574379201759646,0.015661043328644375,0.01563820790519288,0.015626573067949012,0.015558898665795295,0.015512041198283866,0.015428595052885408,0.015231236973100915,0.015219509554738886,0.015082671448722884,0.01507124398331472,0.01503099489442511,0.01500607402542653,0.014854571586217613,0.014844519261975275,0.014748110847393248,0.014674369240015528,0.01465217154835119,0.014290834896094173,0.014289408735457143,0.014267567626720323,0.014230415326327073,0.014089261756881521,0.013888222613670342,0.013744564140950377,0.01340873465057979,0.013289311867704878,0.013264413992119195,0.013186964680086621,0.013128859904459222,0.0128143066347699,0.012748985659712386,0.012698880718360561,0.012676452270282912,0.012224469365289536,0.01216212224263602,0.012157409782306394,0.012102732851169029,0.012049418337475526,0.012021976306106463,0.012012551637456514,0.011860723603683176,0.011834431936162293,0.011801292582855227,0.011779638985362939,0.011744929346044763,0.011590178315130095,0.011587825665598683,0.011559777916718028,0.011485640248362294,0.011393864959637678,0.011382395935684908,0.011350676257797065,0.011274362548814643,0.011264207151749916,0.01111845149657209,0.011105902860533146,0.011057480394801145,0.010994695261179466,0.01086249169064013,0.01078749651478439,0.010750563511991995,0.010713753138891224,0.010627818358613261,0.01057460278737099,0.010527171027827631,0.010401178690824908,0.010268517470876537,0.010177512941804912,0.010166692353872131,0.010153228604616205,0.010138025366704273,0.010052079363446209,0.010043624248773364,0.010026489437949149,0.009769044705807417,0.009752162580480395,0.00959941720153823,0.009528875160818462,0.00952706740829845,0.009344608637628649,0.009333560163396148,0.009308821466855521,0.009120979877634383,0.009058551638822632,0.009047990891717594,0.00901797434614604,0.009006101559630997,0.008813193712385647,0.008643358266800627,0.008604932116164754,0.00852728855788154,0.008523162903960824,0.008518509857559753,0.008470342969424172,0.00844654990674476,0.008286727624659429,0.008261358120168039,0.008258292645310528,0.008088405785441677,0.008044159214140478,0.007963907596750808,0.007889593871368117,0.00780566372426561,0.007733691205144444,0.00770714454968302,0.007705411499492498,0.0076852911841620575,0.007547455081406418,0.007520632262425275,0.007491109921057504,0.007480632655170849,0.0074301774749869764,0.007403199052491871,0.007394660095636607,0.0073346166614756125,0.007329053424806942,0.007307440574266577,0.0072396203162456985,0.00722431521242739,0.007157235575922183,0.0071219823144961225,0.006940846375073306,0.006872780073707896,0.006832657808517162,0.006649203822374328,0.00663586596358301,0.00662400388505302,0.006513856432659226,0.006448199620709749,0.006448056959566628,0.0064426635976220226,0.006437606418145281,0.006416833749362416,0.006406415224249118,0.0063555441088956055,0.006337673267293731,0.006335521291910506,0.0063080256851764105,0.006217767770330618,0.0061951535425914805,0.006043451291512847,0.005950796055327556,0.005898197074844624,0.005835885520863893,0.005765984685887737,0.005760803442124041,0.0056933271444463696,0.005655165029682108,0.005613532098564411,0.005571817861190986,0.005569882867482834,0.005500424572486562,0.005420260724147585,0.005208186853205454,0.005206585535987851,0.005184652133193968,0.005145011323354209,0.0050585301343170075,0.005025333708439383,0.0049365480532050365,0.004893015608467,0.004891696399569545,0.00488332493469168,0.0048795847636997625,0.004821398104525532,0.004804443237283573,0.004730659284159278,0.0046458227910004535,0.004612980788368803,0.004593106239215938,0.004559673782886353,0.004526062476287063,0.004434199905296643,0.004328087593170493,0.0042878717851262405,0.004280077139457328,0.0042263250770211425,0.004147439706815748,0.004139972973676076,0.004135237310167739,0.004056554288460079,0.003927662401991272,0.0038726271538759294,0.003871047346889256,0.003836057887534494,0.003739428857472582,0.0037168962216357626,0.0037007090041503155,0.0036882630030307673,0.0036766610990146553,0.003659904236431144,0.003651010678673128,0.0036475180237585114,0.0036202027538692616,0.003606923469243961,0.0035398250049469837,0.0035007228569382542,0.0032657775061486483,0.0031311749437642478,0.003111899759668746,0.003062329071986669,0.0030546106999057576,0.0030352920859169075,0.0030004923621351764,0.002969428331656254,0.0028505778031053808,0.00283513117110884,0.002813285457651915,0.0027712281460394728,0.002730603273678578,0.0027076866971584845,0.0026813644174952245,0.002669953522672408,0.0026203990043399683,0.002605937058987484,0.002554374741661647,0.0024746946234890377,0.002389632565843569,0.002382951299679581,0.002312306768927186,0.0023012974827695265,0.0022221708001278206,0.002193311986068869,0.002189360749282887,0.0021831089907791146,0.0021731555283001636,0.0021640362154602966,0.0020970893398616353,0.0019730077657189593,0.0019563604850735272,0.0018647767192665476,0.0018189782731771187,0.0018164629713509073,0.001813834961496008,0.001638300113810942,0.0014992615514412,0.0013504411645002268,0.0013063068538707867,0.0012625767231999596,0.0011632629013123008,0.0011522115442919034,0.0011466168437805901,0.0010840871156632126,0.0010534435459551572,0.001041559579137985,0.001032847756745836,0.001011238868417752,0.001010611219642632,0.0009928943445165483,0.0009518067866580715,0.0009284025610687419,0.0009210951691757119,0.0008899632823327064,0.000852457688184538,0.0008235756109591374,0.0007980761338441944,0.0007840778752914446,0.0006911951935055782,0.0006517015965288309,0.0006206682344556125,0.0006175560036250083,0.0006143395171875898,0.0005340077120026265,0.0004851009492710112,0.0004820773400329159,0.0004578889669946129,0.00044426099194649904,0.00042874357594779866,0.00037753345843050123,0.00037460750871320947,0.00036548571904004845,0.00026837019283537655,0.00026528787688784305,0.00024525771609651414,0.00018963118588688488,0.00014984161419873132,0.00011141987789309304,6.456934059984043e-05,2.1939364356349245e-05,9.029765801749079e-08,2.6913603567990663e-08,-1.1457792048474857e-08,-1.1591802295818354e-07,-2.9168264207624084e-05,-3.371254292949821e-05,-8.70314471137501e-05,-0.00010064794315789438,-0.00013143284819217005,-0.00020087451445238713,-0.00022267024663857882,-0.0002717221318826457,-0.00027557398914690445,-0.00033807992335627146,-0.00036585952428569435,-0.00051017980884005,-0.0005352597309362661,-0.0005491988103824008,-0.0005688811372629443,-0.0006279710721079912,-0.0006502235339784779,-0.0006848072829508389,-0.0007159634695497186,-0.0007615389386235738,-0.0007953653212344758,-0.00081537527445108,-0.0008568997625105768,-0.0008770426030046963,-0.0009575679688810235,-0.0009886646044421354,-0.0010026823536719576,-0.0010944198569433627,-0.001126975830484378,-0.0011542366739808463,-0.0011616538503032015,-0.0013357444969979981,-0.0013447230517236175,-0.0013566088024379308,-0.0013973148816371905,-0.001419152064703777,-0.0014746868405699498,-0.0015081794762105694,-0.0015472399254932157,-0.0015541795684599902,-0.001557946154462142,-0.001700951277737811,-0.0017353143555927097,-0.00189198695856585,-0.001909730117801045,-0.0019619846669949315,-0.001982790270087298,-0.0020082110907433393,-0.002010745421159532,-0.002013317656840985,-0.002019284088606188,-0.0021536013710415913,-0.0021658052810564765,-0.0021850811241801438,-0.0022167299124786766,-0.0022755299222041447,-0.002399991720212158,-0.002479673013421113,-0.0025258766700565483,-0.002581055672953747,-0.0027066661350305665,-0.0027149341752270573,-0.002742422023024549,-0.0027468261306202724,-0.0027698974908219043,-0.0028438350792793776,-0.002847933503505873,-0.002974680923945483,-0.0030304255741109287,-0.003076702730796743,-0.0030853573576392623,-0.0032492281135354517,-0.0032970465205031108,-0.0033217384491130986,-0.0033285262581610464,-0.003445169972473794,-0.0035180275629800306,-0.003683709640502464,-0.003697934677592829,-0.00370568307992325,-0.003734835012632942,-0.00373752366167579,-0.0037427755048597966,-0.003761136573733781,-0.0038191954871922285,-0.0038453397195536976,-0.003862403769195888,-0.00391362046568744,-0.004002444584742748,-0.004006972167770129,-0.004034428641747301,-0.004146592621896428,-0.004160008583819819,-0.004213388959257047,-0.00424543097132668,-0.0043896392136262286,-0.004459437924124843,-0.004548210254253338,-0.004549503744154415,-0.004569767368376221,-0.004608953308283814,-0.004640041715758603,-0.004733134917558668,-0.004776954394873134,-0.004785954950285554,-0.004944819323073668,-0.005212591392904864,-0.005218738785423116,-0.005248626905822951,-0.005275757408222725,-0.005292427021946988,-0.005408056907501013,-0.005505522207694069,-0.005537226928295169,-0.00565787636826709,-0.005702123484819133,-0.005712860458966906,-0.005860026767362525,-0.005953400608735393,-0.006041456247096733,-0.00612068502005525,-0.006291391122725587,-0.006291706076311021,-0.006341421237543887,-0.006442787377231696,-0.006576786164091797,-0.006693390713614411,-0.006696724381126673,-0.006738663703213854,-0.006774286029206378,-0.006831405814037184,-0.006852492998740467,-0.006934425638273289,-0.007059826720065887,-0.007099342896299432,-0.007193715827208846,-0.007226110862650348,-0.0073248899505437,-0.007335015513736498,-0.007399267386934527,-0.007479666437530064,-0.0075143241336317335,-0.007529555727620485,-0.007568043724601736,-0.007573782159420173,-0.00771886821571055,-0.007781467932242325,-0.007800050066984809,-0.007801167615233862,-0.007815246124622366,-0.007841005320152306,-0.007916082418182091,-0.00814299984818212,-0.008183708123399303,-0.008251496454322993,-0.00827208048440653,-0.008389806300465485,-0.008423873599663123,-0.008550318315643013,-0.008637090679531778,-0.008795453885980242,-0.008823462335553645,-0.008858717310535447,-0.008911878540642126,-0.008924407579383509,-0.009026750885018808,-0.009061110266034067,-0.009293981436885312,-0.009412132983708243,-0.009573497265698672,-0.009909099225278495,-0.009938850875788718,-0.009976454969636839,-0.01005258575711565,-0.010153987158893152,-0.010239079315498723,-0.010302682995916523,-0.010345944455489642,-0.010442151750598594,-0.010506452158357327,-0.01050992593335709,-0.010688388584728037,-0.010766473415016353,-0.010863959661017608,-0.010893822631131367,-0.010932947936283188,-0.010963555616523735,-0.011126177424332084,-0.011166852796583582,-0.011203100919905173,-0.011225388568754102,-0.011452458504750185,-0.011652854024277737,-0.011847518982081695,-0.01186570130678466,-0.011951126627860242,-0.01198956326211853,-0.01201992938154095,-0.01206682885603061,-0.012209229096356355,-0.012211490438211126,-0.012362645312351206,-0.012595706828904651,-0.012703485009415427,-0.012954766547293217,-0.012994641175148702,-0.013040341924844823,-0.01312138998105894,-0.013355494800789014,-0.013482570824590034,-0.013485339754236936,-0.0134934941648025,-0.013683586410204507,-0.013712354165565488,-0.013732853243134002,-0.014141446757367948,-0.01421783692486489,-0.014417102779670898,-0.014779706503567747,-0.014806680573740905,-0.015014209641837195,-0.015100698935354373,-0.015233219504491746,-0.015638428059619347,-0.01574893452756876,-0.016152143533565866,-0.016539466205386155,-0.017490947914444055,-0.017862441913373495,-0.017889749801205168,-0.018389066595270842,-0.01846376071333311,-0.018583462416521312,-0.018673552100111568,-0.01882748100179843,-0.018978288493172846,-0.019064510565318882,-0.01912584657142813,-0.019399803519558834,-0.019846792923162937,-0.020212797168174035,-0.020348181540771115,-0.020642216909786626,-0.02065364379166068,-0.020855886533468704,-0.020918843767586237,-0.02093145645283201,-0.021194074033649146,-0.021206634194302687,-0.02127306075482549,-0.02128054947770175,-0.021588945607865284,-0.021625398271817975,-0.021694351907713738,-0.021727749204925484,-0.021814115754482888,-0.022179670500911186,-0.022333898516031736,-0.022973421998538024,-0.023003217879325577,-0.02350217783333708,-0.02384404093398751,-0.023875666585097877,-0.02392197809831753,-0.024080683841731787,-0.024229112027690736,-0.02431889511338481,-0.024362358741277013,-0.024457698079846768,-0.025189471933321217,-0.025270145662850574,-0.025380184012907536,-0.025649149835560214,-0.025796737541841752,-0.025863661592452347,-0.027223153987315563,-0.028067197273543898,-0.028998289846393188,-0.029158250057342627,-0.03214938069090412,-0.03242640654079043,-0.033326163996427516,-0.03446433691106976,-0.0345147400597976,-0.03454606357116696,-0.03467924190476013,-0.034855035240320964,-0.03498239647246271,-0.03551820944210671,-0.03553142367342388,-0.036616491178842914,-0.03768928988636988,-0.038060067973053835,-0.03937271776200513,-0.039395072874583104,-0.03964715055367163,-0.03968778713044052,-0.04076119554135216,-0.041193556638901896,-0.04128312328998074,-0.041373934305100946,-0.04216296890493543,-0.04354598439834079,-0.04380495940579188,-0.04518448145052889,-0.0465169970356718,-0.04673792069660365,-0.04828458098528654,-0.04837444001751279,-0.048459116716856765,-0.04976174872828887,-0.05031188421089827,-0.05437876230367067,-0.0649649157622465,-0.06529212985134825,-0.06788090869620733,-0.06823485511633898,-0.07050059294399058,-0.07409521408722441,-0.08609390014495188,-0.09115892714390283,-0.10214578770324678,-0.11654649468913758,-0.12342760474342929],\"xaxis\":\"x\",\"y\":[0.0011961722488038277,0.0023923444976076554,0.0035885167464114833,0.004784688995215311,0.005980861244019139,0.007177033492822967,0.008373205741626795,0.009569377990430622,0.01076555023923445,0.011961722488038277,0.013157894736842105,0.014354066985645933,0.01555023923444976,0.01674641148325359,0.017942583732057416,0.019138755980861243,0.02033492822966507,0.0215311004784689,0.022727272727272728,0.023923444976076555,0.025119617224880382,0.02631578947368421,0.02751196172248804,0.028708133971291867,0.029904306220095694,0.03110047846889952,0.03229665071770335,0.03349282296650718,0.034688995215311005,0.03588516746411483,0.03708133971291866,0.03827751196172249,0.039473684210526314,0.04066985645933014,0.041866028708133975,0.0430622009569378,0.04425837320574163,0.045454545454545456,0.04665071770334928,0.04784688995215311,0.04904306220095694,0.050239234449760764,0.05143540669856459,0.05263157894736842,0.05382775119617225,0.05502392344497608,0.056220095693779906,0.05741626794258373,0.05861244019138756,0.05980861244019139,0.061004784688995214,0.06220095693779904,0.06339712918660287,0.0645933014354067,0.06578947368421052,0.06698564593301436,0.06818181818181818,0.06937799043062201,0.07057416267942583,0.07177033492822966,0.0729665071770335,0.07416267942583732,0.07535885167464115,0.07655502392344497,0.07775119617224881,0.07894736842105263,0.08014354066985646,0.08133971291866028,0.08253588516746412,0.08373205741626795,0.08492822966507177,0.0861244019138756,0.08732057416267942,0.08851674641148326,0.08971291866028708,0.09090909090909091,0.09210526315789473,0.09330143540669857,0.09449760765550239,0.09569377990430622,0.09688995215311005,0.09808612440191387,0.09928229665071771,0.10047846889952153,0.10167464114832536,0.10287081339712918,0.10406698564593302,0.10526315789473684,0.10645933014354067,0.1076555023923445,0.10885167464114832,0.11004784688995216,0.11124401913875598,0.11244019138755981,0.11363636363636363,0.11483253588516747,0.11602870813397129,0.11722488038277512,0.11842105263157894,0.11961722488038277,0.12081339712918661,0.12200956937799043,0.12320574162679426,0.12440191387559808,0.1255980861244019,0.12679425837320574,0.12799043062200957,0.1291866028708134,0.1303827751196172,0.13157894736842105,0.13277511961722488,0.1339712918660287,0.13516746411483255,0.13636363636363635,0.1375598086124402,0.13875598086124402,0.13995215311004786,0.14114832535885166,0.1423444976076555,0.14354066985645933,0.14473684210526316,0.145933014354067,0.1471291866028708,0.14832535885167464,0.14952153110047847,0.1507177033492823,0.1519138755980861,0.15311004784688995,0.15430622009569378,0.15550239234449761,0.15669856459330145,0.15789473684210525,0.1590909090909091,0.16028708133971292,0.16148325358851676,0.16267942583732056,0.1638755980861244,0.16507177033492823,0.16626794258373206,0.1674641148325359,0.1686602870813397,0.16985645933014354,0.17105263157894737,0.1722488038277512,0.173444976076555,0.17464114832535885,0.17583732057416268,0.17703349282296652,0.17822966507177032,0.17942583732057416,0.180622009569378,0.18181818181818182,0.18301435406698566,0.18421052631578946,0.1854066985645933,0.18660287081339713,0.18779904306220097,0.18899521531100477,0.1901913875598086,0.19138755980861244,0.19258373205741627,0.1937799043062201,0.19497607655502391,0.19617224880382775,0.19736842105263158,0.19856459330143542,0.19976076555023922,0.20095693779904306,0.2021531100478469,0.20334928229665072,0.20454545454545456,0.20574162679425836,0.2069377990430622,0.20813397129186603,0.20933014354066987,0.21052631578947367,0.2117224880382775,0.21291866028708134,0.21411483253588517,0.215311004784689,0.21650717703349281,0.21770334928229665,0.21889952153110048,0.22009569377990432,0.22129186602870812,0.22248803827751196,0.2236842105263158,0.22488038277511962,0.22607655502392343,0.22727272727272727,0.2284688995215311,0.22966507177033493,0.23086124401913877,0.23205741626794257,0.2332535885167464,0.23444976076555024,0.23564593301435408,0.23684210526315788,0.23803827751196172,0.23923444976076555,0.24043062200956938,0.24162679425837322,0.24282296650717702,0.24401913875598086,0.2452153110047847,0.24641148325358853,0.24760765550239233,0.24880382775119617,0.25,0.2511961722488038,0.25239234449760767,0.2535885167464115,0.25478468899521534,0.25598086124401914,0.25717703349282295,0.2583732057416268,0.2595693779904306,0.2607655502392344,0.2619617224880383,0.2631578947368421,0.26435406698564595,0.26555023923444976,0.26674641148325356,0.2679425837320574,0.26913875598086123,0.2703349282296651,0.2715311004784689,0.2727272727272727,0.27392344497607657,0.2751196172248804,0.27631578947368424,0.27751196172248804,0.27870813397129185,0.2799043062200957,0.2811004784688995,0.2822966507177033,0.2834928229665072,0.284688995215311,0.28588516746411485,0.28708133971291866,0.28827751196172247,0.2894736842105263,0.29066985645933013,0.291866028708134,0.2930622009569378,0.2942583732057416,0.29545454545454547,0.2966507177033493,0.29784688995215314,0.29904306220095694,0.30023923444976075,0.3014354066985646,0.3026315789473684,0.3038277511961722,0.3050239234449761,0.3062200956937799,0.30741626794258375,0.30861244019138756,0.30980861244019137,0.31100478468899523,0.31220095693779903,0.3133971291866029,0.3145933014354067,0.3157894736842105,0.31698564593301437,0.3181818181818182,0.319377990430622,0.32057416267942584,0.32177033492822965,0.3229665071770335,0.3241626794258373,0.3253588516746411,0.326555023923445,0.3277511961722488,0.32894736842105265,0.33014354066985646,0.33133971291866027,0.33253588516746413,0.33373205741626794,0.3349282296650718,0.3361244019138756,0.3373205741626794,0.33851674641148327,0.3397129186602871,0.3409090909090909,0.34210526315789475,0.34330143540669855,0.3444976076555024,0.3456937799043062,0.34688995215311,0.3480861244019139,0.3492822966507177,0.35047846889952156,0.35167464114832536,0.35287081339712917,0.35406698564593303,0.35526315789473684,0.35645933014354064,0.3576555023923445,0.3588516746411483,0.36004784688995217,0.361244019138756,0.3624401913875598,0.36363636363636365,0.36483253588516745,0.3660287081339713,0.3672248803827751,0.3684210526315789,0.3696172248803828,0.3708133971291866,0.37200956937799046,0.37320574162679426,0.37440191387559807,0.37559808612440193,0.37679425837320574,0.37799043062200954,0.3791866028708134,0.3803827751196172,0.3815789473684211,0.3827751196172249,0.3839712918660287,0.38516746411483255,0.38636363636363635,0.3875598086124402,0.388755980861244,0.38995215311004783,0.3911483253588517,0.3923444976076555,0.39354066985645936,0.39473684210526316,0.39593301435406697,0.39712918660287083,0.39832535885167464,0.39952153110047844,0.4007177033492823,0.4019138755980861,0.40311004784689,0.4043062200956938,0.4055023923444976,0.40669856459330145,0.40789473684210525,0.4090909090909091,0.4102870813397129,0.41148325358851673,0.4126794258373206,0.4138755980861244,0.4150717703349282,0.41626794258373206,0.41746411483253587,0.41866028708133973,0.41985645933014354,0.42105263157894735,0.4222488038277512,0.423444976076555,0.4246411483253589,0.4258373205741627,0.4270334928229665,0.42822966507177035,0.42942583732057416,0.430622009569378,0.4318181818181818,0.43301435406698563,0.4342105263157895,0.4354066985645933,0.4366028708133971,0.43779904306220097,0.43899521531100477,0.44019138755980863,0.44138755980861244,0.44258373205741625,0.4437799043062201,0.4449760765550239,0.4461722488038278,0.4473684210526316,0.4485645933014354,0.44976076555023925,0.45095693779904306,0.45215311004784686,0.4533492822966507,0.45454545454545453,0.4557416267942584,0.4569377990430622,0.458133971291866,0.45933014354066987,0.4605263157894737,0.46172248803827753,0.46291866028708134,0.46411483253588515,0.465311004784689,0.4665071770334928,0.4677033492822967,0.4688995215311005,0.4700956937799043,0.47129186602870815,0.47248803827751196,0.47368421052631576,0.4748803827751196,0.47607655502392343,0.4772727272727273,0.4784688995215311,0.4796650717703349,0.48086124401913877,0.4820574162679426,0.48325358851674644,0.48444976076555024,0.48564593301435405,0.4868421052631579,0.4880382775119617,0.4892344497607656,0.4904306220095694,0.4916267942583732,0.49282296650717705,0.49401913875598086,0.49521531100478466,0.4964114832535885,0.49760765550239233,0.4988038277511962,0.5,0.5011961722488039,0.5023923444976076,0.5035885167464115,0.5047846889952153,0.5059808612440191,0.507177033492823,0.5083732057416268,0.5095693779904307,0.5107655502392344,0.5119617224880383,0.5131578947368421,0.5143540669856459,0.5155502392344498,0.5167464114832536,0.5179425837320574,0.5191387559808612,0.5203349282296651,0.5215311004784688,0.5227272727272727,0.5239234449760766,0.5251196172248804,0.5263157894736842,0.527511961722488,0.5287081339712919,0.5299043062200957,0.5311004784688995,0.5322966507177034,0.5334928229665071,0.534688995215311,0.5358851674641149,0.5370813397129187,0.5382775119617225,0.5394736842105263,0.5406698564593302,0.5418660287081339,0.5430622009569378,0.5442583732057417,0.5454545454545454,0.5466507177033493,0.5478468899521531,0.5490430622009569,0.5502392344497608,0.5514354066985646,0.5526315789473685,0.5538277511961722,0.5550239234449761,0.55622009569378,0.5574162679425837,0.5586124401913876,0.5598086124401914,0.5610047846889952,0.562200956937799,0.5633971291866029,0.5645933014354066,0.5657894736842105,0.5669856459330144,0.5681818181818182,0.569377990430622,0.5705741626794258,0.5717703349282297,0.5729665071770335,0.5741626794258373,0.5753588516746412,0.5765550239234449,0.5777511961722488,0.5789473684210527,0.5801435406698564,0.5813397129186603,0.5825358851674641,0.583732057416268,0.5849282296650717,0.5861244019138756,0.5873205741626795,0.5885167464114832,0.5897129186602871,0.5909090909090909,0.5921052631578947,0.5933014354066986,0.5944976076555024,0.5956937799043063,0.59688995215311,0.5980861244019139,0.5992822966507177,0.6004784688995215,0.6016746411483254,0.6028708133971292,0.604066985645933,0.6052631578947368,0.6064593301435407,0.6076555023923444,0.6088516746411483,0.6100478468899522,0.611244019138756,0.6124401913875598,0.6136363636363636,0.6148325358851675,0.6160287081339713,0.6172248803827751,0.618421052631579,0.6196172248803827,0.6208133971291866,0.6220095693779905,0.6232057416267942,0.6244019138755981,0.6255980861244019,0.6267942583732058,0.6279904306220095,0.6291866028708134,0.6303827751196173,0.631578947368421,0.6327751196172249,0.6339712918660287,0.6351674641148325,0.6363636363636364,0.6375598086124402,0.638755980861244,0.6399521531100478,0.6411483253588517,0.6423444976076556,0.6435406698564593,0.6447368421052632,0.645933014354067,0.6471291866028708,0.6483253588516746,0.6495215311004785,0.6507177033492823,0.6519138755980861,0.65311004784689,0.6543062200956937,0.6555023923444976,0.6566985645933014,0.6578947368421053,0.6590909090909091,0.6602870813397129,0.6614832535885168,0.6626794258373205,0.6638755980861244,0.6650717703349283,0.666267942583732,0.6674641148325359,0.6686602870813397,0.6698564593301436,0.6710526315789473,0.6722488038277512,0.6734449760765551,0.6746411483253588,0.6758373205741627,0.6770334928229665,0.6782296650717703,0.6794258373205742,0.680622009569378,0.6818181818181818,0.6830143540669856,0.6842105263157895,0.6854066985645934,0.6866028708133971,0.687799043062201,0.6889952153110048,0.6901913875598086,0.6913875598086124,0.6925837320574163,0.69377990430622,0.6949760765550239,0.6961722488038278,0.6973684210526315,0.6985645933014354,0.6997607655502392,0.7009569377990431,0.7021531100478469,0.7033492822966507,0.7045454545454546,0.7057416267942583,0.7069377990430622,0.7081339712918661,0.7093301435406698,0.7105263157894737,0.7117224880382775,0.7129186602870813,0.7141148325358851,0.715311004784689,0.7165071770334929,0.7177033492822966,0.7188995215311005,0.7200956937799043,0.7212918660287081,0.722488038277512,0.7236842105263158,0.7248803827751196,0.7260765550239234,0.7272727272727273,0.7284688995215312,0.7296650717703349,0.7308612440191388,0.7320574162679426,0.7332535885167464,0.7344497607655502,0.7356459330143541,0.7368421052631579,0.7380382775119617,0.7392344497607656,0.7404306220095693,0.7416267942583732,0.742822966507177,0.7440191387559809,0.7452153110047847,0.7464114832535885,0.7476076555023924,0.7488038277511961,0.75,0.7511961722488039,0.7523923444976076,0.7535885167464115,0.7547846889952153,0.7559808612440191,0.757177033492823,0.7583732057416268,0.7595693779904307,0.7607655502392344,0.7619617224880383,0.7631578947368421,0.7643540669856459,0.7655502392344498,0.7667464114832536,0.7679425837320574,0.7691387559808612,0.7703349282296651,0.7715311004784688,0.7727272727272727,0.7739234449760766,0.7751196172248804,0.7763157894736842,0.777511961722488,0.7787081339712919,0.7799043062200957,0.7811004784688995,0.7822966507177034,0.7834928229665071,0.784688995215311,0.7858851674641149,0.7870813397129187,0.7882775119617225,0.7894736842105263,0.7906698564593302,0.7918660287081339,0.7930622009569378,0.7942583732057417,0.7954545454545454,0.7966507177033493,0.7978468899521531,0.7990430622009569,0.8002392344497608,0.8014354066985646,0.8026315789473685,0.8038277511961722,0.8050239234449761,0.80622009569378,0.8074162679425837,0.8086124401913876,0.8098086124401914,0.8110047846889952,0.812200956937799,0.8133971291866029,0.8145933014354066,0.8157894736842105,0.8169856459330144,0.8181818181818182,0.819377990430622,0.8205741626794258,0.8217703349282297,0.8229665071770335,0.8241626794258373,0.8253588516746412,0.8265550239234449,0.8277511961722488,0.8289473684210527,0.8301435406698564,0.8313397129186603,0.8325358851674641,0.833732057416268,0.8349282296650717,0.8361244019138756,0.8373205741626795,0.8385167464114832,0.8397129186602871,0.8409090909090909,0.8421052631578947,0.8433014354066986,0.8444976076555024,0.8456937799043063,0.84688995215311,0.8480861244019139,0.8492822966507177,0.8504784688995215,0.8516746411483254,0.8528708133971292,0.854066985645933,0.8552631578947368,0.8564593301435407,0.8576555023923444,0.8588516746411483,0.8600478468899522,0.861244019138756,0.8624401913875598,0.8636363636363636,0.8648325358851675,0.8660287081339713,0.8672248803827751,0.868421052631579,0.8696172248803827,0.8708133971291866,0.8720095693779905,0.8732057416267942,0.8744019138755981,0.8755980861244019,0.8767942583732058,0.8779904306220095,0.8791866028708134,0.8803827751196173,0.881578947368421,0.8827751196172249,0.8839712918660287,0.8851674641148325,0.8863636363636364,0.8875598086124402,0.888755980861244,0.8899521531100478,0.8911483253588517,0.8923444976076556,0.8935406698564593,0.8947368421052632,0.895933014354067,0.8971291866028708,0.8983253588516746,0.8995215311004785,0.9007177033492823,0.9019138755980861,0.90311004784689,0.9043062200956937,0.9055023923444976,0.9066985645933014,0.9078947368421053,0.9090909090909091,0.9102870813397129,0.9114832535885168,0.9126794258373205,0.9138755980861244,0.9150717703349283,0.916267942583732,0.9174641148325359,0.9186602870813397,0.9198564593301436,0.9210526315789473,0.9222488038277512,0.9234449760765551,0.9246411483253588,0.9258373205741627,0.9270334928229665,0.9282296650717703,0.9294258373205742,0.930622009569378,0.9318181818181818,0.9330143540669856,0.9342105263157895,0.9354066985645934,0.9366028708133971,0.937799043062201,0.9389952153110048,0.9401913875598086,0.9413875598086124,0.9425837320574163,0.94377990430622,0.9449760765550239,0.9461722488038278,0.9473684210526315,0.9485645933014354,0.9497607655502392,0.9509569377990431,0.9521531100478469,0.9533492822966507,0.9545454545454546,0.9557416267942583,0.9569377990430622,0.9581339712918661,0.9593301435406698,0.9605263157894737,0.9617224880382775,0.9629186602870813,0.9641148325358851,0.965311004784689,0.9665071770334929,0.9677033492822966,0.9688995215311005,0.9700956937799043,0.9712918660287081,0.972488038277512,0.9736842105263158,0.9748803827751196,0.9760765550239234,0.9772727272727273,0.9784688995215312,0.9796650717703349,0.9808612440191388,0.9820574162679426,0.9832535885167464,0.9844497607655502,0.9856459330143541,0.9868421052631579,0.9880382775119617,0.9892344497607656,0.9904306220095693,0.9916267942583732,0.992822966507177,0.9940191387559809,0.9952153110047847,0.9964114832535885,0.9976076555023924,0.9988038277511961,1.0],\"yaxis\":\"y\",\"type\":\"scatter\"}],                        {\"template\":{\"data\":{\"histogram2dcontour\":[{\"type\":\"histogram2dcontour\",\"colorbar\":{\"outlinewidth\":0,\"ticks\":\"\"},\"colorscale\":[[0.0,\"#0d0887\"],[0.1111111111111111,\"#46039f\"],[0.2222222222222222,\"#7201a8\"],[0.3333333333333333,\"#9c179e\"],[0.4444444444444444,\"#bd3786\"],[0.5555555555555556,\"#d8576b\"],[0.6666666666666666,\"#ed7953\"],[0.7777777777777778,\"#fb9f3a\"],[0.8888888888888888,\"#fdca26\"],[1.0,\"#f0f921\"]]}],\"choropleth\":[{\"type\":\"choropleth\",\"colorbar\":{\"outlinewidth\":0,\"ticks\":\"\"}}],\"histogram2d\":[{\"type\":\"histogram2d\",\"colorbar\":{\"outlinewidth\":0,\"ticks\":\"\"},\"colorscale\":[[0.0,\"#0d0887\"],[0.1111111111111111,\"#46039f\"],[0.2222222222222222,\"#7201a8\"],[0.3333333333333333,\"#9c179e\"],[0.4444444444444444,\"#bd3786\"],[0.5555555555555556,\"#d8576b\"],[0.6666666666666666,\"#ed7953\"],[0.7777777777777778,\"#fb9f3a\"],[0.8888888888888888,\"#fdca26\"],[1.0,\"#f0f921\"]]}],\"heatmap\":[{\"type\":\"heatmap\",\"colorbar\":{\"outlinewidth\":0,\"ticks\":\"\"},\"colorscale\":[[0.0,\"#0d0887\"],[0.1111111111111111,\"#46039f\"],[0.2222222222222222,\"#7201a8\"],[0.3333333333333333,\"#9c179e\"],[0.4444444444444444,\"#bd3786\"],[0.5555555555555556,\"#d8576b\"],[0.6666666666666666,\"#ed7953\"],[0.7777777777777778,\"#fb9f3a\"],[0.8888888888888888,\"#fdca26\"],[1.0,\"#f0f921\"]]}],\"heatmapgl\":[{\"type\":\"heatmapgl\",\"colorbar\":{\"outlinewidth\":0,\"ticks\":\"\"},\"colorscale\":[[0.0,\"#0d0887\"],[0.1111111111111111,\"#46039f\"],[0.2222222222222222,\"#7201a8\"],[0.3333333333333333,\"#9c179e\"],[0.4444444444444444,\"#bd3786\"],[0.5555555555555556,\"#d8576b\"],[0.6666666666666666,\"#ed7953\"],[0.7777777777777778,\"#fb9f3a\"],[0.8888888888888888,\"#fdca26\"],[1.0,\"#f0f921\"]]}],\"contourcarpet\":[{\"type\":\"contourcarpet\",\"colorbar\":{\"outlinewidth\":0,\"ticks\":\"\"}}],\"contour\":[{\"type\":\"contour\",\"colorbar\":{\"outlinewidth\":0,\"ticks\":\"\"},\"colorscale\":[[0.0,\"#0d0887\"],[0.1111111111111111,\"#46039f\"],[0.2222222222222222,\"#7201a8\"],[0.3333333333333333,\"#9c179e\"],[0.4444444444444444,\"#bd3786\"],[0.5555555555555556,\"#d8576b\"],[0.6666666666666666,\"#ed7953\"],[0.7777777777777778,\"#fb9f3a\"],[0.8888888888888888,\"#fdca26\"],[1.0,\"#f0f921\"]]}],\"surface\":[{\"type\":\"surface\",\"colorbar\":{\"outlinewidth\":0,\"ticks\":\"\"},\"colorscale\":[[0.0,\"#0d0887\"],[0.1111111111111111,\"#46039f\"],[0.2222222222222222,\"#7201a8\"],[0.3333333333333333,\"#9c179e\"],[0.4444444444444444,\"#bd3786\"],[0.5555555555555556,\"#d8576b\"],[0.6666666666666666,\"#ed7953\"],[0.7777777777777778,\"#fb9f3a\"],[0.8888888888888888,\"#fdca26\"],[1.0,\"#f0f921\"]]}],\"mesh3d\":[{\"type\":\"mesh3d\",\"colorbar\":{\"outlinewidth\":0,\"ticks\":\"\"}}],\"scatter\":[{\"fillpattern\":{\"fillmode\":\"overlay\",\"size\":10,\"solidity\":0.2},\"type\":\"scatter\"}],\"parcoords\":[{\"type\":\"parcoords\",\"line\":{\"colorbar\":{\"outlinewidth\":0,\"ticks\":\"\"}}}],\"scatterpolargl\":[{\"type\":\"scatterpolargl\",\"marker\":{\"colorbar\":{\"outlinewidth\":0,\"ticks\":\"\"}}}],\"bar\":[{\"error_x\":{\"color\":\"#2a3f5f\"},\"error_y\":{\"color\":\"#2a3f5f\"},\"marker\":{\"line\":{\"color\":\"#E5ECF6\",\"width\":0.5},\"pattern\":{\"fillmode\":\"overlay\",\"size\":10,\"solidity\":0.2}},\"type\":\"bar\"}],\"scattergeo\":[{\"type\":\"scattergeo\",\"marker\":{\"colorbar\":{\"outlinewidth\":0,\"ticks\":\"\"}}}],\"scatterpolar\":[{\"type\":\"scatterpolar\",\"marker\":{\"colorbar\":{\"outlinewidth\":0,\"ticks\":\"\"}}}],\"histogram\":[{\"marker\":{\"pattern\":{\"fillmode\":\"overlay\",\"size\":10,\"solidity\":0.2}},\"type\":\"histogram\"}],\"scattergl\":[{\"type\":\"scattergl\",\"marker\":{\"colorbar\":{\"outlinewidth\":0,\"ticks\":\"\"}}}],\"scatter3d\":[{\"type\":\"scatter3d\",\"line\":{\"colorbar\":{\"outlinewidth\":0,\"ticks\":\"\"}},\"marker\":{\"colorbar\":{\"outlinewidth\":0,\"ticks\":\"\"}}}],\"scattermapbox\":[{\"type\":\"scattermapbox\",\"marker\":{\"colorbar\":{\"outlinewidth\":0,\"ticks\":\"\"}}}],\"scatterternary\":[{\"type\":\"scatterternary\",\"marker\":{\"colorbar\":{\"outlinewidth\":0,\"ticks\":\"\"}}}],\"scattercarpet\":[{\"type\":\"scattercarpet\",\"marker\":{\"colorbar\":{\"outlinewidth\":0,\"ticks\":\"\"}}}],\"carpet\":[{\"aaxis\":{\"endlinecolor\":\"#2a3f5f\",\"gridcolor\":\"white\",\"linecolor\":\"white\",\"minorgridcolor\":\"white\",\"startlinecolor\":\"#2a3f5f\"},\"baxis\":{\"endlinecolor\":\"#2a3f5f\",\"gridcolor\":\"white\",\"linecolor\":\"white\",\"minorgridcolor\":\"white\",\"startlinecolor\":\"#2a3f5f\"},\"type\":\"carpet\"}],\"table\":[{\"cells\":{\"fill\":{\"color\":\"#EBF0F8\"},\"line\":{\"color\":\"white\"}},\"header\":{\"fill\":{\"color\":\"#C8D4E3\"},\"line\":{\"color\":\"white\"}},\"type\":\"table\"}],\"barpolar\":[{\"marker\":{\"line\":{\"color\":\"#E5ECF6\",\"width\":0.5},\"pattern\":{\"fillmode\":\"overlay\",\"size\":10,\"solidity\":0.2}},\"type\":\"barpolar\"}],\"pie\":[{\"automargin\":true,\"type\":\"pie\"}]},\"layout\":{\"autotypenumbers\":\"strict\",\"colorway\":[\"#636efa\",\"#EF553B\",\"#00cc96\",\"#ab63fa\",\"#FFA15A\",\"#19d3f3\",\"#FF6692\",\"#B6E880\",\"#FF97FF\",\"#FECB52\"],\"font\":{\"color\":\"#2a3f5f\"},\"hovermode\":\"closest\",\"hoverlabel\":{\"align\":\"left\"},\"paper_bgcolor\":\"white\",\"plot_bgcolor\":\"#E5ECF6\",\"polar\":{\"bgcolor\":\"#E5ECF6\",\"angularaxis\":{\"gridcolor\":\"white\",\"linecolor\":\"white\",\"ticks\":\"\"},\"radialaxis\":{\"gridcolor\":\"white\",\"linecolor\":\"white\",\"ticks\":\"\"}},\"ternary\":{\"bgcolor\":\"#E5ECF6\",\"aaxis\":{\"gridcolor\":\"white\",\"linecolor\":\"white\",\"ticks\":\"\"},\"baxis\":{\"gridcolor\":\"white\",\"linecolor\":\"white\",\"ticks\":\"\"},\"caxis\":{\"gridcolor\":\"white\",\"linecolor\":\"white\",\"ticks\":\"\"}},\"coloraxis\":{\"colorbar\":{\"outlinewidth\":0,\"ticks\":\"\"}},\"colorscale\":{\"sequential\":[[0.0,\"#0d0887\"],[0.1111111111111111,\"#46039f\"],[0.2222222222222222,\"#7201a8\"],[0.3333333333333333,\"#9c179e\"],[0.4444444444444444,\"#bd3786\"],[0.5555555555555556,\"#d8576b\"],[0.6666666666666666,\"#ed7953\"],[0.7777777777777778,\"#fb9f3a\"],[0.8888888888888888,\"#fdca26\"],[1.0,\"#f0f921\"]],\"sequentialminus\":[[0.0,\"#0d0887\"],[0.1111111111111111,\"#46039f\"],[0.2222222222222222,\"#7201a8\"],[0.3333333333333333,\"#9c179e\"],[0.4444444444444444,\"#bd3786\"],[0.5555555555555556,\"#d8576b\"],[0.6666666666666666,\"#ed7953\"],[0.7777777777777778,\"#fb9f3a\"],[0.8888888888888888,\"#fdca26\"],[1.0,\"#f0f921\"]],\"diverging\":[[0,\"#8e0152\"],[0.1,\"#c51b7d\"],[0.2,\"#de77ae\"],[0.3,\"#f1b6da\"],[0.4,\"#fde0ef\"],[0.5,\"#f7f7f7\"],[0.6,\"#e6f5d0\"],[0.7,\"#b8e186\"],[0.8,\"#7fbc41\"],[0.9,\"#4d9221\"],[1,\"#276419\"]]},\"xaxis\":{\"gridcolor\":\"white\",\"linecolor\":\"white\",\"ticks\":\"\",\"title\":{\"standoff\":15},\"zerolinecolor\":\"white\",\"automargin\":true,\"zerolinewidth\":2},\"yaxis\":{\"gridcolor\":\"white\",\"linecolor\":\"white\",\"ticks\":\"\",\"title\":{\"standoff\":15},\"zerolinecolor\":\"white\",\"automargin\":true,\"zerolinewidth\":2},\"scene\":{\"xaxis\":{\"backgroundcolor\":\"#E5ECF6\",\"gridcolor\":\"white\",\"linecolor\":\"white\",\"showbackground\":true,\"ticks\":\"\",\"zerolinecolor\":\"white\",\"gridwidth\":2},\"yaxis\":{\"backgroundcolor\":\"#E5ECF6\",\"gridcolor\":\"white\",\"linecolor\":\"white\",\"showbackground\":true,\"ticks\":\"\",\"zerolinecolor\":\"white\",\"gridwidth\":2},\"zaxis\":{\"backgroundcolor\":\"#E5ECF6\",\"gridcolor\":\"white\",\"linecolor\":\"white\",\"showbackground\":true,\"ticks\":\"\",\"zerolinecolor\":\"white\",\"gridwidth\":2}},\"shapedefaults\":{\"line\":{\"color\":\"#2a3f5f\"}},\"annotationdefaults\":{\"arrowcolor\":\"#2a3f5f\",\"arrowhead\":0,\"arrowwidth\":1},\"geo\":{\"bgcolor\":\"white\",\"landcolor\":\"#E5ECF6\",\"subunitcolor\":\"white\",\"showland\":true,\"showlakes\":true,\"lakecolor\":\"white\"},\"title\":{\"x\":0.05},\"mapbox\":{\"style\":\"light\"}}},\"xaxis\":{\"anchor\":\"y\",\"domain\":[0.0,1.0],\"title\":{\"text\":\"nll_diff\"}},\"yaxis\":{\"anchor\":\"x\",\"domain\":[0.0,1.0],\"title\":{\"text\":\"bin_proportion\"}},\"legend\":{\"tracegroupgap\":0},\"margin\":{\"t\":60}},                        {\"responsive\": true}                    ).then(function(){\n",
       "                            \n",
       "var gd = document.getElementById('a504d4dd-babd-4d85-a6b9-520a1f22ff55');\n",
       "var x = new MutationObserver(function (mutations, observer) {{\n",
       "        var display = window.getComputedStyle(gd).display;\n",
       "        if (!display || display === 'none') {{\n",
       "            console.log([gd, 'removed!']);\n",
       "            Plotly.purge(gd);\n",
       "            observer.disconnect();\n",
       "        }}\n",
       "}});\n",
       "\n",
       "// Listen for the removal of the full notebook cells\n",
       "var notebookContainer = gd.closest('#notebook-container');\n",
       "if (notebookContainer) {{\n",
       "    x.observe(notebookContainer, {childList: true});\n",
       "}}\n",
       "\n",
       "// Listen for the clearing of the current output cell\n",
       "var outputEl = gd.closest('.output');\n",
       "if (outputEl) {{\n",
       "    x.observe(outputEl, {childList: true});\n",
       "}}\n",
       "\n",
       "                        })                };                });            </script>        </div>"
      ]
     },
     "metadata": {},
     "output_type": "display_data"
    }
   ],
   "source": [
    "cdf = df.copy()\n",
    "cdf['bins'] = 1\n",
    "cdf = cdf.sort_values('nll_diff', ascending=False)\n",
    "cdf['bins'] = cdf['bins'].cumsum()\n",
    "cdf['bin_proportion'] = cdf['bins'] / cdf['bins'].max()\n",
    "\n",
    "px.line(cdf, x='nll_diff', y='bin_proportion')"
   ]
  },
  {
   "cell_type": "code",
   "execution_count": 9,
   "id": "0cd9366f",
   "metadata": {},
   "outputs": [
    {
     "data": {
      "text/html": [
       "<div>\n",
       "<style scoped>\n",
       "    .dataframe tbody tr th:only-of-type {\n",
       "        vertical-align: middle;\n",
       "    }\n",
       "\n",
       "    .dataframe tbody tr th {\n",
       "        vertical-align: top;\n",
       "    }\n",
       "\n",
       "    .dataframe thead th {\n",
       "        text-align: right;\n",
       "    }\n",
       "</style>\n",
       "<table border=\"1\" class=\"dataframe\">\n",
       "  <thead>\n",
       "    <tr style=\"text-align: right;\">\n",
       "      <th></th>\n",
       "      <th>quantile</th>\n",
       "      <th>nll_diff</th>\n",
       "    </tr>\n",
       "  </thead>\n",
       "  <tbody>\n",
       "    <tr>\n",
       "      <th>0</th>\n",
       "      <td>0.10</td>\n",
       "      <td>-0.020030</td>\n",
       "    </tr>\n",
       "    <tr>\n",
       "      <th>1</th>\n",
       "      <td>0.25</td>\n",
       "      <td>-0.005669</td>\n",
       "    </tr>\n",
       "    <tr>\n",
       "      <th>2</th>\n",
       "      <td>0.50</td>\n",
       "      <td>0.003682</td>\n",
       "    </tr>\n",
       "    <tr>\n",
       "      <th>3</th>\n",
       "      <td>0.75</td>\n",
       "      <td>0.018236</td>\n",
       "    </tr>\n",
       "    <tr>\n",
       "      <th>4</th>\n",
       "      <td>0.90</td>\n",
       "      <td>0.043612</td>\n",
       "    </tr>\n",
       "  </tbody>\n",
       "</table>\n",
       "</div>"
      ],
      "text/plain": [
       "   quantile  nll_diff\n",
       "0      0.10 -0.020030\n",
       "1      0.25 -0.005669\n",
       "2      0.50  0.003682\n",
       "3      0.75  0.018236\n",
       "4      0.90  0.043612"
      ]
     },
     "execution_count": 9,
     "metadata": {},
     "output_type": "execute_result"
    }
   ],
   "source": [
    "quantiles = [0.1, 0.25, 0.5, 0.75, 0.9]\n",
    "sdf = pd.DataFrame({\n",
    "    'quantile': quantiles,\n",
    "    'nll_diff': [df['nll_diff'].quantile(q) for q in quantiles],\n",
    "})\n",
    "sdf"
   ]
  },
  {
   "cell_type": "code",
   "execution_count": 21,
   "id": "e6ca704b",
   "metadata": {},
   "outputs": [
    {
     "data": {
      "text/html": [
       "<div>\n",
       "<style scoped>\n",
       "    .dataframe tbody tr th:only-of-type {\n",
       "        vertical-align: middle;\n",
       "    }\n",
       "\n",
       "    .dataframe tbody tr th {\n",
       "        vertical-align: top;\n",
       "    }\n",
       "\n",
       "    .dataframe thead th {\n",
       "        text-align: right;\n",
       "    }\n",
       "</style>\n",
       "<table border=\"1\" class=\"dataframe\">\n",
       "  <thead>\n",
       "    <tr style=\"text-align: right;\">\n",
       "      <th></th>\n",
       "      <th>key_radians</th>\n",
       "      <th>key_month</th>\n",
       "      <th>key_max_depth_bin</th>\n",
       "      <th>nll_perm</th>\n",
       "      <th>nll_data</th>\n",
       "      <th>nll_diff</th>\n",
       "      <th>count</th>\n",
       "      <th>cumsum</th>\n",
       "      <th>proportion</th>\n",
       "    </tr>\n",
       "  </thead>\n",
       "  <tbody>\n",
       "    <tr>\n",
       "      <th>0</th>\n",
       "      <td>0</td>\n",
       "      <td>7</td>\n",
       "      <td>9</td>\n",
       "      <td>2.560318</td>\n",
       "      <td>2.229744</td>\n",
       "      <td>0.330574</td>\n",
       "      <td>108</td>\n",
       "      <td>108</td>\n",
       "      <td>0.000084</td>\n",
       "    </tr>\n",
       "    <tr>\n",
       "      <th>1</th>\n",
       "      <td>-3</td>\n",
       "      <td>10</td>\n",
       "      <td>6</td>\n",
       "      <td>1.747396</td>\n",
       "      <td>1.528741</td>\n",
       "      <td>0.218655</td>\n",
       "      <td>2478</td>\n",
       "      <td>2586</td>\n",
       "      <td>0.002011</td>\n",
       "    </tr>\n",
       "    <tr>\n",
       "      <th>2</th>\n",
       "      <td>2</td>\n",
       "      <td>4</td>\n",
       "      <td>6</td>\n",
       "      <td>1.638764</td>\n",
       "      <td>1.423019</td>\n",
       "      <td>0.215744</td>\n",
       "      <td>2550</td>\n",
       "      <td>5136</td>\n",
       "      <td>0.003994</td>\n",
       "    </tr>\n",
       "    <tr>\n",
       "      <th>3</th>\n",
       "      <td>1</td>\n",
       "      <td>4</td>\n",
       "      <td>6</td>\n",
       "      <td>1.589701</td>\n",
       "      <td>1.377871</td>\n",
       "      <td>0.211830</td>\n",
       "      <td>2652</td>\n",
       "      <td>7788</td>\n",
       "      <td>0.006056</td>\n",
       "    </tr>\n",
       "    <tr>\n",
       "      <th>4</th>\n",
       "      <td>0</td>\n",
       "      <td>4</td>\n",
       "      <td>6</td>\n",
       "      <td>1.596595</td>\n",
       "      <td>1.385257</td>\n",
       "      <td>0.211338</td>\n",
       "      <td>2334</td>\n",
       "      <td>10122</td>\n",
       "      <td>0.007871</td>\n",
       "    </tr>\n",
       "  </tbody>\n",
       "</table>\n",
       "</div>"
      ],
      "text/plain": [
       "   key_radians  key_month  key_max_depth_bin  nll_perm  nll_data  nll_diff  \\\n",
       "0            0          7                  9  2.560318  2.229744  0.330574   \n",
       "1           -3         10                  6  1.747396  1.528741  0.218655   \n",
       "2            2          4                  6  1.638764  1.423019  0.215744   \n",
       "3            1          4                  6  1.589701  1.377871  0.211830   \n",
       "4            0          4                  6  1.596595  1.385257  0.211338   \n",
       "\n",
       "   count  cumsum  proportion  \n",
       "0    108     108    0.000084  \n",
       "1   2478    2586    0.002011  \n",
       "2   2550    5136    0.003994  \n",
       "3   2652    7788    0.006056  \n",
       "4   2334   10122    0.007871  "
      ]
     },
     "execution_count": 21,
     "metadata": {},
     "output_type": "execute_result"
    }
   ],
   "source": [
    "cdf = df.merge(data.groupby(key_cols).size().reset_index().rename(columns={0: 'count'})).sort_values('nll_diff', ascending=False)\n",
    "cdf['cumsum'] = cdf['count'].cumsum()\n",
    "cdf['proportion'] = cdf['cumsum'] / cdf['count'].sum()\n",
    "cdf.head()"
   ]
  },
  {
   "cell_type": "code",
   "execution_count": 22,
   "id": "4a08e480",
   "metadata": {},
   "outputs": [
    {
     "data": {
      "application/vnd.plotly.v1+json": {
       "config": {
        "plotlyServerURL": "https://plot.ly"
       },
       "data": [
        {
         "hovertemplate": "nll_diff=%{x}<br>proportion=%{y}<extra></extra>",
         "legendgroup": "",
         "line": {
          "color": "#636efa",
          "dash": "solid"
         },
         "marker": {
          "symbol": "circle"
         },
         "mode": "lines",
         "name": "",
         "orientation": "v",
         "showlegend": false,
         "type": "scatter",
         "x": [
          0.33057384706080706,
          0.2186548848014025,
          0.21574447332922997,
          0.2118301390464441,
          0.2113379962394315,
          0.17104722840828823,
          0.16647409332124674,
          0.16554676309408412,
          0.16044529644238015,
          0.1582772410542428,
          0.14638799546838044,
          0.14397515416709816,
          0.141261222720942,
          0.12795096908301984,
          0.12253467104125426,
          0.12213549743893948,
          0.11055890163061854,
          0.0975976766429385,
          0.09165815834472957,
          0.08576926688157882,
          0.08564711826173443,
          0.0834071612905476,
          0.08109278933300157,
          0.07918031298969153,
          0.07902876959748562,
          0.07762130687370883,
          0.07482525213629199,
          0.07421626303881279,
          0.07246268758717767,
          0.07193400706599129,
          0.07186258457494699,
          0.0693957204888358,
          0.0680700006765449,
          0.06790106361645276,
          0.06740346948904463,
          0.06596170425741121,
          0.06577770295614638,
          0.06461919104794445,
          0.0646108545238524,
          0.06416040369476206,
          0.06370851366310659,
          0.06332349384356739,
          0.06293315950620892,
          0.06201481875411319,
          0.06200445227909945,
          0.061641262617244674,
          0.06147030428179323,
          0.05924047115085518,
          0.05893282697621305,
          0.058626158470775236,
          0.05852722847838243,
          0.05784259134360625,
          0.05556171034711843,
          0.05487984151127012,
          0.05482963593958967,
          0.054312755895233655,
          0.05347055354204944,
          0.05341838967907053,
          0.05332478570501564,
          0.052751833719932195,
          0.05274262482752334,
          0.05183939364547063,
          0.05173572988261799,
          0.05099768119565762,
          0.050510521852717094,
          0.050484225348313094,
          0.05031963469478562,
          0.05015592946722092,
          0.04987365682802847,
          0.04929245461581089,
          0.04856131858528112,
          0.048254127942229275,
          0.04815690336133671,
          0.04790974832462913,
          0.047894308242525385,
          0.046887763395551785,
          0.04684189352293644,
          0.04675922665832788,
          0.0467109844905047,
          0.04598381709484478,
          0.04588108769730148,
          0.04551266028834133,
          0.04511475931610498,
          0.04365614069288504,
          0.043566977629877934,
          0.0434969139823409,
          0.043412821584798866,
          0.04339683187392995,
          0.04332095625958443,
          0.043220964984235,
          0.04312420484774693,
          0.043090278297179485,
          0.04259674354920473,
          0.042251754444091016,
          0.04174057592016145,
          0.04133669030025855,
          0.04095828931089529,
          0.0409392916228517,
          0.04090021246768294,
          0.040879480298554816,
          0.04071597226745971,
          0.04051293391331279,
          0.040265124217554904,
          0.03931342450068054,
          0.03921373292176478,
          0.03841006619834564,
          0.03740143551970432,
          0.036998138250593726,
          0.03673158724443781,
          0.03666735915994379,
          0.03661227771849651,
          0.03649306957894205,
          0.03642172545069888,
          0.036330232223438674,
          0.036244917556671474,
          0.03588810724858593,
          0.035537761379345056,
          0.03530273277915841,
          0.03482942471064043,
          0.034737706745822994,
          0.03467795533452356,
          0.03456437211224417,
          0.03444254373352673,
          0.03410691939387278,
          0.03403483657959783,
          0.03368401225252726,
          0.03352460763794107,
          0.033200963778245995,
          0.03314189954928537,
          0.0330501269886283,
          0.03259297334053146,
          0.032576752234631856,
          0.03248639123890351,
          0.03247522366634392,
          0.03237052604466095,
          0.0323524266212869,
          0.032045531262546056,
          0.032045432888693215,
          0.031888056995500236,
          0.03185842773664249,
          0.031719121850265264,
          0.03152521861197455,
          0.03147106713465897,
          0.03130917040067205,
          0.03129032007813182,
          0.031116008079325352,
          0.030949210190826193,
          0.030902833048646716,
          0.03075352730162728,
          0.030631074627348598,
          0.03053084328737432,
          0.030299338408192877,
          0.03017003517365735,
          0.029855575534560863,
          0.029535472285042275,
          0.029160256669088724,
          0.0291425312886453,
          0.029108645734658545,
          0.029059116132831964,
          0.02900492787871034,
          0.02898295385759253,
          0.028626950447590227,
          0.028224393367850542,
          0.027609578663698953,
          0.02712063520660024,
          0.02703312058672669,
          0.026952623778519813,
          0.02689391771002858,
          0.026814733217999542,
          0.02665547954416292,
          0.02640923893048419,
          0.026290180865333523,
          0.026239886448716332,
          0.026152180698936878,
          0.02613599539707434,
          0.025873471073737386,
          0.025834862843780337,
          0.02551078555644204,
          0.02545024304667698,
          0.025191337626197408,
          0.02511612420025977,
          0.02491537380395359,
          0.02490708051779289,
          0.02440741605210134,
          0.024368011498236974,
          0.02367144209235894,
          0.02354629711455103,
          0.02341849798133966,
          0.022561846677096487,
          0.02246190929749936,
          0.022316002955938385,
          0.022251696569087542,
          0.021763365896083853,
          0.021654640436289396,
          0.021551996949032093,
          0.021060888802271638,
          0.021028410031791678,
          0.020577670267255987,
          0.020433063954643726,
          0.02004564882590487,
          0.019917083523693146,
          0.01981382635111406,
          0.019746917164598754,
          0.019689181281106638,
          0.018804293186550636,
          0.018548598900456126,
          0.018544608676860808,
          0.01852410553457373,
          0.018418829116032764,
          0.01817554884690531,
          0.018171692121209393,
          0.018128225098493544,
          0.01809292607323365,
          0.01759308809456861,
          0.01721605771586987,
          0.017214130872481803,
          0.017118332768329303,
          0.017108807229644807,
          0.017049717707292134,
          0.017028141913041694,
          0.016920553106002822,
          0.016761568188927822,
          0.016684789984467208,
          0.016619147384693167,
          0.01612761902205695,
          0.016036882994041823,
          0.015960283520751517,
          0.015939116780420592,
          0.01574379201759646,
          0.015661043328644375,
          0.01563820790519288,
          0.015626573067949012,
          0.015558898665795295,
          0.015512041198283866,
          0.015428595052885408,
          0.015231236973100915,
          0.015219509554738886,
          0.015082671448722884,
          0.01507124398331472,
          0.01503099489442511,
          0.01500607402542653,
          0.014854571586217613,
          0.014844519261975275,
          0.014748110847393248,
          0.014674369240015528,
          0.01465217154835119,
          0.014290834896094173,
          0.014289408735457143,
          0.014267567626720323,
          0.014230415326327073,
          0.014089261756881521,
          0.013888222613670342,
          0.013744564140950377,
          0.01340873465057979,
          0.013289311867704878,
          0.013264413992119195,
          0.013186964680086621,
          0.013128859904459222,
          0.0128143066347699,
          0.012748985659712386,
          0.012698880718360561,
          0.012676452270282912,
          0.012224469365289536,
          0.01216212224263602,
          0.012157409782306394,
          0.012102732851169029,
          0.012049418337475526,
          0.012021976306106463,
          0.012012551637456514,
          0.011860723603683176,
          0.011834431936162293,
          0.011801292582855227,
          0.011779638985362939,
          0.011744929346044763,
          0.011590178315130095,
          0.011587825665598683,
          0.011559777916718028,
          0.011485640248362294,
          0.011393864959637678,
          0.011382395935684908,
          0.011350676257797065,
          0.011274362548814643,
          0.011264207151749916,
          0.01111845149657209,
          0.011105902860533146,
          0.011057480394801145,
          0.010994695261179466,
          0.01086249169064013,
          0.01078749651478439,
          0.010750563511991995,
          0.010713753138891224,
          0.010627818358613261,
          0.01057460278737099,
          0.010527171027827631,
          0.010401178690824908,
          0.010268517470876537,
          0.010177512941804912,
          0.010166692353872131,
          0.010153228604616205,
          0.010138025366704273,
          0.010052079363446209,
          0.010043624248773364,
          0.010026489437949149,
          0.009769044705807417,
          0.009752162580480395,
          0.00959941720153823,
          0.009528875160818462,
          0.00952706740829845,
          0.009344608637628649,
          0.009333560163396148,
          0.009308821466855521,
          0.009120979877634383,
          0.009058551638822632,
          0.009047990891717594,
          0.00901797434614604,
          0.009006101559630997,
          0.008813193712385647,
          0.008643358266800627,
          0.008604932116164754,
          0.00852728855788154,
          0.008523162903960824,
          0.008518509857559753,
          0.008470342969424172,
          0.00844654990674476,
          0.008286727624659429,
          0.008261358120168039,
          0.008258292645310528,
          0.008088405785441677,
          0.008044159214140478,
          0.007963907596750808,
          0.007889593871368117,
          0.00780566372426561,
          0.007733691205144444,
          0.00770714454968302,
          0.007705411499492498,
          0.0076852911841620575,
          0.007547455081406418,
          0.007520632262425275,
          0.007491109921057504,
          0.007480632655170849,
          0.0074301774749869764,
          0.007403199052491871,
          0.007394660095636607,
          0.0073346166614756125,
          0.007329053424806942,
          0.007307440574266577,
          0.0072396203162456985,
          0.00722431521242739,
          0.007157235575922183,
          0.0071219823144961225,
          0.006940846375073306,
          0.006872780073707896,
          0.006832657808517162,
          0.006649203822374328,
          0.00663586596358301,
          0.00662400388505302,
          0.006513856432659226,
          0.006448199620709749,
          0.006448056959566628,
          0.0064426635976220226,
          0.006437606418145281,
          0.006416833749362416,
          0.006406415224249118,
          0.0063555441088956055,
          0.006337673267293731,
          0.006335521291910506,
          0.0063080256851764105,
          0.006217767770330618,
          0.0061951535425914805,
          0.006043451291512847,
          0.005950796055327556,
          0.005898197074844624,
          0.005835885520863893,
          0.005765984685887737,
          0.005760803442124041,
          0.0056933271444463696,
          0.005655165029682108,
          0.005613532098564411,
          0.005571817861190986,
          0.005569882867482834,
          0.005500424572486562,
          0.005420260724147585,
          0.005208186853205454,
          0.005206585535987851,
          0.005184652133193968,
          0.005145011323354209,
          0.0050585301343170075,
          0.005025333708439383,
          0.0049365480532050365,
          0.004893015608467,
          0.004891696399569545,
          0.00488332493469168,
          0.0048795847636997625,
          0.004821398104525532,
          0.004804443237283573,
          0.004730659284159278,
          0.0046458227910004535,
          0.004612980788368803,
          0.004593106239215938,
          0.004559673782886353,
          0.004526062476287063,
          0.004434199905296643,
          0.004328087593170493,
          0.0042878717851262405,
          0.004280077139457328,
          0.0042263250770211425,
          0.004147439706815748,
          0.004139972973676076,
          0.004135237310167739,
          0.004056554288460079,
          0.003927662401991272,
          0.0038726271538759294,
          0.003871047346889256,
          0.003836057887534494,
          0.003739428857472582,
          0.0037168962216357626,
          0.0037007090041503155,
          0.0036882630030307673,
          0.0036766610990146553,
          0.003659904236431144,
          0.003651010678673128,
          0.0036475180237585114,
          0.0036202027538692616,
          0.003606923469243961,
          0.0035398250049469837,
          0.0035007228569382542,
          0.0032657775061486483,
          0.0031311749437642478,
          0.003111899759668746,
          0.003062329071986669,
          0.0030546106999057576,
          0.0030352920859169075,
          0.0030004923621351764,
          0.002969428331656254,
          0.0028505778031053808,
          0.00283513117110884,
          0.002813285457651915,
          0.0027712281460394728,
          0.002730603273678578,
          0.0027076866971584845,
          0.0026813644174952245,
          0.002669953522672408,
          0.0026203990043399683,
          0.002605937058987484,
          0.002554374741661647,
          0.0024746946234890377,
          0.002389632565843569,
          0.002382951299679581,
          0.002312306768927186,
          0.0023012974827695265,
          0.0022221708001278206,
          0.002193311986068869,
          0.002189360749282887,
          0.0021831089907791146,
          0.0021731555283001636,
          0.0021640362154602966,
          0.0020970893398616353,
          0.0019730077657189593,
          0.0019563604850735272,
          0.0018647767192665476,
          0.0018189782731771187,
          0.0018164629713509073,
          0.001813834961496008,
          0.001638300113810942,
          0.0014992615514412,
          0.0013504411645002268,
          0.0013063068538707867,
          0.0012625767231999596,
          0.0011632629013123008,
          0.0011522115442919034,
          0.0011466168437805901,
          0.0010840871156632126,
          0.0010534435459551572,
          0.001041559579137985,
          0.001032847756745836,
          0.001011238868417752,
          0.001010611219642632,
          0.0009928943445165483,
          0.0009518067866580715,
          0.0009284025610687419,
          0.0009210951691757119,
          0.0008899632823327064,
          0.000852457688184538,
          0.0008235756109591374,
          0.0007980761338441944,
          0.0007840778752914446,
          0.0006911951935055782,
          0.0006517015965288309,
          0.0006206682344556125,
          0.0006175560036250083,
          0.0006143395171875898,
          0.0005340077120026265,
          0.0004851009492710112,
          0.0004820773400329159,
          0.0004578889669946129,
          0.00044426099194649904,
          0.00042874357594779866,
          0.00037753345843050123,
          0.00037460750871320947,
          0.00036548571904004845,
          0.00026837019283537655,
          0.00026528787688784305,
          0.00024525771609651414,
          0.00018963118588688488,
          0.00014984161419873132,
          0.00011141987789309304,
          0.00006456934059984043,
          0.000021939364356349245,
          9.029765801749079e-8,
          2.6913603567990663e-8,
          -1.1457792048474857e-8,
          -1.1591802295818354e-7,
          -0.000029168264207624084,
          -0.00003371254292949821,
          -0.0000870314471137501,
          -0.00010064794315789438,
          -0.00013143284819217005,
          -0.00020087451445238713,
          -0.00022267024663857882,
          -0.0002717221318826457,
          -0.00027557398914690445,
          -0.00033807992335627146,
          -0.00036585952428569435,
          -0.00051017980884005,
          -0.0005352597309362661,
          -0.0005491988103824008,
          -0.0005688811372629443,
          -0.0006279710721079912,
          -0.0006502235339784779,
          -0.0006848072829508389,
          -0.0007159634695497186,
          -0.0007615389386235738,
          -0.0007953653212344758,
          -0.00081537527445108,
          -0.0008568997625105768,
          -0.0008770426030046963,
          -0.0009575679688810235,
          -0.0009886646044421354,
          -0.0010026823536719576,
          -0.0010944198569433627,
          -0.001126975830484378,
          -0.0011542366739808463,
          -0.0011616538503032015,
          -0.0013357444969979981,
          -0.0013447230517236175,
          -0.0013566088024379308,
          -0.0013973148816371905,
          -0.001419152064703777,
          -0.0014746868405699498,
          -0.0015081794762105694,
          -0.0015472399254932157,
          -0.0015541795684599902,
          -0.001557946154462142,
          -0.001700951277737811,
          -0.0017353143555927097,
          -0.00189198695856585,
          -0.001909730117801045,
          -0.0019619846669949315,
          -0.001982790270087298,
          -0.0020082110907433393,
          -0.002010745421159532,
          -0.002013317656840985,
          -0.002019284088606188,
          -0.0021536013710415913,
          -0.0021658052810564765,
          -0.0021850811241801438,
          -0.0022167299124786766,
          -0.0022755299222041447,
          -0.002399991720212158,
          -0.002479673013421113,
          -0.0025258766700565483,
          -0.002581055672953747,
          -0.0027066661350305665,
          -0.0027149341752270573,
          -0.002742422023024549,
          -0.0027468261306202724,
          -0.0027698974908219043,
          -0.0028438350792793776,
          -0.002847933503505873,
          -0.002974680923945483,
          -0.0030304255741109287,
          -0.003076702730796743,
          -0.0030853573576392623,
          -0.0032492281135354517,
          -0.0032970465205031108,
          -0.0033217384491130986,
          -0.0033285262581610464,
          -0.003445169972473794,
          -0.0035180275629800306,
          -0.003683709640502464,
          -0.003697934677592829,
          -0.00370568307992325,
          -0.003734835012632942,
          -0.00373752366167579,
          -0.0037427755048597966,
          -0.003761136573733781,
          -0.0038191954871922285,
          -0.0038453397195536976,
          -0.003862403769195888,
          -0.00391362046568744,
          -0.004002444584742748,
          -0.004006972167770129,
          -0.004034428641747301,
          -0.004146592621896428,
          -0.004160008583819819,
          -0.004213388959257047,
          -0.00424543097132668,
          -0.0043896392136262286,
          -0.004459437924124843,
          -0.004548210254253338,
          -0.004549503744154415,
          -0.004569767368376221,
          -0.004608953308283814,
          -0.004640041715758603,
          -0.004733134917558668,
          -0.004776954394873134,
          -0.004785954950285554,
          -0.004944819323073668,
          -0.005212591392904864,
          -0.005218738785423116,
          -0.005248626905822951,
          -0.005275757408222725,
          -0.005292427021946988,
          -0.005408056907501013,
          -0.005505522207694069,
          -0.005537226928295169,
          -0.00565787636826709,
          -0.005702123484819133,
          -0.005712860458966906,
          -0.005860026767362525,
          -0.005953400608735393,
          -0.006041456247096733,
          -0.00612068502005525,
          -0.006291391122725587,
          -0.006291706076311021,
          -0.006341421237543887,
          -0.006442787377231696,
          -0.006576786164091797,
          -0.006693390713614411,
          -0.006696724381126673,
          -0.006738663703213854,
          -0.006774286029206378,
          -0.006831405814037184,
          -0.006852492998740467,
          -0.006934425638273289,
          -0.007059826720065887,
          -0.007099342896299432,
          -0.007193715827208846,
          -0.007226110862650348,
          -0.0073248899505437,
          -0.007335015513736498,
          -0.007399267386934527,
          -0.007479666437530064,
          -0.0075143241336317335,
          -0.007529555727620485,
          -0.007568043724601736,
          -0.007573782159420173,
          -0.00771886821571055,
          -0.007781467932242325,
          -0.007800050066984809,
          -0.007801167615233862,
          -0.007815246124622366,
          -0.007841005320152306,
          -0.007916082418182091,
          -0.00814299984818212,
          -0.008183708123399303,
          -0.008251496454322993,
          -0.00827208048440653,
          -0.008389806300465485,
          -0.008423873599663123,
          -0.008550318315643013,
          -0.008637090679531778,
          -0.008795453885980242,
          -0.008823462335553645,
          -0.008858717310535447,
          -0.008911878540642126,
          -0.008924407579383509,
          -0.009026750885018808,
          -0.009061110266034067,
          -0.009293981436885312,
          -0.009412132983708243,
          -0.009573497265698672,
          -0.009909099225278495,
          -0.009938850875788718,
          -0.009976454969636839,
          -0.01005258575711565,
          -0.010153987158893152,
          -0.010239079315498723,
          -0.010302682995916523,
          -0.010345944455489642,
          -0.010442151750598594,
          -0.010506452158357327,
          -0.01050992593335709,
          -0.010688388584728037,
          -0.010766473415016353,
          -0.010863959661017608,
          -0.010893822631131367,
          -0.010932947936283188,
          -0.010963555616523735,
          -0.011126177424332084,
          -0.011166852796583582,
          -0.011203100919905173,
          -0.011225388568754102,
          -0.011452458504750185,
          -0.011652854024277737,
          -0.011847518982081695,
          -0.01186570130678466,
          -0.011951126627860242,
          -0.01198956326211853,
          -0.01201992938154095,
          -0.01206682885603061,
          -0.012209229096356355,
          -0.012211490438211126,
          -0.012362645312351206,
          -0.012595706828904651,
          -0.012703485009415427,
          -0.012954766547293217,
          -0.012994641175148702,
          -0.013040341924844823,
          -0.01312138998105894,
          -0.013355494800789014,
          -0.013482570824590034,
          -0.013485339754236936,
          -0.0134934941648025,
          -0.013683586410204507,
          -0.013712354165565488,
          -0.013732853243134002,
          -0.014141446757367948,
          -0.01421783692486489,
          -0.014417102779670898,
          -0.014779706503567747,
          -0.014806680573740905,
          -0.015014209641837195,
          -0.015100698935354373,
          -0.015233219504491746,
          -0.015638428059619347,
          -0.01574893452756876,
          -0.016152143533565866,
          -0.016539466205386155,
          -0.017490947914444055,
          -0.017862441913373495,
          -0.017889749801205168,
          -0.018389066595270842,
          -0.01846376071333311,
          -0.018583462416521312,
          -0.018673552100111568,
          -0.01882748100179843,
          -0.018978288493172846,
          -0.019064510565318882,
          -0.01912584657142813,
          -0.019399803519558834,
          -0.019846792923162937,
          -0.020212797168174035,
          -0.020348181540771115,
          -0.020642216909786626,
          -0.02065364379166068,
          -0.020855886533468704,
          -0.020918843767586237,
          -0.02093145645283201,
          -0.021194074033649146,
          -0.021206634194302687,
          -0.02127306075482549,
          -0.02128054947770175,
          -0.021588945607865284,
          -0.021625398271817975,
          -0.021694351907713738,
          -0.021727749204925484,
          -0.021814115754482888,
          -0.022179670500911186,
          -0.022333898516031736,
          -0.022973421998538024,
          -0.023003217879325577,
          -0.02350217783333708,
          -0.02384404093398751,
          -0.023875666585097877,
          -0.02392197809831753,
          -0.024080683841731787,
          -0.024229112027690736,
          -0.02431889511338481,
          -0.024362358741277013,
          -0.024457698079846768,
          -0.025189471933321217,
          -0.025270145662850574,
          -0.025380184012907536,
          -0.025649149835560214,
          -0.025796737541841752,
          -0.025863661592452347,
          -0.027223153987315563,
          -0.028067197273543898,
          -0.028998289846393188,
          -0.029158250057342627,
          -0.03214938069090412,
          -0.03242640654079043,
          -0.033326163996427516,
          -0.03446433691106976,
          -0.0345147400597976,
          -0.03454606357116696,
          -0.03467924190476013,
          -0.034855035240320964,
          -0.03498239647246271,
          -0.03551820944210671,
          -0.03553142367342388,
          -0.036616491178842914,
          -0.03768928988636988,
          -0.038060067973053835,
          -0.03937271776200513,
          -0.039395072874583104,
          -0.03964715055367163,
          -0.03968778713044052,
          -0.04076119554135216,
          -0.041193556638901896,
          -0.04128312328998074,
          -0.041373934305100946,
          -0.04216296890493543,
          -0.04354598439834079,
          -0.04380495940579188,
          -0.04518448145052889,
          -0.0465169970356718,
          -0.04673792069660365,
          -0.04828458098528654,
          -0.04837444001751279,
          -0.048459116716856765,
          -0.04976174872828887,
          -0.05031188421089827,
          -0.05437876230367067,
          -0.0649649157622465,
          -0.06529212985134825,
          -0.06788090869620733,
          -0.06823485511633898,
          -0.07050059294399058,
          -0.07409521408722441,
          -0.08609390014495188,
          -0.09115892714390283,
          -0.10214578770324678,
          -0.11654649468913758,
          -0.12342760474342929
         ],
         "xaxis": "x",
         "y": [
          0.00008398238236245552,
          0.002010911488789907,
          0.003993828850125662,
          0.006056062905914848,
          0.007871015502525693,
          0.00943402095204917,
          0.01094570383457337,
          0.011682882524199368,
          0.012107460123920671,
          0.013059260457361834,
          0.014561611964067982,
          0.015620723119416726,
          0.01765496304775176,
          0.017897578819021077,
          0.01949324408390773,
          0.02123354567397417,
          0.021494824196879588,
          0.02299251001567671,
          0.024998755816557593,
          0.025427999104187922,
          0.025648841665215118,
          0.026033760917709706,
          0.02796224525344017,
          0.030074246646925623,
          0.031618589344813,
          0.03262171224525344,
          0.033979427426779805,
          0.03542112499066862,
          0.03558908975539354,
          0.03677728494289198,
          0.0370012379625252,
          0.043299916639709356,
          0.043577525070296365,
          0.04772532162141986,
          0.05406288103117924,
          0.054216848732177074,
          0.05427983551894892,
          0.05476584467613905,
          0.055315618234752534,
          0.055751082439594896,
          0.05625730957772414,
          0.05773399980093065,
          0.05896651902356483,
          0.05964148854107049,
          0.060360782093711894,
          0.0611539490382462,
          0.061732494338965334,
          0.06542616393361037,
          0.06547282081270063,
          0.06646816756662602,
          0.06687408241471123,
          0.07098377584791102,
          0.0725856620300097,
          0.07310821907582053,
          0.08445361684126708,
          0.08526544653743748,
          0.08669314703759923,
          0.08701430188867046,
          0.08997701371090154,
          0.09005166471744594,
          0.10145927165501281,
          0.10418092293527757,
          0.10450752108890934,
          0.10596321571652524,
          0.10682247990643741,
          0.10745079254485282,
          0.10867164754771444,
          0.10889482295269615,
          0.12006136934829671,
          0.12105671610222211,
          0.12401942792445318,
          0.1256290902530669,
          0.1265311232488118,
          0.12891062408241472,
          0.13047751760519571,
          0.13114937666409535,
          0.13345889217906287,
          0.1349907930425262,
          0.13621009281608482,
          0.13660278821509445,
          0.13727464727399408,
          0.13961137930176426,
          0.14863170925921318,
          0.1494295418916565,
          0.15508280040809216,
          0.1578899893000224,
          0.1610082240525543,
          0.17228363649936546,
          0.18135062333590465,
          0.1832775524423321,
          0.18374023315997712,
          0.1837775586632493,
          0.1857698074004031,
          0.18607774280239878,
          0.18610107124194392,
          0.1935817241894145,
          0.1939681986712121,
          0.2011067011720208,
          0.20120001493020132,
          0.2015670490457113,
          0.2017357914250877,
          0.20205927912011348,
          0.2034309913653669,
          0.20486180232413467,
          0.20589291935202927,
          0.20688826610595465,
          0.21341245303207504,
          0.21592026028317615,
          0.21669398686142285,
          0.21675619603354318,
          0.21828032075049145,
          0.21940008584865753,
          0.2197422362953194,
          0.2202811232488118,
          0.22744295418916566,
          0.22765757583298082,
          0.2312151628636126,
          0.23180926045736183,
          0.23216696319705377,
          0.23268407694030407,
          0.23451924751785402,
          0.23577898325329086,
          0.23821136188319605,
          0.24121295443800234,
          0.24146956727299873,
          0.24181949386617563,
          0.24206522009605097,
          0.24238248687386468,
          0.24325730335680693,
          0.24544240052753377,
          0.2477907967750765,
          0.24821537437479782,
          0.24865083857964018,
          0.24940201433299325,
          0.2506578619951726,
          0.2507216263965959,
          0.25124962674496726,
          0.25129628362405754,
          0.25179317938636875,
          0.25433597929678753,
          0.25745421404931945,
          0.2576151802821808,
          0.2584985505262896,
          0.25926838903127875,
          0.26654686216935825,
          0.26691700674347424,
          0.26697143976907955,
          0.2681223094533058,
          0.26900412446811156,
          0.2693167255580163,
          0.2756853895538358,
          0.2769451252892727,
          0.28336044616418243,
          0.2843682347525319,
          0.2844771008037425,
          0.2853425859108667,
          0.28554165526165176,
          0.2873068405205664,
          0.2876590999576978,
          0.2883161843382188,
          0.2884281608480354,
          0.2887850859730759,
          0.29490491328041407,
          0.29494068355438324,
          0.2965970027620872,
          0.2976203436434668,
          0.29825798765770023,
          0.29845394654987933,
          0.29992752631447983,
          0.3018637867967253,
          0.30386381168039417,
          0.31522476173887076,
          0.31920381591061786,
          0.3204791039390848,
          0.321995452509518,
          0.3233601662229079,
          0.33594974743076117,
          0.3424350536243064,
          0.3428083086570284,
          0.3439591783412546,
          0.34444363226914176,
          0.34462792694154826,
          0.3457787966257745,
          0.3459934182695897,
          0.3460237452409983,
          0.34914197999353025,
          0.34988382437106524,
          0.3522399967651231,
          0.35255415308433075,
          0.35257981436783037,
          0.35570582526687733,
          0.35576414636574016,
          0.35683336651155845,
          0.35711797347400903,
          0.3612237788339513,
          0.36289565033468535,
          0.3634057655460721,
          0.3637976833304302,
          0.36387388956627764,
          0.3699004031154353,
          0.3702736581481574,
          0.37148284893124645,
          0.3719074265309677,
          0.3720124045089208,
          0.3728988852116356,
          0.37318504740338915,
          0.37342299748674945,
          0.3743374723169184,
          0.37547667778137206,
          0.37735072909149725,
          0.37891373454102073,
          0.37973411799835766,
          0.38033676935327343,
          0.3805926045736183,
          0.38062681961828454,
          0.3866766616069873,
          0.3898104486525493,
          0.3902723517555428,
          0.3915942966631,
          0.39306010028118543,
          0.3937506220917212,
          0.3941518712518974,
          0.3950601251648543,
          0.39512544479558065,
          0.3954613743250305,
          0.39552980441436286,
          0.39561689725533133,
          0.3964497225470923,
          0.3983937591758529,
          0.4000189737974967,
          0.4001869385622216,
          0.40468932739443103,
          0.40495060591733645,
          0.4054047328738149,
          0.405790429740961,
          0.40753228656033047,
          0.40755250454126957,
          0.4077951203125389,
          0.4081489349789733,
          0.408278019011123,
          0.40855796028566455,
          0.4089452123821136,
          0.4090595217358847,
          0.4093277987906537,
          0.4157275673725334,
          0.4190946388135467,
          0.4204943451862543,
          0.4205876589444348,
          0.42235284420334934,
          0.4251056000696743,
          0.4271001816507826,
          0.4273023614601737,
          0.4276561761266081,
          0.4279298964839376,
          0.4289439059894991,
          0.4298093910966233,
          0.43114688829721054,
          0.43203414661457684,
          0.43208313633762163,
          0.43291829447333713,
          0.439162540124916,
          0.4412970923432951,
          0.44141606738497524,
          0.44202649488640605,
          0.44226600019906936,
          0.4428476559583945,
          0.4431120449399059,
          0.44445576305770523,
          0.4463686951004056,
          0.44649466867394927,
          0.4473819269913156,
          0.4475498917560405,
          0.4478181688108095,
          0.4493111889416976,
          0.449754429293055,
          0.4506253577027397,
          0.4510919264936422,
          0.4512039030034588,
          0.4512575584144126,
          0.45360595466195536,
          0.4537054893373479,
          0.4539916515291014,
          0.4549768892925573,
          0.4561588635628437,
          0.45769854057282205,
          0.45777085873541196,
          0.45910057978948415,
          0.45917056510811954,
          0.4597211162813845,
          0.4620384079428671,
          0.462197041331774,
          0.46482926692711574,
          0.4659614738597059,
          0.4670851270311295,
          0.4673277428023988,
          0.46740006096498865,
          0.4682165563490681,
          0.4696201507950332,
          0.46999340582775523,
          0.4711660487222236,
          0.4714218839425685,
          0.47144832284071964,
          0.47202220245352977,
          0.4723270273969194,
          0.4735439943265235,
          0.47484727648244457,
          0.47521742105656056,
          0.4753130676586956,
          0.47698027347152067,
          0.4773068716251524,
          0.4804966469256227,
          0.4806086234354393,
          0.4821762945728718,
          0.48815615124293926,
          0.4885527347152064,
          0.4910006656381417,
          0.4933412857391694,
          0.49360178664742327,
          0.4995738671709757,
          0.500188182745664,
          0.5003872520964491,
          0.5013763779331625,
          0.5035785826262225,
          0.5107559658596064,
          0.5108679423694229,
          0.513651802821808,
          0.514379650135616,
          0.5147062482892477,
          0.5164675454749048,
          0.5200329086520517,
          0.5201262224102322,
          0.5203011857068206,
          0.5206806616567546,
          0.5208330741284495,
          0.5210834660462339,
          0.5233105544081419,
          0.5254995396521263,
          0.531891532087491,
          0.5341217309080051,
          0.5347609301515416,
          0.5354918879239555,
          0.5429803170179411,
          0.5431171771966059,
          0.5456444248139946,
          0.5524874337472316,
          0.5543490432229328,
          0.5546562010102769,
          0.5546981922014582,
          0.5552806255754349,
          0.5576212456764625,
          0.5587099061885684,
          0.558996068380322,
          0.5590310610396397,
          0.559090159753154,
          0.560291574389728,
          0.560655498046632,
          0.5655933510836838,
          0.5657286560330456,
          0.5664705004105806,
          0.5670023888322094,
          0.5681610346629508,
          0.5689013238111827,
          0.5693531179237067,
          0.5710794224500461,
          0.5712100617114988,
          0.5725817739567521,
          0.5732629643914698,
          0.5733951588822256,
          0.5801915109363724,
          0.5853159914897853,
          0.5861270435713042,
          0.5863789907183915,
          0.5886574016472989,
          0.589407022171349,
          0.5905034588299699,
          0.5906014382760594,
          0.5907740687286933,
          0.5917538631895887,
          0.5978192574713216,
          0.5984724537785852,
          0.598626421479583,
          0.5995828875009331,
          0.5999934680369273,
          0.6000634533555628,
          0.6007477542488865,
          0.6013682907407868,
          0.6025502650110732,
          0.6084834648020504,
          0.6095868999925349,
          0.609705875034215,
          0.6113015402991017,
          0.6114702826784781,
          0.611638247443203,
          0.6116646863413542,
          0.6117416701918531,
          0.6118256525742155,
          0.6119562918356682,
          0.61872931545027,
          0.6204991663970936,
          0.6206298056585463,
          0.6208203212481648,
          0.6211095938985244,
          0.6211406984845845,
          0.6218475502028019,
          0.6251648543061189,
          0.6256003185109612,
          0.6268989349789733,
          0.627197539005151,
          0.6272473063428472,
          0.6280031477841093,
          0.6280871301664718,
          0.6284953778585115,
          0.6290179349043223,
          0.6292978761788638,
          0.6300350548684898,
          0.630059938537338,
          0.6304705190733322,
          0.6306936944783139,
          0.6307520155771768,
          0.631168817030383,
          0.6319697601214324,
          0.6320677395675218,
          0.632098844153582,
          0.6321758280040809,
          0.6329728830218727,
          0.6331665090700973,
          0.6354993530246099,
          0.6363391768482345,
          0.6367062109637445,
          0.6368640667379999,
          0.6369387177445442,
          0.6378967389951975,
          0.6388485393286386,
          0.6388796439146988,
          0.6419278933485953,
          0.6424831102097693,
          0.6460601376066887,
          0.6464520553910469,
          0.6465500348371364,
          0.64674832657327,
          0.6468906300544952,
          0.6470375992236296,
          0.647676798467166,
          0.6477304538781198,
          0.6478704245153906,
          0.6485236208226541,
          0.6485500597208053,
          0.651994892626969,
          0.6529746870878642,
          0.6537149762360962,
          0.6546084554706746,
          0.6546341167541743,
          0.6563137644014233,
          0.6595330890586508,
          0.659755486848981,
          0.659946780053251,
          0.660506662602334,
          0.6620696680518575,
          0.6628931619678006,
          0.662981810038072,
          0.6640105942220121,
          0.6646824532809117,
          0.6655922624231717,
          0.6659592965386817,
          0.6659717383731057,
          0.6660207280961505,
          0.6668792146714112,
          0.6719375979794461,
          0.6724601550252569,
          0.6726071241943912,
          0.6731024647273994,
          0.6733264177470326,
          0.6735908067285441,
          0.6738287568119044,
          0.6761398275561749,
          0.6761460484733869,
          0.6761833739766591,
          0.6768443464304377,
          0.6770060902779506,
          0.6773925647597482,
          0.6775558638365641,
          0.6777588212606067,
          0.677901124741832,
          0.6783490307810983,
          0.6783941324308856,
          0.6789213551646055,
          0.6790823213974668,
          0.6792347338691617,
          0.6796079889018837,
          0.6802168611740115,
          0.6813272948963596,
          0.6826297994376291,
          0.6826881205364919,
          0.6828070955781721,
          0.6828630838330804,
          0.6850326287107771,
          0.6851741545773509,
          0.6889455856371464,
          0.6890155709557817,
          0.6901205613755692,
          0.6902861932963397,
          0.6903110769651878,
          0.6921866835046159,
          0.6952847002762087,
          0.6953095839450568,
          0.6954775487097817,
          0.6958150334685346,
          0.7000102645133999,
          0.7000312601089904,
          0.7000328153382934,
          0.7000343705675964,
          0.7000693632269142,
          0.7000973573543683,
          0.702149482419688,
          0.7031152798168562,
          0.7031261664219772,
          0.7033337895339289,
          0.7041736133575535,
          0.7044294485778984,
          0.7053252606564312,
          0.7053812489113395,
          0.7054092430387936,
          0.7068478301440765,
          0.7070717831637097,
          0.7078991651529102,
          0.7081114539527708,
          0.7084761552243263,
          0.7085259225620225,
          0.7085819108169309,
          0.7093587478537836,
          0.709428733172419,
          0.709441175006843,
          0.710181464155075,
          0.711188475128773,
          0.7126892714061761,
          0.7130104262572474,
          0.7134023440416055,
          0.7135283176151492,
          0.7136200761440267,
          0.7138129245775997,
          0.7142141737377758,
          0.71431448602782,
          0.7143424801552741,
          0.7143611429069102,
          0.7175804675641376,
          0.7183114253365516,
          0.7183954077189141,
          0.719123255032722,
          0.7191559148480852,
          0.7192943302560529,
          0.7194140829123846,
          0.719487178689626,
          0.7199724102321646,
          0.7199988491303158,
          0.7201046047229204,
          0.7201419302261926,
          0.7201699243536467,
          0.7203192263667355,
          0.7203798803095528,
          0.7206411588324583,
          0.7256412210416304,
          0.7268916254012492,
          0.72704714833155,
          0.7270735872297012,
          0.7273426418991216,
          0.7278885273844775,
          0.7282337882897454,
          0.7287236855201931,
          0.7293488877000025,
          0.7294118744867744,
          0.7294756388881977,
          0.7306824968273322,
          0.7310744146116903,
          0.7315262087242143,
          0.731575198447259,
          0.7325223330927912,
          0.7330573319730261,
          0.7330682185781472,
          0.7340200189115883,
          0.7342377510140095,
          0.7346825465946699,
          0.7359189538905616,
          0.7360013810436211,
          0.7362253340632543,
          0.7363629718565705,
          0.7363909659840246,
          0.7371981299922861,
          0.7383225607783611,
          0.7385745079254485,
          0.7396032921093886,
          0.7399625500783835,
          0.7408443650931893,
          0.7436165613258019,
          0.744204438002339,
          0.744571472117849,
          0.744662453032075,
          0.7448584119242541,
          0.7451772339313708,
          0.7452985418170055,
          0.7456251399706373,
          0.7459206335382089,
          0.7461990195834474,
          0.7469828551521637,
          0.7477736892527435,
          0.7478281222783487,
          0.7478701134695299,
          0.7484338840918705,
          0.7485645233533232,
          0.7486065145445044,
          0.7535715840943589,
          0.7542994314081668,
          0.7544673961728917,
          0.7547193433199791,
          0.7548282093711897,
          0.7549541829447334,
          0.7550148368875507,
          0.7557356856694951,
          0.7574503259760619,
          0.7582621556722323,
          0.7590428807823425,
          0.7592442829770821,
          0.759965909373678,
          0.7605537860502153,
          0.7637264538283525,
          0.7639550725358947,
          0.7641510314280737,
          0.7646922512255206,
          0.7651261602010601,
          0.7653314504690572,
          0.7657746908204146,
          0.7660701843879861,
          0.7664784320800259,
          0.7668454661955358,
          0.7682311755045164,
          0.7689185868564461,
          0.7691705340035335,
          0.7702063167193371,
          0.7707708649563292,
          0.7742973474009008,
          0.7746457187647747,
          0.7776861920521562,
          0.7801263468285764,
          0.7831201632368676,
          0.7836551621171025,
          0.7839654303630528,
          0.7840774068728693,
          0.784559527956802,
          0.7845937430014681,
          0.7849996578495534,
          0.7855159939781522,
          0.7861108691865528,
          0.7862228456963695,
          0.7885867942369423,
          0.7887360962500312,
          0.7888822878045139,
          0.7999244158558738,
          0.8000799387861747,
          0.800154589792719,
          0.8013412297509145,
          0.8014835332321397,
          0.8026211834672904,
          0.8027494898847886,
          0.8027992572224849,
          0.8029423383183617,
          0.8060450207778634,
          0.8062899693930873,
          0.8075714783387663,
          0.8105186378679673,
          0.8107822492348272,
          0.8111671684873217,
          0.8112231567422301,
          0.8112698136213203,
          0.8113537960036827,
          0.8146508821260606,
          0.8151874362355985,
          0.8155575808097146,
          0.8223461567173465,
          0.8231051086172145,
          0.8309123597183169,
          0.8345142707840844,
          0.8346332458257646,
          0.8376970475526911,
          0.8380827444198372,
          0.8384163411053326,
          0.8385073220195586,
          0.8400781036155971,
          0.8403440478264115,
          0.8420804613432205,
          0.8421776631746585,
          0.8422678664742329,
          0.8531155908627168,
          0.8533955321372583,
          0.8534064187423793,
          0.8542112499066863,
          0.8651445119068355,
          0.8652984796078333,
          0.8653980142832259,
          0.8656499614303133,
          0.8658241471122502,
          0.8664120237887875,
          0.8678397242889492,
          0.86799524721925,
          0.8706780177669395,
          0.8762224102321646,
          0.8766283250802498,
          0.876838281036156,
          0.8774354890885112,
          0.8780451389752905,
          0.8781011272301988,
          0.8787605444546744,
          0.8834962176823351,
          0.8840934257346903,
          0.8841494139895987,
          0.8849736855201931,
          0.8870265882001642,
          0.8878804090875159,
          0.8880530395401498,
          0.8896238211361883,
          0.891779368950158,
          0.8953579515763804,
          0.8956168972553313,
          0.8959598253166446,
          0.8962988653047005,
          0.896387513374972,
          0.8992522457511135,
          0.902289608579889,
          0.9051512304974245,
          0.9062663299076816,
          0.9064832843954512,
          0.9067119031029935,
          0.9068285453007191,
          0.9076154913280414,
          0.9079140953542191,
          0.9080074091123995,
          0.9100836402319158,
          0.9101131895886729,
          0.9109623447881156,
          0.9120782218130241,
          0.9129297098564212,
          0.9142415457735088,
          0.9183512392067087,
          0.921555011570906,
          0.9251102657575833,
          0.9279050128150894,
          0.9286981797596238,
          0.9295869933062931,
          0.93012821310374,
          0.9313381815014806,
          0.9314361609475701,
          0.9317720904770199,
          0.9328405330081867,
          0.9336881329783263,
          0.9365995222335581,
          0.9369859967153558,
          0.9412045561997661,
          0.9442792445318138,
          0.9445654067235674,
          0.9462800470301341,
          0.9486004491502227,
          0.9487357540995844,
          0.9493516249035758,
          0.9497279903949039,
          0.9545180966481698,
          0.9548446948018016,
          0.9559862331102098,
          0.9576503284644288,
          0.9581962139497847,
          0.9584520491701296,
          0.9585710242118098,
          0.9586200139348545,
          0.9589629419961679,
          0.9591099111653022,
          0.9593400851021474,
          0.9601021474606216,
          0.9606083745987508,
          0.9614295356707393,
          0.9642989337347898,
          0.9650376676537189,
          0.9666240015427875,
          0.9667546408042402,
          0.9668736158459204,
          0.9669482668524647,
          0.9672048796874612,
          0.9701582601338742,
          0.9722865914350411,
          0.972449890511857,
          0.9724825503272202,
          0.9730424328763033,
          0.9731419675516958,
          0.9733519235076019,
          0.9741108754074701,
          0.9744234764973748,
          0.9744957946599647,
          0.9747757359345062,
          0.9754149351780427,
          0.9756342225097668,
          0.9760261402941249,
          0.9775502650110732,
          0.9780821534327021,
          0.9781987956304278,
          0.9791879214671411,
          0.97926490531764,
          0.9797929056660114,
          0.9807136014133924,
          0.9816996167914998,
          0.9825347749272153,
          0.9839344812999229,
          0.9843613917435987,
          0.9848901697066216,
          0.9856677843581257,
          0.9857517667404883,
          0.9862183355313907,
          0.9871125923806205,
          0.9872836676039515,
          0.9880270672107896,
          0.9883256712369671,
          0.9883606638962849,
          0.9887867967253092,
          0.9891351680891831,
          0.9938008559982083,
          0.9940683554383258,
          0.9945045972578197,
          0.9954983887824421,
          0.9964237502177321,
          0.9964548548037923,
          0.9968281098365143,
          0.997876334386742,
          0.9985481934456416,
          0.9989027857267275,
          0.9991267387463607,
          0.9991454014979969,
          0.9993856844253116,
          0.99944167268022,
          0.9994976609351283,
          0.9997636051459428,
          1
         ],
         "yaxis": "y"
        }
       ],
       "layout": {
        "legend": {
         "tracegroupgap": 0
        },
        "margin": {
         "t": 60
        },
        "template": {
         "data": {
          "bar": [
           {
            "error_x": {
             "color": "#2a3f5f"
            },
            "error_y": {
             "color": "#2a3f5f"
            },
            "marker": {
             "line": {
              "color": "#E5ECF6",
              "width": 0.5
             },
             "pattern": {
              "fillmode": "overlay",
              "size": 10,
              "solidity": 0.2
             }
            },
            "type": "bar"
           }
          ],
          "barpolar": [
           {
            "marker": {
             "line": {
              "color": "#E5ECF6",
              "width": 0.5
             },
             "pattern": {
              "fillmode": "overlay",
              "size": 10,
              "solidity": 0.2
             }
            },
            "type": "barpolar"
           }
          ],
          "carpet": [
           {
            "aaxis": {
             "endlinecolor": "#2a3f5f",
             "gridcolor": "white",
             "linecolor": "white",
             "minorgridcolor": "white",
             "startlinecolor": "#2a3f5f"
            },
            "baxis": {
             "endlinecolor": "#2a3f5f",
             "gridcolor": "white",
             "linecolor": "white",
             "minorgridcolor": "white",
             "startlinecolor": "#2a3f5f"
            },
            "type": "carpet"
           }
          ],
          "choropleth": [
           {
            "colorbar": {
             "outlinewidth": 0,
             "ticks": ""
            },
            "type": "choropleth"
           }
          ],
          "contour": [
           {
            "colorbar": {
             "outlinewidth": 0,
             "ticks": ""
            },
            "colorscale": [
             [
              0,
              "#0d0887"
             ],
             [
              0.1111111111111111,
              "#46039f"
             ],
             [
              0.2222222222222222,
              "#7201a8"
             ],
             [
              0.3333333333333333,
              "#9c179e"
             ],
             [
              0.4444444444444444,
              "#bd3786"
             ],
             [
              0.5555555555555556,
              "#d8576b"
             ],
             [
              0.6666666666666666,
              "#ed7953"
             ],
             [
              0.7777777777777778,
              "#fb9f3a"
             ],
             [
              0.8888888888888888,
              "#fdca26"
             ],
             [
              1,
              "#f0f921"
             ]
            ],
            "type": "contour"
           }
          ],
          "contourcarpet": [
           {
            "colorbar": {
             "outlinewidth": 0,
             "ticks": ""
            },
            "type": "contourcarpet"
           }
          ],
          "heatmap": [
           {
            "colorbar": {
             "outlinewidth": 0,
             "ticks": ""
            },
            "colorscale": [
             [
              0,
              "#0d0887"
             ],
             [
              0.1111111111111111,
              "#46039f"
             ],
             [
              0.2222222222222222,
              "#7201a8"
             ],
             [
              0.3333333333333333,
              "#9c179e"
             ],
             [
              0.4444444444444444,
              "#bd3786"
             ],
             [
              0.5555555555555556,
              "#d8576b"
             ],
             [
              0.6666666666666666,
              "#ed7953"
             ],
             [
              0.7777777777777778,
              "#fb9f3a"
             ],
             [
              0.8888888888888888,
              "#fdca26"
             ],
             [
              1,
              "#f0f921"
             ]
            ],
            "type": "heatmap"
           }
          ],
          "heatmapgl": [
           {
            "colorbar": {
             "outlinewidth": 0,
             "ticks": ""
            },
            "colorscale": [
             [
              0,
              "#0d0887"
             ],
             [
              0.1111111111111111,
              "#46039f"
             ],
             [
              0.2222222222222222,
              "#7201a8"
             ],
             [
              0.3333333333333333,
              "#9c179e"
             ],
             [
              0.4444444444444444,
              "#bd3786"
             ],
             [
              0.5555555555555556,
              "#d8576b"
             ],
             [
              0.6666666666666666,
              "#ed7953"
             ],
             [
              0.7777777777777778,
              "#fb9f3a"
             ],
             [
              0.8888888888888888,
              "#fdca26"
             ],
             [
              1,
              "#f0f921"
             ]
            ],
            "type": "heatmapgl"
           }
          ],
          "histogram": [
           {
            "marker": {
             "pattern": {
              "fillmode": "overlay",
              "size": 10,
              "solidity": 0.2
             }
            },
            "type": "histogram"
           }
          ],
          "histogram2d": [
           {
            "colorbar": {
             "outlinewidth": 0,
             "ticks": ""
            },
            "colorscale": [
             [
              0,
              "#0d0887"
             ],
             [
              0.1111111111111111,
              "#46039f"
             ],
             [
              0.2222222222222222,
              "#7201a8"
             ],
             [
              0.3333333333333333,
              "#9c179e"
             ],
             [
              0.4444444444444444,
              "#bd3786"
             ],
             [
              0.5555555555555556,
              "#d8576b"
             ],
             [
              0.6666666666666666,
              "#ed7953"
             ],
             [
              0.7777777777777778,
              "#fb9f3a"
             ],
             [
              0.8888888888888888,
              "#fdca26"
             ],
             [
              1,
              "#f0f921"
             ]
            ],
            "type": "histogram2d"
           }
          ],
          "histogram2dcontour": [
           {
            "colorbar": {
             "outlinewidth": 0,
             "ticks": ""
            },
            "colorscale": [
             [
              0,
              "#0d0887"
             ],
             [
              0.1111111111111111,
              "#46039f"
             ],
             [
              0.2222222222222222,
              "#7201a8"
             ],
             [
              0.3333333333333333,
              "#9c179e"
             ],
             [
              0.4444444444444444,
              "#bd3786"
             ],
             [
              0.5555555555555556,
              "#d8576b"
             ],
             [
              0.6666666666666666,
              "#ed7953"
             ],
             [
              0.7777777777777778,
              "#fb9f3a"
             ],
             [
              0.8888888888888888,
              "#fdca26"
             ],
             [
              1,
              "#f0f921"
             ]
            ],
            "type": "histogram2dcontour"
           }
          ],
          "mesh3d": [
           {
            "colorbar": {
             "outlinewidth": 0,
             "ticks": ""
            },
            "type": "mesh3d"
           }
          ],
          "parcoords": [
           {
            "line": {
             "colorbar": {
              "outlinewidth": 0,
              "ticks": ""
             }
            },
            "type": "parcoords"
           }
          ],
          "pie": [
           {
            "automargin": true,
            "type": "pie"
           }
          ],
          "scatter": [
           {
            "fillpattern": {
             "fillmode": "overlay",
             "size": 10,
             "solidity": 0.2
            },
            "type": "scatter"
           }
          ],
          "scatter3d": [
           {
            "line": {
             "colorbar": {
              "outlinewidth": 0,
              "ticks": ""
             }
            },
            "marker": {
             "colorbar": {
              "outlinewidth": 0,
              "ticks": ""
             }
            },
            "type": "scatter3d"
           }
          ],
          "scattercarpet": [
           {
            "marker": {
             "colorbar": {
              "outlinewidth": 0,
              "ticks": ""
             }
            },
            "type": "scattercarpet"
           }
          ],
          "scattergeo": [
           {
            "marker": {
             "colorbar": {
              "outlinewidth": 0,
              "ticks": ""
             }
            },
            "type": "scattergeo"
           }
          ],
          "scattergl": [
           {
            "marker": {
             "colorbar": {
              "outlinewidth": 0,
              "ticks": ""
             }
            },
            "type": "scattergl"
           }
          ],
          "scattermapbox": [
           {
            "marker": {
             "colorbar": {
              "outlinewidth": 0,
              "ticks": ""
             }
            },
            "type": "scattermapbox"
           }
          ],
          "scatterpolar": [
           {
            "marker": {
             "colorbar": {
              "outlinewidth": 0,
              "ticks": ""
             }
            },
            "type": "scatterpolar"
           }
          ],
          "scatterpolargl": [
           {
            "marker": {
             "colorbar": {
              "outlinewidth": 0,
              "ticks": ""
             }
            },
            "type": "scatterpolargl"
           }
          ],
          "scatterternary": [
           {
            "marker": {
             "colorbar": {
              "outlinewidth": 0,
              "ticks": ""
             }
            },
            "type": "scatterternary"
           }
          ],
          "surface": [
           {
            "colorbar": {
             "outlinewidth": 0,
             "ticks": ""
            },
            "colorscale": [
             [
              0,
              "#0d0887"
             ],
             [
              0.1111111111111111,
              "#46039f"
             ],
             [
              0.2222222222222222,
              "#7201a8"
             ],
             [
              0.3333333333333333,
              "#9c179e"
             ],
             [
              0.4444444444444444,
              "#bd3786"
             ],
             [
              0.5555555555555556,
              "#d8576b"
             ],
             [
              0.6666666666666666,
              "#ed7953"
             ],
             [
              0.7777777777777778,
              "#fb9f3a"
             ],
             [
              0.8888888888888888,
              "#fdca26"
             ],
             [
              1,
              "#f0f921"
             ]
            ],
            "type": "surface"
           }
          ],
          "table": [
           {
            "cells": {
             "fill": {
              "color": "#EBF0F8"
             },
             "line": {
              "color": "white"
             }
            },
            "header": {
             "fill": {
              "color": "#C8D4E3"
             },
             "line": {
              "color": "white"
             }
            },
            "type": "table"
           }
          ]
         },
         "layout": {
          "annotationdefaults": {
           "arrowcolor": "#2a3f5f",
           "arrowhead": 0,
           "arrowwidth": 1
          },
          "autotypenumbers": "strict",
          "coloraxis": {
           "colorbar": {
            "outlinewidth": 0,
            "ticks": ""
           }
          },
          "colorscale": {
           "diverging": [
            [
             0,
             "#8e0152"
            ],
            [
             0.1,
             "#c51b7d"
            ],
            [
             0.2,
             "#de77ae"
            ],
            [
             0.3,
             "#f1b6da"
            ],
            [
             0.4,
             "#fde0ef"
            ],
            [
             0.5,
             "#f7f7f7"
            ],
            [
             0.6,
             "#e6f5d0"
            ],
            [
             0.7,
             "#b8e186"
            ],
            [
             0.8,
             "#7fbc41"
            ],
            [
             0.9,
             "#4d9221"
            ],
            [
             1,
             "#276419"
            ]
           ],
           "sequential": [
            [
             0,
             "#0d0887"
            ],
            [
             0.1111111111111111,
             "#46039f"
            ],
            [
             0.2222222222222222,
             "#7201a8"
            ],
            [
             0.3333333333333333,
             "#9c179e"
            ],
            [
             0.4444444444444444,
             "#bd3786"
            ],
            [
             0.5555555555555556,
             "#d8576b"
            ],
            [
             0.6666666666666666,
             "#ed7953"
            ],
            [
             0.7777777777777778,
             "#fb9f3a"
            ],
            [
             0.8888888888888888,
             "#fdca26"
            ],
            [
             1,
             "#f0f921"
            ]
           ],
           "sequentialminus": [
            [
             0,
             "#0d0887"
            ],
            [
             0.1111111111111111,
             "#46039f"
            ],
            [
             0.2222222222222222,
             "#7201a8"
            ],
            [
             0.3333333333333333,
             "#9c179e"
            ],
            [
             0.4444444444444444,
             "#bd3786"
            ],
            [
             0.5555555555555556,
             "#d8576b"
            ],
            [
             0.6666666666666666,
             "#ed7953"
            ],
            [
             0.7777777777777778,
             "#fb9f3a"
            ],
            [
             0.8888888888888888,
             "#fdca26"
            ],
            [
             1,
             "#f0f921"
            ]
           ]
          },
          "colorway": [
           "#636efa",
           "#EF553B",
           "#00cc96",
           "#ab63fa",
           "#FFA15A",
           "#19d3f3",
           "#FF6692",
           "#B6E880",
           "#FF97FF",
           "#FECB52"
          ],
          "font": {
           "color": "#2a3f5f"
          },
          "geo": {
           "bgcolor": "white",
           "lakecolor": "white",
           "landcolor": "#E5ECF6",
           "showlakes": true,
           "showland": true,
           "subunitcolor": "white"
          },
          "hoverlabel": {
           "align": "left"
          },
          "hovermode": "closest",
          "mapbox": {
           "style": "light"
          },
          "paper_bgcolor": "white",
          "plot_bgcolor": "#E5ECF6",
          "polar": {
           "angularaxis": {
            "gridcolor": "white",
            "linecolor": "white",
            "ticks": ""
           },
           "bgcolor": "#E5ECF6",
           "radialaxis": {
            "gridcolor": "white",
            "linecolor": "white",
            "ticks": ""
           }
          },
          "scene": {
           "xaxis": {
            "backgroundcolor": "#E5ECF6",
            "gridcolor": "white",
            "gridwidth": 2,
            "linecolor": "white",
            "showbackground": true,
            "ticks": "",
            "zerolinecolor": "white"
           },
           "yaxis": {
            "backgroundcolor": "#E5ECF6",
            "gridcolor": "white",
            "gridwidth": 2,
            "linecolor": "white",
            "showbackground": true,
            "ticks": "",
            "zerolinecolor": "white"
           },
           "zaxis": {
            "backgroundcolor": "#E5ECF6",
            "gridcolor": "white",
            "gridwidth": 2,
            "linecolor": "white",
            "showbackground": true,
            "ticks": "",
            "zerolinecolor": "white"
           }
          },
          "shapedefaults": {
           "line": {
            "color": "#2a3f5f"
           }
          },
          "ternary": {
           "aaxis": {
            "gridcolor": "white",
            "linecolor": "white",
            "ticks": ""
           },
           "baxis": {
            "gridcolor": "white",
            "linecolor": "white",
            "ticks": ""
           },
           "bgcolor": "#E5ECF6",
           "caxis": {
            "gridcolor": "white",
            "linecolor": "white",
            "ticks": ""
           }
          },
          "title": {
           "x": 0.05
          },
          "xaxis": {
           "automargin": true,
           "gridcolor": "white",
           "linecolor": "white",
           "ticks": "",
           "title": {
            "standoff": 15
           },
           "zerolinecolor": "white",
           "zerolinewidth": 2
          },
          "yaxis": {
           "automargin": true,
           "gridcolor": "white",
           "linecolor": "white",
           "ticks": "",
           "title": {
            "standoff": 15
           },
           "zerolinecolor": "white",
           "zerolinewidth": 2
          }
         }
        },
        "xaxis": {
         "anchor": "y",
         "domain": [
          0,
          1
         ],
         "title": {
          "text": "nll_diff"
         }
        },
        "yaxis": {
         "anchor": "x",
         "domain": [
          0,
          1
         ],
         "title": {
          "text": "proportion"
         }
        }
       }
      },
      "text/html": [
       "<div>                            <div id=\"8082c69e-dd96-4f4b-b1a6-e60114a0e703\" class=\"plotly-graph-div\" style=\"height:525px; width:100%;\"></div>            <script type=\"text/javascript\">                require([\"plotly\"], function(Plotly) {                    window.PLOTLYENV=window.PLOTLYENV || {};                                    if (document.getElementById(\"8082c69e-dd96-4f4b-b1a6-e60114a0e703\")) {                    Plotly.newPlot(                        \"8082c69e-dd96-4f4b-b1a6-e60114a0e703\",                        [{\"hovertemplate\":\"nll_diff=%{x}\\u003cbr\\u003eproportion=%{y}\\u003cextra\\u003e\\u003c\\u002fextra\\u003e\",\"legendgroup\":\"\",\"line\":{\"color\":\"#636efa\",\"dash\":\"solid\"},\"marker\":{\"symbol\":\"circle\"},\"mode\":\"lines\",\"name\":\"\",\"orientation\":\"v\",\"showlegend\":false,\"x\":[0.33057384706080706,0.2186548848014025,0.21574447332922997,0.2118301390464441,0.2113379962394315,0.17104722840828823,0.16647409332124674,0.16554676309408412,0.16044529644238015,0.1582772410542428,0.14638799546838044,0.14397515416709816,0.141261222720942,0.12795096908301984,0.12253467104125426,0.12213549743893948,0.11055890163061854,0.0975976766429385,0.09165815834472957,0.08576926688157882,0.08564711826173443,0.0834071612905476,0.08109278933300157,0.07918031298969153,0.07902876959748562,0.07762130687370883,0.07482525213629199,0.07421626303881279,0.07246268758717767,0.07193400706599129,0.07186258457494699,0.0693957204888358,0.0680700006765449,0.06790106361645276,0.06740346948904463,0.06596170425741121,0.06577770295614638,0.06461919104794445,0.0646108545238524,0.06416040369476206,0.06370851366310659,0.06332349384356739,0.06293315950620892,0.06201481875411319,0.06200445227909945,0.061641262617244674,0.06147030428179323,0.05924047115085518,0.05893282697621305,0.058626158470775236,0.05852722847838243,0.05784259134360625,0.05556171034711843,0.05487984151127012,0.05482963593958967,0.054312755895233655,0.05347055354204944,0.05341838967907053,0.05332478570501564,0.052751833719932195,0.05274262482752334,0.05183939364547063,0.05173572988261799,0.05099768119565762,0.050510521852717094,0.050484225348313094,0.05031963469478562,0.05015592946722092,0.04987365682802847,0.04929245461581089,0.04856131858528112,0.048254127942229275,0.04815690336133671,0.04790974832462913,0.047894308242525385,0.046887763395551785,0.04684189352293644,0.04675922665832788,0.0467109844905047,0.04598381709484478,0.04588108769730148,0.04551266028834133,0.04511475931610498,0.04365614069288504,0.043566977629877934,0.0434969139823409,0.043412821584798866,0.04339683187392995,0.04332095625958443,0.043220964984235,0.04312420484774693,0.043090278297179485,0.04259674354920473,0.042251754444091016,0.04174057592016145,0.04133669030025855,0.04095828931089529,0.0409392916228517,0.04090021246768294,0.040879480298554816,0.04071597226745971,0.04051293391331279,0.040265124217554904,0.03931342450068054,0.03921373292176478,0.03841006619834564,0.03740143551970432,0.036998138250593726,0.03673158724443781,0.03666735915994379,0.03661227771849651,0.03649306957894205,0.03642172545069888,0.036330232223438674,0.036244917556671474,0.03588810724858593,0.035537761379345056,0.03530273277915841,0.03482942471064043,0.034737706745822994,0.03467795533452356,0.03456437211224417,0.03444254373352673,0.03410691939387278,0.03403483657959783,0.03368401225252726,0.03352460763794107,0.033200963778245995,0.03314189954928537,0.0330501269886283,0.03259297334053146,0.032576752234631856,0.03248639123890351,0.03247522366634392,0.03237052604466095,0.0323524266212869,0.032045531262546056,0.032045432888693215,0.031888056995500236,0.03185842773664249,0.031719121850265264,0.03152521861197455,0.03147106713465897,0.03130917040067205,0.03129032007813182,0.031116008079325352,0.030949210190826193,0.030902833048646716,0.03075352730162728,0.030631074627348598,0.03053084328737432,0.030299338408192877,0.03017003517365735,0.029855575534560863,0.029535472285042275,0.029160256669088724,0.0291425312886453,0.029108645734658545,0.029059116132831964,0.02900492787871034,0.02898295385759253,0.028626950447590227,0.028224393367850542,0.027609578663698953,0.02712063520660024,0.02703312058672669,0.026952623778519813,0.02689391771002858,0.026814733217999542,0.02665547954416292,0.02640923893048419,0.026290180865333523,0.026239886448716332,0.026152180698936878,0.02613599539707434,0.025873471073737386,0.025834862843780337,0.02551078555644204,0.02545024304667698,0.025191337626197408,0.02511612420025977,0.02491537380395359,0.02490708051779289,0.02440741605210134,0.024368011498236974,0.02367144209235894,0.02354629711455103,0.02341849798133966,0.022561846677096487,0.02246190929749936,0.022316002955938385,0.022251696569087542,0.021763365896083853,0.021654640436289396,0.021551996949032093,0.021060888802271638,0.021028410031791678,0.020577670267255987,0.020433063954643726,0.02004564882590487,0.019917083523693146,0.01981382635111406,0.019746917164598754,0.019689181281106638,0.018804293186550636,0.018548598900456126,0.018544608676860808,0.01852410553457373,0.018418829116032764,0.01817554884690531,0.018171692121209393,0.018128225098493544,0.01809292607323365,0.01759308809456861,0.01721605771586987,0.017214130872481803,0.017118332768329303,0.017108807229644807,0.017049717707292134,0.017028141913041694,0.016920553106002822,0.016761568188927822,0.016684789984467208,0.016619147384693167,0.01612761902205695,0.016036882994041823,0.015960283520751517,0.015939116780420592,0.01574379201759646,0.015661043328644375,0.01563820790519288,0.015626573067949012,0.015558898665795295,0.015512041198283866,0.015428595052885408,0.015231236973100915,0.015219509554738886,0.015082671448722884,0.01507124398331472,0.01503099489442511,0.01500607402542653,0.014854571586217613,0.014844519261975275,0.014748110847393248,0.014674369240015528,0.01465217154835119,0.014290834896094173,0.014289408735457143,0.014267567626720323,0.014230415326327073,0.014089261756881521,0.013888222613670342,0.013744564140950377,0.01340873465057979,0.013289311867704878,0.013264413992119195,0.013186964680086621,0.013128859904459222,0.0128143066347699,0.012748985659712386,0.012698880718360561,0.012676452270282912,0.012224469365289536,0.01216212224263602,0.012157409782306394,0.012102732851169029,0.012049418337475526,0.012021976306106463,0.012012551637456514,0.011860723603683176,0.011834431936162293,0.011801292582855227,0.011779638985362939,0.011744929346044763,0.011590178315130095,0.011587825665598683,0.011559777916718028,0.011485640248362294,0.011393864959637678,0.011382395935684908,0.011350676257797065,0.011274362548814643,0.011264207151749916,0.01111845149657209,0.011105902860533146,0.011057480394801145,0.010994695261179466,0.01086249169064013,0.01078749651478439,0.010750563511991995,0.010713753138891224,0.010627818358613261,0.01057460278737099,0.010527171027827631,0.010401178690824908,0.010268517470876537,0.010177512941804912,0.010166692353872131,0.010153228604616205,0.010138025366704273,0.010052079363446209,0.010043624248773364,0.010026489437949149,0.009769044705807417,0.009752162580480395,0.00959941720153823,0.009528875160818462,0.00952706740829845,0.009344608637628649,0.009333560163396148,0.009308821466855521,0.009120979877634383,0.009058551638822632,0.009047990891717594,0.00901797434614604,0.009006101559630997,0.008813193712385647,0.008643358266800627,0.008604932116164754,0.00852728855788154,0.008523162903960824,0.008518509857559753,0.008470342969424172,0.00844654990674476,0.008286727624659429,0.008261358120168039,0.008258292645310528,0.008088405785441677,0.008044159214140478,0.007963907596750808,0.007889593871368117,0.00780566372426561,0.007733691205144444,0.00770714454968302,0.007705411499492498,0.0076852911841620575,0.007547455081406418,0.007520632262425275,0.007491109921057504,0.007480632655170849,0.0074301774749869764,0.007403199052491871,0.007394660095636607,0.0073346166614756125,0.007329053424806942,0.007307440574266577,0.0072396203162456985,0.00722431521242739,0.007157235575922183,0.0071219823144961225,0.006940846375073306,0.006872780073707896,0.006832657808517162,0.006649203822374328,0.00663586596358301,0.00662400388505302,0.006513856432659226,0.006448199620709749,0.006448056959566628,0.0064426635976220226,0.006437606418145281,0.006416833749362416,0.006406415224249118,0.0063555441088956055,0.006337673267293731,0.006335521291910506,0.0063080256851764105,0.006217767770330618,0.0061951535425914805,0.006043451291512847,0.005950796055327556,0.005898197074844624,0.005835885520863893,0.005765984685887737,0.005760803442124041,0.0056933271444463696,0.005655165029682108,0.005613532098564411,0.005571817861190986,0.005569882867482834,0.005500424572486562,0.005420260724147585,0.005208186853205454,0.005206585535987851,0.005184652133193968,0.005145011323354209,0.0050585301343170075,0.005025333708439383,0.0049365480532050365,0.004893015608467,0.004891696399569545,0.00488332493469168,0.0048795847636997625,0.004821398104525532,0.004804443237283573,0.004730659284159278,0.0046458227910004535,0.004612980788368803,0.004593106239215938,0.004559673782886353,0.004526062476287063,0.004434199905296643,0.004328087593170493,0.0042878717851262405,0.004280077139457328,0.0042263250770211425,0.004147439706815748,0.004139972973676076,0.004135237310167739,0.004056554288460079,0.003927662401991272,0.0038726271538759294,0.003871047346889256,0.003836057887534494,0.003739428857472582,0.0037168962216357626,0.0037007090041503155,0.0036882630030307673,0.0036766610990146553,0.003659904236431144,0.003651010678673128,0.0036475180237585114,0.0036202027538692616,0.003606923469243961,0.0035398250049469837,0.0035007228569382542,0.0032657775061486483,0.0031311749437642478,0.003111899759668746,0.003062329071986669,0.0030546106999057576,0.0030352920859169075,0.0030004923621351764,0.002969428331656254,0.0028505778031053808,0.00283513117110884,0.002813285457651915,0.0027712281460394728,0.002730603273678578,0.0027076866971584845,0.0026813644174952245,0.002669953522672408,0.0026203990043399683,0.002605937058987484,0.002554374741661647,0.0024746946234890377,0.002389632565843569,0.002382951299679581,0.002312306768927186,0.0023012974827695265,0.0022221708001278206,0.002193311986068869,0.002189360749282887,0.0021831089907791146,0.0021731555283001636,0.0021640362154602966,0.0020970893398616353,0.0019730077657189593,0.0019563604850735272,0.0018647767192665476,0.0018189782731771187,0.0018164629713509073,0.001813834961496008,0.001638300113810942,0.0014992615514412,0.0013504411645002268,0.0013063068538707867,0.0012625767231999596,0.0011632629013123008,0.0011522115442919034,0.0011466168437805901,0.0010840871156632126,0.0010534435459551572,0.001041559579137985,0.001032847756745836,0.001011238868417752,0.001010611219642632,0.0009928943445165483,0.0009518067866580715,0.0009284025610687419,0.0009210951691757119,0.0008899632823327064,0.000852457688184538,0.0008235756109591374,0.0007980761338441944,0.0007840778752914446,0.0006911951935055782,0.0006517015965288309,0.0006206682344556125,0.0006175560036250083,0.0006143395171875898,0.0005340077120026265,0.0004851009492710112,0.0004820773400329159,0.0004578889669946129,0.00044426099194649904,0.00042874357594779866,0.00037753345843050123,0.00037460750871320947,0.00036548571904004845,0.00026837019283537655,0.00026528787688784305,0.00024525771609651414,0.00018963118588688488,0.00014984161419873132,0.00011141987789309304,6.456934059984043e-05,2.1939364356349245e-05,9.029765801749079e-08,2.6913603567990663e-08,-1.1457792048474857e-08,-1.1591802295818354e-07,-2.9168264207624084e-05,-3.371254292949821e-05,-8.70314471137501e-05,-0.00010064794315789438,-0.00013143284819217005,-0.00020087451445238713,-0.00022267024663857882,-0.0002717221318826457,-0.00027557398914690445,-0.00033807992335627146,-0.00036585952428569435,-0.00051017980884005,-0.0005352597309362661,-0.0005491988103824008,-0.0005688811372629443,-0.0006279710721079912,-0.0006502235339784779,-0.0006848072829508389,-0.0007159634695497186,-0.0007615389386235738,-0.0007953653212344758,-0.00081537527445108,-0.0008568997625105768,-0.0008770426030046963,-0.0009575679688810235,-0.0009886646044421354,-0.0010026823536719576,-0.0010944198569433627,-0.001126975830484378,-0.0011542366739808463,-0.0011616538503032015,-0.0013357444969979981,-0.0013447230517236175,-0.0013566088024379308,-0.0013973148816371905,-0.001419152064703777,-0.0014746868405699498,-0.0015081794762105694,-0.0015472399254932157,-0.0015541795684599902,-0.001557946154462142,-0.001700951277737811,-0.0017353143555927097,-0.00189198695856585,-0.001909730117801045,-0.0019619846669949315,-0.001982790270087298,-0.0020082110907433393,-0.002010745421159532,-0.002013317656840985,-0.002019284088606188,-0.0021536013710415913,-0.0021658052810564765,-0.0021850811241801438,-0.0022167299124786766,-0.0022755299222041447,-0.002399991720212158,-0.002479673013421113,-0.0025258766700565483,-0.002581055672953747,-0.0027066661350305665,-0.0027149341752270573,-0.002742422023024549,-0.0027468261306202724,-0.0027698974908219043,-0.0028438350792793776,-0.002847933503505873,-0.002974680923945483,-0.0030304255741109287,-0.003076702730796743,-0.0030853573576392623,-0.0032492281135354517,-0.0032970465205031108,-0.0033217384491130986,-0.0033285262581610464,-0.003445169972473794,-0.0035180275629800306,-0.003683709640502464,-0.003697934677592829,-0.00370568307992325,-0.003734835012632942,-0.00373752366167579,-0.0037427755048597966,-0.003761136573733781,-0.0038191954871922285,-0.0038453397195536976,-0.003862403769195888,-0.00391362046568744,-0.004002444584742748,-0.004006972167770129,-0.004034428641747301,-0.004146592621896428,-0.004160008583819819,-0.004213388959257047,-0.00424543097132668,-0.0043896392136262286,-0.004459437924124843,-0.004548210254253338,-0.004549503744154415,-0.004569767368376221,-0.004608953308283814,-0.004640041715758603,-0.004733134917558668,-0.004776954394873134,-0.004785954950285554,-0.004944819323073668,-0.005212591392904864,-0.005218738785423116,-0.005248626905822951,-0.005275757408222725,-0.005292427021946988,-0.005408056907501013,-0.005505522207694069,-0.005537226928295169,-0.00565787636826709,-0.005702123484819133,-0.005712860458966906,-0.005860026767362525,-0.005953400608735393,-0.006041456247096733,-0.00612068502005525,-0.006291391122725587,-0.006291706076311021,-0.006341421237543887,-0.006442787377231696,-0.006576786164091797,-0.006693390713614411,-0.006696724381126673,-0.006738663703213854,-0.006774286029206378,-0.006831405814037184,-0.006852492998740467,-0.006934425638273289,-0.007059826720065887,-0.007099342896299432,-0.007193715827208846,-0.007226110862650348,-0.0073248899505437,-0.007335015513736498,-0.007399267386934527,-0.007479666437530064,-0.0075143241336317335,-0.007529555727620485,-0.007568043724601736,-0.007573782159420173,-0.00771886821571055,-0.007781467932242325,-0.007800050066984809,-0.007801167615233862,-0.007815246124622366,-0.007841005320152306,-0.007916082418182091,-0.00814299984818212,-0.008183708123399303,-0.008251496454322993,-0.00827208048440653,-0.008389806300465485,-0.008423873599663123,-0.008550318315643013,-0.008637090679531778,-0.008795453885980242,-0.008823462335553645,-0.008858717310535447,-0.008911878540642126,-0.008924407579383509,-0.009026750885018808,-0.009061110266034067,-0.009293981436885312,-0.009412132983708243,-0.009573497265698672,-0.009909099225278495,-0.009938850875788718,-0.009976454969636839,-0.01005258575711565,-0.010153987158893152,-0.010239079315498723,-0.010302682995916523,-0.010345944455489642,-0.010442151750598594,-0.010506452158357327,-0.01050992593335709,-0.010688388584728037,-0.010766473415016353,-0.010863959661017608,-0.010893822631131367,-0.010932947936283188,-0.010963555616523735,-0.011126177424332084,-0.011166852796583582,-0.011203100919905173,-0.011225388568754102,-0.011452458504750185,-0.011652854024277737,-0.011847518982081695,-0.01186570130678466,-0.011951126627860242,-0.01198956326211853,-0.01201992938154095,-0.01206682885603061,-0.012209229096356355,-0.012211490438211126,-0.012362645312351206,-0.012595706828904651,-0.012703485009415427,-0.012954766547293217,-0.012994641175148702,-0.013040341924844823,-0.01312138998105894,-0.013355494800789014,-0.013482570824590034,-0.013485339754236936,-0.0134934941648025,-0.013683586410204507,-0.013712354165565488,-0.013732853243134002,-0.014141446757367948,-0.01421783692486489,-0.014417102779670898,-0.014779706503567747,-0.014806680573740905,-0.015014209641837195,-0.015100698935354373,-0.015233219504491746,-0.015638428059619347,-0.01574893452756876,-0.016152143533565866,-0.016539466205386155,-0.017490947914444055,-0.017862441913373495,-0.017889749801205168,-0.018389066595270842,-0.01846376071333311,-0.018583462416521312,-0.018673552100111568,-0.01882748100179843,-0.018978288493172846,-0.019064510565318882,-0.01912584657142813,-0.019399803519558834,-0.019846792923162937,-0.020212797168174035,-0.020348181540771115,-0.020642216909786626,-0.02065364379166068,-0.020855886533468704,-0.020918843767586237,-0.02093145645283201,-0.021194074033649146,-0.021206634194302687,-0.02127306075482549,-0.02128054947770175,-0.021588945607865284,-0.021625398271817975,-0.021694351907713738,-0.021727749204925484,-0.021814115754482888,-0.022179670500911186,-0.022333898516031736,-0.022973421998538024,-0.023003217879325577,-0.02350217783333708,-0.02384404093398751,-0.023875666585097877,-0.02392197809831753,-0.024080683841731787,-0.024229112027690736,-0.02431889511338481,-0.024362358741277013,-0.024457698079846768,-0.025189471933321217,-0.025270145662850574,-0.025380184012907536,-0.025649149835560214,-0.025796737541841752,-0.025863661592452347,-0.027223153987315563,-0.028067197273543898,-0.028998289846393188,-0.029158250057342627,-0.03214938069090412,-0.03242640654079043,-0.033326163996427516,-0.03446433691106976,-0.0345147400597976,-0.03454606357116696,-0.03467924190476013,-0.034855035240320964,-0.03498239647246271,-0.03551820944210671,-0.03553142367342388,-0.036616491178842914,-0.03768928988636988,-0.038060067973053835,-0.03937271776200513,-0.039395072874583104,-0.03964715055367163,-0.03968778713044052,-0.04076119554135216,-0.041193556638901896,-0.04128312328998074,-0.041373934305100946,-0.04216296890493543,-0.04354598439834079,-0.04380495940579188,-0.04518448145052889,-0.0465169970356718,-0.04673792069660365,-0.04828458098528654,-0.04837444001751279,-0.048459116716856765,-0.04976174872828887,-0.05031188421089827,-0.05437876230367067,-0.0649649157622465,-0.06529212985134825,-0.06788090869620733,-0.06823485511633898,-0.07050059294399058,-0.07409521408722441,-0.08609390014495188,-0.09115892714390283,-0.10214578770324678,-0.11654649468913758,-0.12342760474342929],\"xaxis\":\"x\",\"y\":[8.398238236245552e-05,0.002010911488789907,0.003993828850125662,0.006056062905914848,0.007871015502525693,0.00943402095204917,0.01094570383457337,0.011682882524199368,0.012107460123920671,0.013059260457361834,0.014561611964067982,0.015620723119416726,0.01765496304775176,0.017897578819021077,0.01949324408390773,0.02123354567397417,0.021494824196879588,0.02299251001567671,0.024998755816557593,0.025427999104187922,0.025648841665215118,0.026033760917709706,0.02796224525344017,0.030074246646925623,0.031618589344813,0.03262171224525344,0.033979427426779805,0.03542112499066862,0.03558908975539354,0.03677728494289198,0.0370012379625252,0.043299916639709356,0.043577525070296365,0.04772532162141986,0.05406288103117924,0.054216848732177074,0.05427983551894892,0.05476584467613905,0.055315618234752534,0.055751082439594896,0.05625730957772414,0.05773399980093065,0.05896651902356483,0.05964148854107049,0.060360782093711894,0.0611539490382462,0.061732494338965334,0.06542616393361037,0.06547282081270063,0.06646816756662602,0.06687408241471123,0.07098377584791102,0.0725856620300097,0.07310821907582053,0.08445361684126708,0.08526544653743748,0.08669314703759923,0.08701430188867046,0.08997701371090154,0.09005166471744594,0.10145927165501281,0.10418092293527757,0.10450752108890934,0.10596321571652524,0.10682247990643741,0.10745079254485282,0.10867164754771444,0.10889482295269615,0.12006136934829671,0.12105671610222211,0.12401942792445318,0.1256290902530669,0.1265311232488118,0.12891062408241472,0.13047751760519571,0.13114937666409535,0.13345889217906287,0.1349907930425262,0.13621009281608482,0.13660278821509445,0.13727464727399408,0.13961137930176426,0.14863170925921318,0.1494295418916565,0.15508280040809216,0.1578899893000224,0.1610082240525543,0.17228363649936546,0.18135062333590465,0.1832775524423321,0.18374023315997712,0.1837775586632493,0.1857698074004031,0.18607774280239878,0.18610107124194392,0.1935817241894145,0.1939681986712121,0.2011067011720208,0.20120001493020132,0.2015670490457113,0.2017357914250877,0.20205927912011348,0.2034309913653669,0.20486180232413467,0.20589291935202927,0.20688826610595465,0.21341245303207504,0.21592026028317615,0.21669398686142285,0.21675619603354318,0.21828032075049145,0.21940008584865753,0.2197422362953194,0.2202811232488118,0.22744295418916566,0.22765757583298082,0.2312151628636126,0.23180926045736183,0.23216696319705377,0.23268407694030407,0.23451924751785402,0.23577898325329086,0.23821136188319605,0.24121295443800234,0.24146956727299873,0.24181949386617563,0.24206522009605097,0.24238248687386468,0.24325730335680693,0.24544240052753377,0.2477907967750765,0.24821537437479782,0.24865083857964018,0.24940201433299325,0.2506578619951726,0.2507216263965959,0.25124962674496726,0.25129628362405754,0.25179317938636875,0.25433597929678753,0.25745421404931945,0.2576151802821808,0.2584985505262896,0.25926838903127875,0.26654686216935825,0.26691700674347424,0.26697143976907955,0.2681223094533058,0.26900412446811156,0.2693167255580163,0.2756853895538358,0.2769451252892727,0.28336044616418243,0.2843682347525319,0.2844771008037425,0.2853425859108667,0.28554165526165176,0.2873068405205664,0.2876590999576978,0.2883161843382188,0.2884281608480354,0.2887850859730759,0.29490491328041407,0.29494068355438324,0.2965970027620872,0.2976203436434668,0.29825798765770023,0.29845394654987933,0.29992752631447983,0.3018637867967253,0.30386381168039417,0.31522476173887076,0.31920381591061786,0.3204791039390848,0.321995452509518,0.3233601662229079,0.33594974743076117,0.3424350536243064,0.3428083086570284,0.3439591783412546,0.34444363226914176,0.34462792694154826,0.3457787966257745,0.3459934182695897,0.3460237452409983,0.34914197999353025,0.34988382437106524,0.3522399967651231,0.35255415308433075,0.35257981436783037,0.35570582526687733,0.35576414636574016,0.35683336651155845,0.35711797347400903,0.3612237788339513,0.36289565033468535,0.3634057655460721,0.3637976833304302,0.36387388956627764,0.3699004031154353,0.3702736581481574,0.37148284893124645,0.3719074265309677,0.3720124045089208,0.3728988852116356,0.37318504740338915,0.37342299748674945,0.3743374723169184,0.37547667778137206,0.37735072909149725,0.37891373454102073,0.37973411799835766,0.38033676935327343,0.3805926045736183,0.38062681961828454,0.3866766616069873,0.3898104486525493,0.3902723517555428,0.3915942966631,0.39306010028118543,0.3937506220917212,0.3941518712518974,0.3950601251648543,0.39512544479558065,0.3954613743250305,0.39552980441436286,0.39561689725533133,0.3964497225470923,0.3983937591758529,0.4000189737974967,0.4001869385622216,0.40468932739443103,0.40495060591733645,0.4054047328738149,0.405790429740961,0.40753228656033047,0.40755250454126957,0.4077951203125389,0.4081489349789733,0.408278019011123,0.40855796028566455,0.4089452123821136,0.4090595217358847,0.4093277987906537,0.4157275673725334,0.4190946388135467,0.4204943451862543,0.4205876589444348,0.42235284420334934,0.4251056000696743,0.4271001816507826,0.4273023614601737,0.4276561761266081,0.4279298964839376,0.4289439059894991,0.4298093910966233,0.43114688829721054,0.43203414661457684,0.43208313633762163,0.43291829447333713,0.439162540124916,0.4412970923432951,0.44141606738497524,0.44202649488640605,0.44226600019906936,0.4428476559583945,0.4431120449399059,0.44445576305770523,0.4463686951004056,0.44649466867394927,0.4473819269913156,0.4475498917560405,0.4478181688108095,0.4493111889416976,0.449754429293055,0.4506253577027397,0.4510919264936422,0.4512039030034588,0.4512575584144126,0.45360595466195536,0.4537054893373479,0.4539916515291014,0.4549768892925573,0.4561588635628437,0.45769854057282205,0.45777085873541196,0.45910057978948415,0.45917056510811954,0.4597211162813845,0.4620384079428671,0.462197041331774,0.46482926692711574,0.4659614738597059,0.4670851270311295,0.4673277428023988,0.46740006096498865,0.4682165563490681,0.4696201507950332,0.46999340582775523,0.4711660487222236,0.4714218839425685,0.47144832284071964,0.47202220245352977,0.4723270273969194,0.4735439943265235,0.47484727648244457,0.47521742105656056,0.4753130676586956,0.47698027347152067,0.4773068716251524,0.4804966469256227,0.4806086234354393,0.4821762945728718,0.48815615124293926,0.4885527347152064,0.4910006656381417,0.4933412857391694,0.49360178664742327,0.4995738671709757,0.500188182745664,0.5003872520964491,0.5013763779331625,0.5035785826262225,0.5107559658596064,0.5108679423694229,0.513651802821808,0.514379650135616,0.5147062482892477,0.5164675454749048,0.5200329086520517,0.5201262224102322,0.5203011857068206,0.5206806616567546,0.5208330741284495,0.5210834660462339,0.5233105544081419,0.5254995396521263,0.531891532087491,0.5341217309080051,0.5347609301515416,0.5354918879239555,0.5429803170179411,0.5431171771966059,0.5456444248139946,0.5524874337472316,0.5543490432229328,0.5546562010102769,0.5546981922014582,0.5552806255754349,0.5576212456764625,0.5587099061885684,0.558996068380322,0.5590310610396397,0.559090159753154,0.560291574389728,0.560655498046632,0.5655933510836838,0.5657286560330456,0.5664705004105806,0.5670023888322094,0.5681610346629508,0.5689013238111827,0.5693531179237067,0.5710794224500461,0.5712100617114988,0.5725817739567521,0.5732629643914698,0.5733951588822256,0.5801915109363724,0.5853159914897853,0.5861270435713042,0.5863789907183915,0.5886574016472989,0.589407022171349,0.5905034588299699,0.5906014382760594,0.5907740687286933,0.5917538631895887,0.5978192574713216,0.5984724537785852,0.598626421479583,0.5995828875009331,0.5999934680369273,0.6000634533555628,0.6007477542488865,0.6013682907407868,0.6025502650110732,0.6084834648020504,0.6095868999925349,0.609705875034215,0.6113015402991017,0.6114702826784781,0.611638247443203,0.6116646863413542,0.6117416701918531,0.6118256525742155,0.6119562918356682,0.61872931545027,0.6204991663970936,0.6206298056585463,0.6208203212481648,0.6211095938985244,0.6211406984845845,0.6218475502028019,0.6251648543061189,0.6256003185109612,0.6268989349789733,0.627197539005151,0.6272473063428472,0.6280031477841093,0.6280871301664718,0.6284953778585115,0.6290179349043223,0.6292978761788638,0.6300350548684898,0.630059938537338,0.6304705190733322,0.6306936944783139,0.6307520155771768,0.631168817030383,0.6319697601214324,0.6320677395675218,0.632098844153582,0.6321758280040809,0.6329728830218727,0.6331665090700973,0.6354993530246099,0.6363391768482345,0.6367062109637445,0.6368640667379999,0.6369387177445442,0.6378967389951975,0.6388485393286386,0.6388796439146988,0.6419278933485953,0.6424831102097693,0.6460601376066887,0.6464520553910469,0.6465500348371364,0.64674832657327,0.6468906300544952,0.6470375992236296,0.647676798467166,0.6477304538781198,0.6478704245153906,0.6485236208226541,0.6485500597208053,0.651994892626969,0.6529746870878642,0.6537149762360962,0.6546084554706746,0.6546341167541743,0.6563137644014233,0.6595330890586508,0.659755486848981,0.659946780053251,0.660506662602334,0.6620696680518575,0.6628931619678006,0.662981810038072,0.6640105942220121,0.6646824532809117,0.6655922624231717,0.6659592965386817,0.6659717383731057,0.6660207280961505,0.6668792146714112,0.6719375979794461,0.6724601550252569,0.6726071241943912,0.6731024647273994,0.6733264177470326,0.6735908067285441,0.6738287568119044,0.6761398275561749,0.6761460484733869,0.6761833739766591,0.6768443464304377,0.6770060902779506,0.6773925647597482,0.6775558638365641,0.6777588212606067,0.677901124741832,0.6783490307810983,0.6783941324308856,0.6789213551646055,0.6790823213974668,0.6792347338691617,0.6796079889018837,0.6802168611740115,0.6813272948963596,0.6826297994376291,0.6826881205364919,0.6828070955781721,0.6828630838330804,0.6850326287107771,0.6851741545773509,0.6889455856371464,0.6890155709557817,0.6901205613755692,0.6902861932963397,0.6903110769651878,0.6921866835046159,0.6952847002762087,0.6953095839450568,0.6954775487097817,0.6958150334685346,0.7000102645133999,0.7000312601089904,0.7000328153382934,0.7000343705675964,0.7000693632269142,0.7000973573543683,0.702149482419688,0.7031152798168562,0.7031261664219772,0.7033337895339289,0.7041736133575535,0.7044294485778984,0.7053252606564312,0.7053812489113395,0.7054092430387936,0.7068478301440765,0.7070717831637097,0.7078991651529102,0.7081114539527708,0.7084761552243263,0.7085259225620225,0.7085819108169309,0.7093587478537836,0.709428733172419,0.709441175006843,0.710181464155075,0.711188475128773,0.7126892714061761,0.7130104262572474,0.7134023440416055,0.7135283176151492,0.7136200761440267,0.7138129245775997,0.7142141737377758,0.71431448602782,0.7143424801552741,0.7143611429069102,0.7175804675641376,0.7183114253365516,0.7183954077189141,0.719123255032722,0.7191559148480852,0.7192943302560529,0.7194140829123846,0.719487178689626,0.7199724102321646,0.7199988491303158,0.7201046047229204,0.7201419302261926,0.7201699243536467,0.7203192263667355,0.7203798803095528,0.7206411588324583,0.7256412210416304,0.7268916254012492,0.72704714833155,0.7270735872297012,0.7273426418991216,0.7278885273844775,0.7282337882897454,0.7287236855201931,0.7293488877000025,0.7294118744867744,0.7294756388881977,0.7306824968273322,0.7310744146116903,0.7315262087242143,0.731575198447259,0.7325223330927912,0.7330573319730261,0.7330682185781472,0.7340200189115883,0.7342377510140095,0.7346825465946699,0.7359189538905616,0.7360013810436211,0.7362253340632543,0.7363629718565705,0.7363909659840246,0.7371981299922861,0.7383225607783611,0.7385745079254485,0.7396032921093886,0.7399625500783835,0.7408443650931893,0.7436165613258019,0.744204438002339,0.744571472117849,0.744662453032075,0.7448584119242541,0.7451772339313708,0.7452985418170055,0.7456251399706373,0.7459206335382089,0.7461990195834474,0.7469828551521637,0.7477736892527435,0.7478281222783487,0.7478701134695299,0.7484338840918705,0.7485645233533232,0.7486065145445044,0.7535715840943589,0.7542994314081668,0.7544673961728917,0.7547193433199791,0.7548282093711897,0.7549541829447334,0.7550148368875507,0.7557356856694951,0.7574503259760619,0.7582621556722323,0.7590428807823425,0.7592442829770821,0.759965909373678,0.7605537860502153,0.7637264538283525,0.7639550725358947,0.7641510314280737,0.7646922512255206,0.7651261602010601,0.7653314504690572,0.7657746908204146,0.7660701843879861,0.7664784320800259,0.7668454661955358,0.7682311755045164,0.7689185868564461,0.7691705340035335,0.7702063167193371,0.7707708649563292,0.7742973474009008,0.7746457187647747,0.7776861920521562,0.7801263468285764,0.7831201632368676,0.7836551621171025,0.7839654303630528,0.7840774068728693,0.784559527956802,0.7845937430014681,0.7849996578495534,0.7855159939781522,0.7861108691865528,0.7862228456963695,0.7885867942369423,0.7887360962500312,0.7888822878045139,0.7999244158558738,0.8000799387861747,0.800154589792719,0.8013412297509145,0.8014835332321397,0.8026211834672904,0.8027494898847886,0.8027992572224849,0.8029423383183617,0.8060450207778634,0.8062899693930873,0.8075714783387663,0.8105186378679673,0.8107822492348272,0.8111671684873217,0.8112231567422301,0.8112698136213203,0.8113537960036827,0.8146508821260606,0.8151874362355985,0.8155575808097146,0.8223461567173465,0.8231051086172145,0.8309123597183169,0.8345142707840844,0.8346332458257646,0.8376970475526911,0.8380827444198372,0.8384163411053326,0.8385073220195586,0.8400781036155971,0.8403440478264115,0.8420804613432205,0.8421776631746585,0.8422678664742329,0.8531155908627168,0.8533955321372583,0.8534064187423793,0.8542112499066863,0.8651445119068355,0.8652984796078333,0.8653980142832259,0.8656499614303133,0.8658241471122502,0.8664120237887875,0.8678397242889492,0.86799524721925,0.8706780177669395,0.8762224102321646,0.8766283250802498,0.876838281036156,0.8774354890885112,0.8780451389752905,0.8781011272301988,0.8787605444546744,0.8834962176823351,0.8840934257346903,0.8841494139895987,0.8849736855201931,0.8870265882001642,0.8878804090875159,0.8880530395401498,0.8896238211361883,0.891779368950158,0.8953579515763804,0.8956168972553313,0.8959598253166446,0.8962988653047005,0.896387513374972,0.8992522457511135,0.902289608579889,0.9051512304974245,0.9062663299076816,0.9064832843954512,0.9067119031029935,0.9068285453007191,0.9076154913280414,0.9079140953542191,0.9080074091123995,0.9100836402319158,0.9101131895886729,0.9109623447881156,0.9120782218130241,0.9129297098564212,0.9142415457735088,0.9183512392067087,0.921555011570906,0.9251102657575833,0.9279050128150894,0.9286981797596238,0.9295869933062931,0.93012821310374,0.9313381815014806,0.9314361609475701,0.9317720904770199,0.9328405330081867,0.9336881329783263,0.9365995222335581,0.9369859967153558,0.9412045561997661,0.9442792445318138,0.9445654067235674,0.9462800470301341,0.9486004491502227,0.9487357540995844,0.9493516249035758,0.9497279903949039,0.9545180966481698,0.9548446948018016,0.9559862331102098,0.9576503284644288,0.9581962139497847,0.9584520491701296,0.9585710242118098,0.9586200139348545,0.9589629419961679,0.9591099111653022,0.9593400851021474,0.9601021474606216,0.9606083745987508,0.9614295356707393,0.9642989337347898,0.9650376676537189,0.9666240015427875,0.9667546408042402,0.9668736158459204,0.9669482668524647,0.9672048796874612,0.9701582601338742,0.9722865914350411,0.972449890511857,0.9724825503272202,0.9730424328763033,0.9731419675516958,0.9733519235076019,0.9741108754074701,0.9744234764973748,0.9744957946599647,0.9747757359345062,0.9754149351780427,0.9756342225097668,0.9760261402941249,0.9775502650110732,0.9780821534327021,0.9781987956304278,0.9791879214671411,0.97926490531764,0.9797929056660114,0.9807136014133924,0.9816996167914998,0.9825347749272153,0.9839344812999229,0.9843613917435987,0.9848901697066216,0.9856677843581257,0.9857517667404883,0.9862183355313907,0.9871125923806205,0.9872836676039515,0.9880270672107896,0.9883256712369671,0.9883606638962849,0.9887867967253092,0.9891351680891831,0.9938008559982083,0.9940683554383258,0.9945045972578197,0.9954983887824421,0.9964237502177321,0.9964548548037923,0.9968281098365143,0.997876334386742,0.9985481934456416,0.9989027857267275,0.9991267387463607,0.9991454014979969,0.9993856844253116,0.99944167268022,0.9994976609351283,0.9997636051459428,1.0],\"yaxis\":\"y\",\"type\":\"scatter\"}],                        {\"template\":{\"data\":{\"histogram2dcontour\":[{\"type\":\"histogram2dcontour\",\"colorbar\":{\"outlinewidth\":0,\"ticks\":\"\"},\"colorscale\":[[0.0,\"#0d0887\"],[0.1111111111111111,\"#46039f\"],[0.2222222222222222,\"#7201a8\"],[0.3333333333333333,\"#9c179e\"],[0.4444444444444444,\"#bd3786\"],[0.5555555555555556,\"#d8576b\"],[0.6666666666666666,\"#ed7953\"],[0.7777777777777778,\"#fb9f3a\"],[0.8888888888888888,\"#fdca26\"],[1.0,\"#f0f921\"]]}],\"choropleth\":[{\"type\":\"choropleth\",\"colorbar\":{\"outlinewidth\":0,\"ticks\":\"\"}}],\"histogram2d\":[{\"type\":\"histogram2d\",\"colorbar\":{\"outlinewidth\":0,\"ticks\":\"\"},\"colorscale\":[[0.0,\"#0d0887\"],[0.1111111111111111,\"#46039f\"],[0.2222222222222222,\"#7201a8\"],[0.3333333333333333,\"#9c179e\"],[0.4444444444444444,\"#bd3786\"],[0.5555555555555556,\"#d8576b\"],[0.6666666666666666,\"#ed7953\"],[0.7777777777777778,\"#fb9f3a\"],[0.8888888888888888,\"#fdca26\"],[1.0,\"#f0f921\"]]}],\"heatmap\":[{\"type\":\"heatmap\",\"colorbar\":{\"outlinewidth\":0,\"ticks\":\"\"},\"colorscale\":[[0.0,\"#0d0887\"],[0.1111111111111111,\"#46039f\"],[0.2222222222222222,\"#7201a8\"],[0.3333333333333333,\"#9c179e\"],[0.4444444444444444,\"#bd3786\"],[0.5555555555555556,\"#d8576b\"],[0.6666666666666666,\"#ed7953\"],[0.7777777777777778,\"#fb9f3a\"],[0.8888888888888888,\"#fdca26\"],[1.0,\"#f0f921\"]]}],\"heatmapgl\":[{\"type\":\"heatmapgl\",\"colorbar\":{\"outlinewidth\":0,\"ticks\":\"\"},\"colorscale\":[[0.0,\"#0d0887\"],[0.1111111111111111,\"#46039f\"],[0.2222222222222222,\"#7201a8\"],[0.3333333333333333,\"#9c179e\"],[0.4444444444444444,\"#bd3786\"],[0.5555555555555556,\"#d8576b\"],[0.6666666666666666,\"#ed7953\"],[0.7777777777777778,\"#fb9f3a\"],[0.8888888888888888,\"#fdca26\"],[1.0,\"#f0f921\"]]}],\"contourcarpet\":[{\"type\":\"contourcarpet\",\"colorbar\":{\"outlinewidth\":0,\"ticks\":\"\"}}],\"contour\":[{\"type\":\"contour\",\"colorbar\":{\"outlinewidth\":0,\"ticks\":\"\"},\"colorscale\":[[0.0,\"#0d0887\"],[0.1111111111111111,\"#46039f\"],[0.2222222222222222,\"#7201a8\"],[0.3333333333333333,\"#9c179e\"],[0.4444444444444444,\"#bd3786\"],[0.5555555555555556,\"#d8576b\"],[0.6666666666666666,\"#ed7953\"],[0.7777777777777778,\"#fb9f3a\"],[0.8888888888888888,\"#fdca26\"],[1.0,\"#f0f921\"]]}],\"surface\":[{\"type\":\"surface\",\"colorbar\":{\"outlinewidth\":0,\"ticks\":\"\"},\"colorscale\":[[0.0,\"#0d0887\"],[0.1111111111111111,\"#46039f\"],[0.2222222222222222,\"#7201a8\"],[0.3333333333333333,\"#9c179e\"],[0.4444444444444444,\"#bd3786\"],[0.5555555555555556,\"#d8576b\"],[0.6666666666666666,\"#ed7953\"],[0.7777777777777778,\"#fb9f3a\"],[0.8888888888888888,\"#fdca26\"],[1.0,\"#f0f921\"]]}],\"mesh3d\":[{\"type\":\"mesh3d\",\"colorbar\":{\"outlinewidth\":0,\"ticks\":\"\"}}],\"scatter\":[{\"fillpattern\":{\"fillmode\":\"overlay\",\"size\":10,\"solidity\":0.2},\"type\":\"scatter\"}],\"parcoords\":[{\"type\":\"parcoords\",\"line\":{\"colorbar\":{\"outlinewidth\":0,\"ticks\":\"\"}}}],\"scatterpolargl\":[{\"type\":\"scatterpolargl\",\"marker\":{\"colorbar\":{\"outlinewidth\":0,\"ticks\":\"\"}}}],\"bar\":[{\"error_x\":{\"color\":\"#2a3f5f\"},\"error_y\":{\"color\":\"#2a3f5f\"},\"marker\":{\"line\":{\"color\":\"#E5ECF6\",\"width\":0.5},\"pattern\":{\"fillmode\":\"overlay\",\"size\":10,\"solidity\":0.2}},\"type\":\"bar\"}],\"scattergeo\":[{\"type\":\"scattergeo\",\"marker\":{\"colorbar\":{\"outlinewidth\":0,\"ticks\":\"\"}}}],\"scatterpolar\":[{\"type\":\"scatterpolar\",\"marker\":{\"colorbar\":{\"outlinewidth\":0,\"ticks\":\"\"}}}],\"histogram\":[{\"marker\":{\"pattern\":{\"fillmode\":\"overlay\",\"size\":10,\"solidity\":0.2}},\"type\":\"histogram\"}],\"scattergl\":[{\"type\":\"scattergl\",\"marker\":{\"colorbar\":{\"outlinewidth\":0,\"ticks\":\"\"}}}],\"scatter3d\":[{\"type\":\"scatter3d\",\"line\":{\"colorbar\":{\"outlinewidth\":0,\"ticks\":\"\"}},\"marker\":{\"colorbar\":{\"outlinewidth\":0,\"ticks\":\"\"}}}],\"scattermapbox\":[{\"type\":\"scattermapbox\",\"marker\":{\"colorbar\":{\"outlinewidth\":0,\"ticks\":\"\"}}}],\"scatterternary\":[{\"type\":\"scatterternary\",\"marker\":{\"colorbar\":{\"outlinewidth\":0,\"ticks\":\"\"}}}],\"scattercarpet\":[{\"type\":\"scattercarpet\",\"marker\":{\"colorbar\":{\"outlinewidth\":0,\"ticks\":\"\"}}}],\"carpet\":[{\"aaxis\":{\"endlinecolor\":\"#2a3f5f\",\"gridcolor\":\"white\",\"linecolor\":\"white\",\"minorgridcolor\":\"white\",\"startlinecolor\":\"#2a3f5f\"},\"baxis\":{\"endlinecolor\":\"#2a3f5f\",\"gridcolor\":\"white\",\"linecolor\":\"white\",\"minorgridcolor\":\"white\",\"startlinecolor\":\"#2a3f5f\"},\"type\":\"carpet\"}],\"table\":[{\"cells\":{\"fill\":{\"color\":\"#EBF0F8\"},\"line\":{\"color\":\"white\"}},\"header\":{\"fill\":{\"color\":\"#C8D4E3\"},\"line\":{\"color\":\"white\"}},\"type\":\"table\"}],\"barpolar\":[{\"marker\":{\"line\":{\"color\":\"#E5ECF6\",\"width\":0.5},\"pattern\":{\"fillmode\":\"overlay\",\"size\":10,\"solidity\":0.2}},\"type\":\"barpolar\"}],\"pie\":[{\"automargin\":true,\"type\":\"pie\"}]},\"layout\":{\"autotypenumbers\":\"strict\",\"colorway\":[\"#636efa\",\"#EF553B\",\"#00cc96\",\"#ab63fa\",\"#FFA15A\",\"#19d3f3\",\"#FF6692\",\"#B6E880\",\"#FF97FF\",\"#FECB52\"],\"font\":{\"color\":\"#2a3f5f\"},\"hovermode\":\"closest\",\"hoverlabel\":{\"align\":\"left\"},\"paper_bgcolor\":\"white\",\"plot_bgcolor\":\"#E5ECF6\",\"polar\":{\"bgcolor\":\"#E5ECF6\",\"angularaxis\":{\"gridcolor\":\"white\",\"linecolor\":\"white\",\"ticks\":\"\"},\"radialaxis\":{\"gridcolor\":\"white\",\"linecolor\":\"white\",\"ticks\":\"\"}},\"ternary\":{\"bgcolor\":\"#E5ECF6\",\"aaxis\":{\"gridcolor\":\"white\",\"linecolor\":\"white\",\"ticks\":\"\"},\"baxis\":{\"gridcolor\":\"white\",\"linecolor\":\"white\",\"ticks\":\"\"},\"caxis\":{\"gridcolor\":\"white\",\"linecolor\":\"white\",\"ticks\":\"\"}},\"coloraxis\":{\"colorbar\":{\"outlinewidth\":0,\"ticks\":\"\"}},\"colorscale\":{\"sequential\":[[0.0,\"#0d0887\"],[0.1111111111111111,\"#46039f\"],[0.2222222222222222,\"#7201a8\"],[0.3333333333333333,\"#9c179e\"],[0.4444444444444444,\"#bd3786\"],[0.5555555555555556,\"#d8576b\"],[0.6666666666666666,\"#ed7953\"],[0.7777777777777778,\"#fb9f3a\"],[0.8888888888888888,\"#fdca26\"],[1.0,\"#f0f921\"]],\"sequentialminus\":[[0.0,\"#0d0887\"],[0.1111111111111111,\"#46039f\"],[0.2222222222222222,\"#7201a8\"],[0.3333333333333333,\"#9c179e\"],[0.4444444444444444,\"#bd3786\"],[0.5555555555555556,\"#d8576b\"],[0.6666666666666666,\"#ed7953\"],[0.7777777777777778,\"#fb9f3a\"],[0.8888888888888888,\"#fdca26\"],[1.0,\"#f0f921\"]],\"diverging\":[[0,\"#8e0152\"],[0.1,\"#c51b7d\"],[0.2,\"#de77ae\"],[0.3,\"#f1b6da\"],[0.4,\"#fde0ef\"],[0.5,\"#f7f7f7\"],[0.6,\"#e6f5d0\"],[0.7,\"#b8e186\"],[0.8,\"#7fbc41\"],[0.9,\"#4d9221\"],[1,\"#276419\"]]},\"xaxis\":{\"gridcolor\":\"white\",\"linecolor\":\"white\",\"ticks\":\"\",\"title\":{\"standoff\":15},\"zerolinecolor\":\"white\",\"automargin\":true,\"zerolinewidth\":2},\"yaxis\":{\"gridcolor\":\"white\",\"linecolor\":\"white\",\"ticks\":\"\",\"title\":{\"standoff\":15},\"zerolinecolor\":\"white\",\"automargin\":true,\"zerolinewidth\":2},\"scene\":{\"xaxis\":{\"backgroundcolor\":\"#E5ECF6\",\"gridcolor\":\"white\",\"linecolor\":\"white\",\"showbackground\":true,\"ticks\":\"\",\"zerolinecolor\":\"white\",\"gridwidth\":2},\"yaxis\":{\"backgroundcolor\":\"#E5ECF6\",\"gridcolor\":\"white\",\"linecolor\":\"white\",\"showbackground\":true,\"ticks\":\"\",\"zerolinecolor\":\"white\",\"gridwidth\":2},\"zaxis\":{\"backgroundcolor\":\"#E5ECF6\",\"gridcolor\":\"white\",\"linecolor\":\"white\",\"showbackground\":true,\"ticks\":\"\",\"zerolinecolor\":\"white\",\"gridwidth\":2}},\"shapedefaults\":{\"line\":{\"color\":\"#2a3f5f\"}},\"annotationdefaults\":{\"arrowcolor\":\"#2a3f5f\",\"arrowhead\":0,\"arrowwidth\":1},\"geo\":{\"bgcolor\":\"white\",\"landcolor\":\"#E5ECF6\",\"subunitcolor\":\"white\",\"showland\":true,\"showlakes\":true,\"lakecolor\":\"white\"},\"title\":{\"x\":0.05},\"mapbox\":{\"style\":\"light\"}}},\"xaxis\":{\"anchor\":\"y\",\"domain\":[0.0,1.0],\"title\":{\"text\":\"nll_diff\"}},\"yaxis\":{\"anchor\":\"x\",\"domain\":[0.0,1.0],\"title\":{\"text\":\"proportion\"}},\"legend\":{\"tracegroupgap\":0},\"margin\":{\"t\":60}},                        {\"responsive\": true}                    ).then(function(){\n",
       "                            \n",
       "var gd = document.getElementById('8082c69e-dd96-4f4b-b1a6-e60114a0e703');\n",
       "var x = new MutationObserver(function (mutations, observer) {{\n",
       "        var display = window.getComputedStyle(gd).display;\n",
       "        if (!display || display === 'none') {{\n",
       "            console.log([gd, 'removed!']);\n",
       "            Plotly.purge(gd);\n",
       "            observer.disconnect();\n",
       "        }}\n",
       "}});\n",
       "\n",
       "// Listen for the removal of the full notebook cells\n",
       "var notebookContainer = gd.closest('#notebook-container');\n",
       "if (notebookContainer) {{\n",
       "    x.observe(notebookContainer, {childList: true});\n",
       "}}\n",
       "\n",
       "// Listen for the clearing of the current output cell\n",
       "var outputEl = gd.closest('.output');\n",
       "if (outputEl) {{\n",
       "    x.observe(outputEl, {childList: true});\n",
       "}}\n",
       "\n",
       "                        })                };                });            </script>        </div>"
      ]
     },
     "metadata": {},
     "output_type": "display_data"
    }
   ],
   "source": [
    "px.line(\n",
    "    cdf, x='nll_diff', y='proportion'\n",
    ")"
   ]
  },
  {
   "cell_type": "code",
   "execution_count": 37,
   "id": "7f5d1adc",
   "metadata": {},
   "outputs": [
    {
     "data": {
      "text/html": [
       "<div>\n",
       "<style scoped>\n",
       "    .dataframe tbody tr th:only-of-type {\n",
       "        vertical-align: middle;\n",
       "    }\n",
       "\n",
       "    .dataframe tbody tr th {\n",
       "        vertical-align: top;\n",
       "    }\n",
       "\n",
       "    .dataframe thead th {\n",
       "        text-align: right;\n",
       "    }\n",
       "</style>\n",
       "<table border=\"1\" class=\"dataframe\">\n",
       "  <thead>\n",
       "    <tr style=\"text-align: right;\">\n",
       "      <th></th>\n",
       "      <th>key_radians</th>\n",
       "      <th>key_month</th>\n",
       "      <th>key_max_depth_bin</th>\n",
       "      <th>nll_perm</th>\n",
       "      <th>nll_data</th>\n",
       "      <th>nll_diff</th>\n",
       "      <th>bins</th>\n",
       "      <th>bin_proportion</th>\n",
       "    </tr>\n",
       "  </thead>\n",
       "  <tbody>\n",
       "    <tr>\n",
       "      <th>0</th>\n",
       "      <td>-3</td>\n",
       "      <td>10</td>\n",
       "      <td>6</td>\n",
       "      <td>1.747396</td>\n",
       "      <td>1.528741</td>\n",
       "      <td>0.218655</td>\n",
       "      <td>2</td>\n",
       "      <td>0.002392</td>\n",
       "    </tr>\n",
       "    <tr>\n",
       "      <th>1</th>\n",
       "      <td>-1</td>\n",
       "      <td>10</td>\n",
       "      <td>6</td>\n",
       "      <td>1.646114</td>\n",
       "      <td>1.475067</td>\n",
       "      <td>0.171047</td>\n",
       "      <td>6</td>\n",
       "      <td>0.007177</td>\n",
       "    </tr>\n",
       "    <tr>\n",
       "      <th>2</th>\n",
       "      <td>-4</td>\n",
       "      <td>10</td>\n",
       "      <td>6</td>\n",
       "      <td>1.803614</td>\n",
       "      <td>1.645337</td>\n",
       "      <td>0.158277</td>\n",
       "      <td>10</td>\n",
       "      <td>0.011962</td>\n",
       "    </tr>\n",
       "    <tr>\n",
       "      <th>3</th>\n",
       "      <td>0</td>\n",
       "      <td>10</td>\n",
       "      <td>6</td>\n",
       "      <td>1.842163</td>\n",
       "      <td>1.719628</td>\n",
       "      <td>0.122535</td>\n",
       "      <td>15</td>\n",
       "      <td>0.017943</td>\n",
       "    </tr>\n",
       "    <tr>\n",
       "      <th>4</th>\n",
       "      <td>-2</td>\n",
       "      <td>10</td>\n",
       "      <td>6</td>\n",
       "      <td>1.677292</td>\n",
       "      <td>1.555156</td>\n",
       "      <td>0.122135</td>\n",
       "      <td>16</td>\n",
       "      <td>0.019139</td>\n",
       "    </tr>\n",
       "    <tr>\n",
       "      <th>...</th>\n",
       "      <td>...</td>\n",
       "      <td>...</td>\n",
       "      <td>...</td>\n",
       "      <td>...</td>\n",
       "      <td>...</td>\n",
       "      <td>...</td>\n",
       "      <td>...</td>\n",
       "      <td>...</td>\n",
       "    </tr>\n",
       "    <tr>\n",
       "      <th>192</th>\n",
       "      <td>1</td>\n",
       "      <td>11</td>\n",
       "      <td>7</td>\n",
       "      <td>1.852999</td>\n",
       "      <td>1.878648</td>\n",
       "      <td>-0.025649</td>\n",
       "      <td>785</td>\n",
       "      <td>0.938995</td>\n",
       "    </tr>\n",
       "    <tr>\n",
       "      <th>193</th>\n",
       "      <td>4</td>\n",
       "      <td>12</td>\n",
       "      <td>6</td>\n",
       "      <td>1.803291</td>\n",
       "      <td>1.835441</td>\n",
       "      <td>-0.032149</td>\n",
       "      <td>792</td>\n",
       "      <td>0.947368</td>\n",
       "    </tr>\n",
       "    <tr>\n",
       "      <th>194</th>\n",
       "      <td>2</td>\n",
       "      <td>10</td>\n",
       "      <td>4</td>\n",
       "      <td>1.335934</td>\n",
       "      <td>1.370613</td>\n",
       "      <td>-0.034679</td>\n",
       "      <td>798</td>\n",
       "      <td>0.954545</td>\n",
       "    </tr>\n",
       "    <tr>\n",
       "      <th>195</th>\n",
       "      <td>-4</td>\n",
       "      <td>3</td>\n",
       "      <td>6</td>\n",
       "      <td>1.715026</td>\n",
       "      <td>1.754421</td>\n",
       "      <td>-0.039395</td>\n",
       "      <td>807</td>\n",
       "      <td>0.965311</td>\n",
       "    </tr>\n",
       "    <tr>\n",
       "      <th>196</th>\n",
       "      <td>2</td>\n",
       "      <td>12</td>\n",
       "      <td>10</td>\n",
       "      <td>1.882617</td>\n",
       "      <td>1.930901</td>\n",
       "      <td>-0.048285</td>\n",
       "      <td>820</td>\n",
       "      <td>0.980861</td>\n",
       "    </tr>\n",
       "  </tbody>\n",
       "</table>\n",
       "<p>197 rows × 8 columns</p>\n",
       "</div>"
      ],
      "text/plain": [
       "     key_radians  key_month  key_max_depth_bin  nll_perm  nll_data  nll_diff  \\\n",
       "0             -3         10                  6  1.747396  1.528741  0.218655   \n",
       "1             -1         10                  6  1.646114  1.475067  0.171047   \n",
       "2             -4         10                  6  1.803614  1.645337  0.158277   \n",
       "3              0         10                  6  1.842163  1.719628  0.122535   \n",
       "4             -2         10                  6  1.677292  1.555156  0.122135   \n",
       "..           ...        ...                ...       ...       ...       ...   \n",
       "192            1         11                  7  1.852999  1.878648 -0.025649   \n",
       "193            4         12                  6  1.803291  1.835441 -0.032149   \n",
       "194            2         10                  4  1.335934  1.370613 -0.034679   \n",
       "195           -4          3                  6  1.715026  1.754421 -0.039395   \n",
       "196            2         12                 10  1.882617  1.930901 -0.048285   \n",
       "\n",
       "     bins  bin_proportion  \n",
       "0       2        0.002392  \n",
       "1       6        0.007177  \n",
       "2      10        0.011962  \n",
       "3      15        0.017943  \n",
       "4      16        0.019139  \n",
       "..    ...             ...  \n",
       "192   785        0.938995  \n",
       "193   792        0.947368  \n",
       "194   798        0.954545  \n",
       "195   807        0.965311  \n",
       "196   820        0.980861  \n",
       "\n",
       "[197 rows x 8 columns]"
      ]
     },
     "execution_count": 37,
     "metadata": {},
     "output_type": "execute_result"
    }
   ],
   "source": [
    "_filter = data.groupby(key_cols)['_individual'].nunique().reset_index().sort_values('_individual', ascending=True)\n",
    "_filter = _filter[_filter['_individual'] >= 5]\n",
    "fdf = df.merge(_filter[key_cols])\n",
    "fdf"
   ]
  },
  {
   "cell_type": "code",
   "execution_count": 38,
   "id": "7f246b31",
   "metadata": {},
   "outputs": [
    {
     "data": {
      "application/vnd.plotly.v1+json": {
       "config": {
        "plotlyServerURL": "https://plot.ly"
       },
       "data": [
        {
         "hovertemplate": "nll_diff=%{x}<br>bin_proportion=%{y}<extra></extra>",
         "legendgroup": "",
         "line": {
          "color": "#636efa",
          "dash": "solid"
         },
         "marker": {
          "symbol": "circle"
         },
         "mode": "lines",
         "name": "",
         "orientation": "v",
         "showlegend": false,
         "type": "scatter",
         "x": [
          0.2186548848014025,
          0.17104722840828823,
          0.1582772410542428,
          0.12253467104125426,
          0.12213549743893948,
          0.0975976766429385,
          0.07482525213629199,
          0.07421626303881279,
          0.06790106361645276,
          0.06332349384356739,
          0.05924047115085518,
          0.05784259134360625,
          0.05556171034711843,
          0.05482963593958967,
          0.05332478570501564,
          0.05274262482752334,
          0.04987365682802847,
          0.04856131858528112,
          0.0467109844905047,
          0.04588108769730148,
          0.04551266028834133,
          0.04511475931610498,
          0.043566977629877934,
          0.0434969139823409,
          0.043412821584798866,
          0.04339683187392995,
          0.04332095625958443,
          0.04133669030025855,
          0.0409392916228517,
          0.03931342450068054,
          0.03921373292176478,
          0.03740143551970432,
          0.036998138250593726,
          0.036244917556671474,
          0.035537761379345056,
          0.03456437211224417,
          0.03444254373352673,
          0.03410691939387278,
          0.03259297334053146,
          0.03185842773664249,
          0.03147106713465897,
          0.03129032007813182,
          0.03017003517365735,
          0.02900492787871034,
          0.02640923893048419,
          0.026290180865333523,
          0.026239886448716332,
          0.026152180698936878,
          0.025873471073737386,
          0.025834862843780337,
          0.02551078555644204,
          0.02004564882590487,
          0.01809292607323365,
          0.017214130872481803,
          0.016684789984467208,
          0.015626573067949012,
          0.01500607402542653,
          0.01465217154835119,
          0.014290834896094173,
          0.014089261756881521,
          0.013186964680086621,
          0.012748985659712386,
          0.012021976306106463,
          0.011744929346044763,
          0.011590178315130095,
          0.011587825665598683,
          0.011559777916718028,
          0.011105902860533146,
          0.010750563511991995,
          0.010627818358613261,
          0.010527171027827631,
          0.010177512941804912,
          0.010166692353872131,
          0.010153228604616205,
          0.010138025366704273,
          0.010026489437949149,
          0.00959941720153823,
          0.009308821466855521,
          0.009058551638822632,
          0.009047990891717594,
          0.009006101559630997,
          0.008470342969424172,
          0.00844654990674476,
          0.008044159214140478,
          0.007963907596750808,
          0.007733691205144444,
          0.0076852911841620575,
          0.007547455081406418,
          0.007491109921057504,
          0.007480632655170849,
          0.007403199052491871,
          0.007329053424806942,
          0.0071219823144961225,
          0.006940846375073306,
          0.006448056959566628,
          0.006437606418145281,
          0.006335521291910506,
          0.0063080256851764105,
          0.006043451291512847,
          0.005835885520863893,
          0.005208186853205454,
          0.004891696399569545,
          0.004593106239215938,
          0.004280077139457328,
          0.004147439706815748,
          0.004139972973676076,
          0.0032657775061486483,
          0.002813285457651915,
          0.002382951299679581,
          0.0019563604850735272,
          0.001813834961496008,
          0.0012625767231999596,
          0.001032847756745836,
          0.0007840778752914446,
          0.0006206682344556125,
          0.0005340077120026265,
          0.00044426099194649904,
          0.00037753345843050123,
          0.00024525771609651414,
          0.00018963118588688488,
          0.000021939364356349245,
          -0.0000870314471137501,
          -0.00020087451445238713,
          -0.0002717221318826457,
          -0.00036585952428569435,
          -0.0006848072829508389,
          -0.0007953653212344758,
          -0.0008568997625105768,
          -0.002010745421159532,
          -0.002013317656840985,
          -0.0022755299222041447,
          -0.0027468261306202724,
          -0.002847933503505873,
          -0.003076702730796743,
          -0.0033285262581610464,
          -0.00370568307992325,
          -0.003734835012632942,
          -0.00373752366167579,
          -0.004146592621896428,
          -0.0043896392136262286,
          -0.004548210254253338,
          -0.004785954950285554,
          -0.005212591392904864,
          -0.005408056907501013,
          -0.006291706076311021,
          -0.006442787377231696,
          -0.006576786164091797,
          -0.006693390713614411,
          -0.006738663703213854,
          -0.006774286029206378,
          -0.006831405814037184,
          -0.007479666437530064,
          -0.007568043724601736,
          -0.00814299984818212,
          -0.008251496454322993,
          -0.00827208048440653,
          -0.008389806300465485,
          -0.009061110266034067,
          -0.009293981436885312,
          -0.009938850875788718,
          -0.01005258575711565,
          -0.010442151750598594,
          -0.010688388584728037,
          -0.010766473415016353,
          -0.011166852796583582,
          -0.011452458504750185,
          -0.01186570130678466,
          -0.01206682885603061,
          -0.012703485009415427,
          -0.013040341924844823,
          -0.01312138998105894,
          -0.013355494800789014,
          -0.013683586410204507,
          -0.013712354165565488,
          -0.013732853243134002,
          -0.014141446757367948,
          -0.016539466205386155,
          -0.017862441913373495,
          -0.018389066595270842,
          -0.01846376071333311,
          -0.018583462416521312,
          -0.018673552100111568,
          -0.020212797168174035,
          -0.020642216909786626,
          -0.02065364379166068,
          -0.02093145645283201,
          -0.02128054947770175,
          -0.021727749204925484,
          -0.02392197809831753,
          -0.024080683841731787,
          -0.02431889511338481,
          -0.025380184012907536,
          -0.025649149835560214,
          -0.03214938069090412,
          -0.03467924190476013,
          -0.039395072874583104,
          -0.04828458098528654
         ],
         "xaxis": "x",
         "y": [
          0.005076142131979695,
          0.01015228426395939,
          0.015228426395939087,
          0.02030456852791878,
          0.025380710659898477,
          0.030456852791878174,
          0.03553299492385787,
          0.04060913705583756,
          0.04568527918781726,
          0.050761421319796954,
          0.05583756345177665,
          0.06091370558375635,
          0.06598984771573604,
          0.07106598984771574,
          0.07614213197969544,
          0.08121827411167512,
          0.08629441624365482,
          0.09137055837563451,
          0.09644670050761421,
          0.10152284263959391,
          0.1065989847715736,
          0.1116751269035533,
          0.116751269035533,
          0.1218274111675127,
          0.12690355329949238,
          0.1319796954314721,
          0.13705583756345177,
          0.14213197969543148,
          0.14720812182741116,
          0.15228426395939088,
          0.15736040609137056,
          0.16243654822335024,
          0.16751269035532995,
          0.17258883248730963,
          0.17766497461928935,
          0.18274111675126903,
          0.18781725888324874,
          0.19289340101522842,
          0.19796954314720813,
          0.20304568527918782,
          0.20812182741116753,
          0.2131979695431472,
          0.2182741116751269,
          0.2233502538071066,
          0.22842639593908629,
          0.233502538071066,
          0.23857868020304568,
          0.2436548223350254,
          0.24873096446700507,
          0.25380710659898476,
          0.25888324873096447,
          0.2639593908629442,
          0.26903553299492383,
          0.27411167512690354,
          0.27918781725888325,
          0.28426395939086296,
          0.2893401015228426,
          0.29441624365482233,
          0.29949238578680204,
          0.30456852791878175,
          0.3096446700507614,
          0.3147208121827411,
          0.3197969543147208,
          0.3248730964467005,
          0.3299492385786802,
          0.3350253807106599,
          0.3401015228426396,
          0.34517766497461927,
          0.350253807106599,
          0.3553299492385787,
          0.3604060913705584,
          0.36548223350253806,
          0.37055837563451777,
          0.3756345177664975,
          0.38071065989847713,
          0.38578680203045684,
          0.39086294416243655,
          0.39593908629441626,
          0.4010152284263959,
          0.40609137055837563,
          0.41116751269035534,
          0.41624365482233505,
          0.4213197969543147,
          0.4263959390862944,
          0.43147208121827413,
          0.4365482233502538,
          0.4416243654822335,
          0.4467005076142132,
          0.4517766497461929,
          0.45685279187817257,
          0.4619289340101523,
          0.467005076142132,
          0.4720812182741117,
          0.47715736040609136,
          0.48223350253807107,
          0.4873096446700508,
          0.49238578680203043,
          0.49746192893401014,
          0.5025380710659898,
          0.5076142131979695,
          0.5126903553299492,
          0.5177664974619289,
          0.5228426395939086,
          0.5279187817258884,
          0.5329949238578681,
          0.5380710659898477,
          0.5431472081218274,
          0.5482233502538071,
          0.5532994923857868,
          0.5583756345177665,
          0.5634517766497462,
          0.5685279187817259,
          0.5736040609137056,
          0.5786802030456852,
          0.583756345177665,
          0.5888324873096447,
          0.5939086294416244,
          0.5989847715736041,
          0.6040609137055838,
          0.6091370558375635,
          0.6142131979695431,
          0.6192893401015228,
          0.6243654822335025,
          0.6294416243654822,
          0.6345177664974619,
          0.6395939086294417,
          0.6446700507614214,
          0.649746192893401,
          0.6548223350253807,
          0.6598984771573604,
          0.6649746192893401,
          0.6700507614213198,
          0.6751269035532995,
          0.6802030456852792,
          0.6852791878172588,
          0.6903553299492385,
          0.6954314720812182,
          0.700507614213198,
          0.7055837563451777,
          0.7106598984771574,
          0.7157360406091371,
          0.7208121827411168,
          0.7258883248730964,
          0.7309644670050761,
          0.7360406091370558,
          0.7411167512690355,
          0.7461928934010152,
          0.751269035532995,
          0.7563451776649747,
          0.7614213197969543,
          0.766497461928934,
          0.7715736040609137,
          0.7766497461928934,
          0.7817258883248731,
          0.7868020304568528,
          0.7918781725888325,
          0.7969543147208121,
          0.8020304568527918,
          0.8071065989847716,
          0.8121827411167513,
          0.817258883248731,
          0.8223350253807107,
          0.8274111675126904,
          0.8324873096446701,
          0.8375634517766497,
          0.8426395939086294,
          0.8477157360406091,
          0.8527918781725888,
          0.8578680203045685,
          0.8629441624365483,
          0.868020304568528,
          0.8730964467005076,
          0.8781725888324873,
          0.883248730964467,
          0.8883248730964467,
          0.8934010152284264,
          0.8984771573604061,
          0.9035532994923858,
          0.9086294416243654,
          0.9137055837563451,
          0.9187817258883249,
          0.9238578680203046,
          0.9289340101522843,
          0.934010152284264,
          0.9390862944162437,
          0.9441624365482234,
          0.949238578680203,
          0.9543147208121827,
          0.9593908629441624,
          0.9644670050761421,
          0.9695431472081218,
          0.9746192893401016,
          0.9796954314720813,
          0.9847715736040609,
          0.9898477157360406,
          0.9949238578680203,
          1
         ],
         "yaxis": "y"
        }
       ],
       "layout": {
        "legend": {
         "tracegroupgap": 0
        },
        "margin": {
         "t": 60
        },
        "template": {
         "data": {
          "bar": [
           {
            "error_x": {
             "color": "#2a3f5f"
            },
            "error_y": {
             "color": "#2a3f5f"
            },
            "marker": {
             "line": {
              "color": "#E5ECF6",
              "width": 0.5
             },
             "pattern": {
              "fillmode": "overlay",
              "size": 10,
              "solidity": 0.2
             }
            },
            "type": "bar"
           }
          ],
          "barpolar": [
           {
            "marker": {
             "line": {
              "color": "#E5ECF6",
              "width": 0.5
             },
             "pattern": {
              "fillmode": "overlay",
              "size": 10,
              "solidity": 0.2
             }
            },
            "type": "barpolar"
           }
          ],
          "carpet": [
           {
            "aaxis": {
             "endlinecolor": "#2a3f5f",
             "gridcolor": "white",
             "linecolor": "white",
             "minorgridcolor": "white",
             "startlinecolor": "#2a3f5f"
            },
            "baxis": {
             "endlinecolor": "#2a3f5f",
             "gridcolor": "white",
             "linecolor": "white",
             "minorgridcolor": "white",
             "startlinecolor": "#2a3f5f"
            },
            "type": "carpet"
           }
          ],
          "choropleth": [
           {
            "colorbar": {
             "outlinewidth": 0,
             "ticks": ""
            },
            "type": "choropleth"
           }
          ],
          "contour": [
           {
            "colorbar": {
             "outlinewidth": 0,
             "ticks": ""
            },
            "colorscale": [
             [
              0,
              "#0d0887"
             ],
             [
              0.1111111111111111,
              "#46039f"
             ],
             [
              0.2222222222222222,
              "#7201a8"
             ],
             [
              0.3333333333333333,
              "#9c179e"
             ],
             [
              0.4444444444444444,
              "#bd3786"
             ],
             [
              0.5555555555555556,
              "#d8576b"
             ],
             [
              0.6666666666666666,
              "#ed7953"
             ],
             [
              0.7777777777777778,
              "#fb9f3a"
             ],
             [
              0.8888888888888888,
              "#fdca26"
             ],
             [
              1,
              "#f0f921"
             ]
            ],
            "type": "contour"
           }
          ],
          "contourcarpet": [
           {
            "colorbar": {
             "outlinewidth": 0,
             "ticks": ""
            },
            "type": "contourcarpet"
           }
          ],
          "heatmap": [
           {
            "colorbar": {
             "outlinewidth": 0,
             "ticks": ""
            },
            "colorscale": [
             [
              0,
              "#0d0887"
             ],
             [
              0.1111111111111111,
              "#46039f"
             ],
             [
              0.2222222222222222,
              "#7201a8"
             ],
             [
              0.3333333333333333,
              "#9c179e"
             ],
             [
              0.4444444444444444,
              "#bd3786"
             ],
             [
              0.5555555555555556,
              "#d8576b"
             ],
             [
              0.6666666666666666,
              "#ed7953"
             ],
             [
              0.7777777777777778,
              "#fb9f3a"
             ],
             [
              0.8888888888888888,
              "#fdca26"
             ],
             [
              1,
              "#f0f921"
             ]
            ],
            "type": "heatmap"
           }
          ],
          "heatmapgl": [
           {
            "colorbar": {
             "outlinewidth": 0,
             "ticks": ""
            },
            "colorscale": [
             [
              0,
              "#0d0887"
             ],
             [
              0.1111111111111111,
              "#46039f"
             ],
             [
              0.2222222222222222,
              "#7201a8"
             ],
             [
              0.3333333333333333,
              "#9c179e"
             ],
             [
              0.4444444444444444,
              "#bd3786"
             ],
             [
              0.5555555555555556,
              "#d8576b"
             ],
             [
              0.6666666666666666,
              "#ed7953"
             ],
             [
              0.7777777777777778,
              "#fb9f3a"
             ],
             [
              0.8888888888888888,
              "#fdca26"
             ],
             [
              1,
              "#f0f921"
             ]
            ],
            "type": "heatmapgl"
           }
          ],
          "histogram": [
           {
            "marker": {
             "pattern": {
              "fillmode": "overlay",
              "size": 10,
              "solidity": 0.2
             }
            },
            "type": "histogram"
           }
          ],
          "histogram2d": [
           {
            "colorbar": {
             "outlinewidth": 0,
             "ticks": ""
            },
            "colorscale": [
             [
              0,
              "#0d0887"
             ],
             [
              0.1111111111111111,
              "#46039f"
             ],
             [
              0.2222222222222222,
              "#7201a8"
             ],
             [
              0.3333333333333333,
              "#9c179e"
             ],
             [
              0.4444444444444444,
              "#bd3786"
             ],
             [
              0.5555555555555556,
              "#d8576b"
             ],
             [
              0.6666666666666666,
              "#ed7953"
             ],
             [
              0.7777777777777778,
              "#fb9f3a"
             ],
             [
              0.8888888888888888,
              "#fdca26"
             ],
             [
              1,
              "#f0f921"
             ]
            ],
            "type": "histogram2d"
           }
          ],
          "histogram2dcontour": [
           {
            "colorbar": {
             "outlinewidth": 0,
             "ticks": ""
            },
            "colorscale": [
             [
              0,
              "#0d0887"
             ],
             [
              0.1111111111111111,
              "#46039f"
             ],
             [
              0.2222222222222222,
              "#7201a8"
             ],
             [
              0.3333333333333333,
              "#9c179e"
             ],
             [
              0.4444444444444444,
              "#bd3786"
             ],
             [
              0.5555555555555556,
              "#d8576b"
             ],
             [
              0.6666666666666666,
              "#ed7953"
             ],
             [
              0.7777777777777778,
              "#fb9f3a"
             ],
             [
              0.8888888888888888,
              "#fdca26"
             ],
             [
              1,
              "#f0f921"
             ]
            ],
            "type": "histogram2dcontour"
           }
          ],
          "mesh3d": [
           {
            "colorbar": {
             "outlinewidth": 0,
             "ticks": ""
            },
            "type": "mesh3d"
           }
          ],
          "parcoords": [
           {
            "line": {
             "colorbar": {
              "outlinewidth": 0,
              "ticks": ""
             }
            },
            "type": "parcoords"
           }
          ],
          "pie": [
           {
            "automargin": true,
            "type": "pie"
           }
          ],
          "scatter": [
           {
            "fillpattern": {
             "fillmode": "overlay",
             "size": 10,
             "solidity": 0.2
            },
            "type": "scatter"
           }
          ],
          "scatter3d": [
           {
            "line": {
             "colorbar": {
              "outlinewidth": 0,
              "ticks": ""
             }
            },
            "marker": {
             "colorbar": {
              "outlinewidth": 0,
              "ticks": ""
             }
            },
            "type": "scatter3d"
           }
          ],
          "scattercarpet": [
           {
            "marker": {
             "colorbar": {
              "outlinewidth": 0,
              "ticks": ""
             }
            },
            "type": "scattercarpet"
           }
          ],
          "scattergeo": [
           {
            "marker": {
             "colorbar": {
              "outlinewidth": 0,
              "ticks": ""
             }
            },
            "type": "scattergeo"
           }
          ],
          "scattergl": [
           {
            "marker": {
             "colorbar": {
              "outlinewidth": 0,
              "ticks": ""
             }
            },
            "type": "scattergl"
           }
          ],
          "scattermapbox": [
           {
            "marker": {
             "colorbar": {
              "outlinewidth": 0,
              "ticks": ""
             }
            },
            "type": "scattermapbox"
           }
          ],
          "scatterpolar": [
           {
            "marker": {
             "colorbar": {
              "outlinewidth": 0,
              "ticks": ""
             }
            },
            "type": "scatterpolar"
           }
          ],
          "scatterpolargl": [
           {
            "marker": {
             "colorbar": {
              "outlinewidth": 0,
              "ticks": ""
             }
            },
            "type": "scatterpolargl"
           }
          ],
          "scatterternary": [
           {
            "marker": {
             "colorbar": {
              "outlinewidth": 0,
              "ticks": ""
             }
            },
            "type": "scatterternary"
           }
          ],
          "surface": [
           {
            "colorbar": {
             "outlinewidth": 0,
             "ticks": ""
            },
            "colorscale": [
             [
              0,
              "#0d0887"
             ],
             [
              0.1111111111111111,
              "#46039f"
             ],
             [
              0.2222222222222222,
              "#7201a8"
             ],
             [
              0.3333333333333333,
              "#9c179e"
             ],
             [
              0.4444444444444444,
              "#bd3786"
             ],
             [
              0.5555555555555556,
              "#d8576b"
             ],
             [
              0.6666666666666666,
              "#ed7953"
             ],
             [
              0.7777777777777778,
              "#fb9f3a"
             ],
             [
              0.8888888888888888,
              "#fdca26"
             ],
             [
              1,
              "#f0f921"
             ]
            ],
            "type": "surface"
           }
          ],
          "table": [
           {
            "cells": {
             "fill": {
              "color": "#EBF0F8"
             },
             "line": {
              "color": "white"
             }
            },
            "header": {
             "fill": {
              "color": "#C8D4E3"
             },
             "line": {
              "color": "white"
             }
            },
            "type": "table"
           }
          ]
         },
         "layout": {
          "annotationdefaults": {
           "arrowcolor": "#2a3f5f",
           "arrowhead": 0,
           "arrowwidth": 1
          },
          "autotypenumbers": "strict",
          "coloraxis": {
           "colorbar": {
            "outlinewidth": 0,
            "ticks": ""
           }
          },
          "colorscale": {
           "diverging": [
            [
             0,
             "#8e0152"
            ],
            [
             0.1,
             "#c51b7d"
            ],
            [
             0.2,
             "#de77ae"
            ],
            [
             0.3,
             "#f1b6da"
            ],
            [
             0.4,
             "#fde0ef"
            ],
            [
             0.5,
             "#f7f7f7"
            ],
            [
             0.6,
             "#e6f5d0"
            ],
            [
             0.7,
             "#b8e186"
            ],
            [
             0.8,
             "#7fbc41"
            ],
            [
             0.9,
             "#4d9221"
            ],
            [
             1,
             "#276419"
            ]
           ],
           "sequential": [
            [
             0,
             "#0d0887"
            ],
            [
             0.1111111111111111,
             "#46039f"
            ],
            [
             0.2222222222222222,
             "#7201a8"
            ],
            [
             0.3333333333333333,
             "#9c179e"
            ],
            [
             0.4444444444444444,
             "#bd3786"
            ],
            [
             0.5555555555555556,
             "#d8576b"
            ],
            [
             0.6666666666666666,
             "#ed7953"
            ],
            [
             0.7777777777777778,
             "#fb9f3a"
            ],
            [
             0.8888888888888888,
             "#fdca26"
            ],
            [
             1,
             "#f0f921"
            ]
           ],
           "sequentialminus": [
            [
             0,
             "#0d0887"
            ],
            [
             0.1111111111111111,
             "#46039f"
            ],
            [
             0.2222222222222222,
             "#7201a8"
            ],
            [
             0.3333333333333333,
             "#9c179e"
            ],
            [
             0.4444444444444444,
             "#bd3786"
            ],
            [
             0.5555555555555556,
             "#d8576b"
            ],
            [
             0.6666666666666666,
             "#ed7953"
            ],
            [
             0.7777777777777778,
             "#fb9f3a"
            ],
            [
             0.8888888888888888,
             "#fdca26"
            ],
            [
             1,
             "#f0f921"
            ]
           ]
          },
          "colorway": [
           "#636efa",
           "#EF553B",
           "#00cc96",
           "#ab63fa",
           "#FFA15A",
           "#19d3f3",
           "#FF6692",
           "#B6E880",
           "#FF97FF",
           "#FECB52"
          ],
          "font": {
           "color": "#2a3f5f"
          },
          "geo": {
           "bgcolor": "white",
           "lakecolor": "white",
           "landcolor": "#E5ECF6",
           "showlakes": true,
           "showland": true,
           "subunitcolor": "white"
          },
          "hoverlabel": {
           "align": "left"
          },
          "hovermode": "closest",
          "mapbox": {
           "style": "light"
          },
          "paper_bgcolor": "white",
          "plot_bgcolor": "#E5ECF6",
          "polar": {
           "angularaxis": {
            "gridcolor": "white",
            "linecolor": "white",
            "ticks": ""
           },
           "bgcolor": "#E5ECF6",
           "radialaxis": {
            "gridcolor": "white",
            "linecolor": "white",
            "ticks": ""
           }
          },
          "scene": {
           "xaxis": {
            "backgroundcolor": "#E5ECF6",
            "gridcolor": "white",
            "gridwidth": 2,
            "linecolor": "white",
            "showbackground": true,
            "ticks": "",
            "zerolinecolor": "white"
           },
           "yaxis": {
            "backgroundcolor": "#E5ECF6",
            "gridcolor": "white",
            "gridwidth": 2,
            "linecolor": "white",
            "showbackground": true,
            "ticks": "",
            "zerolinecolor": "white"
           },
           "zaxis": {
            "backgroundcolor": "#E5ECF6",
            "gridcolor": "white",
            "gridwidth": 2,
            "linecolor": "white",
            "showbackground": true,
            "ticks": "",
            "zerolinecolor": "white"
           }
          },
          "shapedefaults": {
           "line": {
            "color": "#2a3f5f"
           }
          },
          "ternary": {
           "aaxis": {
            "gridcolor": "white",
            "linecolor": "white",
            "ticks": ""
           },
           "baxis": {
            "gridcolor": "white",
            "linecolor": "white",
            "ticks": ""
           },
           "bgcolor": "#E5ECF6",
           "caxis": {
            "gridcolor": "white",
            "linecolor": "white",
            "ticks": ""
           }
          },
          "title": {
           "x": 0.05
          },
          "xaxis": {
           "automargin": true,
           "gridcolor": "white",
           "linecolor": "white",
           "ticks": "",
           "title": {
            "standoff": 15
           },
           "zerolinecolor": "white",
           "zerolinewidth": 2
          },
          "yaxis": {
           "automargin": true,
           "gridcolor": "white",
           "linecolor": "white",
           "ticks": "",
           "title": {
            "standoff": 15
           },
           "zerolinecolor": "white",
           "zerolinewidth": 2
          }
         }
        },
        "xaxis": {
         "anchor": "y",
         "domain": [
          0,
          1
         ],
         "title": {
          "text": "nll_diff"
         }
        },
        "yaxis": {
         "anchor": "x",
         "domain": [
          0,
          1
         ],
         "title": {
          "text": "bin_proportion"
         }
        }
       }
      },
      "text/html": [
       "<div>                            <div id=\"831f233e-edc1-4321-a03a-60bed53b818c\" class=\"plotly-graph-div\" style=\"height:525px; width:100%;\"></div>            <script type=\"text/javascript\">                require([\"plotly\"], function(Plotly) {                    window.PLOTLYENV=window.PLOTLYENV || {};                                    if (document.getElementById(\"831f233e-edc1-4321-a03a-60bed53b818c\")) {                    Plotly.newPlot(                        \"831f233e-edc1-4321-a03a-60bed53b818c\",                        [{\"hovertemplate\":\"nll_diff=%{x}\\u003cbr\\u003ebin_proportion=%{y}\\u003cextra\\u003e\\u003c\\u002fextra\\u003e\",\"legendgroup\":\"\",\"line\":{\"color\":\"#636efa\",\"dash\":\"solid\"},\"marker\":{\"symbol\":\"circle\"},\"mode\":\"lines\",\"name\":\"\",\"orientation\":\"v\",\"showlegend\":false,\"x\":[0.2186548848014025,0.17104722840828823,0.1582772410542428,0.12253467104125426,0.12213549743893948,0.0975976766429385,0.07482525213629199,0.07421626303881279,0.06790106361645276,0.06332349384356739,0.05924047115085518,0.05784259134360625,0.05556171034711843,0.05482963593958967,0.05332478570501564,0.05274262482752334,0.04987365682802847,0.04856131858528112,0.0467109844905047,0.04588108769730148,0.04551266028834133,0.04511475931610498,0.043566977629877934,0.0434969139823409,0.043412821584798866,0.04339683187392995,0.04332095625958443,0.04133669030025855,0.0409392916228517,0.03931342450068054,0.03921373292176478,0.03740143551970432,0.036998138250593726,0.036244917556671474,0.035537761379345056,0.03456437211224417,0.03444254373352673,0.03410691939387278,0.03259297334053146,0.03185842773664249,0.03147106713465897,0.03129032007813182,0.03017003517365735,0.02900492787871034,0.02640923893048419,0.026290180865333523,0.026239886448716332,0.026152180698936878,0.025873471073737386,0.025834862843780337,0.02551078555644204,0.02004564882590487,0.01809292607323365,0.017214130872481803,0.016684789984467208,0.015626573067949012,0.01500607402542653,0.01465217154835119,0.014290834896094173,0.014089261756881521,0.013186964680086621,0.012748985659712386,0.012021976306106463,0.011744929346044763,0.011590178315130095,0.011587825665598683,0.011559777916718028,0.011105902860533146,0.010750563511991995,0.010627818358613261,0.010527171027827631,0.010177512941804912,0.010166692353872131,0.010153228604616205,0.010138025366704273,0.010026489437949149,0.00959941720153823,0.009308821466855521,0.009058551638822632,0.009047990891717594,0.009006101559630997,0.008470342969424172,0.00844654990674476,0.008044159214140478,0.007963907596750808,0.007733691205144444,0.0076852911841620575,0.007547455081406418,0.007491109921057504,0.007480632655170849,0.007403199052491871,0.007329053424806942,0.0071219823144961225,0.006940846375073306,0.006448056959566628,0.006437606418145281,0.006335521291910506,0.0063080256851764105,0.006043451291512847,0.005835885520863893,0.005208186853205454,0.004891696399569545,0.004593106239215938,0.004280077139457328,0.004147439706815748,0.004139972973676076,0.0032657775061486483,0.002813285457651915,0.002382951299679581,0.0019563604850735272,0.001813834961496008,0.0012625767231999596,0.001032847756745836,0.0007840778752914446,0.0006206682344556125,0.0005340077120026265,0.00044426099194649904,0.00037753345843050123,0.00024525771609651414,0.00018963118588688488,2.1939364356349245e-05,-8.70314471137501e-05,-0.00020087451445238713,-0.0002717221318826457,-0.00036585952428569435,-0.0006848072829508389,-0.0007953653212344758,-0.0008568997625105768,-0.002010745421159532,-0.002013317656840985,-0.0022755299222041447,-0.0027468261306202724,-0.002847933503505873,-0.003076702730796743,-0.0033285262581610464,-0.00370568307992325,-0.003734835012632942,-0.00373752366167579,-0.004146592621896428,-0.0043896392136262286,-0.004548210254253338,-0.004785954950285554,-0.005212591392904864,-0.005408056907501013,-0.006291706076311021,-0.006442787377231696,-0.006576786164091797,-0.006693390713614411,-0.006738663703213854,-0.006774286029206378,-0.006831405814037184,-0.007479666437530064,-0.007568043724601736,-0.00814299984818212,-0.008251496454322993,-0.00827208048440653,-0.008389806300465485,-0.009061110266034067,-0.009293981436885312,-0.009938850875788718,-0.01005258575711565,-0.010442151750598594,-0.010688388584728037,-0.010766473415016353,-0.011166852796583582,-0.011452458504750185,-0.01186570130678466,-0.01206682885603061,-0.012703485009415427,-0.013040341924844823,-0.01312138998105894,-0.013355494800789014,-0.013683586410204507,-0.013712354165565488,-0.013732853243134002,-0.014141446757367948,-0.016539466205386155,-0.017862441913373495,-0.018389066595270842,-0.01846376071333311,-0.018583462416521312,-0.018673552100111568,-0.020212797168174035,-0.020642216909786626,-0.02065364379166068,-0.02093145645283201,-0.02128054947770175,-0.021727749204925484,-0.02392197809831753,-0.024080683841731787,-0.02431889511338481,-0.025380184012907536,-0.025649149835560214,-0.03214938069090412,-0.03467924190476013,-0.039395072874583104,-0.04828458098528654],\"xaxis\":\"x\",\"y\":[0.005076142131979695,0.01015228426395939,0.015228426395939087,0.02030456852791878,0.025380710659898477,0.030456852791878174,0.03553299492385787,0.04060913705583756,0.04568527918781726,0.050761421319796954,0.05583756345177665,0.06091370558375635,0.06598984771573604,0.07106598984771574,0.07614213197969544,0.08121827411167512,0.08629441624365482,0.09137055837563451,0.09644670050761421,0.10152284263959391,0.1065989847715736,0.1116751269035533,0.116751269035533,0.1218274111675127,0.12690355329949238,0.1319796954314721,0.13705583756345177,0.14213197969543148,0.14720812182741116,0.15228426395939088,0.15736040609137056,0.16243654822335024,0.16751269035532995,0.17258883248730963,0.17766497461928935,0.18274111675126903,0.18781725888324874,0.19289340101522842,0.19796954314720813,0.20304568527918782,0.20812182741116753,0.2131979695431472,0.2182741116751269,0.2233502538071066,0.22842639593908629,0.233502538071066,0.23857868020304568,0.2436548223350254,0.24873096446700507,0.25380710659898476,0.25888324873096447,0.2639593908629442,0.26903553299492383,0.27411167512690354,0.27918781725888325,0.28426395939086296,0.2893401015228426,0.29441624365482233,0.29949238578680204,0.30456852791878175,0.3096446700507614,0.3147208121827411,0.3197969543147208,0.3248730964467005,0.3299492385786802,0.3350253807106599,0.3401015228426396,0.34517766497461927,0.350253807106599,0.3553299492385787,0.3604060913705584,0.36548223350253806,0.37055837563451777,0.3756345177664975,0.38071065989847713,0.38578680203045684,0.39086294416243655,0.39593908629441626,0.4010152284263959,0.40609137055837563,0.41116751269035534,0.41624365482233505,0.4213197969543147,0.4263959390862944,0.43147208121827413,0.4365482233502538,0.4416243654822335,0.4467005076142132,0.4517766497461929,0.45685279187817257,0.4619289340101523,0.467005076142132,0.4720812182741117,0.47715736040609136,0.48223350253807107,0.4873096446700508,0.49238578680203043,0.49746192893401014,0.5025380710659898,0.5076142131979695,0.5126903553299492,0.5177664974619289,0.5228426395939086,0.5279187817258884,0.5329949238578681,0.5380710659898477,0.5431472081218274,0.5482233502538071,0.5532994923857868,0.5583756345177665,0.5634517766497462,0.5685279187817259,0.5736040609137056,0.5786802030456852,0.583756345177665,0.5888324873096447,0.5939086294416244,0.5989847715736041,0.6040609137055838,0.6091370558375635,0.6142131979695431,0.6192893401015228,0.6243654822335025,0.6294416243654822,0.6345177664974619,0.6395939086294417,0.6446700507614214,0.649746192893401,0.6548223350253807,0.6598984771573604,0.6649746192893401,0.6700507614213198,0.6751269035532995,0.6802030456852792,0.6852791878172588,0.6903553299492385,0.6954314720812182,0.700507614213198,0.7055837563451777,0.7106598984771574,0.7157360406091371,0.7208121827411168,0.7258883248730964,0.7309644670050761,0.7360406091370558,0.7411167512690355,0.7461928934010152,0.751269035532995,0.7563451776649747,0.7614213197969543,0.766497461928934,0.7715736040609137,0.7766497461928934,0.7817258883248731,0.7868020304568528,0.7918781725888325,0.7969543147208121,0.8020304568527918,0.8071065989847716,0.8121827411167513,0.817258883248731,0.8223350253807107,0.8274111675126904,0.8324873096446701,0.8375634517766497,0.8426395939086294,0.8477157360406091,0.8527918781725888,0.8578680203045685,0.8629441624365483,0.868020304568528,0.8730964467005076,0.8781725888324873,0.883248730964467,0.8883248730964467,0.8934010152284264,0.8984771573604061,0.9035532994923858,0.9086294416243654,0.9137055837563451,0.9187817258883249,0.9238578680203046,0.9289340101522843,0.934010152284264,0.9390862944162437,0.9441624365482234,0.949238578680203,0.9543147208121827,0.9593908629441624,0.9644670050761421,0.9695431472081218,0.9746192893401016,0.9796954314720813,0.9847715736040609,0.9898477157360406,0.9949238578680203,1.0],\"yaxis\":\"y\",\"type\":\"scatter\"}],                        {\"template\":{\"data\":{\"histogram2dcontour\":[{\"type\":\"histogram2dcontour\",\"colorbar\":{\"outlinewidth\":0,\"ticks\":\"\"},\"colorscale\":[[0.0,\"#0d0887\"],[0.1111111111111111,\"#46039f\"],[0.2222222222222222,\"#7201a8\"],[0.3333333333333333,\"#9c179e\"],[0.4444444444444444,\"#bd3786\"],[0.5555555555555556,\"#d8576b\"],[0.6666666666666666,\"#ed7953\"],[0.7777777777777778,\"#fb9f3a\"],[0.8888888888888888,\"#fdca26\"],[1.0,\"#f0f921\"]]}],\"choropleth\":[{\"type\":\"choropleth\",\"colorbar\":{\"outlinewidth\":0,\"ticks\":\"\"}}],\"histogram2d\":[{\"type\":\"histogram2d\",\"colorbar\":{\"outlinewidth\":0,\"ticks\":\"\"},\"colorscale\":[[0.0,\"#0d0887\"],[0.1111111111111111,\"#46039f\"],[0.2222222222222222,\"#7201a8\"],[0.3333333333333333,\"#9c179e\"],[0.4444444444444444,\"#bd3786\"],[0.5555555555555556,\"#d8576b\"],[0.6666666666666666,\"#ed7953\"],[0.7777777777777778,\"#fb9f3a\"],[0.8888888888888888,\"#fdca26\"],[1.0,\"#f0f921\"]]}],\"heatmap\":[{\"type\":\"heatmap\",\"colorbar\":{\"outlinewidth\":0,\"ticks\":\"\"},\"colorscale\":[[0.0,\"#0d0887\"],[0.1111111111111111,\"#46039f\"],[0.2222222222222222,\"#7201a8\"],[0.3333333333333333,\"#9c179e\"],[0.4444444444444444,\"#bd3786\"],[0.5555555555555556,\"#d8576b\"],[0.6666666666666666,\"#ed7953\"],[0.7777777777777778,\"#fb9f3a\"],[0.8888888888888888,\"#fdca26\"],[1.0,\"#f0f921\"]]}],\"heatmapgl\":[{\"type\":\"heatmapgl\",\"colorbar\":{\"outlinewidth\":0,\"ticks\":\"\"},\"colorscale\":[[0.0,\"#0d0887\"],[0.1111111111111111,\"#46039f\"],[0.2222222222222222,\"#7201a8\"],[0.3333333333333333,\"#9c179e\"],[0.4444444444444444,\"#bd3786\"],[0.5555555555555556,\"#d8576b\"],[0.6666666666666666,\"#ed7953\"],[0.7777777777777778,\"#fb9f3a\"],[0.8888888888888888,\"#fdca26\"],[1.0,\"#f0f921\"]]}],\"contourcarpet\":[{\"type\":\"contourcarpet\",\"colorbar\":{\"outlinewidth\":0,\"ticks\":\"\"}}],\"contour\":[{\"type\":\"contour\",\"colorbar\":{\"outlinewidth\":0,\"ticks\":\"\"},\"colorscale\":[[0.0,\"#0d0887\"],[0.1111111111111111,\"#46039f\"],[0.2222222222222222,\"#7201a8\"],[0.3333333333333333,\"#9c179e\"],[0.4444444444444444,\"#bd3786\"],[0.5555555555555556,\"#d8576b\"],[0.6666666666666666,\"#ed7953\"],[0.7777777777777778,\"#fb9f3a\"],[0.8888888888888888,\"#fdca26\"],[1.0,\"#f0f921\"]]}],\"surface\":[{\"type\":\"surface\",\"colorbar\":{\"outlinewidth\":0,\"ticks\":\"\"},\"colorscale\":[[0.0,\"#0d0887\"],[0.1111111111111111,\"#46039f\"],[0.2222222222222222,\"#7201a8\"],[0.3333333333333333,\"#9c179e\"],[0.4444444444444444,\"#bd3786\"],[0.5555555555555556,\"#d8576b\"],[0.6666666666666666,\"#ed7953\"],[0.7777777777777778,\"#fb9f3a\"],[0.8888888888888888,\"#fdca26\"],[1.0,\"#f0f921\"]]}],\"mesh3d\":[{\"type\":\"mesh3d\",\"colorbar\":{\"outlinewidth\":0,\"ticks\":\"\"}}],\"scatter\":[{\"fillpattern\":{\"fillmode\":\"overlay\",\"size\":10,\"solidity\":0.2},\"type\":\"scatter\"}],\"parcoords\":[{\"type\":\"parcoords\",\"line\":{\"colorbar\":{\"outlinewidth\":0,\"ticks\":\"\"}}}],\"scatterpolargl\":[{\"type\":\"scatterpolargl\",\"marker\":{\"colorbar\":{\"outlinewidth\":0,\"ticks\":\"\"}}}],\"bar\":[{\"error_x\":{\"color\":\"#2a3f5f\"},\"error_y\":{\"color\":\"#2a3f5f\"},\"marker\":{\"line\":{\"color\":\"#E5ECF6\",\"width\":0.5},\"pattern\":{\"fillmode\":\"overlay\",\"size\":10,\"solidity\":0.2}},\"type\":\"bar\"}],\"scattergeo\":[{\"type\":\"scattergeo\",\"marker\":{\"colorbar\":{\"outlinewidth\":0,\"ticks\":\"\"}}}],\"scatterpolar\":[{\"type\":\"scatterpolar\",\"marker\":{\"colorbar\":{\"outlinewidth\":0,\"ticks\":\"\"}}}],\"histogram\":[{\"marker\":{\"pattern\":{\"fillmode\":\"overlay\",\"size\":10,\"solidity\":0.2}},\"type\":\"histogram\"}],\"scattergl\":[{\"type\":\"scattergl\",\"marker\":{\"colorbar\":{\"outlinewidth\":0,\"ticks\":\"\"}}}],\"scatter3d\":[{\"type\":\"scatter3d\",\"line\":{\"colorbar\":{\"outlinewidth\":0,\"ticks\":\"\"}},\"marker\":{\"colorbar\":{\"outlinewidth\":0,\"ticks\":\"\"}}}],\"scattermapbox\":[{\"type\":\"scattermapbox\",\"marker\":{\"colorbar\":{\"outlinewidth\":0,\"ticks\":\"\"}}}],\"scatterternary\":[{\"type\":\"scatterternary\",\"marker\":{\"colorbar\":{\"outlinewidth\":0,\"ticks\":\"\"}}}],\"scattercarpet\":[{\"type\":\"scattercarpet\",\"marker\":{\"colorbar\":{\"outlinewidth\":0,\"ticks\":\"\"}}}],\"carpet\":[{\"aaxis\":{\"endlinecolor\":\"#2a3f5f\",\"gridcolor\":\"white\",\"linecolor\":\"white\",\"minorgridcolor\":\"white\",\"startlinecolor\":\"#2a3f5f\"},\"baxis\":{\"endlinecolor\":\"#2a3f5f\",\"gridcolor\":\"white\",\"linecolor\":\"white\",\"minorgridcolor\":\"white\",\"startlinecolor\":\"#2a3f5f\"},\"type\":\"carpet\"}],\"table\":[{\"cells\":{\"fill\":{\"color\":\"#EBF0F8\"},\"line\":{\"color\":\"white\"}},\"header\":{\"fill\":{\"color\":\"#C8D4E3\"},\"line\":{\"color\":\"white\"}},\"type\":\"table\"}],\"barpolar\":[{\"marker\":{\"line\":{\"color\":\"#E5ECF6\",\"width\":0.5},\"pattern\":{\"fillmode\":\"overlay\",\"size\":10,\"solidity\":0.2}},\"type\":\"barpolar\"}],\"pie\":[{\"automargin\":true,\"type\":\"pie\"}]},\"layout\":{\"autotypenumbers\":\"strict\",\"colorway\":[\"#636efa\",\"#EF553B\",\"#00cc96\",\"#ab63fa\",\"#FFA15A\",\"#19d3f3\",\"#FF6692\",\"#B6E880\",\"#FF97FF\",\"#FECB52\"],\"font\":{\"color\":\"#2a3f5f\"},\"hovermode\":\"closest\",\"hoverlabel\":{\"align\":\"left\"},\"paper_bgcolor\":\"white\",\"plot_bgcolor\":\"#E5ECF6\",\"polar\":{\"bgcolor\":\"#E5ECF6\",\"angularaxis\":{\"gridcolor\":\"white\",\"linecolor\":\"white\",\"ticks\":\"\"},\"radialaxis\":{\"gridcolor\":\"white\",\"linecolor\":\"white\",\"ticks\":\"\"}},\"ternary\":{\"bgcolor\":\"#E5ECF6\",\"aaxis\":{\"gridcolor\":\"white\",\"linecolor\":\"white\",\"ticks\":\"\"},\"baxis\":{\"gridcolor\":\"white\",\"linecolor\":\"white\",\"ticks\":\"\"},\"caxis\":{\"gridcolor\":\"white\",\"linecolor\":\"white\",\"ticks\":\"\"}},\"coloraxis\":{\"colorbar\":{\"outlinewidth\":0,\"ticks\":\"\"}},\"colorscale\":{\"sequential\":[[0.0,\"#0d0887\"],[0.1111111111111111,\"#46039f\"],[0.2222222222222222,\"#7201a8\"],[0.3333333333333333,\"#9c179e\"],[0.4444444444444444,\"#bd3786\"],[0.5555555555555556,\"#d8576b\"],[0.6666666666666666,\"#ed7953\"],[0.7777777777777778,\"#fb9f3a\"],[0.8888888888888888,\"#fdca26\"],[1.0,\"#f0f921\"]],\"sequentialminus\":[[0.0,\"#0d0887\"],[0.1111111111111111,\"#46039f\"],[0.2222222222222222,\"#7201a8\"],[0.3333333333333333,\"#9c179e\"],[0.4444444444444444,\"#bd3786\"],[0.5555555555555556,\"#d8576b\"],[0.6666666666666666,\"#ed7953\"],[0.7777777777777778,\"#fb9f3a\"],[0.8888888888888888,\"#fdca26\"],[1.0,\"#f0f921\"]],\"diverging\":[[0,\"#8e0152\"],[0.1,\"#c51b7d\"],[0.2,\"#de77ae\"],[0.3,\"#f1b6da\"],[0.4,\"#fde0ef\"],[0.5,\"#f7f7f7\"],[0.6,\"#e6f5d0\"],[0.7,\"#b8e186\"],[0.8,\"#7fbc41\"],[0.9,\"#4d9221\"],[1,\"#276419\"]]},\"xaxis\":{\"gridcolor\":\"white\",\"linecolor\":\"white\",\"ticks\":\"\",\"title\":{\"standoff\":15},\"zerolinecolor\":\"white\",\"automargin\":true,\"zerolinewidth\":2},\"yaxis\":{\"gridcolor\":\"white\",\"linecolor\":\"white\",\"ticks\":\"\",\"title\":{\"standoff\":15},\"zerolinecolor\":\"white\",\"automargin\":true,\"zerolinewidth\":2},\"scene\":{\"xaxis\":{\"backgroundcolor\":\"#E5ECF6\",\"gridcolor\":\"white\",\"linecolor\":\"white\",\"showbackground\":true,\"ticks\":\"\",\"zerolinecolor\":\"white\",\"gridwidth\":2},\"yaxis\":{\"backgroundcolor\":\"#E5ECF6\",\"gridcolor\":\"white\",\"linecolor\":\"white\",\"showbackground\":true,\"ticks\":\"\",\"zerolinecolor\":\"white\",\"gridwidth\":2},\"zaxis\":{\"backgroundcolor\":\"#E5ECF6\",\"gridcolor\":\"white\",\"linecolor\":\"white\",\"showbackground\":true,\"ticks\":\"\",\"zerolinecolor\":\"white\",\"gridwidth\":2}},\"shapedefaults\":{\"line\":{\"color\":\"#2a3f5f\"}},\"annotationdefaults\":{\"arrowcolor\":\"#2a3f5f\",\"arrowhead\":0,\"arrowwidth\":1},\"geo\":{\"bgcolor\":\"white\",\"landcolor\":\"#E5ECF6\",\"subunitcolor\":\"white\",\"showland\":true,\"showlakes\":true,\"lakecolor\":\"white\"},\"title\":{\"x\":0.05},\"mapbox\":{\"style\":\"light\"}}},\"xaxis\":{\"anchor\":\"y\",\"domain\":[0.0,1.0],\"title\":{\"text\":\"nll_diff\"}},\"yaxis\":{\"anchor\":\"x\",\"domain\":[0.0,1.0],\"title\":{\"text\":\"bin_proportion\"}},\"legend\":{\"tracegroupgap\":0},\"margin\":{\"t\":60}},                        {\"responsive\": true}                    ).then(function(){\n",
       "                            \n",
       "var gd = document.getElementById('831f233e-edc1-4321-a03a-60bed53b818c');\n",
       "var x = new MutationObserver(function (mutations, observer) {{\n",
       "        var display = window.getComputedStyle(gd).display;\n",
       "        if (!display || display === 'none') {{\n",
       "            console.log([gd, 'removed!']);\n",
       "            Plotly.purge(gd);\n",
       "            observer.disconnect();\n",
       "        }}\n",
       "}});\n",
       "\n",
       "// Listen for the removal of the full notebook cells\n",
       "var notebookContainer = gd.closest('#notebook-container');\n",
       "if (notebookContainer) {{\n",
       "    x.observe(notebookContainer, {childList: true});\n",
       "}}\n",
       "\n",
       "// Listen for the clearing of the current output cell\n",
       "var outputEl = gd.closest('.output');\n",
       "if (outputEl) {{\n",
       "    x.observe(outputEl, {childList: true});\n",
       "}}\n",
       "\n",
       "                        })                };                });            </script>        </div>"
      ]
     },
     "metadata": {},
     "output_type": "display_data"
    }
   ],
   "source": [
    "cdf = df.merge(_filter[key_cols]).copy()\n",
    "cdf['bins'] = 1\n",
    "cdf = cdf.sort_values('nll_diff', ascending=False)\n",
    "cdf['bins'] = cdf['bins'].cumsum()\n",
    "cdf['bin_proportion'] = cdf['bins'] / cdf['bins'].max()\n",
    "\n",
    "px.line(cdf, x='nll_diff', y='bin_proportion')"
   ]
  },
  {
   "cell_type": "code",
   "execution_count": 39,
   "id": "20f8a79e",
   "metadata": {},
   "outputs": [
    {
     "data": {
      "application/vnd.plotly.v1+json": {
       "config": {
        "plotlyServerURL": "https://plot.ly"
       },
       "data": [
        {
         "hovertemplate": "nll_diff=%{x}<br>bin_proportion=%{y}<extra></extra>",
         "legendgroup": "",
         "line": {
          "color": "#636efa",
          "dash": "solid"
         },
         "marker": {
          "symbol": "circle"
         },
         "mode": "lines",
         "name": "",
         "orientation": "v",
         "showlegend": false,
         "type": "scatter",
         "x": [
          -0.04828458098528654,
          -0.039395072874583104,
          -0.03467924190476013,
          -0.03214938069090412,
          -0.025649149835560214,
          -0.025380184012907536,
          -0.02431889511338481,
          -0.024080683841731787,
          -0.02392197809831753,
          -0.021727749204925484,
          -0.02128054947770175,
          -0.02093145645283201,
          -0.02065364379166068,
          -0.020642216909786626,
          -0.020212797168174035,
          -0.018673552100111568,
          -0.018583462416521312,
          -0.01846376071333311,
          -0.018389066595270842,
          -0.017862441913373495,
          -0.016539466205386155,
          -0.014141446757367948,
          -0.013732853243134002,
          -0.013712354165565488,
          -0.013683586410204507,
          -0.013355494800789014,
          -0.01312138998105894,
          -0.013040341924844823,
          -0.012703485009415427,
          -0.01206682885603061,
          -0.01186570130678466,
          -0.011452458504750185,
          -0.011166852796583582,
          -0.010766473415016353,
          -0.010688388584728037,
          -0.010442151750598594,
          -0.01005258575711565,
          -0.009938850875788718,
          -0.009293981436885312,
          -0.009061110266034067,
          -0.008389806300465485,
          -0.00827208048440653,
          -0.008251496454322993,
          -0.00814299984818212,
          -0.007568043724601736,
          -0.007479666437530064,
          -0.006831405814037184,
          -0.006774286029206378,
          -0.006738663703213854,
          -0.006693390713614411,
          -0.006576786164091797,
          -0.006442787377231696,
          -0.006291706076311021,
          -0.005408056907501013,
          -0.005212591392904864,
          -0.004785954950285554,
          -0.004548210254253338,
          -0.0043896392136262286,
          -0.004146592621896428,
          -0.00373752366167579,
          -0.003734835012632942,
          -0.00370568307992325,
          -0.0033285262581610464,
          -0.003076702730796743,
          -0.002847933503505873,
          -0.0027468261306202724,
          -0.0022755299222041447,
          -0.002013317656840985,
          -0.002010745421159532,
          -0.0008568997625105768,
          -0.0007953653212344758,
          -0.0006848072829508389,
          -0.00036585952428569435,
          -0.0002717221318826457,
          -0.00020087451445238713,
          -0.0000870314471137501,
          0.000021939364356349245,
          0.00018963118588688488,
          0.00024525771609651414,
          0.00037753345843050123,
          0.00044426099194649904,
          0.0005340077120026265,
          0.0006206682344556125,
          0.0007840778752914446,
          0.001032847756745836,
          0.0012625767231999596,
          0.001813834961496008,
          0.0019563604850735272,
          0.002382951299679581,
          0.002813285457651915,
          0.0032657775061486483,
          0.004139972973676076,
          0.004147439706815748,
          0.004280077139457328,
          0.004593106239215938,
          0.004891696399569545,
          0.005208186853205454,
          0.005835885520863893,
          0.006043451291512847,
          0.0063080256851764105,
          0.006335521291910506,
          0.006437606418145281,
          0.006448056959566628,
          0.006940846375073306,
          0.0071219823144961225,
          0.007329053424806942,
          0.007403199052491871,
          0.007480632655170849,
          0.007491109921057504,
          0.007547455081406418,
          0.0076852911841620575,
          0.007733691205144444,
          0.007963907596750808,
          0.008044159214140478,
          0.00844654990674476,
          0.008470342969424172,
          0.009006101559630997,
          0.009047990891717594,
          0.009058551638822632,
          0.009308821466855521,
          0.00959941720153823,
          0.010026489437949149,
          0.010138025366704273,
          0.010153228604616205,
          0.010166692353872131,
          0.010177512941804912,
          0.010527171027827631,
          0.010627818358613261,
          0.010750563511991995,
          0.011105902860533146,
          0.011559777916718028,
          0.011587825665598683,
          0.011590178315130095,
          0.011744929346044763,
          0.012021976306106463,
          0.012748985659712386,
          0.013186964680086621,
          0.014089261756881521,
          0.014290834896094173,
          0.01465217154835119,
          0.01500607402542653,
          0.015626573067949012,
          0.016684789984467208,
          0.017214130872481803,
          0.01809292607323365,
          0.02004564882590487,
          0.02551078555644204,
          0.025834862843780337,
          0.025873471073737386,
          0.026152180698936878,
          0.026239886448716332,
          0.026290180865333523,
          0.02640923893048419,
          0.02900492787871034,
          0.03017003517365735,
          0.03129032007813182,
          0.03147106713465897,
          0.03185842773664249,
          0.03259297334053146,
          0.03410691939387278,
          0.03444254373352673,
          0.03456437211224417,
          0.035537761379345056,
          0.036244917556671474,
          0.036998138250593726,
          0.03740143551970432,
          0.03921373292176478,
          0.03931342450068054,
          0.0409392916228517,
          0.04133669030025855,
          0.04332095625958443,
          0.04339683187392995,
          0.043412821584798866,
          0.0434969139823409,
          0.043566977629877934,
          0.04511475931610498,
          0.04551266028834133,
          0.04588108769730148,
          0.0467109844905047,
          0.04856131858528112,
          0.04987365682802847,
          0.05274262482752334,
          0.05332478570501564,
          0.05482963593958967,
          0.05556171034711843,
          0.05784259134360625,
          0.05924047115085518,
          0.06332349384356739,
          0.06790106361645276,
          0.07421626303881279,
          0.07482525213629199,
          0.0975976766429385,
          0.12213549743893948,
          0.12253467104125426,
          0.1582772410542428,
          0.17104722840828823,
          0.2186548848014025
         ],
         "xaxis": "x",
         "y": [
          0.005076142131979695,
          0.01015228426395939,
          0.015228426395939087,
          0.02030456852791878,
          0.025380710659898477,
          0.030456852791878174,
          0.03553299492385787,
          0.04060913705583756,
          0.04568527918781726,
          0.050761421319796954,
          0.05583756345177665,
          0.06091370558375635,
          0.06598984771573604,
          0.07106598984771574,
          0.07614213197969544,
          0.08121827411167512,
          0.08629441624365482,
          0.09137055837563451,
          0.09644670050761421,
          0.10152284263959391,
          0.1065989847715736,
          0.1116751269035533,
          0.116751269035533,
          0.1218274111675127,
          0.12690355329949238,
          0.1319796954314721,
          0.13705583756345177,
          0.14213197969543148,
          0.14720812182741116,
          0.15228426395939088,
          0.15736040609137056,
          0.16243654822335024,
          0.16751269035532995,
          0.17258883248730963,
          0.17766497461928935,
          0.18274111675126903,
          0.18781725888324874,
          0.19289340101522842,
          0.19796954314720813,
          0.20304568527918782,
          0.20812182741116753,
          0.2131979695431472,
          0.2182741116751269,
          0.2233502538071066,
          0.22842639593908629,
          0.233502538071066,
          0.23857868020304568,
          0.2436548223350254,
          0.24873096446700507,
          0.25380710659898476,
          0.25888324873096447,
          0.2639593908629442,
          0.26903553299492383,
          0.27411167512690354,
          0.27918781725888325,
          0.28426395939086296,
          0.2893401015228426,
          0.29441624365482233,
          0.29949238578680204,
          0.30456852791878175,
          0.3096446700507614,
          0.3147208121827411,
          0.3197969543147208,
          0.3248730964467005,
          0.3299492385786802,
          0.3350253807106599,
          0.3401015228426396,
          0.34517766497461927,
          0.350253807106599,
          0.3553299492385787,
          0.3604060913705584,
          0.36548223350253806,
          0.37055837563451777,
          0.3756345177664975,
          0.38071065989847713,
          0.38578680203045684,
          0.39086294416243655,
          0.39593908629441626,
          0.4010152284263959,
          0.40609137055837563,
          0.41116751269035534,
          0.41624365482233505,
          0.4213197969543147,
          0.4263959390862944,
          0.43147208121827413,
          0.4365482233502538,
          0.4416243654822335,
          0.4467005076142132,
          0.4517766497461929,
          0.45685279187817257,
          0.4619289340101523,
          0.467005076142132,
          0.4720812182741117,
          0.47715736040609136,
          0.48223350253807107,
          0.4873096446700508,
          0.49238578680203043,
          0.49746192893401014,
          0.5025380710659898,
          0.5076142131979695,
          0.5126903553299492,
          0.5177664974619289,
          0.5228426395939086,
          0.5279187817258884,
          0.5329949238578681,
          0.5380710659898477,
          0.5431472081218274,
          0.5482233502538071,
          0.5532994923857868,
          0.5583756345177665,
          0.5634517766497462,
          0.5685279187817259,
          0.5736040609137056,
          0.5786802030456852,
          0.583756345177665,
          0.5888324873096447,
          0.5939086294416244,
          0.5989847715736041,
          0.6040609137055838,
          0.6091370558375635,
          0.6142131979695431,
          0.6192893401015228,
          0.6243654822335025,
          0.6294416243654822,
          0.6345177664974619,
          0.6395939086294417,
          0.6446700507614214,
          0.649746192893401,
          0.6548223350253807,
          0.6598984771573604,
          0.6649746192893401,
          0.6700507614213198,
          0.6751269035532995,
          0.6802030456852792,
          0.6852791878172588,
          0.6903553299492385,
          0.6954314720812182,
          0.700507614213198,
          0.7055837563451777,
          0.7106598984771574,
          0.7157360406091371,
          0.7208121827411168,
          0.7258883248730964,
          0.7309644670050761,
          0.7360406091370558,
          0.7411167512690355,
          0.7461928934010152,
          0.751269035532995,
          0.7563451776649747,
          0.7614213197969543,
          0.766497461928934,
          0.7715736040609137,
          0.7766497461928934,
          0.7817258883248731,
          0.7868020304568528,
          0.7918781725888325,
          0.7969543147208121,
          0.8020304568527918,
          0.8071065989847716,
          0.8121827411167513,
          0.817258883248731,
          0.8223350253807107,
          0.8274111675126904,
          0.8324873096446701,
          0.8375634517766497,
          0.8426395939086294,
          0.8477157360406091,
          0.8527918781725888,
          0.8578680203045685,
          0.8629441624365483,
          0.868020304568528,
          0.8730964467005076,
          0.8781725888324873,
          0.883248730964467,
          0.8883248730964467,
          0.8934010152284264,
          0.8984771573604061,
          0.9035532994923858,
          0.9086294416243654,
          0.9137055837563451,
          0.9187817258883249,
          0.9238578680203046,
          0.9289340101522843,
          0.934010152284264,
          0.9390862944162437,
          0.9441624365482234,
          0.949238578680203,
          0.9543147208121827,
          0.9593908629441624,
          0.9644670050761421,
          0.9695431472081218,
          0.9746192893401016,
          0.9796954314720813,
          0.9847715736040609,
          0.9898477157360406,
          0.9949238578680203,
          1
         ],
         "yaxis": "y"
        }
       ],
       "layout": {
        "legend": {
         "tracegroupgap": 0
        },
        "margin": {
         "t": 60
        },
        "template": {
         "data": {
          "bar": [
           {
            "error_x": {
             "color": "#2a3f5f"
            },
            "error_y": {
             "color": "#2a3f5f"
            },
            "marker": {
             "line": {
              "color": "#E5ECF6",
              "width": 0.5
             },
             "pattern": {
              "fillmode": "overlay",
              "size": 10,
              "solidity": 0.2
             }
            },
            "type": "bar"
           }
          ],
          "barpolar": [
           {
            "marker": {
             "line": {
              "color": "#E5ECF6",
              "width": 0.5
             },
             "pattern": {
              "fillmode": "overlay",
              "size": 10,
              "solidity": 0.2
             }
            },
            "type": "barpolar"
           }
          ],
          "carpet": [
           {
            "aaxis": {
             "endlinecolor": "#2a3f5f",
             "gridcolor": "white",
             "linecolor": "white",
             "minorgridcolor": "white",
             "startlinecolor": "#2a3f5f"
            },
            "baxis": {
             "endlinecolor": "#2a3f5f",
             "gridcolor": "white",
             "linecolor": "white",
             "minorgridcolor": "white",
             "startlinecolor": "#2a3f5f"
            },
            "type": "carpet"
           }
          ],
          "choropleth": [
           {
            "colorbar": {
             "outlinewidth": 0,
             "ticks": ""
            },
            "type": "choropleth"
           }
          ],
          "contour": [
           {
            "colorbar": {
             "outlinewidth": 0,
             "ticks": ""
            },
            "colorscale": [
             [
              0,
              "#0d0887"
             ],
             [
              0.1111111111111111,
              "#46039f"
             ],
             [
              0.2222222222222222,
              "#7201a8"
             ],
             [
              0.3333333333333333,
              "#9c179e"
             ],
             [
              0.4444444444444444,
              "#bd3786"
             ],
             [
              0.5555555555555556,
              "#d8576b"
             ],
             [
              0.6666666666666666,
              "#ed7953"
             ],
             [
              0.7777777777777778,
              "#fb9f3a"
             ],
             [
              0.8888888888888888,
              "#fdca26"
             ],
             [
              1,
              "#f0f921"
             ]
            ],
            "type": "contour"
           }
          ],
          "contourcarpet": [
           {
            "colorbar": {
             "outlinewidth": 0,
             "ticks": ""
            },
            "type": "contourcarpet"
           }
          ],
          "heatmap": [
           {
            "colorbar": {
             "outlinewidth": 0,
             "ticks": ""
            },
            "colorscale": [
             [
              0,
              "#0d0887"
             ],
             [
              0.1111111111111111,
              "#46039f"
             ],
             [
              0.2222222222222222,
              "#7201a8"
             ],
             [
              0.3333333333333333,
              "#9c179e"
             ],
             [
              0.4444444444444444,
              "#bd3786"
             ],
             [
              0.5555555555555556,
              "#d8576b"
             ],
             [
              0.6666666666666666,
              "#ed7953"
             ],
             [
              0.7777777777777778,
              "#fb9f3a"
             ],
             [
              0.8888888888888888,
              "#fdca26"
             ],
             [
              1,
              "#f0f921"
             ]
            ],
            "type": "heatmap"
           }
          ],
          "heatmapgl": [
           {
            "colorbar": {
             "outlinewidth": 0,
             "ticks": ""
            },
            "colorscale": [
             [
              0,
              "#0d0887"
             ],
             [
              0.1111111111111111,
              "#46039f"
             ],
             [
              0.2222222222222222,
              "#7201a8"
             ],
             [
              0.3333333333333333,
              "#9c179e"
             ],
             [
              0.4444444444444444,
              "#bd3786"
             ],
             [
              0.5555555555555556,
              "#d8576b"
             ],
             [
              0.6666666666666666,
              "#ed7953"
             ],
             [
              0.7777777777777778,
              "#fb9f3a"
             ],
             [
              0.8888888888888888,
              "#fdca26"
             ],
             [
              1,
              "#f0f921"
             ]
            ],
            "type": "heatmapgl"
           }
          ],
          "histogram": [
           {
            "marker": {
             "pattern": {
              "fillmode": "overlay",
              "size": 10,
              "solidity": 0.2
             }
            },
            "type": "histogram"
           }
          ],
          "histogram2d": [
           {
            "colorbar": {
             "outlinewidth": 0,
             "ticks": ""
            },
            "colorscale": [
             [
              0,
              "#0d0887"
             ],
             [
              0.1111111111111111,
              "#46039f"
             ],
             [
              0.2222222222222222,
              "#7201a8"
             ],
             [
              0.3333333333333333,
              "#9c179e"
             ],
             [
              0.4444444444444444,
              "#bd3786"
             ],
             [
              0.5555555555555556,
              "#d8576b"
             ],
             [
              0.6666666666666666,
              "#ed7953"
             ],
             [
              0.7777777777777778,
              "#fb9f3a"
             ],
             [
              0.8888888888888888,
              "#fdca26"
             ],
             [
              1,
              "#f0f921"
             ]
            ],
            "type": "histogram2d"
           }
          ],
          "histogram2dcontour": [
           {
            "colorbar": {
             "outlinewidth": 0,
             "ticks": ""
            },
            "colorscale": [
             [
              0,
              "#0d0887"
             ],
             [
              0.1111111111111111,
              "#46039f"
             ],
             [
              0.2222222222222222,
              "#7201a8"
             ],
             [
              0.3333333333333333,
              "#9c179e"
             ],
             [
              0.4444444444444444,
              "#bd3786"
             ],
             [
              0.5555555555555556,
              "#d8576b"
             ],
             [
              0.6666666666666666,
              "#ed7953"
             ],
             [
              0.7777777777777778,
              "#fb9f3a"
             ],
             [
              0.8888888888888888,
              "#fdca26"
             ],
             [
              1,
              "#f0f921"
             ]
            ],
            "type": "histogram2dcontour"
           }
          ],
          "mesh3d": [
           {
            "colorbar": {
             "outlinewidth": 0,
             "ticks": ""
            },
            "type": "mesh3d"
           }
          ],
          "parcoords": [
           {
            "line": {
             "colorbar": {
              "outlinewidth": 0,
              "ticks": ""
             }
            },
            "type": "parcoords"
           }
          ],
          "pie": [
           {
            "automargin": true,
            "type": "pie"
           }
          ],
          "scatter": [
           {
            "fillpattern": {
             "fillmode": "overlay",
             "size": 10,
             "solidity": 0.2
            },
            "type": "scatter"
           }
          ],
          "scatter3d": [
           {
            "line": {
             "colorbar": {
              "outlinewidth": 0,
              "ticks": ""
             }
            },
            "marker": {
             "colorbar": {
              "outlinewidth": 0,
              "ticks": ""
             }
            },
            "type": "scatter3d"
           }
          ],
          "scattercarpet": [
           {
            "marker": {
             "colorbar": {
              "outlinewidth": 0,
              "ticks": ""
             }
            },
            "type": "scattercarpet"
           }
          ],
          "scattergeo": [
           {
            "marker": {
             "colorbar": {
              "outlinewidth": 0,
              "ticks": ""
             }
            },
            "type": "scattergeo"
           }
          ],
          "scattergl": [
           {
            "marker": {
             "colorbar": {
              "outlinewidth": 0,
              "ticks": ""
             }
            },
            "type": "scattergl"
           }
          ],
          "scattermapbox": [
           {
            "marker": {
             "colorbar": {
              "outlinewidth": 0,
              "ticks": ""
             }
            },
            "type": "scattermapbox"
           }
          ],
          "scatterpolar": [
           {
            "marker": {
             "colorbar": {
              "outlinewidth": 0,
              "ticks": ""
             }
            },
            "type": "scatterpolar"
           }
          ],
          "scatterpolargl": [
           {
            "marker": {
             "colorbar": {
              "outlinewidth": 0,
              "ticks": ""
             }
            },
            "type": "scatterpolargl"
           }
          ],
          "scatterternary": [
           {
            "marker": {
             "colorbar": {
              "outlinewidth": 0,
              "ticks": ""
             }
            },
            "type": "scatterternary"
           }
          ],
          "surface": [
           {
            "colorbar": {
             "outlinewidth": 0,
             "ticks": ""
            },
            "colorscale": [
             [
              0,
              "#0d0887"
             ],
             [
              0.1111111111111111,
              "#46039f"
             ],
             [
              0.2222222222222222,
              "#7201a8"
             ],
             [
              0.3333333333333333,
              "#9c179e"
             ],
             [
              0.4444444444444444,
              "#bd3786"
             ],
             [
              0.5555555555555556,
              "#d8576b"
             ],
             [
              0.6666666666666666,
              "#ed7953"
             ],
             [
              0.7777777777777778,
              "#fb9f3a"
             ],
             [
              0.8888888888888888,
              "#fdca26"
             ],
             [
              1,
              "#f0f921"
             ]
            ],
            "type": "surface"
           }
          ],
          "table": [
           {
            "cells": {
             "fill": {
              "color": "#EBF0F8"
             },
             "line": {
              "color": "white"
             }
            },
            "header": {
             "fill": {
              "color": "#C8D4E3"
             },
             "line": {
              "color": "white"
             }
            },
            "type": "table"
           }
          ]
         },
         "layout": {
          "annotationdefaults": {
           "arrowcolor": "#2a3f5f",
           "arrowhead": 0,
           "arrowwidth": 1
          },
          "autotypenumbers": "strict",
          "coloraxis": {
           "colorbar": {
            "outlinewidth": 0,
            "ticks": ""
           }
          },
          "colorscale": {
           "diverging": [
            [
             0,
             "#8e0152"
            ],
            [
             0.1,
             "#c51b7d"
            ],
            [
             0.2,
             "#de77ae"
            ],
            [
             0.3,
             "#f1b6da"
            ],
            [
             0.4,
             "#fde0ef"
            ],
            [
             0.5,
             "#f7f7f7"
            ],
            [
             0.6,
             "#e6f5d0"
            ],
            [
             0.7,
             "#b8e186"
            ],
            [
             0.8,
             "#7fbc41"
            ],
            [
             0.9,
             "#4d9221"
            ],
            [
             1,
             "#276419"
            ]
           ],
           "sequential": [
            [
             0,
             "#0d0887"
            ],
            [
             0.1111111111111111,
             "#46039f"
            ],
            [
             0.2222222222222222,
             "#7201a8"
            ],
            [
             0.3333333333333333,
             "#9c179e"
            ],
            [
             0.4444444444444444,
             "#bd3786"
            ],
            [
             0.5555555555555556,
             "#d8576b"
            ],
            [
             0.6666666666666666,
             "#ed7953"
            ],
            [
             0.7777777777777778,
             "#fb9f3a"
            ],
            [
             0.8888888888888888,
             "#fdca26"
            ],
            [
             1,
             "#f0f921"
            ]
           ],
           "sequentialminus": [
            [
             0,
             "#0d0887"
            ],
            [
             0.1111111111111111,
             "#46039f"
            ],
            [
             0.2222222222222222,
             "#7201a8"
            ],
            [
             0.3333333333333333,
             "#9c179e"
            ],
            [
             0.4444444444444444,
             "#bd3786"
            ],
            [
             0.5555555555555556,
             "#d8576b"
            ],
            [
             0.6666666666666666,
             "#ed7953"
            ],
            [
             0.7777777777777778,
             "#fb9f3a"
            ],
            [
             0.8888888888888888,
             "#fdca26"
            ],
            [
             1,
             "#f0f921"
            ]
           ]
          },
          "colorway": [
           "#636efa",
           "#EF553B",
           "#00cc96",
           "#ab63fa",
           "#FFA15A",
           "#19d3f3",
           "#FF6692",
           "#B6E880",
           "#FF97FF",
           "#FECB52"
          ],
          "font": {
           "color": "#2a3f5f"
          },
          "geo": {
           "bgcolor": "white",
           "lakecolor": "white",
           "landcolor": "#E5ECF6",
           "showlakes": true,
           "showland": true,
           "subunitcolor": "white"
          },
          "hoverlabel": {
           "align": "left"
          },
          "hovermode": "closest",
          "mapbox": {
           "style": "light"
          },
          "paper_bgcolor": "white",
          "plot_bgcolor": "#E5ECF6",
          "polar": {
           "angularaxis": {
            "gridcolor": "white",
            "linecolor": "white",
            "ticks": ""
           },
           "bgcolor": "#E5ECF6",
           "radialaxis": {
            "gridcolor": "white",
            "linecolor": "white",
            "ticks": ""
           }
          },
          "scene": {
           "xaxis": {
            "backgroundcolor": "#E5ECF6",
            "gridcolor": "white",
            "gridwidth": 2,
            "linecolor": "white",
            "showbackground": true,
            "ticks": "",
            "zerolinecolor": "white"
           },
           "yaxis": {
            "backgroundcolor": "#E5ECF6",
            "gridcolor": "white",
            "gridwidth": 2,
            "linecolor": "white",
            "showbackground": true,
            "ticks": "",
            "zerolinecolor": "white"
           },
           "zaxis": {
            "backgroundcolor": "#E5ECF6",
            "gridcolor": "white",
            "gridwidth": 2,
            "linecolor": "white",
            "showbackground": true,
            "ticks": "",
            "zerolinecolor": "white"
           }
          },
          "shapedefaults": {
           "line": {
            "color": "#2a3f5f"
           }
          },
          "ternary": {
           "aaxis": {
            "gridcolor": "white",
            "linecolor": "white",
            "ticks": ""
           },
           "baxis": {
            "gridcolor": "white",
            "linecolor": "white",
            "ticks": ""
           },
           "bgcolor": "#E5ECF6",
           "caxis": {
            "gridcolor": "white",
            "linecolor": "white",
            "ticks": ""
           }
          },
          "title": {
           "x": 0.05
          },
          "xaxis": {
           "automargin": true,
           "gridcolor": "white",
           "linecolor": "white",
           "ticks": "",
           "title": {
            "standoff": 15
           },
           "zerolinecolor": "white",
           "zerolinewidth": 2
          },
          "yaxis": {
           "automargin": true,
           "gridcolor": "white",
           "linecolor": "white",
           "ticks": "",
           "title": {
            "standoff": 15
           },
           "zerolinecolor": "white",
           "zerolinewidth": 2
          }
         }
        },
        "xaxis": {
         "anchor": "y",
         "domain": [
          0,
          1
         ],
         "title": {
          "text": "nll_diff"
         }
        },
        "yaxis": {
         "anchor": "x",
         "domain": [
          0,
          1
         ],
         "title": {
          "text": "bin_proportion"
         }
        }
       }
      },
      "text/html": [
       "<div>                            <div id=\"93505973-0d17-4462-9a30-d0beb0cf3a2a\" class=\"plotly-graph-div\" style=\"height:525px; width:100%;\"></div>            <script type=\"text/javascript\">                require([\"plotly\"], function(Plotly) {                    window.PLOTLYENV=window.PLOTLYENV || {};                                    if (document.getElementById(\"93505973-0d17-4462-9a30-d0beb0cf3a2a\")) {                    Plotly.newPlot(                        \"93505973-0d17-4462-9a30-d0beb0cf3a2a\",                        [{\"hovertemplate\":\"nll_diff=%{x}\\u003cbr\\u003ebin_proportion=%{y}\\u003cextra\\u003e\\u003c\\u002fextra\\u003e\",\"legendgroup\":\"\",\"line\":{\"color\":\"#636efa\",\"dash\":\"solid\"},\"marker\":{\"symbol\":\"circle\"},\"mode\":\"lines\",\"name\":\"\",\"orientation\":\"v\",\"showlegend\":false,\"x\":[-0.04828458098528654,-0.039395072874583104,-0.03467924190476013,-0.03214938069090412,-0.025649149835560214,-0.025380184012907536,-0.02431889511338481,-0.024080683841731787,-0.02392197809831753,-0.021727749204925484,-0.02128054947770175,-0.02093145645283201,-0.02065364379166068,-0.020642216909786626,-0.020212797168174035,-0.018673552100111568,-0.018583462416521312,-0.01846376071333311,-0.018389066595270842,-0.017862441913373495,-0.016539466205386155,-0.014141446757367948,-0.013732853243134002,-0.013712354165565488,-0.013683586410204507,-0.013355494800789014,-0.01312138998105894,-0.013040341924844823,-0.012703485009415427,-0.01206682885603061,-0.01186570130678466,-0.011452458504750185,-0.011166852796583582,-0.010766473415016353,-0.010688388584728037,-0.010442151750598594,-0.01005258575711565,-0.009938850875788718,-0.009293981436885312,-0.009061110266034067,-0.008389806300465485,-0.00827208048440653,-0.008251496454322993,-0.00814299984818212,-0.007568043724601736,-0.007479666437530064,-0.006831405814037184,-0.006774286029206378,-0.006738663703213854,-0.006693390713614411,-0.006576786164091797,-0.006442787377231696,-0.006291706076311021,-0.005408056907501013,-0.005212591392904864,-0.004785954950285554,-0.004548210254253338,-0.0043896392136262286,-0.004146592621896428,-0.00373752366167579,-0.003734835012632942,-0.00370568307992325,-0.0033285262581610464,-0.003076702730796743,-0.002847933503505873,-0.0027468261306202724,-0.0022755299222041447,-0.002013317656840985,-0.002010745421159532,-0.0008568997625105768,-0.0007953653212344758,-0.0006848072829508389,-0.00036585952428569435,-0.0002717221318826457,-0.00020087451445238713,-8.70314471137501e-05,2.1939364356349245e-05,0.00018963118588688488,0.00024525771609651414,0.00037753345843050123,0.00044426099194649904,0.0005340077120026265,0.0006206682344556125,0.0007840778752914446,0.001032847756745836,0.0012625767231999596,0.001813834961496008,0.0019563604850735272,0.002382951299679581,0.002813285457651915,0.0032657775061486483,0.004139972973676076,0.004147439706815748,0.004280077139457328,0.004593106239215938,0.004891696399569545,0.005208186853205454,0.005835885520863893,0.006043451291512847,0.0063080256851764105,0.006335521291910506,0.006437606418145281,0.006448056959566628,0.006940846375073306,0.0071219823144961225,0.007329053424806942,0.007403199052491871,0.007480632655170849,0.007491109921057504,0.007547455081406418,0.0076852911841620575,0.007733691205144444,0.007963907596750808,0.008044159214140478,0.00844654990674476,0.008470342969424172,0.009006101559630997,0.009047990891717594,0.009058551638822632,0.009308821466855521,0.00959941720153823,0.010026489437949149,0.010138025366704273,0.010153228604616205,0.010166692353872131,0.010177512941804912,0.010527171027827631,0.010627818358613261,0.010750563511991995,0.011105902860533146,0.011559777916718028,0.011587825665598683,0.011590178315130095,0.011744929346044763,0.012021976306106463,0.012748985659712386,0.013186964680086621,0.014089261756881521,0.014290834896094173,0.01465217154835119,0.01500607402542653,0.015626573067949012,0.016684789984467208,0.017214130872481803,0.01809292607323365,0.02004564882590487,0.02551078555644204,0.025834862843780337,0.025873471073737386,0.026152180698936878,0.026239886448716332,0.026290180865333523,0.02640923893048419,0.02900492787871034,0.03017003517365735,0.03129032007813182,0.03147106713465897,0.03185842773664249,0.03259297334053146,0.03410691939387278,0.03444254373352673,0.03456437211224417,0.035537761379345056,0.036244917556671474,0.036998138250593726,0.03740143551970432,0.03921373292176478,0.03931342450068054,0.0409392916228517,0.04133669030025855,0.04332095625958443,0.04339683187392995,0.043412821584798866,0.0434969139823409,0.043566977629877934,0.04511475931610498,0.04551266028834133,0.04588108769730148,0.0467109844905047,0.04856131858528112,0.04987365682802847,0.05274262482752334,0.05332478570501564,0.05482963593958967,0.05556171034711843,0.05784259134360625,0.05924047115085518,0.06332349384356739,0.06790106361645276,0.07421626303881279,0.07482525213629199,0.0975976766429385,0.12213549743893948,0.12253467104125426,0.1582772410542428,0.17104722840828823,0.2186548848014025],\"xaxis\":\"x\",\"y\":[0.005076142131979695,0.01015228426395939,0.015228426395939087,0.02030456852791878,0.025380710659898477,0.030456852791878174,0.03553299492385787,0.04060913705583756,0.04568527918781726,0.050761421319796954,0.05583756345177665,0.06091370558375635,0.06598984771573604,0.07106598984771574,0.07614213197969544,0.08121827411167512,0.08629441624365482,0.09137055837563451,0.09644670050761421,0.10152284263959391,0.1065989847715736,0.1116751269035533,0.116751269035533,0.1218274111675127,0.12690355329949238,0.1319796954314721,0.13705583756345177,0.14213197969543148,0.14720812182741116,0.15228426395939088,0.15736040609137056,0.16243654822335024,0.16751269035532995,0.17258883248730963,0.17766497461928935,0.18274111675126903,0.18781725888324874,0.19289340101522842,0.19796954314720813,0.20304568527918782,0.20812182741116753,0.2131979695431472,0.2182741116751269,0.2233502538071066,0.22842639593908629,0.233502538071066,0.23857868020304568,0.2436548223350254,0.24873096446700507,0.25380710659898476,0.25888324873096447,0.2639593908629442,0.26903553299492383,0.27411167512690354,0.27918781725888325,0.28426395939086296,0.2893401015228426,0.29441624365482233,0.29949238578680204,0.30456852791878175,0.3096446700507614,0.3147208121827411,0.3197969543147208,0.3248730964467005,0.3299492385786802,0.3350253807106599,0.3401015228426396,0.34517766497461927,0.350253807106599,0.3553299492385787,0.3604060913705584,0.36548223350253806,0.37055837563451777,0.3756345177664975,0.38071065989847713,0.38578680203045684,0.39086294416243655,0.39593908629441626,0.4010152284263959,0.40609137055837563,0.41116751269035534,0.41624365482233505,0.4213197969543147,0.4263959390862944,0.43147208121827413,0.4365482233502538,0.4416243654822335,0.4467005076142132,0.4517766497461929,0.45685279187817257,0.4619289340101523,0.467005076142132,0.4720812182741117,0.47715736040609136,0.48223350253807107,0.4873096446700508,0.49238578680203043,0.49746192893401014,0.5025380710659898,0.5076142131979695,0.5126903553299492,0.5177664974619289,0.5228426395939086,0.5279187817258884,0.5329949238578681,0.5380710659898477,0.5431472081218274,0.5482233502538071,0.5532994923857868,0.5583756345177665,0.5634517766497462,0.5685279187817259,0.5736040609137056,0.5786802030456852,0.583756345177665,0.5888324873096447,0.5939086294416244,0.5989847715736041,0.6040609137055838,0.6091370558375635,0.6142131979695431,0.6192893401015228,0.6243654822335025,0.6294416243654822,0.6345177664974619,0.6395939086294417,0.6446700507614214,0.649746192893401,0.6548223350253807,0.6598984771573604,0.6649746192893401,0.6700507614213198,0.6751269035532995,0.6802030456852792,0.6852791878172588,0.6903553299492385,0.6954314720812182,0.700507614213198,0.7055837563451777,0.7106598984771574,0.7157360406091371,0.7208121827411168,0.7258883248730964,0.7309644670050761,0.7360406091370558,0.7411167512690355,0.7461928934010152,0.751269035532995,0.7563451776649747,0.7614213197969543,0.766497461928934,0.7715736040609137,0.7766497461928934,0.7817258883248731,0.7868020304568528,0.7918781725888325,0.7969543147208121,0.8020304568527918,0.8071065989847716,0.8121827411167513,0.817258883248731,0.8223350253807107,0.8274111675126904,0.8324873096446701,0.8375634517766497,0.8426395939086294,0.8477157360406091,0.8527918781725888,0.8578680203045685,0.8629441624365483,0.868020304568528,0.8730964467005076,0.8781725888324873,0.883248730964467,0.8883248730964467,0.8934010152284264,0.8984771573604061,0.9035532994923858,0.9086294416243654,0.9137055837563451,0.9187817258883249,0.9238578680203046,0.9289340101522843,0.934010152284264,0.9390862944162437,0.9441624365482234,0.949238578680203,0.9543147208121827,0.9593908629441624,0.9644670050761421,0.9695431472081218,0.9746192893401016,0.9796954314720813,0.9847715736040609,0.9898477157360406,0.9949238578680203,1.0],\"yaxis\":\"y\",\"type\":\"scatter\"}],                        {\"template\":{\"data\":{\"histogram2dcontour\":[{\"type\":\"histogram2dcontour\",\"colorbar\":{\"outlinewidth\":0,\"ticks\":\"\"},\"colorscale\":[[0.0,\"#0d0887\"],[0.1111111111111111,\"#46039f\"],[0.2222222222222222,\"#7201a8\"],[0.3333333333333333,\"#9c179e\"],[0.4444444444444444,\"#bd3786\"],[0.5555555555555556,\"#d8576b\"],[0.6666666666666666,\"#ed7953\"],[0.7777777777777778,\"#fb9f3a\"],[0.8888888888888888,\"#fdca26\"],[1.0,\"#f0f921\"]]}],\"choropleth\":[{\"type\":\"choropleth\",\"colorbar\":{\"outlinewidth\":0,\"ticks\":\"\"}}],\"histogram2d\":[{\"type\":\"histogram2d\",\"colorbar\":{\"outlinewidth\":0,\"ticks\":\"\"},\"colorscale\":[[0.0,\"#0d0887\"],[0.1111111111111111,\"#46039f\"],[0.2222222222222222,\"#7201a8\"],[0.3333333333333333,\"#9c179e\"],[0.4444444444444444,\"#bd3786\"],[0.5555555555555556,\"#d8576b\"],[0.6666666666666666,\"#ed7953\"],[0.7777777777777778,\"#fb9f3a\"],[0.8888888888888888,\"#fdca26\"],[1.0,\"#f0f921\"]]}],\"heatmap\":[{\"type\":\"heatmap\",\"colorbar\":{\"outlinewidth\":0,\"ticks\":\"\"},\"colorscale\":[[0.0,\"#0d0887\"],[0.1111111111111111,\"#46039f\"],[0.2222222222222222,\"#7201a8\"],[0.3333333333333333,\"#9c179e\"],[0.4444444444444444,\"#bd3786\"],[0.5555555555555556,\"#d8576b\"],[0.6666666666666666,\"#ed7953\"],[0.7777777777777778,\"#fb9f3a\"],[0.8888888888888888,\"#fdca26\"],[1.0,\"#f0f921\"]]}],\"heatmapgl\":[{\"type\":\"heatmapgl\",\"colorbar\":{\"outlinewidth\":0,\"ticks\":\"\"},\"colorscale\":[[0.0,\"#0d0887\"],[0.1111111111111111,\"#46039f\"],[0.2222222222222222,\"#7201a8\"],[0.3333333333333333,\"#9c179e\"],[0.4444444444444444,\"#bd3786\"],[0.5555555555555556,\"#d8576b\"],[0.6666666666666666,\"#ed7953\"],[0.7777777777777778,\"#fb9f3a\"],[0.8888888888888888,\"#fdca26\"],[1.0,\"#f0f921\"]]}],\"contourcarpet\":[{\"type\":\"contourcarpet\",\"colorbar\":{\"outlinewidth\":0,\"ticks\":\"\"}}],\"contour\":[{\"type\":\"contour\",\"colorbar\":{\"outlinewidth\":0,\"ticks\":\"\"},\"colorscale\":[[0.0,\"#0d0887\"],[0.1111111111111111,\"#46039f\"],[0.2222222222222222,\"#7201a8\"],[0.3333333333333333,\"#9c179e\"],[0.4444444444444444,\"#bd3786\"],[0.5555555555555556,\"#d8576b\"],[0.6666666666666666,\"#ed7953\"],[0.7777777777777778,\"#fb9f3a\"],[0.8888888888888888,\"#fdca26\"],[1.0,\"#f0f921\"]]}],\"surface\":[{\"type\":\"surface\",\"colorbar\":{\"outlinewidth\":0,\"ticks\":\"\"},\"colorscale\":[[0.0,\"#0d0887\"],[0.1111111111111111,\"#46039f\"],[0.2222222222222222,\"#7201a8\"],[0.3333333333333333,\"#9c179e\"],[0.4444444444444444,\"#bd3786\"],[0.5555555555555556,\"#d8576b\"],[0.6666666666666666,\"#ed7953\"],[0.7777777777777778,\"#fb9f3a\"],[0.8888888888888888,\"#fdca26\"],[1.0,\"#f0f921\"]]}],\"mesh3d\":[{\"type\":\"mesh3d\",\"colorbar\":{\"outlinewidth\":0,\"ticks\":\"\"}}],\"scatter\":[{\"fillpattern\":{\"fillmode\":\"overlay\",\"size\":10,\"solidity\":0.2},\"type\":\"scatter\"}],\"parcoords\":[{\"type\":\"parcoords\",\"line\":{\"colorbar\":{\"outlinewidth\":0,\"ticks\":\"\"}}}],\"scatterpolargl\":[{\"type\":\"scatterpolargl\",\"marker\":{\"colorbar\":{\"outlinewidth\":0,\"ticks\":\"\"}}}],\"bar\":[{\"error_x\":{\"color\":\"#2a3f5f\"},\"error_y\":{\"color\":\"#2a3f5f\"},\"marker\":{\"line\":{\"color\":\"#E5ECF6\",\"width\":0.5},\"pattern\":{\"fillmode\":\"overlay\",\"size\":10,\"solidity\":0.2}},\"type\":\"bar\"}],\"scattergeo\":[{\"type\":\"scattergeo\",\"marker\":{\"colorbar\":{\"outlinewidth\":0,\"ticks\":\"\"}}}],\"scatterpolar\":[{\"type\":\"scatterpolar\",\"marker\":{\"colorbar\":{\"outlinewidth\":0,\"ticks\":\"\"}}}],\"histogram\":[{\"marker\":{\"pattern\":{\"fillmode\":\"overlay\",\"size\":10,\"solidity\":0.2}},\"type\":\"histogram\"}],\"scattergl\":[{\"type\":\"scattergl\",\"marker\":{\"colorbar\":{\"outlinewidth\":0,\"ticks\":\"\"}}}],\"scatter3d\":[{\"type\":\"scatter3d\",\"line\":{\"colorbar\":{\"outlinewidth\":0,\"ticks\":\"\"}},\"marker\":{\"colorbar\":{\"outlinewidth\":0,\"ticks\":\"\"}}}],\"scattermapbox\":[{\"type\":\"scattermapbox\",\"marker\":{\"colorbar\":{\"outlinewidth\":0,\"ticks\":\"\"}}}],\"scatterternary\":[{\"type\":\"scatterternary\",\"marker\":{\"colorbar\":{\"outlinewidth\":0,\"ticks\":\"\"}}}],\"scattercarpet\":[{\"type\":\"scattercarpet\",\"marker\":{\"colorbar\":{\"outlinewidth\":0,\"ticks\":\"\"}}}],\"carpet\":[{\"aaxis\":{\"endlinecolor\":\"#2a3f5f\",\"gridcolor\":\"white\",\"linecolor\":\"white\",\"minorgridcolor\":\"white\",\"startlinecolor\":\"#2a3f5f\"},\"baxis\":{\"endlinecolor\":\"#2a3f5f\",\"gridcolor\":\"white\",\"linecolor\":\"white\",\"minorgridcolor\":\"white\",\"startlinecolor\":\"#2a3f5f\"},\"type\":\"carpet\"}],\"table\":[{\"cells\":{\"fill\":{\"color\":\"#EBF0F8\"},\"line\":{\"color\":\"white\"}},\"header\":{\"fill\":{\"color\":\"#C8D4E3\"},\"line\":{\"color\":\"white\"}},\"type\":\"table\"}],\"barpolar\":[{\"marker\":{\"line\":{\"color\":\"#E5ECF6\",\"width\":0.5},\"pattern\":{\"fillmode\":\"overlay\",\"size\":10,\"solidity\":0.2}},\"type\":\"barpolar\"}],\"pie\":[{\"automargin\":true,\"type\":\"pie\"}]},\"layout\":{\"autotypenumbers\":\"strict\",\"colorway\":[\"#636efa\",\"#EF553B\",\"#00cc96\",\"#ab63fa\",\"#FFA15A\",\"#19d3f3\",\"#FF6692\",\"#B6E880\",\"#FF97FF\",\"#FECB52\"],\"font\":{\"color\":\"#2a3f5f\"},\"hovermode\":\"closest\",\"hoverlabel\":{\"align\":\"left\"},\"paper_bgcolor\":\"white\",\"plot_bgcolor\":\"#E5ECF6\",\"polar\":{\"bgcolor\":\"#E5ECF6\",\"angularaxis\":{\"gridcolor\":\"white\",\"linecolor\":\"white\",\"ticks\":\"\"},\"radialaxis\":{\"gridcolor\":\"white\",\"linecolor\":\"white\",\"ticks\":\"\"}},\"ternary\":{\"bgcolor\":\"#E5ECF6\",\"aaxis\":{\"gridcolor\":\"white\",\"linecolor\":\"white\",\"ticks\":\"\"},\"baxis\":{\"gridcolor\":\"white\",\"linecolor\":\"white\",\"ticks\":\"\"},\"caxis\":{\"gridcolor\":\"white\",\"linecolor\":\"white\",\"ticks\":\"\"}},\"coloraxis\":{\"colorbar\":{\"outlinewidth\":0,\"ticks\":\"\"}},\"colorscale\":{\"sequential\":[[0.0,\"#0d0887\"],[0.1111111111111111,\"#46039f\"],[0.2222222222222222,\"#7201a8\"],[0.3333333333333333,\"#9c179e\"],[0.4444444444444444,\"#bd3786\"],[0.5555555555555556,\"#d8576b\"],[0.6666666666666666,\"#ed7953\"],[0.7777777777777778,\"#fb9f3a\"],[0.8888888888888888,\"#fdca26\"],[1.0,\"#f0f921\"]],\"sequentialminus\":[[0.0,\"#0d0887\"],[0.1111111111111111,\"#46039f\"],[0.2222222222222222,\"#7201a8\"],[0.3333333333333333,\"#9c179e\"],[0.4444444444444444,\"#bd3786\"],[0.5555555555555556,\"#d8576b\"],[0.6666666666666666,\"#ed7953\"],[0.7777777777777778,\"#fb9f3a\"],[0.8888888888888888,\"#fdca26\"],[1.0,\"#f0f921\"]],\"diverging\":[[0,\"#8e0152\"],[0.1,\"#c51b7d\"],[0.2,\"#de77ae\"],[0.3,\"#f1b6da\"],[0.4,\"#fde0ef\"],[0.5,\"#f7f7f7\"],[0.6,\"#e6f5d0\"],[0.7,\"#b8e186\"],[0.8,\"#7fbc41\"],[0.9,\"#4d9221\"],[1,\"#276419\"]]},\"xaxis\":{\"gridcolor\":\"white\",\"linecolor\":\"white\",\"ticks\":\"\",\"title\":{\"standoff\":15},\"zerolinecolor\":\"white\",\"automargin\":true,\"zerolinewidth\":2},\"yaxis\":{\"gridcolor\":\"white\",\"linecolor\":\"white\",\"ticks\":\"\",\"title\":{\"standoff\":15},\"zerolinecolor\":\"white\",\"automargin\":true,\"zerolinewidth\":2},\"scene\":{\"xaxis\":{\"backgroundcolor\":\"#E5ECF6\",\"gridcolor\":\"white\",\"linecolor\":\"white\",\"showbackground\":true,\"ticks\":\"\",\"zerolinecolor\":\"white\",\"gridwidth\":2},\"yaxis\":{\"backgroundcolor\":\"#E5ECF6\",\"gridcolor\":\"white\",\"linecolor\":\"white\",\"showbackground\":true,\"ticks\":\"\",\"zerolinecolor\":\"white\",\"gridwidth\":2},\"zaxis\":{\"backgroundcolor\":\"#E5ECF6\",\"gridcolor\":\"white\",\"linecolor\":\"white\",\"showbackground\":true,\"ticks\":\"\",\"zerolinecolor\":\"white\",\"gridwidth\":2}},\"shapedefaults\":{\"line\":{\"color\":\"#2a3f5f\"}},\"annotationdefaults\":{\"arrowcolor\":\"#2a3f5f\",\"arrowhead\":0,\"arrowwidth\":1},\"geo\":{\"bgcolor\":\"white\",\"landcolor\":\"#E5ECF6\",\"subunitcolor\":\"white\",\"showland\":true,\"showlakes\":true,\"lakecolor\":\"white\"},\"title\":{\"x\":0.05},\"mapbox\":{\"style\":\"light\"}}},\"xaxis\":{\"anchor\":\"y\",\"domain\":[0.0,1.0],\"title\":{\"text\":\"nll_diff\"}},\"yaxis\":{\"anchor\":\"x\",\"domain\":[0.0,1.0],\"title\":{\"text\":\"bin_proportion\"}},\"legend\":{\"tracegroupgap\":0},\"margin\":{\"t\":60}},                        {\"responsive\": true}                    ).then(function(){\n",
       "                            \n",
       "var gd = document.getElementById('93505973-0d17-4462-9a30-d0beb0cf3a2a');\n",
       "var x = new MutationObserver(function (mutations, observer) {{\n",
       "        var display = window.getComputedStyle(gd).display;\n",
       "        if (!display || display === 'none') {{\n",
       "            console.log([gd, 'removed!']);\n",
       "            Plotly.purge(gd);\n",
       "            observer.disconnect();\n",
       "        }}\n",
       "}});\n",
       "\n",
       "// Listen for the removal of the full notebook cells\n",
       "var notebookContainer = gd.closest('#notebook-container');\n",
       "if (notebookContainer) {{\n",
       "    x.observe(notebookContainer, {childList: true});\n",
       "}}\n",
       "\n",
       "// Listen for the clearing of the current output cell\n",
       "var outputEl = gd.closest('.output');\n",
       "if (outputEl) {{\n",
       "    x.observe(outputEl, {childList: true});\n",
       "}}\n",
       "\n",
       "                        })                };                });            </script>        </div>"
      ]
     },
     "metadata": {},
     "output_type": "display_data"
    }
   ],
   "source": [
    "cdf = df.merge(_filter[key_cols]).copy()\n",
    "cdf['bins'] = 1\n",
    "cdf = cdf.sort_values('nll_diff', ascending=True)\n",
    "cdf['bins'] = cdf['bins'].cumsum()\n",
    "cdf['bin_proportion'] = cdf['bins'] / cdf['bins'].max()\n",
    "\n",
    "px.line(cdf, x='nll_diff', y='bin_proportion')"
   ]
  },
  {
   "cell_type": "code",
   "execution_count": 32,
   "id": "4d9a357c",
   "metadata": {},
   "outputs": [
    {
     "data": {
      "text/html": [
       "<div>\n",
       "<style scoped>\n",
       "    .dataframe tbody tr th:only-of-type {\n",
       "        vertical-align: middle;\n",
       "    }\n",
       "\n",
       "    .dataframe tbody tr th {\n",
       "        vertical-align: top;\n",
       "    }\n",
       "\n",
       "    .dataframe thead th {\n",
       "        text-align: right;\n",
       "    }\n",
       "</style>\n",
       "<table border=\"1\" class=\"dataframe\">\n",
       "  <thead>\n",
       "    <tr style=\"text-align: right;\">\n",
       "      <th></th>\n",
       "      <th>key_radians</th>\n",
       "      <th>key_month</th>\n",
       "      <th>key_max_depth_bin</th>\n",
       "      <th>nll_perm</th>\n",
       "      <th>nll_data</th>\n",
       "      <th>nll_diff</th>\n",
       "      <th>count</th>\n",
       "      <th>cumsum</th>\n",
       "      <th>proportion</th>\n",
       "    </tr>\n",
       "  </thead>\n",
       "  <tbody>\n",
       "    <tr>\n",
       "      <th>0</th>\n",
       "      <td>-3</td>\n",
       "      <td>10</td>\n",
       "      <td>6</td>\n",
       "      <td>1.747396</td>\n",
       "      <td>1.528741</td>\n",
       "      <td>0.218655</td>\n",
       "      <td>2478</td>\n",
       "      <td>2478</td>\n",
       "      <td>0.003496</td>\n",
       "    </tr>\n",
       "    <tr>\n",
       "      <th>1</th>\n",
       "      <td>-1</td>\n",
       "      <td>10</td>\n",
       "      <td>6</td>\n",
       "      <td>1.646114</td>\n",
       "      <td>1.475067</td>\n",
       "      <td>0.171047</td>\n",
       "      <td>2010</td>\n",
       "      <td>4488</td>\n",
       "      <td>0.006332</td>\n",
       "    </tr>\n",
       "    <tr>\n",
       "      <th>2</th>\n",
       "      <td>-4</td>\n",
       "      <td>10</td>\n",
       "      <td>6</td>\n",
       "      <td>1.803614</td>\n",
       "      <td>1.645337</td>\n",
       "      <td>0.158277</td>\n",
       "      <td>1224</td>\n",
       "      <td>5712</td>\n",
       "      <td>0.008059</td>\n",
       "    </tr>\n",
       "    <tr>\n",
       "      <th>3</th>\n",
       "      <td>0</td>\n",
       "      <td>10</td>\n",
       "      <td>6</td>\n",
       "      <td>1.842163</td>\n",
       "      <td>1.719628</td>\n",
       "      <td>0.122535</td>\n",
       "      <td>2052</td>\n",
       "      <td>7764</td>\n",
       "      <td>0.010954</td>\n",
       "    </tr>\n",
       "    <tr>\n",
       "      <th>4</th>\n",
       "      <td>-2</td>\n",
       "      <td>10</td>\n",
       "      <td>6</td>\n",
       "      <td>1.677292</td>\n",
       "      <td>1.555156</td>\n",
       "      <td>0.122135</td>\n",
       "      <td>2238</td>\n",
       "      <td>10002</td>\n",
       "      <td>0.014112</td>\n",
       "    </tr>\n",
       "  </tbody>\n",
       "</table>\n",
       "</div>"
      ],
      "text/plain": [
       "   key_radians  key_month  key_max_depth_bin  nll_perm  nll_data  nll_diff  \\\n",
       "0           -3         10                  6  1.747396  1.528741  0.218655   \n",
       "1           -1         10                  6  1.646114  1.475067  0.171047   \n",
       "2           -4         10                  6  1.803614  1.645337  0.158277   \n",
       "3            0         10                  6  1.842163  1.719628  0.122535   \n",
       "4           -2         10                  6  1.677292  1.555156  0.122135   \n",
       "\n",
       "   count  cumsum  proportion  \n",
       "0   2478    2478    0.003496  \n",
       "1   2010    4488    0.006332  \n",
       "2   1224    5712    0.008059  \n",
       "3   2052    7764    0.010954  \n",
       "4   2238   10002    0.014112  "
      ]
     },
     "execution_count": 32,
     "metadata": {},
     "output_type": "execute_result"
    }
   ],
   "source": [
    "cdf = df.merge(_filter[key_cols]).merge(data.groupby(key_cols).size().reset_index().rename(columns={0: 'count'})).sort_values('nll_diff', ascending=False)\n",
    "cdf['cumsum'] = cdf['count'].cumsum()\n",
    "cdf['proportion'] = cdf['cumsum'] / cdf['count'].sum()\n",
    "cdf.head()"
   ]
  },
  {
   "cell_type": "code",
   "execution_count": 33,
   "id": "fed87026",
   "metadata": {},
   "outputs": [
    {
     "data": {
      "application/vnd.plotly.v1+json": {
       "config": {
        "plotlyServerURL": "https://plot.ly"
       },
       "data": [
        {
         "hovertemplate": "nll_diff=%{x}<br>proportion=%{y}<extra></extra>",
         "legendgroup": "",
         "line": {
          "color": "#636efa",
          "dash": "solid"
         },
         "marker": {
          "symbol": "circle"
         },
         "mode": "lines",
         "name": "",
         "orientation": "v",
         "showlegend": false,
         "type": "scatter",
         "x": [
          0.2186548848014025,
          0.17104722840828823,
          0.1582772410542428,
          0.12253467104125426,
          0.12213549743893948,
          0.0975976766429385,
          0.07482525213629199,
          0.07421626303881279,
          0.06790106361645276,
          0.06332349384356739,
          0.05924047115085518,
          0.05784259134360625,
          0.05556171034711843,
          0.05482963593958967,
          0.05332478570501564,
          0.05274262482752334,
          0.04987365682802847,
          0.04856131858528112,
          0.0467109844905047,
          0.04588108769730148,
          0.04551266028834133,
          0.04511475931610498,
          0.043566977629877934,
          0.0434969139823409,
          0.043412821584798866,
          0.04339683187392995,
          0.04332095625958443,
          0.04133669030025855,
          0.0409392916228517,
          0.03931342450068054,
          0.03921373292176478,
          0.03740143551970432,
          0.036998138250593726,
          0.036244917556671474,
          0.035537761379345056,
          0.03456437211224417,
          0.03444254373352673,
          0.03410691939387278,
          0.03259297334053146,
          0.03185842773664249,
          0.03147106713465897,
          0.03129032007813182,
          0.03017003517365735,
          0.02900492787871034,
          0.02640923893048419,
          0.026290180865333523,
          0.026239886448716332,
          0.026152180698936878,
          0.025873471073737386,
          0.025834862843780337,
          0.02551078555644204,
          0.02004564882590487,
          0.01809292607323365,
          0.017214130872481803,
          0.016684789984467208,
          0.015626573067949012,
          0.01500607402542653,
          0.01465217154835119,
          0.014290834896094173,
          0.014089261756881521,
          0.013186964680086621,
          0.012748985659712386,
          0.012021976306106463,
          0.011744929346044763,
          0.011590178315130095,
          0.011587825665598683,
          0.011559777916718028,
          0.011105902860533146,
          0.010750563511991995,
          0.010627818358613261,
          0.010527171027827631,
          0.010177512941804912,
          0.010166692353872131,
          0.010153228604616205,
          0.010138025366704273,
          0.010026489437949149,
          0.00959941720153823,
          0.009308821466855521,
          0.009058551638822632,
          0.009047990891717594,
          0.009006101559630997,
          0.008470342969424172,
          0.00844654990674476,
          0.008044159214140478,
          0.007963907596750808,
          0.007733691205144444,
          0.0076852911841620575,
          0.007547455081406418,
          0.007491109921057504,
          0.007480632655170849,
          0.007403199052491871,
          0.007329053424806942,
          0.0071219823144961225,
          0.006940846375073306,
          0.006448056959566628,
          0.006437606418145281,
          0.006335521291910506,
          0.0063080256851764105,
          0.006043451291512847,
          0.005835885520863893,
          0.005208186853205454,
          0.004891696399569545,
          0.004593106239215938,
          0.004280077139457328,
          0.004147439706815748,
          0.004139972973676076,
          0.0032657775061486483,
          0.002813285457651915,
          0.002382951299679581,
          0.0019563604850735272,
          0.001813834961496008,
          0.0012625767231999596,
          0.001032847756745836,
          0.0007840778752914446,
          0.0006206682344556125,
          0.0005340077120026265,
          0.00044426099194649904,
          0.00037753345843050123,
          0.00024525771609651414,
          0.00018963118588688488,
          0.000021939364356349245,
          -0.0000870314471137501,
          -0.00020087451445238713,
          -0.0002717221318826457,
          -0.00036585952428569435,
          -0.0006848072829508389,
          -0.0007953653212344758,
          -0.0008568997625105768,
          -0.002010745421159532,
          -0.002013317656840985,
          -0.0022755299222041447,
          -0.0027468261306202724,
          -0.002847933503505873,
          -0.003076702730796743,
          -0.0033285262581610464,
          -0.00370568307992325,
          -0.003734835012632942,
          -0.00373752366167579,
          -0.004146592621896428,
          -0.0043896392136262286,
          -0.004548210254253338,
          -0.004785954950285554,
          -0.005212591392904864,
          -0.005408056907501013,
          -0.006291706076311021,
          -0.006442787377231696,
          -0.006576786164091797,
          -0.006693390713614411,
          -0.006738663703213854,
          -0.006774286029206378,
          -0.006831405814037184,
          -0.007479666437530064,
          -0.007568043724601736,
          -0.00814299984818212,
          -0.008251496454322993,
          -0.00827208048440653,
          -0.008389806300465485,
          -0.009061110266034067,
          -0.009293981436885312,
          -0.009938850875788718,
          -0.01005258575711565,
          -0.010442151750598594,
          -0.010688388584728037,
          -0.010766473415016353,
          -0.011166852796583582,
          -0.011452458504750185,
          -0.01186570130678466,
          -0.01206682885603061,
          -0.012703485009415427,
          -0.013040341924844823,
          -0.01312138998105894,
          -0.013355494800789014,
          -0.013683586410204507,
          -0.013712354165565488,
          -0.013732853243134002,
          -0.014141446757367948,
          -0.016539466205386155,
          -0.017862441913373495,
          -0.018389066595270842,
          -0.01846376071333311,
          -0.018583462416521312,
          -0.018673552100111568,
          -0.020212797168174035,
          -0.020642216909786626,
          -0.02065364379166068,
          -0.02093145645283201,
          -0.02128054947770175,
          -0.021727749204925484,
          -0.02392197809831753,
          -0.024080683841731787,
          -0.02431889511338481,
          -0.025380184012907536,
          -0.025649149835560214,
          -0.03214938069090412,
          -0.03467924190476013,
          -0.039395072874583104,
          -0.04828458098528654
         ],
         "xaxis": "x",
         "y": [
          0.003496222302173499,
          0.0063321411187064825,
          0.008059088696535523,
          0.010954265518190091,
          0.014111870648240248,
          0.01682927345453006,
          0.01929271338172737,
          0.021908531036380182,
          0.02943429768682144,
          0.03211360606124738,
          0.038815404259521846,
          0.04627203657065459,
          0.049178500631379934,
          0.06976360288671139,
          0.07513915049416943,
          0.09583712514020867,
          0.11609771927225526,
          0.1214732668797133,
          0.1236855657375858,
          0.12490458755722983,
          0.12914435673319083,
          0.14551085338581898,
          0.15576813189138855,
          0.16086149852207712,
          0.16651922710630462,
          0.18697734792208984,
          0.20342849886774883,
          0.21700140385035943,
          0.22995351068407724,
          0.2325495756703562,
          0.23442043554633765,
          0.2462579275218161,
          0.2508080957722235,
          0.2638025297524567,
          0.2702574195960579,
          0.27254308550789047,
          0.2769563959845647,
          0.2824024888362151,
          0.28666342158543384,
          0.29127708055561435,
          0.2928798685036648,
          0.3060859382164751,
          0.317725903508215,
          0.31891811813506593,
          0.32254696549632106,
          0.34316028584932945,
          0.3503798861399759,
          0.3526937701494854,
          0.3551699082206373,
          0.37801245829012436,
          0.3897794050214105,
          0.40071391787122673,
          0.40180736915620835,
          0.41278420915254,
          0.41443214605687356,
          0.4226012853343492,
          0.4231092110925342,
          0.4292184292395928,
          0.43175805803051787,
          0.4353770290575861,
          0.43780378545780335,
          0.4393190973030553,
          0.44175714094234336,
          0.4444660783193301,
          0.445270294103123,
          0.44685050757303196,
          0.4476970505033403,
          0.4504906421733579,
          0.4546951387272227,
          0.4594710517590457,
          0.46150980931620494,
          0.4629912594442446,
          0.4655379427595889,
          0.46621517710383553,
          0.4683428216686772,
          0.46938406947295647,
          0.4717487460582845,
          0.4775362778918259,
          0.480380662137662,
          0.4912305206944474,
          0.49567204926879854,
          0.499667731899854,
          0.5126903839777641,
          0.5158860835396781,
          0.5223550824321178,
          0.5230436040154353,
          0.5270844356027738,
          0.5310561328508039,
          0.5351026080576778,
          0.5362623718722003,
          0.5498493859036493,
          0.5622653488815051,
          0.5665121725818854,
          0.5684874394192716,
          0.5698334426784618,
          0.5719356909553942,
          0.5744245271705009,
          0.575660479848751,
          0.5849583430333044,
          0.5890922943429768,
          0.5898372521216482,
          0.5927324289433028,
          0.5959436484589391,
          0.6019625686934316,
          0.6043187798494565,
          0.6048605673248538,
          0.6090932819763956,
          0.6155834444420929,
          0.6218337530775363,
          0.6233279013495305,
          0.6249786600636318,
          0.6341565963330582,
          0.6383498056478523,
          0.6393063991591007,
          0.6399836335033474,
          0.6423468991837915,
          0.6462833238097254,
          0.6531262124963846,
          0.6565293150762241,
          0.6621503601334716,
          0.6697621919818275,
          0.6715145358475658,
          0.6730383131221209,
          0.6746636755483129,
          0.6772738495834303,
          0.6786833435623938,
          0.6800265250118164,
          0.6827495714376415,
          0.6918216898407794,
          0.6940904248940057,
          0.6949792949708296,
          0.6966977771193555,
          0.6984247246971845,
          0.7006680634625017,
          0.7021325827319351,
          0.703732548870218,
          0.7087624247811334,
          0.7098290688733219,
          0.7112639591401946,
          0.7115009911606809,
          0.7205096188440456,
          0.7218175276713721,
          0.7232905123701086,
          0.7290470042962054,
          0.7302942442135264,
          0.7321735695188109,
          0.733197886464484,
          0.7395963401127313,
          0.745112978208574,
          0.7495403977340868,
          0.7549723815368987,
          0.7592615323837943,
          0.7792963817344254,
          0.784925892220976,
          0.7872510634695562,
          0.7925983929793373,
          0.7930766897349615,
          0.807242174768788,
          0.8137774861907684,
          0.8143827643859389,
          0.8172327922513104,
          0.8369149153809796,
          0.8383752019357615,
          0.858212524602654,
          0.8608029459693974,
          0.8708626977912284,
          0.8719462727420231,
          0.8805386834846529,
          0.8820878570471171,
          0.8859988853851417,
          0.8924918696606068,
          0.892961700986928,
          0.8981594745790212,
          0.9036704690553287,
          0.9088625990278866,
          0.9108858366313235,
          0.9124307774791363,
          0.919887409790269,
          0.9263380669192186,
          0.9314088590717656,
          0.9328479820532899,
          0.9344606463355273,
          0.9397430742206514,
          0.9473972332155228,
          0.9529759511262548,
          0.957186091299655,
          0.9658772653841541,
          0.966867720612615,
          0.9683576361699576,
          0.973563875191354,
          0.9764421211544023,
          0.9818007379032543,
          0.9856623845703442,
          0.9862295683336508,
          0.9889949419059914,
          0.9915345706969164,
          1
         ],
         "yaxis": "y"
        }
       ],
       "layout": {
        "legend": {
         "tracegroupgap": 0
        },
        "margin": {
         "t": 60
        },
        "template": {
         "data": {
          "bar": [
           {
            "error_x": {
             "color": "#2a3f5f"
            },
            "error_y": {
             "color": "#2a3f5f"
            },
            "marker": {
             "line": {
              "color": "#E5ECF6",
              "width": 0.5
             },
             "pattern": {
              "fillmode": "overlay",
              "size": 10,
              "solidity": 0.2
             }
            },
            "type": "bar"
           }
          ],
          "barpolar": [
           {
            "marker": {
             "line": {
              "color": "#E5ECF6",
              "width": 0.5
             },
             "pattern": {
              "fillmode": "overlay",
              "size": 10,
              "solidity": 0.2
             }
            },
            "type": "barpolar"
           }
          ],
          "carpet": [
           {
            "aaxis": {
             "endlinecolor": "#2a3f5f",
             "gridcolor": "white",
             "linecolor": "white",
             "minorgridcolor": "white",
             "startlinecolor": "#2a3f5f"
            },
            "baxis": {
             "endlinecolor": "#2a3f5f",
             "gridcolor": "white",
             "linecolor": "white",
             "minorgridcolor": "white",
             "startlinecolor": "#2a3f5f"
            },
            "type": "carpet"
           }
          ],
          "choropleth": [
           {
            "colorbar": {
             "outlinewidth": 0,
             "ticks": ""
            },
            "type": "choropleth"
           }
          ],
          "contour": [
           {
            "colorbar": {
             "outlinewidth": 0,
             "ticks": ""
            },
            "colorscale": [
             [
              0,
              "#0d0887"
             ],
             [
              0.1111111111111111,
              "#46039f"
             ],
             [
              0.2222222222222222,
              "#7201a8"
             ],
             [
              0.3333333333333333,
              "#9c179e"
             ],
             [
              0.4444444444444444,
              "#bd3786"
             ],
             [
              0.5555555555555556,
              "#d8576b"
             ],
             [
              0.6666666666666666,
              "#ed7953"
             ],
             [
              0.7777777777777778,
              "#fb9f3a"
             ],
             [
              0.8888888888888888,
              "#fdca26"
             ],
             [
              1,
              "#f0f921"
             ]
            ],
            "type": "contour"
           }
          ],
          "contourcarpet": [
           {
            "colorbar": {
             "outlinewidth": 0,
             "ticks": ""
            },
            "type": "contourcarpet"
           }
          ],
          "heatmap": [
           {
            "colorbar": {
             "outlinewidth": 0,
             "ticks": ""
            },
            "colorscale": [
             [
              0,
              "#0d0887"
             ],
             [
              0.1111111111111111,
              "#46039f"
             ],
             [
              0.2222222222222222,
              "#7201a8"
             ],
             [
              0.3333333333333333,
              "#9c179e"
             ],
             [
              0.4444444444444444,
              "#bd3786"
             ],
             [
              0.5555555555555556,
              "#d8576b"
             ],
             [
              0.6666666666666666,
              "#ed7953"
             ],
             [
              0.7777777777777778,
              "#fb9f3a"
             ],
             [
              0.8888888888888888,
              "#fdca26"
             ],
             [
              1,
              "#f0f921"
             ]
            ],
            "type": "heatmap"
           }
          ],
          "heatmapgl": [
           {
            "colorbar": {
             "outlinewidth": 0,
             "ticks": ""
            },
            "colorscale": [
             [
              0,
              "#0d0887"
             ],
             [
              0.1111111111111111,
              "#46039f"
             ],
             [
              0.2222222222222222,
              "#7201a8"
             ],
             [
              0.3333333333333333,
              "#9c179e"
             ],
             [
              0.4444444444444444,
              "#bd3786"
             ],
             [
              0.5555555555555556,
              "#d8576b"
             ],
             [
              0.6666666666666666,
              "#ed7953"
             ],
             [
              0.7777777777777778,
              "#fb9f3a"
             ],
             [
              0.8888888888888888,
              "#fdca26"
             ],
             [
              1,
              "#f0f921"
             ]
            ],
            "type": "heatmapgl"
           }
          ],
          "histogram": [
           {
            "marker": {
             "pattern": {
              "fillmode": "overlay",
              "size": 10,
              "solidity": 0.2
             }
            },
            "type": "histogram"
           }
          ],
          "histogram2d": [
           {
            "colorbar": {
             "outlinewidth": 0,
             "ticks": ""
            },
            "colorscale": [
             [
              0,
              "#0d0887"
             ],
             [
              0.1111111111111111,
              "#46039f"
             ],
             [
              0.2222222222222222,
              "#7201a8"
             ],
             [
              0.3333333333333333,
              "#9c179e"
             ],
             [
              0.4444444444444444,
              "#bd3786"
             ],
             [
              0.5555555555555556,
              "#d8576b"
             ],
             [
              0.6666666666666666,
              "#ed7953"
             ],
             [
              0.7777777777777778,
              "#fb9f3a"
             ],
             [
              0.8888888888888888,
              "#fdca26"
             ],
             [
              1,
              "#f0f921"
             ]
            ],
            "type": "histogram2d"
           }
          ],
          "histogram2dcontour": [
           {
            "colorbar": {
             "outlinewidth": 0,
             "ticks": ""
            },
            "colorscale": [
             [
              0,
              "#0d0887"
             ],
             [
              0.1111111111111111,
              "#46039f"
             ],
             [
              0.2222222222222222,
              "#7201a8"
             ],
             [
              0.3333333333333333,
              "#9c179e"
             ],
             [
              0.4444444444444444,
              "#bd3786"
             ],
             [
              0.5555555555555556,
              "#d8576b"
             ],
             [
              0.6666666666666666,
              "#ed7953"
             ],
             [
              0.7777777777777778,
              "#fb9f3a"
             ],
             [
              0.8888888888888888,
              "#fdca26"
             ],
             [
              1,
              "#f0f921"
             ]
            ],
            "type": "histogram2dcontour"
           }
          ],
          "mesh3d": [
           {
            "colorbar": {
             "outlinewidth": 0,
             "ticks": ""
            },
            "type": "mesh3d"
           }
          ],
          "parcoords": [
           {
            "line": {
             "colorbar": {
              "outlinewidth": 0,
              "ticks": ""
             }
            },
            "type": "parcoords"
           }
          ],
          "pie": [
           {
            "automargin": true,
            "type": "pie"
           }
          ],
          "scatter": [
           {
            "fillpattern": {
             "fillmode": "overlay",
             "size": 10,
             "solidity": 0.2
            },
            "type": "scatter"
           }
          ],
          "scatter3d": [
           {
            "line": {
             "colorbar": {
              "outlinewidth": 0,
              "ticks": ""
             }
            },
            "marker": {
             "colorbar": {
              "outlinewidth": 0,
              "ticks": ""
             }
            },
            "type": "scatter3d"
           }
          ],
          "scattercarpet": [
           {
            "marker": {
             "colorbar": {
              "outlinewidth": 0,
              "ticks": ""
             }
            },
            "type": "scattercarpet"
           }
          ],
          "scattergeo": [
           {
            "marker": {
             "colorbar": {
              "outlinewidth": 0,
              "ticks": ""
             }
            },
            "type": "scattergeo"
           }
          ],
          "scattergl": [
           {
            "marker": {
             "colorbar": {
              "outlinewidth": 0,
              "ticks": ""
             }
            },
            "type": "scattergl"
           }
          ],
          "scattermapbox": [
           {
            "marker": {
             "colorbar": {
              "outlinewidth": 0,
              "ticks": ""
             }
            },
            "type": "scattermapbox"
           }
          ],
          "scatterpolar": [
           {
            "marker": {
             "colorbar": {
              "outlinewidth": 0,
              "ticks": ""
             }
            },
            "type": "scatterpolar"
           }
          ],
          "scatterpolargl": [
           {
            "marker": {
             "colorbar": {
              "outlinewidth": 0,
              "ticks": ""
             }
            },
            "type": "scatterpolargl"
           }
          ],
          "scatterternary": [
           {
            "marker": {
             "colorbar": {
              "outlinewidth": 0,
              "ticks": ""
             }
            },
            "type": "scatterternary"
           }
          ],
          "surface": [
           {
            "colorbar": {
             "outlinewidth": 0,
             "ticks": ""
            },
            "colorscale": [
             [
              0,
              "#0d0887"
             ],
             [
              0.1111111111111111,
              "#46039f"
             ],
             [
              0.2222222222222222,
              "#7201a8"
             ],
             [
              0.3333333333333333,
              "#9c179e"
             ],
             [
              0.4444444444444444,
              "#bd3786"
             ],
             [
              0.5555555555555556,
              "#d8576b"
             ],
             [
              0.6666666666666666,
              "#ed7953"
             ],
             [
              0.7777777777777778,
              "#fb9f3a"
             ],
             [
              0.8888888888888888,
              "#fdca26"
             ],
             [
              1,
              "#f0f921"
             ]
            ],
            "type": "surface"
           }
          ],
          "table": [
           {
            "cells": {
             "fill": {
              "color": "#EBF0F8"
             },
             "line": {
              "color": "white"
             }
            },
            "header": {
             "fill": {
              "color": "#C8D4E3"
             },
             "line": {
              "color": "white"
             }
            },
            "type": "table"
           }
          ]
         },
         "layout": {
          "annotationdefaults": {
           "arrowcolor": "#2a3f5f",
           "arrowhead": 0,
           "arrowwidth": 1
          },
          "autotypenumbers": "strict",
          "coloraxis": {
           "colorbar": {
            "outlinewidth": 0,
            "ticks": ""
           }
          },
          "colorscale": {
           "diverging": [
            [
             0,
             "#8e0152"
            ],
            [
             0.1,
             "#c51b7d"
            ],
            [
             0.2,
             "#de77ae"
            ],
            [
             0.3,
             "#f1b6da"
            ],
            [
             0.4,
             "#fde0ef"
            ],
            [
             0.5,
             "#f7f7f7"
            ],
            [
             0.6,
             "#e6f5d0"
            ],
            [
             0.7,
             "#b8e186"
            ],
            [
             0.8,
             "#7fbc41"
            ],
            [
             0.9,
             "#4d9221"
            ],
            [
             1,
             "#276419"
            ]
           ],
           "sequential": [
            [
             0,
             "#0d0887"
            ],
            [
             0.1111111111111111,
             "#46039f"
            ],
            [
             0.2222222222222222,
             "#7201a8"
            ],
            [
             0.3333333333333333,
             "#9c179e"
            ],
            [
             0.4444444444444444,
             "#bd3786"
            ],
            [
             0.5555555555555556,
             "#d8576b"
            ],
            [
             0.6666666666666666,
             "#ed7953"
            ],
            [
             0.7777777777777778,
             "#fb9f3a"
            ],
            [
             0.8888888888888888,
             "#fdca26"
            ],
            [
             1,
             "#f0f921"
            ]
           ],
           "sequentialminus": [
            [
             0,
             "#0d0887"
            ],
            [
             0.1111111111111111,
             "#46039f"
            ],
            [
             0.2222222222222222,
             "#7201a8"
            ],
            [
             0.3333333333333333,
             "#9c179e"
            ],
            [
             0.4444444444444444,
             "#bd3786"
            ],
            [
             0.5555555555555556,
             "#d8576b"
            ],
            [
             0.6666666666666666,
             "#ed7953"
            ],
            [
             0.7777777777777778,
             "#fb9f3a"
            ],
            [
             0.8888888888888888,
             "#fdca26"
            ],
            [
             1,
             "#f0f921"
            ]
           ]
          },
          "colorway": [
           "#636efa",
           "#EF553B",
           "#00cc96",
           "#ab63fa",
           "#FFA15A",
           "#19d3f3",
           "#FF6692",
           "#B6E880",
           "#FF97FF",
           "#FECB52"
          ],
          "font": {
           "color": "#2a3f5f"
          },
          "geo": {
           "bgcolor": "white",
           "lakecolor": "white",
           "landcolor": "#E5ECF6",
           "showlakes": true,
           "showland": true,
           "subunitcolor": "white"
          },
          "hoverlabel": {
           "align": "left"
          },
          "hovermode": "closest",
          "mapbox": {
           "style": "light"
          },
          "paper_bgcolor": "white",
          "plot_bgcolor": "#E5ECF6",
          "polar": {
           "angularaxis": {
            "gridcolor": "white",
            "linecolor": "white",
            "ticks": ""
           },
           "bgcolor": "#E5ECF6",
           "radialaxis": {
            "gridcolor": "white",
            "linecolor": "white",
            "ticks": ""
           }
          },
          "scene": {
           "xaxis": {
            "backgroundcolor": "#E5ECF6",
            "gridcolor": "white",
            "gridwidth": 2,
            "linecolor": "white",
            "showbackground": true,
            "ticks": "",
            "zerolinecolor": "white"
           },
           "yaxis": {
            "backgroundcolor": "#E5ECF6",
            "gridcolor": "white",
            "gridwidth": 2,
            "linecolor": "white",
            "showbackground": true,
            "ticks": "",
            "zerolinecolor": "white"
           },
           "zaxis": {
            "backgroundcolor": "#E5ECF6",
            "gridcolor": "white",
            "gridwidth": 2,
            "linecolor": "white",
            "showbackground": true,
            "ticks": "",
            "zerolinecolor": "white"
           }
          },
          "shapedefaults": {
           "line": {
            "color": "#2a3f5f"
           }
          },
          "ternary": {
           "aaxis": {
            "gridcolor": "white",
            "linecolor": "white",
            "ticks": ""
           },
           "baxis": {
            "gridcolor": "white",
            "linecolor": "white",
            "ticks": ""
           },
           "bgcolor": "#E5ECF6",
           "caxis": {
            "gridcolor": "white",
            "linecolor": "white",
            "ticks": ""
           }
          },
          "title": {
           "x": 0.05
          },
          "xaxis": {
           "automargin": true,
           "gridcolor": "white",
           "linecolor": "white",
           "ticks": "",
           "title": {
            "standoff": 15
           },
           "zerolinecolor": "white",
           "zerolinewidth": 2
          },
          "yaxis": {
           "automargin": true,
           "gridcolor": "white",
           "linecolor": "white",
           "ticks": "",
           "title": {
            "standoff": 15
           },
           "zerolinecolor": "white",
           "zerolinewidth": 2
          }
         }
        },
        "xaxis": {
         "anchor": "y",
         "domain": [
          0,
          1
         ],
         "title": {
          "text": "nll_diff"
         }
        },
        "yaxis": {
         "anchor": "x",
         "domain": [
          0,
          1
         ],
         "title": {
          "text": "proportion"
         }
        }
       }
      },
      "text/html": [
       "<div>                            <div id=\"c60c7775-825a-4112-91ca-2baf84a0d5a0\" class=\"plotly-graph-div\" style=\"height:525px; width:100%;\"></div>            <script type=\"text/javascript\">                require([\"plotly\"], function(Plotly) {                    window.PLOTLYENV=window.PLOTLYENV || {};                                    if (document.getElementById(\"c60c7775-825a-4112-91ca-2baf84a0d5a0\")) {                    Plotly.newPlot(                        \"c60c7775-825a-4112-91ca-2baf84a0d5a0\",                        [{\"hovertemplate\":\"nll_diff=%{x}\\u003cbr\\u003eproportion=%{y}\\u003cextra\\u003e\\u003c\\u002fextra\\u003e\",\"legendgroup\":\"\",\"line\":{\"color\":\"#636efa\",\"dash\":\"solid\"},\"marker\":{\"symbol\":\"circle\"},\"mode\":\"lines\",\"name\":\"\",\"orientation\":\"v\",\"showlegend\":false,\"x\":[0.2186548848014025,0.17104722840828823,0.1582772410542428,0.12253467104125426,0.12213549743893948,0.0975976766429385,0.07482525213629199,0.07421626303881279,0.06790106361645276,0.06332349384356739,0.05924047115085518,0.05784259134360625,0.05556171034711843,0.05482963593958967,0.05332478570501564,0.05274262482752334,0.04987365682802847,0.04856131858528112,0.0467109844905047,0.04588108769730148,0.04551266028834133,0.04511475931610498,0.043566977629877934,0.0434969139823409,0.043412821584798866,0.04339683187392995,0.04332095625958443,0.04133669030025855,0.0409392916228517,0.03931342450068054,0.03921373292176478,0.03740143551970432,0.036998138250593726,0.036244917556671474,0.035537761379345056,0.03456437211224417,0.03444254373352673,0.03410691939387278,0.03259297334053146,0.03185842773664249,0.03147106713465897,0.03129032007813182,0.03017003517365735,0.02900492787871034,0.02640923893048419,0.026290180865333523,0.026239886448716332,0.026152180698936878,0.025873471073737386,0.025834862843780337,0.02551078555644204,0.02004564882590487,0.01809292607323365,0.017214130872481803,0.016684789984467208,0.015626573067949012,0.01500607402542653,0.01465217154835119,0.014290834896094173,0.014089261756881521,0.013186964680086621,0.012748985659712386,0.012021976306106463,0.011744929346044763,0.011590178315130095,0.011587825665598683,0.011559777916718028,0.011105902860533146,0.010750563511991995,0.010627818358613261,0.010527171027827631,0.010177512941804912,0.010166692353872131,0.010153228604616205,0.010138025366704273,0.010026489437949149,0.00959941720153823,0.009308821466855521,0.009058551638822632,0.009047990891717594,0.009006101559630997,0.008470342969424172,0.00844654990674476,0.008044159214140478,0.007963907596750808,0.007733691205144444,0.0076852911841620575,0.007547455081406418,0.007491109921057504,0.007480632655170849,0.007403199052491871,0.007329053424806942,0.0071219823144961225,0.006940846375073306,0.006448056959566628,0.006437606418145281,0.006335521291910506,0.0063080256851764105,0.006043451291512847,0.005835885520863893,0.005208186853205454,0.004891696399569545,0.004593106239215938,0.004280077139457328,0.004147439706815748,0.004139972973676076,0.0032657775061486483,0.002813285457651915,0.002382951299679581,0.0019563604850735272,0.001813834961496008,0.0012625767231999596,0.001032847756745836,0.0007840778752914446,0.0006206682344556125,0.0005340077120026265,0.00044426099194649904,0.00037753345843050123,0.00024525771609651414,0.00018963118588688488,2.1939364356349245e-05,-8.70314471137501e-05,-0.00020087451445238713,-0.0002717221318826457,-0.00036585952428569435,-0.0006848072829508389,-0.0007953653212344758,-0.0008568997625105768,-0.002010745421159532,-0.002013317656840985,-0.0022755299222041447,-0.0027468261306202724,-0.002847933503505873,-0.003076702730796743,-0.0033285262581610464,-0.00370568307992325,-0.003734835012632942,-0.00373752366167579,-0.004146592621896428,-0.0043896392136262286,-0.004548210254253338,-0.004785954950285554,-0.005212591392904864,-0.005408056907501013,-0.006291706076311021,-0.006442787377231696,-0.006576786164091797,-0.006693390713614411,-0.006738663703213854,-0.006774286029206378,-0.006831405814037184,-0.007479666437530064,-0.007568043724601736,-0.00814299984818212,-0.008251496454322993,-0.00827208048440653,-0.008389806300465485,-0.009061110266034067,-0.009293981436885312,-0.009938850875788718,-0.01005258575711565,-0.010442151750598594,-0.010688388584728037,-0.010766473415016353,-0.011166852796583582,-0.011452458504750185,-0.01186570130678466,-0.01206682885603061,-0.012703485009415427,-0.013040341924844823,-0.01312138998105894,-0.013355494800789014,-0.013683586410204507,-0.013712354165565488,-0.013732853243134002,-0.014141446757367948,-0.016539466205386155,-0.017862441913373495,-0.018389066595270842,-0.01846376071333311,-0.018583462416521312,-0.018673552100111568,-0.020212797168174035,-0.020642216909786626,-0.02065364379166068,-0.02093145645283201,-0.02128054947770175,-0.021727749204925484,-0.02392197809831753,-0.024080683841731787,-0.02431889511338481,-0.025380184012907536,-0.025649149835560214,-0.03214938069090412,-0.03467924190476013,-0.039395072874583104,-0.04828458098528654],\"xaxis\":\"x\",\"y\":[0.003496222302173499,0.0063321411187064825,0.008059088696535523,0.010954265518190091,0.014111870648240248,0.01682927345453006,0.01929271338172737,0.021908531036380182,0.02943429768682144,0.03211360606124738,0.038815404259521846,0.04627203657065459,0.049178500631379934,0.06976360288671139,0.07513915049416943,0.09583712514020867,0.11609771927225526,0.1214732668797133,0.1236855657375858,0.12490458755722983,0.12914435673319083,0.14551085338581898,0.15576813189138855,0.16086149852207712,0.16651922710630462,0.18697734792208984,0.20342849886774883,0.21700140385035943,0.22995351068407724,0.2325495756703562,0.23442043554633765,0.2462579275218161,0.2508080957722235,0.2638025297524567,0.2702574195960579,0.27254308550789047,0.2769563959845647,0.2824024888362151,0.28666342158543384,0.29127708055561435,0.2928798685036648,0.3060859382164751,0.317725903508215,0.31891811813506593,0.32254696549632106,0.34316028584932945,0.3503798861399759,0.3526937701494854,0.3551699082206373,0.37801245829012436,0.3897794050214105,0.40071391787122673,0.40180736915620835,0.41278420915254,0.41443214605687356,0.4226012853343492,0.4231092110925342,0.4292184292395928,0.43175805803051787,0.4353770290575861,0.43780378545780335,0.4393190973030553,0.44175714094234336,0.4444660783193301,0.445270294103123,0.44685050757303196,0.4476970505033403,0.4504906421733579,0.4546951387272227,0.4594710517590457,0.46150980931620494,0.4629912594442446,0.4655379427595889,0.46621517710383553,0.4683428216686772,0.46938406947295647,0.4717487460582845,0.4775362778918259,0.480380662137662,0.4912305206944474,0.49567204926879854,0.499667731899854,0.5126903839777641,0.5158860835396781,0.5223550824321178,0.5230436040154353,0.5270844356027738,0.5310561328508039,0.5351026080576778,0.5362623718722003,0.5498493859036493,0.5622653488815051,0.5665121725818854,0.5684874394192716,0.5698334426784618,0.5719356909553942,0.5744245271705009,0.575660479848751,0.5849583430333044,0.5890922943429768,0.5898372521216482,0.5927324289433028,0.5959436484589391,0.6019625686934316,0.6043187798494565,0.6048605673248538,0.6090932819763956,0.6155834444420929,0.6218337530775363,0.6233279013495305,0.6249786600636318,0.6341565963330582,0.6383498056478523,0.6393063991591007,0.6399836335033474,0.6423468991837915,0.6462833238097254,0.6531262124963846,0.6565293150762241,0.6621503601334716,0.6697621919818275,0.6715145358475658,0.6730383131221209,0.6746636755483129,0.6772738495834303,0.6786833435623938,0.6800265250118164,0.6827495714376415,0.6918216898407794,0.6940904248940057,0.6949792949708296,0.6966977771193555,0.6984247246971845,0.7006680634625017,0.7021325827319351,0.703732548870218,0.7087624247811334,0.7098290688733219,0.7112639591401946,0.7115009911606809,0.7205096188440456,0.7218175276713721,0.7232905123701086,0.7290470042962054,0.7302942442135264,0.7321735695188109,0.733197886464484,0.7395963401127313,0.745112978208574,0.7495403977340868,0.7549723815368987,0.7592615323837943,0.7792963817344254,0.784925892220976,0.7872510634695562,0.7925983929793373,0.7930766897349615,0.807242174768788,0.8137774861907684,0.8143827643859389,0.8172327922513104,0.8369149153809796,0.8383752019357615,0.858212524602654,0.8608029459693974,0.8708626977912284,0.8719462727420231,0.8805386834846529,0.8820878570471171,0.8859988853851417,0.8924918696606068,0.892961700986928,0.8981594745790212,0.9036704690553287,0.9088625990278866,0.9108858366313235,0.9124307774791363,0.919887409790269,0.9263380669192186,0.9314088590717656,0.9328479820532899,0.9344606463355273,0.9397430742206514,0.9473972332155228,0.9529759511262548,0.957186091299655,0.9658772653841541,0.966867720612615,0.9683576361699576,0.973563875191354,0.9764421211544023,0.9818007379032543,0.9856623845703442,0.9862295683336508,0.9889949419059914,0.9915345706969164,1.0],\"yaxis\":\"y\",\"type\":\"scatter\"}],                        {\"template\":{\"data\":{\"histogram2dcontour\":[{\"type\":\"histogram2dcontour\",\"colorbar\":{\"outlinewidth\":0,\"ticks\":\"\"},\"colorscale\":[[0.0,\"#0d0887\"],[0.1111111111111111,\"#46039f\"],[0.2222222222222222,\"#7201a8\"],[0.3333333333333333,\"#9c179e\"],[0.4444444444444444,\"#bd3786\"],[0.5555555555555556,\"#d8576b\"],[0.6666666666666666,\"#ed7953\"],[0.7777777777777778,\"#fb9f3a\"],[0.8888888888888888,\"#fdca26\"],[1.0,\"#f0f921\"]]}],\"choropleth\":[{\"type\":\"choropleth\",\"colorbar\":{\"outlinewidth\":0,\"ticks\":\"\"}}],\"histogram2d\":[{\"type\":\"histogram2d\",\"colorbar\":{\"outlinewidth\":0,\"ticks\":\"\"},\"colorscale\":[[0.0,\"#0d0887\"],[0.1111111111111111,\"#46039f\"],[0.2222222222222222,\"#7201a8\"],[0.3333333333333333,\"#9c179e\"],[0.4444444444444444,\"#bd3786\"],[0.5555555555555556,\"#d8576b\"],[0.6666666666666666,\"#ed7953\"],[0.7777777777777778,\"#fb9f3a\"],[0.8888888888888888,\"#fdca26\"],[1.0,\"#f0f921\"]]}],\"heatmap\":[{\"type\":\"heatmap\",\"colorbar\":{\"outlinewidth\":0,\"ticks\":\"\"},\"colorscale\":[[0.0,\"#0d0887\"],[0.1111111111111111,\"#46039f\"],[0.2222222222222222,\"#7201a8\"],[0.3333333333333333,\"#9c179e\"],[0.4444444444444444,\"#bd3786\"],[0.5555555555555556,\"#d8576b\"],[0.6666666666666666,\"#ed7953\"],[0.7777777777777778,\"#fb9f3a\"],[0.8888888888888888,\"#fdca26\"],[1.0,\"#f0f921\"]]}],\"heatmapgl\":[{\"type\":\"heatmapgl\",\"colorbar\":{\"outlinewidth\":0,\"ticks\":\"\"},\"colorscale\":[[0.0,\"#0d0887\"],[0.1111111111111111,\"#46039f\"],[0.2222222222222222,\"#7201a8\"],[0.3333333333333333,\"#9c179e\"],[0.4444444444444444,\"#bd3786\"],[0.5555555555555556,\"#d8576b\"],[0.6666666666666666,\"#ed7953\"],[0.7777777777777778,\"#fb9f3a\"],[0.8888888888888888,\"#fdca26\"],[1.0,\"#f0f921\"]]}],\"contourcarpet\":[{\"type\":\"contourcarpet\",\"colorbar\":{\"outlinewidth\":0,\"ticks\":\"\"}}],\"contour\":[{\"type\":\"contour\",\"colorbar\":{\"outlinewidth\":0,\"ticks\":\"\"},\"colorscale\":[[0.0,\"#0d0887\"],[0.1111111111111111,\"#46039f\"],[0.2222222222222222,\"#7201a8\"],[0.3333333333333333,\"#9c179e\"],[0.4444444444444444,\"#bd3786\"],[0.5555555555555556,\"#d8576b\"],[0.6666666666666666,\"#ed7953\"],[0.7777777777777778,\"#fb9f3a\"],[0.8888888888888888,\"#fdca26\"],[1.0,\"#f0f921\"]]}],\"surface\":[{\"type\":\"surface\",\"colorbar\":{\"outlinewidth\":0,\"ticks\":\"\"},\"colorscale\":[[0.0,\"#0d0887\"],[0.1111111111111111,\"#46039f\"],[0.2222222222222222,\"#7201a8\"],[0.3333333333333333,\"#9c179e\"],[0.4444444444444444,\"#bd3786\"],[0.5555555555555556,\"#d8576b\"],[0.6666666666666666,\"#ed7953\"],[0.7777777777777778,\"#fb9f3a\"],[0.8888888888888888,\"#fdca26\"],[1.0,\"#f0f921\"]]}],\"mesh3d\":[{\"type\":\"mesh3d\",\"colorbar\":{\"outlinewidth\":0,\"ticks\":\"\"}}],\"scatter\":[{\"fillpattern\":{\"fillmode\":\"overlay\",\"size\":10,\"solidity\":0.2},\"type\":\"scatter\"}],\"parcoords\":[{\"type\":\"parcoords\",\"line\":{\"colorbar\":{\"outlinewidth\":0,\"ticks\":\"\"}}}],\"scatterpolargl\":[{\"type\":\"scatterpolargl\",\"marker\":{\"colorbar\":{\"outlinewidth\":0,\"ticks\":\"\"}}}],\"bar\":[{\"error_x\":{\"color\":\"#2a3f5f\"},\"error_y\":{\"color\":\"#2a3f5f\"},\"marker\":{\"line\":{\"color\":\"#E5ECF6\",\"width\":0.5},\"pattern\":{\"fillmode\":\"overlay\",\"size\":10,\"solidity\":0.2}},\"type\":\"bar\"}],\"scattergeo\":[{\"type\":\"scattergeo\",\"marker\":{\"colorbar\":{\"outlinewidth\":0,\"ticks\":\"\"}}}],\"scatterpolar\":[{\"type\":\"scatterpolar\",\"marker\":{\"colorbar\":{\"outlinewidth\":0,\"ticks\":\"\"}}}],\"histogram\":[{\"marker\":{\"pattern\":{\"fillmode\":\"overlay\",\"size\":10,\"solidity\":0.2}},\"type\":\"histogram\"}],\"scattergl\":[{\"type\":\"scattergl\",\"marker\":{\"colorbar\":{\"outlinewidth\":0,\"ticks\":\"\"}}}],\"scatter3d\":[{\"type\":\"scatter3d\",\"line\":{\"colorbar\":{\"outlinewidth\":0,\"ticks\":\"\"}},\"marker\":{\"colorbar\":{\"outlinewidth\":0,\"ticks\":\"\"}}}],\"scattermapbox\":[{\"type\":\"scattermapbox\",\"marker\":{\"colorbar\":{\"outlinewidth\":0,\"ticks\":\"\"}}}],\"scatterternary\":[{\"type\":\"scatterternary\",\"marker\":{\"colorbar\":{\"outlinewidth\":0,\"ticks\":\"\"}}}],\"scattercarpet\":[{\"type\":\"scattercarpet\",\"marker\":{\"colorbar\":{\"outlinewidth\":0,\"ticks\":\"\"}}}],\"carpet\":[{\"aaxis\":{\"endlinecolor\":\"#2a3f5f\",\"gridcolor\":\"white\",\"linecolor\":\"white\",\"minorgridcolor\":\"white\",\"startlinecolor\":\"#2a3f5f\"},\"baxis\":{\"endlinecolor\":\"#2a3f5f\",\"gridcolor\":\"white\",\"linecolor\":\"white\",\"minorgridcolor\":\"white\",\"startlinecolor\":\"#2a3f5f\"},\"type\":\"carpet\"}],\"table\":[{\"cells\":{\"fill\":{\"color\":\"#EBF0F8\"},\"line\":{\"color\":\"white\"}},\"header\":{\"fill\":{\"color\":\"#C8D4E3\"},\"line\":{\"color\":\"white\"}},\"type\":\"table\"}],\"barpolar\":[{\"marker\":{\"line\":{\"color\":\"#E5ECF6\",\"width\":0.5},\"pattern\":{\"fillmode\":\"overlay\",\"size\":10,\"solidity\":0.2}},\"type\":\"barpolar\"}],\"pie\":[{\"automargin\":true,\"type\":\"pie\"}]},\"layout\":{\"autotypenumbers\":\"strict\",\"colorway\":[\"#636efa\",\"#EF553B\",\"#00cc96\",\"#ab63fa\",\"#FFA15A\",\"#19d3f3\",\"#FF6692\",\"#B6E880\",\"#FF97FF\",\"#FECB52\"],\"font\":{\"color\":\"#2a3f5f\"},\"hovermode\":\"closest\",\"hoverlabel\":{\"align\":\"left\"},\"paper_bgcolor\":\"white\",\"plot_bgcolor\":\"#E5ECF6\",\"polar\":{\"bgcolor\":\"#E5ECF6\",\"angularaxis\":{\"gridcolor\":\"white\",\"linecolor\":\"white\",\"ticks\":\"\"},\"radialaxis\":{\"gridcolor\":\"white\",\"linecolor\":\"white\",\"ticks\":\"\"}},\"ternary\":{\"bgcolor\":\"#E5ECF6\",\"aaxis\":{\"gridcolor\":\"white\",\"linecolor\":\"white\",\"ticks\":\"\"},\"baxis\":{\"gridcolor\":\"white\",\"linecolor\":\"white\",\"ticks\":\"\"},\"caxis\":{\"gridcolor\":\"white\",\"linecolor\":\"white\",\"ticks\":\"\"}},\"coloraxis\":{\"colorbar\":{\"outlinewidth\":0,\"ticks\":\"\"}},\"colorscale\":{\"sequential\":[[0.0,\"#0d0887\"],[0.1111111111111111,\"#46039f\"],[0.2222222222222222,\"#7201a8\"],[0.3333333333333333,\"#9c179e\"],[0.4444444444444444,\"#bd3786\"],[0.5555555555555556,\"#d8576b\"],[0.6666666666666666,\"#ed7953\"],[0.7777777777777778,\"#fb9f3a\"],[0.8888888888888888,\"#fdca26\"],[1.0,\"#f0f921\"]],\"sequentialminus\":[[0.0,\"#0d0887\"],[0.1111111111111111,\"#46039f\"],[0.2222222222222222,\"#7201a8\"],[0.3333333333333333,\"#9c179e\"],[0.4444444444444444,\"#bd3786\"],[0.5555555555555556,\"#d8576b\"],[0.6666666666666666,\"#ed7953\"],[0.7777777777777778,\"#fb9f3a\"],[0.8888888888888888,\"#fdca26\"],[1.0,\"#f0f921\"]],\"diverging\":[[0,\"#8e0152\"],[0.1,\"#c51b7d\"],[0.2,\"#de77ae\"],[0.3,\"#f1b6da\"],[0.4,\"#fde0ef\"],[0.5,\"#f7f7f7\"],[0.6,\"#e6f5d0\"],[0.7,\"#b8e186\"],[0.8,\"#7fbc41\"],[0.9,\"#4d9221\"],[1,\"#276419\"]]},\"xaxis\":{\"gridcolor\":\"white\",\"linecolor\":\"white\",\"ticks\":\"\",\"title\":{\"standoff\":15},\"zerolinecolor\":\"white\",\"automargin\":true,\"zerolinewidth\":2},\"yaxis\":{\"gridcolor\":\"white\",\"linecolor\":\"white\",\"ticks\":\"\",\"title\":{\"standoff\":15},\"zerolinecolor\":\"white\",\"automargin\":true,\"zerolinewidth\":2},\"scene\":{\"xaxis\":{\"backgroundcolor\":\"#E5ECF6\",\"gridcolor\":\"white\",\"linecolor\":\"white\",\"showbackground\":true,\"ticks\":\"\",\"zerolinecolor\":\"white\",\"gridwidth\":2},\"yaxis\":{\"backgroundcolor\":\"#E5ECF6\",\"gridcolor\":\"white\",\"linecolor\":\"white\",\"showbackground\":true,\"ticks\":\"\",\"zerolinecolor\":\"white\",\"gridwidth\":2},\"zaxis\":{\"backgroundcolor\":\"#E5ECF6\",\"gridcolor\":\"white\",\"linecolor\":\"white\",\"showbackground\":true,\"ticks\":\"\",\"zerolinecolor\":\"white\",\"gridwidth\":2}},\"shapedefaults\":{\"line\":{\"color\":\"#2a3f5f\"}},\"annotationdefaults\":{\"arrowcolor\":\"#2a3f5f\",\"arrowhead\":0,\"arrowwidth\":1},\"geo\":{\"bgcolor\":\"white\",\"landcolor\":\"#E5ECF6\",\"subunitcolor\":\"white\",\"showland\":true,\"showlakes\":true,\"lakecolor\":\"white\"},\"title\":{\"x\":0.05},\"mapbox\":{\"style\":\"light\"}}},\"xaxis\":{\"anchor\":\"y\",\"domain\":[0.0,1.0],\"title\":{\"text\":\"nll_diff\"}},\"yaxis\":{\"anchor\":\"x\",\"domain\":[0.0,1.0],\"title\":{\"text\":\"proportion\"}},\"legend\":{\"tracegroupgap\":0},\"margin\":{\"t\":60}},                        {\"responsive\": true}                    ).then(function(){\n",
       "                            \n",
       "var gd = document.getElementById('c60c7775-825a-4112-91ca-2baf84a0d5a0');\n",
       "var x = new MutationObserver(function (mutations, observer) {{\n",
       "        var display = window.getComputedStyle(gd).display;\n",
       "        if (!display || display === 'none') {{\n",
       "            console.log([gd, 'removed!']);\n",
       "            Plotly.purge(gd);\n",
       "            observer.disconnect();\n",
       "        }}\n",
       "}});\n",
       "\n",
       "// Listen for the removal of the full notebook cells\n",
       "var notebookContainer = gd.closest('#notebook-container');\n",
       "if (notebookContainer) {{\n",
       "    x.observe(notebookContainer, {childList: true});\n",
       "}}\n",
       "\n",
       "// Listen for the clearing of the current output cell\n",
       "var outputEl = gd.closest('.output');\n",
       "if (outputEl) {{\n",
       "    x.observe(outputEl, {childList: true});\n",
       "}}\n",
       "\n",
       "                        })                };                });            </script>        </div>"
      ]
     },
     "metadata": {},
     "output_type": "display_data"
    }
   ],
   "source": [
    "px.line(\n",
    "    cdf, x='nll_diff', y='proportion'\n",
    ")"
   ]
  },
  {
   "cell_type": "code",
   "execution_count": null,
   "id": "8380f93e",
   "metadata": {},
   "outputs": [],
   "source": [
    "fdf[fdf['nll_diff'] < -0.05].shape[0] / df.shape[0]"
   ]
  },
  {
   "cell_type": "code",
   "execution_count": null,
   "id": "d229532b",
   "metadata": {},
   "outputs": [],
   "source": [
    "data.merge(\n",
    "    df[df['nll_diff'] < -0.05][['key_radians', 'key_month', 'key_max_depth_bin']], \n",
    "    how='inner'\n",
    ").shape[0] / data.shape[0]"
   ]
  },
  {
   "cell_type": "code",
   "execution_count": null,
   "id": "ce4a5676",
   "metadata": {},
   "outputs": [],
   "source": [
    "df[(df['key_month'] == 1) & (df['key_max_depth_bin'].isin([4]))].groupby(['key_sin_sun'])['nll_diff'].describe()"
   ]
  },
  {
   "cell_type": "code",
   "execution_count": null,
   "id": "727197c7",
   "metadata": {},
   "outputs": [],
   "source": [
    "pdf = perm[(perm['key_max_depth_bin'] == 7) & (perm['key_month'] == 11) & (perm['key_sin_sun'] >= 0)]\n",
    "adf = data[(data['key_max_depth_bin'] == 7) & (data['key_month'] == 11) & (data['key_sin_sun'] >= 0)]\n",
    "df = pdf.merge(adf[['_individual', '_decision', 'depth_bin', 'nll']], on=['_individual', '_decision', 'depth_bin'], how='inner', suffixes=('_perm', '_data'))\n",
    "df['nll_diff'] = df['nll_perm'] - df['nll_data']\n",
    "df['max_salinity'] = df.groupby(['_individual', '_decision'])['salinity'].transform('max')\n",
    "df['min_salinity'] = df.groupby(['_individual', '_decision'])['salinity'].transform('min')\n",
    "df['salinity_diff'] = df['max_salinity'] - df['min_salinity']\n",
    "df['binned_salinity_diff'] = round(df['salinity_diff'] / 0.5) * 0.5\n",
    "df['binned_salinity'] = round(df['salinity'] / 0.5) * 0.5\n",
    "px.scatter(\n",
    "    df[df['_selected']].groupby(['binned_salinity'])['nll_diff'].mean().reset_index(),\n",
    "    x='binned_salinity', y='nll_diff',\n",
    ")"
   ]
  },
  {
   "cell_type": "code",
   "execution_count": null,
   "id": "dd1edd81",
   "metadata": {},
   "outputs": [],
   "source": [
    "adf = data[(data['key_max_depth_bin'] == 7) & (data['key_month'] == 11) & (data['key_sin_sun'] >= 0)]\n",
    "adf['max_salinity'] = adf.groupby(['_individual', '_decision'])['salinity'].transform('max')\n",
    "adf['min_salinity'] = adf.groupby(['_individual', '_decision'])['salinity'].transform('min')\n",
    "adf['stratified'] = (adf['max_salinity'] - adf['min_salinity']) >= 1\n",
    "adf[adf['_selected'] & (adf['stratified'])].groupby(['depth_bin']).size()"
   ]
  },
  {
   "cell_type": "code",
   "execution_count": null,
   "id": "7d3575ac",
   "metadata": {},
   "outputs": [],
   "source": [
    "adf[adf['_selected'] & (~adf['stratified'])].groupby(['depth_bin']).size()"
   ]
  },
  {
   "cell_type": "code",
   "execution_count": null,
   "id": "90f17a21",
   "metadata": {},
   "outputs": [],
   "source": [
    "adf = data[(data['key_max_depth_bin'] > 4) & (data['key_month'] == 8) & (data['key_sin_sun'] >= 0)]\n",
    "adf['max_salinity'] = adf.groupby(['_individual', '_decision'])['salinity'].transform('max')\n",
    "adf['min_salinity'] = adf.groupby(['_individual', '_decision'])['salinity'].transform('min')\n",
    "adf['saline'] = adf['min_salinity'] >= 32\n",
    "\n",
    "saline = pd.DataFrame((adf[adf['_selected'] & (adf['saline'])].groupby(['depth_bin']).size() / adf[adf['_selected'] & (adf['saline'])].shape[0])).rename(columns={0: 'proportion'}).reset_index()\n",
    "saline['proportion'] = round(saline['proportion'], 2)\n",
    "fresh = pd.DataFrame((adf[adf['_selected'] & (~adf['saline'])].groupby(['depth_bin']).size() / adf[adf['_selected'] & (~adf['saline'])].shape[0])).rename(columns={0: 'proportion'}).reset_index()\n",
    "fresh['proportion'] = round(fresh['proportion'], 2)\n",
    "saline.merge(fresh, on='depth_bin', how='inner', suffixes=('_saline', '_fresh'))"
   ]
  },
  {
   "cell_type": "code",
   "execution_count": null,
   "id": "784e9b15",
   "metadata": {},
   "outputs": [],
   "source": [
    "perm[perm['_selected'] & (perm['key_sin_sun'] <= 0) & (perm['salinity'] <= 32)]['nll'].mean(), data[data['_selected'] & (data['key_sin_sun'] <= 0) & (data['salinity'] <= 32)]['nll'].mean()"
   ]
  },
  {
   "cell_type": "code",
   "execution_count": null,
   "id": "5227de34",
   "metadata": {},
   "outputs": [],
   "source": [
    "(\n",
    "    perm[perm['_selected'] & (perm['key_sin_sun'] >= 0) & (perm['salinity'] > 32) & (perm['key_max_depth_bin'] > 6) & (perm['key_month'] == 11)]['nll'].mean(), \n",
    "    data[data['_selected'] & (data['key_sin_sun'] >= 0) & (data['salinity'] > 32) & (data['key_max_depth_bin'] > 6) & (perm['key_month'] == 11)]['nll'].mean()\n",
    ")"
   ]
  },
  {
   "cell_type": "code",
   "execution_count": null,
   "id": "6d755575",
   "metadata": {},
   "outputs": [],
   "source": [
    "df = data[(data['depth_bin'] == 25.0) & (data['key_max_depth_bin'].isin([6, 7, 8])) & (data['key_sin_sun'] >= 0)]\n",
    "df['min_salinity'] = df.groupby(['_individual', '_decision'])['salinity'].transform('min')\n",
    "df['binned_min_salinity'] = round(df['min_salinity'] / 0.25) * 0.25\n",
    "px.scatter(\n",
    "    df.groupby(['month', 'binned_min_salinity'])['_selected'].agg(['mean', 'count']).reset_index(),\n",
    "    x='binned_min_salinity', y='mean',  size='count', facet_col='month', category_orders={'month': [1, 2, 3, 4, 5, 6, 7, 8, 9, 10, 11, 12]},\n",
    "    facet_col_wrap=4\n",
    ")"
   ]
  },
  {
   "cell_type": "code",
   "execution_count": null,
   "id": "c19aa01c",
   "metadata": {},
   "outputs": [],
   "source": [
    "data['max_salinity'] = data.groupby(['_individual', '_decision'])['salinity'].transform('max')\n",
    "data['min_salinity'] = data.groupby(['_individual', '_decision'])['salinity'].transform('min')\n",
    "df = data[(data['depth_bin'] == 25.0) & (data['key_max_depth_bin'].isin([6, 7, 7]))]\n",
    "df['radians'] = np.arctan2(df['sin_sun'], df['cos_sun'])\n",
    "df['radians'] = round(df['radians'] * 5) / 5\n",
    "df['salinity_diff'] = df['max_salinity'] - df['min_salinity']\n",
    "df['stratified'] = df['salinity_diff'] >= 1\n",
    "df = df.groupby(['radians', 'stratified', 'month'])['_selected'].agg(['mean', 'count']).reset_index()\n",
    "px.scatter(\n",
    "    df, x='radians', y='mean', color='stratified',\n",
    "    category_orders={'stratified': [True, False], 'month': list(range(1, 13))},\n",
    "    color_discrete_sequence=['aquamarine', 'navy'],\n",
    "    facet_col='month', facet_col_wrap=4,\n",
    "    height=900, width=1000\n",
    ")"
   ]
  },
  {
   "cell_type": "code",
   "execution_count": null,
   "id": "12cf88dc",
   "metadata": {},
   "outputs": [],
   "source": [
    "df = data[data['depth_bin'] == 25.0]\n",
    "df.columns"
   ]
  },
  {
   "cell_type": "code",
   "execution_count": null,
   "id": "8c16426b",
   "metadata": {},
   "outputs": [],
   "source": [
    "adf[adf['_selected'] & (~adf['saline'])].groupby(['depth_bin']).size() / adf[adf['_selected'] & (~adf['saline'])].shape[0]"
   ]
  },
  {
   "cell_type": "code",
   "execution_count": null,
   "id": "be514560",
   "metadata": {},
   "outputs": [],
   "source": [
    "data[data['depth_bin'] == 100]['salinity'].describe()"
   ]
  },
  {
   "cell_type": "code",
   "execution_count": null,
   "id": "8801588e",
   "metadata": {},
   "outputs": [],
   "source": [
    "space = data[['h3_index', 'key_max_depth_bin']].drop_duplicates()\n",
    "space['lat'] = space['h3_index'].apply(lambda x: h3.h3_to_geo(x)[0])\n",
    "space['lon'] = space['h3_index'].apply(lambda x: h3.h3_to_geo(x)[1])\n",
    "space['size'] = 0.01\n",
    "fig = px.scatter_mapbox(\n",
    "    space[space['key_max_depth_bin'].isin([6, 7])],\n",
    "    lat='lat',\n",
    "    lon='lon',\n",
    "    color='key_max_depth_bin',  # Color points by probability\n",
    "    size='size',  # Adjust as needed\n",
    "    size_max=11,  # Adjust as needed\n",
    "    zoom=4,  # Adjust zoom level\n",
    "    mapbox_style=\"carto-positron\",  # Choose a map style,\n",
    "    #range_color=[0.0, 0.3],\n",
    "    height=600,\n",
    "    width=1000\n",
    ")\n",
    "fig.show()"
   ]
  },
  {
   "cell_type": "code",
   "execution_count": null,
   "id": "3971c61b",
   "metadata": {},
   "outputs": [],
   "source": []
  }
 ],
 "metadata": {
  "kernelspec": {
   "display_name": "base",
   "language": "python",
   "name": "python3"
  },
  "language_info": {
   "codemirror_mode": {
    "name": "ipython",
    "version": 3
   },
   "file_extension": ".py",
   "mimetype": "text/x-python",
   "name": "python",
   "nbconvert_exporter": "python",
   "pygments_lexer": "ipython3",
   "version": "3.12.4"
  }
 },
 "nbformat": 4,
 "nbformat_minor": 5
}
