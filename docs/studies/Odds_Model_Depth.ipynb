{
 "cells": [
  {
   "cell_type": "code",
   "execution_count": 1,
   "metadata": {},
   "outputs": [],
   "source": [
    "import pandas as pd\n",
    "import numpy as np\n",
    "import plotly.express as px\n",
    "from plotly.subplots import make_subplots\n",
    "import plotly.graph_objects as go\n",
    "import os\n",
    "import h3\n",
    "import itertools\n",
    "from tqdm import tqdm\n",
    "from multiprocessing import Pool\n",
    "from scipy.stats import norm\n",
    "from collections import defaultdict\n",
    "from sklearn.cluster import AgglomerativeClustering\n",
    "\n",
    "from mirrorverse.warehouse.utils import get_engine\n",
    "from mirrorverse.chinook.states import spatial_key_to_index\n",
    "\n",
    "pd.options.mode.chained_assignment = None\n",
    "\n",
    "os.environ[\"DATABASE_URL\"] = \"sqlite:////workspaces/mirrorverse/mirrorverse.db\""
   ]
  },
  {
   "cell_type": "markdown",
   "metadata": {},
   "source": [
    "# Load the Data"
   ]
  },
  {
   "cell_type": "code",
   "execution_count": 2,
   "metadata": {},
   "outputs": [
    {
     "name": "stdout",
     "output_type": "stream",
     "text": [
      "2024-05-19 10:39:52,902 INFO sqlalchemy.engine.Engine BEGIN (implicit)\n",
      "2024-05-19 10:39:52,902 INFO sqlalchemy.engine.Engine PRAGMA main.table_info(\"\n",
      "select \n",
      "    tag_key,\n",
      "    date_key,\n",
      "    depth,\n",
      "    epoch\n",
      "from \n",
      "    tag_depths\n",
      "\")\n",
      "2024-05-19 10:39:52,903 INFO sqlalchemy.engine.Engine [raw sql] ()\n",
      "2024-05-19 10:39:52,904 INFO sqlalchemy.engine.Engine PRAGMA temp.table_info(\"\n",
      "select \n",
      "    tag_key,\n",
      "    date_key,\n",
      "    depth,\n",
      "    epoch\n",
      "from \n",
      "    tag_depths\n",
      "\")\n",
      "2024-05-19 10:39:52,905 INFO sqlalchemy.engine.Engine [raw sql] ()\n",
      "2024-05-19 10:39:52,906 INFO sqlalchemy.engine.Engine \n",
      "select \n",
      "    tag_key,\n",
      "    date_key,\n",
      "    depth,\n",
      "    epoch\n",
      "from \n",
      "    tag_depths\n",
      "\n",
      "2024-05-19 10:39:52,907 INFO sqlalchemy.engine.Engine [raw sql] ()\n",
      "2024-05-19 10:39:55,785 INFO sqlalchemy.engine.Engine ROLLBACK\n",
      "(1033662, 4)\n"
     ]
    },
    {
     "data": {
      "text/html": [
       "<div>\n",
       "<style scoped>\n",
       "    .dataframe tbody tr th:only-of-type {\n",
       "        vertical-align: middle;\n",
       "    }\n",
       "\n",
       "    .dataframe tbody tr th {\n",
       "        vertical-align: top;\n",
       "    }\n",
       "\n",
       "    .dataframe thead th {\n",
       "        text-align: right;\n",
       "    }\n",
       "</style>\n",
       "<table border=\"1\" class=\"dataframe\">\n",
       "  <thead>\n",
       "    <tr style=\"text-align: right;\">\n",
       "      <th></th>\n",
       "      <th>tag_key</th>\n",
       "      <th>date_key</th>\n",
       "      <th>depth</th>\n",
       "      <th>epoch</th>\n",
       "    </tr>\n",
       "  </thead>\n",
       "  <tbody>\n",
       "    <tr>\n",
       "      <th>0</th>\n",
       "      <td>129843</td>\n",
       "      <td>1387411200</td>\n",
       "      <td>83.4</td>\n",
       "      <td>1387411200</td>\n",
       "    </tr>\n",
       "    <tr>\n",
       "      <th>1</th>\n",
       "      <td>129843</td>\n",
       "      <td>1387411200</td>\n",
       "      <td>80.7</td>\n",
       "      <td>1387412100</td>\n",
       "    </tr>\n",
       "    <tr>\n",
       "      <th>2</th>\n",
       "      <td>129843</td>\n",
       "      <td>1387411200</td>\n",
       "      <td>91.5</td>\n",
       "      <td>1387413000</td>\n",
       "    </tr>\n",
       "    <tr>\n",
       "      <th>3</th>\n",
       "      <td>129843</td>\n",
       "      <td>1387411200</td>\n",
       "      <td>91.5</td>\n",
       "      <td>1387413900</td>\n",
       "    </tr>\n",
       "    <tr>\n",
       "      <th>4</th>\n",
       "      <td>129843</td>\n",
       "      <td>1387411200</td>\n",
       "      <td>88.8</td>\n",
       "      <td>1387414800</td>\n",
       "    </tr>\n",
       "  </tbody>\n",
       "</table>\n",
       "</div>"
      ],
      "text/plain": [
       "  tag_key    date_key  depth       epoch\n",
       "0  129843  1387411200   83.4  1387411200\n",
       "1  129843  1387411200   80.7  1387412100\n",
       "2  129843  1387411200   91.5  1387413000\n",
       "3  129843  1387411200   91.5  1387413900\n",
       "4  129843  1387411200   88.8  1387414800"
      ]
     },
     "execution_count": 2,
     "metadata": {},
     "output_type": "execute_result"
    }
   ],
   "source": [
    "sql = '''\n",
    "select \n",
    "    tag_key,\n",
    "    date_key,\n",
    "    depth,\n",
    "    epoch\n",
    "from \n",
    "    tag_depths\n",
    "'''\n",
    "depth = pd.read_sql(sql, get_engine())\n",
    "depth = depth[~np.isnan(depth['depth'])]\n",
    "print(depth.shape)\n",
    "depth.head()"
   ]
  },
  {
   "cell_type": "code",
   "execution_count": 3,
   "metadata": {},
   "outputs": [
    {
     "data": {
      "text/html": [
       "<div>\n",
       "<style scoped>\n",
       "    .dataframe tbody tr th:only-of-type {\n",
       "        vertical-align: middle;\n",
       "    }\n",
       "\n",
       "    .dataframe tbody tr th {\n",
       "        vertical-align: top;\n",
       "    }\n",
       "\n",
       "    .dataframe thead th {\n",
       "        text-align: right;\n",
       "    }\n",
       "</style>\n",
       "<table border=\"1\" class=\"dataframe\">\n",
       "  <thead>\n",
       "    <tr style=\"text-align: right;\">\n",
       "      <th></th>\n",
       "      <th>tag_key</th>\n",
       "      <th>date_key</th>\n",
       "      <th>depth</th>\n",
       "      <th>epoch</th>\n",
       "      <th>depth_class</th>\n",
       "    </tr>\n",
       "  </thead>\n",
       "  <tbody>\n",
       "    <tr>\n",
       "      <th>0</th>\n",
       "      <td>129843</td>\n",
       "      <td>1387411200</td>\n",
       "      <td>83.4</td>\n",
       "      <td>1387411200</td>\n",
       "      <td>100</td>\n",
       "    </tr>\n",
       "    <tr>\n",
       "      <th>1</th>\n",
       "      <td>129843</td>\n",
       "      <td>1387411200</td>\n",
       "      <td>80.7</td>\n",
       "      <td>1387412100</td>\n",
       "      <td>100</td>\n",
       "    </tr>\n",
       "    <tr>\n",
       "      <th>2</th>\n",
       "      <td>129843</td>\n",
       "      <td>1387411200</td>\n",
       "      <td>91.5</td>\n",
       "      <td>1387413000</td>\n",
       "      <td>100</td>\n",
       "    </tr>\n",
       "    <tr>\n",
       "      <th>3</th>\n",
       "      <td>129843</td>\n",
       "      <td>1387411200</td>\n",
       "      <td>91.5</td>\n",
       "      <td>1387413900</td>\n",
       "      <td>100</td>\n",
       "    </tr>\n",
       "    <tr>\n",
       "      <th>4</th>\n",
       "      <td>129843</td>\n",
       "      <td>1387411200</td>\n",
       "      <td>88.8</td>\n",
       "      <td>1387414800</td>\n",
       "      <td>100</td>\n",
       "    </tr>\n",
       "  </tbody>\n",
       "</table>\n",
       "</div>"
      ],
      "text/plain": [
       "  tag_key    date_key  depth       epoch  depth_class\n",
       "0  129843  1387411200   83.4  1387411200          100\n",
       "1  129843  1387411200   80.7  1387412100          100\n",
       "2  129843  1387411200   91.5  1387413000          100\n",
       "3  129843  1387411200   91.5  1387413900          100\n",
       "4  129843  1387411200   88.8  1387414800          100"
      ]
     },
     "execution_count": 3,
     "metadata": {},
     "output_type": "execute_result"
    }
   ],
   "source": [
    "def select_a_class(depth, depth_classes):\n",
    "    sd = depth * 0.08 / 1.96 # ~two standard deviations gives our 95% confidence interval\n",
    "    if sd == 0:\n",
    "        division = np.zeros(len(depth_classes))\n",
    "        division[0] = 1\n",
    "    else:\n",
    "        # we're going to assume the depth classes are sorted\n",
    "        z = (depth_classes - depth) / sd\n",
    "        division = norm.cdf(z)\n",
    "        division[1:] = division[1:] - division[:-1]\n",
    "    # if there aren't quite enough depth classes the \n",
    "    # probabilities may not sum to 1, so we'll normalize\n",
    "    division = division / division.sum()\n",
    "    #if len(division[np.isnan(division)]) != 0:\n",
    "    #    return np.nan\n",
    "    return np.random.choice(depth_classes, p=division)\n",
    "\n",
    "min_size = 0.01\n",
    "depth_classes = np.array([25, 50, 75, 100, 150, 200, 250, 300, 400, 500])\n",
    "\n",
    "depth['depth_class'] = depth['depth'].apply(lambda x: select_a_class(x, depth_classes))\n",
    "depth.head()"
   ]
  },
  {
   "cell_type": "code",
   "execution_count": 4,
   "metadata": {},
   "outputs": [
    {
     "name": "stdout",
     "output_type": "stream",
     "text": [
      "(1033662, 5)\n",
      "(103366, 5)\n"
     ]
    }
   ],
   "source": [
    "print(depth.shape)\n",
    "depth = depth.sample(int(depth.shape[0] / len(depth_classes)), replace=True)\n",
    "print(depth.shape)"
   ]
  },
  {
   "cell_type": "markdown",
   "metadata": {},
   "source": [
    "# Add Context"
   ]
  },
  {
   "cell_type": "code",
   "execution_count": 5,
   "metadata": {},
   "outputs": [
    {
     "name": "stdout",
     "output_type": "stream",
     "text": [
      "2024-05-19 10:40:49,308 INFO sqlalchemy.engine.Engine BEGIN (implicit)\n",
      "2024-05-19 10:40:49,309 INFO sqlalchemy.engine.Engine \n",
      "select \n",
      "    tt.*,\n",
      "    h.home_region,\n",
      "    e.elevation\n",
      "from \n",
      "    tag_tracks tt \n",
      "    left join home_regions h\n",
      "        on tt.tag_key = h.tag_key\n",
      "    left join elevation e \n",
      "        on tt.h3_level_4_key = e.h3_level_4_key\n",
      "\n",
      "2024-05-19 10:40:49,309 INFO sqlalchemy.engine.Engine [raw sql] ()\n",
      "2024-05-19 10:40:49,339 INFO sqlalchemy.engine.Engine ROLLBACK\n",
      "  tag_key    date_key   longitude   latitude      h3_level_4_key home_region  \\\n",
      "0  129843  1387411200 -166.922615  54.131760  595087630329184255        None   \n",
      "1  129843  1387497600 -166.884086  54.258072  595087595969445887        None   \n",
      "2  129843  1387584000 -166.910525  54.312433  595087595969445887        None   \n",
      "3  129843  1387670400 -166.817057  54.358280  595087595969445887        None   \n",
      "4  129843  1387756800 -166.676901  54.389694  595087595969445887        None   \n",
      "\n",
      "    elevation  \n",
      "0 -184.870688  \n",
      "1 -790.973118  \n",
      "2 -790.973118  \n",
      "3 -790.973118  \n",
      "4 -790.973118  \n"
     ]
    },
    {
     "data": {
      "text/html": [
       "<div>\n",
       "<style scoped>\n",
       "    .dataframe tbody tr th:only-of-type {\n",
       "        vertical-align: middle;\n",
       "    }\n",
       "\n",
       "    .dataframe tbody tr th {\n",
       "        vertical-align: top;\n",
       "    }\n",
       "\n",
       "    .dataframe thead th {\n",
       "        text-align: right;\n",
       "    }\n",
       "</style>\n",
       "<table border=\"1\" class=\"dataframe\">\n",
       "  <thead>\n",
       "    <tr style=\"text-align: right;\">\n",
       "      <th></th>\n",
       "      <th>tag_key</th>\n",
       "      <th>date_key</th>\n",
       "      <th>longitude</th>\n",
       "      <th>latitude</th>\n",
       "      <th>h3_level_4_key</th>\n",
       "      <th>home_region</th>\n",
       "      <th>elevation</th>\n",
       "    </tr>\n",
       "  </thead>\n",
       "  <tbody>\n",
       "    <tr>\n",
       "      <th>0</th>\n",
       "      <td>129843</td>\n",
       "      <td>1387411200</td>\n",
       "      <td>-166.922615</td>\n",
       "      <td>54.131760</td>\n",
       "      <td>595087630329184255</td>\n",
       "      <td>None</td>\n",
       "      <td>-184.870688</td>\n",
       "    </tr>\n",
       "    <tr>\n",
       "      <th>1</th>\n",
       "      <td>129843</td>\n",
       "      <td>1387497600</td>\n",
       "      <td>-166.884086</td>\n",
       "      <td>54.258072</td>\n",
       "      <td>595087595969445887</td>\n",
       "      <td>None</td>\n",
       "      <td>-790.973118</td>\n",
       "    </tr>\n",
       "    <tr>\n",
       "      <th>2</th>\n",
       "      <td>129843</td>\n",
       "      <td>1387584000</td>\n",
       "      <td>-166.910525</td>\n",
       "      <td>54.312433</td>\n",
       "      <td>595087595969445887</td>\n",
       "      <td>None</td>\n",
       "      <td>-790.973118</td>\n",
       "    </tr>\n",
       "    <tr>\n",
       "      <th>3</th>\n",
       "      <td>129843</td>\n",
       "      <td>1387670400</td>\n",
       "      <td>-166.817057</td>\n",
       "      <td>54.358280</td>\n",
       "      <td>595087595969445887</td>\n",
       "      <td>None</td>\n",
       "      <td>-790.973118</td>\n",
       "    </tr>\n",
       "    <tr>\n",
       "      <th>4</th>\n",
       "      <td>129843</td>\n",
       "      <td>1387756800</td>\n",
       "      <td>-166.676901</td>\n",
       "      <td>54.389694</td>\n",
       "      <td>595087595969445887</td>\n",
       "      <td>None</td>\n",
       "      <td>-790.973118</td>\n",
       "    </tr>\n",
       "  </tbody>\n",
       "</table>\n",
       "</div>"
      ],
      "text/plain": [
       "  tag_key    date_key   longitude   latitude      h3_level_4_key home_region  \\\n",
       "0  129843  1387411200 -166.922615  54.131760  595087630329184255        None   \n",
       "1  129843  1387497600 -166.884086  54.258072  595087595969445887        None   \n",
       "2  129843  1387584000 -166.910525  54.312433  595087595969445887        None   \n",
       "3  129843  1387670400 -166.817057  54.358280  595087595969445887        None   \n",
       "4  129843  1387756800 -166.676901  54.389694  595087595969445887        None   \n",
       "\n",
       "    elevation  \n",
       "0 -184.870688  \n",
       "1 -790.973118  \n",
       "2 -790.973118  \n",
       "3 -790.973118  \n",
       "4 -790.973118  "
      ]
     },
     "execution_count": 5,
     "metadata": {},
     "output_type": "execute_result"
    }
   ],
   "source": [
    "sql = '''\n",
    "select \n",
    "    tt.*,\n",
    "    h.home_region,\n",
    "    e.elevation\n",
    "from \n",
    "    tag_tracks tt \n",
    "    left join home_regions h\n",
    "        on tt.tag_key = h.tag_key\n",
    "    left join elevation e \n",
    "        on tt.h3_level_4_key = e.h3_level_4_key\n",
    "'''\n",
    "tt = pd.read_sql_query(\n",
    "    sql,\n",
    "    get_engine()\n",
    ")\n",
    "print(tt.head())\n",
    "tt.head()"
   ]
  },
  {
   "cell_type": "code",
   "execution_count": 6,
   "metadata": {},
   "outputs": [
    {
     "data": {
      "text/html": [
       "<div>\n",
       "<style scoped>\n",
       "    .dataframe tbody tr th:only-of-type {\n",
       "        vertical-align: middle;\n",
       "    }\n",
       "\n",
       "    .dataframe tbody tr th {\n",
       "        vertical-align: top;\n",
       "    }\n",
       "\n",
       "    .dataframe thead th {\n",
       "        text-align: right;\n",
       "    }\n",
       "</style>\n",
       "<table border=\"1\" class=\"dataframe\">\n",
       "  <thead>\n",
       "    <tr style=\"text-align: right;\">\n",
       "      <th></th>\n",
       "      <th>tag_key</th>\n",
       "      <th>date_key</th>\n",
       "      <th>depth</th>\n",
       "      <th>epoch</th>\n",
       "      <th>depth_class</th>\n",
       "      <th>longitude</th>\n",
       "      <th>latitude</th>\n",
       "      <th>home_region</th>\n",
       "      <th>elevation</th>\n",
       "    </tr>\n",
       "  </thead>\n",
       "  <tbody>\n",
       "    <tr>\n",
       "      <th>0</th>\n",
       "      <td>202588</td>\n",
       "      <td>1598486400</td>\n",
       "      <td>28.5</td>\n",
       "      <td>1598542800</td>\n",
       "      <td>50</td>\n",
       "      <td>-157.875</td>\n",
       "      <td>56.1</td>\n",
       "      <td>None</td>\n",
       "      <td>-108.727546</td>\n",
       "    </tr>\n",
       "    <tr>\n",
       "      <th>1</th>\n",
       "      <td>202588</td>\n",
       "      <td>1598486400</td>\n",
       "      <td>10.0</td>\n",
       "      <td>1598533200</td>\n",
       "      <td>25</td>\n",
       "      <td>-157.875</td>\n",
       "      <td>56.1</td>\n",
       "      <td>None</td>\n",
       "      <td>-108.727546</td>\n",
       "    </tr>\n",
       "    <tr>\n",
       "      <th>2</th>\n",
       "      <td>202588</td>\n",
       "      <td>1598486400</td>\n",
       "      <td>12.5</td>\n",
       "      <td>1598531400</td>\n",
       "      <td>25</td>\n",
       "      <td>-157.875</td>\n",
       "      <td>56.1</td>\n",
       "      <td>None</td>\n",
       "      <td>-108.727546</td>\n",
       "    </tr>\n",
       "    <tr>\n",
       "      <th>3</th>\n",
       "      <td>202588</td>\n",
       "      <td>1598486400</td>\n",
       "      <td>28.5</td>\n",
       "      <td>1598542200</td>\n",
       "      <td>50</td>\n",
       "      <td>-157.875</td>\n",
       "      <td>56.1</td>\n",
       "      <td>None</td>\n",
       "      <td>-108.727546</td>\n",
       "    </tr>\n",
       "    <tr>\n",
       "      <th>4</th>\n",
       "      <td>202588</td>\n",
       "      <td>1598486400</td>\n",
       "      <td>25.5</td>\n",
       "      <td>1598496000</td>\n",
       "      <td>50</td>\n",
       "      <td>-157.875</td>\n",
       "      <td>56.1</td>\n",
       "      <td>None</td>\n",
       "      <td>-108.727546</td>\n",
       "    </tr>\n",
       "  </tbody>\n",
       "</table>\n",
       "</div>"
      ],
      "text/plain": [
       "  tag_key    date_key  depth       epoch  depth_class  longitude  latitude  \\\n",
       "0  202588  1598486400   28.5  1598542800           50   -157.875      56.1   \n",
       "1  202588  1598486400   10.0  1598533200           25   -157.875      56.1   \n",
       "2  202588  1598486400   12.5  1598531400           25   -157.875      56.1   \n",
       "3  202588  1598486400   28.5  1598542200           50   -157.875      56.1   \n",
       "4  202588  1598486400   25.5  1598496000           50   -157.875      56.1   \n",
       "\n",
       "  home_region   elevation  \n",
       "0        None -108.727546  \n",
       "1        None -108.727546  \n",
       "2        None -108.727546  \n",
       "3        None -108.727546  \n",
       "4        None -108.727546  "
      ]
     },
     "execution_count": 6,
     "metadata": {},
     "output_type": "execute_result"
    }
   ],
   "source": [
    "depth = depth.merge(tt[['tag_key', 'date_key', 'longitude', 'latitude', 'home_region', 'elevation']])\n",
    "depth.head()"
   ]
  },
  {
   "cell_type": "code",
   "execution_count": 7,
   "metadata": {},
   "outputs": [
    {
     "data": {
      "text/html": [
       "<div>\n",
       "<style scoped>\n",
       "    .dataframe tbody tr th:only-of-type {\n",
       "        vertical-align: middle;\n",
       "    }\n",
       "\n",
       "    .dataframe tbody tr th {\n",
       "        vertical-align: top;\n",
       "    }\n",
       "\n",
       "    .dataframe thead th {\n",
       "        text-align: right;\n",
       "    }\n",
       "</style>\n",
       "<table border=\"1\" class=\"dataframe\">\n",
       "  <thead>\n",
       "    <tr style=\"text-align: right;\">\n",
       "      <th></th>\n",
       "      <th>tag_key</th>\n",
       "      <th>date_key</th>\n",
       "      <th>depth</th>\n",
       "      <th>epoch</th>\n",
       "      <th>depth_class</th>\n",
       "      <th>longitude</th>\n",
       "      <th>latitude</th>\n",
       "      <th>home_region</th>\n",
       "      <th>elevation</th>\n",
       "      <th>datetime</th>\n",
       "      <th>date</th>\n",
       "      <th>sunrise</th>\n",
       "      <th>sunset</th>\n",
       "      <th>hour</th>\n",
       "      <th>daytime</th>\n",
       "    </tr>\n",
       "  </thead>\n",
       "  <tbody>\n",
       "    <tr>\n",
       "      <th>0</th>\n",
       "      <td>202588</td>\n",
       "      <td>1598486400</td>\n",
       "      <td>28.5</td>\n",
       "      <td>1598542800</td>\n",
       "      <td>50</td>\n",
       "      <td>-157.875</td>\n",
       "      <td>56.1</td>\n",
       "      <td>None</td>\n",
       "      <td>-108.727546</td>\n",
       "      <td>2020-08-27 15:40:00+00:00</td>\n",
       "      <td>2020-08-27</td>\n",
       "      <td>15</td>\n",
       "      <td>5</td>\n",
       "      <td>15</td>\n",
       "      <td>False</td>\n",
       "    </tr>\n",
       "    <tr>\n",
       "      <th>1</th>\n",
       "      <td>202588</td>\n",
       "      <td>1598486400</td>\n",
       "      <td>10.0</td>\n",
       "      <td>1598533200</td>\n",
       "      <td>25</td>\n",
       "      <td>-157.875</td>\n",
       "      <td>56.1</td>\n",
       "      <td>None</td>\n",
       "      <td>-108.727546</td>\n",
       "      <td>2020-08-27 13:00:00+00:00</td>\n",
       "      <td>2020-08-27</td>\n",
       "      <td>15</td>\n",
       "      <td>5</td>\n",
       "      <td>13</td>\n",
       "      <td>False</td>\n",
       "    </tr>\n",
       "    <tr>\n",
       "      <th>2</th>\n",
       "      <td>202588</td>\n",
       "      <td>1598486400</td>\n",
       "      <td>12.5</td>\n",
       "      <td>1598531400</td>\n",
       "      <td>25</td>\n",
       "      <td>-157.875</td>\n",
       "      <td>56.1</td>\n",
       "      <td>None</td>\n",
       "      <td>-108.727546</td>\n",
       "      <td>2020-08-27 12:30:00+00:00</td>\n",
       "      <td>2020-08-27</td>\n",
       "      <td>15</td>\n",
       "      <td>5</td>\n",
       "      <td>12</td>\n",
       "      <td>False</td>\n",
       "    </tr>\n",
       "    <tr>\n",
       "      <th>3</th>\n",
       "      <td>202588</td>\n",
       "      <td>1598486400</td>\n",
       "      <td>28.5</td>\n",
       "      <td>1598542200</td>\n",
       "      <td>50</td>\n",
       "      <td>-157.875</td>\n",
       "      <td>56.1</td>\n",
       "      <td>None</td>\n",
       "      <td>-108.727546</td>\n",
       "      <td>2020-08-27 15:30:00+00:00</td>\n",
       "      <td>2020-08-27</td>\n",
       "      <td>15</td>\n",
       "      <td>5</td>\n",
       "      <td>15</td>\n",
       "      <td>False</td>\n",
       "    </tr>\n",
       "    <tr>\n",
       "      <th>4</th>\n",
       "      <td>202588</td>\n",
       "      <td>1598486400</td>\n",
       "      <td>25.5</td>\n",
       "      <td>1598496000</td>\n",
       "      <td>50</td>\n",
       "      <td>-157.875</td>\n",
       "      <td>56.1</td>\n",
       "      <td>None</td>\n",
       "      <td>-108.727546</td>\n",
       "      <td>2020-08-27 02:40:00+00:00</td>\n",
       "      <td>2020-08-27</td>\n",
       "      <td>15</td>\n",
       "      <td>5</td>\n",
       "      <td>2</td>\n",
       "      <td>True</td>\n",
       "    </tr>\n",
       "  </tbody>\n",
       "</table>\n",
       "</div>"
      ],
      "text/plain": [
       "  tag_key    date_key  depth       epoch  depth_class  longitude  latitude  \\\n",
       "0  202588  1598486400   28.5  1598542800           50   -157.875      56.1   \n",
       "1  202588  1598486400   10.0  1598533200           25   -157.875      56.1   \n",
       "2  202588  1598486400   12.5  1598531400           25   -157.875      56.1   \n",
       "3  202588  1598486400   28.5  1598542200           50   -157.875      56.1   \n",
       "4  202588  1598486400   25.5  1598496000           50   -157.875      56.1   \n",
       "\n",
       "  home_region   elevation                  datetime        date  sunrise  \\\n",
       "0        None -108.727546 2020-08-27 15:40:00+00:00  2020-08-27       15   \n",
       "1        None -108.727546 2020-08-27 13:00:00+00:00  2020-08-27       15   \n",
       "2        None -108.727546 2020-08-27 12:30:00+00:00  2020-08-27       15   \n",
       "3        None -108.727546 2020-08-27 15:30:00+00:00  2020-08-27       15   \n",
       "4        None -108.727546 2020-08-27 02:40:00+00:00  2020-08-27       15   \n",
       "\n",
       "   sunset  hour  daytime  \n",
       "0       5    15    False  \n",
       "1       5    13    False  \n",
       "2       5    12    False  \n",
       "3       5    15    False  \n",
       "4       5     2     True  "
      ]
     },
     "execution_count": 7,
     "metadata": {},
     "output_type": "execute_result"
    }
   ],
   "source": [
    "from suntimes import SunTimes\n",
    "\n",
    "def get_sunrise(lat, lon, date):\n",
    "    return SunTimes(longitude=lon, latitude=lat, altitude=0).risewhere(date, 'UTC').hour\n",
    "\n",
    "def get_sunset(lat, lon, date):\n",
    "    return SunTimes(longitude=lon, latitude=lat, altitude=0).setwhere(date, 'UTC').hour\n",
    "\n",
    "depth['datetime'] = pd.to_datetime(depth['epoch'], utc=True, unit='s')\n",
    "depth['date'] = depth['datetime'].dt.date\n",
    "depth = depth[np.abs(depth['longitude']) <= 180]\n",
    "depth['sunrise'] = depth.apply(\n",
    "    lambda r: get_sunrise(r['latitude'], r['longitude'], r['date']), axis=1\n",
    ")\n",
    "depth['sunset'] = depth.apply(\n",
    "    lambda r: get_sunset(r['latitude'], r['longitude'], r['date']), axis=1\n",
    ")\n",
    "\n",
    "\n",
    "depth['hour'] = depth['datetime'].dt.hour\n",
    "\n",
    "depth['daytime'] = (depth['hour'] < depth['sunset']) | (depth['hour'] > depth['sunrise'])\n",
    "depth.head()"
   ]
  },
  {
   "cell_type": "markdown",
   "metadata": {},
   "source": [
    "# Build Into Choices"
   ]
  },
  {
   "cell_type": "code",
   "execution_count": 198,
   "metadata": {},
   "outputs": [
    {
     "name": "stdout",
     "output_type": "stream",
     "text": [
      "(103338, 15)\n",
      "(100000, 15)\n"
     ]
    },
    {
     "data": {
      "text/html": [
       "<div>\n",
       "<style scoped>\n",
       "    .dataframe tbody tr th:only-of-type {\n",
       "        vertical-align: middle;\n",
       "    }\n",
       "\n",
       "    .dataframe tbody tr th {\n",
       "        vertical-align: top;\n",
       "    }\n",
       "\n",
       "    .dataframe thead th {\n",
       "        text-align: right;\n",
       "    }\n",
       "</style>\n",
       "<table border=\"1\" class=\"dataframe\">\n",
       "  <thead>\n",
       "    <tr style=\"text-align: right;\">\n",
       "      <th></th>\n",
       "      <th>_decision</th>\n",
       "      <th>_identifier</th>\n",
       "      <th>date_key</th>\n",
       "      <th>depth</th>\n",
       "      <th>epoch</th>\n",
       "      <th>selected_class</th>\n",
       "      <th>longitude</th>\n",
       "      <th>latitude</th>\n",
       "      <th>home_region</th>\n",
       "      <th>elevation</th>\n",
       "      <th>datetime</th>\n",
       "      <th>date</th>\n",
       "      <th>sunrise</th>\n",
       "      <th>sunset</th>\n",
       "      <th>hour</th>\n",
       "      <th>daytime</th>\n",
       "    </tr>\n",
       "  </thead>\n",
       "  <tbody>\n",
       "    <tr>\n",
       "      <th>0</th>\n",
       "      <td>0</td>\n",
       "      <td>205404</td>\n",
       "      <td>1603152000</td>\n",
       "      <td>83.0</td>\n",
       "      <td>1603199400</td>\n",
       "      <td>100</td>\n",
       "      <td>-153.725</td>\n",
       "      <td>58.075</td>\n",
       "      <td>SEAK</td>\n",
       "      <td>-78.920882</td>\n",
       "      <td>2020-10-20 13:10:00+00:00</td>\n",
       "      <td>2020-10-20</td>\n",
       "      <td>17</td>\n",
       "      <td>2</td>\n",
       "      <td>13</td>\n",
       "      <td>False</td>\n",
       "    </tr>\n",
       "    <tr>\n",
       "      <th>1</th>\n",
       "      <td>1</td>\n",
       "      <td>202597</td>\n",
       "      <td>1597190400</td>\n",
       "      <td>6.5</td>\n",
       "      <td>1597240800</td>\n",
       "      <td>25</td>\n",
       "      <td>-159.375</td>\n",
       "      <td>55.200</td>\n",
       "      <td>SEAK</td>\n",
       "      <td>-80.210727</td>\n",
       "      <td>2020-08-12 14:00:00+00:00</td>\n",
       "      <td>2020-08-12</td>\n",
       "      <td>15</td>\n",
       "      <td>6</td>\n",
       "      <td>14</td>\n",
       "      <td>False</td>\n",
       "    </tr>\n",
       "    <tr>\n",
       "      <th>2</th>\n",
       "      <td>2</td>\n",
       "      <td>159014b</td>\n",
       "      <td>1493337600</td>\n",
       "      <td>8.5</td>\n",
       "      <td>1493382300</td>\n",
       "      <td>25</td>\n",
       "      <td>-152.300</td>\n",
       "      <td>59.600</td>\n",
       "      <td>WA/OR</td>\n",
       "      <td>-45.030789</td>\n",
       "      <td>2017-04-28 12:25:00+00:00</td>\n",
       "      <td>2017-04-28</td>\n",
       "      <td>14</td>\n",
       "      <td>5</td>\n",
       "      <td>12</td>\n",
       "      <td>False</td>\n",
       "    </tr>\n",
       "    <tr>\n",
       "      <th>3</th>\n",
       "      <td>3</td>\n",
       "      <td>205400</td>\n",
       "      <td>1604188800</td>\n",
       "      <td>140.5</td>\n",
       "      <td>1604245200</td>\n",
       "      <td>150</td>\n",
       "      <td>-150.050</td>\n",
       "      <td>58.725</td>\n",
       "      <td>None</td>\n",
       "      <td>-119.637932</td>\n",
       "      <td>2020-11-01 15:40:00+00:00</td>\n",
       "      <td>2020-11-01</td>\n",
       "      <td>17</td>\n",
       "      <td>2</td>\n",
       "      <td>15</td>\n",
       "      <td>False</td>\n",
       "    </tr>\n",
       "    <tr>\n",
       "      <th>4</th>\n",
       "      <td>4</td>\n",
       "      <td>210760</td>\n",
       "      <td>1622764800</td>\n",
       "      <td>28.5</td>\n",
       "      <td>1622834100</td>\n",
       "      <td>50</td>\n",
       "      <td>-133.975</td>\n",
       "      <td>54.400</td>\n",
       "      <td>BC</td>\n",
       "      <td>-627.996741</td>\n",
       "      <td>2021-06-04 19:15:00+00:00</td>\n",
       "      <td>2021-06-04</td>\n",
       "      <td>12</td>\n",
       "      <td>5</td>\n",
       "      <td>19</td>\n",
       "      <td>True</td>\n",
       "    </tr>\n",
       "  </tbody>\n",
       "</table>\n",
       "</div>"
      ],
      "text/plain": [
       "   _decision _identifier    date_key  depth       epoch  selected_class  \\\n",
       "0          0      205404  1603152000   83.0  1603199400             100   \n",
       "1          1      202597  1597190400    6.5  1597240800              25   \n",
       "2          2     159014b  1493337600    8.5  1493382300              25   \n",
       "3          3      205400  1604188800  140.5  1604245200             150   \n",
       "4          4      210760  1622764800   28.5  1622834100              50   \n",
       "\n",
       "   longitude  latitude home_region   elevation                  datetime  \\\n",
       "0   -153.725    58.075        SEAK  -78.920882 2020-10-20 13:10:00+00:00   \n",
       "1   -159.375    55.200        SEAK  -80.210727 2020-08-12 14:00:00+00:00   \n",
       "2   -152.300    59.600       WA/OR  -45.030789 2017-04-28 12:25:00+00:00   \n",
       "3   -150.050    58.725        None -119.637932 2020-11-01 15:40:00+00:00   \n",
       "4   -133.975    54.400          BC -627.996741 2021-06-04 19:15:00+00:00   \n",
       "\n",
       "         date  sunrise  sunset  hour  daytime  \n",
       "0  2020-10-20       17       2    13    False  \n",
       "1  2020-08-12       15       6    14    False  \n",
       "2  2017-04-28       14       5    12    False  \n",
       "3  2020-11-01       17       2    15    False  \n",
       "4  2021-06-04       12       5    19     True  "
      ]
     },
     "execution_count": 198,
     "metadata": {},
     "output_type": "execute_result"
    }
   ],
   "source": [
    "print(depth.shape)\n",
    "choices = depth.copy().sample(10000 * 10)\n",
    "print(choices.shape)\n",
    "choices = (\n",
    "    choices.reset_index(drop=True).reset_index().rename(\n",
    "        {'index': '_decision', 'depth_class': 'selected_class', 'tag_key': '_identifier'}, \n",
    "        axis=1\n",
    "    )\n",
    ")\n",
    "choices.head()"
   ]
  },
  {
   "cell_type": "code",
   "execution_count": 199,
   "metadata": {},
   "outputs": [
    {
     "name": "stdout",
     "output_type": "stream",
     "text": [
      "(1000000, 2)\n"
     ]
    },
    {
     "data": {
      "text/html": [
       "<div>\n",
       "<style scoped>\n",
       "    .dataframe tbody tr th:only-of-type {\n",
       "        vertical-align: middle;\n",
       "    }\n",
       "\n",
       "    .dataframe tbody tr th {\n",
       "        vertical-align: top;\n",
       "    }\n",
       "\n",
       "    .dataframe thead th {\n",
       "        text-align: right;\n",
       "    }\n",
       "</style>\n",
       "<table border=\"1\" class=\"dataframe\">\n",
       "  <thead>\n",
       "    <tr style=\"text-align: right;\">\n",
       "      <th></th>\n",
       "      <th>_decision</th>\n",
       "      <th>depth_class</th>\n",
       "    </tr>\n",
       "  </thead>\n",
       "  <tbody>\n",
       "    <tr>\n",
       "      <th>0</th>\n",
       "      <td>0</td>\n",
       "      <td>25</td>\n",
       "    </tr>\n",
       "    <tr>\n",
       "      <th>1</th>\n",
       "      <td>0</td>\n",
       "      <td>50</td>\n",
       "    </tr>\n",
       "    <tr>\n",
       "      <th>2</th>\n",
       "      <td>0</td>\n",
       "      <td>75</td>\n",
       "    </tr>\n",
       "    <tr>\n",
       "      <th>3</th>\n",
       "      <td>0</td>\n",
       "      <td>100</td>\n",
       "    </tr>\n",
       "    <tr>\n",
       "      <th>4</th>\n",
       "      <td>0</td>\n",
       "      <td>150</td>\n",
       "    </tr>\n",
       "  </tbody>\n",
       "</table>\n",
       "</div>"
      ],
      "text/plain": [
       "   _decision  depth_class\n",
       "0          0           25\n",
       "1          0           50\n",
       "2          0           75\n",
       "3          0          100\n",
       "4          0          150"
      ]
     },
     "execution_count": 199,
     "metadata": {},
     "output_type": "execute_result"
    }
   ],
   "source": [
    "all_choices = choices[['_decision']].merge(pd.DataFrame({'depth_class': depth_classes}), how='cross')\n",
    "print(all_choices.shape)\n",
    "all_choices.head()"
   ]
  },
  {
   "cell_type": "code",
   "execution_count": 200,
   "metadata": {},
   "outputs": [
    {
     "name": "stdout",
     "output_type": "stream",
     "text": [
      "(1000000, 17)\n"
     ]
    },
    {
     "data": {
      "text/html": [
       "<div>\n",
       "<style scoped>\n",
       "    .dataframe tbody tr th:only-of-type {\n",
       "        vertical-align: middle;\n",
       "    }\n",
       "\n",
       "    .dataframe tbody tr th {\n",
       "        vertical-align: top;\n",
       "    }\n",
       "\n",
       "    .dataframe thead th {\n",
       "        text-align: right;\n",
       "    }\n",
       "</style>\n",
       "<table border=\"1\" class=\"dataframe\">\n",
       "  <thead>\n",
       "    <tr style=\"text-align: right;\">\n",
       "      <th></th>\n",
       "      <th>_decision</th>\n",
       "      <th>_identifier</th>\n",
       "      <th>date_key</th>\n",
       "      <th>depth</th>\n",
       "      <th>epoch</th>\n",
       "      <th>longitude</th>\n",
       "      <th>latitude</th>\n",
       "      <th>home_region</th>\n",
       "      <th>elevation</th>\n",
       "      <th>datetime</th>\n",
       "      <th>date</th>\n",
       "      <th>sunrise</th>\n",
       "      <th>sunset</th>\n",
       "      <th>hour</th>\n",
       "      <th>daytime</th>\n",
       "      <th>depth_class</th>\n",
       "      <th>selected</th>\n",
       "    </tr>\n",
       "  </thead>\n",
       "  <tbody>\n",
       "    <tr>\n",
       "      <th>0</th>\n",
       "      <td>0</td>\n",
       "      <td>205404</td>\n",
       "      <td>1603152000</td>\n",
       "      <td>83.0</td>\n",
       "      <td>1603199400</td>\n",
       "      <td>-153.725</td>\n",
       "      <td>58.075</td>\n",
       "      <td>SEAK</td>\n",
       "      <td>-78.920882</td>\n",
       "      <td>2020-10-20 13:10:00+00:00</td>\n",
       "      <td>2020-10-20</td>\n",
       "      <td>17</td>\n",
       "      <td>2</td>\n",
       "      <td>13</td>\n",
       "      <td>False</td>\n",
       "      <td>25</td>\n",
       "      <td>False</td>\n",
       "    </tr>\n",
       "    <tr>\n",
       "      <th>1</th>\n",
       "      <td>0</td>\n",
       "      <td>205404</td>\n",
       "      <td>1603152000</td>\n",
       "      <td>83.0</td>\n",
       "      <td>1603199400</td>\n",
       "      <td>-153.725</td>\n",
       "      <td>58.075</td>\n",
       "      <td>SEAK</td>\n",
       "      <td>-78.920882</td>\n",
       "      <td>2020-10-20 13:10:00+00:00</td>\n",
       "      <td>2020-10-20</td>\n",
       "      <td>17</td>\n",
       "      <td>2</td>\n",
       "      <td>13</td>\n",
       "      <td>False</td>\n",
       "      <td>50</td>\n",
       "      <td>False</td>\n",
       "    </tr>\n",
       "    <tr>\n",
       "      <th>2</th>\n",
       "      <td>0</td>\n",
       "      <td>205404</td>\n",
       "      <td>1603152000</td>\n",
       "      <td>83.0</td>\n",
       "      <td>1603199400</td>\n",
       "      <td>-153.725</td>\n",
       "      <td>58.075</td>\n",
       "      <td>SEAK</td>\n",
       "      <td>-78.920882</td>\n",
       "      <td>2020-10-20 13:10:00+00:00</td>\n",
       "      <td>2020-10-20</td>\n",
       "      <td>17</td>\n",
       "      <td>2</td>\n",
       "      <td>13</td>\n",
       "      <td>False</td>\n",
       "      <td>75</td>\n",
       "      <td>False</td>\n",
       "    </tr>\n",
       "    <tr>\n",
       "      <th>3</th>\n",
       "      <td>0</td>\n",
       "      <td>205404</td>\n",
       "      <td>1603152000</td>\n",
       "      <td>83.0</td>\n",
       "      <td>1603199400</td>\n",
       "      <td>-153.725</td>\n",
       "      <td>58.075</td>\n",
       "      <td>SEAK</td>\n",
       "      <td>-78.920882</td>\n",
       "      <td>2020-10-20 13:10:00+00:00</td>\n",
       "      <td>2020-10-20</td>\n",
       "      <td>17</td>\n",
       "      <td>2</td>\n",
       "      <td>13</td>\n",
       "      <td>False</td>\n",
       "      <td>100</td>\n",
       "      <td>True</td>\n",
       "    </tr>\n",
       "    <tr>\n",
       "      <th>4</th>\n",
       "      <td>0</td>\n",
       "      <td>205404</td>\n",
       "      <td>1603152000</td>\n",
       "      <td>83.0</td>\n",
       "      <td>1603199400</td>\n",
       "      <td>-153.725</td>\n",
       "      <td>58.075</td>\n",
       "      <td>SEAK</td>\n",
       "      <td>-78.920882</td>\n",
       "      <td>2020-10-20 13:10:00+00:00</td>\n",
       "      <td>2020-10-20</td>\n",
       "      <td>17</td>\n",
       "      <td>2</td>\n",
       "      <td>13</td>\n",
       "      <td>False</td>\n",
       "      <td>150</td>\n",
       "      <td>False</td>\n",
       "    </tr>\n",
       "  </tbody>\n",
       "</table>\n",
       "</div>"
      ],
      "text/plain": [
       "   _decision _identifier    date_key  depth       epoch  longitude  latitude  \\\n",
       "0          0      205404  1603152000   83.0  1603199400   -153.725    58.075   \n",
       "1          0      205404  1603152000   83.0  1603199400   -153.725    58.075   \n",
       "2          0      205404  1603152000   83.0  1603199400   -153.725    58.075   \n",
       "3          0      205404  1603152000   83.0  1603199400   -153.725    58.075   \n",
       "4          0      205404  1603152000   83.0  1603199400   -153.725    58.075   \n",
       "\n",
       "  home_region  elevation                  datetime        date  sunrise  \\\n",
       "0        SEAK -78.920882 2020-10-20 13:10:00+00:00  2020-10-20       17   \n",
       "1        SEAK -78.920882 2020-10-20 13:10:00+00:00  2020-10-20       17   \n",
       "2        SEAK -78.920882 2020-10-20 13:10:00+00:00  2020-10-20       17   \n",
       "3        SEAK -78.920882 2020-10-20 13:10:00+00:00  2020-10-20       17   \n",
       "4        SEAK -78.920882 2020-10-20 13:10:00+00:00  2020-10-20       17   \n",
       "\n",
       "   sunset  hour  daytime  depth_class  selected  \n",
       "0       2    13    False           25     False  \n",
       "1       2    13    False           50     False  \n",
       "2       2    13    False           75     False  \n",
       "3       2    13    False          100      True  \n",
       "4       2    13    False          150     False  "
      ]
     },
     "execution_count": 200,
     "metadata": {},
     "output_type": "execute_result"
    }
   ],
   "source": [
    "choices = choices.merge(all_choices, how='outer', on='_decision')\n",
    "choices['selected'] = choices['depth_class'] == choices['selected_class']\n",
    "del choices['selected_class']\n",
    "print(choices.shape)\n",
    "choices.head()"
   ]
  },
  {
   "cell_type": "markdown",
   "metadata": {},
   "source": [
    "# Build the Features"
   ]
  },
  {
   "cell_type": "code",
   "execution_count": 310,
   "metadata": {},
   "outputs": [
    {
     "data": {
      "text/html": [
       "<div>\n",
       "<style scoped>\n",
       "    .dataframe tbody tr th:only-of-type {\n",
       "        vertical-align: middle;\n",
       "    }\n",
       "\n",
       "    .dataframe tbody tr th {\n",
       "        vertical-align: top;\n",
       "    }\n",
       "\n",
       "    .dataframe thead th {\n",
       "        text-align: right;\n",
       "    }\n",
       "</style>\n",
       "<table border=\"1\" class=\"dataframe\">\n",
       "  <thead>\n",
       "    <tr style=\"text-align: right;\">\n",
       "      <th></th>\n",
       "      <th>selected</th>\n",
       "      <th>_decision</th>\n",
       "      <th>_identifier</th>\n",
       "      <th>depth_class</th>\n",
       "      <th>month</th>\n",
       "      <th>daytime</th>\n",
       "      <th>interval</th>\n",
       "    </tr>\n",
       "  </thead>\n",
       "  <tbody>\n",
       "    <tr>\n",
       "      <th>0</th>\n",
       "      <td>False</td>\n",
       "      <td>0</td>\n",
       "      <td>205404</td>\n",
       "      <td>25</td>\n",
       "      <td>10</td>\n",
       "      <td>0.0</td>\n",
       "      <td>9</td>\n",
       "    </tr>\n",
       "    <tr>\n",
       "      <th>1</th>\n",
       "      <td>False</td>\n",
       "      <td>0</td>\n",
       "      <td>205404</td>\n",
       "      <td>50</td>\n",
       "      <td>10</td>\n",
       "      <td>0.0</td>\n",
       "      <td>9</td>\n",
       "    </tr>\n",
       "    <tr>\n",
       "      <th>2</th>\n",
       "      <td>False</td>\n",
       "      <td>0</td>\n",
       "      <td>205404</td>\n",
       "      <td>75</td>\n",
       "      <td>10</td>\n",
       "      <td>0.0</td>\n",
       "      <td>9</td>\n",
       "    </tr>\n",
       "    <tr>\n",
       "      <th>3</th>\n",
       "      <td>True</td>\n",
       "      <td>0</td>\n",
       "      <td>205404</td>\n",
       "      <td>100</td>\n",
       "      <td>10</td>\n",
       "      <td>0.0</td>\n",
       "      <td>9</td>\n",
       "    </tr>\n",
       "    <tr>\n",
       "      <th>4</th>\n",
       "      <td>False</td>\n",
       "      <td>0</td>\n",
       "      <td>205404</td>\n",
       "      <td>150</td>\n",
       "      <td>10</td>\n",
       "      <td>0.0</td>\n",
       "      <td>9</td>\n",
       "    </tr>\n",
       "  </tbody>\n",
       "</table>\n",
       "</div>"
      ],
      "text/plain": [
       "   selected  _decision _identifier  depth_class  month  daytime  interval\n",
       "0     False          0      205404           25     10      0.0         9\n",
       "1     False          0      205404           50     10      0.0         9\n",
       "2     False          0      205404           75     10      0.0         9\n",
       "3      True          0      205404          100     10      0.0         9\n",
       "4     False          0      205404          150     10      0.0         9"
      ]
     },
     "execution_count": 310,
     "metadata": {},
     "output_type": "execute_result"
    }
   ],
   "source": [
    "model_data = choices.copy()\n",
    "model_data['month'] = model_data['datetime'].dt.month\n",
    "model_data['interval'] = 24 - model_data['sunrise'] + model_data['sunset']\n",
    "model_data['daytime'] = model_data['daytime'].astype(float)\n",
    "features = ['depth_class', 'month', 'daytime']#'latitude', 'sunrise', 'interval', 'daytime']\n",
    "meta = ['interval']\n",
    "model_data = model_data[['selected', '_decision', '_identifier'] + features + meta]\n",
    "model_data.head()"
   ]
  },
  {
   "cell_type": "code",
   "execution_count": 311,
   "metadata": {},
   "outputs": [
    {
     "name": "stdout",
     "output_type": "stream",
     "text": [
      "66 45\n"
     ]
    }
   ],
   "source": [
    "ids = model_data['_identifier'].unique()\n",
    "train_ids = np.random.choice(ids, int(0.6 * len(ids)), replace=False)\n",
    "test_ids = np.array(list(set(ids) - set(train_ids)))\n",
    "print(\n",
    "    len(train_ids),\n",
    "    len(test_ids)\n",
    ")"
   ]
  },
  {
   "cell_type": "code",
   "execution_count": 312,
   "metadata": {},
   "outputs": [
    {
     "data": {
      "text/html": [
       "<div>\n",
       "<style scoped>\n",
       "    .dataframe tbody tr th:only-of-type {\n",
       "        vertical-align: middle;\n",
       "    }\n",
       "\n",
       "    .dataframe tbody tr th {\n",
       "        vertical-align: top;\n",
       "    }\n",
       "\n",
       "    .dataframe thead th {\n",
       "        text-align: right;\n",
       "    }\n",
       "</style>\n",
       "<table border=\"1\" class=\"dataframe\">\n",
       "  <thead>\n",
       "    <tr style=\"text-align: right;\">\n",
       "      <th></th>\n",
       "      <th>_identifier</th>\n",
       "      <th>fold</th>\n",
       "    </tr>\n",
       "  </thead>\n",
       "  <tbody>\n",
       "    <tr>\n",
       "      <th>0</th>\n",
       "      <td>229239</td>\n",
       "      <td>0</td>\n",
       "    </tr>\n",
       "    <tr>\n",
       "      <th>1</th>\n",
       "      <td>229235</td>\n",
       "      <td>1</td>\n",
       "    </tr>\n",
       "    <tr>\n",
       "      <th>2</th>\n",
       "      <td>205415</td>\n",
       "      <td>2</td>\n",
       "    </tr>\n",
       "    <tr>\n",
       "      <th>3</th>\n",
       "      <td>202591</td>\n",
       "      <td>3</td>\n",
       "    </tr>\n",
       "    <tr>\n",
       "      <th>4</th>\n",
       "      <td>142189</td>\n",
       "      <td>0</td>\n",
       "    </tr>\n",
       "  </tbody>\n",
       "</table>\n",
       "</div>"
      ],
      "text/plain": [
       "  _identifier  fold\n",
       "0      229239     0\n",
       "1      229235     1\n",
       "2      205415     2\n",
       "3      202591     3\n",
       "4      142189     0"
      ]
     },
     "execution_count": 312,
     "metadata": {},
     "output_type": "execute_result"
    }
   ],
   "source": [
    "folds = 4\n",
    "rows = []\n",
    "np.random.shuffle(train_ids)\n",
    "for i, _identifier in enumerate(train_ids):\n",
    "    rows.append({\n",
    "        '_identifier': _identifier,\n",
    "        'fold': i % folds\n",
    "    })\n",
    "folds_assignment = pd.DataFrame(rows)\n",
    "folds_assignment.head()"
   ]
  },
  {
   "cell_type": "code",
   "execution_count": 313,
   "metadata": {},
   "outputs": [],
   "source": [
    "train = model_data[model_data['_identifier'].isin(train_ids)]\n",
    "\n",
    "train = train.merge(folds_assignment)\n",
    "fold = np.array(train['fold'])"
   ]
  },
  {
   "cell_type": "code",
   "execution_count": 314,
   "metadata": {},
   "outputs": [
    {
     "name": "stdout",
     "output_type": "stream",
     "text": [
      "month      1.154581\n",
      "daytime    1.001078\n",
      "dtype: float64\n",
      "month      0.100441\n",
      "daytime   -0.074173\n",
      "dtype: float64\n"
     ]
    }
   ],
   "source": [
    "def shape(base, to_shape, cols):\n",
    "    to_shape = to_shape.copy()\n",
    "    for col in cols:\n",
    "        to_shape[col] = (to_shape[col] - base[col].mean()) / base[col].std()\n",
    "    return to_shape\n",
    "\n",
    "non_depth_class_cols = [f for f in features if f != 'depth_class']\n",
    "shaped_train = shape(\n",
    "    train, train, non_depth_class_cols\n",
    ")\n",
    "\n",
    "test = model_data[model_data['_identifier'].isin(test_ids)]\n",
    "shaped_test = shape(\n",
    "    train, test, non_depth_class_cols\n",
    ")\n",
    "print(shaped_test[non_depth_class_cols].std())\n",
    "print(shaped_test[non_depth_class_cols].mean())"
   ]
  },
  {
   "cell_type": "code",
   "execution_count": 315,
   "metadata": {},
   "outputs": [
    {
     "data": {
      "text/html": [
       "<style>#sk-container-id-11 {color: black;}#sk-container-id-11 pre{padding: 0;}#sk-container-id-11 div.sk-toggleable {background-color: white;}#sk-container-id-11 label.sk-toggleable__label {cursor: pointer;display: block;width: 100%;margin-bottom: 0;padding: 0.3em;box-sizing: border-box;text-align: center;}#sk-container-id-11 label.sk-toggleable__label-arrow:before {content: \"▸\";float: left;margin-right: 0.25em;color: #696969;}#sk-container-id-11 label.sk-toggleable__label-arrow:hover:before {color: black;}#sk-container-id-11 div.sk-estimator:hover label.sk-toggleable__label-arrow:before {color: black;}#sk-container-id-11 div.sk-toggleable__content {max-height: 0;max-width: 0;overflow: hidden;text-align: left;background-color: #f0f8ff;}#sk-container-id-11 div.sk-toggleable__content pre {margin: 0.2em;color: black;border-radius: 0.25em;background-color: #f0f8ff;}#sk-container-id-11 input.sk-toggleable__control:checked~div.sk-toggleable__content {max-height: 200px;max-width: 100%;overflow: auto;}#sk-container-id-11 input.sk-toggleable__control:checked~label.sk-toggleable__label-arrow:before {content: \"▾\";}#sk-container-id-11 div.sk-estimator input.sk-toggleable__control:checked~label.sk-toggleable__label {background-color: #d4ebff;}#sk-container-id-11 div.sk-label input.sk-toggleable__control:checked~label.sk-toggleable__label {background-color: #d4ebff;}#sk-container-id-11 input.sk-hidden--visually {border: 0;clip: rect(1px 1px 1px 1px);clip: rect(1px, 1px, 1px, 1px);height: 1px;margin: -1px;overflow: hidden;padding: 0;position: absolute;width: 1px;}#sk-container-id-11 div.sk-estimator {font-family: monospace;background-color: #f0f8ff;border: 1px dotted black;border-radius: 0.25em;box-sizing: border-box;margin-bottom: 0.5em;}#sk-container-id-11 div.sk-estimator:hover {background-color: #d4ebff;}#sk-container-id-11 div.sk-parallel-item::after {content: \"\";width: 100%;border-bottom: 1px solid gray;flex-grow: 1;}#sk-container-id-11 div.sk-label:hover label.sk-toggleable__label {background-color: #d4ebff;}#sk-container-id-11 div.sk-serial::before {content: \"\";position: absolute;border-left: 1px solid gray;box-sizing: border-box;top: 0;bottom: 0;left: 50%;z-index: 0;}#sk-container-id-11 div.sk-serial {display: flex;flex-direction: column;align-items: center;background-color: white;padding-right: 0.2em;padding-left: 0.2em;position: relative;}#sk-container-id-11 div.sk-item {position: relative;z-index: 1;}#sk-container-id-11 div.sk-parallel {display: flex;align-items: stretch;justify-content: center;background-color: white;position: relative;}#sk-container-id-11 div.sk-item::before, #sk-container-id-11 div.sk-parallel-item::before {content: \"\";position: absolute;border-left: 1px solid gray;box-sizing: border-box;top: 0;bottom: 0;left: 50%;z-index: -1;}#sk-container-id-11 div.sk-parallel-item {display: flex;flex-direction: column;z-index: 1;position: relative;background-color: white;}#sk-container-id-11 div.sk-parallel-item:first-child::after {align-self: flex-end;width: 50%;}#sk-container-id-11 div.sk-parallel-item:last-child::after {align-self: flex-start;width: 50%;}#sk-container-id-11 div.sk-parallel-item:only-child::after {width: 0;}#sk-container-id-11 div.sk-dashed-wrapped {border: 1px dashed gray;margin: 0 0.4em 0.5em 0.4em;box-sizing: border-box;padding-bottom: 0.4em;background-color: white;}#sk-container-id-11 div.sk-label label {font-family: monospace;font-weight: bold;display: inline-block;line-height: 1.2em;}#sk-container-id-11 div.sk-label-container {text-align: center;}#sk-container-id-11 div.sk-container {/* jupyter's `normalize.less` sets `[hidden] { display: none; }` but bootstrap.min.css set `[hidden] { display: none !important; }` so we also need the `!important` here to be able to override the default hidden behavior on the sphinx rendered scikit-learn.org. See: https://github.com/scikit-learn/scikit-learn/issues/21755 */display: inline-block !important;position: relative;}#sk-container-id-11 div.sk-text-repr-fallback {display: none;}</style><div id=\"sk-container-id-11\" class=\"sk-top-container\"><div class=\"sk-text-repr-fallback\"><pre>PCA(n_components=2)</pre><b>In a Jupyter environment, please rerun this cell to show the HTML representation or trust the notebook. <br />On GitHub, the HTML representation is unable to render, please try loading this page with nbviewer.org.</b></div><div class=\"sk-container\" hidden><div class=\"sk-item\"><div class=\"sk-estimator sk-toggleable\"><input class=\"sk-toggleable__control sk-hidden--visually\" id=\"sk-estimator-id-11\" type=\"checkbox\" checked><label for=\"sk-estimator-id-11\" class=\"sk-toggleable__label sk-toggleable__label-arrow\">PCA</label><div class=\"sk-toggleable__content\"><pre>PCA(n_components=2)</pre></div></div></div></div></div>"
      ],
      "text/plain": [
       "PCA(n_components=2)"
      ]
     },
     "execution_count": 315,
     "metadata": {},
     "output_type": "execute_result"
    }
   ],
   "source": [
    "from sklearn.decomposition import PCA\n",
    "\n",
    "pca = PCA(n_components=len(features)-1)\n",
    "pca.fit(shaped_train[non_depth_class_cols])"
   ]
  },
  {
   "cell_type": "code",
   "execution_count": 316,
   "metadata": {},
   "outputs": [
    {
     "data": {
      "text/plain": [
       "array([[ 0.70710678, -0.70710678],\n",
       "       [ 0.70710678,  0.70710678]])"
      ]
     },
     "execution_count": 316,
     "metadata": {},
     "output_type": "execute_result"
    }
   ],
   "source": [
    "pca.components_"
   ]
  },
  {
   "cell_type": "code",
   "execution_count": 317,
   "metadata": {},
   "outputs": [
    {
     "data": {
      "text/plain": [
       "array([0.54558422, 0.45441578])"
      ]
     },
     "execution_count": 317,
     "metadata": {},
     "output_type": "execute_result"
    }
   ],
   "source": [
    "pca.explained_variance_ratio_"
   ]
  },
  {
   "cell_type": "code",
   "execution_count": 318,
   "metadata": {},
   "outputs": [],
   "source": [
    "to_keep = 2\n",
    "\n",
    "X_train = pca.transform(shaped_train[non_depth_class_cols])\n",
    "X_test = pca.transform(shaped_test[non_depth_class_cols])\n",
    "\n",
    "for i in range(to_keep):\n",
    "    train[f'_feature_{i}'] = X_train[:,i]\n",
    "    test[f'_feature_{i}'] = X_test[:,i]\n",
    "\n",
    "shaped_features = ['depth_class'] + [\n",
    "    f'_feature_{i}' for i in range(to_keep)\n",
    "]"
   ]
  },
  {
   "cell_type": "code",
   "execution_count": 319,
   "metadata": {},
   "outputs": [
    {
     "data": {
      "text/html": [
       "<div>\n",
       "<style scoped>\n",
       "    .dataframe tbody tr th:only-of-type {\n",
       "        vertical-align: middle;\n",
       "    }\n",
       "\n",
       "    .dataframe tbody tr th {\n",
       "        vertical-align: top;\n",
       "    }\n",
       "\n",
       "    .dataframe thead th {\n",
       "        text-align: right;\n",
       "    }\n",
       "</style>\n",
       "<table border=\"1\" class=\"dataframe\">\n",
       "  <thead>\n",
       "    <tr style=\"text-align: right;\">\n",
       "      <th></th>\n",
       "      <th>selected</th>\n",
       "      <th>_decision</th>\n",
       "      <th>_identifier</th>\n",
       "      <th>depth_class</th>\n",
       "      <th>month</th>\n",
       "      <th>daytime</th>\n",
       "      <th>interval</th>\n",
       "      <th>fold</th>\n",
       "      <th>_feature_0</th>\n",
       "      <th>_feature_1</th>\n",
       "    </tr>\n",
       "  </thead>\n",
       "  <tbody>\n",
       "    <tr>\n",
       "      <th>0</th>\n",
       "      <td>True</td>\n",
       "      <td>2</td>\n",
       "      <td>159014b</td>\n",
       "      <td>25</td>\n",
       "      <td>4</td>\n",
       "      <td>0.0</td>\n",
       "      <td>15</td>\n",
       "      <td>1</td>\n",
       "      <td>0.222337</td>\n",
       "      <td>-1.266764</td>\n",
       "    </tr>\n",
       "    <tr>\n",
       "      <th>1</th>\n",
       "      <td>False</td>\n",
       "      <td>2</td>\n",
       "      <td>159014b</td>\n",
       "      <td>50</td>\n",
       "      <td>4</td>\n",
       "      <td>0.0</td>\n",
       "      <td>15</td>\n",
       "      <td>1</td>\n",
       "      <td>0.222337</td>\n",
       "      <td>-1.266764</td>\n",
       "    </tr>\n",
       "    <tr>\n",
       "      <th>2</th>\n",
       "      <td>False</td>\n",
       "      <td>2</td>\n",
       "      <td>159014b</td>\n",
       "      <td>75</td>\n",
       "      <td>4</td>\n",
       "      <td>0.0</td>\n",
       "      <td>15</td>\n",
       "      <td>1</td>\n",
       "      <td>0.222337</td>\n",
       "      <td>-1.266764</td>\n",
       "    </tr>\n",
       "    <tr>\n",
       "      <th>3</th>\n",
       "      <td>False</td>\n",
       "      <td>2</td>\n",
       "      <td>159014b</td>\n",
       "      <td>100</td>\n",
       "      <td>4</td>\n",
       "      <td>0.0</td>\n",
       "      <td>15</td>\n",
       "      <td>1</td>\n",
       "      <td>0.222337</td>\n",
       "      <td>-1.266764</td>\n",
       "    </tr>\n",
       "    <tr>\n",
       "      <th>4</th>\n",
       "      <td>False</td>\n",
       "      <td>2</td>\n",
       "      <td>159014b</td>\n",
       "      <td>150</td>\n",
       "      <td>4</td>\n",
       "      <td>0.0</td>\n",
       "      <td>15</td>\n",
       "      <td>1</td>\n",
       "      <td>0.222337</td>\n",
       "      <td>-1.266764</td>\n",
       "    </tr>\n",
       "    <tr>\n",
       "      <th>...</th>\n",
       "      <td>...</td>\n",
       "      <td>...</td>\n",
       "      <td>...</td>\n",
       "      <td>...</td>\n",
       "      <td>...</td>\n",
       "      <td>...</td>\n",
       "      <td>...</td>\n",
       "      <td>...</td>\n",
       "      <td>...</td>\n",
       "      <td>...</td>\n",
       "    </tr>\n",
       "    <tr>\n",
       "      <th>564835</th>\n",
       "      <td>False</td>\n",
       "      <td>99847</td>\n",
       "      <td>205398</td>\n",
       "      <td>200</td>\n",
       "      <td>10</td>\n",
       "      <td>0.0</td>\n",
       "      <td>10</td>\n",
       "      <td>2</td>\n",
       "      <td>1.736296</td>\n",
       "      <td>0.247194</td>\n",
       "    </tr>\n",
       "    <tr>\n",
       "      <th>564836</th>\n",
       "      <td>False</td>\n",
       "      <td>99847</td>\n",
       "      <td>205398</td>\n",
       "      <td>250</td>\n",
       "      <td>10</td>\n",
       "      <td>0.0</td>\n",
       "      <td>10</td>\n",
       "      <td>2</td>\n",
       "      <td>1.736296</td>\n",
       "      <td>0.247194</td>\n",
       "    </tr>\n",
       "    <tr>\n",
       "      <th>564837</th>\n",
       "      <td>False</td>\n",
       "      <td>99847</td>\n",
       "      <td>205398</td>\n",
       "      <td>300</td>\n",
       "      <td>10</td>\n",
       "      <td>0.0</td>\n",
       "      <td>10</td>\n",
       "      <td>2</td>\n",
       "      <td>1.736296</td>\n",
       "      <td>0.247194</td>\n",
       "    </tr>\n",
       "    <tr>\n",
       "      <th>564838</th>\n",
       "      <td>False</td>\n",
       "      <td>99847</td>\n",
       "      <td>205398</td>\n",
       "      <td>400</td>\n",
       "      <td>10</td>\n",
       "      <td>0.0</td>\n",
       "      <td>10</td>\n",
       "      <td>2</td>\n",
       "      <td>1.736296</td>\n",
       "      <td>0.247194</td>\n",
       "    </tr>\n",
       "    <tr>\n",
       "      <th>564839</th>\n",
       "      <td>False</td>\n",
       "      <td>99847</td>\n",
       "      <td>205398</td>\n",
       "      <td>500</td>\n",
       "      <td>10</td>\n",
       "      <td>0.0</td>\n",
       "      <td>10</td>\n",
       "      <td>2</td>\n",
       "      <td>1.736296</td>\n",
       "      <td>0.247194</td>\n",
       "    </tr>\n",
       "  </tbody>\n",
       "</table>\n",
       "<p>564840 rows × 10 columns</p>\n",
       "</div>"
      ],
      "text/plain": [
       "        selected  _decision _identifier  depth_class  month  daytime  \\\n",
       "0           True          2     159014b           25      4      0.0   \n",
       "1          False          2     159014b           50      4      0.0   \n",
       "2          False          2     159014b           75      4      0.0   \n",
       "3          False          2     159014b          100      4      0.0   \n",
       "4          False          2     159014b          150      4      0.0   \n",
       "...          ...        ...         ...          ...    ...      ...   \n",
       "564835     False      99847      205398          200     10      0.0   \n",
       "564836     False      99847      205398          250     10      0.0   \n",
       "564837     False      99847      205398          300     10      0.0   \n",
       "564838     False      99847      205398          400     10      0.0   \n",
       "564839     False      99847      205398          500     10      0.0   \n",
       "\n",
       "        interval  fold  _feature_0  _feature_1  \n",
       "0             15     1    0.222337   -1.266764  \n",
       "1             15     1    0.222337   -1.266764  \n",
       "2             15     1    0.222337   -1.266764  \n",
       "3             15     1    0.222337   -1.266764  \n",
       "4             15     1    0.222337   -1.266764  \n",
       "...          ...   ...         ...         ...  \n",
       "564835        10     2    1.736296    0.247194  \n",
       "564836        10     2    1.736296    0.247194  \n",
       "564837        10     2    1.736296    0.247194  \n",
       "564838        10     2    1.736296    0.247194  \n",
       "564839        10     2    1.736296    0.247194  \n",
       "\n",
       "[564840 rows x 10 columns]"
      ]
     },
     "execution_count": 319,
     "metadata": {},
     "output_type": "execute_result"
    }
   ],
   "source": [
    "train"
   ]
  },
  {
   "cell_type": "code",
   "execution_count": 320,
   "metadata": {},
   "outputs": [],
   "source": [
    "from collections import defaultdict\n",
    "\n",
    "import numpy as np\n",
    "from tqdm import tqdm\n",
    "\n",
    "\n",
    "def get_proposed_utility(dataframe, learning_rate=None):\n",
    "    \"\"\"\n",
    "    Inputs:\n",
    "    - dataframe (pd.DataFrame): a dataframe with columns \"utility\",\n",
    "        \"selected\", and \"_decision\"\n",
    "    - learning_rate (float): maximum abs score\n",
    "\n",
    "    Returns a pd.DataFrame with proposed utility values\n",
    "    \"\"\"\n",
    "    dataframe[\"sum_utility\"] = dataframe.groupby(\"_decision\")[\"utility\"].transform(\n",
    "        \"sum\"\n",
    "    )\n",
    "    dataframe[\"probability\"] = dataframe[\"utility\"] / dataframe[\"sum_utility\"]\n",
    "    dataframe[\"score\"] = dataframe[\"selected\"] - dataframe[\"probability\"]\n",
    "    if learning_rate:\n",
    "        factor = np.abs(learning_rate / dataframe[\"score\"].min())\n",
    "        dataframe[\"score\"] = dataframe[\"score\"] * factor\n",
    "    dataframe[\"proposed\"] = dataframe[\"utility\"] * (1 + dataframe[\"score\"])\n",
    "    return dataframe\n",
    "\n",
    "def get_central_likelihood(dataframe):\n",
    "    return np.exp(np.mean(np.log(dataframe[dataframe['selected']]['probability'])))\n",
    "\n",
    "def train_utility_model(\n",
    "    model, dataframe, dataframe_test, feature_columns, N=1, learning_rate=None\n",
    "):\n",
    "    \"\"\"\n",
    "    Inputs:\n",
    "    - model: a model object with a \"fit\" method and a \"predict\" method\n",
    "    - dataframe (pd.DataFrame): a dataframe with both feature columns\n",
    "        and \"selected\" and \"_decision\" columns\n",
    "    - feature_columns (list): a list of column names to use as features\n",
    "    - N (int): the number of iterations to train the model\n",
    "    - learning_rate (float): maximum abs score\n",
    "\n",
    "    Returns a trained model\n",
    "    \"\"\"\n",
    "    assert \"selected\" not in feature_columns\n",
    "    assert \"_decision\" not in feature_columns\n",
    "\n",
    "    folds = set(dataframe['fold'].unique())\n",
    "    fold_sets = []\n",
    "    for fold in folds:\n",
    "        fold_sets.append(\n",
    "            (fold, folds - set([fold]))\n",
    "        )\n",
    "\n",
    "    diagnostics = []\n",
    "    dataframe[\"proposed\"] = 1.0\n",
    "    for i in tqdm(range(N)):\n",
    "        for fold, fold_set in fold_sets:\n",
    "            train = dataframe[dataframe['fold'].isin(fold_set)]\n",
    "\n",
    "            model.fit(train[feature_columns], train[\"proposed\"])\n",
    "\n",
    "            dataframe['utility'] = model.predict(dataframe[feature_columns])\n",
    "            dataframe_test['utility'] = model.predict(dataframe_test[feature_columns])\n",
    "            dataframe = get_proposed_utility(dataframe, learning_rate=learning_rate)\n",
    "            dataframe_test = get_proposed_utility(dataframe_test, learning_rate=learning_rate)\n",
    "            diagnostics.append({\n",
    "                \"iteration\": i,\n",
    "                \"fold\": fold,\n",
    "                \"case\": \"validate\",\n",
    "                \"central_likelihood\": get_central_likelihood(dataframe[dataframe['fold'] == fold])\n",
    "            })\n",
    "            diagnostics.append({\n",
    "                \"iteration\": i,\n",
    "                \"fold\": fold,\n",
    "                \"case\": \"train\",\n",
    "                \"central_likelihood\": get_central_likelihood(dataframe[dataframe['fold'].isin(fold_set)])\n",
    "            })\n",
    "            diagnostics.append({\n",
    "                \"iteration\": i,\n",
    "                \"fold\": fold,\n",
    "                \"case\": \"test\",\n",
    "                \"central_likelihood\": get_central_likelihood(dataframe_test)\n",
    "            })\n",
    "\n",
    "    model.fit(dataframe[feature_columns], dataframe['proposed'])\n",
    "    dataframe = get_proposed_utility(dataframe, learning_rate=learning_rate)\n",
    "\n",
    "    return model, pd.DataFrame(diagnostics)\n",
    "   "
   ]
  },
  {
   "cell_type": "code",
   "execution_count": 321,
   "metadata": {},
   "outputs": [
    {
     "name": "stderr",
     "output_type": "stream",
     "text": [
      "100%|██████████| 10/10 [00:26<00:00,  2.63s/it]\n",
      "100%|██████████| 10/10 [00:26<00:00,  2.70s/it]\n",
      "100%|██████████| 10/10 [00:27<00:00,  2.80s/it]\n",
      "100%|██████████| 10/10 [00:36<00:00,  3.61s/it]\n",
      "100%|██████████| 10/10 [00:36<00:00,  3.66s/it]\n"
     ]
    }
   ],
   "source": [
    "from sklearn.ensemble import RandomForestRegressor\n",
    "\n",
    "def grid_search(\n",
    "        param_grids, M, model_class, dataframe, dataframe_test, feature_columns, N=1, learning_rate=None, max_attempts = 100\n",
    "):\n",
    "    param_sets = []\n",
    "    attempts = 0\n",
    "    while len(param_sets) < M:\n",
    "        assert attempts < max_attempts\n",
    "\n",
    "        param_set = {}\n",
    "        for param, grid in param_grids.items():\n",
    "            param_set[param] = np.random.choice(grid)\n",
    "        if param_set in param_sets:\n",
    "            attempts += 1\n",
    "        else:\n",
    "            attempts = 0\n",
    "            param_sets.append(param_set)\n",
    "\n",
    "    diagnostics_dfs = []\n",
    "    for i, param_set in enumerate(param_sets):\n",
    "        model = model_class(**param_set)\n",
    "        model, diagnostics_df = train_utility_model(\n",
    "            model, dataframe, dataframe_test, feature_columns, N, learning_rate\n",
    "        )\n",
    "        for param, val in param_set.items():\n",
    "            diagnostics_df[param] = val\n",
    "        diagnostics_df['_param_set'] = i\n",
    "        diagnostics_dfs.append(diagnostics_df)\n",
    "\n",
    "    return param_sets, pd.concat(diagnostics_dfs)\n",
    "\n",
    "param_sets, diagnostics = grid_search(\n",
    "    {\n",
    "        # basic settings\n",
    "        \"bootstrap\": [True],\n",
    "        \"n_jobs\": [(os.cpu_count() - 2)],\n",
    "        \"max_samples\": [int(train.shape[0] / 2)],\n",
    "        # hyper parameters\n",
    "        \"n_estimators\": [25, 50],\n",
    "        \"min_weight_fraction_leaf\": [1e-04, 2e-04, 1e-05, 2e-05, 1e-06],\n",
    "        \"max_features\": [1, 2, 3]\n",
    "    },\n",
    "    5,\n",
    "    RandomForestRegressor,\n",
    "    train,\n",
    "    test,\n",
    "    shaped_features,\n",
    "    10,\n",
    "    learning_rate=31 / 32,\n",
    ")"
   ]
  },
  {
   "cell_type": "code",
   "execution_count": 322,
   "metadata": {},
   "outputs": [
    {
     "data": {
      "text/html": [
       "<div>\n",
       "<style scoped>\n",
       "    .dataframe tbody tr th:only-of-type {\n",
       "        vertical-align: middle;\n",
       "    }\n",
       "\n",
       "    .dataframe tbody tr th {\n",
       "        vertical-align: top;\n",
       "    }\n",
       "\n",
       "    .dataframe thead th {\n",
       "        text-align: right;\n",
       "    }\n",
       "</style>\n",
       "<table border=\"1\" class=\"dataframe\">\n",
       "  <thead>\n",
       "    <tr style=\"text-align: right;\">\n",
       "      <th></th>\n",
       "      <th></th>\n",
       "      <th>central_likelihood</th>\n",
       "    </tr>\n",
       "    <tr>\n",
       "      <th>case</th>\n",
       "      <th>_param_set</th>\n",
       "      <th></th>\n",
       "    </tr>\n",
       "  </thead>\n",
       "  <tbody>\n",
       "    <tr>\n",
       "      <th rowspan=\"5\" valign=\"top\">test</th>\n",
       "      <th>0</th>\n",
       "      <td>0.236293</td>\n",
       "    </tr>\n",
       "    <tr>\n",
       "      <th>1</th>\n",
       "      <td>0.236276</td>\n",
       "    </tr>\n",
       "    <tr>\n",
       "      <th>2</th>\n",
       "      <td>0.236313</td>\n",
       "    </tr>\n",
       "    <tr>\n",
       "      <th>3</th>\n",
       "      <td>0.236267</td>\n",
       "    </tr>\n",
       "    <tr>\n",
       "      <th>4</th>\n",
       "      <td>0.236291</td>\n",
       "    </tr>\n",
       "    <tr>\n",
       "      <th rowspan=\"5\" valign=\"top\">train</th>\n",
       "      <th>0</th>\n",
       "      <td>0.245611</td>\n",
       "    </tr>\n",
       "    <tr>\n",
       "      <th>1</th>\n",
       "      <td>0.245617</td>\n",
       "    </tr>\n",
       "    <tr>\n",
       "      <th>2</th>\n",
       "      <td>0.245610</td>\n",
       "    </tr>\n",
       "    <tr>\n",
       "      <th>3</th>\n",
       "      <td>0.245610</td>\n",
       "    </tr>\n",
       "    <tr>\n",
       "      <th>4</th>\n",
       "      <td>0.245598</td>\n",
       "    </tr>\n",
       "    <tr>\n",
       "      <th rowspan=\"5\" valign=\"top\">validate</th>\n",
       "      <th>0</th>\n",
       "      <td>0.242079</td>\n",
       "    </tr>\n",
       "    <tr>\n",
       "      <th>1</th>\n",
       "      <td>0.242089</td>\n",
       "    </tr>\n",
       "    <tr>\n",
       "      <th>2</th>\n",
       "      <td>0.242085</td>\n",
       "    </tr>\n",
       "    <tr>\n",
       "      <th>3</th>\n",
       "      <td>0.242070</td>\n",
       "    </tr>\n",
       "    <tr>\n",
       "      <th>4</th>\n",
       "      <td>0.242096</td>\n",
       "    </tr>\n",
       "  </tbody>\n",
       "</table>\n",
       "</div>"
      ],
      "text/plain": [
       "                     central_likelihood\n",
       "case     _param_set                    \n",
       "test     0                     0.236293\n",
       "         1                     0.236276\n",
       "         2                     0.236313\n",
       "         3                     0.236267\n",
       "         4                     0.236291\n",
       "train    0                     0.245611\n",
       "         1                     0.245617\n",
       "         2                     0.245610\n",
       "         3                     0.245610\n",
       "         4                     0.245598\n",
       "validate 0                     0.242079\n",
       "         1                     0.242089\n",
       "         2                     0.242085\n",
       "         3                     0.242070\n",
       "         4                     0.242096"
      ]
     },
     "execution_count": 322,
     "metadata": {},
     "output_type": "execute_result"
    }
   ],
   "source": [
    "summary = diagnostics[diagnostics['iteration'] == 9].groupby(['case', '_param_set'])[['central_likelihood']].mean()\n",
    "summary"
   ]
  },
  {
   "cell_type": "code",
   "execution_count": 323,
   "metadata": {},
   "outputs": [
    {
     "data": {
      "text/plain": [
       "{'bootstrap': True,\n",
       " 'n_jobs': 6,\n",
       " 'max_samples': 282420,\n",
       " 'n_estimators': 25,\n",
       " 'min_weight_fraction_leaf': 1e-06,\n",
       " 'max_features': 2}"
      ]
     },
     "execution_count": 323,
     "metadata": {},
     "output_type": "execute_result"
    }
   ],
   "source": [
    "df = summary.reset_index()\n",
    "best_param_set = df[df['case'] == 'validate'].sort_values('central_likelihood', ascending=False)['_param_set'].values[0]\n",
    "params = param_sets[best_param_set]\n",
    "params"
   ]
  },
  {
   "cell_type": "code",
   "execution_count": 324,
   "metadata": {},
   "outputs": [
    {
     "data": {
      "application/vnd.plotly.v1+json": {
       "config": {
        "plotlyServerURL": "https://plot.ly"
       },
       "data": [
        {
         "hovertemplate": "case=validate<br>iteration=%{x}<br>central_likelihood=%{y}<extra></extra>",
         "legendgroup": "validate",
         "marker": {
          "color": "#636efa",
          "symbol": "circle"
         },
         "mode": "markers",
         "name": "validate",
         "orientation": "v",
         "showlegend": true,
         "type": "scatter",
         "x": [
          0,
          0,
          0,
          0,
          1,
          1,
          1,
          1,
          2,
          2,
          2,
          2,
          3,
          3,
          3,
          3,
          4,
          4,
          4,
          4,
          5,
          5,
          5,
          5,
          6,
          6,
          6,
          6,
          7,
          7,
          7,
          7,
          8,
          8,
          8,
          8,
          9,
          9,
          9,
          9
         ],
         "xaxis": "x",
         "y": [
          0.10000000000000002,
          0.2235886431973387,
          0.2964179645558424,
          0.20046938661937516,
          0.23252717067976253,
          0.23764573617796736,
          0.29595054999088,
          0.19795254904553428,
          0.23205563343265864,
          0.2415797769180536,
          0.2954390352492707,
          0.1968978131608185,
          0.23207513437814586,
          0.24297075593132003,
          0.29497477997320454,
          0.19656548931368834,
          0.2322212563478785,
          0.243617618800906,
          0.2947879023820047,
          0.19647066523237794,
          0.23231129126888458,
          0.24399131756251022,
          0.29457993547117234,
          0.19638418507012356,
          0.23240637571184575,
          0.24434940760852347,
          0.294640785272424,
          0.19629944983720293,
          0.23244824606649503,
          0.2445034206155427,
          0.2945660722750663,
          0.19622357112932656,
          0.23251998051554207,
          0.24473578677333163,
          0.29462483684717633,
          0.19622738562135636,
          0.2325772094312129,
          0.24492633341170375,
          0.294707049350032,
          0.19617361584851226
         ],
         "yaxis": "y"
        },
        {
         "hovertemplate": "case=train<br>iteration=%{x}<br>central_likelihood=%{y}<extra></extra>",
         "legendgroup": "train",
         "marker": {
          "color": "#EF553B",
          "symbol": "circle"
         },
         "mode": "markers",
         "name": "train",
         "orientation": "v",
         "showlegend": true,
         "type": "scatter",
         "x": [
          0,
          0,
          0,
          0,
          1,
          1,
          1,
          1,
          2,
          2,
          2,
          2,
          3,
          3,
          3,
          3,
          4,
          4,
          4,
          4,
          5,
          5,
          5,
          5,
          6,
          6,
          6,
          6,
          7,
          7,
          7,
          7,
          8,
          8,
          8,
          8,
          9,
          9,
          9,
          9
         ],
         "xaxis": "x",
         "y": [
          0.09999999999999998,
          0.2461469049733894,
          0.225551020580127,
          0.2550146299603798,
          0.24852719095721745,
          0.24537686743139242,
          0.22799708320870593,
          0.25689859142554844,
          0.2493349871565603,
          0.2448339175931959,
          0.22864226535502621,
          0.257481407565899,
          0.24953098278375385,
          0.2446493426676657,
          0.22895587089847125,
          0.25773829350981603,
          0.24961321980834847,
          0.2445907240040311,
          0.22913837140824292,
          0.25788597865068685,
          0.2496943348529235,
          0.24457664991429312,
          0.22927215275230936,
          0.25800093764556326,
          0.24974713541615717,
          0.24455850452574468,
          0.22935772415504724,
          0.25811258281381855,
          0.24981380938714864,
          0.24457894335266672,
          0.2294478114899892,
          0.2582020031429751,
          0.24985706928303417,
          0.24457842291597098,
          0.22950401626643901,
          0.2582736806207747,
          0.2499041450140198,
          0.24458311901632498,
          0.22955471775406477,
          0.25835185558675533
         ],
         "yaxis": "y"
        },
        {
         "hovertemplate": "case=test<br>iteration=%{x}<br>central_likelihood=%{y}<extra></extra>",
         "legendgroup": "test",
         "marker": {
          "color": "#00cc96",
          "symbol": "circle"
         },
         "mode": "markers",
         "name": "test",
         "orientation": "v",
         "showlegend": true,
         "type": "scatter",
         "x": [
          0,
          0,
          0,
          0,
          1,
          1,
          1,
          1,
          2,
          2,
          2,
          2,
          3,
          3,
          3,
          3,
          4,
          4,
          4,
          4,
          5,
          5,
          5,
          5,
          6,
          6,
          6,
          6,
          7,
          7,
          7,
          7,
          8,
          8,
          8,
          8,
          9,
          9,
          9,
          9
         ],
         "xaxis": "x",
         "y": [
          0.10000000000000002,
          0.22514785143822239,
          0.2288292185416666,
          0.23270079090848222,
          0.23380706020111552,
          0.23232953947574547,
          0.2333353909324967,
          0.23531444614287075,
          0.23544211448444635,
          0.2340183702889196,
          0.23446117693284338,
          0.2360777367750066,
          0.23603734862412065,
          0.23466610909364724,
          0.23499330934806759,
          0.23642670271062577,
          0.23636472341414294,
          0.2349306684586946,
          0.23528237885530817,
          0.2366488737659896,
          0.23647770802153079,
          0.23503419224607588,
          0.23534692683509595,
          0.23680289586230896,
          0.23666159207460793,
          0.2352756107650217,
          0.23551109144926347,
          0.236857507896971,
          0.2366243205965117,
          0.2352859580559177,
          0.23556312533725346,
          0.2369524296153055,
          0.23677692689133145,
          0.23537857701995873,
          0.23568160287066178,
          0.2370137761826584,
          0.23691896415878977,
          0.23550842570490535,
          0.23569824312670173,
          0.23703759668410118
         ],
         "yaxis": "y"
        }
       ],
       "layout": {
        "legend": {
         "title": {
          "text": "case"
         },
         "tracegroupgap": 0
        },
        "margin": {
         "t": 60
        },
        "template": {
         "data": {
          "bar": [
           {
            "error_x": {
             "color": "#2a3f5f"
            },
            "error_y": {
             "color": "#2a3f5f"
            },
            "marker": {
             "line": {
              "color": "#E5ECF6",
              "width": 0.5
             },
             "pattern": {
              "fillmode": "overlay",
              "size": 10,
              "solidity": 0.2
             }
            },
            "type": "bar"
           }
          ],
          "barpolar": [
           {
            "marker": {
             "line": {
              "color": "#E5ECF6",
              "width": 0.5
             },
             "pattern": {
              "fillmode": "overlay",
              "size": 10,
              "solidity": 0.2
             }
            },
            "type": "barpolar"
           }
          ],
          "carpet": [
           {
            "aaxis": {
             "endlinecolor": "#2a3f5f",
             "gridcolor": "white",
             "linecolor": "white",
             "minorgridcolor": "white",
             "startlinecolor": "#2a3f5f"
            },
            "baxis": {
             "endlinecolor": "#2a3f5f",
             "gridcolor": "white",
             "linecolor": "white",
             "minorgridcolor": "white",
             "startlinecolor": "#2a3f5f"
            },
            "type": "carpet"
           }
          ],
          "choropleth": [
           {
            "colorbar": {
             "outlinewidth": 0,
             "ticks": ""
            },
            "type": "choropleth"
           }
          ],
          "contour": [
           {
            "colorbar": {
             "outlinewidth": 0,
             "ticks": ""
            },
            "colorscale": [
             [
              0,
              "#0d0887"
             ],
             [
              0.1111111111111111,
              "#46039f"
             ],
             [
              0.2222222222222222,
              "#7201a8"
             ],
             [
              0.3333333333333333,
              "#9c179e"
             ],
             [
              0.4444444444444444,
              "#bd3786"
             ],
             [
              0.5555555555555556,
              "#d8576b"
             ],
             [
              0.6666666666666666,
              "#ed7953"
             ],
             [
              0.7777777777777778,
              "#fb9f3a"
             ],
             [
              0.8888888888888888,
              "#fdca26"
             ],
             [
              1,
              "#f0f921"
             ]
            ],
            "type": "contour"
           }
          ],
          "contourcarpet": [
           {
            "colorbar": {
             "outlinewidth": 0,
             "ticks": ""
            },
            "type": "contourcarpet"
           }
          ],
          "heatmap": [
           {
            "colorbar": {
             "outlinewidth": 0,
             "ticks": ""
            },
            "colorscale": [
             [
              0,
              "#0d0887"
             ],
             [
              0.1111111111111111,
              "#46039f"
             ],
             [
              0.2222222222222222,
              "#7201a8"
             ],
             [
              0.3333333333333333,
              "#9c179e"
             ],
             [
              0.4444444444444444,
              "#bd3786"
             ],
             [
              0.5555555555555556,
              "#d8576b"
             ],
             [
              0.6666666666666666,
              "#ed7953"
             ],
             [
              0.7777777777777778,
              "#fb9f3a"
             ],
             [
              0.8888888888888888,
              "#fdca26"
             ],
             [
              1,
              "#f0f921"
             ]
            ],
            "type": "heatmap"
           }
          ],
          "heatmapgl": [
           {
            "colorbar": {
             "outlinewidth": 0,
             "ticks": ""
            },
            "colorscale": [
             [
              0,
              "#0d0887"
             ],
             [
              0.1111111111111111,
              "#46039f"
             ],
             [
              0.2222222222222222,
              "#7201a8"
             ],
             [
              0.3333333333333333,
              "#9c179e"
             ],
             [
              0.4444444444444444,
              "#bd3786"
             ],
             [
              0.5555555555555556,
              "#d8576b"
             ],
             [
              0.6666666666666666,
              "#ed7953"
             ],
             [
              0.7777777777777778,
              "#fb9f3a"
             ],
             [
              0.8888888888888888,
              "#fdca26"
             ],
             [
              1,
              "#f0f921"
             ]
            ],
            "type": "heatmapgl"
           }
          ],
          "histogram": [
           {
            "marker": {
             "pattern": {
              "fillmode": "overlay",
              "size": 10,
              "solidity": 0.2
             }
            },
            "type": "histogram"
           }
          ],
          "histogram2d": [
           {
            "colorbar": {
             "outlinewidth": 0,
             "ticks": ""
            },
            "colorscale": [
             [
              0,
              "#0d0887"
             ],
             [
              0.1111111111111111,
              "#46039f"
             ],
             [
              0.2222222222222222,
              "#7201a8"
             ],
             [
              0.3333333333333333,
              "#9c179e"
             ],
             [
              0.4444444444444444,
              "#bd3786"
             ],
             [
              0.5555555555555556,
              "#d8576b"
             ],
             [
              0.6666666666666666,
              "#ed7953"
             ],
             [
              0.7777777777777778,
              "#fb9f3a"
             ],
             [
              0.8888888888888888,
              "#fdca26"
             ],
             [
              1,
              "#f0f921"
             ]
            ],
            "type": "histogram2d"
           }
          ],
          "histogram2dcontour": [
           {
            "colorbar": {
             "outlinewidth": 0,
             "ticks": ""
            },
            "colorscale": [
             [
              0,
              "#0d0887"
             ],
             [
              0.1111111111111111,
              "#46039f"
             ],
             [
              0.2222222222222222,
              "#7201a8"
             ],
             [
              0.3333333333333333,
              "#9c179e"
             ],
             [
              0.4444444444444444,
              "#bd3786"
             ],
             [
              0.5555555555555556,
              "#d8576b"
             ],
             [
              0.6666666666666666,
              "#ed7953"
             ],
             [
              0.7777777777777778,
              "#fb9f3a"
             ],
             [
              0.8888888888888888,
              "#fdca26"
             ],
             [
              1,
              "#f0f921"
             ]
            ],
            "type": "histogram2dcontour"
           }
          ],
          "mesh3d": [
           {
            "colorbar": {
             "outlinewidth": 0,
             "ticks": ""
            },
            "type": "mesh3d"
           }
          ],
          "parcoords": [
           {
            "line": {
             "colorbar": {
              "outlinewidth": 0,
              "ticks": ""
             }
            },
            "type": "parcoords"
           }
          ],
          "pie": [
           {
            "automargin": true,
            "type": "pie"
           }
          ],
          "scatter": [
           {
            "fillpattern": {
             "fillmode": "overlay",
             "size": 10,
             "solidity": 0.2
            },
            "type": "scatter"
           }
          ],
          "scatter3d": [
           {
            "line": {
             "colorbar": {
              "outlinewidth": 0,
              "ticks": ""
             }
            },
            "marker": {
             "colorbar": {
              "outlinewidth": 0,
              "ticks": ""
             }
            },
            "type": "scatter3d"
           }
          ],
          "scattercarpet": [
           {
            "marker": {
             "colorbar": {
              "outlinewidth": 0,
              "ticks": ""
             }
            },
            "type": "scattercarpet"
           }
          ],
          "scattergeo": [
           {
            "marker": {
             "colorbar": {
              "outlinewidth": 0,
              "ticks": ""
             }
            },
            "type": "scattergeo"
           }
          ],
          "scattergl": [
           {
            "marker": {
             "colorbar": {
              "outlinewidth": 0,
              "ticks": ""
             }
            },
            "type": "scattergl"
           }
          ],
          "scattermapbox": [
           {
            "marker": {
             "colorbar": {
              "outlinewidth": 0,
              "ticks": ""
             }
            },
            "type": "scattermapbox"
           }
          ],
          "scatterpolar": [
           {
            "marker": {
             "colorbar": {
              "outlinewidth": 0,
              "ticks": ""
             }
            },
            "type": "scatterpolar"
           }
          ],
          "scatterpolargl": [
           {
            "marker": {
             "colorbar": {
              "outlinewidth": 0,
              "ticks": ""
             }
            },
            "type": "scatterpolargl"
           }
          ],
          "scatterternary": [
           {
            "marker": {
             "colorbar": {
              "outlinewidth": 0,
              "ticks": ""
             }
            },
            "type": "scatterternary"
           }
          ],
          "surface": [
           {
            "colorbar": {
             "outlinewidth": 0,
             "ticks": ""
            },
            "colorscale": [
             [
              0,
              "#0d0887"
             ],
             [
              0.1111111111111111,
              "#46039f"
             ],
             [
              0.2222222222222222,
              "#7201a8"
             ],
             [
              0.3333333333333333,
              "#9c179e"
             ],
             [
              0.4444444444444444,
              "#bd3786"
             ],
             [
              0.5555555555555556,
              "#d8576b"
             ],
             [
              0.6666666666666666,
              "#ed7953"
             ],
             [
              0.7777777777777778,
              "#fb9f3a"
             ],
             [
              0.8888888888888888,
              "#fdca26"
             ],
             [
              1,
              "#f0f921"
             ]
            ],
            "type": "surface"
           }
          ],
          "table": [
           {
            "cells": {
             "fill": {
              "color": "#EBF0F8"
             },
             "line": {
              "color": "white"
             }
            },
            "header": {
             "fill": {
              "color": "#C8D4E3"
             },
             "line": {
              "color": "white"
             }
            },
            "type": "table"
           }
          ]
         },
         "layout": {
          "annotationdefaults": {
           "arrowcolor": "#2a3f5f",
           "arrowhead": 0,
           "arrowwidth": 1
          },
          "autotypenumbers": "strict",
          "coloraxis": {
           "colorbar": {
            "outlinewidth": 0,
            "ticks": ""
           }
          },
          "colorscale": {
           "diverging": [
            [
             0,
             "#8e0152"
            ],
            [
             0.1,
             "#c51b7d"
            ],
            [
             0.2,
             "#de77ae"
            ],
            [
             0.3,
             "#f1b6da"
            ],
            [
             0.4,
             "#fde0ef"
            ],
            [
             0.5,
             "#f7f7f7"
            ],
            [
             0.6,
             "#e6f5d0"
            ],
            [
             0.7,
             "#b8e186"
            ],
            [
             0.8,
             "#7fbc41"
            ],
            [
             0.9,
             "#4d9221"
            ],
            [
             1,
             "#276419"
            ]
           ],
           "sequential": [
            [
             0,
             "#0d0887"
            ],
            [
             0.1111111111111111,
             "#46039f"
            ],
            [
             0.2222222222222222,
             "#7201a8"
            ],
            [
             0.3333333333333333,
             "#9c179e"
            ],
            [
             0.4444444444444444,
             "#bd3786"
            ],
            [
             0.5555555555555556,
             "#d8576b"
            ],
            [
             0.6666666666666666,
             "#ed7953"
            ],
            [
             0.7777777777777778,
             "#fb9f3a"
            ],
            [
             0.8888888888888888,
             "#fdca26"
            ],
            [
             1,
             "#f0f921"
            ]
           ],
           "sequentialminus": [
            [
             0,
             "#0d0887"
            ],
            [
             0.1111111111111111,
             "#46039f"
            ],
            [
             0.2222222222222222,
             "#7201a8"
            ],
            [
             0.3333333333333333,
             "#9c179e"
            ],
            [
             0.4444444444444444,
             "#bd3786"
            ],
            [
             0.5555555555555556,
             "#d8576b"
            ],
            [
             0.6666666666666666,
             "#ed7953"
            ],
            [
             0.7777777777777778,
             "#fb9f3a"
            ],
            [
             0.8888888888888888,
             "#fdca26"
            ],
            [
             1,
             "#f0f921"
            ]
           ]
          },
          "colorway": [
           "#636efa",
           "#EF553B",
           "#00cc96",
           "#ab63fa",
           "#FFA15A",
           "#19d3f3",
           "#FF6692",
           "#B6E880",
           "#FF97FF",
           "#FECB52"
          ],
          "font": {
           "color": "#2a3f5f"
          },
          "geo": {
           "bgcolor": "white",
           "lakecolor": "white",
           "landcolor": "#E5ECF6",
           "showlakes": true,
           "showland": true,
           "subunitcolor": "white"
          },
          "hoverlabel": {
           "align": "left"
          },
          "hovermode": "closest",
          "mapbox": {
           "style": "light"
          },
          "paper_bgcolor": "white",
          "plot_bgcolor": "#E5ECF6",
          "polar": {
           "angularaxis": {
            "gridcolor": "white",
            "linecolor": "white",
            "ticks": ""
           },
           "bgcolor": "#E5ECF6",
           "radialaxis": {
            "gridcolor": "white",
            "linecolor": "white",
            "ticks": ""
           }
          },
          "scene": {
           "xaxis": {
            "backgroundcolor": "#E5ECF6",
            "gridcolor": "white",
            "gridwidth": 2,
            "linecolor": "white",
            "showbackground": true,
            "ticks": "",
            "zerolinecolor": "white"
           },
           "yaxis": {
            "backgroundcolor": "#E5ECF6",
            "gridcolor": "white",
            "gridwidth": 2,
            "linecolor": "white",
            "showbackground": true,
            "ticks": "",
            "zerolinecolor": "white"
           },
           "zaxis": {
            "backgroundcolor": "#E5ECF6",
            "gridcolor": "white",
            "gridwidth": 2,
            "linecolor": "white",
            "showbackground": true,
            "ticks": "",
            "zerolinecolor": "white"
           }
          },
          "shapedefaults": {
           "line": {
            "color": "#2a3f5f"
           }
          },
          "ternary": {
           "aaxis": {
            "gridcolor": "white",
            "linecolor": "white",
            "ticks": ""
           },
           "baxis": {
            "gridcolor": "white",
            "linecolor": "white",
            "ticks": ""
           },
           "bgcolor": "#E5ECF6",
           "caxis": {
            "gridcolor": "white",
            "linecolor": "white",
            "ticks": ""
           }
          },
          "title": {
           "x": 0.05
          },
          "xaxis": {
           "automargin": true,
           "gridcolor": "white",
           "linecolor": "white",
           "ticks": "",
           "title": {
            "standoff": 15
           },
           "zerolinecolor": "white",
           "zerolinewidth": 2
          },
          "yaxis": {
           "automargin": true,
           "gridcolor": "white",
           "linecolor": "white",
           "ticks": "",
           "title": {
            "standoff": 15
           },
           "zerolinecolor": "white",
           "zerolinewidth": 2
          }
         }
        },
        "xaxis": {
         "anchor": "y",
         "domain": [
          0,
          1
         ],
         "title": {
          "text": "iteration"
         }
        },
        "yaxis": {
         "anchor": "x",
         "domain": [
          0,
          1
         ],
         "title": {
          "text": "central_likelihood"
         }
        }
       }
      },
      "text/html": [
       "<div>                            <div id=\"5595e13f-83ab-403f-b312-b622e58625b0\" class=\"plotly-graph-div\" style=\"height:525px; width:100%;\"></div>            <script type=\"text/javascript\">                require([\"plotly\"], function(Plotly) {                    window.PLOTLYENV=window.PLOTLYENV || {};                                    if (document.getElementById(\"5595e13f-83ab-403f-b312-b622e58625b0\")) {                    Plotly.newPlot(                        \"5595e13f-83ab-403f-b312-b622e58625b0\",                        [{\"hovertemplate\":\"case=validate\\u003cbr\\u003eiteration=%{x}\\u003cbr\\u003ecentral_likelihood=%{y}\\u003cextra\\u003e\\u003c\\u002fextra\\u003e\",\"legendgroup\":\"validate\",\"marker\":{\"color\":\"#636efa\",\"symbol\":\"circle\"},\"mode\":\"markers\",\"name\":\"validate\",\"orientation\":\"v\",\"showlegend\":true,\"x\":[0,0,0,0,1,1,1,1,2,2,2,2,3,3,3,3,4,4,4,4,5,5,5,5,6,6,6,6,7,7,7,7,8,8,8,8,9,9,9,9],\"xaxis\":\"x\",\"y\":[0.10000000000000002,0.2235886431973387,0.2964179645558424,0.20046938661937516,0.23252717067976253,0.23764573617796736,0.29595054999088,0.19795254904553428,0.23205563343265864,0.2415797769180536,0.2954390352492707,0.1968978131608185,0.23207513437814586,0.24297075593132003,0.29497477997320454,0.19656548931368834,0.2322212563478785,0.243617618800906,0.2947879023820047,0.19647066523237794,0.23231129126888458,0.24399131756251022,0.29457993547117234,0.19638418507012356,0.23240637571184575,0.24434940760852347,0.294640785272424,0.19629944983720293,0.23244824606649503,0.2445034206155427,0.2945660722750663,0.19622357112932656,0.23251998051554207,0.24473578677333163,0.29462483684717633,0.19622738562135636,0.2325772094312129,0.24492633341170375,0.294707049350032,0.19617361584851226],\"yaxis\":\"y\",\"type\":\"scatter\"},{\"hovertemplate\":\"case=train\\u003cbr\\u003eiteration=%{x}\\u003cbr\\u003ecentral_likelihood=%{y}\\u003cextra\\u003e\\u003c\\u002fextra\\u003e\",\"legendgroup\":\"train\",\"marker\":{\"color\":\"#EF553B\",\"symbol\":\"circle\"},\"mode\":\"markers\",\"name\":\"train\",\"orientation\":\"v\",\"showlegend\":true,\"x\":[0,0,0,0,1,1,1,1,2,2,2,2,3,3,3,3,4,4,4,4,5,5,5,5,6,6,6,6,7,7,7,7,8,8,8,8,9,9,9,9],\"xaxis\":\"x\",\"y\":[0.09999999999999998,0.2461469049733894,0.225551020580127,0.2550146299603798,0.24852719095721745,0.24537686743139242,0.22799708320870593,0.25689859142554844,0.2493349871565603,0.2448339175931959,0.22864226535502621,0.257481407565899,0.24953098278375385,0.2446493426676657,0.22895587089847125,0.25773829350981603,0.24961321980834847,0.2445907240040311,0.22913837140824292,0.25788597865068685,0.2496943348529235,0.24457664991429312,0.22927215275230936,0.25800093764556326,0.24974713541615717,0.24455850452574468,0.22935772415504724,0.25811258281381855,0.24981380938714864,0.24457894335266672,0.2294478114899892,0.2582020031429751,0.24985706928303417,0.24457842291597098,0.22950401626643901,0.2582736806207747,0.2499041450140198,0.24458311901632498,0.22955471775406477,0.25835185558675533],\"yaxis\":\"y\",\"type\":\"scatter\"},{\"hovertemplate\":\"case=test\\u003cbr\\u003eiteration=%{x}\\u003cbr\\u003ecentral_likelihood=%{y}\\u003cextra\\u003e\\u003c\\u002fextra\\u003e\",\"legendgroup\":\"test\",\"marker\":{\"color\":\"#00cc96\",\"symbol\":\"circle\"},\"mode\":\"markers\",\"name\":\"test\",\"orientation\":\"v\",\"showlegend\":true,\"x\":[0,0,0,0,1,1,1,1,2,2,2,2,3,3,3,3,4,4,4,4,5,5,5,5,6,6,6,6,7,7,7,7,8,8,8,8,9,9,9,9],\"xaxis\":\"x\",\"y\":[0.10000000000000002,0.22514785143822239,0.2288292185416666,0.23270079090848222,0.23380706020111552,0.23232953947574547,0.2333353909324967,0.23531444614287075,0.23544211448444635,0.2340183702889196,0.23446117693284338,0.2360777367750066,0.23603734862412065,0.23466610909364724,0.23499330934806759,0.23642670271062577,0.23636472341414294,0.2349306684586946,0.23528237885530817,0.2366488737659896,0.23647770802153079,0.23503419224607588,0.23534692683509595,0.23680289586230896,0.23666159207460793,0.2352756107650217,0.23551109144926347,0.236857507896971,0.2366243205965117,0.2352859580559177,0.23556312533725346,0.2369524296153055,0.23677692689133145,0.23537857701995873,0.23568160287066178,0.2370137761826584,0.23691896415878977,0.23550842570490535,0.23569824312670173,0.23703759668410118],\"yaxis\":\"y\",\"type\":\"scatter\"}],                        {\"template\":{\"data\":{\"histogram2dcontour\":[{\"type\":\"histogram2dcontour\",\"colorbar\":{\"outlinewidth\":0,\"ticks\":\"\"},\"colorscale\":[[0.0,\"#0d0887\"],[0.1111111111111111,\"#46039f\"],[0.2222222222222222,\"#7201a8\"],[0.3333333333333333,\"#9c179e\"],[0.4444444444444444,\"#bd3786\"],[0.5555555555555556,\"#d8576b\"],[0.6666666666666666,\"#ed7953\"],[0.7777777777777778,\"#fb9f3a\"],[0.8888888888888888,\"#fdca26\"],[1.0,\"#f0f921\"]]}],\"choropleth\":[{\"type\":\"choropleth\",\"colorbar\":{\"outlinewidth\":0,\"ticks\":\"\"}}],\"histogram2d\":[{\"type\":\"histogram2d\",\"colorbar\":{\"outlinewidth\":0,\"ticks\":\"\"},\"colorscale\":[[0.0,\"#0d0887\"],[0.1111111111111111,\"#46039f\"],[0.2222222222222222,\"#7201a8\"],[0.3333333333333333,\"#9c179e\"],[0.4444444444444444,\"#bd3786\"],[0.5555555555555556,\"#d8576b\"],[0.6666666666666666,\"#ed7953\"],[0.7777777777777778,\"#fb9f3a\"],[0.8888888888888888,\"#fdca26\"],[1.0,\"#f0f921\"]]}],\"heatmap\":[{\"type\":\"heatmap\",\"colorbar\":{\"outlinewidth\":0,\"ticks\":\"\"},\"colorscale\":[[0.0,\"#0d0887\"],[0.1111111111111111,\"#46039f\"],[0.2222222222222222,\"#7201a8\"],[0.3333333333333333,\"#9c179e\"],[0.4444444444444444,\"#bd3786\"],[0.5555555555555556,\"#d8576b\"],[0.6666666666666666,\"#ed7953\"],[0.7777777777777778,\"#fb9f3a\"],[0.8888888888888888,\"#fdca26\"],[1.0,\"#f0f921\"]]}],\"heatmapgl\":[{\"type\":\"heatmapgl\",\"colorbar\":{\"outlinewidth\":0,\"ticks\":\"\"},\"colorscale\":[[0.0,\"#0d0887\"],[0.1111111111111111,\"#46039f\"],[0.2222222222222222,\"#7201a8\"],[0.3333333333333333,\"#9c179e\"],[0.4444444444444444,\"#bd3786\"],[0.5555555555555556,\"#d8576b\"],[0.6666666666666666,\"#ed7953\"],[0.7777777777777778,\"#fb9f3a\"],[0.8888888888888888,\"#fdca26\"],[1.0,\"#f0f921\"]]}],\"contourcarpet\":[{\"type\":\"contourcarpet\",\"colorbar\":{\"outlinewidth\":0,\"ticks\":\"\"}}],\"contour\":[{\"type\":\"contour\",\"colorbar\":{\"outlinewidth\":0,\"ticks\":\"\"},\"colorscale\":[[0.0,\"#0d0887\"],[0.1111111111111111,\"#46039f\"],[0.2222222222222222,\"#7201a8\"],[0.3333333333333333,\"#9c179e\"],[0.4444444444444444,\"#bd3786\"],[0.5555555555555556,\"#d8576b\"],[0.6666666666666666,\"#ed7953\"],[0.7777777777777778,\"#fb9f3a\"],[0.8888888888888888,\"#fdca26\"],[1.0,\"#f0f921\"]]}],\"surface\":[{\"type\":\"surface\",\"colorbar\":{\"outlinewidth\":0,\"ticks\":\"\"},\"colorscale\":[[0.0,\"#0d0887\"],[0.1111111111111111,\"#46039f\"],[0.2222222222222222,\"#7201a8\"],[0.3333333333333333,\"#9c179e\"],[0.4444444444444444,\"#bd3786\"],[0.5555555555555556,\"#d8576b\"],[0.6666666666666666,\"#ed7953\"],[0.7777777777777778,\"#fb9f3a\"],[0.8888888888888888,\"#fdca26\"],[1.0,\"#f0f921\"]]}],\"mesh3d\":[{\"type\":\"mesh3d\",\"colorbar\":{\"outlinewidth\":0,\"ticks\":\"\"}}],\"scatter\":[{\"fillpattern\":{\"fillmode\":\"overlay\",\"size\":10,\"solidity\":0.2},\"type\":\"scatter\"}],\"parcoords\":[{\"type\":\"parcoords\",\"line\":{\"colorbar\":{\"outlinewidth\":0,\"ticks\":\"\"}}}],\"scatterpolargl\":[{\"type\":\"scatterpolargl\",\"marker\":{\"colorbar\":{\"outlinewidth\":0,\"ticks\":\"\"}}}],\"bar\":[{\"error_x\":{\"color\":\"#2a3f5f\"},\"error_y\":{\"color\":\"#2a3f5f\"},\"marker\":{\"line\":{\"color\":\"#E5ECF6\",\"width\":0.5},\"pattern\":{\"fillmode\":\"overlay\",\"size\":10,\"solidity\":0.2}},\"type\":\"bar\"}],\"scattergeo\":[{\"type\":\"scattergeo\",\"marker\":{\"colorbar\":{\"outlinewidth\":0,\"ticks\":\"\"}}}],\"scatterpolar\":[{\"type\":\"scatterpolar\",\"marker\":{\"colorbar\":{\"outlinewidth\":0,\"ticks\":\"\"}}}],\"histogram\":[{\"marker\":{\"pattern\":{\"fillmode\":\"overlay\",\"size\":10,\"solidity\":0.2}},\"type\":\"histogram\"}],\"scattergl\":[{\"type\":\"scattergl\",\"marker\":{\"colorbar\":{\"outlinewidth\":0,\"ticks\":\"\"}}}],\"scatter3d\":[{\"type\":\"scatter3d\",\"line\":{\"colorbar\":{\"outlinewidth\":0,\"ticks\":\"\"}},\"marker\":{\"colorbar\":{\"outlinewidth\":0,\"ticks\":\"\"}}}],\"scattermapbox\":[{\"type\":\"scattermapbox\",\"marker\":{\"colorbar\":{\"outlinewidth\":0,\"ticks\":\"\"}}}],\"scatterternary\":[{\"type\":\"scatterternary\",\"marker\":{\"colorbar\":{\"outlinewidth\":0,\"ticks\":\"\"}}}],\"scattercarpet\":[{\"type\":\"scattercarpet\",\"marker\":{\"colorbar\":{\"outlinewidth\":0,\"ticks\":\"\"}}}],\"carpet\":[{\"aaxis\":{\"endlinecolor\":\"#2a3f5f\",\"gridcolor\":\"white\",\"linecolor\":\"white\",\"minorgridcolor\":\"white\",\"startlinecolor\":\"#2a3f5f\"},\"baxis\":{\"endlinecolor\":\"#2a3f5f\",\"gridcolor\":\"white\",\"linecolor\":\"white\",\"minorgridcolor\":\"white\",\"startlinecolor\":\"#2a3f5f\"},\"type\":\"carpet\"}],\"table\":[{\"cells\":{\"fill\":{\"color\":\"#EBF0F8\"},\"line\":{\"color\":\"white\"}},\"header\":{\"fill\":{\"color\":\"#C8D4E3\"},\"line\":{\"color\":\"white\"}},\"type\":\"table\"}],\"barpolar\":[{\"marker\":{\"line\":{\"color\":\"#E5ECF6\",\"width\":0.5},\"pattern\":{\"fillmode\":\"overlay\",\"size\":10,\"solidity\":0.2}},\"type\":\"barpolar\"}],\"pie\":[{\"automargin\":true,\"type\":\"pie\"}]},\"layout\":{\"autotypenumbers\":\"strict\",\"colorway\":[\"#636efa\",\"#EF553B\",\"#00cc96\",\"#ab63fa\",\"#FFA15A\",\"#19d3f3\",\"#FF6692\",\"#B6E880\",\"#FF97FF\",\"#FECB52\"],\"font\":{\"color\":\"#2a3f5f\"},\"hovermode\":\"closest\",\"hoverlabel\":{\"align\":\"left\"},\"paper_bgcolor\":\"white\",\"plot_bgcolor\":\"#E5ECF6\",\"polar\":{\"bgcolor\":\"#E5ECF6\",\"angularaxis\":{\"gridcolor\":\"white\",\"linecolor\":\"white\",\"ticks\":\"\"},\"radialaxis\":{\"gridcolor\":\"white\",\"linecolor\":\"white\",\"ticks\":\"\"}},\"ternary\":{\"bgcolor\":\"#E5ECF6\",\"aaxis\":{\"gridcolor\":\"white\",\"linecolor\":\"white\",\"ticks\":\"\"},\"baxis\":{\"gridcolor\":\"white\",\"linecolor\":\"white\",\"ticks\":\"\"},\"caxis\":{\"gridcolor\":\"white\",\"linecolor\":\"white\",\"ticks\":\"\"}},\"coloraxis\":{\"colorbar\":{\"outlinewidth\":0,\"ticks\":\"\"}},\"colorscale\":{\"sequential\":[[0.0,\"#0d0887\"],[0.1111111111111111,\"#46039f\"],[0.2222222222222222,\"#7201a8\"],[0.3333333333333333,\"#9c179e\"],[0.4444444444444444,\"#bd3786\"],[0.5555555555555556,\"#d8576b\"],[0.6666666666666666,\"#ed7953\"],[0.7777777777777778,\"#fb9f3a\"],[0.8888888888888888,\"#fdca26\"],[1.0,\"#f0f921\"]],\"sequentialminus\":[[0.0,\"#0d0887\"],[0.1111111111111111,\"#46039f\"],[0.2222222222222222,\"#7201a8\"],[0.3333333333333333,\"#9c179e\"],[0.4444444444444444,\"#bd3786\"],[0.5555555555555556,\"#d8576b\"],[0.6666666666666666,\"#ed7953\"],[0.7777777777777778,\"#fb9f3a\"],[0.8888888888888888,\"#fdca26\"],[1.0,\"#f0f921\"]],\"diverging\":[[0,\"#8e0152\"],[0.1,\"#c51b7d\"],[0.2,\"#de77ae\"],[0.3,\"#f1b6da\"],[0.4,\"#fde0ef\"],[0.5,\"#f7f7f7\"],[0.6,\"#e6f5d0\"],[0.7,\"#b8e186\"],[0.8,\"#7fbc41\"],[0.9,\"#4d9221\"],[1,\"#276419\"]]},\"xaxis\":{\"gridcolor\":\"white\",\"linecolor\":\"white\",\"ticks\":\"\",\"title\":{\"standoff\":15},\"zerolinecolor\":\"white\",\"automargin\":true,\"zerolinewidth\":2},\"yaxis\":{\"gridcolor\":\"white\",\"linecolor\":\"white\",\"ticks\":\"\",\"title\":{\"standoff\":15},\"zerolinecolor\":\"white\",\"automargin\":true,\"zerolinewidth\":2},\"scene\":{\"xaxis\":{\"backgroundcolor\":\"#E5ECF6\",\"gridcolor\":\"white\",\"linecolor\":\"white\",\"showbackground\":true,\"ticks\":\"\",\"zerolinecolor\":\"white\",\"gridwidth\":2},\"yaxis\":{\"backgroundcolor\":\"#E5ECF6\",\"gridcolor\":\"white\",\"linecolor\":\"white\",\"showbackground\":true,\"ticks\":\"\",\"zerolinecolor\":\"white\",\"gridwidth\":2},\"zaxis\":{\"backgroundcolor\":\"#E5ECF6\",\"gridcolor\":\"white\",\"linecolor\":\"white\",\"showbackground\":true,\"ticks\":\"\",\"zerolinecolor\":\"white\",\"gridwidth\":2}},\"shapedefaults\":{\"line\":{\"color\":\"#2a3f5f\"}},\"annotationdefaults\":{\"arrowcolor\":\"#2a3f5f\",\"arrowhead\":0,\"arrowwidth\":1},\"geo\":{\"bgcolor\":\"white\",\"landcolor\":\"#E5ECF6\",\"subunitcolor\":\"white\",\"showland\":true,\"showlakes\":true,\"lakecolor\":\"white\"},\"title\":{\"x\":0.05},\"mapbox\":{\"style\":\"light\"}}},\"xaxis\":{\"anchor\":\"y\",\"domain\":[0.0,1.0],\"title\":{\"text\":\"iteration\"}},\"yaxis\":{\"anchor\":\"x\",\"domain\":[0.0,1.0],\"title\":{\"text\":\"central_likelihood\"}},\"legend\":{\"title\":{\"text\":\"case\"},\"tracegroupgap\":0},\"margin\":{\"t\":60}},                        {\"responsive\": true}                    ).then(function(){\n",
       "                            \n",
       "var gd = document.getElementById('5595e13f-83ab-403f-b312-b622e58625b0');\n",
       "var x = new MutationObserver(function (mutations, observer) {{\n",
       "        var display = window.getComputedStyle(gd).display;\n",
       "        if (!display || display === 'none') {{\n",
       "            console.log([gd, 'removed!']);\n",
       "            Plotly.purge(gd);\n",
       "            observer.disconnect();\n",
       "        }}\n",
       "}});\n",
       "\n",
       "// Listen for the removal of the full notebook cells\n",
       "var notebookContainer = gd.closest('#notebook-container');\n",
       "if (notebookContainer) {{\n",
       "    x.observe(notebookContainer, {childList: true});\n",
       "}}\n",
       "\n",
       "// Listen for the clearing of the current output cell\n",
       "var outputEl = gd.closest('.output');\n",
       "if (outputEl) {{\n",
       "    x.observe(outputEl, {childList: true});\n",
       "}}\n",
       "\n",
       "                        })                };                });            </script>        </div>"
      ]
     },
     "metadata": {},
     "output_type": "display_data"
    }
   ],
   "source": [
    "px.scatter(\n",
    "    diagnostics[diagnostics['_param_set'] == best_param_set], x='iteration', y='central_likelihood', color='case'\n",
    ")"
   ]
  },
  {
   "cell_type": "code",
   "execution_count": 325,
   "metadata": {},
   "outputs": [
    {
     "name": "stderr",
     "output_type": "stream",
     "text": [
      "100%|██████████| 10/10 [00:39<00:00,  3.93s/it]\n"
     ]
    }
   ],
   "source": [
    "model = RandomForestRegressor(**params)\n",
    "\n",
    "model, diagnostics_results = train_utility_model(\n",
    "    model,\n",
    "    train,\n",
    "    test,\n",
    "    shaped_features,\n",
    "    10,\n",
    "    learning_rate=31 / 32,\n",
    ")"
   ]
  },
  {
   "cell_type": "code",
   "execution_count": 326,
   "metadata": {},
   "outputs": [
    {
     "data": {
      "application/vnd.plotly.v1+json": {
       "config": {
        "plotlyServerURL": "https://plot.ly"
       },
       "data": [
        {
         "hovertemplate": "case=test<br>iteration=%{x}<br>central_likelihood=%{y}<extra></extra>",
         "legendgroup": "test",
         "line": {
          "color": "#636efa",
          "dash": "solid"
         },
         "marker": {
          "symbol": "circle"
         },
         "mode": "lines",
         "name": "test",
         "orientation": "v",
         "showlegend": true,
         "type": "scatter",
         "x": [
          0,
          1,
          2,
          3,
          4,
          5,
          6,
          7,
          8,
          9
         ],
         "xaxis": "x",
         "y": [
          0.19676428429269177,
          0.2336396512496268,
          0.23499949442722645,
          0.23546214365671647,
          0.23570476972071977,
          0.2359556483219763,
          0.23609972028153697,
          0.23616554559478775,
          0.23620840607124047,
          0.23624185322245153
         ],
         "yaxis": "y"
        },
        {
         "hovertemplate": "case=train<br>iteration=%{x}<br>central_likelihood=%{y}<extra></extra>",
         "legendgroup": "train",
         "line": {
          "color": "#EF553B",
          "dash": "solid"
         },
         "marker": {
          "symbol": "circle"
         },
         "mode": "lines",
         "name": "train",
         "orientation": "v",
         "showlegend": true,
         "type": "scatter",
         "x": [
          0,
          1,
          2,
          3,
          4,
          5,
          6,
          7,
          8,
          9
         ],
         "xaxis": "x",
         "y": [
          0.20670281022420345,
          0.24470170960767812,
          0.24508049688244346,
          0.24522188582110782,
          0.24531602587435652,
          0.24539322179869918,
          0.2454544353294208,
          0.24550525273961854,
          0.2455627832583352,
          0.24560873526007382
         ],
         "yaxis": "y"
        },
        {
         "hovertemplate": "case=validate<br>iteration=%{x}<br>central_likelihood=%{y}<extra></extra>",
         "legendgroup": "validate",
         "line": {
          "color": "#00cc96",
          "dash": "solid"
         },
         "marker": {
          "symbol": "circle"
         },
         "mode": "lines",
         "name": "validate",
         "orientation": "v",
         "showlegend": true,
         "type": "scatter",
         "x": [
          0,
          1,
          2,
          3,
          4,
          5,
          6,
          7,
          8,
          9
         ],
         "xaxis": "x",
         "y": [
          0.20524119712852787,
          0.24102436378688863,
          0.24147989197205397,
          0.24164841652534622,
          0.241760408106729,
          0.24185754971723503,
          0.241913653851431,
          0.24198350081521677,
          0.24201378888263608,
          0.24207191614249807
         ],
         "yaxis": "y"
        }
       ],
       "layout": {
        "legend": {
         "title": {
          "text": "case"
         },
         "tracegroupgap": 0
        },
        "margin": {
         "t": 60
        },
        "template": {
         "data": {
          "bar": [
           {
            "error_x": {
             "color": "#2a3f5f"
            },
            "error_y": {
             "color": "#2a3f5f"
            },
            "marker": {
             "line": {
              "color": "#E5ECF6",
              "width": 0.5
             },
             "pattern": {
              "fillmode": "overlay",
              "size": 10,
              "solidity": 0.2
             }
            },
            "type": "bar"
           }
          ],
          "barpolar": [
           {
            "marker": {
             "line": {
              "color": "#E5ECF6",
              "width": 0.5
             },
             "pattern": {
              "fillmode": "overlay",
              "size": 10,
              "solidity": 0.2
             }
            },
            "type": "barpolar"
           }
          ],
          "carpet": [
           {
            "aaxis": {
             "endlinecolor": "#2a3f5f",
             "gridcolor": "white",
             "linecolor": "white",
             "minorgridcolor": "white",
             "startlinecolor": "#2a3f5f"
            },
            "baxis": {
             "endlinecolor": "#2a3f5f",
             "gridcolor": "white",
             "linecolor": "white",
             "minorgridcolor": "white",
             "startlinecolor": "#2a3f5f"
            },
            "type": "carpet"
           }
          ],
          "choropleth": [
           {
            "colorbar": {
             "outlinewidth": 0,
             "ticks": ""
            },
            "type": "choropleth"
           }
          ],
          "contour": [
           {
            "colorbar": {
             "outlinewidth": 0,
             "ticks": ""
            },
            "colorscale": [
             [
              0,
              "#0d0887"
             ],
             [
              0.1111111111111111,
              "#46039f"
             ],
             [
              0.2222222222222222,
              "#7201a8"
             ],
             [
              0.3333333333333333,
              "#9c179e"
             ],
             [
              0.4444444444444444,
              "#bd3786"
             ],
             [
              0.5555555555555556,
              "#d8576b"
             ],
             [
              0.6666666666666666,
              "#ed7953"
             ],
             [
              0.7777777777777778,
              "#fb9f3a"
             ],
             [
              0.8888888888888888,
              "#fdca26"
             ],
             [
              1,
              "#f0f921"
             ]
            ],
            "type": "contour"
           }
          ],
          "contourcarpet": [
           {
            "colorbar": {
             "outlinewidth": 0,
             "ticks": ""
            },
            "type": "contourcarpet"
           }
          ],
          "heatmap": [
           {
            "colorbar": {
             "outlinewidth": 0,
             "ticks": ""
            },
            "colorscale": [
             [
              0,
              "#0d0887"
             ],
             [
              0.1111111111111111,
              "#46039f"
             ],
             [
              0.2222222222222222,
              "#7201a8"
             ],
             [
              0.3333333333333333,
              "#9c179e"
             ],
             [
              0.4444444444444444,
              "#bd3786"
             ],
             [
              0.5555555555555556,
              "#d8576b"
             ],
             [
              0.6666666666666666,
              "#ed7953"
             ],
             [
              0.7777777777777778,
              "#fb9f3a"
             ],
             [
              0.8888888888888888,
              "#fdca26"
             ],
             [
              1,
              "#f0f921"
             ]
            ],
            "type": "heatmap"
           }
          ],
          "heatmapgl": [
           {
            "colorbar": {
             "outlinewidth": 0,
             "ticks": ""
            },
            "colorscale": [
             [
              0,
              "#0d0887"
             ],
             [
              0.1111111111111111,
              "#46039f"
             ],
             [
              0.2222222222222222,
              "#7201a8"
             ],
             [
              0.3333333333333333,
              "#9c179e"
             ],
             [
              0.4444444444444444,
              "#bd3786"
             ],
             [
              0.5555555555555556,
              "#d8576b"
             ],
             [
              0.6666666666666666,
              "#ed7953"
             ],
             [
              0.7777777777777778,
              "#fb9f3a"
             ],
             [
              0.8888888888888888,
              "#fdca26"
             ],
             [
              1,
              "#f0f921"
             ]
            ],
            "type": "heatmapgl"
           }
          ],
          "histogram": [
           {
            "marker": {
             "pattern": {
              "fillmode": "overlay",
              "size": 10,
              "solidity": 0.2
             }
            },
            "type": "histogram"
           }
          ],
          "histogram2d": [
           {
            "colorbar": {
             "outlinewidth": 0,
             "ticks": ""
            },
            "colorscale": [
             [
              0,
              "#0d0887"
             ],
             [
              0.1111111111111111,
              "#46039f"
             ],
             [
              0.2222222222222222,
              "#7201a8"
             ],
             [
              0.3333333333333333,
              "#9c179e"
             ],
             [
              0.4444444444444444,
              "#bd3786"
             ],
             [
              0.5555555555555556,
              "#d8576b"
             ],
             [
              0.6666666666666666,
              "#ed7953"
             ],
             [
              0.7777777777777778,
              "#fb9f3a"
             ],
             [
              0.8888888888888888,
              "#fdca26"
             ],
             [
              1,
              "#f0f921"
             ]
            ],
            "type": "histogram2d"
           }
          ],
          "histogram2dcontour": [
           {
            "colorbar": {
             "outlinewidth": 0,
             "ticks": ""
            },
            "colorscale": [
             [
              0,
              "#0d0887"
             ],
             [
              0.1111111111111111,
              "#46039f"
             ],
             [
              0.2222222222222222,
              "#7201a8"
             ],
             [
              0.3333333333333333,
              "#9c179e"
             ],
             [
              0.4444444444444444,
              "#bd3786"
             ],
             [
              0.5555555555555556,
              "#d8576b"
             ],
             [
              0.6666666666666666,
              "#ed7953"
             ],
             [
              0.7777777777777778,
              "#fb9f3a"
             ],
             [
              0.8888888888888888,
              "#fdca26"
             ],
             [
              1,
              "#f0f921"
             ]
            ],
            "type": "histogram2dcontour"
           }
          ],
          "mesh3d": [
           {
            "colorbar": {
             "outlinewidth": 0,
             "ticks": ""
            },
            "type": "mesh3d"
           }
          ],
          "parcoords": [
           {
            "line": {
             "colorbar": {
              "outlinewidth": 0,
              "ticks": ""
             }
            },
            "type": "parcoords"
           }
          ],
          "pie": [
           {
            "automargin": true,
            "type": "pie"
           }
          ],
          "scatter": [
           {
            "fillpattern": {
             "fillmode": "overlay",
             "size": 10,
             "solidity": 0.2
            },
            "type": "scatter"
           }
          ],
          "scatter3d": [
           {
            "line": {
             "colorbar": {
              "outlinewidth": 0,
              "ticks": ""
             }
            },
            "marker": {
             "colorbar": {
              "outlinewidth": 0,
              "ticks": ""
             }
            },
            "type": "scatter3d"
           }
          ],
          "scattercarpet": [
           {
            "marker": {
             "colorbar": {
              "outlinewidth": 0,
              "ticks": ""
             }
            },
            "type": "scattercarpet"
           }
          ],
          "scattergeo": [
           {
            "marker": {
             "colorbar": {
              "outlinewidth": 0,
              "ticks": ""
             }
            },
            "type": "scattergeo"
           }
          ],
          "scattergl": [
           {
            "marker": {
             "colorbar": {
              "outlinewidth": 0,
              "ticks": ""
             }
            },
            "type": "scattergl"
           }
          ],
          "scattermapbox": [
           {
            "marker": {
             "colorbar": {
              "outlinewidth": 0,
              "ticks": ""
             }
            },
            "type": "scattermapbox"
           }
          ],
          "scatterpolar": [
           {
            "marker": {
             "colorbar": {
              "outlinewidth": 0,
              "ticks": ""
             }
            },
            "type": "scatterpolar"
           }
          ],
          "scatterpolargl": [
           {
            "marker": {
             "colorbar": {
              "outlinewidth": 0,
              "ticks": ""
             }
            },
            "type": "scatterpolargl"
           }
          ],
          "scatterternary": [
           {
            "marker": {
             "colorbar": {
              "outlinewidth": 0,
              "ticks": ""
             }
            },
            "type": "scatterternary"
           }
          ],
          "surface": [
           {
            "colorbar": {
             "outlinewidth": 0,
             "ticks": ""
            },
            "colorscale": [
             [
              0,
              "#0d0887"
             ],
             [
              0.1111111111111111,
              "#46039f"
             ],
             [
              0.2222222222222222,
              "#7201a8"
             ],
             [
              0.3333333333333333,
              "#9c179e"
             ],
             [
              0.4444444444444444,
              "#bd3786"
             ],
             [
              0.5555555555555556,
              "#d8576b"
             ],
             [
              0.6666666666666666,
              "#ed7953"
             ],
             [
              0.7777777777777778,
              "#fb9f3a"
             ],
             [
              0.8888888888888888,
              "#fdca26"
             ],
             [
              1,
              "#f0f921"
             ]
            ],
            "type": "surface"
           }
          ],
          "table": [
           {
            "cells": {
             "fill": {
              "color": "#EBF0F8"
             },
             "line": {
              "color": "white"
             }
            },
            "header": {
             "fill": {
              "color": "#C8D4E3"
             },
             "line": {
              "color": "white"
             }
            },
            "type": "table"
           }
          ]
         },
         "layout": {
          "annotationdefaults": {
           "arrowcolor": "#2a3f5f",
           "arrowhead": 0,
           "arrowwidth": 1
          },
          "autotypenumbers": "strict",
          "coloraxis": {
           "colorbar": {
            "outlinewidth": 0,
            "ticks": ""
           }
          },
          "colorscale": {
           "diverging": [
            [
             0,
             "#8e0152"
            ],
            [
             0.1,
             "#c51b7d"
            ],
            [
             0.2,
             "#de77ae"
            ],
            [
             0.3,
             "#f1b6da"
            ],
            [
             0.4,
             "#fde0ef"
            ],
            [
             0.5,
             "#f7f7f7"
            ],
            [
             0.6,
             "#e6f5d0"
            ],
            [
             0.7,
             "#b8e186"
            ],
            [
             0.8,
             "#7fbc41"
            ],
            [
             0.9,
             "#4d9221"
            ],
            [
             1,
             "#276419"
            ]
           ],
           "sequential": [
            [
             0,
             "#0d0887"
            ],
            [
             0.1111111111111111,
             "#46039f"
            ],
            [
             0.2222222222222222,
             "#7201a8"
            ],
            [
             0.3333333333333333,
             "#9c179e"
            ],
            [
             0.4444444444444444,
             "#bd3786"
            ],
            [
             0.5555555555555556,
             "#d8576b"
            ],
            [
             0.6666666666666666,
             "#ed7953"
            ],
            [
             0.7777777777777778,
             "#fb9f3a"
            ],
            [
             0.8888888888888888,
             "#fdca26"
            ],
            [
             1,
             "#f0f921"
            ]
           ],
           "sequentialminus": [
            [
             0,
             "#0d0887"
            ],
            [
             0.1111111111111111,
             "#46039f"
            ],
            [
             0.2222222222222222,
             "#7201a8"
            ],
            [
             0.3333333333333333,
             "#9c179e"
            ],
            [
             0.4444444444444444,
             "#bd3786"
            ],
            [
             0.5555555555555556,
             "#d8576b"
            ],
            [
             0.6666666666666666,
             "#ed7953"
            ],
            [
             0.7777777777777778,
             "#fb9f3a"
            ],
            [
             0.8888888888888888,
             "#fdca26"
            ],
            [
             1,
             "#f0f921"
            ]
           ]
          },
          "colorway": [
           "#636efa",
           "#EF553B",
           "#00cc96",
           "#ab63fa",
           "#FFA15A",
           "#19d3f3",
           "#FF6692",
           "#B6E880",
           "#FF97FF",
           "#FECB52"
          ],
          "font": {
           "color": "#2a3f5f"
          },
          "geo": {
           "bgcolor": "white",
           "lakecolor": "white",
           "landcolor": "#E5ECF6",
           "showlakes": true,
           "showland": true,
           "subunitcolor": "white"
          },
          "hoverlabel": {
           "align": "left"
          },
          "hovermode": "closest",
          "mapbox": {
           "style": "light"
          },
          "paper_bgcolor": "white",
          "plot_bgcolor": "#E5ECF6",
          "polar": {
           "angularaxis": {
            "gridcolor": "white",
            "linecolor": "white",
            "ticks": ""
           },
           "bgcolor": "#E5ECF6",
           "radialaxis": {
            "gridcolor": "white",
            "linecolor": "white",
            "ticks": ""
           }
          },
          "scene": {
           "xaxis": {
            "backgroundcolor": "#E5ECF6",
            "gridcolor": "white",
            "gridwidth": 2,
            "linecolor": "white",
            "showbackground": true,
            "ticks": "",
            "zerolinecolor": "white"
           },
           "yaxis": {
            "backgroundcolor": "#E5ECF6",
            "gridcolor": "white",
            "gridwidth": 2,
            "linecolor": "white",
            "showbackground": true,
            "ticks": "",
            "zerolinecolor": "white"
           },
           "zaxis": {
            "backgroundcolor": "#E5ECF6",
            "gridcolor": "white",
            "gridwidth": 2,
            "linecolor": "white",
            "showbackground": true,
            "ticks": "",
            "zerolinecolor": "white"
           }
          },
          "shapedefaults": {
           "line": {
            "color": "#2a3f5f"
           }
          },
          "ternary": {
           "aaxis": {
            "gridcolor": "white",
            "linecolor": "white",
            "ticks": ""
           },
           "baxis": {
            "gridcolor": "white",
            "linecolor": "white",
            "ticks": ""
           },
           "bgcolor": "#E5ECF6",
           "caxis": {
            "gridcolor": "white",
            "linecolor": "white",
            "ticks": ""
           }
          },
          "title": {
           "x": 0.05
          },
          "xaxis": {
           "automargin": true,
           "gridcolor": "white",
           "linecolor": "white",
           "ticks": "",
           "title": {
            "standoff": 15
           },
           "zerolinecolor": "white",
           "zerolinewidth": 2
          },
          "yaxis": {
           "automargin": true,
           "gridcolor": "white",
           "linecolor": "white",
           "ticks": "",
           "title": {
            "standoff": 15
           },
           "zerolinecolor": "white",
           "zerolinewidth": 2
          }
         }
        },
        "xaxis": {
         "anchor": "y",
         "domain": [
          0,
          1
         ],
         "title": {
          "text": "iteration"
         }
        },
        "yaxis": {
         "anchor": "x",
         "domain": [
          0,
          1
         ],
         "title": {
          "text": "central_likelihood"
         }
        }
       }
      },
      "text/html": [
       "<div>                            <div id=\"404a184b-7dad-4f10-a438-0e5225953242\" class=\"plotly-graph-div\" style=\"height:525px; width:100%;\"></div>            <script type=\"text/javascript\">                require([\"plotly\"], function(Plotly) {                    window.PLOTLYENV=window.PLOTLYENV || {};                                    if (document.getElementById(\"404a184b-7dad-4f10-a438-0e5225953242\")) {                    Plotly.newPlot(                        \"404a184b-7dad-4f10-a438-0e5225953242\",                        [{\"hovertemplate\":\"case=test\\u003cbr\\u003eiteration=%{x}\\u003cbr\\u003ecentral_likelihood=%{y}\\u003cextra\\u003e\\u003c\\u002fextra\\u003e\",\"legendgroup\":\"test\",\"line\":{\"color\":\"#636efa\",\"dash\":\"solid\"},\"marker\":{\"symbol\":\"circle\"},\"mode\":\"lines\",\"name\":\"test\",\"orientation\":\"v\",\"showlegend\":true,\"x\":[0,1,2,3,4,5,6,7,8,9],\"xaxis\":\"x\",\"y\":[0.19676428429269177,0.2336396512496268,0.23499949442722645,0.23546214365671647,0.23570476972071977,0.2359556483219763,0.23609972028153697,0.23616554559478775,0.23620840607124047,0.23624185322245153],\"yaxis\":\"y\",\"type\":\"scatter\"},{\"hovertemplate\":\"case=train\\u003cbr\\u003eiteration=%{x}\\u003cbr\\u003ecentral_likelihood=%{y}\\u003cextra\\u003e\\u003c\\u002fextra\\u003e\",\"legendgroup\":\"train\",\"line\":{\"color\":\"#EF553B\",\"dash\":\"solid\"},\"marker\":{\"symbol\":\"circle\"},\"mode\":\"lines\",\"name\":\"train\",\"orientation\":\"v\",\"showlegend\":true,\"x\":[0,1,2,3,4,5,6,7,8,9],\"xaxis\":\"x\",\"y\":[0.20670281022420345,0.24470170960767812,0.24508049688244346,0.24522188582110782,0.24531602587435652,0.24539322179869918,0.2454544353294208,0.24550525273961854,0.2455627832583352,0.24560873526007382],\"yaxis\":\"y\",\"type\":\"scatter\"},{\"hovertemplate\":\"case=validate\\u003cbr\\u003eiteration=%{x}\\u003cbr\\u003ecentral_likelihood=%{y}\\u003cextra\\u003e\\u003c\\u002fextra\\u003e\",\"legendgroup\":\"validate\",\"line\":{\"color\":\"#00cc96\",\"dash\":\"solid\"},\"marker\":{\"symbol\":\"circle\"},\"mode\":\"lines\",\"name\":\"validate\",\"orientation\":\"v\",\"showlegend\":true,\"x\":[0,1,2,3,4,5,6,7,8,9],\"xaxis\":\"x\",\"y\":[0.20524119712852787,0.24102436378688863,0.24147989197205397,0.24164841652534622,0.241760408106729,0.24185754971723503,0.241913653851431,0.24198350081521677,0.24201378888263608,0.24207191614249807],\"yaxis\":\"y\",\"type\":\"scatter\"}],                        {\"template\":{\"data\":{\"histogram2dcontour\":[{\"type\":\"histogram2dcontour\",\"colorbar\":{\"outlinewidth\":0,\"ticks\":\"\"},\"colorscale\":[[0.0,\"#0d0887\"],[0.1111111111111111,\"#46039f\"],[0.2222222222222222,\"#7201a8\"],[0.3333333333333333,\"#9c179e\"],[0.4444444444444444,\"#bd3786\"],[0.5555555555555556,\"#d8576b\"],[0.6666666666666666,\"#ed7953\"],[0.7777777777777778,\"#fb9f3a\"],[0.8888888888888888,\"#fdca26\"],[1.0,\"#f0f921\"]]}],\"choropleth\":[{\"type\":\"choropleth\",\"colorbar\":{\"outlinewidth\":0,\"ticks\":\"\"}}],\"histogram2d\":[{\"type\":\"histogram2d\",\"colorbar\":{\"outlinewidth\":0,\"ticks\":\"\"},\"colorscale\":[[0.0,\"#0d0887\"],[0.1111111111111111,\"#46039f\"],[0.2222222222222222,\"#7201a8\"],[0.3333333333333333,\"#9c179e\"],[0.4444444444444444,\"#bd3786\"],[0.5555555555555556,\"#d8576b\"],[0.6666666666666666,\"#ed7953\"],[0.7777777777777778,\"#fb9f3a\"],[0.8888888888888888,\"#fdca26\"],[1.0,\"#f0f921\"]]}],\"heatmap\":[{\"type\":\"heatmap\",\"colorbar\":{\"outlinewidth\":0,\"ticks\":\"\"},\"colorscale\":[[0.0,\"#0d0887\"],[0.1111111111111111,\"#46039f\"],[0.2222222222222222,\"#7201a8\"],[0.3333333333333333,\"#9c179e\"],[0.4444444444444444,\"#bd3786\"],[0.5555555555555556,\"#d8576b\"],[0.6666666666666666,\"#ed7953\"],[0.7777777777777778,\"#fb9f3a\"],[0.8888888888888888,\"#fdca26\"],[1.0,\"#f0f921\"]]}],\"heatmapgl\":[{\"type\":\"heatmapgl\",\"colorbar\":{\"outlinewidth\":0,\"ticks\":\"\"},\"colorscale\":[[0.0,\"#0d0887\"],[0.1111111111111111,\"#46039f\"],[0.2222222222222222,\"#7201a8\"],[0.3333333333333333,\"#9c179e\"],[0.4444444444444444,\"#bd3786\"],[0.5555555555555556,\"#d8576b\"],[0.6666666666666666,\"#ed7953\"],[0.7777777777777778,\"#fb9f3a\"],[0.8888888888888888,\"#fdca26\"],[1.0,\"#f0f921\"]]}],\"contourcarpet\":[{\"type\":\"contourcarpet\",\"colorbar\":{\"outlinewidth\":0,\"ticks\":\"\"}}],\"contour\":[{\"type\":\"contour\",\"colorbar\":{\"outlinewidth\":0,\"ticks\":\"\"},\"colorscale\":[[0.0,\"#0d0887\"],[0.1111111111111111,\"#46039f\"],[0.2222222222222222,\"#7201a8\"],[0.3333333333333333,\"#9c179e\"],[0.4444444444444444,\"#bd3786\"],[0.5555555555555556,\"#d8576b\"],[0.6666666666666666,\"#ed7953\"],[0.7777777777777778,\"#fb9f3a\"],[0.8888888888888888,\"#fdca26\"],[1.0,\"#f0f921\"]]}],\"surface\":[{\"type\":\"surface\",\"colorbar\":{\"outlinewidth\":0,\"ticks\":\"\"},\"colorscale\":[[0.0,\"#0d0887\"],[0.1111111111111111,\"#46039f\"],[0.2222222222222222,\"#7201a8\"],[0.3333333333333333,\"#9c179e\"],[0.4444444444444444,\"#bd3786\"],[0.5555555555555556,\"#d8576b\"],[0.6666666666666666,\"#ed7953\"],[0.7777777777777778,\"#fb9f3a\"],[0.8888888888888888,\"#fdca26\"],[1.0,\"#f0f921\"]]}],\"mesh3d\":[{\"type\":\"mesh3d\",\"colorbar\":{\"outlinewidth\":0,\"ticks\":\"\"}}],\"scatter\":[{\"fillpattern\":{\"fillmode\":\"overlay\",\"size\":10,\"solidity\":0.2},\"type\":\"scatter\"}],\"parcoords\":[{\"type\":\"parcoords\",\"line\":{\"colorbar\":{\"outlinewidth\":0,\"ticks\":\"\"}}}],\"scatterpolargl\":[{\"type\":\"scatterpolargl\",\"marker\":{\"colorbar\":{\"outlinewidth\":0,\"ticks\":\"\"}}}],\"bar\":[{\"error_x\":{\"color\":\"#2a3f5f\"},\"error_y\":{\"color\":\"#2a3f5f\"},\"marker\":{\"line\":{\"color\":\"#E5ECF6\",\"width\":0.5},\"pattern\":{\"fillmode\":\"overlay\",\"size\":10,\"solidity\":0.2}},\"type\":\"bar\"}],\"scattergeo\":[{\"type\":\"scattergeo\",\"marker\":{\"colorbar\":{\"outlinewidth\":0,\"ticks\":\"\"}}}],\"scatterpolar\":[{\"type\":\"scatterpolar\",\"marker\":{\"colorbar\":{\"outlinewidth\":0,\"ticks\":\"\"}}}],\"histogram\":[{\"marker\":{\"pattern\":{\"fillmode\":\"overlay\",\"size\":10,\"solidity\":0.2}},\"type\":\"histogram\"}],\"scattergl\":[{\"type\":\"scattergl\",\"marker\":{\"colorbar\":{\"outlinewidth\":0,\"ticks\":\"\"}}}],\"scatter3d\":[{\"type\":\"scatter3d\",\"line\":{\"colorbar\":{\"outlinewidth\":0,\"ticks\":\"\"}},\"marker\":{\"colorbar\":{\"outlinewidth\":0,\"ticks\":\"\"}}}],\"scattermapbox\":[{\"type\":\"scattermapbox\",\"marker\":{\"colorbar\":{\"outlinewidth\":0,\"ticks\":\"\"}}}],\"scatterternary\":[{\"type\":\"scatterternary\",\"marker\":{\"colorbar\":{\"outlinewidth\":0,\"ticks\":\"\"}}}],\"scattercarpet\":[{\"type\":\"scattercarpet\",\"marker\":{\"colorbar\":{\"outlinewidth\":0,\"ticks\":\"\"}}}],\"carpet\":[{\"aaxis\":{\"endlinecolor\":\"#2a3f5f\",\"gridcolor\":\"white\",\"linecolor\":\"white\",\"minorgridcolor\":\"white\",\"startlinecolor\":\"#2a3f5f\"},\"baxis\":{\"endlinecolor\":\"#2a3f5f\",\"gridcolor\":\"white\",\"linecolor\":\"white\",\"minorgridcolor\":\"white\",\"startlinecolor\":\"#2a3f5f\"},\"type\":\"carpet\"}],\"table\":[{\"cells\":{\"fill\":{\"color\":\"#EBF0F8\"},\"line\":{\"color\":\"white\"}},\"header\":{\"fill\":{\"color\":\"#C8D4E3\"},\"line\":{\"color\":\"white\"}},\"type\":\"table\"}],\"barpolar\":[{\"marker\":{\"line\":{\"color\":\"#E5ECF6\",\"width\":0.5},\"pattern\":{\"fillmode\":\"overlay\",\"size\":10,\"solidity\":0.2}},\"type\":\"barpolar\"}],\"pie\":[{\"automargin\":true,\"type\":\"pie\"}]},\"layout\":{\"autotypenumbers\":\"strict\",\"colorway\":[\"#636efa\",\"#EF553B\",\"#00cc96\",\"#ab63fa\",\"#FFA15A\",\"#19d3f3\",\"#FF6692\",\"#B6E880\",\"#FF97FF\",\"#FECB52\"],\"font\":{\"color\":\"#2a3f5f\"},\"hovermode\":\"closest\",\"hoverlabel\":{\"align\":\"left\"},\"paper_bgcolor\":\"white\",\"plot_bgcolor\":\"#E5ECF6\",\"polar\":{\"bgcolor\":\"#E5ECF6\",\"angularaxis\":{\"gridcolor\":\"white\",\"linecolor\":\"white\",\"ticks\":\"\"},\"radialaxis\":{\"gridcolor\":\"white\",\"linecolor\":\"white\",\"ticks\":\"\"}},\"ternary\":{\"bgcolor\":\"#E5ECF6\",\"aaxis\":{\"gridcolor\":\"white\",\"linecolor\":\"white\",\"ticks\":\"\"},\"baxis\":{\"gridcolor\":\"white\",\"linecolor\":\"white\",\"ticks\":\"\"},\"caxis\":{\"gridcolor\":\"white\",\"linecolor\":\"white\",\"ticks\":\"\"}},\"coloraxis\":{\"colorbar\":{\"outlinewidth\":0,\"ticks\":\"\"}},\"colorscale\":{\"sequential\":[[0.0,\"#0d0887\"],[0.1111111111111111,\"#46039f\"],[0.2222222222222222,\"#7201a8\"],[0.3333333333333333,\"#9c179e\"],[0.4444444444444444,\"#bd3786\"],[0.5555555555555556,\"#d8576b\"],[0.6666666666666666,\"#ed7953\"],[0.7777777777777778,\"#fb9f3a\"],[0.8888888888888888,\"#fdca26\"],[1.0,\"#f0f921\"]],\"sequentialminus\":[[0.0,\"#0d0887\"],[0.1111111111111111,\"#46039f\"],[0.2222222222222222,\"#7201a8\"],[0.3333333333333333,\"#9c179e\"],[0.4444444444444444,\"#bd3786\"],[0.5555555555555556,\"#d8576b\"],[0.6666666666666666,\"#ed7953\"],[0.7777777777777778,\"#fb9f3a\"],[0.8888888888888888,\"#fdca26\"],[1.0,\"#f0f921\"]],\"diverging\":[[0,\"#8e0152\"],[0.1,\"#c51b7d\"],[0.2,\"#de77ae\"],[0.3,\"#f1b6da\"],[0.4,\"#fde0ef\"],[0.5,\"#f7f7f7\"],[0.6,\"#e6f5d0\"],[0.7,\"#b8e186\"],[0.8,\"#7fbc41\"],[0.9,\"#4d9221\"],[1,\"#276419\"]]},\"xaxis\":{\"gridcolor\":\"white\",\"linecolor\":\"white\",\"ticks\":\"\",\"title\":{\"standoff\":15},\"zerolinecolor\":\"white\",\"automargin\":true,\"zerolinewidth\":2},\"yaxis\":{\"gridcolor\":\"white\",\"linecolor\":\"white\",\"ticks\":\"\",\"title\":{\"standoff\":15},\"zerolinecolor\":\"white\",\"automargin\":true,\"zerolinewidth\":2},\"scene\":{\"xaxis\":{\"backgroundcolor\":\"#E5ECF6\",\"gridcolor\":\"white\",\"linecolor\":\"white\",\"showbackground\":true,\"ticks\":\"\",\"zerolinecolor\":\"white\",\"gridwidth\":2},\"yaxis\":{\"backgroundcolor\":\"#E5ECF6\",\"gridcolor\":\"white\",\"linecolor\":\"white\",\"showbackground\":true,\"ticks\":\"\",\"zerolinecolor\":\"white\",\"gridwidth\":2},\"zaxis\":{\"backgroundcolor\":\"#E5ECF6\",\"gridcolor\":\"white\",\"linecolor\":\"white\",\"showbackground\":true,\"ticks\":\"\",\"zerolinecolor\":\"white\",\"gridwidth\":2}},\"shapedefaults\":{\"line\":{\"color\":\"#2a3f5f\"}},\"annotationdefaults\":{\"arrowcolor\":\"#2a3f5f\",\"arrowhead\":0,\"arrowwidth\":1},\"geo\":{\"bgcolor\":\"white\",\"landcolor\":\"#E5ECF6\",\"subunitcolor\":\"white\",\"showland\":true,\"showlakes\":true,\"lakecolor\":\"white\"},\"title\":{\"x\":0.05},\"mapbox\":{\"style\":\"light\"}}},\"xaxis\":{\"anchor\":\"y\",\"domain\":[0.0,1.0],\"title\":{\"text\":\"iteration\"}},\"yaxis\":{\"anchor\":\"x\",\"domain\":[0.0,1.0],\"title\":{\"text\":\"central_likelihood\"}},\"legend\":{\"title\":{\"text\":\"case\"},\"tracegroupgap\":0},\"margin\":{\"t\":60}},                        {\"responsive\": true}                    ).then(function(){\n",
       "                            \n",
       "var gd = document.getElementById('404a184b-7dad-4f10-a438-0e5225953242');\n",
       "var x = new MutationObserver(function (mutations, observer) {{\n",
       "        var display = window.getComputedStyle(gd).display;\n",
       "        if (!display || display === 'none') {{\n",
       "            console.log([gd, 'removed!']);\n",
       "            Plotly.purge(gd);\n",
       "            observer.disconnect();\n",
       "        }}\n",
       "}});\n",
       "\n",
       "// Listen for the removal of the full notebook cells\n",
       "var notebookContainer = gd.closest('#notebook-container');\n",
       "if (notebookContainer) {{\n",
       "    x.observe(notebookContainer, {childList: true});\n",
       "}}\n",
       "\n",
       "// Listen for the clearing of the current output cell\n",
       "var outputEl = gd.closest('.output');\n",
       "if (outputEl) {{\n",
       "    x.observe(outputEl, {childList: true});\n",
       "}}\n",
       "\n",
       "                        })                };                });            </script>        </div>"
      ]
     },
     "metadata": {},
     "output_type": "display_data"
    }
   ],
   "source": [
    "px.line(\n",
    "    diagnostics_results.groupby(['iteration', 'case']).mean().reset_index(),\n",
    "    x='iteration', y='central_likelihood', color='case'\n",
    ")"
   ]
  },
  {
   "cell_type": "code",
   "execution_count": 327,
   "metadata": {},
   "outputs": [
    {
     "name": "stdout",
     "output_type": "stream",
     "text": [
      "0.2448876848450096\n"
     ]
    },
    {
     "data": {
      "text/html": [
       "<div>\n",
       "<style scoped>\n",
       "    .dataframe tbody tr th:only-of-type {\n",
       "        vertical-align: middle;\n",
       "    }\n",
       "\n",
       "    .dataframe tbody tr th {\n",
       "        vertical-align: top;\n",
       "    }\n",
       "\n",
       "    .dataframe thead th {\n",
       "        text-align: right;\n",
       "    }\n",
       "</style>\n",
       "<table border=\"1\" class=\"dataframe\">\n",
       "  <thead>\n",
       "    <tr style=\"text-align: right;\">\n",
       "      <th></th>\n",
       "      <th>selected</th>\n",
       "      <th>_decision</th>\n",
       "      <th>_identifier</th>\n",
       "      <th>depth_class</th>\n",
       "      <th>month</th>\n",
       "      <th>daytime</th>\n",
       "      <th>interval</th>\n",
       "      <th>fold</th>\n",
       "      <th>_feature_0</th>\n",
       "      <th>_feature_1</th>\n",
       "      <th>proposed</th>\n",
       "      <th>utility</th>\n",
       "      <th>sum_utility</th>\n",
       "      <th>probability</th>\n",
       "      <th>score</th>\n",
       "    </tr>\n",
       "  </thead>\n",
       "  <tbody>\n",
       "    <tr>\n",
       "      <th>0</th>\n",
       "      <td>True</td>\n",
       "      <td>2</td>\n",
       "      <td>159014b</td>\n",
       "      <td>25</td>\n",
       "      <td>4</td>\n",
       "      <td>0.0</td>\n",
       "      <td>15</td>\n",
       "      <td>1</td>\n",
       "      <td>0.222337</td>\n",
       "      <td>-1.266764</td>\n",
       "      <td>8.638713</td>\n",
       "      <td>5.856207</td>\n",
       "      <td>11.157614</td>\n",
       "      <td>0.524862</td>\n",
       "      <td>0.475138</td>\n",
       "    </tr>\n",
       "    <tr>\n",
       "      <th>1</th>\n",
       "      <td>False</td>\n",
       "      <td>2</td>\n",
       "      <td>159014b</td>\n",
       "      <td>50</td>\n",
       "      <td>4</td>\n",
       "      <td>0.0</td>\n",
       "      <td>15</td>\n",
       "      <td>1</td>\n",
       "      <td>0.222337</td>\n",
       "      <td>-1.266764</td>\n",
       "      <td>1.258596</td>\n",
       "      <td>1.445993</td>\n",
       "      <td>11.157614</td>\n",
       "      <td>0.129597</td>\n",
       "      <td>-0.129597</td>\n",
       "    </tr>\n",
       "    <tr>\n",
       "      <th>2</th>\n",
       "      <td>False</td>\n",
       "      <td>2</td>\n",
       "      <td>159014b</td>\n",
       "      <td>75</td>\n",
       "      <td>4</td>\n",
       "      <td>0.0</td>\n",
       "      <td>15</td>\n",
       "      <td>1</td>\n",
       "      <td>0.222337</td>\n",
       "      <td>-1.266764</td>\n",
       "      <td>0.806946</td>\n",
       "      <td>0.875671</td>\n",
       "      <td>11.157614</td>\n",
       "      <td>0.078482</td>\n",
       "      <td>-0.078482</td>\n",
       "    </tr>\n",
       "    <tr>\n",
       "      <th>3</th>\n",
       "      <td>False</td>\n",
       "      <td>2</td>\n",
       "      <td>159014b</td>\n",
       "      <td>100</td>\n",
       "      <td>4</td>\n",
       "      <td>0.0</td>\n",
       "      <td>15</td>\n",
       "      <td>1</td>\n",
       "      <td>0.222337</td>\n",
       "      <td>-1.266764</td>\n",
       "      <td>0.647509</td>\n",
       "      <td>0.690204</td>\n",
       "      <td>11.157614</td>\n",
       "      <td>0.061860</td>\n",
       "      <td>-0.061860</td>\n",
       "    </tr>\n",
       "    <tr>\n",
       "      <th>4</th>\n",
       "      <td>False</td>\n",
       "      <td>2</td>\n",
       "      <td>159014b</td>\n",
       "      <td>150</td>\n",
       "      <td>4</td>\n",
       "      <td>0.0</td>\n",
       "      <td>15</td>\n",
       "      <td>1</td>\n",
       "      <td>0.222337</td>\n",
       "      <td>-1.266764</td>\n",
       "      <td>1.239529</td>\n",
       "      <td>1.420333</td>\n",
       "      <td>11.157614</td>\n",
       "      <td>0.127297</td>\n",
       "      <td>-0.127297</td>\n",
       "    </tr>\n",
       "  </tbody>\n",
       "</table>\n",
       "</div>"
      ],
      "text/plain": [
       "   selected  _decision _identifier  depth_class  month  daytime  interval  \\\n",
       "0      True          2     159014b           25      4      0.0        15   \n",
       "1     False          2     159014b           50      4      0.0        15   \n",
       "2     False          2     159014b           75      4      0.0        15   \n",
       "3     False          2     159014b          100      4      0.0        15   \n",
       "4     False          2     159014b          150      4      0.0        15   \n",
       "\n",
       "   fold  _feature_0  _feature_1  proposed   utility  sum_utility  probability  \\\n",
       "0     1    0.222337   -1.266764  8.638713  5.856207    11.157614     0.524862   \n",
       "1     1    0.222337   -1.266764  1.258596  1.445993    11.157614     0.129597   \n",
       "2     1    0.222337   -1.266764  0.806946  0.875671    11.157614     0.078482   \n",
       "3     1    0.222337   -1.266764  0.647509  0.690204    11.157614     0.061860   \n",
       "4     1    0.222337   -1.266764  1.239529  1.420333    11.157614     0.127297   \n",
       "\n",
       "      score  \n",
       "0  0.475138  \n",
       "1 -0.129597  \n",
       "2 -0.078482  \n",
       "3 -0.061860  \n",
       "4 -0.127297  "
      ]
     },
     "execution_count": 327,
     "metadata": {},
     "output_type": "execute_result"
    }
   ],
   "source": [
    "train[\"utility\"] = model.predict(train[shaped_features])\n",
    "train = get_proposed_utility(train)\n",
    "print(get_central_likelihood(train))\n",
    "train.head()"
   ]
  },
  {
   "cell_type": "code",
   "execution_count": 328,
   "metadata": {},
   "outputs": [
    {
     "name": "stdout",
     "output_type": "stream",
     "text": [
      "0.23678563150350643\n"
     ]
    },
    {
     "data": {
      "text/html": [
       "<div>\n",
       "<style scoped>\n",
       "    .dataframe tbody tr th:only-of-type {\n",
       "        vertical-align: middle;\n",
       "    }\n",
       "\n",
       "    .dataframe tbody tr th {\n",
       "        vertical-align: top;\n",
       "    }\n",
       "\n",
       "    .dataframe thead th {\n",
       "        text-align: right;\n",
       "    }\n",
       "</style>\n",
       "<table border=\"1\" class=\"dataframe\">\n",
       "  <thead>\n",
       "    <tr style=\"text-align: right;\">\n",
       "      <th></th>\n",
       "      <th>selected</th>\n",
       "      <th>_decision</th>\n",
       "      <th>_identifier</th>\n",
       "      <th>depth_class</th>\n",
       "      <th>month</th>\n",
       "      <th>daytime</th>\n",
       "      <th>interval</th>\n",
       "      <th>_feature_0</th>\n",
       "      <th>_feature_1</th>\n",
       "      <th>utility</th>\n",
       "      <th>sum_utility</th>\n",
       "      <th>probability</th>\n",
       "      <th>score</th>\n",
       "      <th>proposed</th>\n",
       "    </tr>\n",
       "  </thead>\n",
       "  <tbody>\n",
       "    <tr>\n",
       "      <th>0</th>\n",
       "      <td>False</td>\n",
       "      <td>0</td>\n",
       "      <td>205404</td>\n",
       "      <td>25</td>\n",
       "      <td>10</td>\n",
       "      <td>0.0</td>\n",
       "      <td>9</td>\n",
       "      <td>1.736296</td>\n",
       "      <td>0.247194</td>\n",
       "      <td>3.217444</td>\n",
       "      <td>11.595412</td>\n",
       "      <td>0.277476</td>\n",
       "      <td>-0.277476</td>\n",
       "      <td>2.324682</td>\n",
       "    </tr>\n",
       "    <tr>\n",
       "      <th>1</th>\n",
       "      <td>False</td>\n",
       "      <td>0</td>\n",
       "      <td>205404</td>\n",
       "      <td>50</td>\n",
       "      <td>10</td>\n",
       "      <td>0.0</td>\n",
       "      <td>9</td>\n",
       "      <td>1.736296</td>\n",
       "      <td>0.247194</td>\n",
       "      <td>1.935972</td>\n",
       "      <td>11.595412</td>\n",
       "      <td>0.166960</td>\n",
       "      <td>-0.166960</td>\n",
       "      <td>1.612742</td>\n",
       "    </tr>\n",
       "    <tr>\n",
       "      <th>2</th>\n",
       "      <td>False</td>\n",
       "      <td>0</td>\n",
       "      <td>205404</td>\n",
       "      <td>75</td>\n",
       "      <td>10</td>\n",
       "      <td>0.0</td>\n",
       "      <td>9</td>\n",
       "      <td>1.736296</td>\n",
       "      <td>0.247194</td>\n",
       "      <td>2.816669</td>\n",
       "      <td>11.595412</td>\n",
       "      <td>0.242912</td>\n",
       "      <td>-0.242912</td>\n",
       "      <td>2.132465</td>\n",
       "    </tr>\n",
       "    <tr>\n",
       "      <th>3</th>\n",
       "      <td>True</td>\n",
       "      <td>0</td>\n",
       "      <td>205404</td>\n",
       "      <td>100</td>\n",
       "      <td>10</td>\n",
       "      <td>0.0</td>\n",
       "      <td>9</td>\n",
       "      <td>1.736296</td>\n",
       "      <td>0.247194</td>\n",
       "      <td>1.807913</td>\n",
       "      <td>11.595412</td>\n",
       "      <td>0.155916</td>\n",
       "      <td>0.844084</td>\n",
       "      <td>3.333943</td>\n",
       "    </tr>\n",
       "    <tr>\n",
       "      <th>4</th>\n",
       "      <td>False</td>\n",
       "      <td>0</td>\n",
       "      <td>205404</td>\n",
       "      <td>150</td>\n",
       "      <td>10</td>\n",
       "      <td>0.0</td>\n",
       "      <td>9</td>\n",
       "      <td>1.736296</td>\n",
       "      <td>0.247194</td>\n",
       "      <td>1.442126</td>\n",
       "      <td>11.595412</td>\n",
       "      <td>0.124370</td>\n",
       "      <td>-0.124370</td>\n",
       "      <td>1.262768</td>\n",
       "    </tr>\n",
       "  </tbody>\n",
       "</table>\n",
       "</div>"
      ],
      "text/plain": [
       "   selected  _decision _identifier  depth_class  month  daytime  interval  \\\n",
       "0     False          0      205404           25     10      0.0         9   \n",
       "1     False          0      205404           50     10      0.0         9   \n",
       "2     False          0      205404           75     10      0.0         9   \n",
       "3      True          0      205404          100     10      0.0         9   \n",
       "4     False          0      205404          150     10      0.0         9   \n",
       "\n",
       "   _feature_0  _feature_1   utility  sum_utility  probability     score  \\\n",
       "0    1.736296    0.247194  3.217444    11.595412     0.277476 -0.277476   \n",
       "1    1.736296    0.247194  1.935972    11.595412     0.166960 -0.166960   \n",
       "2    1.736296    0.247194  2.816669    11.595412     0.242912 -0.242912   \n",
       "3    1.736296    0.247194  1.807913    11.595412     0.155916  0.844084   \n",
       "4    1.736296    0.247194  1.442126    11.595412     0.124370 -0.124370   \n",
       "\n",
       "   proposed  \n",
       "0  2.324682  \n",
       "1  1.612742  \n",
       "2  2.132465  \n",
       "3  3.333943  \n",
       "4  1.262768  "
      ]
     },
     "execution_count": 328,
     "metadata": {},
     "output_type": "execute_result"
    }
   ],
   "source": [
    "test[\"utility\"] = model.predict(test[shaped_features])\n",
    "test = get_proposed_utility(test)\n",
    "print(get_central_likelihood(test))\n",
    "test.head()"
   ]
  },
  {
   "cell_type": "code",
   "execution_count": 329,
   "metadata": {},
   "outputs": [
    {
     "data": {
      "text/plain": [
       "array([0.87242811, 0.07060301, 0.05696887])"
      ]
     },
     "execution_count": 329,
     "metadata": {},
     "output_type": "execute_result"
    }
   ],
   "source": [
    "model.feature_importances_"
   ]
  },
  {
   "cell_type": "code",
   "execution_count": 330,
   "metadata": {},
   "outputs": [
    {
     "data": {
      "text/html": [
       "<div>\n",
       "<style scoped>\n",
       "    .dataframe tbody tr th:only-of-type {\n",
       "        vertical-align: middle;\n",
       "    }\n",
       "\n",
       "    .dataframe tbody tr th {\n",
       "        vertical-align: top;\n",
       "    }\n",
       "\n",
       "    .dataframe thead th {\n",
       "        text-align: right;\n",
       "    }\n",
       "</style>\n",
       "<table border=\"1\" class=\"dataframe\">\n",
       "  <thead>\n",
       "    <tr style=\"text-align: right;\">\n",
       "      <th></th>\n",
       "      <th>probability</th>\n",
       "      <th>selected</th>\n",
       "    </tr>\n",
       "    <tr>\n",
       "      <th>depth_class</th>\n",
       "      <th></th>\n",
       "      <th></th>\n",
       "    </tr>\n",
       "  </thead>\n",
       "  <tbody>\n",
       "    <tr>\n",
       "      <th>25</th>\n",
       "      <td>0.508335</td>\n",
       "      <td>0.509365</td>\n",
       "    </tr>\n",
       "    <tr>\n",
       "      <th>50</th>\n",
       "      <td>0.148172</td>\n",
       "      <td>0.149458</td>\n",
       "    </tr>\n",
       "    <tr>\n",
       "      <th>75</th>\n",
       "      <td>0.108560</td>\n",
       "      <td>0.109323</td>\n",
       "    </tr>\n",
       "    <tr>\n",
       "      <th>100</th>\n",
       "      <td>0.075870</td>\n",
       "      <td>0.077509</td>\n",
       "    </tr>\n",
       "    <tr>\n",
       "      <th>150</th>\n",
       "      <td>0.099398</td>\n",
       "      <td>0.102064</td>\n",
       "    </tr>\n",
       "    <tr>\n",
       "      <th>200</th>\n",
       "      <td>0.039222</td>\n",
       "      <td>0.039976</td>\n",
       "    </tr>\n",
       "    <tr>\n",
       "      <th>250</th>\n",
       "      <td>0.009857</td>\n",
       "      <td>0.008799</td>\n",
       "    </tr>\n",
       "    <tr>\n",
       "      <th>300</th>\n",
       "      <td>0.004761</td>\n",
       "      <td>0.002638</td>\n",
       "    </tr>\n",
       "    <tr>\n",
       "      <th>400</th>\n",
       "      <td>0.003323</td>\n",
       "      <td>0.000868</td>\n",
       "    </tr>\n",
       "    <tr>\n",
       "      <th>500</th>\n",
       "      <td>0.002504</td>\n",
       "      <td>0.000000</td>\n",
       "    </tr>\n",
       "  </tbody>\n",
       "</table>\n",
       "</div>"
      ],
      "text/plain": [
       "             probability  selected\n",
       "depth_class                       \n",
       "25              0.508335  0.509365\n",
       "50              0.148172  0.149458\n",
       "75              0.108560  0.109323\n",
       "100             0.075870  0.077509\n",
       "150             0.099398  0.102064\n",
       "200             0.039222  0.039976\n",
       "250             0.009857  0.008799\n",
       "300             0.004761  0.002638\n",
       "400             0.003323  0.000868\n",
       "500             0.002504  0.000000"
      ]
     },
     "execution_count": 330,
     "metadata": {},
     "output_type": "execute_result"
    }
   ],
   "source": [
    "train.groupby('depth_class')[['probability', 'selected']].mean()"
   ]
  },
  {
   "cell_type": "code",
   "execution_count": 331,
   "metadata": {},
   "outputs": [
    {
     "data": {
      "text/html": [
       "<div>\n",
       "<style scoped>\n",
       "    .dataframe tbody tr th:only-of-type {\n",
       "        vertical-align: middle;\n",
       "    }\n",
       "\n",
       "    .dataframe tbody tr th {\n",
       "        vertical-align: top;\n",
       "    }\n",
       "\n",
       "    .dataframe thead th {\n",
       "        text-align: right;\n",
       "    }\n",
       "</style>\n",
       "<table border=\"1\" class=\"dataframe\">\n",
       "  <thead>\n",
       "    <tr style=\"text-align: right;\">\n",
       "      <th></th>\n",
       "      <th>probability</th>\n",
       "      <th>selected</th>\n",
       "    </tr>\n",
       "    <tr>\n",
       "      <th>depth_class</th>\n",
       "      <th></th>\n",
       "      <th></th>\n",
       "    </tr>\n",
       "  </thead>\n",
       "  <tbody>\n",
       "    <tr>\n",
       "      <th>25</th>\n",
       "      <td>0.463534</td>\n",
       "      <td>0.490854</td>\n",
       "    </tr>\n",
       "    <tr>\n",
       "      <th>50</th>\n",
       "      <td>0.146508</td>\n",
       "      <td>0.173890</td>\n",
       "    </tr>\n",
       "    <tr>\n",
       "      <th>75</th>\n",
       "      <td>0.117795</td>\n",
       "      <td>0.121289</td>\n",
       "    </tr>\n",
       "    <tr>\n",
       "      <th>100</th>\n",
       "      <td>0.088769</td>\n",
       "      <td>0.098561</td>\n",
       "    </tr>\n",
       "    <tr>\n",
       "      <th>150</th>\n",
       "      <td>0.117216</td>\n",
       "      <td>0.087669</td>\n",
       "    </tr>\n",
       "    <tr>\n",
       "      <th>200</th>\n",
       "      <td>0.043866</td>\n",
       "      <td>0.022360</td>\n",
       "    </tr>\n",
       "    <tr>\n",
       "      <th>250</th>\n",
       "      <td>0.010481</td>\n",
       "      <td>0.004389</td>\n",
       "    </tr>\n",
       "    <tr>\n",
       "      <th>300</th>\n",
       "      <td>0.005651</td>\n",
       "      <td>0.000873</td>\n",
       "    </tr>\n",
       "    <tr>\n",
       "      <th>400</th>\n",
       "      <td>0.003671</td>\n",
       "      <td>0.000115</td>\n",
       "    </tr>\n",
       "    <tr>\n",
       "      <th>500</th>\n",
       "      <td>0.002509</td>\n",
       "      <td>0.000000</td>\n",
       "    </tr>\n",
       "  </tbody>\n",
       "</table>\n",
       "</div>"
      ],
      "text/plain": [
       "             probability  selected\n",
       "depth_class                       \n",
       "25              0.463534  0.490854\n",
       "50              0.146508  0.173890\n",
       "75              0.117795  0.121289\n",
       "100             0.088769  0.098561\n",
       "150             0.117216  0.087669\n",
       "200             0.043866  0.022360\n",
       "250             0.010481  0.004389\n",
       "300             0.005651  0.000873\n",
       "400             0.003671  0.000115\n",
       "500             0.002509  0.000000"
      ]
     },
     "execution_count": 331,
     "metadata": {},
     "output_type": "execute_result"
    }
   ],
   "source": [
    "test.groupby('depth_class')[['probability', 'selected']].mean()"
   ]
  },
  {
   "cell_type": "code",
   "execution_count": 332,
   "metadata": {},
   "outputs": [
    {
     "data": {
      "text/html": [
       "<div>\n",
       "<style scoped>\n",
       "    .dataframe tbody tr th:only-of-type {\n",
       "        vertical-align: middle;\n",
       "    }\n",
       "\n",
       "    .dataframe tbody tr th {\n",
       "        vertical-align: top;\n",
       "    }\n",
       "\n",
       "    .dataframe thead th {\n",
       "        text-align: right;\n",
       "    }\n",
       "</style>\n",
       "<table border=\"1\" class=\"dataframe\">\n",
       "  <thead>\n",
       "    <tr style=\"text-align: right;\">\n",
       "      <th></th>\n",
       "      <th></th>\n",
       "      <th>probability</th>\n",
       "      <th>selected</th>\n",
       "    </tr>\n",
       "    <tr>\n",
       "      <th>depth_class</th>\n",
       "      <th>interval</th>\n",
       "      <th></th>\n",
       "      <th></th>\n",
       "    </tr>\n",
       "  </thead>\n",
       "  <tbody>\n",
       "    <tr>\n",
       "      <th rowspan=\"3\" valign=\"top\">25</th>\n",
       "      <th>0</th>\n",
       "      <td>0.365887</td>\n",
       "      <td>0.366440</td>\n",
       "    </tr>\n",
       "    <tr>\n",
       "      <th>1</th>\n",
       "      <td>0.563637</td>\n",
       "      <td>0.566082</td>\n",
       "    </tr>\n",
       "    <tr>\n",
       "      <th>2</th>\n",
       "      <td>0.642809</td>\n",
       "      <td>0.642198</td>\n",
       "    </tr>\n",
       "    <tr>\n",
       "      <th rowspan=\"3\" valign=\"top\">50</th>\n",
       "      <th>0</th>\n",
       "      <td>0.143734</td>\n",
       "      <td>0.140902</td>\n",
       "    </tr>\n",
       "    <tr>\n",
       "      <th>1</th>\n",
       "      <td>0.148324</td>\n",
       "      <td>0.151504</td>\n",
       "    </tr>\n",
       "    <tr>\n",
       "      <th>2</th>\n",
       "      <td>0.155037</td>\n",
       "      <td>0.159710</td>\n",
       "    </tr>\n",
       "    <tr>\n",
       "      <th rowspan=\"3\" valign=\"top\">75</th>\n",
       "      <th>0</th>\n",
       "      <td>0.144976</td>\n",
       "      <td>0.149408</td>\n",
       "    </tr>\n",
       "    <tr>\n",
       "      <th>1</th>\n",
       "      <td>0.093302</td>\n",
       "      <td>0.089721</td>\n",
       "    </tr>\n",
       "    <tr>\n",
       "      <th>2</th>\n",
       "      <td>0.076089</td>\n",
       "      <td>0.078367</td>\n",
       "    </tr>\n",
       "    <tr>\n",
       "      <th rowspan=\"3\" valign=\"top\">100</th>\n",
       "      <th>0</th>\n",
       "      <td>0.116897</td>\n",
       "      <td>0.122178</td>\n",
       "    </tr>\n",
       "    <tr>\n",
       "      <th>1</th>\n",
       "      <td>0.055101</td>\n",
       "      <td>0.053188</td>\n",
       "    </tr>\n",
       "    <tr>\n",
       "      <th>2</th>\n",
       "      <td>0.045388</td>\n",
       "      <td>0.047234</td>\n",
       "    </tr>\n",
       "    <tr>\n",
       "      <th rowspan=\"3\" valign=\"top\">150</th>\n",
       "      <th>0</th>\n",
       "      <td>0.147762</td>\n",
       "      <td>0.152450</td>\n",
       "    </tr>\n",
       "    <tr>\n",
       "      <th>1</th>\n",
       "      <td>0.082674</td>\n",
       "      <td>0.084348</td>\n",
       "    </tr>\n",
       "    <tr>\n",
       "      <th>2</th>\n",
       "      <td>0.050245</td>\n",
       "      <td>0.051354</td>\n",
       "    </tr>\n",
       "    <tr>\n",
       "      <th rowspan=\"3\" valign=\"top\">200</th>\n",
       "      <th>0</th>\n",
       "      <td>0.052630</td>\n",
       "      <td>0.049708</td>\n",
       "    </tr>\n",
       "    <tr>\n",
       "      <th>1</th>\n",
       "      <td>0.039465</td>\n",
       "      <td>0.044502</td>\n",
       "    </tr>\n",
       "    <tr>\n",
       "      <th>2</th>\n",
       "      <td>0.017277</td>\n",
       "      <td>0.016635</td>\n",
       "    </tr>\n",
       "    <tr>\n",
       "      <th rowspan=\"3\" valign=\"top\">250</th>\n",
       "      <th>0</th>\n",
       "      <td>0.012705</td>\n",
       "      <td>0.010122</td>\n",
       "    </tr>\n",
       "    <tr>\n",
       "      <th>1</th>\n",
       "      <td>0.009815</td>\n",
       "      <td>0.010297</td>\n",
       "    </tr>\n",
       "    <tr>\n",
       "      <th>2</th>\n",
       "      <td>0.005354</td>\n",
       "      <td>0.004121</td>\n",
       "    </tr>\n",
       "    <tr>\n",
       "      <th rowspan=\"3\" valign=\"top\">300</th>\n",
       "      <th>0</th>\n",
       "      <td>0.008256</td>\n",
       "      <td>0.006463</td>\n",
       "    </tr>\n",
       "    <tr>\n",
       "      <th>1</th>\n",
       "      <td>0.002703</td>\n",
       "      <td>0.000358</td>\n",
       "    </tr>\n",
       "    <tr>\n",
       "      <th>2</th>\n",
       "      <td>0.002656</td>\n",
       "      <td>0.000382</td>\n",
       "    </tr>\n",
       "    <tr>\n",
       "      <th rowspan=\"3\" valign=\"top\">400</th>\n",
       "      <th>0</th>\n",
       "      <td>0.004663</td>\n",
       "      <td>0.002329</td>\n",
       "    </tr>\n",
       "    <tr>\n",
       "      <th>1</th>\n",
       "      <td>0.002501</td>\n",
       "      <td>0.000000</td>\n",
       "    </tr>\n",
       "    <tr>\n",
       "      <th>2</th>\n",
       "      <td>0.002572</td>\n",
       "      <td>0.000000</td>\n",
       "    </tr>\n",
       "    <tr>\n",
       "      <th rowspan=\"3\" valign=\"top\">500</th>\n",
       "      <th>0</th>\n",
       "      <td>0.002489</td>\n",
       "      <td>0.000000</td>\n",
       "    </tr>\n",
       "    <tr>\n",
       "      <th>1</th>\n",
       "      <td>0.002478</td>\n",
       "      <td>0.000000</td>\n",
       "    </tr>\n",
       "    <tr>\n",
       "      <th>2</th>\n",
       "      <td>0.002572</td>\n",
       "      <td>0.000000</td>\n",
       "    </tr>\n",
       "  </tbody>\n",
       "</table>\n",
       "</div>"
      ],
      "text/plain": [
       "                      probability  selected\n",
       "depth_class interval                       \n",
       "25          0            0.365887  0.366440\n",
       "            1            0.563637  0.566082\n",
       "            2            0.642809  0.642198\n",
       "50          0            0.143734  0.140902\n",
       "            1            0.148324  0.151504\n",
       "            2            0.155037  0.159710\n",
       "75          0            0.144976  0.149408\n",
       "            1            0.093302  0.089721\n",
       "            2            0.076089  0.078367\n",
       "100         0            0.116897  0.122178\n",
       "            1            0.055101  0.053188\n",
       "            2            0.045388  0.047234\n",
       "150         0            0.147762  0.152450\n",
       "            1            0.082674  0.084348\n",
       "            2            0.050245  0.051354\n",
       "200         0            0.052630  0.049708\n",
       "            1            0.039465  0.044502\n",
       "            2            0.017277  0.016635\n",
       "250         0            0.012705  0.010122\n",
       "            1            0.009815  0.010297\n",
       "            2            0.005354  0.004121\n",
       "300         0            0.008256  0.006463\n",
       "            1            0.002703  0.000358\n",
       "            2            0.002656  0.000382\n",
       "400         0            0.004663  0.002329\n",
       "            1            0.002501  0.000000\n",
       "            2            0.002572  0.000000\n",
       "500         0            0.002489  0.000000\n",
       "            1            0.002478  0.000000\n",
       "            2            0.002572  0.000000"
      ]
     },
     "execution_count": 332,
     "metadata": {},
     "output_type": "execute_result"
    }
   ],
   "source": [
    "train.groupby(['depth_class', pd.qcut(train['interval'], q=3, labels=False)])[['probability', 'selected']].mean()"
   ]
  },
  {
   "cell_type": "code",
   "execution_count": 333,
   "metadata": {},
   "outputs": [
    {
     "data": {
      "text/html": [
       "<div>\n",
       "<style scoped>\n",
       "    .dataframe tbody tr th:only-of-type {\n",
       "        vertical-align: middle;\n",
       "    }\n",
       "\n",
       "    .dataframe tbody tr th {\n",
       "        vertical-align: top;\n",
       "    }\n",
       "\n",
       "    .dataframe thead th {\n",
       "        text-align: right;\n",
       "    }\n",
       "</style>\n",
       "<table border=\"1\" class=\"dataframe\">\n",
       "  <thead>\n",
       "    <tr style=\"text-align: right;\">\n",
       "      <th></th>\n",
       "      <th></th>\n",
       "      <th>probability</th>\n",
       "      <th>selected</th>\n",
       "    </tr>\n",
       "    <tr>\n",
       "      <th>depth_class</th>\n",
       "      <th>interval</th>\n",
       "      <th></th>\n",
       "      <th></th>\n",
       "    </tr>\n",
       "  </thead>\n",
       "  <tbody>\n",
       "    <tr>\n",
       "      <th rowspan=\"3\" valign=\"top\">25</th>\n",
       "      <th>0</th>\n",
       "      <td>0.324975</td>\n",
       "      <td>0.334206</td>\n",
       "    </tr>\n",
       "    <tr>\n",
       "      <th>1</th>\n",
       "      <td>0.525545</td>\n",
       "      <td>0.628953</td>\n",
       "    </tr>\n",
       "    <tr>\n",
       "      <th>2</th>\n",
       "      <td>0.615808</td>\n",
       "      <td>0.557277</td>\n",
       "    </tr>\n",
       "    <tr>\n",
       "      <th rowspan=\"3\" valign=\"top\">50</th>\n",
       "      <th>0</th>\n",
       "      <td>0.139205</td>\n",
       "      <td>0.186177</td>\n",
       "    </tr>\n",
       "    <tr>\n",
       "      <th>1</th>\n",
       "      <td>0.146627</td>\n",
       "      <td>0.158974</td>\n",
       "    </tr>\n",
       "    <tr>\n",
       "      <th>2</th>\n",
       "      <td>0.159431</td>\n",
       "      <td>0.175030</td>\n",
       "    </tr>\n",
       "    <tr>\n",
       "      <th rowspan=\"3\" valign=\"top\">75</th>\n",
       "      <th>0</th>\n",
       "      <td>0.152718</td>\n",
       "      <td>0.167576</td>\n",
       "    </tr>\n",
       "    <tr>\n",
       "      <th>1</th>\n",
       "      <td>0.099222</td>\n",
       "      <td>0.089162</td>\n",
       "    </tr>\n",
       "    <tr>\n",
       "      <th>2</th>\n",
       "      <td>0.083994</td>\n",
       "      <td>0.088165</td>\n",
       "    </tr>\n",
       "    <tr>\n",
       "      <th rowspan=\"3\" valign=\"top\">100</th>\n",
       "      <th>0</th>\n",
       "      <td>0.135470</td>\n",
       "      <td>0.145077</td>\n",
       "    </tr>\n",
       "    <tr>\n",
       "      <th>1</th>\n",
       "      <td>0.059630</td>\n",
       "      <td>0.056184</td>\n",
       "    </tr>\n",
       "    <tr>\n",
       "      <th>2</th>\n",
       "      <td>0.050257</td>\n",
       "      <td>0.080968</td>\n",
       "    </tr>\n",
       "    <tr>\n",
       "      <th rowspan=\"3\" valign=\"top\">150</th>\n",
       "      <th>0</th>\n",
       "      <td>0.168084</td>\n",
       "      <td>0.122856</td>\n",
       "    </tr>\n",
       "    <tr>\n",
       "      <th>1</th>\n",
       "      <td>0.097261</td>\n",
       "      <td>0.050463</td>\n",
       "    </tr>\n",
       "    <tr>\n",
       "      <th>2</th>\n",
       "      <td>0.056945</td>\n",
       "      <td>0.082367</td>\n",
       "    </tr>\n",
       "    <tr>\n",
       "      <th rowspan=\"3\" valign=\"top\">200</th>\n",
       "      <th>0</th>\n",
       "      <td>0.051555</td>\n",
       "      <td>0.033359</td>\n",
       "    </tr>\n",
       "    <tr>\n",
       "      <th>1</th>\n",
       "      <td>0.050395</td>\n",
       "      <td>0.015171</td>\n",
       "    </tr>\n",
       "    <tr>\n",
       "      <th>2</th>\n",
       "      <td>0.019912</td>\n",
       "      <td>0.013794</td>\n",
       "    </tr>\n",
       "    <tr>\n",
       "      <th rowspan=\"3\" valign=\"top\">250</th>\n",
       "      <th>0</th>\n",
       "      <td>0.011981</td>\n",
       "      <td>0.008632</td>\n",
       "    </tr>\n",
       "    <tr>\n",
       "      <th>1</th>\n",
       "      <td>0.011807</td>\n",
       "      <td>0.001029</td>\n",
       "    </tr>\n",
       "    <tr>\n",
       "      <th>2</th>\n",
       "      <td>0.005726</td>\n",
       "      <td>0.001999</td>\n",
       "    </tr>\n",
       "    <tr>\n",
       "      <th rowspan=\"3\" valign=\"top\">300</th>\n",
       "      <th>0</th>\n",
       "      <td>0.008543</td>\n",
       "      <td>0.001838</td>\n",
       "    </tr>\n",
       "    <tr>\n",
       "      <th>1</th>\n",
       "      <td>0.004209</td>\n",
       "      <td>0.000064</td>\n",
       "    </tr>\n",
       "    <tr>\n",
       "      <th>2</th>\n",
       "      <td>0.002701</td>\n",
       "      <td>0.000400</td>\n",
       "    </tr>\n",
       "    <tr>\n",
       "      <th rowspan=\"3\" valign=\"top\">400</th>\n",
       "      <th>0</th>\n",
       "      <td>0.004922</td>\n",
       "      <td>0.000278</td>\n",
       "    </tr>\n",
       "    <tr>\n",
       "      <th>1</th>\n",
       "      <td>0.002906</td>\n",
       "      <td>0.000000</td>\n",
       "    </tr>\n",
       "    <tr>\n",
       "      <th>2</th>\n",
       "      <td>0.002613</td>\n",
       "      <td>0.000000</td>\n",
       "    </tr>\n",
       "    <tr>\n",
       "      <th rowspan=\"3\" valign=\"top\">500</th>\n",
       "      <th>0</th>\n",
       "      <td>0.002546</td>\n",
       "      <td>0.000000</td>\n",
       "    </tr>\n",
       "    <tr>\n",
       "      <th>1</th>\n",
       "      <td>0.002399</td>\n",
       "      <td>0.000000</td>\n",
       "    </tr>\n",
       "    <tr>\n",
       "      <th>2</th>\n",
       "      <td>0.002613</td>\n",
       "      <td>0.000000</td>\n",
       "    </tr>\n",
       "  </tbody>\n",
       "</table>\n",
       "</div>"
      ],
      "text/plain": [
       "                      probability  selected\n",
       "depth_class interval                       \n",
       "25          0            0.324975  0.334206\n",
       "            1            0.525545  0.628953\n",
       "            2            0.615808  0.557277\n",
       "50          0            0.139205  0.186177\n",
       "            1            0.146627  0.158974\n",
       "            2            0.159431  0.175030\n",
       "75          0            0.152718  0.167576\n",
       "            1            0.099222  0.089162\n",
       "            2            0.083994  0.088165\n",
       "100         0            0.135470  0.145077\n",
       "            1            0.059630  0.056184\n",
       "            2            0.050257  0.080968\n",
       "150         0            0.168084  0.122856\n",
       "            1            0.097261  0.050463\n",
       "            2            0.056945  0.082367\n",
       "200         0            0.051555  0.033359\n",
       "            1            0.050395  0.015171\n",
       "            2            0.019912  0.013794\n",
       "250         0            0.011981  0.008632\n",
       "            1            0.011807  0.001029\n",
       "            2            0.005726  0.001999\n",
       "300         0            0.008543  0.001838\n",
       "            1            0.004209  0.000064\n",
       "            2            0.002701  0.000400\n",
       "400         0            0.004922  0.000278\n",
       "            1            0.002906  0.000000\n",
       "            2            0.002613  0.000000\n",
       "500         0            0.002546  0.000000\n",
       "            1            0.002399  0.000000\n",
       "            2            0.002613  0.000000"
      ]
     },
     "execution_count": 333,
     "metadata": {},
     "output_type": "execute_result"
    }
   ],
   "source": [
    "test.groupby(['depth_class', pd.qcut(test['interval'], q=3, labels=False)])[['probability', 'selected']].mean()"
   ]
  },
  {
   "cell_type": "code",
   "execution_count": 334,
   "metadata": {},
   "outputs": [
    {
     "data": {
      "text/html": [
       "<div>\n",
       "<style scoped>\n",
       "    .dataframe tbody tr th:only-of-type {\n",
       "        vertical-align: middle;\n",
       "    }\n",
       "\n",
       "    .dataframe tbody tr th {\n",
       "        vertical-align: top;\n",
       "    }\n",
       "\n",
       "    .dataframe thead th {\n",
       "        text-align: right;\n",
       "    }\n",
       "</style>\n",
       "<table border=\"1\" class=\"dataframe\">\n",
       "  <thead>\n",
       "    <tr style=\"text-align: right;\">\n",
       "      <th></th>\n",
       "      <th></th>\n",
       "      <th>probability</th>\n",
       "      <th>selected</th>\n",
       "    </tr>\n",
       "    <tr>\n",
       "      <th>depth_class</th>\n",
       "      <th>daytime</th>\n",
       "      <th></th>\n",
       "      <th></th>\n",
       "    </tr>\n",
       "  </thead>\n",
       "  <tbody>\n",
       "    <tr>\n",
       "      <th rowspan=\"2\" valign=\"top\">25</th>\n",
       "      <th>0.0</th>\n",
       "      <td>0.481960</td>\n",
       "      <td>0.484432</td>\n",
       "    </tr>\n",
       "    <tr>\n",
       "      <th>1.0</th>\n",
       "      <td>0.532123</td>\n",
       "      <td>0.531854</td>\n",
       "    </tr>\n",
       "    <tr>\n",
       "      <th rowspan=\"2\" valign=\"top\">50</th>\n",
       "      <th>0.0</th>\n",
       "      <td>0.153443</td>\n",
       "      <td>0.154148</td>\n",
       "    </tr>\n",
       "    <tr>\n",
       "      <th>1.0</th>\n",
       "      <td>0.143417</td>\n",
       "      <td>0.145229</td>\n",
       "    </tr>\n",
       "    <tr>\n",
       "      <th rowspan=\"2\" valign=\"top\">75</th>\n",
       "      <th>0.0</th>\n",
       "      <td>0.114609</td>\n",
       "      <td>0.114948</td>\n",
       "    </tr>\n",
       "    <tr>\n",
       "      <th>1.0</th>\n",
       "      <td>0.103103</td>\n",
       "      <td>0.104249</td>\n",
       "    </tr>\n",
       "    <tr>\n",
       "      <th rowspan=\"2\" valign=\"top\">100</th>\n",
       "      <th>0.0</th>\n",
       "      <td>0.083658</td>\n",
       "      <td>0.085492</td>\n",
       "    </tr>\n",
       "    <tr>\n",
       "      <th>1.0</th>\n",
       "      <td>0.068845</td>\n",
       "      <td>0.070308</td>\n",
       "    </tr>\n",
       "    <tr>\n",
       "      <th rowspan=\"2\" valign=\"top\">150</th>\n",
       "      <th>0.0</th>\n",
       "      <td>0.112371</td>\n",
       "      <td>0.115695</td>\n",
       "    </tr>\n",
       "    <tr>\n",
       "      <th>1.0</th>\n",
       "      <td>0.087697</td>\n",
       "      <td>0.089770</td>\n",
       "    </tr>\n",
       "    <tr>\n",
       "      <th rowspan=\"2\" valign=\"top\">200</th>\n",
       "      <th>0.0</th>\n",
       "      <td>0.035972</td>\n",
       "      <td>0.036176</td>\n",
       "    </tr>\n",
       "    <tr>\n",
       "      <th>1.0</th>\n",
       "      <td>0.042152</td>\n",
       "      <td>0.043404</td>\n",
       "    </tr>\n",
       "    <tr>\n",
       "      <th rowspan=\"2\" valign=\"top\">250</th>\n",
       "      <th>0.0</th>\n",
       "      <td>0.009325</td>\n",
       "      <td>0.007840</td>\n",
       "    </tr>\n",
       "    <tr>\n",
       "      <th>1.0</th>\n",
       "      <td>0.010337</td>\n",
       "      <td>0.009664</td>\n",
       "    </tr>\n",
       "    <tr>\n",
       "      <th rowspan=\"2\" valign=\"top\">300</th>\n",
       "      <th>0.0</th>\n",
       "      <td>0.003487</td>\n",
       "      <td>0.001120</td>\n",
       "    </tr>\n",
       "    <tr>\n",
       "      <th>1.0</th>\n",
       "      <td>0.005909</td>\n",
       "      <td>0.004007</td>\n",
       "    </tr>\n",
       "    <tr>\n",
       "      <th rowspan=\"2\" valign=\"top\">400</th>\n",
       "      <th>0.0</th>\n",
       "      <td>0.002678</td>\n",
       "      <td>0.000149</td>\n",
       "    </tr>\n",
       "    <tr>\n",
       "      <th>1.0</th>\n",
       "      <td>0.003904</td>\n",
       "      <td>0.001515</td>\n",
       "    </tr>\n",
       "    <tr>\n",
       "      <th rowspan=\"2\" valign=\"top\">500</th>\n",
       "      <th>0.0</th>\n",
       "      <td>0.002496</td>\n",
       "      <td>0.000000</td>\n",
       "    </tr>\n",
       "    <tr>\n",
       "      <th>1.0</th>\n",
       "      <td>0.002511</td>\n",
       "      <td>0.000000</td>\n",
       "    </tr>\n",
       "  </tbody>\n",
       "</table>\n",
       "</div>"
      ],
      "text/plain": [
       "                     probability  selected\n",
       "depth_class daytime                       \n",
       "25          0.0         0.481960  0.484432\n",
       "            1.0         0.532123  0.531854\n",
       "50          0.0         0.153443  0.154148\n",
       "            1.0         0.143417  0.145229\n",
       "75          0.0         0.114609  0.114948\n",
       "            1.0         0.103103  0.104249\n",
       "100         0.0         0.083658  0.085492\n",
       "            1.0         0.068845  0.070308\n",
       "150         0.0         0.112371  0.115695\n",
       "            1.0         0.087697  0.089770\n",
       "200         0.0         0.035972  0.036176\n",
       "            1.0         0.042152  0.043404\n",
       "250         0.0         0.009325  0.007840\n",
       "            1.0         0.010337  0.009664\n",
       "300         0.0         0.003487  0.001120\n",
       "            1.0         0.005909  0.004007\n",
       "400         0.0         0.002678  0.000149\n",
       "            1.0         0.003904  0.001515\n",
       "500         0.0         0.002496  0.000000\n",
       "            1.0         0.002511  0.000000"
      ]
     },
     "execution_count": 334,
     "metadata": {},
     "output_type": "execute_result"
    }
   ],
   "source": [
    "train.groupby(['depth_class', 'daytime'])[['probability', 'selected']].mean()"
   ]
  },
  {
   "cell_type": "code",
   "execution_count": null,
   "metadata": {},
   "outputs": [],
   "source": []
  }
 ],
 "metadata": {
  "kernelspec": {
   "display_name": "Python 3",
   "language": "python",
   "name": "python3"
  },
  "language_info": {
   "codemirror_mode": {
    "name": "ipython",
    "version": 3
   },
   "file_extension": ".py",
   "mimetype": "text/x-python",
   "name": "python",
   "nbconvert_exporter": "python",
   "pygments_lexer": "ipython3",
   "version": "3.10.12"
  }
 },
 "nbformat": 4,
 "nbformat_minor": 2
}
