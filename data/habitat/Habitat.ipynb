{
 "cells": [
  {
   "cell_type": "code",
   "execution_count": null,
   "id": "4dff1beb",
   "metadata": {},
   "outputs": [],
   "source": [
    "import os\n",
    "os.environ['AWS_PROFILE'] = 'admin'\n",
    "os.environ['HAVEN_DATABASE'] = 'haven'\n",
    "\n",
    "import plotly.graph_objects as go\n",
    "import plotly.express as px\n",
    "import pandas as pd\n",
    "import numpy as np\n",
    "import h3\n",
    "from tqdm import tqdm\n",
    "\n",
    "from mirrorverse.utils import read_data_w_cache\n",
    "from mirrorverse.plotting import build_geojson"
   ]
  },
  {
   "cell_type": "code",
   "execution_count": null,
   "id": "e41ec8ec",
   "metadata": {},
   "outputs": [],
   "source": [
    "sql = '''\n",
    "select \n",
    "    h3_index,\n",
    "    chlorophyll, \n",
    "    time,\n",
    "    extract(year from time) as year,\n",
    "    extract(month from time) as month\n",
    "from \n",
    "    copernicus_biochemistry\n",
    "where \n",
    "    h3_resolution = 4\n",
    "    and depth_bin = 25.0\n",
    "    and extract(year from time) in (2015, 2016, 2017, 2018)\n",
    "    and extract(day from time) = 1\n",
    "'''\n",
    "raw_data = read_data_w_cache(sql)\n",
    "raw_data['lat'] = raw_data['h3_index'].apply(lambda h: h3.h3_to_geo(h)[0])\n",
    "raw_data['lon'] = raw_data['h3_index'].apply(lambda h: h3.h3_to_geo(h)[1])\n",
    "raw_data['epoch'] = raw_data['time'].astype('int64') // 10**9\n",
    "raw_data['raw_chlorophyll'] = raw_data['chlorophyll']\n",
    "\n",
    "raw_data = raw_data[(raw_data['lon'] > -170) & (raw_data['lat'] > 42) & (raw_data['lat'] < 64)]\n",
    "raw_data = raw_data.sort_values(['epoch', 'h3_index'], ascending=False).reset_index(drop=True)\n",
    "print(raw_data.shape)\n",
    "raw_data.head()"
   ]
  },
  {
   "cell_type": "code",
   "execution_count": null,
   "id": "8c55c311",
   "metadata": {},
   "outputs": [],
   "source": [
    "px.histogram(raw_data['raw_chlorophyll'])"
   ]
  },
  {
   "cell_type": "code",
   "execution_count": null,
   "id": "5acb7920",
   "metadata": {},
   "outputs": [],
   "source": [
    "raw_data['chlorophyll'] = (np.log(raw_data['raw_chlorophyll']) - np.log(raw_data['raw_chlorophyll']).mean()) / (np.log(raw_data['raw_chlorophyll']).std())"
   ]
  },
  {
   "cell_type": "code",
   "execution_count": null,
   "id": "a9b67742",
   "metadata": {},
   "outputs": [],
   "source": [
    "px.histogram(raw_data['chlorophyll'])"
   ]
  },
  {
   "cell_type": "code",
   "execution_count": null,
   "id": "85d5d523",
   "metadata": {},
   "outputs": [],
   "source": [
    "rows = []\n",
    "for h3_index in tqdm(list(raw_data['h3_index'].unique())):\n",
    "    df = raw_data[raw_data['h3_index'] == h3_index].reset_index(drop=True)\n",
    "    for i, entry in df.iterrows():\n",
    "        row = {\n",
    "            'year': entry['year'],\n",
    "            'month': entry['month'],\n",
    "            'h3_index': entry['h3_index'],\n",
    "        }\n",
    "        vals = df['chlorophyll'].values[i:12+i]\n",
    "        if len(vals) < 12:\n",
    "            break\n",
    "        for j, val in enumerate(vals):\n",
    "            row[f'chlorophyll_{j}'] = val\n",
    "        rows.append(row)\n",
    "data = pd.DataFrame(rows)\n",
    "print(data.shape)\n",
    "data.head()"
   ]
  },
  {
   "cell_type": "code",
   "execution_count": null,
   "id": "bcc25579",
   "metadata": {},
   "outputs": [],
   "source": [
    "from sklearn.model_selection import train_test_split\n",
    "\n",
    "X = data[[f'chlorophyll_{i}' for i in range(12)]]\n",
    "X = X - np.min(X)\n",
    "X = X / np.max(X)\n",
    "X_train, X_test = train_test_split(X, test_size=0.33, random_state=42)"
   ]
  },
  {
   "cell_type": "code",
   "execution_count": null,
   "id": "2a6eb838",
   "metadata": {},
   "outputs": [],
   "source": [
    "from tensorflow.keras.models import Model\n",
    "import tensorflow as tf\n",
    "from tensorflow.keras import layers, losses"
   ]
  },
  {
   "cell_type": "code",
   "execution_count": null,
   "id": "a028daee",
   "metadata": {},
   "outputs": [],
   "source": [
    "class Autoencoder(Model):\n",
    "    def __init__(self, latent_dim, shape):\n",
    "        super(Autoencoder, self).__init__()\n",
    "        self.latent_dim = latent_dim\n",
    "        self.shape = shape\n",
    "        self.encoder = tf.keras.Sequential([\n",
    "            layers.Dense(latent_dim, activation='linear')\n",
    "        ])\n",
    "        self.decoder = tf.keras.Sequential([\n",
    "            layers.Dense(shape, activation='sigmoid') # note X has to be in the range of 0 - 1\n",
    "        ])\n",
    "\n",
    "    def call(self, x):\n",
    "        encoded = self.encoder(x)\n",
    "        decoded = self.decoder(encoded)\n",
    "        return decoded\n",
    "\n",
    "shape = 12\n",
    "latent_dim = 1\n",
    "autoencoder = Autoencoder(latent_dim, shape)"
   ]
  },
  {
   "cell_type": "code",
   "execution_count": null,
   "id": "171b87a6",
   "metadata": {},
   "outputs": [],
   "source": [
    "autoencoder.compile(optimizer='adam', loss=losses.MeanSquaredError())"
   ]
  },
  {
   "cell_type": "code",
   "execution_count": null,
   "id": "0125b6a9",
   "metadata": {},
   "outputs": [],
   "source": [
    "autoencoder.fit(X_train, X_train,\n",
    "                epochs=10,\n",
    "                shuffle=True,\n",
    "                validation_data=(X_test, X_test))"
   ]
  },
  {
   "cell_type": "code",
   "execution_count": null,
   "id": "0968415f",
   "metadata": {},
   "outputs": [],
   "source": [
    "X_test"
   ]
  },
  {
   "cell_type": "code",
   "execution_count": null,
   "id": "35595c5d",
   "metadata": {},
   "outputs": [],
   "source": [
    "X_test_pred = autoencoder.predict(X_test)\n",
    "losses.MeanSquaredError()(X_test, X_test_pred)"
   ]
  },
  {
   "cell_type": "code",
   "execution_count": null,
   "id": "a0654d76",
   "metadata": {},
   "outputs": [],
   "source": [
    "indices = pd.DataFrame(autoencoder.encoder(X))\n",
    "indices = pd.concat([data[['h3_index', 'month', 'year']], indices], axis=1)"
   ]
  },
  {
   "cell_type": "code",
   "execution_count": null,
   "id": "2f408cd9",
   "metadata": {},
   "outputs": [],
   "source": [
    "df = indices[indices['year'] == 2016]\n",
    "\n",
    "fig = go.Figure()\n",
    "geojson = build_geojson(df, 'h3_index')\n",
    "months = sorted(df['month'].unique())\n",
    "for month in months:\n",
    "    sdf = df[df['month'] == month]\n",
    "    fig.add_trace(\n",
    "        go.Choroplethmapbox(\n",
    "            geojson=geojson,\n",
    "            locations=sdf['h3_index'],\n",
    "            z=sdf[0],\n",
    "            visible=False,\n",
    "            marker_line_color='rgba(255,255,255,0)',\n",
    "            zmin=df[0].min(),\n",
    "            zmax=df[0].max(),\n",
    "            colorscale='algae'\n",
    "        )\n",
    "    )\n",
    "\n",
    "fig.data[0].visible = True\n",
    "\n",
    "steps = []\n",
    "for i, slider_val in enumerate(months):\n",
    "    step = dict(\n",
    "        method=\"update\",\n",
    "        args=[\n",
    "            {\"visible\": [False] * len(months)},\n",
    "            {\"title\": f\"month: {slider_val}\"},\n",
    "        ],\n",
    "        label=f\"{slider_val}\"\n",
    "    )\n",
    "    step[\"args\"][0][\"visible\"][i] = True\n",
    "    steps.append(step)\n",
    "\n",
    "sliders = [dict(\n",
    "    active=0,\n",
    "    currentvalue={\"prefix\": f\"feature: \"},\n",
    "    pad={\"t\": 50, \"b\": 25, \"l\": 25},\n",
    "    steps=steps\n",
    ")]\n",
    "\n",
    "fig.update_layout(\n",
    "    sliders=sliders\n",
    ")\n",
    "\n",
    "fig.update_layout(\n",
    "    autosize=False,  # Disable autosizing\n",
    "    width=800,       # Set width in pixels\n",
    "    height=800,      # Set height in pixels\n",
    ")\n",
    "\n",
    "fig.update_layout(\n",
    "    margin={\"r\":0,\"t\":30,\"l\":0,\"b\":0}, mapbox=dict(style=\"carto-positron\", zoom=3, center = {\"lat\": 57, \"lon\": -150})\n",
    ")\n",
    "\n",
    "fig.show()"
   ]
  },
  {
   "cell_type": "code",
   "execution_count": null,
   "id": "6eb92f80",
   "metadata": {},
   "outputs": [],
   "source": [
    "df = raw_data[raw_data['year'] == 2016]\n",
    "\n",
    "fig = go.Figure()\n",
    "geojson = build_geojson(df, 'h3_index')\n",
    "months = sorted(df['month'].unique())\n",
    "for month in months:\n",
    "    sdf = df[df['month'] == month]\n",
    "    fig.add_trace(\n",
    "        go.Choroplethmapbox(\n",
    "            geojson=geojson,\n",
    "            locations=sdf['h3_index'],\n",
    "            z=sdf['chlorophyll'],\n",
    "            visible=False,\n",
    "            marker_line_color='rgba(255,255,255,0)',\n",
    "            zmin=df['chlorophyll'].min(),\n",
    "            zmax=df['chlorophyll'].max(),\n",
    "            colorscale='algae'\n",
    "        )\n",
    "    )\n",
    "\n",
    "fig.data[0].visible = True\n",
    "\n",
    "steps = []\n",
    "for i, slider_val in enumerate(months):\n",
    "    step = dict(\n",
    "        method=\"update\",\n",
    "        args=[\n",
    "            {\"visible\": [False] * len(months)},\n",
    "            {\"title\": f\"month: {slider_val}\"},\n",
    "        ],\n",
    "        label=f\"{slider_val}\"\n",
    "    )\n",
    "    step[\"args\"][0][\"visible\"][i] = True\n",
    "    steps.append(step)\n",
    "\n",
    "sliders = [dict(\n",
    "    active=0,\n",
    "    currentvalue={\"prefix\": f\"feature: \"},\n",
    "    pad={\"t\": 50, \"b\": 25, \"l\": 25},\n",
    "    steps=steps\n",
    ")]\n",
    "\n",
    "fig.update_layout(\n",
    "    sliders=sliders\n",
    ")\n",
    "\n",
    "fig.update_layout(\n",
    "    autosize=False,  # Disable autosizing\n",
    "    width=800,       # Set width in pixels\n",
    "    height=800,      # Set height in pixels\n",
    ")\n",
    "\n",
    "fig.update_layout(\n",
    "    margin={\"r\":0,\"t\":30,\"l\":0,\"b\":0}, mapbox=dict(style=\"carto-positron\", zoom=3, center = {\"lat\": 57, \"lon\": -150})\n",
    ")\n",
    "\n",
    "fig.show()"
   ]
  },
  {
   "cell_type": "code",
   "execution_count": null,
   "id": "cce64817",
   "metadata": {},
   "outputs": [],
   "source": []
  }
 ],
 "metadata": {
  "kernelspec": {
   "display_name": "base",
   "language": "python",
   "name": "python3"
  },
  "language_info": {
   "codemirror_mode": {
    "name": "ipython",
    "version": 3
   },
   "file_extension": ".py",
   "mimetype": "text/x-python",
   "name": "python",
   "nbconvert_exporter": "python",
   "pygments_lexer": "ipython3",
   "version": "3.12.4"
  }
 },
 "nbformat": 4,
 "nbformat_minor": 5
}
