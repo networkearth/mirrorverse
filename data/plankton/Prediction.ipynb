{
 "cells": [
  {
   "cell_type": "code",
   "execution_count": null,
   "id": "edee96f7",
   "metadata": {},
   "outputs": [],
   "source": [
    "import os\n",
    "os.environ['AWS_PROFILE'] = 'admin'\n",
    "os.environ['HAVEN_DATABASE'] = 'haven'\n",
    "\n",
    "from mirrorverse.utils import read_data_w_cache\n",
    "import numpy as np\n",
    "import pandas as pd\n",
    "import plotly.express as px\n",
    "from tqdm import tqdm\n",
    "from collections import defaultdict\n",
    "import h3"
   ]
  },
  {
   "cell_type": "code",
   "execution_count": null,
   "id": "8edb9943",
   "metadata": {},
   "outputs": [],
   "source": [
    "data = read_data_w_cache(\n",
    "    '''\n",
    "    select \n",
    "        h3_index,\n",
    "        year,\n",
    "        month,\n",
    "        diatom,\n",
    "        pzooplankton\n",
    "    from\n",
    "        plankton\n",
    "    where \n",
    "        year in (1995, 2000, 2005)\n",
    "        and depth = -25\n",
    "    '''\n",
    ")\n",
    "print(data.shape)\n",
    "data.head()"
   ]
  },
  {
   "cell_type": "code",
   "execution_count": null,
   "id": "4e300461",
   "metadata": {},
   "outputs": [],
   "source": [
    "mapping = defaultdict(lambda: [0] * 12)\n",
    "for _, row in tqdm(data.iterrows(), total=data.shape[0]):\n",
    "    mapping[(row['h3_index'], row['year'])][int(row['month']) - 1] = (row['diatom'], row['pzooplankton'])"
   ]
  },
  {
   "cell_type": "code",
   "execution_count": null,
   "id": "d3f6b960",
   "metadata": {},
   "outputs": [],
   "source": [
    "rows = []\n",
    "for (h3_index, year), values in tqdm(mapping.items()):\n",
    "    row = {\n",
    "        'h3_index': h3_index,\n",
    "        'year': year\n",
    "    }\n",
    "    for i, (diatom, pzooplankton) in enumerate(values):\n",
    "        row[f'diatom_{i+1}'] = diatom\n",
    "        row[f'pzooplankton_{i+1}'] = pzooplankton\n",
    "    rows.append(row)\n",
    "data = pd.DataFrame(rows)\n",
    "print(data.shape)\n",
    "data.head()"
   ]
  },
  {
   "cell_type": "code",
   "execution_count": null,
   "id": "9971c49d",
   "metadata": {},
   "outputs": [],
   "source": [
    "from sklearn.ensemble import RandomForestRegressor\n",
    "from sklearn.model_selection import train_test_split\n",
    "from sklearn.metrics import explained_variance_score\n",
    "\n",
    "\n",
    "start_month = 3\n",
    "predict_month = 6\n",
    "\n",
    "columns = [f'diatom_{i}' for i in range(start_month, predict_month + 1)]\n",
    "\n",
    "X = data[columns]\n",
    "y = data[[f'pzooplankton_{predict_month}']]\n",
    "\n",
    "X_train, X_test, y_train, y_test = train_test_split(\n",
    "    X, y, test_size=0.33, random_state=42\n",
    ")\n",
    "\n",
    "regr = RandomForestRegressor(min_samples_leaf=5, random_state=0)\n",
    "regr.fit(X_train, y_train)\n",
    "y_train_pred = regr.predict(X_train)\n",
    "y_test_pred = regr.predict(X_test)\n",
    "(\n",
    "    round(explained_variance_score(y_train, y_train_pred), 3),\n",
    "    round(explained_variance_score(y_test, y_test_pred), 3)\n",
    ")"
   ]
  },
  {
   "cell_type": "code",
   "execution_count": null,
   "id": "18d60377",
   "metadata": {},
   "outputs": [],
   "source": [
    "compare = data[['h3_index', 'year']]\n",
    "compare['lat'] = data['h3_index'].apply(lambda x: h3.h3_to_geo(x)[0])\n",
    "compare['lon'] = data['h3_index'].apply(lambda x: h3.h3_to_geo(x)[1])\n",
    "compare['true'] = data[f'pzooplankton_{predict_month}']\n",
    "compare['pred'] = regr.predict(data[columns])\n",
    "compare = compare.groupby(['lat', 'lon', 'year'])[['true', 'pred']].mean().reset_index()\n",
    "compare['h3_index'] = compare.apply(lambda r: h3.geo_to_h3(r['lat'], r['lon'], 5), axis=1)\n",
    "print(compare.shape)\n",
    "compare.head()"
   ]
  },
  {
   "cell_type": "code",
   "execution_count": null,
   "id": "0fb2f764",
   "metadata": {},
   "outputs": [],
   "source": [
    "from mirrorverse.plotting import build_geojson\n",
    "import plotly.graph_objects as go\n",
    "\n",
    "fig = go.Figure()\n",
    "\n",
    "df = compare[compare['year'] == 2000]\n",
    "\n",
    "geojson = build_geojson(df, 'h3_index')\n",
    "fig.add_trace(\n",
    "    go.Choroplethmapbox(\n",
    "        geojson=geojson,\n",
    "        locations=df['h3_index'],\n",
    "        z=df['true'],\n",
    "        visible=True,\n",
    "        marker_line_color='rgba(255,255,255,0)',\n",
    "    )\n",
    ")\n",
    "\n",
    "fig.update_layout(\n",
    "    autosize=False, # Disable autosizing\n",
    "    width=800, # Set width in pixels\n",
    "    height=800, # Set height in pixels\n",
    ")\n",
    "\n",
    "fig.update_layout(\n",
    "    margin={\"r\":0,\"t\":30,\"l\":0,\"b\":0}, mapbox=dict(style=\"carto-positron\", zoom=4, center = {\"lat\": 57, \"lon\": -150})\n",
    ")\n",
    "\n",
    "fig.show()"
   ]
  },
  {
   "cell_type": "code",
   "execution_count": null,
   "id": "22cebc18",
   "metadata": {},
   "outputs": [],
   "source": [
    "fig = go.Figure()\n",
    "\n",
    "fig.add_trace(\n",
    "    go.Choroplethmapbox(\n",
    "        geojson=geojson,\n",
    "        locations=df['h3_index'],\n",
    "        z=df['pred'],\n",
    "        visible=True,\n",
    "        marker_line_color='rgba(255,255,255,0)',\n",
    "    )\n",
    ")\n",
    "\n",
    "fig.update_layout(\n",
    "    autosize=False, # Disable autosizing\n",
    "    width=800, # Set width in pixels\n",
    "    height=800, # Set height in pixels\n",
    ")\n",
    "\n",
    "fig.update_layout(\n",
    "    margin={\"r\":0,\"t\":30,\"l\":0,\"b\":0}, mapbox=dict(style=\"carto-positron\", zoom=4, center = {\"lat\": 57, \"lon\": -150})\n",
    ")\n",
    "\n",
    "fig.show()"
   ]
  },
  {
   "cell_type": "code",
   "execution_count": null,
   "id": "64209ca1",
   "metadata": {},
   "outputs": [],
   "source": []
  }
 ],
 "metadata": {
  "kernelspec": {
   "display_name": "base",
   "language": "python",
   "name": "python3"
  },
  "language_info": {
   "codemirror_mode": {
    "name": "ipython",
    "version": 3
   },
   "file_extension": ".py",
   "mimetype": "text/x-python",
   "name": "python",
   "nbconvert_exporter": "python",
   "pygments_lexer": "ipython3",
   "version": "3.12.4"
  }
 },
 "nbformat": 4,
 "nbformat_minor": 5
}
