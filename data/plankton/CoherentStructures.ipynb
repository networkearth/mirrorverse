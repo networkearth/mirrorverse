{
 "cells": [
  {
   "cell_type": "code",
   "execution_count": null,
   "id": "7cad23c0",
   "metadata": {},
   "outputs": [],
   "source": [
    "import os\n",
    "os.environ['AWS_PROFILE'] = 'admin'\n",
    "os.environ['HAVEN_DATABASE'] = 'haven'\n",
    "\n",
    "from mirrorverse.utils import read_data_w_cache\n",
    "import geopy.distance\n",
    "import h3\n",
    "import numpy as np\n",
    "from tqdm import tqdm\n",
    "import pandas as pd\n",
    "import plotly.express as px"
   ]
  },
  {
   "cell_type": "code",
   "execution_count": null,
   "id": "92dcd2fe",
   "metadata": {},
   "outputs": [],
   "source": [
    "data = read_data_w_cache(\n",
    "    '''\n",
    "    select \n",
    "        *\n",
    "    from \n",
    "        plankton_velocity\n",
    "    where \n",
    "        year = 2015\n",
    "        and month = 1\n",
    "        and depth = -25\n",
    "    '''\n",
    ")\n",
    "print(data.shape)\n",
    "data.head()"
   ]
  },
  {
   "cell_type": "code",
   "execution_count": null,
   "id": "de438c92",
   "metadata": {},
   "outputs": [],
   "source": [
    "data['lat'] = data['h3_index'].apply(lambda h: h3.h3_to_geo(h)[0])\n",
    "data['lon'] = data['h3_index'].apply(lambda h: h3.h3_to_geo(h)[1])\n",
    "data.head()"
   ]
  },
  {
   "cell_type": "code",
   "execution_count": null,
   "id": "d860fc11",
   "metadata": {},
   "outputs": [],
   "source": [
    "lon_res = 0.1\n",
    "lat_res = 0.1\n",
    "\n",
    "data['lat_bin'] = (data['lat'] // lat_res)\n",
    "data['lon_bin'] = (data['lon'] // lon_res)\n",
    "data['lat'] = (data['lat'] // lat_res) * lat_res + lat_res/2\n",
    "data['lon'] = (data['lon'] // lon_res) * lon_res + lon_res/2\n",
    "unique_bins = set([\n",
    "    (row['lat'], row['lon']) for _, row in data.iterrows()\n",
    "])\n",
    "len(unique_bins)"
   ]
  },
  {
   "cell_type": "code",
   "execution_count": null,
   "id": "f6989817",
   "metadata": {},
   "outputs": [],
   "source": [
    "rows = []\n",
    "res = 0.1\n",
    "for bin in unique_bins:\n",
    "    lat_p = (bin[0] + res, bin[1])\n",
    "    lon_p = (bin[0], bin[1] + res)\n",
    "    lat_d = geopy.distance.geodesic(bin, lat_p).km \n",
    "    lon_d = geopy.distance.geodesic(bin, lon_p).km\n",
    "    rows.append({\n",
    "        'lat': bin[0],\n",
    "        'lon': bin[1],\n",
    "        'dlat': res / lat_d,\n",
    "        'dlon': res / lon_d\n",
    "    })\n",
    "\n",
    "conversions = pd.DataFrame(rows)\n",
    "data = data.merge(conversions)\n",
    "data.head()"
   ]
  },
  {
   "cell_type": "code",
   "execution_count": null,
   "id": "9fcefeb6",
   "metadata": {},
   "outputs": [],
   "source": [
    "data['velocity_east'] = data['u'] * data['dlon'] * 3600 / 1000\n",
    "data['velocity_north'] = data['v'] * data['dlat'] * 3600 / 1000"
   ]
  },
  {
   "cell_type": "code",
   "execution_count": null,
   "id": "7be6d4b7",
   "metadata": {},
   "outputs": [],
   "source": [
    "data = data.groupby(['lat', 'lon', 'lat_bin', 'lon_bin'])[['velocity_east', 'velocity_north']].mean().reset_index()"
   ]
  },
  {
   "cell_type": "code",
   "execution_count": null,
   "id": "b6d71951",
   "metadata": {},
   "outputs": [],
   "source": [
    "px.scatter(data, x='lon', y='lat', color='velocity_north')"
   ]
  },
  {
   "cell_type": "code",
   "execution_count": null,
   "id": "4f31b0d3",
   "metadata": {},
   "outputs": [],
   "source": [
    "px.scatter(data, x='lon', y='lat', color='velocity_east')"
   ]
  },
  {
   "cell_type": "code",
   "execution_count": null,
   "id": "ae91f7ab",
   "metadata": {},
   "outputs": [],
   "source": [
    "velocities = {\n",
    "    (row['lat_bin'], row['lon_bin']): (row['velocity_north'], row['velocity_east'])\n",
    "    for _, row in data.iterrows()\n",
    "}\n",
    "x = np.array(sorted(data['lon_bin'].unique()))\n",
    "y = np.array(sorted(data['lat_bin'].unique()))\n",
    "\n",
    "U = np.zeros([x.shape[0], y.shape[0]])\n",
    "V = np.zeros([x.shape[0], y.shape[0]])\n",
    "for i in range(U.shape[0]):\n",
    "    for j in range(U.shape[1]):\n",
    "        lon_bin = x[i]\n",
    "        lat_bin = y[j]\n",
    "        v, u = velocities.get((lat_bin, lon_bin), (0, 0))\n",
    "        U[i,j] = u \n",
    "        V[i,j] = v\n",
    "\n",
    "\n",
    "\n",
    "x = np.array(sorted(data['lon'].unique())).astype(float)\n",
    "y = np.array(sorted(data['lat'].unique())).astype(float)\n",
    "t = np.arange(0, 24, 1).astype(float)\n",
    "#t = np.arange(-23, 1, 1).astype(float)\n",
    "\n",
    "U = np.tile(U, (t.shape[0], 1, 1))\n",
    "V = np.tile(V, (t.shape[0], 1, 1))"
   ]
  },
  {
   "cell_type": "code",
   "execution_count": null,
   "id": "d3ed0f75",
   "metadata": {},
   "outputs": [],
   "source": [
    "from numbacs.flows import get_interp_arrays_2D, get_flow_2D\n",
    "from numbacs.integration import flowmap_grid_2D\n",
    "from numbacs.diagnostics import ftle_grid_2D\n",
    "\n",
    "T = 23\n",
    "params = np.array([1.0])\n",
    "#T = -23\n",
    "#params = np.array([-1.0])\n",
    "\n",
    "grid_vel, C_eval_u, C_eval_v = get_interp_arrays_2D(t, x, y, U, V)\n",
    "funcptr = get_flow_2D(grid_vel, C_eval_u, C_eval_v, extrap_mode='linear')\n",
    "flowmap = flowmap_grid_2D(funcptr, 0, T, x, y, params)\n",
    "ftle = ftle_grid_2D(flowmap, T, lon_res, lat_res)"
   ]
  },
  {
   "cell_type": "code",
   "execution_count": null,
   "id": "70b8af32",
   "metadata": {},
   "outputs": [],
   "source": [
    "import matplotlib.pyplot as plt\n",
    "\n",
    "\n",
    "fig,ax = plt.subplots()\n",
    "ax.contourf(x,y,ftle.T,levels=100)\n",
    "ax.set_aspect('equal')"
   ]
  },
  {
   "cell_type": "code",
   "execution_count": null,
   "id": "4839e288",
   "metadata": {},
   "outputs": [],
   "source": [
    "h3_indices = read_data_w_cache(\n",
    "    '''\n",
    "    select distinct\n",
    "        h3_index\n",
    "    from \n",
    "        plankton_velocity\n",
    "    where \n",
    "        year = 1995\n",
    "        and month = 5\n",
    "        and depth = -25\n",
    "    '''\n",
    ")\n",
    "print(h3_indices.shape)\n",
    "h3_indices.head()"
   ]
  },
  {
   "cell_type": "code",
   "execution_count": null,
   "id": "513d2ec1",
   "metadata": {},
   "outputs": [],
   "source": [
    "y_mesh, x_mesh = np.meshgrid(y, x)\n",
    "df = pd.DataFrame({\n",
    "    'lat': y_mesh.flatten(),\n",
    "    'lon': x_mesh.flatten(),\n",
    "    'exp': ftle.flatten()\n",
    "})\n",
    "\n",
    "df['h3_index'] = df.apply(lambda x: h3.geo_to_h3(x['lat'], x['lon'], 6), axis=1)\n",
    "df = df.merge(h3_indices)\n",
    "df['h3_index'] = df.apply(lambda x: h3.geo_to_h3(x['lat'], x['lon'], 5), axis=1)\n",
    "\n",
    "df = df.groupby('h3_index')['exp'].mean().reset_index()\n",
    "\n",
    "print(df.shape)\n",
    "\n",
    "df.head()"
   ]
  },
  {
   "cell_type": "code",
   "execution_count": null,
   "id": "ed86899f",
   "metadata": {},
   "outputs": [],
   "source": [
    "from mirrorverse.plotting import build_geojson\n",
    "import plotly.graph_objects as go\n",
    "\n",
    "fig = go.Figure()\n",
    "\n",
    "geojson = build_geojson(df, 'h3_index')\n",
    "fig.add_trace(\n",
    "    go.Choroplethmapbox(\n",
    "        geojson=geojson,\n",
    "        locations=df['h3_index'],\n",
    "        z=df['exp'],\n",
    "        visible=True,\n",
    "        marker_line_color='rgba(255,255,255,0)',\n",
    "    )\n",
    ")\n",
    "\n",
    "fig.update_layout(\n",
    "    autosize=False, # Disable autosizing\n",
    "    width=800, # Set width in pixels\n",
    "    height=800, # Set height in pixels\n",
    ")\n",
    "\n",
    "fig.update_layout(\n",
    "    margin={\"r\":0,\"t\":30,\"l\":0,\"b\":0}, mapbox=dict(style=\"carto-positron\", zoom=4, center = {\"lat\": 57, \"lon\": -150})\n",
    ")\n",
    "\n",
    "fig.show()"
   ]
  },
  {
   "cell_type": "code",
   "execution_count": null,
   "id": "826f7dfd",
   "metadata": {},
   "outputs": [],
   "source": [
    "fig.write_html('1995_ftle.html')"
   ]
  },
  {
   "cell_type": "code",
   "execution_count": null,
   "id": "9740a592",
   "metadata": {},
   "outputs": [],
   "source": []
  }
 ],
 "metadata": {
  "kernelspec": {
   "display_name": "lagrangian",
   "language": "python",
   "name": "python3"
  },
  "language_info": {
   "codemirror_mode": {
    "name": "ipython",
    "version": 3
   },
   "file_extension": ".py",
   "mimetype": "text/x-python",
   "name": "python",
   "nbconvert_exporter": "python",
   "pygments_lexer": "ipython3",
   "version": "3.11.11"
  }
 },
 "nbformat": 4,
 "nbformat_minor": 5
}
